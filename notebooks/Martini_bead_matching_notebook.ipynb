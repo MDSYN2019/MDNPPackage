{
 "cells": [
  {
   "cell_type": "code",
   "execution_count": null,
   "id": "coordinated-namibia",
   "metadata": {},
   "outputs": [],
   "source": [
    "\"\"\"\n",
    "Last Updated: 02/11/2021\n",
    "------------------------\n",
    "\n",
    "The purpose of this notebook is to look at how to efficiently translate parts of a smiles \n",
    "string into the accurate representative MARTINI beads. We will need to explore the functionalities of \n",
    "RDKit properly in this notebook to find how the segments of a smile can be translated.  Afterwards, \n",
    "we will test the code on multiple types of smiles strings to see whether they get the correct Martini translation.\n",
    "\n",
    "\n",
    "Useful Links:\n",
    "-------------\n",
    "\n",
    "-> http://cgmartini.nl/index.php/martini-3-tutorials/parameterizing-a-new-small-molecule\n",
    "\n",
    "-> https://chemrxiv.org/engage/chemrxiv/article-details/60f3ea062b910135237380eb \n",
    "\n",
    "-> https://www.nature.com/articles/s41592-021-01098-3\n",
    "\n",
    "-> https://www.rdkit.org/docs/Cookbook.html\n",
    "\n",
    "-> https://www.rdkit.org/docs/GettingStartedInPython.html\n",
    "\n",
    "-> https://www.rdkit.org/docs/RDKit_Book.html\n",
    "\n",
    "\"\"\""
   ]
  },
  {
   "cell_type": "code",
   "execution_count": 29,
   "id": "sorted-manitoba",
   "metadata": {},
   "outputs": [],
   "source": [
    "from rdkit import Chem\n",
    "from rdkit.Chem.Draw import IPythonConsole\n",
    "from rdkit.Chem import Draw\n",
    "from rdkit import Chem\n",
    "from rdkit.Chem import AllChem\n",
    "from rdkit.Chem import rdqueries\n",
    "\n",
    "IPythonConsole.molSize = 250,250\n",
    "import plotly.graph_objs as go\n",
    "\n",
    "# Alignment libraries\n",
    "import MDAnalysis as mda\n",
    "from MDAnalysis.analysis import align\n",
    "from MDAnalysis.analysis.rms import rmsd\n",
    "\n",
    "# Add Stero Annotations\n",
    "IPythonConsole.drawOptions.addAtomIndices = False\n",
    "IPythonConsole.drawOptions.addStereoAnnotation = True"
   ]
  },
  {
   "cell_type": "code",
   "execution_count": 2,
   "id": "prompt-decrease",
   "metadata": {},
   "outputs": [],
   "source": [
    "IPythonConsole.ipython_useSVG=True  #< set this to False if you want PNGs instead of SVGs"
   ]
  },
  {
   "cell_type": "code",
   "execution_count": 3,
   "id": "eight-montreal",
   "metadata": {},
   "outputs": [],
   "source": [
    "class MolecularConverter:\n",
    "    \"\"\"                                                                                                                                                                                                                  \n",
    "    From the smiles string provided by the user, this class \n",
    "    uses the most currrent mapping of the Martini beads avaliable, \n",
    "    and maps out the centers of geometries where the bead needs to be placed. \n",
    "    \"\"\"\n",
    "    def __init__(self, option, smilesString):\n",
    "        \"\"\"                                                                                                                                                                                                              \n",
    "        The constructor must detect whether the smiles string is valid or not                                                                                                                                            \n",
    "        \"\"\"\n",
    "        # TODO - To add the validation code for the Smiles string \n",
    "        \n",
    "        \n",
    "        # Adding Martini Beads dictionary - at the moment, I am using                                                                                                                                                    \n",
    "        # Martini 3 references                                                                                                                                                                                           \n",
    "        self._SmilesToMartiniDictionary = {}\n",
    "        SmilesToMartiniDictionary[\"CC(=O)CO\"] = 'P2' # P2 Bead                                                                                                                                                           \n",
    "        SmilesToMartiniDictionary[\"CC(=O)O\"] = 'SP2' # SP2 Bead                                                                                                                                                          \n",
    "        SmilesToMartiniDictionary[\"CC(C)O\"] = 'P1' # P1 Bead                                                                                                                                                             \n",
    "        SmilesToMartiniDictionary[\"CC(C)O\"] = 'P1' # P1 Bead\n",
    "        \n",
    "    def ComputeCoordinatesLigands(self):\n",
    "        \"\"\"                                                                                                                                                                                                              \n",
    "        Get the generic basis of the xyz coorinates of the                                                                                                                                                               \n",
    "        ligands                                                                                                                                                                                                          \n",
    "        \"\"\"\n",
    "        u = mda.Universe.from_smiles(smilesString)\n",
    "        # new feature                                                                                                                                                                                                    \n",
    "        Molecule = u1.select_atoms('all')\n",
    "        MoleculeAtomPositions = Molecule.positions # Finds    "
   ]
  },
  {
   "cell_type": "code",
   "execution_count": null,
   "id": "minus-paragraph",
   "metadata": {},
   "outputs": [],
   "source": [
    "\"\"\"\n",
    "SAMPLE:\n",
    "-------\n",
    "\n",
    "Need a smile string of a ligand of which we know the coarse-grained version. We will take the example \n",
    "from the martini tutorial. Namely, the smiles sting of CCc1cccc2ccccc21:\n",
    "\n",
    "----\n",
    "Quote on the website: \n",
    "\n",
    "By feeding the SMILES string of 1-ethylnaphthalene (namely, CCc1cccc2ccccc21) to the LigParGen server, \n",
    "you will obtain a geometry (pdb) and OPLS-AA topology in Gromacs format (in this case, we picked the \n",
    "\"1.14*CM1A-LBCC (Neutral molecules)\" charges). Let's call them ENAP_LigParGen.pdb and ENAP_LigParGen.itp. \n",
    "----\n",
    "\n",
    "From this, \n",
    "\n",
    "\n",
    "\"\"\""
   ]
  },
  {
   "cell_type": "code",
   "execution_count": 41,
   "id": "communist-authentication",
   "metadata": {},
   "outputs": [
    {
     "name": "stdout",
     "output_type": "stream",
     "text": [
      "((2, 3), (2, 11), (3, 4), (4, 5), (5, 6), (6, 7), (6, 11), (7, 8), (8, 9), (9, 10), (10, 11))\n"
     ]
    },
    {
     "data": {
      "image/png": "[encoded data removed]",
      "image/svg+xml": [
       "<?xml version='1.0' encoding='iso-8859-1'?>\n",
       "<svg version='1.1' baseProfile='full'\n",
       "              xmlns='http://www.w3.org/2000/svg'\n",
       "                      xmlns:rdkit='http://www.rdkit.org/xml'\n",
       "                      xmlns:xlink='http://www.w3.org/1999/xlink'\n",
       "                  xml:space='preserve'\n",
       "width='250px' height='250px' viewBox='0 0 250 250'>\n",
       "<!-- END OF HEADER -->\n",
       "<rect style='opacity:1.0;fill:#FFFFFF;stroke:none' width='250' height='250' x='0' y='0'> </rect>\n",
       "<ellipse cx='160.321' cy='149.63' rx='9.57113' ry='9.57113' style='fill:#FF7F7F;fill-rule:evenodd;stroke:#FF7F7F;stroke-width:1px;stroke-linecap:butt;stroke-linejoin:miter;stroke-opacity:1' />\n",
       "<ellipse cx='208.062' cy='146.32' rx='9.57113' ry='9.57113' style='fill:#FF7F7F;fill-rule:evenodd;stroke:#FF7F7F;stroke-width:1px;stroke-linecap:butt;stroke-linejoin:miter;stroke-opacity:1' />\n",
       "<ellipse cx='229.065' cy='103.32' rx='9.57113' ry='9.57113' style='fill:#FF7F7F;fill-rule:evenodd;stroke:#FF7F7F;stroke-width:1px;stroke-linecap:butt;stroke-linejoin:miter;stroke-opacity:1' />\n",
       "<ellipse cx='202.328' cy='63.6299' rx='9.57113' ry='9.57113' style='fill:#FF7F7F;fill-rule:evenodd;stroke:#FF7F7F;stroke-width:1px;stroke-linecap:butt;stroke-linejoin:miter;stroke-opacity:1' />\n",
       "<path class='bond-0' d='M 11.3636,76.8723 L 59.1046,73.5617' style='fill:none;fill-rule:evenodd;stroke:#000000;stroke-width:2.0px;stroke-linecap:butt;stroke-linejoin:miter;stroke-opacity:1' />\n",
       "<path class='bond-1' d='M 59.1046,73.5617 L 85.8422,113.251' style='fill:none;fill-rule:evenodd;stroke:#000000;stroke-width:2.0px;stroke-linecap:butt;stroke-linejoin:miter;stroke-opacity:1' />\n",
       "<path class='bond-2' d='M 85.8422,113.251 L 64.8388,156.252' style='fill:none;fill-rule:evenodd;stroke:#000000;stroke-width:2.0px;stroke-linecap:butt;stroke-linejoin:miter;stroke-opacity:1' />\n",
       "<path class='bond-2' d='M 91.2917,123.902 L 76.5893,154.002' style='fill:none;fill-rule:evenodd;stroke:#000000;stroke-width:2.0px;stroke-linecap:butt;stroke-linejoin:miter;stroke-opacity:1' />\n",
       "<path class='bond-11' d='M 85.8422,113.251 L 133.583,109.941' style='fill:none;fill-rule:evenodd;stroke:#000000;stroke-width:2.0px;stroke-linecap:butt;stroke-linejoin:miter;stroke-opacity:1' />\n",
       "<path class='bond-3' d='M 64.8388,156.252 L 91.5764,195.941' style='fill:none;fill-rule:evenodd;stroke:#000000;stroke-width:2.0px;stroke-linecap:butt;stroke-linejoin:miter;stroke-opacity:1' />\n",
       "<path class='bond-4' d='M 91.5764,195.941 L 139.317,192.631' style='fill:none;fill-rule:evenodd;stroke:#000000;stroke-width:2.0px;stroke-linecap:butt;stroke-linejoin:miter;stroke-opacity:1' />\n",
       "<path class='bond-4' d='M 98.0754,185.896 L 131.494,183.579' style='fill:none;fill-rule:evenodd;stroke:#000000;stroke-width:2.0px;stroke-linecap:butt;stroke-linejoin:miter;stroke-opacity:1' />\n",
       "<path class='bond-5' d='M 139.317,192.631 L 160.321,149.63' style='fill:none;fill-rule:evenodd;stroke:#000000;stroke-width:2.0px;stroke-linecap:butt;stroke-linejoin:miter;stroke-opacity:1' />\n",
       "<path class='bond-6' d='M 160.321,149.63 L 208.062,146.32' style='fill:none;fill-rule:evenodd;stroke:#000000;stroke-width:2.0px;stroke-linecap:butt;stroke-linejoin:miter;stroke-opacity:1' />\n",
       "<path class='bond-6' d='M 166.82,139.586 L 200.239,137.268' style='fill:none;fill-rule:evenodd;stroke:#000000;stroke-width:2.0px;stroke-linecap:butt;stroke-linejoin:miter;stroke-opacity:1' />\n",
       "<path class='bond-12' d='M 160.321,149.63 L 133.583,109.941' style='fill:none;fill-rule:evenodd;stroke:#000000;stroke-width:2.0px;stroke-linecap:butt;stroke-linejoin:miter;stroke-opacity:1' />\n",
       "<path class='bond-7' d='M 208.062,146.32 L 229.065,103.32' style='fill:none;fill-rule:evenodd;stroke:#000000;stroke-width:2.0px;stroke-linecap:butt;stroke-linejoin:miter;stroke-opacity:1' />\n",
       "<path class='bond-8' d='M 229.065,103.32 L 202.328,63.6299' style='fill:none;fill-rule:evenodd;stroke:#000000;stroke-width:2.0px;stroke-linecap:butt;stroke-linejoin:miter;stroke-opacity:1' />\n",
       "<path class='bond-8' d='M 217.117,102.714 L 198.4,74.9309' style='fill:none;fill-rule:evenodd;stroke:#000000;stroke-width:2.0px;stroke-linecap:butt;stroke-linejoin:miter;stroke-opacity:1' />\n",
       "<path class='bond-9' d='M 202.328,63.6299 L 154.587,66.9405' style='fill:none;fill-rule:evenodd;stroke:#000000;stroke-width:2.0px;stroke-linecap:butt;stroke-linejoin:miter;stroke-opacity:1' />\n",
       "<path class='bond-10' d='M 154.587,66.9405 L 133.583,109.941' style='fill:none;fill-rule:evenodd;stroke:#000000;stroke-width:2.0px;stroke-linecap:butt;stroke-linejoin:miter;stroke-opacity:1' />\n",
       "<path class='bond-10' d='M 160.036,77.5912 L 145.334,107.691' style='fill:none;fill-rule:evenodd;stroke:#000000;stroke-width:2.0px;stroke-linecap:butt;stroke-linejoin:miter;stroke-opacity:1' />\n",
       "</svg>\n"
      ],
      "text/plain": [
       "<rdkit.Chem.rdchem.Mol at 0x7fdaeacf9300>"
      ]
     },
     "execution_count": 41,
     "metadata": {},
     "output_type": "execute_result"
    }
   ],
   "source": [
    "from rdkit.Chem.Draw import IPythonConsole\n",
    "m = Chem.MolFromSmiles('CCc1cccc2ccccc21')\n",
    "AllChem.ComputeGasteigerCharges(m)\n",
    "# Get substructure match \n",
    "substructure = Chem.MolFromSmarts('cc') # Aromatic carbons \n",
    "print(m.GetSubstructMatches(substructure))\n",
    "# you can also manually set the atoms that should be highlighted:\n",
    "m.__sssAtoms = [2,3,4,5]\n",
    "m.__sssAtoms = [6,7,8,9]"
   ]
  },
  {
   "cell_type": "code",
   "execution_count": 42,
   "id": "fuzzy-berlin",
   "metadata": {},
   "outputs": [],
   "source": [
    "ListOfTwoAtomFeatures = m.GetSubstructMatches(substructure)"
   ]
  },
  {
   "cell_type": "code",
   "execution_count": 46,
   "id": "indian-alfred",
   "metadata": {},
   "outputs": [
    {
     "name": "stdout",
     "output_type": "stream",
     "text": [
      "(2, 3)\n",
      "(2, 11)\n",
      "(3, 4)\n",
      "(4, 5)\n",
      "(5, 6)\n",
      "(6, 7)\n",
      "(6, 11)\n",
      "(7, 8)\n",
      "(8, 9)\n",
      "(9, 10)\n",
      "(10, 11)\n"
     ]
    }
   ],
   "source": [
    "for i in ListOfTwoAtomFeatures:\n",
    "    print(i)"
   ]
  },
  {
   "cell_type": "code",
   "execution_count": 30,
   "id": "subsequent-theta",
   "metadata": {},
   "outputs": [
    {
     "name": "stdout",
     "output_type": "stream",
     "text": [
      "[2, 3, 4, 5, 6, 7, 8, 9, 10, 11]\n"
     ]
    }
   ],
   "source": [
    "q = rdqueries.IsAromaticQueryAtom()\n",
    "print([x.GetIdx() for x in m.GetAtomsMatchingQuery(q)]) # These match the indices of the atoms that match the \n"
   ]
  },
  {
   "cell_type": "code",
   "execution_count": 38,
   "id": "civic-calculator",
   "metadata": {},
   "outputs": [
    {
     "name": "stdout",
     "output_type": "stream",
     "text": [
      "((3, 4, 5), (8, 9, 7))\n"
     ]
    },
    {
     "data": {
      "image/png": "[encoded data removed]",
      "image/svg+xml": [
       "<?xml version='1.0' encoding='iso-8859-1'?>\n",
       "<svg version='1.1' baseProfile='full'\n",
       "              xmlns='http://www.w3.org/2000/svg'\n",
       "                      xmlns:rdkit='http://www.rdkit.org/xml'\n",
       "                      xmlns:xlink='http://www.w3.org/1999/xlink'\n",
       "                  xml:space='preserve'\n",
       "width='250px' height='250px' viewBox='0 0 250 250'>\n",
       "<!-- END OF HEADER -->\n",
       "<rect style='opacity:1.0;fill:#FFFFFF;stroke:none' width='250' height='250' x='0' y='0'> </rect>\n",
       "<ellipse cx='66.4779' cy='75.689' rx='9.57339' ry='9.57339' style='fill:#FF7F7F;fill-rule:evenodd;stroke:#FF7F7F;stroke-width:1px;stroke-linecap:butt;stroke-linejoin:miter;stroke-opacity:1' />\n",
       "<ellipse cx='20.937' cy='61.0541' rx='9.57339' ry='9.84272' style='fill:#FF7F7F;fill-rule:evenodd;stroke:#FF7F7F;stroke-width:1px;stroke-linecap:butt;stroke-linejoin:miter;stroke-opacity:1' />\n",
       "<ellipse cx='108.131' cy='43.7248' rx='17.4515' ry='9.84272' style='fill:#FF7F7F;fill-rule:evenodd;stroke:#FF7F7F;stroke-width:1px;stroke-linecap:butt;stroke-linejoin:miter;stroke-opacity:1' />\n",
       "<ellipse cx='157.56' cy='105.275' rx='9.57339' ry='9.84272' style='fill:#FF7F7F;fill-rule:evenodd;stroke:#FF7F7F;stroke-width:1px;stroke-linecap:butt;stroke-linejoin:miter;stroke-opacity:1' />\n",
       "<ellipse cx='203.101' cy='119.909' rx='9.57339' ry='9.57339' style='fill:#FF7F7F;fill-rule:evenodd;stroke:#FF7F7F;stroke-width:1px;stroke-linecap:butt;stroke-linejoin:miter;stroke-opacity:1' />\n",
       "<ellipse cx='213.106' cy='166.824' rx='9.57339' ry='9.84272' style='fill:#FF7F7F;fill-rule:evenodd;stroke:#FF7F7F;stroke-width:1px;stroke-linecap:butt;stroke-linejoin:miter;stroke-opacity:1' />\n",
       "<path class='bond-0' d='M 50.9523,201.378 L 40.9472,154.568' style='fill:none;fill-rule:evenodd;stroke:#000000;stroke-width:2.0px;stroke-linecap:butt;stroke-linejoin:miter;stroke-opacity:1' />\n",
       "<path class='bond-0' d='M 58.8135,192.355 L 51.8099,159.589' style='fill:none;fill-rule:evenodd;stroke:#000000;stroke-width:2.0px;stroke-linecap:butt;stroke-linejoin:miter;stroke-opacity:1' />\n",
       "<path class='bond-12' d='M 50.9523,201.378 L 96.4932,216.118' style='fill:none;fill-rule:evenodd;stroke:#000000;stroke-width:2.0px;stroke-linecap:butt;stroke-linejoin:miter;stroke-opacity:1' />\n",
       "<path class='bond-1' d='M 40.9472,154.568 L 76.483,122.499' style='fill:none;fill-rule:evenodd;stroke:#000000;stroke-width:2.0px;stroke-linecap:butt;stroke-linejoin:miter;stroke-opacity:1' />\n",
       "<path class='bond-2' d='M 76.483,122.499 L 66.4779,75.689' style='fill:none;fill-rule:evenodd;stroke:#000000;stroke-width:2.0px;stroke-linecap:butt;stroke-linejoin:miter;stroke-opacity:1' />\n",
       "<path class='bond-5' d='M 76.483,122.499 L 122.024,137.239' style='fill:none;fill-rule:evenodd;stroke:#000000;stroke-width:2.0px;stroke-linecap:butt;stroke-linejoin:miter;stroke-opacity:1' />\n",
       "<path class='bond-5' d='M 80.3661,133.818 L 112.245,144.136' style='fill:none;fill-rule:evenodd;stroke:#000000;stroke-width:2.0px;stroke-linecap:butt;stroke-linejoin:miter;stroke-opacity:1' />\n",
       "<path class='bond-3' d='M 67.9519,71.1349 L 48.8912,64.9655' style='fill:none;fill-rule:evenodd;stroke:#000000;stroke-width:2.0px;stroke-linecap:butt;stroke-linejoin:miter;stroke-opacity:1' />\n",
       "<path class='bond-3' d='M 48.8912,64.9655 L 29.8304,58.7962' style='fill:none;fill-rule:evenodd;stroke:#FF0000;stroke-width:2.0px;stroke-linecap:butt;stroke-linejoin:miter;stroke-opacity:1' />\n",
       "<path class='bond-3' d='M 65.0039,80.2431 L 45.9431,74.0737' style='fill:none;fill-rule:evenodd;stroke:#000000;stroke-width:2.0px;stroke-linecap:butt;stroke-linejoin:miter;stroke-opacity:1' />\n",
       "<path class='bond-3' d='M 45.9431,74.0737 L 26.8824,67.9043' style='fill:none;fill-rule:evenodd;stroke:#FF0000;stroke-width:2.0px;stroke-linecap:butt;stroke-linejoin:miter;stroke-opacity:1' />\n",
       "<path class='bond-4' d='M 66.4779,75.689 L 80.5361,63.0021' style='fill:none;fill-rule:evenodd;stroke:#000000;stroke-width:2.0px;stroke-linecap:butt;stroke-linejoin:miter;stroke-opacity:1' />\n",
       "<path class='bond-4' d='M 80.5361,63.0021 L 94.5943,50.3152' style='fill:none;fill-rule:evenodd;stroke:#FF0000;stroke-width:2.0px;stroke-linecap:butt;stroke-linejoin:miter;stroke-opacity:1' />\n",
       "<path class='bond-6' d='M 122.024,137.239 L 136.082,124.552' style='fill:none;fill-rule:evenodd;stroke:#000000;stroke-width:2.0px;stroke-linecap:butt;stroke-linejoin:miter;stroke-opacity:1' />\n",
       "<path class='bond-6' d='M 136.082,124.552 L 150.14,111.865' style='fill:none;fill-rule:evenodd;stroke:#FF0000;stroke-width:2.0px;stroke-linecap:butt;stroke-linejoin:miter;stroke-opacity:1' />\n",
       "<path class='bond-10' d='M 122.024,137.239 L 132.029,184.048' style='fill:none;fill-rule:evenodd;stroke:#000000;stroke-width:2.0px;stroke-linecap:butt;stroke-linejoin:miter;stroke-opacity:1' />\n",
       "<path class='bond-7' d='M 164.979,107.571 L 184.04,113.74' style='fill:none;fill-rule:evenodd;stroke:#FF0000;stroke-width:2.0px;stroke-linecap:butt;stroke-linejoin:miter;stroke-opacity:1' />\n",
       "<path class='bond-7' d='M 184.04,113.74 L 203.101,119.909' style='fill:none;fill-rule:evenodd;stroke:#000000;stroke-width:2.0px;stroke-linecap:butt;stroke-linejoin:miter;stroke-opacity:1' />\n",
       "<path class='bond-8' d='M 198.42,120.91 L 202.562,140.289' style='fill:none;fill-rule:evenodd;stroke:#000000;stroke-width:2.0px;stroke-linecap:butt;stroke-linejoin:miter;stroke-opacity:1' />\n",
       "<path class='bond-8' d='M 202.562,140.289 L 206.704,159.668' style='fill:none;fill-rule:evenodd;stroke:#FF0000;stroke-width:2.0px;stroke-linecap:butt;stroke-linejoin:miter;stroke-opacity:1' />\n",
       "<path class='bond-8' d='M 207.782,118.909 L 211.924,138.288' style='fill:none;fill-rule:evenodd;stroke:#000000;stroke-width:2.0px;stroke-linecap:butt;stroke-linejoin:miter;stroke-opacity:1' />\n",
       "<path class='bond-8' d='M 211.924,138.288 L 216.066,157.667' style='fill:none;fill-rule:evenodd;stroke:#FF0000;stroke-width:2.0px;stroke-linecap:butt;stroke-linejoin:miter;stroke-opacity:1' />\n",
       "<path class='bond-9' d='M 203.101,119.909 L 238.636,87.84' style='fill:none;fill-rule:evenodd;stroke:#000000;stroke-width:2.0px;stroke-linecap:butt;stroke-linejoin:miter;stroke-opacity:1' />\n",
       "<path class='bond-11' d='M 132.029,184.048 L 96.4932,216.118' style='fill:none;fill-rule:evenodd;stroke:#000000;stroke-width:2.0px;stroke-linecap:butt;stroke-linejoin:miter;stroke-opacity:1' />\n",
       "<path class='bond-11' d='M 120.285,181.752 L 95.4097,204.2' style='fill:none;fill-rule:evenodd;stroke:#000000;stroke-width:2.0px;stroke-linecap:butt;stroke-linejoin:miter;stroke-opacity:1' />\n",
       "<path  class='atom-4' d='M 14.7143 60.9871\n",
       "Q 14.7143 57.7322, 16.3227 55.9132\n",
       "Q 17.931 54.0943, 20.937 54.0943\n",
       "Q 23.9431 54.0943, 25.5514 55.9132\n",
       "Q 27.1597 57.7322, 27.1597 60.9871\n",
       "Q 27.1597 64.2804, 25.5323 66.1568\n",
       "Q 23.9048 68.014, 20.937 68.014\n",
       "Q 17.9501 68.014, 16.3227 66.1568\n",
       "Q 14.7143 64.2995, 14.7143 60.9871\n",
       "M 20.937 66.4822\n",
       "Q 23.0049 66.4822, 24.1154 65.1037\n",
       "Q 25.2451 63.706, 25.2451 60.9871\n",
       "Q 25.2451 58.3257, 24.1154 56.9854\n",
       "Q 23.0049 55.626, 20.937 55.626\n",
       "Q 18.8692 55.626, 17.7395 56.9663\n",
       "Q 16.629 58.3066, 16.629 60.9871\n",
       "Q 16.629 63.7251, 17.7395 65.1037\n",
       "Q 18.8692 66.4822, 20.937 66.4822\n",
       "' fill='#FF0000'/>\n",
       "<path  class='atom-5' d='M 95.791 43.6578\n",
       "Q 95.791 40.4028, 97.3993 38.5839\n",
       "Q 99.0077 36.765, 102.014 36.765\n",
       "Q 105.02 36.765, 106.628 38.5839\n",
       "Q 108.236 40.4028, 108.236 43.6578\n",
       "Q 108.236 46.951, 106.609 48.8274\n",
       "Q 104.981 50.6847, 102.014 50.6847\n",
       "Q 99.0268 50.6847, 97.3993 48.8274\n",
       "Q 95.791 46.9702, 95.791 43.6578\n",
       "M 102.014 49.1529\n",
       "Q 104.082 49.1529, 105.192 47.7744\n",
       "Q 106.322 46.3766, 106.322 43.6578\n",
       "Q 106.322 40.9964, 105.192 39.6561\n",
       "Q 104.082 38.2967, 102.014 38.2967\n",
       "Q 99.9459 38.2967, 98.8162 39.637\n",
       "Q 97.7057 40.9772, 97.7057 43.6578\n",
       "Q 97.7057 46.3958, 98.8162 47.7744\n",
       "Q 99.9459 49.1529, 102.014 49.1529\n",
       "' fill='#FF0000'/>\n",
       "<path  class='atom-5' d='M 109.864 36.9181\n",
       "L 111.702 36.9181\n",
       "L 111.702 42.6813\n",
       "L 118.633 42.6813\n",
       "L 118.633 36.9181\n",
       "L 120.471 36.9181\n",
       "L 120.471 50.474\n",
       "L 118.633 50.474\n",
       "L 118.633 44.213\n",
       "L 111.702 44.213\n",
       "L 111.702 50.474\n",
       "L 109.864 50.474\n",
       "L 109.864 36.9181\n",
       "' fill='#FF0000'/>\n",
       "<path  class='atom-7' d='M 151.337 105.208\n",
       "Q 151.337 101.953, 152.945 100.134\n",
       "Q 154.554 98.3148, 157.56 98.3148\n",
       "Q 160.566 98.3148, 162.174 100.134\n",
       "Q 163.782 101.953, 163.782 105.208\n",
       "Q 163.782 108.501, 162.155 110.377\n",
       "Q 160.527 112.234, 157.56 112.234\n",
       "Q 154.573 112.234, 152.945 110.377\n",
       "Q 151.337 108.52, 151.337 105.208\n",
       "M 157.56 110.703\n",
       "Q 159.628 110.703, 160.738 109.324\n",
       "Q 161.868 107.926, 161.868 105.208\n",
       "Q 161.868 102.546, 160.738 101.206\n",
       "Q 159.628 99.8465, 157.56 99.8465\n",
       "Q 155.492 99.8465, 154.362 101.187\n",
       "Q 153.252 102.527, 153.252 105.208\n",
       "Q 153.252 107.946, 154.362 109.324\n",
       "Q 155.492 110.703, 157.56 110.703\n",
       "' fill='#FF0000'/>\n",
       "<path  class='atom-9' d='M 206.883 166.757\n",
       "Q 206.883 163.502, 208.491 161.683\n",
       "Q 210.1 159.865, 213.106 159.865\n",
       "Q 216.112 159.865, 217.72 161.683\n",
       "Q 219.328 163.502, 219.328 166.757\n",
       "Q 219.328 170.051, 217.701 171.927\n",
       "Q 216.073 173.784, 213.106 173.784\n",
       "Q 210.119 173.784, 208.491 171.927\n",
       "Q 206.883 170.07, 206.883 166.757\n",
       "M 213.106 172.253\n",
       "Q 215.174 172.253, 216.284 170.874\n",
       "Q 217.414 169.476, 217.414 166.757\n",
       "Q 217.414 164.096, 216.284 162.756\n",
       "Q 215.174 161.396, 213.106 161.396\n",
       "Q 211.038 161.396, 209.908 162.737\n",
       "Q 208.798 164.077, 208.798 166.757\n",
       "Q 208.798 169.495, 209.908 170.874\n",
       "Q 211.038 172.253, 213.106 172.253\n",
       "' fill='#FF0000'/>\n",
       "</svg>\n"
      ],
      "text/plain": [
       "<rdkit.Chem.rdchem.Mol at 0x7fdaeacf2080>"
      ]
     },
     "execution_count": 38,
     "metadata": {},
     "output_type": "execute_result"
    }
   ],
   "source": [
    "m = Chem.MolFromSmiles('c1cc(C(=O)O)c(OC(=O)C)cc1')\n",
    "substructure = Chem.MolFromSmarts('C(=O)O')\n",
    "print(m.GetSubstructMatches(substructure))\n",
    "m"
   ]
  },
  {
   "cell_type": "code",
   "execution_count": null,
   "id": "reported-economy",
   "metadata": {},
   "outputs": [],
   "source": []
  }
 ],
 "metadata": {
  "kernelspec": {
   "display_name": "Python 3 (ipykernel)",
   "language": "python",
   "name": "python3"
  },
  "language_info": {
   "codemirror_mode": {
    "name": "ipython",
    "version": 3
   },
   "file_extension": ".py",
   "mimetype": "text/x-python",
   "name": "python",
   "nbconvert_exporter": "python",
   "pygments_lexer": "ipython3",
   "version": "3.7.8"
  }
 },
 "nbformat": 4,
 "nbformat_minor": 5
}
