{
 "cells": [
  {
   "cell_type": "code",
   "execution_count": 1,
   "metadata": {},
   "outputs": [
    {
     "data": {
      "text/plain": [
       "\"\\n\\n------------------------\\nLast Updated: 18/01/2021\\n------------------------\\n\\n------------------------------------\\nTHIS NOTEBOOK NEEDS TO BE ORGANIZED \\n-----------------------------------\\n\\n\\nThe purpose of this notebook is to get a idea of how the translation of the smiles to \\nthe coarse-grained beads of Martini can work. \\n\\n-> https://cedric.bouysset.net/blog/2020/08/07/rdkit-interoperability\\n\\n-> https://stackoverflow.com/questions/47319238/python-plot-3d-vectors\\n \\n-> https://en.wikipedia.org/wiki/XYZ_file_format - information on the xyz coordination file \\n\\n-> https://mattermodeling.stackexchange.com/questions/3961/recalculate-atom-positions-to-account-for-periodic-boundary-conditions/3970#3970  - Atomsk\\n\\n-> https://stackoverflow.com/questions/49064611/how-to-find-different-groups-in-networkx-using-python - grouping networks \\n\\n-> https://www.mdanalysis.org/2020/08/29/gsoc-report-cbouy/\\n\\n-> http://cgmartini.nl/index.php/component/kunena/8-martini-philosophy/5776-mapping-of-benzene-ring\\n\\n-> https://docs.mdanalysis.org/1.0.0/documentation_pages/lib/NeighborSearch.html\\n\\n-> https://math.stackexchange.com/questions/180418/calculate-rotation-matrix-to-align-vector-a-to-vector-b-in-3d\\n\\n-> https://sphinxcontrib-napoleon.readthedocs.io/en/latest/example_numpy.html\\n\\n-> https://nanotube.msu.edu/fullerene/fullerene-isomers.html\\n\\n-> https://towardsdatascience.com/molecular-visualization-in-streamlit-using-rdkit-and-py3dmol-part-2-657d28152753\\n\\n\\nQuote by Riccardo: \\n------------------\\n\\nIn the open beta of Martini 3, benzene is indeed mapped with three TC4 beads, that that's again a 2-to-1 mapping. \\nThe bond length is changed to 0.29 nm in 3.0 because this allows to represent more closely the volume of a benzene \\nmolecule, taking into account also the smaller size of T-beads as compared to S -beads\\n\\n\\n---------------------------\\nHow the modules are divided\\n---------------------------\\n\\n-> We want to be given free reign into making NPs of multiple types. The primary types we are concerned with at the \\n   moment is \\n\\n   1. Functionalized AuNP type ones.  \\n   2. Carbon Nanotube like ones. \\n   3. Large spherical buckyball type structures - Like C70. \\n\\n-> TODO \\n    \\n   - Am not able to get the box dimenisons correct for the xyz file...\\n   - Need to write Striped/Janus functionality to the NP maker  \\n\\n\\nTrying to translate the atomic C70 structure into the coarse-grained c70 structure \\n\\nTODO - isolate per 2 beads - There is a two to one mapping, and find the center of mass \\n       for each of these beads. Then construct the itp file for the bead. \\n\\n\""
      ]
     },
     "execution_count": 1,
     "metadata": {},
     "output_type": "execute_result"
    }
   ],
   "source": [
    "\"\"\"\n",
    "\n",
    "------------------------\n",
    "Last Updated: 18/01/2021\n",
    "------------------------\n",
    "\n",
    "------------------------------------\n",
    "THIS NOTEBOOK NEEDS TO BE ORGANIZED \n",
    "-----------------------------------\n",
    "\n",
    "\n",
    "The purpose of this notebook is to get a idea of how the translation of the smiles to \n",
    "the coarse-grained beads of Martini can work. \n",
    "\n",
    "-> https://cedric.bouysset.net/blog/2020/08/07/rdkit-interoperability\n",
    "\n",
    "-> https://stackoverflow.com/questions/47319238/python-plot-3d-vectors\n",
    " \n",
    "-> https://en.wikipedia.org/wiki/XYZ_file_format - information on the xyz coordination file \n",
    "\n",
    "-> https://mattermodeling.stackexchange.com/questions/3961/recalculate-atom-positions-to-account-for-periodic-boundary-conditions/3970#3970  - Atomsk\n",
    "\n",
    "-> https://stackoverflow.com/questions/49064611/how-to-find-different-groups-in-networkx-using-python - grouping networks \n",
    "\n",
    "-> https://www.mdanalysis.org/2020/08/29/gsoc-report-cbouy/\n",
    "\n",
    "-> http://cgmartini.nl/index.php/component/kunena/8-martini-philosophy/5776-mapping-of-benzene-ring\n",
    "\n",
    "-> https://docs.mdanalysis.org/1.0.0/documentation_pages/lib/NeighborSearch.html\n",
    "\n",
    "-> https://math.stackexchange.com/questions/180418/calculate-rotation-matrix-to-align-vector-a-to-vector-b-in-3d\n",
    "\n",
    "-> https://sphinxcontrib-napoleon.readthedocs.io/en/latest/example_numpy.html\n",
    "\n",
    "-> https://nanotube.msu.edu/fullerene/fullerene-isomers.html\n",
    "\n",
    "-> https://towardsdatascience.com/molecular-visualization-in-streamlit-using-rdkit-and-py3dmol-part-2-657d28152753\n",
    "\n",
    "\n",
    "Quote by Riccardo: \n",
    "------------------\n",
    "\n",
    "In the open beta of Martini 3, benzene is indeed mapped with three TC4 beads, that that's again a 2-to-1 mapping. \n",
    "The bond length is changed to 0.29 nm in 3.0 because this allows to represent more closely the volume of a benzene \n",
    "molecule, taking into account also the smaller size of T-beads as compared to S -beads\n",
    "\n",
    "\n",
    "---------------------------\n",
    "How the modules are divided\n",
    "---------------------------\n",
    "\n",
    "-> We want to be given free reign into making NPs of multiple types. The primary types we are concerned with at the \n",
    "   moment is \n",
    "\n",
    "   1. Functionalized AuNP type ones.  \n",
    "   2. Carbon Nanotube like ones. \n",
    "   3. Large spherical buckyball type structures - Like C70. \n",
    "\n",
    "-> TODO \n",
    "    \n",
    "   - Am not able to get the box dimenisons correct for the xyz file...\n",
    "   - Need to write Striped/Janus functionality to the NP maker  \n",
    "\n",
    "\n",
    "Trying to translate the atomic C70 structure into the coarse-grained c70 structure \n",
    "\n",
    "TODO - isolate per 2 beads - There is a two to one mapping, and find the center of mass \n",
    "       for each of these beads. Then construct the itp file for the bead. \n",
    "\n",
    "\"\"\""
   ]
  },
  {
   "cell_type": "code",
   "execution_count": 110,
   "metadata": {},
   "outputs": [],
   "source": [
    "# Boilerplate libraries                                                                                                                                                                                    \n",
    "import sys                                                                                                                                                                                                 \n",
    "import re                                                                                                                                                                                                  \n",
    "import math \n",
    "\n",
    "# Rdkit libraries \n",
    "from rdkit.Chem.Draw import IPythonConsole\n",
    "from rdkit.Chem import Draw\n",
    "from rdkit import Chem\n",
    "from rdkit.Chem import AllChem                                                                                                                                                                             \n",
    "from rdkit.Chem import ChemicalFeatures                                                                                                                                                                    \n",
    "from rdkit.Chem import rdchem                                                                                                                                                                              \n",
    "from rdkit.Chem import rdMolDescriptors                                                                                                                                                                    \n",
    "from rdkit import RDConfig  \n",
    "\n",
    "# Alignment libraries in MDAnalysis\n",
    "import MDAnalysis as mda\n",
    "from MDAnalysis.analysis import align\n",
    "from MDAnalysis.analysis.rms import rmsd\n",
    "from MDAnalysis.tests.datafiles import PSF, DCD, PDB_small, PDB, XTC\n",
    "\n",
    "# Scipy libraries\n",
    "import scipy                                                                                                                                                                                                                                                                                                                                                                                                          \n",
    "from scipy.sparse import csr_matrix                                                                                                                                                                        \n",
    "from scipy.sparse.csgraph import floyd_warshall                                                                                                                                                            \n",
    "from scipy.spatial import ConvexHull, convex_hull_plot_2d \n",
    "from scipy.linalg import solve\n",
    "from scipy.spatial import distance\n",
    "\n",
    "# Matplotlib libraries \n",
    "import matplotlib.pyplot as plt \n",
    "from mpl_toolkits.mplot3d import axes3d    \n",
    "from mpl_toolkits.mplot3d import Axes3D\n",
    "import plotly.graph_objs as go\n",
    "\n",
    "# Pandas \n",
    "import pandas as pd\n",
    "import numpy as np\n",
    "import plotly.graph_objs as go\n",
    "import math \n",
    "from operator import itemgetter\n",
    "import itertools                                                                                                                                                                                           \n",
    "import requests                                                                                                                                                                                            \n",
    "import collections                                                                                                                                                                                         \n",
    "import random               \n",
    "                                                                                                                                                                                                                                                                                                                                                                                                                                                                                                                                                         \n",
    "pd.set_option('display.max_colwidth', None)\n",
    "\n",
    "IPythonConsole.ipython_useSVG=True  #< set this to False if you want PNGs instead of SVGs"
   ]
  },
  {
   "cell_type": "code",
   "execution_count": 92,
   "metadata": {},
   "outputs": [],
   "source": [
    "\"\"\"\n",
    "RDKIT functions\n",
    "\"\"\"\n",
    "def GetRingSystems(mol, includeSpiro=False):\n",
    "    \"\"\"\n",
    "    What is this function doing?\n",
    "    \"\"\"\n",
    "    ri = mol.GetRingInfo() # Sets out the indices of the rings structures within the mol file \n",
    "    systems = []\n",
    "    for ring in ri.AtomRings():\n",
    "        ringAts = set(ring)\n",
    "        nSystems = []\n",
    "        for system in systems:\n",
    "            nInCommon = len(ringAts.intersection(system))\n",
    "            if nInCommon and (includeSpiro or nInCommon>1):\n",
    "                ringAts = ringAts.union(system)\n",
    "            else:\n",
    "                nSystems.append(system)\n",
    "        nSystems.append(ringAts)\n",
    "        systems = nSystems\n",
    "    return systems\n",
    "#mol = Chem.MolFromSmiles('CN1C(=O)CN=C(C2=C1C=CC(=C2)Cl)C3=CC=CC=C3')\n",
    "\n",
    "\"\"\"\n",
    "Plotting functions \n",
    "\"\"\"\n",
    "\n",
    "def mol_with_atom_index(mol):\n",
    "    for atom in mol.GetAtoms():\n",
    "        atom.SetAtomMapNum(atom.GetIdx())\n",
    "    return mol\n",
    "\n",
    "def vector_plot(tvects,is_vect=True,orig=[0,0,0]):\n",
    "    \"\"\"Plot vectors using plotly\"\"\"\n",
    "    if is_vect:\n",
    "        if not hasattr(orig[0],\"__iter__\"):\n",
    "            coords = [[orig,np.sum([orig,v],axis=0)] for v in tvects]\n",
    "        else:\n",
    "            coords = [[o,np.sum([o,v],axis=0)] for o,v in zip(orig,tvects)]\n",
    "    else:\n",
    "        coords = tvects\n",
    "\n",
    "    data = []\n",
    "    for i,c in enumerate(coords):\n",
    "        X1, Y1, Z1 = zip(c[0])\n",
    "        X2, Y2, Z2 = zip(c[1])\n",
    "        vector = go.Scatter3d(x = [X1[0],X2[0]],\n",
    "                              y = [Y1[0],Y2[0]],\n",
    "                              z = [Z1[0],Z2[0]],\n",
    "                              marker = dict(size = [0,5],\n",
    "                                            color = ['blue'],\n",
    "                                            line=dict(width=5,\n",
    "                                                      color='DarkSlateGrey')),\n",
    "                              name = 'Vector'+str(i+1))\n",
    "        data.append(vector)\n",
    "\n",
    "    layout = go.Layout(\n",
    "             margin = dict(l = 4,\n",
    "                           r = 4,\n",
    "                           b = 4,\n",
    "                           t = 4)\n",
    "                  )\n",
    "    fig = go.Figure(data=data,layout=layout)\n",
    "    fig.show()\n",
    "    \n",
    "\n",
    "def fibonacci_sphere(samples=1):\n",
    "    \"\"\"\n",
    "    Return a Fibanocci sphere with N number of points on the surface. \n",
    "    This will act as the template for the nanoparticle core. \n",
    "    \"\"\"\n",
    "    points = []\n",
    "    phi = math.pi * (3. - math.sqrt(5.))  # golden angle in radians\n",
    "\n",
    "    for i in range(samples):\n",
    "        y = 1 - (i / float(samples - 1)) * 2  # y goes from 1 to -1\n",
    "        radius = math.sqrt(1 - y * y)  # radius at y\n",
    "\n",
    "        theta = phi * i  # golden angle increment\n",
    "\n",
    "        x = math.cos(theta) * radius\n",
    "        z = math.sin(theta) * radius\n",
    "\n",
    "        points.append((x, y, z))\n",
    "\n",
    "    return points\n",
    "\n",
    "def rotation_matrix_from_vectors(vec1, vec2):\n",
    "    \"\"\" \n",
    "    Find the rotation matrix that aligns vec1 to vec2\n",
    "    :param vec1: A 3d \"source\" vector\n",
    "    :param vec2: A 3d \"destination\" vector\n",
    "    :return mat: A transform matrix (3x3) which when applied to vec1, aligns it with vec2.\n",
    "    \"\"\"\n",
    "    a, b = (vec1 / np.linalg.norm(vec1)).reshape(3), (vec2 / np.linalg.norm(vec2)).reshape(3)\n",
    "    v = np.cross(a, b)\n",
    "    c = np.dot(a, b)\n",
    "    s = np.linalg.norm(v)\n",
    "    kmat = np.array([[0, -v[2], v[1]], [v[2], 0, -v[0]], [-v[1], v[0], 0]])\n",
    "    rotation_matrix = np.eye(3) + kmat + kmat.dot(kmat) * ((1 - c) / (s ** 2))\n",
    "    return rotation_matrix\n",
    "\n",
    "def GenerateCore(Radius, N):\n",
    "    \"\"\"\n",
    "    Parameters\n",
    "    ----------\n",
    "    Radius: \n",
    "        path and file where the pdb file is.\n",
    "    N: \n",
    "        Placeholder \n",
    "        \n",
    "    Creates a Fibanocci sphere that represents the NP core \n",
    "    and Allocates the radius. Using the radius, the core is scaled down/up \n",
    "    to the size that one wishes to have. \n",
    "    \n",
    "    \"\"\"\n",
    "    Sphere = fibonacci_sphere(N) # Create the fibanocci sphere representing the NP core \n",
    "    XSphere, YSphere, ZSphere  = [], [], []\n",
    "    for entry in Sphere:\n",
    "        XSphere.append(entry[0])\n",
    "        YSphere.append(entry[1])\n",
    "        ZSphere.append(entry[2])\n",
    "    # Append as 2d list\n",
    "    SphereList = [] \n",
    "    for index in range(0, len(XSphere)):\n",
    "        SphereList.append([XSphere[index], YSphere[index], ZSphere[index]])\n",
    "    # Take the radius value, and then multiply the unit vector in each \n",
    "    # Direction by that radius value to increase the total volume of the \n",
    "    # NP core.\n",
    "    for index in range(0, len(SphereList) -1):\n",
    "        SphereList[index][0] = SphereList[index][0] * Radius\n",
    "        SphereList[index][1] = SphereList[index][1] * Radius\n",
    "        SphereList[index][2] = SphereList[index][2] * Radius\n",
    "    return SphereList\n",
    "\n",
    "def AttachLigands(LigandSmilesString, FirstAtomList, LastAtomList, Core):\n",
    "    \"\"\"\n",
    "    Parameters\n",
    "    ----------\n",
    "    LigandSmilesString: \n",
    "        path and file where the pdb file is.\n",
    "    FirstAtomList:\n",
    "        Placeholder\n",
    "    LastAtomList: \n",
    "        Placeholder\n",
    "    Core:\n",
    "        Placeholder \n",
    "    \"\"\"\n",
    "    # Through MDAnalysis \n",
    "    u = mda.Universe.from_smiles(LigandSmilesString)\n",
    "    Molecule = u.select_atoms('all')\n",
    "    # Select Atom attached to the core \n",
    "    FirstAtom = u.select_atoms('name {}'.format(FirstAtomList[0])) # Pick out the atoms attached\n",
    "    # Select end atom on the ligand \n",
    "    LastAtom = u.select_atoms('name {}'.format(LastAtomList[0])) # Pick out the last atom at the tip of the ligand \n",
    "    TransformationList, NameList = [], []\n",
    "    # Find the vector representing the direction from the sulfur to the tip of the ligand. \n",
    "    LigandAlignmentVector = (FirstAtom.positions- LastAtom.positions)[0]  \n",
    " \n",
    "    for i,j in enumerate(Molecule.positions):\n",
    "        vector = (j - FirstAtom.positions)[0]\n",
    "        vector[0] = LigandAlignmentVector[0] - vector[0]\n",
    "        vector[1] = LigandAlignmentVector[1] - vector[1]    \n",
    "        vector[2] = LigandAlignmentVector[2] - vector[2]\n",
    "        if vector[0] == -math.inf:\n",
    "            pass\n",
    "        if vector[0] == 0.0:\n",
    "            pass\n",
    "        else:\n",
    "            TransformationList.append([vector, Molecule.atoms[i].type])        \n",
    "\n",
    "    LigandList = [] \n",
    "    Sphere = []\n",
    "    Xplot, Yplot, Zplot = [], [], []\n",
    "    XplotSphere, YplotSphere, ZplotSphere = [], [], []\n",
    "\n",
    "    # Sulfur/ligand vector \n",
    "    unitVector = np.linalg.norm(LigandAlignmentVector)\n",
    "    vec1 = LigandAlignmentVector.tolist()\n",
    "    for index in range(0, len(SphereList)):\n",
    "        vec2 = SphereList[index] \n",
    "        # Find the rotation matrix that aligns ligand vector representation to the NP surface vector point representation \n",
    "        TransformationVector = rotation_matrix_from_vectors(vec1, vec2)  \n",
    "        vec1_rot = TransformationVector.dot(vec1) # Rotate the vector to match the surface point on the sphere \n",
    "        # TODO \n",
    "        unitVectorabs = np.linalg.norm(AlignmentVector)  \n",
    "        vecMultiplier = vec1_rot/unitVectorabs * 3 # Controls how far we want the ligands to be placed away from\n",
    "                                               # the NP surface\n",
    "        # TODO\n",
    "        Sphere.append(vec1_rot.tolist())\n",
    "        #LigandList.append(vec1_rot.tolist())\n",
    "        # Get the factors to translate the vector \n",
    "        for trans in TransformationList:\n",
    "            #if vec1_rot[0] > 0 and vec1_rot[1] > 0 and vec1_rot[2] > 0:   # (+ , +, +)\n",
    "            LigandAtomcoordinate = TransformationVector.dot(trans[0])\n",
    "            LigandAtomcoordinate[0] = LigandAtomcoordinate[0] + vecMultiplier[0]\n",
    "            LigandAtomcoordinate[1] = LigandAtomcoordinate[1] + vecMultiplier[1]\n",
    "            LigandAtomcoordinate[2] = LigandAtomcoordinate[2] + vecMultiplier[2]\n",
    "            LigandList.append(LigandAtomcoordinate.tolist()) # Append coordinates of the \n",
    "            NameList.append(trans[1]) # Append the names of the atoms \n",
    "\n",
    "    # Append the coordinates of the ligands \n",
    "    for index, entry in enumerate(LigandList):\n",
    "        #ax.plot3D(entry[0], entry[1], entry[2], 'red')\n",
    "        Xplot.append(entry[0])\n",
    "        Yplot.append(entry[1])\n",
    "        Zplot.append(entry[2])\n",
    "    # Add in the ligand index \n",
    "    LigandConstituent = [atom.name for atom in Molecule]\n",
    "    Ligands = []\n",
    "    for index in range(0, len(Sphere)): \n",
    "        Ligands = Ligands + LigandConstituent\n",
    "    \n",
    "    SphereName = [] \n",
    "    # Append the coordinates of the sphere \n",
    "    for entry in Sphere:\n",
    "        #ax.plot3D(entry[0], entry[1], entry[2], 'red')\n",
    "        XplotSphere.append(entry[0])\n",
    "        YplotSphere.append(entry[1])\n",
    "        ZplotSphere.append(entry[2])\n",
    "        SphereName.append('Au')\n",
    "    \n",
    "    dfLigand = pd.DataFrame(list(zip(Xplot, Yplot, Zplot, Ligands)), columns =['X', 'Y', 'Z', 'NAME'])\n",
    "    dfLigand['name'] = 'Ligand'\n",
    "    dfCore = pd.DataFrame(list(zip(XplotSphere, YplotSphere, ZplotSphere, SphereName)), columns =['X', 'Y', 'Z', 'NAME'])\n",
    "    dfCore['name'] = 'Core'\n",
    "    Total = dfLigand.append(dfCore)\n",
    "    return Total\n",
    "\n",
    "def ComputeC70Distances(coordinate):\n",
    "    \"\"\"    \n",
    "    Parameters\n",
    "    ----------\n",
    "    coordinate: \n",
    "        path and file where the pdb file is.\n",
    "    \n",
    "    \"\"\"\n",
    "    u = mda.Universe(coordinate)\n",
    "    \n",
    "    CorePositions, CoreIndex = [], []\n",
    "    C70CGBeadPositions = []\n",
    "    DistanceDict = {}\n",
    "    CorePositions = [[index, atoms.position] for index, atoms in enumerate(u.atoms)]\n",
    "    \n",
    "    for index, atoms in enumerate(u.atoms): # iterate through items \n",
    "        DistanceDict[index] = []\n",
    "        # Get the distance between atoms in the core positions  \n",
    "        for items in CorePositions:\n",
    "            # Find the distance between the index atoms in the index, atom.. \n",
    "            # and the core \n",
    "            dist = distance.euclidean(items[1], atoms.position)\n",
    "            Entry = [index, items[0], dist]\n",
    "            # Sort entry by dist \n",
    "            DistanceDict[index].append(Entry)\n",
    "    ClosestAtomsDistance = [] # List to store the atoms with the closest distances\n",
    "    # Sort each entry by distance \n",
    "    \n",
    "    for key in DistanceDict.keys():\n",
    "        DistanceDict[key] = sorted(DistanceDict[key], key=itemgetter(2)) # sort entries by closest distance \n",
    "        DistanceDict[key][1][0:2] = sorted(DistanceDict[key][1][0:2]) # \n",
    "        ClosestAtomsDistance.append(DistanceDict[key][1])\n",
    "    # Remove duplicate entries \n",
    "    UniqueSetsCoordinates = [list(x) for x in set(tuple(x) for x in ClosestAtomsDistance)]       \n",
    "    # Take the indices in the unique data and compute the averge coordinates\n",
    "    \n",
    "    for entry in UniqueSetsCoordinates:\n",
    "        data = [list(CorePositions[entry[0]][1]), list(CorePositions[entry[1]][1])]\n",
    "        averaged = np.average(data, axis=0)\n",
    "        C70CGBeadPositions.append(averaged)\n",
    "        \n",
    "    return C70CGBeadPositions\n",
    "\n",
    "\n",
    "def GenerateXYZ(NPDataframe):\n",
    "    \"\"\"\n",
    "    Parameters\n",
    "    ----------\n",
    "    Generate xyz structure coordinates from \n",
    "    the made NP. \n",
    "    \"\"\"\n",
    "    with open(\"file.xyz\", 'w') as xyz_file:\n",
    "        xyz_file.write(\"%d\\n%s\\n\" % (len(NPDataframe), 'NP'))\n",
    "        for index, row in NPDataframe.iterrows():\n",
    "            xyz_file.write(\"{:4} {:11.6f} {:11.6f} {:11.6f}\\n\".format(\n",
    "                row['NAME'], row['X'], row['Y'], row['Z']))"
   ]
  },
  {
   "cell_type": "code",
   "execution_count": 79,
   "metadata": {},
   "outputs": [
    {
     "data": {
      "image/png": "[encoded data removed]",
      "image/svg+xml": [
       "<?xml version='1.0' encoding='iso-8859-1'?>\n",
       "<svg version='1.1' baseProfile='full'\n",
       "              xmlns='http://www.w3.org/2000/svg'\n",
       "                      xmlns:rdkit='http://www.rdkit.org/xml'\n",
       "                      xmlns:xlink='http://www.w3.org/1999/xlink'\n",
       "                  xml:space='preserve'\n",
       "width='450px' height='150px' viewBox='0 0 450 150'>\n",
       "<!-- END OF HEADER -->\n",
       "<rect style='opacity:1.0;fill:#FFFFFF;stroke:none' width='450.0' height='150.0' x='0.0' y='0.0'> </rect>\n",
       "<path class='bond-0 atom-0 atom-1' d='M 274.6,143.2 L 226.2,90.7' style='fill:none;fill-rule:evenodd;stroke:#000000;stroke-width:2.0px;stroke-linecap:butt;stroke-linejoin:miter;stroke-opacity:1' />\n",
       "<path class='bond-0 atom-0 atom-1' d='M 277.9,125.6 L 244.0,88.9' style='fill:none;fill-rule:evenodd;stroke:#000000;stroke-width:2.0px;stroke-linecap:butt;stroke-linejoin:miter;stroke-opacity:1' />\n",
       "<path class='bond-7 atom-5 atom-0' d='M 344.3,127.5 L 274.6,143.2' style='fill:none;fill-rule:evenodd;stroke:#000000;stroke-width:2.0px;stroke-linecap:butt;stroke-linejoin:miter;stroke-opacity:1' />\n",
       "<path class='bond-1 atom-1 atom-2' d='M 226.2,90.7 L 247.4,22.5' style='fill:none;fill-rule:evenodd;stroke:#000000;stroke-width:2.0px;stroke-linecap:butt;stroke-linejoin:miter;stroke-opacity:1' />\n",
       "<path class='bond-5 atom-1 atom-6' d='M 226.2,90.7 L 156.6,106.4' style='fill:none;fill-rule:evenodd;stroke:#000000;stroke-width:2.0px;stroke-linecap:butt;stroke-linejoin:miter;stroke-opacity:1' />\n",
       "<path class='bond-2 atom-2 atom-3' d='M 247.4,22.5 L 317.1,6.8' style='fill:none;fill-rule:evenodd;stroke:#000000;stroke-width:2.0px;stroke-linecap:butt;stroke-linejoin:miter;stroke-opacity:1' />\n",
       "<path class='bond-2 atom-2 atom-3' d='M 261.0,34.1 L 309.8,23.1' style='fill:none;fill-rule:evenodd;stroke:#000000;stroke-width:2.0px;stroke-linecap:butt;stroke-linejoin:miter;stroke-opacity:1' />\n",
       "<path class='bond-3 atom-3 atom-4' d='M 317.1,6.8 L 365.5,59.3' style='fill:none;fill-rule:evenodd;stroke:#000000;stroke-width:2.0px;stroke-linecap:butt;stroke-linejoin:miter;stroke-opacity:1' />\n",
       "<path class='bond-4 atom-4 atom-5' d='M 365.5,59.3 L 344.3,127.5' style='fill:none;fill-rule:evenodd;stroke:#000000;stroke-width:2.0px;stroke-linecap:butt;stroke-linejoin:miter;stroke-opacity:1' />\n",
       "<path class='bond-4 atom-4 atom-5' d='M 348.7,65.3 L 333.9,113.0' style='fill:none;fill-rule:evenodd;stroke:#000000;stroke-width:2.0px;stroke-linecap:butt;stroke-linejoin:miter;stroke-opacity:1' />\n",
       "<path class='bond-6 atom-6 atom-7' d='M 156.6,106.4 L 136.5,84.7' style='fill:none;fill-rule:evenodd;stroke:#000000;stroke-width:2.0px;stroke-linecap:butt;stroke-linejoin:miter;stroke-opacity:1' />\n",
       "<path class='bond-6 atom-6 atom-7' d='M 136.5,84.7 L 116.4,62.9' style='fill:none;fill-rule:evenodd;stroke:#CCCC00;stroke-width:2.0px;stroke-linecap:butt;stroke-linejoin:miter;stroke-opacity:1' />\n",
       "<path  class='atom-7' d='M 84.5 43.8\n",
       "L 87.2 43.8\n",
       "L 87.2 52.4\n",
       "L 97.5 52.4\n",
       "L 97.5 43.8\n",
       "L 100.3 43.8\n",
       "L 100.3 64.1\n",
       "L 97.5 64.1\n",
       "L 97.5 54.7\n",
       "L 87.2 54.7\n",
       "L 87.2 64.1\n",
       "L 84.5 64.1\n",
       "L 84.5 43.8\n",
       "' fill='#CCCC00'/>\n",
       "<path  class='atom-7' d='M 102.4 60.9\n",
       "Q 102.6 61.0, 103.6 61.4\n",
       "Q 104.5 61.8, 105.5 62.1\n",
       "Q 106.6 62.3, 107.6 62.3\n",
       "Q 109.5 62.3, 110.7 61.4\n",
       "Q 111.8 60.4, 111.8 58.8\n",
       "Q 111.8 57.7, 111.2 57.0\n",
       "Q 110.7 56.3, 109.8 55.9\n",
       "Q 108.9 55.6, 107.5 55.1\n",
       "Q 105.7 54.6, 104.6 54.1\n",
       "Q 103.6 53.6, 102.8 52.5\n",
       "Q 102.1 51.4, 102.1 49.6\n",
       "Q 102.1 47.0, 103.8 45.5\n",
       "Q 105.5 43.9, 108.9 43.9\n",
       "Q 111.3 43.9, 113.9 45.0\n",
       "L 113.3 47.2\n",
       "Q 110.9 46.2, 109.0 46.2\n",
       "Q 107.1 46.2, 106.0 47.0\n",
       "Q 104.9 47.8, 104.9 49.2\n",
       "Q 104.9 50.3, 105.5 51.0\n",
       "Q 106.0 51.6, 106.8 52.0\n",
       "Q 107.7 52.4, 109.0 52.8\n",
       "Q 110.9 53.4, 111.9 53.9\n",
       "Q 113.0 54.5, 113.8 55.7\n",
       "Q 114.6 56.8, 114.6 58.8\n",
       "Q 114.6 61.6, 112.7 63.1\n",
       "Q 110.9 64.6, 107.7 64.6\n",
       "Q 105.9 64.6, 104.6 64.2\n",
       "Q 103.2 63.8, 101.6 63.2\n",
       "L 102.4 60.9\n",
       "' fill='#CCCC00'/>\n",
       "</svg>\n"
      ],
      "text/html": [
       "<?xml version='1.0' encoding='iso-8859-1'?>\n",
       "<svg version='1.1' baseProfile='full'\n",
       "              xmlns='http://www.w3.org/2000/svg'\n",
       "                      xmlns:rdkit='http://www.rdkit.org/xml'\n",
       "                      xmlns:xlink='http://www.w3.org/1999/xlink'\n",
       "                  xml:space='preserve'\n",
       "width='450px' height='150px' viewBox='0 0 450 150'>\n",
       "<!-- END OF HEADER -->\n",
       "<rect style='opacity:1.0;fill:#FFFFFF;stroke:none' width='450.0' height='150.0' x='0.0' y='0.0'> </rect>\n",
       "<path class='bond-0 atom-0 atom-1' d='M 274.6,143.2 L 226.2,90.7' style='fill:none;fill-rule:evenodd;stroke:#000000;stroke-width:2.0px;stroke-linecap:butt;stroke-linejoin:miter;stroke-opacity:1' />\n",
       "<path class='bond-0 atom-0 atom-1' d='M 277.9,125.6 L 244.0,88.9' style='fill:none;fill-rule:evenodd;stroke:#000000;stroke-width:2.0px;stroke-linecap:butt;stroke-linejoin:miter;stroke-opacity:1' />\n",
       "<path class='bond-7 atom-5 atom-0' d='M 344.3,127.5 L 274.6,143.2' style='fill:none;fill-rule:evenodd;stroke:#000000;stroke-width:2.0px;stroke-linecap:butt;stroke-linejoin:miter;stroke-opacity:1' />\n",
       "<path class='bond-1 atom-1 atom-2' d='M 226.2,90.7 L 247.4,22.5' style='fill:none;fill-rule:evenodd;stroke:#000000;stroke-width:2.0px;stroke-linecap:butt;stroke-linejoin:miter;stroke-opacity:1' />\n",
       "<path class='bond-5 atom-1 atom-6' d='M 226.2,90.7 L 156.6,106.4' style='fill:none;fill-rule:evenodd;stroke:#000000;stroke-width:2.0px;stroke-linecap:butt;stroke-linejoin:miter;stroke-opacity:1' />\n",
       "<path class='bond-2 atom-2 atom-3' d='M 247.4,22.5 L 317.1,6.8' style='fill:none;fill-rule:evenodd;stroke:#000000;stroke-width:2.0px;stroke-linecap:butt;stroke-linejoin:miter;stroke-opacity:1' />\n",
       "<path class='bond-2 atom-2 atom-3' d='M 261.0,34.1 L 309.8,23.1' style='fill:none;fill-rule:evenodd;stroke:#000000;stroke-width:2.0px;stroke-linecap:butt;stroke-linejoin:miter;stroke-opacity:1' />\n",
       "<path class='bond-3 atom-3 atom-4' d='M 317.1,6.8 L 365.5,59.3' style='fill:none;fill-rule:evenodd;stroke:#000000;stroke-width:2.0px;stroke-linecap:butt;stroke-linejoin:miter;stroke-opacity:1' />\n",
       "<path class='bond-4 atom-4 atom-5' d='M 365.5,59.3 L 344.3,127.5' style='fill:none;fill-rule:evenodd;stroke:#000000;stroke-width:2.0px;stroke-linecap:butt;stroke-linejoin:miter;stroke-opacity:1' />\n",
       "<path class='bond-4 atom-4 atom-5' d='M 348.7,65.3 L 333.9,113.0' style='fill:none;fill-rule:evenodd;stroke:#000000;stroke-width:2.0px;stroke-linecap:butt;stroke-linejoin:miter;stroke-opacity:1' />\n",
       "<path class='bond-6 atom-6 atom-7' d='M 156.6,106.4 L 136.5,84.7' style='fill:none;fill-rule:evenodd;stroke:#000000;stroke-width:2.0px;stroke-linecap:butt;stroke-linejoin:miter;stroke-opacity:1' />\n",
       "<path class='bond-6 atom-6 atom-7' d='M 136.5,84.7 L 116.4,62.9' style='fill:none;fill-rule:evenodd;stroke:#CCCC00;stroke-width:2.0px;stroke-linecap:butt;stroke-linejoin:miter;stroke-opacity:1' />\n",
       "<path  class='atom-7' d='M 84.5 43.8\n",
       "L 87.2 43.8\n",
       "L 87.2 52.4\n",
       "L 97.5 52.4\n",
       "L 97.5 43.8\n",
       "L 100.3 43.8\n",
       "L 100.3 64.1\n",
       "L 97.5 64.1\n",
       "L 97.5 54.7\n",
       "L 87.2 54.7\n",
       "L 87.2 64.1\n",
       "L 84.5 64.1\n",
       "L 84.5 43.8\n",
       "' fill='#CCCC00'/>\n",
       "<path  class='atom-7' d='M 102.4 60.9\n",
       "Q 102.6 61.0, 103.6 61.4\n",
       "Q 104.5 61.8, 105.5 62.1\n",
       "Q 106.6 62.3, 107.6 62.3\n",
       "Q 109.5 62.3, 110.7 61.4\n",
       "Q 111.8 60.4, 111.8 58.8\n",
       "Q 111.8 57.7, 111.2 57.0\n",
       "Q 110.7 56.3, 109.8 55.9\n",
       "Q 108.9 55.6, 107.5 55.1\n",
       "Q 105.7 54.6, 104.6 54.1\n",
       "Q 103.6 53.6, 102.8 52.5\n",
       "Q 102.1 51.4, 102.1 49.6\n",
       "Q 102.1 47.0, 103.8 45.5\n",
       "Q 105.5 43.9, 108.9 43.9\n",
       "Q 111.3 43.9, 113.9 45.0\n",
       "L 113.3 47.2\n",
       "Q 110.9 46.2, 109.0 46.2\n",
       "Q 107.1 46.2, 106.0 47.0\n",
       "Q 104.9 47.8, 104.9 49.2\n",
       "Q 104.9 50.3, 105.5 51.0\n",
       "Q 106.0 51.6, 106.8 52.0\n",
       "Q 107.7 52.4, 109.0 52.8\n",
       "Q 110.9 53.4, 111.9 53.9\n",
       "Q 113.0 54.5, 113.8 55.7\n",
       "Q 114.6 56.8, 114.6 58.8\n",
       "Q 114.6 61.6, 112.7 63.1\n",
       "Q 110.9 64.6, 107.7 64.6\n",
       "Q 105.9 64.6, 104.6 64.2\n",
       "Q 103.2 63.8, 101.6 63.2\n",
       "L 102.4 60.9\n",
       "' fill='#CCCC00'/>\n",
       "</svg>\n"
      ],
      "text/plain": [
       "<rdkit.Chem.rdchem.Mol at 0x7f84405d75e0>"
      ]
     },
     "execution_count": 79,
     "metadata": {},
     "output_type": "execute_result"
    }
   ],
   "source": [
    "\"\"\" \n",
    "Annotating and drawing an example sulfur ligand \n",
    "\"\"\"\n",
    "u1 = mda.Universe.from_smiles(\"C1=C(C=CC=C1)CS[H]\")\n",
    "AromaticSulfurSmilesString = 'C1=C(C=CC=C1)CS[H]'\n",
    "m_aromatic = Chem.MolFromSmiles(AromaticSulfurSmilesString)\n",
    "#mol_with_atom_index(m_aromatic)\n",
    "m_aromatic"
   ]
  },
  {
   "cell_type": "code",
   "execution_count": 80,
   "metadata": {},
   "outputs": [
    {
     "data": {
      "text/plain": [
       "array([[-0.4164508 , -1.0209086 , -0.321538  ],\n",
       "       [ 0.45470127, -0.10056152,  0.22862747],\n",
       "       [-0.08500773,  1.1171963 ,  0.59858966],\n",
       "       [-1.4242786 ,  1.4126036 ,  0.43273652],\n",
       "       [-2.2898233 ,  0.49065328, -0.11687744],\n",
       "       [-1.7620933 , -0.7279982 , -0.48973343],\n",
       "       [ 1.9010806 , -0.38754773,  0.4204745 ],\n",
       "       [ 2.8918927 ,  0.08216184, -1.0066428 ],\n",
       "       [-0.03023229, -1.989612  , -0.6249604 ],\n",
       "       [ 0.5916354 ,  1.8547293 ,  1.0349166 ],\n",
       "       [-1.8327507 ,  2.370702  ,  0.7272381 ],\n",
       "       [-3.3425007 ,  0.69592506, -0.25794318],\n",
       "       [-2.4653492 , -1.4386841 , -0.9210312 ],\n",
       "       [ 1.9937527 , -1.4730167 ,  0.61070406],\n",
       "       [ 2.3121333 ,  0.13089113,  1.3198408 ],\n",
       "       [ 3.5032907 , -1.0165337 , -1.6344012 ]], dtype=float32)"
      ]
     },
     "execution_count": 80,
     "metadata": {},
     "output_type": "execute_result"
    }
   ],
   "source": [
    "\"\"\" \n",
    "Working on the same ligand.. \n",
    "\"\"\"\n",
    "\n",
    "# Through RDKIT\n",
    "AromaticSulfurSmilesString = 'C1=C(C=CC=C1)CS[H]'\n",
    "m_aromatic = Chem.MolFromSmiles(AromaticSulfurSmilesString)\n",
    "mol_with_atom_index(m_aromatic)\n",
    "\n",
    "# Through MDAnalysis \n",
    "u1 = mda.Universe.from_smiles(AromaticSulfurSmilesString)\n",
    "Molecule = u1.select_atoms('all')\n",
    "Molecule.positions # Finds the cartesian coordinates of the ligands "
   ]
  },
  {
   "cell_type": "code",
   "execution_count": 81,
   "metadata": {},
   "outputs": [
    {
     "name": "stderr",
     "output_type": "stream",
     "text": [
      "/home/sang/anaconda3/lib/python3.8/site-packages/MDAnalysis/converters/RDKit.py:161: UserWarning:\n",
      "\n",
      "No coordinates found in the RDKit molecule\n",
      "\n"
     ]
    }
   ],
   "source": [
    "C70 = mda.Universe.from_smiles(\"c1(c2c3c4c15)c6c7c8c2c9c%10c3c%11c%12c4c%13c%14c5c%15c6c%16c7c%17c%18c%19c%20c%21c%22c%23c%24c%21c%25c%26c%20c%18c%16c%27c%15c%14c%28c(c%25c%29c%24c%30c%31c%23c%32c%33c%22c%19c%34c%33c(c9c8c%34%17)c%35c%10c%11c(c%31c%32%35)c%36c%12c%13c%28c%29c%30%36)c%26%27\")"
   ]
  },
  {
   "cell_type": "code",
   "execution_count": 82,
   "metadata": {},
   "outputs": [
    {
     "data": {
      "text/plain": [
       "<AtomGroup with 70 atoms>"
      ]
     },
     "execution_count": 82,
     "metadata": {},
     "output_type": "execute_result"
    }
   ],
   "source": [
    "C70.atoms"
   ]
  },
  {
   "cell_type": "code",
   "execution_count": 83,
   "metadata": {},
   "outputs": [],
   "source": [
    "# Highlight a Substructure in a Molecule - Can we identify the benzene part and sulfur part?\n",
    "\n",
    "\n",
    "ConvertedSmiles = Chem.MolToSmiles(Chem.MolFromSmiles('C1=CC=CN=C1'))\n",
    "ConvertedSmiles\n",
    "\n",
    "ExampleMartiniString = \"CC(=O)CO\" # Example smiles string that is compatible with MARTINI \n",
    "ConvertedSmiles2 = Chem.MolToSmiles(Chem.MolFromSmiles(ExampleMartiniString))\n",
    "ConvertedSmiles2\n",
    "m2  = Chem.MolFromSmiles(ConvertedSmiles2)\n",
    "#m2\n",
    "# Hence, we need to create a dictionary that catalogues the string with the relevant martini bead \n",
    "SmilesToMartiniDictionary = {}\n",
    "SmilesToMartiniDictionary[\"CC(=O)CO\"] = 'P2' # P2 Bead \n",
    "SmilesToMartiniDictionary[\"CC(=O)O\"] = 'SP2' # SP2 Bead \n",
    "SmilesToMartiniDictionary[\"CC(C)O\"] = 'P1' # P1 Bead \n",
    "SmilesToMartiniDictionary[\"CC(C)O\"] = 'P1' # P1 Bead "
   ]
  },
  {
   "cell_type": "code",
   "execution_count": 62,
   "metadata": {},
   "outputs": [
    {
     "data": {
      "text/plain": [
       "array([[-0.313859  ,  1.1280458 ,  0.28946903],\n",
       "       [-1.6361762 ,  0.89868724,  0.35294148],\n",
       "       [-2.1747763 , -0.31641102,  0.11850151],\n",
       "       [-1.3289351 , -1.3233694 , -0.18981339],\n",
       "       [ 0.00611945, -1.1431412 , -0.26581106],\n",
       "       [ 0.55128545,  0.09935988, -0.02559434],\n",
       "       [ 1.9858009 ,  0.3100111 , -0.10331057],\n",
       "       [ 2.5338929 ,  1.4185567 ,  0.10556315],\n",
       "       [ 2.8077197 , -0.759986  , -0.4241446 ],\n",
       "       [ 0.12180877,  2.1109636 ,  0.47911093],\n",
       "       [-3.2543247 , -0.48732215,  0.17410803],\n",
       "       [ 0.70144445, -1.9353946 , -0.5110202 ]], dtype=float32)"
      ]
     },
     "execution_count": 62,
     "metadata": {},
     "output_type": "execute_result"
    }
   ],
   "source": [
    "\"\"\"\n",
    "This part links the lignad coordinates with the \n",
    "\"\"\"\n",
    "# new feature\n",
    "u1 = mda.Universe.from_smiles(\"c1ncncc1C(=O)[O-]\")\n",
    "# new feature\n",
    "Molecule = u1.select_atoms('all')\n",
    "Molecule.positions # Finds \n",
    "# Need to label each of the xyz coordinates with the relevant indices within the "
   ]
  },
  {
   "cell_type": "code",
   "execution_count": 84,
   "metadata": {},
   "outputs": [
    {
     "data": {
      "text/plain": [
       "{'CC(=O)CO': 'P2', 'CC(=O)O': 'SP2', 'CC(C)O': 'P1'}"
      ]
     },
     "execution_count": 84,
     "metadata": {},
     "output_type": "execute_result"
    }
   ],
   "source": [
    "SmilesToMartiniDictionary"
   ]
  },
  {
   "cell_type": "code",
   "execution_count": 85,
   "metadata": {},
   "outputs": [
    {
     "name": "stdout",
     "output_type": "stream",
     "text": [
      "((10, 8, 9, 7),)\n",
      "(0, 12, 11, 6, 2, 1)\n"
     ]
    }
   ],
   "source": [
    "m = Chem.MolFromSmiles('c1cc(C(=O)O)c(OC(=O)C)cc1')\n",
    "substructure = Chem.MolFromSmarts('CC(=O)O')\n",
    "print(m.GetSubstructMatches(substructure)) # Shows the indices of the molcule that matches the MARTINI bead \n",
    "\n",
    "# Find part of the smiles which is part of a ring \n",
    "\n",
    "ri = m.GetRingInfo().AtomRings()\n",
    "for ring in ri:\n",
    "    print(ring)"
   ]
  },
  {
   "cell_type": "code",
   "execution_count": 86,
   "metadata": {},
   "outputs": [
    {
     "name": "stdout",
     "output_type": "stream",
     "text": [
      "()\n"
     ]
    }
   ],
   "source": [
    "\"\"\"\n",
    "In the above situation, we can identify the 3 parts - the thiolated part, the saturated hydrocarbon chain attached \n",
    "to the benzene group, and the benzene group itself. \n",
    "\"\"\"\n",
    "substructure = Chem.MolFromSmarts('SC')\n",
    "print(m.GetSubstructMatches(substructure))"
   ]
  },
  {
   "cell_type": "code",
   "execution_count": 87,
   "metadata": {},
   "outputs": [
    {
     "name": "stderr",
     "output_type": "stream",
     "text": [
      "/home/sang/anaconda3/lib/python3.8/site-packages/MDAnalysis/coordinates/PDB.py:747: UserWarning:\n",
      "\n",
      "Unit cell dimensions not found. CRYST1 record set to unitary values.\n",
      "\n",
      "/home/sang/anaconda3/lib/python3.8/site-packages/MDAnalysis/coordinates/PDB.py:1078: UserWarning:\n",
      "\n",
      "Found no information for attr: 'altLocs' Using default value of ' '\n",
      "\n",
      "/home/sang/anaconda3/lib/python3.8/site-packages/MDAnalysis/coordinates/PDB.py:1078: UserWarning:\n",
      "\n",
      "Found no information for attr: 'resnames' Using default value of 'UNK'\n",
      "\n",
      "/home/sang/anaconda3/lib/python3.8/site-packages/MDAnalysis/coordinates/PDB.py:1078: UserWarning:\n",
      "\n",
      "Found no information for attr: 'icodes' Using default value of ' '\n",
      "\n",
      "/home/sang/anaconda3/lib/python3.8/site-packages/MDAnalysis/coordinates/PDB.py:1078: UserWarning:\n",
      "\n",
      "Found no information for attr: 'chainIDs' Using default value of ''\n",
      "\n",
      "/home/sang/anaconda3/lib/python3.8/site-packages/MDAnalysis/coordinates/PDB.py:1078: UserWarning:\n",
      "\n",
      "Found no information for attr: 'occupancies' Using default value of '1.0'\n",
      "\n",
      "/home/sang/anaconda3/lib/python3.8/site-packages/MDAnalysis/coordinates/PDB.py:1078: UserWarning:\n",
      "\n",
      "Found no information for attr: 'tempfactors' Using default value of '0.0'\n",
      "\n",
      "/home/sang/anaconda3/lib/python3.8/site-packages/MDAnalysis/coordinates/PDB.py:1078: UserWarning:\n",
      "\n",
      "Found no information for attr: 'record_types' Using default value of 'ATOM'\n",
      "\n",
      "/home/sang/anaconda3/lib/python3.8/site-packages/MDAnalysis/coordinates/PDB.py:1124: UserWarning:\n",
      "\n",
      "Found missing chainIDs. Corresponding atoms will use value of 'X'\n",
      "\n"
     ]
    }
   ],
   "source": [
    "\n",
    "def GetRingSystems(mol, includeSpiro=False):\n",
    "    \"\"\"\n",
    "    What is this function doing?\n",
    "    \"\"\"\n",
    "    ri = mol.GetRingInfo() # Sets out the indices of the rings structures within the mol file \n",
    "    systems = []\n",
    "    for ring in ri.AtomRings():\n",
    "        ringAts = set(ring)\n",
    "        nSystems = []\n",
    "        for system in systems:\n",
    "            nInCommon = len(ringAts.intersection(system))\n",
    "            if nInCommon and (includeSpiro or nInCommon>1):\n",
    "                ringAts = ringAts.union(system)\n",
    "            else:\n",
    "                nSystems.append(system)\n",
    "        nSystems.append(ringAts)\n",
    "        systems = nSystems\n",
    "    return systems\n",
    "mol = Chem.MolFromSmiles('CN1C(=O)CN=C(C2=C1C=CC(=C2)Cl)C3=CC=CC=C3')\n",
    "#print(GetRingSystems(mol))\n",
    "#mol\n",
    "\n",
    "Molecule.positions\n",
    "Molecule.atoms.write(\"mol.pdb\")"
   ]
  },
  {
   "cell_type": "code",
   "execution_count": 88,
   "metadata": {},
   "outputs": [
    {
     "data": {
      "application/vnd.plotly.v1+json": {
       "config": {
        "plotlyServerURL": "https://plot.ly"
       },
       "data": [
        {
         "marker": {
          "color": [
           "blue"
          ],
          "line": {
           "color": "DarkSlateGrey",
           "width": 5
          },
          "size": [
           0,
           5
          ]
         },
         "name": "Vector1",
         "type": "scatter3d",
         "x": [
          0,
          0
         ],
         "y": [
          0,
          10
         ],
         "z": [
          0,
          0
         ]
        },
        {
         "marker": {
          "color": [
           "blue"
          ],
          "line": {
           "color": "DarkSlateGrey",
           "width": 5
          },
          "size": [
           0,
           5
          ]
         },
         "name": "Vector2",
         "type": "scatter3d",
         "x": [
          0,
          -1.4746625201921926
         ],
         "y": [
          0,
          9.797979797979798
         ],
         "z": [
          0,
          1.3509116662166227
         ]
        },
        {
         "marker": {
          "color": [
           "blue"
          ],
          "line": {
           "color": "DarkSlateGrey",
           "width": 5
          },
          "size": [
           0,
           5
          ]
         },
         "name": "Vector3",
         "type": "scatter3d",
         "x": [
          0,
          0.24599988672162226
         ],
         "y": [
          0,
          9.595959595959595
         ],
         "z": [
          0,
          -2.803041827808479
         ]
        },
        {
         "marker": {
          "color": [
           "blue"
          ],
          "line": {
           "color": "DarkSlateGrey",
           "width": 5
          },
          "size": [
           0,
           5
          ]
         },
         "name": "Vector4",
         "type": "scatter3d",
         "x": [
          0,
          2.085969670475504
         ],
         "y": [
          0,
          9.393939393939394
         ],
         "z": [
          0,
          2.7207780499059235
         ]
        },
        {
         "marker": {
          "color": [
           "blue"
          ],
          "line": {
           "color": "DarkSlateGrey",
           "width": 5
          },
          "size": [
           0,
           5
          ]
         },
         "name": "Vector5",
         "type": "scatter3d",
         "x": [
          0,
          -3.8778989211836534
         ],
         "y": [
          0,
          9.191919191919192
         ],
         "z": [
          0,
          -0.6859457167373212
         ]
        },
        {
         "marker": {
          "color": [
           "blue"
          ],
          "line": {
           "color": "DarkSlateGrey",
           "width": 5
          },
          "size": [
           0,
           5
          ]
         },
         "name": "Vector6",
         "type": "scatter3d",
         "x": [
          0,
          3.695389676362656
         ],
         "y": [
          0,
          8.98989898989899
         ],
         "z": [
          0,
          -2.3507044244748045
         ]
        },
        {
         "marker": {
          "color": [
           "blue"
          ],
          "line": {
           "color": "DarkSlateGrey",
           "width": 5
          },
          "size": [
           0,
           5
          ]
         },
         "name": "Vector7",
         "type": "scatter3d",
         "x": [
          0,
          -1.2388644490434448
         ],
         "y": [
          0,
          8.787878787878787
         ],
         "z": [
          0,
          4.60851399981017
         ]
        },
        {
         "marker": {
          "color": [
           "blue"
          ],
          "line": {
           "color": "DarkSlateGrey",
           "width": 5
          },
          "size": [
           0,
           5
          ]
         },
         "name": "Vector8",
         "type": "scatter3d",
         "x": [
          0,
          -2.362931120005442
         ],
         "y": [
          0,
          8.585858585858585
         ],
         "z": [
          0,
          -4.549680083890321
         ]
        },
        {
         "marker": {
          "color": [
           "blue"
          ],
          "line": {
           "color": "DarkSlateGrey",
           "width": 5
          },
          "size": [
           0,
           5
          ]
         },
         "name": "Vector9",
         "type": "scatter3d",
         "x": [
          0,
          5.1200553924297365
         ],
         "y": [
          0,
          8.383838383838384
         ],
         "z": [
          0,
          1.8698360174436122
         ]
        },
        {
         "marker": {
          "color": [
           "blue"
          ],
          "line": {
           "color": "DarkSlateGrey",
           "width": 5
          },
          "size": [
           0,
           5
          ]
         },
         "name": "Vector10",
         "type": "scatter3d",
         "x": [
          0,
          -5.314613277182722
         ],
         "y": [
          0,
          8.181818181818182
         ],
         "z": [
          0,
          2.193795102935222
         ]
        },
        {
         "marker": {
          "color": [
           "blue"
          ],
          "line": {
           "color": "DarkSlateGrey",
           "width": 5
          },
          "size": [
           0,
           5
          ]
         },
         "name": "Vector11",
         "type": "scatter3d",
         "x": [
          0,
          2.554452834241677
         ],
         "y": [
          0,
          7.97979797979798
         ],
         "z": [
          0,
          -5.458717332784941
         ]
        },
        {
         "marker": {
          "color": [
           "blue"
          ],
          "line": {
           "color": "DarkSlateGrey",
           "width": 5
          },
          "size": [
           0,
           5
          ]
         },
         "name": "Vector12",
         "type": "scatter3d",
         "x": [
          0,
          1.8811168893216454
         ],
         "y": [
          0,
          7.777777777777778
         ],
         "z": [
          0,
          5.997297065196539
         ]
        },
        {
         "marker": {
          "color": [
           "blue"
          ],
          "line": {
           "color": "DarkSlateGrey",
           "width": 5
          },
          "size": [
           0,
           5
          ]
         },
         "name": "Vector13",
         "type": "scatter3d",
         "x": [
          0,
          -5.647642372728926
         ],
         "y": [
          0,
          7.575757575757576
         ],
         "z": [
          0,
          -3.2729241945252103
         ]
        },
        {
         "marker": {
          "color": [
           "blue"
          ],
          "line": {
           "color": "DarkSlateGrey",
           "width": 5
          },
          "size": [
           0,
           5
          ]
         },
         "name": "Vector14",
         "type": "scatter3d",
         "x": [
          0,
          6.597298249772894
         ],
         "y": [
          0,
          7.373737373737374
         ],
         "z": [
          0,
          -1.450397513336312
         ]
        },
        {
         "marker": {
          "color": [
           "blue"
          ],
          "line": {
           "color": "DarkSlateGrey",
           "width": 5
          },
          "size": [
           0,
           5
          ]
         },
         "name": "Vector15",
         "type": "scatter3d",
         "x": [
          0,
          -4.008056847193861
         ],
         "y": [
          0,
          7.171717171717171
         ],
         "z": [
          0,
          5.7010484227516836
         ]
        },
        {
         "marker": {
          "color": [
           "blue"
          ],
          "line": {
           "color": "DarkSlateGrey",
           "width": 5
          },
          "size": [
           0,
           5
          ]
         },
         "name": "Vector16",
         "type": "scatter3d",
         "x": [
          0,
          -0.9215509016145574
         ],
         "y": [
          0,
          6.969696969696971
         ],
         "z": [
          0,
          -7.111544704656666
         ]
        },
        {
         "marker": {
          "color": [
           "blue"
          ],
          "line": {
           "color": "DarkSlateGrey",
           "width": 5
          },
          "size": [
           0,
           5
          ]
         },
         "name": "Vector17",
         "type": "scatter3d",
         "x": [
          0,
          5.629320310676115
         ],
         "y": [
          0,
          6.767676767676766
         ],
         "z": [
          0,
          4.744397117448908
         ]
        },
        {
         "marker": {
          "color": [
           "blue"
          ],
          "line": {
           "color": "DarkSlateGrey",
           "width": 5
          },
          "size": [
           0,
           5
          ]
         },
         "name": "Vector18",
         "type": "scatter3d",
         "x": [
          0,
          -7.53624771987667
         ],
         "y": [
          0,
          6.565656565656566
         ],
         "z": [
          0,
          0.31164750360707605
         ]
        },
        {
         "marker": {
          "color": [
           "blue"
          ],
          "line": {
           "color": "DarkSlateGrey",
           "width": 5
          },
          "size": [
           0,
           5
          ]
         },
         "name": "Vector19",
         "type": "scatter3d",
         "x": [
          0,
          5.467833660637458
         ],
         "y": [
          0,
          6.363636363636363
         ],
         "z": [
          0,
          -5.441224796955639
         ]
        },
        {
         "marker": {
          "color": [
           "blue"
          ],
          "line": {
           "color": "DarkSlateGrey",
           "width": 5
          },
          "size": [
           0,
           5
          ]
         },
         "name": "Vector20",
         "type": "scatter3d",
         "x": [
          0,
          -0.3638129487435007
         ],
         "y": [
          0,
          6.161616161616161
         ],
         "z": [
          0,
          7.867790440475463
         ]
        },
        {
         "marker": {
          "color": [
           "blue"
          ],
          "line": {
           "color": "DarkSlateGrey",
           "width": 5
          },
          "size": [
           0,
           5
          ]
         },
         "name": "Vector21",
         "type": "scatter3d",
         "x": [
          0,
          -5.144986829326802
         ],
         "y": [
          0,
          5.95959595959596
         ],
         "z": [
          0,
          -6.165413735056331
         ]
        },
        {
         "marker": {
          "color": [
           "blue"
          ],
          "line": {
           "color": "DarkSlateGrey",
           "width": 5
          },
          "size": [
           0,
           5
          ]
         },
         "name": "Vector22",
         "type": "scatter3d",
         "x": [
          0,
          8.10318627523005
         ],
         "y": [
          0,
          5.757575757575757
         ],
         "z": [
          0,
          1.090272252558633
         ]
        },
        {
         "marker": {
          "color": [
           "blue"
          ],
          "line": {
           "color": "DarkSlateGrey",
           "width": 5
          },
          "size": [
           0,
           5
          ]
         },
         "name": "Vector23",
         "type": "scatter3d",
         "x": [
          0,
          -6.825268133340844
         ],
         "y": [
          0,
          5.555555555555555
         ],
         "z": [
          0,
          4.748843793718403
         ]
        },
        {
         "marker": {
          "color": [
           "blue"
          ],
          "line": {
           "color": "DarkSlateGrey",
           "width": 5
          },
          "size": [
           0,
           5
          ]
         },
         "name": "Vector24",
         "type": "scatter3d",
         "x": [
          0,
          1.8538012732823734
         ],
         "y": [
          0,
          5.353535353535354
         ],
         "z": [
          0,
          -8.24033252105907
         ]
        },
        {
         "marker": {
          "color": [
           "blue"
          ],
          "line": {
           "color": "DarkSlateGrey",
           "width": 5
          },
          "size": [
           0,
           5
          ]
         },
         "name": "Vector25",
         "type": "scatter3d",
         "x": [
          0,
          4.261332947445106
         ],
         "y": [
          0,
          5.151515151515151
         ],
         "z": [
          0,
          7.436594190536998
         ]
        },
        {
         "marker": {
          "color": [
           "blue"
          ],
          "line": {
           "color": "DarkSlateGrey",
           "width": 5
          },
          "size": [
           0,
           5
          ]
         },
         "name": "Vector26",
         "type": "scatter3d",
         "x": [
          0,
          -8.278154695967782
         ],
         "y": [
          0,
          4.949494949494949
         ],
         "z": [
          0,
          -2.6409571322818834
         ]
        },
        {
         "marker": {
          "color": [
           "blue"
          ],
          "line": {
           "color": "DarkSlateGrey",
           "width": 5
          },
          "size": [
           0,
           5
          ]
         },
         "name": "Vector27",
         "type": "scatter3d",
         "x": [
          0,
          7.989669998181965
         ],
         "y": [
          0,
          4.747474747474747
         ],
         "z": [
          0,
          -3.6914301892681896
         ]
        },
        {
         "marker": {
          "color": [
           "blue"
          ],
          "line": {
           "color": "DarkSlateGrey",
           "width": 5
          },
          "size": [
           0,
           5
          ]
         },
         "name": "Vector28",
         "type": "scatter3d",
         "x": [
          0,
          -3.4387369489002784
         ],
         "y": [
          0,
          4.545454545454546
         ],
         "z": [
          0,
          8.216686142933453
         ]
        },
        {
         "marker": {
          "color": [
           "blue"
          ],
          "line": {
           "color": "DarkSlateGrey",
           "width": 5
          },
          "size": [
           0,
           5
          ]
         },
         "name": "Vector29",
         "type": "scatter3d",
         "x": [
          0,
          -3.0485999243134883
         ],
         "y": [
          0,
          4.343434343434343
         ],
         "z": [
          0,
          -8.475884414369443
         ]
        },
        {
         "marker": {
          "color": [
           "blue"
          ],
          "line": {
           "color": "DarkSlateGrey",
           "width": 5
          },
          "size": [
           0,
           5
          ]
         },
         "name": "Vector30",
         "type": "scatter3d",
         "x": [
          0,
          8.057105364694971
         ],
         "y": [
          0,
          4.141414141414142
         ],
         "z": [
          0,
          4.234588770057667
         ]
        },
        {
         "marker": {
          "color": [
           "blue"
          ],
          "line": {
           "color": "DarkSlateGrey",
           "width": 5
          },
          "size": [
           0,
           5
          ]
         },
         "name": "Vector31",
         "type": "scatter3d",
         "x": [
          0,
          -8.887773463851525
         ],
         "y": [
          0,
          3.9393939393939394
         ],
         "z": [
          0,
          2.3427885618473887
         ]
        },
        {
         "marker": {
          "color": [
           "blue"
          ],
          "line": {
           "color": "DarkSlateGrey",
           "width": 5
          },
          "size": [
           0,
           5
          ]
         },
         "name": "Vector32",
         "type": "scatter3d",
         "x": [
          0,
          5.016456981916779
         ],
         "y": [
          0,
          3.737373737373737
         ],
         "z": [
          0,
          -7.801743195963802
         ]
        },
        {
         "marker": {
          "color": [
           "blue"
          ],
          "line": {
           "color": "DarkSlateGrey",
           "width": 5
          },
          "size": [
           0,
           5
          ]
         },
         "name": "Vector33",
         "type": "scatter3d",
         "x": [
          0,
          1.584380564140349
         ],
         "y": [
          0,
          3.5353535353535346
         ],
         "z": [
          0,
          9.219057088880488
         ]
        },
        {
         "marker": {
          "color": [
           "blue"
          ],
          "line": {
           "color": "DarkSlateGrey",
           "width": 5
          },
          "size": [
           0,
           5
          ]
         },
         "name": "Vector34",
         "type": "scatter3d",
         "x": [
          0,
          -7.454066778203466
         ],
         "y": [
          0,
          3.333333333333334
         ],
         "z": [
          0,
          -5.772848287888075
         ]
        },
        {
         "marker": {
          "color": [
           "blue"
          ],
          "line": {
           "color": "DarkSlateGrey",
           "width": 5
          },
          "size": [
           0,
           5
          ]
         },
         "name": "Vector35",
         "type": "scatter3d",
         "x": [
          0,
          9.464672217388467
         ],
         "y": [
          0,
          3.1313131313131315
         ],
         "z": [
          0,
          -0.7841287464828883
         ]
        },
        {
         "marker": {
          "color": [
           "blue"
          ],
          "line": {
           "color": "DarkSlateGrey",
           "width": 5
          },
          "size": [
           0,
           5
          ]
         },
         "name": "Vector36",
         "type": "scatter3d",
         "x": [
          0,
          -6.492909240678544
         ],
         "y": [
          0,
          2.929292929292929
         ],
         "z": [
          0,
          7.018644636018099
         ]
        },
        {
         "marker": {
          "color": [
           "blue"
          ],
          "line": {
           "color": "DarkSlateGrey",
           "width": 5
          },
          "size": [
           0,
           5
          ]
         },
         "name": "Vector37",
         "type": "scatter3d",
         "x": [
          0,
          0.04693348436698646
         ],
         "y": [
          0,
          2.727272727272727
         ],
         "z": [
          0,
          -9.62079938046312
         ]
        },
        {
         "marker": {
          "color": [
           "blue"
          ],
          "line": {
           "color": "DarkSlateGrey",
           "width": 5
          },
          "size": [
           0,
           5
          ]
         },
         "name": "Vector38",
         "type": "scatter3d",
         "x": [
          0,
          6.501095730811276
         ],
         "y": [
          0,
          2.525252525252525
         ],
         "z": [
          0,
          7.166509190849695
         ]
        },
        {
         "marker": {
          "color": [
           "blue"
          ],
          "line": {
           "color": "DarkSlateGrey",
           "width": 5
          },
          "size": [
           0,
           5
          ]
         },
         "name": "Vector39",
         "type": "scatter3d",
         "x": [
          0,
          -9.684880955101908
         ],
         "y": [
          0,
          2.3232323232323235
         ],
         "z": [
          0,
          -0.8975925900946813
         ]
        },
        {
         "marker": {
          "color": [
           "blue"
          ],
          "line": {
           "color": "DarkSlateGrey",
           "width": 5
          },
          "size": [
           0,
           5
          ]
         },
         "name": "Vector40",
         "type": "scatter3d",
         "x": [
          0,
          7.784324280224146
         ],
         "y": [
          0,
          2.1212121212121215
         ],
         "z": [
          0,
          -5.908024596862779
         ]
        },
        {
         "marker": {
          "color": [
           "blue"
          ],
          "line": {
           "color": "DarkSlateGrey",
           "width": 5
          },
          "size": [
           0,
           5
          ]
         },
         "name": "Vector41",
         "type": "scatter3d",
         "x": [
          0,
          -1.7565640922420143
         ],
         "y": [
          0,
          1.9191919191919193
         ],
         "z": [
          0,
          9.65562970329509
         ]
        },
        {
         "marker": {
          "color": [
           "blue"
          ],
          "line": {
           "color": "DarkSlateGrey",
           "width": 5
          },
          "size": [
           0,
           5
          ]
         },
         "name": "Vector42",
         "type": "scatter3d",
         "x": [
          0,
          -5.24694425012087
         ],
         "y": [
          0,
          1.7171717171717171
         ],
         "z": [
          0,
          -8.337919244623869
         ]
        },
        {
         "marker": {
          "color": [
           "blue"
          ],
          "line": {
           "color": "DarkSlateGrey",
           "width": 5
          },
          "size": [
           0,
           5
          ]
         },
         "name": "Vector43",
         "type": "scatter3d",
         "x": [
          0,
          9.53302672153812
         ],
         "y": [
          0,
          1.515151515151515
         ],
         "z": [
          0,
          2.6126073973282393
         ]
        },
        {
         "marker": {
          "color": [
           "blue"
          ],
          "line": {
           "color": "DarkSlateGrey",
           "width": 5
          },
          "size": [
           0,
           5
          ]
         },
         "name": "Vector44",
         "type": "scatter3d",
         "x": [
          0,
          -8.819824557590271
         ],
         "y": [
          0,
          1.3131313131313127
         ],
         "z": [
          0,
          4.526188344269561
         ]
        },
        {
         "marker": {
          "color": [
           "blue"
          ],
          "line": {
           "color": "DarkSlateGrey",
           "width": 5
          },
          "size": [
           0,
           5
          ]
         },
         "name": "Vector45",
         "type": "scatter3d",
         "x": [
          0,
          3.454643719150054
         ],
         "y": [
          0,
          1.1111111111111116
         ],
         "z": [
          0,
          -9.31830826236729
         ]
        },
        {
         "marker": {
          "color": [
           "blue"
          ],
          "line": {
           "color": "DarkSlateGrey",
           "width": 5
          },
          "size": [
           0,
           5
          ]
         },
         "name": "Vector46",
         "type": "scatter3d",
         "x": [
          0,
          3.754813946348314
         ],
         "y": [
          0,
          0.9090909090909094
         ],
         "z": [
          0,
          9.223606992240967
         ]
        },
        {
         "marker": {
          "color": [
           "blue"
          ],
          "line": {
           "color": "DarkSlateGrey",
           "width": 5
          },
          "size": [
           0,
           5
          ]
         },
         "name": "Vector47",
         "type": "scatter3d",
         "x": [
          0,
          -9.013941175375193
         ],
         "y": [
          0,
          0.7070707070707072
         ],
         "z": [
          0,
          -4.271874939892109
         ]
        },
        {
         "marker": {
          "color": [
           "blue"
          ],
          "line": {
           "color": "DarkSlateGrey",
           "width": 5
          },
          "size": [
           0,
           5
          ]
         },
         "name": "Vector48",
         "type": "scatter3d",
         "x": [
          0,
          9.543932088315646
         ],
         "y": [
          0,
          0.505050505050505
         ],
         "z": [
          0,
          -2.9424962669419314
         ]
        },
        {
         "marker": {
          "color": [
           "blue"
          ],
          "line": {
           "color": "DarkSlateGrey",
           "width": 5
          },
          "size": [
           0,
           5
          ]
         },
         "name": "Vector49",
         "type": "scatter3d",
         "x": [
          0,
          -5.053901519770722
         ],
         "y": [
          0,
          0.30303030303030276
         ],
         "z": [
          0,
          8.623586960418764
         ]
        },
        {
         "marker": {
          "color": [
           "blue"
          ],
          "line": {
           "color": "DarkSlateGrey",
           "width": 5
          },
          "size": [
           0,
           5
          ]
         },
         "name": "Vector50",
         "type": "scatter3d",
         "x": [
          0,
          -2.0994166796485794
         ],
         "y": [
          0,
          0.10101010101010055
         ],
         "z": [
          0,
          -9.776617337541
         ]
        },
        {
         "marker": {
          "color": [
           "blue"
          ],
          "line": {
           "color": "DarkSlateGrey",
           "width": 5
          },
          "size": [
           0,
           5
          ]
         },
         "name": "Vector51",
         "type": "scatter3d",
         "x": [
          0,
          8.152054643909256
         ],
         "y": [
          0,
          -0.10101010101010166
         ],
         "z": [
          0,
          5.790837766870305
         ]
        },
        {
         "marker": {
          "color": [
           "blue"
          ],
          "line": {
           "color": "DarkSlateGrey",
           "width": 5
          },
          "size": [
           0,
           5
          ]
         },
         "name": "Vector52",
         "type": "scatter3d",
         "x": [
          0,
          -9.918675174806253
         ],
         "y": [
          0,
          -0.30303030303030276
         ],
         "z": [
          0,
          1.2361453847050048
         ]
        },
        {
         "marker": {
          "color": [
           "blue"
          ],
          "line": {
           "color": "DarkSlateGrey",
           "width": 5
          },
          "size": [
           0,
           5
          ]
         },
         "name": "Vector53",
         "type": "scatter3d",
         "x": [
          0,
          6.473422941630272
         ],
         "y": [
          0,
          -0.5050505050505061
         ],
         "z": [
          0,
          -7.605242889357521
         ]
        },
        {
         "marker": {
          "color": [
           "blue"
          ],
          "line": {
           "color": "DarkSlateGrey",
           "width": 5
          },
          "size": [
           0,
           5
          ]
         },
         "name": "Vector54",
         "type": "scatter3d",
         "x": [
          0,
          0.36352010274409163
         ],
         "y": [
          0,
          -0.7070707070707072
         ],
         "z": [
          0,
          9.968345105889114
         ]
        },
        {
         "marker": {
          "color": [
           "blue"
          ],
          "line": {
           "color": "DarkSlateGrey",
           "width": 5
          },
          "size": [
           0,
           5
          ]
         },
         "name": "Vector55",
         "type": "scatter3d",
         "x": [
          0,
          -6.990071942575041
         ],
         "y": [
          0,
          -0.9090909090909083
         ],
         "z": [
          0,
          -7.093126810979307
         ]
        },
        {
         "marker": {
          "color": [
           "blue"
          ],
          "line": {
           "color": "DarkSlateGrey",
           "width": 5
          },
          "size": [
           0,
           5
          ]
         },
         "name": "Vector56",
         "type": "scatter3d",
         "x": [
          0,
          9.925114528466924
         ],
         "y": [
          0,
          -1.1111111111111116
         ],
         "z": [
          0,
          0.5074777784102473
         ]
        },
        {
         "marker": {
          "color": [
           "blue"
          ],
          "line": {
           "color": "DarkSlateGrey",
           "width": 5
          },
          "size": [
           0,
           5
          ]
         },
         "name": "Vector57",
         "type": "scatter3d",
         "x": [
          0,
          -7.6422483960345975
         ],
         "y": [
          0,
          -1.3131313131313127
         ],
         "z": [
          0,
          6.314406195976046
         ]
        },
        {
         "marker": {
          "color": [
           "blue"
          ],
          "line": {
           "color": "DarkSlateGrey",
           "width": 5
          },
          "size": [
           0,
           5
          ]
         },
         "name": "Vector58",
         "type": "scatter3d",
         "x": [
          0,
          1.3658481401054057
         ],
         "y": [
          0,
          -1.515151515151516
         ],
         "z": [
          0,
          -9.789728021978172
         ]
        },
        {
         "marker": {
          "color": [
           "blue"
          ],
          "line": {
           "color": "DarkSlateGrey",
           "width": 5
          },
          "size": [
           0,
           5
          ]
         },
         "name": "Vector59",
         "type": "scatter3d",
         "x": [
          0,
          5.586968341301761
         ],
         "y": [
          0,
          -1.7171717171717171
         ],
         "z": [
          0,
          8.114006781303388
         ]
        },
        {
         "marker": {
          "color": [
           "blue"
          ],
          "line": {
           "color": "DarkSlateGrey",
           "width": 5
          },
          "size": [
           0,
           5
          ]
         },
         "name": "Vector60",
         "type": "scatter3d",
         "x": [
          0,
          -9.564185101904323
         ],
         "y": [
          0,
          -1.9191919191919182
         ],
         "z": [
          0,
          -2.200696642842859
         ]
        },
        {
         "marker": {
          "color": [
           "blue"
          ],
          "line": {
           "color": "DarkSlateGrey",
           "width": 5
          },
          "size": [
           0,
           5
          ]
         },
         "name": "Vector61",
         "type": "scatter3d",
         "x": [
          0,
          8.502622976531624
         ],
         "y": [
          0,
          -2.1212121212121215
         ],
         "z": [
          0,
          -4.81724627310866
         ]
        },
        {
         "marker": {
          "color": [
           "blue"
          ],
          "line": {
           "color": "DarkSlateGrey",
           "width": 5
          },
          "size": [
           0,
           5
          ]
         },
         "name": "Vector62",
         "type": "scatter3d",
         "x": [
          0,
          -3.001357245994345
         ],
         "y": [
          0,
          -2.3232323232323226
         ],
         "z": [
          0,
          9.25172666339672
         ]
        },
        {
         "marker": {
          "color": [
           "blue"
          ],
          "line": {
           "color": "DarkSlateGrey",
           "width": 5
          },
          "size": [
           0,
           5
          ]
         },
         "name": "Vector63",
         "type": "scatter3d",
         "x": [
          0,
          -4.015394116545673
         ],
         "y": [
          0,
          -2.525252525252526
         ],
         "z": [
          0,
          -8.803391947000664
         ]
        },
        {
         "marker": {
          "color": [
           "blue"
          ],
          "line": {
           "color": "DarkSlateGrey",
           "width": 5
          },
          "size": [
           0,
           5
          ]
         },
         "name": "Vector64",
         "type": "scatter3d",
         "x": [
          0,
          8.856810587479377
         ],
         "y": [
          0,
          -2.727272727272727
         ],
         "z": [
          0,
          3.7575111029227326
         ]
        },
        {
         "marker": {
          "color": [
           "blue"
          ],
          "line": {
           "color": "DarkSlateGrey",
           "width": 5
          },
          "size": [
           0,
           5
          ]
         },
         "name": "Vector65",
         "type": "scatter3d",
         "x": [
          0,
          -9.01274405499193
         ],
         "y": [
          0,
          -2.9292929292929304
         ],
         "z": [
          0,
          3.1921289970178273
         ]
        },
        {
         "marker": {
          "color": [
           "blue"
          ],
          "line": {
           "color": "DarkSlateGrey",
           "width": 5
          },
          "size": [
           0,
           5
          ]
         },
         "name": "Vector66",
         "type": "scatter3d",
         "x": [
          0,
          4.459300097862065
         ],
         "y": [
          0,
          -3.1313131313131315
         ],
         "z": [
          0,
          -8.385077263261998
         ]
        },
        {
         "marker": {
          "color": [
           "blue"
          ],
          "line": {
           "color": "DarkSlateGrey",
           "width": 5
          },
          "size": [
           0,
           5
          ]
         },
         "name": "Vector67",
         "type": "scatter3d",
         "x": [
          0,
          2.3586254690164377
         ],
         "y": [
          0,
          -3.3333333333333326
         ],
         "z": [
          0,
          9.128295283665832
         ]
        },
        {
         "marker": {
          "color": [
           "blue"
          ],
          "line": {
           "color": "DarkSlateGrey",
           "width": 5
          },
          "size": [
           0,
           5
          ]
         },
         "name": "Vector68",
         "type": "scatter3d",
         "x": [
          0,
          -7.843306110813986
         ],
         "y": [
          0,
          -3.535353535353536
         ],
         "z": [
          0,
          -5.097433141506738
         ]
        },
        {
         "marker": {
          "color": [
           "blue"
          ],
          "line": {
           "color": "DarkSlateGrey",
           "width": 5
          },
          "size": [
           0,
           5
          ]
         },
         "name": "Vector69",
         "type": "scatter3d",
         "x": [
          0,
          9.148885742302104
         ],
         "y": [
          0,
          -3.737373737373737
         ],
         "z": [
          0,
          -1.5264099126677408
         ]
        },
        {
         "marker": {
          "color": [
           "blue"
          ],
          "line": {
           "color": "DarkSlateGrey",
           "width": 5
          },
          "size": [
           0,
           5
          ]
         },
         "name": "Vector70",
         "type": "scatter3d",
         "x": [
          0,
          -5.663283107791219
         ],
         "y": [
          0,
          -3.9393939393939403
         ],
         "z": [
          0,
          7.23936460134955
         ]
        },
        {
         "marker": {
          "color": [
           "blue"
          ],
          "line": {
           "color": "DarkSlateGrey",
           "width": 5
          },
          "size": [
           0,
           5
          ]
         },
         "name": "Vector71",
         "type": "scatter3d",
         "x": [
          0,
          -0.7072577480976395
         ],
         "y": [
          0,
          -4.141414141414142
         ],
         "z": [
          0,
          -9.074606073381412
         ]
        },
        {
         "marker": {
          "color": [
           "blue"
          ],
          "line": {
           "color": "DarkSlateGrey",
           "width": 5
          },
          "size": [
           0,
           5
          ]
         },
         "name": "Vector72",
         "type": "scatter3d",
         "x": [
          0,
          6.582151812328982
         ],
         "y": [
          0,
          -4.3434343434343425
         ],
         "z": [
          0,
          6.148971915997778
         ]
        },
        {
         "marker": {
          "color": [
           "blue"
          ],
          "line": {
           "color": "DarkSlateGrey",
           "width": 5
          },
          "size": [
           0,
           5
          ]
         },
         "name": "Vector73",
         "type": "scatter3d",
         "x": [
          0,
          -8.906811486863097
         ],
         "y": [
          0,
          -4.545454545454546
         ],
         "z": [
          0,
          -0.08690289230056056
         ]
        },
        {
         "marker": {
          "color": [
           "blue"
          ],
          "line": {
           "color": "DarkSlateGrey",
           "width": 5
          },
          "size": [
           0,
           5
          ]
         },
         "name": "Vector74",
         "type": "scatter3d",
         "x": [
          0,
          6.547440638983667
         ],
         "y": [
          0,
          -4.747474747474747
         ],
         "z": [
          0,
          -5.881539305409319
         ]
        },
        {
         "marker": {
          "color": [
           "blue"
          ],
          "line": {
           "color": "DarkSlateGrey",
           "width": 5
          },
          "size": [
           0,
           5
          ]
         },
         "name": "Vector75",
         "type": "scatter3d",
         "x": [
          0,
          -0.844076185990376
         ],
         "y": [
          0,
          -4.94949494949495
         ],
         "z": [
          0,
          8.648123214730925
         ]
        },
        {
         "marker": {
          "color": [
           "blue"
          ],
          "line": {
           "color": "DarkSlateGrey",
           "width": 5
          },
          "size": [
           0,
           5
          ]
         },
         "name": "Vector76",
         "type": "scatter3d",
         "x": [
          0,
          -5.148313213466435
         ],
         "y": [
          0,
          -5.151515151515151
         ],
         "z": [
          0,
          -6.852500470613391
         ]
        },
        {
         "marker": {
          "color": [
           "blue"
          ],
          "line": {
           "color": "DarkSlateGrey",
           "width": 5
          },
          "size": [
           0,
           5
          ]
         },
         "name": "Vector77",
         "type": "scatter3d",
         "x": [
          0,
          8.30241716863267
         ],
         "y": [
          0,
          -5.353535353535353
         ],
         "z": [
          0,
          1.5522655624733093
         ]
        },
        {
         "marker": {
          "color": [
           "blue"
          ],
          "line": {
           "color": "DarkSlateGrey",
           "width": 5
          },
          "size": [
           0,
           5
          ]
         },
         "name": "Vector78",
         "type": "scatter3d",
         "x": [
          0,
          -7.058858583876281
         ],
         "y": [
          0,
          -5.555555555555555
         ],
         "z": [
          0,
          4.3941231163876076
         ]
        },
        {
         "marker": {
          "color": [
           "blue"
          ],
          "line": {
           "color": "DarkSlateGrey",
           "width": 5
          },
          "size": [
           0,
           5
          ]
         },
         "name": "Vector79",
         "type": "scatter3d",
         "x": [
          0,
          2.1995125879639565
         ],
         "y": [
          0,
          -5.757575757575757
         ],
         "z": [
          0,
          -7.874799411487511
         ]
        },
        {
         "marker": {
          "color": [
           "blue"
          ],
          "line": {
           "color": "DarkSlateGrey",
           "width": 5
          },
          "size": [
           0,
           5
          ]
         },
         "name": "Vector80",
         "type": "scatter3d",
         "x": [
          0,
          3.63144603299816
         ],
         "y": [
          0,
          -5.95959595959596
         ],
         "z": [
          0,
          7.162109724640459
         ]
        },
        {
         "marker": {
          "color": [
           "blue"
          ],
          "line": {
           "color": "DarkSlateGrey",
           "width": 5
          },
          "size": [
           0,
           5
          ]
         },
         "name": "Vector81",
         "type": "scatter3d",
         "x": [
          0,
          -7.37156754174631
         ],
         "y": [
          0,
          -6.161616161616161
         ],
         "z": [
          0,
          -2.773892257169119
         ]
        },
        {
         "marker": {
          "color": [
           "blue"
          ],
          "line": {
           "color": "DarkSlateGrey",
           "width": 5
          },
          "size": [
           0,
           5
          ]
         },
         "name": "Vector82",
         "type": "scatter3d",
         "x": [
          0,
          7.158678547352051
         ],
         "y": [
          0,
          -6.363636363636365
         ],
         "z": [
          0,
          -2.873578550707542
         ]
        },
        {
         "marker": {
          "color": [
           "blue"
          ],
          "line": {
           "color": "DarkSlateGrey",
           "width": 5
          },
          "size": [
           0,
           5
          ]
         },
         "name": "Vector83",
         "type": "scatter3d",
         "x": [
          0,
          -3.263439050896584
         ],
         "y": [
          0,
          -6.565656565656566
         ],
         "z": [
          0,
          6.80015583813592
         ]
        },
        {
         "marker": {
          "color": [
           "blue"
          ],
          "line": {
           "color": "DarkSlateGrey",
           "width": 5
          },
          "size": [
           0,
           5
          ]
         },
         "name": "Vector84",
         "type": "scatter3d",
         "x": [
          0,
          -2.134678587671022
         ],
         "y": [
          0,
          -6.767676767676766
         ],
         "z": [
          0,
          -7.045686516982358
         ]
        },
        {
         "marker": {
          "color": [
           "blue"
          ],
          "line": {
           "color": "DarkSlateGrey",
           "width": 5
          },
          "size": [
           0,
           5
          ]
         },
         "name": "Vector85",
         "type": "scatter3d",
         "x": [
          0,
          6.169059083366061
         ],
         "y": [
          0,
          -6.969696969696971
         ],
         "z": [
          0,
          3.6559587219408756
         ]
        },
        {
         "marker": {
          "color": [
           "blue"
          ],
          "line": {
           "color": "DarkSlateGrey",
           "width": 5
          },
          "size": [
           0,
           5
          ]
         },
         "name": "Vector86",
         "type": "scatter3d",
         "x": [
          0,
          -6.820694567402481
         ],
         "y": [
          0,
          -7.171717171717171
         ],
         "z": [
          0,
          1.4298945510433072
         ]
        },
        {
         "marker": {
          "color": [
           "blue"
          ],
          "line": {
           "color": "DarkSlateGrey",
           "width": 5
          },
          "size": [
           0,
           5
          ]
         },
         "name": "Vector87",
         "type": "scatter3d",
         "x": [
          0,
          3.9386410565593444
         ],
         "y": [
          0,
          -7.373737373737375
         ],
         "z": [
          0,
          -5.487723004191606
         ]
        },
        {
         "marker": {
          "color": [
           "blue"
          ],
          "line": {
           "color": "DarkSlateGrey",
           "width": 5
          },
          "size": [
           0,
           5
          ]
         },
         "name": "Vector88",
         "type": "scatter3d",
         "x": [
          0,
          0.7756532525223453
         ],
         "y": [
          0,
          -7.575757575757576
         ],
         "z": [
          0,
          6.481223587039966
         ]
        },
        {
         "marker": {
          "color": [
           "blue"
          ],
          "line": {
           "color": "DarkSlateGrey",
           "width": 5
          },
          "size": [
           0,
           5
          ]
         },
         "name": "Vector89",
         "type": "scatter3d",
         "x": [
          0,
          -4.766371704744871
         ],
         "y": [
          0,
          -7.777777777777777
         ],
         "z": [
          0,
          -4.097300771448646
         ]
        },
        {
         "marker": {
          "color": [
           "blue"
          ],
          "line": {
           "color": "DarkSlateGrey",
           "width": 5
          },
          "size": [
           0,
           5
          ]
         },
         "name": "Vector90",
         "type": "scatter3d",
         "x": [
          0,
          6.023838283936479
         ],
         "y": [
          0,
          -7.97979797979798
         ],
         "z": [
          0,
          -0.1902538582875318
         ]
        },
        {
         "marker": {
          "color": [
           "blue"
          ],
          "line": {
           "color": "DarkSlateGrey",
           "width": 5
          },
          "size": [
           0,
           5
          ]
         },
         "name": "Vector91",
         "type": "scatter3d",
         "x": [
          0,
          -4.114857305574174
         ],
         "y": [
          0,
          -8.181818181818182
         ],
         "z": [
          0,
          4.015694285479447
         ]
        },
        {
         "marker": {
          "color": [
           "blue"
          ],
          "line": {
           "color": "DarkSlateGrey",
           "width": 5
          },
          "size": [
           0,
           5
          ]
         },
         "name": "Vector92",
         "type": "scatter3d",
         "x": [
          0,
          0.3048921500037185
         ],
         "y": [
          0,
          -8.383838383838384
         ],
         "z": [
          0,
          -5.442269262958632
         ]
        },
        {
         "marker": {
          "color": [
           "blue"
          ],
          "line": {
           "color": "DarkSlateGrey",
           "width": 5
          },
          "size": [
           0,
           5
          ]
         },
         "name": "Vector93",
         "type": "scatter3d",
         "x": [
          0,
          3.246162708335984
         ],
         "y": [
          0,
          -8.585858585858585
         ],
         "z": [
          0,
          3.9680549409814376
         ]
        },
        {
         "marker": {
          "color": [
           "blue"
          ],
          "line": {
           "color": "DarkSlateGrey",
           "width": 5
          },
          "size": [
           0,
           5
          ]
         },
         "name": "Vector94",
         "type": "scatter3d",
         "x": [
          0,
          -4.723074498870043
         ],
         "y": [
          0,
          -8.787878787878789
         ],
         "z": [
          0,
          -0.6824614917147549
         ]
        },
        {
         "marker": {
          "color": [
           "blue"
          ],
          "line": {
           "color": "DarkSlateGrey",
           "width": 5
          },
          "size": [
           0,
           5
          ]
         },
         "name": "Vector95",
         "type": "scatter3d",
         "x": [
          0,
          3.619341490546967
         ],
         "y": [
          0,
          -8.98989898989899
         ],
         "z": [
          0,
          -2.466188015180185
         ]
        },
        {
         "marker": {
          "color": [
           "blue"
          ],
          "line": {
           "color": "DarkSlateGrey",
           "width": 5
          },
          "size": [
           0,
           5
          ]
         },
         "name": "Vector96",
         "type": "scatter3d",
         "x": [
          0,
          -0.901783128003129
         ],
         "y": [
          0,
          -9.19191919191919
         ],
         "z": [
          0,
          3.8334591114653276
         ]
        },
        {
         "marker": {
          "color": [
           "blue"
          ],
          "line": {
           "color": "DarkSlateGrey",
           "width": 5
          },
          "size": [
           0,
           5
          ]
         },
         "name": "Vector97",
         "type": "scatter3d",
         "x": [
          0,
          -1.6754301826617048
         ],
         "y": [
          0,
          -9.393939393939394
         ],
         "z": [
          0,
          -2.991126270490721
         ]
        },
        {
         "marker": {
          "color": [
           "blue"
          ],
          "line": {
           "color": "DarkSlateGrey",
           "width": 5
          },
          "size": [
           0,
           5
          ]
         },
         "name": "Vector98",
         "type": "scatter3d",
         "x": [
          0,
          2.6722305411035965
         ],
         "y": [
          0,
          -9.595959595959595
         ],
         "z": [
          0,
          0.8813304532944116
         ]
        },
        {
         "marker": {
          "color": [
           "blue"
          ],
          "line": {
           "color": "DarkSlateGrey",
           "width": 5
          },
          "size": [
           0,
           5
          ]
         },
         "name": "Vector99",
         "type": "scatter3d",
         "x": [
          0,
          -1.8235869564294316
         ],
         "y": [
          0,
          -9.7979797979798
         ],
         "z": [
          0,
          0.8210496274404979
         ]
        },
        {
         "marker": {
          "color": [
           "blue"
          ],
          "line": {
           "color": "DarkSlateGrey",
           "width": 5
          },
          "size": [
           0,
           5
          ]
         },
         "name": "Vector100",
         "type": "scatter3d",
         "x": [
          0,
          0
         ],
         "y": [
          0,
          -1
         ],
         "z": [
          0,
          0
         ]
        }
       ],
       "layout": {
        "margin": {
         "b": 4,
         "l": 4,
         "r": 4,
         "t": 4
        },
        "template": {
         "data": {
          "bar": [
           {
            "error_x": {
             "color": "#2a3f5f"
            },
            "error_y": {
             "color": "#2a3f5f"
            },
            "marker": {
             "line": {
              "color": "#E5ECF6",
              "width": 0.5
             },
             "pattern": {
              "fillmode": "overlay",
              "size": 10,
              "solidity": 0.2
             }
            },
            "type": "bar"
           }
          ],
          "barpolar": [
           {
            "marker": {
             "line": {
              "color": "#E5ECF6",
              "width": 0.5
             },
             "pattern": {
              "fillmode": "overlay",
              "size": 10,
              "solidity": 0.2
             }
            },
            "type": "barpolar"
           }
          ],
          "carpet": [
           {
            "aaxis": {
             "endlinecolor": "#2a3f5f",
             "gridcolor": "white",
             "linecolor": "white",
             "minorgridcolor": "white",
             "startlinecolor": "#2a3f5f"
            },
            "baxis": {
             "endlinecolor": "#2a3f5f",
             "gridcolor": "white",
             "linecolor": "white",
             "minorgridcolor": "white",
             "startlinecolor": "#2a3f5f"
            },
            "type": "carpet"
           }
          ],
          "choropleth": [
           {
            "colorbar": {
             "outlinewidth": 0,
             "ticks": ""
            },
            "type": "choropleth"
           }
          ],
          "contour": [
           {
            "colorbar": {
             "outlinewidth": 0,
             "ticks": ""
            },
            "colorscale": [
             [
              0,
              "#0d0887"
             ],
             [
              0.1111111111111111,
              "#46039f"
             ],
             [
              0.2222222222222222,
              "#7201a8"
             ],
             [
              0.3333333333333333,
              "#9c179e"
             ],
             [
              0.4444444444444444,
              "#bd3786"
             ],
             [
              0.5555555555555556,
              "#d8576b"
             ],
             [
              0.6666666666666666,
              "#ed7953"
             ],
             [
              0.7777777777777778,
              "#fb9f3a"
             ],
             [
              0.8888888888888888,
              "#fdca26"
             ],
             [
              1,
              "#f0f921"
             ]
            ],
            "type": "contour"
           }
          ],
          "contourcarpet": [
           {
            "colorbar": {
             "outlinewidth": 0,
             "ticks": ""
            },
            "type": "contourcarpet"
           }
          ],
          "heatmap": [
           {
            "colorbar": {
             "outlinewidth": 0,
             "ticks": ""
            },
            "colorscale": [
             [
              0,
              "#0d0887"
             ],
             [
              0.1111111111111111,
              "#46039f"
             ],
             [
              0.2222222222222222,
              "#7201a8"
             ],
             [
              0.3333333333333333,
              "#9c179e"
             ],
             [
              0.4444444444444444,
              "#bd3786"
             ],
             [
              0.5555555555555556,
              "#d8576b"
             ],
             [
              0.6666666666666666,
              "#ed7953"
             ],
             [
              0.7777777777777778,
              "#fb9f3a"
             ],
             [
              0.8888888888888888,
              "#fdca26"
             ],
             [
              1,
              "#f0f921"
             ]
            ],
            "type": "heatmap"
           }
          ],
          "heatmapgl": [
           {
            "colorbar": {
             "outlinewidth": 0,
             "ticks": ""
            },
            "colorscale": [
             [
              0,
              "#0d0887"
             ],
             [
              0.1111111111111111,
              "#46039f"
             ],
             [
              0.2222222222222222,
              "#7201a8"
             ],
             [
              0.3333333333333333,
              "#9c179e"
             ],
             [
              0.4444444444444444,
              "#bd3786"
             ],
             [
              0.5555555555555556,
              "#d8576b"
             ],
             [
              0.6666666666666666,
              "#ed7953"
             ],
             [
              0.7777777777777778,
              "#fb9f3a"
             ],
             [
              0.8888888888888888,
              "#fdca26"
             ],
             [
              1,
              "#f0f921"
             ]
            ],
            "type": "heatmapgl"
           }
          ],
          "histogram": [
           {
            "marker": {
             "pattern": {
              "fillmode": "overlay",
              "size": 10,
              "solidity": 0.2
             }
            },
            "type": "histogram"
           }
          ],
          "histogram2d": [
           {
            "colorbar": {
             "outlinewidth": 0,
             "ticks": ""
            },
            "colorscale": [
             [
              0,
              "#0d0887"
             ],
             [
              0.1111111111111111,
              "#46039f"
             ],
             [
              0.2222222222222222,
              "#7201a8"
             ],
             [
              0.3333333333333333,
              "#9c179e"
             ],
             [
              0.4444444444444444,
              "#bd3786"
             ],
             [
              0.5555555555555556,
              "#d8576b"
             ],
             [
              0.6666666666666666,
              "#ed7953"
             ],
             [
              0.7777777777777778,
              "#fb9f3a"
             ],
             [
              0.8888888888888888,
              "#fdca26"
             ],
             [
              1,
              "#f0f921"
             ]
            ],
            "type": "histogram2d"
           }
          ],
          "histogram2dcontour": [
           {
            "colorbar": {
             "outlinewidth": 0,
             "ticks": ""
            },
            "colorscale": [
             [
              0,
              "#0d0887"
             ],
             [
              0.1111111111111111,
              "#46039f"
             ],
             [
              0.2222222222222222,
              "#7201a8"
             ],
             [
              0.3333333333333333,
              "#9c179e"
             ],
             [
              0.4444444444444444,
              "#bd3786"
             ],
             [
              0.5555555555555556,
              "#d8576b"
             ],
             [
              0.6666666666666666,
              "#ed7953"
             ],
             [
              0.7777777777777778,
              "#fb9f3a"
             ],
             [
              0.8888888888888888,
              "#fdca26"
             ],
             [
              1,
              "#f0f921"
             ]
            ],
            "type": "histogram2dcontour"
           }
          ],
          "mesh3d": [
           {
            "colorbar": {
             "outlinewidth": 0,
             "ticks": ""
            },
            "type": "mesh3d"
           }
          ],
          "parcoords": [
           {
            "line": {
             "colorbar": {
              "outlinewidth": 0,
              "ticks": ""
             }
            },
            "type": "parcoords"
           }
          ],
          "pie": [
           {
            "automargin": true,
            "type": "pie"
           }
          ],
          "scatter": [
           {
            "marker": {
             "colorbar": {
              "outlinewidth": 0,
              "ticks": ""
             }
            },
            "type": "scatter"
           }
          ],
          "scatter3d": [
           {
            "line": {
             "colorbar": {
              "outlinewidth": 0,
              "ticks": ""
             }
            },
            "marker": {
             "colorbar": {
              "outlinewidth": 0,
              "ticks": ""
             }
            },
            "type": "scatter3d"
           }
          ],
          "scattercarpet": [
           {
            "marker": {
             "colorbar": {
              "outlinewidth": 0,
              "ticks": ""
             }
            },
            "type": "scattercarpet"
           }
          ],
          "scattergeo": [
           {
            "marker": {
             "colorbar": {
              "outlinewidth": 0,
              "ticks": ""
             }
            },
            "type": "scattergeo"
           }
          ],
          "scattergl": [
           {
            "marker": {
             "colorbar": {
              "outlinewidth": 0,
              "ticks": ""
             }
            },
            "type": "scattergl"
           }
          ],
          "scattermapbox": [
           {
            "marker": {
             "colorbar": {
              "outlinewidth": 0,
              "ticks": ""
             }
            },
            "type": "scattermapbox"
           }
          ],
          "scatterpolar": [
           {
            "marker": {
             "colorbar": {
              "outlinewidth": 0,
              "ticks": ""
             }
            },
            "type": "scatterpolar"
           }
          ],
          "scatterpolargl": [
           {
            "marker": {
             "colorbar": {
              "outlinewidth": 0,
              "ticks": ""
             }
            },
            "type": "scatterpolargl"
           }
          ],
          "scatterternary": [
           {
            "marker": {
             "colorbar": {
              "outlinewidth": 0,
              "ticks": ""
             }
            },
            "type": "scatterternary"
           }
          ],
          "surface": [
           {
            "colorbar": {
             "outlinewidth": 0,
             "ticks": ""
            },
            "colorscale": [
             [
              0,
              "#0d0887"
             ],
             [
              0.1111111111111111,
              "#46039f"
             ],
             [
              0.2222222222222222,
              "#7201a8"
             ],
             [
              0.3333333333333333,
              "#9c179e"
             ],
             [
              0.4444444444444444,
              "#bd3786"
             ],
             [
              0.5555555555555556,
              "#d8576b"
             ],
             [
              0.6666666666666666,
              "#ed7953"
             ],
             [
              0.7777777777777778,
              "#fb9f3a"
             ],
             [
              0.8888888888888888,
              "#fdca26"
             ],
             [
              1,
              "#f0f921"
             ]
            ],
            "type": "surface"
           }
          ],
          "table": [
           {
            "cells": {
             "fill": {
              "color": "#EBF0F8"
             },
             "line": {
              "color": "white"
             }
            },
            "header": {
             "fill": {
              "color": "#C8D4E3"
             },
             "line": {
              "color": "white"
             }
            },
            "type": "table"
           }
          ]
         },
         "layout": {
          "annotationdefaults": {
           "arrowcolor": "#2a3f5f",
           "arrowhead": 0,
           "arrowwidth": 1
          },
          "autotypenumbers": "strict",
          "coloraxis": {
           "colorbar": {
            "outlinewidth": 0,
            "ticks": ""
           }
          },
          "colorscale": {
           "diverging": [
            [
             0,
             "#8e0152"
            ],
            [
             0.1,
             "#c51b7d"
            ],
            [
             0.2,
             "#de77ae"
            ],
            [
             0.3,
             "#f1b6da"
            ],
            [
             0.4,
             "#fde0ef"
            ],
            [
             0.5,
             "#f7f7f7"
            ],
            [
             0.6,
             "#e6f5d0"
            ],
            [
             0.7,
             "#b8e186"
            ],
            [
             0.8,
             "#7fbc41"
            ],
            [
             0.9,
             "#4d9221"
            ],
            [
             1,
             "#276419"
            ]
           ],
           "sequential": [
            [
             0,
             "#0d0887"
            ],
            [
             0.1111111111111111,
             "#46039f"
            ],
            [
             0.2222222222222222,
             "#7201a8"
            ],
            [
             0.3333333333333333,
             "#9c179e"
            ],
            [
             0.4444444444444444,
             "#bd3786"
            ],
            [
             0.5555555555555556,
             "#d8576b"
            ],
            [
             0.6666666666666666,
             "#ed7953"
            ],
            [
             0.7777777777777778,
             "#fb9f3a"
            ],
            [
             0.8888888888888888,
             "#fdca26"
            ],
            [
             1,
             "#f0f921"
            ]
           ],
           "sequentialminus": [
            [
             0,
             "#0d0887"
            ],
            [
             0.1111111111111111,
             "#46039f"
            ],
            [
             0.2222222222222222,
             "#7201a8"
            ],
            [
             0.3333333333333333,
             "#9c179e"
            ],
            [
             0.4444444444444444,
             "#bd3786"
            ],
            [
             0.5555555555555556,
             "#d8576b"
            ],
            [
             0.6666666666666666,
             "#ed7953"
            ],
            [
             0.7777777777777778,
             "#fb9f3a"
            ],
            [
             0.8888888888888888,
             "#fdca26"
            ],
            [
             1,
             "#f0f921"
            ]
           ]
          },
          "colorway": [
           "#636efa",
           "#EF553B",
           "#00cc96",
           "#ab63fa",
           "#FFA15A",
           "#19d3f3",
           "#FF6692",
           "#B6E880",
           "#FF97FF",
           "#FECB52"
          ],
          "font": {
           "color": "#2a3f5f"
          },
          "geo": {
           "bgcolor": "white",
           "lakecolor": "white",
           "landcolor": "#E5ECF6",
           "showlakes": true,
           "showland": true,
           "subunitcolor": "white"
          },
          "hoverlabel": {
           "align": "left"
          },
          "hovermode": "closest",
          "mapbox": {
           "style": "light"
          },
          "paper_bgcolor": "white",
          "plot_bgcolor": "#E5ECF6",
          "polar": {
           "angularaxis": {
            "gridcolor": "white",
            "linecolor": "white",
            "ticks": ""
           },
           "bgcolor": "#E5ECF6",
           "radialaxis": {
            "gridcolor": "white",
            "linecolor": "white",
            "ticks": ""
           }
          },
          "scene": {
           "xaxis": {
            "backgroundcolor": "#E5ECF6",
            "gridcolor": "white",
            "gridwidth": 2,
            "linecolor": "white",
            "showbackground": true,
            "ticks": "",
            "zerolinecolor": "white"
           },
           "yaxis": {
            "backgroundcolor": "#E5ECF6",
            "gridcolor": "white",
            "gridwidth": 2,
            "linecolor": "white",
            "showbackground": true,
            "ticks": "",
            "zerolinecolor": "white"
           },
           "zaxis": {
            "backgroundcolor": "#E5ECF6",
            "gridcolor": "white",
            "gridwidth": 2,
            "linecolor": "white",
            "showbackground": true,
            "ticks": "",
            "zerolinecolor": "white"
           }
          },
          "shapedefaults": {
           "line": {
            "color": "#2a3f5f"
           }
          },
          "ternary": {
           "aaxis": {
            "gridcolor": "white",
            "linecolor": "white",
            "ticks": ""
           },
           "baxis": {
            "gridcolor": "white",
            "linecolor": "white",
            "ticks": ""
           },
           "bgcolor": "#E5ECF6",
           "caxis": {
            "gridcolor": "white",
            "linecolor": "white",
            "ticks": ""
           }
          },
          "title": {
           "x": 0.05
          },
          "xaxis": {
           "automargin": true,
           "gridcolor": "white",
           "linecolor": "white",
           "ticks": "",
           "title": {
            "standoff": 15
           },
           "zerolinecolor": "white",
           "zerolinewidth": 2
          },
          "yaxis": {
           "automargin": true,
           "gridcolor": "white",
           "linecolor": "white",
           "ticks": "",
           "title": {
            "standoff": 15
           },
           "zerolinecolor": "white",
           "zerolinewidth": 2
          }
         }
        }
       }
      },
      "text/html": [
       "<div>                            <div id=\"fb57092c-e7e2-471a-9a2e-6fd6030d2699\" class=\"plotly-graph-div\" style=\"height:525px; width:100%;\"></div>            <script type=\"text/javascript\">                require([\"plotly\"], function(Plotly) {                    window.PLOTLYENV=window.PLOTLYENV || {};                                    if (document.getElementById(\"fb57092c-e7e2-471a-9a2e-6fd6030d2699\")) {                    Plotly.newPlot(                        \"fb57092c-e7e2-471a-9a2e-6fd6030d2699\",                        [{\"marker\":{\"color\":[\"blue\"],\"line\":{\"color\":\"DarkSlateGrey\",\"width\":5},\"size\":[0,5]},\"name\":\"Vector1\",\"type\":\"scatter3d\",\"x\":[0,0.0],\"y\":[0,10.0],\"z\":[0,0.0]},{\"marker\":{\"color\":[\"blue\"],\"line\":{\"color\":\"DarkSlateGrey\",\"width\":5},\"size\":[0,5]},\"name\":\"Vector2\",\"type\":\"scatter3d\",\"x\":[0,-1.4746625201921926],\"y\":[0,9.797979797979798],\"z\":[0,1.3509116662166227]},{\"marker\":{\"color\":[\"blue\"],\"line\":{\"color\":\"DarkSlateGrey\",\"width\":5},\"size\":[0,5]},\"name\":\"Vector3\",\"type\":\"scatter3d\",\"x\":[0,0.24599988672162226],\"y\":[0,9.595959595959595],\"z\":[0,-2.803041827808479]},{\"marker\":{\"color\":[\"blue\"],\"line\":{\"color\":\"DarkSlateGrey\",\"width\":5},\"size\":[0,5]},\"name\":\"Vector4\",\"type\":\"scatter3d\",\"x\":[0,2.085969670475504],\"y\":[0,9.393939393939394],\"z\":[0,2.7207780499059235]},{\"marker\":{\"color\":[\"blue\"],\"line\":{\"color\":\"DarkSlateGrey\",\"width\":5},\"size\":[0,5]},\"name\":\"Vector5\",\"type\":\"scatter3d\",\"x\":[0,-3.8778989211836534],\"y\":[0,9.191919191919192],\"z\":[0,-0.6859457167373212]},{\"marker\":{\"color\":[\"blue\"],\"line\":{\"color\":\"DarkSlateGrey\",\"width\":5},\"size\":[0,5]},\"name\":\"Vector6\",\"type\":\"scatter3d\",\"x\":[0,3.695389676362656],\"y\":[0,8.98989898989899],\"z\":[0,-2.3507044244748045]},{\"marker\":{\"color\":[\"blue\"],\"line\":{\"color\":\"DarkSlateGrey\",\"width\":5},\"size\":[0,5]},\"name\":\"Vector7\",\"type\":\"scatter3d\",\"x\":[0,-1.2388644490434448],\"y\":[0,8.787878787878787],\"z\":[0,4.60851399981017]},{\"marker\":{\"color\":[\"blue\"],\"line\":{\"color\":\"DarkSlateGrey\",\"width\":5},\"size\":[0,5]},\"name\":\"Vector8\",\"type\":\"scatter3d\",\"x\":[0,-2.362931120005442],\"y\":[0,8.585858585858585],\"z\":[0,-4.549680083890321]},{\"marker\":{\"color\":[\"blue\"],\"line\":{\"color\":\"DarkSlateGrey\",\"width\":5},\"size\":[0,5]},\"name\":\"Vector9\",\"type\":\"scatter3d\",\"x\":[0,5.1200553924297365],\"y\":[0,8.383838383838384],\"z\":[0,1.8698360174436122]},{\"marker\":{\"color\":[\"blue\"],\"line\":{\"color\":\"DarkSlateGrey\",\"width\":5},\"size\":[0,5]},\"name\":\"Vector10\",\"type\":\"scatter3d\",\"x\":[0,-5.314613277182722],\"y\":[0,8.181818181818182],\"z\":[0,2.193795102935222]},{\"marker\":{\"color\":[\"blue\"],\"line\":{\"color\":\"DarkSlateGrey\",\"width\":5},\"size\":[0,5]},\"name\":\"Vector11\",\"type\":\"scatter3d\",\"x\":[0,2.554452834241677],\"y\":[0,7.97979797979798],\"z\":[0,-5.458717332784941]},{\"marker\":{\"color\":[\"blue\"],\"line\":{\"color\":\"DarkSlateGrey\",\"width\":5},\"size\":[0,5]},\"name\":\"Vector12\",\"type\":\"scatter3d\",\"x\":[0,1.8811168893216454],\"y\":[0,7.777777777777778],\"z\":[0,5.997297065196539]},{\"marker\":{\"color\":[\"blue\"],\"line\":{\"color\":\"DarkSlateGrey\",\"width\":5},\"size\":[0,5]},\"name\":\"Vector13\",\"type\":\"scatter3d\",\"x\":[0,-5.647642372728926],\"y\":[0,7.575757575757576],\"z\":[0,-3.2729241945252103]},{\"marker\":{\"color\":[\"blue\"],\"line\":{\"color\":\"DarkSlateGrey\",\"width\":5},\"size\":[0,5]},\"name\":\"Vector14\",\"type\":\"scatter3d\",\"x\":[0,6.597298249772894],\"y\":[0,7.373737373737374],\"z\":[0,-1.450397513336312]},{\"marker\":{\"color\":[\"blue\"],\"line\":{\"color\":\"DarkSlateGrey\",\"width\":5},\"size\":[0,5]},\"name\":\"Vector15\",\"type\":\"scatter3d\",\"x\":[0,-4.008056847193861],\"y\":[0,7.171717171717171],\"z\":[0,5.7010484227516836]},{\"marker\":{\"color\":[\"blue\"],\"line\":{\"color\":\"DarkSlateGrey\",\"width\":5},\"size\":[0,5]},\"name\":\"Vector16\",\"type\":\"scatter3d\",\"x\":[0,-0.9215509016145574],\"y\":[0,6.969696969696971],\"z\":[0,-7.111544704656666]},{\"marker\":{\"color\":[\"blue\"],\"line\":{\"color\":\"DarkSlateGrey\",\"width\":5},\"size\":[0,5]},\"name\":\"Vector17\",\"type\":\"scatter3d\",\"x\":[0,5.629320310676115],\"y\":[0,6.767676767676766],\"z\":[0,4.744397117448908]},{\"marker\":{\"color\":[\"blue\"],\"line\":{\"color\":\"DarkSlateGrey\",\"width\":5},\"size\":[0,5]},\"name\":\"Vector18\",\"type\":\"scatter3d\",\"x\":[0,-7.53624771987667],\"y\":[0,6.565656565656566],\"z\":[0,0.31164750360707605]},{\"marker\":{\"color\":[\"blue\"],\"line\":{\"color\":\"DarkSlateGrey\",\"width\":5},\"size\":[0,5]},\"name\":\"Vector19\",\"type\":\"scatter3d\",\"x\":[0,5.467833660637458],\"y\":[0,6.363636363636363],\"z\":[0,-5.441224796955639]},{\"marker\":{\"color\":[\"blue\"],\"line\":{\"color\":\"DarkSlateGrey\",\"width\":5},\"size\":[0,5]},\"name\":\"Vector20\",\"type\":\"scatter3d\",\"x\":[0,-0.3638129487435007],\"y\":[0,6.161616161616161],\"z\":[0,7.867790440475463]},{\"marker\":{\"color\":[\"blue\"],\"line\":{\"color\":\"DarkSlateGrey\",\"width\":5},\"size\":[0,5]},\"name\":\"Vector21\",\"type\":\"scatter3d\",\"x\":[0,-5.144986829326802],\"y\":[0,5.95959595959596],\"z\":[0,-6.165413735056331]},{\"marker\":{\"color\":[\"blue\"],\"line\":{\"color\":\"DarkSlateGrey\",\"width\":5},\"size\":[0,5]},\"name\":\"Vector22\",\"type\":\"scatter3d\",\"x\":[0,8.10318627523005],\"y\":[0,5.757575757575757],\"z\":[0,1.090272252558633]},{\"marker\":{\"color\":[\"blue\"],\"line\":{\"color\":\"DarkSlateGrey\",\"width\":5},\"size\":[0,5]},\"name\":\"Vector23\",\"type\":\"scatter3d\",\"x\":[0,-6.825268133340844],\"y\":[0,5.555555555555555],\"z\":[0,4.748843793718403]},{\"marker\":{\"color\":[\"blue\"],\"line\":{\"color\":\"DarkSlateGrey\",\"width\":5},\"size\":[0,5]},\"name\":\"Vector24\",\"type\":\"scatter3d\",\"x\":[0,1.8538012732823734],\"y\":[0,5.353535353535354],\"z\":[0,-8.24033252105907]},{\"marker\":{\"color\":[\"blue\"],\"line\":{\"color\":\"DarkSlateGrey\",\"width\":5},\"size\":[0,5]},\"name\":\"Vector25\",\"type\":\"scatter3d\",\"x\":[0,4.261332947445106],\"y\":[0,5.151515151515151],\"z\":[0,7.436594190536998]},{\"marker\":{\"color\":[\"blue\"],\"line\":{\"color\":\"DarkSlateGrey\",\"width\":5},\"size\":[0,5]},\"name\":\"Vector26\",\"type\":\"scatter3d\",\"x\":[0,-8.278154695967782],\"y\":[0,4.949494949494949],\"z\":[0,-2.6409571322818834]},{\"marker\":{\"color\":[\"blue\"],\"line\":{\"color\":\"DarkSlateGrey\",\"width\":5},\"size\":[0,5]},\"name\":\"Vector27\",\"type\":\"scatter3d\",\"x\":[0,7.989669998181965],\"y\":[0,4.747474747474747],\"z\":[0,-3.6914301892681896]},{\"marker\":{\"color\":[\"blue\"],\"line\":{\"color\":\"DarkSlateGrey\",\"width\":5},\"size\":[0,5]},\"name\":\"Vector28\",\"type\":\"scatter3d\",\"x\":[0,-3.4387369489002784],\"y\":[0,4.545454545454546],\"z\":[0,8.216686142933453]},{\"marker\":{\"color\":[\"blue\"],\"line\":{\"color\":\"DarkSlateGrey\",\"width\":5},\"size\":[0,5]},\"name\":\"Vector29\",\"type\":\"scatter3d\",\"x\":[0,-3.0485999243134883],\"y\":[0,4.343434343434343],\"z\":[0,-8.475884414369443]},{\"marker\":{\"color\":[\"blue\"],\"line\":{\"color\":\"DarkSlateGrey\",\"width\":5},\"size\":[0,5]},\"name\":\"Vector30\",\"type\":\"scatter3d\",\"x\":[0,8.057105364694971],\"y\":[0,4.141414141414142],\"z\":[0,4.234588770057667]},{\"marker\":{\"color\":[\"blue\"],\"line\":{\"color\":\"DarkSlateGrey\",\"width\":5},\"size\":[0,5]},\"name\":\"Vector31\",\"type\":\"scatter3d\",\"x\":[0,-8.887773463851525],\"y\":[0,3.9393939393939394],\"z\":[0,2.3427885618473887]},{\"marker\":{\"color\":[\"blue\"],\"line\":{\"color\":\"DarkSlateGrey\",\"width\":5},\"size\":[0,5]},\"name\":\"Vector32\",\"type\":\"scatter3d\",\"x\":[0,5.016456981916779],\"y\":[0,3.737373737373737],\"z\":[0,-7.801743195963802]},{\"marker\":{\"color\":[\"blue\"],\"line\":{\"color\":\"DarkSlateGrey\",\"width\":5},\"size\":[0,5]},\"name\":\"Vector33\",\"type\":\"scatter3d\",\"x\":[0,1.584380564140349],\"y\":[0,3.5353535353535346],\"z\":[0,9.219057088880488]},{\"marker\":{\"color\":[\"blue\"],\"line\":{\"color\":\"DarkSlateGrey\",\"width\":5},\"size\":[0,5]},\"name\":\"Vector34\",\"type\":\"scatter3d\",\"x\":[0,-7.454066778203466],\"y\":[0,3.333333333333334],\"z\":[0,-5.772848287888075]},{\"marker\":{\"color\":[\"blue\"],\"line\":{\"color\":\"DarkSlateGrey\",\"width\":5},\"size\":[0,5]},\"name\":\"Vector35\",\"type\":\"scatter3d\",\"x\":[0,9.464672217388467],\"y\":[0,3.1313131313131315],\"z\":[0,-0.7841287464828883]},{\"marker\":{\"color\":[\"blue\"],\"line\":{\"color\":\"DarkSlateGrey\",\"width\":5},\"size\":[0,5]},\"name\":\"Vector36\",\"type\":\"scatter3d\",\"x\":[0,-6.492909240678544],\"y\":[0,2.929292929292929],\"z\":[0,7.018644636018099]},{\"marker\":{\"color\":[\"blue\"],\"line\":{\"color\":\"DarkSlateGrey\",\"width\":5},\"size\":[0,5]},\"name\":\"Vector37\",\"type\":\"scatter3d\",\"x\":[0,0.04693348436698646],\"y\":[0,2.727272727272727],\"z\":[0,-9.62079938046312]},{\"marker\":{\"color\":[\"blue\"],\"line\":{\"color\":\"DarkSlateGrey\",\"width\":5},\"size\":[0,5]},\"name\":\"Vector38\",\"type\":\"scatter3d\",\"x\":[0,6.501095730811276],\"y\":[0,2.525252525252525],\"z\":[0,7.166509190849695]},{\"marker\":{\"color\":[\"blue\"],\"line\":{\"color\":\"DarkSlateGrey\",\"width\":5},\"size\":[0,5]},\"name\":\"Vector39\",\"type\":\"scatter3d\",\"x\":[0,-9.684880955101908],\"y\":[0,2.3232323232323235],\"z\":[0,-0.8975925900946813]},{\"marker\":{\"color\":[\"blue\"],\"line\":{\"color\":\"DarkSlateGrey\",\"width\":5},\"size\":[0,5]},\"name\":\"Vector40\",\"type\":\"scatter3d\",\"x\":[0,7.784324280224146],\"y\":[0,2.1212121212121215],\"z\":[0,-5.908024596862779]},{\"marker\":{\"color\":[\"blue\"],\"line\":{\"color\":\"DarkSlateGrey\",\"width\":5},\"size\":[0,5]},\"name\":\"Vector41\",\"type\":\"scatter3d\",\"x\":[0,-1.7565640922420143],\"y\":[0,1.9191919191919193],\"z\":[0,9.65562970329509]},{\"marker\":{\"color\":[\"blue\"],\"line\":{\"color\":\"DarkSlateGrey\",\"width\":5},\"size\":[0,5]},\"name\":\"Vector42\",\"type\":\"scatter3d\",\"x\":[0,-5.24694425012087],\"y\":[0,1.7171717171717171],\"z\":[0,-8.337919244623869]},{\"marker\":{\"color\":[\"blue\"],\"line\":{\"color\":\"DarkSlateGrey\",\"width\":5},\"size\":[0,5]},\"name\":\"Vector43\",\"type\":\"scatter3d\",\"x\":[0,9.53302672153812],\"y\":[0,1.515151515151515],\"z\":[0,2.6126073973282393]},{\"marker\":{\"color\":[\"blue\"],\"line\":{\"color\":\"DarkSlateGrey\",\"width\":5},\"size\":[0,5]},\"name\":\"Vector44\",\"type\":\"scatter3d\",\"x\":[0,-8.819824557590271],\"y\":[0,1.3131313131313127],\"z\":[0,4.526188344269561]},{\"marker\":{\"color\":[\"blue\"],\"line\":{\"color\":\"DarkSlateGrey\",\"width\":5},\"size\":[0,5]},\"name\":\"Vector45\",\"type\":\"scatter3d\",\"x\":[0,3.454643719150054],\"y\":[0,1.1111111111111116],\"z\":[0,-9.31830826236729]},{\"marker\":{\"color\":[\"blue\"],\"line\":{\"color\":\"DarkSlateGrey\",\"width\":5},\"size\":[0,5]},\"name\":\"Vector46\",\"type\":\"scatter3d\",\"x\":[0,3.754813946348314],\"y\":[0,0.9090909090909094],\"z\":[0,9.223606992240967]},{\"marker\":{\"color\":[\"blue\"],\"line\":{\"color\":\"DarkSlateGrey\",\"width\":5},\"size\":[0,5]},\"name\":\"Vector47\",\"type\":\"scatter3d\",\"x\":[0,-9.013941175375193],\"y\":[0,0.7070707070707072],\"z\":[0,-4.271874939892109]},{\"marker\":{\"color\":[\"blue\"],\"line\":{\"color\":\"DarkSlateGrey\",\"width\":5},\"size\":[0,5]},\"name\":\"Vector48\",\"type\":\"scatter3d\",\"x\":[0,9.543932088315646],\"y\":[0,0.505050505050505],\"z\":[0,-2.9424962669419314]},{\"marker\":{\"color\":[\"blue\"],\"line\":{\"color\":\"DarkSlateGrey\",\"width\":5},\"size\":[0,5]},\"name\":\"Vector49\",\"type\":\"scatter3d\",\"x\":[0,-5.053901519770722],\"y\":[0,0.30303030303030276],\"z\":[0,8.623586960418764]},{\"marker\":{\"color\":[\"blue\"],\"line\":{\"color\":\"DarkSlateGrey\",\"width\":5},\"size\":[0,5]},\"name\":\"Vector50\",\"type\":\"scatter3d\",\"x\":[0,-2.0994166796485794],\"y\":[0,0.10101010101010055],\"z\":[0,-9.776617337541]},{\"marker\":{\"color\":[\"blue\"],\"line\":{\"color\":\"DarkSlateGrey\",\"width\":5},\"size\":[0,5]},\"name\":\"Vector51\",\"type\":\"scatter3d\",\"x\":[0,8.152054643909256],\"y\":[0,-0.10101010101010166],\"z\":[0,5.790837766870305]},{\"marker\":{\"color\":[\"blue\"],\"line\":{\"color\":\"DarkSlateGrey\",\"width\":5},\"size\":[0,5]},\"name\":\"Vector52\",\"type\":\"scatter3d\",\"x\":[0,-9.918675174806253],\"y\":[0,-0.30303030303030276],\"z\":[0,1.2361453847050048]},{\"marker\":{\"color\":[\"blue\"],\"line\":{\"color\":\"DarkSlateGrey\",\"width\":5},\"size\":[0,5]},\"name\":\"Vector53\",\"type\":\"scatter3d\",\"x\":[0,6.473422941630272],\"y\":[0,-0.5050505050505061],\"z\":[0,-7.605242889357521]},{\"marker\":{\"color\":[\"blue\"],\"line\":{\"color\":\"DarkSlateGrey\",\"width\":5},\"size\":[0,5]},\"name\":\"Vector54\",\"type\":\"scatter3d\",\"x\":[0,0.36352010274409163],\"y\":[0,-0.7070707070707072],\"z\":[0,9.968345105889114]},{\"marker\":{\"color\":[\"blue\"],\"line\":{\"color\":\"DarkSlateGrey\",\"width\":5},\"size\":[0,5]},\"name\":\"Vector55\",\"type\":\"scatter3d\",\"x\":[0,-6.990071942575041],\"y\":[0,-0.9090909090909083],\"z\":[0,-7.093126810979307]},{\"marker\":{\"color\":[\"blue\"],\"line\":{\"color\":\"DarkSlateGrey\",\"width\":5},\"size\":[0,5]},\"name\":\"Vector56\",\"type\":\"scatter3d\",\"x\":[0,9.925114528466924],\"y\":[0,-1.1111111111111116],\"z\":[0,0.5074777784102473]},{\"marker\":{\"color\":[\"blue\"],\"line\":{\"color\":\"DarkSlateGrey\",\"width\":5},\"size\":[0,5]},\"name\":\"Vector57\",\"type\":\"scatter3d\",\"x\":[0,-7.6422483960345975],\"y\":[0,-1.3131313131313127],\"z\":[0,6.314406195976046]},{\"marker\":{\"color\":[\"blue\"],\"line\":{\"color\":\"DarkSlateGrey\",\"width\":5},\"size\":[0,5]},\"name\":\"Vector58\",\"type\":\"scatter3d\",\"x\":[0,1.3658481401054057],\"y\":[0,-1.515151515151516],\"z\":[0,-9.789728021978172]},{\"marker\":{\"color\":[\"blue\"],\"line\":{\"color\":\"DarkSlateGrey\",\"width\":5},\"size\":[0,5]},\"name\":\"Vector59\",\"type\":\"scatter3d\",\"x\":[0,5.586968341301761],\"y\":[0,-1.7171717171717171],\"z\":[0,8.114006781303388]},{\"marker\":{\"color\":[\"blue\"],\"line\":{\"color\":\"DarkSlateGrey\",\"width\":5},\"size\":[0,5]},\"name\":\"Vector60\",\"type\":\"scatter3d\",\"x\":[0,-9.564185101904323],\"y\":[0,-1.9191919191919182],\"z\":[0,-2.200696642842859]},{\"marker\":{\"color\":[\"blue\"],\"line\":{\"color\":\"DarkSlateGrey\",\"width\":5},\"size\":[0,5]},\"name\":\"Vector61\",\"type\":\"scatter3d\",\"x\":[0,8.502622976531624],\"y\":[0,-2.1212121212121215],\"z\":[0,-4.81724627310866]},{\"marker\":{\"color\":[\"blue\"],\"line\":{\"color\":\"DarkSlateGrey\",\"width\":5},\"size\":[0,5]},\"name\":\"Vector62\",\"type\":\"scatter3d\",\"x\":[0,-3.001357245994345],\"y\":[0,-2.3232323232323226],\"z\":[0,9.25172666339672]},{\"marker\":{\"color\":[\"blue\"],\"line\":{\"color\":\"DarkSlateGrey\",\"width\":5},\"size\":[0,5]},\"name\":\"Vector63\",\"type\":\"scatter3d\",\"x\":[0,-4.015394116545673],\"y\":[0,-2.525252525252526],\"z\":[0,-8.803391947000664]},{\"marker\":{\"color\":[\"blue\"],\"line\":{\"color\":\"DarkSlateGrey\",\"width\":5},\"size\":[0,5]},\"name\":\"Vector64\",\"type\":\"scatter3d\",\"x\":[0,8.856810587479377],\"y\":[0,-2.727272727272727],\"z\":[0,3.7575111029227326]},{\"marker\":{\"color\":[\"blue\"],\"line\":{\"color\":\"DarkSlateGrey\",\"width\":5},\"size\":[0,5]},\"name\":\"Vector65\",\"type\":\"scatter3d\",\"x\":[0,-9.01274405499193],\"y\":[0,-2.9292929292929304],\"z\":[0,3.1921289970178273]},{\"marker\":{\"color\":[\"blue\"],\"line\":{\"color\":\"DarkSlateGrey\",\"width\":5},\"size\":[0,5]},\"name\":\"Vector66\",\"type\":\"scatter3d\",\"x\":[0,4.459300097862065],\"y\":[0,-3.1313131313131315],\"z\":[0,-8.385077263261998]},{\"marker\":{\"color\":[\"blue\"],\"line\":{\"color\":\"DarkSlateGrey\",\"width\":5},\"size\":[0,5]},\"name\":\"Vector67\",\"type\":\"scatter3d\",\"x\":[0,2.3586254690164377],\"y\":[0,-3.3333333333333326],\"z\":[0,9.128295283665832]},{\"marker\":{\"color\":[\"blue\"],\"line\":{\"color\":\"DarkSlateGrey\",\"width\":5},\"size\":[0,5]},\"name\":\"Vector68\",\"type\":\"scatter3d\",\"x\":[0,-7.843306110813986],\"y\":[0,-3.535353535353536],\"z\":[0,-5.097433141506738]},{\"marker\":{\"color\":[\"blue\"],\"line\":{\"color\":\"DarkSlateGrey\",\"width\":5},\"size\":[0,5]},\"name\":\"Vector69\",\"type\":\"scatter3d\",\"x\":[0,9.148885742302104],\"y\":[0,-3.737373737373737],\"z\":[0,-1.5264099126677408]},{\"marker\":{\"color\":[\"blue\"],\"line\":{\"color\":\"DarkSlateGrey\",\"width\":5},\"size\":[0,5]},\"name\":\"Vector70\",\"type\":\"scatter3d\",\"x\":[0,-5.663283107791219],\"y\":[0,-3.9393939393939403],\"z\":[0,7.23936460134955]},{\"marker\":{\"color\":[\"blue\"],\"line\":{\"color\":\"DarkSlateGrey\",\"width\":5},\"size\":[0,5]},\"name\":\"Vector71\",\"type\":\"scatter3d\",\"x\":[0,-0.7072577480976395],\"y\":[0,-4.141414141414142],\"z\":[0,-9.074606073381412]},{\"marker\":{\"color\":[\"blue\"],\"line\":{\"color\":\"DarkSlateGrey\",\"width\":5},\"size\":[0,5]},\"name\":\"Vector72\",\"type\":\"scatter3d\",\"x\":[0,6.582151812328982],\"y\":[0,-4.3434343434343425],\"z\":[0,6.148971915997778]},{\"marker\":{\"color\":[\"blue\"],\"line\":{\"color\":\"DarkSlateGrey\",\"width\":5},\"size\":[0,5]},\"name\":\"Vector73\",\"type\":\"scatter3d\",\"x\":[0,-8.906811486863097],\"y\":[0,-4.545454545454546],\"z\":[0,-0.08690289230056056]},{\"marker\":{\"color\":[\"blue\"],\"line\":{\"color\":\"DarkSlateGrey\",\"width\":5},\"size\":[0,5]},\"name\":\"Vector74\",\"type\":\"scatter3d\",\"x\":[0,6.547440638983667],\"y\":[0,-4.747474747474747],\"z\":[0,-5.881539305409319]},{\"marker\":{\"color\":[\"blue\"],\"line\":{\"color\":\"DarkSlateGrey\",\"width\":5},\"size\":[0,5]},\"name\":\"Vector75\",\"type\":\"scatter3d\",\"x\":[0,-0.844076185990376],\"y\":[0,-4.94949494949495],\"z\":[0,8.648123214730925]},{\"marker\":{\"color\":[\"blue\"],\"line\":{\"color\":\"DarkSlateGrey\",\"width\":5},\"size\":[0,5]},\"name\":\"Vector76\",\"type\":\"scatter3d\",\"x\":[0,-5.148313213466435],\"y\":[0,-5.151515151515151],\"z\":[0,-6.852500470613391]},{\"marker\":{\"color\":[\"blue\"],\"line\":{\"color\":\"DarkSlateGrey\",\"width\":5},\"size\":[0,5]},\"name\":\"Vector77\",\"type\":\"scatter3d\",\"x\":[0,8.30241716863267],\"y\":[0,-5.353535353535353],\"z\":[0,1.5522655624733093]},{\"marker\":{\"color\":[\"blue\"],\"line\":{\"color\":\"DarkSlateGrey\",\"width\":5},\"size\":[0,5]},\"name\":\"Vector78\",\"type\":\"scatter3d\",\"x\":[0,-7.058858583876281],\"y\":[0,-5.555555555555555],\"z\":[0,4.3941231163876076]},{\"marker\":{\"color\":[\"blue\"],\"line\":{\"color\":\"DarkSlateGrey\",\"width\":5},\"size\":[0,5]},\"name\":\"Vector79\",\"type\":\"scatter3d\",\"x\":[0,2.1995125879639565],\"y\":[0,-5.757575757575757],\"z\":[0,-7.874799411487511]},{\"marker\":{\"color\":[\"blue\"],\"line\":{\"color\":\"DarkSlateGrey\",\"width\":5},\"size\":[0,5]},\"name\":\"Vector80\",\"type\":\"scatter3d\",\"x\":[0,3.63144603299816],\"y\":[0,-5.95959595959596],\"z\":[0,7.162109724640459]},{\"marker\":{\"color\":[\"blue\"],\"line\":{\"color\":\"DarkSlateGrey\",\"width\":5},\"size\":[0,5]},\"name\":\"Vector81\",\"type\":\"scatter3d\",\"x\":[0,-7.37156754174631],\"y\":[0,-6.161616161616161],\"z\":[0,-2.773892257169119]},{\"marker\":{\"color\":[\"blue\"],\"line\":{\"color\":\"DarkSlateGrey\",\"width\":5},\"size\":[0,5]},\"name\":\"Vector82\",\"type\":\"scatter3d\",\"x\":[0,7.158678547352051],\"y\":[0,-6.363636363636365],\"z\":[0,-2.873578550707542]},{\"marker\":{\"color\":[\"blue\"],\"line\":{\"color\":\"DarkSlateGrey\",\"width\":5},\"size\":[0,5]},\"name\":\"Vector83\",\"type\":\"scatter3d\",\"x\":[0,-3.263439050896584],\"y\":[0,-6.565656565656566],\"z\":[0,6.80015583813592]},{\"marker\":{\"color\":[\"blue\"],\"line\":{\"color\":\"DarkSlateGrey\",\"width\":5},\"size\":[0,5]},\"name\":\"Vector84\",\"type\":\"scatter3d\",\"x\":[0,-2.134678587671022],\"y\":[0,-6.767676767676766],\"z\":[0,-7.045686516982358]},{\"marker\":{\"color\":[\"blue\"],\"line\":{\"color\":\"DarkSlateGrey\",\"width\":5},\"size\":[0,5]},\"name\":\"Vector85\",\"type\":\"scatter3d\",\"x\":[0,6.169059083366061],\"y\":[0,-6.969696969696971],\"z\":[0,3.6559587219408756]},{\"marker\":{\"color\":[\"blue\"],\"line\":{\"color\":\"DarkSlateGrey\",\"width\":5},\"size\":[0,5]},\"name\":\"Vector86\",\"type\":\"scatter3d\",\"x\":[0,-6.820694567402481],\"y\":[0,-7.171717171717171],\"z\":[0,1.4298945510433072]},{\"marker\":{\"color\":[\"blue\"],\"line\":{\"color\":\"DarkSlateGrey\",\"width\":5},\"size\":[0,5]},\"name\":\"Vector87\",\"type\":\"scatter3d\",\"x\":[0,3.9386410565593444],\"y\":[0,-7.373737373737375],\"z\":[0,-5.487723004191606]},{\"marker\":{\"color\":[\"blue\"],\"line\":{\"color\":\"DarkSlateGrey\",\"width\":5},\"size\":[0,5]},\"name\":\"Vector88\",\"type\":\"scatter3d\",\"x\":[0,0.7756532525223453],\"y\":[0,-7.575757575757576],\"z\":[0,6.481223587039966]},{\"marker\":{\"color\":[\"blue\"],\"line\":{\"color\":\"DarkSlateGrey\",\"width\":5},\"size\":[0,5]},\"name\":\"Vector89\",\"type\":\"scatter3d\",\"x\":[0,-4.766371704744871],\"y\":[0,-7.777777777777777],\"z\":[0,-4.097300771448646]},{\"marker\":{\"color\":[\"blue\"],\"line\":{\"color\":\"DarkSlateGrey\",\"width\":5},\"size\":[0,5]},\"name\":\"Vector90\",\"type\":\"scatter3d\",\"x\":[0,6.023838283936479],\"y\":[0,-7.97979797979798],\"z\":[0,-0.1902538582875318]},{\"marker\":{\"color\":[\"blue\"],\"line\":{\"color\":\"DarkSlateGrey\",\"width\":5},\"size\":[0,5]},\"name\":\"Vector91\",\"type\":\"scatter3d\",\"x\":[0,-4.114857305574174],\"y\":[0,-8.181818181818182],\"z\":[0,4.015694285479447]},{\"marker\":{\"color\":[\"blue\"],\"line\":{\"color\":\"DarkSlateGrey\",\"width\":5},\"size\":[0,5]},\"name\":\"Vector92\",\"type\":\"scatter3d\",\"x\":[0,0.3048921500037185],\"y\":[0,-8.383838383838384],\"z\":[0,-5.442269262958632]},{\"marker\":{\"color\":[\"blue\"],\"line\":{\"color\":\"DarkSlateGrey\",\"width\":5},\"size\":[0,5]},\"name\":\"Vector93\",\"type\":\"scatter3d\",\"x\":[0,3.246162708335984],\"y\":[0,-8.585858585858585],\"z\":[0,3.9680549409814376]},{\"marker\":{\"color\":[\"blue\"],\"line\":{\"color\":\"DarkSlateGrey\",\"width\":5},\"size\":[0,5]},\"name\":\"Vector94\",\"type\":\"scatter3d\",\"x\":[0,-4.723074498870043],\"y\":[0,-8.787878787878789],\"z\":[0,-0.6824614917147549]},{\"marker\":{\"color\":[\"blue\"],\"line\":{\"color\":\"DarkSlateGrey\",\"width\":5},\"size\":[0,5]},\"name\":\"Vector95\",\"type\":\"scatter3d\",\"x\":[0,3.619341490546967],\"y\":[0,-8.98989898989899],\"z\":[0,-2.466188015180185]},{\"marker\":{\"color\":[\"blue\"],\"line\":{\"color\":\"DarkSlateGrey\",\"width\":5},\"size\":[0,5]},\"name\":\"Vector96\",\"type\":\"scatter3d\",\"x\":[0,-0.901783128003129],\"y\":[0,-9.19191919191919],\"z\":[0,3.8334591114653276]},{\"marker\":{\"color\":[\"blue\"],\"line\":{\"color\":\"DarkSlateGrey\",\"width\":5},\"size\":[0,5]},\"name\":\"Vector97\",\"type\":\"scatter3d\",\"x\":[0,-1.6754301826617048],\"y\":[0,-9.393939393939394],\"z\":[0,-2.991126270490721]},{\"marker\":{\"color\":[\"blue\"],\"line\":{\"color\":\"DarkSlateGrey\",\"width\":5},\"size\":[0,5]},\"name\":\"Vector98\",\"type\":\"scatter3d\",\"x\":[0,2.6722305411035965],\"y\":[0,-9.595959595959595],\"z\":[0,0.8813304532944116]},{\"marker\":{\"color\":[\"blue\"],\"line\":{\"color\":\"DarkSlateGrey\",\"width\":5},\"size\":[0,5]},\"name\":\"Vector99\",\"type\":\"scatter3d\",\"x\":[0,-1.8235869564294316],\"y\":[0,-9.7979797979798],\"z\":[0,0.8210496274404979]},{\"marker\":{\"color\":[\"blue\"],\"line\":{\"color\":\"DarkSlateGrey\",\"width\":5},\"size\":[0,5]},\"name\":\"Vector100\",\"type\":\"scatter3d\",\"x\":[0,0.0],\"y\":[0,-1.0],\"z\":[0,0.0]}],                        {\"margin\":{\"b\":4,\"l\":4,\"r\":4,\"t\":4},\"template\":{\"data\":{\"bar\":[{\"error_x\":{\"color\":\"#2a3f5f\"},\"error_y\":{\"color\":\"#2a3f5f\"},\"marker\":{\"line\":{\"color\":\"#E5ECF6\",\"width\":0.5},\"pattern\":{\"fillmode\":\"overlay\",\"size\":10,\"solidity\":0.2}},\"type\":\"bar\"}],\"barpolar\":[{\"marker\":{\"line\":{\"color\":\"#E5ECF6\",\"width\":0.5},\"pattern\":{\"fillmode\":\"overlay\",\"size\":10,\"solidity\":0.2}},\"type\":\"barpolar\"}],\"carpet\":[{\"aaxis\":{\"endlinecolor\":\"#2a3f5f\",\"gridcolor\":\"white\",\"linecolor\":\"white\",\"minorgridcolor\":\"white\",\"startlinecolor\":\"#2a3f5f\"},\"baxis\":{\"endlinecolor\":\"#2a3f5f\",\"gridcolor\":\"white\",\"linecolor\":\"white\",\"minorgridcolor\":\"white\",\"startlinecolor\":\"#2a3f5f\"},\"type\":\"carpet\"}],\"choropleth\":[{\"colorbar\":{\"outlinewidth\":0,\"ticks\":\"\"},\"type\":\"choropleth\"}],\"contour\":[{\"colorbar\":{\"outlinewidth\":0,\"ticks\":\"\"},\"colorscale\":[[0.0,\"#0d0887\"],[0.1111111111111111,\"#46039f\"],[0.2222222222222222,\"#7201a8\"],[0.3333333333333333,\"#9c179e\"],[0.4444444444444444,\"#bd3786\"],[0.5555555555555556,\"#d8576b\"],[0.6666666666666666,\"#ed7953\"],[0.7777777777777778,\"#fb9f3a\"],[0.8888888888888888,\"#fdca26\"],[1.0,\"#f0f921\"]],\"type\":\"contour\"}],\"contourcarpet\":[{\"colorbar\":{\"outlinewidth\":0,\"ticks\":\"\"},\"type\":\"contourcarpet\"}],\"heatmap\":[{\"colorbar\":{\"outlinewidth\":0,\"ticks\":\"\"},\"colorscale\":[[0.0,\"#0d0887\"],[0.1111111111111111,\"#46039f\"],[0.2222222222222222,\"#7201a8\"],[0.3333333333333333,\"#9c179e\"],[0.4444444444444444,\"#bd3786\"],[0.5555555555555556,\"#d8576b\"],[0.6666666666666666,\"#ed7953\"],[0.7777777777777778,\"#fb9f3a\"],[0.8888888888888888,\"#fdca26\"],[1.0,\"#f0f921\"]],\"type\":\"heatmap\"}],\"heatmapgl\":[{\"colorbar\":{\"outlinewidth\":0,\"ticks\":\"\"},\"colorscale\":[[0.0,\"#0d0887\"],[0.1111111111111111,\"#46039f\"],[0.2222222222222222,\"#7201a8\"],[0.3333333333333333,\"#9c179e\"],[0.4444444444444444,\"#bd3786\"],[0.5555555555555556,\"#d8576b\"],[0.6666666666666666,\"#ed7953\"],[0.7777777777777778,\"#fb9f3a\"],[0.8888888888888888,\"#fdca26\"],[1.0,\"#f0f921\"]],\"type\":\"heatmapgl\"}],\"histogram\":[{\"marker\":{\"pattern\":{\"fillmode\":\"overlay\",\"size\":10,\"solidity\":0.2}},\"type\":\"histogram\"}],\"histogram2d\":[{\"colorbar\":{\"outlinewidth\":0,\"ticks\":\"\"},\"colorscale\":[[0.0,\"#0d0887\"],[0.1111111111111111,\"#46039f\"],[0.2222222222222222,\"#7201a8\"],[0.3333333333333333,\"#9c179e\"],[0.4444444444444444,\"#bd3786\"],[0.5555555555555556,\"#d8576b\"],[0.6666666666666666,\"#ed7953\"],[0.7777777777777778,\"#fb9f3a\"],[0.8888888888888888,\"#fdca26\"],[1.0,\"#f0f921\"]],\"type\":\"histogram2d\"}],\"histogram2dcontour\":[{\"colorbar\":{\"outlinewidth\":0,\"ticks\":\"\"},\"colorscale\":[[0.0,\"#0d0887\"],[0.1111111111111111,\"#46039f\"],[0.2222222222222222,\"#7201a8\"],[0.3333333333333333,\"#9c179e\"],[0.4444444444444444,\"#bd3786\"],[0.5555555555555556,\"#d8576b\"],[0.6666666666666666,\"#ed7953\"],[0.7777777777777778,\"#fb9f3a\"],[0.8888888888888888,\"#fdca26\"],[1.0,\"#f0f921\"]],\"type\":\"histogram2dcontour\"}],\"mesh3d\":[{\"colorbar\":{\"outlinewidth\":0,\"ticks\":\"\"},\"type\":\"mesh3d\"}],\"parcoords\":[{\"line\":{\"colorbar\":{\"outlinewidth\":0,\"ticks\":\"\"}},\"type\":\"parcoords\"}],\"pie\":[{\"automargin\":true,\"type\":\"pie\"}],\"scatter\":[{\"marker\":{\"colorbar\":{\"outlinewidth\":0,\"ticks\":\"\"}},\"type\":\"scatter\"}],\"scatter3d\":[{\"line\":{\"colorbar\":{\"outlinewidth\":0,\"ticks\":\"\"}},\"marker\":{\"colorbar\":{\"outlinewidth\":0,\"ticks\":\"\"}},\"type\":\"scatter3d\"}],\"scattercarpet\":[{\"marker\":{\"colorbar\":{\"outlinewidth\":0,\"ticks\":\"\"}},\"type\":\"scattercarpet\"}],\"scattergeo\":[{\"marker\":{\"colorbar\":{\"outlinewidth\":0,\"ticks\":\"\"}},\"type\":\"scattergeo\"}],\"scattergl\":[{\"marker\":{\"colorbar\":{\"outlinewidth\":0,\"ticks\":\"\"}},\"type\":\"scattergl\"}],\"scattermapbox\":[{\"marker\":{\"colorbar\":{\"outlinewidth\":0,\"ticks\":\"\"}},\"type\":\"scattermapbox\"}],\"scatterpolar\":[{\"marker\":{\"colorbar\":{\"outlinewidth\":0,\"ticks\":\"\"}},\"type\":\"scatterpolar\"}],\"scatterpolargl\":[{\"marker\":{\"colorbar\":{\"outlinewidth\":0,\"ticks\":\"\"}},\"type\":\"scatterpolargl\"}],\"scatterternary\":[{\"marker\":{\"colorbar\":{\"outlinewidth\":0,\"ticks\":\"\"}},\"type\":\"scatterternary\"}],\"surface\":[{\"colorbar\":{\"outlinewidth\":0,\"ticks\":\"\"},\"colorscale\":[[0.0,\"#0d0887\"],[0.1111111111111111,\"#46039f\"],[0.2222222222222222,\"#7201a8\"],[0.3333333333333333,\"#9c179e\"],[0.4444444444444444,\"#bd3786\"],[0.5555555555555556,\"#d8576b\"],[0.6666666666666666,\"#ed7953\"],[0.7777777777777778,\"#fb9f3a\"],[0.8888888888888888,\"#fdca26\"],[1.0,\"#f0f921\"]],\"type\":\"surface\"}],\"table\":[{\"cells\":{\"fill\":{\"color\":\"#EBF0F8\"},\"line\":{\"color\":\"white\"}},\"header\":{\"fill\":{\"color\":\"#C8D4E3\"},\"line\":{\"color\":\"white\"}},\"type\":\"table\"}]},\"layout\":{\"annotationdefaults\":{\"arrowcolor\":\"#2a3f5f\",\"arrowhead\":0,\"arrowwidth\":1},\"autotypenumbers\":\"strict\",\"coloraxis\":{\"colorbar\":{\"outlinewidth\":0,\"ticks\":\"\"}},\"colorscale\":{\"diverging\":[[0,\"#8e0152\"],[0.1,\"#c51b7d\"],[0.2,\"#de77ae\"],[0.3,\"#f1b6da\"],[0.4,\"#fde0ef\"],[0.5,\"#f7f7f7\"],[0.6,\"#e6f5d0\"],[0.7,\"#b8e186\"],[0.8,\"#7fbc41\"],[0.9,\"#4d9221\"],[1,\"#276419\"]],\"sequential\":[[0.0,\"#0d0887\"],[0.1111111111111111,\"#46039f\"],[0.2222222222222222,\"#7201a8\"],[0.3333333333333333,\"#9c179e\"],[0.4444444444444444,\"#bd3786\"],[0.5555555555555556,\"#d8576b\"],[0.6666666666666666,\"#ed7953\"],[0.7777777777777778,\"#fb9f3a\"],[0.8888888888888888,\"#fdca26\"],[1.0,\"#f0f921\"]],\"sequentialminus\":[[0.0,\"#0d0887\"],[0.1111111111111111,\"#46039f\"],[0.2222222222222222,\"#7201a8\"],[0.3333333333333333,\"#9c179e\"],[0.4444444444444444,\"#bd3786\"],[0.5555555555555556,\"#d8576b\"],[0.6666666666666666,\"#ed7953\"],[0.7777777777777778,\"#fb9f3a\"],[0.8888888888888888,\"#fdca26\"],[1.0,\"#f0f921\"]]},\"colorway\":[\"#636efa\",\"#EF553B\",\"#00cc96\",\"#ab63fa\",\"#FFA15A\",\"#19d3f3\",\"#FF6692\",\"#B6E880\",\"#FF97FF\",\"#FECB52\"],\"font\":{\"color\":\"#2a3f5f\"},\"geo\":{\"bgcolor\":\"white\",\"lakecolor\":\"white\",\"landcolor\":\"#E5ECF6\",\"showlakes\":true,\"showland\":true,\"subunitcolor\":\"white\"},\"hoverlabel\":{\"align\":\"left\"},\"hovermode\":\"closest\",\"mapbox\":{\"style\":\"light\"},\"paper_bgcolor\":\"white\",\"plot_bgcolor\":\"#E5ECF6\",\"polar\":{\"angularaxis\":{\"gridcolor\":\"white\",\"linecolor\":\"white\",\"ticks\":\"\"},\"bgcolor\":\"#E5ECF6\",\"radialaxis\":{\"gridcolor\":\"white\",\"linecolor\":\"white\",\"ticks\":\"\"}},\"scene\":{\"xaxis\":{\"backgroundcolor\":\"#E5ECF6\",\"gridcolor\":\"white\",\"gridwidth\":2,\"linecolor\":\"white\",\"showbackground\":true,\"ticks\":\"\",\"zerolinecolor\":\"white\"},\"yaxis\":{\"backgroundcolor\":\"#E5ECF6\",\"gridcolor\":\"white\",\"gridwidth\":2,\"linecolor\":\"white\",\"showbackground\":true,\"ticks\":\"\",\"zerolinecolor\":\"white\"},\"zaxis\":{\"backgroundcolor\":\"#E5ECF6\",\"gridcolor\":\"white\",\"gridwidth\":2,\"linecolor\":\"white\",\"showbackground\":true,\"ticks\":\"\",\"zerolinecolor\":\"white\"}},\"shapedefaults\":{\"line\":{\"color\":\"#2a3f5f\"}},\"ternary\":{\"aaxis\":{\"gridcolor\":\"white\",\"linecolor\":\"white\",\"ticks\":\"\"},\"baxis\":{\"gridcolor\":\"white\",\"linecolor\":\"white\",\"ticks\":\"\"},\"bgcolor\":\"#E5ECF6\",\"caxis\":{\"gridcolor\":\"white\",\"linecolor\":\"white\",\"ticks\":\"\"}},\"title\":{\"x\":0.05},\"xaxis\":{\"automargin\":true,\"gridcolor\":\"white\",\"linecolor\":\"white\",\"ticks\":\"\",\"title\":{\"standoff\":15},\"zerolinecolor\":\"white\",\"zerolinewidth\":2},\"yaxis\":{\"automargin\":true,\"gridcolor\":\"white\",\"linecolor\":\"white\",\"ticks\":\"\",\"title\":{\"standoff\":15},\"zerolinecolor\":\"white\",\"zerolinewidth\":2}}}},                        {\"responsive\": true}                    ).then(function(){\n",
       "                            \n",
       "var gd = document.getElementById('fb57092c-e7e2-471a-9a2e-6fd6030d2699');\n",
       "var x = new MutationObserver(function (mutations, observer) {{\n",
       "        var display = window.getComputedStyle(gd).display;\n",
       "        if (!display || display === 'none') {{\n",
       "            console.log([gd, 'removed!']);\n",
       "            Plotly.purge(gd);\n",
       "            observer.disconnect();\n",
       "        }}\n",
       "}});\n",
       "\n",
       "// Listen for the removal of the full notebook cells\n",
       "var notebookContainer = gd.closest('#notebook-container');\n",
       "if (notebookContainer) {{\n",
       "    x.observe(notebookContainer, {childList: true});\n",
       "}}\n",
       "\n",
       "// Listen for the clearing of the current output cell\n",
       "var outputEl = gd.closest('.output');\n",
       "if (outputEl) {{\n",
       "    x.observe(outputEl, {childList: true});\n",
       "}}\n",
       "\n",
       "                        })                };                });            </script>        </div>"
      ]
     },
     "metadata": {},
     "output_type": "display_data"
    }
   ],
   "source": [
    "vector_plot(GenerateCore(10, 100))"
   ]
  },
  {
   "cell_type": "code",
   "execution_count": 89,
   "metadata": {},
   "outputs": [],
   "source": [
    "SphereList = GenerateCore(10, 20)\n",
    "AromaticSulfurSmilesString = 'C1=C(C=CC=C1)CS[H]'\n",
    "PandasNPDataframe = AttachLigands('C1=C(C=CC=C1)CS[H]', ['S7'], ['C4'], SphereList)"
   ]
  },
  {
   "cell_type": "code",
   "execution_count": 90,
   "metadata": {},
   "outputs": [
    {
     "data": {
      "text/html": [
       "<div>\n",
       "<style scoped>\n",
       "    .dataframe tbody tr th:only-of-type {\n",
       "        vertical-align: middle;\n",
       "    }\n",
       "\n",
       "    .dataframe tbody tr th {\n",
       "        vertical-align: top;\n",
       "    }\n",
       "\n",
       "    .dataframe thead th {\n",
       "        text-align: right;\n",
       "    }\n",
       "</style>\n",
       "<table border=\"1\" class=\"dataframe\">\n",
       "  <thead>\n",
       "    <tr style=\"text-align: right;\">\n",
       "      <th></th>\n",
       "      <th>X</th>\n",
       "      <th>Y</th>\n",
       "      <th>Z</th>\n",
       "      <th>NAME</th>\n",
       "      <th>name</th>\n",
       "    </tr>\n",
       "  </thead>\n",
       "  <tbody>\n",
       "    <tr>\n",
       "      <th>0</th>\n",
       "      <td>-5.408416e-01</td>\n",
       "      <td>11.180829</td>\n",
       "      <td>-1.279587e+00</td>\n",
       "      <td>C0</td>\n",
       "      <td>Ligand</td>\n",
       "    </tr>\n",
       "    <tr>\n",
       "      <th>1</th>\n",
       "      <td>5.637935e-01</td>\n",
       "      <td>10.512860</td>\n",
       "      <td>-7.960533e-01</td>\n",
       "      <td>C1</td>\n",
       "      <td>Ligand</td>\n",
       "    </tr>\n",
       "    <tr>\n",
       "      <th>2</th>\n",
       "      <td>1.389495e+00</td>\n",
       "      <td>11.169000</td>\n",
       "      <td>9.009411e-02</td>\n",
       "      <td>C2</td>\n",
       "      <td>Ligand</td>\n",
       "    </tr>\n",
       "    <tr>\n",
       "      <th>3</th>\n",
       "      <td>1.101475e+00</td>\n",
       "      <td>12.460778</td>\n",
       "      <td>4.715477e-01</td>\n",
       "      <td>C3</td>\n",
       "      <td>Ligand</td>\n",
       "    </tr>\n",
       "    <tr>\n",
       "      <th>4</th>\n",
       "      <td>3.145616e-15</td>\n",
       "      <td>13.150187</td>\n",
       "      <td>1.143860e-15</td>\n",
       "      <td>C4</td>\n",
       "      <td>Ligand</td>\n",
       "    </tr>\n",
       "    <tr>\n",
       "      <th>...</th>\n",
       "      <td>...</td>\n",
       "      <td>...</td>\n",
       "      <td>...</td>\n",
       "      <td>...</td>\n",
       "      <td>...</td>\n",
       "    </tr>\n",
       "    <tr>\n",
       "      <th>15</th>\n",
       "      <td>-5.349590e-01</td>\n",
       "      <td>-2.955754</td>\n",
       "      <td>-4.128241e+00</td>\n",
       "      <td>Au</td>\n",
       "      <td>Core</td>\n",
       "    </tr>\n",
       "    <tr>\n",
       "      <th>16</th>\n",
       "      <td>2.847006e+00</td>\n",
       "      <td>-3.493164</td>\n",
       "      <td>2.399459e+00</td>\n",
       "      <td>Au</td>\n",
       "      <td>Core</td>\n",
       "    </tr>\n",
       "    <tr>\n",
       "      <th>17</th>\n",
       "      <td>-3.130935e+00</td>\n",
       "      <td>-4.030574</td>\n",
       "      <td>1.294740e-01</td>\n",
       "      <td>Au</td>\n",
       "      <td>Core</td>\n",
       "    </tr>\n",
       "    <tr>\n",
       "      <th>18</th>\n",
       "      <td>1.616157e+00</td>\n",
       "      <td>-4.567983</td>\n",
       "      <td>-1.608292e+00</td>\n",
       "      <td>Au</td>\n",
       "      <td>Core</td>\n",
       "    </tr>\n",
       "    <tr>\n",
       "      <th>19</th>\n",
       "      <td>3.330669e-16</td>\n",
       "      <td>-5.105393</td>\n",
       "      <td>2.220446e-16</td>\n",
       "      <td>Au</td>\n",
       "      <td>Core</td>\n",
       "    </tr>\n",
       "  </tbody>\n",
       "</table>\n",
       "<p>340 rows × 5 columns</p>\n",
       "</div>"
      ],
      "text/plain": [
       "               X          Y             Z NAME    name\n",
       "0  -5.408416e-01  11.180829 -1.279587e+00   C0  Ligand\n",
       "1   5.637935e-01  10.512860 -7.960533e-01   C1  Ligand\n",
       "2   1.389495e+00  11.169000  9.009411e-02   C2  Ligand\n",
       "3   1.101475e+00  12.460778  4.715477e-01   C3  Ligand\n",
       "4   3.145616e-15  13.150187  1.143860e-15   C4  Ligand\n",
       "..           ...        ...           ...  ...     ...\n",
       "15 -5.349590e-01  -2.955754 -4.128241e+00   Au    Core\n",
       "16  2.847006e+00  -3.493164  2.399459e+00   Au    Core\n",
       "17 -3.130935e+00  -4.030574  1.294740e-01   Au    Core\n",
       "18  1.616157e+00  -4.567983 -1.608292e+00   Au    Core\n",
       "19  3.330669e-16  -5.105393  2.220446e-16   Au    Core\n",
       "\n",
       "[340 rows x 5 columns]"
      ]
     },
     "execution_count": 90,
     "metadata": {},
     "output_type": "execute_result"
    }
   ],
   "source": [
    "PandasNPDataframe"
   ]
  },
  {
   "cell_type": "code",
   "execution_count": 99,
   "metadata": {},
   "outputs": [
    {
     "data": {
      "application/vnd.plotly.v1+json": {
       "config": {
        "plotlyServerURL": "https://plot.ly"
       },
       "data": [
        {
         "hovertemplate": "name=Ligand<br>X=%{x}<br>Y=%{y}<br>Z=%{z}<extra></extra>",
         "legendgroup": "Ligand",
         "marker": {
          "color": "#636efa",
          "symbol": "circle"
         },
         "mode": "markers",
         "name": "Ligand",
         "scene": "scene",
         "showlegend": true,
         "type": "scatter3d",
         "x": [
          -0.5408415586349014,
          0.5637934845802703,
          1.3894950928490182,
          1.1014745537020134,
          3.1456155389229998e-15,
          -0.8152960731236089,
          0.867990408631378,
          1.9243702118353276e-15,
          -1.1775704171742276,
          2.271540153828451,
          1.7429478531833305,
          -0.1848415072806797,
          -1.6995842496550722,
          1.9502240735819572,
          0.411501962883785,
          -1.2822417643607522,
          -4.671590079812069,
          -3.314076126385615,
          -2.462107419094557,
          -2.9734935066611943,
          -4.330413526262061,
          -5.168029908448551,
          -2.7675464908817897,
          -2.6491854111709605,
          -5.325960092903197,
          -1.3796275466157917,
          -2.315081285459824,
          -4.6849967891082125,
          -6.25262835071422,
          -1.7891526028487328,
          -3.5039424659684606,
          -3.869946844827605,
          1.0397422671527712,
          1.5120869960131176,
          1.5806945757462194,
          1.1823873786241166,
          0.7056462114222513,
          0.6442180337451857,
          1.9440121239407144,
          0.4316880218045852,
          0.9913516470192338,
          1.9552505642013664,
          1.2295890330172283,
          0.40394279256070154,
          0.2698349401039515,
          2.75334527477167,
          2.2437058783466806,
          -0.5998961905094509,
          3.780375807343516,
          4.4635091671216705,
          5.839677916364223,
          6.498754923420292,
          5.835067413651436,
          4.457022653545328,
          3.73321568933679,
          3.5696765151174112,
          2.7053709264637686,
          6.393085277323684,
          7.586395533123063,
          6.39830315141744,
          3.898799889853362,
          4.275138994101057,
          2.718283455302127,
          3.1824019891770146,
          -9.23672280659001,
          -8.067404984268713,
          -8.146365476203735,
          -9.373063178485182,
          -10.558295806072573,
          -10.459167057776646,
          -6.734165955822045,
          -6.459171403988059,
          -9.16062206224297,
          -7.221397710361105,
          -9.454777858346365,
          -11.500009893531837,
          -11.382743034193977,
          -5.928445659300854,
          -6.811088397870137,
          -7.711785158013772,
          9.007409262431173,
          8.43633883645696,
          8.534747238429942,
          9.191730162177379,
          9.771783711542728,
          9.662948462036832,
          7.721719066369662,
          5.97801265231186,
          8.923112900889794,
          8.083556116159588,
          9.279392206137132,
          10.27857051483472,
          10.113231417989452,
          7.8086329851175655,
          8.116599618196902,
          6.055949569090915,
          -3.9691325448998693,
          -3.2759129715072746,
          -2.5282930563372457,
          -2.4871111509771504,
          -3.1737119404984417,
          -3.9170022661824344,
          -3.328487115253731,
          -1.9415585419355965,
          -4.5492746164264,
          -1.9726541237321833,
          -1.9013673418811183,
          -3.1101267174677405,
          -4.474967297200624,
          -3.2313858995391485,
          -4.266412587542535,
          -2.00896906179818,
          -4.104648309168939,
          -3.8212780010140017,
          -4.556130662565132,
          -5.545689224394414,
          -5.847379554366413,
          -5.10076777270966,
          -2.7387344518503793,
          -3.5772086233940437,
          -3.5228966258874435,
          -4.338533934251178,
          -6.1368408395277205,
          -6.635851850577267,
          -5.315189273287774,
          -2.2597145332330744,
          -2.002744674316384,
          -4.421188015424008,
          10.351085999356762,
          9.434160072237361,
          9.90358006981777,
          11.259662150440217,
          12.19730319442256,
          11.708154559318604,
          7.956296943562604,
          7.461854966582177,
          9.970670480108371,
          9.181994235340326,
          11.649034479059562,
          13.254755599191586,
          12.427037369000733,
          7.400512251349166,
          7.78508822695744,
          8.478924396019925,
          -10.77763805020349,
          -10.038336245242082,
          -10.352546328479981,
          -11.383763423687569,
          -12.138469374866544,
          -11.8089680252876,
          -8.914968146037989,
          -7.425862631091345,
          -10.52148669725359,
          -9.770152237631482,
          -11.64638560063907,
          -12.940776838873658,
          -12.38944287788619,
          -8.794248895624996,
          -9.096471195164597,
          -7.850624330127962,
          5.912289342631762,
          5.147526283087794,
          4.589998671358115,
          4.803066842913678,
          5.56592888491356,
          6.11611372791254,
          4.9219484888590825,
          3.4050276058175535,
          6.341958533822082,
          3.9794631980450044,
          4.370210431179726,
          5.7049881632877515,
          6.728157377227149,
          4.806048747582546,
          5.755932775057504,
          3.5695786554715223,
          2.7811117834146444,
          2.1853431063081663,
          2.4428441589932577,
          3.278002695003202,
          3.886269852624494,
          3.6164084869458915,
          1.275505232250048,
          2.3774748843289304,
          2.5713506145680336,
          1.9735655909302054,
          3.493092425220413,
          4.536137033242969,
          4.08411133901112,
          0.48945059991301587,
          0.8442785109986546,
          3.5121115763983877,
          -8.574618758197836,
          -8.434022840132343,
          -9.572155943385827,
          -10.811338614833668,
          -10.976657041115638,
          -9.825260306704653,
          -7.076126020549776,
          -6.715109196938801,
          -7.677137148568125,
          -9.471277259496945,
          -11.722122639597517,
          -11.97340535985385,
          -9.921505617600369,
          -7.056904587303853,
          -6.333292026147456,
          -7.114818867841835,
          10.729356818790627,
          9.715064307034353,
          9.81592189639265,
          10.911294654761392,
          11.94004685683285,
          11.82138260394846,
          8.524245111694533,
          7.304475138457033,
          10.637854650838023,
          9.013877920655178,
          11.008000744176675,
          12.78226230920534,
          12.622096345936853,
          8.118320346801477,
          8.811864022507702,
          8.064239938619622,
          -5.869565631230785,
          -6.105511389229298,
          -6.62183584868867,
          -6.889146088288811,
          -6.660746809234718,
          -6.1433780530028255,
          -5.809767254340116,
          -4.074796360097157,
          -5.465963713423479,
          -6.813347005777597,
          -7.297523341946848,
          -6.887413198331512,
          -5.950050183650102,
          -6.498360705879961,
          -5.847685526638665,
          -3.377449507979469,
          0.2099322263521014,
          -0.5836605624891839,
          -1.7802933339962466,
          -2.157045900075425,
          -1.3779174322016812,
          -0.18296749347521402,
          -0.16189705513371166,
          -0.8429584696817101,
          1.1422966147236528,
          -2.419503655836368,
          -3.099612491589706,
          -1.7174772861793595,
          0.46024988516128873,
          -0.538139221998653,
          0.9373997046084085,
          -0.5634786516081547,
          6.861386441205764,
          5.51622632789484,
          5.0794857847551595,
          5.980352012533153,
          7.333158222485508,
          7.751764219016788,
          4.542300401676272,
          4.486152572497145,
          7.189088310124797,
          4.010589386474647,
          5.653208764992455,
          8.003490545591122,
          8.821146584688218,
          3.5471333630706363,
          4.955676000828803,
          5.847426860310748,
          -6.128268178385068,
          -6.667531056459738,
          -7.911989595368379,
          -8.585203443596816,
          -8.064487082609862,
          -6.817027976631631,
          -5.923268392513927,
          -4.93355228046039,
          -5.155199303248495,
          -8.350293249430322,
          -9.569992605607617,
          -8.632892175359252,
          -6.374301676181491,
          -6.6056711420827545,
          -5.2199753709581715,
          -4.38281159495628,
          4.749550488101007,
          3.4641800297303478,
          2.524807223877981,
          2.8806801466202865,
          4.1628072119229005,
          5.089863906877383,
          3.087484408296345,
          2.546650122087216,
          5.473567695924185,
          1.4986379993332135,
          2.151337702772606,
          4.394688838861301,
          6.118566586514948,
          2.2917670873552574,
          3.9897501180600656,
          3.512680324384679,
          1.0484631927908783,
          -0.1562645302502826,
          -1.2875385715510608,
          -1.1966180780501572,
          8.578951469789999e-16,
          1.1221404957437577,
          -0.24316930700307396,
          5.248282395914529e-16,
          1.924496615804095,
          -2.251622642613481,
          -2.0804296379431086,
          0.020963729466404037,
          2.0895880782784824,
          -1.2088210446860301,
          0.6006860407177267,
          1.082744576591892
         ],
         "y": [
          11.180828951125484,
          10.512860125864888,
          11.169000271630203,
          12.460777527172125,
          13.150186732656328,
          12.476656520049882,
          9.10289127500657,
          8.044793559565203,
          10.656410452783785,
          10.646210083226915,
          12.995218596713805,
          14.16647760229543,
          12.996237590528525,
          8.901110164192183,
          8.920158211393629,
          8.646621778024894,
          9.968109883565164,
          9.76272054266789,
          10.564380973964884,
          11.54185018526595,
          11.765956550271449,
          10.953186383829156,
          8.692625056591226,
          7.197973184874127,
          9.334666193156531,
          10.409123521352978,
          12.185059020696261,
          12.54808365932682,
          11.105088475211986,
          8.96953416219181,
          8.48492077975305,
          7.17354828682173,
          8.001538688294842,
          8.121970508076169,
          9.379920619994147,
          10.478210551818849,
          10.381726367886575,
          9.113694555435137,
          6.915854557438733,
          6.351152810183054,
          7.012862077259671,
          9.486781452922102,
          11.480467665415404,
          11.275851815910153,
          9.001968358652862,
          7.153306537796915,
          6.120430870076488,
          6.424218150157719,
          8.380616010666603,
          7.8821662294346435,
          7.942755570029289,
          8.49171681456199,
          8.997496185501697,
          8.928048548713328,
          7.285273894352837,
          5.50433243549198,
          8.326951786068912,
          7.548708056666485,
          8.548027976191388,
          9.420032091303684,
          9.32140491420681,
          7.439073191108793,
          7.713247542699175,
          5.475262325587859,
          5.819208227998815,
          6.396647066352612,
          7.588708232094388,
          8.173684629705036,
          7.613266003116822,
          6.419340969051709,
          5.74877582566401,
          4.657512060800907,
          4.8878337892669,
          8.056753658416268,
          9.116035101104584,
          8.11192834535275,
          5.947116128071108,
          6.491453534641133,
          5.107356014644564,
          4.011929388004654,
          4.099848651484889,
          4.690263193214094,
          6.057449599188476,
          6.799050728802558,
          6.229035820731945,
          4.858520767920867,
          3.870427081673058,
          3.810691686109833,
          3.0308093275589902,
          6.537374125017486,
          7.881003854210342,
          6.85500829457086,
          4.373730161440474,
          4.31115944165799,
          2.84151874308382,
          3.561014189481538,
          3.570037509320946,
          4.367769755317082,
          5.408946760193743,
          5.63126445067419,
          4.844805638347068,
          3.806870262073499,
          4.1153922365464055,
          2.9638713114187585,
          2.7600472665592037,
          6.0500052053260465,
          6.449647061243364,
          5.059586486905567,
          3.162433590232713,
          5.0458560235018215,
          3.5879305626683062,
          2.0001995570370443,
          2.116349379600426,
          3.091096574859556,
          4.255931308747178,
          4.423718137878017,
          3.460575455962191,
          2.3007337234548713,
          2.896651041167786,
          2.1170509367276846,
          1.2111487569682673,
          5.038257290454648,
          5.337989104611456,
          3.638949646928152,
          1.5147016529555932,
          3.8478136883346483,
          2.174942911621142,
          1.1207138041929197,
          0.5276793194252869,
          1.5552356914521808,
          2.8494006986535263,
          3.090330761150054,
          2.0763452735773154,
          0.7868090602419804,
          1.2799828723451887,
          1.270230562036611,
          -0.4786712826153332,
          3.6747197669721485,
          4.107007842175369,
          2.316210549253918,
          -0.042683293769706365,
          2.038520121670599,
          0.267638298398428,
          0.5201771470842247,
          -0.27467578206211773,
          0.8823815245971636,
          1.948671943394856,
          1.8417920135335062,
          0.6921150911924391,
          -0.36520951728140383,
          0.987304293164328,
          0.4234101873455374,
          -1.1001361279021191,
          2.8744216373052973,
          2.674486865086286,
          0.6561577926812312,
          -1.2941078543508684,
          2.013944195515683,
          0.2741976524278202,
          -0.7364805032018036,
          -1.039188438921612,
          0.06316265210487465,
          0.7902246660360788,
          0.40904093318093054,
          -0.6921150911924379,
          -1.4078622968703307,
          0.4695851908902094,
          -0.42341018734553665,
          -1.5983080029180323,
          1.6695580540809591,
          0.9718090576336715,
          -0.9524539519538022,
          -2.2890503121832926,
          1.559356150394938,
          0.09234606723582733,
          -1.743280780284265,
          -3.051286889851207,
          -1.850311922308006,
          -0.7579101850995555,
          -0.8827397951649358,
          -2.0763452735773136,
          -3.159301429009043,
          -1.7261735244330745,
          -1.27023056203661,
          -3.8967577925402996,
          0.20284884104176698,
          -0.029890754693797372,
          -2.1249258216671922,
          -4.123277230814743,
          -0.9718202323602247,
          -2.7155155100310027,
          -2.120976148158554,
          -3.654069361530671,
          -2.3518910367155437,
          -1.6019607759973575,
          -2.157606948809394,
          -3.4605754559621893,
          -4.196092766594886,
          -1.7562144429464137,
          -2.1170509367276837,
          -4.228795401822498,
          -0.5642232853110047,
          -1.579770698867629,
          -3.853388828682635,
          -5.235593527627898,
          -0.6745610538734074,
          -2.294509120298481,
          -3.4726234261112428,
          -2.935496030138031,
          -3.127159957158317,
          -4.1838855477239765,
          -5.01746176960043,
          -4.844805638347067,
          -3.7811150317759643,
          -2.2106693906034627,
          -2.9638713114187576,
          -2.1060705259150976,
          -4.345297651819809,
          -5.857963912675734,
          -5.527787813389134,
          -3.6156930244551635,
          -2.1114907140947223,
          -1.2310575196500904,
          -3.344750081434194,
          -6.373025346479132,
          -5.031365562337994,
          -4.286556575314598,
          -4.885998165152183,
          -6.229035820731942,
          -6.958725922767103,
          -4.388072404797276,
          -3.8106916861098306,
          -6.943233780394233,
          -3.217607973800748,
          -4.312869949379511,
          -6.655582262220714,
          -8.029385963056049,
          -3.557084208765578,
          -5.158909751310177,
          -4.890160838522286,
          -6.567445304974266,
          -5.447501576143203,
          -5.412460768904081,
          -6.480316431431346,
          -7.613266003116821,
          -7.630053818549363,
          -4.287983288309942,
          -4.657512060800906,
          -6.581672187302524,
          -4.525537509621185,
          -6.470245485501884,
          -8.42857479245329,
          -8.516078810410702,
          -3.328938195261707,
          -4.285519757162306,
          -6.039230971594836,
          -7.963524865341798,
          -7.884009129480024,
          -8.364403612414371,
          -8.907297059067595,
          -8.997496185501696,
          -8.511165991140587,
          -7.289309025758106,
          -5.504332435491979,
          -7.584438805913101,
          -8.305850479015985,
          -9.292032889302337,
          -9.433418101296061,
          -8.56775335985447,
          -7.754335708518841,
          -7.384232610823782,
          -5.134882538113722,
          -9.425629732639234,
          -8.15859842636425,
          -8.00469993389089,
          -9.102289296225777,
          -10.381726367886571,
          -10.516070251428339,
          -6.9680364607178,
          -6.351152810183053,
          -9.531635616912272,
          -7.000243448483987,
          -8.99967625366843,
          -11.21468898214346,
          -11.519968217337532,
          -6.194737329386739,
          -7.307876521059691,
          -7.522104555522924,
          -9.440382062127705,
          -9.042933222963,
          -10.01387403156387,
          -11.344018682368617,
          -11.765956550271447,
          -10.77909406886087,
          -7.587987349448657,
          -7.197973184874126,
          -8.67142932990031,
          -9.708126250438788,
          -12.125441723557897,
          -12.825103879199448,
          -11.080633085107877,
          -7.385729587411134,
          -6.990560616723936,
          -7.824471478167867,
          -11.180828951125484,
          -10.512860125864886,
          -11.169000271630203,
          -12.460777527172123,
          -13.150186732656326,
          -12.476656520049882,
          -9.10289127500657,
          -8.0447935595652,
          -10.656410452783781,
          -10.646210083226915,
          -12.995218596713805,
          -14.166477602295426,
          -12.996237590528523,
          -8.901110164192183,
          -8.920158211393627,
          -8.646621778024892
         ],
         "z": [
          -1.2795871645076538,
          -0.7960533242443655,
          0.09009410929602793,
          0.4715477149455281,
          1.1438601959719999e-15,
          -0.8866289438039683,
          -1.21967377654067,
          6.997709861219373e-16,
          -1.97126510529932,
          0.4810037899289275,
          1.1712232096610593,
          0.32981518487390443,
          -1.2806059978750974,
          -1.2340258733014455,
          -2.2062702486547567,
          0.15655289715393886,
          2.398712240519294,
          2.275517314499467,
          3.002875675585852,
          3.827611616703195,
          3.9670135180537778,
          3.230627090307049,
          1.37207765143889,
          2.4268708459853605,
          1.824773435831752,
          2.9120137023060972,
          4.4102236571407305,
          4.629085618122244,
          3.3184903975293634,
          0.9499188519210736,
          0.5785251492780877,
          3.161714300650599,
          -7.863529969108151,
          -6.574114388776979,
          -6.016965551677354,
          -6.746528273136023,
          -8.040474622207604,
          -8.581569271722646,
          -5.787522236464687,
          -4.9188623531825,
          -8.286653687602707,
          -4.991094203505565,
          -6.322365885914591,
          -8.574615334888163,
          -9.608459014214908,
          -5.0798869399274835,
          -6.489398638389909,
          -5.899344594434964,
          6.5126663490812735,
          5.424051388111698,
          5.43103824486199,
          6.508725682359558,
          7.610812162559001,
          7.585688806413468,
          4.253413445269396,
          4.656010892709754,
          6.494188482304963,
          4.569301452593058,
          6.531704060610923,
          8.435445707056365,
          8.446389743388385,
          3.3074661882904297,
          4.209861303359692,
          6.027150319128689,
          -2.7857775092164117,
          -2.3391612049224872,
          -1.6533655147956912,
          -1.429386668417645,
          -1.8676138629241257,
          -2.5525795718682383,
          -2.5896382799449444,
          -1.1425364735616756,
          -3.320199726254769,
          -1.2935161572129208,
          -0.8890540404800389,
          -1.666860241249317,
          -2.914738518234685,
          -2.696389997858874,
          -3.482839957265092,
          -0.9303296116945448,
          -5.3850355942585715,
          -4.278014753266365,
          -4.1413493644778,
          -5.098194370018582,
          -6.216008923947659,
          -6.335612003417393,
          -3.240137327454312,
          -3.8027223167402635,
          -5.479406256058188,
          -3.2637261709638112,
          -5.006794976503888,
          -6.942037276496012,
          -7.2127501422157145,
          -2.2349745234741425,
          -3.2638576351364836,
          -5.203592382482636,
          9.921774436082657,
          9.036745740693565,
          9.541300215165823,
          10.899987102325372,
          11.806050226435111,
          11.281959428424084,
          7.555684039066964,
          7.222500999903531,
          9.514088579137344,
          8.845288077628311,
          11.316898533554333,
          12.867001534084823,
          11.975158092037395,
          6.975201653471485,
          7.316465178088309,
          8.270185364600916,
          -10.276853433758147,
          -9.344236106721272,
          -9.370917922493838,
          -10.314195503510973,
          -11.258773510667146,
          -11.216352747341222,
          -8.319398258479827,
          -6.887697526172115,
          -10.244703997323652,
          -8.632852091233522,
          -10.350381356814616,
          -11.981466845909853,
          -11.953458568322231,
          -8.040147759612452,
          -8.710041440345494,
          -7.458539939254546,
          4.417845867299635,
          4.477684411582754,
          4.526079770450138,
          4.514027477346032,
          4.45443556378952,
          4.406566101623017,
          4.490281041049338,
          2.7250574659964144,
          4.380439010107211,
          4.573889477128254,
          4.551683171326071,
          4.447319956170165,
          4.358629396820552,
          5.062885548717881,
          4.8915187653292875,
          2.0663924473153905,
          3.272286694499675,
          3.1503968459234217,
          3.963942835480635,
          4.870760978943488,
          5.010583702494267,
          4.187203443393591,
          2.15689921486264,
          3.065288145254028,
          2.630524685414379,
          3.8749030900241976,
          5.5221517411104655,
          5.739144871224289,
          4.272905321890303,
          1.7779682470136053,
          1.3361183461031232,
          3.775978683692368,
          -9.534448649757342,
          -9.217959408599874,
          -10.24660128058937,
          -11.552913677470583,
          -11.894066733138793,
          -10.850292766116297,
          -7.788295953336785,
          -7.276346214474273,
          -8.72104439984475,
          -10.005473352722607,
          -12.379102768167426,
          -12.937463956335467,
          -11.087058980112504,
          -7.682854923811009,
          -7.174043133738069,
          -7.787926634707482,
          10.483122364134625,
          10.162303543595408,
          10.960997454404037,
          12.049151372905277,
          12.390040679562178,
          11.578349650375571,
          8.972014957705813,
          7.579764568222092,
          9.850638388663507,
          10.71433337443668,
          12.691837898972436,
          13.256703329386946,
          11.821562895884005,
          9.130824688628158,
          8.747534172696694,
          7.720055270395646,
          -6.329650795275338,
          -5.8998016320753175,
          -5.700257265854424,
          -5.930115482134979,
          -6.361197121536866,
          -6.55551995571434,
          -5.652237822927532,
          -3.891543038501573,
          -6.481550477514946,
          -5.358134713744349,
          -5.777672780919317,
          -6.528475374766464,
          -6.898044400141322,
          -5.856707349571804,
          -6.263451508573654,
          -3.7084983406114445,
          -1.7901268808551014,
          -2.7037359573057884,
          -3.5816420363741828,
          -3.53203997276004,
          -2.6249858070105536,
          -1.7538126860321837,
          -2.7484226669943816,
          -1.6058683685264181,
          -1.110025814334793,
          -4.3129388589681685,
          -4.218236102464625,
          -2.624759845041119,
          -1.0198909940428131,
          -3.7670197317298797,
          -2.332752585251339,
          -0.4619545748347495,
          7.202328524252003,
          6.991414968974889,
          8.028829513005345,
          9.239765588257402,
          9.474226923134061,
          8.42334945967679,
          5.665250749605151,
          5.795978512138749,
          6.383289692259337,
          7.87136264940059,
          10.071278135153527,
          10.44503692102556,
          8.576514077482749,
          5.447422878413905,
          4.878156306559572,
          6.41185485788043,
          -9.152342845630043,
          -9.02528996431736,
          -9.706760772742863,
          -10.490911874336277,
          -10.633293723938541,
          -9.94316740845273,
          -8.166433107419754,
          -6.505052331680944,
          -8.614429267447342,
          -9.6124170093161,
          -11.036922721549923,
          -11.262390103117728,
          -10.03470485819183,
          -8.554795884070863,
          -8.084663691002927,
          -6.296260954328702,
          4.0551740728316155,
          4.345738045489052,
          5.560661561393263,
          6.449963482789471,
          6.180393513329559,
          4.958626972677807,
          3.3670643033926138,
          3.780934137470517,
          3.1024086142158285,
          5.8018160127593,
          7.415166407146746,
          6.91279929609551,
          4.712929571835525,
          3.4415227113041382,
          2.3495890951197276,
          3.984131192265612,
          -0.736628953018639,
          -0.6731220860789056,
          -0.1028602955786557,
          0.38625305366843943,
          0.333491859687437,
          -0.2411898069788296,
          -1.2103720368550324,
          0.20401787590730106,
          -1.184687533136788,
          -0.04735781940480452,
          0.8404797795982539,
          0.7320900339003791,
          -0.29889842003403255,
          -1.5957111677239495,
          -1.9882109222575195,
          0.8010159193116421,
          -3.906628420963797,
          -4.206733585686763,
          -4.47583020136837,
          -4.440889781174572,
          -4.14254917619786,
          -3.8758473853159234,
          -4.241878009606346,
          -2.5342570117349856,
          -3.6983796446084285,
          -4.715868669193328,
          -4.650886635833193,
          -4.127402644842928,
          -3.635030015354953,
          -4.975415362278445,
          -4.4519816993331665,
          -1.6945335494202851,
          -0.911360431707528,
          -0.9628838896156301,
          -0.5301490246615482,
          -0.0608984006927694,
          5.719300979859999e-16,
          -0.4377433936151166,
          -1.4771188709067014,
          3.4988549306096863e-16,
          -1.2525457989763171,
          -0.5669698331051177,
          0.28538315881113807,
          0.37749829275648594,
          -0.4026909566723903,
          -1.9659464578365722,
          -2.1624381045577223,
          0.7044976463687566
         ]
        },
        {
         "hovertemplate": "name=Core<br>X=%{x}<br>Y=%{y}<br>Z=%{z}<extra></extra>",
         "legendgroup": "Core",
         "marker": {
          "color": "#EF553B",
          "symbol": "circle"
         },
         "mode": "markers",
         "name": "Core",
         "scene": "scene",
         "showlegend": true,
         "type": "scatter3d",
         "x": [
          1.2212453270876722e-15,
          -1.6812281150911002,
          0.27395818961766605,
          2.265390898534025,
          -4.099124402084514,
          3.793771059230868,
          -1.2321533985628454,
          -2.270170930972369,
          4.735448227840382,
          -4.712606743775199,
          2.1609012790960063,
          1.5087949682955637,
          -4.261547844176837,
          4.635571718375819,
          -2.585950449137561,
          -0.534958962519971,
          2.8470056499883625,
          -3.1309348021494725,
          1.6161570898356845,
          3.3306690738754696e-16
         ],
         "y": [
          5.105393173091126,
          4.567983365397322,
          4.03057355770352,
          3.4931637500097175,
          2.955753942315915,
          2.4183441346221124,
          1.8809343269283092,
          1.3435245192345067,
          0.8061147115407041,
          0.26870490384690165,
          -0.26870490384690116,
          -0.8061147115407035,
          -1.343524519234506,
          -1.8809343269283088,
          -2.418344134622111,
          -2.9557539423159147,
          -3.4931637500097166,
          -4.030573557703519,
          -4.567983365397321,
          -5.105393173091125
         ],
         "z": [
          4.440892098500626e-16,
          1.5401426720684173,
          -3.121612269025105,
          2.9548012698492463,
          -0.72507738936245,
          -2.4132866072073953,
          4.58354922653158,
          -4.371075984495031,
          1.7293780977931055,
          1.9452955572402386,
          -4.61772051866452,
          4.8102761113400865,
          -2.4696540830352927,
          -1.0191174384841355,
          3.678248410995313,
          -4.128241392257597,
          2.399459375859042,
          0.12947398378013597,
          -1.6082921644628745,
          2.220446049250313e-16
         ]
        }
       ],
       "layout": {
        "legend": {
         "title": {
          "text": "name"
         },
         "tracegroupgap": 0
        },
        "margin": {
         "t": 60
        },
        "scene": {
         "domain": {
          "x": [
           0,
           1
          ],
          "y": [
           0,
           1
          ]
         },
         "xaxis": {
          "title": {
           "text": "X"
          }
         },
         "yaxis": {
          "title": {
           "text": "Y"
          }
         },
         "zaxis": {
          "title": {
           "text": "Z"
          }
         }
        },
        "template": {
         "data": {
          "bar": [
           {
            "error_x": {
             "color": "#2a3f5f"
            },
            "error_y": {
             "color": "#2a3f5f"
            },
            "marker": {
             "line": {
              "color": "#E5ECF6",
              "width": 0.5
             },
             "pattern": {
              "fillmode": "overlay",
              "size": 10,
              "solidity": 0.2
             }
            },
            "type": "bar"
           }
          ],
          "barpolar": [
           {
            "marker": {
             "line": {
              "color": "#E5ECF6",
              "width": 0.5
             },
             "pattern": {
              "fillmode": "overlay",
              "size": 10,
              "solidity": 0.2
             }
            },
            "type": "barpolar"
           }
          ],
          "carpet": [
           {
            "aaxis": {
             "endlinecolor": "#2a3f5f",
             "gridcolor": "white",
             "linecolor": "white",
             "minorgridcolor": "white",
             "startlinecolor": "#2a3f5f"
            },
            "baxis": {
             "endlinecolor": "#2a3f5f",
             "gridcolor": "white",
             "linecolor": "white",
             "minorgridcolor": "white",
             "startlinecolor": "#2a3f5f"
            },
            "type": "carpet"
           }
          ],
          "choropleth": [
           {
            "colorbar": {
             "outlinewidth": 0,
             "ticks": ""
            },
            "type": "choropleth"
           }
          ],
          "contour": [
           {
            "colorbar": {
             "outlinewidth": 0,
             "ticks": ""
            },
            "colorscale": [
             [
              0,
              "#0d0887"
             ],
             [
              0.1111111111111111,
              "#46039f"
             ],
             [
              0.2222222222222222,
              "#7201a8"
             ],
             [
              0.3333333333333333,
              "#9c179e"
             ],
             [
              0.4444444444444444,
              "#bd3786"
             ],
             [
              0.5555555555555556,
              "#d8576b"
             ],
             [
              0.6666666666666666,
              "#ed7953"
             ],
             [
              0.7777777777777778,
              "#fb9f3a"
             ],
             [
              0.8888888888888888,
              "#fdca26"
             ],
             [
              1,
              "#f0f921"
             ]
            ],
            "type": "contour"
           }
          ],
          "contourcarpet": [
           {
            "colorbar": {
             "outlinewidth": 0,
             "ticks": ""
            },
            "type": "contourcarpet"
           }
          ],
          "heatmap": [
           {
            "colorbar": {
             "outlinewidth": 0,
             "ticks": ""
            },
            "colorscale": [
             [
              0,
              "#0d0887"
             ],
             [
              0.1111111111111111,
              "#46039f"
             ],
             [
              0.2222222222222222,
              "#7201a8"
             ],
             [
              0.3333333333333333,
              "#9c179e"
             ],
             [
              0.4444444444444444,
              "#bd3786"
             ],
             [
              0.5555555555555556,
              "#d8576b"
             ],
             [
              0.6666666666666666,
              "#ed7953"
             ],
             [
              0.7777777777777778,
              "#fb9f3a"
             ],
             [
              0.8888888888888888,
              "#fdca26"
             ],
             [
              1,
              "#f0f921"
             ]
            ],
            "type": "heatmap"
           }
          ],
          "heatmapgl": [
           {
            "colorbar": {
             "outlinewidth": 0,
             "ticks": ""
            },
            "colorscale": [
             [
              0,
              "#0d0887"
             ],
             [
              0.1111111111111111,
              "#46039f"
             ],
             [
              0.2222222222222222,
              "#7201a8"
             ],
             [
              0.3333333333333333,
              "#9c179e"
             ],
             [
              0.4444444444444444,
              "#bd3786"
             ],
             [
              0.5555555555555556,
              "#d8576b"
             ],
             [
              0.6666666666666666,
              "#ed7953"
             ],
             [
              0.7777777777777778,
              "#fb9f3a"
             ],
             [
              0.8888888888888888,
              "#fdca26"
             ],
             [
              1,
              "#f0f921"
             ]
            ],
            "type": "heatmapgl"
           }
          ],
          "histogram": [
           {
            "marker": {
             "pattern": {
              "fillmode": "overlay",
              "size": 10,
              "solidity": 0.2
             }
            },
            "type": "histogram"
           }
          ],
          "histogram2d": [
           {
            "colorbar": {
             "outlinewidth": 0,
             "ticks": ""
            },
            "colorscale": [
             [
              0,
              "#0d0887"
             ],
             [
              0.1111111111111111,
              "#46039f"
             ],
             [
              0.2222222222222222,
              "#7201a8"
             ],
             [
              0.3333333333333333,
              "#9c179e"
             ],
             [
              0.4444444444444444,
              "#bd3786"
             ],
             [
              0.5555555555555556,
              "#d8576b"
             ],
             [
              0.6666666666666666,
              "#ed7953"
             ],
             [
              0.7777777777777778,
              "#fb9f3a"
             ],
             [
              0.8888888888888888,
              "#fdca26"
             ],
             [
              1,
              "#f0f921"
             ]
            ],
            "type": "histogram2d"
           }
          ],
          "histogram2dcontour": [
           {
            "colorbar": {
             "outlinewidth": 0,
             "ticks": ""
            },
            "colorscale": [
             [
              0,
              "#0d0887"
             ],
             [
              0.1111111111111111,
              "#46039f"
             ],
             [
              0.2222222222222222,
              "#7201a8"
             ],
             [
              0.3333333333333333,
              "#9c179e"
             ],
             [
              0.4444444444444444,
              "#bd3786"
             ],
             [
              0.5555555555555556,
              "#d8576b"
             ],
             [
              0.6666666666666666,
              "#ed7953"
             ],
             [
              0.7777777777777778,
              "#fb9f3a"
             ],
             [
              0.8888888888888888,
              "#fdca26"
             ],
             [
              1,
              "#f0f921"
             ]
            ],
            "type": "histogram2dcontour"
           }
          ],
          "mesh3d": [
           {
            "colorbar": {
             "outlinewidth": 0,
             "ticks": ""
            },
            "type": "mesh3d"
           }
          ],
          "parcoords": [
           {
            "line": {
             "colorbar": {
              "outlinewidth": 0,
              "ticks": ""
             }
            },
            "type": "parcoords"
           }
          ],
          "pie": [
           {
            "automargin": true,
            "type": "pie"
           }
          ],
          "scatter": [
           {
            "marker": {
             "colorbar": {
              "outlinewidth": 0,
              "ticks": ""
             }
            },
            "type": "scatter"
           }
          ],
          "scatter3d": [
           {
            "line": {
             "colorbar": {
              "outlinewidth": 0,
              "ticks": ""
             }
            },
            "marker": {
             "colorbar": {
              "outlinewidth": 0,
              "ticks": ""
             }
            },
            "type": "scatter3d"
           }
          ],
          "scattercarpet": [
           {
            "marker": {
             "colorbar": {
              "outlinewidth": 0,
              "ticks": ""
             }
            },
            "type": "scattercarpet"
           }
          ],
          "scattergeo": [
           {
            "marker": {
             "colorbar": {
              "outlinewidth": 0,
              "ticks": ""
             }
            },
            "type": "scattergeo"
           }
          ],
          "scattergl": [
           {
            "marker": {
             "colorbar": {
              "outlinewidth": 0,
              "ticks": ""
             }
            },
            "type": "scattergl"
           }
          ],
          "scattermapbox": [
           {
            "marker": {
             "colorbar": {
              "outlinewidth": 0,
              "ticks": ""
             }
            },
            "type": "scattermapbox"
           }
          ],
          "scatterpolar": [
           {
            "marker": {
             "colorbar": {
              "outlinewidth": 0,
              "ticks": ""
             }
            },
            "type": "scatterpolar"
           }
          ],
          "scatterpolargl": [
           {
            "marker": {
             "colorbar": {
              "outlinewidth": 0,
              "ticks": ""
             }
            },
            "type": "scatterpolargl"
           }
          ],
          "scatterternary": [
           {
            "marker": {
             "colorbar": {
              "outlinewidth": 0,
              "ticks": ""
             }
            },
            "type": "scatterternary"
           }
          ],
          "surface": [
           {
            "colorbar": {
             "outlinewidth": 0,
             "ticks": ""
            },
            "colorscale": [
             [
              0,
              "#0d0887"
             ],
             [
              0.1111111111111111,
              "#46039f"
             ],
             [
              0.2222222222222222,
              "#7201a8"
             ],
             [
              0.3333333333333333,
              "#9c179e"
             ],
             [
              0.4444444444444444,
              "#bd3786"
             ],
             [
              0.5555555555555556,
              "#d8576b"
             ],
             [
              0.6666666666666666,
              "#ed7953"
             ],
             [
              0.7777777777777778,
              "#fb9f3a"
             ],
             [
              0.8888888888888888,
              "#fdca26"
             ],
             [
              1,
              "#f0f921"
             ]
            ],
            "type": "surface"
           }
          ],
          "table": [
           {
            "cells": {
             "fill": {
              "color": "#EBF0F8"
             },
             "line": {
              "color": "white"
             }
            },
            "header": {
             "fill": {
              "color": "#C8D4E3"
             },
             "line": {
              "color": "white"
             }
            },
            "type": "table"
           }
          ]
         },
         "layout": {
          "annotationdefaults": {
           "arrowcolor": "#2a3f5f",
           "arrowhead": 0,
           "arrowwidth": 1
          },
          "autotypenumbers": "strict",
          "coloraxis": {
           "colorbar": {
            "outlinewidth": 0,
            "ticks": ""
           }
          },
          "colorscale": {
           "diverging": [
            [
             0,
             "#8e0152"
            ],
            [
             0.1,
             "#c51b7d"
            ],
            [
             0.2,
             "#de77ae"
            ],
            [
             0.3,
             "#f1b6da"
            ],
            [
             0.4,
             "#fde0ef"
            ],
            [
             0.5,
             "#f7f7f7"
            ],
            [
             0.6,
             "#e6f5d0"
            ],
            [
             0.7,
             "#b8e186"
            ],
            [
             0.8,
             "#7fbc41"
            ],
            [
             0.9,
             "#4d9221"
            ],
            [
             1,
             "#276419"
            ]
           ],
           "sequential": [
            [
             0,
             "#0d0887"
            ],
            [
             0.1111111111111111,
             "#46039f"
            ],
            [
             0.2222222222222222,
             "#7201a8"
            ],
            [
             0.3333333333333333,
             "#9c179e"
            ],
            [
             0.4444444444444444,
             "#bd3786"
            ],
            [
             0.5555555555555556,
             "#d8576b"
            ],
            [
             0.6666666666666666,
             "#ed7953"
            ],
            [
             0.7777777777777778,
             "#fb9f3a"
            ],
            [
             0.8888888888888888,
             "#fdca26"
            ],
            [
             1,
             "#f0f921"
            ]
           ],
           "sequentialminus": [
            [
             0,
             "#0d0887"
            ],
            [
             0.1111111111111111,
             "#46039f"
            ],
            [
             0.2222222222222222,
             "#7201a8"
            ],
            [
             0.3333333333333333,
             "#9c179e"
            ],
            [
             0.4444444444444444,
             "#bd3786"
            ],
            [
             0.5555555555555556,
             "#d8576b"
            ],
            [
             0.6666666666666666,
             "#ed7953"
            ],
            [
             0.7777777777777778,
             "#fb9f3a"
            ],
            [
             0.8888888888888888,
             "#fdca26"
            ],
            [
             1,
             "#f0f921"
            ]
           ]
          },
          "colorway": [
           "#636efa",
           "#EF553B",
           "#00cc96",
           "#ab63fa",
           "#FFA15A",
           "#19d3f3",
           "#FF6692",
           "#B6E880",
           "#FF97FF",
           "#FECB52"
          ],
          "font": {
           "color": "#2a3f5f"
          },
          "geo": {
           "bgcolor": "white",
           "lakecolor": "white",
           "landcolor": "#E5ECF6",
           "showlakes": true,
           "showland": true,
           "subunitcolor": "white"
          },
          "hoverlabel": {
           "align": "left"
          },
          "hovermode": "closest",
          "mapbox": {
           "style": "light"
          },
          "paper_bgcolor": "white",
          "plot_bgcolor": "#E5ECF6",
          "polar": {
           "angularaxis": {
            "gridcolor": "white",
            "linecolor": "white",
            "ticks": ""
           },
           "bgcolor": "#E5ECF6",
           "radialaxis": {
            "gridcolor": "white",
            "linecolor": "white",
            "ticks": ""
           }
          },
          "scene": {
           "xaxis": {
            "backgroundcolor": "#E5ECF6",
            "gridcolor": "white",
            "gridwidth": 2,
            "linecolor": "white",
            "showbackground": true,
            "ticks": "",
            "zerolinecolor": "white"
           },
           "yaxis": {
            "backgroundcolor": "#E5ECF6",
            "gridcolor": "white",
            "gridwidth": 2,
            "linecolor": "white",
            "showbackground": true,
            "ticks": "",
            "zerolinecolor": "white"
           },
           "zaxis": {
            "backgroundcolor": "#E5ECF6",
            "gridcolor": "white",
            "gridwidth": 2,
            "linecolor": "white",
            "showbackground": true,
            "ticks": "",
            "zerolinecolor": "white"
           }
          },
          "shapedefaults": {
           "line": {
            "color": "#2a3f5f"
           }
          },
          "ternary": {
           "aaxis": {
            "gridcolor": "white",
            "linecolor": "white",
            "ticks": ""
           },
           "baxis": {
            "gridcolor": "white",
            "linecolor": "white",
            "ticks": ""
           },
           "bgcolor": "#E5ECF6",
           "caxis": {
            "gridcolor": "white",
            "linecolor": "white",
            "ticks": ""
           }
          },
          "title": {
           "x": 0.05
          },
          "xaxis": {
           "automargin": true,
           "gridcolor": "white",
           "linecolor": "white",
           "ticks": "",
           "title": {
            "standoff": 15
           },
           "zerolinecolor": "white",
           "zerolinewidth": 2
          },
          "yaxis": {
           "automargin": true,
           "gridcolor": "white",
           "linecolor": "white",
           "ticks": "",
           "title": {
            "standoff": 15
           },
           "zerolinecolor": "white",
           "zerolinewidth": 2
          }
         }
        }
       }
      },
      "text/html": [
       "<div>                            <div id=\"3cd55a16-5947-47b5-a5d1-a813b3172b4a\" class=\"plotly-graph-div\" style=\"height:525px; width:100%;\"></div>            <script type=\"text/javascript\">                require([\"plotly\"], function(Plotly) {                    window.PLOTLYENV=window.PLOTLYENV || {};                                    if (document.getElementById(\"3cd55a16-5947-47b5-a5d1-a813b3172b4a\")) {                    Plotly.newPlot(                        \"3cd55a16-5947-47b5-a5d1-a813b3172b4a\",                        [{\"hovertemplate\":\"name=Ligand<br>X=%{x}<br>Y=%{y}<br>Z=%{z}<extra></extra>\",\"legendgroup\":\"Ligand\",\"marker\":{\"color\":\"#636efa\",\"symbol\":\"circle\"},\"mode\":\"markers\",\"name\":\"Ligand\",\"scene\":\"scene\",\"showlegend\":true,\"type\":\"scatter3d\",\"x\":[-0.5408415586349014,0.5637934845802703,1.3894950928490182,1.1014745537020134,3.1456155389229998e-15,-0.8152960731236089,0.867990408631378,1.9243702118353276e-15,-1.1775704171742276,2.271540153828451,1.7429478531833305,-0.1848415072806797,-1.6995842496550722,1.9502240735819572,0.411501962883785,-1.2822417643607522,-4.671590079812069,-3.314076126385615,-2.462107419094557,-2.9734935066611943,-4.330413526262061,-5.168029908448551,-2.7675464908817897,-2.6491854111709605,-5.325960092903197,-1.3796275466157917,-2.315081285459824,-4.6849967891082125,-6.25262835071422,-1.7891526028487328,-3.5039424659684606,-3.869946844827605,1.0397422671527712,1.5120869960131176,1.5806945757462194,1.1823873786241166,0.7056462114222513,0.6442180337451857,1.9440121239407144,0.4316880218045852,0.9913516470192338,1.9552505642013664,1.2295890330172283,0.40394279256070154,0.2698349401039515,2.75334527477167,2.2437058783466806,-0.5998961905094509,3.780375807343516,4.4635091671216705,5.839677916364223,6.498754923420292,5.835067413651436,4.457022653545328,3.73321568933679,3.5696765151174112,2.7053709264637686,6.393085277323684,7.586395533123063,6.39830315141744,3.898799889853362,4.275138994101057,2.718283455302127,3.1824019891770146,-9.23672280659001,-8.067404984268713,-8.146365476203735,-9.373063178485182,-10.558295806072573,-10.459167057776646,-6.734165955822045,-6.459171403988059,-9.16062206224297,-7.221397710361105,-9.454777858346365,-11.500009893531837,-11.382743034193977,-5.928445659300854,-6.811088397870137,-7.711785158013772,9.007409262431173,8.43633883645696,8.534747238429942,9.191730162177379,9.771783711542728,9.662948462036832,7.721719066369662,5.97801265231186,8.923112900889794,8.083556116159588,9.279392206137132,10.27857051483472,10.113231417989452,7.8086329851175655,8.116599618196902,6.055949569090915,-3.9691325448998693,-3.2759129715072746,-2.5282930563372457,-2.4871111509771504,-3.1737119404984417,-3.9170022661824344,-3.328487115253731,-1.9415585419355965,-4.5492746164264,-1.9726541237321833,-1.9013673418811183,-3.1101267174677405,-4.474967297200624,-3.2313858995391485,-4.266412587542535,-2.00896906179818,-4.104648309168939,-3.8212780010140017,-4.556130662565132,-5.545689224394414,-5.847379554366413,-5.10076777270966,-2.7387344518503793,-3.5772086233940437,-3.5228966258874435,-4.338533934251178,-6.1368408395277205,-6.635851850577267,-5.315189273287774,-2.2597145332330744,-2.002744674316384,-4.421188015424008,10.351085999356762,9.434160072237361,9.90358006981777,11.259662150440217,12.19730319442256,11.708154559318604,7.956296943562604,7.461854966582177,9.970670480108371,9.181994235340326,11.649034479059562,13.254755599191586,12.427037369000733,7.400512251349166,7.78508822695744,8.478924396019925,-10.77763805020349,-10.038336245242082,-10.352546328479981,-11.383763423687569,-12.138469374866544,-11.8089680252876,-8.914968146037989,-7.425862631091345,-10.52148669725359,-9.770152237631482,-11.64638560063907,-12.940776838873658,-12.38944287788619,-8.794248895624996,-9.096471195164597,-7.850624330127962,5.912289342631762,5.147526283087794,4.589998671358115,4.803066842913678,5.56592888491356,6.11611372791254,4.9219484888590825,3.4050276058175535,6.341958533822082,3.9794631980450044,4.370210431179726,5.7049881632877515,6.728157377227149,4.806048747582546,5.755932775057504,3.5695786554715223,2.7811117834146444,2.1853431063081663,2.4428441589932577,3.278002695003202,3.886269852624494,3.6164084869458915,1.275505232250048,2.3774748843289304,2.5713506145680336,1.9735655909302054,3.493092425220413,4.536137033242969,4.08411133901112,0.48945059991301587,0.8442785109986546,3.5121115763983877,-8.574618758197836,-8.434022840132343,-9.572155943385827,-10.811338614833668,-10.976657041115638,-9.825260306704653,-7.076126020549776,-6.715109196938801,-7.677137148568125,-9.471277259496945,-11.722122639597517,-11.97340535985385,-9.921505617600369,-7.056904587303853,-6.333292026147456,-7.114818867841835,10.729356818790627,9.715064307034353,9.81592189639265,10.911294654761392,11.94004685683285,11.82138260394846,8.524245111694533,7.304475138457033,10.637854650838023,9.013877920655178,11.008000744176675,12.78226230920534,12.622096345936853,8.118320346801477,8.811864022507702,8.064239938619622,-5.869565631230785,-6.105511389229298,-6.62183584868867,-6.889146088288811,-6.660746809234718,-6.1433780530028255,-5.809767254340116,-4.074796360097157,-5.465963713423479,-6.813347005777597,-7.297523341946848,-6.887413198331512,-5.950050183650102,-6.498360705879961,-5.847685526638665,-3.377449507979469,0.2099322263521014,-0.5836605624891839,-1.7802933339962466,-2.157045900075425,-1.3779174322016812,-0.18296749347521402,-0.16189705513371166,-0.8429584696817101,1.1422966147236528,-2.419503655836368,-3.099612491589706,-1.7174772861793595,0.46024988516128873,-0.538139221998653,0.9373997046084085,-0.5634786516081547,6.861386441205764,5.51622632789484,5.0794857847551595,5.980352012533153,7.333158222485508,7.751764219016788,4.542300401676272,4.486152572497145,7.189088310124797,4.010589386474647,5.653208764992455,8.003490545591122,8.821146584688218,3.5471333630706363,4.955676000828803,5.847426860310748,-6.128268178385068,-6.667531056459738,-7.911989595368379,-8.585203443596816,-8.064487082609862,-6.817027976631631,-5.923268392513927,-4.93355228046039,-5.155199303248495,-8.350293249430322,-9.569992605607617,-8.632892175359252,-6.374301676181491,-6.6056711420827545,-5.2199753709581715,-4.38281159495628,4.749550488101007,3.4641800297303478,2.524807223877981,2.8806801466202865,4.1628072119229005,5.089863906877383,3.087484408296345,2.546650122087216,5.473567695924185,1.4986379993332135,2.151337702772606,4.394688838861301,6.118566586514948,2.2917670873552574,3.9897501180600656,3.512680324384679,1.0484631927908783,-0.1562645302502826,-1.2875385715510608,-1.1966180780501572,8.578951469789999e-16,1.1221404957437577,-0.24316930700307396,5.248282395914529e-16,1.924496615804095,-2.251622642613481,-2.0804296379431086,0.020963729466404037,2.0895880782784824,-1.2088210446860301,0.6006860407177267,1.082744576591892],\"y\":[11.180828951125484,10.512860125864888,11.169000271630203,12.460777527172125,13.150186732656328,12.476656520049882,9.10289127500657,8.044793559565203,10.656410452783785,10.646210083226915,12.995218596713805,14.16647760229543,12.996237590528525,8.901110164192183,8.920158211393629,8.646621778024894,9.968109883565164,9.76272054266789,10.564380973964884,11.54185018526595,11.765956550271449,10.953186383829156,8.692625056591226,7.197973184874127,9.334666193156531,10.409123521352978,12.185059020696261,12.54808365932682,11.105088475211986,8.96953416219181,8.48492077975305,7.17354828682173,8.001538688294842,8.121970508076169,9.379920619994147,10.478210551818849,10.381726367886575,9.113694555435137,6.915854557438733,6.351152810183054,7.012862077259671,9.486781452922102,11.480467665415404,11.275851815910153,9.001968358652862,7.153306537796915,6.120430870076488,6.424218150157719,8.380616010666603,7.8821662294346435,7.942755570029289,8.49171681456199,8.997496185501697,8.928048548713328,7.285273894352837,5.50433243549198,8.326951786068912,7.548708056666485,8.548027976191388,9.420032091303684,9.32140491420681,7.439073191108793,7.713247542699175,5.475262325587859,5.819208227998815,6.396647066352612,7.588708232094388,8.173684629705036,7.613266003116822,6.419340969051709,5.74877582566401,4.657512060800907,4.8878337892669,8.056753658416268,9.116035101104584,8.11192834535275,5.947116128071108,6.491453534641133,5.107356014644564,4.011929388004654,4.099848651484889,4.690263193214094,6.057449599188476,6.799050728802558,6.229035820731945,4.858520767920867,3.870427081673058,3.810691686109833,3.0308093275589902,6.537374125017486,7.881003854210342,6.85500829457086,4.373730161440474,4.31115944165799,2.84151874308382,3.561014189481538,3.570037509320946,4.367769755317082,5.408946760193743,5.63126445067419,4.844805638347068,3.806870262073499,4.1153922365464055,2.9638713114187585,2.7600472665592037,6.0500052053260465,6.449647061243364,5.059586486905567,3.162433590232713,5.0458560235018215,3.5879305626683062,2.0001995570370443,2.116349379600426,3.091096574859556,4.255931308747178,4.423718137878017,3.460575455962191,2.3007337234548713,2.896651041167786,2.1170509367276846,1.2111487569682673,5.038257290454648,5.337989104611456,3.638949646928152,1.5147016529555932,3.8478136883346483,2.174942911621142,1.1207138041929197,0.5276793194252869,1.5552356914521808,2.8494006986535263,3.090330761150054,2.0763452735773154,0.7868090602419804,1.2799828723451887,1.270230562036611,-0.4786712826153332,3.6747197669721485,4.107007842175369,2.316210549253918,-0.042683293769706365,2.038520121670599,0.267638298398428,0.5201771470842247,-0.27467578206211773,0.8823815245971636,1.948671943394856,1.8417920135335062,0.6921150911924391,-0.36520951728140383,0.987304293164328,0.4234101873455374,-1.1001361279021191,2.8744216373052973,2.674486865086286,0.6561577926812312,-1.2941078543508684,2.013944195515683,0.2741976524278202,-0.7364805032018036,-1.039188438921612,0.06316265210487465,0.7902246660360788,0.40904093318093054,-0.6921150911924379,-1.4078622968703307,0.4695851908902094,-0.42341018734553665,-1.5983080029180323,1.6695580540809591,0.9718090576336715,-0.9524539519538022,-2.2890503121832926,1.559356150394938,0.09234606723582733,-1.743280780284265,-3.051286889851207,-1.850311922308006,-0.7579101850995555,-0.8827397951649358,-2.0763452735773136,-3.159301429009043,-1.7261735244330745,-1.27023056203661,-3.8967577925402996,0.20284884104176698,-0.029890754693797372,-2.1249258216671922,-4.123277230814743,-0.9718202323602247,-2.7155155100310027,-2.120976148158554,-3.654069361530671,-2.3518910367155437,-1.6019607759973575,-2.157606948809394,-3.4605754559621893,-4.196092766594886,-1.7562144429464137,-2.1170509367276837,-4.228795401822498,-0.5642232853110047,-1.579770698867629,-3.853388828682635,-5.235593527627898,-0.6745610538734074,-2.294509120298481,-3.4726234261112428,-2.935496030138031,-3.127159957158317,-4.1838855477239765,-5.01746176960043,-4.844805638347067,-3.7811150317759643,-2.2106693906034627,-2.9638713114187576,-2.1060705259150976,-4.345297651819809,-5.857963912675734,-5.527787813389134,-3.6156930244551635,-2.1114907140947223,-1.2310575196500904,-3.344750081434194,-6.373025346479132,-5.031365562337994,-4.286556575314598,-4.885998165152183,-6.229035820731942,-6.958725922767103,-4.388072404797276,-3.8106916861098306,-6.943233780394233,-3.217607973800748,-4.312869949379511,-6.655582262220714,-8.029385963056049,-3.557084208765578,-5.158909751310177,-4.890160838522286,-6.567445304974266,-5.447501576143203,-5.412460768904081,-6.480316431431346,-7.613266003116821,-7.630053818549363,-4.287983288309942,-4.657512060800906,-6.581672187302524,-4.525537509621185,-6.470245485501884,-8.42857479245329,-8.516078810410702,-3.328938195261707,-4.285519757162306,-6.039230971594836,-7.963524865341798,-7.884009129480024,-8.364403612414371,-8.907297059067595,-8.997496185501696,-8.511165991140587,-7.289309025758106,-5.504332435491979,-7.584438805913101,-8.305850479015985,-9.292032889302337,-9.433418101296061,-8.56775335985447,-7.754335708518841,-7.384232610823782,-5.134882538113722,-9.425629732639234,-8.15859842636425,-8.00469993389089,-9.102289296225777,-10.381726367886571,-10.516070251428339,-6.9680364607178,-6.351152810183053,-9.531635616912272,-7.000243448483987,-8.99967625366843,-11.21468898214346,-11.519968217337532,-6.194737329386739,-7.307876521059691,-7.522104555522924,-9.440382062127705,-9.042933222963,-10.01387403156387,-11.344018682368617,-11.765956550271447,-10.77909406886087,-7.587987349448657,-7.197973184874126,-8.67142932990031,-9.708126250438788,-12.125441723557897,-12.825103879199448,-11.080633085107877,-7.385729587411134,-6.990560616723936,-7.824471478167867,-11.180828951125484,-10.512860125864886,-11.169000271630203,-12.460777527172123,-13.150186732656326,-12.476656520049882,-9.10289127500657,-8.0447935595652,-10.656410452783781,-10.646210083226915,-12.995218596713805,-14.166477602295426,-12.996237590528523,-8.901110164192183,-8.920158211393627,-8.646621778024892],\"z\":[-1.2795871645076538,-0.7960533242443655,0.09009410929602793,0.4715477149455281,1.1438601959719999e-15,-0.8866289438039683,-1.21967377654067,6.997709861219373e-16,-1.97126510529932,0.4810037899289275,1.1712232096610593,0.32981518487390443,-1.2806059978750974,-1.2340258733014455,-2.2062702486547567,0.15655289715393886,2.398712240519294,2.275517314499467,3.002875675585852,3.827611616703195,3.9670135180537778,3.230627090307049,1.37207765143889,2.4268708459853605,1.824773435831752,2.9120137023060972,4.4102236571407305,4.629085618122244,3.3184903975293634,0.9499188519210736,0.5785251492780877,3.161714300650599,-7.863529969108151,-6.574114388776979,-6.016965551677354,-6.746528273136023,-8.040474622207604,-8.581569271722646,-5.787522236464687,-4.9188623531825,-8.286653687602707,-4.991094203505565,-6.322365885914591,-8.574615334888163,-9.608459014214908,-5.0798869399274835,-6.489398638389909,-5.899344594434964,6.5126663490812735,5.424051388111698,5.43103824486199,6.508725682359558,7.610812162559001,7.585688806413468,4.253413445269396,4.656010892709754,6.494188482304963,4.569301452593058,6.531704060610923,8.435445707056365,8.446389743388385,3.3074661882904297,4.209861303359692,6.027150319128689,-2.7857775092164117,-2.3391612049224872,-1.6533655147956912,-1.429386668417645,-1.8676138629241257,-2.5525795718682383,-2.5896382799449444,-1.1425364735616756,-3.320199726254769,-1.2935161572129208,-0.8890540404800389,-1.666860241249317,-2.914738518234685,-2.696389997858874,-3.482839957265092,-0.9303296116945448,-5.3850355942585715,-4.278014753266365,-4.1413493644778,-5.098194370018582,-6.216008923947659,-6.335612003417393,-3.240137327454312,-3.8027223167402635,-5.479406256058188,-3.2637261709638112,-5.006794976503888,-6.942037276496012,-7.2127501422157145,-2.2349745234741425,-3.2638576351364836,-5.203592382482636,9.921774436082657,9.036745740693565,9.541300215165823,10.899987102325372,11.806050226435111,11.281959428424084,7.555684039066964,7.222500999903531,9.514088579137344,8.845288077628311,11.316898533554333,12.867001534084823,11.975158092037395,6.975201653471485,7.316465178088309,8.270185364600916,-10.276853433758147,-9.344236106721272,-9.370917922493838,-10.314195503510973,-11.258773510667146,-11.216352747341222,-8.319398258479827,-6.887697526172115,-10.244703997323652,-8.632852091233522,-10.350381356814616,-11.981466845909853,-11.953458568322231,-8.040147759612452,-8.710041440345494,-7.458539939254546,4.417845867299635,4.477684411582754,4.526079770450138,4.514027477346032,4.45443556378952,4.406566101623017,4.490281041049338,2.7250574659964144,4.380439010107211,4.573889477128254,4.551683171326071,4.447319956170165,4.358629396820552,5.062885548717881,4.8915187653292875,2.0663924473153905,3.272286694499675,3.1503968459234217,3.963942835480635,4.870760978943488,5.010583702494267,4.187203443393591,2.15689921486264,3.065288145254028,2.630524685414379,3.8749030900241976,5.5221517411104655,5.739144871224289,4.272905321890303,1.7779682470136053,1.3361183461031232,3.775978683692368,-9.534448649757342,-9.217959408599874,-10.24660128058937,-11.552913677470583,-11.894066733138793,-10.850292766116297,-7.788295953336785,-7.276346214474273,-8.72104439984475,-10.005473352722607,-12.379102768167426,-12.937463956335467,-11.087058980112504,-7.682854923811009,-7.174043133738069,-7.787926634707482,10.483122364134625,10.162303543595408,10.960997454404037,12.049151372905277,12.390040679562178,11.578349650375571,8.972014957705813,7.579764568222092,9.850638388663507,10.71433337443668,12.691837898972436,13.256703329386946,11.821562895884005,9.130824688628158,8.747534172696694,7.720055270395646,-6.329650795275338,-5.8998016320753175,-5.700257265854424,-5.930115482134979,-6.361197121536866,-6.55551995571434,-5.652237822927532,-3.891543038501573,-6.481550477514946,-5.358134713744349,-5.777672780919317,-6.528475374766464,-6.898044400141322,-5.856707349571804,-6.263451508573654,-3.7084983406114445,-1.7901268808551014,-2.7037359573057884,-3.5816420363741828,-3.53203997276004,-2.6249858070105536,-1.7538126860321837,-2.7484226669943816,-1.6058683685264181,-1.110025814334793,-4.3129388589681685,-4.218236102464625,-2.624759845041119,-1.0198909940428131,-3.7670197317298797,-2.332752585251339,-0.4619545748347495,7.202328524252003,6.991414968974889,8.028829513005345,9.239765588257402,9.474226923134061,8.42334945967679,5.665250749605151,5.795978512138749,6.383289692259337,7.87136264940059,10.071278135153527,10.44503692102556,8.576514077482749,5.447422878413905,4.878156306559572,6.41185485788043,-9.152342845630043,-9.02528996431736,-9.706760772742863,-10.490911874336277,-10.633293723938541,-9.94316740845273,-8.166433107419754,-6.505052331680944,-8.614429267447342,-9.6124170093161,-11.036922721549923,-11.262390103117728,-10.03470485819183,-8.554795884070863,-8.084663691002927,-6.296260954328702,4.0551740728316155,4.345738045489052,5.560661561393263,6.449963482789471,6.180393513329559,4.958626972677807,3.3670643033926138,3.780934137470517,3.1024086142158285,5.8018160127593,7.415166407146746,6.91279929609551,4.712929571835525,3.4415227113041382,2.3495890951197276,3.984131192265612,-0.736628953018639,-0.6731220860789056,-0.1028602955786557,0.38625305366843943,0.333491859687437,-0.2411898069788296,-1.2103720368550324,0.20401787590730106,-1.184687533136788,-0.04735781940480452,0.8404797795982539,0.7320900339003791,-0.29889842003403255,-1.5957111677239495,-1.9882109222575195,0.8010159193116421,-3.906628420963797,-4.206733585686763,-4.47583020136837,-4.440889781174572,-4.14254917619786,-3.8758473853159234,-4.241878009606346,-2.5342570117349856,-3.6983796446084285,-4.715868669193328,-4.650886635833193,-4.127402644842928,-3.635030015354953,-4.975415362278445,-4.4519816993331665,-1.6945335494202851,-0.911360431707528,-0.9628838896156301,-0.5301490246615482,-0.0608984006927694,5.719300979859999e-16,-0.4377433936151166,-1.4771188709067014,3.4988549306096863e-16,-1.2525457989763171,-0.5669698331051177,0.28538315881113807,0.37749829275648594,-0.4026909566723903,-1.9659464578365722,-2.1624381045577223,0.7044976463687566]},{\"hovertemplate\":\"name=Core<br>X=%{x}<br>Y=%{y}<br>Z=%{z}<extra></extra>\",\"legendgroup\":\"Core\",\"marker\":{\"color\":\"#EF553B\",\"symbol\":\"circle\"},\"mode\":\"markers\",\"name\":\"Core\",\"scene\":\"scene\",\"showlegend\":true,\"type\":\"scatter3d\",\"x\":[1.2212453270876722e-15,-1.6812281150911002,0.27395818961766605,2.265390898534025,-4.099124402084514,3.793771059230868,-1.2321533985628454,-2.270170930972369,4.735448227840382,-4.712606743775199,2.1609012790960063,1.5087949682955637,-4.261547844176837,4.635571718375819,-2.585950449137561,-0.534958962519971,2.8470056499883625,-3.1309348021494725,1.6161570898356845,3.3306690738754696e-16],\"y\":[5.105393173091126,4.567983365397322,4.03057355770352,3.4931637500097175,2.955753942315915,2.4183441346221124,1.8809343269283092,1.3435245192345067,0.8061147115407041,0.26870490384690165,-0.26870490384690116,-0.8061147115407035,-1.343524519234506,-1.8809343269283088,-2.418344134622111,-2.9557539423159147,-3.4931637500097166,-4.030573557703519,-4.567983365397321,-5.105393173091125],\"z\":[4.440892098500626e-16,1.5401426720684173,-3.121612269025105,2.9548012698492463,-0.72507738936245,-2.4132866072073953,4.58354922653158,-4.371075984495031,1.7293780977931055,1.9452955572402386,-4.61772051866452,4.8102761113400865,-2.4696540830352927,-1.0191174384841355,3.678248410995313,-4.128241392257597,2.399459375859042,0.12947398378013597,-1.6082921644628745,2.220446049250313e-16]}],                        {\"legend\":{\"title\":{\"text\":\"name\"},\"tracegroupgap\":0},\"margin\":{\"t\":60},\"scene\":{\"domain\":{\"x\":[0.0,1.0],\"y\":[0.0,1.0]},\"xaxis\":{\"title\":{\"text\":\"X\"}},\"yaxis\":{\"title\":{\"text\":\"Y\"}},\"zaxis\":{\"title\":{\"text\":\"Z\"}}},\"template\":{\"data\":{\"bar\":[{\"error_x\":{\"color\":\"#2a3f5f\"},\"error_y\":{\"color\":\"#2a3f5f\"},\"marker\":{\"line\":{\"color\":\"#E5ECF6\",\"width\":0.5},\"pattern\":{\"fillmode\":\"overlay\",\"size\":10,\"solidity\":0.2}},\"type\":\"bar\"}],\"barpolar\":[{\"marker\":{\"line\":{\"color\":\"#E5ECF6\",\"width\":0.5},\"pattern\":{\"fillmode\":\"overlay\",\"size\":10,\"solidity\":0.2}},\"type\":\"barpolar\"}],\"carpet\":[{\"aaxis\":{\"endlinecolor\":\"#2a3f5f\",\"gridcolor\":\"white\",\"linecolor\":\"white\",\"minorgridcolor\":\"white\",\"startlinecolor\":\"#2a3f5f\"},\"baxis\":{\"endlinecolor\":\"#2a3f5f\",\"gridcolor\":\"white\",\"linecolor\":\"white\",\"minorgridcolor\":\"white\",\"startlinecolor\":\"#2a3f5f\"},\"type\":\"carpet\"}],\"choropleth\":[{\"colorbar\":{\"outlinewidth\":0,\"ticks\":\"\"},\"type\":\"choropleth\"}],\"contour\":[{\"colorbar\":{\"outlinewidth\":0,\"ticks\":\"\"},\"colorscale\":[[0.0,\"#0d0887\"],[0.1111111111111111,\"#46039f\"],[0.2222222222222222,\"#7201a8\"],[0.3333333333333333,\"#9c179e\"],[0.4444444444444444,\"#bd3786\"],[0.5555555555555556,\"#d8576b\"],[0.6666666666666666,\"#ed7953\"],[0.7777777777777778,\"#fb9f3a\"],[0.8888888888888888,\"#fdca26\"],[1.0,\"#f0f921\"]],\"type\":\"contour\"}],\"contourcarpet\":[{\"colorbar\":{\"outlinewidth\":0,\"ticks\":\"\"},\"type\":\"contourcarpet\"}],\"heatmap\":[{\"colorbar\":{\"outlinewidth\":0,\"ticks\":\"\"},\"colorscale\":[[0.0,\"#0d0887\"],[0.1111111111111111,\"#46039f\"],[0.2222222222222222,\"#7201a8\"],[0.3333333333333333,\"#9c179e\"],[0.4444444444444444,\"#bd3786\"],[0.5555555555555556,\"#d8576b\"],[0.6666666666666666,\"#ed7953\"],[0.7777777777777778,\"#fb9f3a\"],[0.8888888888888888,\"#fdca26\"],[1.0,\"#f0f921\"]],\"type\":\"heatmap\"}],\"heatmapgl\":[{\"colorbar\":{\"outlinewidth\":0,\"ticks\":\"\"},\"colorscale\":[[0.0,\"#0d0887\"],[0.1111111111111111,\"#46039f\"],[0.2222222222222222,\"#7201a8\"],[0.3333333333333333,\"#9c179e\"],[0.4444444444444444,\"#bd3786\"],[0.5555555555555556,\"#d8576b\"],[0.6666666666666666,\"#ed7953\"],[0.7777777777777778,\"#fb9f3a\"],[0.8888888888888888,\"#fdca26\"],[1.0,\"#f0f921\"]],\"type\":\"heatmapgl\"}],\"histogram\":[{\"marker\":{\"pattern\":{\"fillmode\":\"overlay\",\"size\":10,\"solidity\":0.2}},\"type\":\"histogram\"}],\"histogram2d\":[{\"colorbar\":{\"outlinewidth\":0,\"ticks\":\"\"},\"colorscale\":[[0.0,\"#0d0887\"],[0.1111111111111111,\"#46039f\"],[0.2222222222222222,\"#7201a8\"],[0.3333333333333333,\"#9c179e\"],[0.4444444444444444,\"#bd3786\"],[0.5555555555555556,\"#d8576b\"],[0.6666666666666666,\"#ed7953\"],[0.7777777777777778,\"#fb9f3a\"],[0.8888888888888888,\"#fdca26\"],[1.0,\"#f0f921\"]],\"type\":\"histogram2d\"}],\"histogram2dcontour\":[{\"colorbar\":{\"outlinewidth\":0,\"ticks\":\"\"},\"colorscale\":[[0.0,\"#0d0887\"],[0.1111111111111111,\"#46039f\"],[0.2222222222222222,\"#7201a8\"],[0.3333333333333333,\"#9c179e\"],[0.4444444444444444,\"#bd3786\"],[0.5555555555555556,\"#d8576b\"],[0.6666666666666666,\"#ed7953\"],[0.7777777777777778,\"#fb9f3a\"],[0.8888888888888888,\"#fdca26\"],[1.0,\"#f0f921\"]],\"type\":\"histogram2dcontour\"}],\"mesh3d\":[{\"colorbar\":{\"outlinewidth\":0,\"ticks\":\"\"},\"type\":\"mesh3d\"}],\"parcoords\":[{\"line\":{\"colorbar\":{\"outlinewidth\":0,\"ticks\":\"\"}},\"type\":\"parcoords\"}],\"pie\":[{\"automargin\":true,\"type\":\"pie\"}],\"scatter\":[{\"marker\":{\"colorbar\":{\"outlinewidth\":0,\"ticks\":\"\"}},\"type\":\"scatter\"}],\"scatter3d\":[{\"line\":{\"colorbar\":{\"outlinewidth\":0,\"ticks\":\"\"}},\"marker\":{\"colorbar\":{\"outlinewidth\":0,\"ticks\":\"\"}},\"type\":\"scatter3d\"}],\"scattercarpet\":[{\"marker\":{\"colorbar\":{\"outlinewidth\":0,\"ticks\":\"\"}},\"type\":\"scattercarpet\"}],\"scattergeo\":[{\"marker\":{\"colorbar\":{\"outlinewidth\":0,\"ticks\":\"\"}},\"type\":\"scattergeo\"}],\"scattergl\":[{\"marker\":{\"colorbar\":{\"outlinewidth\":0,\"ticks\":\"\"}},\"type\":\"scattergl\"}],\"scattermapbox\":[{\"marker\":{\"colorbar\":{\"outlinewidth\":0,\"ticks\":\"\"}},\"type\":\"scattermapbox\"}],\"scatterpolar\":[{\"marker\":{\"colorbar\":{\"outlinewidth\":0,\"ticks\":\"\"}},\"type\":\"scatterpolar\"}],\"scatterpolargl\":[{\"marker\":{\"colorbar\":{\"outlinewidth\":0,\"ticks\":\"\"}},\"type\":\"scatterpolargl\"}],\"scatterternary\":[{\"marker\":{\"colorbar\":{\"outlinewidth\":0,\"ticks\":\"\"}},\"type\":\"scatterternary\"}],\"surface\":[{\"colorbar\":{\"outlinewidth\":0,\"ticks\":\"\"},\"colorscale\":[[0.0,\"#0d0887\"],[0.1111111111111111,\"#46039f\"],[0.2222222222222222,\"#7201a8\"],[0.3333333333333333,\"#9c179e\"],[0.4444444444444444,\"#bd3786\"],[0.5555555555555556,\"#d8576b\"],[0.6666666666666666,\"#ed7953\"],[0.7777777777777778,\"#fb9f3a\"],[0.8888888888888888,\"#fdca26\"],[1.0,\"#f0f921\"]],\"type\":\"surface\"}],\"table\":[{\"cells\":{\"fill\":{\"color\":\"#EBF0F8\"},\"line\":{\"color\":\"white\"}},\"header\":{\"fill\":{\"color\":\"#C8D4E3\"},\"line\":{\"color\":\"white\"}},\"type\":\"table\"}]},\"layout\":{\"annotationdefaults\":{\"arrowcolor\":\"#2a3f5f\",\"arrowhead\":0,\"arrowwidth\":1},\"autotypenumbers\":\"strict\",\"coloraxis\":{\"colorbar\":{\"outlinewidth\":0,\"ticks\":\"\"}},\"colorscale\":{\"diverging\":[[0,\"#8e0152\"],[0.1,\"#c51b7d\"],[0.2,\"#de77ae\"],[0.3,\"#f1b6da\"],[0.4,\"#fde0ef\"],[0.5,\"#f7f7f7\"],[0.6,\"#e6f5d0\"],[0.7,\"#b8e186\"],[0.8,\"#7fbc41\"],[0.9,\"#4d9221\"],[1,\"#276419\"]],\"sequential\":[[0.0,\"#0d0887\"],[0.1111111111111111,\"#46039f\"],[0.2222222222222222,\"#7201a8\"],[0.3333333333333333,\"#9c179e\"],[0.4444444444444444,\"#bd3786\"],[0.5555555555555556,\"#d8576b\"],[0.6666666666666666,\"#ed7953\"],[0.7777777777777778,\"#fb9f3a\"],[0.8888888888888888,\"#fdca26\"],[1.0,\"#f0f921\"]],\"sequentialminus\":[[0.0,\"#0d0887\"],[0.1111111111111111,\"#46039f\"],[0.2222222222222222,\"#7201a8\"],[0.3333333333333333,\"#9c179e\"],[0.4444444444444444,\"#bd3786\"],[0.5555555555555556,\"#d8576b\"],[0.6666666666666666,\"#ed7953\"],[0.7777777777777778,\"#fb9f3a\"],[0.8888888888888888,\"#fdca26\"],[1.0,\"#f0f921\"]]},\"colorway\":[\"#636efa\",\"#EF553B\",\"#00cc96\",\"#ab63fa\",\"#FFA15A\",\"#19d3f3\",\"#FF6692\",\"#B6E880\",\"#FF97FF\",\"#FECB52\"],\"font\":{\"color\":\"#2a3f5f\"},\"geo\":{\"bgcolor\":\"white\",\"lakecolor\":\"white\",\"landcolor\":\"#E5ECF6\",\"showlakes\":true,\"showland\":true,\"subunitcolor\":\"white\"},\"hoverlabel\":{\"align\":\"left\"},\"hovermode\":\"closest\",\"mapbox\":{\"style\":\"light\"},\"paper_bgcolor\":\"white\",\"plot_bgcolor\":\"#E5ECF6\",\"polar\":{\"angularaxis\":{\"gridcolor\":\"white\",\"linecolor\":\"white\",\"ticks\":\"\"},\"bgcolor\":\"#E5ECF6\",\"radialaxis\":{\"gridcolor\":\"white\",\"linecolor\":\"white\",\"ticks\":\"\"}},\"scene\":{\"xaxis\":{\"backgroundcolor\":\"#E5ECF6\",\"gridcolor\":\"white\",\"gridwidth\":2,\"linecolor\":\"white\",\"showbackground\":true,\"ticks\":\"\",\"zerolinecolor\":\"white\"},\"yaxis\":{\"backgroundcolor\":\"#E5ECF6\",\"gridcolor\":\"white\",\"gridwidth\":2,\"linecolor\":\"white\",\"showbackground\":true,\"ticks\":\"\",\"zerolinecolor\":\"white\"},\"zaxis\":{\"backgroundcolor\":\"#E5ECF6\",\"gridcolor\":\"white\",\"gridwidth\":2,\"linecolor\":\"white\",\"showbackground\":true,\"ticks\":\"\",\"zerolinecolor\":\"white\"}},\"shapedefaults\":{\"line\":{\"color\":\"#2a3f5f\"}},\"ternary\":{\"aaxis\":{\"gridcolor\":\"white\",\"linecolor\":\"white\",\"ticks\":\"\"},\"baxis\":{\"gridcolor\":\"white\",\"linecolor\":\"white\",\"ticks\":\"\"},\"bgcolor\":\"#E5ECF6\",\"caxis\":{\"gridcolor\":\"white\",\"linecolor\":\"white\",\"ticks\":\"\"}},\"title\":{\"x\":0.05},\"xaxis\":{\"automargin\":true,\"gridcolor\":\"white\",\"linecolor\":\"white\",\"ticks\":\"\",\"title\":{\"standoff\":15},\"zerolinecolor\":\"white\",\"zerolinewidth\":2},\"yaxis\":{\"automargin\":true,\"gridcolor\":\"white\",\"linecolor\":\"white\",\"ticks\":\"\",\"title\":{\"standoff\":15},\"zerolinecolor\":\"white\",\"zerolinewidth\":2}}}},                        {\"responsive\": true}                    ).then(function(){\n",
       "                            \n",
       "var gd = document.getElementById('3cd55a16-5947-47b5-a5d1-a813b3172b4a');\n",
       "var x = new MutationObserver(function (mutations, observer) {{\n",
       "        var display = window.getComputedStyle(gd).display;\n",
       "        if (!display || display === 'none') {{\n",
       "            console.log([gd, 'removed!']);\n",
       "            Plotly.purge(gd);\n",
       "            observer.disconnect();\n",
       "        }}\n",
       "}});\n",
       "\n",
       "// Listen for the removal of the full notebook cells\n",
       "var notebookContainer = gd.closest('#notebook-container');\n",
       "if (notebookContainer) {{\n",
       "    x.observe(notebookContainer, {childList: true});\n",
       "}}\n",
       "\n",
       "// Listen for the clearing of the current output cell\n",
       "var outputEl = gd.closest('.output');\n",
       "if (outputEl) {{\n",
       "    x.observe(outputEl, {childList: true});\n",
       "}}\n",
       "\n",
       "                        })                };                });            </script>        </div>"
      ]
     },
     "metadata": {},
     "output_type": "display_data"
    }
   ],
   "source": [
    "fig = px.scatter_3d(PandasNPDataframe, x='X', y='Y', z='Z', color='name')\n",
    "#fig = px.scatter_3d(dfCore, x='X', y='Y', z='Z')\n",
    "fig.show()"
   ]
  },
  {
   "cell_type": "code",
   "execution_count": 138,
   "metadata": {},
   "outputs": [
    {
     "name": "stderr",
     "output_type": "stream",
     "text": [
      "/home/sang/anaconda3/lib/python3.8/site-packages/MDAnalysis/converters/RDKit.py:368: UserWarning:\n",
      "\n",
      "No hydrogen atom found in the topology. Forcing to continue the conversion.\n",
      "\n"
     ]
    }
   ],
   "source": [
    "m = Chem.MolFromMolFile('c70.mol')\n",
    "mol1 = u1.atoms.convert_to(\"RDKIT\")\n",
    "u = mda.Universe('c70.pdb')\n",
    "mol1 = u.atoms.convert_to(\"RDKIT\", force=True)"
   ]
  },
  {
   "cell_type": "code",
   "execution_count": 141,
   "metadata": {},
   "outputs": [
    {
     "data": {
      "text/plain": [
       "[[3.973, 0.535, -0.149],\n",
       " [3.773, -0.443, -1.066],\n",
       " [3.416, -1.699, -0.675],\n",
       " [3.228, 0.101, -2.174],\n",
       " [2.317, -0.592, -2.906],\n",
       " [3.061, 1.417, -1.949],\n",
       " [1.982, 2.069, -2.456],\n",
       " [3.503, 1.684, -0.702],\n",
       " [2.88, 2.634, 0.051],\n",
       " [3.809, 0.316, 1.179],\n",
       " [3.357, -0.977, 1.625],\n",
       " [2.456, -0.799, 2.613],\n",
       " [3.189, -1.963, 0.727],\n",
       " [2.151, -2.808, 0.82],\n",
       " [2.473, -2.406, -1.323],\n",
       " [1.711, -3.074, -0.43],\n",
       " [1.915, -1.898, -2.439],\n",
       " [0.602, -2.029, -2.674],\n",
       " [1.192, -0.021, -3.368],\n",
       " [0.159, -0.881, -3.235],\n",
       " [0.997, 1.299, -3.18],\n",
       " [-0.212, 1.78, -2.857],\n",
       " [1.276, 2.95, -1.728],\n",
       " [-0.042, 2.787, -1.971],\n",
       " [1.7, 3.271, -0.491],\n",
       " [0.827, 3.43, 0.515],\n",
       " [2.607, 2.453, 1.353],\n",
       " [1.383, 2.918, 1.635],\n",
       " [3.057, 1.237, 1.986],\n",
       " [2.247, 0.532, 2.804],\n",
       " [0.543, 2.281, 2.647],\n",
       " [1.047, 1.019, 3.244],\n",
       " [-3.627, 0.321, 2.123],\n",
       " [-4.038, -0.018, 0.876],\n",
       " [-3.878, 0.843, -0.169],\n",
       " [-3.851, -1.344, 0.7],\n",
       " [-3.5, -1.84, -0.517],\n",
       " [-3.299, -1.838, 1.826],\n",
       " [-2.39, -2.848, 1.764],\n",
       " [-3.141, -0.813, 2.693],\n",
       " [-2.066, -0.791, 3.532],\n",
       " [-3.035, 1.513, 2.386],\n",
       " [-2.786, 2.424, 1.29],\n",
       " [-1.466, 3.008, 1.455],\n",
       " [-3.203, 2.104, 0.062],\n",
       " [-2.347, 2.37, -1.072],\n",
       " [-3.467, 0.415, -1.379],\n",
       " [-2.513, 1.357, -1.943],\n",
       " [-3.28, -0.894, -1.59],\n",
       " [-2.128, -1.346, -2.333],\n",
       " [-2.553, -2.792, -0.646],\n",
       " [-1.699, -2.496, -1.786],\n",
       " [-1.993, -3.317, 0.452],\n",
       " [-0.568, -3.551, 0.494],\n",
       " [-1.276, -2.843, 2.524],\n",
       " [-0.136, -3.296, 1.74],\n",
       " [-1.091, -1.856, 3.41],\n",
       " [0.212, -1.252, 3.547],\n",
       " [-1.369, 0.339, 3.769],\n",
       " [0.059, 0.064, 3.761],\n",
       " [-1.843, 1.569, 3.193],\n",
       " [-0.907, 2.479, 2.564],\n",
       " [-1.401, 0.929, -2.793],\n",
       " [-1.208, -0.409, -2.984],\n",
       " [-0.274, -2.821, -1.808],\n",
       " [0.289, -3.343, -0.679],\n",
       " [1.214, -2.775, 1.944],\n",
       " [1.38, -1.761, 2.841],\n",
       " [-0.621, 3.371, 0.314],\n",
       " [-1.054, 3.049, -0.94]]"
      ]
     },
     "execution_count": 141,
     "metadata": {},
     "output_type": "execute_result"
    }
   ],
   "source": [
    "u = mda.Universe('c70.pdb')\n",
    "mol1 = u.atoms.convert_to(\"RDKIT\", force=True)\n",
    "C70List = [] \n",
    "for index, atoms in enumerate(u.atoms):\n",
    "    C70List.append(list(atoms.position))\n",
    "C70List"
   ]
  },
  {
   "cell_type": "code",
   "execution_count": 111,
   "metadata": {},
   "outputs": [
    {
     "data": {
      "text/plain": [
       "[array([ 0.39249998,  1.5395    , -3.0185    ], dtype=float32),\n",
       " array([-3.22  , -1.3255,  2.2595], dtype=float32),\n",
       " array([ 2.67      , -2.3855    ,  0.77349997], dtype=float32),\n",
       " array([-2.4299998,  1.8634999, -1.5074999], dtype=float32),\n",
       " array([-1.606,  0.954,  3.481], dtype=float32),\n",
       " array([-3.0265    , -2.316     , -0.58150005], dtype=float32),\n",
       " array([ 0.67550004, -0.451     , -3.3014998 ], dtype=float32),\n",
       " array([-0.352 , -3.4235,  1.117 ], dtype=float32),\n",
       " array([ 1.7544999 , -0.30650002, -3.137     ], dtype=float32),\n",
       " array([-3.3734999, -0.2395   , -1.4844999], dtype=float32),\n",
       " array([-3.575    , -1.5910001,  1.263    ], dtype=float32),\n",
       " array([ 1.2969999, -2.2680001,  2.3925   ], dtype=float32),\n",
       " array([-1.8330001, -2.8455   ,  2.144    ], dtype=float32),\n",
       " array([-3.9445, -0.681 ,  0.788 ], dtype=float32),\n",
       " array([-1.1865,  2.7435,  2.0095], dtype=float32),\n",
       " array([ 3.273, -1.47 ,  1.176], dtype=float32),\n",
       " array([ 3.5005    , -0.17099999, -1.62      ], dtype=float32),\n",
       " array([-3.331 ,  0.917 ,  2.2545], dtype=float32),\n",
       " array([-1.7175    , -0.22600001,  3.6505    ], dtype=float32),\n",
       " array([-1.9135001, -1.921    , -2.0595   ], dtype=float32),\n",
       " array([-0.8375,  3.21  , -0.313 ], dtype=float32),\n",
       " array([3.891     , 0.42550004, 0.515     ], dtype=float32),\n",
       " array([ 0.617 ,  2.8685, -1.8495], dtype=float32),\n",
       " array([ 1.629 ,  2.5095, -2.092 ], dtype=float32),\n",
       " array([1.6470001 , 0.77550006, 3.024     ], dtype=float32),\n",
       " array([-3.6725001,  0.629    , -0.774    ], dtype=float32),\n",
       " array([-1.1835, -2.3495,  2.967 ], dtype=float32),\n",
       " array([-3.8325   ,  0.1515   ,  1.4994999], dtype=float32),\n",
       " array([ 0.00750001, -3.082     , -1.2435    ], dtype=float32),\n",
       " array([-1.3045,  0.26  , -2.8885], dtype=float32),\n",
       " array([ 3.1445,  0.759 , -2.0615], dtype=float32),\n",
       " array([-2.273     , -3.0545    , -0.09700002], dtype=float32),\n",
       " array([ 0.1355   , -0.594    ,  3.6539998], dtype=float32),\n",
       " array([2.652 , 0.8845, 2.395 ], dtype=float32),\n",
       " array([ 3.8730001 ,  0.04600002, -0.6075    ], dtype=float32),\n",
       " array([ 1.2585, -1.9635, -2.5565], dtype=float32),\n",
       " array([0.963 , 2.5995, 2.141 ], dtype=float32),\n",
       " array([1.2635    , 3.3505    , 0.01199999], dtype=float32),\n",
       " array([1.9950001, 2.6855001, 1.494    ], dtype=float32),\n",
       " array([2.7435002, 2.5435   , 0.702    ], dtype=float32),\n",
       " array([ 2.092    , -2.7399998, -0.8765   ], dtype=float32),\n",
       " array([-2.9945002,  2.264    ,  0.676    ], dtype=float32),\n",
       " array([ 3.282 ,  1.5505, -1.3255], dtype=float32),\n",
       " array([ 2.9065, -0.888 ,  2.119 ], dtype=float32),\n",
       " array([ 2.9445    , -2.0525    , -0.99899995], dtype=float32)]"
      ]
     },
     "execution_count": 111,
     "metadata": {},
     "output_type": "execute_result"
    }
   ],
   "source": [
    "def ComputeC70Distances(coordinate):\n",
    "    \"\"\"    \n",
    "    Parameters\n",
    "    ----------\n",
    "    coordinate: \n",
    "        path and file where the pdb file is.\n",
    "    filename : str\n",
    "    copy : bool\n",
    "    dtype : data-type\n",
    "    iterable : iterable object\n",
    "    shape : int or tuple of int\n",
    "    files : list of str\n",
    "    \n",
    "    Returns\n",
    "    -------\n",
    "    int\n",
    "        Description of anonymous integer return value.\n",
    "    \"\"\"\n",
    "    u = mda.Universe(coordinate)\n",
    "    CorePositions, CoreIndex = [], []\n",
    "    C70CGBeadPositions = []\n",
    "    DistanceDict = {}\n",
    "    CorePositions = [[index, atoms.position] for index, atoms in enumerate(u.atoms)]\n",
    "    for index, atoms in enumerate(u.atoms): # iterate through items \n",
    "        DistanceDict[index] = []\n",
    "        # Get the distance between atoms in the core positions  \n",
    "        for items in CorePositions:\n",
    "            # Find the distance between the index atoms in the index, atom.. \n",
    "            # and the core \n",
    "            dist = distance.euclidean(items[1], atoms.position)\n",
    "            Entry = [index, items[0], dist]\n",
    "            # Sort entry by dist \n",
    "            DistanceDict[index].append(Entry)\n",
    "    ClosestAtomsDistance = [] # List to store the atoms with the closest distances\n",
    "    # Sort each entry by distance \n",
    "    for key in DistanceDict.keys():\n",
    "        DistanceDict[key] = sorted(DistanceDict[key], key=itemgetter(2)) # sort entries by closest distance \n",
    "        DistanceDict[key][1][0:2] = sorted(DistanceDict[key][1][0:2]) # \n",
    "        ClosestAtomsDistance.append(DistanceDict[key][1])\n",
    "    # Remove duplicate entries \n",
    "    UniqueSetsCoordinates = [list(x) for x in set(tuple(x) for x in ClosestAtomsDistance)]       \n",
    "    # Take the indices in the unique data and compute the averge coordinates\n",
    "    for entry in UniqueSetsCoordinates:\n",
    "        data = [list(CorePositions[entry[0]][1]), list(CorePositions[entry[1]][1])]\n",
    "        averaged = np.average(data, axis=0)\n",
    "        C70CGBeadPositions.append(averaged)\n",
    "    return C70CGBeadPositions\n",
    "\n",
    "NPPositions = ComputeC70Distances('c70.pdb')\n",
    "NPPositions\n"
   ]
  },
  {
   "cell_type": "code",
   "execution_count": 112,
   "metadata": {},
   "outputs": [
    {
     "data": {
      "application/vnd.plotly.v1+json": {
       "config": {
        "plotlyServerURL": "https://plot.ly"
       },
       "data": [
        {
         "marker": {
          "color": [
           "blue"
          ],
          "line": {
           "color": "DarkSlateGrey",
           "width": 5
          },
          "size": [
           0,
           5
          ]
         },
         "name": "Vector1",
         "type": "scatter3d",
         "x": [
          0,
          0.39249998331069946
         ],
         "y": [
          0,
          1.5394999980926514
         ],
         "z": [
          0,
          -3.0185000896453857
         ]
        },
        {
         "marker": {
          "color": [
           "blue"
          ],
          "line": {
           "color": "DarkSlateGrey",
           "width": 5
          },
          "size": [
           0,
           5
          ]
         },
         "name": "Vector2",
         "type": "scatter3d",
         "x": [
          0,
          -3.2200000286102295
         ],
         "y": [
          0,
          -1.3255000114440918
         ],
         "z": [
          0,
          2.259500026702881
         ]
        },
        {
         "marker": {
          "color": [
           "blue"
          ],
          "line": {
           "color": "DarkSlateGrey",
           "width": 5
          },
          "size": [
           0,
           5
          ]
         },
         "name": "Vector3",
         "type": "scatter3d",
         "x": [
          0,
          2.6700000762939453
         ],
         "y": [
          0,
          -2.385499954223633
         ],
         "z": [
          0,
          0.7734999656677246
         ]
        },
        {
         "marker": {
          "color": [
           "blue"
          ],
          "line": {
           "color": "DarkSlateGrey",
           "width": 5
          },
          "size": [
           0,
           5
          ]
         },
         "name": "Vector4",
         "type": "scatter3d",
         "x": [
          0,
          -2.429999828338623
         ],
         "y": [
          0,
          1.8634998798370361
         ],
         "z": [
          0,
          -1.5074999332427979
         ]
        },
        {
         "marker": {
          "color": [
           "blue"
          ],
          "line": {
           "color": "DarkSlateGrey",
           "width": 5
          },
          "size": [
           0,
           5
          ]
         },
         "name": "Vector5",
         "type": "scatter3d",
         "x": [
          0,
          -1.6059999465942383
         ],
         "y": [
          0,
          0.9539999961853027
         ],
         "z": [
          0,
          3.4809999465942383
         ]
        },
        {
         "marker": {
          "color": [
           "blue"
          ],
          "line": {
           "color": "DarkSlateGrey",
           "width": 5
          },
          "size": [
           0,
           5
          ]
         },
         "name": "Vector6",
         "type": "scatter3d",
         "x": [
          0,
          -3.0264999866485596
         ],
         "y": [
          0,
          -2.315999984741211
         ],
         "z": [
          0,
          -0.5815000534057617
         ]
        },
        {
         "marker": {
          "color": [
           "blue"
          ],
          "line": {
           "color": "DarkSlateGrey",
           "width": 5
          },
          "size": [
           0,
           5
          ]
         },
         "name": "Vector7",
         "type": "scatter3d",
         "x": [
          0,
          0.6755000352859497
         ],
         "y": [
          0,
          -0.45100000500679016
         ],
         "z": [
          0,
          -3.301499843597412
         ]
        },
        {
         "marker": {
          "color": [
           "blue"
          ],
          "line": {
           "color": "DarkSlateGrey",
           "width": 5
          },
          "size": [
           0,
           5
          ]
         },
         "name": "Vector8",
         "type": "scatter3d",
         "x": [
          0,
          -0.35199999809265137
         ],
         "y": [
          0,
          -3.4235000610351562
         ],
         "z": [
          0,
          1.1169999837875366
         ]
        },
        {
         "marker": {
          "color": [
           "blue"
          ],
          "line": {
           "color": "DarkSlateGrey",
           "width": 5
          },
          "size": [
           0,
           5
          ]
         },
         "name": "Vector9",
         "type": "scatter3d",
         "x": [
          0,
          1.754499912261963
         ],
         "y": [
          0,
          -0.30650001764297485
         ],
         "z": [
          0,
          -3.13700008392334
         ]
        },
        {
         "marker": {
          "color": [
           "blue"
          ],
          "line": {
           "color": "DarkSlateGrey",
           "width": 5
          },
          "size": [
           0,
           5
          ]
         },
         "name": "Vector10",
         "type": "scatter3d",
         "x": [
          0,
          -3.373499870300293
         ],
         "y": [
          0,
          -0.2395000010728836
         ],
         "z": [
          0,
          -1.4844999313354492
         ]
        },
        {
         "marker": {
          "color": [
           "blue"
          ],
          "line": {
           "color": "DarkSlateGrey",
           "width": 5
          },
          "size": [
           0,
           5
          ]
         },
         "name": "Vector11",
         "type": "scatter3d",
         "x": [
          0,
          -3.575000047683716
         ],
         "y": [
          0,
          -1.5910000801086426
         ],
         "z": [
          0,
          1.2630000114440918
         ]
        },
        {
         "marker": {
          "color": [
           "blue"
          ],
          "line": {
           "color": "DarkSlateGrey",
           "width": 5
          },
          "size": [
           0,
           5
          ]
         },
         "name": "Vector12",
         "type": "scatter3d",
         "x": [
          0,
          1.2969999313354492
         ],
         "y": [
          0,
          -2.2680001258850098
         ],
         "z": [
          0,
          2.3924999237060547
         ]
        },
        {
         "marker": {
          "color": [
           "blue"
          ],
          "line": {
           "color": "DarkSlateGrey",
           "width": 5
          },
          "size": [
           0,
           5
          ]
         },
         "name": "Vector13",
         "type": "scatter3d",
         "x": [
          0,
          -1.8330000638961792
         ],
         "y": [
          0,
          -2.8454999923706055
         ],
         "z": [
          0,
          2.1440000534057617
         ]
        },
        {
         "marker": {
          "color": [
           "blue"
          ],
          "line": {
           "color": "DarkSlateGrey",
           "width": 5
          },
          "size": [
           0,
           5
          ]
         },
         "name": "Vector14",
         "type": "scatter3d",
         "x": [
          0,
          -3.944499969482422
         ],
         "y": [
          0,
          -0.6809999942779541
         ],
         "z": [
          0,
          0.7879999876022339
         ]
        },
        {
         "marker": {
          "color": [
           "blue"
          ],
          "line": {
           "color": "DarkSlateGrey",
           "width": 5
          },
          "size": [
           0,
           5
          ]
         },
         "name": "Vector15",
         "type": "scatter3d",
         "x": [
          0,
          -1.1864999532699585
         ],
         "y": [
          0,
          2.743499994277954
         ],
         "z": [
          0,
          2.009500026702881
         ]
        },
        {
         "marker": {
          "color": [
           "blue"
          ],
          "line": {
           "color": "DarkSlateGrey",
           "width": 5
          },
          "size": [
           0,
           5
          ]
         },
         "name": "Vector16",
         "type": "scatter3d",
         "x": [
          0,
          3.2730000019073486
         ],
         "y": [
          0,
          -1.4700000286102295
         ],
         "z": [
          0,
          1.1759999990463257
         ]
        },
        {
         "marker": {
          "color": [
           "blue"
          ],
          "line": {
           "color": "DarkSlateGrey",
           "width": 5
          },
          "size": [
           0,
           5
          ]
         },
         "name": "Vector17",
         "type": "scatter3d",
         "x": [
          0,
          3.500499963760376
         ],
         "y": [
          0,
          -0.17099998891353607
         ],
         "z": [
          0,
          -1.6200000047683716
         ]
        },
        {
         "marker": {
          "color": [
           "blue"
          ],
          "line": {
           "color": "DarkSlateGrey",
           "width": 5
          },
          "size": [
           0,
           5
          ]
         },
         "name": "Vector18",
         "type": "scatter3d",
         "x": [
          0,
          -3.3310000896453857
         ],
         "y": [
          0,
          0.9169999957084656
         ],
         "z": [
          0,
          2.254499912261963
         ]
        },
        {
         "marker": {
          "color": [
           "blue"
          ],
          "line": {
           "color": "DarkSlateGrey",
           "width": 5
          },
          "size": [
           0,
           5
          ]
         },
         "name": "Vector19",
         "type": "scatter3d",
         "x": [
          0,
          -1.7174999713897705
         ],
         "y": [
          0,
          -0.22600001096725464
         ],
         "z": [
          0,
          3.6505000591278076
         ]
        },
        {
         "marker": {
          "color": [
           "blue"
          ],
          "line": {
           "color": "DarkSlateGrey",
           "width": 5
          },
          "size": [
           0,
           5
          ]
         },
         "name": "Vector20",
         "type": "scatter3d",
         "x": [
          0,
          -1.9135000705718994
         ],
         "y": [
          0,
          -1.9210000038146973
         ],
         "z": [
          0,
          -2.059499979019165
         ]
        },
        {
         "marker": {
          "color": [
           "blue"
          ],
          "line": {
           "color": "DarkSlateGrey",
           "width": 5
          },
          "size": [
           0,
           5
          ]
         },
         "name": "Vector21",
         "type": "scatter3d",
         "x": [
          0,
          -0.8374999761581421
         ],
         "y": [
          0,
          3.2100000381469727
         ],
         "z": [
          0,
          -0.31299999356269836
         ]
        },
        {
         "marker": {
          "color": [
           "blue"
          ],
          "line": {
           "color": "DarkSlateGrey",
           "width": 5
          },
          "size": [
           0,
           5
          ]
         },
         "name": "Vector22",
         "type": "scatter3d",
         "x": [
          0,
          3.8910000324249268
         ],
         "y": [
          0,
          0.4255000352859497
         ],
         "z": [
          0,
          0.5149999856948853
         ]
        },
        {
         "marker": {
          "color": [
           "blue"
          ],
          "line": {
           "color": "DarkSlateGrey",
           "width": 5
          },
          "size": [
           0,
           5
          ]
         },
         "name": "Vector23",
         "type": "scatter3d",
         "x": [
          0,
          0.6169999837875366
         ],
         "y": [
          0,
          2.868499994277954
         ],
         "z": [
          0,
          -1.8494999408721924
         ]
        },
        {
         "marker": {
          "color": [
           "blue"
          ],
          "line": {
           "color": "DarkSlateGrey",
           "width": 5
          },
          "size": [
           0,
           5
          ]
         },
         "name": "Vector24",
         "type": "scatter3d",
         "x": [
          0,
          1.628999948501587
         ],
         "y": [
          0,
          2.509500026702881
         ],
         "z": [
          0,
          -2.0920000076293945
         ]
        },
        {
         "marker": {
          "color": [
           "blue"
          ],
          "line": {
           "color": "DarkSlateGrey",
           "width": 5
          },
          "size": [
           0,
           5
          ]
         },
         "name": "Vector25",
         "type": "scatter3d",
         "x": [
          0,
          1.6470000743865967
         ],
         "y": [
          0,
          0.7755000591278076
         ],
         "z": [
          0,
          3.0239999294281006
         ]
        },
        {
         "marker": {
          "color": [
           "blue"
          ],
          "line": {
           "color": "DarkSlateGrey",
           "width": 5
          },
          "size": [
           0,
           5
          ]
         },
         "name": "Vector26",
         "type": "scatter3d",
         "x": [
          0,
          -3.6725001335144043
         ],
         "y": [
          0,
          0.6290000081062317
         ],
         "z": [
          0,
          -0.7739999890327454
         ]
        },
        {
         "marker": {
          "color": [
           "blue"
          ],
          "line": {
           "color": "DarkSlateGrey",
           "width": 5
          },
          "size": [
           0,
           5
          ]
         },
         "name": "Vector27",
         "type": "scatter3d",
         "x": [
          0,
          -1.183500051498413
         ],
         "y": [
          0,
          -2.3494999408721924
         ],
         "z": [
          0,
          2.9670000076293945
         ]
        },
        {
         "marker": {
          "color": [
           "blue"
          ],
          "line": {
           "color": "DarkSlateGrey",
           "width": 5
          },
          "size": [
           0,
           5
          ]
         },
         "name": "Vector28",
         "type": "scatter3d",
         "x": [
          0,
          -3.8324999809265137
         ],
         "y": [
          0,
          0.15150000154972076
         ],
         "z": [
          0,
          1.4994999170303345
         ]
        },
        {
         "marker": {
          "color": [
           "blue"
          ],
          "line": {
           "color": "DarkSlateGrey",
           "width": 5
          },
          "size": [
           0,
           5
          ]
         },
         "name": "Vector29",
         "type": "scatter3d",
         "x": [
          0,
          0.007500007748603821
         ],
         "y": [
          0,
          -3.0820000171661377
         ],
         "z": [
          0,
          -1.243499994277954
         ]
        },
        {
         "marker": {
          "color": [
           "blue"
          ],
          "line": {
           "color": "DarkSlateGrey",
           "width": 5
          },
          "size": [
           0,
           5
          ]
         },
         "name": "Vector30",
         "type": "scatter3d",
         "x": [
          0,
          -1.3044999837875366
         ],
         "y": [
          0,
          0.25999999046325684
         ],
         "z": [
          0,
          -2.8884999752044678
         ]
        },
        {
         "marker": {
          "color": [
           "blue"
          ],
          "line": {
           "color": "DarkSlateGrey",
           "width": 5
          },
          "size": [
           0,
           5
          ]
         },
         "name": "Vector31",
         "type": "scatter3d",
         "x": [
          0,
          3.1445000171661377
         ],
         "y": [
          0,
          0.7590000033378601
         ],
         "z": [
          0,
          -2.061500072479248
         ]
        },
        {
         "marker": {
          "color": [
           "blue"
          ],
          "line": {
           "color": "DarkSlateGrey",
           "width": 5
          },
          "size": [
           0,
           5
          ]
         },
         "name": "Vector32",
         "type": "scatter3d",
         "x": [
          0,
          -2.2730000019073486
         ],
         "y": [
          0,
          -3.054500102996826
         ],
         "z": [
          0,
          -0.09700001776218414
         ]
        },
        {
         "marker": {
          "color": [
           "blue"
          ],
          "line": {
           "color": "DarkSlateGrey",
           "width": 5
          },
          "size": [
           0,
           5
          ]
         },
         "name": "Vector33",
         "type": "scatter3d",
         "x": [
          0,
          0.1354999989271164
         ],
         "y": [
          0,
          -0.593999981880188
         ],
         "z": [
          0,
          3.6539998054504395
         ]
        },
        {
         "marker": {
          "color": [
           "blue"
          ],
          "line": {
           "color": "DarkSlateGrey",
           "width": 5
          },
          "size": [
           0,
           5
          ]
         },
         "name": "Vector34",
         "type": "scatter3d",
         "x": [
          0,
          2.6519999504089355
         ],
         "y": [
          0,
          0.8845000267028809
         ],
         "z": [
          0,
          2.3949999809265137
         ]
        },
        {
         "marker": {
          "color": [
           "blue"
          ],
          "line": {
           "color": "DarkSlateGrey",
           "width": 5
          },
          "size": [
           0,
           5
          ]
         },
         "name": "Vector35",
         "type": "scatter3d",
         "x": [
          0,
          3.873000144958496
         ],
         "y": [
          0,
          0.04600001871585846
         ],
         "z": [
          0,
          -0.6075000166893005
         ]
        },
        {
         "marker": {
          "color": [
           "blue"
          ],
          "line": {
           "color": "DarkSlateGrey",
           "width": 5
          },
          "size": [
           0,
           5
          ]
         },
         "name": "Vector36",
         "type": "scatter3d",
         "x": [
          0,
          1.2584999799728394
         ],
         "y": [
          0,
          -1.9635000228881836
         ],
         "z": [
          0,
          -2.55649995803833
         ]
        },
        {
         "marker": {
          "color": [
           "blue"
          ],
          "line": {
           "color": "DarkSlateGrey",
           "width": 5
          },
          "size": [
           0,
           5
          ]
         },
         "name": "Vector37",
         "type": "scatter3d",
         "x": [
          0,
          0.9629999995231628
         ],
         "y": [
          0,
          2.5994999408721924
         ],
         "z": [
          0,
          2.1410000324249268
         ]
        },
        {
         "marker": {
          "color": [
           "blue"
          ],
          "line": {
           "color": "DarkSlateGrey",
           "width": 5
          },
          "size": [
           0,
           5
          ]
         },
         "name": "Vector38",
         "type": "scatter3d",
         "x": [
          0,
          1.2634999752044678
         ],
         "y": [
          0,
          3.3505001068115234
         ],
         "z": [
          0,
          0.01199999451637268
         ]
        },
        {
         "marker": {
          "color": [
           "blue"
          ],
          "line": {
           "color": "DarkSlateGrey",
           "width": 5
          },
          "size": [
           0,
           5
          ]
         },
         "name": "Vector39",
         "type": "scatter3d",
         "x": [
          0,
          1.9950001239776611
         ],
         "y": [
          0,
          2.685500144958496
         ],
         "z": [
          0,
          1.49399995803833
         ]
        },
        {
         "marker": {
          "color": [
           "blue"
          ],
          "line": {
           "color": "DarkSlateGrey",
           "width": 5
          },
          "size": [
           0,
           5
          ]
         },
         "name": "Vector40",
         "type": "scatter3d",
         "x": [
          0,
          2.743500232696533
         ],
         "y": [
          0,
          2.5434999465942383
         ],
         "z": [
          0,
          0.7020000219345093
         ]
        },
        {
         "marker": {
          "color": [
           "blue"
          ],
          "line": {
           "color": "DarkSlateGrey",
           "width": 5
          },
          "size": [
           0,
           5
          ]
         },
         "name": "Vector41",
         "type": "scatter3d",
         "x": [
          0,
          2.0920000076293945
         ],
         "y": [
          0,
          -2.739999771118164
         ],
         "z": [
          0,
          -0.8765000104904175
         ]
        },
        {
         "marker": {
          "color": [
           "blue"
          ],
          "line": {
           "color": "DarkSlateGrey",
           "width": 5
          },
          "size": [
           0,
           5
          ]
         },
         "name": "Vector42",
         "type": "scatter3d",
         "x": [
          0,
          -2.994500160217285
         ],
         "y": [
          0,
          2.2639999389648438
         ],
         "z": [
          0,
          0.6759999990463257
         ]
        },
        {
         "marker": {
          "color": [
           "blue"
          ],
          "line": {
           "color": "DarkSlateGrey",
           "width": 5
          },
          "size": [
           0,
           5
          ]
         },
         "name": "Vector43",
         "type": "scatter3d",
         "x": [
          0,
          3.2820000648498535
         ],
         "y": [
          0,
          1.5505000352859497
         ],
         "z": [
          0,
          -1.3255000114440918
         ]
        },
        {
         "marker": {
          "color": [
           "blue"
          ],
          "line": {
           "color": "DarkSlateGrey",
           "width": 5
          },
          "size": [
           0,
           5
          ]
         },
         "name": "Vector44",
         "type": "scatter3d",
         "x": [
          0,
          2.9065001010894775
         ],
         "y": [
          0,
          -0.8880000114440918
         ],
         "z": [
          0,
          2.11899995803833
         ]
        },
        {
         "marker": {
          "color": [
           "blue"
          ],
          "line": {
           "color": "DarkSlateGrey",
           "width": 5
          },
          "size": [
           0,
           5
          ]
         },
         "name": "Vector45",
         "type": "scatter3d",
         "x": [
          0,
          2.944499969482422
         ],
         "y": [
          0,
          -2.052500009536743
         ],
         "z": [
          0,
          -0.9989999532699585
         ]
        }
       ],
       "layout": {
        "margin": {
         "b": 4,
         "l": 4,
         "r": 4,
         "t": 4
        },
        "template": {
         "data": {
          "bar": [
           {
            "error_x": {
             "color": "#2a3f5f"
            },
            "error_y": {
             "color": "#2a3f5f"
            },
            "marker": {
             "line": {
              "color": "#E5ECF6",
              "width": 0.5
             },
             "pattern": {
              "fillmode": "overlay",
              "size": 10,
              "solidity": 0.2
             }
            },
            "type": "bar"
           }
          ],
          "barpolar": [
           {
            "marker": {
             "line": {
              "color": "#E5ECF6",
              "width": 0.5
             },
             "pattern": {
              "fillmode": "overlay",
              "size": 10,
              "solidity": 0.2
             }
            },
            "type": "barpolar"
           }
          ],
          "carpet": [
           {
            "aaxis": {
             "endlinecolor": "#2a3f5f",
             "gridcolor": "white",
             "linecolor": "white",
             "minorgridcolor": "white",
             "startlinecolor": "#2a3f5f"
            },
            "baxis": {
             "endlinecolor": "#2a3f5f",
             "gridcolor": "white",
             "linecolor": "white",
             "minorgridcolor": "white",
             "startlinecolor": "#2a3f5f"
            },
            "type": "carpet"
           }
          ],
          "choropleth": [
           {
            "colorbar": {
             "outlinewidth": 0,
             "ticks": ""
            },
            "type": "choropleth"
           }
          ],
          "contour": [
           {
            "colorbar": {
             "outlinewidth": 0,
             "ticks": ""
            },
            "colorscale": [
             [
              0,
              "#0d0887"
             ],
             [
              0.1111111111111111,
              "#46039f"
             ],
             [
              0.2222222222222222,
              "#7201a8"
             ],
             [
              0.3333333333333333,
              "#9c179e"
             ],
             [
              0.4444444444444444,
              "#bd3786"
             ],
             [
              0.5555555555555556,
              "#d8576b"
             ],
             [
              0.6666666666666666,
              "#ed7953"
             ],
             [
              0.7777777777777778,
              "#fb9f3a"
             ],
             [
              0.8888888888888888,
              "#fdca26"
             ],
             [
              1,
              "#f0f921"
             ]
            ],
            "type": "contour"
           }
          ],
          "contourcarpet": [
           {
            "colorbar": {
             "outlinewidth": 0,
             "ticks": ""
            },
            "type": "contourcarpet"
           }
          ],
          "heatmap": [
           {
            "colorbar": {
             "outlinewidth": 0,
             "ticks": ""
            },
            "colorscale": [
             [
              0,
              "#0d0887"
             ],
             [
              0.1111111111111111,
              "#46039f"
             ],
             [
              0.2222222222222222,
              "#7201a8"
             ],
             [
              0.3333333333333333,
              "#9c179e"
             ],
             [
              0.4444444444444444,
              "#bd3786"
             ],
             [
              0.5555555555555556,
              "#d8576b"
             ],
             [
              0.6666666666666666,
              "#ed7953"
             ],
             [
              0.7777777777777778,
              "#fb9f3a"
             ],
             [
              0.8888888888888888,
              "#fdca26"
             ],
             [
              1,
              "#f0f921"
             ]
            ],
            "type": "heatmap"
           }
          ],
          "heatmapgl": [
           {
            "colorbar": {
             "outlinewidth": 0,
             "ticks": ""
            },
            "colorscale": [
             [
              0,
              "#0d0887"
             ],
             [
              0.1111111111111111,
              "#46039f"
             ],
             [
              0.2222222222222222,
              "#7201a8"
             ],
             [
              0.3333333333333333,
              "#9c179e"
             ],
             [
              0.4444444444444444,
              "#bd3786"
             ],
             [
              0.5555555555555556,
              "#d8576b"
             ],
             [
              0.6666666666666666,
              "#ed7953"
             ],
             [
              0.7777777777777778,
              "#fb9f3a"
             ],
             [
              0.8888888888888888,
              "#fdca26"
             ],
             [
              1,
              "#f0f921"
             ]
            ],
            "type": "heatmapgl"
           }
          ],
          "histogram": [
           {
            "marker": {
             "pattern": {
              "fillmode": "overlay",
              "size": 10,
              "solidity": 0.2
             }
            },
            "type": "histogram"
           }
          ],
          "histogram2d": [
           {
            "colorbar": {
             "outlinewidth": 0,
             "ticks": ""
            },
            "colorscale": [
             [
              0,
              "#0d0887"
             ],
             [
              0.1111111111111111,
              "#46039f"
             ],
             [
              0.2222222222222222,
              "#7201a8"
             ],
             [
              0.3333333333333333,
              "#9c179e"
             ],
             [
              0.4444444444444444,
              "#bd3786"
             ],
             [
              0.5555555555555556,
              "#d8576b"
             ],
             [
              0.6666666666666666,
              "#ed7953"
             ],
             [
              0.7777777777777778,
              "#fb9f3a"
             ],
             [
              0.8888888888888888,
              "#fdca26"
             ],
             [
              1,
              "#f0f921"
             ]
            ],
            "type": "histogram2d"
           }
          ],
          "histogram2dcontour": [
           {
            "colorbar": {
             "outlinewidth": 0,
             "ticks": ""
            },
            "colorscale": [
             [
              0,
              "#0d0887"
             ],
             [
              0.1111111111111111,
              "#46039f"
             ],
             [
              0.2222222222222222,
              "#7201a8"
             ],
             [
              0.3333333333333333,
              "#9c179e"
             ],
             [
              0.4444444444444444,
              "#bd3786"
             ],
             [
              0.5555555555555556,
              "#d8576b"
             ],
             [
              0.6666666666666666,
              "#ed7953"
             ],
             [
              0.7777777777777778,
              "#fb9f3a"
             ],
             [
              0.8888888888888888,
              "#fdca26"
             ],
             [
              1,
              "#f0f921"
             ]
            ],
            "type": "histogram2dcontour"
           }
          ],
          "mesh3d": [
           {
            "colorbar": {
             "outlinewidth": 0,
             "ticks": ""
            },
            "type": "mesh3d"
           }
          ],
          "parcoords": [
           {
            "line": {
             "colorbar": {
              "outlinewidth": 0,
              "ticks": ""
             }
            },
            "type": "parcoords"
           }
          ],
          "pie": [
           {
            "automargin": true,
            "type": "pie"
           }
          ],
          "scatter": [
           {
            "marker": {
             "colorbar": {
              "outlinewidth": 0,
              "ticks": ""
             }
            },
            "type": "scatter"
           }
          ],
          "scatter3d": [
           {
            "line": {
             "colorbar": {
              "outlinewidth": 0,
              "ticks": ""
             }
            },
            "marker": {
             "colorbar": {
              "outlinewidth": 0,
              "ticks": ""
             }
            },
            "type": "scatter3d"
           }
          ],
          "scattercarpet": [
           {
            "marker": {
             "colorbar": {
              "outlinewidth": 0,
              "ticks": ""
             }
            },
            "type": "scattercarpet"
           }
          ],
          "scattergeo": [
           {
            "marker": {
             "colorbar": {
              "outlinewidth": 0,
              "ticks": ""
             }
            },
            "type": "scattergeo"
           }
          ],
          "scattergl": [
           {
            "marker": {
             "colorbar": {
              "outlinewidth": 0,
              "ticks": ""
             }
            },
            "type": "scattergl"
           }
          ],
          "scattermapbox": [
           {
            "marker": {
             "colorbar": {
              "outlinewidth": 0,
              "ticks": ""
             }
            },
            "type": "scattermapbox"
           }
          ],
          "scatterpolar": [
           {
            "marker": {
             "colorbar": {
              "outlinewidth": 0,
              "ticks": ""
             }
            },
            "type": "scatterpolar"
           }
          ],
          "scatterpolargl": [
           {
            "marker": {
             "colorbar": {
              "outlinewidth": 0,
              "ticks": ""
             }
            },
            "type": "scatterpolargl"
           }
          ],
          "scatterternary": [
           {
            "marker": {
             "colorbar": {
              "outlinewidth": 0,
              "ticks": ""
             }
            },
            "type": "scatterternary"
           }
          ],
          "surface": [
           {
            "colorbar": {
             "outlinewidth": 0,
             "ticks": ""
            },
            "colorscale": [
             [
              0,
              "#0d0887"
             ],
             [
              0.1111111111111111,
              "#46039f"
             ],
             [
              0.2222222222222222,
              "#7201a8"
             ],
             [
              0.3333333333333333,
              "#9c179e"
             ],
             [
              0.4444444444444444,
              "#bd3786"
             ],
             [
              0.5555555555555556,
              "#d8576b"
             ],
             [
              0.6666666666666666,
              "#ed7953"
             ],
             [
              0.7777777777777778,
              "#fb9f3a"
             ],
             [
              0.8888888888888888,
              "#fdca26"
             ],
             [
              1,
              "#f0f921"
             ]
            ],
            "type": "surface"
           }
          ],
          "table": [
           {
            "cells": {
             "fill": {
              "color": "#EBF0F8"
             },
             "line": {
              "color": "white"
             }
            },
            "header": {
             "fill": {
              "color": "#C8D4E3"
             },
             "line": {
              "color": "white"
             }
            },
            "type": "table"
           }
          ]
         },
         "layout": {
          "annotationdefaults": {
           "arrowcolor": "#2a3f5f",
           "arrowhead": 0,
           "arrowwidth": 1
          },
          "autotypenumbers": "strict",
          "coloraxis": {
           "colorbar": {
            "outlinewidth": 0,
            "ticks": ""
           }
          },
          "colorscale": {
           "diverging": [
            [
             0,
             "#8e0152"
            ],
            [
             0.1,
             "#c51b7d"
            ],
            [
             0.2,
             "#de77ae"
            ],
            [
             0.3,
             "#f1b6da"
            ],
            [
             0.4,
             "#fde0ef"
            ],
            [
             0.5,
             "#f7f7f7"
            ],
            [
             0.6,
             "#e6f5d0"
            ],
            [
             0.7,
             "#b8e186"
            ],
            [
             0.8,
             "#7fbc41"
            ],
            [
             0.9,
             "#4d9221"
            ],
            [
             1,
             "#276419"
            ]
           ],
           "sequential": [
            [
             0,
             "#0d0887"
            ],
            [
             0.1111111111111111,
             "#46039f"
            ],
            [
             0.2222222222222222,
             "#7201a8"
            ],
            [
             0.3333333333333333,
             "#9c179e"
            ],
            [
             0.4444444444444444,
             "#bd3786"
            ],
            [
             0.5555555555555556,
             "#d8576b"
            ],
            [
             0.6666666666666666,
             "#ed7953"
            ],
            [
             0.7777777777777778,
             "#fb9f3a"
            ],
            [
             0.8888888888888888,
             "#fdca26"
            ],
            [
             1,
             "#f0f921"
            ]
           ],
           "sequentialminus": [
            [
             0,
             "#0d0887"
            ],
            [
             0.1111111111111111,
             "#46039f"
            ],
            [
             0.2222222222222222,
             "#7201a8"
            ],
            [
             0.3333333333333333,
             "#9c179e"
            ],
            [
             0.4444444444444444,
             "#bd3786"
            ],
            [
             0.5555555555555556,
             "#d8576b"
            ],
            [
             0.6666666666666666,
             "#ed7953"
            ],
            [
             0.7777777777777778,
             "#fb9f3a"
            ],
            [
             0.8888888888888888,
             "#fdca26"
            ],
            [
             1,
             "#f0f921"
            ]
           ]
          },
          "colorway": [
           "#636efa",
           "#EF553B",
           "#00cc96",
           "#ab63fa",
           "#FFA15A",
           "#19d3f3",
           "#FF6692",
           "#B6E880",
           "#FF97FF",
           "#FECB52"
          ],
          "font": {
           "color": "#2a3f5f"
          },
          "geo": {
           "bgcolor": "white",
           "lakecolor": "white",
           "landcolor": "#E5ECF6",
           "showlakes": true,
           "showland": true,
           "subunitcolor": "white"
          },
          "hoverlabel": {
           "align": "left"
          },
          "hovermode": "closest",
          "mapbox": {
           "style": "light"
          },
          "paper_bgcolor": "white",
          "plot_bgcolor": "#E5ECF6",
          "polar": {
           "angularaxis": {
            "gridcolor": "white",
            "linecolor": "white",
            "ticks": ""
           },
           "bgcolor": "#E5ECF6",
           "radialaxis": {
            "gridcolor": "white",
            "linecolor": "white",
            "ticks": ""
           }
          },
          "scene": {
           "xaxis": {
            "backgroundcolor": "#E5ECF6",
            "gridcolor": "white",
            "gridwidth": 2,
            "linecolor": "white",
            "showbackground": true,
            "ticks": "",
            "zerolinecolor": "white"
           },
           "yaxis": {
            "backgroundcolor": "#E5ECF6",
            "gridcolor": "white",
            "gridwidth": 2,
            "linecolor": "white",
            "showbackground": true,
            "ticks": "",
            "zerolinecolor": "white"
           },
           "zaxis": {
            "backgroundcolor": "#E5ECF6",
            "gridcolor": "white",
            "gridwidth": 2,
            "linecolor": "white",
            "showbackground": true,
            "ticks": "",
            "zerolinecolor": "white"
           }
          },
          "shapedefaults": {
           "line": {
            "color": "#2a3f5f"
           }
          },
          "ternary": {
           "aaxis": {
            "gridcolor": "white",
            "linecolor": "white",
            "ticks": ""
           },
           "baxis": {
            "gridcolor": "white",
            "linecolor": "white",
            "ticks": ""
           },
           "bgcolor": "#E5ECF6",
           "caxis": {
            "gridcolor": "white",
            "linecolor": "white",
            "ticks": ""
           }
          },
          "title": {
           "x": 0.05
          },
          "xaxis": {
           "automargin": true,
           "gridcolor": "white",
           "linecolor": "white",
           "ticks": "",
           "title": {
            "standoff": 15
           },
           "zerolinecolor": "white",
           "zerolinewidth": 2
          },
          "yaxis": {
           "automargin": true,
           "gridcolor": "white",
           "linecolor": "white",
           "ticks": "",
           "title": {
            "standoff": 15
           },
           "zerolinecolor": "white",
           "zerolinewidth": 2
          }
         }
        }
       }
      },
      "text/html": [
       "<div>                            <div id=\"1df0d666-0933-48d0-b6d0-776d6c4b2a73\" class=\"plotly-graph-div\" style=\"height:525px; width:100%;\"></div>            <script type=\"text/javascript\">                require([\"plotly\"], function(Plotly) {                    window.PLOTLYENV=window.PLOTLYENV || {};                                    if (document.getElementById(\"1df0d666-0933-48d0-b6d0-776d6c4b2a73\")) {                    Plotly.newPlot(                        \"1df0d666-0933-48d0-b6d0-776d6c4b2a73\",                        [{\"marker\":{\"color\":[\"blue\"],\"line\":{\"color\":\"DarkSlateGrey\",\"width\":5},\"size\":[0,5]},\"name\":\"Vector1\",\"type\":\"scatter3d\",\"x\":[0,0.39249998331069946],\"y\":[0,1.5394999980926514],\"z\":[0,-3.0185000896453857]},{\"marker\":{\"color\":[\"blue\"],\"line\":{\"color\":\"DarkSlateGrey\",\"width\":5},\"size\":[0,5]},\"name\":\"Vector2\",\"type\":\"scatter3d\",\"x\":[0,-3.2200000286102295],\"y\":[0,-1.3255000114440918],\"z\":[0,2.259500026702881]},{\"marker\":{\"color\":[\"blue\"],\"line\":{\"color\":\"DarkSlateGrey\",\"width\":5},\"size\":[0,5]},\"name\":\"Vector3\",\"type\":\"scatter3d\",\"x\":[0,2.6700000762939453],\"y\":[0,-2.385499954223633],\"z\":[0,0.7734999656677246]},{\"marker\":{\"color\":[\"blue\"],\"line\":{\"color\":\"DarkSlateGrey\",\"width\":5},\"size\":[0,5]},\"name\":\"Vector4\",\"type\":\"scatter3d\",\"x\":[0,-2.429999828338623],\"y\":[0,1.8634998798370361],\"z\":[0,-1.5074999332427979]},{\"marker\":{\"color\":[\"blue\"],\"line\":{\"color\":\"DarkSlateGrey\",\"width\":5},\"size\":[0,5]},\"name\":\"Vector5\",\"type\":\"scatter3d\",\"x\":[0,-1.6059999465942383],\"y\":[0,0.9539999961853027],\"z\":[0,3.4809999465942383]},{\"marker\":{\"color\":[\"blue\"],\"line\":{\"color\":\"DarkSlateGrey\",\"width\":5},\"size\":[0,5]},\"name\":\"Vector6\",\"type\":\"scatter3d\",\"x\":[0,-3.0264999866485596],\"y\":[0,-2.315999984741211],\"z\":[0,-0.5815000534057617]},{\"marker\":{\"color\":[\"blue\"],\"line\":{\"color\":\"DarkSlateGrey\",\"width\":5},\"size\":[0,5]},\"name\":\"Vector7\",\"type\":\"scatter3d\",\"x\":[0,0.6755000352859497],\"y\":[0,-0.45100000500679016],\"z\":[0,-3.301499843597412]},{\"marker\":{\"color\":[\"blue\"],\"line\":{\"color\":\"DarkSlateGrey\",\"width\":5},\"size\":[0,5]},\"name\":\"Vector8\",\"type\":\"scatter3d\",\"x\":[0,-0.35199999809265137],\"y\":[0,-3.4235000610351562],\"z\":[0,1.1169999837875366]},{\"marker\":{\"color\":[\"blue\"],\"line\":{\"color\":\"DarkSlateGrey\",\"width\":5},\"size\":[0,5]},\"name\":\"Vector9\",\"type\":\"scatter3d\",\"x\":[0,1.754499912261963],\"y\":[0,-0.30650001764297485],\"z\":[0,-3.13700008392334]},{\"marker\":{\"color\":[\"blue\"],\"line\":{\"color\":\"DarkSlateGrey\",\"width\":5},\"size\":[0,5]},\"name\":\"Vector10\",\"type\":\"scatter3d\",\"x\":[0,-3.373499870300293],\"y\":[0,-0.2395000010728836],\"z\":[0,-1.4844999313354492]},{\"marker\":{\"color\":[\"blue\"],\"line\":{\"color\":\"DarkSlateGrey\",\"width\":5},\"size\":[0,5]},\"name\":\"Vector11\",\"type\":\"scatter3d\",\"x\":[0,-3.575000047683716],\"y\":[0,-1.5910000801086426],\"z\":[0,1.2630000114440918]},{\"marker\":{\"color\":[\"blue\"],\"line\":{\"color\":\"DarkSlateGrey\",\"width\":5},\"size\":[0,5]},\"name\":\"Vector12\",\"type\":\"scatter3d\",\"x\":[0,1.2969999313354492],\"y\":[0,-2.2680001258850098],\"z\":[0,2.3924999237060547]},{\"marker\":{\"color\":[\"blue\"],\"line\":{\"color\":\"DarkSlateGrey\",\"width\":5},\"size\":[0,5]},\"name\":\"Vector13\",\"type\":\"scatter3d\",\"x\":[0,-1.8330000638961792],\"y\":[0,-2.8454999923706055],\"z\":[0,2.1440000534057617]},{\"marker\":{\"color\":[\"blue\"],\"line\":{\"color\":\"DarkSlateGrey\",\"width\":5},\"size\":[0,5]},\"name\":\"Vector14\",\"type\":\"scatter3d\",\"x\":[0,-3.944499969482422],\"y\":[0,-0.6809999942779541],\"z\":[0,0.7879999876022339]},{\"marker\":{\"color\":[\"blue\"],\"line\":{\"color\":\"DarkSlateGrey\",\"width\":5},\"size\":[0,5]},\"name\":\"Vector15\",\"type\":\"scatter3d\",\"x\":[0,-1.1864999532699585],\"y\":[0,2.743499994277954],\"z\":[0,2.009500026702881]},{\"marker\":{\"color\":[\"blue\"],\"line\":{\"color\":\"DarkSlateGrey\",\"width\":5},\"size\":[0,5]},\"name\":\"Vector16\",\"type\":\"scatter3d\",\"x\":[0,3.2730000019073486],\"y\":[0,-1.4700000286102295],\"z\":[0,1.1759999990463257]},{\"marker\":{\"color\":[\"blue\"],\"line\":{\"color\":\"DarkSlateGrey\",\"width\":5},\"size\":[0,5]},\"name\":\"Vector17\",\"type\":\"scatter3d\",\"x\":[0,3.500499963760376],\"y\":[0,-0.17099998891353607],\"z\":[0,-1.6200000047683716]},{\"marker\":{\"color\":[\"blue\"],\"line\":{\"color\":\"DarkSlateGrey\",\"width\":5},\"size\":[0,5]},\"name\":\"Vector18\",\"type\":\"scatter3d\",\"x\":[0,-3.3310000896453857],\"y\":[0,0.9169999957084656],\"z\":[0,2.254499912261963]},{\"marker\":{\"color\":[\"blue\"],\"line\":{\"color\":\"DarkSlateGrey\",\"width\":5},\"size\":[0,5]},\"name\":\"Vector19\",\"type\":\"scatter3d\",\"x\":[0,-1.7174999713897705],\"y\":[0,-0.22600001096725464],\"z\":[0,3.6505000591278076]},{\"marker\":{\"color\":[\"blue\"],\"line\":{\"color\":\"DarkSlateGrey\",\"width\":5},\"size\":[0,5]},\"name\":\"Vector20\",\"type\":\"scatter3d\",\"x\":[0,-1.9135000705718994],\"y\":[0,-1.9210000038146973],\"z\":[0,-2.059499979019165]},{\"marker\":{\"color\":[\"blue\"],\"line\":{\"color\":\"DarkSlateGrey\",\"width\":5},\"size\":[0,5]},\"name\":\"Vector21\",\"type\":\"scatter3d\",\"x\":[0,-0.8374999761581421],\"y\":[0,3.2100000381469727],\"z\":[0,-0.31299999356269836]},{\"marker\":{\"color\":[\"blue\"],\"line\":{\"color\":\"DarkSlateGrey\",\"width\":5},\"size\":[0,5]},\"name\":\"Vector22\",\"type\":\"scatter3d\",\"x\":[0,3.8910000324249268],\"y\":[0,0.4255000352859497],\"z\":[0,0.5149999856948853]},{\"marker\":{\"color\":[\"blue\"],\"line\":{\"color\":\"DarkSlateGrey\",\"width\":5},\"size\":[0,5]},\"name\":\"Vector23\",\"type\":\"scatter3d\",\"x\":[0,0.6169999837875366],\"y\":[0,2.868499994277954],\"z\":[0,-1.8494999408721924]},{\"marker\":{\"color\":[\"blue\"],\"line\":{\"color\":\"DarkSlateGrey\",\"width\":5},\"size\":[0,5]},\"name\":\"Vector24\",\"type\":\"scatter3d\",\"x\":[0,1.628999948501587],\"y\":[0,2.509500026702881],\"z\":[0,-2.0920000076293945]},{\"marker\":{\"color\":[\"blue\"],\"line\":{\"color\":\"DarkSlateGrey\",\"width\":5},\"size\":[0,5]},\"name\":\"Vector25\",\"type\":\"scatter3d\",\"x\":[0,1.6470000743865967],\"y\":[0,0.7755000591278076],\"z\":[0,3.0239999294281006]},{\"marker\":{\"color\":[\"blue\"],\"line\":{\"color\":\"DarkSlateGrey\",\"width\":5},\"size\":[0,5]},\"name\":\"Vector26\",\"type\":\"scatter3d\",\"x\":[0,-3.6725001335144043],\"y\":[0,0.6290000081062317],\"z\":[0,-0.7739999890327454]},{\"marker\":{\"color\":[\"blue\"],\"line\":{\"color\":\"DarkSlateGrey\",\"width\":5},\"size\":[0,5]},\"name\":\"Vector27\",\"type\":\"scatter3d\",\"x\":[0,-1.183500051498413],\"y\":[0,-2.3494999408721924],\"z\":[0,2.9670000076293945]},{\"marker\":{\"color\":[\"blue\"],\"line\":{\"color\":\"DarkSlateGrey\",\"width\":5},\"size\":[0,5]},\"name\":\"Vector28\",\"type\":\"scatter3d\",\"x\":[0,-3.8324999809265137],\"y\":[0,0.15150000154972076],\"z\":[0,1.4994999170303345]},{\"marker\":{\"color\":[\"blue\"],\"line\":{\"color\":\"DarkSlateGrey\",\"width\":5},\"size\":[0,5]},\"name\":\"Vector29\",\"type\":\"scatter3d\",\"x\":[0,0.007500007748603821],\"y\":[0,-3.0820000171661377],\"z\":[0,-1.243499994277954]},{\"marker\":{\"color\":[\"blue\"],\"line\":{\"color\":\"DarkSlateGrey\",\"width\":5},\"size\":[0,5]},\"name\":\"Vector30\",\"type\":\"scatter3d\",\"x\":[0,-1.3044999837875366],\"y\":[0,0.25999999046325684],\"z\":[0,-2.8884999752044678]},{\"marker\":{\"color\":[\"blue\"],\"line\":{\"color\":\"DarkSlateGrey\",\"width\":5},\"size\":[0,5]},\"name\":\"Vector31\",\"type\":\"scatter3d\",\"x\":[0,3.1445000171661377],\"y\":[0,0.7590000033378601],\"z\":[0,-2.061500072479248]},{\"marker\":{\"color\":[\"blue\"],\"line\":{\"color\":\"DarkSlateGrey\",\"width\":5},\"size\":[0,5]},\"name\":\"Vector32\",\"type\":\"scatter3d\",\"x\":[0,-2.2730000019073486],\"y\":[0,-3.054500102996826],\"z\":[0,-0.09700001776218414]},{\"marker\":{\"color\":[\"blue\"],\"line\":{\"color\":\"DarkSlateGrey\",\"width\":5},\"size\":[0,5]},\"name\":\"Vector33\",\"type\":\"scatter3d\",\"x\":[0,0.1354999989271164],\"y\":[0,-0.593999981880188],\"z\":[0,3.6539998054504395]},{\"marker\":{\"color\":[\"blue\"],\"line\":{\"color\":\"DarkSlateGrey\",\"width\":5},\"size\":[0,5]},\"name\":\"Vector34\",\"type\":\"scatter3d\",\"x\":[0,2.6519999504089355],\"y\":[0,0.8845000267028809],\"z\":[0,2.3949999809265137]},{\"marker\":{\"color\":[\"blue\"],\"line\":{\"color\":\"DarkSlateGrey\",\"width\":5},\"size\":[0,5]},\"name\":\"Vector35\",\"type\":\"scatter3d\",\"x\":[0,3.873000144958496],\"y\":[0,0.04600001871585846],\"z\":[0,-0.6075000166893005]},{\"marker\":{\"color\":[\"blue\"],\"line\":{\"color\":\"DarkSlateGrey\",\"width\":5},\"size\":[0,5]},\"name\":\"Vector36\",\"type\":\"scatter3d\",\"x\":[0,1.2584999799728394],\"y\":[0,-1.9635000228881836],\"z\":[0,-2.55649995803833]},{\"marker\":{\"color\":[\"blue\"],\"line\":{\"color\":\"DarkSlateGrey\",\"width\":5},\"size\":[0,5]},\"name\":\"Vector37\",\"type\":\"scatter3d\",\"x\":[0,0.9629999995231628],\"y\":[0,2.5994999408721924],\"z\":[0,2.1410000324249268]},{\"marker\":{\"color\":[\"blue\"],\"line\":{\"color\":\"DarkSlateGrey\",\"width\":5},\"size\":[0,5]},\"name\":\"Vector38\",\"type\":\"scatter3d\",\"x\":[0,1.2634999752044678],\"y\":[0,3.3505001068115234],\"z\":[0,0.01199999451637268]},{\"marker\":{\"color\":[\"blue\"],\"line\":{\"color\":\"DarkSlateGrey\",\"width\":5},\"size\":[0,5]},\"name\":\"Vector39\",\"type\":\"scatter3d\",\"x\":[0,1.9950001239776611],\"y\":[0,2.685500144958496],\"z\":[0,1.49399995803833]},{\"marker\":{\"color\":[\"blue\"],\"line\":{\"color\":\"DarkSlateGrey\",\"width\":5},\"size\":[0,5]},\"name\":\"Vector40\",\"type\":\"scatter3d\",\"x\":[0,2.743500232696533],\"y\":[0,2.5434999465942383],\"z\":[0,0.7020000219345093]},{\"marker\":{\"color\":[\"blue\"],\"line\":{\"color\":\"DarkSlateGrey\",\"width\":5},\"size\":[0,5]},\"name\":\"Vector41\",\"type\":\"scatter3d\",\"x\":[0,2.0920000076293945],\"y\":[0,-2.739999771118164],\"z\":[0,-0.8765000104904175]},{\"marker\":{\"color\":[\"blue\"],\"line\":{\"color\":\"DarkSlateGrey\",\"width\":5},\"size\":[0,5]},\"name\":\"Vector42\",\"type\":\"scatter3d\",\"x\":[0,-2.994500160217285],\"y\":[0,2.2639999389648438],\"z\":[0,0.6759999990463257]},{\"marker\":{\"color\":[\"blue\"],\"line\":{\"color\":\"DarkSlateGrey\",\"width\":5},\"size\":[0,5]},\"name\":\"Vector43\",\"type\":\"scatter3d\",\"x\":[0,3.2820000648498535],\"y\":[0,1.5505000352859497],\"z\":[0,-1.3255000114440918]},{\"marker\":{\"color\":[\"blue\"],\"line\":{\"color\":\"DarkSlateGrey\",\"width\":5},\"size\":[0,5]},\"name\":\"Vector44\",\"type\":\"scatter3d\",\"x\":[0,2.9065001010894775],\"y\":[0,-0.8880000114440918],\"z\":[0,2.11899995803833]},{\"marker\":{\"color\":[\"blue\"],\"line\":{\"color\":\"DarkSlateGrey\",\"width\":5},\"size\":[0,5]},\"name\":\"Vector45\",\"type\":\"scatter3d\",\"x\":[0,2.944499969482422],\"y\":[0,-2.052500009536743],\"z\":[0,-0.9989999532699585]}],                        {\"margin\":{\"b\":4,\"l\":4,\"r\":4,\"t\":4},\"template\":{\"data\":{\"bar\":[{\"error_x\":{\"color\":\"#2a3f5f\"},\"error_y\":{\"color\":\"#2a3f5f\"},\"marker\":{\"line\":{\"color\":\"#E5ECF6\",\"width\":0.5},\"pattern\":{\"fillmode\":\"overlay\",\"size\":10,\"solidity\":0.2}},\"type\":\"bar\"}],\"barpolar\":[{\"marker\":{\"line\":{\"color\":\"#E5ECF6\",\"width\":0.5},\"pattern\":{\"fillmode\":\"overlay\",\"size\":10,\"solidity\":0.2}},\"type\":\"barpolar\"}],\"carpet\":[{\"aaxis\":{\"endlinecolor\":\"#2a3f5f\",\"gridcolor\":\"white\",\"linecolor\":\"white\",\"minorgridcolor\":\"white\",\"startlinecolor\":\"#2a3f5f\"},\"baxis\":{\"endlinecolor\":\"#2a3f5f\",\"gridcolor\":\"white\",\"linecolor\":\"white\",\"minorgridcolor\":\"white\",\"startlinecolor\":\"#2a3f5f\"},\"type\":\"carpet\"}],\"choropleth\":[{\"colorbar\":{\"outlinewidth\":0,\"ticks\":\"\"},\"type\":\"choropleth\"}],\"contour\":[{\"colorbar\":{\"outlinewidth\":0,\"ticks\":\"\"},\"colorscale\":[[0.0,\"#0d0887\"],[0.1111111111111111,\"#46039f\"],[0.2222222222222222,\"#7201a8\"],[0.3333333333333333,\"#9c179e\"],[0.4444444444444444,\"#bd3786\"],[0.5555555555555556,\"#d8576b\"],[0.6666666666666666,\"#ed7953\"],[0.7777777777777778,\"#fb9f3a\"],[0.8888888888888888,\"#fdca26\"],[1.0,\"#f0f921\"]],\"type\":\"contour\"}],\"contourcarpet\":[{\"colorbar\":{\"outlinewidth\":0,\"ticks\":\"\"},\"type\":\"contourcarpet\"}],\"heatmap\":[{\"colorbar\":{\"outlinewidth\":0,\"ticks\":\"\"},\"colorscale\":[[0.0,\"#0d0887\"],[0.1111111111111111,\"#46039f\"],[0.2222222222222222,\"#7201a8\"],[0.3333333333333333,\"#9c179e\"],[0.4444444444444444,\"#bd3786\"],[0.5555555555555556,\"#d8576b\"],[0.6666666666666666,\"#ed7953\"],[0.7777777777777778,\"#fb9f3a\"],[0.8888888888888888,\"#fdca26\"],[1.0,\"#f0f921\"]],\"type\":\"heatmap\"}],\"heatmapgl\":[{\"colorbar\":{\"outlinewidth\":0,\"ticks\":\"\"},\"colorscale\":[[0.0,\"#0d0887\"],[0.1111111111111111,\"#46039f\"],[0.2222222222222222,\"#7201a8\"],[0.3333333333333333,\"#9c179e\"],[0.4444444444444444,\"#bd3786\"],[0.5555555555555556,\"#d8576b\"],[0.6666666666666666,\"#ed7953\"],[0.7777777777777778,\"#fb9f3a\"],[0.8888888888888888,\"#fdca26\"],[1.0,\"#f0f921\"]],\"type\":\"heatmapgl\"}],\"histogram\":[{\"marker\":{\"pattern\":{\"fillmode\":\"overlay\",\"size\":10,\"solidity\":0.2}},\"type\":\"histogram\"}],\"histogram2d\":[{\"colorbar\":{\"outlinewidth\":0,\"ticks\":\"\"},\"colorscale\":[[0.0,\"#0d0887\"],[0.1111111111111111,\"#46039f\"],[0.2222222222222222,\"#7201a8\"],[0.3333333333333333,\"#9c179e\"],[0.4444444444444444,\"#bd3786\"],[0.5555555555555556,\"#d8576b\"],[0.6666666666666666,\"#ed7953\"],[0.7777777777777778,\"#fb9f3a\"],[0.8888888888888888,\"#fdca26\"],[1.0,\"#f0f921\"]],\"type\":\"histogram2d\"}],\"histogram2dcontour\":[{\"colorbar\":{\"outlinewidth\":0,\"ticks\":\"\"},\"colorscale\":[[0.0,\"#0d0887\"],[0.1111111111111111,\"#46039f\"],[0.2222222222222222,\"#7201a8\"],[0.3333333333333333,\"#9c179e\"],[0.4444444444444444,\"#bd3786\"],[0.5555555555555556,\"#d8576b\"],[0.6666666666666666,\"#ed7953\"],[0.7777777777777778,\"#fb9f3a\"],[0.8888888888888888,\"#fdca26\"],[1.0,\"#f0f921\"]],\"type\":\"histogram2dcontour\"}],\"mesh3d\":[{\"colorbar\":{\"outlinewidth\":0,\"ticks\":\"\"},\"type\":\"mesh3d\"}],\"parcoords\":[{\"line\":{\"colorbar\":{\"outlinewidth\":0,\"ticks\":\"\"}},\"type\":\"parcoords\"}],\"pie\":[{\"automargin\":true,\"type\":\"pie\"}],\"scatter\":[{\"marker\":{\"colorbar\":{\"outlinewidth\":0,\"ticks\":\"\"}},\"type\":\"scatter\"}],\"scatter3d\":[{\"line\":{\"colorbar\":{\"outlinewidth\":0,\"ticks\":\"\"}},\"marker\":{\"colorbar\":{\"outlinewidth\":0,\"ticks\":\"\"}},\"type\":\"scatter3d\"}],\"scattercarpet\":[{\"marker\":{\"colorbar\":{\"outlinewidth\":0,\"ticks\":\"\"}},\"type\":\"scattercarpet\"}],\"scattergeo\":[{\"marker\":{\"colorbar\":{\"outlinewidth\":0,\"ticks\":\"\"}},\"type\":\"scattergeo\"}],\"scattergl\":[{\"marker\":{\"colorbar\":{\"outlinewidth\":0,\"ticks\":\"\"}},\"type\":\"scattergl\"}],\"scattermapbox\":[{\"marker\":{\"colorbar\":{\"outlinewidth\":0,\"ticks\":\"\"}},\"type\":\"scattermapbox\"}],\"scatterpolar\":[{\"marker\":{\"colorbar\":{\"outlinewidth\":0,\"ticks\":\"\"}},\"type\":\"scatterpolar\"}],\"scatterpolargl\":[{\"marker\":{\"colorbar\":{\"outlinewidth\":0,\"ticks\":\"\"}},\"type\":\"scatterpolargl\"}],\"scatterternary\":[{\"marker\":{\"colorbar\":{\"outlinewidth\":0,\"ticks\":\"\"}},\"type\":\"scatterternary\"}],\"surface\":[{\"colorbar\":{\"outlinewidth\":0,\"ticks\":\"\"},\"colorscale\":[[0.0,\"#0d0887\"],[0.1111111111111111,\"#46039f\"],[0.2222222222222222,\"#7201a8\"],[0.3333333333333333,\"#9c179e\"],[0.4444444444444444,\"#bd3786\"],[0.5555555555555556,\"#d8576b\"],[0.6666666666666666,\"#ed7953\"],[0.7777777777777778,\"#fb9f3a\"],[0.8888888888888888,\"#fdca26\"],[1.0,\"#f0f921\"]],\"type\":\"surface\"}],\"table\":[{\"cells\":{\"fill\":{\"color\":\"#EBF0F8\"},\"line\":{\"color\":\"white\"}},\"header\":{\"fill\":{\"color\":\"#C8D4E3\"},\"line\":{\"color\":\"white\"}},\"type\":\"table\"}]},\"layout\":{\"annotationdefaults\":{\"arrowcolor\":\"#2a3f5f\",\"arrowhead\":0,\"arrowwidth\":1},\"autotypenumbers\":\"strict\",\"coloraxis\":{\"colorbar\":{\"outlinewidth\":0,\"ticks\":\"\"}},\"colorscale\":{\"diverging\":[[0,\"#8e0152\"],[0.1,\"#c51b7d\"],[0.2,\"#de77ae\"],[0.3,\"#f1b6da\"],[0.4,\"#fde0ef\"],[0.5,\"#f7f7f7\"],[0.6,\"#e6f5d0\"],[0.7,\"#b8e186\"],[0.8,\"#7fbc41\"],[0.9,\"#4d9221\"],[1,\"#276419\"]],\"sequential\":[[0.0,\"#0d0887\"],[0.1111111111111111,\"#46039f\"],[0.2222222222222222,\"#7201a8\"],[0.3333333333333333,\"#9c179e\"],[0.4444444444444444,\"#bd3786\"],[0.5555555555555556,\"#d8576b\"],[0.6666666666666666,\"#ed7953\"],[0.7777777777777778,\"#fb9f3a\"],[0.8888888888888888,\"#fdca26\"],[1.0,\"#f0f921\"]],\"sequentialminus\":[[0.0,\"#0d0887\"],[0.1111111111111111,\"#46039f\"],[0.2222222222222222,\"#7201a8\"],[0.3333333333333333,\"#9c179e\"],[0.4444444444444444,\"#bd3786\"],[0.5555555555555556,\"#d8576b\"],[0.6666666666666666,\"#ed7953\"],[0.7777777777777778,\"#fb9f3a\"],[0.8888888888888888,\"#fdca26\"],[1.0,\"#f0f921\"]]},\"colorway\":[\"#636efa\",\"#EF553B\",\"#00cc96\",\"#ab63fa\",\"#FFA15A\",\"#19d3f3\",\"#FF6692\",\"#B6E880\",\"#FF97FF\",\"#FECB52\"],\"font\":{\"color\":\"#2a3f5f\"},\"geo\":{\"bgcolor\":\"white\",\"lakecolor\":\"white\",\"landcolor\":\"#E5ECF6\",\"showlakes\":true,\"showland\":true,\"subunitcolor\":\"white\"},\"hoverlabel\":{\"align\":\"left\"},\"hovermode\":\"closest\",\"mapbox\":{\"style\":\"light\"},\"paper_bgcolor\":\"white\",\"plot_bgcolor\":\"#E5ECF6\",\"polar\":{\"angularaxis\":{\"gridcolor\":\"white\",\"linecolor\":\"white\",\"ticks\":\"\"},\"bgcolor\":\"#E5ECF6\",\"radialaxis\":{\"gridcolor\":\"white\",\"linecolor\":\"white\",\"ticks\":\"\"}},\"scene\":{\"xaxis\":{\"backgroundcolor\":\"#E5ECF6\",\"gridcolor\":\"white\",\"gridwidth\":2,\"linecolor\":\"white\",\"showbackground\":true,\"ticks\":\"\",\"zerolinecolor\":\"white\"},\"yaxis\":{\"backgroundcolor\":\"#E5ECF6\",\"gridcolor\":\"white\",\"gridwidth\":2,\"linecolor\":\"white\",\"showbackground\":true,\"ticks\":\"\",\"zerolinecolor\":\"white\"},\"zaxis\":{\"backgroundcolor\":\"#E5ECF6\",\"gridcolor\":\"white\",\"gridwidth\":2,\"linecolor\":\"white\",\"showbackground\":true,\"ticks\":\"\",\"zerolinecolor\":\"white\"}},\"shapedefaults\":{\"line\":{\"color\":\"#2a3f5f\"}},\"ternary\":{\"aaxis\":{\"gridcolor\":\"white\",\"linecolor\":\"white\",\"ticks\":\"\"},\"baxis\":{\"gridcolor\":\"white\",\"linecolor\":\"white\",\"ticks\":\"\"},\"bgcolor\":\"#E5ECF6\",\"caxis\":{\"gridcolor\":\"white\",\"linecolor\":\"white\",\"ticks\":\"\"}},\"title\":{\"x\":0.05},\"xaxis\":{\"automargin\":true,\"gridcolor\":\"white\",\"linecolor\":\"white\",\"ticks\":\"\",\"title\":{\"standoff\":15},\"zerolinecolor\":\"white\",\"zerolinewidth\":2},\"yaxis\":{\"automargin\":true,\"gridcolor\":\"white\",\"linecolor\":\"white\",\"ticks\":\"\",\"title\":{\"standoff\":15},\"zerolinecolor\":\"white\",\"zerolinewidth\":2}}}},                        {\"responsive\": true}                    ).then(function(){\n",
       "                            \n",
       "var gd = document.getElementById('1df0d666-0933-48d0-b6d0-776d6c4b2a73');\n",
       "var x = new MutationObserver(function (mutations, observer) {{\n",
       "        var display = window.getComputedStyle(gd).display;\n",
       "        if (!display || display === 'none') {{\n",
       "            console.log([gd, 'removed!']);\n",
       "            Plotly.purge(gd);\n",
       "            observer.disconnect();\n",
       "        }}\n",
       "}});\n",
       "\n",
       "// Listen for the removal of the full notebook cells\n",
       "var notebookContainer = gd.closest('#notebook-container');\n",
       "if (notebookContainer) {{\n",
       "    x.observe(notebookContainer, {childList: true});\n",
       "}}\n",
       "\n",
       "// Listen for the clearing of the current output cell\n",
       "var outputEl = gd.closest('.output');\n",
       "if (outputEl) {{\n",
       "    x.observe(outputEl, {childList: true});\n",
       "}}\n",
       "\n",
       "                        })                };                });            </script>        </div>"
      ]
     },
     "metadata": {},
     "output_type": "display_data"
    }
   ],
   "source": [
    "vector_plot(NPPositions) # The all-atomic C70"
   ]
  },
  {
   "cell_type": "code",
   "execution_count": 113,
   "metadata": {},
   "outputs": [
    {
     "ename": "NameError",
     "evalue": "name 'mol1' is not defined",
     "output_type": "error",
     "traceback": [
      "\u001b[0;31m---------------------------------------------------------------------------\u001b[0m",
      "\u001b[0;31mNameError\u001b[0m                                 Traceback (most recent call last)",
      "\u001b[0;32m<ipython-input-113-d693012ef980>\u001b[0m in \u001b[0;36m<module>\u001b[0;34m\u001b[0m\n\u001b[0;32m----> 1\u001b[0;31m \u001b[0mmol1\u001b[0m \u001b[0;31m# Nice..\u001b[0m\u001b[0;34m\u001b[0m\u001b[0;34m\u001b[0m\u001b[0m\n\u001b[0m",
      "\u001b[0;31mNameError\u001b[0m: name 'mol1' is not defined"
     ]
    }
   ],
   "source": [
    "mol1 # Nice..  "
   ]
  },
  {
   "cell_type": "code",
   "execution_count": 1,
   "metadata": {},
   "outputs": [
    {
     "ename": "NameError",
     "evalue": "name 'Chem' is not defined",
     "output_type": "error",
     "traceback": [
      "\u001b[0;31m---------------------------------------------------------------------------\u001b[0m",
      "\u001b[0;31mNameError\u001b[0m                                 Traceback (most recent call last)",
      "\u001b[0;32m<ipython-input-1-a28e3046e06d>\u001b[0m in \u001b[0;36m<module>\u001b[0;34m\u001b[0m\n\u001b[1;32m     27\u001b[0m \u001b[0;34m\u001b[0m\u001b[0m\n\u001b[1;32m     28\u001b[0m \u001b[0mP3HT\u001b[0m \u001b[0;34m=\u001b[0m \u001b[0;34m'CCCCCCC1=CSC=C1'\u001b[0m\u001b[0;34m\u001b[0m\u001b[0;34m\u001b[0m\u001b[0m\n\u001b[0;32m---> 29\u001b[0;31m \u001b[0mm_P3HT\u001b[0m \u001b[0;34m=\u001b[0m \u001b[0mChem\u001b[0m\u001b[0;34m.\u001b[0m\u001b[0mMolFromSmiles\u001b[0m\u001b[0;34m(\u001b[0m\u001b[0mP3HT\u001b[0m\u001b[0;34m)\u001b[0m\u001b[0;34m\u001b[0m\u001b[0;34m\u001b[0m\u001b[0m\n\u001b[0m\u001b[1;32m     30\u001b[0m \u001b[0;31m# Universe\u001b[0m\u001b[0;34m\u001b[0m\u001b[0;34m\u001b[0m\u001b[0;34m\u001b[0m\u001b[0m\n\u001b[1;32m     31\u001b[0m \u001b[0mu_P3HT\u001b[0m \u001b[0;34m=\u001b[0m \u001b[0mmda\u001b[0m\u001b[0;34m.\u001b[0m\u001b[0mUniverse\u001b[0m\u001b[0;34m.\u001b[0m\u001b[0mfrom_smiles\u001b[0m\u001b[0;34m(\u001b[0m\u001b[0mP3HT\u001b[0m\u001b[0;34m)\u001b[0m\u001b[0;34m\u001b[0m\u001b[0;34m\u001b[0m\u001b[0m\n",
      "\u001b[0;31mNameError\u001b[0m: name 'Chem' is not defined"
     ]
    }
   ],
   "source": [
    "\"\"\"\n",
    "The smiles for the ligand \n",
    "\n",
    "Links on information about the C60/C70 ligand bonded NP\n",
    "-------------------------------------------------------\n",
    "\n",
    "poly(3-hexyl-thiophene) (P3HT)\n",
    "\n",
    "phenyl-C-61-butyric acid methyl ester (PCBM).\n",
    "\n",
    "https://pubchem.ncbi.nlm.nih.gov/compound/3-Hexylthiophene\n",
    "\n",
    "https://pubchem.ncbi.nlm.nih.gov/compound/6_6_-Phenyl-C61-butyric-acid-methyl-ester\n",
    "\n",
    "https://chemrxiv.org/engage/chemrxiv/article-details/60c74b9abb8c1a44713db259\n",
    "\n",
    "https://research.rug.nl/en/publications/resolving-donor-acceptor-interfaces-and-charge-carrier-energy-lev\n",
    "\n",
    "https://www.americanelements.com/60-pcbm-6-6-phenyl-c61-butyric-acid-methyl-ester-160848-22-6\n",
    "\n",
    "http://www-jmg.ch.cam.ac.uk/data/molecules/misc/c70.html\n",
    " \n",
    "https://en.wikipedia.org/wiki/Phenyl-C61-butyric_acid_methyl_ester - information on its application\n",
    "as potential solar cells \n",
    "\n",
    "\"\"\"\n",
    "\n",
    "P3HT = 'CCCCCCC1=CSC=C1'\n",
    "m_P3HT = Chem.MolFromSmiles(P3HT)\n",
    "# Universe \n",
    "u_P3HT = mda.Universe.from_smiles(P3HT)\n",
    "# Need to add index \n",
    "u_P3HT_object = u_P3HT.select_atoms('all')\n",
    "#mol_with_atom_index(m_aromatic)\n"
   ]
  },
  {
   "cell_type": "code",
   "execution_count": 128,
   "metadata": {},
   "outputs": [
    {
     "data": {
      "image/png": "[encoded data removed]",
      "image/svg+xml": [
       "<?xml version='1.0' encoding='iso-8859-1'?>\n",
       "<svg version='1.1' baseProfile='full'\n",
       "              xmlns='http://www.w3.org/2000/svg'\n",
       "                      xmlns:rdkit='http://www.rdkit.org/xml'\n",
       "                      xmlns:xlink='http://www.w3.org/1999/xlink'\n",
       "                  xml:space='preserve'\n",
       "width='450px' height='150px' viewBox='0 0 450 150'>\n",
       "<!-- END OF HEADER -->\n",
       "<rect style='opacity:1.0;fill:#FFFFFF;stroke:none' width='450.0' height='150.0' x='0.0' y='0.0'> </rect>\n",
       "<path class='bond-0 atom-0 atom-1' d='M 73.8,125.6 L 43.7,100.4' style='fill:none;fill-rule:evenodd;stroke:#000000;stroke-width:2.0px;stroke-linecap:butt;stroke-linejoin:miter;stroke-opacity:1' />\n",
       "<path class='bond-0 atom-0 atom-1' d='M 75.2,114.8 L 54.1,97.2' style='fill:none;fill-rule:evenodd;stroke:#000000;stroke-width:2.0px;stroke-linecap:butt;stroke-linejoin:miter;stroke-opacity:1' />\n",
       "<path class='bond-13 atom-5 atom-0' d='M 110.8,112.1 L 73.8,125.6' style='fill:none;fill-rule:evenodd;stroke:#000000;stroke-width:2.0px;stroke-linecap:butt;stroke-linejoin:miter;stroke-opacity:1' />\n",
       "<path class='bond-1 atom-1 atom-2' d='M 39.9,88.6 L 45.2,58.5' style='fill:none;fill-rule:evenodd;stroke:#000000;stroke-width:2.0px;stroke-linecap:butt;stroke-linejoin:miter;stroke-opacity:1' />\n",
       "<path class='bond-2 atom-2 atom-3' d='M 52.0,48.9 L 73.3,41.2' style='fill:none;fill-rule:evenodd;stroke:#000000;stroke-width:2.0px;stroke-linecap:butt;stroke-linejoin:miter;stroke-opacity:1' />\n",
       "<path class='bond-2 atom-2 atom-3' d='M 58.4,56.4 L 73.3,50.9' style='fill:none;fill-rule:evenodd;stroke:#000000;stroke-width:2.0px;stroke-linecap:butt;stroke-linejoin:miter;stroke-opacity:1' />\n",
       "<path class='bond-3 atom-3 atom-4' d='M 98.2,42.4 L 115.9,57.2' style='fill:none;fill-rule:evenodd;stroke:#000000;stroke-width:2.0px;stroke-linecap:butt;stroke-linejoin:miter;stroke-opacity:1' />\n",
       "<path class='bond-4 atom-4 atom-5' d='M 123.5,72.4 L 118.3,102.3' style='fill:none;fill-rule:evenodd;stroke:#000000;stroke-width:2.0px;stroke-linecap:butt;stroke-linejoin:miter;stroke-opacity:1' />\n",
       "<path class='bond-4 atom-4 atom-5' d='M 113.7,75.3 L 110.0,96.3' style='fill:none;fill-rule:evenodd;stroke:#000000;stroke-width:2.0px;stroke-linecap:butt;stroke-linejoin:miter;stroke-opacity:1' />\n",
       "<path class='bond-5 atom-4 atom-6' d='M 134.0,61.3 L 151.5,54.9' style='fill:none;fill-rule:evenodd;stroke:#000000;stroke-width:2.0px;stroke-linecap:butt;stroke-linejoin:miter;stroke-opacity:1' />\n",
       "<path class='bond-6 atom-6 atom-7' d='M 177.0,56.4 L 194.3,70.9' style='fill:none;fill-rule:evenodd;stroke:#000000;stroke-width:2.0px;stroke-linecap:butt;stroke-linejoin:miter;stroke-opacity:1' />\n",
       "<path class='bond-7 atom-7 atom-8' d='M 211.4,75.3 L 229.7,68.6' style='fill:none;fill-rule:evenodd;stroke:#000000;stroke-width:2.0px;stroke-linecap:butt;stroke-linejoin:miter;stroke-opacity:1' />\n",
       "<path class='bond-8 atom-8 atom-9' d='M 255.4,70.1 L 272.6,84.5' style='fill:none;fill-rule:evenodd;stroke:#000000;stroke-width:2.0px;stroke-linecap:butt;stroke-linejoin:miter;stroke-opacity:1' />\n",
       "<path class='bond-9 atom-9 atom-10' d='M 290.4,88.7 L 303.7,83.8' style='fill:none;fill-rule:evenodd;stroke:#000000;stroke-width:2.0px;stroke-linecap:butt;stroke-linejoin:miter;stroke-opacity:1' />\n",
       "<path class='bond-10 atom-10 atom-11' d='M 330.5,69.3 L 333.1,54.4' style='fill:none;fill-rule:evenodd;stroke:#000000;stroke-width:2.0px;stroke-linecap:butt;stroke-linejoin:miter;stroke-opacity:1' />\n",
       "<path class='bond-10 atom-10 atom-11' d='M 333.1,54.4 L 335.7,39.4' style='fill:none;fill-rule:evenodd;stroke:#FF0000;stroke-width:2.0px;stroke-linecap:butt;stroke-linejoin:miter;stroke-opacity:1' />\n",
       "<path class='bond-10 atom-10 atom-11' d='M 321.4,67.7 L 324.0,52.8' style='fill:none;fill-rule:evenodd;stroke:#000000;stroke-width:2.0px;stroke-linecap:butt;stroke-linejoin:miter;stroke-opacity:1' />\n",
       "<path class='bond-10 atom-10 atom-11' d='M 324.0,52.8 L 326.6,37.9' style='fill:none;fill-rule:evenodd;stroke:#FF0000;stroke-width:2.0px;stroke-linecap:butt;stroke-linejoin:miter;stroke-opacity:1' />\n",
       "<path class='bond-11 atom-10 atom-12' d='M 334.0,84.0 L 342.5,91.1' style='fill:none;fill-rule:evenodd;stroke:#000000;stroke-width:2.0px;stroke-linecap:butt;stroke-linejoin:miter;stroke-opacity:1' />\n",
       "<path class='bond-11 atom-10 atom-12' d='M 342.5,91.1 L 351.0,98.2' style='fill:none;fill-rule:evenodd;stroke:#FF0000;stroke-width:2.0px;stroke-linecap:butt;stroke-linejoin:miter;stroke-opacity:1' />\n",
       "<path class='bond-12 atom-12 atom-13' d='M 373.1,100.7 L 385.1,96.3' style='fill:none;fill-rule:evenodd;stroke:#FF0000;stroke-width:2.0px;stroke-linecap:butt;stroke-linejoin:miter;stroke-opacity:1' />\n",
       "<path class='bond-12 atom-12 atom-13' d='M 385.1,96.3 L 397.2,91.9' style='fill:none;fill-rule:evenodd;stroke:#000000;stroke-width:2.0px;stroke-linecap:butt;stroke-linejoin:miter;stroke-opacity:1' />\n",
       "<path  class='atom-1' d='M 20.5 96.3\n",
       "Q 20.5 93.0, 22.0 91.3\n",
       "Q 23.5 89.6, 26.4 89.6\n",
       "Q 29.0 89.6, 30.5 91.5\n",
       "L 29.3 92.5\n",
       "Q 28.2 91.1, 26.4 91.1\n",
       "Q 24.4 91.1, 23.4 92.5\n",
       "Q 22.3 93.8, 22.3 96.3\n",
       "Q 22.3 98.8, 23.4 100.2\n",
       "Q 24.5 101.5, 26.6 101.5\n",
       "Q 28.0 101.5, 29.7 100.6\n",
       "L 30.2 102.0\n",
       "Q 29.5 102.4, 28.5 102.7\n",
       "Q 27.5 102.9, 26.3 102.9\n",
       "Q 23.5 102.9, 22.0 101.2\n",
       "Q 20.5 99.5, 20.5 96.3\n",
       "' fill='#000000'/>\n",
       "<path  class='atom-1' d='M 31.9 100.6\n",
       "L 33.7 100.6\n",
       "L 33.7 102.5\n",
       "L 31.9 102.5\n",
       "L 31.9 100.6\n",
       "M 31.9 94.3\n",
       "L 33.7 94.3\n",
       "L 33.7 96.1\n",
       "L 31.9 96.1\n",
       "L 31.9 94.3\n",
       "' fill='#000000'/>\n",
       "<path  class='atom-1' d='M 35.4 101.3\n",
       "L 38.3 101.3\n",
       "L 38.3 91.6\n",
       "L 35.1 92.6\n",
       "L 34.7 91.5\n",
       "L 38.7 89.7\n",
       "L 40.0 89.9\n",
       "L 40.0 101.3\n",
       "L 42.5 101.3\n",
       "L 42.5 102.8\n",
       "L 35.4 102.8\n",
       "L 35.4 101.3\n",
       "' fill='#000000'/>\n",
       "<path  class='atom-2' d='M 28.0 51.0\n",
       "Q 28.0 47.8, 29.5 46.1\n",
       "Q 31.0 44.4, 33.9 44.4\n",
       "Q 36.5 44.4, 38.0 46.3\n",
       "L 36.8 47.3\n",
       "Q 35.7 45.9, 33.9 45.9\n",
       "Q 31.9 45.9, 30.9 47.2\n",
       "Q 29.8 48.5, 29.8 51.0\n",
       "Q 29.8 53.6, 30.9 54.9\n",
       "Q 32.0 56.2, 34.1 56.2\n",
       "Q 35.5 56.2, 37.2 55.4\n",
       "L 37.7 56.8\n",
       "Q 37.0 57.2, 36.0 57.5\n",
       "Q 35.0 57.7, 33.8 57.7\n",
       "Q 31.0 57.7, 29.5 56.0\n",
       "Q 28.0 54.3, 28.0 51.0\n",
       "' fill='#000000'/>\n",
       "<path  class='atom-2' d='M 39.4 55.4\n",
       "L 41.2 55.4\n",
       "L 41.2 57.2\n",
       "L 39.4 57.2\n",
       "L 39.4 55.4\n",
       "M 39.4 49.1\n",
       "L 41.2 49.1\n",
       "L 41.2 50.9\n",
       "L 39.4 50.9\n",
       "L 39.4 49.1\n",
       "' fill='#000000'/>\n",
       "<path  class='atom-2' d='M 42.2 47.0\n",
       "Q 42.6 45.8, 43.8 45.1\n",
       "Q 44.9 44.4, 46.5 44.4\n",
       "Q 48.4 44.4, 49.6 45.5\n",
       "Q 50.7 46.5, 50.7 48.4\n",
       "Q 50.7 50.3, 49.2 52.1\n",
       "Q 47.8 53.9, 44.9 56.1\n",
       "L 50.9 56.1\n",
       "L 50.9 57.5\n",
       "L 42.1 57.5\n",
       "L 42.1 56.3\n",
       "Q 44.5 54.6, 46.0 53.3\n",
       "Q 47.4 52.0, 48.1 50.9\n",
       "Q 48.8 49.7, 48.8 48.5\n",
       "Q 48.8 47.3, 48.2 46.6\n",
       "Q 47.6 45.9, 46.5 45.9\n",
       "Q 45.4 45.9, 44.7 46.3\n",
       "Q 44.0 46.7, 43.5 47.6\n",
       "L 42.2 47.0\n",
       "' fill='#000000'/>\n",
       "<path  class='atom-3' d='M 74.3 35.2\n",
       "Q 74.3 32.0, 75.8 30.3\n",
       "Q 77.3 28.6, 80.2 28.6\n",
       "Q 82.9 28.6, 84.3 30.5\n",
       "L 83.1 31.5\n",
       "Q 82.1 30.1, 80.2 30.1\n",
       "Q 78.2 30.1, 77.2 31.4\n",
       "Q 76.2 32.7, 76.2 35.2\n",
       "Q 76.2 37.8, 77.2 39.1\n",
       "Q 78.3 40.5, 80.4 40.5\n",
       "Q 81.8 40.5, 83.5 39.6\n",
       "L 84.0 41.0\n",
       "Q 83.4 41.4, 82.3 41.7\n",
       "Q 81.3 41.9, 80.2 41.9\n",
       "Q 77.3 41.9, 75.8 40.2\n",
       "Q 74.3 38.5, 74.3 35.2\n",
       "' fill='#000000'/>\n",
       "<path  class='atom-3' d='M 85.7 39.6\n",
       "L 87.5 39.6\n",
       "L 87.5 41.4\n",
       "L 85.7 41.4\n",
       "L 85.7 39.6\n",
       "M 85.7 33.3\n",
       "L 87.5 33.3\n",
       "L 87.5 35.1\n",
       "L 85.7 35.1\n",
       "L 85.7 33.3\n",
       "' fill='#000000'/>\n",
       "<path  class='atom-3' d='M 94.6 34.9\n",
       "Q 95.8 35.3, 96.4 36.1\n",
       "Q 97.1 36.9, 97.1 38.2\n",
       "Q 97.1 39.3, 96.5 40.2\n",
       "Q 95.9 41.0, 94.9 41.5\n",
       "Q 93.9 41.9, 92.6 41.9\n",
       "Q 91.2 41.9, 90.2 41.5\n",
       "Q 89.1 41.0, 88.3 40.0\n",
       "L 89.4 38.9\n",
       "Q 90.2 39.8, 90.8 40.1\n",
       "Q 91.5 40.5, 92.6 40.5\n",
       "Q 93.8 40.5, 94.5 39.9\n",
       "Q 95.2 39.2, 95.2 38.2\n",
       "Q 95.2 36.9, 94.5 36.3\n",
       "Q 93.7 35.7, 92.1 35.7\n",
       "L 91.2 35.7\n",
       "L 91.2 34.3\n",
       "L 92.0 34.3\n",
       "Q 93.4 34.3, 94.2 33.7\n",
       "Q 94.9 33.1, 94.9 31.9\n",
       "Q 94.9 31.1, 94.3 30.6\n",
       "Q 93.7 30.1, 92.6 30.1\n",
       "Q 91.5 30.1, 90.9 30.5\n",
       "Q 90.2 30.9, 89.7 31.8\n",
       "L 88.4 31.1\n",
       "Q 88.9 30.1, 90.0 29.3\n",
       "Q 91.1 28.6, 92.6 28.6\n",
       "Q 94.5 28.6, 95.7 29.5\n",
       "Q 96.8 30.4, 96.8 31.9\n",
       "Q 96.8 33.0, 96.2 33.7\n",
       "Q 95.6 34.5, 94.6 34.9\n",
       "' fill='#000000'/>\n",
       "<path  class='atom-4' d='M 109.1 64.7\n",
       "Q 109.1 61.5, 110.6 59.8\n",
       "Q 112.1 58.1, 115.0 58.1\n",
       "Q 117.7 58.1, 119.1 59.9\n",
       "L 117.9 60.9\n",
       "Q 116.8 59.6, 115.0 59.6\n",
       "Q 113.0 59.6, 112.0 60.9\n",
       "Q 110.9 62.2, 110.9 64.7\n",
       "Q 110.9 67.3, 112.0 68.6\n",
       "Q 113.1 69.9, 115.2 69.9\n",
       "Q 116.6 69.9, 118.3 69.0\n",
       "L 118.8 70.4\n",
       "Q 118.1 70.9, 117.1 71.1\n",
       "Q 116.1 71.4, 114.9 71.4\n",
       "Q 112.1 71.4, 110.6 69.6\n",
       "Q 109.1 67.9, 109.1 64.7\n",
       "' fill='#000000'/>\n",
       "<path  class='atom-4' d='M 120.5 69.1\n",
       "L 122.3 69.1\n",
       "L 122.3 70.9\n",
       "L 120.5 70.9\n",
       "L 120.5 69.1\n",
       "M 120.5 62.7\n",
       "L 122.3 62.7\n",
       "L 122.3 64.6\n",
       "L 120.5 64.6\n",
       "L 120.5 62.7\n",
       "' fill='#000000'/>\n",
       "<path  class='atom-4' d='M 131.3 66.7\n",
       "L 132.9 66.7\n",
       "L 132.9 68.2\n",
       "L 131.3 68.2\n",
       "L 131.3 71.2\n",
       "L 129.6 71.2\n",
       "L 129.6 68.2\n",
       "L 122.9 68.2\n",
       "L 122.9 67.1\n",
       "L 128.6 58.2\n",
       "L 131.3 58.2\n",
       "L 131.3 66.7\n",
       "M 125.0 66.7\n",
       "L 129.6 66.7\n",
       "L 129.6 59.4\n",
       "L 125.0 66.7\n",
       "' fill='#000000'/>\n",
       "<path  class='atom-5' d='M 111.9 109.9\n",
       "Q 111.9 106.7, 113.4 105.0\n",
       "Q 115.0 103.3, 117.8 103.3\n",
       "Q 120.5 103.3, 122.0 105.2\n",
       "L 120.8 106.2\n",
       "Q 119.7 104.8, 117.8 104.8\n",
       "Q 115.9 104.8, 114.8 106.1\n",
       "Q 113.8 107.4, 113.8 109.9\n",
       "Q 113.8 112.5, 114.9 113.8\n",
       "Q 116.0 115.1, 118.1 115.1\n",
       "Q 119.5 115.1, 121.2 114.3\n",
       "L 121.7 115.6\n",
       "Q 121.0 116.1, 120.0 116.3\n",
       "Q 118.9 116.6, 117.8 116.6\n",
       "Q 115.0 116.6, 113.4 114.9\n",
       "Q 111.9 113.1, 111.9 109.9\n",
       "' fill='#000000'/>\n",
       "<path  class='atom-5' d='M 123.3 114.3\n",
       "L 125.2 114.3\n",
       "L 125.2 116.1\n",
       "L 123.3 116.1\n",
       "L 123.3 114.3\n",
       "M 123.3 108.0\n",
       "L 125.2 108.0\n",
       "L 125.2 109.8\n",
       "L 123.3 109.8\n",
       "L 123.3 108.0\n",
       "' fill='#000000'/>\n",
       "<path  class='atom-5' d='M 130.7 108.3\n",
       "Q 131.9 108.3, 132.8 108.8\n",
       "Q 133.8 109.3, 134.3 110.2\n",
       "Q 134.8 111.1, 134.8 112.3\n",
       "Q 134.8 113.7, 134.2 114.6\n",
       "Q 133.5 115.6, 132.4 116.1\n",
       "Q 131.4 116.6, 130.2 116.6\n",
       "Q 129.0 116.6, 127.9 116.1\n",
       "Q 126.8 115.7, 126.0 114.9\n",
       "L 127.1 113.7\n",
       "Q 127.7 114.4, 128.6 114.7\n",
       "Q 129.4 115.1, 130.2 115.1\n",
       "Q 131.4 115.1, 132.2 114.4\n",
       "Q 133.0 113.7, 133.0 112.4\n",
       "Q 133.0 111.0, 132.2 110.3\n",
       "Q 131.4 109.7, 130.1 109.7\n",
       "Q 129.0 109.7, 127.7 110.2\n",
       "L 126.7 109.7\n",
       "L 127.3 103.4\n",
       "L 134.0 103.4\n",
       "L 133.8 104.9\n",
       "L 128.8 104.9\n",
       "L 128.4 108.8\n",
       "Q 129.6 108.3, 130.7 108.3\n",
       "' fill='#000000'/>\n",
       "<path  class='atom-6' d='M 152.4 48.9\n",
       "Q 152.4 45.7, 153.9 44.0\n",
       "Q 155.4 42.3, 158.3 42.3\n",
       "Q 161.0 42.3, 162.4 44.2\n",
       "L 161.2 45.2\n",
       "Q 160.1 43.8, 158.3 43.8\n",
       "Q 156.3 43.8, 155.3 45.1\n",
       "Q 154.2 46.4, 154.2 48.9\n",
       "Q 154.2 51.5, 155.3 52.8\n",
       "Q 156.4 54.1, 158.5 54.1\n",
       "Q 159.9 54.1, 161.6 53.3\n",
       "L 162.1 54.6\n",
       "Q 161.4 55.1, 160.4 55.3\n",
       "Q 159.4 55.6, 158.2 55.6\n",
       "Q 155.4 55.6, 153.9 53.9\n",
       "Q 152.4 52.1, 152.4 48.9\n",
       "' fill='#000000'/>\n",
       "<path  class='atom-6' d='M 163.8 53.3\n",
       "L 165.6 53.3\n",
       "L 165.6 55.1\n",
       "L 163.8 55.1\n",
       "L 163.8 53.3\n",
       "M 163.8 47.0\n",
       "L 165.6 47.0\n",
       "L 165.6 48.8\n",
       "L 163.8 48.8\n",
       "L 163.8 47.0\n",
       "' fill='#000000'/>\n",
       "<path  class='atom-6' d='M 171.9 47.3\n",
       "Q 173.1 47.3, 174.0 47.8\n",
       "Q 174.9 48.3, 175.4 49.2\n",
       "Q 175.9 50.1, 175.9 51.2\n",
       "Q 175.9 52.5, 175.3 53.5\n",
       "Q 174.8 54.5, 173.8 55.0\n",
       "Q 172.8 55.6, 171.5 55.6\n",
       "Q 169.2 55.6, 168.0 54.0\n",
       "Q 166.9 52.4, 166.9 49.3\n",
       "Q 166.9 45.8, 168.3 44.1\n",
       "Q 169.7 42.3, 172.5 42.3\n",
       "Q 173.3 42.3, 174.0 42.5\n",
       "Q 174.7 42.6, 175.4 43.0\n",
       "L 174.6 44.3\n",
       "Q 173.7 43.7, 172.5 43.7\n",
       "Q 170.7 43.7, 169.8 44.9\n",
       "Q 168.8 46.1, 168.7 48.5\n",
       "Q 169.4 47.9, 170.2 47.6\n",
       "Q 171.0 47.3, 171.9 47.3\n",
       "M 171.5 54.1\n",
       "Q 172.2 54.1, 172.8 53.7\n",
       "Q 173.4 53.3, 173.7 52.7\n",
       "Q 174.0 52.0, 174.0 51.2\n",
       "Q 174.0 50.1, 173.4 49.4\n",
       "Q 172.7 48.8, 171.6 48.8\n",
       "Q 170.8 48.8, 170.0 49.1\n",
       "Q 169.3 49.4, 168.7 50.0\n",
       "Q 168.8 52.1, 169.5 53.1\n",
       "Q 170.1 54.1, 171.5 54.1\n",
       "' fill='#000000'/>\n",
       "<path  class='atom-7' d='M 188.1 78.3\n",
       "Q 188.1 75.1, 189.6 73.4\n",
       "Q 191.1 71.7, 194.0 71.7\n",
       "Q 196.7 71.7, 198.1 73.6\n",
       "L 196.9 74.6\n",
       "Q 195.8 73.2, 194.0 73.2\n",
       "Q 192.0 73.2, 191.0 74.5\n",
       "Q 189.9 75.8, 189.9 78.3\n",
       "Q 189.9 80.9, 191.0 82.2\n",
       "Q 192.1 83.6, 194.2 83.6\n",
       "Q 195.6 83.6, 197.3 82.7\n",
       "L 197.8 84.1\n",
       "Q 197.1 84.5, 196.1 84.8\n",
       "Q 195.1 85.0, 193.9 85.0\n",
       "Q 191.1 85.0, 189.6 83.3\n",
       "Q 188.1 81.6, 188.1 78.3\n",
       "' fill='#000000'/>\n",
       "<path  class='atom-7' d='M 199.5 82.7\n",
       "L 201.3 82.7\n",
       "L 201.3 84.5\n",
       "L 199.5 84.5\n",
       "L 199.5 82.7\n",
       "M 199.5 76.4\n",
       "L 201.3 76.4\n",
       "L 201.3 78.2\n",
       "L 199.5 78.2\n",
       "L 199.5 76.4\n",
       "' fill='#000000'/>\n",
       "<path  class='atom-7' d='M 208.4 73.3\n",
       "L 201.6 73.3\n",
       "L 201.6 71.9\n",
       "L 210.3 71.9\n",
       "L 210.3 73.2\n",
       "L 205.0 84.9\n",
       "L 203.2 84.9\n",
       "L 208.4 73.3\n",
       "' fill='#000000'/>\n",
       "<path  class='atom-8' d='M 230.7 62.6\n",
       "Q 230.7 59.3, 232.2 57.6\n",
       "Q 233.7 55.9, 236.6 55.9\n",
       "Q 239.3 55.9, 240.7 57.8\n",
       "L 239.5 58.8\n",
       "Q 238.4 57.4, 236.6 57.4\n",
       "Q 234.6 57.4, 233.6 58.8\n",
       "Q 232.5 60.1, 232.5 62.6\n",
       "Q 232.5 65.1, 233.6 66.4\n",
       "Q 234.7 67.8, 236.8 67.8\n",
       "Q 238.2 67.8, 239.9 66.9\n",
       "L 240.4 68.3\n",
       "Q 239.7 68.7, 238.7 69.0\n",
       "Q 237.7 69.2, 236.5 69.2\n",
       "Q 233.7 69.2, 232.2 67.5\n",
       "Q 230.7 65.8, 230.7 62.6\n",
       "' fill='#000000'/>\n",
       "<path  class='atom-8' d='M 242.1 66.9\n",
       "L 243.9 66.9\n",
       "L 243.9 68.8\n",
       "L 242.1 68.8\n",
       "L 242.1 66.9\n",
       "M 242.1 60.6\n",
       "L 243.9 60.6\n",
       "L 243.9 62.4\n",
       "L 242.1 62.4\n",
       "L 242.1 60.6\n",
       "' fill='#000000'/>\n",
       "<path  class='atom-8' d='M 251.7 62.2\n",
       "Q 252.9 62.7, 253.6 63.5\n",
       "Q 254.2 64.2, 254.2 65.5\n",
       "Q 254.2 66.6, 253.7 67.5\n",
       "Q 253.1 68.3, 252.1 68.8\n",
       "Q 251.1 69.3, 249.7 69.3\n",
       "Q 247.6 69.3, 246.3 68.3\n",
       "Q 245.1 67.3, 245.1 65.5\n",
       "Q 245.1 64.4, 245.6 63.7\n",
       "Q 246.2 62.8, 247.3 62.2\n",
       "Q 246.4 61.8, 246.0 61.1\n",
       "Q 245.5 60.4, 245.5 59.3\n",
       "Q 245.5 57.7, 246.6 56.8\n",
       "Q 247.8 55.9, 249.6 55.9\n",
       "Q 251.5 55.9, 252.6 56.8\n",
       "Q 253.8 57.7, 253.8 59.3\n",
       "Q 253.8 60.2, 253.2 60.9\n",
       "Q 252.7 61.6, 251.7 62.2\n",
       "M 249.6 57.3\n",
       "Q 248.6 57.3, 248.0 57.8\n",
       "Q 247.4 58.3, 247.4 59.3\n",
       "Q 247.4 59.9, 247.8 60.4\n",
       "Q 248.2 60.8, 248.7 61.1\n",
       "Q 249.3 61.3, 250.5 61.7\n",
       "Q 251.2 61.2, 251.6 60.6\n",
       "Q 251.9 60.0, 251.9 59.3\n",
       "Q 251.9 58.3, 251.3 57.8\n",
       "Q 250.7 57.3, 249.6 57.3\n",
       "M 249.7 67.9\n",
       "Q 250.9 67.9, 251.7 67.2\n",
       "Q 252.4 66.6, 252.4 65.5\n",
       "Q 252.4 64.8, 252.0 64.4\n",
       "Q 251.6 63.9, 251.0 63.7\n",
       "Q 250.5 63.4, 249.4 63.1\n",
       "L 248.6 62.8\n",
       "Q 247.7 63.3, 247.3 64.0\n",
       "Q 246.9 64.6, 246.9 65.5\n",
       "Q 246.9 66.6, 247.7 67.2\n",
       "Q 248.4 67.9, 249.7 67.9\n",
       "' fill='#000000'/>\n",
       "<path  class='atom-9' d='M 266.0 92.0\n",
       "Q 266.0 88.8, 267.5 87.1\n",
       "Q 269.0 85.4, 271.9 85.4\n",
       "Q 274.6 85.4, 276.0 87.3\n",
       "L 274.8 88.3\n",
       "Q 273.8 86.9, 271.9 86.9\n",
       "Q 270.0 86.9, 268.9 88.2\n",
       "Q 267.9 89.5, 267.9 92.0\n",
       "Q 267.9 94.6, 269.0 95.9\n",
       "Q 270.0 97.2, 272.1 97.2\n",
       "Q 273.6 97.2, 275.2 96.4\n",
       "L 275.7 97.7\n",
       "Q 275.1 98.2, 274.0 98.4\n",
       "Q 273.0 98.7, 271.9 98.7\n",
       "Q 269.0 98.7, 267.5 97.0\n",
       "Q 266.0 95.2, 266.0 92.0\n",
       "' fill='#000000'/>\n",
       "<path  class='atom-9' d='M 277.4 96.4\n",
       "L 279.3 96.4\n",
       "L 279.3 98.2\n",
       "L 277.4 98.2\n",
       "L 277.4 96.4\n",
       "M 277.4 90.1\n",
       "L 279.3 90.1\n",
       "L 279.3 91.9\n",
       "L 277.4 91.9\n",
       "L 277.4 90.1\n",
       "' fill='#000000'/>\n",
       "<path  class='atom-9' d='M 284.6 85.4\n",
       "Q 286.9 85.4, 288.1 86.9\n",
       "Q 289.3 88.5, 289.3 91.6\n",
       "Q 289.3 95.1, 287.8 96.9\n",
       "Q 286.4 98.7, 283.6 98.7\n",
       "Q 282.8 98.7, 282.1 98.5\n",
       "Q 281.4 98.3, 280.8 97.9\n",
       "L 281.5 96.7\n",
       "Q 282.4 97.2, 283.6 97.2\n",
       "Q 285.4 97.2, 286.4 96.0\n",
       "Q 287.3 94.8, 287.4 92.4\n",
       "Q 286.8 93.0, 285.9 93.3\n",
       "Q 285.1 93.6, 284.2 93.6\n",
       "Q 283.1 93.6, 282.2 93.1\n",
       "Q 281.3 92.6, 280.8 91.7\n",
       "Q 280.3 90.8, 280.3 89.7\n",
       "Q 280.3 88.4, 280.8 87.5\n",
       "Q 281.4 86.5, 282.4 85.9\n",
       "Q 283.4 85.4, 284.6 85.4\n",
       "M 282.1 89.7\n",
       "Q 282.1 90.8, 282.7 91.5\n",
       "Q 283.4 92.2, 284.5 92.2\n",
       "Q 285.3 92.2, 286.1 91.9\n",
       "Q 286.9 91.5, 287.4 91.0\n",
       "Q 287.4 88.8, 286.7 87.8\n",
       "Q 286.0 86.9, 284.6 86.9\n",
       "Q 283.9 86.9, 283.3 87.2\n",
       "Q 282.8 87.6, 282.4 88.3\n",
       "Q 282.1 88.9, 282.1 89.7\n",
       "' fill='#000000'/>\n",
       "<path  class='atom-10' d='M 304.4 76.2\n",
       "Q 304.4 73.0, 305.9 71.3\n",
       "Q 307.4 69.6, 310.3 69.6\n",
       "Q 313.0 69.6, 314.4 71.5\n",
       "L 313.2 72.5\n",
       "Q 312.2 71.1, 310.3 71.1\n",
       "Q 308.4 71.1, 307.3 72.4\n",
       "Q 306.3 73.7, 306.3 76.2\n",
       "Q 306.3 78.8, 307.4 80.1\n",
       "Q 308.4 81.4, 310.5 81.4\n",
       "Q 312.0 81.4, 313.6 80.6\n",
       "L 314.1 81.9\n",
       "Q 313.5 82.4, 312.4 82.6\n",
       "Q 311.4 82.9, 310.3 82.9\n",
       "Q 307.4 82.9, 305.9 81.2\n",
       "Q 304.4 79.4, 304.4 76.2\n",
       "' fill='#000000'/>\n",
       "<path  class='atom-10' d='M 315.8 80.6\n",
       "L 317.7 80.6\n",
       "L 317.7 82.4\n",
       "L 315.8 82.4\n",
       "L 315.8 80.6\n",
       "M 315.8 74.3\n",
       "L 317.7 74.3\n",
       "L 317.7 76.1\n",
       "L 315.8 76.1\n",
       "L 315.8 74.3\n",
       "' fill='#000000'/>\n",
       "<path  class='atom-10' d='M 319.4 81.3\n",
       "L 322.2 81.3\n",
       "L 322.2 71.5\n",
       "L 319.1 72.5\n",
       "L 318.6 71.4\n",
       "L 322.6 69.7\n",
       "L 323.9 69.9\n",
       "L 323.9 81.3\n",
       "L 326.5 81.3\n",
       "L 326.5 82.7\n",
       "L 319.4 82.7\n",
       "L 319.4 81.3\n",
       "' fill='#000000'/>\n",
       "<path  class='atom-10' d='M 332.4 82.9\n",
       "Q 330.0 82.9, 328.8 81.1\n",
       "Q 327.6 79.4, 327.6 76.2\n",
       "Q 327.6 73.1, 328.8 71.3\n",
       "Q 330.0 69.6, 332.4 69.6\n",
       "Q 334.8 69.6, 335.9 71.3\n",
       "Q 337.1 73.1, 337.1 76.2\n",
       "Q 337.1 79.4, 335.9 81.1\n",
       "Q 334.8 82.9, 332.4 82.9\n",
       "M 332.4 81.4\n",
       "Q 333.8 81.4, 334.5 80.1\n",
       "Q 335.3 78.8, 335.3 76.2\n",
       "Q 335.3 73.7, 334.5 72.4\n",
       "Q 333.8 71.1, 332.4 71.1\n",
       "Q 331.0 71.1, 330.2 72.4\n",
       "Q 329.4 73.7, 329.4 76.2\n",
       "Q 329.4 78.8, 330.2 80.1\n",
       "Q 331.0 81.4, 332.4 81.4\n",
       "' fill='#000000'/>\n",
       "<path  class='atom-11' d='M 326.5 31.0\n",
       "Q 326.5 27.8, 328.1 26.1\n",
       "Q 329.6 24.4, 332.5 24.4\n",
       "Q 335.4 24.4, 336.9 26.1\n",
       "Q 338.5 27.8, 338.5 31.0\n",
       "Q 338.5 34.1, 336.9 35.9\n",
       "Q 335.4 37.7, 332.5 37.7\n",
       "Q 329.7 37.7, 328.1 35.9\n",
       "Q 326.5 34.1, 326.5 31.0\n",
       "M 332.5 36.2\n",
       "Q 334.5 36.2, 335.6 34.9\n",
       "Q 336.6 33.6, 336.6 31.0\n",
       "Q 336.6 28.4, 335.6 27.1\n",
       "Q 334.5 25.8, 332.5 25.8\n",
       "Q 330.5 25.8, 329.4 27.1\n",
       "Q 328.4 28.4, 328.4 31.0\n",
       "Q 328.4 33.6, 329.4 34.9\n",
       "Q 330.5 36.2, 332.5 36.2\n",
       "' fill='#FF0000'/>\n",
       "<path  class='atom-11' d='M 339.9 35.4\n",
       "L 341.7 35.4\n",
       "L 341.7 37.2\n",
       "L 339.9 37.2\n",
       "L 339.9 35.4\n",
       "M 339.9 29.0\n",
       "L 341.7 29.0\n",
       "L 341.7 30.9\n",
       "L 339.9 30.9\n",
       "L 339.9 29.0\n",
       "' fill='#FF0000'/>\n",
       "<path  class='atom-11' d='M 343.4 36.0\n",
       "L 346.3 36.0\n",
       "L 346.3 26.3\n",
       "L 343.1 27.3\n",
       "L 342.7 26.2\n",
       "L 346.7 24.4\n",
       "L 348.0 24.6\n",
       "L 348.0 36.0\n",
       "L 350.5 36.0\n",
       "L 350.5 37.5\n",
       "L 343.4 37.5\n",
       "L 343.4 36.0\n",
       "' fill='#FF0000'/>\n",
       "<path  class='atom-11' d='M 352.2 36.0\n",
       "L 355.1 36.0\n",
       "L 355.1 26.3\n",
       "L 351.9 27.3\n",
       "L 351.5 26.2\n",
       "L 355.5 24.4\n",
       "L 356.8 24.6\n",
       "L 356.8 36.0\n",
       "L 359.4 36.0\n",
       "L 359.4 37.5\n",
       "L 352.2 37.5\n",
       "L 352.2 36.0\n",
       "' fill='#FF0000'/>\n",
       "<path  class='atom-12' d='M 338.3 105.6\n",
       "Q 338.3 102.5, 339.8 100.8\n",
       "Q 341.4 99.0, 344.3 99.0\n",
       "Q 347.2 99.0, 348.7 100.8\n",
       "Q 350.2 102.5, 350.2 105.6\n",
       "Q 350.2 108.8, 348.7 110.6\n",
       "Q 347.1 112.4, 344.3 112.4\n",
       "Q 341.4 112.4, 339.8 110.6\n",
       "Q 338.3 108.8, 338.3 105.6\n",
       "M 344.3 110.9\n",
       "Q 346.3 110.9, 347.3 109.6\n",
       "Q 348.4 108.2, 348.4 105.6\n",
       "Q 348.4 103.1, 347.3 101.8\n",
       "Q 346.3 100.5, 344.3 100.5\n",
       "Q 342.3 100.5, 341.2 101.8\n",
       "Q 340.1 103.1, 340.1 105.6\n",
       "Q 340.1 108.3, 341.2 109.6\n",
       "Q 342.3 110.9, 344.3 110.9\n",
       "' fill='#FF0000'/>\n",
       "<path  class='atom-12' d='M 351.6 110.0\n",
       "L 353.5 110.0\n",
       "L 353.5 111.9\n",
       "L 351.6 111.9\n",
       "L 351.6 110.0\n",
       "M 351.6 103.7\n",
       "L 353.5 103.7\n",
       "L 353.5 105.5\n",
       "L 351.6 105.5\n",
       "L 351.6 103.7\n",
       "' fill='#FF0000'/>\n",
       "<path  class='atom-12' d='M 355.2 110.7\n",
       "L 358.0 110.7\n",
       "L 358.0 101.0\n",
       "L 354.9 102.0\n",
       "L 354.4 100.9\n",
       "L 358.4 99.1\n",
       "L 359.7 99.3\n",
       "L 359.7 110.7\n",
       "L 362.3 110.7\n",
       "L 362.3 112.2\n",
       "L 355.2 112.2\n",
       "L 355.2 110.7\n",
       "' fill='#FF0000'/>\n",
       "<path  class='atom-12' d='M 363.2 101.6\n",
       "Q 363.7 100.4, 364.9 99.7\n",
       "Q 366.0 99.0, 367.6 99.0\n",
       "Q 369.5 99.0, 370.6 100.1\n",
       "Q 371.7 101.2, 371.7 103.0\n",
       "Q 371.7 105.0, 370.3 106.8\n",
       "Q 368.9 108.6, 366.0 110.7\n",
       "L 372.0 110.7\n",
       "L 372.0 112.2\n",
       "L 363.2 112.2\n",
       "L 363.2 110.9\n",
       "Q 365.6 109.2, 367.1 107.9\n",
       "Q 368.5 106.6, 369.2 105.5\n",
       "Q 369.9 104.3, 369.9 103.1\n",
       "Q 369.9 101.9, 369.3 101.2\n",
       "Q 368.7 100.5, 367.6 100.5\n",
       "Q 366.5 100.5, 365.8 100.9\n",
       "Q 365.1 101.3, 364.6 102.3\n",
       "L 363.2 101.6\n",
       "' fill='#FF0000'/>\n",
       "<path  class='atom-13' d='M 398.0 89.9\n",
       "Q 398.0 86.6, 399.5 84.9\n",
       "Q 401.0 83.2, 403.9 83.2\n",
       "Q 406.6 83.2, 408.0 85.1\n",
       "L 406.8 86.1\n",
       "Q 405.7 84.7, 403.9 84.7\n",
       "Q 401.9 84.7, 400.9 86.1\n",
       "Q 399.8 87.4, 399.8 89.9\n",
       "Q 399.8 92.4, 400.9 93.8\n",
       "Q 402.0 95.1, 404.1 95.1\n",
       "Q 405.5 95.1, 407.2 94.2\n",
       "L 407.7 95.6\n",
       "Q 407.0 96.0, 406.0 96.3\n",
       "Q 405.0 96.6, 403.8 96.6\n",
       "Q 401.0 96.6, 399.5 94.8\n",
       "Q 398.0 93.1, 398.0 89.9\n",
       "' fill='#000000'/>\n",
       "<path  class='atom-13' d='M 409.4 94.2\n",
       "L 411.2 94.2\n",
       "L 411.2 96.1\n",
       "L 409.4 96.1\n",
       "L 409.4 94.2\n",
       "M 409.4 87.9\n",
       "L 411.2 87.9\n",
       "L 411.2 89.8\n",
       "L 409.4 89.8\n",
       "L 409.4 87.9\n",
       "' fill='#000000'/>\n",
       "<path  class='atom-13' d='M 412.9 94.9\n",
       "L 415.8 94.9\n",
       "L 415.8 85.2\n",
       "L 412.6 86.2\n",
       "L 412.2 85.1\n",
       "L 416.2 83.3\n",
       "L 417.5 83.5\n",
       "L 417.5 94.9\n",
       "L 420.0 94.9\n",
       "L 420.0 96.4\n",
       "L 412.9 96.4\n",
       "L 412.9 94.9\n",
       "' fill='#000000'/>\n",
       "<path  class='atom-13' d='M 427.0 89.5\n",
       "Q 428.3 89.9, 428.9 90.7\n",
       "Q 429.5 91.5, 429.5 92.8\n",
       "Q 429.5 93.9, 429.0 94.8\n",
       "Q 428.4 95.6, 427.4 96.1\n",
       "Q 426.4 96.6, 425.1 96.6\n",
       "Q 423.7 96.6, 422.7 96.1\n",
       "Q 421.6 95.6, 420.8 94.6\n",
       "L 421.9 93.5\n",
       "Q 422.7 94.4, 423.3 94.8\n",
       "Q 424.0 95.1, 425.1 95.1\n",
       "Q 426.3 95.1, 427.0 94.5\n",
       "Q 427.7 93.8, 427.7 92.8\n",
       "Q 427.7 91.5, 427.0 90.9\n",
       "Q 426.2 90.3, 424.6 90.3\n",
       "L 423.7 90.3\n",
       "L 423.7 89.0\n",
       "L 424.5 89.0\n",
       "Q 425.9 89.0, 426.7 88.3\n",
       "Q 427.4 87.7, 427.4 86.6\n",
       "Q 427.4 85.7, 426.8 85.2\n",
       "Q 426.2 84.7, 425.1 84.7\n",
       "Q 424.0 84.7, 423.4 85.1\n",
       "Q 422.7 85.5, 422.2 86.5\n",
       "L 420.9 85.8\n",
       "Q 421.4 84.7, 422.5 84.0\n",
       "Q 423.6 83.2, 425.1 83.2\n",
       "Q 427.0 83.2, 428.1 84.1\n",
       "Q 429.3 85.0, 429.3 86.6\n",
       "Q 429.3 87.6, 428.7 88.4\n",
       "Q 428.1 89.1, 427.0 89.5\n",
       "' fill='#000000'/>\n",
       "</svg>\n"
      ],
      "text/html": [
       "<?xml version='1.0' encoding='iso-8859-1'?>\n",
       "<svg version='1.1' baseProfile='full'\n",
       "              xmlns='http://www.w3.org/2000/svg'\n",
       "                      xmlns:rdkit='http://www.rdkit.org/xml'\n",
       "                      xmlns:xlink='http://www.w3.org/1999/xlink'\n",
       "                  xml:space='preserve'\n",
       "width='450px' height='150px' viewBox='0 0 450 150'>\n",
       "<!-- END OF HEADER -->\n",
       "<rect style='opacity:1.0;fill:#FFFFFF;stroke:none' width='450.0' height='150.0' x='0.0' y='0.0'> </rect>\n",
       "<path class='bond-0 atom-0 atom-1' d='M 73.8,125.6 L 43.7,100.4' style='fill:none;fill-rule:evenodd;stroke:#000000;stroke-width:2.0px;stroke-linecap:butt;stroke-linejoin:miter;stroke-opacity:1' />\n",
       "<path class='bond-0 atom-0 atom-1' d='M 75.2,114.8 L 54.1,97.2' style='fill:none;fill-rule:evenodd;stroke:#000000;stroke-width:2.0px;stroke-linecap:butt;stroke-linejoin:miter;stroke-opacity:1' />\n",
       "<path class='bond-13 atom-5 atom-0' d='M 110.8,112.1 L 73.8,125.6' style='fill:none;fill-rule:evenodd;stroke:#000000;stroke-width:2.0px;stroke-linecap:butt;stroke-linejoin:miter;stroke-opacity:1' />\n",
       "<path class='bond-1 atom-1 atom-2' d='M 39.9,88.6 L 45.2,58.5' style='fill:none;fill-rule:evenodd;stroke:#000000;stroke-width:2.0px;stroke-linecap:butt;stroke-linejoin:miter;stroke-opacity:1' />\n",
       "<path class='bond-2 atom-2 atom-3' d='M 52.0,48.9 L 73.3,41.2' style='fill:none;fill-rule:evenodd;stroke:#000000;stroke-width:2.0px;stroke-linecap:butt;stroke-linejoin:miter;stroke-opacity:1' />\n",
       "<path class='bond-2 atom-2 atom-3' d='M 58.4,56.4 L 73.3,50.9' style='fill:none;fill-rule:evenodd;stroke:#000000;stroke-width:2.0px;stroke-linecap:butt;stroke-linejoin:miter;stroke-opacity:1' />\n",
       "<path class='bond-3 atom-3 atom-4' d='M 98.2,42.4 L 115.9,57.2' style='fill:none;fill-rule:evenodd;stroke:#000000;stroke-width:2.0px;stroke-linecap:butt;stroke-linejoin:miter;stroke-opacity:1' />\n",
       "<path class='bond-4 atom-4 atom-5' d='M 123.5,72.4 L 118.3,102.3' style='fill:none;fill-rule:evenodd;stroke:#000000;stroke-width:2.0px;stroke-linecap:butt;stroke-linejoin:miter;stroke-opacity:1' />\n",
       "<path class='bond-4 atom-4 atom-5' d='M 113.7,75.3 L 110.0,96.3' style='fill:none;fill-rule:evenodd;stroke:#000000;stroke-width:2.0px;stroke-linecap:butt;stroke-linejoin:miter;stroke-opacity:1' />\n",
       "<path class='bond-5 atom-4 atom-6' d='M 134.0,61.3 L 151.5,54.9' style='fill:none;fill-rule:evenodd;stroke:#000000;stroke-width:2.0px;stroke-linecap:butt;stroke-linejoin:miter;stroke-opacity:1' />\n",
       "<path class='bond-6 atom-6 atom-7' d='M 177.0,56.4 L 194.3,70.9' style='fill:none;fill-rule:evenodd;stroke:#000000;stroke-width:2.0px;stroke-linecap:butt;stroke-linejoin:miter;stroke-opacity:1' />\n",
       "<path class='bond-7 atom-7 atom-8' d='M 211.4,75.3 L 229.7,68.6' style='fill:none;fill-rule:evenodd;stroke:#000000;stroke-width:2.0px;stroke-linecap:butt;stroke-linejoin:miter;stroke-opacity:1' />\n",
       "<path class='bond-8 atom-8 atom-9' d='M 255.4,70.1 L 272.6,84.5' style='fill:none;fill-rule:evenodd;stroke:#000000;stroke-width:2.0px;stroke-linecap:butt;stroke-linejoin:miter;stroke-opacity:1' />\n",
       "<path class='bond-9 atom-9 atom-10' d='M 290.4,88.7 L 303.7,83.8' style='fill:none;fill-rule:evenodd;stroke:#000000;stroke-width:2.0px;stroke-linecap:butt;stroke-linejoin:miter;stroke-opacity:1' />\n",
       "<path class='bond-10 atom-10 atom-11' d='M 330.5,69.3 L 333.1,54.4' style='fill:none;fill-rule:evenodd;stroke:#000000;stroke-width:2.0px;stroke-linecap:butt;stroke-linejoin:miter;stroke-opacity:1' />\n",
       "<path class='bond-10 atom-10 atom-11' d='M 333.1,54.4 L 335.7,39.4' style='fill:none;fill-rule:evenodd;stroke:#FF0000;stroke-width:2.0px;stroke-linecap:butt;stroke-linejoin:miter;stroke-opacity:1' />\n",
       "<path class='bond-10 atom-10 atom-11' d='M 321.4,67.7 L 324.0,52.8' style='fill:none;fill-rule:evenodd;stroke:#000000;stroke-width:2.0px;stroke-linecap:butt;stroke-linejoin:miter;stroke-opacity:1' />\n",
       "<path class='bond-10 atom-10 atom-11' d='M 324.0,52.8 L 326.6,37.9' style='fill:none;fill-rule:evenodd;stroke:#FF0000;stroke-width:2.0px;stroke-linecap:butt;stroke-linejoin:miter;stroke-opacity:1' />\n",
       "<path class='bond-11 atom-10 atom-12' d='M 334.0,84.0 L 342.5,91.1' style='fill:none;fill-rule:evenodd;stroke:#000000;stroke-width:2.0px;stroke-linecap:butt;stroke-linejoin:miter;stroke-opacity:1' />\n",
       "<path class='bond-11 atom-10 atom-12' d='M 342.5,91.1 L 351.0,98.2' style='fill:none;fill-rule:evenodd;stroke:#FF0000;stroke-width:2.0px;stroke-linecap:butt;stroke-linejoin:miter;stroke-opacity:1' />\n",
       "<path class='bond-12 atom-12 atom-13' d='M 373.1,100.7 L 385.1,96.3' style='fill:none;fill-rule:evenodd;stroke:#FF0000;stroke-width:2.0px;stroke-linecap:butt;stroke-linejoin:miter;stroke-opacity:1' />\n",
       "<path class='bond-12 atom-12 atom-13' d='M 385.1,96.3 L 397.2,91.9' style='fill:none;fill-rule:evenodd;stroke:#000000;stroke-width:2.0px;stroke-linecap:butt;stroke-linejoin:miter;stroke-opacity:1' />\n",
       "<path  class='atom-1' d='M 20.5 96.3\n",
       "Q 20.5 93.0, 22.0 91.3\n",
       "Q 23.5 89.6, 26.4 89.6\n",
       "Q 29.0 89.6, 30.5 91.5\n",
       "L 29.3 92.5\n",
       "Q 28.2 91.1, 26.4 91.1\n",
       "Q 24.4 91.1, 23.4 92.5\n",
       "Q 22.3 93.8, 22.3 96.3\n",
       "Q 22.3 98.8, 23.4 100.2\n",
       "Q 24.5 101.5, 26.6 101.5\n",
       "Q 28.0 101.5, 29.7 100.6\n",
       "L 30.2 102.0\n",
       "Q 29.5 102.4, 28.5 102.7\n",
       "Q 27.5 102.9, 26.3 102.9\n",
       "Q 23.5 102.9, 22.0 101.2\n",
       "Q 20.5 99.5, 20.5 96.3\n",
       "' fill='#000000'/>\n",
       "<path  class='atom-1' d='M 31.9 100.6\n",
       "L 33.7 100.6\n",
       "L 33.7 102.5\n",
       "L 31.9 102.5\n",
       "L 31.9 100.6\n",
       "M 31.9 94.3\n",
       "L 33.7 94.3\n",
       "L 33.7 96.1\n",
       "L 31.9 96.1\n",
       "L 31.9 94.3\n",
       "' fill='#000000'/>\n",
       "<path  class='atom-1' d='M 35.4 101.3\n",
       "L 38.3 101.3\n",
       "L 38.3 91.6\n",
       "L 35.1 92.6\n",
       "L 34.7 91.5\n",
       "L 38.7 89.7\n",
       "L 40.0 89.9\n",
       "L 40.0 101.3\n",
       "L 42.5 101.3\n",
       "L 42.5 102.8\n",
       "L 35.4 102.8\n",
       "L 35.4 101.3\n",
       "' fill='#000000'/>\n",
       "<path  class='atom-2' d='M 28.0 51.0\n",
       "Q 28.0 47.8, 29.5 46.1\n",
       "Q 31.0 44.4, 33.9 44.4\n",
       "Q 36.5 44.4, 38.0 46.3\n",
       "L 36.8 47.3\n",
       "Q 35.7 45.9, 33.9 45.9\n",
       "Q 31.9 45.9, 30.9 47.2\n",
       "Q 29.8 48.5, 29.8 51.0\n",
       "Q 29.8 53.6, 30.9 54.9\n",
       "Q 32.0 56.2, 34.1 56.2\n",
       "Q 35.5 56.2, 37.2 55.4\n",
       "L 37.7 56.8\n",
       "Q 37.0 57.2, 36.0 57.5\n",
       "Q 35.0 57.7, 33.8 57.7\n",
       "Q 31.0 57.7, 29.5 56.0\n",
       "Q 28.0 54.3, 28.0 51.0\n",
       "' fill='#000000'/>\n",
       "<path  class='atom-2' d='M 39.4 55.4\n",
       "L 41.2 55.4\n",
       "L 41.2 57.2\n",
       "L 39.4 57.2\n",
       "L 39.4 55.4\n",
       "M 39.4 49.1\n",
       "L 41.2 49.1\n",
       "L 41.2 50.9\n",
       "L 39.4 50.9\n",
       "L 39.4 49.1\n",
       "' fill='#000000'/>\n",
       "<path  class='atom-2' d='M 42.2 47.0\n",
       "Q 42.6 45.8, 43.8 45.1\n",
       "Q 44.9 44.4, 46.5 44.4\n",
       "Q 48.4 44.4, 49.6 45.5\n",
       "Q 50.7 46.5, 50.7 48.4\n",
       "Q 50.7 50.3, 49.2 52.1\n",
       "Q 47.8 53.9, 44.9 56.1\n",
       "L 50.9 56.1\n",
       "L 50.9 57.5\n",
       "L 42.1 57.5\n",
       "L 42.1 56.3\n",
       "Q 44.5 54.6, 46.0 53.3\n",
       "Q 47.4 52.0, 48.1 50.9\n",
       "Q 48.8 49.7, 48.8 48.5\n",
       "Q 48.8 47.3, 48.2 46.6\n",
       "Q 47.6 45.9, 46.5 45.9\n",
       "Q 45.4 45.9, 44.7 46.3\n",
       "Q 44.0 46.7, 43.5 47.6\n",
       "L 42.2 47.0\n",
       "' fill='#000000'/>\n",
       "<path  class='atom-3' d='M 74.3 35.2\n",
       "Q 74.3 32.0, 75.8 30.3\n",
       "Q 77.3 28.6, 80.2 28.6\n",
       "Q 82.9 28.6, 84.3 30.5\n",
       "L 83.1 31.5\n",
       "Q 82.1 30.1, 80.2 30.1\n",
       "Q 78.2 30.1, 77.2 31.4\n",
       "Q 76.2 32.7, 76.2 35.2\n",
       "Q 76.2 37.8, 77.2 39.1\n",
       "Q 78.3 40.5, 80.4 40.5\n",
       "Q 81.8 40.5, 83.5 39.6\n",
       "L 84.0 41.0\n",
       "Q 83.4 41.4, 82.3 41.7\n",
       "Q 81.3 41.9, 80.2 41.9\n",
       "Q 77.3 41.9, 75.8 40.2\n",
       "Q 74.3 38.5, 74.3 35.2\n",
       "' fill='#000000'/>\n",
       "<path  class='atom-3' d='M 85.7 39.6\n",
       "L 87.5 39.6\n",
       "L 87.5 41.4\n",
       "L 85.7 41.4\n",
       "L 85.7 39.6\n",
       "M 85.7 33.3\n",
       "L 87.5 33.3\n",
       "L 87.5 35.1\n",
       "L 85.7 35.1\n",
       "L 85.7 33.3\n",
       "' fill='#000000'/>\n",
       "<path  class='atom-3' d='M 94.6 34.9\n",
       "Q 95.8 35.3, 96.4 36.1\n",
       "Q 97.1 36.9, 97.1 38.2\n",
       "Q 97.1 39.3, 96.5 40.2\n",
       "Q 95.9 41.0, 94.9 41.5\n",
       "Q 93.9 41.9, 92.6 41.9\n",
       "Q 91.2 41.9, 90.2 41.5\n",
       "Q 89.1 41.0, 88.3 40.0\n",
       "L 89.4 38.9\n",
       "Q 90.2 39.8, 90.8 40.1\n",
       "Q 91.5 40.5, 92.6 40.5\n",
       "Q 93.8 40.5, 94.5 39.9\n",
       "Q 95.2 39.2, 95.2 38.2\n",
       "Q 95.2 36.9, 94.5 36.3\n",
       "Q 93.7 35.7, 92.1 35.7\n",
       "L 91.2 35.7\n",
       "L 91.2 34.3\n",
       "L 92.0 34.3\n",
       "Q 93.4 34.3, 94.2 33.7\n",
       "Q 94.9 33.1, 94.9 31.9\n",
       "Q 94.9 31.1, 94.3 30.6\n",
       "Q 93.7 30.1, 92.6 30.1\n",
       "Q 91.5 30.1, 90.9 30.5\n",
       "Q 90.2 30.9, 89.7 31.8\n",
       "L 88.4 31.1\n",
       "Q 88.9 30.1, 90.0 29.3\n",
       "Q 91.1 28.6, 92.6 28.6\n",
       "Q 94.5 28.6, 95.7 29.5\n",
       "Q 96.8 30.4, 96.8 31.9\n",
       "Q 96.8 33.0, 96.2 33.7\n",
       "Q 95.6 34.5, 94.6 34.9\n",
       "' fill='#000000'/>\n",
       "<path  class='atom-4' d='M 109.1 64.7\n",
       "Q 109.1 61.5, 110.6 59.8\n",
       "Q 112.1 58.1, 115.0 58.1\n",
       "Q 117.7 58.1, 119.1 59.9\n",
       "L 117.9 60.9\n",
       "Q 116.8 59.6, 115.0 59.6\n",
       "Q 113.0 59.6, 112.0 60.9\n",
       "Q 110.9 62.2, 110.9 64.7\n",
       "Q 110.9 67.3, 112.0 68.6\n",
       "Q 113.1 69.9, 115.2 69.9\n",
       "Q 116.6 69.9, 118.3 69.0\n",
       "L 118.8 70.4\n",
       "Q 118.1 70.9, 117.1 71.1\n",
       "Q 116.1 71.4, 114.9 71.4\n",
       "Q 112.1 71.4, 110.6 69.6\n",
       "Q 109.1 67.9, 109.1 64.7\n",
       "' fill='#000000'/>\n",
       "<path  class='atom-4' d='M 120.5 69.1\n",
       "L 122.3 69.1\n",
       "L 122.3 70.9\n",
       "L 120.5 70.9\n",
       "L 120.5 69.1\n",
       "M 120.5 62.7\n",
       "L 122.3 62.7\n",
       "L 122.3 64.6\n",
       "L 120.5 64.6\n",
       "L 120.5 62.7\n",
       "' fill='#000000'/>\n",
       "<path  class='atom-4' d='M 131.3 66.7\n",
       "L 132.9 66.7\n",
       "L 132.9 68.2\n",
       "L 131.3 68.2\n",
       "L 131.3 71.2\n",
       "L 129.6 71.2\n",
       "L 129.6 68.2\n",
       "L 122.9 68.2\n",
       "L 122.9 67.1\n",
       "L 128.6 58.2\n",
       "L 131.3 58.2\n",
       "L 131.3 66.7\n",
       "M 125.0 66.7\n",
       "L 129.6 66.7\n",
       "L 129.6 59.4\n",
       "L 125.0 66.7\n",
       "' fill='#000000'/>\n",
       "<path  class='atom-5' d='M 111.9 109.9\n",
       "Q 111.9 106.7, 113.4 105.0\n",
       "Q 115.0 103.3, 117.8 103.3\n",
       "Q 120.5 103.3, 122.0 105.2\n",
       "L 120.8 106.2\n",
       "Q 119.7 104.8, 117.8 104.8\n",
       "Q 115.9 104.8, 114.8 106.1\n",
       "Q 113.8 107.4, 113.8 109.9\n",
       "Q 113.8 112.5, 114.9 113.8\n",
       "Q 116.0 115.1, 118.1 115.1\n",
       "Q 119.5 115.1, 121.2 114.3\n",
       "L 121.7 115.6\n",
       "Q 121.0 116.1, 120.0 116.3\n",
       "Q 118.9 116.6, 117.8 116.6\n",
       "Q 115.0 116.6, 113.4 114.9\n",
       "Q 111.9 113.1, 111.9 109.9\n",
       "' fill='#000000'/>\n",
       "<path  class='atom-5' d='M 123.3 114.3\n",
       "L 125.2 114.3\n",
       "L 125.2 116.1\n",
       "L 123.3 116.1\n",
       "L 123.3 114.3\n",
       "M 123.3 108.0\n",
       "L 125.2 108.0\n",
       "L 125.2 109.8\n",
       "L 123.3 109.8\n",
       "L 123.3 108.0\n",
       "' fill='#000000'/>\n",
       "<path  class='atom-5' d='M 130.7 108.3\n",
       "Q 131.9 108.3, 132.8 108.8\n",
       "Q 133.8 109.3, 134.3 110.2\n",
       "Q 134.8 111.1, 134.8 112.3\n",
       "Q 134.8 113.7, 134.2 114.6\n",
       "Q 133.5 115.6, 132.4 116.1\n",
       "Q 131.4 116.6, 130.2 116.6\n",
       "Q 129.0 116.6, 127.9 116.1\n",
       "Q 126.8 115.7, 126.0 114.9\n",
       "L 127.1 113.7\n",
       "Q 127.7 114.4, 128.6 114.7\n",
       "Q 129.4 115.1, 130.2 115.1\n",
       "Q 131.4 115.1, 132.2 114.4\n",
       "Q 133.0 113.7, 133.0 112.4\n",
       "Q 133.0 111.0, 132.2 110.3\n",
       "Q 131.4 109.7, 130.1 109.7\n",
       "Q 129.0 109.7, 127.7 110.2\n",
       "L 126.7 109.7\n",
       "L 127.3 103.4\n",
       "L 134.0 103.4\n",
       "L 133.8 104.9\n",
       "L 128.8 104.9\n",
       "L 128.4 108.8\n",
       "Q 129.6 108.3, 130.7 108.3\n",
       "' fill='#000000'/>\n",
       "<path  class='atom-6' d='M 152.4 48.9\n",
       "Q 152.4 45.7, 153.9 44.0\n",
       "Q 155.4 42.3, 158.3 42.3\n",
       "Q 161.0 42.3, 162.4 44.2\n",
       "L 161.2 45.2\n",
       "Q 160.1 43.8, 158.3 43.8\n",
       "Q 156.3 43.8, 155.3 45.1\n",
       "Q 154.2 46.4, 154.2 48.9\n",
       "Q 154.2 51.5, 155.3 52.8\n",
       "Q 156.4 54.1, 158.5 54.1\n",
       "Q 159.9 54.1, 161.6 53.3\n",
       "L 162.1 54.6\n",
       "Q 161.4 55.1, 160.4 55.3\n",
       "Q 159.4 55.6, 158.2 55.6\n",
       "Q 155.4 55.6, 153.9 53.9\n",
       "Q 152.4 52.1, 152.4 48.9\n",
       "' fill='#000000'/>\n",
       "<path  class='atom-6' d='M 163.8 53.3\n",
       "L 165.6 53.3\n",
       "L 165.6 55.1\n",
       "L 163.8 55.1\n",
       "L 163.8 53.3\n",
       "M 163.8 47.0\n",
       "L 165.6 47.0\n",
       "L 165.6 48.8\n",
       "L 163.8 48.8\n",
       "L 163.8 47.0\n",
       "' fill='#000000'/>\n",
       "<path  class='atom-6' d='M 171.9 47.3\n",
       "Q 173.1 47.3, 174.0 47.8\n",
       "Q 174.9 48.3, 175.4 49.2\n",
       "Q 175.9 50.1, 175.9 51.2\n",
       "Q 175.9 52.5, 175.3 53.5\n",
       "Q 174.8 54.5, 173.8 55.0\n",
       "Q 172.8 55.6, 171.5 55.6\n",
       "Q 169.2 55.6, 168.0 54.0\n",
       "Q 166.9 52.4, 166.9 49.3\n",
       "Q 166.9 45.8, 168.3 44.1\n",
       "Q 169.7 42.3, 172.5 42.3\n",
       "Q 173.3 42.3, 174.0 42.5\n",
       "Q 174.7 42.6, 175.4 43.0\n",
       "L 174.6 44.3\n",
       "Q 173.7 43.7, 172.5 43.7\n",
       "Q 170.7 43.7, 169.8 44.9\n",
       "Q 168.8 46.1, 168.7 48.5\n",
       "Q 169.4 47.9, 170.2 47.6\n",
       "Q 171.0 47.3, 171.9 47.3\n",
       "M 171.5 54.1\n",
       "Q 172.2 54.1, 172.8 53.7\n",
       "Q 173.4 53.3, 173.7 52.7\n",
       "Q 174.0 52.0, 174.0 51.2\n",
       "Q 174.0 50.1, 173.4 49.4\n",
       "Q 172.7 48.8, 171.6 48.8\n",
       "Q 170.8 48.8, 170.0 49.1\n",
       "Q 169.3 49.4, 168.7 50.0\n",
       "Q 168.8 52.1, 169.5 53.1\n",
       "Q 170.1 54.1, 171.5 54.1\n",
       "' fill='#000000'/>\n",
       "<path  class='atom-7' d='M 188.1 78.3\n",
       "Q 188.1 75.1, 189.6 73.4\n",
       "Q 191.1 71.7, 194.0 71.7\n",
       "Q 196.7 71.7, 198.1 73.6\n",
       "L 196.9 74.6\n",
       "Q 195.8 73.2, 194.0 73.2\n",
       "Q 192.0 73.2, 191.0 74.5\n",
       "Q 189.9 75.8, 189.9 78.3\n",
       "Q 189.9 80.9, 191.0 82.2\n",
       "Q 192.1 83.6, 194.2 83.6\n",
       "Q 195.6 83.6, 197.3 82.7\n",
       "L 197.8 84.1\n",
       "Q 197.1 84.5, 196.1 84.8\n",
       "Q 195.1 85.0, 193.9 85.0\n",
       "Q 191.1 85.0, 189.6 83.3\n",
       "Q 188.1 81.6, 188.1 78.3\n",
       "' fill='#000000'/>\n",
       "<path  class='atom-7' d='M 199.5 82.7\n",
       "L 201.3 82.7\n",
       "L 201.3 84.5\n",
       "L 199.5 84.5\n",
       "L 199.5 82.7\n",
       "M 199.5 76.4\n",
       "L 201.3 76.4\n",
       "L 201.3 78.2\n",
       "L 199.5 78.2\n",
       "L 199.5 76.4\n",
       "' fill='#000000'/>\n",
       "<path  class='atom-7' d='M 208.4 73.3\n",
       "L 201.6 73.3\n",
       "L 201.6 71.9\n",
       "L 210.3 71.9\n",
       "L 210.3 73.2\n",
       "L 205.0 84.9\n",
       "L 203.2 84.9\n",
       "L 208.4 73.3\n",
       "' fill='#000000'/>\n",
       "<path  class='atom-8' d='M 230.7 62.6\n",
       "Q 230.7 59.3, 232.2 57.6\n",
       "Q 233.7 55.9, 236.6 55.9\n",
       "Q 239.3 55.9, 240.7 57.8\n",
       "L 239.5 58.8\n",
       "Q 238.4 57.4, 236.6 57.4\n",
       "Q 234.6 57.4, 233.6 58.8\n",
       "Q 232.5 60.1, 232.5 62.6\n",
       "Q 232.5 65.1, 233.6 66.4\n",
       "Q 234.7 67.8, 236.8 67.8\n",
       "Q 238.2 67.8, 239.9 66.9\n",
       "L 240.4 68.3\n",
       "Q 239.7 68.7, 238.7 69.0\n",
       "Q 237.7 69.2, 236.5 69.2\n",
       "Q 233.7 69.2, 232.2 67.5\n",
       "Q 230.7 65.8, 230.7 62.6\n",
       "' fill='#000000'/>\n",
       "<path  class='atom-8' d='M 242.1 66.9\n",
       "L 243.9 66.9\n",
       "L 243.9 68.8\n",
       "L 242.1 68.8\n",
       "L 242.1 66.9\n",
       "M 242.1 60.6\n",
       "L 243.9 60.6\n",
       "L 243.9 62.4\n",
       "L 242.1 62.4\n",
       "L 242.1 60.6\n",
       "' fill='#000000'/>\n",
       "<path  class='atom-8' d='M 251.7 62.2\n",
       "Q 252.9 62.7, 253.6 63.5\n",
       "Q 254.2 64.2, 254.2 65.5\n",
       "Q 254.2 66.6, 253.7 67.5\n",
       "Q 253.1 68.3, 252.1 68.8\n",
       "Q 251.1 69.3, 249.7 69.3\n",
       "Q 247.6 69.3, 246.3 68.3\n",
       "Q 245.1 67.3, 245.1 65.5\n",
       "Q 245.1 64.4, 245.6 63.7\n",
       "Q 246.2 62.8, 247.3 62.2\n",
       "Q 246.4 61.8, 246.0 61.1\n",
       "Q 245.5 60.4, 245.5 59.3\n",
       "Q 245.5 57.7, 246.6 56.8\n",
       "Q 247.8 55.9, 249.6 55.9\n",
       "Q 251.5 55.9, 252.6 56.8\n",
       "Q 253.8 57.7, 253.8 59.3\n",
       "Q 253.8 60.2, 253.2 60.9\n",
       "Q 252.7 61.6, 251.7 62.2\n",
       "M 249.6 57.3\n",
       "Q 248.6 57.3, 248.0 57.8\n",
       "Q 247.4 58.3, 247.4 59.3\n",
       "Q 247.4 59.9, 247.8 60.4\n",
       "Q 248.2 60.8, 248.7 61.1\n",
       "Q 249.3 61.3, 250.5 61.7\n",
       "Q 251.2 61.2, 251.6 60.6\n",
       "Q 251.9 60.0, 251.9 59.3\n",
       "Q 251.9 58.3, 251.3 57.8\n",
       "Q 250.7 57.3, 249.6 57.3\n",
       "M 249.7 67.9\n",
       "Q 250.9 67.9, 251.7 67.2\n",
       "Q 252.4 66.6, 252.4 65.5\n",
       "Q 252.4 64.8, 252.0 64.4\n",
       "Q 251.6 63.9, 251.0 63.7\n",
       "Q 250.5 63.4, 249.4 63.1\n",
       "L 248.6 62.8\n",
       "Q 247.7 63.3, 247.3 64.0\n",
       "Q 246.9 64.6, 246.9 65.5\n",
       "Q 246.9 66.6, 247.7 67.2\n",
       "Q 248.4 67.9, 249.7 67.9\n",
       "' fill='#000000'/>\n",
       "<path  class='atom-9' d='M 266.0 92.0\n",
       "Q 266.0 88.8, 267.5 87.1\n",
       "Q 269.0 85.4, 271.9 85.4\n",
       "Q 274.6 85.4, 276.0 87.3\n",
       "L 274.8 88.3\n",
       "Q 273.8 86.9, 271.9 86.9\n",
       "Q 270.0 86.9, 268.9 88.2\n",
       "Q 267.9 89.5, 267.9 92.0\n",
       "Q 267.9 94.6, 269.0 95.9\n",
       "Q 270.0 97.2, 272.1 97.2\n",
       "Q 273.6 97.2, 275.2 96.4\n",
       "L 275.7 97.7\n",
       "Q 275.1 98.2, 274.0 98.4\n",
       "Q 273.0 98.7, 271.9 98.7\n",
       "Q 269.0 98.7, 267.5 97.0\n",
       "Q 266.0 95.2, 266.0 92.0\n",
       "' fill='#000000'/>\n",
       "<path  class='atom-9' d='M 277.4 96.4\n",
       "L 279.3 96.4\n",
       "L 279.3 98.2\n",
       "L 277.4 98.2\n",
       "L 277.4 96.4\n",
       "M 277.4 90.1\n",
       "L 279.3 90.1\n",
       "L 279.3 91.9\n",
       "L 277.4 91.9\n",
       "L 277.4 90.1\n",
       "' fill='#000000'/>\n",
       "<path  class='atom-9' d='M 284.6 85.4\n",
       "Q 286.9 85.4, 288.1 86.9\n",
       "Q 289.3 88.5, 289.3 91.6\n",
       "Q 289.3 95.1, 287.8 96.9\n",
       "Q 286.4 98.7, 283.6 98.7\n",
       "Q 282.8 98.7, 282.1 98.5\n",
       "Q 281.4 98.3, 280.8 97.9\n",
       "L 281.5 96.7\n",
       "Q 282.4 97.2, 283.6 97.2\n",
       "Q 285.4 97.2, 286.4 96.0\n",
       "Q 287.3 94.8, 287.4 92.4\n",
       "Q 286.8 93.0, 285.9 93.3\n",
       "Q 285.1 93.6, 284.2 93.6\n",
       "Q 283.1 93.6, 282.2 93.1\n",
       "Q 281.3 92.6, 280.8 91.7\n",
       "Q 280.3 90.8, 280.3 89.7\n",
       "Q 280.3 88.4, 280.8 87.5\n",
       "Q 281.4 86.5, 282.4 85.9\n",
       "Q 283.4 85.4, 284.6 85.4\n",
       "M 282.1 89.7\n",
       "Q 282.1 90.8, 282.7 91.5\n",
       "Q 283.4 92.2, 284.5 92.2\n",
       "Q 285.3 92.2, 286.1 91.9\n",
       "Q 286.9 91.5, 287.4 91.0\n",
       "Q 287.4 88.8, 286.7 87.8\n",
       "Q 286.0 86.9, 284.6 86.9\n",
       "Q 283.9 86.9, 283.3 87.2\n",
       "Q 282.8 87.6, 282.4 88.3\n",
       "Q 282.1 88.9, 282.1 89.7\n",
       "' fill='#000000'/>\n",
       "<path  class='atom-10' d='M 304.4 76.2\n",
       "Q 304.4 73.0, 305.9 71.3\n",
       "Q 307.4 69.6, 310.3 69.6\n",
       "Q 313.0 69.6, 314.4 71.5\n",
       "L 313.2 72.5\n",
       "Q 312.2 71.1, 310.3 71.1\n",
       "Q 308.4 71.1, 307.3 72.4\n",
       "Q 306.3 73.7, 306.3 76.2\n",
       "Q 306.3 78.8, 307.4 80.1\n",
       "Q 308.4 81.4, 310.5 81.4\n",
       "Q 312.0 81.4, 313.6 80.6\n",
       "L 314.1 81.9\n",
       "Q 313.5 82.4, 312.4 82.6\n",
       "Q 311.4 82.9, 310.3 82.9\n",
       "Q 307.4 82.9, 305.9 81.2\n",
       "Q 304.4 79.4, 304.4 76.2\n",
       "' fill='#000000'/>\n",
       "<path  class='atom-10' d='M 315.8 80.6\n",
       "L 317.7 80.6\n",
       "L 317.7 82.4\n",
       "L 315.8 82.4\n",
       "L 315.8 80.6\n",
       "M 315.8 74.3\n",
       "L 317.7 74.3\n",
       "L 317.7 76.1\n",
       "L 315.8 76.1\n",
       "L 315.8 74.3\n",
       "' fill='#000000'/>\n",
       "<path  class='atom-10' d='M 319.4 81.3\n",
       "L 322.2 81.3\n",
       "L 322.2 71.5\n",
       "L 319.1 72.5\n",
       "L 318.6 71.4\n",
       "L 322.6 69.7\n",
       "L 323.9 69.9\n",
       "L 323.9 81.3\n",
       "L 326.5 81.3\n",
       "L 326.5 82.7\n",
       "L 319.4 82.7\n",
       "L 319.4 81.3\n",
       "' fill='#000000'/>\n",
       "<path  class='atom-10' d='M 332.4 82.9\n",
       "Q 330.0 82.9, 328.8 81.1\n",
       "Q 327.6 79.4, 327.6 76.2\n",
       "Q 327.6 73.1, 328.8 71.3\n",
       "Q 330.0 69.6, 332.4 69.6\n",
       "Q 334.8 69.6, 335.9 71.3\n",
       "Q 337.1 73.1, 337.1 76.2\n",
       "Q 337.1 79.4, 335.9 81.1\n",
       "Q 334.8 82.9, 332.4 82.9\n",
       "M 332.4 81.4\n",
       "Q 333.8 81.4, 334.5 80.1\n",
       "Q 335.3 78.8, 335.3 76.2\n",
       "Q 335.3 73.7, 334.5 72.4\n",
       "Q 333.8 71.1, 332.4 71.1\n",
       "Q 331.0 71.1, 330.2 72.4\n",
       "Q 329.4 73.7, 329.4 76.2\n",
       "Q 329.4 78.8, 330.2 80.1\n",
       "Q 331.0 81.4, 332.4 81.4\n",
       "' fill='#000000'/>\n",
       "<path  class='atom-11' d='M 326.5 31.0\n",
       "Q 326.5 27.8, 328.1 26.1\n",
       "Q 329.6 24.4, 332.5 24.4\n",
       "Q 335.4 24.4, 336.9 26.1\n",
       "Q 338.5 27.8, 338.5 31.0\n",
       "Q 338.5 34.1, 336.9 35.9\n",
       "Q 335.4 37.7, 332.5 37.7\n",
       "Q 329.7 37.7, 328.1 35.9\n",
       "Q 326.5 34.1, 326.5 31.0\n",
       "M 332.5 36.2\n",
       "Q 334.5 36.2, 335.6 34.9\n",
       "Q 336.6 33.6, 336.6 31.0\n",
       "Q 336.6 28.4, 335.6 27.1\n",
       "Q 334.5 25.8, 332.5 25.8\n",
       "Q 330.5 25.8, 329.4 27.1\n",
       "Q 328.4 28.4, 328.4 31.0\n",
       "Q 328.4 33.6, 329.4 34.9\n",
       "Q 330.5 36.2, 332.5 36.2\n",
       "' fill='#FF0000'/>\n",
       "<path  class='atom-11' d='M 339.9 35.4\n",
       "L 341.7 35.4\n",
       "L 341.7 37.2\n",
       "L 339.9 37.2\n",
       "L 339.9 35.4\n",
       "M 339.9 29.0\n",
       "L 341.7 29.0\n",
       "L 341.7 30.9\n",
       "L 339.9 30.9\n",
       "L 339.9 29.0\n",
       "' fill='#FF0000'/>\n",
       "<path  class='atom-11' d='M 343.4 36.0\n",
       "L 346.3 36.0\n",
       "L 346.3 26.3\n",
       "L 343.1 27.3\n",
       "L 342.7 26.2\n",
       "L 346.7 24.4\n",
       "L 348.0 24.6\n",
       "L 348.0 36.0\n",
       "L 350.5 36.0\n",
       "L 350.5 37.5\n",
       "L 343.4 37.5\n",
       "L 343.4 36.0\n",
       "' fill='#FF0000'/>\n",
       "<path  class='atom-11' d='M 352.2 36.0\n",
       "L 355.1 36.0\n",
       "L 355.1 26.3\n",
       "L 351.9 27.3\n",
       "L 351.5 26.2\n",
       "L 355.5 24.4\n",
       "L 356.8 24.6\n",
       "L 356.8 36.0\n",
       "L 359.4 36.0\n",
       "L 359.4 37.5\n",
       "L 352.2 37.5\n",
       "L 352.2 36.0\n",
       "' fill='#FF0000'/>\n",
       "<path  class='atom-12' d='M 338.3 105.6\n",
       "Q 338.3 102.5, 339.8 100.8\n",
       "Q 341.4 99.0, 344.3 99.0\n",
       "Q 347.2 99.0, 348.7 100.8\n",
       "Q 350.2 102.5, 350.2 105.6\n",
       "Q 350.2 108.8, 348.7 110.6\n",
       "Q 347.1 112.4, 344.3 112.4\n",
       "Q 341.4 112.4, 339.8 110.6\n",
       "Q 338.3 108.8, 338.3 105.6\n",
       "M 344.3 110.9\n",
       "Q 346.3 110.9, 347.3 109.6\n",
       "Q 348.4 108.2, 348.4 105.6\n",
       "Q 348.4 103.1, 347.3 101.8\n",
       "Q 346.3 100.5, 344.3 100.5\n",
       "Q 342.3 100.5, 341.2 101.8\n",
       "Q 340.1 103.1, 340.1 105.6\n",
       "Q 340.1 108.3, 341.2 109.6\n",
       "Q 342.3 110.9, 344.3 110.9\n",
       "' fill='#FF0000'/>\n",
       "<path  class='atom-12' d='M 351.6 110.0\n",
       "L 353.5 110.0\n",
       "L 353.5 111.9\n",
       "L 351.6 111.9\n",
       "L 351.6 110.0\n",
       "M 351.6 103.7\n",
       "L 353.5 103.7\n",
       "L 353.5 105.5\n",
       "L 351.6 105.5\n",
       "L 351.6 103.7\n",
       "' fill='#FF0000'/>\n",
       "<path  class='atom-12' d='M 355.2 110.7\n",
       "L 358.0 110.7\n",
       "L 358.0 101.0\n",
       "L 354.9 102.0\n",
       "L 354.4 100.9\n",
       "L 358.4 99.1\n",
       "L 359.7 99.3\n",
       "L 359.7 110.7\n",
       "L 362.3 110.7\n",
       "L 362.3 112.2\n",
       "L 355.2 112.2\n",
       "L 355.2 110.7\n",
       "' fill='#FF0000'/>\n",
       "<path  class='atom-12' d='M 363.2 101.6\n",
       "Q 363.7 100.4, 364.9 99.7\n",
       "Q 366.0 99.0, 367.6 99.0\n",
       "Q 369.5 99.0, 370.6 100.1\n",
       "Q 371.7 101.2, 371.7 103.0\n",
       "Q 371.7 105.0, 370.3 106.8\n",
       "Q 368.9 108.6, 366.0 110.7\n",
       "L 372.0 110.7\n",
       "L 372.0 112.2\n",
       "L 363.2 112.2\n",
       "L 363.2 110.9\n",
       "Q 365.6 109.2, 367.1 107.9\n",
       "Q 368.5 106.6, 369.2 105.5\n",
       "Q 369.9 104.3, 369.9 103.1\n",
       "Q 369.9 101.9, 369.3 101.2\n",
       "Q 368.7 100.5, 367.6 100.5\n",
       "Q 366.5 100.5, 365.8 100.9\n",
       "Q 365.1 101.3, 364.6 102.3\n",
       "L 363.2 101.6\n",
       "' fill='#FF0000'/>\n",
       "<path  class='atom-13' d='M 398.0 89.9\n",
       "Q 398.0 86.6, 399.5 84.9\n",
       "Q 401.0 83.2, 403.9 83.2\n",
       "Q 406.6 83.2, 408.0 85.1\n",
       "L 406.8 86.1\n",
       "Q 405.7 84.7, 403.9 84.7\n",
       "Q 401.9 84.7, 400.9 86.1\n",
       "Q 399.8 87.4, 399.8 89.9\n",
       "Q 399.8 92.4, 400.9 93.8\n",
       "Q 402.0 95.1, 404.1 95.1\n",
       "Q 405.5 95.1, 407.2 94.2\n",
       "L 407.7 95.6\n",
       "Q 407.0 96.0, 406.0 96.3\n",
       "Q 405.0 96.6, 403.8 96.6\n",
       "Q 401.0 96.6, 399.5 94.8\n",
       "Q 398.0 93.1, 398.0 89.9\n",
       "' fill='#000000'/>\n",
       "<path  class='atom-13' d='M 409.4 94.2\n",
       "L 411.2 94.2\n",
       "L 411.2 96.1\n",
       "L 409.4 96.1\n",
       "L 409.4 94.2\n",
       "M 409.4 87.9\n",
       "L 411.2 87.9\n",
       "L 411.2 89.8\n",
       "L 409.4 89.8\n",
       "L 409.4 87.9\n",
       "' fill='#000000'/>\n",
       "<path  class='atom-13' d='M 412.9 94.9\n",
       "L 415.8 94.9\n",
       "L 415.8 85.2\n",
       "L 412.6 86.2\n",
       "L 412.2 85.1\n",
       "L 416.2 83.3\n",
       "L 417.5 83.5\n",
       "L 417.5 94.9\n",
       "L 420.0 94.9\n",
       "L 420.0 96.4\n",
       "L 412.9 96.4\n",
       "L 412.9 94.9\n",
       "' fill='#000000'/>\n",
       "<path  class='atom-13' d='M 427.0 89.5\n",
       "Q 428.3 89.9, 428.9 90.7\n",
       "Q 429.5 91.5, 429.5 92.8\n",
       "Q 429.5 93.9, 429.0 94.8\n",
       "Q 428.4 95.6, 427.4 96.1\n",
       "Q 426.4 96.6, 425.1 96.6\n",
       "Q 423.7 96.6, 422.7 96.1\n",
       "Q 421.6 95.6, 420.8 94.6\n",
       "L 421.9 93.5\n",
       "Q 422.7 94.4, 423.3 94.8\n",
       "Q 424.0 95.1, 425.1 95.1\n",
       "Q 426.3 95.1, 427.0 94.5\n",
       "Q 427.7 93.8, 427.7 92.8\n",
       "Q 427.7 91.5, 427.0 90.9\n",
       "Q 426.2 90.3, 424.6 90.3\n",
       "L 423.7 90.3\n",
       "L 423.7 89.0\n",
       "L 424.5 89.0\n",
       "Q 425.9 89.0, 426.7 88.3\n",
       "Q 427.4 87.7, 427.4 86.6\n",
       "Q 427.4 85.7, 426.8 85.2\n",
       "Q 426.2 84.7, 425.1 84.7\n",
       "Q 424.0 84.7, 423.4 85.1\n",
       "Q 422.7 85.5, 422.2 86.5\n",
       "L 420.9 85.8\n",
       "Q 421.4 84.7, 422.5 84.0\n",
       "Q 423.6 83.2, 425.1 83.2\n",
       "Q 427.0 83.2, 428.1 84.1\n",
       "Q 429.3 85.0, 429.3 86.6\n",
       "Q 429.3 87.6, 428.7 88.4\n",
       "Q 428.1 89.1, 427.0 89.5\n",
       "' fill='#000000'/>\n",
       "</svg>\n"
      ],
      "text/plain": [
       "<rdkit.Chem.rdchem.Mol at 0x7f8440ade820>"
      ]
     },
     "execution_count": 128,
     "metadata": {},
     "output_type": "execute_result"
    }
   ],
   "source": [
    "# C70\n",
    "Phenyl_C61_Butyric_Acid_Methyl_Ester = 'C1=CC=CC(=C1)CCCCC(=O)OC'\n",
    "C70BAME = Chem.MolFromSmiles(Phenyl_C61_Butyric_Acid_Methyl_Ester)\n",
    "u_C70BAME = mda.Universe.from_smiles(Phenyl_C61_Butyric_Acid_Methyl_Ester)\n",
    "# Need to add index \n",
    "u_C70BAME_object = u_C70BAME.select_atoms('all')\n",
    "#u_C70BAME_object.write(\"u_C70BAME.xyz\")\n",
    "mol_with_atom_index(C70BAME) # C6 is the attaching ligand "
   ]
  },
  {
   "cell_type": "code",
   "execution_count": null,
   "metadata": {},
   "outputs": [],
   "source": [
    "# https://stackoverflow.com/questions/53075481/how-do-i-cluster-a-list-of-geographic-points-by-distance\n",
    "\n",
    "\n",
    "import numpy as np\n",
    "from sklearn.cluster import KMeans\n",
    "from scipy.spatial.distance import cdist\n",
    "import math\n",
    "\n",
    "points = np.array([[33.    , 41.    ],\n",
    "       [33.9693, 41.3923],\n",
    "       [33.6074, 41.277 ],\n",
    "       [34.4823, 41.919 ],\n",
    "       [34.3702, 41.1424],\n",
    "       [34.3931, 41.078 ],\n",
    "       [34.2377, 41.0576],\n",
    "       [34.2395, 41.0211],\n",
    "       [34.4443, 41.3499],\n",
    "       [34.3812, 40.9793]])\n",
    "\n",
    "\n",
    "def distance(origin, destination): #found here https://gist.github.com/rochacbruno/2883505\n",
    "    lat1, lon1 = origin[0],origin[1]\n",
    "    lat2, lon2 = destination[0],destination[1]\n",
    "    radius = 6371 # km\n",
    "    dlat = math.radians(lat2-lat1)\n",
    "    dlon = math.radians(lon2-lon1)\n",
    "    a = math.sin(dlat/2) * math.sin(dlat/2) + math.cos(math.radians(lat1)) \\\n",
    "        * math.cos(math.radians(lat2)) * math.sin(dlon/2) * math.sin(dlon/2)\n",
    "    c = 2 * math.atan2(math.sqrt(a), math.sqrt(1-a))\n",
    "    d = radius * c\n",
    "\n",
    "    return d\n",
    "\n",
    "def create_clusters(number_of_clusters,points):\n",
    "    kmeans = KMeans(n_clusters=number_of_clusters, random_state=0).fit(points)\n",
    "    l_array = np.array([[label] for label in kmeans.labels_])\n",
    "    clusters = np.append(points,l_array,axis=1)\n",
    "    return clusters\n",
    "\n",
    "def validate_solution(max_dist,clusters):\n",
    "    _, __, n_clust = clusters.max(axis=0)\n",
    "    n_clust = int(n_clust)\n",
    "    for i in range(n_clust):\n",
    "        two_d_cluster=clusters[clusters[:,2] == i][:,np.array([True, True, False])]\n",
    "        if not validate_cluster(max_dist,two_d_cluster):\n",
    "            return False\n",
    "        else:\n",
    "            continue\n",
    "    return True\n",
    "\n",
    "def validate_cluster(max_dist,cluster):\n",
    "    distances = cdist(cluster,cluster, lambda ori,des: int(round(distance(ori,des))))\n",
    "    print(distances)\n",
    "    print(30*'-')\n",
    "    for item in distances.flatten():\n",
    "        if item > max_dist:\n",
    "            return False\n",
    "    return True\n",
    "\n",
    "if __name__ == '__main__':\n",
    "    for i in range(2,len(points)):\n",
    "        print(i)\n",
    "        print(validate_solution(20,create_clusters(i,points)))\n"
   ]
  },
  {
   "cell_type": "code",
   "execution_count": 96,
   "metadata": {},
   "outputs": [
    {
     "ename": "NameError",
     "evalue": "name 'DistIndex1Index2' is not defined",
     "output_type": "error",
     "traceback": [
      "\u001b[0;31m---------------------------------------------------------------------------\u001b[0m",
      "\u001b[0;31mNameError\u001b[0m                                 Traceback (most recent call last)",
      "\u001b[0;32m<ipython-input-96-d2d4f81dbcc1>\u001b[0m in \u001b[0;36m<module>\u001b[0;34m\u001b[0m\n\u001b[0;32m----> 1\u001b[0;31m \u001b[0mDistIndex1Index2\u001b[0m\u001b[0;34m\u001b[0m\u001b[0;34m\u001b[0m\u001b[0m\n\u001b[0m\u001b[1;32m      2\u001b[0m \u001b[0mUniqueIndex1Index2Distances\u001b[0m \u001b[0;34m=\u001b[0m \u001b[0;34m[\u001b[0m\u001b[0mlist\u001b[0m\u001b[0;34m(\u001b[0m\u001b[0mi\u001b[0m\u001b[0;34m)\u001b[0m \u001b[0;32mfor\u001b[0m \u001b[0mi\u001b[0m \u001b[0;32min\u001b[0m \u001b[0mlist\u001b[0m\u001b[0;34m(\u001b[0m\u001b[0mset\u001b[0m\u001b[0;34m(\u001b[0m\u001b[0mmap\u001b[0m\u001b[0;34m(\u001b[0m\u001b[0mtuple\u001b[0m\u001b[0;34m,\u001b[0m \u001b[0mDistIndex1Index2\u001b[0m\u001b[0;34m)\u001b[0m\u001b[0;34m)\u001b[0m\u001b[0;34m)\u001b[0m\u001b[0;34m]\u001b[0m\u001b[0;34m\u001b[0m\u001b[0;34m\u001b[0m\u001b[0m\n",
      "\u001b[0;31mNameError\u001b[0m: name 'DistIndex1Index2' is not defined"
     ]
    }
   ],
   "source": [
    "DistIndex1Index2\n",
    "UniqueIndex1Index2Distances = [list(i) for i in list(set(map(tuple, DistIndex1Index2)))]"
   ]
  },
  {
   "cell_type": "code",
   "execution_count": 133,
   "metadata": {},
   "outputs": [],
   "source": [
    "import os                                                                                                                                                                                                  \n",
    "import numpy as np                                                                                                                                                                                         \n",
    "import itertools                                                                                                                                                                                           \n",
    "import requests                                                                                                                                                                                            \n",
    "import collections                                                                                                                                                                                         \n",
    "import random                                                                                                                                                                                              \n",
    "                                                                                                                                                                                                           \n",
    "# RDKit libaries                                                                                                                                                                                           \n",
    "from rdkit import Chem                                                                                                                                                                                     \n",
    "from rdkit.Chem import AllChem                                                                                                                                                                             \n",
    "from rdkit.Chem import ChemicalFeatures                                                                                                                                                                    \n",
    "from rdkit.Chem import rdchem                                                                                                                                                                              \n",
    "from rdkit.Chem import rdMolDescriptors                                                                                                                                                                    \n",
    "from rdkit import RDConfig                                                                                                                                                                                 \n",
    "                                                                                                                                                                                                           \n",
    "# Boilerplate libraries                                                                                                                                                                                    \n",
    "import sys                                                                                                                                                                                                 \n",
    "import re                                                                                                                                                                                                  \n",
    "import math                                                                                                                                                                                                \n",
    "import scipy                                                                                                                                                                                               \n",
    "                                                                                                                                                                                                           \n",
    "# scipy libaries                                                                                                                                                                                           \n",
    "from scipy.sparse import csr_matrix                                                                                                                                                                        \n",
    "from scipy.sparse.csgraph import floyd_warshall                                                                                                                                                            \n",
    "from scipy.spatial import ConvexHull, convex_hull_plot_2d           \n",
    "\n",
    "def read_DG_data(DGfile):                                                                                                                                                                                  \n",
    "    # Reads Delta G_OW for fragments into dictionary                                                                                                                                                       \n",
    "    DG_data = {}                                                                                                                                                                                           \n",
    "    with open(DGfile) as f:                                                                                                                                                                                \n",
    "        for line in f:                                                                                                                                                                                     \n",
    "            (key,val) = line.rstrip().split()                                                                                                                                                              \n",
    "            DG_data[key] = float(val)                                                                                                                                                                      \n",
    "                                                                                                                                                                                                           \n",
    "    return DG_data                                                                                                                                                                                         \n",
    "                                                                                                                                                                                                           \n",
    "def include_weights(A,w):                                                                                                                                                                                  \n",
    "    # Weights atoms by setting diagonal components                                                                                                                                                         \n",
    "    A_weighted = np.copy(A)                                                                                                                                                                                \n",
    "    for i,weight in enumerate(w):                                                                                                                                                                          \n",
    "        A_weighted[i,i] = weight     \n",
    "        \n",
    "def get_smarts_matches(mol):                                                                                                                                                                               \n",
    "    #Get matches to SMARTS strings                                                                                                                                                                         \n",
    "    smarts_strings = {                                                                                                                                                                                     \n",
    "    'S([O-])(=O)(=O)O'  :    'Qa',                                                                                                                                                                         \n",
    "    'S([O-])(=O)(=O)[C;!$(*F)]'   :    'Q0'}                                                                                                                                                               \n",
    "    matched_maps = []                                                                                                                                                                                      \n",
    "    matched_beads = []                                                                                                                                                                                     \n",
    "    for smarts in smarts_strings:                                                                                                                                                                          \n",
    "        matches = mol.GetSubstructMatches(Chem.MolFromSmarts(smarts))                                                                                                                                      \n",
    "        for match in matches:                                                                                                                                                                              \n",
    "            matched_maps.append(list(match))                                                                                                                                                               \n",
    "            matched_beads.append(smarts_strings[smarts])                                                                                                                                                   \n",
    "                                                                                                                                                                                                           \n",
    "    return matched_maps,matched_beads           "
   ]
  },
  {
   "cell_type": "code",
   "execution_count": 130,
   "metadata": {},
   "outputs": [],
   "source": [
    "DataPath = '/home/sang/Desktop/GIT/MDNPPackage/temp/cgparam/fragment_DGs.dat'"
   ]
  },
  {
   "cell_type": "code",
   "execution_count": 131,
   "metadata": {},
   "outputs": [
    {
     "data": {
      "text/plain": [
       "{'CC': 8.2656,\n",
       " 'CN': -6.0844,\n",
       " 'CO': -7.9212,\n",
       " 'CF': 2.3534,\n",
       " 'CCl': 3.8458,\n",
       " 'C=C': 5.166,\n",
       " 'C=O': -3.9032,\n",
       " 'C#C': -0.1722,\n",
       " 'CCC': 12.5706,\n",
       " 'CCN': -1.148,\n",
       " 'CCO': -2.296,\n",
       " 'CCF': 5.7974,\n",
       " 'CCCl': 8.4378,\n",
       " 'FCF': 1.6646,\n",
       " 'FCCl': 3.5588,\n",
       " 'ClCF': 3.5588,\n",
       " 'ClCCl': 6.4288,\n",
       " 'CNC': -3.0422,\n",
       " 'COC': -0.9184,\n",
       " 'CC=C': 9.6432,\n",
       " 'CC=O': -0.0574,\n",
       " 'CC#N': -0.2296,\n",
       " 'NC=N': -8.036,\n",
       " 'NC=O': -8.7822,\n",
       " 'OC=O': -2.6978,\n",
       " 'FC=C': 5.8548,\n",
       " 'ClC=C': 8.2082,\n",
       " 'NN=C': -1.8368,\n",
       " 'ON=C': -1.7794,\n",
       " 'CC#C': 5.2808,\n",
       " 'CC(C)C': 12.3984,\n",
       " 'CC(C)N': -0.287,\n",
       " 'CC(C)O': 0.2296,\n",
       " 'CC(C)F': 6.1992,\n",
       " 'CC(C)Cl': 8.5526,\n",
       " 'CC(F)F': 4.5346,\n",
       " 'CC(F)Cl': 7.2898,\n",
       " 'CC(Cl)F': 7.2898,\n",
       " 'CC(Cl)Cl': 9.8728,\n",
       " 'FC(F)F': 5.5678,\n",
       " 'FC(F)Cl': 5.6252,\n",
       " 'FC(Cl)F': 5.6252,\n",
       " 'FC(Cl)Cl': 7.3472,\n",
       " 'ClC(F)F': 5.6252,\n",
       " 'ClC(F)Cl': 7.3472,\n",
       " 'ClC(Cl)F': 7.3472,\n",
       " 'ClC(Cl)Cl': 9.5858,\n",
       " 'CN(C)C': -0.8036,\n",
       " 'CC(C)=C': 10.7338,\n",
       " 'CC(C)=O': -1.6646,\n",
       " 'CC(N)=N': -5.74,\n",
       " 'CC(N)=O': -6.314,\n",
       " 'CC(O)=O': -0.6888,\n",
       " 'CC(F)=C': 7.4046,\n",
       " 'CC(Cl)=C': 10.7912,\n",
       " 'NC(N)=N': -11.0208,\n",
       " 'NC(N)=O': -10.2172,\n",
       " 'OC(O)=O': 3.444,\n",
       " 'FC(F)=C': 8.9544,\n",
       " 'FC(Cl)=C': 9.2988,\n",
       " 'ClC(F)=C': 9.2988,\n",
       " 'ClC(Cl)=C': 11.3078,\n",
       " 'CCCC': 16.1294,\n",
       " 'CCCN': 1.7794,\n",
       " 'CCCO': 1.2054,\n",
       " 'CCCF': 9.5858,\n",
       " 'CCCCl': 11.9966,\n",
       " 'NCCN': -10.1598,\n",
       " 'NCCO': -8.7822,\n",
       " 'NCCF': -5.453,\n",
       " 'NCCCl': -2.7552,\n",
       " 'OCCO': -8.7822,\n",
       " 'OCCF': -3.6736,\n",
       " 'OCCCl': 0.0,\n",
       " 'FCCF': 1.148,\n",
       " 'FCCCl': 4.592,\n",
       " 'ClCCF': 4.592,\n",
       " 'ClCCCl': 8.4952,\n",
       " 'CCNC': 0.7462,\n",
       " 'CCOC': 3.3866,\n",
       " 'CCC=C': 12.6854,\n",
       " 'CCC=O': 1.7794,\n",
       " 'CCC#N': -0.0574,\n",
       " 'NCC=C': -2.4682,\n",
       " 'OCC=C': -0.1722,\n",
       " 'OCC=O': -5.6826,\n",
       " 'OCC#N': -6.8306,\n",
       " 'FCC=C': 5.3382,\n",
       " 'ClCC=C': 10.2746,\n",
       " 'FCC=O': -3.0996,\n",
       " 'ClCC=O': 1.0332,\n",
       " 'FCC#N': 0.5166,\n",
       " 'ClCC#N': -0.2296,\n",
       " 'CNC=N': -7.8064,\n",
       " 'CNC=O': -7.5194,\n",
       " 'NNC=N': -10.8486,\n",
       " 'NNC=O': -10.1024,\n",
       " 'ONC=N': -10.1024,\n",
       " 'ONC=O': -11.0208,\n",
       " 'CNN=C': -3.3292,\n",
       " 'COC=C': 2.8126,\n",
       " 'COC=O': -1.7794,\n",
       " 'CON=C': -0.6314,\n",
       " 'CCC#C': 8.0934,\n",
       " 'NCC#C': -4.1328,\n",
       " 'OCC#C': -4.018,\n",
       " 'FCC#C': 3.3866,\n",
       " 'ClCC#C': 6.0844,\n",
       " 'C=CC=C': 11.1356,\n",
       " 'C=CC=O': 1.0332,\n",
       " 'C=CC#N': 1.148,\n",
       " 'O=CC=O': -0.2296,\n",
       " 'O=CC#N': -1.6072,\n",
       " 'N#CC#N': -3.731,\n",
       " 'C=NN=C': 4.8216,\n",
       " 'C=CC#C': 4.6494,\n",
       " 'O=CC#C': -1.0906,\n",
       " 'C#CC#N': 2.009,\n",
       " 'C#CC#C': 4.4772,\n",
       " 'CC=CC': 13.3168,\n",
       " 'CC=CF': 9.4136,\n",
       " 'CC=CCl': 11.3078,\n",
       " 'FC=CF': 6.314,\n",
       " 'FC=CCl': 8.61,\n",
       " 'ClC=CF': 8.61,\n",
       " 'ClC=CCl': 10.619,\n",
       " 'CC=NN': -0.4018,\n",
       " 'CC=NO': -0.861,\n",
       " 'CC#CC': 9.758,\n",
       " 'CC(C)(C)C': 16.933,\n",
       " 'CC(C)(C)N': 4.6494,\n",
       " 'CC(C)(C)O': 4.018,\n",
       " 'CC(C)(C)F': 10.045,\n",
       " 'CC(C)(C)Cl': 13.8334,\n",
       " 'CC(C)(F)F': 6.1418,\n",
       " 'CC(C)(F)Cl': 9.8154,\n",
       " 'CC(C)(Cl)F': 9.8154,\n",
       " 'CC(C)(Cl)Cl': 14.1778,\n",
       " 'CC(F)(F)F': 5.3956,\n",
       " 'CC(F)(F)Cl': 9.6432,\n",
       " 'CC(F)(Cl)F': 9.6432,\n",
       " 'CC(F)(Cl)Cl': 11.9392,\n",
       " 'CC(Cl)(F)F': 9.6432,\n",
       " 'CC(Cl)(F)Cl': 11.9392,\n",
       " 'CC(Cl)(Cl)F': 11.9392,\n",
       " 'CC(Cl)(Cl)Cl': 14.063,\n",
       " 'FC(F)(F)F': 10.045,\n",
       " 'FC(F)(F)Cl': 10.332,\n",
       " 'FC(F)(Cl)F': 10.332,\n",
       " 'FC(F)(Cl)Cl': 11.8244,\n",
       " 'FC(Cl)(F)F': 10.332,\n",
       " 'FC(Cl)(F)Cl': 11.8244,\n",
       " 'FC(Cl)(Cl)F': 11.8244,\n",
       " 'FC(Cl)(Cl)Cl': 12.915,\n",
       " 'ClC(F)(F)F': 10.332,\n",
       " 'ClC(F)(F)Cl': 11.8244,\n",
       " 'ClC(F)(Cl)F': 11.8244,\n",
       " 'ClC(F)(Cl)Cl': 12.915,\n",
       " 'ClC(Cl)(F)F': 11.8244,\n",
       " 'ClC(Cl)(F)Cl': 12.915,\n",
       " 'ClC(Cl)(Cl)F': 12.915,\n",
       " 'ClC(Cl)(Cl)Cl': 15.1536,\n",
       " 'CCC(C)C': 17.9088,\n",
       " 'CC(C)CN': 3.0996,\n",
       " 'CC(C)CO': 3.444,\n",
       " 'CC(C)CF': 10.1598,\n",
       " 'CC(C)CCl': 13.1446,\n",
       " 'CCC(C)N': 4.5346,\n",
       " 'CC(N)CN': -7.8064,\n",
       " 'CC(N)CO': -5.5104,\n",
       " 'CC(N)CF': -2.1238,\n",
       " 'CC(N)CCl': 0.9758,\n",
       " 'CCC(C)O': 3.7884,\n",
       " 'CC(O)CN': -5.9122,\n",
       " 'CC(O)CO': -6.314,\n",
       " 'CC(O)CF': -1.148,\n",
       " 'CC(O)CCl': 2.4682,\n",
       " 'CCC(C)F': 13.2594,\n",
       " 'CCC(C)Cl': 13.4316,\n",
       " 'CC(F)CN': -2.2386,\n",
       " 'CC(Cl)CN': 1.148,\n",
       " 'CC(F)CO': -0.9758,\n",
       " 'CC(Cl)CO': 2.6978,\n",
       " 'CC(F)CF': 4.1328,\n",
       " 'CC(F)CCl': 8.7248,\n",
       " 'CC(Cl)CF': 7.8064,\n",
       " 'CC(Cl)CCl': 12.2262,\n",
       " 'CCC(F)F': 7.0028,\n",
       " 'CCC(F)Cl': 10.7338,\n",
       " 'CCC(Cl)F': 10.7338,\n",
       " 'CCC(Cl)Cl': 13.3168,\n",
       " 'NCC(F)F': -3.2718,\n",
       " 'NCC(F)Cl': -1.9516,\n",
       " 'NCC(Cl)F': -1.9516,\n",
       " 'NCC(Cl)Cl': 0.1722,\n",
       " 'OCC(F)F': -2.1238,\n",
       " 'OCC(F)Cl': 0.4592,\n",
       " 'OCC(Cl)F': 0.4592,\n",
       " 'OCC(Cl)Cl': 3.3866,\n",
       " 'FCC(F)F': 2.6978,\n",
       " 'FCC(F)Cl': 4.7068,\n",
       " 'FCC(Cl)F': 4.7068,\n",
       " 'FCC(Cl)Cl': 8.4378,\n",
       " 'ClCC(F)F': 5.6252,\n",
       " 'ClCC(F)Cl': 9.0118,\n",
       " 'ClCC(Cl)F': 9.0118,\n",
       " 'ClCC(Cl)Cl': 11.5948,\n",
       " 'CNC(C)C': 2.0664,\n",
       " 'COC(C)C': 4.4772,\n",
       " 'CCN(C)C': 4.0754,\n",
       " 'CC(C)C=C': 13.202,\n",
       " 'CC(C)C=O': 3.444,\n",
       " 'CC(C)C#N': 2.87,\n",
       " 'CC(N)C=C': 0.5166,\n",
       " 'CC(O)C=C': 2.7552,\n",
       " 'CC(O)C=O': -5.9696,\n",
       " 'CC(O)C#N': -3.731,\n",
       " 'CC(F)C=C': 9.5284,\n",
       " 'CC(Cl)C=C': 13.1446,\n",
       " 'CC(F)C=O': -1.2628,\n",
       " 'CC(Cl)C=O': 3.2144,\n",
       " 'CC(F)C#N': 2.1812,\n",
       " 'CC(Cl)C#N': 4.0754,\n",
       " 'FC(F)C=C': 6.4862,\n",
       " 'FC(Cl)C=C': 8.7248,\n",
       " 'ClC(F)C=C': 8.7248,\n",
       " 'ClC(Cl)C=C': 12.4558,\n",
       " 'FC(F)C=O': 0.1148,\n",
       " 'FC(Cl)C=O': 0.4018,\n",
       " 'ClC(F)C=O': 0.4018,\n",
       " 'ClC(Cl)C=O': 3.8458,\n",
       " 'FC(F)C#N': 4.4772,\n",
       " 'FC(Cl)C#N': 3.8458,\n",
       " 'ClC(F)C#N': 3.8458,\n",
       " 'ClC(Cl)C#N': 5.7974,\n",
       " 'CN(C)C=N': -4.3624,\n",
       " 'CN(C)C=O': -4.4198,\n",
       " 'CN(N)C=N': -7.462,\n",
       " 'CN(N)C=O': -9.184,\n",
       " 'CN(O)C=N': -6.3714,\n",
       " 'CN(O)C=O': -8.323,\n",
       " 'CN(C)N=C': -2.6978,\n",
       " 'CC(C)C#C': 9.5858,\n",
       " 'CC(N)C#C': -0.8036,\n",
       " 'CC(O)C#C': -1.0906,\n",
       " 'CC(F)C#C': 6.4862,\n",
       " 'CC(Cl)C#C': 8.5526,\n",
       " 'FC(F)C#C': 3.8458,\n",
       " 'FC(Cl)C#C': 7.0028,\n",
       " 'ClC(F)C#C': 7.0028,\n",
       " 'ClC(Cl)C#C': 9.184,\n",
       " 'CCC(C)=C': 16.1868,\n",
       " 'CC(=C)CN': -0.2296,\n",
       " 'CC(=C)CO': 1.9516,\n",
       " 'CC(=C)CF': 9.0118,\n",
       " 'CC(=C)CCl': 12.4558,\n",
       " 'CCC(C)=O': 2.3534,\n",
       " 'CC(=O)CO': -5.8548,\n",
       " 'CC(=O)CF': 3.731,\n",
       " 'CC(=O)CCl': 1.722,\n",
       " 'CCC(N)=N': -2.3534,\n",
       " 'NCC(N)=N': -13.0872,\n",
       " 'NC(=N)CO': -10.906,\n",
       " 'NC(=N)CF': -4.9364,\n",
       " 'NC(=N)CCl': -2.87,\n",
       " 'CCC(N)=O': -3.731,\n",
       " 'NCC(N)=O': -14.2926,\n",
       " 'NC(=O)CO': -9.9302,\n",
       " 'NC(=O)CF': -3.6736,\n",
       " 'NC(=O)CCl': -3.8458,\n",
       " 'CCC(O)=O': 1.7794,\n",
       " 'NCC(O)=O': -19.1716,\n",
       " 'OCC(O)=O': -5.8548,\n",
       " 'OC(=O)CF': -1.7794,\n",
       " 'OC(=O)CCl': 1.0332,\n",
       " 'CCC(F)=C': 11.7096,\n",
       " 'CCC(Cl)=C': 14.8092,\n",
       " 'NCC(F)=C': -2.009,\n",
       " 'NCC(Cl)=C': 0.1148,\n",
       " 'OCC(F)=C': -0.0574,\n",
       " 'OCC(Cl)=C': 3.0996,\n",
       " 'FCC(F)=C': 6.4862,\n",
       " 'FCC(Cl)=C': 8.5526,\n",
       " 'ClCC(F)=C': 9.0692,\n",
       " 'ClCC(Cl)=C': 12.054,\n",
       " 'CNC(C)=N': -2.3534,\n",
       " 'CC(=N)NN': -5.5104,\n",
       " 'CC(=N)NO': -5.5678,\n",
       " 'CNC(C)=O': -6.0844,\n",
       " 'CC(=O)NN': -9.0692,\n",
       " 'CC(=O)NO': -8.3804,\n",
       " 'CNC(N)=N': -7.6342,\n",
       " 'NNC(N)=N': -10.1024,\n",
       " 'NC(=N)NO': -10.3894,\n",
       " 'CNC(N)=O': -8.897,\n",
       " 'NNC(N)=O': -10.7912,\n",
       " 'NC(=O)NO': -10.5042,\n",
       " 'COC(C)=C': 8.0934,\n",
       " 'COC(C)=O': 1.0332,\n",
       " 'COC(N)=N': -5.3956,\n",
       " 'COC(N)=O': -3.2718,\n",
       " 'CC(=C)C=C': 12.7428,\n",
       " 'CC(=C)C=O': 3.3866,\n",
       " 'CC(=C)C#N': 5.2234,\n",
       " 'CC(=O)C=C': 2.9274,\n",
       " 'CC(=O)C=O': -2.1812,\n",
       " 'CC(=O)C#N': -1.8368,\n",
       " 'NC(=N)C=C': -4.0754,\n",
       " 'NC(=N)C=O': -8.61,\n",
       " 'NC(=N)C#N': -6.1992,\n",
       " 'NC(=O)C=C': -3.731,\n",
       " 'NC(=O)C=O': -8.4378,\n",
       " 'NC(=O)C#N': -6.4862,\n",
       " 'OC(=O)C=C': 2.6404,\n",
       " 'OC(=O)C=O': -3.3866,\n",
       " 'OC(=O)C#N': -1.722,\n",
       " 'FC(=C)C=C': 11.0782,\n",
       " 'ClC(=C)C=C': 12.8576,\n",
       " 'FC(=C)C=O': 2.0664,\n",
       " 'ClC(=C)C=O': 4.879,\n",
       " 'FC(=C)C#N': 6.0844,\n",
       " 'ClC(=C)C#N': 5.9696,\n",
       " 'CC(=C)C#C': 7.1176,\n",
       " 'CC(=O)C#C': -0.4592,\n",
       " 'NC(=N)C#C': -4.7068,\n",
       " 'NC(=O)C#C': -4.9364,\n",
       " 'OC(=O)C#C': 0.1722,\n",
       " 'FC(=C)C#C': 6.2566,\n",
       " 'ClC(=C)C#C': 7.9212,\n",
       " 'CC=C(C)C': 15.498,\n",
       " 'CC(C)=CF': 9.5858,\n",
       " 'CC(C)=CCl': 12.8576,\n",
       " 'CC=C(C)F': 12.054,\n",
       " 'CC=C(C)Cl': 14.7518,\n",
       " 'CC(F)=CF': 8.4378,\n",
       " 'CC(F)=CCl': 9.8154,\n",
       " 'CC(Cl)=CF': 10.1598,\n",
       " 'CC(Cl)=CCl': 12.054,\n",
       " 'CC=C(F)F': 11.0208,\n",
       " 'CC=C(F)Cl': 12.628,\n",
       " 'CC=C(Cl)F': 12.628,\n",
       " 'CC=C(Cl)Cl': 15.0962,\n",
       " 'FC=C(F)F': 8.7822,\n",
       " 'FC=C(F)Cl': 9.758,\n",
       " 'FC=C(Cl)F': 9.758,\n",
       " 'FC=C(Cl)Cl': 12.054,\n",
       " 'ClC=C(F)F': 9.758,\n",
       " 'ClC=C(F)Cl': 11.9966,\n",
       " 'ClC=C(Cl)F': 11.9966,\n",
       " 'ClC=C(Cl)Cl': 14.063,\n",
       " 'CC(C)=NN': 1.8368,\n",
       " 'CC(C)=NO': 1.7794,\n",
       " 'CCC(C)(C)C': 21.4676,\n",
       " 'CC(C)(C)CN': 5.6252,\n",
       " 'CC(C)(C)CO': 6.601,\n",
       " 'CC(C)(C)CF': 12.915,\n",
       " 'CC(C)(C)CCl': 15.2684,\n",
       " 'CCC(C)(C)N': 6.4288,\n",
       " 'CC(C)(N)CN': -4.5346,\n",
       " 'CC(C)(N)CO': -2.583,\n",
       " 'CC(C)(N)CF': 1.6646,\n",
       " 'CC(C)(N)CCl': 3.5014,\n",
       " 'CCC(C)(C)O': 6.8306,\n",
       " 'CC(C)(O)CN': -2.9274,\n",
       " 'CC(C)(O)CO': -3.7884,\n",
       " 'CC(C)(O)CF': 2.1238,\n",
       " 'CC(C)(O)CCl': 5.6252,\n",
       " 'CCC(C)(C)F': 13.6612,\n",
       " 'CCC(C)(C)Cl': 16.933,\n",
       " 'CC(C)(F)CN': 1.2054,\n",
       " 'CC(C)(Cl)CN': 3.6162,\n",
       " 'CC(C)(F)CO': 1.435,\n",
       " 'CC(C)(Cl)CO': 6.027,\n",
       " 'CC(C)(F)CF': 8.61,\n",
       " 'CC(C)(F)CCl': 10.2172,\n",
       " 'CC(C)(Cl)CF': 11.8818,\n",
       " 'CC(C)(Cl)CCl': 14.924,\n",
       " 'CCC(C)(F)F': 10.3894,\n",
       " 'CCC(C)(F)Cl': 12.5132,\n",
       " 'CCC(C)(Cl)F': 12.5132,\n",
       " 'CCC(C)(Cl)Cl': 15.7276,\n",
       " 'CC(F)(F)CN': -0.7462,\n",
       " 'CC(F)(Cl)CN': 0.6314,\n",
       " 'CC(Cl)(F)CN': 0.6314,\n",
       " 'CC(Cl)(Cl)CN': 3.2144,\n",
       " 'CC(F)(F)CO': 1.0332,\n",
       " 'CC(F)(Cl)CO': 3.6736,\n",
       " 'CC(Cl)(F)CO': 3.6736,\n",
       " 'CC(Cl)(Cl)CO': 6.6584,\n",
       " 'CC(F)(F)CF': 6.8306,\n",
       " 'CC(F)(F)CCl': 8.897,\n",
       " 'CC(F)(Cl)CF': 9.184,\n",
       " 'CC(F)(Cl)CCl': 12.054,\n",
       " 'CC(Cl)(F)CF': 9.184,\n",
       " 'CC(Cl)(F)CCl': 12.054,\n",
       " 'CC(Cl)(Cl)CF': 11.48,\n",
       " 'CC(Cl)(Cl)CCl': 14.7518,\n",
       " 'CCC(F)(F)F': 10.332,\n",
       " 'CCC(F)(F)Cl': 11.8818,\n",
       " 'CCC(F)(Cl)F': 11.8818,\n",
       " 'CCC(F)(Cl)Cl': 13.776,\n",
       " 'CCC(Cl)(F)F': 11.8818,\n",
       " 'CCC(Cl)(F)Cl': 13.776,\n",
       " 'CCC(Cl)(Cl)F': 13.776,\n",
       " 'CCC(Cl)(Cl)Cl': 16.646,\n",
       " 'NCC(F)(F)F': 0.861,\n",
       " 'NCC(F)(F)Cl': 1.722,\n",
       " 'NCC(F)(Cl)F': 1.722,\n",
       " 'NCC(F)(Cl)Cl': 2.8126,\n",
       " 'NCC(Cl)(F)F': 1.722,\n",
       " 'NCC(Cl)(F)Cl': 2.8126,\n",
       " 'NCC(Cl)(Cl)F': 2.8126,\n",
       " 'NCC(Cl)(Cl)Cl': 5.166,\n",
       " 'OCC(F)(F)F': 3.5014,\n",
       " 'OCC(F)(F)Cl': 3.7884,\n",
       " 'OCC(F)(Cl)F': 3.7884,\n",
       " 'OCC(F)(Cl)Cl': 5.74,\n",
       " 'OCC(Cl)(F)F': 3.7884,\n",
       " 'OCC(Cl)(F)Cl': 5.74,\n",
       " 'OCC(Cl)(Cl)F': 5.74,\n",
       " 'OCC(Cl)(Cl)Cl': 7.0602,\n",
       " 'FCC(F)(F)F': 7.9786,\n",
       " 'FCC(F)(F)Cl': 9.3562,\n",
       " 'FCC(F)(Cl)F': 9.3562,\n",
       " 'FCC(F)(Cl)Cl': 10.906,\n",
       " 'FCC(Cl)(F)F': 9.3562,\n",
       " 'FCC(Cl)(F)Cl': 10.906,\n",
       " 'FCC(Cl)(Cl)F': 10.906,\n",
       " 'FCC(Cl)(Cl)Cl': 12.2262,\n",
       " 'ClCC(F)(F)F': 10.4468,\n",
       " 'ClCC(F)(F)Cl': 11.9392,\n",
       " 'ClCC(F)(Cl)F': 11.9392,\n",
       " 'ClCC(F)(Cl)Cl': 14.063,\n",
       " 'ClCC(Cl)(F)F': 11.9392,\n",
       " 'ClCC(Cl)(F)Cl': 14.063,\n",
       " 'ClCC(Cl)(Cl)F': 14.063,\n",
       " 'ClCC(Cl)(Cl)Cl': 15.6702,\n",
       " 'CNC(C)(C)C': 5.9122,\n",
       " 'COC(C)(C)C': 8.7822,\n",
       " 'CC(C)(C)C=C': 18.4828,\n",
       " 'CC(C)(C)C=O': 6.9454,\n",
       " 'CC(C)(C)C#N': 6.6584,\n",
       " 'CC(C)(N)C=C': 5.9696,\n",
       " 'CC(C)(O)C=C': 6.888,\n",
       " 'CC(C)(O)C=O': -1.8368,\n",
       " 'CC(C)(O)C#N': -1.6646,\n",
       " 'CC(C)(F)C=C': 12.5706,\n",
       " 'CC(C)(Cl)C=C': 16.9904,\n",
       " 'CC(C)(F)C=O': 3.3292,\n",
       " 'CC(C)(Cl)C=O': 7.0602,\n",
       " 'CC(C)(F)C#N': 5.0512,\n",
       " 'CC(C)(Cl)C#N': 6.7158,\n",
       " 'CC(F)(F)C=C': 8.2082,\n",
       " 'CC(F)(Cl)C=C': 12.8002,\n",
       " 'CC(Cl)(F)C=C': 12.8002,\n",
       " 'CC(Cl)(Cl)C=C': 15.3258,\n",
       " 'CC(F)(F)C=O': 2.8126,\n",
       " 'CC(F)(Cl)C=O': 4.5346,\n",
       " 'CC(Cl)(F)C=O': 4.5346,\n",
       " 'CC(Cl)(Cl)C=O': 5.3382,\n",
       " 'CC(F)(F)C#N': 5.5104,\n",
       " 'CC(F)(Cl)C#N': 7.8638,\n",
       " 'CC(Cl)(F)C#N': 7.8638,\n",
       " 'CC(Cl)(Cl)C#N': 9.758,\n",
       " 'FC(F)(F)C=C': 9.6432,\n",
       " 'FC(F)(Cl)C=C': 10.9634,\n",
       " 'FC(Cl)(F)C=C': 10.9634,\n",
       " 'FC(Cl)(Cl)C=C': 14.2926,\n",
       " 'ClC(F)(F)C=C': 10.9634,\n",
       " 'ClC(F)(Cl)C=C': 14.2926,\n",
       " 'ClC(Cl)(F)C=C': 14.2926,\n",
       " 'ClC(Cl)(Cl)C=C': 15.8998,\n",
       " 'FC(F)(F)C=O': 5.8548,\n",
       " 'FC(F)(Cl)C=O': 6.7158,\n",
       " 'FC(Cl)(F)C=O': 6.7158,\n",
       " 'FC(Cl)(Cl)C=O': 5.8548,\n",
       " 'ClC(F)(F)C=O': 6.7158,\n",
       " 'ClC(F)(Cl)C=O': 5.8548,\n",
       " 'ClC(Cl)(F)C=O': 5.8548,\n",
       " 'ClC(Cl)(Cl)C=O': 7.9212,\n",
       " 'FC(F)(F)C#N': 8.897,\n",
       " 'FC(F)(Cl)C#N': 9.184,\n",
       " 'FC(Cl)(F)C#N': 9.184,\n",
       " 'FC(Cl)(Cl)C#N': 10.5042,\n",
       " 'ClC(F)(F)C#N': 9.184,\n",
       " 'ClC(F)(Cl)C#N': 10.5042,\n",
       " 'ClC(Cl)(F)C#N': 10.5042,\n",
       " 'ClC(Cl)(Cl)C#N': 10.332,\n",
       " 'CC(C)(C)C#C': 14.063,\n",
       " 'CC(C)(N)C#C': 3.2144,\n",
       " 'CC(C)(O)C#C': 0.4592,\n",
       " 'CC(C)(F)C#C': 8.897,\n",
       " 'CC(C)(Cl)C#C': 12.9724,\n",
       " 'CC(F)(F)C#C': 7.5768,\n",
       " 'CC(F)(Cl)C#C': 9.0692,\n",
       " 'CC(Cl)(F)C#C': 9.0692,\n",
       " 'CC(Cl)(Cl)C#C': 13.489,\n",
       " 'FC(F)(F)C#C': 7.2324,\n",
       " 'FC(F)(Cl)C#C': 9.3562,\n",
       " 'FC(Cl)(F)C#C': 9.3562,\n",
       " 'FC(Cl)(Cl)C#C': 11.5948,\n",
       " 'ClC(F)(F)C#C': 9.3562,\n",
       " 'ClC(F)(Cl)C#C': 11.5948,\n",
       " 'ClC(Cl)(F)C#C': 11.5948,\n",
       " 'ClC(Cl)(Cl)C#C': 14.2926,\n",
       " 'CC(C)C(C)C': 16.3016,\n",
       " 'CC(C)C(C)N': 4.7642,\n",
       " 'CC(C)C(C)O': 5.1086,\n",
       " 'CC(C)C(C)F': 12.1114,\n",
       " 'CC(C)C(C)Cl': 16.4738,\n",
       " 'CC(C)C(F)F': 9.471,\n",
       " 'CC(C)C(F)Cl': 11.7096,\n",
       " 'CC(C)C(Cl)F': 11.7096,\n",
       " 'CC(C)C(Cl)Cl': 15.5554,\n",
       " 'CC(N)C(C)N': -5.0512,\n",
       " 'CC(N)C(C)O': -3.444,\n",
       " 'CC(N)C(C)F': 0.6314,\n",
       " 'CC(N)C(C)Cl': 3.2144,\n",
       " 'CC(N)C(F)F': 1.2628,\n",
       " 'CC(N)C(F)Cl': 1.3202,\n",
       " 'CC(N)C(Cl)F': 1.3202,\n",
       " 'CC(N)C(Cl)Cl': 2.6978,\n",
       " 'CC(O)C(C)O': -3.3866,\n",
       " 'CC(O)C(C)F': 2.1812,\n",
       " 'CC(O)C(C)Cl': 5.166,\n",
       " 'CC(O)C(F)F': 1.0332,\n",
       " 'CC(O)C(F)Cl': 1.6072,\n",
       " 'CC(O)C(Cl)F': 1.6072,\n",
       " 'CC(O)C(Cl)Cl': 5.166,\n",
       " 'CC(F)C(C)F': 8.1508,\n",
       " 'CC(F)C(C)Cl': 11.2504,\n",
       " 'CC(Cl)C(C)F': 11.2504,\n",
       " 'CC(Cl)C(C)Cl': 15.211,\n",
       " 'CC(F)C(F)F': 5.6252,\n",
       " 'CC(F)C(F)Cl': 8.323,\n",
       " 'CC(F)C(Cl)F': 8.323,\n",
       " 'CC(F)C(Cl)Cl': 11.767,\n",
       " 'CC(Cl)C(F)F': 8.61,\n",
       " 'CC(Cl)C(F)Cl': 12.2262,\n",
       " 'CC(Cl)C(Cl)F': 12.2262,\n",
       " 'CC(Cl)C(Cl)Cl': 14.637,\n",
       " 'FC(F)C(F)F': 7.175,\n",
       " 'FC(F)C(F)Cl': 7.175,\n",
       " 'FC(F)C(Cl)F': 7.175,\n",
       " 'FC(F)C(Cl)Cl': 9.8154,\n",
       " 'FC(Cl)C(F)F': 7.175,\n",
       " 'FC(Cl)C(F)Cl': 9.6432,\n",
       " 'FC(Cl)C(Cl)F': 9.6432,\n",
       " 'FC(Cl)C(Cl)Cl': 11.767,\n",
       " 'ClC(F)C(F)F': 7.175,\n",
       " 'ClC(F)C(F)Cl': 9.6432,\n",
       " 'ClC(F)C(Cl)F': 9.6432,\n",
       " 'ClC(F)C(Cl)Cl': 11.767,\n",
       " 'ClC(Cl)C(F)F': 9.8154,\n",
       " 'ClC(Cl)C(F)Cl': 11.767,\n",
       " 'ClC(Cl)C(Cl)F': 11.767,\n",
       " 'ClC(Cl)C(Cl)Cl': 14.7518,\n",
       " 'CC(C)N(C)C': 4.1902,\n",
       " 'CC(C)C(C)=C': 18.3106,\n",
       " 'CC(C)C(C)=O': 4.4772,\n",
       " 'CC(C)C(N)=N': -0.1148,\n",
       " 'CC(C)C(N)=O': -2.3534,\n",
       " 'CC(C)C(O)=O': 4.4772,\n",
       " 'CC(C)C(F)=C': 13.3742,\n",
       " 'CC(C)C(Cl)=C': 16.5312,\n",
       " 'CC(N)C(C)=C': 4.305,\n",
       " 'CC(N)C(N)=N': -9.0118,\n",
       " 'CC(N)C(N)=O': -10.7338,\n",
       " 'CC(N)C(O)=O': -17.507,\n",
       " 'CC(N)C(F)=C': 2.0664,\n",
       " 'CC(N)C(Cl)=C': 3.5588,\n",
       " 'CC(O)C(C)=C': 5.5104,\n",
       " 'CC(O)C(C)=O': -3.7884,\n",
       " 'CC(O)C(N)=N': -8.7822,\n",
       " 'CC(O)C(N)=O': -7.6342,\n",
       " 'CC(O)C(O)=O': -4.5346,\n",
       " 'CC(O)C(F)=C': 3.5588,\n",
       " 'CC(O)C(Cl)=C': 6.0844,\n",
       " 'CC(F)C(C)=C': 12.1114,\n",
       " 'CC(Cl)C(C)=C': 15.7276,\n",
       " 'CC(F)C(C)=O': 3.0996,\n",
       " 'CC(Cl)C(C)=O': 4.7068,\n",
       " 'CC(F)C(N)=N': -1.8942,\n",
       " 'CC(Cl)C(N)=N': 0.1722,\n",
       " 'CC(F)C(N)=O': -3.7884,\n",
       " 'CC(Cl)C(N)=O': -1.0906,\n",
       " 'CC(F)C(O)=O': -0.7462,\n",
       " 'CC(Cl)C(O)=O': 4.592,\n",
       " 'CC(F)C(F)=C': 9.471,\n",
       " 'CC(F)C(Cl)=C': 12.1114,\n",
       " 'CC(Cl)C(F)=C': 11.5374,\n",
       " 'CC(Cl)C(Cl)=C': 15.5554,\n",
       " 'CC(=C)C(F)F': 8.4378,\n",
       " 'CC(=C)C(F)Cl': 10.3894,\n",
       " 'CC(=C)C(Cl)F': 10.3894,\n",
       " 'CC(=C)C(Cl)Cl': 14.5222,\n",
       " 'CC(=O)C(F)F': 2.5256,\n",
       " 'CC(=O)C(F)Cl': 4.4772,\n",
       " 'CC(=O)C(Cl)F': 4.4772,\n",
       " 'CC(=O)C(Cl)Cl': 5.6252,\n",
       " 'NC(=N)C(F)F': -1.0332,\n",
       " 'NC(=N)C(F)Cl': -0.0574,\n",
       " 'NC(=N)C(Cl)F': -0.0574,\n",
       " 'NC(=N)C(Cl)Cl': 0.8036,\n",
       " 'NC(=O)C(F)F': -1.2628,\n",
       " 'NC(=O)C(F)Cl': -1.0332,\n",
       " 'NC(=O)C(Cl)F': -1.0332,\n",
       " 'NC(=O)C(Cl)Cl': -0.3444,\n",
       " 'OC(=O)C(F)F': 1.5498,\n",
       " 'OC(=O)C(F)Cl': 3.6736,\n",
       " 'OC(=O)C(Cl)F': 3.6736,\n",
       " 'OC(=O)C(Cl)Cl': 5.6826,\n",
       " 'FC(F)C(F)=C': 10.332,\n",
       " 'FC(F)C(Cl)=C': 9.8154,\n",
       " 'FC(Cl)C(F)=C': 10.045,\n",
       " 'FC(Cl)C(Cl)=C': 12.5132,\n",
       " 'ClC(F)C(F)=C': 10.045,\n",
       " 'ClC(F)C(Cl)=C': 12.5132,\n",
       " 'ClC(Cl)C(F)=C': 12.1688,\n",
       " 'ClC(Cl)C(Cl)=C': 15.498,\n",
       " 'CN(C)C(C)=N': -0.287,\n",
       " 'CN(C)C(C)=O': -3.3866,\n",
       " 'CN(C)C(N)=N': -6.5436,\n",
       " 'CN(C)C(N)=O': -6.2566,\n",
       " 'CN(N)C(C)=N': -4.4198,\n",
       " 'CN(N)C(C)=O': -6.9454,\n",
       " 'CN(N)C(N)=N': -8.0934,\n",
       " 'CN(N)C(N)=O': -9.2414,\n",
       " 'CN(O)C(C)=N': -3.7884,\n",
       " 'CN(O)C(C)=O': -6.027,\n",
       " 'CN(O)C(N)=N': -7.175,\n",
       " 'CN(O)C(N)=O': -7.5768,\n",
       " 'CC(=C)C(C)=C': 15.785,\n",
       " 'CC(=C)C(C)=O': 4.0754,\n",
       " 'CC(=C)C(N)=N': -1.148,\n",
       " 'CC(=C)C(N)=O': -2.4682,\n",
       " 'CC(=C)C(O)=O': 3.6162,\n",
       " 'CC(=C)C(F)=C': 13.202,\n",
       " 'CC(=C)C(Cl)=C': 16.0146,\n",
       " 'CC(=O)C(C)=O': 0.4018,\n",
       " 'CC(=O)C(N)=N': -6.1418,\n",
       " 'CC(=O)C(N)=O': -6.4862,\n",
       " 'CC(=O)C(O)=O': -2.1812,\n",
       " 'CC(=O)C(F)=C': 2.2386,\n",
       " 'CC(=O)C(Cl)=C': 6.5436,\n",
       " 'NC(=N)C(N)=N': -10.4468,\n",
       " 'NC(=N)C(N)=O': -10.7912,\n",
       " 'NC(=N)C(O)=O': -8.7822,\n",
       " 'NC(=N)C(F)=C': -1.9516,\n",
       " 'NC(=N)C(Cl)=C': -0.6888,\n",
       " 'NC(=O)C(N)=O': -12.054,\n",
       " 'NC(=O)C(O)=O': -8.2656,\n",
       " 'NC(=O)C(F)=C': -1.435,\n",
       " 'NC(=O)C(Cl)=C': 0.7462,\n",
       " 'OC(=O)C(O)=O': -2.9274,\n",
       " 'OC(=O)C(F)=C': 3.731,\n",
       " 'OC(=O)C(Cl)=C': 6.314,\n",
       " 'FC(=C)C(F)=C': 10.6764,\n",
       " 'FC(=C)C(Cl)=C': 12.1114,\n",
       " 'ClC(=C)C(F)=C': 12.1114,\n",
       " 'ClC(=C)C(Cl)=C': 15.7276,\n",
       " 'CC(C)=C(C)C': 15.5554,\n",
       " 'CC(C)=C(C)F': 12.1688,\n",
       " 'CC(C)=C(C)Cl': 15.6128,\n",
       " 'CC(C)=C(F)F': 10.3894,\n",
       " 'CC(C)=C(F)Cl': 12.341,\n",
       " 'CC(C)=C(Cl)F': 12.341,\n",
       " 'CC(C)=C(Cl)Cl': 14.2352,\n",
       " 'CC(F)=C(C)F': 9.7006,\n",
       " 'CC(F)=C(C)Cl': 11.8244,\n",
       " 'CC(Cl)=C(C)F': 11.8244,\n",
       " 'CC(Cl)=C(C)Cl': 14.1778,\n",
       " 'CC(F)=C(F)F': 9.471,\n",
       " 'CC(F)=C(F)Cl': 11.3652,\n",
       " 'CC(F)=C(Cl)F': 11.3652,\n",
       " 'CC(F)=C(Cl)Cl': 13.2594,\n",
       " 'CC(Cl)=C(F)F': 11.9392,\n",
       " 'CC(Cl)=C(F)Cl': 13.0872,\n",
       " 'CC(Cl)=C(Cl)F': 13.0872,\n",
       " 'CC(Cl)=C(Cl)Cl': 16.0146,\n",
       " 'FC(F)=C(F)F': 7.749,\n",
       " 'FC(F)=C(F)Cl': 10.5616,\n",
       " 'FC(F)=C(Cl)F': 10.5616,\n",
       " 'FC(F)=C(Cl)Cl': 13.1446,\n",
       " 'FC(Cl)=C(F)F': 10.5616,\n",
       " 'FC(Cl)=C(F)Cl': 12.915,\n",
       " 'FC(Cl)=C(Cl)F': 12.915,\n",
       " 'FC(Cl)=C(Cl)Cl': 15.3258,\n",
       " 'ClC(F)=C(F)F': 10.5616,\n",
       " 'ClC(F)=C(F)Cl': 12.915,\n",
       " 'ClC(F)=C(Cl)F': 12.915,\n",
       " 'ClC(F)=C(Cl)Cl': 15.3258,\n",
       " 'ClC(Cl)=C(F)F': 13.1446,\n",
       " 'ClC(Cl)=C(F)Cl': 15.3258,\n",
       " 'ClC(Cl)=C(Cl)F': 15.3258,\n",
       " 'ClC(Cl)=C(Cl)Cl': 17.9662,\n",
       " 'CC(C)C(C)(C)C': 23.0174,\n",
       " 'CC(N)C(C)(C)C': 7.9786,\n",
       " 'CC(O)C(C)(C)C': 10.045,\n",
       " 'CC(F)C(C)(C)C': 16.3016,\n",
       " 'CC(Cl)C(C)(C)C': 19.7456,\n",
       " 'CC(C)(C)C(F)F': 13.6038,\n",
       " 'CC(C)(C)C(F)Cl': 16.0146,\n",
       " 'CC(C)(C)C(Cl)F': 16.0146,\n",
       " 'CC(C)(C)C(Cl)Cl': 17.9662,\n",
       " 'CC(C)C(C)(C)N': 7.8638,\n",
       " 'CC(N)C(C)(C)N': -1.722,\n",
       " 'CC(O)C(C)(C)N': -0.6314,\n",
       " 'CC(F)C(C)(C)N': 4.0754,\n",
       " 'CC(Cl)C(C)(C)N': 7.4046,\n",
       " 'CC(C)(N)C(F)F': 4.1328,\n",
       " 'CC(C)(N)C(F)Cl': 3.3866,\n",
       " 'CC(C)(N)C(Cl)F': 3.3866,\n",
       " 'CC(C)(N)C(Cl)Cl': 7.175,\n",
       " 'CC(C)C(C)(C)O': 9.1266,\n",
       " 'CC(N)C(C)(C)O': -0.6314,\n",
       " 'CC(O)C(C)(C)O': -0.6888,\n",
       " 'CC(F)C(C)(C)O': 5.2808,\n",
       " 'CC(Cl)C(C)(C)O': 8.8396,\n",
       " 'CC(C)(O)C(F)F': 4.3624,\n",
       " 'CC(C)(O)C(F)Cl': 7.2898,\n",
       " 'CC(C)(O)C(Cl)F': 7.2898,\n",
       " 'CC(C)(O)C(Cl)Cl': 9.0692,\n",
       " 'CC(C)C(C)(C)F': 14.8092,\n",
       " 'CC(C)C(C)(C)Cl': 19.5734,\n",
       " 'CC(N)C(C)(C)F': 4.0754,\n",
       " 'CC(N)C(C)(C)Cl': 7.749,\n",
       " 'CC(O)C(C)(C)F': 5.5104,\n",
       " 'CC(O)C(C)(C)Cl': 9.184,\n",
       " 'CC(F)C(C)(C)F': 11.8818,\n",
       " 'CC(F)C(C)(C)Cl': 14.5796,\n",
       " 'CC(Cl)C(C)(C)F': 14.5796,\n",
       " 'CC(Cl)C(C)(C)Cl': 18.081,\n",
       " 'CC(C)(F)C(F)F': 10.2172,\n",
       " 'CC(C)(F)C(F)Cl': 11.8818,\n",
       " 'CC(C)(F)C(Cl)F': 11.8818,\n",
       " 'CC(C)(F)C(Cl)Cl': 14.5796,\n",
       " 'CC(C)(Cl)C(F)F': 12.8576,\n",
       " 'CC(C)(Cl)C(F)Cl': 14.35,\n",
       " 'CC(C)(Cl)C(Cl)F': 14.35,\n",
       " 'CC(C)(Cl)C(Cl)Cl': 18.4254,\n",
       " 'CC(C)C(C)(F)F': 12.4558,\n",
       " 'CC(C)C(C)(F)Cl': 14.4648,\n",
       " 'CC(C)C(C)(Cl)F': 14.4648,\n",
       " 'CC(C)C(C)(Cl)Cl': 17.8514,\n",
       " 'CC(N)C(C)(F)F': 4.018,\n",
       " 'CC(N)C(C)(F)Cl': 4.8216,\n",
       " 'CC(N)C(C)(Cl)F': 4.8216,\n",
       " 'CC(N)C(C)(Cl)Cl': 7.3472,\n",
       " 'CC(O)C(C)(F)F': 3.3292,\n",
       " 'CC(O)C(C)(F)Cl': 7.1176,\n",
       " 'CC(O)C(C)(Cl)F': 7.1176,\n",
       " 'CC(O)C(C)(Cl)Cl': 9.2988,\n",
       " 'CC(F)C(C)(F)F': 9.8154,\n",
       " 'CC(F)C(C)(F)Cl': 11.9392,\n",
       " 'CC(F)C(C)(Cl)F': 11.9392,\n",
       " 'CC(F)C(C)(Cl)Cl': 15.1536,\n",
       " 'CC(Cl)C(C)(F)F': 12.341,\n",
       " 'CC(Cl)C(C)(F)Cl': 15.0388,\n",
       " 'CC(Cl)C(C)(Cl)F': 15.0388,\n",
       " 'CC(Cl)C(C)(Cl)Cl': 18.7124,\n",
       " 'CC(F)(F)C(F)F': 9.9302,\n",
       " 'CC(F)(F)C(F)Cl': 11.0782,\n",
       " 'CC(F)(F)C(Cl)F': 11.0782,\n",
       " 'CC(F)(F)C(Cl)Cl': 13.0872,\n",
       " 'CC(F)(Cl)C(F)F': 11.5374,\n",
       " 'CC(F)(Cl)C(F)Cl': 13.202,\n",
       " 'CC(F)(Cl)C(Cl)F': 13.202,\n",
       " 'CC(F)(Cl)C(Cl)Cl': 15.0388,\n",
       " 'CC(Cl)(F)C(F)F': 11.5374,\n",
       " 'CC(Cl)(F)C(F)Cl': 13.202,\n",
       " 'CC(Cl)(F)C(Cl)F': 13.202,\n",
       " 'CC(Cl)(F)C(Cl)Cl': 15.0388,\n",
       " 'CC(Cl)(Cl)C(F)F': 13.776,\n",
       " 'CC(Cl)(Cl)C(F)Cl': 15.6702,\n",
       " 'CC(Cl)(Cl)C(Cl)F': 15.6702,\n",
       " 'CC(Cl)(Cl)C(Cl)Cl': 17.8514,\n",
       " 'CC(C)C(F)(F)F': 12.2836,\n",
       " 'CC(C)C(F)(F)Cl': 13.7186,\n",
       " 'CC(C)C(F)(Cl)F': 13.7186,\n",
       " 'CC(C)C(F)(Cl)Cl': 16.1294,\n",
       " 'CC(C)C(Cl)(F)F': 13.7186,\n",
       " 'CC(C)C(Cl)(F)Cl': 16.1294,\n",
       " 'CC(C)C(Cl)(Cl)F': 16.1294,\n",
       " 'CC(C)C(Cl)(Cl)Cl': 19.4586,\n",
       " 'CC(N)C(F)(F)F': 5.9122,\n",
       " 'CC(N)C(F)(F)Cl': 6.4288,\n",
       " 'CC(N)C(F)(Cl)F': 6.4288,\n",
       " 'CC(N)C(F)(Cl)Cl': 7.1176,\n",
       " 'CC(N)C(Cl)(F)F': 6.4288,\n",
       " 'CC(N)C(Cl)(F)Cl': 7.1176,\n",
       " 'CC(N)C(Cl)(Cl)F': 7.1176,\n",
       " 'CC(N)C(Cl)(Cl)Cl': 8.0934,\n",
       " 'CC(O)C(F)(F)F': 6.2566,\n",
       " 'CC(O)C(F)(F)Cl': 5.6826,\n",
       " 'CC(O)C(F)(Cl)F': 5.6826,\n",
       " 'CC(O)C(F)(Cl)Cl': 8.4378,\n",
       " 'CC(O)C(Cl)(F)F': 5.6826,\n",
       " 'CC(O)C(Cl)(F)Cl': 8.4378,\n",
       " 'CC(O)C(Cl)(Cl)F': 8.4378,\n",
       " 'CC(O)C(Cl)(Cl)Cl': 10.2746,\n",
       " 'CC(F)C(F)(F)F': 11.0208,\n",
       " 'CC(F)C(F)(F)Cl': 11.8244,\n",
       " 'CC(F)C(F)(Cl)F': 11.8244,\n",
       " 'CC(F)C(F)(Cl)Cl': 13.6038,\n",
       " 'CC(F)C(Cl)(F)F': 11.8244,\n",
       " 'CC(F)C(Cl)(F)Cl': 13.6038,\n",
       " 'CC(F)C(Cl)(Cl)F': 13.6038,\n",
       " 'CC(F)C(Cl)(Cl)Cl': 15.4406,\n",
       " 'CC(Cl)C(F)(F)F': 12.8002,\n",
       " 'CC(Cl)C(F)(F)Cl': 14.1204,\n",
       " 'CC(Cl)C(F)(Cl)F': 14.1204,\n",
       " 'CC(Cl)C(F)(Cl)Cl': 16.1294,\n",
       " 'CC(Cl)C(Cl)(F)F': 14.1204,\n",
       " 'CC(Cl)C(Cl)(F)Cl': 16.1294,\n",
       " 'CC(Cl)C(Cl)(Cl)F': 16.1294,\n",
       " 'CC(Cl)C(Cl)(Cl)Cl': 18.3106,\n",
       " 'FC(F)C(F)(F)F': 12.915,\n",
       " 'FC(F)C(F)(F)Cl': 13.0298,\n",
       " 'FC(F)C(F)(Cl)F': 13.0298,\n",
       " 'FC(F)C(F)(Cl)Cl': 13.776,\n",
       " 'FC(F)C(Cl)(F)F': 13.0298,\n",
       " 'FC(F)C(Cl)(F)Cl': 13.776,\n",
       " 'FC(F)C(Cl)(Cl)F': 13.776,\n",
       " 'FC(F)C(Cl)(Cl)Cl': 15.211,\n",
       " 'FC(Cl)C(F)(F)F': 13.3168,\n",
       " 'FC(Cl)C(F)(F)Cl': 13.7186,\n",
       " 'FC(Cl)C(F)(Cl)F': 13.7186,\n",
       " 'FC(Cl)C(F)(Cl)Cl': 15.0388,\n",
       " 'FC(Cl)C(Cl)(F)F': 13.7186,\n",
       " 'FC(Cl)C(Cl)(F)Cl': 15.0388,\n",
       " 'FC(Cl)C(Cl)(Cl)F': 15.0388,\n",
       " 'FC(Cl)C(Cl)(Cl)Cl': 16.8756,\n",
       " 'ClC(F)C(F)(F)F': 13.3168,\n",
       " 'ClC(F)C(F)(F)Cl': 13.7186,\n",
       " 'ClC(F)C(F)(Cl)F': 13.7186,\n",
       " 'ClC(F)C(F)(Cl)Cl': 15.0388,\n",
       " 'ClC(F)C(Cl)(F)F': 13.7186,\n",
       " 'ClC(F)C(Cl)(F)Cl': 15.0388,\n",
       " 'ClC(F)C(Cl)(Cl)F': 15.0388,\n",
       " 'ClC(F)C(Cl)(Cl)Cl': 16.8756,\n",
       " 'ClC(Cl)C(F)(F)F': 14.2926,\n",
       " 'ClC(Cl)C(F)(F)Cl': 15.4406,\n",
       " 'ClC(Cl)C(F)(Cl)F': 15.4406,\n",
       " 'ClC(Cl)C(F)(Cl)Cl': 16.8756,\n",
       " 'ClC(Cl)C(Cl)(F)F': 15.4406,\n",
       " 'ClC(Cl)C(Cl)(F)Cl': 16.8756,\n",
       " 'ClC(Cl)C(Cl)(Cl)F': 16.8756,\n",
       " 'ClC(Cl)C(Cl)(Cl)Cl': 18.4254,\n",
       " 'CN(C)C(C)(C)C': 10.4468,\n",
       " 'CC(=C)C(C)(C)C': 23.5914,\n",
       " 'CC(=O)C(C)(C)C': 9.1266,\n",
       " 'CC(C)(C)C(N)=N': 3.444,\n",
       " 'CC(C)(C)C(N)=O': 2.1238,\n",
       " 'CC(C)(C)C(O)=O': 7.8638,\n",
       " 'CC(C)(C)C(F)=C': 16.7034,\n",
       " 'CC(C)(C)C(Cl)=C': 19.9178,\n",
       " 'CC(=C)C(C)(C)N': 8.2082,\n",
       " 'CC(C)(N)C(N)=N': -6.4862,\n",
       " 'CC(C)(N)C(N)=O': -6.5436,\n",
       " 'CC(C)(N)C(O)=O': -14.063,\n",
       " 'CC(C)(N)C(F)=C': 3.5014,\n",
       " 'CC(C)(N)C(Cl)=C': 8.323,\n",
       " 'CC(=C)C(C)(C)O': 9.1266,\n",
       " 'CC(=O)C(C)(C)O': -0.5166,\n",
       " 'CC(C)(O)C(N)=N': -5.2234,\n",
       " 'CC(C)(O)C(N)=O': -5.74,\n",
       " 'CC(C)(O)C(O)=O': -2.1238,\n",
       " 'CC(C)(O)C(F)=C': 5.9122,\n",
       " 'CC(C)(O)C(Cl)=C': 9.6432,\n",
       " 'CC(=C)C(C)(C)F': 16.1294,\n",
       " 'CC(=C)C(C)(C)Cl': 19.9752,\n",
       " 'CC(=O)C(C)(C)F': 4.592,\n",
       " 'CC(=O)C(C)(C)Cl': 8.5526,\n",
       " 'CC(C)(F)C(N)=N': 0.6888,\n",
       " 'CC(C)(Cl)C(N)=N': 3.5588,\n",
       " 'CC(C)(F)C(N)=O': -0.1722,\n",
       " 'CC(C)(Cl)C(N)=O': 3.2718,\n",
       " 'CC(C)(F)C(O)=O': 4.305,\n",
       " 'CC(C)(Cl)C(O)=O': 6.8306,\n",
       " 'CC(C)(F)C(F)=C': 10.2172,\n",
       " 'CC(C)(F)C(Cl)=C': 14.2352,\n",
       " 'CC(C)(Cl)C(F)=C': 15.211,\n",
       " 'CC(C)(Cl)C(Cl)=C': 18.7124,\n",
       " 'CC(=C)C(C)(F)F': 10.2172,\n",
       " 'CC(=C)C(C)(F)Cl': 14.924,\n",
       " 'CC(=C)C(C)(Cl)F': 14.924,\n",
       " 'CC(=C)C(C)(Cl)Cl': 18.0236,\n",
       " 'CC(=O)C(C)(F)F': 0.9758,\n",
       " 'CC(=O)C(C)(F)Cl': 4.6494,\n",
       " 'CC(=O)C(C)(Cl)F': 4.6494,\n",
       " 'CC(=O)C(C)(Cl)Cl': 7.0028,\n",
       " 'CC(F)(F)C(N)=N': 0.1722,\n",
       " 'CC(F)(Cl)C(N)=N': 2.583,\n",
       " 'CC(Cl)(F)C(N)=N': 2.583,\n",
       " 'CC(Cl)(Cl)C(N)=N': 3.8458,\n",
       " 'CC(F)(F)C(N)=O': -1.8942,\n",
       " 'CC(F)(Cl)C(N)=O': 1.0906,\n",
       " 'CC(Cl)(F)C(N)=O': 1.0906,\n",
       " 'CC(Cl)(Cl)C(N)=O': 4.1902,\n",
       " 'CC(F)(F)C(O)=O': 5.5678,\n",
       " 'CC(F)(Cl)C(O)=O': 5.166,\n",
       " 'CC(Cl)(F)C(O)=O': 5.166,\n",
       " 'CC(Cl)(Cl)C(O)=O': 6.7732,\n",
       " 'CC(F)(F)C(F)=C': 10.1024,\n",
       " 'CC(F)(F)C(Cl)=C': 12.8576,\n",
       " 'CC(F)(Cl)C(F)=C': 13.3168,\n",
       " 'CC(F)(Cl)C(Cl)=C': 15.9572,\n",
       " 'CC(Cl)(F)C(F)=C': 13.3168,\n",
       " 'CC(Cl)(F)C(Cl)=C': 15.9572,\n",
       " 'CC(Cl)(Cl)C(F)=C': 16.5312,\n",
       " 'CC(Cl)(Cl)C(Cl)=C': 17.3348,\n",
       " 'CC(=C)C(F)(F)F': 11.9392,\n",
       " 'CC(=C)C(F)(F)Cl': 13.489,\n",
       " 'CC(=C)C(F)(Cl)F': 13.489,\n",
       " 'CC(=C)C(F)(Cl)Cl': 15.6702,\n",
       " 'CC(=C)C(Cl)(F)F': 13.489,\n",
       " 'CC(=C)C(Cl)(F)Cl': 15.6702,\n",
       " 'CC(=C)C(Cl)(Cl)F': 15.6702,\n",
       " 'CC(=C)C(Cl)(Cl)Cl': 16.933,\n",
       " 'CC(=O)C(F)(F)F': 5.166,\n",
       " 'CC(=O)C(F)(F)Cl': 4.305,\n",
       " 'CC(=O)C(F)(Cl)F': 4.305,\n",
       " 'CC(=O)C(F)(Cl)Cl': 6.4288,\n",
       " 'CC(=O)C(Cl)(F)F': 4.305,\n",
       " 'CC(=O)C(Cl)(F)Cl': 6.4288,\n",
       " 'CC(=O)C(Cl)(Cl)F': 6.4288,\n",
       " 'CC(=O)C(Cl)(Cl)Cl': 7.8064,\n",
       " 'NC(=N)C(F)(F)F': 1.722,\n",
       " 'NC(=N)C(F)(F)Cl': 1.7794,\n",
       " 'NC(=N)C(F)(Cl)F': 1.7794,\n",
       " 'NC(=N)C(F)(Cl)Cl': 2.2386,\n",
       " 'NC(=N)C(Cl)(F)F': 1.7794,\n",
       " 'NC(=N)C(Cl)(F)Cl': 2.2386,\n",
       " 'NC(=N)C(Cl)(Cl)F': 2.2386,\n",
       " 'NC(=N)C(Cl)(Cl)Cl': 4.3624,\n",
       " 'NC(=O)C(F)(F)F': 0.4592,\n",
       " 'NC(=O)C(F)(F)Cl': 1.5498,\n",
       " 'NC(=O)C(F)(Cl)F': 1.5498,\n",
       " 'NC(=O)C(F)(Cl)Cl': 4.5346,\n",
       " 'NC(=O)C(Cl)(F)F': 1.5498,\n",
       " 'NC(=O)C(Cl)(F)Cl': 4.5346,\n",
       " 'NC(=O)C(Cl)(Cl)F': 4.5346,\n",
       " 'NC(=O)C(Cl)(Cl)Cl': 5.6252,\n",
       " 'OC(=O)C(F)(F)F': 7.749,\n",
       " 'OC(=O)C(F)(F)Cl': 9.0692,\n",
       " 'OC(=O)C(F)(Cl)F': 9.0692,\n",
       " 'OC(=O)C(F)(Cl)Cl': 6.4862,\n",
       " 'OC(=O)C(Cl)(F)F': 9.0692,\n",
       " 'OC(=O)C(Cl)(F)Cl': 6.4862,\n",
       " 'OC(=O)C(Cl)(Cl)F': 6.4862,\n",
       " 'OC(=O)C(Cl)(Cl)Cl': 6.7158,\n",
       " 'FC(=C)C(F)(F)F': 11.193,\n",
       " 'FC(=C)C(F)(F)Cl': 12.2262,\n",
       " 'FC(=C)C(F)(Cl)F': 12.2262,\n",
       " 'FC(=C)C(F)(Cl)Cl': 15.211,\n",
       " 'FC(=C)C(Cl)(F)F': 12.2262,\n",
       " 'FC(=C)C(Cl)(F)Cl': 15.211,\n",
       " 'FC(=C)C(Cl)(Cl)F': 15.211,\n",
       " 'FC(=C)C(Cl)(Cl)Cl': 17.5644,\n",
       " 'ClC(=C)C(F)(F)F': 12.7428,\n",
       " 'ClC(=C)C(F)(F)Cl': 15.498,\n",
       " 'ClC(=C)C(F)(Cl)F': 15.498,\n",
       " 'ClC(=C)C(F)(Cl)Cl': 17.9088,\n",
       " 'ClC(=C)C(Cl)(F)F': 15.498,\n",
       " 'ClC(=C)C(Cl)(F)Cl': 17.9088,\n",
       " 'ClC(=C)C(Cl)(Cl)F': 17.9088,\n",
       " 'ClC(=C)C(Cl)(Cl)Cl': 19.0568,\n",
       " 'CC(C)(C)C(C)(C)C': 25.8874,\n",
       " 'CC(C)(C)C(C)(C)N': 12.1688,\n",
       " 'CC(C)(C)C(C)(C)O': 12.341,\n",
       " 'CC(C)(C)C(C)(C)F': 18.5402,\n",
       " 'CC(C)(C)C(C)(C)Cl': 23.821,\n",
       " 'CC(C)(C)C(C)(F)F': 16.1294,\n",
       " 'CC(C)(C)C(C)(F)Cl': 19.4586,\n",
       " 'CC(C)(C)C(C)(Cl)F': 19.4586,\n",
       " 'CC(C)(C)C(C)(Cl)Cl': 21.9842,\n",
       " 'CC(C)(C)C(F)(F)F': 13.2594,\n",
       " 'CC(C)(C)C(F)(F)Cl': 16.5886,\n",
       " 'CC(C)(C)C(F)(Cl)F': 16.5886,\n",
       " 'CC(C)(C)C(F)(Cl)Cl': 20.8362,\n",
       " 'CC(C)(C)C(Cl)(F)F': 16.5886,\n",
       " 'CC(C)(C)C(Cl)(F)Cl': 20.8362,\n",
       " 'CC(C)(C)C(Cl)(Cl)F': 20.8362,\n",
       " 'CC(C)(C)C(Cl)(Cl)Cl': 22.386,\n",
       " 'CC(C)(N)C(C)(C)N': 1.9516,\n",
       " 'CC(C)(N)C(C)(C)O': 1.8942,\n",
       " 'CC(C)(N)C(C)(C)F': 6.888,\n",
       " 'CC(C)(N)C(C)(C)Cl': 10.9634,\n",
       " 'CC(C)(N)C(C)(F)F': 5.2808,\n",
       " 'CC(C)(N)C(C)(F)Cl': 5.8548,\n",
       " 'CC(C)(N)C(C)(Cl)F': 5.8548,\n",
       " 'CC(C)(N)C(C)(Cl)Cl': 12.341,\n",
       " 'CC(C)(N)C(F)(F)F': 5.3382,\n",
       " 'CC(C)(N)C(F)(F)Cl': 7.3472,\n",
       " 'CC(C)(N)C(F)(Cl)F': 7.3472,\n",
       " 'CC(C)(N)C(F)(Cl)Cl': 6.7732,\n",
       " 'CC(C)(N)C(Cl)(F)F': 7.3472,\n",
       " 'CC(C)(N)C(Cl)(F)Cl': 6.7732,\n",
       " 'CC(C)(N)C(Cl)(Cl)F': 6.7732,\n",
       " ...}"
      ]
     },
     "execution_count": 131,
     "metadata": {},
     "output_type": "execute_result"
    }
   ],
   "source": [
    "read_DG_data(DataPath)"
   ]
  },
  {
   "cell_type": "code",
   "execution_count": null,
   "metadata": {},
   "outputs": [],
   "source": [
    "def write_gro(mol_name,bead_types,coords0,gro_name):                                                                                                                                                       \n",
    "    #write gro file                                                                                                                                                                                        \n",
    "    conf = mol.GetConformer(0)                                                                                                                                                                             \n",
    "    with open(gro_name,'w') as gro:                                                                                                                                                                        \n",
    "        gro.write('single molecule of {}\\n'.format(mol_name))                                                                                                                                              \n",
    "        gro.write('{}\\n'.format(len(bead_types)))                                                                                                                                                          \n",
    "        i = 1                                                                                                                                                                                              \n",
    "        for bead,xyz in zip(bead_types,coords0):                                                                                                                                                           \n",
    "            gro.write('{:5d}{:5}{:>5}{:5d}{:8.3f}{:8.3f}{:8.3f}\\n'.format(1,mol_name,bead,i,xyz[0],xyz[1],xyz[2]))                                                                                         \n",
    "            i += 1                                                                                                                                                                                         \n",
    "        gro.write('5.0 5.0 5.0')         "
   ]
  }
 ],
 "metadata": {
  "kernelspec": {
   "display_name": "Python 3",
   "language": "python",
   "name": "python3"
  },
  "language_info": {
   "codemirror_mode": {
    "name": "ipython",
    "version": 3
   },
   "file_extension": ".py",
   "mimetype": "text/x-python",
   "name": "python",
   "nbconvert_exporter": "python",
   "pygments_lexer": "ipython3",
   "version": "3.8.8"
  }
 },
 "nbformat": 4,
 "nbformat_minor": 4
}
