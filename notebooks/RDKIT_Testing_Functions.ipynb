{
 "cells": [
  {
   "cell_type": "code",
   "execution_count": 1,
   "id": "d0078c26",
   "metadata": {},
   "outputs": [
    {
     "data": {
      "text/plain": [
       "'\\n\\nLast Updated: 17/01/2022\\n------------------------\\n\\nThis notebook has two purposes - 1, to get a hang of rdkit functionalities. 2, to fin the best approach to identify \\nthe atom indices in the molecule that match the coarse-grained martini beads \\n\\nUseful Links:\\n-------------\\n\\n- https://www.rdkit.org/docs/Cookbook.html\\n\\n'"
      ]
     },
     "execution_count": 1,
     "metadata": {},
     "output_type": "execute_result"
    }
   ],
   "source": [
    "\"\"\"\n",
    "Last Updated: 17/01/2022\n",
    "------------------------\n",
    "\n",
    "This notebook has two purposes:\n",
    "-------------------------------\n",
    "\n",
    "1. To get a hang of rdkit functionalities.\n",
    "2. To fin the best approach to identify the atom indices in the molecule that match the coarse-grained martini beads \n",
    "\n",
    "Useful Links:\n",
    "-------------\n",
    "\n",
    "- https://www.rdkit.org/docs/Cookbook.html\n",
    "- https://towardsdatascience.com/molecular-visualization-in-streamlit-using-rdkit-and-py3dmol-4e8e63488eb8\n",
    "- https://colab.research.google.com/drive/1T2zR59TXyWRcNxRgOAiqVPJWhep83NV_?usp=sharing\n",
    "- https://greglandrum.github.io/rdkit-blog/tutorial/substructure/2021/08/03/generalized-substructure-search.html\n",
    "\n",
    "\"\"\""
   ]
  },
  {
   "cell_type": "code",
   "execution_count": 3,
   "id": "bf67eea0",
   "metadata": {},
   "outputs": [
    {
     "name": "stdout",
     "output_type": "stream",
     "text": [
      "2021.09.2\n"
     ]
    }
   ],
   "source": [
    "from rdkit import Chem\n",
    "# Library for main substructure annotation \n",
    "from rdkit.Chem.Draw import rdMolDraw2D\n",
    "from rdkit.Chem import Draw\n",
    "from rdkit.Chem.Draw import SimilarityMaps\n",
    "from IPython.display import SVG\n",
    "import io\n",
    "from PIL import Image\n",
    "import numpy as np\n",
    "import rdkit\n",
    "print(rdkit.__version__)\n",
    "\n",
    "def mol_with_atom_index(mol):\n",
    "    \"\"\"\n",
    "    \n",
    "    \"\"\"\n",
    "    for atom in mol.GetAtoms():\n",
    "        atom.SetAtomMapNum(atom.GetIdx())\n",
    "    return mol\n",
    "\n",
    "#IPythonConsole.drawOptions.addAtomIndices = True\n",
    "#IPythonConsole.molSize = 300,300"
   ]
  },
  {
   "cell_type": "code",
   "execution_count": 8,
   "id": "9503d8e2",
   "metadata": {},
   "outputs": [
    {
     "name": "stderr",
     "output_type": "stream",
     "text": [
      "2022-01-17 14:57:02.756 Enabling RDKit 2021.09.2 jupyter extensions\n",
      "2022-01-17 14:57:03.179 netCDF4 is not available. Writing AMBER ncdf files will be slow.\n"
     ]
    }
   ],
   "source": [
    "from rdkit import Chem\n",
    "from rdkit.Chem.Draw import IPythonConsole\n",
    "from rdkit.Chem import Draw\n",
    "from rdkit import Chem\n",
    "from rdkit.Chem import AllChem\n",
    "from rdkit.Chem import rdqueries\n",
    "\n",
    "IPythonConsole.molSize = 250,250\n",
    "import plotly.graph_objs as go\n",
    "\n",
    "# Alignment libraries\n",
    "import MDAnalysis as mda\n",
    "from MDAnalysis.analysis import align\n",
    "from MDAnalysis.analysis.rms import rmsd\n",
    "\n",
    "# Add Stero Annotations\n",
    "IPythonConsole.drawOptions.addAtomIndices = True\n",
    "IPythonConsole.drawOptions.addStereoAnnotation = True"
   ]
  },
  {
   "cell_type": "code",
   "execution_count": 1,
   "id": "7aa93f60",
   "metadata": {},
   "outputs": [
    {
     "name": "stdout",
     "output_type": "stream",
     "text": [
      "2021.09.2\n",
      "Sat Mar 26 20:22:35 2022\n"
     ]
    }
   ],
   "source": [
    "from rdkit import Chem\n",
    "from rdkit.Chem import rdMolEnumerator\n",
    "from rdkit.Chem import rdTautomerQuery\n",
    "from rdkit.Chem import Draw\n",
    "from rdkit.Chem.Draw import IPythonConsole\n",
    "IPythonConsole.drawOptions.minFontSize = 10\n",
    "Draw.SetComicMode(IPythonConsole.drawOptions)\n",
    "from rdkit.Chem import rdDepictor\n",
    "rdDepictor.SetPreferCoordGen(True)\n",
    "import rdkit\n",
    "print(rdkit.__version__)\n",
    "import time\n",
    "print(time.asctime())"
   ]
  },
  {
   "cell_type": "code",
   "execution_count": 2,
   "id": "90baf3f6",
   "metadata": {},
   "outputs": [
    {
     "name": "stdout",
     "output_type": "stream",
     "text": [
      "Looking in indexes: https://pypi.org/simple, https://pypi.ngc.nvidia.com\n",
      "Requirement already satisfied: py3Dmol in /home/sang/anaconda3/lib/python3.8/site-packages (1.7.0)\n",
      "Looking in indexes: https://pypi.org/simple, https://pypi.ngc.nvidia.com\n",
      "Requirement already satisfied: stmol==0.0.7 in /home/sang/anaconda3/lib/python3.8/site-packages (0.0.7)\n",
      "Requirement already satisfied: streamlit>=0.63 in /home/sang/anaconda3/lib/python3.8/site-packages (from stmol==0.0.7) (1.4.0)\n",
      "Requirement already satisfied: py3Dmol in /home/sang/anaconda3/lib/python3.8/site-packages (from stmol==0.0.7) (1.7.0)\n",
      "Requirement already satisfied: python-dateutil in /home/sang/anaconda3/lib/python3.8/site-packages (from streamlit>=0.63->stmol==0.0.7) (2.8.1)\n",
      "Requirement already satisfied: requests in /home/sang/anaconda3/lib/python3.8/site-packages (from streamlit>=0.63->stmol==0.0.7) (2.27.1)\n",
      "Requirement already satisfied: protobuf!=3.11,>=3.6.0 in /home/sang/anaconda3/lib/python3.8/site-packages (from streamlit>=0.63->stmol==0.0.7) (3.19.1)\n",
      "Requirement already satisfied: pympler>=0.9 in /home/sang/anaconda3/lib/python3.8/site-packages (from streamlit>=0.63->stmol==0.0.7) (1.0.1)\n",
      "Requirement already satisfied: base58 in /home/sang/anaconda3/lib/python3.8/site-packages (from streamlit>=0.63->stmol==0.0.7) (2.1.1)\n",
      "Requirement already satisfied: pandas>=0.21.0 in /home/sang/anaconda3/lib/python3.8/site-packages (from streamlit>=0.63->stmol==0.0.7) (1.2.2)\n",
      "Requirement already satisfied: watchdog in /home/sang/anaconda3/lib/python3.8/site-packages (from streamlit>=0.63->stmol==0.0.7) (1.0.2)\n",
      "Requirement already satisfied: attrs in /home/sang/anaconda3/lib/python3.8/site-packages (from streamlit>=0.63->stmol==0.0.7) (20.3.0)\n",
      "Requirement already satisfied: click>=7.0 in /home/sang/anaconda3/lib/python3.8/site-packages (from streamlit>=0.63->stmol==0.0.7) (7.1.2)\n",
      "Requirement already satisfied: toml in /home/sang/anaconda3/lib/python3.8/site-packages (from streamlit>=0.63->stmol==0.0.7) (0.10.2)\n",
      "Requirement already satisfied: astor in /home/sang/anaconda3/lib/python3.8/site-packages (from streamlit>=0.63->stmol==0.0.7) (0.8.1)\n",
      "Requirement already satisfied: pydeck>=0.1.dev5 in /home/sang/anaconda3/lib/python3.8/site-packages (from streamlit>=0.63->stmol==0.0.7) (0.7.1)\n",
      "Requirement already satisfied: gitpython!=3.1.19 in /home/sang/anaconda3/lib/python3.8/site-packages (from streamlit>=0.63->stmol==0.0.7) (3.1.24)\n",
      "Requirement already satisfied: pyarrow in /home/sang/anaconda3/lib/python3.8/site-packages (from streamlit>=0.63->stmol==0.0.7) (5.0.0)\n",
      "Requirement already satisfied: blinker in /home/sang/anaconda3/lib/python3.8/site-packages (from streamlit>=0.63->stmol==0.0.7) (1.4)\n",
      "Requirement already satisfied: altair>=3.2.0 in /home/sang/anaconda3/lib/python3.8/site-packages (from streamlit>=0.63->stmol==0.0.7) (4.2.0)\n",
      "Requirement already satisfied: tzlocal in /home/sang/anaconda3/lib/python3.8/site-packages (from streamlit>=0.63->stmol==0.0.7) (4.1)\n",
      "Requirement already satisfied: numpy in /home/sang/anaconda3/lib/python3.8/site-packages (from streamlit>=0.63->stmol==0.0.7) (1.21.5)\n",
      "Requirement already satisfied: validators in /home/sang/anaconda3/lib/python3.8/site-packages (from streamlit>=0.63->stmol==0.0.7) (0.18.2)\n",
      "Requirement already satisfied: packaging in /home/sang/anaconda3/lib/python3.8/site-packages (from streamlit>=0.63->stmol==0.0.7) (20.9)\n",
      "Requirement already satisfied: tornado>=5.0 in /home/sang/anaconda3/lib/python3.8/site-packages (from streamlit>=0.63->stmol==0.0.7) (6.1)\n",
      "Requirement already satisfied: cachetools>=4.0 in /home/sang/anaconda3/lib/python3.8/site-packages (from streamlit>=0.63->stmol==0.0.7) (4.2.4)\n",
      "Requirement already satisfied: pillow>=6.2.0 in /home/sang/anaconda3/lib/python3.8/site-packages (from streamlit>=0.63->stmol==0.0.7) (8.2.0)\n",
      "Requirement already satisfied: jinja2 in /home/sang/anaconda3/lib/python3.8/site-packages (from altair>=3.2.0->streamlit>=0.63->stmol==0.0.7) (2.11.3)\n",
      "Requirement already satisfied: toolz in /home/sang/anaconda3/lib/python3.8/site-packages (from altair>=3.2.0->streamlit>=0.63->stmol==0.0.7) (0.11.1)\n",
      "Requirement already satisfied: jsonschema>=3.0 in /home/sang/anaconda3/lib/python3.8/site-packages (from altair>=3.2.0->streamlit>=0.63->stmol==0.0.7) (3.2.0)\n",
      "Requirement already satisfied: entrypoints in /home/sang/anaconda3/lib/python3.8/site-packages (from altair>=3.2.0->streamlit>=0.63->stmol==0.0.7) (0.3)\n",
      "Requirement already satisfied: gitdb<5,>=4.0.1 in /home/sang/anaconda3/lib/python3.8/site-packages (from gitpython!=3.1.19->streamlit>=0.63->stmol==0.0.7) (4.0.9)\n",
      "Requirement already satisfied: typing-extensions>=3.7.4.3 in /home/sang/anaconda3/lib/python3.8/site-packages (from gitpython!=3.1.19->streamlit>=0.63->stmol==0.0.7) (3.10.0.2)\n",
      "Requirement already satisfied: pytz>=2017.3 in /home/sang/anaconda3/lib/python3.8/site-packages (from pandas>=0.21.0->streamlit>=0.63->stmol==0.0.7) (2021.1)\n",
      "Requirement already satisfied: ipywidgets>=7.0.0 in /home/sang/anaconda3/lib/python3.8/site-packages (from pydeck>=0.1.dev5->streamlit>=0.63->stmol==0.0.7) (7.6.3)\n",
      "Requirement already satisfied: ipykernel>=5.1.2 in /home/sang/anaconda3/lib/python3.8/site-packages (from pydeck>=0.1.dev5->streamlit>=0.63->stmol==0.0.7) (5.3.4)\n",
      "Requirement already satisfied: traitlets>=4.3.2 in /home/sang/anaconda3/lib/python3.8/site-packages (from pydeck>=0.1.dev5->streamlit>=0.63->stmol==0.0.7) (5.0.5)\n",
      "Requirement already satisfied: six>=1.5 in /home/sang/anaconda3/lib/python3.8/site-packages (from python-dateutil->streamlit>=0.63->stmol==0.0.7) (1.15.0)\n",
      "Requirement already satisfied: pyparsing>=2.0.2 in /home/sang/anaconda3/lib/python3.8/site-packages (from packaging->streamlit>=0.63->stmol==0.0.7) (2.4.7)\n",
      "Requirement already satisfied: urllib3<1.27,>=1.21.1 in /home/sang/anaconda3/lib/python3.8/site-packages (from requests->streamlit>=0.63->stmol==0.0.7) (1.26.7)\n",
      "Requirement already satisfied: idna<4,>=2.5 in /home/sang/anaconda3/lib/python3.8/site-packages (from requests->streamlit>=0.63->stmol==0.0.7) (3.3)\n",
      "Requirement already satisfied: charset-normalizer~=2.0.0 in /home/sang/anaconda3/lib/python3.8/site-packages (from requests->streamlit>=0.63->stmol==0.0.7) (2.0.7)\n",
      "Requirement already satisfied: certifi>=2017.4.17 in /home/sang/anaconda3/lib/python3.8/site-packages (from requests->streamlit>=0.63->stmol==0.0.7) (2021.10.8)\n",
      "Requirement already satisfied: backports.zoneinfo in /home/sang/anaconda3/lib/python3.8/site-packages (from tzlocal->streamlit>=0.63->stmol==0.0.7) (0.2.1)\n",
      "Requirement already satisfied: pytz-deprecation-shim in /home/sang/anaconda3/lib/python3.8/site-packages (from tzlocal->streamlit>=0.63->stmol==0.0.7) (0.1.0.post0)\n",
      "Requirement already satisfied: decorator>=3.4.0 in /home/sang/anaconda3/lib/python3.8/site-packages (from validators->streamlit>=0.63->stmol==0.0.7) (4.4.2)\n",
      "Requirement already satisfied: smmap<6,>=3.0.1 in /home/sang/anaconda3/lib/python3.8/site-packages (from gitdb<5,>=4.0.1->gitpython!=3.1.19->streamlit>=0.63->stmol==0.0.7) (5.0.0)\n",
      "Requirement already satisfied: ipython>=5.0.0 in /home/sang/anaconda3/lib/python3.8/site-packages (from ipykernel>=5.1.2->pydeck>=0.1.dev5->streamlit>=0.63->stmol==0.0.7) (7.22.0)\n",
      "Requirement already satisfied: jupyter-client in /home/sang/anaconda3/lib/python3.8/site-packages (from ipykernel>=5.1.2->pydeck>=0.1.dev5->streamlit>=0.63->stmol==0.0.7) (6.1.12)\n",
      "Requirement already satisfied: widgetsnbextension~=3.5.0 in /home/sang/anaconda3/lib/python3.8/site-packages (from ipywidgets>=7.0.0->pydeck>=0.1.dev5->streamlit>=0.63->stmol==0.0.7) (3.5.1)\n",
      "Requirement already satisfied: jupyterlab-widgets>=1.0.0 in /home/sang/anaconda3/lib/python3.8/site-packages (from ipywidgets>=7.0.0->pydeck>=0.1.dev5->streamlit>=0.63->stmol==0.0.7) (1.0.0)\n",
      "Requirement already satisfied: nbformat>=4.2.0 in /home/sang/anaconda3/lib/python3.8/site-packages (from ipywidgets>=7.0.0->pydeck>=0.1.dev5->streamlit>=0.63->stmol==0.0.7) (5.1.3)\n",
      "Requirement already satisfied: MarkupSafe>=0.23 in /home/sang/anaconda3/lib/python3.8/site-packages (from jinja2->altair>=3.2.0->streamlit>=0.63->stmol==0.0.7) (1.1.1)\n",
      "Requirement already satisfied: pyrsistent>=0.14.0 in /home/sang/anaconda3/lib/python3.8/site-packages (from jsonschema>=3.0->altair>=3.2.0->streamlit>=0.63->stmol==0.0.7) (0.17.3)\n",
      "Requirement already satisfied: setuptools in /home/sang/anaconda3/lib/python3.8/site-packages (from jsonschema>=3.0->altair>=3.2.0->streamlit>=0.63->stmol==0.0.7) (59.4.0)\n",
      "Requirement already satisfied: ipython-genutils in /home/sang/anaconda3/lib/python3.8/site-packages (from traitlets>=4.3.2->pydeck>=0.1.dev5->streamlit>=0.63->stmol==0.0.7) (0.2.0)\n"
     ]
    },
    {
     "name": "stdout",
     "output_type": "stream",
     "text": [
      "Requirement already satisfied: tzdata in /home/sang/anaconda3/lib/python3.8/site-packages (from pytz-deprecation-shim->tzlocal->streamlit>=0.63->stmol==0.0.7) (2021.5)\n",
      "Requirement already satisfied: pexpect>4.3 in /home/sang/anaconda3/lib/python3.8/site-packages (from ipython>=5.0.0->ipykernel>=5.1.2->pydeck>=0.1.dev5->streamlit>=0.63->stmol==0.0.7) (4.8.0)\n",
      "Requirement already satisfied: backcall in /home/sang/anaconda3/lib/python3.8/site-packages (from ipython>=5.0.0->ipykernel>=5.1.2->pydeck>=0.1.dev5->streamlit>=0.63->stmol==0.0.7) (0.2.0)\n",
      "Requirement already satisfied: pygments in /home/sang/anaconda3/lib/python3.8/site-packages (from ipython>=5.0.0->ipykernel>=5.1.2->pydeck>=0.1.dev5->streamlit>=0.63->stmol==0.0.7) (2.8.1)\n",
      "Requirement already satisfied: prompt-toolkit!=3.0.0,!=3.0.1,<3.1.0,>=2.0.0 in /home/sang/anaconda3/lib/python3.8/site-packages (from ipython>=5.0.0->ipykernel>=5.1.2->pydeck>=0.1.dev5->streamlit>=0.63->stmol==0.0.7) (3.0.17)\n",
      "Requirement already satisfied: jedi>=0.16 in /home/sang/anaconda3/lib/python3.8/site-packages (from ipython>=5.0.0->ipykernel>=5.1.2->pydeck>=0.1.dev5->streamlit>=0.63->stmol==0.0.7) (0.17.2)\n",
      "Requirement already satisfied: pickleshare in /home/sang/anaconda3/lib/python3.8/site-packages (from ipython>=5.0.0->ipykernel>=5.1.2->pydeck>=0.1.dev5->streamlit>=0.63->stmol==0.0.7) (0.7.5)\n",
      "Requirement already satisfied: jupyter-core in /home/sang/anaconda3/lib/python3.8/site-packages (from nbformat>=4.2.0->ipywidgets>=7.0.0->pydeck>=0.1.dev5->streamlit>=0.63->stmol==0.0.7) (4.7.1)\n",
      "Requirement already satisfied: notebook>=4.4.1 in /home/sang/anaconda3/lib/python3.8/site-packages (from widgetsnbextension~=3.5.0->ipywidgets>=7.0.0->pydeck>=0.1.dev5->streamlit>=0.63->stmol==0.0.7) (6.3.0)\n",
      "Requirement already satisfied: pyzmq>=13 in /home/sang/anaconda3/lib/python3.8/site-packages (from jupyter-client->ipykernel>=5.1.2->pydeck>=0.1.dev5->streamlit>=0.63->stmol==0.0.7) (20.0.0)\n",
      "Requirement already satisfied: parso<0.8.0,>=0.7.0 in /home/sang/anaconda3/lib/python3.8/site-packages (from jedi>=0.16->ipython>=5.0.0->ipykernel>=5.1.2->pydeck>=0.1.dev5->streamlit>=0.63->stmol==0.0.7) (0.7.0)\n",
      "Requirement already satisfied: terminado>=0.8.3 in /home/sang/anaconda3/lib/python3.8/site-packages (from notebook>=4.4.1->widgetsnbextension~=3.5.0->ipywidgets>=7.0.0->pydeck>=0.1.dev5->streamlit>=0.63->stmol==0.0.7) (0.9.4)\n",
      "Requirement already satisfied: Send2Trash>=1.5.0 in /home/sang/anaconda3/lib/python3.8/site-packages (from notebook>=4.4.1->widgetsnbextension~=3.5.0->ipywidgets>=7.0.0->pydeck>=0.1.dev5->streamlit>=0.63->stmol==0.0.7) (1.5.0)\n",
      "Requirement already satisfied: nbconvert in /home/sang/anaconda3/lib/python3.8/site-packages (from notebook>=4.4.1->widgetsnbextension~=3.5.0->ipywidgets>=7.0.0->pydeck>=0.1.dev5->streamlit>=0.63->stmol==0.0.7) (6.0.7)\n",
      "Requirement already satisfied: prometheus-client in /home/sang/anaconda3/lib/python3.8/site-packages (from notebook>=4.4.1->widgetsnbextension~=3.5.0->ipywidgets>=7.0.0->pydeck>=0.1.dev5->streamlit>=0.63->stmol==0.0.7) (0.10.1)\n",
      "Requirement already satisfied: argon2-cffi in /home/sang/anaconda3/lib/python3.8/site-packages (from notebook>=4.4.1->widgetsnbextension~=3.5.0->ipywidgets>=7.0.0->pydeck>=0.1.dev5->streamlit>=0.63->stmol==0.0.7) (20.1.0)\n",
      "Requirement already satisfied: ptyprocess>=0.5 in /home/sang/anaconda3/lib/python3.8/site-packages (from pexpect>4.3->ipython>=5.0.0->ipykernel>=5.1.2->pydeck>=0.1.dev5->streamlit>=0.63->stmol==0.0.7) (0.7.0)\n",
      "Requirement already satisfied: wcwidth in /home/sang/anaconda3/lib/python3.8/site-packages (from prompt-toolkit!=3.0.0,!=3.0.1,<3.1.0,>=2.0.0->ipython>=5.0.0->ipykernel>=5.1.2->pydeck>=0.1.dev5->streamlit>=0.63->stmol==0.0.7) (0.2.5)\n",
      "Requirement already satisfied: cffi>=1.0.0 in /home/sang/anaconda3/lib/python3.8/site-packages (from argon2-cffi->notebook>=4.4.1->widgetsnbextension~=3.5.0->ipywidgets>=7.0.0->pydeck>=0.1.dev5->streamlit>=0.63->stmol==0.0.7) (1.14.5)\n",
      "Requirement already satisfied: jupyterlab-pygments in /home/sang/anaconda3/lib/python3.8/site-packages (from nbconvert->notebook>=4.4.1->widgetsnbextension~=3.5.0->ipywidgets>=7.0.0->pydeck>=0.1.dev5->streamlit>=0.63->stmol==0.0.7) (0.1.2)\n",
      "Requirement already satisfied: testpath in /home/sang/anaconda3/lib/python3.8/site-packages (from nbconvert->notebook>=4.4.1->widgetsnbextension~=3.5.0->ipywidgets>=7.0.0->pydeck>=0.1.dev5->streamlit>=0.63->stmol==0.0.7) (0.4.4)\n",
      "Requirement already satisfied: pandocfilters>=1.4.1 in /home/sang/anaconda3/lib/python3.8/site-packages (from nbconvert->notebook>=4.4.1->widgetsnbextension~=3.5.0->ipywidgets>=7.0.0->pydeck>=0.1.dev5->streamlit>=0.63->stmol==0.0.7) (1.4.3)\n",
      "Requirement already satisfied: mistune<2,>=0.8.1 in /home/sang/anaconda3/lib/python3.8/site-packages (from nbconvert->notebook>=4.4.1->widgetsnbextension~=3.5.0->ipywidgets>=7.0.0->pydeck>=0.1.dev5->streamlit>=0.63->stmol==0.0.7) (0.8.4)\n",
      "Requirement already satisfied: nbclient<0.6.0,>=0.5.0 in /home/sang/anaconda3/lib/python3.8/site-packages (from nbconvert->notebook>=4.4.1->widgetsnbextension~=3.5.0->ipywidgets>=7.0.0->pydeck>=0.1.dev5->streamlit>=0.63->stmol==0.0.7) (0.5.3)\n",
      "Requirement already satisfied: bleach in /home/sang/anaconda3/lib/python3.8/site-packages (from nbconvert->notebook>=4.4.1->widgetsnbextension~=3.5.0->ipywidgets>=7.0.0->pydeck>=0.1.dev5->streamlit>=0.63->stmol==0.0.7) (3.3.0)\n",
      "Requirement already satisfied: defusedxml in /home/sang/anaconda3/lib/python3.8/site-packages (from nbconvert->notebook>=4.4.1->widgetsnbextension~=3.5.0->ipywidgets>=7.0.0->pydeck>=0.1.dev5->streamlit>=0.63->stmol==0.0.7) (0.7.1)\n",
      "Requirement already satisfied: pycparser in /home/sang/anaconda3/lib/python3.8/site-packages (from cffi>=1.0.0->argon2-cffi->notebook>=4.4.1->widgetsnbextension~=3.5.0->ipywidgets>=7.0.0->pydeck>=0.1.dev5->streamlit>=0.63->stmol==0.0.7) (2.20)\n",
      "Requirement already satisfied: async-generator in /home/sang/anaconda3/lib/python3.8/site-packages (from nbclient<0.6.0,>=0.5.0->nbconvert->notebook>=4.4.1->widgetsnbextension~=3.5.0->ipywidgets>=7.0.0->pydeck>=0.1.dev5->streamlit>=0.63->stmol==0.0.7) (1.10)\n",
      "Requirement already satisfied: nest-asyncio in /home/sang/anaconda3/lib/python3.8/site-packages (from nbclient<0.6.0,>=0.5.0->nbconvert->notebook>=4.4.1->widgetsnbextension~=3.5.0->ipywidgets>=7.0.0->pydeck>=0.1.dev5->streamlit>=0.63->stmol==0.0.7) (1.5.1)\n",
      "Requirement already satisfied: webencodings in /home/sang/anaconda3/lib/python3.8/site-packages (from bleach->nbconvert->notebook>=4.4.1->widgetsnbextension~=3.5.0->ipywidgets>=7.0.0->pydeck>=0.1.dev5->streamlit>=0.63->stmol==0.0.7) (0.5.1)\n"
     ]
    }
   ],
   "source": [
    "!pip install py3Dmol\n",
    "!pip install stmol==0.0.7"
   ]
  },
  {
   "cell_type": "code",
   "execution_count": 23,
   "id": "a6cb4b90",
   "metadata": {},
   "outputs": [],
   "source": [
    "m2 = Chem.MolFromSmiles('C1CCC1')"
   ]
  },
  {
   "cell_type": "code",
   "execution_count": 24,
   "id": "052e8750",
   "metadata": {},
   "outputs": [
    {
     "data": {
      "image/png": "[encoded data removed]",
      "text/plain": [
       "<rdkit.Chem.rdchem.Mol at 0x7f85e2ef2e20>"
      ]
     },
     "execution_count": 24,
     "metadata": {},
     "output_type": "execute_result"
    }
   ],
   "source": [
    "m2"
   ]
  },
  {
   "cell_type": "code",
   "execution_count": 25,
   "id": "049d07e8",
   "metadata": {},
   "outputs": [],
   "source": [
    "m = Chem.MolFromSmiles('Cc1ccccc1')"
   ]
  },
  {
   "cell_type": "code",
   "execution_count": 26,
   "id": "e477cfbe",
   "metadata": {},
   "outputs": [
    {
     "data": {
      "image/png": "[encoded data removed]",
      "text/plain": [
       "<rdkit.Chem.rdchem.Mol at 0x7f85e2f01280>"
      ]
     },
     "execution_count": 26,
     "metadata": {},
     "output_type": "execute_result"
    }
   ],
   "source": [
    "m"
   ]
  },
  {
   "cell_type": "code",
   "execution_count": 27,
   "id": "98518aa4",
   "metadata": {},
   "outputs": [
    {
     "name": "stdout",
     "output_type": "stream",
     "text": [
      "\n",
      "     RDKit          2D\n",
      "\n",
      "  4  4  0  0  0  0  0  0  0  0999 V2000\n",
      "    1.0607    0.0000    0.0000 C   0  0  0  0  0  0  0  0  0  0  0  0\n",
      "   -0.0000   -1.0607    0.0000 C   0  0  0  0  0  0  0  0  0  0  0  0\n",
      "   -1.0607    0.0000    0.0000 C   0  0  0  0  0  0  0  0  0  0  0  0\n",
      "    0.0000    1.0607    0.0000 C   0  0  0  0  0  0  0  0  0  0  0  0\n",
      "  1  2  1  0\n",
      "  2  3  1  0\n",
      "  3  4  1  0\n",
      "  4  1  1  0\n",
      "M  END\n",
      "\n"
     ]
    }
   ],
   "source": [
    "print(Chem.MolToMolBlock(m2)) "
   ]
  },
  {
   "cell_type": "code",
   "execution_count": 28,
   "id": "2382bcdb",
   "metadata": {},
   "outputs": [
    {
     "data": {
      "image/png": "[encoded data removed]",
      "text/plain": [
       "<rdkit.Chem.rdchem.Mol at 0x7f85e2f01280>"
      ]
     },
     "execution_count": 28,
     "metadata": {},
     "output_type": "execute_result"
    }
   ],
   "source": [
    "mol_with_atom_index(m)"
   ]
  },
  {
   "cell_type": "code",
   "execution_count": 29,
   "id": "8b4e45c1",
   "metadata": {},
   "outputs": [],
   "source": [
    "m3 = Chem.AddHs(m)"
   ]
  },
  {
   "cell_type": "code",
   "execution_count": 30,
   "id": "0f879aa1",
   "metadata": {},
   "outputs": [
    {
     "data": {
      "image/png": "[encoded data removed]",
      "text/plain": [
       "<rdkit.Chem.rdchem.Mol at 0x7f85e2f01400>"
      ]
     },
     "execution_count": 30,
     "metadata": {},
     "output_type": "execute_result"
    }
   ],
   "source": [
    "m3"
   ]
  },
  {
   "cell_type": "code",
   "execution_count": 31,
   "id": "2183d2eb",
   "metadata": {},
   "outputs": [
    {
     "data": {
      "text/plain": [
       "0"
      ]
     },
     "execution_count": 31,
     "metadata": {},
     "output_type": "execute_result"
    }
   ],
   "source": [
    "AllChem.EmbedMolecule(m3,randomSeed=0xf00d)   # optional random seed for reproducibility)"
   ]
  },
  {
   "cell_type": "code",
   "execution_count": 32,
   "id": "05310d20",
   "metadata": {},
   "outputs": [
    {
     "name": "stdout",
     "output_type": "stream",
     "text": [
      "\n",
      "     RDKit          3D\n",
      "\n",
      " 15 15  0  0  0  0  0  0  0  0999 V2000\n",
      "    2.2158    0.0324   -0.0218 C   0  0  0  0  0  0  0  0  0  0  0  0\n",
      "    0.7287    0.0297   -0.0118 C   0  0  0  0  0  0  0  0  0  1  0  0\n",
      "    0.0383   -1.1614    0.0667 C   0  0  0  0  0  0  0  0  0  2  0  0\n",
      "   -1.3527   -1.1977    0.0782 C   0  0  0  0  0  0  0  0  0  3  0  0\n",
      "   -2.0901   -0.0334    0.0108 C   0  0  0  0  0  0  0  0  0  4  0  0\n",
      "   -1.3920    1.1548   -0.0676 C   0  0  0  0  0  0  0  0  0  5  0  0\n",
      "   -0.0036    1.1972   -0.0794 C   0  0  0  0  0  0  0  0  0  6  0  0\n",
      "    2.6349   -0.0844    1.0025 H   0  0  0  0  0  0  0  0  0  0  0  0\n",
      "    2.5646   -0.8265   -0.6062 H   0  0  0  0  0  0  0  0  0  0  0  0\n",
      "    2.5418    1.0131   -0.3925 H   0  0  0  0  0  0  0  0  0  0  0  0\n",
      "    0.6086   -2.1021    0.1214 H   0  0  0  0  0  0  0  0  0  0  0  0\n",
      "   -1.8853   -2.1304    0.1396 H   0  0  0  0  0  0  0  0  0  0  0  0\n",
      "   -3.1787   -0.0848    0.0212 H   0  0  0  0  0  0  0  0  0  0  0  0\n",
      "   -1.9686    2.0588   -0.1199 H   0  0  0  0  0  0  0  0  0  0  0  0\n",
      "    0.5383    2.1347   -0.1412 H   0  0  0  0  0  0  0  0  0  0  0  0\n",
      "  1  2  1  0\n",
      "  2  3  2  0\n",
      "  3  4  1  0\n",
      "  4  5  2  0\n",
      "  5  6  1  0\n",
      "  6  7  2  0\n",
      "  7  2  1  0\n",
      "  1  8  1  0\n",
      "  1  9  1  0\n",
      "  1 10  1  0\n",
      "  3 11  1  0\n",
      "  4 12  1  0\n",
      "  5 13  1  0\n",
      "  6 14  1  0\n",
      "  7 15  1  0\n",
      "M  END\n",
      "\n"
     ]
    }
   ],
   "source": [
    "print(Chem.MolToMolBlock(m3))    "
   ]
  },
  {
   "cell_type": "code",
   "execution_count": 18,
   "id": "d3a3ae35",
   "metadata": {},
   "outputs": [
    {
     "name": "stdout",
     "output_type": "stream",
     "text": [
      "0 1\n",
      "1 2\n",
      "2 3\n",
      "3 4\n",
      "4 5\n",
      "5 6\n",
      "6 1\n",
      "0 7\n",
      "0 8\n",
      "0 9\n",
      "2 10\n",
      "3 11\n",
      "4 12\n",
      "5 13\n",
      "6 14\n"
     ]
    }
   ],
   "source": [
    "for bond in m3.GetBonds():\n",
    "    print(bond.GetBeginAtomIdx(), bond.GetEndAtomIdx())"
   ]
  },
  {
   "cell_type": "code",
   "execution_count": 19,
   "id": "87f4fde4",
   "metadata": {},
   "outputs": [],
   "source": [
    " with Chem.SDMolSupplier('cdk2.sdf') as suppl:\n",
    "        ms = [x for x in suppl if x is not None]"
   ]
  },
  {
   "cell_type": "code",
   "execution_count": 20,
   "id": "4823f4f9",
   "metadata": {},
   "outputs": [
    {
     "data": {
      "text/plain": [
       "[<rdkit.Chem.rdchem.Mol at 0x7f85e7124e20>,\n",
       " <rdkit.Chem.rdchem.Mol at 0x7f85e71249a0>,\n",
       " <rdkit.Chem.rdchem.Mol at 0x7f85e7124b80>,\n",
       " <rdkit.Chem.rdchem.Mol at 0x7f85e71242e0>,\n",
       " <rdkit.Chem.rdchem.Mol at 0x7f85e7124ac0>,\n",
       " <rdkit.Chem.rdchem.Mol at 0x7f85e7124580>,\n",
       " <rdkit.Chem.rdchem.Mol at 0x7f85e71244c0>,\n",
       " <rdkit.Chem.rdchem.Mol at 0x7f861ddaa160>,\n",
       " <rdkit.Chem.rdchem.Mol at 0x7f85e7108b80>,\n",
       " <rdkit.Chem.rdchem.Mol at 0x7f85e7108dc0>,\n",
       " <rdkit.Chem.rdchem.Mol at 0x7f85e7108be0>,\n",
       " <rdkit.Chem.rdchem.Mol at 0x7f85e7108ca0>,\n",
       " <rdkit.Chem.rdchem.Mol at 0x7f85e7108f40>,\n",
       " <rdkit.Chem.rdchem.Mol at 0x7f85e7108c40>,\n",
       " <rdkit.Chem.rdchem.Mol at 0x7f85e7108ee0>,\n",
       " <rdkit.Chem.rdchem.Mol at 0x7f85e7108fa0>,\n",
       " <rdkit.Chem.rdchem.Mol at 0x7f85e7108e20>,\n",
       " <rdkit.Chem.rdchem.Mol at 0x7f861c546760>,\n",
       " <rdkit.Chem.rdchem.Mol at 0x7f861c546460>,\n",
       " <rdkit.Chem.rdchem.Mol at 0x7f861c5464c0>,\n",
       " <rdkit.Chem.rdchem.Mol at 0x7f85e7134580>,\n",
       " <rdkit.Chem.rdchem.Mol at 0x7f85e7134640>,\n",
       " <rdkit.Chem.rdchem.Mol at 0x7f85e71342e0>,\n",
       " <rdkit.Chem.rdchem.Mol at 0x7f85e7134220>,\n",
       " <rdkit.Chem.rdchem.Mol at 0x7f85e71345e0>,\n",
       " <rdkit.Chem.rdchem.Mol at 0x7f85e7134160>,\n",
       " <rdkit.Chem.rdchem.Mol at 0x7f85e71343a0>,\n",
       " <rdkit.Chem.rdchem.Mol at 0x7f85e7134340>,\n",
       " <rdkit.Chem.rdchem.Mol at 0x7f85e7134700>,\n",
       " <rdkit.Chem.rdchem.Mol at 0x7f85e7134760>,\n",
       " <rdkit.Chem.rdchem.Mol at 0x7f85e71347c0>,\n",
       " <rdkit.Chem.rdchem.Mol at 0x7f85e7134820>,\n",
       " <rdkit.Chem.rdchem.Mol at 0x7f85e7134880>,\n",
       " <rdkit.Chem.rdchem.Mol at 0x7f85e71348e0>,\n",
       " <rdkit.Chem.rdchem.Mol at 0x7f85e7134940>,\n",
       " <rdkit.Chem.rdchem.Mol at 0x7f85e71349a0>,\n",
       " <rdkit.Chem.rdchem.Mol at 0x7f85e7134a00>,\n",
       " <rdkit.Chem.rdchem.Mol at 0x7f85e7134a60>,\n",
       " <rdkit.Chem.rdchem.Mol at 0x7f85e7134ac0>,\n",
       " <rdkit.Chem.rdchem.Mol at 0x7f85e7134b20>,\n",
       " <rdkit.Chem.rdchem.Mol at 0x7f85e7134b80>,\n",
       " <rdkit.Chem.rdchem.Mol at 0x7f85e7134be0>,\n",
       " <rdkit.Chem.rdchem.Mol at 0x7f85e7134c40>,\n",
       " <rdkit.Chem.rdchem.Mol at 0x7f85e7134ca0>,\n",
       " <rdkit.Chem.rdchem.Mol at 0x7f85e7134d00>,\n",
       " <rdkit.Chem.rdchem.Mol at 0x7f85e7134d60>,\n",
       " <rdkit.Chem.rdchem.Mol at 0x7f85e7134dc0>]"
      ]
     },
     "execution_count": 20,
     "metadata": {},
     "output_type": "execute_result"
    }
   ],
   "source": [
    "ms"
   ]
  },
  {
   "cell_type": "code",
   "execution_count": 33,
   "id": "92c55b0e",
   "metadata": {},
   "outputs": [],
   "source": [
    "for m in ms: tmp=AllChem.Compute2DCoords(m)"
   ]
  },
  {
   "cell_type": "code",
   "execution_count": 34,
   "id": "90326a3f",
   "metadata": {},
   "outputs": [
    {
     "data": {
      "text/plain": [
       "0"
      ]
     },
     "execution_count": 34,
     "metadata": {},
     "output_type": "execute_result"
    }
   ],
   "source": [
    "tmp\n"
   ]
  },
  {
   "cell_type": "code",
   "execution_count": 35,
   "id": "eca95545",
   "metadata": {},
   "outputs": [],
   "source": [
    "from rdkit.Chem import Draw\n",
    "Draw.MolToFile(ms[0],'cdk2_mol1.o.png') "
   ]
  },
  {
   "cell_type": "code",
   "execution_count": null,
   "id": "cd32223b",
   "metadata": {},
   "outputs": [],
   "source": [
    "\"\"\"\n",
    "Atoms in a molecule can be highlighted by drawing a coloured solid or open circle around them, \n",
    "and bonds likewise can have a coloured outline applied. \n",
    "\n",
    "An obvious use is to show atoms and bonds that have matched a substructure query\n",
    "\n",
    "----\n",
    "\n",
    "Atoms in a molecule can be highlighted by drawing a coloured solid or open circle around them, \n",
    "and bonds likewise can have a coloured outline applied. \n",
    "\n",
    "An obvious use is to show atoms and bonds that have matched a substructure query\n",
    "\n",
    "\n",
    "\"\"\""
   ]
  },
  {
   "cell_type": "code",
   "execution_count": 1,
   "id": "aabff4d9",
   "metadata": {},
   "outputs": [],
   "source": [
    "smi = 'c1cc(F)ccc1Cl'"
   ]
  },
  {
   "cell_type": "code",
   "execution_count": 36,
   "id": "9a6c8bf5",
   "metadata": {},
   "outputs": [
    {
     "data": {
      "image/png": "[encoded data removed]",
      "text/plain": [
       "<rdkit.Chem.rdchem.Mol at 0x7f85e2f0d040>"
      ]
     },
     "execution_count": 36,
     "metadata": {},
     "output_type": "execute_result"
    }
   ],
   "source": [
    "mol = Chem.MolFromSmiles(smi)\n",
    "mol"
   ]
  },
  {
   "cell_type": "code",
   "execution_count": 38,
   "id": "8217da1f",
   "metadata": {},
   "outputs": [
    {
     "data": {
      "image/png": "[encoded data removed]",
      "text/plain": [
       "<rdkit.Chem.rdchem.Mol at 0x7f85e2f0d4c0>"
      ]
     },
     "execution_count": 38,
     "metadata": {},
     "output_type": "execute_result"
    }
   ],
   "source": [
    "patt = Chem.MolFromSmarts('ClccccF')\n",
    "patt"
   ]
  },
  {
   "cell_type": "code",
   "execution_count": 39,
   "id": "8a359a83",
   "metadata": {},
   "outputs": [],
   "source": [
    "hit_ats = list(mol.GetSubstructMatch(patt))"
   ]
  },
  {
   "cell_type": "code",
   "execution_count": 40,
   "id": "91bc5d48",
   "metadata": {},
   "outputs": [
    {
     "data": {
      "text/plain": [
       "[7, 6, 5, 4, 2, 3]"
      ]
     },
     "execution_count": 40,
     "metadata": {},
     "output_type": "execute_result"
    }
   ],
   "source": [
    "hit_ats"
   ]
  },
  {
   "cell_type": "code",
   "execution_count": 44,
   "id": "969ebe9e",
   "metadata": {},
   "outputs": [],
   "source": [
    "hit_bonds = []\n",
    "for bond in patt.GetBonds():\n",
    "    aid1 = hit_ats[bond.GetBeginAtomIdx()]\n",
    "    aid2 = hit_ats[bond.GetEndAtomIdx()]\n",
    "    hit_bonds.append(mol.GetBondBetweenAtoms(aid1,aid2).GetIdx())"
   ]
  },
  {
   "cell_type": "code",
   "execution_count": 45,
   "id": "65cc4278",
   "metadata": {},
   "outputs": [
    {
     "data": {
      "text/plain": [
       "[6, 5, 4, 3, 2]"
      ]
     },
     "execution_count": 45,
     "metadata": {},
     "output_type": "execute_result"
    }
   ],
   "source": [
    "hit_bonds"
   ]
  },
  {
   "cell_type": "code",
   "execution_count": 46,
   "id": "2cd469bb",
   "metadata": {},
   "outputs": [],
   "source": [
    "d = rdMolDraw2D.MolDraw2DSVG(500, 500)"
   ]
  },
  {
   "cell_type": "code",
   "execution_count": 47,
   "id": "2ed03473",
   "metadata": {},
   "outputs": [],
   "source": [
    "rdMolDraw2D.PrepareAndDrawMolecule(d, mol, highlightAtoms=hit_ats,  highlightBonds=hit_bonds)"
   ]
  },
  {
   "cell_type": "code",
   "execution_count": 48,
   "id": "f47284c9",
   "metadata": {},
   "outputs": [
    {
     "data": {
      "image/png": "[encoded data removed]",
      "text/plain": [
       "<rdkit.Chem.rdchem.Mol at 0x7f85e2f0d040>"
      ]
     },
     "execution_count": 48,
     "metadata": {},
     "output_type": "execute_result"
    }
   ],
   "source": [
    "mol"
   ]
  },
  {
   "cell_type": "code",
   "execution_count": 49,
   "id": "61361438",
   "metadata": {},
   "outputs": [],
   "source": [
    "# Trying to isolate only the beads that represent the \n",
    "m = Chem.MolFromSmiles('CCc1cccc2ccccc21')"
   ]
  },
  {
   "cell_type": "code",
   "execution_count": 50,
   "id": "432a5707",
   "metadata": {},
   "outputs": [
    {
     "data": {
      "image/png": "[encoded data removed]",
      "text/plain": [
       "<rdkit.Chem.rdchem.Mol at 0x7f85e2c8d760>"
      ]
     },
     "execution_count": 50,
     "metadata": {},
     "output_type": "execute_result"
    }
   ],
   "source": [
    "m"
   ]
  },
  {
   "cell_type": "code",
   "execution_count": 51,
   "id": "a77016ba",
   "metadata": {},
   "outputs": [],
   "source": [
    "colours = [(0.8,0.0,0.8),(0.8,0.8,0),(0,0.8,0.8),(0,0,0.8)]"
   ]
  },
  {
   "cell_type": "code",
   "execution_count": 66,
   "id": "6143f78d",
   "metadata": {},
   "outputs": [],
   "source": [
    "patt = Chem.MolFromSmarts('cccccc')"
   ]
  },
  {
   "cell_type": "code",
   "execution_count": 67,
   "id": "70a08f4e",
   "metadata": {},
   "outputs": [],
   "source": [
    "hit_ats = list(m.GetSubstructMatch(patt))"
   ]
  },
  {
   "cell_type": "code",
   "execution_count": 68,
   "id": "34514b0c",
   "metadata": {},
   "outputs": [
    {
     "data": {
      "text/plain": [
       "[2, 3, 4, 5, 6, 7]"
      ]
     },
     "execution_count": 68,
     "metadata": {},
     "output_type": "execute_result"
    }
   ],
   "source": [
    "hit_ats"
   ]
  },
  {
   "cell_type": "code",
   "execution_count": 13,
   "id": "0737fde1",
   "metadata": {},
   "outputs": [],
   "source": [
    "\"\"\"\n",
    "Drawing Molecules \n",
    "\"\"\"\n",
    "\n",
    "from rdkit import Chem\n",
    "from rdkit.Chem import AllChem\n",
    "from rdkit.Chem.Draw import IPythonConsole\n",
    "from rdkit.Chem import Draw\n",
    "IPythonConsole.molSize = 250, 250"
   ]
  },
  {
   "cell_type": "code",
   "execution_count": 2,
   "id": "4c046d26",
   "metadata": {},
   "outputs": [],
   "source": [
    "\n",
    "def mol_with_atom_index(mol):\n",
    "    \"\"\"\n",
    "    \n",
    "    \"\"\"\n",
    "    for atom in mol.GetAtoms():\n",
    "        atom.SetAtomMapNum(atom.GetIdx())\n",
    "    return mol"
   ]
  },
  {
   "cell_type": "code",
   "execution_count": 3,
   "id": "223b78a0",
   "metadata": {},
   "outputs": [],
   "source": [
    "mol = Chem.MolFromSmiles(\"C1CC2=C3C(=CC=C2)C(=CN3C1)[C@H]4[C@@H](C(=O)NC4=O)C5=CNC6=CC=CC=C65\")"
   ]
  },
  {
   "cell_type": "code",
   "execution_count": 5,
   "id": "b8367ceb",
   "metadata": {},
   "outputs": [
    {
     "name": "stdout",
     "output_type": "stream",
     "text": [
      "0\n",
      "1\n",
      "2\n",
      "3\n",
      "4\n",
      "5\n",
      "6\n",
      "7\n",
      "8\n",
      "9\n",
      "10\n",
      "11\n",
      "12\n",
      "13\n",
      "14\n",
      "15\n",
      "16\n",
      "17\n",
      "18\n",
      "19\n",
      "20\n",
      "21\n",
      "22\n",
      "23\n",
      "24\n",
      "25\n",
      "26\n",
      "27\n"
     ]
    }
   ],
   "source": [
    "for atom in mol.GetAtoms():\n",
    "    print(atom.GetIdx())"
   ]
  },
  {
   "cell_type": "code",
   "execution_count": 7,
   "id": "f3522e1e",
   "metadata": {},
   "outputs": [
    {
     "data": {
      "image/png": "[encoded data removed]",
      "text/plain": [
       "<rdkit.Chem.rdchem.Mol at 0x7f6e36708340>"
      ]
     },
     "execution_count": 7,
     "metadata": {},
     "output_type": "execute_result"
    }
   ],
   "source": [
    "mol_with_atom_index(mol)"
   ]
  },
  {
   "cell_type": "code",
   "execution_count": null,
   "id": "28903fd8",
   "metadata": {},
   "outputs": [],
   "source": [
    "\"\"\"\n",
    "A simpler way to add atom indices is to adjust the IPythonConsole properties\n",
    "\n",
    "This produces a similar image to the example above, the difference being that the atom indices are now near the atom, \n",
    "rather than at the atom position.\n",
    "\"\"\"\n"
   ]
  },
  {
   "cell_type": "code",
   "execution_count": 11,
   "id": "11ff72d9",
   "metadata": {},
   "outputs": [
    {
     "data": {
      "image/png": "[encoded data removed]",
      "text/plain": [
       "<rdkit.Chem.rdchem.Mol at 0x7f6e34e73a60>"
      ]
     },
     "execution_count": 11,
     "metadata": {},
     "output_type": "execute_result"
    }
   ],
   "source": [
    "\"\"\"\n",
    "Including a Calculation\n",
    "-----------------------\n",
    "\n",
    "Draw a molecule with a calculation value displayed\n",
    "\n",
    "\"\"\"\n",
    "m = Chem.MolFromSmiles('c1ncncc1C(=O)[O-]')\n",
    "m\n"
   ]
  },
  {
   "cell_type": "code",
   "execution_count": 14,
   "id": "72cfe8c9",
   "metadata": {},
   "outputs": [],
   "source": [
    "AllChem.ComputeGasteigerCharges(m) # Include a calculation of the Gasteiger charges \n",
    "\n"
   ]
  },
  {
   "cell_type": "code",
   "execution_count": 15,
   "id": "7eabea9d",
   "metadata": {},
   "outputs": [
    {
     "data": {
      "image/png": "[encoded data removed]",
      "text/plain": [
       "<rdkit.Chem.rdchem.Mol at 0x7f6e34e73a60>"
      ]
     },
     "execution_count": 15,
     "metadata": {},
     "output_type": "execute_result"
    }
   ],
   "source": [
    "m"
   ]
  },
  {
   "cell_type": "code",
   "execution_count": 19,
   "id": "b15ada69",
   "metadata": {},
   "outputs": [
    {
     "name": "stdout",
     "output_type": "stream",
     "text": [
      "0.04\n",
      "-0.24\n",
      "0.11\n",
      "-0.24\n",
      "0.04\n",
      "0.03\n",
      "0.07\n",
      "-0.54\n",
      "-0.54\n"
     ]
    },
    {
     "data": {
      "image/png": "[encoded data removed]",
      "text/plain": [
       "<rdkit.Chem.rdchem.Mol at 0x7f6e358f2db0>"
      ]
     },
     "execution_count": 19,
     "metadata": {},
     "output_type": "execute_result"
    }
   ],
   "source": [
    "m2 = Chem.Mol(m)\n",
    "for at in m2.GetAtoms():\n",
    "    lbl = '%.2f'%(at.GetDoubleProp(\"_GasteigerCharge\"))\n",
    "    print(lbl)\n",
    "    at.SetProp('atomNote', lbl)\n",
    "m2"
   ]
  },
  {
   "cell_type": "code",
   "execution_count": 22,
   "id": "73b12e09",
   "metadata": {},
   "outputs": [],
   "source": [
    "\"\"\"\n",
    "Include Stero Annotations\n",
    "\"\"\"\n",
    "\n",
    "m1 = Chem.MolFromSmiles('C1CC1[C@H](F)C1CCC1')\n",
    "m2 = Chem.MolFromSmiles('F[C@H]1CC[C@H](O)CC1')"
   ]
  },
  {
   "cell_type": "code",
   "execution_count": 21,
   "id": "ea0b4b46",
   "metadata": {},
   "outputs": [
    {
     "data": {
      "image/png": "[encoded data removed]",
      "text/plain": [
       "<rdkit.Chem.rdchem.Mol at 0x7f6e356161c0>"
      ]
     },
     "execution_count": 21,
     "metadata": {},
     "output_type": "execute_result"
    }
   ],
   "source": [
    "m1"
   ]
  },
  {
   "cell_type": "code",
   "execution_count": 23,
   "id": "40c2175a",
   "metadata": {},
   "outputs": [
    {
     "data": {
      "image/png": "[encoded data removed]",
      "text/plain": [
       "<rdkit.Chem.rdchem.Mol at 0x7f6e3534fb80>"
      ]
     },
     "execution_count": 23,
     "metadata": {},
     "output_type": "execute_result"
    }
   ],
   "source": [
    "m2"
   ]
  },
  {
   "cell_type": "code",
   "execution_count": 24,
   "id": "d3780db0",
   "metadata": {},
   "outputs": [],
   "source": [
    "\"\"\"\n",
    "Highlight a substructure in a Molecule \n",
    "\"\"\"\n",
    "\n",
    "m = Chem.MolFromSmiles('c1cc(C(=O)O)c(OC(=O)C)cc1')"
   ]
  },
  {
   "cell_type": "code",
   "execution_count": 25,
   "id": "8b6e9d76",
   "metadata": {},
   "outputs": [
    {
     "data": {
      "image/png": "[encoded data removed]",
      "text/plain": [
       "<rdkit.Chem.rdchem.Mol at 0x7f6e3534f5e0>"
      ]
     },
     "execution_count": 25,
     "metadata": {},
     "output_type": "execute_result"
    }
   ],
   "source": [
    "m"
   ]
  },
  {
   "cell_type": "code",
   "execution_count": 30,
   "id": "8850c473",
   "metadata": {},
   "outputs": [
    {
     "name": "stdout",
     "output_type": "stream",
     "text": [
      "((0,), (1,), (2,), (6,), (11,), (12,))\n"
     ]
    }
   ],
   "source": [
    "substructure = Chem.MolFromSmarts('[R]')\n",
    "print(m.GetSubstructMatches(substructure))"
   ]
  },
  {
   "cell_type": "code",
   "execution_count": 31,
   "id": "130182f0",
   "metadata": {},
   "outputs": [
    {
     "data": {
      "image/png": "[encoded data removed]",
      "text/plain": [
       "<rdkit.Chem.rdchem.Mol at 0x7f6e3534f5e0>"
      ]
     },
     "execution_count": 31,
     "metadata": {},
     "output_type": "execute_result"
    }
   ],
   "source": [
    "m"
   ]
  },
  {
   "cell_type": "code",
   "execution_count": 32,
   "id": "58071cd4",
   "metadata": {},
   "outputs": [],
   "source": [
    "\"\"\"\n",
    "Highlight molecular differences \n",
    "\"\"\"\n",
    "\n",
    "from rdkit import Chem\n",
    "from rdkit.Chem import Draw\n",
    "from rdkit.Chem.Draw import IPythonConsole\n",
    "from rdkit.Chem import rdFMCS\n",
    "from rdkit.Chem.Draw import rdDepictor\n",
    "rdDepictor.SetPreferCoordGen(True)\n",
    "IPythonConsole.drawOptions.minFontSize=20\n",
    "\n",
    "mol1 = Chem.MolFromSmiles('FC1=CC=C2C(=C1)C=NN2')\n",
    "mol2 = Chem.MolFromSmiles('CCC1=C2NN=CC2=CC(Cl)=C1')\n",
    "\n"
   ]
  },
  {
   "cell_type": "code",
   "execution_count": 33,
   "id": "34d17c95",
   "metadata": {},
   "outputs": [
    {
     "data": {
      "image/png": "[encoded data removed]",
      "text/plain": [
       "<rdkit.Chem.rdchem.Mol at 0x7f6e353c92e0>"
      ]
     },
     "execution_count": 33,
     "metadata": {},
     "output_type": "execute_result"
    }
   ],
   "source": [
    "mol1"
   ]
  },
  {
   "cell_type": "code",
   "execution_count": 34,
   "id": "d7a3e6ef",
   "metadata": {},
   "outputs": [
    {
     "data": {
      "image/png": "[encoded data removed]",
      "text/plain": [
       "<rdkit.Chem.rdchem.Mol at 0x7f6e353c9340>"
      ]
     },
     "execution_count": 34,
     "metadata": {},
     "output_type": "execute_result"
    }
   ],
   "source": [
    "mol2"
   ]
  },
  {
   "cell_type": "code",
   "execution_count": 35,
   "id": "8b84ddfa",
   "metadata": {},
   "outputs": [
    {
     "data": {
      "image/png": "[encoded data removed]",
      "text/plain": [
       "<IPython.core.display.Image object>"
      ]
     },
     "execution_count": 35,
     "metadata": {},
     "output_type": "execute_result"
    }
   ],
   "source": [
    "Draw.MolsToGridImage([mol1, mol2])"
   ]
  },
  {
   "cell_type": "code",
   "execution_count": null,
   "id": "b39e717e",
   "metadata": {},
   "outputs": [],
   "source": [
    "def view_difference(mol1, mol2):   \n",
    "    \"\"\"\n",
    "    Documentation\n",
    "    \"\"\"\n",
    "    mcs = rdFMCS.FindMCS([mo1, mol2])\n",
    "    "
   ]
  },
  {
   "cell_type": "code",
   "execution_count": 3,
   "id": "e30915e7",
   "metadata": {},
   "outputs": [
    {
     "name": "stderr",
     "output_type": "stream",
     "text": [
      "2022-01-17 14:52:42.326 \n",
      "  \u001b[33m\u001b[1mWarning:\u001b[0m to view this Streamlit app on a browser, run it with the following\n",
      "  command:\n",
      "\n",
      "    streamlit run /home/sang/anaconda3/lib/python3.8/site-packages/ipykernel_launcher.py [ARGUMENTS]\n"
     ]
    }
   ],
   "source": [
    "import streamlit as st\n",
    "import py3Dmol\n",
    "from stmol import showmol\n",
    "st.sidebar.title('Show Proteins')\n",
    "prot_str='1A2C,1BML,1D5M,1D5X,1D5Z,1D6E,1DEE,1E9F,1FC2,1FCC,1G4U,1GZS,1HE1,1HEZ,1HQR,1HXY,1IBX,1JBU,1JWM,1JWS'\n",
    "prot_list=prot_str.split(',')\n",
    "bcolor = st.sidebar.color_picker('Pick A Color', '#00f900')\n",
    "protein=st.sidebar.selectbox('select protein',prot_list)\n",
    "style = st.sidebar.selectbox('style',['line','cross','stick','sphere','cartoon','clicksphere'])\n",
    "spin = st.sidebar.checkbox('Spin', value = False)\n",
    "xyzview = py3Dmol.view(query='pdb:'+protein)\n",
    "xyzview.setStyle({style:{'color':'spectrum'}})\n",
    "xyzview.setBackgroundColor(bcolor)\n",
    "if spin:\n",
    "    xyzview.spin(True)\n",
    "else:\n",
    "    xyzview.spin(False)\n",
    "xyzview.zoomTo()\n",
    "showmol(xyzview,height=500,width=800)"
   ]
  },
  {
   "cell_type": "code",
   "execution_count": 5,
   "id": "192f664f",
   "metadata": {},
   "outputs": [
    {
     "name": "stdout",
     "output_type": "stream",
     "text": [
      "\n",
      "  👋 \u001b[1mWelcome to Streamlit!\u001b[0m\n",
      "\n",
      "  If you're one of our development partners or you're interested in getting\n",
      "  personal technical support or Streamlit updates, please enter your email\n",
      "  address below. Otherwise, you may leave the field blank.\n",
      "\n",
      "  \u001b[34mEmail: \u001b[0m^C\n",
      "2022-01-17 14:56:52.979 \n"
     ]
    }
   ],
   "source": [
    "!streamlit run /home/sang/anaconda3/lib/python3.8/site-packages/ipykernel_launcher.py\n"
   ]
  },
  {
   "cell_type": "code",
   "execution_count": 9,
   "id": "afea5813",
   "metadata": {},
   "outputs": [
    {
     "name": "stderr",
     "output_type": "stream",
     "text": [
      "RDKit WARNING: [14:57:06] Molecule does not have explicit Hs. Consider calling AddHs()\n"
     ]
    },
    {
     "data": {
      "image/png": "[encoded data removed]",
      "text/plain": [
       "<rdkit.Chem.rdchem.Mol at 0x7f2e57f866a0>"
      ]
     },
     "execution_count": 9,
     "metadata": {},
     "output_type": "execute_result"
    }
   ],
   "source": [
    "mol = Chem.MolFromSmiles('C1CCCCC1')\n",
    "AllChem.EmbedMolecule(mol)\n",
    "mol"
   ]
  },
  {
   "cell_type": "code",
   "execution_count": 11,
   "id": "e2436ca6",
   "metadata": {},
   "outputs": [
    {
     "data": {
      "application/3dmoljs_load.v0": "<div id=\"3dmolviewer_1642431448847379\"  style=\"position: relative; width: 400px; height: 400px\">\n        <p id=\"3dmolwarning_1642431448847379\" style=\"background-color:#ffcccc;color:black\">You appear to be running in JupyterLab (or JavaScript failed to load for some other reason).  You need to install the 3dmol extension: <br>\n        <tt>jupyter labextension install jupyterlab_3dmol</tt></p>\n        </div>\n<script>\n\nvar loadScriptAsync = function(uri){\n  return new Promise((resolve, reject) => {\n    var tag = document.createElement('script');\n    tag.src = uri;\n    tag.async = true;\n    tag.onload = () => {\n      resolve();\n    };\n  var firstScriptTag = document.getElementsByTagName('script')[0];\n  firstScriptTag.parentNode.insertBefore(tag, firstScriptTag);\n});\n};\n\nif(typeof $3Dmolpromise === 'undefined') {\n$3Dmolpromise = null;\n  $3Dmolpromise = loadScriptAsync('https://3dmol.org/build/3Dmol.js');\n}\n\nvar viewer_1642431448847379 = null;\nvar warn = document.getElementById(\"3dmolwarning_1642431448847379\");\nif(warn) {\n    warn.parentNode.removeChild(warn);\n}\n$3Dmolpromise.then(function() {\nviewer_1642431448847379 = $3Dmol.createViewer($(\"#3dmolviewer_1642431448847379\"),{backgroundColor:\"white\"});\nviewer_1642431448847379.zoomTo();\n\tviewer_1642431448847379.removeAllModels();\n\tviewer_1642431448847379.addModel(\"\\n     RDKit          3D\\n\\n  6  6  0  0  0  0  0  0  0  0999 V2000\\n    0.9664   -1.0253    0.0158 C   0  0  0  0  0  0  0  0  0  0  0  0\\n    1.3857    0.2378   -0.5781 C   0  0  0  0  0  0  0  0  0  0  0  0\\n    0.4245    1.3502   -0.6143 C   0  0  0  0  0  0  0  0  0  0  0  0\\n   -0.8954    1.0945    0.0353 C   0  0  0  0  0  0  0  0  0  0  0  0\\n   -1.4203   -0.2771   -0.2269 C   0  0  0  0  0  0  0  0  0  0  0  0\\n   -0.4608   -1.3801    0.0062 C   0  0  0  0  0  0  0  0  0  0  0  0\\n  1  2  1  0\\n  2  3  1  0\\n  3  4  1  0\\n  4  5  1  0\\n  5  6  1  0\\n  6  1  1  0\\nM  END\\n\",\"sdf\");\n\tviewer_1642431448847379.setStyle({\"stick\": {}});\n\tviewer_1642431448847379.setBackgroundColor(\"0xeeeeee\");\n\tviewer_1642431448847379.zoomTo();\nviewer_1642431448847379.render();\n});\n</script>",
      "text/html": [
       "<div id=\"3dmolviewer_1642431448847379\"  style=\"position: relative; width: 400px; height: 400px\">\n",
       "        <p id=\"3dmolwarning_1642431448847379\" style=\"background-color:#ffcccc;color:black\">You appear to be running in JupyterLab (or JavaScript failed to load for some other reason).  You need to install the 3dmol extension: <br>\n",
       "        <tt>jupyter labextension install jupyterlab_3dmol</tt></p>\n",
       "        </div>\n",
       "<script>\n",
       "\n",
       "var loadScriptAsync = function(uri){\n",
       "  return new Promise((resolve, reject) => {\n",
       "    var tag = document.createElement('script');\n",
       "    tag.src = uri;\n",
       "    tag.async = true;\n",
       "    tag.onload = () => {\n",
       "      resolve();\n",
       "    };\n",
       "  var firstScriptTag = document.getElementsByTagName('script')[0];\n",
       "  firstScriptTag.parentNode.insertBefore(tag, firstScriptTag);\n",
       "});\n",
       "};\n",
       "\n",
       "if(typeof $3Dmolpromise === 'undefined') {\n",
       "$3Dmolpromise = null;\n",
       "  $3Dmolpromise = loadScriptAsync('https://3dmol.org/build/3Dmol.js');\n",
       "}\n",
       "\n",
       "var viewer_1642431448847379 = null;\n",
       "var warn = document.getElementById(\"3dmolwarning_1642431448847379\");\n",
       "if(warn) {\n",
       "    warn.parentNode.removeChild(warn);\n",
       "}\n",
       "$3Dmolpromise.then(function() {\n",
       "viewer_1642431448847379 = $3Dmol.createViewer($(\"#3dmolviewer_1642431448847379\"),{backgroundColor:\"white\"});\n",
       "viewer_1642431448847379.zoomTo();\n",
       "\tviewer_1642431448847379.removeAllModels();\n",
       "\tviewer_1642431448847379.addModel(\"\\n     RDKit          3D\\n\\n  6  6  0  0  0  0  0  0  0  0999 V2000\\n    0.9664   -1.0253    0.0158 C   0  0  0  0  0  0  0  0  0  0  0  0\\n    1.3857    0.2378   -0.5781 C   0  0  0  0  0  0  0  0  0  0  0  0\\n    0.4245    1.3502   -0.6143 C   0  0  0  0  0  0  0  0  0  0  0  0\\n   -0.8954    1.0945    0.0353 C   0  0  0  0  0  0  0  0  0  0  0  0\\n   -1.4203   -0.2771   -0.2269 C   0  0  0  0  0  0  0  0  0  0  0  0\\n   -0.4608   -1.3801    0.0062 C   0  0  0  0  0  0  0  0  0  0  0  0\\n  1  2  1  0\\n  2  3  1  0\\n  3  4  1  0\\n  4  5  1  0\\n  5  6  1  0\\n  6  1  1  0\\nM  END\\n\",\"sdf\");\n",
       "\tviewer_1642431448847379.setStyle({\"stick\": {}});\n",
       "\tviewer_1642431448847379.setBackgroundColor(\"0xeeeeee\");\n",
       "\tviewer_1642431448847379.zoomTo();\n",
       "viewer_1642431448847379.render();\n",
       "});\n",
       "</script>"
      ]
     },
     "metadata": {},
     "output_type": "display_data"
    },
    {
     "data": {
      "image/png": "[encoded data removed]",
      "text/html": [],
      "text/plain": [
       "<rdkit.Chem.rdchem.Mol at 0x7f2e57f866a0>"
      ]
     },
     "execution_count": 11,
     "metadata": {},
     "output_type": "execute_result"
    }
   ],
   "source": [
    "Chem.Draw.IPythonConsole.ipython_3d = True  # enable py3Dmol inline visualization\n",
    "mol"
   ]
  },
  {
   "cell_type": "code",
   "execution_count": 2,
   "id": "7613a0c5",
   "metadata": {},
   "outputs": [
    {
     "name": "stdout",
     "output_type": "stream",
     "text": [
      "2022.03.1\n",
      "Thu Apr 21 20:45:14 2022\n"
     ]
    }
   ],
   "source": [
    "from rdkit import Chem\n",
    "from rdkit.Chem import rdMolEnumerator\n",
    "from rdkit.Chem import rdTautomerQuery\n",
    "from rdkit.Chem import Draw\n",
    "from rdkit.Chem.Draw import IPythonConsole\n",
    "IPythonConsole.drawOptions.minFontSize = 10\n",
    "Draw.SetComicMode(IPythonConsole.drawOptions)\n",
    "from rdkit.Chem import rdDepictor\n",
    "rdDepictor.SetPreferCoordGen(True)\n",
    "import rdkit\n",
    "print(rdkit.__version__)\n",
    "import time\n",
    "print(time.asctime())"
   ]
  },
  {
   "cell_type": "code",
   "execution_count": null,
   "id": "d41599c0",
   "metadata": {},
   "outputs": [],
   "source": []
  }
 ],
 "metadata": {
  "kernelspec": {
   "display_name": "Python 3 (ipykernel)",
   "language": "python",
   "name": "python3"
  },
  "language_info": {
   "codemirror_mode": {
    "name": "ipython",
    "version": 3
   },
   "file_extension": ".py",
   "mimetype": "text/x-python",
   "name": "python",
   "nbconvert_exporter": "python",
   "pygments_lexer": "ipython3",
   "version": "3.9.7"
  }
 },
 "nbformat": 4,
 "nbformat_minor": 5
}
