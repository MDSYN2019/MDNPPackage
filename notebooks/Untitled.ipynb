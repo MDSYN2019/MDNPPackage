{
 "cells": [
  {
   "cell_type": "code",
   "execution_count": 1,
   "id": "3bf1c445",
   "metadata": {},
   "outputs": [],
   "source": [
    "\"\"\"\n",
    "Last Updated: 16/03/2022\n",
    "------------------------\n",
    "\n",
    "Breaking down the polyply code \n",
    "\n",
    "-> Useful links of decorators: https://python-course.eu/advanced-python/decorators-decoration.php\n",
    "\n",
    "-> \n",
    "\"\"\"\n",
    "\n",
    "from collections import Counter, defaultdict                                                                                                                                                               \n",
    "import numpy as np                                                                                                                                                                                         \n",
    "import networkx as nx                                                                                                                                                                                      \n",
    "import vermouth                                                                                                                                                                                            \n",
    "import vermouth.gmx                                                                                                                                                                                        \n",
    "from vermouth.parser_utils import SectionLineParser                                                                                                                                                        \n",
    "from vermouth.gmx.itp_read import ITPDirector    "
   ]
  },
  {
   "cell_type": "code",
   "execution_count": 4,
   "id": "6924f131",
   "metadata": {},
   "outputs": [],
   "source": [
    "class PolyplyParser(ITPDirector):                                                                                                                                                                          \n",
    "    '''                                                                                                                                                                                                    \n",
    "    Parser for polyply input format.                                                                                                                                                                       \n",
    "    '''                                                                                                                                                                                                    \n",
    "    def __init__(self, force_field):                                                                                                                                                                       \n",
    "        super().__init__(force_field)                                                                                                                                                                      \n",
    "        self.citations = set()     \n",
    "        \n",
    "    @SectionLineParser.section_parser('moleculetype', 'citation')                                                                                                                                          \n",
    "    def _parse_citation(self, line, lineno=0):                                                                                                                                                             \n",
    "        cite_keys = line.split()                                                                                                                                                                           \n",
    "        self.current_block.citations.update(cite_keys)        "
   ]
  },
  {
   "cell_type": "code",
   "execution_count": 3,
   "id": "08a9c3af",
   "metadata": {},
   "outputs": [
    {
     "data": {
      "text/plain": [
       "vermouth.gmx.itp_read.ITPDirector"
      ]
     },
     "execution_count": 3,
     "metadata": {},
     "output_type": "execute_result"
    }
   ],
   "source": [
    "ITPDirector"
   ]
  },
  {
   "cell_type": "code",
   "execution_count": null,
   "id": "d34363da",
   "metadata": {},
   "outputs": [],
   "source": []
  }
 ],
 "metadata": {
  "kernelspec": {
   "display_name": "Python 3",
   "language": "python",
   "name": "python3"
  },
  "language_info": {
   "codemirror_mode": {
    "name": "ipython",
    "version": 3
   },
   "file_extension": ".py",
   "mimetype": "text/x-python",
   "name": "python",
   "nbconvert_exporter": "python",
   "pygments_lexer": "ipython3",
   "version": "3.8.8"
  }
 },
 "nbformat": 4,
 "nbformat_minor": 5
}
