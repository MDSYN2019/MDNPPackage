{
 "cells": [
  {
   "cell_type": "code",
   "execution_count": 24,
   "metadata": {},
   "outputs": [
    {
     "data": {
      "text/plain": [
       "\"\\n\\n------------------------\\nLast Updated: 18/01/2021\\n------------------------\\n\\n------------------------------------\\nTHIS NOTEBOOK NEEDS TO BE ORGANIZED \\n-----------------------------------\\n\\n\\nThe purpose of this notebook is to get a idea of how the translation of the smiles to \\nthe coarse-grained beads of Martini can work. \\n\\n-> https://cedric.bouysset.net/blog/2020/08/07/rdkit-interoperability\\n\\n-> https://stackoverflow.com/questions/47319238/python-plot-3d-vectors\\n \\n-> https://en.wikipedia.org/wiki/XYZ_file_format - information on the xyz coordination file \\n\\n-> https://mattermodeling.stackexchange.com/questions/3961/recalculate-atom-positions-to-account-for-periodic-boundary-conditions/3970#3970  - Atomsk\\n\\n-> https://stackoverflow.com/questions/49064611/how-to-find-different-groups-in-networkx-using-python - grouping networks \\n\\n-> https://www.mdanalysis.org/2020/08/29/gsoc-report-cbouy/\\n\\n-> http://cgmartini.nl/index.php/component/kunena/8-martini-philosophy/5776-mapping-of-benzene-ring\\n\\n-> https://docs.mdanalysis.org/1.0.0/documentation_pages/lib/NeighborSearch.html\\n\\n-> https://math.stackexchange.com/questions/180418/calculate-rotation-matrix-to-align-vector-a-to-vector-b-in-3d\\n\\n-> https://sphinxcontrib-napoleon.readthedocs.io/en/latest/example_numpy.html\\n\\n-> https://nanotube.msu.edu/fullerene/fullerene-isomers.html\\n\\n-> https://towardsdatascience.com/molecular-visualization-in-streamlit-using-rdkit-and-py3dmol-part-2-657d28152753\\n\\n-> https://plotly.com/python/3d-scatter-plots/\\n\\nQuote by Riccardo: \\n------------------\\n\\nIn the open beta of Martini 3, benzene is indeed mapped with three TC4 beads, that that's again a 2-to-1 mapping. \\nThe bond length is changed to 0.29 nm in 3.0 because this allows to represent more closely the volume of a benzene \\nmolecule, taking into account also the smaller size of T-beads as compared to S -beads\\n\\n\\n---------------------------\\nHow the modules are divided\\n---------------------------\\n\\n-> We want to be given free reign into making NPs of multiple types. The primary types we are concerned with at the \\n   moment is \\n\\n   1. Functionalized AuNP type ones.  \\n   2. Carbon Nanotube like ones. \\n   3. Large spherical buckyball type structures - Like C70. \\n\\n-> TODO \\n    \\n   - Am not able to get the box dimenisons correct for the xyz file...\\n   - Need to write Striped/Janus functionality to the NP maker  \\n\\n\\nTrying to translate the atomic C70 structure into the coarse-grained c70 structure \\n\\nTODO - isolate per 2 beads - There is a two to one mapping, and find the center of mass \\n       for each of these beads. Then construct the itp file for the bead. \\n\\n\""
      ]
     },
     "execution_count": 24,
     "metadata": {},
     "output_type": "execute_result"
    }
   ],
   "source": [
    "\"\"\"\n",
    "\n",
    "------------------------\n",
    "Last Updated: 18/01/2021\n",
    "------------------------\n",
    "\n",
    "------------------------------------\n",
    "THIS NOTEBOOK NEEDS TO BE ORGANIZED \n",
    "-----------------------------------\n",
    "\n",
    "\n",
    "The purpose of this notebook is to get a idea of how the translation of the smiles to \n",
    "the coarse-grained beads of Martini can work. \n",
    "\n",
    "-> https://cedric.bouysset.net/blog/2020/08/07/rdkit-interoperability\n",
    "\n",
    "-> https://stackoverflow.com/questions/47319238/python-plot-3d-vectors\n",
    " \n",
    "-> https://en.wikipedia.org/wiki/XYZ_file_format - information on the xyz coordination file \n",
    "\n",
    "-> https://mattermodeling.stackexchange.com/questions/3961/recalculate-atom-positions-to-account-for-periodic-boundary-conditions/3970#3970  - Atomsk\n",
    "\n",
    "-> https://stackoverflow.com/questions/49064611/how-to-find-different-groups-in-networkx-using-python - grouping networks \n",
    "\n",
    "-> https://www.mdanalysis.org/2020/08/29/gsoc-report-cbouy/\n",
    "\n",
    "-> http://cgmartini.nl/index.php/component/kunena/8-martini-philosophy/5776-mapping-of-benzene-ring\n",
    "\n",
    "-> https://docs.mdanalysis.org/1.0.0/documentation_pages/lib/NeighborSearch.html\n",
    "\n",
    "-> https://math.stackexchange.com/questions/180418/calculate-rotation-matrix-to-align-vector-a-to-vector-b-in-3d\n",
    "\n",
    "-> https://sphinxcontrib-napoleon.readthedocs.io/en/latest/example_numpy.html\n",
    "\n",
    "-> https://nanotube.msu.edu/fullerene/fullerene-isomers.html\n",
    "\n",
    "-> https://towardsdatascience.com/molecular-visualization-in-streamlit-using-rdkit-and-py3dmol-part-2-657d28152753\n",
    "\n",
    "-> https://plotly.com/python/3d-scatter-plots/\n",
    "\n",
    "Quote by Riccardo: \n",
    "------------------\n",
    "\n",
    "In the open beta of Martini 3, benzene is indeed mapped with three TC4 beads, that that's again a 2-to-1 mapping. \n",
    "The bond length is changed to 0.29 nm in 3.0 because this allows to represent more closely the volume of a benzene \n",
    "molecule, taking into account also the smaller size of T-beads as compared to S -beads\n",
    "\n",
    "\n",
    "---------------------------\n",
    "How the modules are divided\n",
    "---------------------------\n",
    "\n",
    "-> We want to be given free reign into making NPs of multiple types. The primary types we are concerned with at the \n",
    "   moment is \n",
    "\n",
    "   1. Functionalized AuNP type ones.  \n",
    "   2. Carbon Nanotube like ones. \n",
    "   3. Large spherical buckyball type structures - Like C70. \n",
    "\n",
    "-> TODO \n",
    "    \n",
    "   - Am not able to get the box dimenisons correct for the xyz file...\n",
    "   - Need to write Striped/Janus functionality to the NP maker  \n",
    "\n",
    "\n",
    "Trying to translate the atomic C70 structure into the coarse-grained c70 structure \n",
    "\n",
    "TODO - isolate per 2 beads - There is a two to one mapping, and find the center of mass \n",
    "       for each of these beads. Then construct the itp file for the bead. \n",
    "\n",
    "\"\"\""
   ]
  },
  {
   "cell_type": "code",
   "execution_count": 25,
   "metadata": {},
   "outputs": [],
   "source": [
    "# Boilerplate libraries                                                                                                                                                                                    \n",
    "import sys                                                                                                                                                                                                 \n",
    "import re                                                                                                                                                                                                  \n",
    "import math \n",
    "\n",
    "# Rdkit libraries \n",
    "from rdkit.Chem.Draw import IPythonConsole\n",
    "from rdkit.Chem import Draw\n",
    "from rdkit import Chem\n",
    "from rdkit.Chem import AllChem                                                                                                                                                                             \n",
    "from rdkit.Chem import ChemicalFeatures                                                                                                                                                                    \n",
    "from rdkit.Chem import rdchem                                                                                                                                                                              \n",
    "from rdkit.Chem import rdMolDescriptors                                                                                                                                                                    \n",
    "from rdkit import RDConfig  \n",
    "\n",
    "# Alignment libraries in MDAnalysis\n",
    "import MDAnalysis as mda\n",
    "from MDAnalysis.analysis import align\n",
    "from MDAnalysis.analysis.rms import rmsd\n",
    "from MDAnalysis.tests.datafiles import PSF, DCD, PDB_small, PDB, XTC\n",
    "\n",
    "# Scipy libraries\n",
    "import scipy                                                                                                                                                                                                                                                                                                                                                                                                          \n",
    "from scipy.sparse import csr_matrix                                                                                                                                                                        \n",
    "from scipy.sparse.csgraph import floyd_warshall                                                                                                                                                            \n",
    "from scipy.spatial import ConvexHull, convex_hull_plot_2d \n",
    "from scipy.linalg import solve\n",
    "from scipy.spatial import distance\n",
    "\n",
    "# Matplotlib libraries \n",
    "import matplotlib.pyplot as plt \n",
    "from mpl_toolkits.mplot3d import axes3d    \n",
    "from mpl_toolkits.mplot3d import Axes3D\n",
    "import plotly.graph_objs as go\n",
    "\n",
    "# Pandas \n",
    "import pandas as pd\n",
    "import numpy as np\n",
    "import plotly.graph_objs as go\n",
    "import math \n",
    "from operator import itemgetter\n",
    "import itertools                                                                                                                                                                                           \n",
    "import requests                                                                                                                                                                                            \n",
    "import collections                                                                                                                                                                                         \n",
    "import random               \n",
    "        \n",
    "import plotly.express as px\n",
    "\n",
    "pd.set_option('display.max_colwidth', None)\n",
    "\n",
    "IPythonConsole.ipython_useSVG=True  #< set this to False if you want PNGs instead of SVGs"
   ]
  },
  {
   "cell_type": "code",
   "execution_count": 18,
   "metadata": {},
   "outputs": [],
   "source": [
    "\"\"\"\n",
    "RDKIT functions\n",
    "\"\"\"\n",
    "def GetRingSystems(mol, includeSpiro=False):\n",
    "    \"\"\"\n",
    "    What is this function doing?\n",
    "    \"\"\"\n",
    "    ri = mol.GetRingInfo() # Sets out the indices of the rings structures within the mol file \n",
    "    systems = []\n",
    "    for ring in ri.AtomRings():\n",
    "        ringAts = set(ring)\n",
    "        nSystems = []\n",
    "        for system in systems:\n",
    "            nInCommon = len(ringAts.intersection(system))\n",
    "            if nInCommon and (includeSpiro or nInCommon>1):\n",
    "                ringAts = ringAts.union(system)\n",
    "            else:\n",
    "                nSystems.append(system)\n",
    "        nSystems.append(ringAts)\n",
    "        systems = nSystems\n",
    "    return systems\n",
    "#mol = Chem.MolFromSmiles('CN1C(=O)CN=C(C2=C1C=CC(=C2)Cl)C3=CC=CC=C3')\n",
    "\n",
    "\"\"\"\n",
    "Plotting functions \n",
    "\"\"\"\n",
    "\n",
    "def mol_with_atom_index(mol):\n",
    "    for atom in mol.GetAtoms():\n",
    "        atom.SetAtomMapNum(atom.GetIdx())\n",
    "    return mol\n",
    "\n",
    "def vector_plot(tvects,is_vect=True,orig=[0,0,0]):\n",
    "    \"\"\"Plot vectors using plotly\"\"\"\n",
    "    if is_vect:\n",
    "        if not hasattr(orig[0],\"__iter__\"):\n",
    "            coords = [[orig,np.sum([orig,v],axis=0)] for v in tvects]\n",
    "        else:\n",
    "            coords = [[o,np.sum([o,v],axis=0)] for o,v in zip(orig,tvects)]\n",
    "    else:\n",
    "        coords = tvects\n",
    "\n",
    "    data = []\n",
    "    for i,c in enumerate(coords):\n",
    "        X1, Y1, Z1 = zip(c[0])\n",
    "        X2, Y2, Z2 = zip(c[1])\n",
    "        vector = go.Scatter3d(x = [X1[0],X2[0]],\n",
    "                              y = [Y1[0],Y2[0]],\n",
    "                              z = [Z1[0],Z2[0]],\n",
    "                              marker = dict(size = [0,5],\n",
    "                                            color = ['blue'],\n",
    "                                            line=dict(width=5,\n",
    "                                                      color='DarkSlateGrey')),\n",
    "                              name = 'Vector'+str(i+1))\n",
    "        data.append(vector)\n",
    "\n",
    "    layout = go.Layout(\n",
    "             margin = dict(l = 4,\n",
    "                           r = 4,\n",
    "                           b = 4,\n",
    "                           t = 4)\n",
    "                  )\n",
    "    fig = go.Figure(data=data,layout=layout)\n",
    "    fig.show()\n",
    "    \n",
    "\n",
    "def fibonacci_sphere(samples=1):\n",
    "    \"\"\"\n",
    "    Return a Fibanocci sphere with N number of points on the surface. \n",
    "    This will act as the template for the nanoparticle core. \n",
    "    \"\"\"\n",
    "    points = []\n",
    "    phi = math.pi * (3. - math.sqrt(5.))  # golden angle in radians\n",
    "\n",
    "    for i in range(samples):\n",
    "        y = 1 - (i / float(samples - 1)) * 2  # y goes from 1 to -1\n",
    "        radius = math.sqrt(1 - y * y)  # radius at y\n",
    "\n",
    "        theta = phi * i  # golden angle increment\n",
    "\n",
    "        x = math.cos(theta) * radius\n",
    "        z = math.sin(theta) * radius\n",
    "\n",
    "        points.append((x, y, z))\n",
    "\n",
    "    return points\n",
    "\n",
    "def rotation_matrix_from_vectors(vec1, vec2):\n",
    "    \"\"\" \n",
    "    Find the rotation matrix that aligns vec1 to vec2\n",
    "    :param vec1: A 3d \"source\" vector\n",
    "    :param vec2: A 3d \"destination\" vector\n",
    "    :return mat: A transform matrix (3x3) which when applied to vec1, aligns it with vec2.\n",
    "    \"\"\"\n",
    "    a, b = (vec1 / np.linalg.norm(vec1)).reshape(3), (vec2 / np.linalg.norm(vec2)).reshape(3)\n",
    "    v = np.cross(a, b)\n",
    "    c = np.dot(a, b)\n",
    "    s = np.linalg.norm(v)\n",
    "    kmat = np.array([[0, -v[2], v[1]], [v[2], 0, -v[0]], [-v[1], v[0], 0]])\n",
    "    rotation_matrix = np.eye(3) + kmat + kmat.dot(kmat) * ((1 - c) / (s ** 2))\n",
    "    return rotation_matrix\n",
    "\n",
    "def GenerateCore(Radius, N):\n",
    "    \"\"\"\n",
    "    Description \n",
    "    -----------\n",
    "    \n",
    "    \n",
    "    \n",
    "    Parameters\n",
    "    ----------\n",
    "    Radius: \n",
    "        path and file where the pdb file is.\n",
    "    N: \n",
    "        Placeholder \n",
    "        \n",
    "    Creates a Fibanocci sphere that represents the NP core \n",
    "    and Allocates the radius. Using the radius, the core is scaled down/up \n",
    "    to the size that one wishes to have. \n",
    "    \n",
    "    \"\"\"\n",
    "    Sphere = fibonacci_sphere(N) # Create the fibanocci sphere representing the NP core \n",
    "    XSphere, YSphere, ZSphere  = [], [], []\n",
    "    for entry in Sphere:\n",
    "        XSphere.append(entry[0])\n",
    "        YSphere.append(entry[1])\n",
    "        ZSphere.append(entry[2])\n",
    "    # Append as 2d list\n",
    "    SphereList = [] \n",
    "    for index in range(0, len(XSphere)):\n",
    "        SphereList.append([XSphere[index], YSphere[index], ZSphere[index]])\n",
    "    # Take the radius value, and then multiply the unit vector in each \n",
    "    # Direction by that radius value to increase the total volume of the \n",
    "    # NP core.\n",
    "    for index in range(0, len(SphereList) -1):\n",
    "        SphereList[index][0] = SphereList[index][0] * Radius\n",
    "        SphereList[index][1] = SphereList[index][1] * Radius\n",
    "        SphereList[index][2] = SphereList[index][2] * Radius\n",
    "    return SphereList\n",
    "\n",
    "def AttachLigands(LigandSmilesString, FirstAtomList, LastAtomList, Core):\n",
    "    \"\"\"\n",
    "    Description\n",
    "    -----------\n",
    "    \n",
    "    \n",
    "    \n",
    "    Parameters\n",
    "    ----------\n",
    "    LigandSmilesString: \n",
    "        path and file where the pdb file is.\n",
    "    FirstAtomList:\n",
    "        Placeholder\n",
    "    LastAtomList: \n",
    "        Placeholder\n",
    "    Core:\n",
    "        Placeholder \n",
    "    \"\"\"\n",
    "    # Through MDAnalysis \n",
    "    u = mda.Universe.from_smiles(LigandSmilesString)\n",
    "    Molecule = u.select_atoms('all')\n",
    "    # Select Atom attached to the core \n",
    "    FirstAtom = u.select_atoms('name {}'.format(FirstAtomList[0])) # Pick out the atoms attached\n",
    "    # Select end atom on the ligand \n",
    "    LastAtom = u.select_atoms('name {}'.format(LastAtomList[0])) # Pick out the last atom at the tip of the ligand \n",
    "    TransformationList, NameList = [], []\n",
    "    # Find the vector representing the direction from the sulfur to the tip of the ligand. \n",
    "    LigandAlignmentVector = (FirstAtom.positions- LastAtom.positions)[0]  \n",
    " \n",
    "    for i,j in enumerate(Molecule.positions):\n",
    "        vector = (j - FirstAtom.positions)[0]\n",
    "        vector[0] = LigandAlignmentVector[0] - vector[0]\n",
    "        vector[1] = LigandAlignmentVector[1] - vector[1]    \n",
    "        vector[2] = LigandAlignmentVector[2] - vector[2]\n",
    "        if vector[0] == -math.inf:\n",
    "            pass\n",
    "        if vector[0] == 0.0:\n",
    "            pass\n",
    "        else:\n",
    "            TransformationList.append([vector, Molecule.atoms[i].type])        \n",
    "\n",
    "    LigandList = [] \n",
    "    Sphere = []\n",
    "    Xplot, Yplot, Zplot = [], [], []\n",
    "    XplotSphere, YplotSphere, ZplotSphere = [], [], []\n",
    "\n",
    "    # Sulfur/ligand vector \n",
    "    unitVector = np.linalg.norm(LigandAlignmentVector)\n",
    "    vec1 = LigandAlignmentVector.tolist()\n",
    "    for index in range(0, len(SphereList)):\n",
    "        vec2 = SphereList[index] \n",
    "        # Find the rotation matrix that aligns ligand vector representation to the NP surface vector point representation \n",
    "        TransformationVector = rotation_matrix_from_vectors(vec1, vec2)  \n",
    "        vec1_rot = TransformationVector.dot(vec1) # Rotate the vector to match the surface point on the sphere \n",
    "        # TODO \n",
    "        unitVectorabs = np.linalg.norm(LigandAlignmentVector)  \n",
    "        vecMultiplier = vec1_rot/unitVectorabs * 3 # Controls how far we want the ligands to be placed away from\n",
    "                                               # the NP surface\n",
    "        # TODO\n",
    "        Sphere.append(vec1_rot.tolist())\n",
    "        #LigandList.append(vec1_rot.tolist())\n",
    "        # Get the factors to translate the vector \n",
    "        for trans in TransformationList:\n",
    "            #if vec1_rot[0] > 0 and vec1_rot[1] > 0 and vec1_rot[2] > 0:   # (+ , +, +)\n",
    "            LigandAtomcoordinate = TransformationVector.dot(trans[0])\n",
    "            LigandAtomcoordinate[0] = LigandAtomcoordinate[0] + vecMultiplier[0]\n",
    "            LigandAtomcoordinate[1] = LigandAtomcoordinate[1] + vecMultiplier[1]\n",
    "            LigandAtomcoordinate[2] = LigandAtomcoordinate[2] + vecMultiplier[2]\n",
    "            LigandList.append(LigandAtomcoordinate.tolist()) # Append coordinates of the \n",
    "            NameList.append(trans[1]) # Append the names of the atoms \n",
    "\n",
    "    # Append the coordinates of the ligands \n",
    "    for index, entry in enumerate(LigandList):\n",
    "        #ax.plot3D(entry[0], entry[1], entry[2], 'red')\n",
    "        Xplot.append(entry[0])\n",
    "        Yplot.append(entry[1])\n",
    "        Zplot.append(entry[2])\n",
    "    # Add in the ligand index \n",
    "    LigandConstituent = [atom.name for atom in Molecule]\n",
    "    Ligands = []\n",
    "    for index in range(0, len(Sphere)): \n",
    "        Ligands = Ligands + LigandConstituent\n",
    "    \n",
    "    SphereName = [] \n",
    "    # Append the coordinates of the sphere \n",
    "    for entry in Sphere:\n",
    "        #ax.plot3D(entry[0], entry[1], entry[2], 'red')\n",
    "        XplotSphere.append(entry[0])\n",
    "        YplotSphere.append(entry[1])\n",
    "        ZplotSphere.append(entry[2])\n",
    "        SphereName.append('Au')\n",
    "    \n",
    "    dfLigand = pd.DataFrame(list(zip(Xplot, Yplot, Zplot, Ligands)), columns =['X', 'Y', 'Z', 'NAME'])\n",
    "    dfLigand['name'] = 'Ligand'\n",
    "    dfCore = pd.DataFrame(list(zip(XplotSphere, YplotSphere, ZplotSphere, SphereName)), columns =['X', 'Y', 'Z', 'NAME'])\n",
    "    dfCore['name'] = 'Core'\n",
    "    Total = dfLigand.append(dfCore)\n",
    "    return Total\n",
    "\n",
    "def ComputeC70Distances(coordinate):\n",
    "    \"\"\"    \n",
    "    Parameters\n",
    "    ----------\n",
    "    coordinate: \n",
    "        path and file where the pdb file is.\n",
    "    \n",
    "    \"\"\"\n",
    "    u = mda.Universe(coordinate)\n",
    "    \n",
    "    CorePositions, CoreIndex = [], []\n",
    "    C70CGBeadPositions = []\n",
    "    DistanceDict = {}\n",
    "    CorePositions = [[index, atoms.position] for index, atoms in enumerate(u.atoms)]\n",
    "    \n",
    "    for index, atoms in enumerate(u.atoms): # iterate through items \n",
    "        DistanceDict[index] = []\n",
    "        # Get the distance between atoms in the core positions  \n",
    "        for items in CorePositions:\n",
    "            # Find the distance between the index atoms in the index, atom.. \n",
    "            # and the core \n",
    "            dist = distance.euclidean(items[1], atoms.position)\n",
    "            Entry = [index, items[0], dist]\n",
    "            # Sort entry by dist \n",
    "            DistanceDict[index].append(Entry)\n",
    "    ClosestAtomsDistance = [] # List to store the atoms with the closest distances\n",
    "    # Sort each entry by distance \n",
    "    \n",
    "    for key in DistanceDict.keys():\n",
    "        DistanceDict[key] = sorted(DistanceDict[key], key=itemgetter(2)) # sort entries by closest distance \n",
    "        DistanceDict[key][1][0:2] = sorted(DistanceDict[key][1][0:2]) # \n",
    "        ClosestAtomsDistance.append(DistanceDict[key][1])\n",
    "    # Remove duplicate entries \n",
    "    UniqueSetsCoordinates = [list(x) for x in set(tuple(x) for x in ClosestAtomsDistance)]       \n",
    "    # Take the indices in the unique data and compute the averge coordinates\n",
    "    \n",
    "    for entry in UniqueSetsCoordinates:\n",
    "        data = [list(CorePositions[entry[0]][1]), list(CorePositions[entry[1]][1])]\n",
    "        averaged = np.average(data, axis=0)\n",
    "        C70CGBeadPositions.append(averaged)\n",
    "        \n",
    "    return C70CGBeadPositions\n",
    "\n",
    "\n",
    "def GenerateXYZ(NPDataframe):\n",
    "    \"\"\"\n",
    "    Parameters\n",
    "    ----------\n",
    "    Generate xyz structure coordinates from \n",
    "    the made NP. \n",
    "    \"\"\"\n",
    "    with open(\"file.xyz\", 'w') as xyz_file:\n",
    "        xyz_file.write(\"%d\\n%s\\n\" % (len(NPDataframe), 'NP'))\n",
    "        for index, row in NPDataframe.iterrows():\n",
    "            xyz_file.write(\"{:4} {:11.6f} {:11.6f} {:11.6f}\\n\".format(\n",
    "                row['NAME'], row['X'], row['Y'], row['Z']))\n",
    "    \n",
    "def mol_with_atom_index(mol):\n",
    "    \"\"\"\n",
    "    \n",
    "    \"\"\"\n",
    "    for atom in mol.GetAtoms():\n",
    "        atom.SetAtomMapNum(atom.GetIdx())\n",
    "    return mol\n",
    "\n"
   ]
  },
  {
   "cell_type": "code",
   "execution_count": 8,
   "metadata": {},
   "outputs": [
    {
     "data": {
      "image/png": "[encoded data removed]",
      "image/svg+xml": [
       "<?xml version='1.0' encoding='iso-8859-1'?>\n",
       "<svg version='1.1' baseProfile='full'\n",
       "              xmlns='http://www.w3.org/2000/svg'\n",
       "                      xmlns:rdkit='http://www.rdkit.org/xml'\n",
       "                      xmlns:xlink='http://www.w3.org/1999/xlink'\n",
       "                  xml:space='preserve'\n",
       "width='450px' height='150px' viewBox='0 0 450 150'>\n",
       "<!-- END OF HEADER -->\n",
       "<rect style='opacity:1.0;fill:#FFFFFF;stroke:none' width='450.0' height='150.0' x='0.0' y='0.0'> </rect>\n",
       "<path class='bond-0 atom-0 atom-1' d='M 274.6,143.2 L 226.2,90.7' style='fill:none;fill-rule:evenodd;stroke:#000000;stroke-width:2.0px;stroke-linecap:butt;stroke-linejoin:miter;stroke-opacity:1' />\n",
       "<path class='bond-0 atom-0 atom-1' d='M 277.9,125.6 L 244.0,88.9' style='fill:none;fill-rule:evenodd;stroke:#000000;stroke-width:2.0px;stroke-linecap:butt;stroke-linejoin:miter;stroke-opacity:1' />\n",
       "<path class='bond-7 atom-5 atom-0' d='M 344.3,127.5 L 274.6,143.2' style='fill:none;fill-rule:evenodd;stroke:#000000;stroke-width:2.0px;stroke-linecap:butt;stroke-linejoin:miter;stroke-opacity:1' />\n",
       "<path class='bond-1 atom-1 atom-2' d='M 226.2,90.7 L 247.4,22.5' style='fill:none;fill-rule:evenodd;stroke:#000000;stroke-width:2.0px;stroke-linecap:butt;stroke-linejoin:miter;stroke-opacity:1' />\n",
       "<path class='bond-5 atom-1 atom-6' d='M 226.2,90.7 L 156.6,106.4' style='fill:none;fill-rule:evenodd;stroke:#000000;stroke-width:2.0px;stroke-linecap:butt;stroke-linejoin:miter;stroke-opacity:1' />\n",
       "<path class='bond-2 atom-2 atom-3' d='M 247.4,22.5 L 317.1,6.8' style='fill:none;fill-rule:evenodd;stroke:#000000;stroke-width:2.0px;stroke-linecap:butt;stroke-linejoin:miter;stroke-opacity:1' />\n",
       "<path class='bond-2 atom-2 atom-3' d='M 261.0,34.1 L 309.8,23.1' style='fill:none;fill-rule:evenodd;stroke:#000000;stroke-width:2.0px;stroke-linecap:butt;stroke-linejoin:miter;stroke-opacity:1' />\n",
       "<path class='bond-3 atom-3 atom-4' d='M 317.1,6.8 L 365.5,59.3' style='fill:none;fill-rule:evenodd;stroke:#000000;stroke-width:2.0px;stroke-linecap:butt;stroke-linejoin:miter;stroke-opacity:1' />\n",
       "<path class='bond-4 atom-4 atom-5' d='M 365.5,59.3 L 344.3,127.5' style='fill:none;fill-rule:evenodd;stroke:#000000;stroke-width:2.0px;stroke-linecap:butt;stroke-linejoin:miter;stroke-opacity:1' />\n",
       "<path class='bond-4 atom-4 atom-5' d='M 348.7,65.3 L 333.9,113.0' style='fill:none;fill-rule:evenodd;stroke:#000000;stroke-width:2.0px;stroke-linecap:butt;stroke-linejoin:miter;stroke-opacity:1' />\n",
       "<path class='bond-6 atom-6 atom-7' d='M 156.6,106.4 L 136.5,84.7' style='fill:none;fill-rule:evenodd;stroke:#000000;stroke-width:2.0px;stroke-linecap:butt;stroke-linejoin:miter;stroke-opacity:1' />\n",
       "<path class='bond-6 atom-6 atom-7' d='M 136.5,84.7 L 116.4,62.9' style='fill:none;fill-rule:evenodd;stroke:#CCCC00;stroke-width:2.0px;stroke-linecap:butt;stroke-linejoin:miter;stroke-opacity:1' />\n",
       "<path  class='atom-7' d='M 84.5 43.8\n",
       "L 87.2 43.8\n",
       "L 87.2 52.4\n",
       "L 97.5 52.4\n",
       "L 97.5 43.8\n",
       "L 100.3 43.8\n",
       "L 100.3 64.1\n",
       "L 97.5 64.1\n",
       "L 97.5 54.7\n",
       "L 87.2 54.7\n",
       "L 87.2 64.1\n",
       "L 84.5 64.1\n",
       "L 84.5 43.8\n",
       "' fill='#CCCC00'/>\n",
       "<path  class='atom-7' d='M 102.4 60.9\n",
       "Q 102.6 61.0, 103.6 61.4\n",
       "Q 104.5 61.8, 105.5 62.1\n",
       "Q 106.6 62.3, 107.6 62.3\n",
       "Q 109.5 62.3, 110.7 61.4\n",
       "Q 111.8 60.4, 111.8 58.8\n",
       "Q 111.8 57.7, 111.2 57.0\n",
       "Q 110.7 56.3, 109.8 55.9\n",
       "Q 108.9 55.6, 107.5 55.1\n",
       "Q 105.7 54.6, 104.6 54.1\n",
       "Q 103.6 53.6, 102.8 52.5\n",
       "Q 102.1 51.4, 102.1 49.6\n",
       "Q 102.1 47.0, 103.8 45.5\n",
       "Q 105.5 43.9, 108.9 43.9\n",
       "Q 111.3 43.9, 113.9 45.0\n",
       "L 113.3 47.2\n",
       "Q 110.9 46.2, 109.0 46.2\n",
       "Q 107.1 46.2, 106.0 47.0\n",
       "Q 104.9 47.8, 104.9 49.2\n",
       "Q 104.9 50.3, 105.5 51.0\n",
       "Q 106.0 51.6, 106.8 52.0\n",
       "Q 107.7 52.4, 109.0 52.8\n",
       "Q 110.9 53.4, 111.9 53.9\n",
       "Q 113.0 54.5, 113.8 55.7\n",
       "Q 114.6 56.8, 114.6 58.8\n",
       "Q 114.6 61.6, 112.7 63.1\n",
       "Q 110.9 64.6, 107.7 64.6\n",
       "Q 105.9 64.6, 104.6 64.2\n",
       "Q 103.2 63.8, 101.6 63.2\n",
       "L 102.4 60.9\n",
       "' fill='#CCCC00'/>\n",
       "</svg>\n"
      ],
      "text/html": [
       "<?xml version='1.0' encoding='iso-8859-1'?>\n",
       "<svg version='1.1' baseProfile='full'\n",
       "              xmlns='http://www.w3.org/2000/svg'\n",
       "                      xmlns:rdkit='http://www.rdkit.org/xml'\n",
       "                      xmlns:xlink='http://www.w3.org/1999/xlink'\n",
       "                  xml:space='preserve'\n",
       "width='450px' height='150px' viewBox='0 0 450 150'>\n",
       "<!-- END OF HEADER -->\n",
       "<rect style='opacity:1.0;fill:#FFFFFF;stroke:none' width='450.0' height='150.0' x='0.0' y='0.0'> </rect>\n",
       "<path class='bond-0 atom-0 atom-1' d='M 274.6,143.2 L 226.2,90.7' style='fill:none;fill-rule:evenodd;stroke:#000000;stroke-width:2.0px;stroke-linecap:butt;stroke-linejoin:miter;stroke-opacity:1' />\n",
       "<path class='bond-0 atom-0 atom-1' d='M 277.9,125.6 L 244.0,88.9' style='fill:none;fill-rule:evenodd;stroke:#000000;stroke-width:2.0px;stroke-linecap:butt;stroke-linejoin:miter;stroke-opacity:1' />\n",
       "<path class='bond-7 atom-5 atom-0' d='M 344.3,127.5 L 274.6,143.2' style='fill:none;fill-rule:evenodd;stroke:#000000;stroke-width:2.0px;stroke-linecap:butt;stroke-linejoin:miter;stroke-opacity:1' />\n",
       "<path class='bond-1 atom-1 atom-2' d='M 226.2,90.7 L 247.4,22.5' style='fill:none;fill-rule:evenodd;stroke:#000000;stroke-width:2.0px;stroke-linecap:butt;stroke-linejoin:miter;stroke-opacity:1' />\n",
       "<path class='bond-5 atom-1 atom-6' d='M 226.2,90.7 L 156.6,106.4' style='fill:none;fill-rule:evenodd;stroke:#000000;stroke-width:2.0px;stroke-linecap:butt;stroke-linejoin:miter;stroke-opacity:1' />\n",
       "<path class='bond-2 atom-2 atom-3' d='M 247.4,22.5 L 317.1,6.8' style='fill:none;fill-rule:evenodd;stroke:#000000;stroke-width:2.0px;stroke-linecap:butt;stroke-linejoin:miter;stroke-opacity:1' />\n",
       "<path class='bond-2 atom-2 atom-3' d='M 261.0,34.1 L 309.8,23.1' style='fill:none;fill-rule:evenodd;stroke:#000000;stroke-width:2.0px;stroke-linecap:butt;stroke-linejoin:miter;stroke-opacity:1' />\n",
       "<path class='bond-3 atom-3 atom-4' d='M 317.1,6.8 L 365.5,59.3' style='fill:none;fill-rule:evenodd;stroke:#000000;stroke-width:2.0px;stroke-linecap:butt;stroke-linejoin:miter;stroke-opacity:1' />\n",
       "<path class='bond-4 atom-4 atom-5' d='M 365.5,59.3 L 344.3,127.5' style='fill:none;fill-rule:evenodd;stroke:#000000;stroke-width:2.0px;stroke-linecap:butt;stroke-linejoin:miter;stroke-opacity:1' />\n",
       "<path class='bond-4 atom-4 atom-5' d='M 348.7,65.3 L 333.9,113.0' style='fill:none;fill-rule:evenodd;stroke:#000000;stroke-width:2.0px;stroke-linecap:butt;stroke-linejoin:miter;stroke-opacity:1' />\n",
       "<path class='bond-6 atom-6 atom-7' d='M 156.6,106.4 L 136.5,84.7' style='fill:none;fill-rule:evenodd;stroke:#000000;stroke-width:2.0px;stroke-linecap:butt;stroke-linejoin:miter;stroke-opacity:1' />\n",
       "<path class='bond-6 atom-6 atom-7' d='M 136.5,84.7 L 116.4,62.9' style='fill:none;fill-rule:evenodd;stroke:#CCCC00;stroke-width:2.0px;stroke-linecap:butt;stroke-linejoin:miter;stroke-opacity:1' />\n",
       "<path  class='atom-7' d='M 84.5 43.8\n",
       "L 87.2 43.8\n",
       "L 87.2 52.4\n",
       "L 97.5 52.4\n",
       "L 97.5 43.8\n",
       "L 100.3 43.8\n",
       "L 100.3 64.1\n",
       "L 97.5 64.1\n",
       "L 97.5 54.7\n",
       "L 87.2 54.7\n",
       "L 87.2 64.1\n",
       "L 84.5 64.1\n",
       "L 84.5 43.8\n",
       "' fill='#CCCC00'/>\n",
       "<path  class='atom-7' d='M 102.4 60.9\n",
       "Q 102.6 61.0, 103.6 61.4\n",
       "Q 104.5 61.8, 105.5 62.1\n",
       "Q 106.6 62.3, 107.6 62.3\n",
       "Q 109.5 62.3, 110.7 61.4\n",
       "Q 111.8 60.4, 111.8 58.8\n",
       "Q 111.8 57.7, 111.2 57.0\n",
       "Q 110.7 56.3, 109.8 55.9\n",
       "Q 108.9 55.6, 107.5 55.1\n",
       "Q 105.7 54.6, 104.6 54.1\n",
       "Q 103.6 53.6, 102.8 52.5\n",
       "Q 102.1 51.4, 102.1 49.6\n",
       "Q 102.1 47.0, 103.8 45.5\n",
       "Q 105.5 43.9, 108.9 43.9\n",
       "Q 111.3 43.9, 113.9 45.0\n",
       "L 113.3 47.2\n",
       "Q 110.9 46.2, 109.0 46.2\n",
       "Q 107.1 46.2, 106.0 47.0\n",
       "Q 104.9 47.8, 104.9 49.2\n",
       "Q 104.9 50.3, 105.5 51.0\n",
       "Q 106.0 51.6, 106.8 52.0\n",
       "Q 107.7 52.4, 109.0 52.8\n",
       "Q 110.9 53.4, 111.9 53.9\n",
       "Q 113.0 54.5, 113.8 55.7\n",
       "Q 114.6 56.8, 114.6 58.8\n",
       "Q 114.6 61.6, 112.7 63.1\n",
       "Q 110.9 64.6, 107.7 64.6\n",
       "Q 105.9 64.6, 104.6 64.2\n",
       "Q 103.2 63.8, 101.6 63.2\n",
       "L 102.4 60.9\n",
       "' fill='#CCCC00'/>\n",
       "</svg>\n"
      ],
      "text/plain": [
       "<rdkit.Chem.rdchem.Mol at 0x7f4ee67fca00>"
      ]
     },
     "execution_count": 8,
     "metadata": {},
     "output_type": "execute_result"
    }
   ],
   "source": [
    "\"\"\" \n",
    "Annotating and drawing an example sulfur ligand \n",
    "\"\"\"\n",
    "u1 = mda.Universe.from_smiles(\"C1=C(C=CC=C1)CS[H]\")\n",
    "AromaticSulfurSmilesString = 'C1=C(C=CC=C1)CS[H]'\n",
    "m_aromatic = Chem.MolFromSmiles(AromaticSulfurSmilesString)\n",
    "#mol_with_atom_index(m_aromatic)\n",
    "m_aromatic"
   ]
  },
  {
   "cell_type": "code",
   "execution_count": 9,
   "metadata": {},
   "outputs": [
    {
     "data": {
      "text/plain": [
       "array([[-0.26610637,  1.1070386 , -0.46959504],\n",
       "       [ 0.501186  , -0.02841815, -0.3253443 ],\n",
       "       [-0.0890135 , -1.1853931 ,  0.16173992],\n",
       "       [-1.409722  , -1.2068603 ,  0.49543637],\n",
       "       [-2.1432908 , -0.05113159,  0.33685663],\n",
       "       [-1.6199689 ,  1.1257848 , -0.13952287],\n",
       "       [ 1.9393263 ,  0.02000745, -0.69610053],\n",
       "       [ 2.975364  ,  0.50240093,  0.7004398 ],\n",
       "       [ 0.15080966,  2.0363896 , -0.8466707 ],\n",
       "       [ 0.56207937, -2.0490208 ,  0.25471938],\n",
       "       [-1.8245246 , -2.1363595 ,  0.8720472 ],\n",
       "       [-3.1944468 , -0.10784676,  0.614092  ],\n",
       "       [-2.2026258 ,  2.0348861 , -0.2628603 ],\n",
       "       [ 2.252984  , -1.0099901 , -1.0048219 ],\n",
       "       [ 2.0847242 ,  0.7267021 , -1.5605043 ],\n",
       "       [ 2.283225  ,  0.22181058,  1.8700887 ]], dtype=float32)"
      ]
     },
     "execution_count": 9,
     "metadata": {},
     "output_type": "execute_result"
    }
   ],
   "source": [
    "\"\"\" \n",
    "Working on the same ligand.. \n",
    "\"\"\"\n",
    "# Through RDKIT\n",
    "AromaticSulfurSmilesString = 'C1=C(C=CC=C1)CS[H]'\n",
    "m_aromatic = Chem.MolFromSmiles(AromaticSulfurSmilesString)\n",
    "mol_with_atom_index(m_aromatic)\n",
    "\n",
    "# Through MDAnalysis \n",
    "u1 = mda.Universe.from_smiles(AromaticSulfurSmilesString)\n",
    "Molecule = u1.select_atoms('all')\n",
    "Molecule.positions # Finds the cartesian coordinates of the ligands "
   ]
  },
  {
   "cell_type": "code",
   "execution_count": 10,
   "metadata": {},
   "outputs": [
    {
     "data": {
      "image/png": "[encoded data removed]",
      "image/svg+xml": [
       "<?xml version='1.0' encoding='iso-8859-1'?>\n",
       "<svg version='1.1' baseProfile='full'\n",
       "              xmlns='http://www.w3.org/2000/svg'\n",
       "                      xmlns:rdkit='http://www.rdkit.org/xml'\n",
       "                      xmlns:xlink='http://www.w3.org/1999/xlink'\n",
       "                  xml:space='preserve'\n",
       "width='450px' height='150px' viewBox='0 0 450 150'>\n",
       "<!-- END OF HEADER -->\n",
       "<rect style='opacity:1.0;fill:#FFFFFF;stroke:none' width='450.0' height='150.0' x='0.0' y='0.0'> </rect>\n",
       "<path class='bond-0 atom-0 atom-1' d='M 266.3,143.2 L 231.6,105.5' style='fill:none;fill-rule:evenodd;stroke:#000000;stroke-width:2.0px;stroke-linecap:butt;stroke-linejoin:miter;stroke-opacity:1' />\n",
       "<path class='bond-0 atom-0 atom-1' d='M 270.8,128.5 L 246.5,102.2' style='fill:none;fill-rule:evenodd;stroke:#000000;stroke-width:2.0px;stroke-linecap:butt;stroke-linejoin:miter;stroke-opacity:1' />\n",
       "<path class='bond-7 atom-5 atom-0' d='M 322.2,130.6 L 266.3,143.2' style='fill:none;fill-rule:evenodd;stroke:#000000;stroke-width:2.0px;stroke-linecap:butt;stroke-linejoin:miter;stroke-opacity:1' />\n",
       "<path class='bond-1 atom-1 atom-2' d='M 224.7,83.3 L 237.6,41.8' style='fill:none;fill-rule:evenodd;stroke:#000000;stroke-width:2.0px;stroke-linecap:butt;stroke-linejoin:miter;stroke-opacity:1' />\n",
       "<path class='bond-5 atom-1 atom-6' d='M 197.9,99.6 L 169.0,106.2' style='fill:none;fill-rule:evenodd;stroke:#000000;stroke-width:2.0px;stroke-linecap:butt;stroke-linejoin:miter;stroke-opacity:1' />\n",
       "<path class='bond-2 atom-2 atom-3' d='M 249.0,29.1 L 282.2,21.7' style='fill:none;fill-rule:evenodd;stroke:#000000;stroke-width:2.0px;stroke-linecap:butt;stroke-linejoin:miter;stroke-opacity:1' />\n",
       "<path class='bond-2 atom-2 atom-3' d='M 256.9,41.0 L 280.1,35.7' style='fill:none;fill-rule:evenodd;stroke:#000000;stroke-width:2.0px;stroke-linecap:butt;stroke-linejoin:miter;stroke-opacity:1' />\n",
       "<path class='bond-3 atom-3 atom-4' d='M 316.3,27.8 L 342.3,55.9' style='fill:none;fill-rule:evenodd;stroke:#000000;stroke-width:2.0px;stroke-linecap:butt;stroke-linejoin:miter;stroke-opacity:1' />\n",
       "<path class='bond-4 atom-4 atom-5' d='M 347.3,76.6 L 334.5,117.7' style='fill:none;fill-rule:evenodd;stroke:#000000;stroke-width:2.0px;stroke-linecap:butt;stroke-linejoin:miter;stroke-opacity:1' />\n",
       "<path class='bond-4 atom-4 atom-5' d='M 332.7,78.8 L 323.7,107.6' style='fill:none;fill-rule:evenodd;stroke:#000000;stroke-width:2.0px;stroke-linecap:butt;stroke-linejoin:miter;stroke-opacity:1' />\n",
       "<path class='bond-6 atom-6 atom-7' d='M 146.1,97.8 L 132.5,83.1' style='fill:none;fill-rule:evenodd;stroke:#000000;stroke-width:2.0px;stroke-linecap:butt;stroke-linejoin:miter;stroke-opacity:1' />\n",
       "<path class='bond-6 atom-6 atom-7' d='M 132.5,83.1 L 118.9,68.3' style='fill:none;fill-rule:evenodd;stroke:#CCCC00;stroke-width:2.0px;stroke-linecap:butt;stroke-linejoin:miter;stroke-opacity:1' />\n",
       "<path  class='atom-1' d='M 199.5 94.4\n",
       "Q 199.5 89.8, 201.7 87.3\n",
       "Q 203.9 84.9, 208.1 84.9\n",
       "Q 212.0 84.9, 214.0 87.6\n",
       "L 212.3 89.0\n",
       "Q 210.8 87.0, 208.1 87.0\n",
       "Q 205.2 87.0, 203.7 88.9\n",
       "Q 202.2 90.8, 202.2 94.4\n",
       "Q 202.2 98.2, 203.8 100.1\n",
       "Q 205.3 102.0, 208.4 102.0\n",
       "Q 210.4 102.0, 212.9 100.7\n",
       "L 213.6 102.7\n",
       "Q 212.6 103.4, 211.1 103.7\n",
       "Q 209.6 104.1, 208.0 104.1\n",
       "Q 203.9 104.1, 201.7 101.6\n",
       "Q 199.5 99.1, 199.5 94.4\n",
       "' fill='#000000'/>\n",
       "<path  class='atom-1' d='M 216.0 100.8\n",
       "L 218.7 100.8\n",
       "L 218.7 103.4\n",
       "L 216.0 103.4\n",
       "L 216.0 100.8\n",
       "M 216.0 91.6\n",
       "L 218.7 91.6\n",
       "L 218.7 94.3\n",
       "L 216.0 94.3\n",
       "L 216.0 91.6\n",
       "' fill='#000000'/>\n",
       "<path  class='atom-1' d='M 221.2 101.8\n",
       "L 225.3 101.8\n",
       "L 225.3 87.7\n",
       "L 220.7 89.1\n",
       "L 220.1 87.5\n",
       "L 225.9 85.0\n",
       "L 227.8 85.3\n",
       "L 227.8 101.8\n",
       "L 231.5 101.8\n",
       "L 231.5 103.9\n",
       "L 221.2 103.9\n",
       "L 221.2 101.8\n",
       "' fill='#000000'/>\n",
       "<path  class='atom-2' d='M 214.2 31.0\n",
       "Q 214.2 26.3, 216.3 23.9\n",
       "Q 218.5 21.4, 222.7 21.4\n",
       "Q 226.6 21.4, 228.7 24.2\n",
       "L 226.9 25.6\n",
       "Q 225.4 23.6, 222.7 23.6\n",
       "Q 219.9 23.6, 218.4 25.5\n",
       "Q 216.9 27.4, 216.9 31.0\n",
       "Q 216.9 34.7, 218.4 36.7\n",
       "Q 220.0 38.6, 223.0 38.6\n",
       "Q 225.1 38.6, 227.5 37.3\n",
       "L 228.2 39.3\n",
       "Q 227.3 40.0, 225.8 40.3\n",
       "Q 224.3 40.7, 222.6 40.7\n",
       "Q 218.5 40.7, 216.3 38.2\n",
       "Q 214.2 35.7, 214.2 31.0\n",
       "' fill='#000000'/>\n",
       "<path  class='atom-2' d='M 230.7 37.3\n",
       "L 233.3 37.3\n",
       "L 233.3 40.0\n",
       "L 230.7 40.0\n",
       "L 230.7 37.3\n",
       "M 230.7 28.2\n",
       "L 233.3 28.2\n",
       "L 233.3 30.9\n",
       "L 230.7 30.9\n",
       "L 230.7 28.2\n",
       "' fill='#000000'/>\n",
       "<path  class='atom-2' d='M 234.7 25.2\n",
       "Q 235.4 23.4, 237.0 22.4\n",
       "Q 238.7 21.4, 241.0 21.4\n",
       "Q 243.8 21.4, 245.4 23.0\n",
       "Q 247.0 24.5, 247.0 27.2\n",
       "Q 247.0 30.0, 244.9 32.6\n",
       "Q 242.9 35.2, 238.6 38.3\n",
       "L 247.3 38.3\n",
       "L 247.3 40.5\n",
       "L 234.6 40.5\n",
       "L 234.6 38.7\n",
       "Q 238.2 36.2, 240.2 34.3\n",
       "Q 242.3 32.5, 243.3 30.8\n",
       "Q 244.3 29.1, 244.3 27.4\n",
       "Q 244.3 25.6, 243.4 24.6\n",
       "Q 242.5 23.6, 241.0 23.6\n",
       "Q 239.5 23.6, 238.4 24.2\n",
       "Q 237.4 24.8, 236.7 26.1\n",
       "L 234.7 25.2\n",
       "' fill='#000000'/>\n",
       "<path  class='atom-3' d='M 283.6 16.4\n",
       "Q 283.6 11.7, 285.8 9.3\n",
       "Q 288.0 6.8, 292.2 6.8\n",
       "Q 296.1 6.8, 298.1 9.6\n",
       "L 296.4 11.0\n",
       "Q 294.9 9.0, 292.2 9.0\n",
       "Q 289.3 9.0, 287.8 10.9\n",
       "Q 286.3 12.8, 286.3 16.4\n",
       "Q 286.3 20.1, 287.9 22.0\n",
       "Q 289.5 24.0, 292.5 24.0\n",
       "Q 294.6 24.0, 297.0 22.7\n",
       "L 297.7 24.7\n",
       "Q 296.7 25.3, 295.2 25.7\n",
       "Q 293.8 26.1, 292.1 26.1\n",
       "Q 288.0 26.1, 285.8 23.6\n",
       "Q 283.6 21.1, 283.6 16.4\n",
       "' fill='#000000'/>\n",
       "<path  class='atom-3' d='M 300.1 22.7\n",
       "L 302.8 22.7\n",
       "L 302.8 25.4\n",
       "L 300.1 25.4\n",
       "L 300.1 22.7\n",
       "M 300.1 13.6\n",
       "L 302.8 13.6\n",
       "L 302.8 16.3\n",
       "L 300.1 16.3\n",
       "L 300.1 13.6\n",
       "' fill='#000000'/>\n",
       "<path  class='atom-3' d='M 312.9 15.9\n",
       "Q 314.8 16.5, 315.7 17.7\n",
       "Q 316.6 18.8, 316.6 20.7\n",
       "Q 316.6 22.3, 315.8 23.5\n",
       "Q 315.0 24.8, 313.5 25.4\n",
       "Q 312.0 26.1, 310.1 26.1\n",
       "Q 308.1 26.1, 306.6 25.4\n",
       "Q 305.1 24.7, 303.9 23.3\n",
       "L 305.4 21.7\n",
       "Q 306.6 23.0, 307.6 23.5\n",
       "Q 308.6 24.0, 310.1 24.0\n",
       "Q 311.8 24.0, 312.9 23.1\n",
       "Q 313.9 22.1, 313.9 20.7\n",
       "Q 313.9 18.7, 312.8 17.9\n",
       "Q 311.7 17.0, 309.4 17.0\n",
       "L 308.1 17.0\n",
       "L 308.1 15.1\n",
       "L 309.3 15.1\n",
       "Q 311.3 15.1, 312.4 14.2\n",
       "Q 313.5 13.3, 313.5 11.6\n",
       "Q 313.5 10.4, 312.6 9.7\n",
       "Q 311.7 8.9, 310.2 8.9\n",
       "Q 308.6 8.9, 307.6 9.5\n",
       "Q 306.6 10.1, 305.9 11.5\n",
       "L 304.1 10.5\n",
       "Q 304.7 8.9, 306.3 7.9\n",
       "Q 307.9 6.8, 310.2 6.8\n",
       "Q 312.9 6.8, 314.5 8.1\n",
       "Q 316.2 9.4, 316.2 11.6\n",
       "Q 316.2 13.1, 315.3 14.2\n",
       "Q 314.5 15.3, 312.9 15.9\n",
       "' fill='#000000'/>\n",
       "<path  class='atom-4' d='M 343.6 65.2\n",
       "Q 343.6 60.5, 345.8 58.1\n",
       "Q 348.0 55.6, 352.1 55.6\n",
       "Q 356.0 55.6, 358.1 58.4\n",
       "L 356.3 59.8\n",
       "Q 354.8 57.8, 352.1 57.8\n",
       "Q 349.3 57.8, 347.8 59.7\n",
       "Q 346.3 61.6, 346.3 65.2\n",
       "Q 346.3 68.9, 347.8 70.9\n",
       "Q 349.4 72.8, 352.4 72.8\n",
       "Q 354.5 72.8, 356.9 71.5\n",
       "L 357.7 73.5\n",
       "Q 356.7 74.2, 355.2 74.5\n",
       "Q 353.7 74.9, 352.1 74.9\n",
       "Q 348.0 74.9, 345.8 72.4\n",
       "Q 343.6 69.9, 343.6 65.2\n",
       "' fill='#000000'/>\n",
       "<path  class='atom-4' d='M 360.1 71.5\n",
       "L 362.7 71.5\n",
       "L 362.7 74.2\n",
       "L 360.1 74.2\n",
       "L 360.1 71.5\n",
       "M 360.1 62.4\n",
       "L 362.7 62.4\n",
       "L 362.7 65.1\n",
       "L 360.1 65.1\n",
       "L 360.1 62.4\n",
       "' fill='#000000'/>\n",
       "<path  class='atom-4' d='M 375.8 68.2\n",
       "L 378.0 68.2\n",
       "L 378.0 70.3\n",
       "L 375.8 70.3\n",
       "L 375.8 74.7\n",
       "L 373.3 74.7\n",
       "L 373.3 70.3\n",
       "L 363.5 70.3\n",
       "L 363.5 68.7\n",
       "L 371.8 55.8\n",
       "L 375.8 55.8\n",
       "L 375.8 68.2\n",
       "M 366.6 68.2\n",
       "L 373.3 68.2\n",
       "L 373.3 57.5\n",
       "L 366.6 68.2\n",
       "' fill='#000000'/>\n",
       "<path  class='atom-5' d='M 323.8 128.6\n",
       "Q 323.8 124.0, 326.0 121.5\n",
       "Q 328.2 119.1, 332.4 119.1\n",
       "Q 336.3 119.1, 338.3 121.8\n",
       "L 336.6 123.2\n",
       "Q 335.1 121.2, 332.4 121.2\n",
       "Q 329.6 121.2, 328.0 123.1\n",
       "Q 326.6 125.0, 326.6 128.6\n",
       "Q 326.6 132.4, 328.1 134.3\n",
       "Q 329.7 136.2, 332.7 136.2\n",
       "Q 334.8 136.2, 337.2 134.9\n",
       "L 337.9 136.9\n",
       "Q 336.9 137.6, 335.5 137.9\n",
       "Q 334.0 138.3, 332.3 138.3\n",
       "Q 328.2 138.3, 326.0 135.8\n",
       "Q 323.8 133.3, 323.8 128.6\n",
       "' fill='#000000'/>\n",
       "<path  class='atom-5' d='M 340.3 135.0\n",
       "L 343.0 135.0\n",
       "L 343.0 137.6\n",
       "L 340.3 137.6\n",
       "L 340.3 135.0\n",
       "M 340.3 125.8\n",
       "L 343.0 125.8\n",
       "L 343.0 128.5\n",
       "L 340.3 128.5\n",
       "L 340.3 125.8\n",
       "' fill='#000000'/>\n",
       "<path  class='atom-5' d='M 351.0 126.3\n",
       "Q 352.7 126.3, 354.1 127.0\n",
       "Q 355.4 127.7, 356.2 129.0\n",
       "Q 356.9 130.3, 356.9 132.1\n",
       "Q 356.9 134.1, 356.0 135.5\n",
       "Q 355.1 136.9, 353.5 137.6\n",
       "Q 352.0 138.3, 350.2 138.3\n",
       "Q 348.5 138.3, 346.9 137.7\n",
       "Q 345.3 137.0, 344.2 135.8\n",
       "L 345.8 134.1\n",
       "Q 346.7 135.1, 347.9 135.6\n",
       "Q 349.1 136.1, 350.3 136.1\n",
       "Q 352.0 136.1, 353.1 135.1\n",
       "Q 354.3 134.1, 354.3 132.2\n",
       "Q 354.3 130.2, 353.1 129.3\n",
       "Q 352.0 128.3, 350.1 128.3\n",
       "Q 348.5 128.3, 346.7 129.0\n",
       "L 345.2 128.3\n",
       "L 346.1 119.3\n",
       "L 355.8 119.3\n",
       "L 355.5 121.4\n",
       "L 348.3 121.4\n",
       "L 347.7 127.0\n",
       "Q 349.4 126.3, 351.0 126.3\n",
       "' fill='#000000'/>\n",
       "<path  class='atom-6' d='M 133.9 109.1\n",
       "Q 133.9 104.4, 136.1 101.9\n",
       "Q 138.3 99.5, 142.4 99.5\n",
       "Q 146.3 99.5, 148.4 102.2\n",
       "L 146.6 103.6\n",
       "Q 145.1 101.6, 142.4 101.6\n",
       "Q 139.6 101.6, 138.1 103.6\n",
       "Q 136.6 105.4, 136.6 109.1\n",
       "Q 136.6 112.8, 138.1 114.7\n",
       "Q 139.7 116.6, 142.7 116.6\n",
       "Q 144.8 116.6, 147.2 115.4\n",
       "L 148.0 117.4\n",
       "Q 147.0 118.0, 145.5 118.4\n",
       "Q 144.0 118.7, 142.4 118.7\n",
       "Q 138.3 118.7, 136.1 116.2\n",
       "Q 133.9 113.7, 133.9 109.1\n",
       "' fill='#000000'/>\n",
       "<path  class='atom-6' d='M 150.4 115.4\n",
       "L 153.0 115.4\n",
       "L 153.0 118.0\n",
       "L 150.4 118.0\n",
       "L 150.4 115.4\n",
       "M 150.4 106.2\n",
       "L 153.0 106.2\n",
       "L 153.0 108.9\n",
       "L 150.4 108.9\n",
       "L 150.4 106.2\n",
       "' fill='#000000'/>\n",
       "<path  class='atom-6' d='M 162.2 106.7\n",
       "Q 163.9 106.7, 165.2 107.5\n",
       "Q 166.5 108.2, 167.2 109.5\n",
       "Q 167.9 110.8, 167.9 112.4\n",
       "Q 167.9 114.3, 167.1 115.7\n",
       "Q 166.3 117.1, 164.8 117.9\n",
       "Q 163.4 118.7, 161.6 118.7\n",
       "Q 158.2 118.7, 156.5 116.4\n",
       "Q 154.9 114.2, 154.9 109.6\n",
       "Q 154.9 104.7, 156.9 102.1\n",
       "Q 159.0 99.5, 163.0 99.5\n",
       "Q 164.2 99.5, 165.2 99.7\n",
       "Q 166.2 100.0, 167.2 100.6\n",
       "L 166.1 102.3\n",
       "Q 164.7 101.6, 163.1 101.6\n",
       "Q 160.4 101.6, 159.1 103.3\n",
       "Q 157.7 105.0, 157.5 108.6\n",
       "Q 158.5 107.7, 159.7 107.2\n",
       "Q 160.9 106.7, 162.2 106.7\n",
       "M 161.6 116.5\n",
       "Q 162.6 116.5, 163.4 116.0\n",
       "Q 164.3 115.5, 164.8 114.5\n",
       "Q 165.2 113.6, 165.2 112.5\n",
       "Q 165.2 110.8, 164.3 109.8\n",
       "Q 163.4 108.9, 161.7 108.9\n",
       "Q 160.6 108.9, 159.5 109.4\n",
       "Q 158.3 109.8, 157.5 110.6\n",
       "Q 157.6 113.7, 158.6 115.1\n",
       "Q 159.6 116.5, 161.6 116.5\n",
       "' fill='#000000'/>\n",
       "<path  class='atom-7' d='M 72.0 50.8\n",
       "L 74.5 50.8\n",
       "L 74.5 58.8\n",
       "L 84.1 58.8\n",
       "L 84.1 50.8\n",
       "L 86.7 50.8\n",
       "L 86.7 69.6\n",
       "L 84.1 69.6\n",
       "L 84.1 60.9\n",
       "L 74.5 60.9\n",
       "L 74.5 69.6\n",
       "L 72.0 69.6\n",
       "L 72.0 50.8\n",
       "' fill='#CCCC00'/>\n",
       "<path  class='atom-7' d='M 88.7 66.7\n",
       "Q 88.9 66.7, 89.8 67.1\n",
       "Q 90.6 67.5, 91.6 67.7\n",
       "Q 92.6 67.9, 93.5 67.9\n",
       "Q 95.3 67.9, 96.3 67.1\n",
       "Q 97.4 66.2, 97.4 64.7\n",
       "Q 97.4 63.6, 96.8 63.0\n",
       "Q 96.3 62.4, 95.5 62.0\n",
       "Q 94.7 61.7, 93.4 61.3\n",
       "Q 91.7 60.8, 90.7 60.3\n",
       "Q 89.8 59.8, 89.0 58.8\n",
       "Q 88.3 57.8, 88.3 56.1\n",
       "Q 88.3 53.7, 89.9 52.3\n",
       "Q 91.6 50.8, 94.7 50.8\n",
       "Q 96.9 50.8, 99.4 51.9\n",
       "L 98.8 53.9\n",
       "Q 96.5 53.0, 94.8 53.0\n",
       "Q 93.0 53.0, 92.0 53.7\n",
       "Q 91.0 54.5, 91.0 55.8\n",
       "Q 91.0 56.8, 91.5 57.4\n",
       "Q 92.0 58.0, 92.8 58.4\n",
       "Q 93.6 58.7, 94.8 59.1\n",
       "Q 96.5 59.6, 97.5 60.2\n",
       "Q 98.5 60.7, 99.3 61.8\n",
       "Q 100.0 62.9, 100.0 64.7\n",
       "Q 100.0 67.3, 98.3 68.7\n",
       "Q 96.5 70.1, 93.6 70.1\n",
       "Q 92.0 70.1, 90.7 69.7\n",
       "Q 89.4 69.4, 87.9 68.8\n",
       "L 88.7 66.7\n",
       "' fill='#CCCC00'/>\n",
       "<path  class='atom-7' d='M 102.0 66.5\n",
       "L 104.7 66.5\n",
       "L 104.7 69.1\n",
       "L 102.0 69.1\n",
       "L 102.0 66.5\n",
       "M 102.0 57.3\n",
       "L 104.7 57.3\n",
       "L 104.7 60.0\n",
       "L 102.0 60.0\n",
       "L 102.0 57.3\n",
       "' fill='#CCCC00'/>\n",
       "<path  class='atom-7' d='M 115.0 52.9\n",
       "L 105.1 52.9\n",
       "L 105.1 50.8\n",
       "L 117.6 50.8\n",
       "L 117.6 52.6\n",
       "L 110.0 69.6\n",
       "L 107.5 69.6\n",
       "L 115.0 52.9\n",
       "' fill='#CCCC00'/>\n",
       "</svg>\n"
      ],
      "text/html": [
       "<?xml version='1.0' encoding='iso-8859-1'?>\n",
       "<svg version='1.1' baseProfile='full'\n",
       "              xmlns='http://www.w3.org/2000/svg'\n",
       "                      xmlns:rdkit='http://www.rdkit.org/xml'\n",
       "                      xmlns:xlink='http://www.w3.org/1999/xlink'\n",
       "                  xml:space='preserve'\n",
       "width='450px' height='150px' viewBox='0 0 450 150'>\n",
       "<!-- END OF HEADER -->\n",
       "<rect style='opacity:1.0;fill:#FFFFFF;stroke:none' width='450.0' height='150.0' x='0.0' y='0.0'> </rect>\n",
       "<path class='bond-0 atom-0 atom-1' d='M 266.3,143.2 L 231.6,105.5' style='fill:none;fill-rule:evenodd;stroke:#000000;stroke-width:2.0px;stroke-linecap:butt;stroke-linejoin:miter;stroke-opacity:1' />\n",
       "<path class='bond-0 atom-0 atom-1' d='M 270.8,128.5 L 246.5,102.2' style='fill:none;fill-rule:evenodd;stroke:#000000;stroke-width:2.0px;stroke-linecap:butt;stroke-linejoin:miter;stroke-opacity:1' />\n",
       "<path class='bond-7 atom-5 atom-0' d='M 322.2,130.6 L 266.3,143.2' style='fill:none;fill-rule:evenodd;stroke:#000000;stroke-width:2.0px;stroke-linecap:butt;stroke-linejoin:miter;stroke-opacity:1' />\n",
       "<path class='bond-1 atom-1 atom-2' d='M 224.7,83.3 L 237.6,41.8' style='fill:none;fill-rule:evenodd;stroke:#000000;stroke-width:2.0px;stroke-linecap:butt;stroke-linejoin:miter;stroke-opacity:1' />\n",
       "<path class='bond-5 atom-1 atom-6' d='M 197.9,99.6 L 169.0,106.2' style='fill:none;fill-rule:evenodd;stroke:#000000;stroke-width:2.0px;stroke-linecap:butt;stroke-linejoin:miter;stroke-opacity:1' />\n",
       "<path class='bond-2 atom-2 atom-3' d='M 249.0,29.1 L 282.2,21.7' style='fill:none;fill-rule:evenodd;stroke:#000000;stroke-width:2.0px;stroke-linecap:butt;stroke-linejoin:miter;stroke-opacity:1' />\n",
       "<path class='bond-2 atom-2 atom-3' d='M 256.9,41.0 L 280.1,35.7' style='fill:none;fill-rule:evenodd;stroke:#000000;stroke-width:2.0px;stroke-linecap:butt;stroke-linejoin:miter;stroke-opacity:1' />\n",
       "<path class='bond-3 atom-3 atom-4' d='M 316.3,27.8 L 342.3,55.9' style='fill:none;fill-rule:evenodd;stroke:#000000;stroke-width:2.0px;stroke-linecap:butt;stroke-linejoin:miter;stroke-opacity:1' />\n",
       "<path class='bond-4 atom-4 atom-5' d='M 347.3,76.6 L 334.5,117.7' style='fill:none;fill-rule:evenodd;stroke:#000000;stroke-width:2.0px;stroke-linecap:butt;stroke-linejoin:miter;stroke-opacity:1' />\n",
       "<path class='bond-4 atom-4 atom-5' d='M 332.7,78.8 L 323.7,107.6' style='fill:none;fill-rule:evenodd;stroke:#000000;stroke-width:2.0px;stroke-linecap:butt;stroke-linejoin:miter;stroke-opacity:1' />\n",
       "<path class='bond-6 atom-6 atom-7' d='M 146.1,97.8 L 132.5,83.1' style='fill:none;fill-rule:evenodd;stroke:#000000;stroke-width:2.0px;stroke-linecap:butt;stroke-linejoin:miter;stroke-opacity:1' />\n",
       "<path class='bond-6 atom-6 atom-7' d='M 132.5,83.1 L 118.9,68.3' style='fill:none;fill-rule:evenodd;stroke:#CCCC00;stroke-width:2.0px;stroke-linecap:butt;stroke-linejoin:miter;stroke-opacity:1' />\n",
       "<path  class='atom-1' d='M 199.5 94.4\n",
       "Q 199.5 89.8, 201.7 87.3\n",
       "Q 203.9 84.9, 208.1 84.9\n",
       "Q 212.0 84.9, 214.0 87.6\n",
       "L 212.3 89.0\n",
       "Q 210.8 87.0, 208.1 87.0\n",
       "Q 205.2 87.0, 203.7 88.9\n",
       "Q 202.2 90.8, 202.2 94.4\n",
       "Q 202.2 98.2, 203.8 100.1\n",
       "Q 205.3 102.0, 208.4 102.0\n",
       "Q 210.4 102.0, 212.9 100.7\n",
       "L 213.6 102.7\n",
       "Q 212.6 103.4, 211.1 103.7\n",
       "Q 209.6 104.1, 208.0 104.1\n",
       "Q 203.9 104.1, 201.7 101.6\n",
       "Q 199.5 99.1, 199.5 94.4\n",
       "' fill='#000000'/>\n",
       "<path  class='atom-1' d='M 216.0 100.8\n",
       "L 218.7 100.8\n",
       "L 218.7 103.4\n",
       "L 216.0 103.4\n",
       "L 216.0 100.8\n",
       "M 216.0 91.6\n",
       "L 218.7 91.6\n",
       "L 218.7 94.3\n",
       "L 216.0 94.3\n",
       "L 216.0 91.6\n",
       "' fill='#000000'/>\n",
       "<path  class='atom-1' d='M 221.2 101.8\n",
       "L 225.3 101.8\n",
       "L 225.3 87.7\n",
       "L 220.7 89.1\n",
       "L 220.1 87.5\n",
       "L 225.9 85.0\n",
       "L 227.8 85.3\n",
       "L 227.8 101.8\n",
       "L 231.5 101.8\n",
       "L 231.5 103.9\n",
       "L 221.2 103.9\n",
       "L 221.2 101.8\n",
       "' fill='#000000'/>\n",
       "<path  class='atom-2' d='M 214.2 31.0\n",
       "Q 214.2 26.3, 216.3 23.9\n",
       "Q 218.5 21.4, 222.7 21.4\n",
       "Q 226.6 21.4, 228.7 24.2\n",
       "L 226.9 25.6\n",
       "Q 225.4 23.6, 222.7 23.6\n",
       "Q 219.9 23.6, 218.4 25.5\n",
       "Q 216.9 27.4, 216.9 31.0\n",
       "Q 216.9 34.7, 218.4 36.7\n",
       "Q 220.0 38.6, 223.0 38.6\n",
       "Q 225.1 38.6, 227.5 37.3\n",
       "L 228.2 39.3\n",
       "Q 227.3 40.0, 225.8 40.3\n",
       "Q 224.3 40.7, 222.6 40.7\n",
       "Q 218.5 40.7, 216.3 38.2\n",
       "Q 214.2 35.7, 214.2 31.0\n",
       "' fill='#000000'/>\n",
       "<path  class='atom-2' d='M 230.7 37.3\n",
       "L 233.3 37.3\n",
       "L 233.3 40.0\n",
       "L 230.7 40.0\n",
       "L 230.7 37.3\n",
       "M 230.7 28.2\n",
       "L 233.3 28.2\n",
       "L 233.3 30.9\n",
       "L 230.7 30.9\n",
       "L 230.7 28.2\n",
       "' fill='#000000'/>\n",
       "<path  class='atom-2' d='M 234.7 25.2\n",
       "Q 235.4 23.4, 237.0 22.4\n",
       "Q 238.7 21.4, 241.0 21.4\n",
       "Q 243.8 21.4, 245.4 23.0\n",
       "Q 247.0 24.5, 247.0 27.2\n",
       "Q 247.0 30.0, 244.9 32.6\n",
       "Q 242.9 35.2, 238.6 38.3\n",
       "L 247.3 38.3\n",
       "L 247.3 40.5\n",
       "L 234.6 40.5\n",
       "L 234.6 38.7\n",
       "Q 238.2 36.2, 240.2 34.3\n",
       "Q 242.3 32.5, 243.3 30.8\n",
       "Q 244.3 29.1, 244.3 27.4\n",
       "Q 244.3 25.6, 243.4 24.6\n",
       "Q 242.5 23.6, 241.0 23.6\n",
       "Q 239.5 23.6, 238.4 24.2\n",
       "Q 237.4 24.8, 236.7 26.1\n",
       "L 234.7 25.2\n",
       "' fill='#000000'/>\n",
       "<path  class='atom-3' d='M 283.6 16.4\n",
       "Q 283.6 11.7, 285.8 9.3\n",
       "Q 288.0 6.8, 292.2 6.8\n",
       "Q 296.1 6.8, 298.1 9.6\n",
       "L 296.4 11.0\n",
       "Q 294.9 9.0, 292.2 9.0\n",
       "Q 289.3 9.0, 287.8 10.9\n",
       "Q 286.3 12.8, 286.3 16.4\n",
       "Q 286.3 20.1, 287.9 22.0\n",
       "Q 289.5 24.0, 292.5 24.0\n",
       "Q 294.6 24.0, 297.0 22.7\n",
       "L 297.7 24.7\n",
       "Q 296.7 25.3, 295.2 25.7\n",
       "Q 293.8 26.1, 292.1 26.1\n",
       "Q 288.0 26.1, 285.8 23.6\n",
       "Q 283.6 21.1, 283.6 16.4\n",
       "' fill='#000000'/>\n",
       "<path  class='atom-3' d='M 300.1 22.7\n",
       "L 302.8 22.7\n",
       "L 302.8 25.4\n",
       "L 300.1 25.4\n",
       "L 300.1 22.7\n",
       "M 300.1 13.6\n",
       "L 302.8 13.6\n",
       "L 302.8 16.3\n",
       "L 300.1 16.3\n",
       "L 300.1 13.6\n",
       "' fill='#000000'/>\n",
       "<path  class='atom-3' d='M 312.9 15.9\n",
       "Q 314.8 16.5, 315.7 17.7\n",
       "Q 316.6 18.8, 316.6 20.7\n",
       "Q 316.6 22.3, 315.8 23.5\n",
       "Q 315.0 24.8, 313.5 25.4\n",
       "Q 312.0 26.1, 310.1 26.1\n",
       "Q 308.1 26.1, 306.6 25.4\n",
       "Q 305.1 24.7, 303.9 23.3\n",
       "L 305.4 21.7\n",
       "Q 306.6 23.0, 307.6 23.5\n",
       "Q 308.6 24.0, 310.1 24.0\n",
       "Q 311.8 24.0, 312.9 23.1\n",
       "Q 313.9 22.1, 313.9 20.7\n",
       "Q 313.9 18.7, 312.8 17.9\n",
       "Q 311.7 17.0, 309.4 17.0\n",
       "L 308.1 17.0\n",
       "L 308.1 15.1\n",
       "L 309.3 15.1\n",
       "Q 311.3 15.1, 312.4 14.2\n",
       "Q 313.5 13.3, 313.5 11.6\n",
       "Q 313.5 10.4, 312.6 9.7\n",
       "Q 311.7 8.9, 310.2 8.9\n",
       "Q 308.6 8.9, 307.6 9.5\n",
       "Q 306.6 10.1, 305.9 11.5\n",
       "L 304.1 10.5\n",
       "Q 304.7 8.9, 306.3 7.9\n",
       "Q 307.9 6.8, 310.2 6.8\n",
       "Q 312.9 6.8, 314.5 8.1\n",
       "Q 316.2 9.4, 316.2 11.6\n",
       "Q 316.2 13.1, 315.3 14.2\n",
       "Q 314.5 15.3, 312.9 15.9\n",
       "' fill='#000000'/>\n",
       "<path  class='atom-4' d='M 343.6 65.2\n",
       "Q 343.6 60.5, 345.8 58.1\n",
       "Q 348.0 55.6, 352.1 55.6\n",
       "Q 356.0 55.6, 358.1 58.4\n",
       "L 356.3 59.8\n",
       "Q 354.8 57.8, 352.1 57.8\n",
       "Q 349.3 57.8, 347.8 59.7\n",
       "Q 346.3 61.6, 346.3 65.2\n",
       "Q 346.3 68.9, 347.8 70.9\n",
       "Q 349.4 72.8, 352.4 72.8\n",
       "Q 354.5 72.8, 356.9 71.5\n",
       "L 357.7 73.5\n",
       "Q 356.7 74.2, 355.2 74.5\n",
       "Q 353.7 74.9, 352.1 74.9\n",
       "Q 348.0 74.9, 345.8 72.4\n",
       "Q 343.6 69.9, 343.6 65.2\n",
       "' fill='#000000'/>\n",
       "<path  class='atom-4' d='M 360.1 71.5\n",
       "L 362.7 71.5\n",
       "L 362.7 74.2\n",
       "L 360.1 74.2\n",
       "L 360.1 71.5\n",
       "M 360.1 62.4\n",
       "L 362.7 62.4\n",
       "L 362.7 65.1\n",
       "L 360.1 65.1\n",
       "L 360.1 62.4\n",
       "' fill='#000000'/>\n",
       "<path  class='atom-4' d='M 375.8 68.2\n",
       "L 378.0 68.2\n",
       "L 378.0 70.3\n",
       "L 375.8 70.3\n",
       "L 375.8 74.7\n",
       "L 373.3 74.7\n",
       "L 373.3 70.3\n",
       "L 363.5 70.3\n",
       "L 363.5 68.7\n",
       "L 371.8 55.8\n",
       "L 375.8 55.8\n",
       "L 375.8 68.2\n",
       "M 366.6 68.2\n",
       "L 373.3 68.2\n",
       "L 373.3 57.5\n",
       "L 366.6 68.2\n",
       "' fill='#000000'/>\n",
       "<path  class='atom-5' d='M 323.8 128.6\n",
       "Q 323.8 124.0, 326.0 121.5\n",
       "Q 328.2 119.1, 332.4 119.1\n",
       "Q 336.3 119.1, 338.3 121.8\n",
       "L 336.6 123.2\n",
       "Q 335.1 121.2, 332.4 121.2\n",
       "Q 329.6 121.2, 328.0 123.1\n",
       "Q 326.6 125.0, 326.6 128.6\n",
       "Q 326.6 132.4, 328.1 134.3\n",
       "Q 329.7 136.2, 332.7 136.2\n",
       "Q 334.8 136.2, 337.2 134.9\n",
       "L 337.9 136.9\n",
       "Q 336.9 137.6, 335.5 137.9\n",
       "Q 334.0 138.3, 332.3 138.3\n",
       "Q 328.2 138.3, 326.0 135.8\n",
       "Q 323.8 133.3, 323.8 128.6\n",
       "' fill='#000000'/>\n",
       "<path  class='atom-5' d='M 340.3 135.0\n",
       "L 343.0 135.0\n",
       "L 343.0 137.6\n",
       "L 340.3 137.6\n",
       "L 340.3 135.0\n",
       "M 340.3 125.8\n",
       "L 343.0 125.8\n",
       "L 343.0 128.5\n",
       "L 340.3 128.5\n",
       "L 340.3 125.8\n",
       "' fill='#000000'/>\n",
       "<path  class='atom-5' d='M 351.0 126.3\n",
       "Q 352.7 126.3, 354.1 127.0\n",
       "Q 355.4 127.7, 356.2 129.0\n",
       "Q 356.9 130.3, 356.9 132.1\n",
       "Q 356.9 134.1, 356.0 135.5\n",
       "Q 355.1 136.9, 353.5 137.6\n",
       "Q 352.0 138.3, 350.2 138.3\n",
       "Q 348.5 138.3, 346.9 137.7\n",
       "Q 345.3 137.0, 344.2 135.8\n",
       "L 345.8 134.1\n",
       "Q 346.7 135.1, 347.9 135.6\n",
       "Q 349.1 136.1, 350.3 136.1\n",
       "Q 352.0 136.1, 353.1 135.1\n",
       "Q 354.3 134.1, 354.3 132.2\n",
       "Q 354.3 130.2, 353.1 129.3\n",
       "Q 352.0 128.3, 350.1 128.3\n",
       "Q 348.5 128.3, 346.7 129.0\n",
       "L 345.2 128.3\n",
       "L 346.1 119.3\n",
       "L 355.8 119.3\n",
       "L 355.5 121.4\n",
       "L 348.3 121.4\n",
       "L 347.7 127.0\n",
       "Q 349.4 126.3, 351.0 126.3\n",
       "' fill='#000000'/>\n",
       "<path  class='atom-6' d='M 133.9 109.1\n",
       "Q 133.9 104.4, 136.1 101.9\n",
       "Q 138.3 99.5, 142.4 99.5\n",
       "Q 146.3 99.5, 148.4 102.2\n",
       "L 146.6 103.6\n",
       "Q 145.1 101.6, 142.4 101.6\n",
       "Q 139.6 101.6, 138.1 103.6\n",
       "Q 136.6 105.4, 136.6 109.1\n",
       "Q 136.6 112.8, 138.1 114.7\n",
       "Q 139.7 116.6, 142.7 116.6\n",
       "Q 144.8 116.6, 147.2 115.4\n",
       "L 148.0 117.4\n",
       "Q 147.0 118.0, 145.5 118.4\n",
       "Q 144.0 118.7, 142.4 118.7\n",
       "Q 138.3 118.7, 136.1 116.2\n",
       "Q 133.9 113.7, 133.9 109.1\n",
       "' fill='#000000'/>\n",
       "<path  class='atom-6' d='M 150.4 115.4\n",
       "L 153.0 115.4\n",
       "L 153.0 118.0\n",
       "L 150.4 118.0\n",
       "L 150.4 115.4\n",
       "M 150.4 106.2\n",
       "L 153.0 106.2\n",
       "L 153.0 108.9\n",
       "L 150.4 108.9\n",
       "L 150.4 106.2\n",
       "' fill='#000000'/>\n",
       "<path  class='atom-6' d='M 162.2 106.7\n",
       "Q 163.9 106.7, 165.2 107.5\n",
       "Q 166.5 108.2, 167.2 109.5\n",
       "Q 167.9 110.8, 167.9 112.4\n",
       "Q 167.9 114.3, 167.1 115.7\n",
       "Q 166.3 117.1, 164.8 117.9\n",
       "Q 163.4 118.7, 161.6 118.7\n",
       "Q 158.2 118.7, 156.5 116.4\n",
       "Q 154.9 114.2, 154.9 109.6\n",
       "Q 154.9 104.7, 156.9 102.1\n",
       "Q 159.0 99.5, 163.0 99.5\n",
       "Q 164.2 99.5, 165.2 99.7\n",
       "Q 166.2 100.0, 167.2 100.6\n",
       "L 166.1 102.3\n",
       "Q 164.7 101.6, 163.1 101.6\n",
       "Q 160.4 101.6, 159.1 103.3\n",
       "Q 157.7 105.0, 157.5 108.6\n",
       "Q 158.5 107.7, 159.7 107.2\n",
       "Q 160.9 106.7, 162.2 106.7\n",
       "M 161.6 116.5\n",
       "Q 162.6 116.5, 163.4 116.0\n",
       "Q 164.3 115.5, 164.8 114.5\n",
       "Q 165.2 113.6, 165.2 112.5\n",
       "Q 165.2 110.8, 164.3 109.8\n",
       "Q 163.4 108.9, 161.7 108.9\n",
       "Q 160.6 108.9, 159.5 109.4\n",
       "Q 158.3 109.8, 157.5 110.6\n",
       "Q 157.6 113.7, 158.6 115.1\n",
       "Q 159.6 116.5, 161.6 116.5\n",
       "' fill='#000000'/>\n",
       "<path  class='atom-7' d='M 72.0 50.8\n",
       "L 74.5 50.8\n",
       "L 74.5 58.8\n",
       "L 84.1 58.8\n",
       "L 84.1 50.8\n",
       "L 86.7 50.8\n",
       "L 86.7 69.6\n",
       "L 84.1 69.6\n",
       "L 84.1 60.9\n",
       "L 74.5 60.9\n",
       "L 74.5 69.6\n",
       "L 72.0 69.6\n",
       "L 72.0 50.8\n",
       "' fill='#CCCC00'/>\n",
       "<path  class='atom-7' d='M 88.7 66.7\n",
       "Q 88.9 66.7, 89.8 67.1\n",
       "Q 90.6 67.5, 91.6 67.7\n",
       "Q 92.6 67.9, 93.5 67.9\n",
       "Q 95.3 67.9, 96.3 67.1\n",
       "Q 97.4 66.2, 97.4 64.7\n",
       "Q 97.4 63.6, 96.8 63.0\n",
       "Q 96.3 62.4, 95.5 62.0\n",
       "Q 94.7 61.7, 93.4 61.3\n",
       "Q 91.7 60.8, 90.7 60.3\n",
       "Q 89.8 59.8, 89.0 58.8\n",
       "Q 88.3 57.8, 88.3 56.1\n",
       "Q 88.3 53.7, 89.9 52.3\n",
       "Q 91.6 50.8, 94.7 50.8\n",
       "Q 96.9 50.8, 99.4 51.9\n",
       "L 98.8 53.9\n",
       "Q 96.5 53.0, 94.8 53.0\n",
       "Q 93.0 53.0, 92.0 53.7\n",
       "Q 91.0 54.5, 91.0 55.8\n",
       "Q 91.0 56.8, 91.5 57.4\n",
       "Q 92.0 58.0, 92.8 58.4\n",
       "Q 93.6 58.7, 94.8 59.1\n",
       "Q 96.5 59.6, 97.5 60.2\n",
       "Q 98.5 60.7, 99.3 61.8\n",
       "Q 100.0 62.9, 100.0 64.7\n",
       "Q 100.0 67.3, 98.3 68.7\n",
       "Q 96.5 70.1, 93.6 70.1\n",
       "Q 92.0 70.1, 90.7 69.7\n",
       "Q 89.4 69.4, 87.9 68.8\n",
       "L 88.7 66.7\n",
       "' fill='#CCCC00'/>\n",
       "<path  class='atom-7' d='M 102.0 66.5\n",
       "L 104.7 66.5\n",
       "L 104.7 69.1\n",
       "L 102.0 69.1\n",
       "L 102.0 66.5\n",
       "M 102.0 57.3\n",
       "L 104.7 57.3\n",
       "L 104.7 60.0\n",
       "L 102.0 60.0\n",
       "L 102.0 57.3\n",
       "' fill='#CCCC00'/>\n",
       "<path  class='atom-7' d='M 115.0 52.9\n",
       "L 105.1 52.9\n",
       "L 105.1 50.8\n",
       "L 117.6 50.8\n",
       "L 117.6 52.6\n",
       "L 110.0 69.6\n",
       "L 107.5 69.6\n",
       "L 115.0 52.9\n",
       "' fill='#CCCC00'/>\n",
       "</svg>\n"
      ],
      "text/plain": [
       "<rdkit.Chem.rdchem.Mol at 0x7f4ee69e2400>"
      ]
     },
     "execution_count": 10,
     "metadata": {},
     "output_type": "execute_result"
    }
   ],
   "source": [
    "m_aromatic"
   ]
  },
  {
   "cell_type": "code",
   "execution_count": 5,
   "metadata": {},
   "outputs": [
    {
     "name": "stderr",
     "output_type": "stream",
     "text": [
      "/home/sang/anaconda3/lib/python3.8/site-packages/MDAnalysis/converters/RDKit.py:161: UserWarning: No coordinates found in the RDKit molecule\n",
      "  warnings.warn(\"No coordinates found in the RDKit molecule\")\n"
     ]
    }
   ],
   "source": [
    "C70 = mda.Universe.from_smiles(\"c1(c2c3c4c15)c6c7c8c2c9c%10c3c%11c%12c4c%13c%14c5c%15c6c%16c7c%17c%18c%19c%20c%21c%22c%23c%24c%21c%25c%26c%20c%18c%16c%27c%15c%14c%28c(c%25c%29c%24c%30c%31c%23c%32c%33c%22c%19c%34c%33c(c9c8c%34%17)c%35c%10c%11c(c%31c%32%35)c%36c%12c%13c%28c%29c%30%36)c%26%27\")"
   ]
  },
  {
   "cell_type": "code",
   "execution_count": 6,
   "metadata": {},
   "outputs": [
    {
     "data": {
      "text/plain": [
       "<AtomGroup with 70 atoms>"
      ]
     },
     "execution_count": 6,
     "metadata": {},
     "output_type": "execute_result"
    }
   ],
   "source": [
    "C70.atoms"
   ]
  },
  {
   "cell_type": "code",
   "execution_count": 83,
   "metadata": {},
   "outputs": [],
   "source": [
    "# Highlight a Substructure in a Molecule - Can we identify the benzene part and sulfur part?\n",
    "\n",
    "ConvertedSmiles = Chem.MolToSmiles(Chem.MolFromSmiles('C1=CC=CN=C1'))\n",
    "ConvertedSmiles\n",
    "\n",
    "ExampleMartiniString = \"CC(=O)CO\" # Example smiles string that is compatible with MARTINI \n",
    "ConvertedSmiles2 = Chem.MolToSmiles(Chem.MolFromSmiles(ExampleMartiniString))\n",
    "ConvertedSmiles2\n",
    "m2  = Chem.MolFromSmiles(ConvertedSmiles2)\n",
    "#m2\n",
    "# Hence, we need to create a dictionary that catalogues the string with the relevant martini bead \n",
    "SmilesToMartiniDictionary = {}\n",
    "SmilesToMartiniDictionary[\"CC(=O)CO\"] = 'P2' # P2 Bead \n",
    "SmilesToMartiniDictionary[\"CC(=O)O\"] = 'SP2' # SP2 Bead \n",
    "SmilesToMartiniDictionary[\"CC(C)O\"] = 'P1' # P1 Bead \n",
    "SmilesToMartiniDictionary[\"CC(C)O\"] = 'P1' # P1 Bead "
   ]
  },
  {
   "cell_type": "code",
   "execution_count": 13,
   "metadata": {},
   "outputs": [
    {
     "data": {
      "text/plain": [
       "array([[-0.22472751, -1.1280737 ,  0.19541302],\n",
       "       [-1.5704545 , -1.023252  ,  0.20934   ],\n",
       "       [-2.1961048 ,  0.15957293,  0.02464339],\n",
       "       [-1.4453826 ,  1.2551624 , -0.17765924],\n",
       "       [-0.08878438,  1.1825782 , -0.19727382],\n",
       "       [ 0.56562644, -0.01720943, -0.01039633],\n",
       "       [ 2.0195458 , -0.12108581, -0.02697152],\n",
       "       [ 2.7724788 ,  0.8622499 , -0.21044609],\n",
       "       [ 2.6224356 , -1.3553001 ,  0.1670108 ],\n",
       "       [ 0.29183823, -2.069239  ,  0.3419321 ],\n",
       "       [-3.2804613 ,  0.1926303 ,  0.04453019],\n",
       "       [ 0.53399026,  2.0619664 , -0.36012247]], dtype=float32)"
      ]
     },
     "execution_count": 13,
     "metadata": {},
     "output_type": "execute_result"
    }
   ],
   "source": [
    "\"\"\"\n",
    "This part links the lignad coordinates with the \n",
    "\"\"\"\n",
    "# new feature\n",
    "u1 = mda.Universe.from_smiles(\"c1ncncc1C(=O)[O-]\")\n",
    "# new feature\n",
    "Molecule = u1.select_atoms('all')\n",
    "Molecule.positions # Finds \n",
    "# Need to label each of the xyz coordinates with the relevant indices within the "
   ]
  },
  {
   "cell_type": "code",
   "execution_count": 14,
   "metadata": {},
   "outputs": [
    {
     "name": "stdout",
     "output_type": "stream",
     "text": [
      "((10, 8, 9, 7),)\n",
      "(0, 12, 11, 6, 2, 1)\n"
     ]
    }
   ],
   "source": [
    "m = Chem.MolFromSmiles('c1cc(C(=O)O)c(OC(=O)C)cc1')\n",
    "substructure = Chem.MolFromSmarts('CC(=O)O')\n",
    "print(m.GetSubstructMatches(substructure)) # Shows the indices of the molcule that matches the MARTINI bead \n",
    "\n",
    "# Find part of the smiles which is part of a ring \n",
    "\n",
    "ri = m.GetRingInfo().AtomRings()\n",
    "for ring in ri:\n",
    "    print(ring)"
   ]
  },
  {
   "cell_type": "code",
   "execution_count": 86,
   "metadata": {},
   "outputs": [
    {
     "name": "stdout",
     "output_type": "stream",
     "text": [
      "()\n"
     ]
    }
   ],
   "source": [
    "\"\"\"\n",
    "In the above situation, we can identify the 3 parts - the thiolated part, the saturated hydrocarbon chain attached \n",
    "to the benzene group, and the benzene group itself. \n",
    "\"\"\"\n",
    "substructure = Chem.MolFromSmarts('SC')\n",
    "print(m.GetSubstructMatches(substructure))"
   ]
  },
  {
   "cell_type": "code",
   "execution_count": 19,
   "metadata": {},
   "outputs": [
    {
     "name": "stderr",
     "output_type": "stream",
     "text": [
      "/home/sang/anaconda3/lib/python3.8/site-packages/MDAnalysis/coordinates/PDB.py:747: UserWarning:\n",
      "\n",
      "Unit cell dimensions not found. CRYST1 record set to unitary values.\n",
      "\n",
      "/home/sang/anaconda3/lib/python3.8/site-packages/MDAnalysis/coordinates/PDB.py:1078: UserWarning:\n",
      "\n",
      "Found no information for attr: 'altLocs' Using default value of ' '\n",
      "\n",
      "/home/sang/anaconda3/lib/python3.8/site-packages/MDAnalysis/coordinates/PDB.py:1078: UserWarning:\n",
      "\n",
      "Found no information for attr: 'resnames' Using default value of 'UNK'\n",
      "\n",
      "/home/sang/anaconda3/lib/python3.8/site-packages/MDAnalysis/coordinates/PDB.py:1078: UserWarning:\n",
      "\n",
      "Found no information for attr: 'icodes' Using default value of ' '\n",
      "\n",
      "/home/sang/anaconda3/lib/python3.8/site-packages/MDAnalysis/coordinates/PDB.py:1078: UserWarning:\n",
      "\n",
      "Found no information for attr: 'chainIDs' Using default value of ''\n",
      "\n",
      "/home/sang/anaconda3/lib/python3.8/site-packages/MDAnalysis/coordinates/PDB.py:1078: UserWarning:\n",
      "\n",
      "Found no information for attr: 'occupancies' Using default value of '1.0'\n",
      "\n",
      "/home/sang/anaconda3/lib/python3.8/site-packages/MDAnalysis/coordinates/PDB.py:1078: UserWarning:\n",
      "\n",
      "Found no information for attr: 'tempfactors' Using default value of '0.0'\n",
      "\n",
      "/home/sang/anaconda3/lib/python3.8/site-packages/MDAnalysis/coordinates/PDB.py:1078: UserWarning:\n",
      "\n",
      "Found no information for attr: 'record_types' Using default value of 'ATOM'\n",
      "\n",
      "/home/sang/anaconda3/lib/python3.8/site-packages/MDAnalysis/coordinates/PDB.py:1124: UserWarning:\n",
      "\n",
      "Found missing chainIDs. Corresponding atoms will use value of 'X'\n",
      "\n"
     ]
    }
   ],
   "source": [
    "\n",
    "def GetRingSystems(mol, includeSpiro=False):\n",
    "    \"\"\"\n",
    "    What is this function doing?\n",
    "    \"\"\"\n",
    "    ri = mol.GetRingInfo() # Sets out the indices of the rings structures within the mol file \n",
    "    systems = []\n",
    "    for ring in ri.AtomRings():\n",
    "        ringAts = set(ring)\n",
    "        nSystems = []\n",
    "        for system in systems:\n",
    "            nInCommon = len(ringAts.intersection(system))\n",
    "            if nInCommon and (includeSpiro or nInCommon>1):\n",
    "                ringAts = ringAts.union(system)\n",
    "            else:\n",
    "                nSystems.append(system)\n",
    "        nSystems.append(ringAts)\n",
    "        systems = nSystems\n",
    "    return systems\n",
    "\n",
    "\n",
    "mol = Chem.MolFromSmiles('CN1C(=O)CN=C(C2=C1C=CC(=C2)Cl)C3=CC=CC=C3')\n",
    "#print(GetRingSystems(mol))\n",
    "#mol\n",
    "\n",
    "Molecule.positions\n",
    "Molecule.atoms.write(\"mol.pdb\")"
   ]
  },
  {
   "cell_type": "code",
   "execution_count": 20,
   "metadata": {},
   "outputs": [
    {
     "data": {
      "application/vnd.plotly.v1+json": {
       "config": {
        "plotlyServerURL": "https://plot.ly"
       },
       "data": [
        {
         "marker": {
          "color": [
           "blue"
          ],
          "line": {
           "color": "DarkSlateGrey",
           "width": 5
          },
          "size": [
           0,
           5
          ]
         },
         "name": "Vector1",
         "type": "scatter3d",
         "x": [
          0,
          0
         ],
         "y": [
          0,
          10
         ],
         "z": [
          0,
          0
         ]
        },
        {
         "marker": {
          "color": [
           "blue"
          ],
          "line": {
           "color": "DarkSlateGrey",
           "width": 5
          },
          "size": [
           0,
           5
          ]
         },
         "name": "Vector2",
         "type": "scatter3d",
         "x": [
          0,
          -1.4746625201921926
         ],
         "y": [
          0,
          9.797979797979798
         ],
         "z": [
          0,
          1.3509116662166227
         ]
        },
        {
         "marker": {
          "color": [
           "blue"
          ],
          "line": {
           "color": "DarkSlateGrey",
           "width": 5
          },
          "size": [
           0,
           5
          ]
         },
         "name": "Vector3",
         "type": "scatter3d",
         "x": [
          0,
          0.24599988672162226
         ],
         "y": [
          0,
          9.595959595959595
         ],
         "z": [
          0,
          -2.803041827808479
         ]
        },
        {
         "marker": {
          "color": [
           "blue"
          ],
          "line": {
           "color": "DarkSlateGrey",
           "width": 5
          },
          "size": [
           0,
           5
          ]
         },
         "name": "Vector4",
         "type": "scatter3d",
         "x": [
          0,
          2.085969670475504
         ],
         "y": [
          0,
          9.393939393939394
         ],
         "z": [
          0,
          2.7207780499059235
         ]
        },
        {
         "marker": {
          "color": [
           "blue"
          ],
          "line": {
           "color": "DarkSlateGrey",
           "width": 5
          },
          "size": [
           0,
           5
          ]
         },
         "name": "Vector5",
         "type": "scatter3d",
         "x": [
          0,
          -3.8778989211836534
         ],
         "y": [
          0,
          9.191919191919192
         ],
         "z": [
          0,
          -0.6859457167373212
         ]
        },
        {
         "marker": {
          "color": [
           "blue"
          ],
          "line": {
           "color": "DarkSlateGrey",
           "width": 5
          },
          "size": [
           0,
           5
          ]
         },
         "name": "Vector6",
         "type": "scatter3d",
         "x": [
          0,
          3.695389676362656
         ],
         "y": [
          0,
          8.98989898989899
         ],
         "z": [
          0,
          -2.3507044244748045
         ]
        },
        {
         "marker": {
          "color": [
           "blue"
          ],
          "line": {
           "color": "DarkSlateGrey",
           "width": 5
          },
          "size": [
           0,
           5
          ]
         },
         "name": "Vector7",
         "type": "scatter3d",
         "x": [
          0,
          -1.2388644490434448
         ],
         "y": [
          0,
          8.787878787878787
         ],
         "z": [
          0,
          4.60851399981017
         ]
        },
        {
         "marker": {
          "color": [
           "blue"
          ],
          "line": {
           "color": "DarkSlateGrey",
           "width": 5
          },
          "size": [
           0,
           5
          ]
         },
         "name": "Vector8",
         "type": "scatter3d",
         "x": [
          0,
          -2.362931120005442
         ],
         "y": [
          0,
          8.585858585858585
         ],
         "z": [
          0,
          -4.549680083890321
         ]
        },
        {
         "marker": {
          "color": [
           "blue"
          ],
          "line": {
           "color": "DarkSlateGrey",
           "width": 5
          },
          "size": [
           0,
           5
          ]
         },
         "name": "Vector9",
         "type": "scatter3d",
         "x": [
          0,
          5.1200553924297365
         ],
         "y": [
          0,
          8.383838383838384
         ],
         "z": [
          0,
          1.8698360174436122
         ]
        },
        {
         "marker": {
          "color": [
           "blue"
          ],
          "line": {
           "color": "DarkSlateGrey",
           "width": 5
          },
          "size": [
           0,
           5
          ]
         },
         "name": "Vector10",
         "type": "scatter3d",
         "x": [
          0,
          -5.314613277182722
         ],
         "y": [
          0,
          8.181818181818182
         ],
         "z": [
          0,
          2.193795102935222
         ]
        },
        {
         "marker": {
          "color": [
           "blue"
          ],
          "line": {
           "color": "DarkSlateGrey",
           "width": 5
          },
          "size": [
           0,
           5
          ]
         },
         "name": "Vector11",
         "type": "scatter3d",
         "x": [
          0,
          2.554452834241677
         ],
         "y": [
          0,
          7.97979797979798
         ],
         "z": [
          0,
          -5.458717332784941
         ]
        },
        {
         "marker": {
          "color": [
           "blue"
          ],
          "line": {
           "color": "DarkSlateGrey",
           "width": 5
          },
          "size": [
           0,
           5
          ]
         },
         "name": "Vector12",
         "type": "scatter3d",
         "x": [
          0,
          1.8811168893216454
         ],
         "y": [
          0,
          7.777777777777778
         ],
         "z": [
          0,
          5.997297065196539
         ]
        },
        {
         "marker": {
          "color": [
           "blue"
          ],
          "line": {
           "color": "DarkSlateGrey",
           "width": 5
          },
          "size": [
           0,
           5
          ]
         },
         "name": "Vector13",
         "type": "scatter3d",
         "x": [
          0,
          -5.647642372728926
         ],
         "y": [
          0,
          7.575757575757576
         ],
         "z": [
          0,
          -3.2729241945252103
         ]
        },
        {
         "marker": {
          "color": [
           "blue"
          ],
          "line": {
           "color": "DarkSlateGrey",
           "width": 5
          },
          "size": [
           0,
           5
          ]
         },
         "name": "Vector14",
         "type": "scatter3d",
         "x": [
          0,
          6.597298249772894
         ],
         "y": [
          0,
          7.373737373737374
         ],
         "z": [
          0,
          -1.450397513336312
         ]
        },
        {
         "marker": {
          "color": [
           "blue"
          ],
          "line": {
           "color": "DarkSlateGrey",
           "width": 5
          },
          "size": [
           0,
           5
          ]
         },
         "name": "Vector15",
         "type": "scatter3d",
         "x": [
          0,
          -4.008056847193861
         ],
         "y": [
          0,
          7.171717171717171
         ],
         "z": [
          0,
          5.7010484227516836
         ]
        },
        {
         "marker": {
          "color": [
           "blue"
          ],
          "line": {
           "color": "DarkSlateGrey",
           "width": 5
          },
          "size": [
           0,
           5
          ]
         },
         "name": "Vector16",
         "type": "scatter3d",
         "x": [
          0,
          -0.9215509016145574
         ],
         "y": [
          0,
          6.969696969696971
         ],
         "z": [
          0,
          -7.111544704656666
         ]
        },
        {
         "marker": {
          "color": [
           "blue"
          ],
          "line": {
           "color": "DarkSlateGrey",
           "width": 5
          },
          "size": [
           0,
           5
          ]
         },
         "name": "Vector17",
         "type": "scatter3d",
         "x": [
          0,
          5.629320310676115
         ],
         "y": [
          0,
          6.767676767676766
         ],
         "z": [
          0,
          4.744397117448908
         ]
        },
        {
         "marker": {
          "color": [
           "blue"
          ],
          "line": {
           "color": "DarkSlateGrey",
           "width": 5
          },
          "size": [
           0,
           5
          ]
         },
         "name": "Vector18",
         "type": "scatter3d",
         "x": [
          0,
          -7.53624771987667
         ],
         "y": [
          0,
          6.565656565656566
         ],
         "z": [
          0,
          0.31164750360707605
         ]
        },
        {
         "marker": {
          "color": [
           "blue"
          ],
          "line": {
           "color": "DarkSlateGrey",
           "width": 5
          },
          "size": [
           0,
           5
          ]
         },
         "name": "Vector19",
         "type": "scatter3d",
         "x": [
          0,
          5.467833660637458
         ],
         "y": [
          0,
          6.363636363636363
         ],
         "z": [
          0,
          -5.441224796955639
         ]
        },
        {
         "marker": {
          "color": [
           "blue"
          ],
          "line": {
           "color": "DarkSlateGrey",
           "width": 5
          },
          "size": [
           0,
           5
          ]
         },
         "name": "Vector20",
         "type": "scatter3d",
         "x": [
          0,
          -0.3638129487435007
         ],
         "y": [
          0,
          6.161616161616161
         ],
         "z": [
          0,
          7.867790440475463
         ]
        },
        {
         "marker": {
          "color": [
           "blue"
          ],
          "line": {
           "color": "DarkSlateGrey",
           "width": 5
          },
          "size": [
           0,
           5
          ]
         },
         "name": "Vector21",
         "type": "scatter3d",
         "x": [
          0,
          -5.144986829326802
         ],
         "y": [
          0,
          5.95959595959596
         ],
         "z": [
          0,
          -6.165413735056331
         ]
        },
        {
         "marker": {
          "color": [
           "blue"
          ],
          "line": {
           "color": "DarkSlateGrey",
           "width": 5
          },
          "size": [
           0,
           5
          ]
         },
         "name": "Vector22",
         "type": "scatter3d",
         "x": [
          0,
          8.10318627523005
         ],
         "y": [
          0,
          5.757575757575757
         ],
         "z": [
          0,
          1.090272252558633
         ]
        },
        {
         "marker": {
          "color": [
           "blue"
          ],
          "line": {
           "color": "DarkSlateGrey",
           "width": 5
          },
          "size": [
           0,
           5
          ]
         },
         "name": "Vector23",
         "type": "scatter3d",
         "x": [
          0,
          -6.825268133340844
         ],
         "y": [
          0,
          5.555555555555555
         ],
         "z": [
          0,
          4.748843793718403
         ]
        },
        {
         "marker": {
          "color": [
           "blue"
          ],
          "line": {
           "color": "DarkSlateGrey",
           "width": 5
          },
          "size": [
           0,
           5
          ]
         },
         "name": "Vector24",
         "type": "scatter3d",
         "x": [
          0,
          1.8538012732823734
         ],
         "y": [
          0,
          5.353535353535354
         ],
         "z": [
          0,
          -8.24033252105907
         ]
        },
        {
         "marker": {
          "color": [
           "blue"
          ],
          "line": {
           "color": "DarkSlateGrey",
           "width": 5
          },
          "size": [
           0,
           5
          ]
         },
         "name": "Vector25",
         "type": "scatter3d",
         "x": [
          0,
          4.261332947445106
         ],
         "y": [
          0,
          5.151515151515151
         ],
         "z": [
          0,
          7.436594190536998
         ]
        },
        {
         "marker": {
          "color": [
           "blue"
          ],
          "line": {
           "color": "DarkSlateGrey",
           "width": 5
          },
          "size": [
           0,
           5
          ]
         },
         "name": "Vector26",
         "type": "scatter3d",
         "x": [
          0,
          -8.278154695967782
         ],
         "y": [
          0,
          4.949494949494949
         ],
         "z": [
          0,
          -2.6409571322818834
         ]
        },
        {
         "marker": {
          "color": [
           "blue"
          ],
          "line": {
           "color": "DarkSlateGrey",
           "width": 5
          },
          "size": [
           0,
           5
          ]
         },
         "name": "Vector27",
         "type": "scatter3d",
         "x": [
          0,
          7.989669998181965
         ],
         "y": [
          0,
          4.747474747474747
         ],
         "z": [
          0,
          -3.6914301892681896
         ]
        },
        {
         "marker": {
          "color": [
           "blue"
          ],
          "line": {
           "color": "DarkSlateGrey",
           "width": 5
          },
          "size": [
           0,
           5
          ]
         },
         "name": "Vector28",
         "type": "scatter3d",
         "x": [
          0,
          -3.4387369489002784
         ],
         "y": [
          0,
          4.545454545454546
         ],
         "z": [
          0,
          8.216686142933453
         ]
        },
        {
         "marker": {
          "color": [
           "blue"
          ],
          "line": {
           "color": "DarkSlateGrey",
           "width": 5
          },
          "size": [
           0,
           5
          ]
         },
         "name": "Vector29",
         "type": "scatter3d",
         "x": [
          0,
          -3.0485999243134883
         ],
         "y": [
          0,
          4.343434343434343
         ],
         "z": [
          0,
          -8.475884414369443
         ]
        },
        {
         "marker": {
          "color": [
           "blue"
          ],
          "line": {
           "color": "DarkSlateGrey",
           "width": 5
          },
          "size": [
           0,
           5
          ]
         },
         "name": "Vector30",
         "type": "scatter3d",
         "x": [
          0,
          8.057105364694971
         ],
         "y": [
          0,
          4.141414141414142
         ],
         "z": [
          0,
          4.234588770057667
         ]
        },
        {
         "marker": {
          "color": [
           "blue"
          ],
          "line": {
           "color": "DarkSlateGrey",
           "width": 5
          },
          "size": [
           0,
           5
          ]
         },
         "name": "Vector31",
         "type": "scatter3d",
         "x": [
          0,
          -8.887773463851525
         ],
         "y": [
          0,
          3.9393939393939394
         ],
         "z": [
          0,
          2.3427885618473887
         ]
        },
        {
         "marker": {
          "color": [
           "blue"
          ],
          "line": {
           "color": "DarkSlateGrey",
           "width": 5
          },
          "size": [
           0,
           5
          ]
         },
         "name": "Vector32",
         "type": "scatter3d",
         "x": [
          0,
          5.016456981916779
         ],
         "y": [
          0,
          3.737373737373737
         ],
         "z": [
          0,
          -7.801743195963802
         ]
        },
        {
         "marker": {
          "color": [
           "blue"
          ],
          "line": {
           "color": "DarkSlateGrey",
           "width": 5
          },
          "size": [
           0,
           5
          ]
         },
         "name": "Vector33",
         "type": "scatter3d",
         "x": [
          0,
          1.584380564140349
         ],
         "y": [
          0,
          3.5353535353535346
         ],
         "z": [
          0,
          9.219057088880488
         ]
        },
        {
         "marker": {
          "color": [
           "blue"
          ],
          "line": {
           "color": "DarkSlateGrey",
           "width": 5
          },
          "size": [
           0,
           5
          ]
         },
         "name": "Vector34",
         "type": "scatter3d",
         "x": [
          0,
          -7.454066778203466
         ],
         "y": [
          0,
          3.333333333333334
         ],
         "z": [
          0,
          -5.772848287888075
         ]
        },
        {
         "marker": {
          "color": [
           "blue"
          ],
          "line": {
           "color": "DarkSlateGrey",
           "width": 5
          },
          "size": [
           0,
           5
          ]
         },
         "name": "Vector35",
         "type": "scatter3d",
         "x": [
          0,
          9.464672217388467
         ],
         "y": [
          0,
          3.1313131313131315
         ],
         "z": [
          0,
          -0.7841287464828883
         ]
        },
        {
         "marker": {
          "color": [
           "blue"
          ],
          "line": {
           "color": "DarkSlateGrey",
           "width": 5
          },
          "size": [
           0,
           5
          ]
         },
         "name": "Vector36",
         "type": "scatter3d",
         "x": [
          0,
          -6.492909240678544
         ],
         "y": [
          0,
          2.929292929292929
         ],
         "z": [
          0,
          7.018644636018099
         ]
        },
        {
         "marker": {
          "color": [
           "blue"
          ],
          "line": {
           "color": "DarkSlateGrey",
           "width": 5
          },
          "size": [
           0,
           5
          ]
         },
         "name": "Vector37",
         "type": "scatter3d",
         "x": [
          0,
          0.04693348436698646
         ],
         "y": [
          0,
          2.727272727272727
         ],
         "z": [
          0,
          -9.62079938046312
         ]
        },
        {
         "marker": {
          "color": [
           "blue"
          ],
          "line": {
           "color": "DarkSlateGrey",
           "width": 5
          },
          "size": [
           0,
           5
          ]
         },
         "name": "Vector38",
         "type": "scatter3d",
         "x": [
          0,
          6.501095730811276
         ],
         "y": [
          0,
          2.525252525252525
         ],
         "z": [
          0,
          7.166509190849695
         ]
        },
        {
         "marker": {
          "color": [
           "blue"
          ],
          "line": {
           "color": "DarkSlateGrey",
           "width": 5
          },
          "size": [
           0,
           5
          ]
         },
         "name": "Vector39",
         "type": "scatter3d",
         "x": [
          0,
          -9.684880955101908
         ],
         "y": [
          0,
          2.3232323232323235
         ],
         "z": [
          0,
          -0.8975925900946813
         ]
        },
        {
         "marker": {
          "color": [
           "blue"
          ],
          "line": {
           "color": "DarkSlateGrey",
           "width": 5
          },
          "size": [
           0,
           5
          ]
         },
         "name": "Vector40",
         "type": "scatter3d",
         "x": [
          0,
          7.784324280224146
         ],
         "y": [
          0,
          2.1212121212121215
         ],
         "z": [
          0,
          -5.908024596862779
         ]
        },
        {
         "marker": {
          "color": [
           "blue"
          ],
          "line": {
           "color": "DarkSlateGrey",
           "width": 5
          },
          "size": [
           0,
           5
          ]
         },
         "name": "Vector41",
         "type": "scatter3d",
         "x": [
          0,
          -1.7565640922420143
         ],
         "y": [
          0,
          1.9191919191919193
         ],
         "z": [
          0,
          9.65562970329509
         ]
        },
        {
         "marker": {
          "color": [
           "blue"
          ],
          "line": {
           "color": "DarkSlateGrey",
           "width": 5
          },
          "size": [
           0,
           5
          ]
         },
         "name": "Vector42",
         "type": "scatter3d",
         "x": [
          0,
          -5.24694425012087
         ],
         "y": [
          0,
          1.7171717171717171
         ],
         "z": [
          0,
          -8.337919244623869
         ]
        },
        {
         "marker": {
          "color": [
           "blue"
          ],
          "line": {
           "color": "DarkSlateGrey",
           "width": 5
          },
          "size": [
           0,
           5
          ]
         },
         "name": "Vector43",
         "type": "scatter3d",
         "x": [
          0,
          9.53302672153812
         ],
         "y": [
          0,
          1.515151515151515
         ],
         "z": [
          0,
          2.6126073973282393
         ]
        },
        {
         "marker": {
          "color": [
           "blue"
          ],
          "line": {
           "color": "DarkSlateGrey",
           "width": 5
          },
          "size": [
           0,
           5
          ]
         },
         "name": "Vector44",
         "type": "scatter3d",
         "x": [
          0,
          -8.819824557590271
         ],
         "y": [
          0,
          1.3131313131313127
         ],
         "z": [
          0,
          4.526188344269561
         ]
        },
        {
         "marker": {
          "color": [
           "blue"
          ],
          "line": {
           "color": "DarkSlateGrey",
           "width": 5
          },
          "size": [
           0,
           5
          ]
         },
         "name": "Vector45",
         "type": "scatter3d",
         "x": [
          0,
          3.454643719150054
         ],
         "y": [
          0,
          1.1111111111111116
         ],
         "z": [
          0,
          -9.31830826236729
         ]
        },
        {
         "marker": {
          "color": [
           "blue"
          ],
          "line": {
           "color": "DarkSlateGrey",
           "width": 5
          },
          "size": [
           0,
           5
          ]
         },
         "name": "Vector46",
         "type": "scatter3d",
         "x": [
          0,
          3.754813946348314
         ],
         "y": [
          0,
          0.9090909090909094
         ],
         "z": [
          0,
          9.223606992240967
         ]
        },
        {
         "marker": {
          "color": [
           "blue"
          ],
          "line": {
           "color": "DarkSlateGrey",
           "width": 5
          },
          "size": [
           0,
           5
          ]
         },
         "name": "Vector47",
         "type": "scatter3d",
         "x": [
          0,
          -9.013941175375193
         ],
         "y": [
          0,
          0.7070707070707072
         ],
         "z": [
          0,
          -4.271874939892109
         ]
        },
        {
         "marker": {
          "color": [
           "blue"
          ],
          "line": {
           "color": "DarkSlateGrey",
           "width": 5
          },
          "size": [
           0,
           5
          ]
         },
         "name": "Vector48",
         "type": "scatter3d",
         "x": [
          0,
          9.543932088315646
         ],
         "y": [
          0,
          0.505050505050505
         ],
         "z": [
          0,
          -2.9424962669419314
         ]
        },
        {
         "marker": {
          "color": [
           "blue"
          ],
          "line": {
           "color": "DarkSlateGrey",
           "width": 5
          },
          "size": [
           0,
           5
          ]
         },
         "name": "Vector49",
         "type": "scatter3d",
         "x": [
          0,
          -5.053901519770722
         ],
         "y": [
          0,
          0.30303030303030276
         ],
         "z": [
          0,
          8.623586960418764
         ]
        },
        {
         "marker": {
          "color": [
           "blue"
          ],
          "line": {
           "color": "DarkSlateGrey",
           "width": 5
          },
          "size": [
           0,
           5
          ]
         },
         "name": "Vector50",
         "type": "scatter3d",
         "x": [
          0,
          -2.0994166796485794
         ],
         "y": [
          0,
          0.10101010101010055
         ],
         "z": [
          0,
          -9.776617337541
         ]
        },
        {
         "marker": {
          "color": [
           "blue"
          ],
          "line": {
           "color": "DarkSlateGrey",
           "width": 5
          },
          "size": [
           0,
           5
          ]
         },
         "name": "Vector51",
         "type": "scatter3d",
         "x": [
          0,
          8.152054643909256
         ],
         "y": [
          0,
          -0.10101010101010166
         ],
         "z": [
          0,
          5.790837766870305
         ]
        },
        {
         "marker": {
          "color": [
           "blue"
          ],
          "line": {
           "color": "DarkSlateGrey",
           "width": 5
          },
          "size": [
           0,
           5
          ]
         },
         "name": "Vector52",
         "type": "scatter3d",
         "x": [
          0,
          -9.918675174806253
         ],
         "y": [
          0,
          -0.30303030303030276
         ],
         "z": [
          0,
          1.2361453847050048
         ]
        },
        {
         "marker": {
          "color": [
           "blue"
          ],
          "line": {
           "color": "DarkSlateGrey",
           "width": 5
          },
          "size": [
           0,
           5
          ]
         },
         "name": "Vector53",
         "type": "scatter3d",
         "x": [
          0,
          6.473422941630272
         ],
         "y": [
          0,
          -0.5050505050505061
         ],
         "z": [
          0,
          -7.605242889357521
         ]
        },
        {
         "marker": {
          "color": [
           "blue"
          ],
          "line": {
           "color": "DarkSlateGrey",
           "width": 5
          },
          "size": [
           0,
           5
          ]
         },
         "name": "Vector54",
         "type": "scatter3d",
         "x": [
          0,
          0.36352010274409163
         ],
         "y": [
          0,
          -0.7070707070707072
         ],
         "z": [
          0,
          9.968345105889114
         ]
        },
        {
         "marker": {
          "color": [
           "blue"
          ],
          "line": {
           "color": "DarkSlateGrey",
           "width": 5
          },
          "size": [
           0,
           5
          ]
         },
         "name": "Vector55",
         "type": "scatter3d",
         "x": [
          0,
          -6.990071942575041
         ],
         "y": [
          0,
          -0.9090909090909083
         ],
         "z": [
          0,
          -7.093126810979307
         ]
        },
        {
         "marker": {
          "color": [
           "blue"
          ],
          "line": {
           "color": "DarkSlateGrey",
           "width": 5
          },
          "size": [
           0,
           5
          ]
         },
         "name": "Vector56",
         "type": "scatter3d",
         "x": [
          0,
          9.925114528466924
         ],
         "y": [
          0,
          -1.1111111111111116
         ],
         "z": [
          0,
          0.5074777784102473
         ]
        },
        {
         "marker": {
          "color": [
           "blue"
          ],
          "line": {
           "color": "DarkSlateGrey",
           "width": 5
          },
          "size": [
           0,
           5
          ]
         },
         "name": "Vector57",
         "type": "scatter3d",
         "x": [
          0,
          -7.6422483960345975
         ],
         "y": [
          0,
          -1.3131313131313127
         ],
         "z": [
          0,
          6.314406195976046
         ]
        },
        {
         "marker": {
          "color": [
           "blue"
          ],
          "line": {
           "color": "DarkSlateGrey",
           "width": 5
          },
          "size": [
           0,
           5
          ]
         },
         "name": "Vector58",
         "type": "scatter3d",
         "x": [
          0,
          1.3658481401054057
         ],
         "y": [
          0,
          -1.515151515151516
         ],
         "z": [
          0,
          -9.789728021978172
         ]
        },
        {
         "marker": {
          "color": [
           "blue"
          ],
          "line": {
           "color": "DarkSlateGrey",
           "width": 5
          },
          "size": [
           0,
           5
          ]
         },
         "name": "Vector59",
         "type": "scatter3d",
         "x": [
          0,
          5.586968341301761
         ],
         "y": [
          0,
          -1.7171717171717171
         ],
         "z": [
          0,
          8.114006781303388
         ]
        },
        {
         "marker": {
          "color": [
           "blue"
          ],
          "line": {
           "color": "DarkSlateGrey",
           "width": 5
          },
          "size": [
           0,
           5
          ]
         },
         "name": "Vector60",
         "type": "scatter3d",
         "x": [
          0,
          -9.564185101904323
         ],
         "y": [
          0,
          -1.9191919191919182
         ],
         "z": [
          0,
          -2.200696642842859
         ]
        },
        {
         "marker": {
          "color": [
           "blue"
          ],
          "line": {
           "color": "DarkSlateGrey",
           "width": 5
          },
          "size": [
           0,
           5
          ]
         },
         "name": "Vector61",
         "type": "scatter3d",
         "x": [
          0,
          8.502622976531624
         ],
         "y": [
          0,
          -2.1212121212121215
         ],
         "z": [
          0,
          -4.81724627310866
         ]
        },
        {
         "marker": {
          "color": [
           "blue"
          ],
          "line": {
           "color": "DarkSlateGrey",
           "width": 5
          },
          "size": [
           0,
           5
          ]
         },
         "name": "Vector62",
         "type": "scatter3d",
         "x": [
          0,
          -3.001357245994345
         ],
         "y": [
          0,
          -2.3232323232323226
         ],
         "z": [
          0,
          9.25172666339672
         ]
        },
        {
         "marker": {
          "color": [
           "blue"
          ],
          "line": {
           "color": "DarkSlateGrey",
           "width": 5
          },
          "size": [
           0,
           5
          ]
         },
         "name": "Vector63",
         "type": "scatter3d",
         "x": [
          0,
          -4.015394116545673
         ],
         "y": [
          0,
          -2.525252525252526
         ],
         "z": [
          0,
          -8.803391947000664
         ]
        },
        {
         "marker": {
          "color": [
           "blue"
          ],
          "line": {
           "color": "DarkSlateGrey",
           "width": 5
          },
          "size": [
           0,
           5
          ]
         },
         "name": "Vector64",
         "type": "scatter3d",
         "x": [
          0,
          8.856810587479377
         ],
         "y": [
          0,
          -2.727272727272727
         ],
         "z": [
          0,
          3.7575111029227326
         ]
        },
        {
         "marker": {
          "color": [
           "blue"
          ],
          "line": {
           "color": "DarkSlateGrey",
           "width": 5
          },
          "size": [
           0,
           5
          ]
         },
         "name": "Vector65",
         "type": "scatter3d",
         "x": [
          0,
          -9.01274405499193
         ],
         "y": [
          0,
          -2.9292929292929304
         ],
         "z": [
          0,
          3.1921289970178273
         ]
        },
        {
         "marker": {
          "color": [
           "blue"
          ],
          "line": {
           "color": "DarkSlateGrey",
           "width": 5
          },
          "size": [
           0,
           5
          ]
         },
         "name": "Vector66",
         "type": "scatter3d",
         "x": [
          0,
          4.459300097862065
         ],
         "y": [
          0,
          -3.1313131313131315
         ],
         "z": [
          0,
          -8.385077263261998
         ]
        },
        {
         "marker": {
          "color": [
           "blue"
          ],
          "line": {
           "color": "DarkSlateGrey",
           "width": 5
          },
          "size": [
           0,
           5
          ]
         },
         "name": "Vector67",
         "type": "scatter3d",
         "x": [
          0,
          2.3586254690164377
         ],
         "y": [
          0,
          -3.3333333333333326
         ],
         "z": [
          0,
          9.128295283665832
         ]
        },
        {
         "marker": {
          "color": [
           "blue"
          ],
          "line": {
           "color": "DarkSlateGrey",
           "width": 5
          },
          "size": [
           0,
           5
          ]
         },
         "name": "Vector68",
         "type": "scatter3d",
         "x": [
          0,
          -7.843306110813986
         ],
         "y": [
          0,
          -3.535353535353536
         ],
         "z": [
          0,
          -5.097433141506738
         ]
        },
        {
         "marker": {
          "color": [
           "blue"
          ],
          "line": {
           "color": "DarkSlateGrey",
           "width": 5
          },
          "size": [
           0,
           5
          ]
         },
         "name": "Vector69",
         "type": "scatter3d",
         "x": [
          0,
          9.148885742302104
         ],
         "y": [
          0,
          -3.737373737373737
         ],
         "z": [
          0,
          -1.5264099126677408
         ]
        },
        {
         "marker": {
          "color": [
           "blue"
          ],
          "line": {
           "color": "DarkSlateGrey",
           "width": 5
          },
          "size": [
           0,
           5
          ]
         },
         "name": "Vector70",
         "type": "scatter3d",
         "x": [
          0,
          -5.663283107791219
         ],
         "y": [
          0,
          -3.9393939393939403
         ],
         "z": [
          0,
          7.23936460134955
         ]
        },
        {
         "marker": {
          "color": [
           "blue"
          ],
          "line": {
           "color": "DarkSlateGrey",
           "width": 5
          },
          "size": [
           0,
           5
          ]
         },
         "name": "Vector71",
         "type": "scatter3d",
         "x": [
          0,
          -0.7072577480976395
         ],
         "y": [
          0,
          -4.141414141414142
         ],
         "z": [
          0,
          -9.074606073381412
         ]
        },
        {
         "marker": {
          "color": [
           "blue"
          ],
          "line": {
           "color": "DarkSlateGrey",
           "width": 5
          },
          "size": [
           0,
           5
          ]
         },
         "name": "Vector72",
         "type": "scatter3d",
         "x": [
          0,
          6.582151812328982
         ],
         "y": [
          0,
          -4.3434343434343425
         ],
         "z": [
          0,
          6.148971915997778
         ]
        },
        {
         "marker": {
          "color": [
           "blue"
          ],
          "line": {
           "color": "DarkSlateGrey",
           "width": 5
          },
          "size": [
           0,
           5
          ]
         },
         "name": "Vector73",
         "type": "scatter3d",
         "x": [
          0,
          -8.906811486863097
         ],
         "y": [
          0,
          -4.545454545454546
         ],
         "z": [
          0,
          -0.08690289230056056
         ]
        },
        {
         "marker": {
          "color": [
           "blue"
          ],
          "line": {
           "color": "DarkSlateGrey",
           "width": 5
          },
          "size": [
           0,
           5
          ]
         },
         "name": "Vector74",
         "type": "scatter3d",
         "x": [
          0,
          6.547440638983667
         ],
         "y": [
          0,
          -4.747474747474747
         ],
         "z": [
          0,
          -5.881539305409319
         ]
        },
        {
         "marker": {
          "color": [
           "blue"
          ],
          "line": {
           "color": "DarkSlateGrey",
           "width": 5
          },
          "size": [
           0,
           5
          ]
         },
         "name": "Vector75",
         "type": "scatter3d",
         "x": [
          0,
          -0.844076185990376
         ],
         "y": [
          0,
          -4.94949494949495
         ],
         "z": [
          0,
          8.648123214730925
         ]
        },
        {
         "marker": {
          "color": [
           "blue"
          ],
          "line": {
           "color": "DarkSlateGrey",
           "width": 5
          },
          "size": [
           0,
           5
          ]
         },
         "name": "Vector76",
         "type": "scatter3d",
         "x": [
          0,
          -5.148313213466435
         ],
         "y": [
          0,
          -5.151515151515151
         ],
         "z": [
          0,
          -6.852500470613391
         ]
        },
        {
         "marker": {
          "color": [
           "blue"
          ],
          "line": {
           "color": "DarkSlateGrey",
           "width": 5
          },
          "size": [
           0,
           5
          ]
         },
         "name": "Vector77",
         "type": "scatter3d",
         "x": [
          0,
          8.30241716863267
         ],
         "y": [
          0,
          -5.353535353535353
         ],
         "z": [
          0,
          1.5522655624733093
         ]
        },
        {
         "marker": {
          "color": [
           "blue"
          ],
          "line": {
           "color": "DarkSlateGrey",
           "width": 5
          },
          "size": [
           0,
           5
          ]
         },
         "name": "Vector78",
         "type": "scatter3d",
         "x": [
          0,
          -7.058858583876281
         ],
         "y": [
          0,
          -5.555555555555555
         ],
         "z": [
          0,
          4.3941231163876076
         ]
        },
        {
         "marker": {
          "color": [
           "blue"
          ],
          "line": {
           "color": "DarkSlateGrey",
           "width": 5
          },
          "size": [
           0,
           5
          ]
         },
         "name": "Vector79",
         "type": "scatter3d",
         "x": [
          0,
          2.1995125879639565
         ],
         "y": [
          0,
          -5.757575757575757
         ],
         "z": [
          0,
          -7.874799411487511
         ]
        },
        {
         "marker": {
          "color": [
           "blue"
          ],
          "line": {
           "color": "DarkSlateGrey",
           "width": 5
          },
          "size": [
           0,
           5
          ]
         },
         "name": "Vector80",
         "type": "scatter3d",
         "x": [
          0,
          3.63144603299816
         ],
         "y": [
          0,
          -5.95959595959596
         ],
         "z": [
          0,
          7.162109724640459
         ]
        },
        {
         "marker": {
          "color": [
           "blue"
          ],
          "line": {
           "color": "DarkSlateGrey",
           "width": 5
          },
          "size": [
           0,
           5
          ]
         },
         "name": "Vector81",
         "type": "scatter3d",
         "x": [
          0,
          -7.37156754174631
         ],
         "y": [
          0,
          -6.161616161616161
         ],
         "z": [
          0,
          -2.773892257169119
         ]
        },
        {
         "marker": {
          "color": [
           "blue"
          ],
          "line": {
           "color": "DarkSlateGrey",
           "width": 5
          },
          "size": [
           0,
           5
          ]
         },
         "name": "Vector82",
         "type": "scatter3d",
         "x": [
          0,
          7.158678547352051
         ],
         "y": [
          0,
          -6.363636363636365
         ],
         "z": [
          0,
          -2.873578550707542
         ]
        },
        {
         "marker": {
          "color": [
           "blue"
          ],
          "line": {
           "color": "DarkSlateGrey",
           "width": 5
          },
          "size": [
           0,
           5
          ]
         },
         "name": "Vector83",
         "type": "scatter3d",
         "x": [
          0,
          -3.263439050896584
         ],
         "y": [
          0,
          -6.565656565656566
         ],
         "z": [
          0,
          6.80015583813592
         ]
        },
        {
         "marker": {
          "color": [
           "blue"
          ],
          "line": {
           "color": "DarkSlateGrey",
           "width": 5
          },
          "size": [
           0,
           5
          ]
         },
         "name": "Vector84",
         "type": "scatter3d",
         "x": [
          0,
          -2.134678587671022
         ],
         "y": [
          0,
          -6.767676767676766
         ],
         "z": [
          0,
          -7.045686516982358
         ]
        },
        {
         "marker": {
          "color": [
           "blue"
          ],
          "line": {
           "color": "DarkSlateGrey",
           "width": 5
          },
          "size": [
           0,
           5
          ]
         },
         "name": "Vector85",
         "type": "scatter3d",
         "x": [
          0,
          6.169059083366061
         ],
         "y": [
          0,
          -6.969696969696971
         ],
         "z": [
          0,
          3.6559587219408756
         ]
        },
        {
         "marker": {
          "color": [
           "blue"
          ],
          "line": {
           "color": "DarkSlateGrey",
           "width": 5
          },
          "size": [
           0,
           5
          ]
         },
         "name": "Vector86",
         "type": "scatter3d",
         "x": [
          0,
          -6.820694567402481
         ],
         "y": [
          0,
          -7.171717171717171
         ],
         "z": [
          0,
          1.4298945510433072
         ]
        },
        {
         "marker": {
          "color": [
           "blue"
          ],
          "line": {
           "color": "DarkSlateGrey",
           "width": 5
          },
          "size": [
           0,
           5
          ]
         },
         "name": "Vector87",
         "type": "scatter3d",
         "x": [
          0,
          3.9386410565593444
         ],
         "y": [
          0,
          -7.373737373737375
         ],
         "z": [
          0,
          -5.487723004191606
         ]
        },
        {
         "marker": {
          "color": [
           "blue"
          ],
          "line": {
           "color": "DarkSlateGrey",
           "width": 5
          },
          "size": [
           0,
           5
          ]
         },
         "name": "Vector88",
         "type": "scatter3d",
         "x": [
          0,
          0.7756532525223453
         ],
         "y": [
          0,
          -7.575757575757576
         ],
         "z": [
          0,
          6.481223587039966
         ]
        },
        {
         "marker": {
          "color": [
           "blue"
          ],
          "line": {
           "color": "DarkSlateGrey",
           "width": 5
          },
          "size": [
           0,
           5
          ]
         },
         "name": "Vector89",
         "type": "scatter3d",
         "x": [
          0,
          -4.766371704744871
         ],
         "y": [
          0,
          -7.777777777777777
         ],
         "z": [
          0,
          -4.097300771448646
         ]
        },
        {
         "marker": {
          "color": [
           "blue"
          ],
          "line": {
           "color": "DarkSlateGrey",
           "width": 5
          },
          "size": [
           0,
           5
          ]
         },
         "name": "Vector90",
         "type": "scatter3d",
         "x": [
          0,
          6.023838283936479
         ],
         "y": [
          0,
          -7.97979797979798
         ],
         "z": [
          0,
          -0.1902538582875318
         ]
        },
        {
         "marker": {
          "color": [
           "blue"
          ],
          "line": {
           "color": "DarkSlateGrey",
           "width": 5
          },
          "size": [
           0,
           5
          ]
         },
         "name": "Vector91",
         "type": "scatter3d",
         "x": [
          0,
          -4.114857305574174
         ],
         "y": [
          0,
          -8.181818181818182
         ],
         "z": [
          0,
          4.015694285479447
         ]
        },
        {
         "marker": {
          "color": [
           "blue"
          ],
          "line": {
           "color": "DarkSlateGrey",
           "width": 5
          },
          "size": [
           0,
           5
          ]
         },
         "name": "Vector92",
         "type": "scatter3d",
         "x": [
          0,
          0.3048921500037185
         ],
         "y": [
          0,
          -8.383838383838384
         ],
         "z": [
          0,
          -5.442269262958632
         ]
        },
        {
         "marker": {
          "color": [
           "blue"
          ],
          "line": {
           "color": "DarkSlateGrey",
           "width": 5
          },
          "size": [
           0,
           5
          ]
         },
         "name": "Vector93",
         "type": "scatter3d",
         "x": [
          0,
          3.246162708335984
         ],
         "y": [
          0,
          -8.585858585858585
         ],
         "z": [
          0,
          3.9680549409814376
         ]
        },
        {
         "marker": {
          "color": [
           "blue"
          ],
          "line": {
           "color": "DarkSlateGrey",
           "width": 5
          },
          "size": [
           0,
           5
          ]
         },
         "name": "Vector94",
         "type": "scatter3d",
         "x": [
          0,
          -4.723074498870043
         ],
         "y": [
          0,
          -8.787878787878789
         ],
         "z": [
          0,
          -0.6824614917147549
         ]
        },
        {
         "marker": {
          "color": [
           "blue"
          ],
          "line": {
           "color": "DarkSlateGrey",
           "width": 5
          },
          "size": [
           0,
           5
          ]
         },
         "name": "Vector95",
         "type": "scatter3d",
         "x": [
          0,
          3.619341490546967
         ],
         "y": [
          0,
          -8.98989898989899
         ],
         "z": [
          0,
          -2.466188015180185
         ]
        },
        {
         "marker": {
          "color": [
           "blue"
          ],
          "line": {
           "color": "DarkSlateGrey",
           "width": 5
          },
          "size": [
           0,
           5
          ]
         },
         "name": "Vector96",
         "type": "scatter3d",
         "x": [
          0,
          -0.901783128003129
         ],
         "y": [
          0,
          -9.19191919191919
         ],
         "z": [
          0,
          3.8334591114653276
         ]
        },
        {
         "marker": {
          "color": [
           "blue"
          ],
          "line": {
           "color": "DarkSlateGrey",
           "width": 5
          },
          "size": [
           0,
           5
          ]
         },
         "name": "Vector97",
         "type": "scatter3d",
         "x": [
          0,
          -1.6754301826617048
         ],
         "y": [
          0,
          -9.393939393939394
         ],
         "z": [
          0,
          -2.991126270490721
         ]
        },
        {
         "marker": {
          "color": [
           "blue"
          ],
          "line": {
           "color": "DarkSlateGrey",
           "width": 5
          },
          "size": [
           0,
           5
          ]
         },
         "name": "Vector98",
         "type": "scatter3d",
         "x": [
          0,
          2.6722305411035965
         ],
         "y": [
          0,
          -9.595959595959595
         ],
         "z": [
          0,
          0.8813304532944116
         ]
        },
        {
         "marker": {
          "color": [
           "blue"
          ],
          "line": {
           "color": "DarkSlateGrey",
           "width": 5
          },
          "size": [
           0,
           5
          ]
         },
         "name": "Vector99",
         "type": "scatter3d",
         "x": [
          0,
          -1.8235869564294316
         ],
         "y": [
          0,
          -9.7979797979798
         ],
         "z": [
          0,
          0.8210496274404979
         ]
        },
        {
         "marker": {
          "color": [
           "blue"
          ],
          "line": {
           "color": "DarkSlateGrey",
           "width": 5
          },
          "size": [
           0,
           5
          ]
         },
         "name": "Vector100",
         "type": "scatter3d",
         "x": [
          0,
          0
         ],
         "y": [
          0,
          -1
         ],
         "z": [
          0,
          0
         ]
        }
       ],
       "layout": {
        "margin": {
         "b": 4,
         "l": 4,
         "r": 4,
         "t": 4
        },
        "template": {
         "data": {
          "bar": [
           {
            "error_x": {
             "color": "#2a3f5f"
            },
            "error_y": {
             "color": "#2a3f5f"
            },
            "marker": {
             "line": {
              "color": "#E5ECF6",
              "width": 0.5
             },
             "pattern": {
              "fillmode": "overlay",
              "size": 10,
              "solidity": 0.2
             }
            },
            "type": "bar"
           }
          ],
          "barpolar": [
           {
            "marker": {
             "line": {
              "color": "#E5ECF6",
              "width": 0.5
             },
             "pattern": {
              "fillmode": "overlay",
              "size": 10,
              "solidity": 0.2
             }
            },
            "type": "barpolar"
           }
          ],
          "carpet": [
           {
            "aaxis": {
             "endlinecolor": "#2a3f5f",
             "gridcolor": "white",
             "linecolor": "white",
             "minorgridcolor": "white",
             "startlinecolor": "#2a3f5f"
            },
            "baxis": {
             "endlinecolor": "#2a3f5f",
             "gridcolor": "white",
             "linecolor": "white",
             "minorgridcolor": "white",
             "startlinecolor": "#2a3f5f"
            },
            "type": "carpet"
           }
          ],
          "choropleth": [
           {
            "colorbar": {
             "outlinewidth": 0,
             "ticks": ""
            },
            "type": "choropleth"
           }
          ],
          "contour": [
           {
            "colorbar": {
             "outlinewidth": 0,
             "ticks": ""
            },
            "colorscale": [
             [
              0,
              "#0d0887"
             ],
             [
              0.1111111111111111,
              "#46039f"
             ],
             [
              0.2222222222222222,
              "#7201a8"
             ],
             [
              0.3333333333333333,
              "#9c179e"
             ],
             [
              0.4444444444444444,
              "#bd3786"
             ],
             [
              0.5555555555555556,
              "#d8576b"
             ],
             [
              0.6666666666666666,
              "#ed7953"
             ],
             [
              0.7777777777777778,
              "#fb9f3a"
             ],
             [
              0.8888888888888888,
              "#fdca26"
             ],
             [
              1,
              "#f0f921"
             ]
            ],
            "type": "contour"
           }
          ],
          "contourcarpet": [
           {
            "colorbar": {
             "outlinewidth": 0,
             "ticks": ""
            },
            "type": "contourcarpet"
           }
          ],
          "heatmap": [
           {
            "colorbar": {
             "outlinewidth": 0,
             "ticks": ""
            },
            "colorscale": [
             [
              0,
              "#0d0887"
             ],
             [
              0.1111111111111111,
              "#46039f"
             ],
             [
              0.2222222222222222,
              "#7201a8"
             ],
             [
              0.3333333333333333,
              "#9c179e"
             ],
             [
              0.4444444444444444,
              "#bd3786"
             ],
             [
              0.5555555555555556,
              "#d8576b"
             ],
             [
              0.6666666666666666,
              "#ed7953"
             ],
             [
              0.7777777777777778,
              "#fb9f3a"
             ],
             [
              0.8888888888888888,
              "#fdca26"
             ],
             [
              1,
              "#f0f921"
             ]
            ],
            "type": "heatmap"
           }
          ],
          "heatmapgl": [
           {
            "colorbar": {
             "outlinewidth": 0,
             "ticks": ""
            },
            "colorscale": [
             [
              0,
              "#0d0887"
             ],
             [
              0.1111111111111111,
              "#46039f"
             ],
             [
              0.2222222222222222,
              "#7201a8"
             ],
             [
              0.3333333333333333,
              "#9c179e"
             ],
             [
              0.4444444444444444,
              "#bd3786"
             ],
             [
              0.5555555555555556,
              "#d8576b"
             ],
             [
              0.6666666666666666,
              "#ed7953"
             ],
             [
              0.7777777777777778,
              "#fb9f3a"
             ],
             [
              0.8888888888888888,
              "#fdca26"
             ],
             [
              1,
              "#f0f921"
             ]
            ],
            "type": "heatmapgl"
           }
          ],
          "histogram": [
           {
            "marker": {
             "pattern": {
              "fillmode": "overlay",
              "size": 10,
              "solidity": 0.2
             }
            },
            "type": "histogram"
           }
          ],
          "histogram2d": [
           {
            "colorbar": {
             "outlinewidth": 0,
             "ticks": ""
            },
            "colorscale": [
             [
              0,
              "#0d0887"
             ],
             [
              0.1111111111111111,
              "#46039f"
             ],
             [
              0.2222222222222222,
              "#7201a8"
             ],
             [
              0.3333333333333333,
              "#9c179e"
             ],
             [
              0.4444444444444444,
              "#bd3786"
             ],
             [
              0.5555555555555556,
              "#d8576b"
             ],
             [
              0.6666666666666666,
              "#ed7953"
             ],
             [
              0.7777777777777778,
              "#fb9f3a"
             ],
             [
              0.8888888888888888,
              "#fdca26"
             ],
             [
              1,
              "#f0f921"
             ]
            ],
            "type": "histogram2d"
           }
          ],
          "histogram2dcontour": [
           {
            "colorbar": {
             "outlinewidth": 0,
             "ticks": ""
            },
            "colorscale": [
             [
              0,
              "#0d0887"
             ],
             [
              0.1111111111111111,
              "#46039f"
             ],
             [
              0.2222222222222222,
              "#7201a8"
             ],
             [
              0.3333333333333333,
              "#9c179e"
             ],
             [
              0.4444444444444444,
              "#bd3786"
             ],
             [
              0.5555555555555556,
              "#d8576b"
             ],
             [
              0.6666666666666666,
              "#ed7953"
             ],
             [
              0.7777777777777778,
              "#fb9f3a"
             ],
             [
              0.8888888888888888,
              "#fdca26"
             ],
             [
              1,
              "#f0f921"
             ]
            ],
            "type": "histogram2dcontour"
           }
          ],
          "mesh3d": [
           {
            "colorbar": {
             "outlinewidth": 0,
             "ticks": ""
            },
            "type": "mesh3d"
           }
          ],
          "parcoords": [
           {
            "line": {
             "colorbar": {
              "outlinewidth": 0,
              "ticks": ""
             }
            },
            "type": "parcoords"
           }
          ],
          "pie": [
           {
            "automargin": true,
            "type": "pie"
           }
          ],
          "scatter": [
           {
            "marker": {
             "colorbar": {
              "outlinewidth": 0,
              "ticks": ""
             }
            },
            "type": "scatter"
           }
          ],
          "scatter3d": [
           {
            "line": {
             "colorbar": {
              "outlinewidth": 0,
              "ticks": ""
             }
            },
            "marker": {
             "colorbar": {
              "outlinewidth": 0,
              "ticks": ""
             }
            },
            "type": "scatter3d"
           }
          ],
          "scattercarpet": [
           {
            "marker": {
             "colorbar": {
              "outlinewidth": 0,
              "ticks": ""
             }
            },
            "type": "scattercarpet"
           }
          ],
          "scattergeo": [
           {
            "marker": {
             "colorbar": {
              "outlinewidth": 0,
              "ticks": ""
             }
            },
            "type": "scattergeo"
           }
          ],
          "scattergl": [
           {
            "marker": {
             "colorbar": {
              "outlinewidth": 0,
              "ticks": ""
             }
            },
            "type": "scattergl"
           }
          ],
          "scattermapbox": [
           {
            "marker": {
             "colorbar": {
              "outlinewidth": 0,
              "ticks": ""
             }
            },
            "type": "scattermapbox"
           }
          ],
          "scatterpolar": [
           {
            "marker": {
             "colorbar": {
              "outlinewidth": 0,
              "ticks": ""
             }
            },
            "type": "scatterpolar"
           }
          ],
          "scatterpolargl": [
           {
            "marker": {
             "colorbar": {
              "outlinewidth": 0,
              "ticks": ""
             }
            },
            "type": "scatterpolargl"
           }
          ],
          "scatterternary": [
           {
            "marker": {
             "colorbar": {
              "outlinewidth": 0,
              "ticks": ""
             }
            },
            "type": "scatterternary"
           }
          ],
          "surface": [
           {
            "colorbar": {
             "outlinewidth": 0,
             "ticks": ""
            },
            "colorscale": [
             [
              0,
              "#0d0887"
             ],
             [
              0.1111111111111111,
              "#46039f"
             ],
             [
              0.2222222222222222,
              "#7201a8"
             ],
             [
              0.3333333333333333,
              "#9c179e"
             ],
             [
              0.4444444444444444,
              "#bd3786"
             ],
             [
              0.5555555555555556,
              "#d8576b"
             ],
             [
              0.6666666666666666,
              "#ed7953"
             ],
             [
              0.7777777777777778,
              "#fb9f3a"
             ],
             [
              0.8888888888888888,
              "#fdca26"
             ],
             [
              1,
              "#f0f921"
             ]
            ],
            "type": "surface"
           }
          ],
          "table": [
           {
            "cells": {
             "fill": {
              "color": "#EBF0F8"
             },
             "line": {
              "color": "white"
             }
            },
            "header": {
             "fill": {
              "color": "#C8D4E3"
             },
             "line": {
              "color": "white"
             }
            },
            "type": "table"
           }
          ]
         },
         "layout": {
          "annotationdefaults": {
           "arrowcolor": "#2a3f5f",
           "arrowhead": 0,
           "arrowwidth": 1
          },
          "autotypenumbers": "strict",
          "coloraxis": {
           "colorbar": {
            "outlinewidth": 0,
            "ticks": ""
           }
          },
          "colorscale": {
           "diverging": [
            [
             0,
             "#8e0152"
            ],
            [
             0.1,
             "#c51b7d"
            ],
            [
             0.2,
             "#de77ae"
            ],
            [
             0.3,
             "#f1b6da"
            ],
            [
             0.4,
             "#fde0ef"
            ],
            [
             0.5,
             "#f7f7f7"
            ],
            [
             0.6,
             "#e6f5d0"
            ],
            [
             0.7,
             "#b8e186"
            ],
            [
             0.8,
             "#7fbc41"
            ],
            [
             0.9,
             "#4d9221"
            ],
            [
             1,
             "#276419"
            ]
           ],
           "sequential": [
            [
             0,
             "#0d0887"
            ],
            [
             0.1111111111111111,
             "#46039f"
            ],
            [
             0.2222222222222222,
             "#7201a8"
            ],
            [
             0.3333333333333333,
             "#9c179e"
            ],
            [
             0.4444444444444444,
             "#bd3786"
            ],
            [
             0.5555555555555556,
             "#d8576b"
            ],
            [
             0.6666666666666666,
             "#ed7953"
            ],
            [
             0.7777777777777778,
             "#fb9f3a"
            ],
            [
             0.8888888888888888,
             "#fdca26"
            ],
            [
             1,
             "#f0f921"
            ]
           ],
           "sequentialminus": [
            [
             0,
             "#0d0887"
            ],
            [
             0.1111111111111111,
             "#46039f"
            ],
            [
             0.2222222222222222,
             "#7201a8"
            ],
            [
             0.3333333333333333,
             "#9c179e"
            ],
            [
             0.4444444444444444,
             "#bd3786"
            ],
            [
             0.5555555555555556,
             "#d8576b"
            ],
            [
             0.6666666666666666,
             "#ed7953"
            ],
            [
             0.7777777777777778,
             "#fb9f3a"
            ],
            [
             0.8888888888888888,
             "#fdca26"
            ],
            [
             1,
             "#f0f921"
            ]
           ]
          },
          "colorway": [
           "#636efa",
           "#EF553B",
           "#00cc96",
           "#ab63fa",
           "#FFA15A",
           "#19d3f3",
           "#FF6692",
           "#B6E880",
           "#FF97FF",
           "#FECB52"
          ],
          "font": {
           "color": "#2a3f5f"
          },
          "geo": {
           "bgcolor": "white",
           "lakecolor": "white",
           "landcolor": "#E5ECF6",
           "showlakes": true,
           "showland": true,
           "subunitcolor": "white"
          },
          "hoverlabel": {
           "align": "left"
          },
          "hovermode": "closest",
          "mapbox": {
           "style": "light"
          },
          "paper_bgcolor": "white",
          "plot_bgcolor": "#E5ECF6",
          "polar": {
           "angularaxis": {
            "gridcolor": "white",
            "linecolor": "white",
            "ticks": ""
           },
           "bgcolor": "#E5ECF6",
           "radialaxis": {
            "gridcolor": "white",
            "linecolor": "white",
            "ticks": ""
           }
          },
          "scene": {
           "xaxis": {
            "backgroundcolor": "#E5ECF6",
            "gridcolor": "white",
            "gridwidth": 2,
            "linecolor": "white",
            "showbackground": true,
            "ticks": "",
            "zerolinecolor": "white"
           },
           "yaxis": {
            "backgroundcolor": "#E5ECF6",
            "gridcolor": "white",
            "gridwidth": 2,
            "linecolor": "white",
            "showbackground": true,
            "ticks": "",
            "zerolinecolor": "white"
           },
           "zaxis": {
            "backgroundcolor": "#E5ECF6",
            "gridcolor": "white",
            "gridwidth": 2,
            "linecolor": "white",
            "showbackground": true,
            "ticks": "",
            "zerolinecolor": "white"
           }
          },
          "shapedefaults": {
           "line": {
            "color": "#2a3f5f"
           }
          },
          "ternary": {
           "aaxis": {
            "gridcolor": "white",
            "linecolor": "white",
            "ticks": ""
           },
           "baxis": {
            "gridcolor": "white",
            "linecolor": "white",
            "ticks": ""
           },
           "bgcolor": "#E5ECF6",
           "caxis": {
            "gridcolor": "white",
            "linecolor": "white",
            "ticks": ""
           }
          },
          "title": {
           "x": 0.05
          },
          "xaxis": {
           "automargin": true,
           "gridcolor": "white",
           "linecolor": "white",
           "ticks": "",
           "title": {
            "standoff": 15
           },
           "zerolinecolor": "white",
           "zerolinewidth": 2
          },
          "yaxis": {
           "automargin": true,
           "gridcolor": "white",
           "linecolor": "white",
           "ticks": "",
           "title": {
            "standoff": 15
           },
           "zerolinecolor": "white",
           "zerolinewidth": 2
          }
         }
        }
       }
      },
      "text/html": [
       "<div>                            <div id=\"74c9aeca-70e5-4fba-b455-24b9635a2159\" class=\"plotly-graph-div\" style=\"height:525px; width:100%;\"></div>            <script type=\"text/javascript\">                require([\"plotly\"], function(Plotly) {                    window.PLOTLYENV=window.PLOTLYENV || {};                                    if (document.getElementById(\"74c9aeca-70e5-4fba-b455-24b9635a2159\")) {                    Plotly.newPlot(                        \"74c9aeca-70e5-4fba-b455-24b9635a2159\",                        [{\"marker\":{\"color\":[\"blue\"],\"line\":{\"color\":\"DarkSlateGrey\",\"width\":5},\"size\":[0,5]},\"name\":\"Vector1\",\"type\":\"scatter3d\",\"x\":[0,0.0],\"y\":[0,10.0],\"z\":[0,0.0]},{\"marker\":{\"color\":[\"blue\"],\"line\":{\"color\":\"DarkSlateGrey\",\"width\":5},\"size\":[0,5]},\"name\":\"Vector2\",\"type\":\"scatter3d\",\"x\":[0,-1.4746625201921926],\"y\":[0,9.797979797979798],\"z\":[0,1.3509116662166227]},{\"marker\":{\"color\":[\"blue\"],\"line\":{\"color\":\"DarkSlateGrey\",\"width\":5},\"size\":[0,5]},\"name\":\"Vector3\",\"type\":\"scatter3d\",\"x\":[0,0.24599988672162226],\"y\":[0,9.595959595959595],\"z\":[0,-2.803041827808479]},{\"marker\":{\"color\":[\"blue\"],\"line\":{\"color\":\"DarkSlateGrey\",\"width\":5},\"size\":[0,5]},\"name\":\"Vector4\",\"type\":\"scatter3d\",\"x\":[0,2.085969670475504],\"y\":[0,9.393939393939394],\"z\":[0,2.7207780499059235]},{\"marker\":{\"color\":[\"blue\"],\"line\":{\"color\":\"DarkSlateGrey\",\"width\":5},\"size\":[0,5]},\"name\":\"Vector5\",\"type\":\"scatter3d\",\"x\":[0,-3.8778989211836534],\"y\":[0,9.191919191919192],\"z\":[0,-0.6859457167373212]},{\"marker\":{\"color\":[\"blue\"],\"line\":{\"color\":\"DarkSlateGrey\",\"width\":5},\"size\":[0,5]},\"name\":\"Vector6\",\"type\":\"scatter3d\",\"x\":[0,3.695389676362656],\"y\":[0,8.98989898989899],\"z\":[0,-2.3507044244748045]},{\"marker\":{\"color\":[\"blue\"],\"line\":{\"color\":\"DarkSlateGrey\",\"width\":5},\"size\":[0,5]},\"name\":\"Vector7\",\"type\":\"scatter3d\",\"x\":[0,-1.2388644490434448],\"y\":[0,8.787878787878787],\"z\":[0,4.60851399981017]},{\"marker\":{\"color\":[\"blue\"],\"line\":{\"color\":\"DarkSlateGrey\",\"width\":5},\"size\":[0,5]},\"name\":\"Vector8\",\"type\":\"scatter3d\",\"x\":[0,-2.362931120005442],\"y\":[0,8.585858585858585],\"z\":[0,-4.549680083890321]},{\"marker\":{\"color\":[\"blue\"],\"line\":{\"color\":\"DarkSlateGrey\",\"width\":5},\"size\":[0,5]},\"name\":\"Vector9\",\"type\":\"scatter3d\",\"x\":[0,5.1200553924297365],\"y\":[0,8.383838383838384],\"z\":[0,1.8698360174436122]},{\"marker\":{\"color\":[\"blue\"],\"line\":{\"color\":\"DarkSlateGrey\",\"width\":5},\"size\":[0,5]},\"name\":\"Vector10\",\"type\":\"scatter3d\",\"x\":[0,-5.314613277182722],\"y\":[0,8.181818181818182],\"z\":[0,2.193795102935222]},{\"marker\":{\"color\":[\"blue\"],\"line\":{\"color\":\"DarkSlateGrey\",\"width\":5},\"size\":[0,5]},\"name\":\"Vector11\",\"type\":\"scatter3d\",\"x\":[0,2.554452834241677],\"y\":[0,7.97979797979798],\"z\":[0,-5.458717332784941]},{\"marker\":{\"color\":[\"blue\"],\"line\":{\"color\":\"DarkSlateGrey\",\"width\":5},\"size\":[0,5]},\"name\":\"Vector12\",\"type\":\"scatter3d\",\"x\":[0,1.8811168893216454],\"y\":[0,7.777777777777778],\"z\":[0,5.997297065196539]},{\"marker\":{\"color\":[\"blue\"],\"line\":{\"color\":\"DarkSlateGrey\",\"width\":5},\"size\":[0,5]},\"name\":\"Vector13\",\"type\":\"scatter3d\",\"x\":[0,-5.647642372728926],\"y\":[0,7.575757575757576],\"z\":[0,-3.2729241945252103]},{\"marker\":{\"color\":[\"blue\"],\"line\":{\"color\":\"DarkSlateGrey\",\"width\":5},\"size\":[0,5]},\"name\":\"Vector14\",\"type\":\"scatter3d\",\"x\":[0,6.597298249772894],\"y\":[0,7.373737373737374],\"z\":[0,-1.450397513336312]},{\"marker\":{\"color\":[\"blue\"],\"line\":{\"color\":\"DarkSlateGrey\",\"width\":5},\"size\":[0,5]},\"name\":\"Vector15\",\"type\":\"scatter3d\",\"x\":[0,-4.008056847193861],\"y\":[0,7.171717171717171],\"z\":[0,5.7010484227516836]},{\"marker\":{\"color\":[\"blue\"],\"line\":{\"color\":\"DarkSlateGrey\",\"width\":5},\"size\":[0,5]},\"name\":\"Vector16\",\"type\":\"scatter3d\",\"x\":[0,-0.9215509016145574],\"y\":[0,6.969696969696971],\"z\":[0,-7.111544704656666]},{\"marker\":{\"color\":[\"blue\"],\"line\":{\"color\":\"DarkSlateGrey\",\"width\":5},\"size\":[0,5]},\"name\":\"Vector17\",\"type\":\"scatter3d\",\"x\":[0,5.629320310676115],\"y\":[0,6.767676767676766],\"z\":[0,4.744397117448908]},{\"marker\":{\"color\":[\"blue\"],\"line\":{\"color\":\"DarkSlateGrey\",\"width\":5},\"size\":[0,5]},\"name\":\"Vector18\",\"type\":\"scatter3d\",\"x\":[0,-7.53624771987667],\"y\":[0,6.565656565656566],\"z\":[0,0.31164750360707605]},{\"marker\":{\"color\":[\"blue\"],\"line\":{\"color\":\"DarkSlateGrey\",\"width\":5},\"size\":[0,5]},\"name\":\"Vector19\",\"type\":\"scatter3d\",\"x\":[0,5.467833660637458],\"y\":[0,6.363636363636363],\"z\":[0,-5.441224796955639]},{\"marker\":{\"color\":[\"blue\"],\"line\":{\"color\":\"DarkSlateGrey\",\"width\":5},\"size\":[0,5]},\"name\":\"Vector20\",\"type\":\"scatter3d\",\"x\":[0,-0.3638129487435007],\"y\":[0,6.161616161616161],\"z\":[0,7.867790440475463]},{\"marker\":{\"color\":[\"blue\"],\"line\":{\"color\":\"DarkSlateGrey\",\"width\":5},\"size\":[0,5]},\"name\":\"Vector21\",\"type\":\"scatter3d\",\"x\":[0,-5.144986829326802],\"y\":[0,5.95959595959596],\"z\":[0,-6.165413735056331]},{\"marker\":{\"color\":[\"blue\"],\"line\":{\"color\":\"DarkSlateGrey\",\"width\":5},\"size\":[0,5]},\"name\":\"Vector22\",\"type\":\"scatter3d\",\"x\":[0,8.10318627523005],\"y\":[0,5.757575757575757],\"z\":[0,1.090272252558633]},{\"marker\":{\"color\":[\"blue\"],\"line\":{\"color\":\"DarkSlateGrey\",\"width\":5},\"size\":[0,5]},\"name\":\"Vector23\",\"type\":\"scatter3d\",\"x\":[0,-6.825268133340844],\"y\":[0,5.555555555555555],\"z\":[0,4.748843793718403]},{\"marker\":{\"color\":[\"blue\"],\"line\":{\"color\":\"DarkSlateGrey\",\"width\":5},\"size\":[0,5]},\"name\":\"Vector24\",\"type\":\"scatter3d\",\"x\":[0,1.8538012732823734],\"y\":[0,5.353535353535354],\"z\":[0,-8.24033252105907]},{\"marker\":{\"color\":[\"blue\"],\"line\":{\"color\":\"DarkSlateGrey\",\"width\":5},\"size\":[0,5]},\"name\":\"Vector25\",\"type\":\"scatter3d\",\"x\":[0,4.261332947445106],\"y\":[0,5.151515151515151],\"z\":[0,7.436594190536998]},{\"marker\":{\"color\":[\"blue\"],\"line\":{\"color\":\"DarkSlateGrey\",\"width\":5},\"size\":[0,5]},\"name\":\"Vector26\",\"type\":\"scatter3d\",\"x\":[0,-8.278154695967782],\"y\":[0,4.949494949494949],\"z\":[0,-2.6409571322818834]},{\"marker\":{\"color\":[\"blue\"],\"line\":{\"color\":\"DarkSlateGrey\",\"width\":5},\"size\":[0,5]},\"name\":\"Vector27\",\"type\":\"scatter3d\",\"x\":[0,7.989669998181965],\"y\":[0,4.747474747474747],\"z\":[0,-3.6914301892681896]},{\"marker\":{\"color\":[\"blue\"],\"line\":{\"color\":\"DarkSlateGrey\",\"width\":5},\"size\":[0,5]},\"name\":\"Vector28\",\"type\":\"scatter3d\",\"x\":[0,-3.4387369489002784],\"y\":[0,4.545454545454546],\"z\":[0,8.216686142933453]},{\"marker\":{\"color\":[\"blue\"],\"line\":{\"color\":\"DarkSlateGrey\",\"width\":5},\"size\":[0,5]},\"name\":\"Vector29\",\"type\":\"scatter3d\",\"x\":[0,-3.0485999243134883],\"y\":[0,4.343434343434343],\"z\":[0,-8.475884414369443]},{\"marker\":{\"color\":[\"blue\"],\"line\":{\"color\":\"DarkSlateGrey\",\"width\":5},\"size\":[0,5]},\"name\":\"Vector30\",\"type\":\"scatter3d\",\"x\":[0,8.057105364694971],\"y\":[0,4.141414141414142],\"z\":[0,4.234588770057667]},{\"marker\":{\"color\":[\"blue\"],\"line\":{\"color\":\"DarkSlateGrey\",\"width\":5},\"size\":[0,5]},\"name\":\"Vector31\",\"type\":\"scatter3d\",\"x\":[0,-8.887773463851525],\"y\":[0,3.9393939393939394],\"z\":[0,2.3427885618473887]},{\"marker\":{\"color\":[\"blue\"],\"line\":{\"color\":\"DarkSlateGrey\",\"width\":5},\"size\":[0,5]},\"name\":\"Vector32\",\"type\":\"scatter3d\",\"x\":[0,5.016456981916779],\"y\":[0,3.737373737373737],\"z\":[0,-7.801743195963802]},{\"marker\":{\"color\":[\"blue\"],\"line\":{\"color\":\"DarkSlateGrey\",\"width\":5},\"size\":[0,5]},\"name\":\"Vector33\",\"type\":\"scatter3d\",\"x\":[0,1.584380564140349],\"y\":[0,3.5353535353535346],\"z\":[0,9.219057088880488]},{\"marker\":{\"color\":[\"blue\"],\"line\":{\"color\":\"DarkSlateGrey\",\"width\":5},\"size\":[0,5]},\"name\":\"Vector34\",\"type\":\"scatter3d\",\"x\":[0,-7.454066778203466],\"y\":[0,3.333333333333334],\"z\":[0,-5.772848287888075]},{\"marker\":{\"color\":[\"blue\"],\"line\":{\"color\":\"DarkSlateGrey\",\"width\":5},\"size\":[0,5]},\"name\":\"Vector35\",\"type\":\"scatter3d\",\"x\":[0,9.464672217388467],\"y\":[0,3.1313131313131315],\"z\":[0,-0.7841287464828883]},{\"marker\":{\"color\":[\"blue\"],\"line\":{\"color\":\"DarkSlateGrey\",\"width\":5},\"size\":[0,5]},\"name\":\"Vector36\",\"type\":\"scatter3d\",\"x\":[0,-6.492909240678544],\"y\":[0,2.929292929292929],\"z\":[0,7.018644636018099]},{\"marker\":{\"color\":[\"blue\"],\"line\":{\"color\":\"DarkSlateGrey\",\"width\":5},\"size\":[0,5]},\"name\":\"Vector37\",\"type\":\"scatter3d\",\"x\":[0,0.04693348436698646],\"y\":[0,2.727272727272727],\"z\":[0,-9.62079938046312]},{\"marker\":{\"color\":[\"blue\"],\"line\":{\"color\":\"DarkSlateGrey\",\"width\":5},\"size\":[0,5]},\"name\":\"Vector38\",\"type\":\"scatter3d\",\"x\":[0,6.501095730811276],\"y\":[0,2.525252525252525],\"z\":[0,7.166509190849695]},{\"marker\":{\"color\":[\"blue\"],\"line\":{\"color\":\"DarkSlateGrey\",\"width\":5},\"size\":[0,5]},\"name\":\"Vector39\",\"type\":\"scatter3d\",\"x\":[0,-9.684880955101908],\"y\":[0,2.3232323232323235],\"z\":[0,-0.8975925900946813]},{\"marker\":{\"color\":[\"blue\"],\"line\":{\"color\":\"DarkSlateGrey\",\"width\":5},\"size\":[0,5]},\"name\":\"Vector40\",\"type\":\"scatter3d\",\"x\":[0,7.784324280224146],\"y\":[0,2.1212121212121215],\"z\":[0,-5.908024596862779]},{\"marker\":{\"color\":[\"blue\"],\"line\":{\"color\":\"DarkSlateGrey\",\"width\":5},\"size\":[0,5]},\"name\":\"Vector41\",\"type\":\"scatter3d\",\"x\":[0,-1.7565640922420143],\"y\":[0,1.9191919191919193],\"z\":[0,9.65562970329509]},{\"marker\":{\"color\":[\"blue\"],\"line\":{\"color\":\"DarkSlateGrey\",\"width\":5},\"size\":[0,5]},\"name\":\"Vector42\",\"type\":\"scatter3d\",\"x\":[0,-5.24694425012087],\"y\":[0,1.7171717171717171],\"z\":[0,-8.337919244623869]},{\"marker\":{\"color\":[\"blue\"],\"line\":{\"color\":\"DarkSlateGrey\",\"width\":5},\"size\":[0,5]},\"name\":\"Vector43\",\"type\":\"scatter3d\",\"x\":[0,9.53302672153812],\"y\":[0,1.515151515151515],\"z\":[0,2.6126073973282393]},{\"marker\":{\"color\":[\"blue\"],\"line\":{\"color\":\"DarkSlateGrey\",\"width\":5},\"size\":[0,5]},\"name\":\"Vector44\",\"type\":\"scatter3d\",\"x\":[0,-8.819824557590271],\"y\":[0,1.3131313131313127],\"z\":[0,4.526188344269561]},{\"marker\":{\"color\":[\"blue\"],\"line\":{\"color\":\"DarkSlateGrey\",\"width\":5},\"size\":[0,5]},\"name\":\"Vector45\",\"type\":\"scatter3d\",\"x\":[0,3.454643719150054],\"y\":[0,1.1111111111111116],\"z\":[0,-9.31830826236729]},{\"marker\":{\"color\":[\"blue\"],\"line\":{\"color\":\"DarkSlateGrey\",\"width\":5},\"size\":[0,5]},\"name\":\"Vector46\",\"type\":\"scatter3d\",\"x\":[0,3.754813946348314],\"y\":[0,0.9090909090909094],\"z\":[0,9.223606992240967]},{\"marker\":{\"color\":[\"blue\"],\"line\":{\"color\":\"DarkSlateGrey\",\"width\":5},\"size\":[0,5]},\"name\":\"Vector47\",\"type\":\"scatter3d\",\"x\":[0,-9.013941175375193],\"y\":[0,0.7070707070707072],\"z\":[0,-4.271874939892109]},{\"marker\":{\"color\":[\"blue\"],\"line\":{\"color\":\"DarkSlateGrey\",\"width\":5},\"size\":[0,5]},\"name\":\"Vector48\",\"type\":\"scatter3d\",\"x\":[0,9.543932088315646],\"y\":[0,0.505050505050505],\"z\":[0,-2.9424962669419314]},{\"marker\":{\"color\":[\"blue\"],\"line\":{\"color\":\"DarkSlateGrey\",\"width\":5},\"size\":[0,5]},\"name\":\"Vector49\",\"type\":\"scatter3d\",\"x\":[0,-5.053901519770722],\"y\":[0,0.30303030303030276],\"z\":[0,8.623586960418764]},{\"marker\":{\"color\":[\"blue\"],\"line\":{\"color\":\"DarkSlateGrey\",\"width\":5},\"size\":[0,5]},\"name\":\"Vector50\",\"type\":\"scatter3d\",\"x\":[0,-2.0994166796485794],\"y\":[0,0.10101010101010055],\"z\":[0,-9.776617337541]},{\"marker\":{\"color\":[\"blue\"],\"line\":{\"color\":\"DarkSlateGrey\",\"width\":5},\"size\":[0,5]},\"name\":\"Vector51\",\"type\":\"scatter3d\",\"x\":[0,8.152054643909256],\"y\":[0,-0.10101010101010166],\"z\":[0,5.790837766870305]},{\"marker\":{\"color\":[\"blue\"],\"line\":{\"color\":\"DarkSlateGrey\",\"width\":5},\"size\":[0,5]},\"name\":\"Vector52\",\"type\":\"scatter3d\",\"x\":[0,-9.918675174806253],\"y\":[0,-0.30303030303030276],\"z\":[0,1.2361453847050048]},{\"marker\":{\"color\":[\"blue\"],\"line\":{\"color\":\"DarkSlateGrey\",\"width\":5},\"size\":[0,5]},\"name\":\"Vector53\",\"type\":\"scatter3d\",\"x\":[0,6.473422941630272],\"y\":[0,-0.5050505050505061],\"z\":[0,-7.605242889357521]},{\"marker\":{\"color\":[\"blue\"],\"line\":{\"color\":\"DarkSlateGrey\",\"width\":5},\"size\":[0,5]},\"name\":\"Vector54\",\"type\":\"scatter3d\",\"x\":[0,0.36352010274409163],\"y\":[0,-0.7070707070707072],\"z\":[0,9.968345105889114]},{\"marker\":{\"color\":[\"blue\"],\"line\":{\"color\":\"DarkSlateGrey\",\"width\":5},\"size\":[0,5]},\"name\":\"Vector55\",\"type\":\"scatter3d\",\"x\":[0,-6.990071942575041],\"y\":[0,-0.9090909090909083],\"z\":[0,-7.093126810979307]},{\"marker\":{\"color\":[\"blue\"],\"line\":{\"color\":\"DarkSlateGrey\",\"width\":5},\"size\":[0,5]},\"name\":\"Vector56\",\"type\":\"scatter3d\",\"x\":[0,9.925114528466924],\"y\":[0,-1.1111111111111116],\"z\":[0,0.5074777784102473]},{\"marker\":{\"color\":[\"blue\"],\"line\":{\"color\":\"DarkSlateGrey\",\"width\":5},\"size\":[0,5]},\"name\":\"Vector57\",\"type\":\"scatter3d\",\"x\":[0,-7.6422483960345975],\"y\":[0,-1.3131313131313127],\"z\":[0,6.314406195976046]},{\"marker\":{\"color\":[\"blue\"],\"line\":{\"color\":\"DarkSlateGrey\",\"width\":5},\"size\":[0,5]},\"name\":\"Vector58\",\"type\":\"scatter3d\",\"x\":[0,1.3658481401054057],\"y\":[0,-1.515151515151516],\"z\":[0,-9.789728021978172]},{\"marker\":{\"color\":[\"blue\"],\"line\":{\"color\":\"DarkSlateGrey\",\"width\":5},\"size\":[0,5]},\"name\":\"Vector59\",\"type\":\"scatter3d\",\"x\":[0,5.586968341301761],\"y\":[0,-1.7171717171717171],\"z\":[0,8.114006781303388]},{\"marker\":{\"color\":[\"blue\"],\"line\":{\"color\":\"DarkSlateGrey\",\"width\":5},\"size\":[0,5]},\"name\":\"Vector60\",\"type\":\"scatter3d\",\"x\":[0,-9.564185101904323],\"y\":[0,-1.9191919191919182],\"z\":[0,-2.200696642842859]},{\"marker\":{\"color\":[\"blue\"],\"line\":{\"color\":\"DarkSlateGrey\",\"width\":5},\"size\":[0,5]},\"name\":\"Vector61\",\"type\":\"scatter3d\",\"x\":[0,8.502622976531624],\"y\":[0,-2.1212121212121215],\"z\":[0,-4.81724627310866]},{\"marker\":{\"color\":[\"blue\"],\"line\":{\"color\":\"DarkSlateGrey\",\"width\":5},\"size\":[0,5]},\"name\":\"Vector62\",\"type\":\"scatter3d\",\"x\":[0,-3.001357245994345],\"y\":[0,-2.3232323232323226],\"z\":[0,9.25172666339672]},{\"marker\":{\"color\":[\"blue\"],\"line\":{\"color\":\"DarkSlateGrey\",\"width\":5},\"size\":[0,5]},\"name\":\"Vector63\",\"type\":\"scatter3d\",\"x\":[0,-4.015394116545673],\"y\":[0,-2.525252525252526],\"z\":[0,-8.803391947000664]},{\"marker\":{\"color\":[\"blue\"],\"line\":{\"color\":\"DarkSlateGrey\",\"width\":5},\"size\":[0,5]},\"name\":\"Vector64\",\"type\":\"scatter3d\",\"x\":[0,8.856810587479377],\"y\":[0,-2.727272727272727],\"z\":[0,3.7575111029227326]},{\"marker\":{\"color\":[\"blue\"],\"line\":{\"color\":\"DarkSlateGrey\",\"width\":5},\"size\":[0,5]},\"name\":\"Vector65\",\"type\":\"scatter3d\",\"x\":[0,-9.01274405499193],\"y\":[0,-2.9292929292929304],\"z\":[0,3.1921289970178273]},{\"marker\":{\"color\":[\"blue\"],\"line\":{\"color\":\"DarkSlateGrey\",\"width\":5},\"size\":[0,5]},\"name\":\"Vector66\",\"type\":\"scatter3d\",\"x\":[0,4.459300097862065],\"y\":[0,-3.1313131313131315],\"z\":[0,-8.385077263261998]},{\"marker\":{\"color\":[\"blue\"],\"line\":{\"color\":\"DarkSlateGrey\",\"width\":5},\"size\":[0,5]},\"name\":\"Vector67\",\"type\":\"scatter3d\",\"x\":[0,2.3586254690164377],\"y\":[0,-3.3333333333333326],\"z\":[0,9.128295283665832]},{\"marker\":{\"color\":[\"blue\"],\"line\":{\"color\":\"DarkSlateGrey\",\"width\":5},\"size\":[0,5]},\"name\":\"Vector68\",\"type\":\"scatter3d\",\"x\":[0,-7.843306110813986],\"y\":[0,-3.535353535353536],\"z\":[0,-5.097433141506738]},{\"marker\":{\"color\":[\"blue\"],\"line\":{\"color\":\"DarkSlateGrey\",\"width\":5},\"size\":[0,5]},\"name\":\"Vector69\",\"type\":\"scatter3d\",\"x\":[0,9.148885742302104],\"y\":[0,-3.737373737373737],\"z\":[0,-1.5264099126677408]},{\"marker\":{\"color\":[\"blue\"],\"line\":{\"color\":\"DarkSlateGrey\",\"width\":5},\"size\":[0,5]},\"name\":\"Vector70\",\"type\":\"scatter3d\",\"x\":[0,-5.663283107791219],\"y\":[0,-3.9393939393939403],\"z\":[0,7.23936460134955]},{\"marker\":{\"color\":[\"blue\"],\"line\":{\"color\":\"DarkSlateGrey\",\"width\":5},\"size\":[0,5]},\"name\":\"Vector71\",\"type\":\"scatter3d\",\"x\":[0,-0.7072577480976395],\"y\":[0,-4.141414141414142],\"z\":[0,-9.074606073381412]},{\"marker\":{\"color\":[\"blue\"],\"line\":{\"color\":\"DarkSlateGrey\",\"width\":5},\"size\":[0,5]},\"name\":\"Vector72\",\"type\":\"scatter3d\",\"x\":[0,6.582151812328982],\"y\":[0,-4.3434343434343425],\"z\":[0,6.148971915997778]},{\"marker\":{\"color\":[\"blue\"],\"line\":{\"color\":\"DarkSlateGrey\",\"width\":5},\"size\":[0,5]},\"name\":\"Vector73\",\"type\":\"scatter3d\",\"x\":[0,-8.906811486863097],\"y\":[0,-4.545454545454546],\"z\":[0,-0.08690289230056056]},{\"marker\":{\"color\":[\"blue\"],\"line\":{\"color\":\"DarkSlateGrey\",\"width\":5},\"size\":[0,5]},\"name\":\"Vector74\",\"type\":\"scatter3d\",\"x\":[0,6.547440638983667],\"y\":[0,-4.747474747474747],\"z\":[0,-5.881539305409319]},{\"marker\":{\"color\":[\"blue\"],\"line\":{\"color\":\"DarkSlateGrey\",\"width\":5},\"size\":[0,5]},\"name\":\"Vector75\",\"type\":\"scatter3d\",\"x\":[0,-0.844076185990376],\"y\":[0,-4.94949494949495],\"z\":[0,8.648123214730925]},{\"marker\":{\"color\":[\"blue\"],\"line\":{\"color\":\"DarkSlateGrey\",\"width\":5},\"size\":[0,5]},\"name\":\"Vector76\",\"type\":\"scatter3d\",\"x\":[0,-5.148313213466435],\"y\":[0,-5.151515151515151],\"z\":[0,-6.852500470613391]},{\"marker\":{\"color\":[\"blue\"],\"line\":{\"color\":\"DarkSlateGrey\",\"width\":5},\"size\":[0,5]},\"name\":\"Vector77\",\"type\":\"scatter3d\",\"x\":[0,8.30241716863267],\"y\":[0,-5.353535353535353],\"z\":[0,1.5522655624733093]},{\"marker\":{\"color\":[\"blue\"],\"line\":{\"color\":\"DarkSlateGrey\",\"width\":5},\"size\":[0,5]},\"name\":\"Vector78\",\"type\":\"scatter3d\",\"x\":[0,-7.058858583876281],\"y\":[0,-5.555555555555555],\"z\":[0,4.3941231163876076]},{\"marker\":{\"color\":[\"blue\"],\"line\":{\"color\":\"DarkSlateGrey\",\"width\":5},\"size\":[0,5]},\"name\":\"Vector79\",\"type\":\"scatter3d\",\"x\":[0,2.1995125879639565],\"y\":[0,-5.757575757575757],\"z\":[0,-7.874799411487511]},{\"marker\":{\"color\":[\"blue\"],\"line\":{\"color\":\"DarkSlateGrey\",\"width\":5},\"size\":[0,5]},\"name\":\"Vector80\",\"type\":\"scatter3d\",\"x\":[0,3.63144603299816],\"y\":[0,-5.95959595959596],\"z\":[0,7.162109724640459]},{\"marker\":{\"color\":[\"blue\"],\"line\":{\"color\":\"DarkSlateGrey\",\"width\":5},\"size\":[0,5]},\"name\":\"Vector81\",\"type\":\"scatter3d\",\"x\":[0,-7.37156754174631],\"y\":[0,-6.161616161616161],\"z\":[0,-2.773892257169119]},{\"marker\":{\"color\":[\"blue\"],\"line\":{\"color\":\"DarkSlateGrey\",\"width\":5},\"size\":[0,5]},\"name\":\"Vector82\",\"type\":\"scatter3d\",\"x\":[0,7.158678547352051],\"y\":[0,-6.363636363636365],\"z\":[0,-2.873578550707542]},{\"marker\":{\"color\":[\"blue\"],\"line\":{\"color\":\"DarkSlateGrey\",\"width\":5},\"size\":[0,5]},\"name\":\"Vector83\",\"type\":\"scatter3d\",\"x\":[0,-3.263439050896584],\"y\":[0,-6.565656565656566],\"z\":[0,6.80015583813592]},{\"marker\":{\"color\":[\"blue\"],\"line\":{\"color\":\"DarkSlateGrey\",\"width\":5},\"size\":[0,5]},\"name\":\"Vector84\",\"type\":\"scatter3d\",\"x\":[0,-2.134678587671022],\"y\":[0,-6.767676767676766],\"z\":[0,-7.045686516982358]},{\"marker\":{\"color\":[\"blue\"],\"line\":{\"color\":\"DarkSlateGrey\",\"width\":5},\"size\":[0,5]},\"name\":\"Vector85\",\"type\":\"scatter3d\",\"x\":[0,6.169059083366061],\"y\":[0,-6.969696969696971],\"z\":[0,3.6559587219408756]},{\"marker\":{\"color\":[\"blue\"],\"line\":{\"color\":\"DarkSlateGrey\",\"width\":5},\"size\":[0,5]},\"name\":\"Vector86\",\"type\":\"scatter3d\",\"x\":[0,-6.820694567402481],\"y\":[0,-7.171717171717171],\"z\":[0,1.4298945510433072]},{\"marker\":{\"color\":[\"blue\"],\"line\":{\"color\":\"DarkSlateGrey\",\"width\":5},\"size\":[0,5]},\"name\":\"Vector87\",\"type\":\"scatter3d\",\"x\":[0,3.9386410565593444],\"y\":[0,-7.373737373737375],\"z\":[0,-5.487723004191606]},{\"marker\":{\"color\":[\"blue\"],\"line\":{\"color\":\"DarkSlateGrey\",\"width\":5},\"size\":[0,5]},\"name\":\"Vector88\",\"type\":\"scatter3d\",\"x\":[0,0.7756532525223453],\"y\":[0,-7.575757575757576],\"z\":[0,6.481223587039966]},{\"marker\":{\"color\":[\"blue\"],\"line\":{\"color\":\"DarkSlateGrey\",\"width\":5},\"size\":[0,5]},\"name\":\"Vector89\",\"type\":\"scatter3d\",\"x\":[0,-4.766371704744871],\"y\":[0,-7.777777777777777],\"z\":[0,-4.097300771448646]},{\"marker\":{\"color\":[\"blue\"],\"line\":{\"color\":\"DarkSlateGrey\",\"width\":5},\"size\":[0,5]},\"name\":\"Vector90\",\"type\":\"scatter3d\",\"x\":[0,6.023838283936479],\"y\":[0,-7.97979797979798],\"z\":[0,-0.1902538582875318]},{\"marker\":{\"color\":[\"blue\"],\"line\":{\"color\":\"DarkSlateGrey\",\"width\":5},\"size\":[0,5]},\"name\":\"Vector91\",\"type\":\"scatter3d\",\"x\":[0,-4.114857305574174],\"y\":[0,-8.181818181818182],\"z\":[0,4.015694285479447]},{\"marker\":{\"color\":[\"blue\"],\"line\":{\"color\":\"DarkSlateGrey\",\"width\":5},\"size\":[0,5]},\"name\":\"Vector92\",\"type\":\"scatter3d\",\"x\":[0,0.3048921500037185],\"y\":[0,-8.383838383838384],\"z\":[0,-5.442269262958632]},{\"marker\":{\"color\":[\"blue\"],\"line\":{\"color\":\"DarkSlateGrey\",\"width\":5},\"size\":[0,5]},\"name\":\"Vector93\",\"type\":\"scatter3d\",\"x\":[0,3.246162708335984],\"y\":[0,-8.585858585858585],\"z\":[0,3.9680549409814376]},{\"marker\":{\"color\":[\"blue\"],\"line\":{\"color\":\"DarkSlateGrey\",\"width\":5},\"size\":[0,5]},\"name\":\"Vector94\",\"type\":\"scatter3d\",\"x\":[0,-4.723074498870043],\"y\":[0,-8.787878787878789],\"z\":[0,-0.6824614917147549]},{\"marker\":{\"color\":[\"blue\"],\"line\":{\"color\":\"DarkSlateGrey\",\"width\":5},\"size\":[0,5]},\"name\":\"Vector95\",\"type\":\"scatter3d\",\"x\":[0,3.619341490546967],\"y\":[0,-8.98989898989899],\"z\":[0,-2.466188015180185]},{\"marker\":{\"color\":[\"blue\"],\"line\":{\"color\":\"DarkSlateGrey\",\"width\":5},\"size\":[0,5]},\"name\":\"Vector96\",\"type\":\"scatter3d\",\"x\":[0,-0.901783128003129],\"y\":[0,-9.19191919191919],\"z\":[0,3.8334591114653276]},{\"marker\":{\"color\":[\"blue\"],\"line\":{\"color\":\"DarkSlateGrey\",\"width\":5},\"size\":[0,5]},\"name\":\"Vector97\",\"type\":\"scatter3d\",\"x\":[0,-1.6754301826617048],\"y\":[0,-9.393939393939394],\"z\":[0,-2.991126270490721]},{\"marker\":{\"color\":[\"blue\"],\"line\":{\"color\":\"DarkSlateGrey\",\"width\":5},\"size\":[0,5]},\"name\":\"Vector98\",\"type\":\"scatter3d\",\"x\":[0,2.6722305411035965],\"y\":[0,-9.595959595959595],\"z\":[0,0.8813304532944116]},{\"marker\":{\"color\":[\"blue\"],\"line\":{\"color\":\"DarkSlateGrey\",\"width\":5},\"size\":[0,5]},\"name\":\"Vector99\",\"type\":\"scatter3d\",\"x\":[0,-1.8235869564294316],\"y\":[0,-9.7979797979798],\"z\":[0,0.8210496274404979]},{\"marker\":{\"color\":[\"blue\"],\"line\":{\"color\":\"DarkSlateGrey\",\"width\":5},\"size\":[0,5]},\"name\":\"Vector100\",\"type\":\"scatter3d\",\"x\":[0,0.0],\"y\":[0,-1.0],\"z\":[0,0.0]}],                        {\"margin\":{\"b\":4,\"l\":4,\"r\":4,\"t\":4},\"template\":{\"data\":{\"bar\":[{\"error_x\":{\"color\":\"#2a3f5f\"},\"error_y\":{\"color\":\"#2a3f5f\"},\"marker\":{\"line\":{\"color\":\"#E5ECF6\",\"width\":0.5},\"pattern\":{\"fillmode\":\"overlay\",\"size\":10,\"solidity\":0.2}},\"type\":\"bar\"}],\"barpolar\":[{\"marker\":{\"line\":{\"color\":\"#E5ECF6\",\"width\":0.5},\"pattern\":{\"fillmode\":\"overlay\",\"size\":10,\"solidity\":0.2}},\"type\":\"barpolar\"}],\"carpet\":[{\"aaxis\":{\"endlinecolor\":\"#2a3f5f\",\"gridcolor\":\"white\",\"linecolor\":\"white\",\"minorgridcolor\":\"white\",\"startlinecolor\":\"#2a3f5f\"},\"baxis\":{\"endlinecolor\":\"#2a3f5f\",\"gridcolor\":\"white\",\"linecolor\":\"white\",\"minorgridcolor\":\"white\",\"startlinecolor\":\"#2a3f5f\"},\"type\":\"carpet\"}],\"choropleth\":[{\"colorbar\":{\"outlinewidth\":0,\"ticks\":\"\"},\"type\":\"choropleth\"}],\"contour\":[{\"colorbar\":{\"outlinewidth\":0,\"ticks\":\"\"},\"colorscale\":[[0.0,\"#0d0887\"],[0.1111111111111111,\"#46039f\"],[0.2222222222222222,\"#7201a8\"],[0.3333333333333333,\"#9c179e\"],[0.4444444444444444,\"#bd3786\"],[0.5555555555555556,\"#d8576b\"],[0.6666666666666666,\"#ed7953\"],[0.7777777777777778,\"#fb9f3a\"],[0.8888888888888888,\"#fdca26\"],[1.0,\"#f0f921\"]],\"type\":\"contour\"}],\"contourcarpet\":[{\"colorbar\":{\"outlinewidth\":0,\"ticks\":\"\"},\"type\":\"contourcarpet\"}],\"heatmap\":[{\"colorbar\":{\"outlinewidth\":0,\"ticks\":\"\"},\"colorscale\":[[0.0,\"#0d0887\"],[0.1111111111111111,\"#46039f\"],[0.2222222222222222,\"#7201a8\"],[0.3333333333333333,\"#9c179e\"],[0.4444444444444444,\"#bd3786\"],[0.5555555555555556,\"#d8576b\"],[0.6666666666666666,\"#ed7953\"],[0.7777777777777778,\"#fb9f3a\"],[0.8888888888888888,\"#fdca26\"],[1.0,\"#f0f921\"]],\"type\":\"heatmap\"}],\"heatmapgl\":[{\"colorbar\":{\"outlinewidth\":0,\"ticks\":\"\"},\"colorscale\":[[0.0,\"#0d0887\"],[0.1111111111111111,\"#46039f\"],[0.2222222222222222,\"#7201a8\"],[0.3333333333333333,\"#9c179e\"],[0.4444444444444444,\"#bd3786\"],[0.5555555555555556,\"#d8576b\"],[0.6666666666666666,\"#ed7953\"],[0.7777777777777778,\"#fb9f3a\"],[0.8888888888888888,\"#fdca26\"],[1.0,\"#f0f921\"]],\"type\":\"heatmapgl\"}],\"histogram\":[{\"marker\":{\"pattern\":{\"fillmode\":\"overlay\",\"size\":10,\"solidity\":0.2}},\"type\":\"histogram\"}],\"histogram2d\":[{\"colorbar\":{\"outlinewidth\":0,\"ticks\":\"\"},\"colorscale\":[[0.0,\"#0d0887\"],[0.1111111111111111,\"#46039f\"],[0.2222222222222222,\"#7201a8\"],[0.3333333333333333,\"#9c179e\"],[0.4444444444444444,\"#bd3786\"],[0.5555555555555556,\"#d8576b\"],[0.6666666666666666,\"#ed7953\"],[0.7777777777777778,\"#fb9f3a\"],[0.8888888888888888,\"#fdca26\"],[1.0,\"#f0f921\"]],\"type\":\"histogram2d\"}],\"histogram2dcontour\":[{\"colorbar\":{\"outlinewidth\":0,\"ticks\":\"\"},\"colorscale\":[[0.0,\"#0d0887\"],[0.1111111111111111,\"#46039f\"],[0.2222222222222222,\"#7201a8\"],[0.3333333333333333,\"#9c179e\"],[0.4444444444444444,\"#bd3786\"],[0.5555555555555556,\"#d8576b\"],[0.6666666666666666,\"#ed7953\"],[0.7777777777777778,\"#fb9f3a\"],[0.8888888888888888,\"#fdca26\"],[1.0,\"#f0f921\"]],\"type\":\"histogram2dcontour\"}],\"mesh3d\":[{\"colorbar\":{\"outlinewidth\":0,\"ticks\":\"\"},\"type\":\"mesh3d\"}],\"parcoords\":[{\"line\":{\"colorbar\":{\"outlinewidth\":0,\"ticks\":\"\"}},\"type\":\"parcoords\"}],\"pie\":[{\"automargin\":true,\"type\":\"pie\"}],\"scatter\":[{\"marker\":{\"colorbar\":{\"outlinewidth\":0,\"ticks\":\"\"}},\"type\":\"scatter\"}],\"scatter3d\":[{\"line\":{\"colorbar\":{\"outlinewidth\":0,\"ticks\":\"\"}},\"marker\":{\"colorbar\":{\"outlinewidth\":0,\"ticks\":\"\"}},\"type\":\"scatter3d\"}],\"scattercarpet\":[{\"marker\":{\"colorbar\":{\"outlinewidth\":0,\"ticks\":\"\"}},\"type\":\"scattercarpet\"}],\"scattergeo\":[{\"marker\":{\"colorbar\":{\"outlinewidth\":0,\"ticks\":\"\"}},\"type\":\"scattergeo\"}],\"scattergl\":[{\"marker\":{\"colorbar\":{\"outlinewidth\":0,\"ticks\":\"\"}},\"type\":\"scattergl\"}],\"scattermapbox\":[{\"marker\":{\"colorbar\":{\"outlinewidth\":0,\"ticks\":\"\"}},\"type\":\"scattermapbox\"}],\"scatterpolar\":[{\"marker\":{\"colorbar\":{\"outlinewidth\":0,\"ticks\":\"\"}},\"type\":\"scatterpolar\"}],\"scatterpolargl\":[{\"marker\":{\"colorbar\":{\"outlinewidth\":0,\"ticks\":\"\"}},\"type\":\"scatterpolargl\"}],\"scatterternary\":[{\"marker\":{\"colorbar\":{\"outlinewidth\":0,\"ticks\":\"\"}},\"type\":\"scatterternary\"}],\"surface\":[{\"colorbar\":{\"outlinewidth\":0,\"ticks\":\"\"},\"colorscale\":[[0.0,\"#0d0887\"],[0.1111111111111111,\"#46039f\"],[0.2222222222222222,\"#7201a8\"],[0.3333333333333333,\"#9c179e\"],[0.4444444444444444,\"#bd3786\"],[0.5555555555555556,\"#d8576b\"],[0.6666666666666666,\"#ed7953\"],[0.7777777777777778,\"#fb9f3a\"],[0.8888888888888888,\"#fdca26\"],[1.0,\"#f0f921\"]],\"type\":\"surface\"}],\"table\":[{\"cells\":{\"fill\":{\"color\":\"#EBF0F8\"},\"line\":{\"color\":\"white\"}},\"header\":{\"fill\":{\"color\":\"#C8D4E3\"},\"line\":{\"color\":\"white\"}},\"type\":\"table\"}]},\"layout\":{\"annotationdefaults\":{\"arrowcolor\":\"#2a3f5f\",\"arrowhead\":0,\"arrowwidth\":1},\"autotypenumbers\":\"strict\",\"coloraxis\":{\"colorbar\":{\"outlinewidth\":0,\"ticks\":\"\"}},\"colorscale\":{\"diverging\":[[0,\"#8e0152\"],[0.1,\"#c51b7d\"],[0.2,\"#de77ae\"],[0.3,\"#f1b6da\"],[0.4,\"#fde0ef\"],[0.5,\"#f7f7f7\"],[0.6,\"#e6f5d0\"],[0.7,\"#b8e186\"],[0.8,\"#7fbc41\"],[0.9,\"#4d9221\"],[1,\"#276419\"]],\"sequential\":[[0.0,\"#0d0887\"],[0.1111111111111111,\"#46039f\"],[0.2222222222222222,\"#7201a8\"],[0.3333333333333333,\"#9c179e\"],[0.4444444444444444,\"#bd3786\"],[0.5555555555555556,\"#d8576b\"],[0.6666666666666666,\"#ed7953\"],[0.7777777777777778,\"#fb9f3a\"],[0.8888888888888888,\"#fdca26\"],[1.0,\"#f0f921\"]],\"sequentialminus\":[[0.0,\"#0d0887\"],[0.1111111111111111,\"#46039f\"],[0.2222222222222222,\"#7201a8\"],[0.3333333333333333,\"#9c179e\"],[0.4444444444444444,\"#bd3786\"],[0.5555555555555556,\"#d8576b\"],[0.6666666666666666,\"#ed7953\"],[0.7777777777777778,\"#fb9f3a\"],[0.8888888888888888,\"#fdca26\"],[1.0,\"#f0f921\"]]},\"colorway\":[\"#636efa\",\"#EF553B\",\"#00cc96\",\"#ab63fa\",\"#FFA15A\",\"#19d3f3\",\"#FF6692\",\"#B6E880\",\"#FF97FF\",\"#FECB52\"],\"font\":{\"color\":\"#2a3f5f\"},\"geo\":{\"bgcolor\":\"white\",\"lakecolor\":\"white\",\"landcolor\":\"#E5ECF6\",\"showlakes\":true,\"showland\":true,\"subunitcolor\":\"white\"},\"hoverlabel\":{\"align\":\"left\"},\"hovermode\":\"closest\",\"mapbox\":{\"style\":\"light\"},\"paper_bgcolor\":\"white\",\"plot_bgcolor\":\"#E5ECF6\",\"polar\":{\"angularaxis\":{\"gridcolor\":\"white\",\"linecolor\":\"white\",\"ticks\":\"\"},\"bgcolor\":\"#E5ECF6\",\"radialaxis\":{\"gridcolor\":\"white\",\"linecolor\":\"white\",\"ticks\":\"\"}},\"scene\":{\"xaxis\":{\"backgroundcolor\":\"#E5ECF6\",\"gridcolor\":\"white\",\"gridwidth\":2,\"linecolor\":\"white\",\"showbackground\":true,\"ticks\":\"\",\"zerolinecolor\":\"white\"},\"yaxis\":{\"backgroundcolor\":\"#E5ECF6\",\"gridcolor\":\"white\",\"gridwidth\":2,\"linecolor\":\"white\",\"showbackground\":true,\"ticks\":\"\",\"zerolinecolor\":\"white\"},\"zaxis\":{\"backgroundcolor\":\"#E5ECF6\",\"gridcolor\":\"white\",\"gridwidth\":2,\"linecolor\":\"white\",\"showbackground\":true,\"ticks\":\"\",\"zerolinecolor\":\"white\"}},\"shapedefaults\":{\"line\":{\"color\":\"#2a3f5f\"}},\"ternary\":{\"aaxis\":{\"gridcolor\":\"white\",\"linecolor\":\"white\",\"ticks\":\"\"},\"baxis\":{\"gridcolor\":\"white\",\"linecolor\":\"white\",\"ticks\":\"\"},\"bgcolor\":\"#E5ECF6\",\"caxis\":{\"gridcolor\":\"white\",\"linecolor\":\"white\",\"ticks\":\"\"}},\"title\":{\"x\":0.05},\"xaxis\":{\"automargin\":true,\"gridcolor\":\"white\",\"linecolor\":\"white\",\"ticks\":\"\",\"title\":{\"standoff\":15},\"zerolinecolor\":\"white\",\"zerolinewidth\":2},\"yaxis\":{\"automargin\":true,\"gridcolor\":\"white\",\"linecolor\":\"white\",\"ticks\":\"\",\"title\":{\"standoff\":15},\"zerolinecolor\":\"white\",\"zerolinewidth\":2}}}},                        {\"responsive\": true}                    ).then(function(){\n",
       "                            \n",
       "var gd = document.getElementById('74c9aeca-70e5-4fba-b455-24b9635a2159');\n",
       "var x = new MutationObserver(function (mutations, observer) {{\n",
       "        var display = window.getComputedStyle(gd).display;\n",
       "        if (!display || display === 'none') {{\n",
       "            console.log([gd, 'removed!']);\n",
       "            Plotly.purge(gd);\n",
       "            observer.disconnect();\n",
       "        }}\n",
       "}});\n",
       "\n",
       "// Listen for the removal of the full notebook cells\n",
       "var notebookContainer = gd.closest('#notebook-container');\n",
       "if (notebookContainer) {{\n",
       "    x.observe(notebookContainer, {childList: true});\n",
       "}}\n",
       "\n",
       "// Listen for the clearing of the current output cell\n",
       "var outputEl = gd.closest('.output');\n",
       "if (outputEl) {{\n",
       "    x.observe(outputEl, {childList: true});\n",
       "}}\n",
       "\n",
       "                        })                };                });            </script>        </div>"
      ]
     },
     "metadata": {},
     "output_type": "display_data"
    }
   ],
   "source": [
    "vector_plot(GenerateCore(10, 100))"
   ]
  },
  {
   "cell_type": "code",
   "execution_count": 21,
   "metadata": {},
   "outputs": [],
   "source": [
    "SphereList = GenerateCore(10, 20)\n",
    "AromaticSulfurSmilesString = 'C1=C(C=CC=C1)CS[H]'\n",
    "PandasNPDataframe = AttachLigands('C1=C(C=CC=C1)CS[H]', ['S7'], ['C4'], SphereList)"
   ]
  },
  {
   "cell_type": "code",
   "execution_count": 22,
   "metadata": {},
   "outputs": [
    {
     "data": {
      "text/html": [
       "<div>\n",
       "<style scoped>\n",
       "    .dataframe tbody tr th:only-of-type {\n",
       "        vertical-align: middle;\n",
       "    }\n",
       "\n",
       "    .dataframe tbody tr th {\n",
       "        vertical-align: top;\n",
       "    }\n",
       "\n",
       "    .dataframe thead th {\n",
       "        text-align: right;\n",
       "    }\n",
       "</style>\n",
       "<table border=\"1\" class=\"dataframe\">\n",
       "  <thead>\n",
       "    <tr style=\"text-align: right;\">\n",
       "      <th></th>\n",
       "      <th>X</th>\n",
       "      <th>Y</th>\n",
       "      <th>Z</th>\n",
       "      <th>NAME</th>\n",
       "      <th>name</th>\n",
       "    </tr>\n",
       "  </thead>\n",
       "  <tbody>\n",
       "    <tr>\n",
       "      <th>0</th>\n",
       "      <td>3.617648e-01</td>\n",
       "      <td>11.472312</td>\n",
       "      <td>1.353317e+00</td>\n",
       "      <td>C0</td>\n",
       "      <td>Ligand</td>\n",
       "    </tr>\n",
       "    <tr>\n",
       "      <th>1</th>\n",
       "      <td>-6.277053e-01</td>\n",
       "      <td>10.805585</td>\n",
       "      <td>6.610541e-01</td>\n",
       "      <td>C1</td>\n",
       "      <td>Ligand</td>\n",
       "    </tr>\n",
       "    <tr>\n",
       "      <th>2</th>\n",
       "      <td>-1.293357e+00</td>\n",
       "      <td>11.463001</td>\n",
       "      <td>-3.521248e-01</td>\n",
       "      <td>C2</td>\n",
       "      <td>Ligand</td>\n",
       "    </tr>\n",
       "    <tr>\n",
       "      <th>3</th>\n",
       "      <td>-9.884634e-01</td>\n",
       "      <td>12.782929</td>\n",
       "      <td>-6.905060e-01</td>\n",
       "      <td>C3</td>\n",
       "      <td>Ligand</td>\n",
       "    </tr>\n",
       "    <tr>\n",
       "      <th>4</th>\n",
       "      <td>3.393670e-15</td>\n",
       "      <td>13.451105</td>\n",
       "      <td>2.857827e-16</td>\n",
       "      <td>C4</td>\n",
       "      <td>Ligand</td>\n",
       "    </tr>\n",
       "    <tr>\n",
       "      <th>...</th>\n",
       "      <td>...</td>\n",
       "      <td>...</td>\n",
       "      <td>...</td>\n",
       "      <td>...</td>\n",
       "      <td>...</td>\n",
       "    </tr>\n",
       "    <tr>\n",
       "      <th>15</th>\n",
       "      <td>-5.475496e-01</td>\n",
       "      <td>-3.025320</td>\n",
       "      <td>-4.225403e+00</td>\n",
       "      <td>Au</td>\n",
       "      <td>Core</td>\n",
       "    </tr>\n",
       "    <tr>\n",
       "      <th>16</th>\n",
       "      <td>2.914012e+00</td>\n",
       "      <td>-3.575378</td>\n",
       "      <td>2.455932e+00</td>\n",
       "      <td>Au</td>\n",
       "      <td>Core</td>\n",
       "    </tr>\n",
       "    <tr>\n",
       "      <th>17</th>\n",
       "      <td>-3.204624e+00</td>\n",
       "      <td>-4.125436</td>\n",
       "      <td>1.325213e-01</td>\n",
       "      <td>Au</td>\n",
       "      <td>Core</td>\n",
       "    </tr>\n",
       "    <tr>\n",
       "      <th>18</th>\n",
       "      <td>1.654195e+00</td>\n",
       "      <td>-4.675494</td>\n",
       "      <td>-1.646145e+00</td>\n",
       "      <td>Au</td>\n",
       "      <td>Core</td>\n",
       "    </tr>\n",
       "    <tr>\n",
       "      <th>19</th>\n",
       "      <td>7.008283e-16</td>\n",
       "      <td>-5.225552</td>\n",
       "      <td>1.110223e-16</td>\n",
       "      <td>Au</td>\n",
       "      <td>Core</td>\n",
       "    </tr>\n",
       "  </tbody>\n",
       "</table>\n",
       "<p>340 rows × 5 columns</p>\n",
       "</div>"
      ],
      "text/plain": [
       "               X          Y             Z NAME    name\n",
       "0   3.617648e-01  11.472312  1.353317e+00   C0  Ligand\n",
       "1  -6.277053e-01  10.805585  6.610541e-01   C1  Ligand\n",
       "2  -1.293357e+00  11.463001 -3.521248e-01   C2  Ligand\n",
       "3  -9.884634e-01  12.782929 -6.905060e-01   C3  Ligand\n",
       "4   3.393670e-15  13.451105  2.857827e-16   C4  Ligand\n",
       "..           ...        ...           ...  ...     ...\n",
       "15 -5.475496e-01  -3.025320 -4.225403e+00   Au    Core\n",
       "16  2.914012e+00  -3.575378  2.455932e+00   Au    Core\n",
       "17 -3.204624e+00  -4.125436  1.325213e-01   Au    Core\n",
       "18  1.654195e+00  -4.675494 -1.646145e+00   Au    Core\n",
       "19  7.008283e-16  -5.225552  1.110223e-16   Au    Core\n",
       "\n",
       "[340 rows x 5 columns]"
      ]
     },
     "execution_count": 22,
     "metadata": {},
     "output_type": "execute_result"
    }
   ],
   "source": [
    "PandasNPDataframe"
   ]
  },
  {
   "cell_type": "code",
   "execution_count": 26,
   "metadata": {
    "scrolled": true
   },
   "outputs": [
    {
     "data": {
      "application/vnd.plotly.v1+json": {
       "config": {
        "plotlyServerURL": "https://plot.ly"
       },
       "data": [
        {
         "hovertemplate": "name=Ligand<br>X=%{x}<br>Y=%{y}<br>Z=%{z}<extra></extra>",
         "legendgroup": "Ligand",
         "marker": {
          "color": "#636efa",
          "symbol": "circle"
         },
         "mode": "markers",
         "name": "Ligand",
         "scene": "scene",
         "showlegend": true,
         "type": "scatter3d",
         "x": [
          0.36176482183114855,
          -0.6277052938627862,
          -1.2933567450996704,
          -0.988463397998803,
          3.3936698842141626e-15,
          0.6516976867425741,
          -0.9932926398174909,
          2.0752800424717892e-15,
          0.8745610452376626,
          -2.0641112733622395,
          -1.523125042833484,
          0.27512855277097814,
          1.4441794687974243,
          -2.064961826174931,
          -0.7252913997286864,
          1.3437479691307042,
          -3.946962783345228,
          -4.34360668157964,
          -4.77839574727793,
          -4.825424249133222,
          -4.4295071470813845,
          -3.999015911622501,
          -4.31453303162031,
          -2.708710067258871,
          -3.608893648396827,
          -5.087762829841173,
          -5.171929656339531,
          -4.446047166711096,
          -3.6780228850545056,
          -5.126647992632341,
          -4.4021989617084945,
          -1.718547951900087,
          1.7815211378229816,
          0.5476804423573745,
          -0.5852166477796565,
          -0.510209300802448,
          0.7217936388407162,
          1.8396277941550943,
          0.40854009746509595,
          0.44138763774193307,
          2.6598471853427097,
          -1.5470652895192896,
          -1.415237339243995,
          0.836189286930829,
          2.8337409570087324,
          -0.5432295516484242,
          1.3002564223984778,
          1.5299688774400257,
          4.594446935513981,
          3.9862016495684376,
          4.371448086666017,
          5.359437678107242,
          5.968592296260669,
          5.568638273127872,
          2.9306522054185518,
          3.6498837237225414,
          4.282985526006799,
          3.899573194623663,
          5.655953196056134,
          6.737610699480594,
          6.040225255249428,
          2.2329109424736067,
          2.4537797929480902,
          4.750918537005166,
          -8.960497988362054,
          -9.032454361095175,
          -9.98306052171194,
          -10.870050640910662,
          -10.79990316175815,
          -9.843350526993046,
          -8.115549873363287,
          -6.604302792230651,
          -8.211487344690976,
          -10.041284279583014,
          -11.618928888519566,
          -11.461168400691324,
          -9.768011575365767,
          -8.645337719619478,
          -7.787319699673265,
          -6.171856553595136,
          9.378441396737706,
          8.104747210872702,
          7.786606972610208,
          8.721958291841952,
          9.995393171463268,
          10.291414997050463,
          7.07079203953308,
          6.112332864750581,
          9.613537232249366,
          6.795742957931118,
          8.457675737300768,
          10.756358262598939,
          11.300935549066626,
          6.398596101419203,
          7.60172751176124,
          7.071598523727793,
          -3.8598803431006115,
          -3.428864592025529,
          -2.9120192862619954,
          -2.816195515506573,
          -3.246336553763264,
          -3.7588545523405674,
          -3.5069204041071576,
          -1.9851835007610295,
          -4.262205188760111,
          -2.5757156491384645,
          -2.4047591220309963,
          -3.1948659266832147,
          -4.108469691853201,
          -3.661964239053388,
          -4.323841600717497,
          -1.6954382886477086,
          -3.856738035798649,
          -4.2930097322404155,
          -5.564261970386401,
          -6.415133248113648,
          -5.981186177875461,
          -4.708541780073196,
          -3.4316600849156256,
          -3.6575850712501854,
          -2.8593468866302896,
          -5.906467571492042,
          -7.420317707474359,
          -6.598197669425833,
          -4.339977465818858,
          -3.687868201694418,
          -2.381326155718023,
          -3.6231410969746034,
          10.271856254203215,
          9.691075999427808,
          10.503017273039507,
          11.89391328743436,
          12.476416246891187,
          11.647005061222211,
          8.218782586159945,
          7.629515693079742,
          9.62411988376016,
          10.053515652929168,
          12.526525851001452,
          13.546056459480502,
          12.088570246262684,
          7.955224911230474,
          7.7640467526310974,
          8.28096873969707,
          -11.11814407213901,
          -10.21236391325294,
          -10.413733833619832,
          -11.509817699463884,
          -12.416236122606747,
          -12.195837436409626,
          -9.029889229070525,
          -7.592714644320726,
          -10.94799778684283,
          -9.71011609385619,
          -11.658390974382485,
          -13.280294165168655,
          -12.905357603088586,
          -8.789372053383445,
          -9.280888632181345,
          -8.085791737498353,
          5.9835423857769054,
          5.280146518094892,
          4.790488256227705,
          4.990646172922048,
          5.6932950228318155,
          6.173161178266504,
          5.0375057953754885,
          3.4815353112999547,
          6.361029825160049,
          4.242519226100795,
          4.597626590855818,
          5.876459941641725,
          6.736800102407543,
          4.994051092250395,
          5.848675830303222,
          3.495206404078906,
          2.072256861945797,
          2.6167364262962445,
          3.830876631779275,
          4.517494842743576,
          3.975200054980929,
          2.7621959810838534,
          1.9312173618031678,
          2.430894465401124,
          1.1212694089437647,
          4.257059724659352,
          5.4789163364088855,
          4.464026594301246,
          2.3095195133276816,
          2.183936756163476,
          0.8489498254103462,
          2.3702422703595687,
          -9.34513678154799,
          -8.53269423019529,
          -9.070777163976697,
          -10.414135300894447,
          -11.227837831148626,
          -10.669928587510103,
          -7.098219839684771,
          -6.865991261989831,
          -8.910554735835728,
          -8.440535993544954,
          -10.828698996411475,
          -12.272780439701155,
          -11.29935068382089,
          -6.544892354704038,
          -6.763747814239493,
          -7.849436296328914,
          10.473492444904963,
          10.15466791826478,
          10.863903435370919,
          11.892995775992524,
          12.213273066898118,
          11.492414198267793,
          9.070879160831717,
          7.4685996911160935,
          9.91002099727876,
          10.61777474820447,
          12.44765432428462,
          12.999450779622817,
          11.729626481716268,
          9.330771467228832,
          8.961802071848407,
          7.372922840860113,
          -6.994291052609267,
          -5.741638832810118,
          -5.036702128451466,
          -5.561522820764225,
          -6.813165859906205,
          -7.4993746756139075,
          -5.134771217759165,
          -4.166353127298228,
          -7.534772340036623,
          -4.0612593047468755,
          -4.993079858559011,
          -7.265513592895809,
          -8.499899858330043,
          -4.484076896150004,
          -5.966096108081199,
          -4.985575799069705,
          -0.6006005479689651,
          -0.23052715568172227,
          -0.4513771941561559,
          -1.0388480696923619,
          -1.409448561207921,
          -1.1797543964033987,
          0.39754665018423,
          -0.8618989382471092,
          -0.4217955850419332,
          -0.16424775240314762,
          -1.2085923353687127,
          -1.8671094716234355,
          -1.4669625322976083,
          1.0829571707706023,
          0.8981294373695266,
          -1.86823263035169,
          5.418552118735439,
          6.040812027524825,
          7.382430794940592,
          8.120815461414328,
          7.50096418279395,
          6.160998721711611,
          5.3054545874381835,
          4.586952119372859,
          4.367953550123871,
          7.8693760166316515,
          9.183414537727177,
          8.024917700966128,
          5.644531800610662,
          6.004009865151965,
          4.45060203275193,
          3.970274882546908,
          -7.6642666407967965,
          -6.3354148171950975,
          -5.974185222668046,
          -6.920503369064889,
          -8.249028170942427,
          -8.587407563321444,
          -5.287326531581016,
          -5.044404469796705,
          -7.932677467766954,
          -4.940345461290922,
          -6.621704008666503,
          -9.020809595369384,
          -9.641234839788275,
          -4.345800999234337,
          -5.6603853210734645,
          -6.350242817566706,
          3.4713387547903833,
          4.097844296365342,
          4.796812190393283,
          4.883399678679457,
          4.258065467722384,
          3.565791664672485,
          4.039133950339384,
          2.603870908542652,
          2.927736366891151,
          5.28549901180774,
          5.440313701550314,
          4.29340706441459,
          3.0585601047940463,
          4.97216117476377,
          3.872238608230723,
          1.4994588130359896,
          -0.6417282376391574,
          0.4724909695713591,
          1.338680102496181,
          1.112861290447142,
          1.8040034647664758e-15,
          -0.851375991447073,
          0.7622099477796422,
          1.1031751804718457e-15,
          -1.3111620032136941,
          2.2068930470000088,
          1.8066992572332734,
          -0.22175952992606268,
          -1.7460495128701445,
          1.8551945327956398,
          0.274759198295109,
          -1.3318368837575199
         ],
         "y": [
          11.472311628968747,
          10.80558508743896,
          11.46300147755669,
          12.782928922615952,
          13.45110478814604,
          12.77575274936438,
          9.402681364646886,
          8.225552357311898,
          10.94539339865905,
          10.94631330511767,
          13.293001543726435,
          14.47162146335374,
          13.288035568111617,
          9.26064246333998,
          9.226957852970802,
          8.686539304354543,
          9.764941404443768,
          9.289379094082008,
          10.185653131311241,
          11.557780919066563,
          12.035199020972776,
          11.122834303140273,
          7.841788628304198,
          7.359704740752752,
          9.051990577051697,
          9.818145852171968,
          12.257909222615979,
          13.085812851533166,
          11.479867465518318,
          7.624540485793257,
          7.290914643832781,
          7.960320759107552,
          9.481483303498282,
          9.089927772609473,
          9.463925211664428,
          10.226909675469042,
          10.619293253799508,
          10.23485602448413,
          8.278691063801308,
          6.493857124193605,
          9.181555771663534,
          9.160448196049966,
          10.516957540865665,
          11.209497832179931,
          10.535925348855908,
          8.542572070137044,
          8.478712771951006,
          6.308216182893096,
          7.205971334014376,
          7.614575053165913,
          8.809036043537173,
          9.60980645288797,
          9.203387486626239,
          8.00759329372733,
          6.803867492640033,
          5.628009507634458,
          6.268791643681204,
          9.129539816567794,
          10.554265915174849,
          9.78416705022514,
          7.66230087100171,
          7.484365902213908,
          6.19008881802386,
          5.022264866496272,
          7.288074656815308,
          5.953205316020897,
          5.546549832765702,
          6.453025124984494,
          7.787481719452973,
          8.171521405825388,
          4.9461653824984335,
          4.76216189107531,
          7.592245582789282,
          4.507922949088069,
          6.118411575169864,
          8.529691057545879,
          9.230980092665881,
          3.9815649598429674,
          5.338540002313023,
          6.086090505751404,
          5.172707728855385,
          5.698321422904517,
          6.552853120233687,
          6.895691138197055,
          6.371575952279706,
          5.52059150075063,
          5.368666641982552,
          3.8963142745161634,
          4.505132721015544,
          6.963489038159572,
          7.573923561318789,
          6.60369345985475,
          5.089784485372117,
          6.235100096061222,
          5.094042024158725,
          2.936307259735413,
          3.350607533592899,
          4.217577586260397,
          5.441771762760864,
          5.82052520675405,
          4.955670185106437,
          3.7387565842340402,
          3.867598947758145,
          3.030466657957016,
          2.395683406356858,
          6.118654316087947,
          6.793393169076373,
          5.198598894554987,
          3.0318272158691872,
          4.792446183618526,
          3.129754824735267,
          2.052403237967336,
          3.0304006085059934,
          3.5971542113980153,
          4.128779439809012,
          4.105652049335026,
          3.539764417933169,
          3.0149717275733012,
          3.649336452161905,
          2.1646190413978683,
          2.618061679304917,
          4.570613903853512,
          4.530222249229381,
          3.495711005668208,
          2.558085876855659,
          4.553113230799505,
          3.6260527050316718,
          1.0592178398865404,
          1.2981836087777423,
          2.24416252376987,
          3.119310481558657,
          3.0684158103388666,
          2.1238586507599018,
          1.2602088946830476,
          2.343994333350354,
          1.298771424838721,
          0.6195843259181055,
          3.8567640452961363,
          3.7674660797375896,
          2.041111557034816,
          0.4978792699205847,
          3.3975682294478258,
          1.9294106853690736,
          0.043627927809725686,
          0.1594252933180616,
          1.15340381609871,
          1.9142013756588228,
          1.7007429113547088,
          0.7079528835866344,
          -0.039538087960908075,
          1.4243254788026054,
          0.432923808279574,
          -0.42837061599655446,
          2.6886905652355697,
          2.3103293349241065,
          0.5011270685724248,
          -0.8374356894473357,
          2.498321638716729,
          1.0823695894123493,
          -0.8876191977412354,
          -1.214645152491575,
          -0.0783479716059583,
          0.731483111981057,
          0.42710090800873834,
          -0.707952883586633,
          -1.5021100169573594,
          0.2939990986848656,
          -0.43292380827957316,
          -1.8393456361924967,
          1.6167219899400989,
          1.0768289445439492,
          -0.989624099301628,
          -2.4130695268295064,
          1.3930542787077536,
          -0.15997659808068673,
          -1.7915695761632007,
          -2.11744666198945,
          -1.0618824024654032,
          -0.5469967329434063,
          -1.0689927761590599,
          -2.1238586507599018,
          -2.62235210456345,
          -0.4677084251915666,
          -1.298771424838721,
          -2.5104864651332437,
          0.27477157245300193,
          -0.6522549775617668,
          -2.5647876401011587,
          -3.4639394269522583,
          0.6040633726868381,
          -0.6645449114839588,
          -2.6941419596118394,
          -4.360415722296074,
          -3.3912498675105796,
          -2.507220836908694,
          -2.572030698334359,
          -3.539764417933168,
          -4.411916776701283,
          -3.2758602131370513,
          -2.1646190413978674,
          -5.0457002386127625,
          -1.751708216523586,
          -1.8657511712643204,
          -3.6340407148588354,
          -5.1926429957122,
          -2.8892711440383336,
          -4.277379663197439,
          -2.5504889122171694,
          -4.782397178970699,
          -3.516682178510328,
          -2.9816834902579377,
          -3.690634022485292,
          -4.955670185106436,
          -5.4703774992758465,
          -2.718057812444602,
          -3.0304666579570156,
          -5.188679562219447,
          -1.9965055088653805,
          -3.255773541449616,
          -5.54660387653229,
          -6.477887209362088,
          -1.6496708894298147,
          -3.0744283943217607,
          -4.444182005128242,
          -4.818085358829696,
          -4.315892467782019,
          -4.842432350811647,
          -5.8682312813603215,
          -6.371575952279703,
          -5.8312843246808095,
          -3.226374693909352,
          -3.896314274516162,
          -4.396484230437471,
          -4.453337220241362,
          -6.277097992650453,
          -7.163924795436183,
          -6.216562695066288,
          -2.624949007876512,
          -2.65149011950891,
          -4.897253640257643,
          -7.70611338578891,
          -6.387832101563781,
          -5.781301406241369,
          -6.470002170263847,
          -7.787481719452973,
          -8.373259014857577,
          -5.607629898068318,
          -4.76216189107531,
          -8.168152179474207,
          -4.755081490940886,
          -5.978281717553177,
          -8.365725245513481,
          -9.423555021276295,
          -4.866931404742687,
          -6.331497493778857,
          -5.735421190638676,
          -7.963534481908516,
          -6.868889419261647,
          -6.948584049762685,
          -8.10828613390516,
          -9.203387486626237,
          -9.101958945551404,
          -5.610986145960229,
          -5.628009507634456,
          -7.887042186069699,
          -6.097869646458445,
          -8.159032630369277,
          -10.124018353726349,
          -9.962663144100757,
          -4.764332920220552,
          -5.569113376726561,
          -6.9028491151913975,
          -8.532169089055252,
          -8.729943993140607,
          -9.865567866886382,
          -10.814938218436978,
          -10.619293253799508,
          -9.478722666058118,
          -7.754549027738138,
          -6.493857124193605,
          -7.638777402311418,
          -10.022043943991044,
          -11.710790879684524,
          -11.321367374418141,
          -9.300654080537253,
          -8.300377938170318,
          -7.2135764351935965,
          -6.0756765536533095,
          -10.776981344059232,
          -9.64320744378862,
          -9.712835425297996,
          -10.900977230355446,
          -12.035199020972772,
          -11.943160055079789,
          -8.353862373174378,
          -7.3597047407527505,
          -10.707928061124795,
          -8.831674069817414,
          -10.943380117431488,
          -12.978990153428477,
          -12.83486406463457,
          -7.798292446495088,
          -8.59238094019712,
          -8.257357094162689,
          -11.472311628968747,
          -10.80558508743896,
          -11.46300147755669,
          -12.782928922615952,
          -13.45110478814604,
          -12.775752749364381,
          -9.402681364646886,
          -8.225552357311898,
          -10.945393398659052,
          -10.946313305117668,
          -13.293001543726435,
          -14.471621463353742,
          -13.288035568111619,
          -9.26064246333998,
          -9.226957852970802,
          -8.686539304354543
         ],
         "z": [
          1.3533173178529596,
          0.6610541091819969,
          -0.3521247909489286,
          -0.6905059752063617,
          2.8578272709171896e-16,
          1.007641019952752,
          0.9778441895803569,
          1.747604246292033e-16,
          2.1439301916860978,
          -0.8927024571088363,
          -1.4953934004531024,
          -0.22090866995129227,
          1.572781047890881,
          0.7623138099796547,
          2.0369655391344335,
          0.08885606561355854,
          4.75853757114035,
          3.5259314507321102,
          2.5722695784011838,
          2.826678487972835,
          4.057791392027969,
          4.995031272811479,
          3.2006846455947113,
          2.4814003069539687,
          5.495478465757811,
          1.6118093597911265,
          2.062718225963102,
          4.306563681827988,
          5.98464488948589,
          2.4876798954848085,
          4.1563488064067196,
          3.3089885826604033,
          -6.364269986593909,
          -5.887693502119079,
          -6.579423035201983,
          -7.746427253308639,
          -8.224466229149627,
          -7.518204596174643,
          -4.652912596577444,
          -5.029384473937927,
          -5.812673816974078,
          -6.21063811834137,
          -8.285572322837869,
          -9.12141819929257,
          -7.880061741763633,
          -4.163418379527969,
          -4.028993721688774,
          -5.927488752835055,
          7.780829657009342,
          6.6121190795216505,
          6.040570504696517,
          6.617036945956072,
          7.784971727226424,
          8.33838269919276,
          5.955828335837183,
          4.760626993176507,
          8.21712946546472,
          5.130699721969828,
          6.15448338981749,
          8.272061492466282,
          9.27016763873198,
          5.4408698097841315,
          6.743425879724399,
          5.429101929097795,
          -0.4119699728535009,
          -0.7521902905025861,
          -1.6647684479968627,
          -2.248909965291425,
          -1.9103508022134472,
          -0.9972948058482172,
          -0.162863852394586,
          -1.1682081726318412,
          0.3036658338966598,
          -1.9314473073914213,
          -2.9707798033667134,
          -2.3320191880485943,
          -0.711435319918023,
          -0.09982337670288044,
          0.8183336614276495,
          -1.4619193304293345,
          -4.343294530777655,
          -4.4083875921034466,
          -5.44298027294829,
          -6.421371933908709,
          -6.3582509587056855,
          -5.316931018286139,
          -3.3962545242412174,
          -3.888165841058078,
          -3.527975537084945,
          -5.496084612222273,
          -7.23625623991526,
          -7.088322351198578,
          -5.245391637466906,
          -3.2842325199749935,
          -2.465056213492568,
          -4.317419725561962,
          10.365858794815937,
          9.383315110690923,
          9.7521500281435,
          11.092684948542074,
          12.07621016783962,
          11.68557316827394,
          7.943325124344749,
          7.384783672268022,
          10.0626655656189,
          8.98927173104401,
          11.372200498368546,
          13.127060805209235,
          12.452296348318201,
          7.363909696029371,
          7.83077620620027,
          8.377508522777166,
          -10.4651096284978,
          -9.285592311285459,
          -9.229806903466862,
          -10.336673395748189,
          -11.516410021912694,
          -11.549869626975335,
          -8.078321539342735,
          -7.042457485499283,
          -10.494418457701805,
          -8.312783972193625,
          -10.279881947399403,
          -12.401456213672807,
          -12.480063143466717,
          -7.501564940511457,
          -8.425737650975547,
          -7.93854049873875,
          5.136142917810406,
          4.317227825041694,
          3.6268025442301957,
          3.7385533776429236,
          4.556367202891727,
          5.236320774982617,
          4.160592474533527,
          2.786286894408346,
          5.670569818472253,
          2.9885518424087283,
          3.186275380747504,
          4.678732963946081,
          5.894893506744304,
          3.9718528749496613,
          5.0802539181406425,
          2.948418631590581,
          3.1524167916532715,
          3.4596182583330077,
          4.592074384078511,
          5.43034992484049,
          5.1252417781000466,
          3.9899742577062502,
          2.604922995721635,
          3.134162230807725,
          2.2629125954651395,
          4.833615260629838,
          6.3248952254060935,
          5.738900825710584,
          3.7258060100525596,
          2.6664614039927264,
          1.582911782634668,
          3.3319098470156927,
          -9.813161230328724,
          -9.47130349507863,
          -10.474412686962141,
          -11.82235872500522,
          -12.166240771877943,
          -11.148796131286472,
          -8.05545320041153,
          -7.439838737182115,
          -9.017595995281859,
          -10.21109634774614,
          -12.608024052760465,
          -13.192429148415835,
          -11.398412330714693,
          -7.982702674334529,
          -7.45516102862538,
          -7.864053009592937,
          11.17132251763573,
          10.46980285352698,
          10.873009942936648,
          11.971074514091681,
          12.673564178089654,
          12.253711740312173,
          9.295422244468744,
          7.750074610414012,
          10.844498280742599,
          10.328658726243225,
          12.280718243759862,
          13.529473569439634,
          12.79837595502119,
          9.245010341212028,
          9.415396523630733,
          8.024529255494999,
          -5.218377997443146,
          -5.769248570064766,
          -6.680719402086284,
          -7.056031055283135,
          -6.506761523572775,
          -5.598885862900298,
          -5.407147246374985,
          -3.978982279273974,
          -4.506201697862398,
          -7.111126385136256,
          -7.779347785758214,
          -6.762021332504574,
          -5.1470687449476875,
          -6.278629216940983,
          -5.0761960329440114,
          -3.0250413599762425,
          -1.0054396502916543,
          -1.4516685152626743,
          -2.506458083396109,
          -3.129377288843329,
          -2.6850538228336385,
          -1.630734351069455,
          -0.8273689323918505,
          -1.6419506910229542,
          -0.17893734707941888,
          -2.855883952300417,
          -3.964321105770011,
          -3.130780893740544,
          -1.2585800428672562,
          -0.9055265347725316,
          0.21452532680992853,
          -1.777294060940128,
          7.838508902062161,
          8.123935700951993,
          9.185839483140764,
          9.974490251346852,
          9.691027338286943,
          8.626436762208442,
          7.319689696173118,
          5.926208591986382,
          7.0043602516870305,
          9.410271434021722,
          10.813287921647818,
          10.268535333551279,
          8.38076574537025,
          7.975423851916766,
          6.8693030809483275,
          5.332022114146682,
          -8.59251832284524,
          -8.759802156773725,
          -9.978475790006701,
          -11.041603001218077,
          -10.876617270281239,
          -9.651767799069855,
          -7.664833328892882,
          -6.651214620377084,
          -7.633237111309292,
          -10.111452452041066,
          -12.00247697903212,
          -11.665370438917176,
          -9.496094750575818,
          -8.108321095644087,
          -6.994106836662103,
          -6.394073013025231,
          6.387306721403675,
          5.823969758434519,
          5.514894529749316,
          5.758921986275359,
          6.321820554329204,
          6.6224124544952065,
          5.542762169078067,
          3.8658881022911573,
          6.6240831576299435,
          5.076234321148764,
          5.509544928990877,
          6.531253509529595,
          7.07218407927647,
          5.644261323390472,
          6.244128857244288,
          3.7225140081608807,
          1.427369313046303,
          1.114572798782598,
          0.4205329976067797,
          0.029575019579424836,
          0.34112321306507254,
          1.034483723532791,
          1.5047836712745342,
          0.20860196196181413,
          1.9709485864421727,
          0.1756983419386084,
          -0.5200138013998423,
          0.06292183374867023,
          1.294452880694668,
          1.6800084168986433,
          2.3950742103819818,
          -0.1734637263678398,
          -2.3200767273037406,
          -2.7942615968979645,
          -3.981028412876902,
          -4.709377159792563,
          -4.237343863772627,
          -3.050568195564112,
          -2.061942471012856,
          -2.5911993368836153,
          -1.3898081679997025,
          -4.352502879980605,
          -5.648488275093404,
          -4.760755666493673,
          -2.6538007366444445,
          -2.2514299219319245,
          -0.9943768813210506,
          -2.6148032772132823,
          1.2452013564607884,
          0.7795888370694463,
          -0.06855013987196683,
          -0.46411005074589917,
          2.8578272709171896e-16,
          0.8457004322953549,
          1.1669813721381441,
          1.747604246292033e-16,
          1.9084412199486325,
          -0.43254607251976623,
          -1.1366393940638995,
          -0.2744432034073185,
          1.2290669881282557,
          1.1846699683585236,
          2.144710611036805,
          -0.19941043102672124
         ]
        },
        {
         "hovertemplate": "name=Core<br>X=%{x}<br>Y=%{y}<br>Z=%{z}<extra></extra>",
         "legendgroup": "Core",
         "marker": {
          "color": "#EF553B",
          "symbol": "circle"
         },
         "mode": "markers",
         "name": "Core",
         "scene": "scene",
         "showlegend": true,
         "type": "scatter3d",
         "x": [
          1.3183898417423734e-15,
          -1.7207970798225134,
          0.2804060010987831,
          2.318708572538127,
          -4.195600369527499,
          3.883060306712688,
          -1.2611530530022348,
          -2.323601106625276,
          4.846900553811445,
          -4.823521478286022,
          2.211759711531861,
          1.544305589579805,
          -4.361846569158795,
          4.744673375782024,
          -2.6468127326079762,
          -0.5475496229608119,
          2.914012063421091,
          -3.204623701145723,
          1.654194559179732,
          7.008282842946301e-16
         ],
         "y": [
          5.225552430834142,
          4.675494280220023,
          4.125436129605903,
          3.575377978991782,
          3.025319828377662,
          2.475261677763542,
          1.9252035271494214,
          1.3751453765353008,
          0.8250872259211806,
          0.2750290753070604,
          -0.27502907530705983,
          -0.8250872259211806,
          -1.3751453765353003,
          -1.925203527149421,
          -2.475261677763541,
          -3.025319828377662,
          -3.575377978991781,
          -4.125436129605903,
          -4.675494280220022,
          -5.225552430834142
         ],
         "z": [
          1.1102230246251565e-16,
          1.5763910850739997,
          -3.195081755211699,
          3.0243447340499174,
          -0.7421426295816059,
          -2.4700851176476077,
          4.691426495571597,
          -4.473952536413411,
          1.7700803084833812,
          1.9910795472923217,
          -4.726402034695828,
          4.923489567675642,
          -2.527779244298801,
          -1.0431031318106843,
          3.7648187463005622,
          -4.225402649904154,
          2.4559324520380468,
          0.1325212511032584,
          -1.646144526889012,
          1.1102230246251565e-16
         ]
        }
       ],
       "layout": {
        "legend": {
         "title": {
          "text": "name"
         },
         "tracegroupgap": 0
        },
        "margin": {
         "t": 60
        },
        "scene": {
         "domain": {
          "x": [
           0,
           1
          ],
          "y": [
           0,
           1
          ]
         },
         "xaxis": {
          "title": {
           "text": "X"
          }
         },
         "yaxis": {
          "title": {
           "text": "Y"
          }
         },
         "zaxis": {
          "title": {
           "text": "Z"
          }
         }
        },
        "template": {
         "data": {
          "bar": [
           {
            "error_x": {
             "color": "#2a3f5f"
            },
            "error_y": {
             "color": "#2a3f5f"
            },
            "marker": {
             "line": {
              "color": "#E5ECF6",
              "width": 0.5
             },
             "pattern": {
              "fillmode": "overlay",
              "size": 10,
              "solidity": 0.2
             }
            },
            "type": "bar"
           }
          ],
          "barpolar": [
           {
            "marker": {
             "line": {
              "color": "#E5ECF6",
              "width": 0.5
             },
             "pattern": {
              "fillmode": "overlay",
              "size": 10,
              "solidity": 0.2
             }
            },
            "type": "barpolar"
           }
          ],
          "carpet": [
           {
            "aaxis": {
             "endlinecolor": "#2a3f5f",
             "gridcolor": "white",
             "linecolor": "white",
             "minorgridcolor": "white",
             "startlinecolor": "#2a3f5f"
            },
            "baxis": {
             "endlinecolor": "#2a3f5f",
             "gridcolor": "white",
             "linecolor": "white",
             "minorgridcolor": "white",
             "startlinecolor": "#2a3f5f"
            },
            "type": "carpet"
           }
          ],
          "choropleth": [
           {
            "colorbar": {
             "outlinewidth": 0,
             "ticks": ""
            },
            "type": "choropleth"
           }
          ],
          "contour": [
           {
            "colorbar": {
             "outlinewidth": 0,
             "ticks": ""
            },
            "colorscale": [
             [
              0,
              "#0d0887"
             ],
             [
              0.1111111111111111,
              "#46039f"
             ],
             [
              0.2222222222222222,
              "#7201a8"
             ],
             [
              0.3333333333333333,
              "#9c179e"
             ],
             [
              0.4444444444444444,
              "#bd3786"
             ],
             [
              0.5555555555555556,
              "#d8576b"
             ],
             [
              0.6666666666666666,
              "#ed7953"
             ],
             [
              0.7777777777777778,
              "#fb9f3a"
             ],
             [
              0.8888888888888888,
              "#fdca26"
             ],
             [
              1,
              "#f0f921"
             ]
            ],
            "type": "contour"
           }
          ],
          "contourcarpet": [
           {
            "colorbar": {
             "outlinewidth": 0,
             "ticks": ""
            },
            "type": "contourcarpet"
           }
          ],
          "heatmap": [
           {
            "colorbar": {
             "outlinewidth": 0,
             "ticks": ""
            },
            "colorscale": [
             [
              0,
              "#0d0887"
             ],
             [
              0.1111111111111111,
              "#46039f"
             ],
             [
              0.2222222222222222,
              "#7201a8"
             ],
             [
              0.3333333333333333,
              "#9c179e"
             ],
             [
              0.4444444444444444,
              "#bd3786"
             ],
             [
              0.5555555555555556,
              "#d8576b"
             ],
             [
              0.6666666666666666,
              "#ed7953"
             ],
             [
              0.7777777777777778,
              "#fb9f3a"
             ],
             [
              0.8888888888888888,
              "#fdca26"
             ],
             [
              1,
              "#f0f921"
             ]
            ],
            "type": "heatmap"
           }
          ],
          "heatmapgl": [
           {
            "colorbar": {
             "outlinewidth": 0,
             "ticks": ""
            },
            "colorscale": [
             [
              0,
              "#0d0887"
             ],
             [
              0.1111111111111111,
              "#46039f"
             ],
             [
              0.2222222222222222,
              "#7201a8"
             ],
             [
              0.3333333333333333,
              "#9c179e"
             ],
             [
              0.4444444444444444,
              "#bd3786"
             ],
             [
              0.5555555555555556,
              "#d8576b"
             ],
             [
              0.6666666666666666,
              "#ed7953"
             ],
             [
              0.7777777777777778,
              "#fb9f3a"
             ],
             [
              0.8888888888888888,
              "#fdca26"
             ],
             [
              1,
              "#f0f921"
             ]
            ],
            "type": "heatmapgl"
           }
          ],
          "histogram": [
           {
            "marker": {
             "pattern": {
              "fillmode": "overlay",
              "size": 10,
              "solidity": 0.2
             }
            },
            "type": "histogram"
           }
          ],
          "histogram2d": [
           {
            "colorbar": {
             "outlinewidth": 0,
             "ticks": ""
            },
            "colorscale": [
             [
              0,
              "#0d0887"
             ],
             [
              0.1111111111111111,
              "#46039f"
             ],
             [
              0.2222222222222222,
              "#7201a8"
             ],
             [
              0.3333333333333333,
              "#9c179e"
             ],
             [
              0.4444444444444444,
              "#bd3786"
             ],
             [
              0.5555555555555556,
              "#d8576b"
             ],
             [
              0.6666666666666666,
              "#ed7953"
             ],
             [
              0.7777777777777778,
              "#fb9f3a"
             ],
             [
              0.8888888888888888,
              "#fdca26"
             ],
             [
              1,
              "#f0f921"
             ]
            ],
            "type": "histogram2d"
           }
          ],
          "histogram2dcontour": [
           {
            "colorbar": {
             "outlinewidth": 0,
             "ticks": ""
            },
            "colorscale": [
             [
              0,
              "#0d0887"
             ],
             [
              0.1111111111111111,
              "#46039f"
             ],
             [
              0.2222222222222222,
              "#7201a8"
             ],
             [
              0.3333333333333333,
              "#9c179e"
             ],
             [
              0.4444444444444444,
              "#bd3786"
             ],
             [
              0.5555555555555556,
              "#d8576b"
             ],
             [
              0.6666666666666666,
              "#ed7953"
             ],
             [
              0.7777777777777778,
              "#fb9f3a"
             ],
             [
              0.8888888888888888,
              "#fdca26"
             ],
             [
              1,
              "#f0f921"
             ]
            ],
            "type": "histogram2dcontour"
           }
          ],
          "mesh3d": [
           {
            "colorbar": {
             "outlinewidth": 0,
             "ticks": ""
            },
            "type": "mesh3d"
           }
          ],
          "parcoords": [
           {
            "line": {
             "colorbar": {
              "outlinewidth": 0,
              "ticks": ""
             }
            },
            "type": "parcoords"
           }
          ],
          "pie": [
           {
            "automargin": true,
            "type": "pie"
           }
          ],
          "scatter": [
           {
            "marker": {
             "colorbar": {
              "outlinewidth": 0,
              "ticks": ""
             }
            },
            "type": "scatter"
           }
          ],
          "scatter3d": [
           {
            "line": {
             "colorbar": {
              "outlinewidth": 0,
              "ticks": ""
             }
            },
            "marker": {
             "colorbar": {
              "outlinewidth": 0,
              "ticks": ""
             }
            },
            "type": "scatter3d"
           }
          ],
          "scattercarpet": [
           {
            "marker": {
             "colorbar": {
              "outlinewidth": 0,
              "ticks": ""
             }
            },
            "type": "scattercarpet"
           }
          ],
          "scattergeo": [
           {
            "marker": {
             "colorbar": {
              "outlinewidth": 0,
              "ticks": ""
             }
            },
            "type": "scattergeo"
           }
          ],
          "scattergl": [
           {
            "marker": {
             "colorbar": {
              "outlinewidth": 0,
              "ticks": ""
             }
            },
            "type": "scattergl"
           }
          ],
          "scattermapbox": [
           {
            "marker": {
             "colorbar": {
              "outlinewidth": 0,
              "ticks": ""
             }
            },
            "type": "scattermapbox"
           }
          ],
          "scatterpolar": [
           {
            "marker": {
             "colorbar": {
              "outlinewidth": 0,
              "ticks": ""
             }
            },
            "type": "scatterpolar"
           }
          ],
          "scatterpolargl": [
           {
            "marker": {
             "colorbar": {
              "outlinewidth": 0,
              "ticks": ""
             }
            },
            "type": "scatterpolargl"
           }
          ],
          "scatterternary": [
           {
            "marker": {
             "colorbar": {
              "outlinewidth": 0,
              "ticks": ""
             }
            },
            "type": "scatterternary"
           }
          ],
          "surface": [
           {
            "colorbar": {
             "outlinewidth": 0,
             "ticks": ""
            },
            "colorscale": [
             [
              0,
              "#0d0887"
             ],
             [
              0.1111111111111111,
              "#46039f"
             ],
             [
              0.2222222222222222,
              "#7201a8"
             ],
             [
              0.3333333333333333,
              "#9c179e"
             ],
             [
              0.4444444444444444,
              "#bd3786"
             ],
             [
              0.5555555555555556,
              "#d8576b"
             ],
             [
              0.6666666666666666,
              "#ed7953"
             ],
             [
              0.7777777777777778,
              "#fb9f3a"
             ],
             [
              0.8888888888888888,
              "#fdca26"
             ],
             [
              1,
              "#f0f921"
             ]
            ],
            "type": "surface"
           }
          ],
          "table": [
           {
            "cells": {
             "fill": {
              "color": "#EBF0F8"
             },
             "line": {
              "color": "white"
             }
            },
            "header": {
             "fill": {
              "color": "#C8D4E3"
             },
             "line": {
              "color": "white"
             }
            },
            "type": "table"
           }
          ]
         },
         "layout": {
          "annotationdefaults": {
           "arrowcolor": "#2a3f5f",
           "arrowhead": 0,
           "arrowwidth": 1
          },
          "autotypenumbers": "strict",
          "coloraxis": {
           "colorbar": {
            "outlinewidth": 0,
            "ticks": ""
           }
          },
          "colorscale": {
           "diverging": [
            [
             0,
             "#8e0152"
            ],
            [
             0.1,
             "#c51b7d"
            ],
            [
             0.2,
             "#de77ae"
            ],
            [
             0.3,
             "#f1b6da"
            ],
            [
             0.4,
             "#fde0ef"
            ],
            [
             0.5,
             "#f7f7f7"
            ],
            [
             0.6,
             "#e6f5d0"
            ],
            [
             0.7,
             "#b8e186"
            ],
            [
             0.8,
             "#7fbc41"
            ],
            [
             0.9,
             "#4d9221"
            ],
            [
             1,
             "#276419"
            ]
           ],
           "sequential": [
            [
             0,
             "#0d0887"
            ],
            [
             0.1111111111111111,
             "#46039f"
            ],
            [
             0.2222222222222222,
             "#7201a8"
            ],
            [
             0.3333333333333333,
             "#9c179e"
            ],
            [
             0.4444444444444444,
             "#bd3786"
            ],
            [
             0.5555555555555556,
             "#d8576b"
            ],
            [
             0.6666666666666666,
             "#ed7953"
            ],
            [
             0.7777777777777778,
             "#fb9f3a"
            ],
            [
             0.8888888888888888,
             "#fdca26"
            ],
            [
             1,
             "#f0f921"
            ]
           ],
           "sequentialminus": [
            [
             0,
             "#0d0887"
            ],
            [
             0.1111111111111111,
             "#46039f"
            ],
            [
             0.2222222222222222,
             "#7201a8"
            ],
            [
             0.3333333333333333,
             "#9c179e"
            ],
            [
             0.4444444444444444,
             "#bd3786"
            ],
            [
             0.5555555555555556,
             "#d8576b"
            ],
            [
             0.6666666666666666,
             "#ed7953"
            ],
            [
             0.7777777777777778,
             "#fb9f3a"
            ],
            [
             0.8888888888888888,
             "#fdca26"
            ],
            [
             1,
             "#f0f921"
            ]
           ]
          },
          "colorway": [
           "#636efa",
           "#EF553B",
           "#00cc96",
           "#ab63fa",
           "#FFA15A",
           "#19d3f3",
           "#FF6692",
           "#B6E880",
           "#FF97FF",
           "#FECB52"
          ],
          "font": {
           "color": "#2a3f5f"
          },
          "geo": {
           "bgcolor": "white",
           "lakecolor": "white",
           "landcolor": "#E5ECF6",
           "showlakes": true,
           "showland": true,
           "subunitcolor": "white"
          },
          "hoverlabel": {
           "align": "left"
          },
          "hovermode": "closest",
          "mapbox": {
           "style": "light"
          },
          "paper_bgcolor": "white",
          "plot_bgcolor": "#E5ECF6",
          "polar": {
           "angularaxis": {
            "gridcolor": "white",
            "linecolor": "white",
            "ticks": ""
           },
           "bgcolor": "#E5ECF6",
           "radialaxis": {
            "gridcolor": "white",
            "linecolor": "white",
            "ticks": ""
           }
          },
          "scene": {
           "xaxis": {
            "backgroundcolor": "#E5ECF6",
            "gridcolor": "white",
            "gridwidth": 2,
            "linecolor": "white",
            "showbackground": true,
            "ticks": "",
            "zerolinecolor": "white"
           },
           "yaxis": {
            "backgroundcolor": "#E5ECF6",
            "gridcolor": "white",
            "gridwidth": 2,
            "linecolor": "white",
            "showbackground": true,
            "ticks": "",
            "zerolinecolor": "white"
           },
           "zaxis": {
            "backgroundcolor": "#E5ECF6",
            "gridcolor": "white",
            "gridwidth": 2,
            "linecolor": "white",
            "showbackground": true,
            "ticks": "",
            "zerolinecolor": "white"
           }
          },
          "shapedefaults": {
           "line": {
            "color": "#2a3f5f"
           }
          },
          "ternary": {
           "aaxis": {
            "gridcolor": "white",
            "linecolor": "white",
            "ticks": ""
           },
           "baxis": {
            "gridcolor": "white",
            "linecolor": "white",
            "ticks": ""
           },
           "bgcolor": "#E5ECF6",
           "caxis": {
            "gridcolor": "white",
            "linecolor": "white",
            "ticks": ""
           }
          },
          "title": {
           "x": 0.05
          },
          "xaxis": {
           "automargin": true,
           "gridcolor": "white",
           "linecolor": "white",
           "ticks": "",
           "title": {
            "standoff": 15
           },
           "zerolinecolor": "white",
           "zerolinewidth": 2
          },
          "yaxis": {
           "automargin": true,
           "gridcolor": "white",
           "linecolor": "white",
           "ticks": "",
           "title": {
            "standoff": 15
           },
           "zerolinecolor": "white",
           "zerolinewidth": 2
          }
         }
        }
       }
      },
      "text/html": [
       "<div>                            <div id=\"36bc102d-e603-4763-81b9-b9aa1863f18d\" class=\"plotly-graph-div\" style=\"height:525px; width:100%;\"></div>            <script type=\"text/javascript\">                require([\"plotly\"], function(Plotly) {                    window.PLOTLYENV=window.PLOTLYENV || {};                                    if (document.getElementById(\"36bc102d-e603-4763-81b9-b9aa1863f18d\")) {                    Plotly.newPlot(                        \"36bc102d-e603-4763-81b9-b9aa1863f18d\",                        [{\"hovertemplate\":\"name=Ligand<br>X=%{x}<br>Y=%{y}<br>Z=%{z}<extra></extra>\",\"legendgroup\":\"Ligand\",\"marker\":{\"color\":\"#636efa\",\"symbol\":\"circle\"},\"mode\":\"markers\",\"name\":\"Ligand\",\"scene\":\"scene\",\"showlegend\":true,\"type\":\"scatter3d\",\"x\":[0.36176482183114855,-0.6277052938627862,-1.2933567450996704,-0.988463397998803,3.3936698842141626e-15,0.6516976867425741,-0.9932926398174909,2.0752800424717892e-15,0.8745610452376626,-2.0641112733622395,-1.523125042833484,0.27512855277097814,1.4441794687974243,-2.064961826174931,-0.7252913997286864,1.3437479691307042,-3.946962783345228,-4.34360668157964,-4.77839574727793,-4.825424249133222,-4.4295071470813845,-3.999015911622501,-4.31453303162031,-2.708710067258871,-3.608893648396827,-5.087762829841173,-5.171929656339531,-4.446047166711096,-3.6780228850545056,-5.126647992632341,-4.4021989617084945,-1.718547951900087,1.7815211378229816,0.5476804423573745,-0.5852166477796565,-0.510209300802448,0.7217936388407162,1.8396277941550943,0.40854009746509595,0.44138763774193307,2.6598471853427097,-1.5470652895192896,-1.415237339243995,0.836189286930829,2.8337409570087324,-0.5432295516484242,1.3002564223984778,1.5299688774400257,4.594446935513981,3.9862016495684376,4.371448086666017,5.359437678107242,5.968592296260669,5.568638273127872,2.9306522054185518,3.6498837237225414,4.282985526006799,3.899573194623663,5.655953196056134,6.737610699480594,6.040225255249428,2.2329109424736067,2.4537797929480902,4.750918537005166,-8.960497988362054,-9.032454361095175,-9.98306052171194,-10.870050640910662,-10.79990316175815,-9.843350526993046,-8.115549873363287,-6.604302792230651,-8.211487344690976,-10.041284279583014,-11.618928888519566,-11.461168400691324,-9.768011575365767,-8.645337719619478,-7.787319699673265,-6.171856553595136,9.378441396737706,8.104747210872702,7.786606972610208,8.721958291841952,9.995393171463268,10.291414997050463,7.07079203953308,6.112332864750581,9.613537232249366,6.795742957931118,8.457675737300768,10.756358262598939,11.300935549066626,6.398596101419203,7.60172751176124,7.071598523727793,-3.8598803431006115,-3.428864592025529,-2.9120192862619954,-2.816195515506573,-3.246336553763264,-3.7588545523405674,-3.5069204041071576,-1.9851835007610295,-4.262205188760111,-2.5757156491384645,-2.4047591220309963,-3.1948659266832147,-4.108469691853201,-3.661964239053388,-4.323841600717497,-1.6954382886477086,-3.856738035798649,-4.2930097322404155,-5.564261970386401,-6.415133248113648,-5.981186177875461,-4.708541780073196,-3.4316600849156256,-3.6575850712501854,-2.8593468866302896,-5.906467571492042,-7.420317707474359,-6.598197669425833,-4.339977465818858,-3.687868201694418,-2.381326155718023,-3.6231410969746034,10.271856254203215,9.691075999427808,10.503017273039507,11.89391328743436,12.476416246891187,11.647005061222211,8.218782586159945,7.629515693079742,9.62411988376016,10.053515652929168,12.526525851001452,13.546056459480502,12.088570246262684,7.955224911230474,7.7640467526310974,8.28096873969707,-11.11814407213901,-10.21236391325294,-10.413733833619832,-11.509817699463884,-12.416236122606747,-12.195837436409626,-9.029889229070525,-7.592714644320726,-10.94799778684283,-9.71011609385619,-11.658390974382485,-13.280294165168655,-12.905357603088586,-8.789372053383445,-9.280888632181345,-8.085791737498353,5.9835423857769054,5.280146518094892,4.790488256227705,4.990646172922048,5.6932950228318155,6.173161178266504,5.0375057953754885,3.4815353112999547,6.361029825160049,4.242519226100795,4.597626590855818,5.876459941641725,6.736800102407543,4.994051092250395,5.848675830303222,3.495206404078906,2.072256861945797,2.6167364262962445,3.830876631779275,4.517494842743576,3.975200054980929,2.7621959810838534,1.9312173618031678,2.430894465401124,1.1212694089437647,4.257059724659352,5.4789163364088855,4.464026594301246,2.3095195133276816,2.183936756163476,0.8489498254103462,2.3702422703595687,-9.34513678154799,-8.53269423019529,-9.070777163976697,-10.414135300894447,-11.227837831148626,-10.669928587510103,-7.098219839684771,-6.865991261989831,-8.910554735835728,-8.440535993544954,-10.828698996411475,-12.272780439701155,-11.29935068382089,-6.544892354704038,-6.763747814239493,-7.849436296328914,10.473492444904963,10.15466791826478,10.863903435370919,11.892995775992524,12.213273066898118,11.492414198267793,9.070879160831717,7.4685996911160935,9.91002099727876,10.61777474820447,12.44765432428462,12.999450779622817,11.729626481716268,9.330771467228832,8.961802071848407,7.372922840860113,-6.994291052609267,-5.741638832810118,-5.036702128451466,-5.561522820764225,-6.813165859906205,-7.4993746756139075,-5.134771217759165,-4.166353127298228,-7.534772340036623,-4.0612593047468755,-4.993079858559011,-7.265513592895809,-8.499899858330043,-4.484076896150004,-5.966096108081199,-4.985575799069705,-0.6006005479689651,-0.23052715568172227,-0.4513771941561559,-1.0388480696923619,-1.409448561207921,-1.1797543964033987,0.39754665018423,-0.8618989382471092,-0.4217955850419332,-0.16424775240314762,-1.2085923353687127,-1.8671094716234355,-1.4669625322976083,1.0829571707706023,0.8981294373695266,-1.86823263035169,5.418552118735439,6.040812027524825,7.382430794940592,8.120815461414328,7.50096418279395,6.160998721711611,5.3054545874381835,4.586952119372859,4.367953550123871,7.8693760166316515,9.183414537727177,8.024917700966128,5.644531800610662,6.004009865151965,4.45060203275193,3.970274882546908,-7.6642666407967965,-6.3354148171950975,-5.974185222668046,-6.920503369064889,-8.249028170942427,-8.587407563321444,-5.287326531581016,-5.044404469796705,-7.932677467766954,-4.940345461290922,-6.621704008666503,-9.020809595369384,-9.641234839788275,-4.345800999234337,-5.6603853210734645,-6.350242817566706,3.4713387547903833,4.097844296365342,4.796812190393283,4.883399678679457,4.258065467722384,3.565791664672485,4.039133950339384,2.603870908542652,2.927736366891151,5.28549901180774,5.440313701550314,4.29340706441459,3.0585601047940463,4.97216117476377,3.872238608230723,1.4994588130359896,-0.6417282376391574,0.4724909695713591,1.338680102496181,1.112861290447142,1.8040034647664758e-15,-0.851375991447073,0.7622099477796422,1.1031751804718457e-15,-1.3111620032136941,2.2068930470000088,1.8066992572332734,-0.22175952992606268,-1.7460495128701445,1.8551945327956398,0.274759198295109,-1.3318368837575199],\"y\":[11.472311628968747,10.80558508743896,11.46300147755669,12.782928922615952,13.45110478814604,12.77575274936438,9.402681364646886,8.225552357311898,10.94539339865905,10.94631330511767,13.293001543726435,14.47162146335374,13.288035568111617,9.26064246333998,9.226957852970802,8.686539304354543,9.764941404443768,9.289379094082008,10.185653131311241,11.557780919066563,12.035199020972776,11.122834303140273,7.841788628304198,7.359704740752752,9.051990577051697,9.818145852171968,12.257909222615979,13.085812851533166,11.479867465518318,7.624540485793257,7.290914643832781,7.960320759107552,9.481483303498282,9.089927772609473,9.463925211664428,10.226909675469042,10.619293253799508,10.23485602448413,8.278691063801308,6.493857124193605,9.181555771663534,9.160448196049966,10.516957540865665,11.209497832179931,10.535925348855908,8.542572070137044,8.478712771951006,6.308216182893096,7.205971334014376,7.614575053165913,8.809036043537173,9.60980645288797,9.203387486626239,8.00759329372733,6.803867492640033,5.628009507634458,6.268791643681204,9.129539816567794,10.554265915174849,9.78416705022514,7.66230087100171,7.484365902213908,6.19008881802386,5.022264866496272,7.288074656815308,5.953205316020897,5.546549832765702,6.453025124984494,7.787481719452973,8.171521405825388,4.9461653824984335,4.76216189107531,7.592245582789282,4.507922949088069,6.118411575169864,8.529691057545879,9.230980092665881,3.9815649598429674,5.338540002313023,6.086090505751404,5.172707728855385,5.698321422904517,6.552853120233687,6.895691138197055,6.371575952279706,5.52059150075063,5.368666641982552,3.8963142745161634,4.505132721015544,6.963489038159572,7.573923561318789,6.60369345985475,5.089784485372117,6.235100096061222,5.094042024158725,2.936307259735413,3.350607533592899,4.217577586260397,5.441771762760864,5.82052520675405,4.955670185106437,3.7387565842340402,3.867598947758145,3.030466657957016,2.395683406356858,6.118654316087947,6.793393169076373,5.198598894554987,3.0318272158691872,4.792446183618526,3.129754824735267,2.052403237967336,3.0304006085059934,3.5971542113980153,4.128779439809012,4.105652049335026,3.539764417933169,3.0149717275733012,3.649336452161905,2.1646190413978683,2.618061679304917,4.570613903853512,4.530222249229381,3.495711005668208,2.558085876855659,4.553113230799505,3.6260527050316718,1.0592178398865404,1.2981836087777423,2.24416252376987,3.119310481558657,3.0684158103388666,2.1238586507599018,1.2602088946830476,2.343994333350354,1.298771424838721,0.6195843259181055,3.8567640452961363,3.7674660797375896,2.041111557034816,0.4978792699205847,3.3975682294478258,1.9294106853690736,0.043627927809725686,0.1594252933180616,1.15340381609871,1.9142013756588228,1.7007429113547088,0.7079528835866344,-0.039538087960908075,1.4243254788026054,0.432923808279574,-0.42837061599655446,2.6886905652355697,2.3103293349241065,0.5011270685724248,-0.8374356894473357,2.498321638716729,1.0823695894123493,-0.8876191977412354,-1.214645152491575,-0.0783479716059583,0.731483111981057,0.42710090800873834,-0.707952883586633,-1.5021100169573594,0.2939990986848656,-0.43292380827957316,-1.8393456361924967,1.6167219899400989,1.0768289445439492,-0.989624099301628,-2.4130695268295064,1.3930542787077536,-0.15997659808068673,-1.7915695761632007,-2.11744666198945,-1.0618824024654032,-0.5469967329434063,-1.0689927761590599,-2.1238586507599018,-2.62235210456345,-0.4677084251915666,-1.298771424838721,-2.5104864651332437,0.27477157245300193,-0.6522549775617668,-2.5647876401011587,-3.4639394269522583,0.6040633726868381,-0.6645449114839588,-2.6941419596118394,-4.360415722296074,-3.3912498675105796,-2.507220836908694,-2.572030698334359,-3.539764417933168,-4.411916776701283,-3.2758602131370513,-2.1646190413978674,-5.0457002386127625,-1.751708216523586,-1.8657511712643204,-3.6340407148588354,-5.1926429957122,-2.8892711440383336,-4.277379663197439,-2.5504889122171694,-4.782397178970699,-3.516682178510328,-2.9816834902579377,-3.690634022485292,-4.955670185106436,-5.4703774992758465,-2.718057812444602,-3.0304666579570156,-5.188679562219447,-1.9965055088653805,-3.255773541449616,-5.54660387653229,-6.477887209362088,-1.6496708894298147,-3.0744283943217607,-4.444182005128242,-4.818085358829696,-4.315892467782019,-4.842432350811647,-5.8682312813603215,-6.371575952279703,-5.8312843246808095,-3.226374693909352,-3.896314274516162,-4.396484230437471,-4.453337220241362,-6.277097992650453,-7.163924795436183,-6.216562695066288,-2.624949007876512,-2.65149011950891,-4.897253640257643,-7.70611338578891,-6.387832101563781,-5.781301406241369,-6.470002170263847,-7.787481719452973,-8.373259014857577,-5.607629898068318,-4.76216189107531,-8.168152179474207,-4.755081490940886,-5.978281717553177,-8.365725245513481,-9.423555021276295,-4.866931404742687,-6.331497493778857,-5.735421190638676,-7.963534481908516,-6.868889419261647,-6.948584049762685,-8.10828613390516,-9.203387486626237,-9.101958945551404,-5.610986145960229,-5.628009507634456,-7.887042186069699,-6.097869646458445,-8.159032630369277,-10.124018353726349,-9.962663144100757,-4.764332920220552,-5.569113376726561,-6.9028491151913975,-8.532169089055252,-8.729943993140607,-9.865567866886382,-10.814938218436978,-10.619293253799508,-9.478722666058118,-7.754549027738138,-6.493857124193605,-7.638777402311418,-10.022043943991044,-11.710790879684524,-11.321367374418141,-9.300654080537253,-8.300377938170318,-7.2135764351935965,-6.0756765536533095,-10.776981344059232,-9.64320744378862,-9.712835425297996,-10.900977230355446,-12.035199020972772,-11.943160055079789,-8.353862373174378,-7.3597047407527505,-10.707928061124795,-8.831674069817414,-10.943380117431488,-12.978990153428477,-12.83486406463457,-7.798292446495088,-8.59238094019712,-8.257357094162689,-11.472311628968747,-10.80558508743896,-11.46300147755669,-12.782928922615952,-13.45110478814604,-12.775752749364381,-9.402681364646886,-8.225552357311898,-10.945393398659052,-10.946313305117668,-13.293001543726435,-14.471621463353742,-13.288035568111619,-9.26064246333998,-9.226957852970802,-8.686539304354543],\"z\":[1.3533173178529596,0.6610541091819969,-0.3521247909489286,-0.6905059752063617,2.8578272709171896e-16,1.007641019952752,0.9778441895803569,1.747604246292033e-16,2.1439301916860978,-0.8927024571088363,-1.4953934004531024,-0.22090866995129227,1.572781047890881,0.7623138099796547,2.0369655391344335,0.08885606561355854,4.75853757114035,3.5259314507321102,2.5722695784011838,2.826678487972835,4.057791392027969,4.995031272811479,3.2006846455947113,2.4814003069539687,5.495478465757811,1.6118093597911265,2.062718225963102,4.306563681827988,5.98464488948589,2.4876798954848085,4.1563488064067196,3.3089885826604033,-6.364269986593909,-5.887693502119079,-6.579423035201983,-7.746427253308639,-8.224466229149627,-7.518204596174643,-4.652912596577444,-5.029384473937927,-5.812673816974078,-6.21063811834137,-8.285572322837869,-9.12141819929257,-7.880061741763633,-4.163418379527969,-4.028993721688774,-5.927488752835055,7.780829657009342,6.6121190795216505,6.040570504696517,6.617036945956072,7.784971727226424,8.33838269919276,5.955828335837183,4.760626993176507,8.21712946546472,5.130699721969828,6.15448338981749,8.272061492466282,9.27016763873198,5.4408698097841315,6.743425879724399,5.429101929097795,-0.4119699728535009,-0.7521902905025861,-1.6647684479968627,-2.248909965291425,-1.9103508022134472,-0.9972948058482172,-0.162863852394586,-1.1682081726318412,0.3036658338966598,-1.9314473073914213,-2.9707798033667134,-2.3320191880485943,-0.711435319918023,-0.09982337670288044,0.8183336614276495,-1.4619193304293345,-4.343294530777655,-4.4083875921034466,-5.44298027294829,-6.421371933908709,-6.3582509587056855,-5.316931018286139,-3.3962545242412174,-3.888165841058078,-3.527975537084945,-5.496084612222273,-7.23625623991526,-7.088322351198578,-5.245391637466906,-3.2842325199749935,-2.465056213492568,-4.317419725561962,10.365858794815937,9.383315110690923,9.7521500281435,11.092684948542074,12.07621016783962,11.68557316827394,7.943325124344749,7.384783672268022,10.0626655656189,8.98927173104401,11.372200498368546,13.127060805209235,12.452296348318201,7.363909696029371,7.83077620620027,8.377508522777166,-10.4651096284978,-9.285592311285459,-9.229806903466862,-10.336673395748189,-11.516410021912694,-11.549869626975335,-8.078321539342735,-7.042457485499283,-10.494418457701805,-8.312783972193625,-10.279881947399403,-12.401456213672807,-12.480063143466717,-7.501564940511457,-8.425737650975547,-7.93854049873875,5.136142917810406,4.317227825041694,3.6268025442301957,3.7385533776429236,4.556367202891727,5.236320774982617,4.160592474533527,2.786286894408346,5.670569818472253,2.9885518424087283,3.186275380747504,4.678732963946081,5.894893506744304,3.9718528749496613,5.0802539181406425,2.948418631590581,3.1524167916532715,3.4596182583330077,4.592074384078511,5.43034992484049,5.1252417781000466,3.9899742577062502,2.604922995721635,3.134162230807725,2.2629125954651395,4.833615260629838,6.3248952254060935,5.738900825710584,3.7258060100525596,2.6664614039927264,1.582911782634668,3.3319098470156927,-9.813161230328724,-9.47130349507863,-10.474412686962141,-11.82235872500522,-12.166240771877943,-11.148796131286472,-8.05545320041153,-7.439838737182115,-9.017595995281859,-10.21109634774614,-12.608024052760465,-13.192429148415835,-11.398412330714693,-7.982702674334529,-7.45516102862538,-7.864053009592937,11.17132251763573,10.46980285352698,10.873009942936648,11.971074514091681,12.673564178089654,12.253711740312173,9.295422244468744,7.750074610414012,10.844498280742599,10.328658726243225,12.280718243759862,13.529473569439634,12.79837595502119,9.245010341212028,9.415396523630733,8.024529255494999,-5.218377997443146,-5.769248570064766,-6.680719402086284,-7.056031055283135,-6.506761523572775,-5.598885862900298,-5.407147246374985,-3.978982279273974,-4.506201697862398,-7.111126385136256,-7.779347785758214,-6.762021332504574,-5.1470687449476875,-6.278629216940983,-5.0761960329440114,-3.0250413599762425,-1.0054396502916543,-1.4516685152626743,-2.506458083396109,-3.129377288843329,-2.6850538228336385,-1.630734351069455,-0.8273689323918505,-1.6419506910229542,-0.17893734707941888,-2.855883952300417,-3.964321105770011,-3.130780893740544,-1.2585800428672562,-0.9055265347725316,0.21452532680992853,-1.777294060940128,7.838508902062161,8.123935700951993,9.185839483140764,9.974490251346852,9.691027338286943,8.626436762208442,7.319689696173118,5.926208591986382,7.0043602516870305,9.410271434021722,10.813287921647818,10.268535333551279,8.38076574537025,7.975423851916766,6.8693030809483275,5.332022114146682,-8.59251832284524,-8.759802156773725,-9.978475790006701,-11.041603001218077,-10.876617270281239,-9.651767799069855,-7.664833328892882,-6.651214620377084,-7.633237111309292,-10.111452452041066,-12.00247697903212,-11.665370438917176,-9.496094750575818,-8.108321095644087,-6.994106836662103,-6.394073013025231,6.387306721403675,5.823969758434519,5.514894529749316,5.758921986275359,6.321820554329204,6.6224124544952065,5.542762169078067,3.8658881022911573,6.6240831576299435,5.076234321148764,5.509544928990877,6.531253509529595,7.07218407927647,5.644261323390472,6.244128857244288,3.7225140081608807,1.427369313046303,1.114572798782598,0.4205329976067797,0.029575019579424836,0.34112321306507254,1.034483723532791,1.5047836712745342,0.20860196196181413,1.9709485864421727,0.1756983419386084,-0.5200138013998423,0.06292183374867023,1.294452880694668,1.6800084168986433,2.3950742103819818,-0.1734637263678398,-2.3200767273037406,-2.7942615968979645,-3.981028412876902,-4.709377159792563,-4.237343863772627,-3.050568195564112,-2.061942471012856,-2.5911993368836153,-1.3898081679997025,-4.352502879980605,-5.648488275093404,-4.760755666493673,-2.6538007366444445,-2.2514299219319245,-0.9943768813210506,-2.6148032772132823,1.2452013564607884,0.7795888370694463,-0.06855013987196683,-0.46411005074589917,2.8578272709171896e-16,0.8457004322953549,1.1669813721381441,1.747604246292033e-16,1.9084412199486325,-0.43254607251976623,-1.1366393940638995,-0.2744432034073185,1.2290669881282557,1.1846699683585236,2.144710611036805,-0.19941043102672124]},{\"hovertemplate\":\"name=Core<br>X=%{x}<br>Y=%{y}<br>Z=%{z}<extra></extra>\",\"legendgroup\":\"Core\",\"marker\":{\"color\":\"#EF553B\",\"symbol\":\"circle\"},\"mode\":\"markers\",\"name\":\"Core\",\"scene\":\"scene\",\"showlegend\":true,\"type\":\"scatter3d\",\"x\":[1.3183898417423734e-15,-1.7207970798225134,0.2804060010987831,2.318708572538127,-4.195600369527499,3.883060306712688,-1.2611530530022348,-2.323601106625276,4.846900553811445,-4.823521478286022,2.211759711531861,1.544305589579805,-4.361846569158795,4.744673375782024,-2.6468127326079762,-0.5475496229608119,2.914012063421091,-3.204623701145723,1.654194559179732,7.008282842946301e-16],\"y\":[5.225552430834142,4.675494280220023,4.125436129605903,3.575377978991782,3.025319828377662,2.475261677763542,1.9252035271494214,1.3751453765353008,0.8250872259211806,0.2750290753070604,-0.27502907530705983,-0.8250872259211806,-1.3751453765353003,-1.925203527149421,-2.475261677763541,-3.025319828377662,-3.575377978991781,-4.125436129605903,-4.675494280220022,-5.225552430834142],\"z\":[1.1102230246251565e-16,1.5763910850739997,-3.195081755211699,3.0243447340499174,-0.7421426295816059,-2.4700851176476077,4.691426495571597,-4.473952536413411,1.7700803084833812,1.9910795472923217,-4.726402034695828,4.923489567675642,-2.527779244298801,-1.0431031318106843,3.7648187463005622,-4.225402649904154,2.4559324520380468,0.1325212511032584,-1.646144526889012,1.1102230246251565e-16]}],                        {\"legend\":{\"title\":{\"text\":\"name\"},\"tracegroupgap\":0},\"margin\":{\"t\":60},\"scene\":{\"domain\":{\"x\":[0.0,1.0],\"y\":[0.0,1.0]},\"xaxis\":{\"title\":{\"text\":\"X\"}},\"yaxis\":{\"title\":{\"text\":\"Y\"}},\"zaxis\":{\"title\":{\"text\":\"Z\"}}},\"template\":{\"data\":{\"bar\":[{\"error_x\":{\"color\":\"#2a3f5f\"},\"error_y\":{\"color\":\"#2a3f5f\"},\"marker\":{\"line\":{\"color\":\"#E5ECF6\",\"width\":0.5},\"pattern\":{\"fillmode\":\"overlay\",\"size\":10,\"solidity\":0.2}},\"type\":\"bar\"}],\"barpolar\":[{\"marker\":{\"line\":{\"color\":\"#E5ECF6\",\"width\":0.5},\"pattern\":{\"fillmode\":\"overlay\",\"size\":10,\"solidity\":0.2}},\"type\":\"barpolar\"}],\"carpet\":[{\"aaxis\":{\"endlinecolor\":\"#2a3f5f\",\"gridcolor\":\"white\",\"linecolor\":\"white\",\"minorgridcolor\":\"white\",\"startlinecolor\":\"#2a3f5f\"},\"baxis\":{\"endlinecolor\":\"#2a3f5f\",\"gridcolor\":\"white\",\"linecolor\":\"white\",\"minorgridcolor\":\"white\",\"startlinecolor\":\"#2a3f5f\"},\"type\":\"carpet\"}],\"choropleth\":[{\"colorbar\":{\"outlinewidth\":0,\"ticks\":\"\"},\"type\":\"choropleth\"}],\"contour\":[{\"colorbar\":{\"outlinewidth\":0,\"ticks\":\"\"},\"colorscale\":[[0.0,\"#0d0887\"],[0.1111111111111111,\"#46039f\"],[0.2222222222222222,\"#7201a8\"],[0.3333333333333333,\"#9c179e\"],[0.4444444444444444,\"#bd3786\"],[0.5555555555555556,\"#d8576b\"],[0.6666666666666666,\"#ed7953\"],[0.7777777777777778,\"#fb9f3a\"],[0.8888888888888888,\"#fdca26\"],[1.0,\"#f0f921\"]],\"type\":\"contour\"}],\"contourcarpet\":[{\"colorbar\":{\"outlinewidth\":0,\"ticks\":\"\"},\"type\":\"contourcarpet\"}],\"heatmap\":[{\"colorbar\":{\"outlinewidth\":0,\"ticks\":\"\"},\"colorscale\":[[0.0,\"#0d0887\"],[0.1111111111111111,\"#46039f\"],[0.2222222222222222,\"#7201a8\"],[0.3333333333333333,\"#9c179e\"],[0.4444444444444444,\"#bd3786\"],[0.5555555555555556,\"#d8576b\"],[0.6666666666666666,\"#ed7953\"],[0.7777777777777778,\"#fb9f3a\"],[0.8888888888888888,\"#fdca26\"],[1.0,\"#f0f921\"]],\"type\":\"heatmap\"}],\"heatmapgl\":[{\"colorbar\":{\"outlinewidth\":0,\"ticks\":\"\"},\"colorscale\":[[0.0,\"#0d0887\"],[0.1111111111111111,\"#46039f\"],[0.2222222222222222,\"#7201a8\"],[0.3333333333333333,\"#9c179e\"],[0.4444444444444444,\"#bd3786\"],[0.5555555555555556,\"#d8576b\"],[0.6666666666666666,\"#ed7953\"],[0.7777777777777778,\"#fb9f3a\"],[0.8888888888888888,\"#fdca26\"],[1.0,\"#f0f921\"]],\"type\":\"heatmapgl\"}],\"histogram\":[{\"marker\":{\"pattern\":{\"fillmode\":\"overlay\",\"size\":10,\"solidity\":0.2}},\"type\":\"histogram\"}],\"histogram2d\":[{\"colorbar\":{\"outlinewidth\":0,\"ticks\":\"\"},\"colorscale\":[[0.0,\"#0d0887\"],[0.1111111111111111,\"#46039f\"],[0.2222222222222222,\"#7201a8\"],[0.3333333333333333,\"#9c179e\"],[0.4444444444444444,\"#bd3786\"],[0.5555555555555556,\"#d8576b\"],[0.6666666666666666,\"#ed7953\"],[0.7777777777777778,\"#fb9f3a\"],[0.8888888888888888,\"#fdca26\"],[1.0,\"#f0f921\"]],\"type\":\"histogram2d\"}],\"histogram2dcontour\":[{\"colorbar\":{\"outlinewidth\":0,\"ticks\":\"\"},\"colorscale\":[[0.0,\"#0d0887\"],[0.1111111111111111,\"#46039f\"],[0.2222222222222222,\"#7201a8\"],[0.3333333333333333,\"#9c179e\"],[0.4444444444444444,\"#bd3786\"],[0.5555555555555556,\"#d8576b\"],[0.6666666666666666,\"#ed7953\"],[0.7777777777777778,\"#fb9f3a\"],[0.8888888888888888,\"#fdca26\"],[1.0,\"#f0f921\"]],\"type\":\"histogram2dcontour\"}],\"mesh3d\":[{\"colorbar\":{\"outlinewidth\":0,\"ticks\":\"\"},\"type\":\"mesh3d\"}],\"parcoords\":[{\"line\":{\"colorbar\":{\"outlinewidth\":0,\"ticks\":\"\"}},\"type\":\"parcoords\"}],\"pie\":[{\"automargin\":true,\"type\":\"pie\"}],\"scatter\":[{\"marker\":{\"colorbar\":{\"outlinewidth\":0,\"ticks\":\"\"}},\"type\":\"scatter\"}],\"scatter3d\":[{\"line\":{\"colorbar\":{\"outlinewidth\":0,\"ticks\":\"\"}},\"marker\":{\"colorbar\":{\"outlinewidth\":0,\"ticks\":\"\"}},\"type\":\"scatter3d\"}],\"scattercarpet\":[{\"marker\":{\"colorbar\":{\"outlinewidth\":0,\"ticks\":\"\"}},\"type\":\"scattercarpet\"}],\"scattergeo\":[{\"marker\":{\"colorbar\":{\"outlinewidth\":0,\"ticks\":\"\"}},\"type\":\"scattergeo\"}],\"scattergl\":[{\"marker\":{\"colorbar\":{\"outlinewidth\":0,\"ticks\":\"\"}},\"type\":\"scattergl\"}],\"scattermapbox\":[{\"marker\":{\"colorbar\":{\"outlinewidth\":0,\"ticks\":\"\"}},\"type\":\"scattermapbox\"}],\"scatterpolar\":[{\"marker\":{\"colorbar\":{\"outlinewidth\":0,\"ticks\":\"\"}},\"type\":\"scatterpolar\"}],\"scatterpolargl\":[{\"marker\":{\"colorbar\":{\"outlinewidth\":0,\"ticks\":\"\"}},\"type\":\"scatterpolargl\"}],\"scatterternary\":[{\"marker\":{\"colorbar\":{\"outlinewidth\":0,\"ticks\":\"\"}},\"type\":\"scatterternary\"}],\"surface\":[{\"colorbar\":{\"outlinewidth\":0,\"ticks\":\"\"},\"colorscale\":[[0.0,\"#0d0887\"],[0.1111111111111111,\"#46039f\"],[0.2222222222222222,\"#7201a8\"],[0.3333333333333333,\"#9c179e\"],[0.4444444444444444,\"#bd3786\"],[0.5555555555555556,\"#d8576b\"],[0.6666666666666666,\"#ed7953\"],[0.7777777777777778,\"#fb9f3a\"],[0.8888888888888888,\"#fdca26\"],[1.0,\"#f0f921\"]],\"type\":\"surface\"}],\"table\":[{\"cells\":{\"fill\":{\"color\":\"#EBF0F8\"},\"line\":{\"color\":\"white\"}},\"header\":{\"fill\":{\"color\":\"#C8D4E3\"},\"line\":{\"color\":\"white\"}},\"type\":\"table\"}]},\"layout\":{\"annotationdefaults\":{\"arrowcolor\":\"#2a3f5f\",\"arrowhead\":0,\"arrowwidth\":1},\"autotypenumbers\":\"strict\",\"coloraxis\":{\"colorbar\":{\"outlinewidth\":0,\"ticks\":\"\"}},\"colorscale\":{\"diverging\":[[0,\"#8e0152\"],[0.1,\"#c51b7d\"],[0.2,\"#de77ae\"],[0.3,\"#f1b6da\"],[0.4,\"#fde0ef\"],[0.5,\"#f7f7f7\"],[0.6,\"#e6f5d0\"],[0.7,\"#b8e186\"],[0.8,\"#7fbc41\"],[0.9,\"#4d9221\"],[1,\"#276419\"]],\"sequential\":[[0.0,\"#0d0887\"],[0.1111111111111111,\"#46039f\"],[0.2222222222222222,\"#7201a8\"],[0.3333333333333333,\"#9c179e\"],[0.4444444444444444,\"#bd3786\"],[0.5555555555555556,\"#d8576b\"],[0.6666666666666666,\"#ed7953\"],[0.7777777777777778,\"#fb9f3a\"],[0.8888888888888888,\"#fdca26\"],[1.0,\"#f0f921\"]],\"sequentialminus\":[[0.0,\"#0d0887\"],[0.1111111111111111,\"#46039f\"],[0.2222222222222222,\"#7201a8\"],[0.3333333333333333,\"#9c179e\"],[0.4444444444444444,\"#bd3786\"],[0.5555555555555556,\"#d8576b\"],[0.6666666666666666,\"#ed7953\"],[0.7777777777777778,\"#fb9f3a\"],[0.8888888888888888,\"#fdca26\"],[1.0,\"#f0f921\"]]},\"colorway\":[\"#636efa\",\"#EF553B\",\"#00cc96\",\"#ab63fa\",\"#FFA15A\",\"#19d3f3\",\"#FF6692\",\"#B6E880\",\"#FF97FF\",\"#FECB52\"],\"font\":{\"color\":\"#2a3f5f\"},\"geo\":{\"bgcolor\":\"white\",\"lakecolor\":\"white\",\"landcolor\":\"#E5ECF6\",\"showlakes\":true,\"showland\":true,\"subunitcolor\":\"white\"},\"hoverlabel\":{\"align\":\"left\"},\"hovermode\":\"closest\",\"mapbox\":{\"style\":\"light\"},\"paper_bgcolor\":\"white\",\"plot_bgcolor\":\"#E5ECF6\",\"polar\":{\"angularaxis\":{\"gridcolor\":\"white\",\"linecolor\":\"white\",\"ticks\":\"\"},\"bgcolor\":\"#E5ECF6\",\"radialaxis\":{\"gridcolor\":\"white\",\"linecolor\":\"white\",\"ticks\":\"\"}},\"scene\":{\"xaxis\":{\"backgroundcolor\":\"#E5ECF6\",\"gridcolor\":\"white\",\"gridwidth\":2,\"linecolor\":\"white\",\"showbackground\":true,\"ticks\":\"\",\"zerolinecolor\":\"white\"},\"yaxis\":{\"backgroundcolor\":\"#E5ECF6\",\"gridcolor\":\"white\",\"gridwidth\":2,\"linecolor\":\"white\",\"showbackground\":true,\"ticks\":\"\",\"zerolinecolor\":\"white\"},\"zaxis\":{\"backgroundcolor\":\"#E5ECF6\",\"gridcolor\":\"white\",\"gridwidth\":2,\"linecolor\":\"white\",\"showbackground\":true,\"ticks\":\"\",\"zerolinecolor\":\"white\"}},\"shapedefaults\":{\"line\":{\"color\":\"#2a3f5f\"}},\"ternary\":{\"aaxis\":{\"gridcolor\":\"white\",\"linecolor\":\"white\",\"ticks\":\"\"},\"baxis\":{\"gridcolor\":\"white\",\"linecolor\":\"white\",\"ticks\":\"\"},\"bgcolor\":\"#E5ECF6\",\"caxis\":{\"gridcolor\":\"white\",\"linecolor\":\"white\",\"ticks\":\"\"}},\"title\":{\"x\":0.05},\"xaxis\":{\"automargin\":true,\"gridcolor\":\"white\",\"linecolor\":\"white\",\"ticks\":\"\",\"title\":{\"standoff\":15},\"zerolinecolor\":\"white\",\"zerolinewidth\":2},\"yaxis\":{\"automargin\":true,\"gridcolor\":\"white\",\"linecolor\":\"white\",\"ticks\":\"\",\"title\":{\"standoff\":15},\"zerolinecolor\":\"white\",\"zerolinewidth\":2}}}},                        {\"responsive\": true}                    ).then(function(){\n",
       "                            \n",
       "var gd = document.getElementById('36bc102d-e603-4763-81b9-b9aa1863f18d');\n",
       "var x = new MutationObserver(function (mutations, observer) {{\n",
       "        var display = window.getComputedStyle(gd).display;\n",
       "        if (!display || display === 'none') {{\n",
       "            console.log([gd, 'removed!']);\n",
       "            Plotly.purge(gd);\n",
       "            observer.disconnect();\n",
       "        }}\n",
       "}});\n",
       "\n",
       "// Listen for the removal of the full notebook cells\n",
       "var notebookContainer = gd.closest('#notebook-container');\n",
       "if (notebookContainer) {{\n",
       "    x.observe(notebookContainer, {childList: true});\n",
       "}}\n",
       "\n",
       "// Listen for the clearing of the current output cell\n",
       "var outputEl = gd.closest('.output');\n",
       "if (outputEl) {{\n",
       "    x.observe(outputEl, {childList: true});\n",
       "}}\n",
       "\n",
       "                        })                };                });            </script>        </div>"
      ]
     },
     "metadata": {},
     "output_type": "display_data"
    }
   ],
   "source": [
    "\n",
    "fig = px.scatter_3d(PandasNPDataframe, x='X', y='Y', z='Z', color='name')\n",
    "#fig = px.scatter_3d(dfCore, x='X', y='Y', z='Z')\n",
    "fig.show()"
   ]
  },
  {
   "cell_type": "code",
   "execution_count": 27,
   "metadata": {},
   "outputs": [
    {
     "name": "stderr",
     "output_type": "stream",
     "text": [
      "/home/sang/anaconda3/lib/python3.8/site-packages/MDAnalysis/converters/RDKit.py:368: UserWarning:\n",
      "\n",
      "No hydrogen atom found in the topology. Forcing to continue the conversion.\n",
      "\n"
     ]
    }
   ],
   "source": [
    "m = Chem.MolFromMolFile('c70.mol') # Read in the C70 mol \n",
    "mol1 = u1.atoms.convert_to(\"RDKIT\") # Convert to rdkit \n",
    "u = mda.Universe('c70.pdb') # \n",
    "mol1 = u.atoms.convert_to(\"RDKIT\", force=True)"
   ]
  },
  {
   "cell_type": "code",
   "execution_count": 29,
   "metadata": {},
   "outputs": [
    {
     "data": {
      "image/png": "[encoded data removed]",
      "image/svg+xml": [
       "<?xml version='1.0' encoding='iso-8859-1'?>\n",
       "<svg version='1.1' baseProfile='full'\n",
       "              xmlns='http://www.w3.org/2000/svg'\n",
       "                      xmlns:rdkit='http://www.rdkit.org/xml'\n",
       "                      xmlns:xlink='http://www.w3.org/1999/xlink'\n",
       "                  xml:space='preserve'\n",
       "width='450px' height='150px' viewBox='0 0 450 150'>\n",
       "<!-- END OF HEADER -->\n",
       "<rect style='opacity:1.0;fill:#FFFFFF;stroke:none' width='450.0' height='150.0' x='0.0' y='0.0'> </rect>\n",
       "<path class='bond-0 atom-0 atom-1' d='M 303.2,63.4 L 299.3,82.5' style='fill:none;fill-rule:evenodd;stroke:#000000;stroke-width:2.0px;stroke-linecap:butt;stroke-linejoin:miter;stroke-opacity:1' />\n",
       "<path class='bond-1 atom-0 atom-7' d='M 303.2,63.4 L 294.1,40.9' style='fill:none;fill-rule:evenodd;stroke:#000000;stroke-width:2.0px;stroke-linecap:butt;stroke-linejoin:miter;stroke-opacity:1' />\n",
       "<path class='bond-1 atom-0 atom-7' d='M 296.4,62.2 L 290.0,46.5' style='fill:none;fill-rule:evenodd;stroke:#000000;stroke-width:2.0px;stroke-linecap:butt;stroke-linejoin:miter;stroke-opacity:1' />\n",
       "<path class='bond-2 atom-0 atom-9' d='M 303.2,63.4 L 300.0,67.6' style='fill:none;fill-rule:evenodd;stroke:#000000;stroke-width:2.0px;stroke-linecap:butt;stroke-linejoin:miter;stroke-opacity:1' />\n",
       "<path class='bond-3 atom-1 atom-2' d='M 299.3,82.5 L 292.4,107.0' style='fill:none;fill-rule:evenodd;stroke:#000000;stroke-width:2.0px;stroke-linecap:butt;stroke-linejoin:miter;stroke-opacity:1' />\n",
       "<path class='bond-4 atom-1 atom-3' d='M 299.3,82.5 L 288.7,71.8' style='fill:none;fill-rule:evenodd;stroke:#000000;stroke-width:2.0px;stroke-linecap:butt;stroke-linejoin:miter;stroke-opacity:1' />\n",
       "<path class='bond-4 atom-1 atom-3' d='M 300.2,78.4 L 292.8,71.0' style='fill:none;fill-rule:evenodd;stroke:#000000;stroke-width:2.0px;stroke-linecap:butt;stroke-linejoin:miter;stroke-opacity:1' />\n",
       "<path class='bond-5 atom-2 atom-12' d='M 292.4,107.0 L 287.9,112.2' style='fill:none;fill-rule:evenodd;stroke:#000000;stroke-width:2.0px;stroke-linecap:butt;stroke-linejoin:miter;stroke-opacity:1' />\n",
       "<path class='bond-5 atom-2 atom-12' d='M 289.0,105.5 L 285.9,109.1' style='fill:none;fill-rule:evenodd;stroke:#000000;stroke-width:2.0px;stroke-linecap:butt;stroke-linejoin:miter;stroke-opacity:1' />\n",
       "<path class='bond-6 atom-2 atom-14' d='M 292.4,107.0 L 273.9,120.8' style='fill:none;fill-rule:evenodd;stroke:#000000;stroke-width:2.0px;stroke-linecap:butt;stroke-linejoin:miter;stroke-opacity:1' />\n",
       "<path class='bond-7 atom-3 atom-4' d='M 288.7,71.8 L 270.9,85.4' style='fill:none;fill-rule:evenodd;stroke:#000000;stroke-width:2.0px;stroke-linecap:butt;stroke-linejoin:miter;stroke-opacity:1' />\n",
       "<path class='bond-8 atom-3 atom-5' d='M 288.7,71.8 L 285.4,46.1' style='fill:none;fill-rule:evenodd;stroke:#000000;stroke-width:2.0px;stroke-linecap:butt;stroke-linejoin:miter;stroke-opacity:1' />\n",
       "<path class='bond-9 atom-4 atom-16' d='M 270.9,85.4 L 263.0,110.9' style='fill:none;fill-rule:evenodd;stroke:#000000;stroke-width:2.0px;stroke-linecap:butt;stroke-linejoin:miter;stroke-opacity:1' />\n",
       "<path class='bond-9 atom-4 atom-16' d='M 264.1,87.5 L 258.6,105.3' style='fill:none;fill-rule:evenodd;stroke:#000000;stroke-width:2.0px;stroke-linecap:butt;stroke-linejoin:miter;stroke-opacity:1' />\n",
       "<path class='bond-10 atom-4 atom-18' d='M 270.9,85.4 L 248.9,74.2' style='fill:none;fill-rule:evenodd;stroke:#000000;stroke-width:2.0px;stroke-linecap:butt;stroke-linejoin:miter;stroke-opacity:1' />\n",
       "<path class='bond-11 atom-5 atom-6' d='M 285.4,46.1 L 264.4,33.4' style='fill:none;fill-rule:evenodd;stroke:#000000;stroke-width:2.0px;stroke-linecap:butt;stroke-linejoin:miter;stroke-opacity:1' />\n",
       "<path class='bond-11 atom-5 atom-6' d='M 279.2,49.2 L 264.5,40.3' style='fill:none;fill-rule:evenodd;stroke:#000000;stroke-width:2.0px;stroke-linecap:butt;stroke-linejoin:miter;stroke-opacity:1' />\n",
       "<path class='bond-12 atom-5 atom-7' d='M 285.4,46.1 L 294.1,40.9' style='fill:none;fill-rule:evenodd;stroke:#000000;stroke-width:2.0px;stroke-linecap:butt;stroke-linejoin:miter;stroke-opacity:1' />\n",
       "<path class='bond-13 atom-6 atom-20' d='M 264.4,33.4 L 245.1,48.4' style='fill:none;fill-rule:evenodd;stroke:#000000;stroke-width:2.0px;stroke-linecap:butt;stroke-linejoin:miter;stroke-opacity:1' />\n",
       "<path class='bond-14 atom-6 atom-22' d='M 264.4,33.4 L 250.6,16.2' style='fill:none;fill-rule:evenodd;stroke:#000000;stroke-width:2.0px;stroke-linecap:butt;stroke-linejoin:miter;stroke-opacity:1' />\n",
       "<path class='bond-15 atom-7 atom-8' d='M 294.1,40.9 L 281.9,22.4' style='fill:none;fill-rule:evenodd;stroke:#000000;stroke-width:2.0px;stroke-linecap:butt;stroke-linejoin:miter;stroke-opacity:1' />\n",
       "<path class='bond-16 atom-8 atom-24' d='M 281.9,22.4 L 258.8,9.9' style='fill:none;fill-rule:evenodd;stroke:#000000;stroke-width:2.0px;stroke-linecap:butt;stroke-linejoin:miter;stroke-opacity:1' />\n",
       "<path class='bond-16 atom-8 atom-24' d='M 275.7,25.7 L 259.5,16.9' style='fill:none;fill-rule:evenodd;stroke:#000000;stroke-width:2.0px;stroke-linecap:butt;stroke-linejoin:miter;stroke-opacity:1' />\n",
       "<path class='bond-17 atom-8 atom-26' d='M 281.9,22.4 L 276.6,25.9' style='fill:none;fill-rule:evenodd;stroke:#000000;stroke-width:2.0px;stroke-linecap:butt;stroke-linejoin:miter;stroke-opacity:1' />\n",
       "<path class='bond-18 atom-9 atom-10' d='M 300.0,67.6 L 291.2,92.9' style='fill:none;fill-rule:evenodd;stroke:#000000;stroke-width:2.0px;stroke-linecap:butt;stroke-linejoin:miter;stroke-opacity:1' />\n",
       "<path class='bond-18 atom-9 atom-10' d='M 293.2,69.5 L 287.0,87.2' style='fill:none;fill-rule:evenodd;stroke:#000000;stroke-width:2.0px;stroke-linecap:butt;stroke-linejoin:miter;stroke-opacity:1' />\n",
       "<path class='bond-19 atom-9 atom-28' d='M 300.0,67.6 L 285.3,49.7' style='fill:none;fill-rule:evenodd;stroke:#000000;stroke-width:2.0px;stroke-linecap:butt;stroke-linejoin:miter;stroke-opacity:1' />\n",
       "<path class='bond-20 atom-10 atom-11' d='M 291.2,92.9 L 273.6,89.4' style='fill:none;fill-rule:evenodd;stroke:#000000;stroke-width:2.0px;stroke-linecap:butt;stroke-linejoin:miter;stroke-opacity:1' />\n",
       "<path class='bond-21 atom-10 atom-12' d='M 291.2,92.9 L 287.9,112.2' style='fill:none;fill-rule:evenodd;stroke:#000000;stroke-width:2.0px;stroke-linecap:butt;stroke-linejoin:miter;stroke-opacity:1' />\n",
       "<path class='bond-22 atom-11 atom-29' d='M 273.6,89.4 L 269.5,63.4' style='fill:none;fill-rule:evenodd;stroke:#000000;stroke-width:2.0px;stroke-linecap:butt;stroke-linejoin:miter;stroke-opacity:1' />\n",
       "<path class='bond-23 atom-11 atom-67' d='M 273.6,89.4 L 252.6,108.2' style='fill:none;fill-rule:evenodd;stroke:#000000;stroke-width:2.0px;stroke-linecap:butt;stroke-linejoin:miter;stroke-opacity:1' />\n",
       "<path class='bond-23 atom-11 atom-67' d='M 266.6,87.9 L 251.8,101.0' style='fill:none;fill-rule:evenodd;stroke:#000000;stroke-width:2.0px;stroke-linecap:butt;stroke-linejoin:miter;stroke-opacity:1' />\n",
       "<path class='bond-24 atom-12 atom-13' d='M 287.9,112.2 L 267.7,128.7' style='fill:none;fill-rule:evenodd;stroke:#000000;stroke-width:2.0px;stroke-linecap:butt;stroke-linejoin:miter;stroke-opacity:1' />\n",
       "<path class='bond-25 atom-13 atom-15' d='M 267.7,128.7 L 259.1,133.9' style='fill:none;fill-rule:evenodd;stroke:#000000;stroke-width:2.0px;stroke-linecap:butt;stroke-linejoin:miter;stroke-opacity:1' />\n",
       "<path class='bond-26 atom-13 atom-66' d='M 267.7,128.7 L 249.3,128.0' style='fill:none;fill-rule:evenodd;stroke:#000000;stroke-width:2.0px;stroke-linecap:butt;stroke-linejoin:miter;stroke-opacity:1' />\n",
       "<path class='bond-26 atom-13 atom-66' d='M 264.8,132.1 L 252.0,131.6' style='fill:none;fill-rule:evenodd;stroke:#000000;stroke-width:2.0px;stroke-linecap:butt;stroke-linejoin:miter;stroke-opacity:1' />\n",
       "<path class='bond-27 atom-14 atom-15' d='M 273.9,120.8 L 259.1,133.9' style='fill:none;fill-rule:evenodd;stroke:#000000;stroke-width:2.0px;stroke-linecap:butt;stroke-linejoin:miter;stroke-opacity:1' />\n",
       "<path class='bond-27 atom-14 atom-15' d='M 274.0,125.4 L 263.6,134.6' style='fill:none;fill-rule:evenodd;stroke:#000000;stroke-width:2.0px;stroke-linecap:butt;stroke-linejoin:miter;stroke-opacity:1' />\n",
       "<path class='bond-28 atom-14 atom-16' d='M 273.9,120.8 L 263.0,110.9' style='fill:none;fill-rule:evenodd;stroke:#000000;stroke-width:2.0px;stroke-linecap:butt;stroke-linejoin:miter;stroke-opacity:1' />\n",
       "<path class='bond-29 atom-15 atom-65' d='M 259.1,133.9 L 231.3,139.1' style='fill:none;fill-rule:evenodd;stroke:#000000;stroke-width:2.0px;stroke-linecap:butt;stroke-linejoin:miter;stroke-opacity:1' />\n",
       "<path class='bond-30 atom-16 atom-17' d='M 263.0,110.9 L 237.4,113.5' style='fill:none;fill-rule:evenodd;stroke:#000000;stroke-width:2.0px;stroke-linecap:butt;stroke-linejoin:miter;stroke-opacity:1' />\n",
       "<path class='bond-31 atom-17 atom-19' d='M 237.4,113.5 L 228.7,91.0' style='fill:none;fill-rule:evenodd;stroke:#000000;stroke-width:2.0px;stroke-linecap:butt;stroke-linejoin:miter;stroke-opacity:1' />\n",
       "<path class='bond-32 atom-17 atom-64' d='M 237.4,113.5 L 220.3,128.9' style='fill:none;fill-rule:evenodd;stroke:#000000;stroke-width:2.0px;stroke-linecap:butt;stroke-linejoin:miter;stroke-opacity:1' />\n",
       "<path class='bond-32 atom-17 atom-64' d='M 232.5,113.2 L 220.5,124.0' style='fill:none;fill-rule:evenodd;stroke:#000000;stroke-width:2.0px;stroke-linecap:butt;stroke-linejoin:miter;stroke-opacity:1' />\n",
       "<path class='bond-33 atom-18 atom-19' d='M 248.9,74.2 L 228.7,91.0' style='fill:none;fill-rule:evenodd;stroke:#000000;stroke-width:2.0px;stroke-linecap:butt;stroke-linejoin:miter;stroke-opacity:1' />\n",
       "<path class='bond-34 atom-18 atom-20' d='M 248.9,74.2 L 245.1,48.4' style='fill:none;fill-rule:evenodd;stroke:#000000;stroke-width:2.0px;stroke-linecap:butt;stroke-linejoin:miter;stroke-opacity:1' />\n",
       "<path class='bond-34 atom-18 atom-20' d='M 242.6,71.2 L 239.9,53.2' style='fill:none;fill-rule:evenodd;stroke:#000000;stroke-width:2.0px;stroke-linecap:butt;stroke-linejoin:miter;stroke-opacity:1' />\n",
       "<path class='bond-35 atom-19 atom-63' d='M 228.7,91.0 L 202.0,81.8' style='fill:none;fill-rule:evenodd;stroke:#000000;stroke-width:2.0px;stroke-linecap:butt;stroke-linejoin:miter;stroke-opacity:1' />\n",
       "<path class='bond-35 atom-19 atom-63' d='M 222.8,95.2 L 204.1,88.7' style='fill:none;fill-rule:evenodd;stroke:#000000;stroke-width:2.0px;stroke-linecap:butt;stroke-linejoin:miter;stroke-opacity:1' />\n",
       "<path class='bond-36 atom-20 atom-21' d='M 245.1,48.4 L 221.5,39.0' style='fill:none;fill-rule:evenodd;stroke:#000000;stroke-width:2.0px;stroke-linecap:butt;stroke-linejoin:miter;stroke-opacity:1' />\n",
       "<path class='bond-37 atom-21 atom-23' d='M 221.5,39.0 L 224.8,19.4' style='fill:none;fill-rule:evenodd;stroke:#000000;stroke-width:2.0px;stroke-linecap:butt;stroke-linejoin:miter;stroke-opacity:1' />\n",
       "<path class='bond-38 atom-21 atom-62' d='M 221.5,39.0 L 198.3,55.7' style='fill:none;fill-rule:evenodd;stroke:#000000;stroke-width:2.0px;stroke-linecap:butt;stroke-linejoin:miter;stroke-opacity:1' />\n",
       "<path class='bond-38 atom-21 atom-62' d='M 214.6,36.8 L 198.3,48.4' style='fill:none;fill-rule:evenodd;stroke:#000000;stroke-width:2.0px;stroke-linecap:butt;stroke-linejoin:miter;stroke-opacity:1' />\n",
       "<path class='bond-39 atom-22 atom-23' d='M 250.6,16.2 L 224.8,19.4' style='fill:none;fill-rule:evenodd;stroke:#000000;stroke-width:2.0px;stroke-linecap:butt;stroke-linejoin:miter;stroke-opacity:1' />\n",
       "<path class='bond-39 atom-22 atom-23' d='M 247.4,22.5 L 229.4,24.7' style='fill:none;fill-rule:evenodd;stroke:#000000;stroke-width:2.0px;stroke-linecap:butt;stroke-linejoin:miter;stroke-opacity:1' />\n",
       "<path class='bond-40 atom-22 atom-24' d='M 250.6,16.2 L 258.8,9.9' style='fill:none;fill-rule:evenodd;stroke:#000000;stroke-width:2.0px;stroke-linecap:butt;stroke-linejoin:miter;stroke-opacity:1' />\n",
       "<path class='bond-41 atom-23 atom-69' d='M 224.8,19.4 L 205.0,14.3' style='fill:none;fill-rule:evenodd;stroke:#000000;stroke-width:2.0px;stroke-linecap:butt;stroke-linejoin:miter;stroke-opacity:1' />\n",
       "<path class='bond-42 atom-24 atom-25' d='M 258.8,9.9 L 241.8,6.8' style='fill:none;fill-rule:evenodd;stroke:#000000;stroke-width:2.0px;stroke-linecap:butt;stroke-linejoin:miter;stroke-opacity:1' />\n",
       "<path class='bond-43 atom-25 atom-27' d='M 241.8,6.8 L 252.6,16.8' style='fill:none;fill-rule:evenodd;stroke:#000000;stroke-width:2.0px;stroke-linecap:butt;stroke-linejoin:miter;stroke-opacity:1' />\n",
       "<path class='bond-44 atom-25 atom-68' d='M 241.8,6.8 L 213.5,8.0' style='fill:none;fill-rule:evenodd;stroke:#000000;stroke-width:2.0px;stroke-linecap:butt;stroke-linejoin:miter;stroke-opacity:1' />\n",
       "<path class='bond-44 atom-25 atom-68' d='M 237.8,12.8 L 218.0,13.7' style='fill:none;fill-rule:evenodd;stroke:#000000;stroke-width:2.0px;stroke-linecap:butt;stroke-linejoin:miter;stroke-opacity:1' />\n",
       "<path class='bond-45 atom-26 atom-27' d='M 276.6,25.9 L 252.6,16.8' style='fill:none;fill-rule:evenodd;stroke:#000000;stroke-width:2.0px;stroke-linecap:butt;stroke-linejoin:miter;stroke-opacity:1' />\n",
       "<path class='bond-46 atom-26 atom-28' d='M 276.6,25.9 L 285.3,49.7' style='fill:none;fill-rule:evenodd;stroke:#000000;stroke-width:2.0px;stroke-linecap:butt;stroke-linejoin:miter;stroke-opacity:1' />\n",
       "<path class='bond-46 atom-26 atom-28' d='M 272.4,31.5 L 278.5,48.1' style='fill:none;fill-rule:evenodd;stroke:#000000;stroke-width:2.0px;stroke-linecap:butt;stroke-linejoin:miter;stroke-opacity:1' />\n",
       "<path class='bond-47 atom-27 atom-30' d='M 252.6,16.8 L 236.2,29.3' style='fill:none;fill-rule:evenodd;stroke:#000000;stroke-width:2.0px;stroke-linecap:butt;stroke-linejoin:miter;stroke-opacity:1' />\n",
       "<path class='bond-47 atom-27 atom-30' d='M 248.1,15.9 L 236.6,24.6' style='fill:none;fill-rule:evenodd;stroke:#000000;stroke-width:2.0px;stroke-linecap:butt;stroke-linejoin:miter;stroke-opacity:1' />\n",
       "<path class='bond-48 atom-28 atom-29' d='M 285.3,49.7 L 269.5,63.4' style='fill:none;fill-rule:evenodd;stroke:#000000;stroke-width:2.0px;stroke-linecap:butt;stroke-linejoin:miter;stroke-opacity:1' />\n",
       "<path class='bond-49 atom-29 atom-31' d='M 269.5,63.4 L 246.1,53.9' style='fill:none;fill-rule:evenodd;stroke:#000000;stroke-width:2.0px;stroke-linecap:butt;stroke-linejoin:miter;stroke-opacity:1' />\n",
       "<path class='bond-49 atom-29 atom-31' d='M 263.8,67.4 L 247.4,60.8' style='fill:none;fill-rule:evenodd;stroke:#000000;stroke-width:2.0px;stroke-linecap:butt;stroke-linejoin:miter;stroke-opacity:1' />\n",
       "<path class='bond-50 atom-30 atom-31' d='M 236.2,29.3 L 246.1,53.9' style='fill:none;fill-rule:evenodd;stroke:#000000;stroke-width:2.0px;stroke-linecap:butt;stroke-linejoin:miter;stroke-opacity:1' />\n",
       "<path class='bond-51 atom-30 atom-61' d='M 236.2,29.3 L 207.9,25.4' style='fill:none;fill-rule:evenodd;stroke:#000000;stroke-width:2.0px;stroke-linecap:butt;stroke-linejoin:miter;stroke-opacity:1' />\n",
       "<path class='bond-52 atom-31 atom-59' d='M 246.1,53.9 L 226.8,72.6' style='fill:none;fill-rule:evenodd;stroke:#000000;stroke-width:2.0px;stroke-linecap:butt;stroke-linejoin:miter;stroke-opacity:1' />\n",
       "<path class='bond-53 atom-32 atom-33' d='M 154.8,67.5 L 146.8,74.2' style='fill:none;fill-rule:evenodd;stroke:#000000;stroke-width:2.0px;stroke-linecap:butt;stroke-linejoin:miter;stroke-opacity:1' />\n",
       "<path class='bond-53 atom-32 atom-33' d='M 155.8,71.3 L 150.2,75.9' style='fill:none;fill-rule:evenodd;stroke:#000000;stroke-width:2.0px;stroke-linecap:butt;stroke-linejoin:miter;stroke-opacity:1' />\n",
       "<path class='bond-54 atom-32 atom-39' d='M 154.8,67.5 L 164.3,89.7' style='fill:none;fill-rule:evenodd;stroke:#000000;stroke-width:2.0px;stroke-linecap:butt;stroke-linejoin:miter;stroke-opacity:1' />\n",
       "<path class='bond-55 atom-32 atom-41' d='M 154.8,67.5 L 166.4,44.3' style='fill:none;fill-rule:evenodd;stroke:#000000;stroke-width:2.0px;stroke-linecap:butt;stroke-linejoin:miter;stroke-opacity:1' />\n",
       "<path class='bond-56 atom-33 atom-34' d='M 146.8,74.2 L 149.9,57.4' style='fill:none;fill-rule:evenodd;stroke:#000000;stroke-width:2.0px;stroke-linecap:butt;stroke-linejoin:miter;stroke-opacity:1' />\n",
       "<path class='bond-57 atom-33 atom-35' d='M 146.8,74.2 L 150.4,100.1' style='fill:none;fill-rule:evenodd;stroke:#000000;stroke-width:2.0px;stroke-linecap:butt;stroke-linejoin:miter;stroke-opacity:1' />\n",
       "<path class='bond-58 atom-34 atom-44' d='M 149.9,57.4 L 163.1,32.7' style='fill:none;fill-rule:evenodd;stroke:#000000;stroke-width:2.0px;stroke-linecap:butt;stroke-linejoin:miter;stroke-opacity:1' />\n",
       "<path class='bond-58 atom-34 atom-44' d='M 157.0,56.4 L 166.3,39.2' style='fill:none;fill-rule:evenodd;stroke:#000000;stroke-width:2.0px;stroke-linecap:butt;stroke-linejoin:miter;stroke-opacity:1' />\n",
       "<path class='bond-59 atom-34 atom-46' d='M 149.9,57.4 L 157.9,65.7' style='fill:none;fill-rule:evenodd;stroke:#000000;stroke-width:2.0px;stroke-linecap:butt;stroke-linejoin:miter;stroke-opacity:1' />\n",
       "<path class='bond-60 atom-35 atom-36' d='M 150.4,100.1 L 157.3,109.8' style='fill:none;fill-rule:evenodd;stroke:#000000;stroke-width:2.0px;stroke-linecap:butt;stroke-linejoin:miter;stroke-opacity:1' />\n",
       "<path class='bond-60 atom-35 atom-36' d='M 154.3,99.5 L 159.1,106.3' style='fill:none;fill-rule:evenodd;stroke:#000000;stroke-width:2.0px;stroke-linecap:butt;stroke-linejoin:miter;stroke-opacity:1' />\n",
       "<path class='bond-61 atom-35 atom-37' d='M 150.4,100.1 L 161.2,109.7' style='fill:none;fill-rule:evenodd;stroke:#000000;stroke-width:2.0px;stroke-linecap:butt;stroke-linejoin:miter;stroke-opacity:1' />\n",
       "<path class='bond-62 atom-36 atom-48' d='M 157.3,109.8 L 161.6,91.3' style='fill:none;fill-rule:evenodd;stroke:#000000;stroke-width:2.0px;stroke-linecap:butt;stroke-linejoin:miter;stroke-opacity:1' />\n",
       "<path class='bond-63 atom-36 atom-50' d='M 157.3,109.8 L 175.8,128.4' style='fill:none;fill-rule:evenodd;stroke:#000000;stroke-width:2.0px;stroke-linecap:butt;stroke-linejoin:miter;stroke-opacity:1' />\n",
       "<path class='bond-64 atom-37 atom-38' d='M 161.2,109.7 L 178.9,129.4' style='fill:none;fill-rule:evenodd;stroke:#000000;stroke-width:2.0px;stroke-linecap:butt;stroke-linejoin:miter;stroke-opacity:1' />\n",
       "<path class='bond-65 atom-37 atom-39' d='M 161.2,109.7 L 164.3,89.7' style='fill:none;fill-rule:evenodd;stroke:#000000;stroke-width:2.0px;stroke-linecap:butt;stroke-linejoin:miter;stroke-opacity:1' />\n",
       "<path class='bond-65 atom-37 atom-39' d='M 158.2,106.2 L 160.3,92.2' style='fill:none;fill-rule:evenodd;stroke:#000000;stroke-width:2.0px;stroke-linecap:butt;stroke-linejoin:miter;stroke-opacity:1' />\n",
       "<path class='bond-66 atom-38 atom-52' d='M 178.9,129.4 L 186.7,138.6' style='fill:none;fill-rule:evenodd;stroke:#000000;stroke-width:2.0px;stroke-linecap:butt;stroke-linejoin:miter;stroke-opacity:1' />\n",
       "<path class='bond-66 atom-38 atom-52' d='M 182.8,128.6 L 188.2,135.0' style='fill:none;fill-rule:evenodd;stroke:#000000;stroke-width:2.0px;stroke-linecap:butt;stroke-linejoin:miter;stroke-opacity:1' />\n",
       "<path class='bond-67 atom-38 atom-54' d='M 178.9,129.4 L 200.7,129.4' style='fill:none;fill-rule:evenodd;stroke:#000000;stroke-width:2.0px;stroke-linecap:butt;stroke-linejoin:miter;stroke-opacity:1' />\n",
       "<path class='bond-68 atom-39 atom-40' d='M 164.3,89.7 L 185.3,89.3' style='fill:none;fill-rule:evenodd;stroke:#000000;stroke-width:2.0px;stroke-linecap:butt;stroke-linejoin:miter;stroke-opacity:1' />\n",
       "<path class='bond-69 atom-40 atom-56' d='M 185.3,89.3 L 204.3,110.1' style='fill:none;fill-rule:evenodd;stroke:#000000;stroke-width:2.0px;stroke-linecap:butt;stroke-linejoin:miter;stroke-opacity:1' />\n",
       "<path class='bond-69 atom-40 atom-56' d='M 192.5,88.4 L 205.8,103.0' style='fill:none;fill-rule:evenodd;stroke:#000000;stroke-width:2.0px;stroke-linecap:butt;stroke-linejoin:miter;stroke-opacity:1' />\n",
       "<path class='bond-70 atom-40 atom-58' d='M 185.3,89.3 L 198.9,67.2' style='fill:none;fill-rule:evenodd;stroke:#000000;stroke-width:2.0px;stroke-linecap:butt;stroke-linejoin:miter;stroke-opacity:1' />\n",
       "<path class='bond-71 atom-41 atom-42' d='M 166.4,44.3 L 171.2,26.5' style='fill:none;fill-rule:evenodd;stroke:#000000;stroke-width:2.0px;stroke-linecap:butt;stroke-linejoin:miter;stroke-opacity:1' />\n",
       "<path class='bond-71 atom-41 atom-42' d='M 170.5,42.5 L 173.9,30.1' style='fill:none;fill-rule:evenodd;stroke:#000000;stroke-width:2.0px;stroke-linecap:butt;stroke-linejoin:miter;stroke-opacity:1' />\n",
       "<path class='bond-72 atom-41 atom-60' d='M 166.4,44.3 L 189.6,43.2' style='fill:none;fill-rule:evenodd;stroke:#000000;stroke-width:2.0px;stroke-linecap:butt;stroke-linejoin:miter;stroke-opacity:1' />\n",
       "<path class='bond-73 atom-42 atom-43' d='M 171.2,26.5 L 197.0,15.1' style='fill:none;fill-rule:evenodd;stroke:#000000;stroke-width:2.0px;stroke-linecap:butt;stroke-linejoin:miter;stroke-opacity:1' />\n",
       "<path class='bond-74 atom-42 atom-44' d='M 171.2,26.5 L 163.1,32.7' style='fill:none;fill-rule:evenodd;stroke:#000000;stroke-width:2.0px;stroke-linecap:butt;stroke-linejoin:miter;stroke-opacity:1' />\n",
       "<path class='bond-75 atom-43 atom-61' d='M 197.0,15.1 L 207.9,25.4' style='fill:none;fill-rule:evenodd;stroke:#000000;stroke-width:2.0px;stroke-linecap:butt;stroke-linejoin:miter;stroke-opacity:1' />\n",
       "<path class='bond-75 atom-43 atom-61' d='M 196.2,19.2 L 203.9,26.4' style='fill:none;fill-rule:evenodd;stroke:#000000;stroke-width:2.0px;stroke-linecap:butt;stroke-linejoin:miter;stroke-opacity:1' />\n",
       "<path class='bond-76 atom-43 atom-68' d='M 197.0,15.1 L 213.5,8.0' style='fill:none;fill-rule:evenodd;stroke:#000000;stroke-width:2.0px;stroke-linecap:butt;stroke-linejoin:miter;stroke-opacity:1' />\n",
       "<path class='bond-77 atom-44 atom-45' d='M 163.1,32.7 L 179.8,27.5' style='fill:none;fill-rule:evenodd;stroke:#000000;stroke-width:2.0px;stroke-linecap:butt;stroke-linejoin:miter;stroke-opacity:1' />\n",
       "<path class='bond-78 atom-45 atom-47' d='M 179.8,27.5 L 176.5,47.3' style='fill:none;fill-rule:evenodd;stroke:#000000;stroke-width:2.0px;stroke-linecap:butt;stroke-linejoin:miter;stroke-opacity:1' />\n",
       "<path class='bond-79 atom-45 atom-69' d='M 179.8,27.5 L 205.0,14.3' style='fill:none;fill-rule:evenodd;stroke:#000000;stroke-width:2.0px;stroke-linecap:butt;stroke-linejoin:miter;stroke-opacity:1' />\n",
       "<path class='bond-79 atom-45 atom-69' d='M 180.9,20.3 L 198.5,11.1' style='fill:none;fill-rule:evenodd;stroke:#000000;stroke-width:2.0px;stroke-linecap:butt;stroke-linejoin:miter;stroke-opacity:1' />\n",
       "<path class='bond-80 atom-46 atom-47' d='M 157.9,65.7 L 176.5,47.3' style='fill:none;fill-rule:evenodd;stroke:#000000;stroke-width:2.0px;stroke-linecap:butt;stroke-linejoin:miter;stroke-opacity:1' />\n",
       "<path class='bond-80 atom-46 atom-47' d='M 156.6,58.8 L 169.6,45.9' style='fill:none;fill-rule:evenodd;stroke:#000000;stroke-width:2.0px;stroke-linecap:butt;stroke-linejoin:miter;stroke-opacity:1' />\n",
       "<path class='bond-81 atom-46 atom-48' d='M 157.9,65.7 L 161.6,91.3' style='fill:none;fill-rule:evenodd;stroke:#000000;stroke-width:2.0px;stroke-linecap:butt;stroke-linejoin:miter;stroke-opacity:1' />\n",
       "<path class='bond-82 atom-47 atom-62' d='M 176.5,47.3 L 198.3,55.7' style='fill:none;fill-rule:evenodd;stroke:#000000;stroke-width:2.0px;stroke-linecap:butt;stroke-linejoin:miter;stroke-opacity:1' />\n",
       "<path class='bond-83 atom-48 atom-49' d='M 161.6,91.3 L 184.1,100.1' style='fill:none;fill-rule:evenodd;stroke:#000000;stroke-width:2.0px;stroke-linecap:butt;stroke-linejoin:miter;stroke-opacity:1' />\n",
       "<path class='bond-83 atom-48 atom-49' d='M 162.8,98.1 L 178.6,104.2' style='fill:none;fill-rule:evenodd;stroke:#000000;stroke-width:2.0px;stroke-linecap:butt;stroke-linejoin:miter;stroke-opacity:1' />\n",
       "<path class='bond-84 atom-49 atom-51' d='M 184.1,100.1 L 192.4,122.6' style='fill:none;fill-rule:evenodd;stroke:#000000;stroke-width:2.0px;stroke-linecap:butt;stroke-linejoin:miter;stroke-opacity:1' />\n",
       "<path class='bond-85 atom-49 atom-63' d='M 184.1,100.1 L 202.0,81.8' style='fill:none;fill-rule:evenodd;stroke:#000000;stroke-width:2.0px;stroke-linecap:butt;stroke-linejoin:miter;stroke-opacity:1' />\n",
       "<path class='bond-86 atom-50 atom-51' d='M 175.8,128.4 L 192.4,122.6' style='fill:none;fill-rule:evenodd;stroke:#000000;stroke-width:2.0px;stroke-linecap:butt;stroke-linejoin:miter;stroke-opacity:1' />\n",
       "<path class='bond-86 atom-50 atom-51' d='M 177.1,124.2 L 188.8,120.1' style='fill:none;fill-rule:evenodd;stroke:#000000;stroke-width:2.0px;stroke-linecap:butt;stroke-linejoin:miter;stroke-opacity:1' />\n",
       "<path class='bond-87 atom-50 atom-52' d='M 175.8,128.4 L 186.7,138.6' style='fill:none;fill-rule:evenodd;stroke:#000000;stroke-width:2.0px;stroke-linecap:butt;stroke-linejoin:miter;stroke-opacity:1' />\n",
       "<path class='bond-88 atom-51 atom-64' d='M 192.4,122.6 L 220.3,128.9' style='fill:none;fill-rule:evenodd;stroke:#000000;stroke-width:2.0px;stroke-linecap:butt;stroke-linejoin:miter;stroke-opacity:1' />\n",
       "<path class='bond-89 atom-52 atom-53' d='M 186.7,138.6 L 214.5,143.2' style='fill:none;fill-rule:evenodd;stroke:#000000;stroke-width:2.0px;stroke-linecap:butt;stroke-linejoin:miter;stroke-opacity:1' />\n",
       "<path class='bond-90 atom-53 atom-55' d='M 214.5,143.2 L 223.0,138.2' style='fill:none;fill-rule:evenodd;stroke:#000000;stroke-width:2.0px;stroke-linecap:butt;stroke-linejoin:miter;stroke-opacity:1' />\n",
       "<path class='bond-91 atom-53 atom-65' d='M 214.5,143.2 L 231.3,139.1' style='fill:none;fill-rule:evenodd;stroke:#000000;stroke-width:2.0px;stroke-linecap:butt;stroke-linejoin:miter;stroke-opacity:1' />\n",
       "<path class='bond-91 atom-53 atom-65' d='M 216.2,139.2 L 227.9,136.3' style='fill:none;fill-rule:evenodd;stroke:#000000;stroke-width:2.0px;stroke-linecap:butt;stroke-linejoin:miter;stroke-opacity:1' />\n",
       "<path class='bond-92 atom-54 atom-55' d='M 200.7,129.4 L 223.0,138.2' style='fill:none;fill-rule:evenodd;stroke:#000000;stroke-width:2.0px;stroke-linecap:butt;stroke-linejoin:miter;stroke-opacity:1' />\n",
       "<path class='bond-92 atom-54 atom-55' d='M 201.9,136.1 L 217.5,142.3' style='fill:none;fill-rule:evenodd;stroke:#000000;stroke-width:2.0px;stroke-linecap:butt;stroke-linejoin:miter;stroke-opacity:1' />\n",
       "<path class='bond-93 atom-54 atom-56' d='M 200.7,129.4 L 204.3,110.1' style='fill:none;fill-rule:evenodd;stroke:#000000;stroke-width:2.0px;stroke-linecap:butt;stroke-linejoin:miter;stroke-opacity:1' />\n",
       "<path class='bond-94 atom-55 atom-66' d='M 223.0,138.2 L 249.3,128.0' style='fill:none;fill-rule:evenodd;stroke:#000000;stroke-width:2.0px;stroke-linecap:butt;stroke-linejoin:miter;stroke-opacity:1' />\n",
       "<path class='bond-95 atom-56 atom-57' d='M 204.3,110.1 L 229.8,98.3' style='fill:none;fill-rule:evenodd;stroke:#000000;stroke-width:2.0px;stroke-linecap:butt;stroke-linejoin:miter;stroke-opacity:1' />\n",
       "<path class='bond-96 atom-57 atom-59' d='M 229.8,98.3 L 226.8,72.6' style='fill:none;fill-rule:evenodd;stroke:#000000;stroke-width:2.0px;stroke-linecap:butt;stroke-linejoin:miter;stroke-opacity:1' />\n",
       "<path class='bond-96 atom-57 atom-59' d='M 223.5,95.1 L 221.4,77.1' style='fill:none;fill-rule:evenodd;stroke:#000000;stroke-width:2.0px;stroke-linecap:butt;stroke-linejoin:miter;stroke-opacity:1' />\n",
       "<path class='bond-97 atom-57 atom-67' d='M 229.8,98.3 L 252.6,108.2' style='fill:none;fill-rule:evenodd;stroke:#000000;stroke-width:2.0px;stroke-linecap:butt;stroke-linejoin:miter;stroke-opacity:1' />\n",
       "<path class='bond-98 atom-58 atom-59' d='M 198.9,67.2 L 226.8,72.6' style='fill:none;fill-rule:evenodd;stroke:#000000;stroke-width:2.0px;stroke-linecap:butt;stroke-linejoin:miter;stroke-opacity:1' />\n",
       "<path class='bond-99 atom-58 atom-60' d='M 198.9,67.2 L 189.6,43.2' style='fill:none;fill-rule:evenodd;stroke:#000000;stroke-width:2.0px;stroke-linecap:butt;stroke-linejoin:miter;stroke-opacity:1' />\n",
       "<path class='bond-99 atom-58 atom-60' d='M 192.0,65.7 L 185.6,48.9' style='fill:none;fill-rule:evenodd;stroke:#000000;stroke-width:2.0px;stroke-linecap:butt;stroke-linejoin:miter;stroke-opacity:1' />\n",
       "<path class='bond-100 atom-60 atom-61' d='M 189.6,43.2 L 207.9,25.4' style='fill:none;fill-rule:evenodd;stroke:#000000;stroke-width:2.0px;stroke-linecap:butt;stroke-linejoin:miter;stroke-opacity:1' />\n",
       "<path class='bond-101 atom-62 atom-63' d='M 198.3,55.7 L 202.0,81.8' style='fill:none;fill-rule:evenodd;stroke:#000000;stroke-width:2.0px;stroke-linecap:butt;stroke-linejoin:miter;stroke-opacity:1' />\n",
       "<path class='bond-102 atom-64 atom-65' d='M 220.3,128.9 L 231.3,139.1' style='fill:none;fill-rule:evenodd;stroke:#000000;stroke-width:2.0px;stroke-linecap:butt;stroke-linejoin:miter;stroke-opacity:1' />\n",
       "<path class='bond-103 atom-66 atom-67' d='M 249.3,128.0 L 252.6,108.2' style='fill:none;fill-rule:evenodd;stroke:#000000;stroke-width:2.0px;stroke-linecap:butt;stroke-linejoin:miter;stroke-opacity:1' />\n",
       "<path class='bond-104 atom-68 atom-69' d='M 213.5,8.0 L 205.0,14.3' style='fill:none;fill-rule:evenodd;stroke:#000000;stroke-width:2.0px;stroke-linecap:butt;stroke-linejoin:miter;stroke-opacity:1' />\n",
       "<path d='M 248.6,18.1 L 248.6,14.2 L 252.5,14.2 L 252.5,18.1 L 248.6,18.1' style='fill:none;stroke:#FF0000;stroke-width:2.0px;stroke-linecap:butt;stroke-linejoin:miter;stroke-opacity:1;' />\n",
       "</svg>\n"
      ],
      "text/html": [
       "<?xml version='1.0' encoding='iso-8859-1'?>\n",
       "<svg version='1.1' baseProfile='full'\n",
       "              xmlns='http://www.w3.org/2000/svg'\n",
       "                      xmlns:rdkit='http://www.rdkit.org/xml'\n",
       "                      xmlns:xlink='http://www.w3.org/1999/xlink'\n",
       "                  xml:space='preserve'\n",
       "width='450px' height='150px' viewBox='0 0 450 150'>\n",
       "<!-- END OF HEADER -->\n",
       "<rect style='opacity:1.0;fill:#FFFFFF;stroke:none' width='450.0' height='150.0' x='0.0' y='0.0'> </rect>\n",
       "<path class='bond-0 atom-0 atom-1' d='M 303.2,63.4 L 299.3,82.5' style='fill:none;fill-rule:evenodd;stroke:#000000;stroke-width:2.0px;stroke-linecap:butt;stroke-linejoin:miter;stroke-opacity:1' />\n",
       "<path class='bond-1 atom-0 atom-7' d='M 303.2,63.4 L 294.1,40.9' style='fill:none;fill-rule:evenodd;stroke:#000000;stroke-width:2.0px;stroke-linecap:butt;stroke-linejoin:miter;stroke-opacity:1' />\n",
       "<path class='bond-1 atom-0 atom-7' d='M 296.4,62.2 L 290.0,46.5' style='fill:none;fill-rule:evenodd;stroke:#000000;stroke-width:2.0px;stroke-linecap:butt;stroke-linejoin:miter;stroke-opacity:1' />\n",
       "<path class='bond-2 atom-0 atom-9' d='M 303.2,63.4 L 300.0,67.6' style='fill:none;fill-rule:evenodd;stroke:#000000;stroke-width:2.0px;stroke-linecap:butt;stroke-linejoin:miter;stroke-opacity:1' />\n",
       "<path class='bond-3 atom-1 atom-2' d='M 299.3,82.5 L 292.4,107.0' style='fill:none;fill-rule:evenodd;stroke:#000000;stroke-width:2.0px;stroke-linecap:butt;stroke-linejoin:miter;stroke-opacity:1' />\n",
       "<path class='bond-4 atom-1 atom-3' d='M 299.3,82.5 L 288.7,71.8' style='fill:none;fill-rule:evenodd;stroke:#000000;stroke-width:2.0px;stroke-linecap:butt;stroke-linejoin:miter;stroke-opacity:1' />\n",
       "<path class='bond-4 atom-1 atom-3' d='M 300.2,78.4 L 292.8,71.0' style='fill:none;fill-rule:evenodd;stroke:#000000;stroke-width:2.0px;stroke-linecap:butt;stroke-linejoin:miter;stroke-opacity:1' />\n",
       "<path class='bond-5 atom-2 atom-12' d='M 292.4,107.0 L 287.9,112.2' style='fill:none;fill-rule:evenodd;stroke:#000000;stroke-width:2.0px;stroke-linecap:butt;stroke-linejoin:miter;stroke-opacity:1' />\n",
       "<path class='bond-5 atom-2 atom-12' d='M 289.0,105.5 L 285.9,109.1' style='fill:none;fill-rule:evenodd;stroke:#000000;stroke-width:2.0px;stroke-linecap:butt;stroke-linejoin:miter;stroke-opacity:1' />\n",
       "<path class='bond-6 atom-2 atom-14' d='M 292.4,107.0 L 273.9,120.8' style='fill:none;fill-rule:evenodd;stroke:#000000;stroke-width:2.0px;stroke-linecap:butt;stroke-linejoin:miter;stroke-opacity:1' />\n",
       "<path class='bond-7 atom-3 atom-4' d='M 288.7,71.8 L 270.9,85.4' style='fill:none;fill-rule:evenodd;stroke:#000000;stroke-width:2.0px;stroke-linecap:butt;stroke-linejoin:miter;stroke-opacity:1' />\n",
       "<path class='bond-8 atom-3 atom-5' d='M 288.7,71.8 L 285.4,46.1' style='fill:none;fill-rule:evenodd;stroke:#000000;stroke-width:2.0px;stroke-linecap:butt;stroke-linejoin:miter;stroke-opacity:1' />\n",
       "<path class='bond-9 atom-4 atom-16' d='M 270.9,85.4 L 263.0,110.9' style='fill:none;fill-rule:evenodd;stroke:#000000;stroke-width:2.0px;stroke-linecap:butt;stroke-linejoin:miter;stroke-opacity:1' />\n",
       "<path class='bond-9 atom-4 atom-16' d='M 264.1,87.5 L 258.6,105.3' style='fill:none;fill-rule:evenodd;stroke:#000000;stroke-width:2.0px;stroke-linecap:butt;stroke-linejoin:miter;stroke-opacity:1' />\n",
       "<path class='bond-10 atom-4 atom-18' d='M 270.9,85.4 L 248.9,74.2' style='fill:none;fill-rule:evenodd;stroke:#000000;stroke-width:2.0px;stroke-linecap:butt;stroke-linejoin:miter;stroke-opacity:1' />\n",
       "<path class='bond-11 atom-5 atom-6' d='M 285.4,46.1 L 264.4,33.4' style='fill:none;fill-rule:evenodd;stroke:#000000;stroke-width:2.0px;stroke-linecap:butt;stroke-linejoin:miter;stroke-opacity:1' />\n",
       "<path class='bond-11 atom-5 atom-6' d='M 279.2,49.2 L 264.5,40.3' style='fill:none;fill-rule:evenodd;stroke:#000000;stroke-width:2.0px;stroke-linecap:butt;stroke-linejoin:miter;stroke-opacity:1' />\n",
       "<path class='bond-12 atom-5 atom-7' d='M 285.4,46.1 L 294.1,40.9' style='fill:none;fill-rule:evenodd;stroke:#000000;stroke-width:2.0px;stroke-linecap:butt;stroke-linejoin:miter;stroke-opacity:1' />\n",
       "<path class='bond-13 atom-6 atom-20' d='M 264.4,33.4 L 245.1,48.4' style='fill:none;fill-rule:evenodd;stroke:#000000;stroke-width:2.0px;stroke-linecap:butt;stroke-linejoin:miter;stroke-opacity:1' />\n",
       "<path class='bond-14 atom-6 atom-22' d='M 264.4,33.4 L 250.6,16.2' style='fill:none;fill-rule:evenodd;stroke:#000000;stroke-width:2.0px;stroke-linecap:butt;stroke-linejoin:miter;stroke-opacity:1' />\n",
       "<path class='bond-15 atom-7 atom-8' d='M 294.1,40.9 L 281.9,22.4' style='fill:none;fill-rule:evenodd;stroke:#000000;stroke-width:2.0px;stroke-linecap:butt;stroke-linejoin:miter;stroke-opacity:1' />\n",
       "<path class='bond-16 atom-8 atom-24' d='M 281.9,22.4 L 258.8,9.9' style='fill:none;fill-rule:evenodd;stroke:#000000;stroke-width:2.0px;stroke-linecap:butt;stroke-linejoin:miter;stroke-opacity:1' />\n",
       "<path class='bond-16 atom-8 atom-24' d='M 275.7,25.7 L 259.5,16.9' style='fill:none;fill-rule:evenodd;stroke:#000000;stroke-width:2.0px;stroke-linecap:butt;stroke-linejoin:miter;stroke-opacity:1' />\n",
       "<path class='bond-17 atom-8 atom-26' d='M 281.9,22.4 L 276.6,25.9' style='fill:none;fill-rule:evenodd;stroke:#000000;stroke-width:2.0px;stroke-linecap:butt;stroke-linejoin:miter;stroke-opacity:1' />\n",
       "<path class='bond-18 atom-9 atom-10' d='M 300.0,67.6 L 291.2,92.9' style='fill:none;fill-rule:evenodd;stroke:#000000;stroke-width:2.0px;stroke-linecap:butt;stroke-linejoin:miter;stroke-opacity:1' />\n",
       "<path class='bond-18 atom-9 atom-10' d='M 293.2,69.5 L 287.0,87.2' style='fill:none;fill-rule:evenodd;stroke:#000000;stroke-width:2.0px;stroke-linecap:butt;stroke-linejoin:miter;stroke-opacity:1' />\n",
       "<path class='bond-19 atom-9 atom-28' d='M 300.0,67.6 L 285.3,49.7' style='fill:none;fill-rule:evenodd;stroke:#000000;stroke-width:2.0px;stroke-linecap:butt;stroke-linejoin:miter;stroke-opacity:1' />\n",
       "<path class='bond-20 atom-10 atom-11' d='M 291.2,92.9 L 273.6,89.4' style='fill:none;fill-rule:evenodd;stroke:#000000;stroke-width:2.0px;stroke-linecap:butt;stroke-linejoin:miter;stroke-opacity:1' />\n",
       "<path class='bond-21 atom-10 atom-12' d='M 291.2,92.9 L 287.9,112.2' style='fill:none;fill-rule:evenodd;stroke:#000000;stroke-width:2.0px;stroke-linecap:butt;stroke-linejoin:miter;stroke-opacity:1' />\n",
       "<path class='bond-22 atom-11 atom-29' d='M 273.6,89.4 L 269.5,63.4' style='fill:none;fill-rule:evenodd;stroke:#000000;stroke-width:2.0px;stroke-linecap:butt;stroke-linejoin:miter;stroke-opacity:1' />\n",
       "<path class='bond-23 atom-11 atom-67' d='M 273.6,89.4 L 252.6,108.2' style='fill:none;fill-rule:evenodd;stroke:#000000;stroke-width:2.0px;stroke-linecap:butt;stroke-linejoin:miter;stroke-opacity:1' />\n",
       "<path class='bond-23 atom-11 atom-67' d='M 266.6,87.9 L 251.8,101.0' style='fill:none;fill-rule:evenodd;stroke:#000000;stroke-width:2.0px;stroke-linecap:butt;stroke-linejoin:miter;stroke-opacity:1' />\n",
       "<path class='bond-24 atom-12 atom-13' d='M 287.9,112.2 L 267.7,128.7' style='fill:none;fill-rule:evenodd;stroke:#000000;stroke-width:2.0px;stroke-linecap:butt;stroke-linejoin:miter;stroke-opacity:1' />\n",
       "<path class='bond-25 atom-13 atom-15' d='M 267.7,128.7 L 259.1,133.9' style='fill:none;fill-rule:evenodd;stroke:#000000;stroke-width:2.0px;stroke-linecap:butt;stroke-linejoin:miter;stroke-opacity:1' />\n",
       "<path class='bond-26 atom-13 atom-66' d='M 267.7,128.7 L 249.3,128.0' style='fill:none;fill-rule:evenodd;stroke:#000000;stroke-width:2.0px;stroke-linecap:butt;stroke-linejoin:miter;stroke-opacity:1' />\n",
       "<path class='bond-26 atom-13 atom-66' d='M 264.8,132.1 L 252.0,131.6' style='fill:none;fill-rule:evenodd;stroke:#000000;stroke-width:2.0px;stroke-linecap:butt;stroke-linejoin:miter;stroke-opacity:1' />\n",
       "<path class='bond-27 atom-14 atom-15' d='M 273.9,120.8 L 259.1,133.9' style='fill:none;fill-rule:evenodd;stroke:#000000;stroke-width:2.0px;stroke-linecap:butt;stroke-linejoin:miter;stroke-opacity:1' />\n",
       "<path class='bond-27 atom-14 atom-15' d='M 274.0,125.4 L 263.6,134.6' style='fill:none;fill-rule:evenodd;stroke:#000000;stroke-width:2.0px;stroke-linecap:butt;stroke-linejoin:miter;stroke-opacity:1' />\n",
       "<path class='bond-28 atom-14 atom-16' d='M 273.9,120.8 L 263.0,110.9' style='fill:none;fill-rule:evenodd;stroke:#000000;stroke-width:2.0px;stroke-linecap:butt;stroke-linejoin:miter;stroke-opacity:1' />\n",
       "<path class='bond-29 atom-15 atom-65' d='M 259.1,133.9 L 231.3,139.1' style='fill:none;fill-rule:evenodd;stroke:#000000;stroke-width:2.0px;stroke-linecap:butt;stroke-linejoin:miter;stroke-opacity:1' />\n",
       "<path class='bond-30 atom-16 atom-17' d='M 263.0,110.9 L 237.4,113.5' style='fill:none;fill-rule:evenodd;stroke:#000000;stroke-width:2.0px;stroke-linecap:butt;stroke-linejoin:miter;stroke-opacity:1' />\n",
       "<path class='bond-31 atom-17 atom-19' d='M 237.4,113.5 L 228.7,91.0' style='fill:none;fill-rule:evenodd;stroke:#000000;stroke-width:2.0px;stroke-linecap:butt;stroke-linejoin:miter;stroke-opacity:1' />\n",
       "<path class='bond-32 atom-17 atom-64' d='M 237.4,113.5 L 220.3,128.9' style='fill:none;fill-rule:evenodd;stroke:#000000;stroke-width:2.0px;stroke-linecap:butt;stroke-linejoin:miter;stroke-opacity:1' />\n",
       "<path class='bond-32 atom-17 atom-64' d='M 232.5,113.2 L 220.5,124.0' style='fill:none;fill-rule:evenodd;stroke:#000000;stroke-width:2.0px;stroke-linecap:butt;stroke-linejoin:miter;stroke-opacity:1' />\n",
       "<path class='bond-33 atom-18 atom-19' d='M 248.9,74.2 L 228.7,91.0' style='fill:none;fill-rule:evenodd;stroke:#000000;stroke-width:2.0px;stroke-linecap:butt;stroke-linejoin:miter;stroke-opacity:1' />\n",
       "<path class='bond-34 atom-18 atom-20' d='M 248.9,74.2 L 245.1,48.4' style='fill:none;fill-rule:evenodd;stroke:#000000;stroke-width:2.0px;stroke-linecap:butt;stroke-linejoin:miter;stroke-opacity:1' />\n",
       "<path class='bond-34 atom-18 atom-20' d='M 242.6,71.2 L 239.9,53.2' style='fill:none;fill-rule:evenodd;stroke:#000000;stroke-width:2.0px;stroke-linecap:butt;stroke-linejoin:miter;stroke-opacity:1' />\n",
       "<path class='bond-35 atom-19 atom-63' d='M 228.7,91.0 L 202.0,81.8' style='fill:none;fill-rule:evenodd;stroke:#000000;stroke-width:2.0px;stroke-linecap:butt;stroke-linejoin:miter;stroke-opacity:1' />\n",
       "<path class='bond-35 atom-19 atom-63' d='M 222.8,95.2 L 204.1,88.7' style='fill:none;fill-rule:evenodd;stroke:#000000;stroke-width:2.0px;stroke-linecap:butt;stroke-linejoin:miter;stroke-opacity:1' />\n",
       "<path class='bond-36 atom-20 atom-21' d='M 245.1,48.4 L 221.5,39.0' style='fill:none;fill-rule:evenodd;stroke:#000000;stroke-width:2.0px;stroke-linecap:butt;stroke-linejoin:miter;stroke-opacity:1' />\n",
       "<path class='bond-37 atom-21 atom-23' d='M 221.5,39.0 L 224.8,19.4' style='fill:none;fill-rule:evenodd;stroke:#000000;stroke-width:2.0px;stroke-linecap:butt;stroke-linejoin:miter;stroke-opacity:1' />\n",
       "<path class='bond-38 atom-21 atom-62' d='M 221.5,39.0 L 198.3,55.7' style='fill:none;fill-rule:evenodd;stroke:#000000;stroke-width:2.0px;stroke-linecap:butt;stroke-linejoin:miter;stroke-opacity:1' />\n",
       "<path class='bond-38 atom-21 atom-62' d='M 214.6,36.8 L 198.3,48.4' style='fill:none;fill-rule:evenodd;stroke:#000000;stroke-width:2.0px;stroke-linecap:butt;stroke-linejoin:miter;stroke-opacity:1' />\n",
       "<path class='bond-39 atom-22 atom-23' d='M 250.6,16.2 L 224.8,19.4' style='fill:none;fill-rule:evenodd;stroke:#000000;stroke-width:2.0px;stroke-linecap:butt;stroke-linejoin:miter;stroke-opacity:1' />\n",
       "<path class='bond-39 atom-22 atom-23' d='M 247.4,22.5 L 229.4,24.7' style='fill:none;fill-rule:evenodd;stroke:#000000;stroke-width:2.0px;stroke-linecap:butt;stroke-linejoin:miter;stroke-opacity:1' />\n",
       "<path class='bond-40 atom-22 atom-24' d='M 250.6,16.2 L 258.8,9.9' style='fill:none;fill-rule:evenodd;stroke:#000000;stroke-width:2.0px;stroke-linecap:butt;stroke-linejoin:miter;stroke-opacity:1' />\n",
       "<path class='bond-41 atom-23 atom-69' d='M 224.8,19.4 L 205.0,14.3' style='fill:none;fill-rule:evenodd;stroke:#000000;stroke-width:2.0px;stroke-linecap:butt;stroke-linejoin:miter;stroke-opacity:1' />\n",
       "<path class='bond-42 atom-24 atom-25' d='M 258.8,9.9 L 241.8,6.8' style='fill:none;fill-rule:evenodd;stroke:#000000;stroke-width:2.0px;stroke-linecap:butt;stroke-linejoin:miter;stroke-opacity:1' />\n",
       "<path class='bond-43 atom-25 atom-27' d='M 241.8,6.8 L 252.6,16.8' style='fill:none;fill-rule:evenodd;stroke:#000000;stroke-width:2.0px;stroke-linecap:butt;stroke-linejoin:miter;stroke-opacity:1' />\n",
       "<path class='bond-44 atom-25 atom-68' d='M 241.8,6.8 L 213.5,8.0' style='fill:none;fill-rule:evenodd;stroke:#000000;stroke-width:2.0px;stroke-linecap:butt;stroke-linejoin:miter;stroke-opacity:1' />\n",
       "<path class='bond-44 atom-25 atom-68' d='M 237.8,12.8 L 218.0,13.7' style='fill:none;fill-rule:evenodd;stroke:#000000;stroke-width:2.0px;stroke-linecap:butt;stroke-linejoin:miter;stroke-opacity:1' />\n",
       "<path class='bond-45 atom-26 atom-27' d='M 276.6,25.9 L 252.6,16.8' style='fill:none;fill-rule:evenodd;stroke:#000000;stroke-width:2.0px;stroke-linecap:butt;stroke-linejoin:miter;stroke-opacity:1' />\n",
       "<path class='bond-46 atom-26 atom-28' d='M 276.6,25.9 L 285.3,49.7' style='fill:none;fill-rule:evenodd;stroke:#000000;stroke-width:2.0px;stroke-linecap:butt;stroke-linejoin:miter;stroke-opacity:1' />\n",
       "<path class='bond-46 atom-26 atom-28' d='M 272.4,31.5 L 278.5,48.1' style='fill:none;fill-rule:evenodd;stroke:#000000;stroke-width:2.0px;stroke-linecap:butt;stroke-linejoin:miter;stroke-opacity:1' />\n",
       "<path class='bond-47 atom-27 atom-30' d='M 252.6,16.8 L 236.2,29.3' style='fill:none;fill-rule:evenodd;stroke:#000000;stroke-width:2.0px;stroke-linecap:butt;stroke-linejoin:miter;stroke-opacity:1' />\n",
       "<path class='bond-47 atom-27 atom-30' d='M 248.1,15.9 L 236.6,24.6' style='fill:none;fill-rule:evenodd;stroke:#000000;stroke-width:2.0px;stroke-linecap:butt;stroke-linejoin:miter;stroke-opacity:1' />\n",
       "<path class='bond-48 atom-28 atom-29' d='M 285.3,49.7 L 269.5,63.4' style='fill:none;fill-rule:evenodd;stroke:#000000;stroke-width:2.0px;stroke-linecap:butt;stroke-linejoin:miter;stroke-opacity:1' />\n",
       "<path class='bond-49 atom-29 atom-31' d='M 269.5,63.4 L 246.1,53.9' style='fill:none;fill-rule:evenodd;stroke:#000000;stroke-width:2.0px;stroke-linecap:butt;stroke-linejoin:miter;stroke-opacity:1' />\n",
       "<path class='bond-49 atom-29 atom-31' d='M 263.8,67.4 L 247.4,60.8' style='fill:none;fill-rule:evenodd;stroke:#000000;stroke-width:2.0px;stroke-linecap:butt;stroke-linejoin:miter;stroke-opacity:1' />\n",
       "<path class='bond-50 atom-30 atom-31' d='M 236.2,29.3 L 246.1,53.9' style='fill:none;fill-rule:evenodd;stroke:#000000;stroke-width:2.0px;stroke-linecap:butt;stroke-linejoin:miter;stroke-opacity:1' />\n",
       "<path class='bond-51 atom-30 atom-61' d='M 236.2,29.3 L 207.9,25.4' style='fill:none;fill-rule:evenodd;stroke:#000000;stroke-width:2.0px;stroke-linecap:butt;stroke-linejoin:miter;stroke-opacity:1' />\n",
       "<path class='bond-52 atom-31 atom-59' d='M 246.1,53.9 L 226.8,72.6' style='fill:none;fill-rule:evenodd;stroke:#000000;stroke-width:2.0px;stroke-linecap:butt;stroke-linejoin:miter;stroke-opacity:1' />\n",
       "<path class='bond-53 atom-32 atom-33' d='M 154.8,67.5 L 146.8,74.2' style='fill:none;fill-rule:evenodd;stroke:#000000;stroke-width:2.0px;stroke-linecap:butt;stroke-linejoin:miter;stroke-opacity:1' />\n",
       "<path class='bond-53 atom-32 atom-33' d='M 155.8,71.3 L 150.2,75.9' style='fill:none;fill-rule:evenodd;stroke:#000000;stroke-width:2.0px;stroke-linecap:butt;stroke-linejoin:miter;stroke-opacity:1' />\n",
       "<path class='bond-54 atom-32 atom-39' d='M 154.8,67.5 L 164.3,89.7' style='fill:none;fill-rule:evenodd;stroke:#000000;stroke-width:2.0px;stroke-linecap:butt;stroke-linejoin:miter;stroke-opacity:1' />\n",
       "<path class='bond-55 atom-32 atom-41' d='M 154.8,67.5 L 166.4,44.3' style='fill:none;fill-rule:evenodd;stroke:#000000;stroke-width:2.0px;stroke-linecap:butt;stroke-linejoin:miter;stroke-opacity:1' />\n",
       "<path class='bond-56 atom-33 atom-34' d='M 146.8,74.2 L 149.9,57.4' style='fill:none;fill-rule:evenodd;stroke:#000000;stroke-width:2.0px;stroke-linecap:butt;stroke-linejoin:miter;stroke-opacity:1' />\n",
       "<path class='bond-57 atom-33 atom-35' d='M 146.8,74.2 L 150.4,100.1' style='fill:none;fill-rule:evenodd;stroke:#000000;stroke-width:2.0px;stroke-linecap:butt;stroke-linejoin:miter;stroke-opacity:1' />\n",
       "<path class='bond-58 atom-34 atom-44' d='M 149.9,57.4 L 163.1,32.7' style='fill:none;fill-rule:evenodd;stroke:#000000;stroke-width:2.0px;stroke-linecap:butt;stroke-linejoin:miter;stroke-opacity:1' />\n",
       "<path class='bond-58 atom-34 atom-44' d='M 157.0,56.4 L 166.3,39.2' style='fill:none;fill-rule:evenodd;stroke:#000000;stroke-width:2.0px;stroke-linecap:butt;stroke-linejoin:miter;stroke-opacity:1' />\n",
       "<path class='bond-59 atom-34 atom-46' d='M 149.9,57.4 L 157.9,65.7' style='fill:none;fill-rule:evenodd;stroke:#000000;stroke-width:2.0px;stroke-linecap:butt;stroke-linejoin:miter;stroke-opacity:1' />\n",
       "<path class='bond-60 atom-35 atom-36' d='M 150.4,100.1 L 157.3,109.8' style='fill:none;fill-rule:evenodd;stroke:#000000;stroke-width:2.0px;stroke-linecap:butt;stroke-linejoin:miter;stroke-opacity:1' />\n",
       "<path class='bond-60 atom-35 atom-36' d='M 154.3,99.5 L 159.1,106.3' style='fill:none;fill-rule:evenodd;stroke:#000000;stroke-width:2.0px;stroke-linecap:butt;stroke-linejoin:miter;stroke-opacity:1' />\n",
       "<path class='bond-61 atom-35 atom-37' d='M 150.4,100.1 L 161.2,109.7' style='fill:none;fill-rule:evenodd;stroke:#000000;stroke-width:2.0px;stroke-linecap:butt;stroke-linejoin:miter;stroke-opacity:1' />\n",
       "<path class='bond-62 atom-36 atom-48' d='M 157.3,109.8 L 161.6,91.3' style='fill:none;fill-rule:evenodd;stroke:#000000;stroke-width:2.0px;stroke-linecap:butt;stroke-linejoin:miter;stroke-opacity:1' />\n",
       "<path class='bond-63 atom-36 atom-50' d='M 157.3,109.8 L 175.8,128.4' style='fill:none;fill-rule:evenodd;stroke:#000000;stroke-width:2.0px;stroke-linecap:butt;stroke-linejoin:miter;stroke-opacity:1' />\n",
       "<path class='bond-64 atom-37 atom-38' d='M 161.2,109.7 L 178.9,129.4' style='fill:none;fill-rule:evenodd;stroke:#000000;stroke-width:2.0px;stroke-linecap:butt;stroke-linejoin:miter;stroke-opacity:1' />\n",
       "<path class='bond-65 atom-37 atom-39' d='M 161.2,109.7 L 164.3,89.7' style='fill:none;fill-rule:evenodd;stroke:#000000;stroke-width:2.0px;stroke-linecap:butt;stroke-linejoin:miter;stroke-opacity:1' />\n",
       "<path class='bond-65 atom-37 atom-39' d='M 158.2,106.2 L 160.3,92.2' style='fill:none;fill-rule:evenodd;stroke:#000000;stroke-width:2.0px;stroke-linecap:butt;stroke-linejoin:miter;stroke-opacity:1' />\n",
       "<path class='bond-66 atom-38 atom-52' d='M 178.9,129.4 L 186.7,138.6' style='fill:none;fill-rule:evenodd;stroke:#000000;stroke-width:2.0px;stroke-linecap:butt;stroke-linejoin:miter;stroke-opacity:1' />\n",
       "<path class='bond-66 atom-38 atom-52' d='M 182.8,128.6 L 188.2,135.0' style='fill:none;fill-rule:evenodd;stroke:#000000;stroke-width:2.0px;stroke-linecap:butt;stroke-linejoin:miter;stroke-opacity:1' />\n",
       "<path class='bond-67 atom-38 atom-54' d='M 178.9,129.4 L 200.7,129.4' style='fill:none;fill-rule:evenodd;stroke:#000000;stroke-width:2.0px;stroke-linecap:butt;stroke-linejoin:miter;stroke-opacity:1' />\n",
       "<path class='bond-68 atom-39 atom-40' d='M 164.3,89.7 L 185.3,89.3' style='fill:none;fill-rule:evenodd;stroke:#000000;stroke-width:2.0px;stroke-linecap:butt;stroke-linejoin:miter;stroke-opacity:1' />\n",
       "<path class='bond-69 atom-40 atom-56' d='M 185.3,89.3 L 204.3,110.1' style='fill:none;fill-rule:evenodd;stroke:#000000;stroke-width:2.0px;stroke-linecap:butt;stroke-linejoin:miter;stroke-opacity:1' />\n",
       "<path class='bond-69 atom-40 atom-56' d='M 192.5,88.4 L 205.8,103.0' style='fill:none;fill-rule:evenodd;stroke:#000000;stroke-width:2.0px;stroke-linecap:butt;stroke-linejoin:miter;stroke-opacity:1' />\n",
       "<path class='bond-70 atom-40 atom-58' d='M 185.3,89.3 L 198.9,67.2' style='fill:none;fill-rule:evenodd;stroke:#000000;stroke-width:2.0px;stroke-linecap:butt;stroke-linejoin:miter;stroke-opacity:1' />\n",
       "<path class='bond-71 atom-41 atom-42' d='M 166.4,44.3 L 171.2,26.5' style='fill:none;fill-rule:evenodd;stroke:#000000;stroke-width:2.0px;stroke-linecap:butt;stroke-linejoin:miter;stroke-opacity:1' />\n",
       "<path class='bond-71 atom-41 atom-42' d='M 170.5,42.5 L 173.9,30.1' style='fill:none;fill-rule:evenodd;stroke:#000000;stroke-width:2.0px;stroke-linecap:butt;stroke-linejoin:miter;stroke-opacity:1' />\n",
       "<path class='bond-72 atom-41 atom-60' d='M 166.4,44.3 L 189.6,43.2' style='fill:none;fill-rule:evenodd;stroke:#000000;stroke-width:2.0px;stroke-linecap:butt;stroke-linejoin:miter;stroke-opacity:1' />\n",
       "<path class='bond-73 atom-42 atom-43' d='M 171.2,26.5 L 197.0,15.1' style='fill:none;fill-rule:evenodd;stroke:#000000;stroke-width:2.0px;stroke-linecap:butt;stroke-linejoin:miter;stroke-opacity:1' />\n",
       "<path class='bond-74 atom-42 atom-44' d='M 171.2,26.5 L 163.1,32.7' style='fill:none;fill-rule:evenodd;stroke:#000000;stroke-width:2.0px;stroke-linecap:butt;stroke-linejoin:miter;stroke-opacity:1' />\n",
       "<path class='bond-75 atom-43 atom-61' d='M 197.0,15.1 L 207.9,25.4' style='fill:none;fill-rule:evenodd;stroke:#000000;stroke-width:2.0px;stroke-linecap:butt;stroke-linejoin:miter;stroke-opacity:1' />\n",
       "<path class='bond-75 atom-43 atom-61' d='M 196.2,19.2 L 203.9,26.4' style='fill:none;fill-rule:evenodd;stroke:#000000;stroke-width:2.0px;stroke-linecap:butt;stroke-linejoin:miter;stroke-opacity:1' />\n",
       "<path class='bond-76 atom-43 atom-68' d='M 197.0,15.1 L 213.5,8.0' style='fill:none;fill-rule:evenodd;stroke:#000000;stroke-width:2.0px;stroke-linecap:butt;stroke-linejoin:miter;stroke-opacity:1' />\n",
       "<path class='bond-77 atom-44 atom-45' d='M 163.1,32.7 L 179.8,27.5' style='fill:none;fill-rule:evenodd;stroke:#000000;stroke-width:2.0px;stroke-linecap:butt;stroke-linejoin:miter;stroke-opacity:1' />\n",
       "<path class='bond-78 atom-45 atom-47' d='M 179.8,27.5 L 176.5,47.3' style='fill:none;fill-rule:evenodd;stroke:#000000;stroke-width:2.0px;stroke-linecap:butt;stroke-linejoin:miter;stroke-opacity:1' />\n",
       "<path class='bond-79 atom-45 atom-69' d='M 179.8,27.5 L 205.0,14.3' style='fill:none;fill-rule:evenodd;stroke:#000000;stroke-width:2.0px;stroke-linecap:butt;stroke-linejoin:miter;stroke-opacity:1' />\n",
       "<path class='bond-79 atom-45 atom-69' d='M 180.9,20.3 L 198.5,11.1' style='fill:none;fill-rule:evenodd;stroke:#000000;stroke-width:2.0px;stroke-linecap:butt;stroke-linejoin:miter;stroke-opacity:1' />\n",
       "<path class='bond-80 atom-46 atom-47' d='M 157.9,65.7 L 176.5,47.3' style='fill:none;fill-rule:evenodd;stroke:#000000;stroke-width:2.0px;stroke-linecap:butt;stroke-linejoin:miter;stroke-opacity:1' />\n",
       "<path class='bond-80 atom-46 atom-47' d='M 156.6,58.8 L 169.6,45.9' style='fill:none;fill-rule:evenodd;stroke:#000000;stroke-width:2.0px;stroke-linecap:butt;stroke-linejoin:miter;stroke-opacity:1' />\n",
       "<path class='bond-81 atom-46 atom-48' d='M 157.9,65.7 L 161.6,91.3' style='fill:none;fill-rule:evenodd;stroke:#000000;stroke-width:2.0px;stroke-linecap:butt;stroke-linejoin:miter;stroke-opacity:1' />\n",
       "<path class='bond-82 atom-47 atom-62' d='M 176.5,47.3 L 198.3,55.7' style='fill:none;fill-rule:evenodd;stroke:#000000;stroke-width:2.0px;stroke-linecap:butt;stroke-linejoin:miter;stroke-opacity:1' />\n",
       "<path class='bond-83 atom-48 atom-49' d='M 161.6,91.3 L 184.1,100.1' style='fill:none;fill-rule:evenodd;stroke:#000000;stroke-width:2.0px;stroke-linecap:butt;stroke-linejoin:miter;stroke-opacity:1' />\n",
       "<path class='bond-83 atom-48 atom-49' d='M 162.8,98.1 L 178.6,104.2' style='fill:none;fill-rule:evenodd;stroke:#000000;stroke-width:2.0px;stroke-linecap:butt;stroke-linejoin:miter;stroke-opacity:1' />\n",
       "<path class='bond-84 atom-49 atom-51' d='M 184.1,100.1 L 192.4,122.6' style='fill:none;fill-rule:evenodd;stroke:#000000;stroke-width:2.0px;stroke-linecap:butt;stroke-linejoin:miter;stroke-opacity:1' />\n",
       "<path class='bond-85 atom-49 atom-63' d='M 184.1,100.1 L 202.0,81.8' style='fill:none;fill-rule:evenodd;stroke:#000000;stroke-width:2.0px;stroke-linecap:butt;stroke-linejoin:miter;stroke-opacity:1' />\n",
       "<path class='bond-86 atom-50 atom-51' d='M 175.8,128.4 L 192.4,122.6' style='fill:none;fill-rule:evenodd;stroke:#000000;stroke-width:2.0px;stroke-linecap:butt;stroke-linejoin:miter;stroke-opacity:1' />\n",
       "<path class='bond-86 atom-50 atom-51' d='M 177.1,124.2 L 188.8,120.1' style='fill:none;fill-rule:evenodd;stroke:#000000;stroke-width:2.0px;stroke-linecap:butt;stroke-linejoin:miter;stroke-opacity:1' />\n",
       "<path class='bond-87 atom-50 atom-52' d='M 175.8,128.4 L 186.7,138.6' style='fill:none;fill-rule:evenodd;stroke:#000000;stroke-width:2.0px;stroke-linecap:butt;stroke-linejoin:miter;stroke-opacity:1' />\n",
       "<path class='bond-88 atom-51 atom-64' d='M 192.4,122.6 L 220.3,128.9' style='fill:none;fill-rule:evenodd;stroke:#000000;stroke-width:2.0px;stroke-linecap:butt;stroke-linejoin:miter;stroke-opacity:1' />\n",
       "<path class='bond-89 atom-52 atom-53' d='M 186.7,138.6 L 214.5,143.2' style='fill:none;fill-rule:evenodd;stroke:#000000;stroke-width:2.0px;stroke-linecap:butt;stroke-linejoin:miter;stroke-opacity:1' />\n",
       "<path class='bond-90 atom-53 atom-55' d='M 214.5,143.2 L 223.0,138.2' style='fill:none;fill-rule:evenodd;stroke:#000000;stroke-width:2.0px;stroke-linecap:butt;stroke-linejoin:miter;stroke-opacity:1' />\n",
       "<path class='bond-91 atom-53 atom-65' d='M 214.5,143.2 L 231.3,139.1' style='fill:none;fill-rule:evenodd;stroke:#000000;stroke-width:2.0px;stroke-linecap:butt;stroke-linejoin:miter;stroke-opacity:1' />\n",
       "<path class='bond-91 atom-53 atom-65' d='M 216.2,139.2 L 227.9,136.3' style='fill:none;fill-rule:evenodd;stroke:#000000;stroke-width:2.0px;stroke-linecap:butt;stroke-linejoin:miter;stroke-opacity:1' />\n",
       "<path class='bond-92 atom-54 atom-55' d='M 200.7,129.4 L 223.0,138.2' style='fill:none;fill-rule:evenodd;stroke:#000000;stroke-width:2.0px;stroke-linecap:butt;stroke-linejoin:miter;stroke-opacity:1' />\n",
       "<path class='bond-92 atom-54 atom-55' d='M 201.9,136.1 L 217.5,142.3' style='fill:none;fill-rule:evenodd;stroke:#000000;stroke-width:2.0px;stroke-linecap:butt;stroke-linejoin:miter;stroke-opacity:1' />\n",
       "<path class='bond-93 atom-54 atom-56' d='M 200.7,129.4 L 204.3,110.1' style='fill:none;fill-rule:evenodd;stroke:#000000;stroke-width:2.0px;stroke-linecap:butt;stroke-linejoin:miter;stroke-opacity:1' />\n",
       "<path class='bond-94 atom-55 atom-66' d='M 223.0,138.2 L 249.3,128.0' style='fill:none;fill-rule:evenodd;stroke:#000000;stroke-width:2.0px;stroke-linecap:butt;stroke-linejoin:miter;stroke-opacity:1' />\n",
       "<path class='bond-95 atom-56 atom-57' d='M 204.3,110.1 L 229.8,98.3' style='fill:none;fill-rule:evenodd;stroke:#000000;stroke-width:2.0px;stroke-linecap:butt;stroke-linejoin:miter;stroke-opacity:1' />\n",
       "<path class='bond-96 atom-57 atom-59' d='M 229.8,98.3 L 226.8,72.6' style='fill:none;fill-rule:evenodd;stroke:#000000;stroke-width:2.0px;stroke-linecap:butt;stroke-linejoin:miter;stroke-opacity:1' />\n",
       "<path class='bond-96 atom-57 atom-59' d='M 223.5,95.1 L 221.4,77.1' style='fill:none;fill-rule:evenodd;stroke:#000000;stroke-width:2.0px;stroke-linecap:butt;stroke-linejoin:miter;stroke-opacity:1' />\n",
       "<path class='bond-97 atom-57 atom-67' d='M 229.8,98.3 L 252.6,108.2' style='fill:none;fill-rule:evenodd;stroke:#000000;stroke-width:2.0px;stroke-linecap:butt;stroke-linejoin:miter;stroke-opacity:1' />\n",
       "<path class='bond-98 atom-58 atom-59' d='M 198.9,67.2 L 226.8,72.6' style='fill:none;fill-rule:evenodd;stroke:#000000;stroke-width:2.0px;stroke-linecap:butt;stroke-linejoin:miter;stroke-opacity:1' />\n",
       "<path class='bond-99 atom-58 atom-60' d='M 198.9,67.2 L 189.6,43.2' style='fill:none;fill-rule:evenodd;stroke:#000000;stroke-width:2.0px;stroke-linecap:butt;stroke-linejoin:miter;stroke-opacity:1' />\n",
       "<path class='bond-99 atom-58 atom-60' d='M 192.0,65.7 L 185.6,48.9' style='fill:none;fill-rule:evenodd;stroke:#000000;stroke-width:2.0px;stroke-linecap:butt;stroke-linejoin:miter;stroke-opacity:1' />\n",
       "<path class='bond-100 atom-60 atom-61' d='M 189.6,43.2 L 207.9,25.4' style='fill:none;fill-rule:evenodd;stroke:#000000;stroke-width:2.0px;stroke-linecap:butt;stroke-linejoin:miter;stroke-opacity:1' />\n",
       "<path class='bond-101 atom-62 atom-63' d='M 198.3,55.7 L 202.0,81.8' style='fill:none;fill-rule:evenodd;stroke:#000000;stroke-width:2.0px;stroke-linecap:butt;stroke-linejoin:miter;stroke-opacity:1' />\n",
       "<path class='bond-102 atom-64 atom-65' d='M 220.3,128.9 L 231.3,139.1' style='fill:none;fill-rule:evenodd;stroke:#000000;stroke-width:2.0px;stroke-linecap:butt;stroke-linejoin:miter;stroke-opacity:1' />\n",
       "<path class='bond-103 atom-66 atom-67' d='M 249.3,128.0 L 252.6,108.2' style='fill:none;fill-rule:evenodd;stroke:#000000;stroke-width:2.0px;stroke-linecap:butt;stroke-linejoin:miter;stroke-opacity:1' />\n",
       "<path class='bond-104 atom-68 atom-69' d='M 213.5,8.0 L 205.0,14.3' style='fill:none;fill-rule:evenodd;stroke:#000000;stroke-width:2.0px;stroke-linecap:butt;stroke-linejoin:miter;stroke-opacity:1' />\n",
       "<path d='M 248.6,18.1 L 248.6,14.2 L 252.5,14.2 L 252.5,18.1 L 248.6,18.1' style='fill:none;stroke:#FF0000;stroke-width:2.0px;stroke-linecap:butt;stroke-linejoin:miter;stroke-opacity:1;' />\n",
       "</svg>\n"
      ],
      "text/plain": [
       "<rdkit.Chem.rdchem.Mol at 0x7f4edd2d5e80>"
      ]
     },
     "execution_count": 29,
     "metadata": {},
     "output_type": "execute_result"
    }
   ],
   "source": [
    "mol1 # we see that the "
   ]
  },
  {
   "cell_type": "code",
   "execution_count": 12,
   "metadata": {},
   "outputs": [
    {
     "name": "stderr",
     "output_type": "stream",
     "text": [
      "/home/sang/anaconda3/lib/python3.8/site-packages/MDAnalysis/converters/RDKit.py:368: UserWarning:\n",
      "\n",
      "No hydrogen atom found in the topology. Forcing to continue the conversion.\n",
      "\n"
     ]
    },
    {
     "data": {
      "text/plain": [
       "[[3.973, 0.535, -0.149],\n",
       " [3.773, -0.443, -1.066],\n",
       " [3.416, -1.699, -0.675],\n",
       " [3.228, 0.101, -2.174],\n",
       " [2.317, -0.592, -2.906],\n",
       " [3.061, 1.417, -1.949],\n",
       " [1.982, 2.069, -2.456],\n",
       " [3.503, 1.684, -0.702],\n",
       " [2.88, 2.634, 0.051],\n",
       " [3.809, 0.316, 1.179],\n",
       " [3.357, -0.977, 1.625],\n",
       " [2.456, -0.799, 2.613],\n",
       " [3.189, -1.963, 0.727],\n",
       " [2.151, -2.808, 0.82],\n",
       " [2.473, -2.406, -1.323],\n",
       " [1.711, -3.074, -0.43],\n",
       " [1.915, -1.898, -2.439],\n",
       " [0.602, -2.029, -2.674],\n",
       " [1.192, -0.021, -3.368],\n",
       " [0.159, -0.881, -3.235],\n",
       " [0.997, 1.299, -3.18],\n",
       " [-0.212, 1.78, -2.857],\n",
       " [1.276, 2.95, -1.728],\n",
       " [-0.042, 2.787, -1.971],\n",
       " [1.7, 3.271, -0.491],\n",
       " [0.827, 3.43, 0.515],\n",
       " [2.607, 2.453, 1.353],\n",
       " [1.383, 2.918, 1.635],\n",
       " [3.057, 1.237, 1.986],\n",
       " [2.247, 0.532, 2.804],\n",
       " [0.543, 2.281, 2.647],\n",
       " [1.047, 1.019, 3.244],\n",
       " [-3.627, 0.321, 2.123],\n",
       " [-4.038, -0.018, 0.876],\n",
       " [-3.878, 0.843, -0.169],\n",
       " [-3.851, -1.344, 0.7],\n",
       " [-3.5, -1.84, -0.517],\n",
       " [-3.299, -1.838, 1.826],\n",
       " [-2.39, -2.848, 1.764],\n",
       " [-3.141, -0.813, 2.693],\n",
       " [-2.066, -0.791, 3.532],\n",
       " [-3.035, 1.513, 2.386],\n",
       " [-2.786, 2.424, 1.29],\n",
       " [-1.466, 3.008, 1.455],\n",
       " [-3.203, 2.104, 0.062],\n",
       " [-2.347, 2.37, -1.072],\n",
       " [-3.467, 0.415, -1.379],\n",
       " [-2.513, 1.357, -1.943],\n",
       " [-3.28, -0.894, -1.59],\n",
       " [-2.128, -1.346, -2.333],\n",
       " [-2.553, -2.792, -0.646],\n",
       " [-1.699, -2.496, -1.786],\n",
       " [-1.993, -3.317, 0.452],\n",
       " [-0.568, -3.551, 0.494],\n",
       " [-1.276, -2.843, 2.524],\n",
       " [-0.136, -3.296, 1.74],\n",
       " [-1.091, -1.856, 3.41],\n",
       " [0.212, -1.252, 3.547],\n",
       " [-1.369, 0.339, 3.769],\n",
       " [0.059, 0.064, 3.761],\n",
       " [-1.843, 1.569, 3.193],\n",
       " [-0.907, 2.479, 2.564],\n",
       " [-1.401, 0.929, -2.793],\n",
       " [-1.208, -0.409, -2.984],\n",
       " [-0.274, -2.821, -1.808],\n",
       " [0.289, -3.343, -0.679],\n",
       " [1.214, -2.775, 1.944],\n",
       " [1.38, -1.761, 2.841],\n",
       " [-0.621, 3.371, 0.314],\n",
       " [-1.054, 3.049, -0.94]]"
      ]
     },
     "execution_count": 12,
     "metadata": {},
     "output_type": "execute_result"
    }
   ],
   "source": [
    "u = mda.Universe('c70.pdb')\n",
    "mol1 = u.atoms.convert_to(\"RDKIT\", force=True)\n",
    "C70List = [] \n",
    "for index, atoms in enumerate(u.atoms):\n",
    "    C70List.append(list(atoms.position))\n",
    "C70List"
   ]
  },
  {
   "cell_type": "code",
   "execution_count": 41,
   "metadata": {},
   "outputs": [],
   "source": [
    "def ConvertC70Core(coordinate):\n",
    "    \"\"\"    \n",
    "    Description \n",
    "    -----------\n",
    "    \n",
    "    Creates a MDAnalysis universe from the pdb input of the C70 file, and \n",
    "    creates a coarse-grained framework of the C70. \n",
    "    \n",
    "    \n",
    "    Parameters\n",
    "    ----------\n",
    "    coordinate: \n",
    "        path and file where the pdb file is.\n",
    "    filename : str\n",
    "    copy : bool\n",
    "    dtype : data-type\n",
    "    iterable : iterable object\n",
    "    shape : int or tuple of int\n",
    "    files : list of str\n",
    "    \n",
    "    Returns\n",
    "    -------\n",
    "    int\n",
    "        Description of anonymous integer return value.\n",
    "    \"\"\"\n",
    "    u = mda.Universe(coordinate) # Create Universe \n",
    "    CorePositions, CoreIndex = [], [] # Get positions and indices of the core \n",
    "    C70CGBeadPositions = [] # list to append the new 'coarse-grained' positions of the C70 Martini NP\n",
    "    DistanceDict = {} \n",
    "    \n",
    "    CorePositions = [[index, atoms.position] for index, atoms in enumerate(u.atoms)]\n",
    "    \n",
    "    for index, atoms in enumerate(u.atoms): # loop over the indices and atoms within the universe \n",
    "        DistanceDict[index] = []\n",
    "        # Get the distance between atoms in the core positions  \n",
    "        for items in CorePositions: # each element here is [index, atom.position]\n",
    "            Distance = distance.euclidean(items[1], atoms.position) # get the distance between the atoms and the core\n",
    "            Entry = [index, items[0], Distance] # index of position A and index of position B, and the distance between \n",
    "            DistanceDict[index].append(Entry) # Append this list \n",
    "    ClosestAtomsDistance = [] # List to store the atoms with the closest distances\n",
    "    \n",
    "    # Sort each entry by distance \n",
    "    for key in DistanceDict.keys():\n",
    "        DistanceDict[key] = sorted(DistanceDict[key], key=itemgetter(2)) # sort entries by closest distance \n",
    "        DistanceDict[key][1][0:2] = sorted(DistanceDict[key][1][0:2]) # Get first two index \n",
    "        ClosestAtomsDistance.append(DistanceDict[key][1]) \n",
    "    \n",
    "    # Remove duplicate entries \n",
    "    UniqueSetsCoordinates = [list(x) for x in set(tuple(x) for x in ClosestAtomsDistance)]       \n",
    "    \n",
    "    # Take the indices in the unique data and compute the averge coordinates\n",
    "    for entry in UniqueSetsCoordinates:\n",
    "        data = [list(CorePositions[entry[0]][1]), list(CorePositions[entry[1]][1])]\n",
    "        averaged = np.average(data, axis=0)\n",
    "        C70CGBeadPositions.append(averaged)\n",
    "        \n",
    "        \n",
    "    return C70CGBeadPositions\n",
    "\n",
    "def ConstructNPNetwork():\n",
    "    \"\"\"\n",
    "    \"\"\"\n",
    "    pass\n",
    "\n"
   ]
  },
  {
   "cell_type": "code",
   "execution_count": 42,
   "metadata": {},
   "outputs": [
    {
     "data": {
      "text/plain": [
       "[array([ 0.39249998,  1.5395    , -3.0185    ], dtype=float32),\n",
       " array([-3.22  , -1.3255,  2.2595], dtype=float32),\n",
       " array([ 2.67      , -2.3855    ,  0.77349997], dtype=float32),\n",
       " array([-2.4299998,  1.8634999, -1.5074999], dtype=float32),\n",
       " array([-1.606,  0.954,  3.481], dtype=float32),\n",
       " array([-3.0265    , -2.316     , -0.58150005], dtype=float32),\n",
       " array([ 0.67550004, -0.451     , -3.3014998 ], dtype=float32),\n",
       " array([-0.352 , -3.4235,  1.117 ], dtype=float32),\n",
       " array([ 1.7544999 , -0.30650002, -3.137     ], dtype=float32),\n",
       " array([-3.3734999, -0.2395   , -1.4844999], dtype=float32),\n",
       " array([-3.575    , -1.5910001,  1.263    ], dtype=float32),\n",
       " array([ 1.2969999, -2.2680001,  2.3925   ], dtype=float32),\n",
       " array([-1.8330001, -2.8455   ,  2.144    ], dtype=float32),\n",
       " array([-3.9445, -0.681 ,  0.788 ], dtype=float32),\n",
       " array([-1.1865,  2.7435,  2.0095], dtype=float32),\n",
       " array([ 3.273, -1.47 ,  1.176], dtype=float32),\n",
       " array([ 3.5005    , -0.17099999, -1.62      ], dtype=float32),\n",
       " array([-3.331 ,  0.917 ,  2.2545], dtype=float32),\n",
       " array([-1.7175    , -0.22600001,  3.6505    ], dtype=float32),\n",
       " array([-1.9135001, -1.921    , -2.0595   ], dtype=float32),\n",
       " array([-0.8375,  3.21  , -0.313 ], dtype=float32),\n",
       " array([3.891     , 0.42550004, 0.515     ], dtype=float32),\n",
       " array([ 0.617 ,  2.8685, -1.8495], dtype=float32),\n",
       " array([ 1.629 ,  2.5095, -2.092 ], dtype=float32),\n",
       " array([1.6470001 , 0.77550006, 3.024     ], dtype=float32),\n",
       " array([-3.6725001,  0.629    , -0.774    ], dtype=float32),\n",
       " array([-1.1835, -2.3495,  2.967 ], dtype=float32),\n",
       " array([-3.8325   ,  0.1515   ,  1.4994999], dtype=float32),\n",
       " array([ 0.00750001, -3.082     , -1.2435    ], dtype=float32),\n",
       " array([-1.3045,  0.26  , -2.8885], dtype=float32),\n",
       " array([ 3.1445,  0.759 , -2.0615], dtype=float32),\n",
       " array([-2.273     , -3.0545    , -0.09700002], dtype=float32),\n",
       " array([ 0.1355   , -0.594    ,  3.6539998], dtype=float32),\n",
       " array([2.652 , 0.8845, 2.395 ], dtype=float32),\n",
       " array([ 3.8730001 ,  0.04600002, -0.6075    ], dtype=float32),\n",
       " array([ 1.2585, -1.9635, -2.5565], dtype=float32),\n",
       " array([0.963 , 2.5995, 2.141 ], dtype=float32),\n",
       " array([1.2635    , 3.3505    , 0.01199999], dtype=float32),\n",
       " array([1.9950001, 2.6855001, 1.494    ], dtype=float32),\n",
       " array([2.7435002, 2.5435   , 0.702    ], dtype=float32),\n",
       " array([ 2.092    , -2.7399998, -0.8765   ], dtype=float32),\n",
       " array([-2.9945002,  2.264    ,  0.676    ], dtype=float32),\n",
       " array([ 3.282 ,  1.5505, -1.3255], dtype=float32),\n",
       " array([ 2.9065, -0.888 ,  2.119 ], dtype=float32),\n",
       " array([ 2.9445    , -2.0525    , -0.99899995], dtype=float32)]"
      ]
     },
     "execution_count": 42,
     "metadata": {},
     "output_type": "execute_result"
    }
   ],
   "source": [
    "NPPositions = ConvertC70Core('c70.pdb')\n",
    "NPPositions"
   ]
  },
  {
   "cell_type": "code",
   "execution_count": 43,
   "metadata": {},
   "outputs": [
    {
     "data": {
      "application/vnd.plotly.v1+json": {
       "config": {
        "plotlyServerURL": "https://plot.ly"
       },
       "data": [
        {
         "hovertemplate": "X=%{x}<br>Y=%{y}<br>Z=%{z}<extra></extra>",
         "legendgroup": "",
         "marker": {
          "color": "#636efa",
          "symbol": "circle"
         },
         "mode": "markers",
         "name": "",
         "scene": "scene",
         "showlegend": false,
         "type": "scatter3d",
         "x": [
          0.39249998331069946,
          -3.2200000286102295,
          2.6700000762939453,
          -2.429999828338623,
          -1.6059999465942383,
          -3.0264999866485596,
          0.6755000352859497,
          -0.35199999809265137,
          1.754499912261963,
          -3.373499870300293,
          -3.575000047683716,
          1.2969999313354492,
          -1.8330000638961792,
          -3.944499969482422,
          -1.1864999532699585,
          3.2730000019073486,
          3.500499963760376,
          -3.3310000896453857,
          -1.7174999713897705,
          -1.9135000705718994,
          -0.8374999761581421,
          3.8910000324249268,
          0.6169999837875366,
          1.628999948501587,
          1.6470000743865967,
          -3.6725001335144043,
          -1.183500051498413,
          -3.8324999809265137,
          0.007500007748603821,
          -1.3044999837875366,
          3.1445000171661377,
          -2.2730000019073486,
          0.1354999989271164,
          2.6519999504089355,
          3.873000144958496,
          1.2584999799728394,
          0.9629999995231628,
          1.2634999752044678,
          1.9950001239776611,
          2.743500232696533,
          2.0920000076293945,
          -2.994500160217285,
          3.2820000648498535,
          2.9065001010894775,
          2.944499969482422
         ],
         "y": [
          1.5394999980926514,
          -1.3255000114440918,
          -2.385499954223633,
          1.8634998798370361,
          0.9539999961853027,
          -2.315999984741211,
          -0.45100000500679016,
          -3.4235000610351562,
          -0.30650001764297485,
          -0.2395000010728836,
          -1.5910000801086426,
          -2.2680001258850098,
          -2.8454999923706055,
          -0.6809999942779541,
          2.743499994277954,
          -1.4700000286102295,
          -0.17099998891353607,
          0.9169999957084656,
          -0.22600001096725464,
          -1.9210000038146973,
          3.2100000381469727,
          0.4255000352859497,
          2.868499994277954,
          2.509500026702881,
          0.7755000591278076,
          0.6290000081062317,
          -2.3494999408721924,
          0.15150000154972076,
          -3.0820000171661377,
          0.25999999046325684,
          0.7590000033378601,
          -3.054500102996826,
          -0.593999981880188,
          0.8845000267028809,
          0.04600001871585846,
          -1.9635000228881836,
          2.5994999408721924,
          3.3505001068115234,
          2.685500144958496,
          2.5434999465942383,
          -2.739999771118164,
          2.2639999389648438,
          1.5505000352859497,
          -0.8880000114440918,
          -2.052500009536743
         ],
         "z": [
          -3.0185000896453857,
          2.259500026702881,
          0.7734999656677246,
          -1.5074999332427979,
          3.4809999465942383,
          -0.5815000534057617,
          -3.301499843597412,
          1.1169999837875366,
          -3.13700008392334,
          -1.4844999313354492,
          1.2630000114440918,
          2.3924999237060547,
          2.1440000534057617,
          0.7879999876022339,
          2.009500026702881,
          1.1759999990463257,
          -1.6200000047683716,
          2.254499912261963,
          3.6505000591278076,
          -2.059499979019165,
          -0.31299999356269836,
          0.5149999856948853,
          -1.8494999408721924,
          -2.0920000076293945,
          3.0239999294281006,
          -0.7739999890327454,
          2.9670000076293945,
          1.4994999170303345,
          -1.243499994277954,
          -2.8884999752044678,
          -2.061500072479248,
          -0.09700001776218414,
          3.6539998054504395,
          2.3949999809265137,
          -0.6075000166893005,
          -2.55649995803833,
          2.1410000324249268,
          0.01199999451637268,
          1.49399995803833,
          0.7020000219345093,
          -0.8765000104904175,
          0.6759999990463257,
          -1.3255000114440918,
          2.11899995803833,
          -0.9989999532699585
         ]
        }
       ],
       "layout": {
        "legend": {
         "tracegroupgap": 0
        },
        "margin": {
         "t": 60
        },
        "scene": {
         "domain": {
          "x": [
           0,
           1
          ],
          "y": [
           0,
           1
          ]
         },
         "xaxis": {
          "title": {
           "text": "X"
          }
         },
         "yaxis": {
          "title": {
           "text": "Y"
          }
         },
         "zaxis": {
          "title": {
           "text": "Z"
          }
         }
        },
        "template": {
         "data": {
          "bar": [
           {
            "error_x": {
             "color": "#2a3f5f"
            },
            "error_y": {
             "color": "#2a3f5f"
            },
            "marker": {
             "line": {
              "color": "#E5ECF6",
              "width": 0.5
             },
             "pattern": {
              "fillmode": "overlay",
              "size": 10,
              "solidity": 0.2
             }
            },
            "type": "bar"
           }
          ],
          "barpolar": [
           {
            "marker": {
             "line": {
              "color": "#E5ECF6",
              "width": 0.5
             },
             "pattern": {
              "fillmode": "overlay",
              "size": 10,
              "solidity": 0.2
             }
            },
            "type": "barpolar"
           }
          ],
          "carpet": [
           {
            "aaxis": {
             "endlinecolor": "#2a3f5f",
             "gridcolor": "white",
             "linecolor": "white",
             "minorgridcolor": "white",
             "startlinecolor": "#2a3f5f"
            },
            "baxis": {
             "endlinecolor": "#2a3f5f",
             "gridcolor": "white",
             "linecolor": "white",
             "minorgridcolor": "white",
             "startlinecolor": "#2a3f5f"
            },
            "type": "carpet"
           }
          ],
          "choropleth": [
           {
            "colorbar": {
             "outlinewidth": 0,
             "ticks": ""
            },
            "type": "choropleth"
           }
          ],
          "contour": [
           {
            "colorbar": {
             "outlinewidth": 0,
             "ticks": ""
            },
            "colorscale": [
             [
              0,
              "#0d0887"
             ],
             [
              0.1111111111111111,
              "#46039f"
             ],
             [
              0.2222222222222222,
              "#7201a8"
             ],
             [
              0.3333333333333333,
              "#9c179e"
             ],
             [
              0.4444444444444444,
              "#bd3786"
             ],
             [
              0.5555555555555556,
              "#d8576b"
             ],
             [
              0.6666666666666666,
              "#ed7953"
             ],
             [
              0.7777777777777778,
              "#fb9f3a"
             ],
             [
              0.8888888888888888,
              "#fdca26"
             ],
             [
              1,
              "#f0f921"
             ]
            ],
            "type": "contour"
           }
          ],
          "contourcarpet": [
           {
            "colorbar": {
             "outlinewidth": 0,
             "ticks": ""
            },
            "type": "contourcarpet"
           }
          ],
          "heatmap": [
           {
            "colorbar": {
             "outlinewidth": 0,
             "ticks": ""
            },
            "colorscale": [
             [
              0,
              "#0d0887"
             ],
             [
              0.1111111111111111,
              "#46039f"
             ],
             [
              0.2222222222222222,
              "#7201a8"
             ],
             [
              0.3333333333333333,
              "#9c179e"
             ],
             [
              0.4444444444444444,
              "#bd3786"
             ],
             [
              0.5555555555555556,
              "#d8576b"
             ],
             [
              0.6666666666666666,
              "#ed7953"
             ],
             [
              0.7777777777777778,
              "#fb9f3a"
             ],
             [
              0.8888888888888888,
              "#fdca26"
             ],
             [
              1,
              "#f0f921"
             ]
            ],
            "type": "heatmap"
           }
          ],
          "heatmapgl": [
           {
            "colorbar": {
             "outlinewidth": 0,
             "ticks": ""
            },
            "colorscale": [
             [
              0,
              "#0d0887"
             ],
             [
              0.1111111111111111,
              "#46039f"
             ],
             [
              0.2222222222222222,
              "#7201a8"
             ],
             [
              0.3333333333333333,
              "#9c179e"
             ],
             [
              0.4444444444444444,
              "#bd3786"
             ],
             [
              0.5555555555555556,
              "#d8576b"
             ],
             [
              0.6666666666666666,
              "#ed7953"
             ],
             [
              0.7777777777777778,
              "#fb9f3a"
             ],
             [
              0.8888888888888888,
              "#fdca26"
             ],
             [
              1,
              "#f0f921"
             ]
            ],
            "type": "heatmapgl"
           }
          ],
          "histogram": [
           {
            "marker": {
             "pattern": {
              "fillmode": "overlay",
              "size": 10,
              "solidity": 0.2
             }
            },
            "type": "histogram"
           }
          ],
          "histogram2d": [
           {
            "colorbar": {
             "outlinewidth": 0,
             "ticks": ""
            },
            "colorscale": [
             [
              0,
              "#0d0887"
             ],
             [
              0.1111111111111111,
              "#46039f"
             ],
             [
              0.2222222222222222,
              "#7201a8"
             ],
             [
              0.3333333333333333,
              "#9c179e"
             ],
             [
              0.4444444444444444,
              "#bd3786"
             ],
             [
              0.5555555555555556,
              "#d8576b"
             ],
             [
              0.6666666666666666,
              "#ed7953"
             ],
             [
              0.7777777777777778,
              "#fb9f3a"
             ],
             [
              0.8888888888888888,
              "#fdca26"
             ],
             [
              1,
              "#f0f921"
             ]
            ],
            "type": "histogram2d"
           }
          ],
          "histogram2dcontour": [
           {
            "colorbar": {
             "outlinewidth": 0,
             "ticks": ""
            },
            "colorscale": [
             [
              0,
              "#0d0887"
             ],
             [
              0.1111111111111111,
              "#46039f"
             ],
             [
              0.2222222222222222,
              "#7201a8"
             ],
             [
              0.3333333333333333,
              "#9c179e"
             ],
             [
              0.4444444444444444,
              "#bd3786"
             ],
             [
              0.5555555555555556,
              "#d8576b"
             ],
             [
              0.6666666666666666,
              "#ed7953"
             ],
             [
              0.7777777777777778,
              "#fb9f3a"
             ],
             [
              0.8888888888888888,
              "#fdca26"
             ],
             [
              1,
              "#f0f921"
             ]
            ],
            "type": "histogram2dcontour"
           }
          ],
          "mesh3d": [
           {
            "colorbar": {
             "outlinewidth": 0,
             "ticks": ""
            },
            "type": "mesh3d"
           }
          ],
          "parcoords": [
           {
            "line": {
             "colorbar": {
              "outlinewidth": 0,
              "ticks": ""
             }
            },
            "type": "parcoords"
           }
          ],
          "pie": [
           {
            "automargin": true,
            "type": "pie"
           }
          ],
          "scatter": [
           {
            "marker": {
             "colorbar": {
              "outlinewidth": 0,
              "ticks": ""
             }
            },
            "type": "scatter"
           }
          ],
          "scatter3d": [
           {
            "line": {
             "colorbar": {
              "outlinewidth": 0,
              "ticks": ""
             }
            },
            "marker": {
             "colorbar": {
              "outlinewidth": 0,
              "ticks": ""
             }
            },
            "type": "scatter3d"
           }
          ],
          "scattercarpet": [
           {
            "marker": {
             "colorbar": {
              "outlinewidth": 0,
              "ticks": ""
             }
            },
            "type": "scattercarpet"
           }
          ],
          "scattergeo": [
           {
            "marker": {
             "colorbar": {
              "outlinewidth": 0,
              "ticks": ""
             }
            },
            "type": "scattergeo"
           }
          ],
          "scattergl": [
           {
            "marker": {
             "colorbar": {
              "outlinewidth": 0,
              "ticks": ""
             }
            },
            "type": "scattergl"
           }
          ],
          "scattermapbox": [
           {
            "marker": {
             "colorbar": {
              "outlinewidth": 0,
              "ticks": ""
             }
            },
            "type": "scattermapbox"
           }
          ],
          "scatterpolar": [
           {
            "marker": {
             "colorbar": {
              "outlinewidth": 0,
              "ticks": ""
             }
            },
            "type": "scatterpolar"
           }
          ],
          "scatterpolargl": [
           {
            "marker": {
             "colorbar": {
              "outlinewidth": 0,
              "ticks": ""
             }
            },
            "type": "scatterpolargl"
           }
          ],
          "scatterternary": [
           {
            "marker": {
             "colorbar": {
              "outlinewidth": 0,
              "ticks": ""
             }
            },
            "type": "scatterternary"
           }
          ],
          "surface": [
           {
            "colorbar": {
             "outlinewidth": 0,
             "ticks": ""
            },
            "colorscale": [
             [
              0,
              "#0d0887"
             ],
             [
              0.1111111111111111,
              "#46039f"
             ],
             [
              0.2222222222222222,
              "#7201a8"
             ],
             [
              0.3333333333333333,
              "#9c179e"
             ],
             [
              0.4444444444444444,
              "#bd3786"
             ],
             [
              0.5555555555555556,
              "#d8576b"
             ],
             [
              0.6666666666666666,
              "#ed7953"
             ],
             [
              0.7777777777777778,
              "#fb9f3a"
             ],
             [
              0.8888888888888888,
              "#fdca26"
             ],
             [
              1,
              "#f0f921"
             ]
            ],
            "type": "surface"
           }
          ],
          "table": [
           {
            "cells": {
             "fill": {
              "color": "#EBF0F8"
             },
             "line": {
              "color": "white"
             }
            },
            "header": {
             "fill": {
              "color": "#C8D4E3"
             },
             "line": {
              "color": "white"
             }
            },
            "type": "table"
           }
          ]
         },
         "layout": {
          "annotationdefaults": {
           "arrowcolor": "#2a3f5f",
           "arrowhead": 0,
           "arrowwidth": 1
          },
          "autotypenumbers": "strict",
          "coloraxis": {
           "colorbar": {
            "outlinewidth": 0,
            "ticks": ""
           }
          },
          "colorscale": {
           "diverging": [
            [
             0,
             "#8e0152"
            ],
            [
             0.1,
             "#c51b7d"
            ],
            [
             0.2,
             "#de77ae"
            ],
            [
             0.3,
             "#f1b6da"
            ],
            [
             0.4,
             "#fde0ef"
            ],
            [
             0.5,
             "#f7f7f7"
            ],
            [
             0.6,
             "#e6f5d0"
            ],
            [
             0.7,
             "#b8e186"
            ],
            [
             0.8,
             "#7fbc41"
            ],
            [
             0.9,
             "#4d9221"
            ],
            [
             1,
             "#276419"
            ]
           ],
           "sequential": [
            [
             0,
             "#0d0887"
            ],
            [
             0.1111111111111111,
             "#46039f"
            ],
            [
             0.2222222222222222,
             "#7201a8"
            ],
            [
             0.3333333333333333,
             "#9c179e"
            ],
            [
             0.4444444444444444,
             "#bd3786"
            ],
            [
             0.5555555555555556,
             "#d8576b"
            ],
            [
             0.6666666666666666,
             "#ed7953"
            ],
            [
             0.7777777777777778,
             "#fb9f3a"
            ],
            [
             0.8888888888888888,
             "#fdca26"
            ],
            [
             1,
             "#f0f921"
            ]
           ],
           "sequentialminus": [
            [
             0,
             "#0d0887"
            ],
            [
             0.1111111111111111,
             "#46039f"
            ],
            [
             0.2222222222222222,
             "#7201a8"
            ],
            [
             0.3333333333333333,
             "#9c179e"
            ],
            [
             0.4444444444444444,
             "#bd3786"
            ],
            [
             0.5555555555555556,
             "#d8576b"
            ],
            [
             0.6666666666666666,
             "#ed7953"
            ],
            [
             0.7777777777777778,
             "#fb9f3a"
            ],
            [
             0.8888888888888888,
             "#fdca26"
            ],
            [
             1,
             "#f0f921"
            ]
           ]
          },
          "colorway": [
           "#636efa",
           "#EF553B",
           "#00cc96",
           "#ab63fa",
           "#FFA15A",
           "#19d3f3",
           "#FF6692",
           "#B6E880",
           "#FF97FF",
           "#FECB52"
          ],
          "font": {
           "color": "#2a3f5f"
          },
          "geo": {
           "bgcolor": "white",
           "lakecolor": "white",
           "landcolor": "#E5ECF6",
           "showlakes": true,
           "showland": true,
           "subunitcolor": "white"
          },
          "hoverlabel": {
           "align": "left"
          },
          "hovermode": "closest",
          "mapbox": {
           "style": "light"
          },
          "paper_bgcolor": "white",
          "plot_bgcolor": "#E5ECF6",
          "polar": {
           "angularaxis": {
            "gridcolor": "white",
            "linecolor": "white",
            "ticks": ""
           },
           "bgcolor": "#E5ECF6",
           "radialaxis": {
            "gridcolor": "white",
            "linecolor": "white",
            "ticks": ""
           }
          },
          "scene": {
           "xaxis": {
            "backgroundcolor": "#E5ECF6",
            "gridcolor": "white",
            "gridwidth": 2,
            "linecolor": "white",
            "showbackground": true,
            "ticks": "",
            "zerolinecolor": "white"
           },
           "yaxis": {
            "backgroundcolor": "#E5ECF6",
            "gridcolor": "white",
            "gridwidth": 2,
            "linecolor": "white",
            "showbackground": true,
            "ticks": "",
            "zerolinecolor": "white"
           },
           "zaxis": {
            "backgroundcolor": "#E5ECF6",
            "gridcolor": "white",
            "gridwidth": 2,
            "linecolor": "white",
            "showbackground": true,
            "ticks": "",
            "zerolinecolor": "white"
           }
          },
          "shapedefaults": {
           "line": {
            "color": "#2a3f5f"
           }
          },
          "ternary": {
           "aaxis": {
            "gridcolor": "white",
            "linecolor": "white",
            "ticks": ""
           },
           "baxis": {
            "gridcolor": "white",
            "linecolor": "white",
            "ticks": ""
           },
           "bgcolor": "#E5ECF6",
           "caxis": {
            "gridcolor": "white",
            "linecolor": "white",
            "ticks": ""
           }
          },
          "title": {
           "x": 0.05
          },
          "xaxis": {
           "automargin": true,
           "gridcolor": "white",
           "linecolor": "white",
           "ticks": "",
           "title": {
            "standoff": 15
           },
           "zerolinecolor": "white",
           "zerolinewidth": 2
          },
          "yaxis": {
           "automargin": true,
           "gridcolor": "white",
           "linecolor": "white",
           "ticks": "",
           "title": {
            "standoff": 15
           },
           "zerolinecolor": "white",
           "zerolinewidth": 2
          }
         }
        }
       }
      },
      "text/html": [
       "<div>                            <div id=\"a29da8c2-3332-47bd-b7aa-a4eb9e5050c4\" class=\"plotly-graph-div\" style=\"height:525px; width:100%;\"></div>            <script type=\"text/javascript\">                require([\"plotly\"], function(Plotly) {                    window.PLOTLYENV=window.PLOTLYENV || {};                                    if (document.getElementById(\"a29da8c2-3332-47bd-b7aa-a4eb9e5050c4\")) {                    Plotly.newPlot(                        \"a29da8c2-3332-47bd-b7aa-a4eb9e5050c4\",                        [{\"hovertemplate\":\"X=%{x}<br>Y=%{y}<br>Z=%{z}<extra></extra>\",\"legendgroup\":\"\",\"marker\":{\"color\":\"#636efa\",\"symbol\":\"circle\"},\"mode\":\"markers\",\"name\":\"\",\"scene\":\"scene\",\"showlegend\":false,\"type\":\"scatter3d\",\"x\":[0.39249998331069946,-3.2200000286102295,2.6700000762939453,-2.429999828338623,-1.6059999465942383,-3.0264999866485596,0.6755000352859497,-0.35199999809265137,1.754499912261963,-3.373499870300293,-3.575000047683716,1.2969999313354492,-1.8330000638961792,-3.944499969482422,-1.1864999532699585,3.2730000019073486,3.500499963760376,-3.3310000896453857,-1.7174999713897705,-1.9135000705718994,-0.8374999761581421,3.8910000324249268,0.6169999837875366,1.628999948501587,1.6470000743865967,-3.6725001335144043,-1.183500051498413,-3.8324999809265137,0.007500007748603821,-1.3044999837875366,3.1445000171661377,-2.2730000019073486,0.1354999989271164,2.6519999504089355,3.873000144958496,1.2584999799728394,0.9629999995231628,1.2634999752044678,1.9950001239776611,2.743500232696533,2.0920000076293945,-2.994500160217285,3.2820000648498535,2.9065001010894775,2.944499969482422],\"y\":[1.5394999980926514,-1.3255000114440918,-2.385499954223633,1.8634998798370361,0.9539999961853027,-2.315999984741211,-0.45100000500679016,-3.4235000610351562,-0.30650001764297485,-0.2395000010728836,-1.5910000801086426,-2.2680001258850098,-2.8454999923706055,-0.6809999942779541,2.743499994277954,-1.4700000286102295,-0.17099998891353607,0.9169999957084656,-0.22600001096725464,-1.9210000038146973,3.2100000381469727,0.4255000352859497,2.868499994277954,2.509500026702881,0.7755000591278076,0.6290000081062317,-2.3494999408721924,0.15150000154972076,-3.0820000171661377,0.25999999046325684,0.7590000033378601,-3.054500102996826,-0.593999981880188,0.8845000267028809,0.04600001871585846,-1.9635000228881836,2.5994999408721924,3.3505001068115234,2.685500144958496,2.5434999465942383,-2.739999771118164,2.2639999389648438,1.5505000352859497,-0.8880000114440918,-2.052500009536743],\"z\":[-3.0185000896453857,2.259500026702881,0.7734999656677246,-1.5074999332427979,3.4809999465942383,-0.5815000534057617,-3.301499843597412,1.1169999837875366,-3.13700008392334,-1.4844999313354492,1.2630000114440918,2.3924999237060547,2.1440000534057617,0.7879999876022339,2.009500026702881,1.1759999990463257,-1.6200000047683716,2.254499912261963,3.6505000591278076,-2.059499979019165,-0.31299999356269836,0.5149999856948853,-1.8494999408721924,-2.0920000076293945,3.0239999294281006,-0.7739999890327454,2.9670000076293945,1.4994999170303345,-1.243499994277954,-2.8884999752044678,-2.061500072479248,-0.09700001776218414,3.6539998054504395,2.3949999809265137,-0.6075000166893005,-2.55649995803833,2.1410000324249268,0.01199999451637268,1.49399995803833,0.7020000219345093,-0.8765000104904175,0.6759999990463257,-1.3255000114440918,2.11899995803833,-0.9989999532699585]}],                        {\"legend\":{\"tracegroupgap\":0},\"margin\":{\"t\":60},\"scene\":{\"domain\":{\"x\":[0.0,1.0],\"y\":[0.0,1.0]},\"xaxis\":{\"title\":{\"text\":\"X\"}},\"yaxis\":{\"title\":{\"text\":\"Y\"}},\"zaxis\":{\"title\":{\"text\":\"Z\"}}},\"template\":{\"data\":{\"bar\":[{\"error_x\":{\"color\":\"#2a3f5f\"},\"error_y\":{\"color\":\"#2a3f5f\"},\"marker\":{\"line\":{\"color\":\"#E5ECF6\",\"width\":0.5},\"pattern\":{\"fillmode\":\"overlay\",\"size\":10,\"solidity\":0.2}},\"type\":\"bar\"}],\"barpolar\":[{\"marker\":{\"line\":{\"color\":\"#E5ECF6\",\"width\":0.5},\"pattern\":{\"fillmode\":\"overlay\",\"size\":10,\"solidity\":0.2}},\"type\":\"barpolar\"}],\"carpet\":[{\"aaxis\":{\"endlinecolor\":\"#2a3f5f\",\"gridcolor\":\"white\",\"linecolor\":\"white\",\"minorgridcolor\":\"white\",\"startlinecolor\":\"#2a3f5f\"},\"baxis\":{\"endlinecolor\":\"#2a3f5f\",\"gridcolor\":\"white\",\"linecolor\":\"white\",\"minorgridcolor\":\"white\",\"startlinecolor\":\"#2a3f5f\"},\"type\":\"carpet\"}],\"choropleth\":[{\"colorbar\":{\"outlinewidth\":0,\"ticks\":\"\"},\"type\":\"choropleth\"}],\"contour\":[{\"colorbar\":{\"outlinewidth\":0,\"ticks\":\"\"},\"colorscale\":[[0.0,\"#0d0887\"],[0.1111111111111111,\"#46039f\"],[0.2222222222222222,\"#7201a8\"],[0.3333333333333333,\"#9c179e\"],[0.4444444444444444,\"#bd3786\"],[0.5555555555555556,\"#d8576b\"],[0.6666666666666666,\"#ed7953\"],[0.7777777777777778,\"#fb9f3a\"],[0.8888888888888888,\"#fdca26\"],[1.0,\"#f0f921\"]],\"type\":\"contour\"}],\"contourcarpet\":[{\"colorbar\":{\"outlinewidth\":0,\"ticks\":\"\"},\"type\":\"contourcarpet\"}],\"heatmap\":[{\"colorbar\":{\"outlinewidth\":0,\"ticks\":\"\"},\"colorscale\":[[0.0,\"#0d0887\"],[0.1111111111111111,\"#46039f\"],[0.2222222222222222,\"#7201a8\"],[0.3333333333333333,\"#9c179e\"],[0.4444444444444444,\"#bd3786\"],[0.5555555555555556,\"#d8576b\"],[0.6666666666666666,\"#ed7953\"],[0.7777777777777778,\"#fb9f3a\"],[0.8888888888888888,\"#fdca26\"],[1.0,\"#f0f921\"]],\"type\":\"heatmap\"}],\"heatmapgl\":[{\"colorbar\":{\"outlinewidth\":0,\"ticks\":\"\"},\"colorscale\":[[0.0,\"#0d0887\"],[0.1111111111111111,\"#46039f\"],[0.2222222222222222,\"#7201a8\"],[0.3333333333333333,\"#9c179e\"],[0.4444444444444444,\"#bd3786\"],[0.5555555555555556,\"#d8576b\"],[0.6666666666666666,\"#ed7953\"],[0.7777777777777778,\"#fb9f3a\"],[0.8888888888888888,\"#fdca26\"],[1.0,\"#f0f921\"]],\"type\":\"heatmapgl\"}],\"histogram\":[{\"marker\":{\"pattern\":{\"fillmode\":\"overlay\",\"size\":10,\"solidity\":0.2}},\"type\":\"histogram\"}],\"histogram2d\":[{\"colorbar\":{\"outlinewidth\":0,\"ticks\":\"\"},\"colorscale\":[[0.0,\"#0d0887\"],[0.1111111111111111,\"#46039f\"],[0.2222222222222222,\"#7201a8\"],[0.3333333333333333,\"#9c179e\"],[0.4444444444444444,\"#bd3786\"],[0.5555555555555556,\"#d8576b\"],[0.6666666666666666,\"#ed7953\"],[0.7777777777777778,\"#fb9f3a\"],[0.8888888888888888,\"#fdca26\"],[1.0,\"#f0f921\"]],\"type\":\"histogram2d\"}],\"histogram2dcontour\":[{\"colorbar\":{\"outlinewidth\":0,\"ticks\":\"\"},\"colorscale\":[[0.0,\"#0d0887\"],[0.1111111111111111,\"#46039f\"],[0.2222222222222222,\"#7201a8\"],[0.3333333333333333,\"#9c179e\"],[0.4444444444444444,\"#bd3786\"],[0.5555555555555556,\"#d8576b\"],[0.6666666666666666,\"#ed7953\"],[0.7777777777777778,\"#fb9f3a\"],[0.8888888888888888,\"#fdca26\"],[1.0,\"#f0f921\"]],\"type\":\"histogram2dcontour\"}],\"mesh3d\":[{\"colorbar\":{\"outlinewidth\":0,\"ticks\":\"\"},\"type\":\"mesh3d\"}],\"parcoords\":[{\"line\":{\"colorbar\":{\"outlinewidth\":0,\"ticks\":\"\"}},\"type\":\"parcoords\"}],\"pie\":[{\"automargin\":true,\"type\":\"pie\"}],\"scatter\":[{\"marker\":{\"colorbar\":{\"outlinewidth\":0,\"ticks\":\"\"}},\"type\":\"scatter\"}],\"scatter3d\":[{\"line\":{\"colorbar\":{\"outlinewidth\":0,\"ticks\":\"\"}},\"marker\":{\"colorbar\":{\"outlinewidth\":0,\"ticks\":\"\"}},\"type\":\"scatter3d\"}],\"scattercarpet\":[{\"marker\":{\"colorbar\":{\"outlinewidth\":0,\"ticks\":\"\"}},\"type\":\"scattercarpet\"}],\"scattergeo\":[{\"marker\":{\"colorbar\":{\"outlinewidth\":0,\"ticks\":\"\"}},\"type\":\"scattergeo\"}],\"scattergl\":[{\"marker\":{\"colorbar\":{\"outlinewidth\":0,\"ticks\":\"\"}},\"type\":\"scattergl\"}],\"scattermapbox\":[{\"marker\":{\"colorbar\":{\"outlinewidth\":0,\"ticks\":\"\"}},\"type\":\"scattermapbox\"}],\"scatterpolar\":[{\"marker\":{\"colorbar\":{\"outlinewidth\":0,\"ticks\":\"\"}},\"type\":\"scatterpolar\"}],\"scatterpolargl\":[{\"marker\":{\"colorbar\":{\"outlinewidth\":0,\"ticks\":\"\"}},\"type\":\"scatterpolargl\"}],\"scatterternary\":[{\"marker\":{\"colorbar\":{\"outlinewidth\":0,\"ticks\":\"\"}},\"type\":\"scatterternary\"}],\"surface\":[{\"colorbar\":{\"outlinewidth\":0,\"ticks\":\"\"},\"colorscale\":[[0.0,\"#0d0887\"],[0.1111111111111111,\"#46039f\"],[0.2222222222222222,\"#7201a8\"],[0.3333333333333333,\"#9c179e\"],[0.4444444444444444,\"#bd3786\"],[0.5555555555555556,\"#d8576b\"],[0.6666666666666666,\"#ed7953\"],[0.7777777777777778,\"#fb9f3a\"],[0.8888888888888888,\"#fdca26\"],[1.0,\"#f0f921\"]],\"type\":\"surface\"}],\"table\":[{\"cells\":{\"fill\":{\"color\":\"#EBF0F8\"},\"line\":{\"color\":\"white\"}},\"header\":{\"fill\":{\"color\":\"#C8D4E3\"},\"line\":{\"color\":\"white\"}},\"type\":\"table\"}]},\"layout\":{\"annotationdefaults\":{\"arrowcolor\":\"#2a3f5f\",\"arrowhead\":0,\"arrowwidth\":1},\"autotypenumbers\":\"strict\",\"coloraxis\":{\"colorbar\":{\"outlinewidth\":0,\"ticks\":\"\"}},\"colorscale\":{\"diverging\":[[0,\"#8e0152\"],[0.1,\"#c51b7d\"],[0.2,\"#de77ae\"],[0.3,\"#f1b6da\"],[0.4,\"#fde0ef\"],[0.5,\"#f7f7f7\"],[0.6,\"#e6f5d0\"],[0.7,\"#b8e186\"],[0.8,\"#7fbc41\"],[0.9,\"#4d9221\"],[1,\"#276419\"]],\"sequential\":[[0.0,\"#0d0887\"],[0.1111111111111111,\"#46039f\"],[0.2222222222222222,\"#7201a8\"],[0.3333333333333333,\"#9c179e\"],[0.4444444444444444,\"#bd3786\"],[0.5555555555555556,\"#d8576b\"],[0.6666666666666666,\"#ed7953\"],[0.7777777777777778,\"#fb9f3a\"],[0.8888888888888888,\"#fdca26\"],[1.0,\"#f0f921\"]],\"sequentialminus\":[[0.0,\"#0d0887\"],[0.1111111111111111,\"#46039f\"],[0.2222222222222222,\"#7201a8\"],[0.3333333333333333,\"#9c179e\"],[0.4444444444444444,\"#bd3786\"],[0.5555555555555556,\"#d8576b\"],[0.6666666666666666,\"#ed7953\"],[0.7777777777777778,\"#fb9f3a\"],[0.8888888888888888,\"#fdca26\"],[1.0,\"#f0f921\"]]},\"colorway\":[\"#636efa\",\"#EF553B\",\"#00cc96\",\"#ab63fa\",\"#FFA15A\",\"#19d3f3\",\"#FF6692\",\"#B6E880\",\"#FF97FF\",\"#FECB52\"],\"font\":{\"color\":\"#2a3f5f\"},\"geo\":{\"bgcolor\":\"white\",\"lakecolor\":\"white\",\"landcolor\":\"#E5ECF6\",\"showlakes\":true,\"showland\":true,\"subunitcolor\":\"white\"},\"hoverlabel\":{\"align\":\"left\"},\"hovermode\":\"closest\",\"mapbox\":{\"style\":\"light\"},\"paper_bgcolor\":\"white\",\"plot_bgcolor\":\"#E5ECF6\",\"polar\":{\"angularaxis\":{\"gridcolor\":\"white\",\"linecolor\":\"white\",\"ticks\":\"\"},\"bgcolor\":\"#E5ECF6\",\"radialaxis\":{\"gridcolor\":\"white\",\"linecolor\":\"white\",\"ticks\":\"\"}},\"scene\":{\"xaxis\":{\"backgroundcolor\":\"#E5ECF6\",\"gridcolor\":\"white\",\"gridwidth\":2,\"linecolor\":\"white\",\"showbackground\":true,\"ticks\":\"\",\"zerolinecolor\":\"white\"},\"yaxis\":{\"backgroundcolor\":\"#E5ECF6\",\"gridcolor\":\"white\",\"gridwidth\":2,\"linecolor\":\"white\",\"showbackground\":true,\"ticks\":\"\",\"zerolinecolor\":\"white\"},\"zaxis\":{\"backgroundcolor\":\"#E5ECF6\",\"gridcolor\":\"white\",\"gridwidth\":2,\"linecolor\":\"white\",\"showbackground\":true,\"ticks\":\"\",\"zerolinecolor\":\"white\"}},\"shapedefaults\":{\"line\":{\"color\":\"#2a3f5f\"}},\"ternary\":{\"aaxis\":{\"gridcolor\":\"white\",\"linecolor\":\"white\",\"ticks\":\"\"},\"baxis\":{\"gridcolor\":\"white\",\"linecolor\":\"white\",\"ticks\":\"\"},\"bgcolor\":\"#E5ECF6\",\"caxis\":{\"gridcolor\":\"white\",\"linecolor\":\"white\",\"ticks\":\"\"}},\"title\":{\"x\":0.05},\"xaxis\":{\"automargin\":true,\"gridcolor\":\"white\",\"linecolor\":\"white\",\"ticks\":\"\",\"title\":{\"standoff\":15},\"zerolinecolor\":\"white\",\"zerolinewidth\":2},\"yaxis\":{\"automargin\":true,\"gridcolor\":\"white\",\"linecolor\":\"white\",\"ticks\":\"\",\"title\":{\"standoff\":15},\"zerolinecolor\":\"white\",\"zerolinewidth\":2}}}},                        {\"responsive\": true}                    ).then(function(){\n",
       "                            \n",
       "var gd = document.getElementById('a29da8c2-3332-47bd-b7aa-a4eb9e5050c4');\n",
       "var x = new MutationObserver(function (mutations, observer) {{\n",
       "        var display = window.getComputedStyle(gd).display;\n",
       "        if (!display || display === 'none') {{\n",
       "            console.log([gd, 'removed!']);\n",
       "            Plotly.purge(gd);\n",
       "            observer.disconnect();\n",
       "        }}\n",
       "}});\n",
       "\n",
       "// Listen for the removal of the full notebook cells\n",
       "var notebookContainer = gd.closest('#notebook-container');\n",
       "if (notebookContainer) {{\n",
       "    x.observe(notebookContainer, {childList: true});\n",
       "}}\n",
       "\n",
       "// Listen for the clearing of the current output cell\n",
       "var outputEl = gd.closest('.output');\n",
       "if (outputEl) {{\n",
       "    x.observe(outputEl, {childList: true});\n",
       "}}\n",
       "\n",
       "                        })                };                });            </script>        </div>"
      ]
     },
     "metadata": {},
     "output_type": "display_data"
    }
   ],
   "source": [
    "\"\"\"\n",
    "Plotting the new C70 core and plotting the 3D scatter plot to see what it looks like\n",
    "\"\"\"\n",
    "df = pd.DataFrame(NPPositions, columns = ['X','Y','Z'])\n",
    "fig = px.scatter_3d(df, x='X', y='Y', z='Z')\n",
    "#fig = px.scatter_3d(dfCore, x='X', y='Y', z='Z')\n",
    "fig.show()"
   ]
  },
  {
   "cell_type": "code",
   "execution_count": 15,
   "metadata": {},
   "outputs": [
    {
     "data": {
      "image/png": "[encoded data removed]",
      "image/svg+xml": [
       "<?xml version='1.0' encoding='iso-8859-1'?>\n",
       "<svg version='1.1' baseProfile='full'\n",
       "              xmlns='http://www.w3.org/2000/svg'\n",
       "                      xmlns:rdkit='http://www.rdkit.org/xml'\n",
       "                      xmlns:xlink='http://www.w3.org/1999/xlink'\n",
       "                  xml:space='preserve'\n",
       "width='450px' height='150px' viewBox='0 0 450 150'>\n",
       "<!-- END OF HEADER -->\n",
       "<rect style='opacity:1.0;fill:#FFFFFF;stroke:none' width='450.0' height='150.0' x='0.0' y='0.0'> </rect>\n",
       "<path class='bond-0 atom-0 atom-1' d='M 303.2,63.4 L 299.3,82.5' style='fill:none;fill-rule:evenodd;stroke:#000000;stroke-width:2.0px;stroke-linecap:butt;stroke-linejoin:miter;stroke-opacity:1' />\n",
       "<path class='bond-1 atom-0 atom-7' d='M 303.2,63.4 L 294.1,40.9' style='fill:none;fill-rule:evenodd;stroke:#000000;stroke-width:2.0px;stroke-linecap:butt;stroke-linejoin:miter;stroke-opacity:1' />\n",
       "<path class='bond-1 atom-0 atom-7' d='M 296.4,62.2 L 290.0,46.5' style='fill:none;fill-rule:evenodd;stroke:#000000;stroke-width:2.0px;stroke-linecap:butt;stroke-linejoin:miter;stroke-opacity:1' />\n",
       "<path class='bond-2 atom-0 atom-9' d='M 303.2,63.4 L 300.0,67.6' style='fill:none;fill-rule:evenodd;stroke:#000000;stroke-width:2.0px;stroke-linecap:butt;stroke-linejoin:miter;stroke-opacity:1' />\n",
       "<path class='bond-3 atom-1 atom-2' d='M 299.3,82.5 L 292.4,107.0' style='fill:none;fill-rule:evenodd;stroke:#000000;stroke-width:2.0px;stroke-linecap:butt;stroke-linejoin:miter;stroke-opacity:1' />\n",
       "<path class='bond-4 atom-1 atom-3' d='M 299.3,82.5 L 288.7,71.8' style='fill:none;fill-rule:evenodd;stroke:#000000;stroke-width:2.0px;stroke-linecap:butt;stroke-linejoin:miter;stroke-opacity:1' />\n",
       "<path class='bond-4 atom-1 atom-3' d='M 300.2,78.4 L 292.8,71.0' style='fill:none;fill-rule:evenodd;stroke:#000000;stroke-width:2.0px;stroke-linecap:butt;stroke-linejoin:miter;stroke-opacity:1' />\n",
       "<path class='bond-5 atom-2 atom-12' d='M 292.4,107.0 L 287.9,112.2' style='fill:none;fill-rule:evenodd;stroke:#000000;stroke-width:2.0px;stroke-linecap:butt;stroke-linejoin:miter;stroke-opacity:1' />\n",
       "<path class='bond-5 atom-2 atom-12' d='M 289.0,105.5 L 285.9,109.1' style='fill:none;fill-rule:evenodd;stroke:#000000;stroke-width:2.0px;stroke-linecap:butt;stroke-linejoin:miter;stroke-opacity:1' />\n",
       "<path class='bond-6 atom-2 atom-14' d='M 292.4,107.0 L 273.9,120.8' style='fill:none;fill-rule:evenodd;stroke:#000000;stroke-width:2.0px;stroke-linecap:butt;stroke-linejoin:miter;stroke-opacity:1' />\n",
       "<path class='bond-7 atom-3 atom-4' d='M 288.7,71.8 L 270.9,85.4' style='fill:none;fill-rule:evenodd;stroke:#000000;stroke-width:2.0px;stroke-linecap:butt;stroke-linejoin:miter;stroke-opacity:1' />\n",
       "<path class='bond-8 atom-3 atom-5' d='M 288.7,71.8 L 285.4,46.1' style='fill:none;fill-rule:evenodd;stroke:#000000;stroke-width:2.0px;stroke-linecap:butt;stroke-linejoin:miter;stroke-opacity:1' />\n",
       "<path class='bond-9 atom-4 atom-16' d='M 270.9,85.4 L 263.0,110.9' style='fill:none;fill-rule:evenodd;stroke:#000000;stroke-width:2.0px;stroke-linecap:butt;stroke-linejoin:miter;stroke-opacity:1' />\n",
       "<path class='bond-9 atom-4 atom-16' d='M 264.1,87.5 L 258.6,105.3' style='fill:none;fill-rule:evenodd;stroke:#000000;stroke-width:2.0px;stroke-linecap:butt;stroke-linejoin:miter;stroke-opacity:1' />\n",
       "<path class='bond-10 atom-4 atom-18' d='M 270.9,85.4 L 248.9,74.2' style='fill:none;fill-rule:evenodd;stroke:#000000;stroke-width:2.0px;stroke-linecap:butt;stroke-linejoin:miter;stroke-opacity:1' />\n",
       "<path class='bond-11 atom-5 atom-6' d='M 285.4,46.1 L 264.4,33.4' style='fill:none;fill-rule:evenodd;stroke:#000000;stroke-width:2.0px;stroke-linecap:butt;stroke-linejoin:miter;stroke-opacity:1' />\n",
       "<path class='bond-11 atom-5 atom-6' d='M 279.2,49.2 L 264.5,40.3' style='fill:none;fill-rule:evenodd;stroke:#000000;stroke-width:2.0px;stroke-linecap:butt;stroke-linejoin:miter;stroke-opacity:1' />\n",
       "<path class='bond-12 atom-5 atom-7' d='M 285.4,46.1 L 294.1,40.9' style='fill:none;fill-rule:evenodd;stroke:#000000;stroke-width:2.0px;stroke-linecap:butt;stroke-linejoin:miter;stroke-opacity:1' />\n",
       "<path class='bond-13 atom-6 atom-20' d='M 264.4,33.4 L 245.1,48.4' style='fill:none;fill-rule:evenodd;stroke:#000000;stroke-width:2.0px;stroke-linecap:butt;stroke-linejoin:miter;stroke-opacity:1' />\n",
       "<path class='bond-14 atom-6 atom-22' d='M 264.4,33.4 L 250.6,16.2' style='fill:none;fill-rule:evenodd;stroke:#000000;stroke-width:2.0px;stroke-linecap:butt;stroke-linejoin:miter;stroke-opacity:1' />\n",
       "<path class='bond-15 atom-7 atom-8' d='M 294.1,40.9 L 281.9,22.4' style='fill:none;fill-rule:evenodd;stroke:#000000;stroke-width:2.0px;stroke-linecap:butt;stroke-linejoin:miter;stroke-opacity:1' />\n",
       "<path class='bond-16 atom-8 atom-24' d='M 281.9,22.4 L 258.8,9.9' style='fill:none;fill-rule:evenodd;stroke:#000000;stroke-width:2.0px;stroke-linecap:butt;stroke-linejoin:miter;stroke-opacity:1' />\n",
       "<path class='bond-16 atom-8 atom-24' d='M 275.7,25.7 L 259.5,16.9' style='fill:none;fill-rule:evenodd;stroke:#000000;stroke-width:2.0px;stroke-linecap:butt;stroke-linejoin:miter;stroke-opacity:1' />\n",
       "<path class='bond-17 atom-8 atom-26' d='M 281.9,22.4 L 276.6,25.9' style='fill:none;fill-rule:evenodd;stroke:#000000;stroke-width:2.0px;stroke-linecap:butt;stroke-linejoin:miter;stroke-opacity:1' />\n",
       "<path class='bond-18 atom-9 atom-10' d='M 300.0,67.6 L 291.2,92.9' style='fill:none;fill-rule:evenodd;stroke:#000000;stroke-width:2.0px;stroke-linecap:butt;stroke-linejoin:miter;stroke-opacity:1' />\n",
       "<path class='bond-18 atom-9 atom-10' d='M 293.2,69.5 L 287.0,87.2' style='fill:none;fill-rule:evenodd;stroke:#000000;stroke-width:2.0px;stroke-linecap:butt;stroke-linejoin:miter;stroke-opacity:1' />\n",
       "<path class='bond-19 atom-9 atom-28' d='M 300.0,67.6 L 285.3,49.7' style='fill:none;fill-rule:evenodd;stroke:#000000;stroke-width:2.0px;stroke-linecap:butt;stroke-linejoin:miter;stroke-opacity:1' />\n",
       "<path class='bond-20 atom-10 atom-11' d='M 291.2,92.9 L 273.6,89.4' style='fill:none;fill-rule:evenodd;stroke:#000000;stroke-width:2.0px;stroke-linecap:butt;stroke-linejoin:miter;stroke-opacity:1' />\n",
       "<path class='bond-21 atom-10 atom-12' d='M 291.2,92.9 L 287.9,112.2' style='fill:none;fill-rule:evenodd;stroke:#000000;stroke-width:2.0px;stroke-linecap:butt;stroke-linejoin:miter;stroke-opacity:1' />\n",
       "<path class='bond-22 atom-11 atom-29' d='M 273.6,89.4 L 269.5,63.4' style='fill:none;fill-rule:evenodd;stroke:#000000;stroke-width:2.0px;stroke-linecap:butt;stroke-linejoin:miter;stroke-opacity:1' />\n",
       "<path class='bond-23 atom-11 atom-67' d='M 273.6,89.4 L 252.6,108.2' style='fill:none;fill-rule:evenodd;stroke:#000000;stroke-width:2.0px;stroke-linecap:butt;stroke-linejoin:miter;stroke-opacity:1' />\n",
       "<path class='bond-23 atom-11 atom-67' d='M 266.6,87.9 L 251.8,101.0' style='fill:none;fill-rule:evenodd;stroke:#000000;stroke-width:2.0px;stroke-linecap:butt;stroke-linejoin:miter;stroke-opacity:1' />\n",
       "<path class='bond-24 atom-12 atom-13' d='M 287.9,112.2 L 267.7,128.7' style='fill:none;fill-rule:evenodd;stroke:#000000;stroke-width:2.0px;stroke-linecap:butt;stroke-linejoin:miter;stroke-opacity:1' />\n",
       "<path class='bond-25 atom-13 atom-15' d='M 267.7,128.7 L 259.1,133.9' style='fill:none;fill-rule:evenodd;stroke:#000000;stroke-width:2.0px;stroke-linecap:butt;stroke-linejoin:miter;stroke-opacity:1' />\n",
       "<path class='bond-26 atom-13 atom-66' d='M 267.7,128.7 L 249.3,128.0' style='fill:none;fill-rule:evenodd;stroke:#000000;stroke-width:2.0px;stroke-linecap:butt;stroke-linejoin:miter;stroke-opacity:1' />\n",
       "<path class='bond-26 atom-13 atom-66' d='M 264.8,132.1 L 252.0,131.6' style='fill:none;fill-rule:evenodd;stroke:#000000;stroke-width:2.0px;stroke-linecap:butt;stroke-linejoin:miter;stroke-opacity:1' />\n",
       "<path class='bond-27 atom-14 atom-15' d='M 273.9,120.8 L 259.1,133.9' style='fill:none;fill-rule:evenodd;stroke:#000000;stroke-width:2.0px;stroke-linecap:butt;stroke-linejoin:miter;stroke-opacity:1' />\n",
       "<path class='bond-27 atom-14 atom-15' d='M 274.0,125.4 L 263.6,134.6' style='fill:none;fill-rule:evenodd;stroke:#000000;stroke-width:2.0px;stroke-linecap:butt;stroke-linejoin:miter;stroke-opacity:1' />\n",
       "<path class='bond-28 atom-14 atom-16' d='M 273.9,120.8 L 263.0,110.9' style='fill:none;fill-rule:evenodd;stroke:#000000;stroke-width:2.0px;stroke-linecap:butt;stroke-linejoin:miter;stroke-opacity:1' />\n",
       "<path class='bond-29 atom-15 atom-65' d='M 259.1,133.9 L 231.3,139.1' style='fill:none;fill-rule:evenodd;stroke:#000000;stroke-width:2.0px;stroke-linecap:butt;stroke-linejoin:miter;stroke-opacity:1' />\n",
       "<path class='bond-30 atom-16 atom-17' d='M 263.0,110.9 L 237.4,113.5' style='fill:none;fill-rule:evenodd;stroke:#000000;stroke-width:2.0px;stroke-linecap:butt;stroke-linejoin:miter;stroke-opacity:1' />\n",
       "<path class='bond-31 atom-17 atom-19' d='M 237.4,113.5 L 228.7,91.0' style='fill:none;fill-rule:evenodd;stroke:#000000;stroke-width:2.0px;stroke-linecap:butt;stroke-linejoin:miter;stroke-opacity:1' />\n",
       "<path class='bond-32 atom-17 atom-64' d='M 237.4,113.5 L 220.3,128.9' style='fill:none;fill-rule:evenodd;stroke:#000000;stroke-width:2.0px;stroke-linecap:butt;stroke-linejoin:miter;stroke-opacity:1' />\n",
       "<path class='bond-32 atom-17 atom-64' d='M 232.5,113.2 L 220.5,124.0' style='fill:none;fill-rule:evenodd;stroke:#000000;stroke-width:2.0px;stroke-linecap:butt;stroke-linejoin:miter;stroke-opacity:1' />\n",
       "<path class='bond-33 atom-18 atom-19' d='M 248.9,74.2 L 228.7,91.0' style='fill:none;fill-rule:evenodd;stroke:#000000;stroke-width:2.0px;stroke-linecap:butt;stroke-linejoin:miter;stroke-opacity:1' />\n",
       "<path class='bond-34 atom-18 atom-20' d='M 248.9,74.2 L 245.1,48.4' style='fill:none;fill-rule:evenodd;stroke:#000000;stroke-width:2.0px;stroke-linecap:butt;stroke-linejoin:miter;stroke-opacity:1' />\n",
       "<path class='bond-34 atom-18 atom-20' d='M 242.6,71.2 L 239.9,53.2' style='fill:none;fill-rule:evenodd;stroke:#000000;stroke-width:2.0px;stroke-linecap:butt;stroke-linejoin:miter;stroke-opacity:1' />\n",
       "<path class='bond-35 atom-19 atom-63' d='M 228.7,91.0 L 202.0,81.8' style='fill:none;fill-rule:evenodd;stroke:#000000;stroke-width:2.0px;stroke-linecap:butt;stroke-linejoin:miter;stroke-opacity:1' />\n",
       "<path class='bond-35 atom-19 atom-63' d='M 222.8,95.2 L 204.1,88.7' style='fill:none;fill-rule:evenodd;stroke:#000000;stroke-width:2.0px;stroke-linecap:butt;stroke-linejoin:miter;stroke-opacity:1' />\n",
       "<path class='bond-36 atom-20 atom-21' d='M 245.1,48.4 L 221.5,39.0' style='fill:none;fill-rule:evenodd;stroke:#000000;stroke-width:2.0px;stroke-linecap:butt;stroke-linejoin:miter;stroke-opacity:1' />\n",
       "<path class='bond-37 atom-21 atom-23' d='M 221.5,39.0 L 224.8,19.4' style='fill:none;fill-rule:evenodd;stroke:#000000;stroke-width:2.0px;stroke-linecap:butt;stroke-linejoin:miter;stroke-opacity:1' />\n",
       "<path class='bond-38 atom-21 atom-62' d='M 221.5,39.0 L 198.3,55.7' style='fill:none;fill-rule:evenodd;stroke:#000000;stroke-width:2.0px;stroke-linecap:butt;stroke-linejoin:miter;stroke-opacity:1' />\n",
       "<path class='bond-38 atom-21 atom-62' d='M 214.6,36.8 L 198.3,48.4' style='fill:none;fill-rule:evenodd;stroke:#000000;stroke-width:2.0px;stroke-linecap:butt;stroke-linejoin:miter;stroke-opacity:1' />\n",
       "<path class='bond-39 atom-22 atom-23' d='M 250.6,16.2 L 224.8,19.4' style='fill:none;fill-rule:evenodd;stroke:#000000;stroke-width:2.0px;stroke-linecap:butt;stroke-linejoin:miter;stroke-opacity:1' />\n",
       "<path class='bond-39 atom-22 atom-23' d='M 247.4,22.5 L 229.4,24.7' style='fill:none;fill-rule:evenodd;stroke:#000000;stroke-width:2.0px;stroke-linecap:butt;stroke-linejoin:miter;stroke-opacity:1' />\n",
       "<path class='bond-40 atom-22 atom-24' d='M 250.6,16.2 L 258.8,9.9' style='fill:none;fill-rule:evenodd;stroke:#000000;stroke-width:2.0px;stroke-linecap:butt;stroke-linejoin:miter;stroke-opacity:1' />\n",
       "<path class='bond-41 atom-23 atom-69' d='M 224.8,19.4 L 205.0,14.3' style='fill:none;fill-rule:evenodd;stroke:#000000;stroke-width:2.0px;stroke-linecap:butt;stroke-linejoin:miter;stroke-opacity:1' />\n",
       "<path class='bond-42 atom-24 atom-25' d='M 258.8,9.9 L 241.8,6.8' style='fill:none;fill-rule:evenodd;stroke:#000000;stroke-width:2.0px;stroke-linecap:butt;stroke-linejoin:miter;stroke-opacity:1' />\n",
       "<path class='bond-43 atom-25 atom-27' d='M 241.8,6.8 L 252.6,16.8' style='fill:none;fill-rule:evenodd;stroke:#000000;stroke-width:2.0px;stroke-linecap:butt;stroke-linejoin:miter;stroke-opacity:1' />\n",
       "<path class='bond-44 atom-25 atom-68' d='M 241.8,6.8 L 213.5,8.0' style='fill:none;fill-rule:evenodd;stroke:#000000;stroke-width:2.0px;stroke-linecap:butt;stroke-linejoin:miter;stroke-opacity:1' />\n",
       "<path class='bond-44 atom-25 atom-68' d='M 237.8,12.8 L 218.0,13.7' style='fill:none;fill-rule:evenodd;stroke:#000000;stroke-width:2.0px;stroke-linecap:butt;stroke-linejoin:miter;stroke-opacity:1' />\n",
       "<path class='bond-45 atom-26 atom-27' d='M 276.6,25.9 L 252.6,16.8' style='fill:none;fill-rule:evenodd;stroke:#000000;stroke-width:2.0px;stroke-linecap:butt;stroke-linejoin:miter;stroke-opacity:1' />\n",
       "<path class='bond-46 atom-26 atom-28' d='M 276.6,25.9 L 285.3,49.7' style='fill:none;fill-rule:evenodd;stroke:#000000;stroke-width:2.0px;stroke-linecap:butt;stroke-linejoin:miter;stroke-opacity:1' />\n",
       "<path class='bond-46 atom-26 atom-28' d='M 272.4,31.5 L 278.5,48.1' style='fill:none;fill-rule:evenodd;stroke:#000000;stroke-width:2.0px;stroke-linecap:butt;stroke-linejoin:miter;stroke-opacity:1' />\n",
       "<path class='bond-47 atom-27 atom-30' d='M 252.6,16.8 L 236.2,29.3' style='fill:none;fill-rule:evenodd;stroke:#000000;stroke-width:2.0px;stroke-linecap:butt;stroke-linejoin:miter;stroke-opacity:1' />\n",
       "<path class='bond-47 atom-27 atom-30' d='M 248.1,15.9 L 236.6,24.6' style='fill:none;fill-rule:evenodd;stroke:#000000;stroke-width:2.0px;stroke-linecap:butt;stroke-linejoin:miter;stroke-opacity:1' />\n",
       "<path class='bond-48 atom-28 atom-29' d='M 285.3,49.7 L 269.5,63.4' style='fill:none;fill-rule:evenodd;stroke:#000000;stroke-width:2.0px;stroke-linecap:butt;stroke-linejoin:miter;stroke-opacity:1' />\n",
       "<path class='bond-49 atom-29 atom-31' d='M 269.5,63.4 L 246.1,53.9' style='fill:none;fill-rule:evenodd;stroke:#000000;stroke-width:2.0px;stroke-linecap:butt;stroke-linejoin:miter;stroke-opacity:1' />\n",
       "<path class='bond-49 atom-29 atom-31' d='M 263.8,67.4 L 247.4,60.8' style='fill:none;fill-rule:evenodd;stroke:#000000;stroke-width:2.0px;stroke-linecap:butt;stroke-linejoin:miter;stroke-opacity:1' />\n",
       "<path class='bond-50 atom-30 atom-31' d='M 236.2,29.3 L 246.1,53.9' style='fill:none;fill-rule:evenodd;stroke:#000000;stroke-width:2.0px;stroke-linecap:butt;stroke-linejoin:miter;stroke-opacity:1' />\n",
       "<path class='bond-51 atom-30 atom-61' d='M 236.2,29.3 L 207.9,25.4' style='fill:none;fill-rule:evenodd;stroke:#000000;stroke-width:2.0px;stroke-linecap:butt;stroke-linejoin:miter;stroke-opacity:1' />\n",
       "<path class='bond-52 atom-31 atom-59' d='M 246.1,53.9 L 226.8,72.6' style='fill:none;fill-rule:evenodd;stroke:#000000;stroke-width:2.0px;stroke-linecap:butt;stroke-linejoin:miter;stroke-opacity:1' />\n",
       "<path class='bond-53 atom-32 atom-33' d='M 154.8,67.5 L 146.8,74.2' style='fill:none;fill-rule:evenodd;stroke:#000000;stroke-width:2.0px;stroke-linecap:butt;stroke-linejoin:miter;stroke-opacity:1' />\n",
       "<path class='bond-53 atom-32 atom-33' d='M 155.8,71.3 L 150.2,75.9' style='fill:none;fill-rule:evenodd;stroke:#000000;stroke-width:2.0px;stroke-linecap:butt;stroke-linejoin:miter;stroke-opacity:1' />\n",
       "<path class='bond-54 atom-32 atom-39' d='M 154.8,67.5 L 164.3,89.7' style='fill:none;fill-rule:evenodd;stroke:#000000;stroke-width:2.0px;stroke-linecap:butt;stroke-linejoin:miter;stroke-opacity:1' />\n",
       "<path class='bond-55 atom-32 atom-41' d='M 154.8,67.5 L 166.4,44.3' style='fill:none;fill-rule:evenodd;stroke:#000000;stroke-width:2.0px;stroke-linecap:butt;stroke-linejoin:miter;stroke-opacity:1' />\n",
       "<path class='bond-56 atom-33 atom-34' d='M 146.8,74.2 L 149.9,57.4' style='fill:none;fill-rule:evenodd;stroke:#000000;stroke-width:2.0px;stroke-linecap:butt;stroke-linejoin:miter;stroke-opacity:1' />\n",
       "<path class='bond-57 atom-33 atom-35' d='M 146.8,74.2 L 150.4,100.1' style='fill:none;fill-rule:evenodd;stroke:#000000;stroke-width:2.0px;stroke-linecap:butt;stroke-linejoin:miter;stroke-opacity:1' />\n",
       "<path class='bond-58 atom-34 atom-44' d='M 149.9,57.4 L 163.1,32.7' style='fill:none;fill-rule:evenodd;stroke:#000000;stroke-width:2.0px;stroke-linecap:butt;stroke-linejoin:miter;stroke-opacity:1' />\n",
       "<path class='bond-58 atom-34 atom-44' d='M 157.0,56.4 L 166.3,39.2' style='fill:none;fill-rule:evenodd;stroke:#000000;stroke-width:2.0px;stroke-linecap:butt;stroke-linejoin:miter;stroke-opacity:1' />\n",
       "<path class='bond-59 atom-34 atom-46' d='M 149.9,57.4 L 157.9,65.7' style='fill:none;fill-rule:evenodd;stroke:#000000;stroke-width:2.0px;stroke-linecap:butt;stroke-linejoin:miter;stroke-opacity:1' />\n",
       "<path class='bond-60 atom-35 atom-36' d='M 150.4,100.1 L 157.3,109.8' style='fill:none;fill-rule:evenodd;stroke:#000000;stroke-width:2.0px;stroke-linecap:butt;stroke-linejoin:miter;stroke-opacity:1' />\n",
       "<path class='bond-60 atom-35 atom-36' d='M 154.3,99.5 L 159.1,106.3' style='fill:none;fill-rule:evenodd;stroke:#000000;stroke-width:2.0px;stroke-linecap:butt;stroke-linejoin:miter;stroke-opacity:1' />\n",
       "<path class='bond-61 atom-35 atom-37' d='M 150.4,100.1 L 161.2,109.7' style='fill:none;fill-rule:evenodd;stroke:#000000;stroke-width:2.0px;stroke-linecap:butt;stroke-linejoin:miter;stroke-opacity:1' />\n",
       "<path class='bond-62 atom-36 atom-48' d='M 157.3,109.8 L 161.6,91.3' style='fill:none;fill-rule:evenodd;stroke:#000000;stroke-width:2.0px;stroke-linecap:butt;stroke-linejoin:miter;stroke-opacity:1' />\n",
       "<path class='bond-63 atom-36 atom-50' d='M 157.3,109.8 L 175.8,128.4' style='fill:none;fill-rule:evenodd;stroke:#000000;stroke-width:2.0px;stroke-linecap:butt;stroke-linejoin:miter;stroke-opacity:1' />\n",
       "<path class='bond-64 atom-37 atom-38' d='M 161.2,109.7 L 178.9,129.4' style='fill:none;fill-rule:evenodd;stroke:#000000;stroke-width:2.0px;stroke-linecap:butt;stroke-linejoin:miter;stroke-opacity:1' />\n",
       "<path class='bond-65 atom-37 atom-39' d='M 161.2,109.7 L 164.3,89.7' style='fill:none;fill-rule:evenodd;stroke:#000000;stroke-width:2.0px;stroke-linecap:butt;stroke-linejoin:miter;stroke-opacity:1' />\n",
       "<path class='bond-65 atom-37 atom-39' d='M 158.2,106.2 L 160.3,92.2' style='fill:none;fill-rule:evenodd;stroke:#000000;stroke-width:2.0px;stroke-linecap:butt;stroke-linejoin:miter;stroke-opacity:1' />\n",
       "<path class='bond-66 atom-38 atom-52' d='M 178.9,129.4 L 186.7,138.6' style='fill:none;fill-rule:evenodd;stroke:#000000;stroke-width:2.0px;stroke-linecap:butt;stroke-linejoin:miter;stroke-opacity:1' />\n",
       "<path class='bond-66 atom-38 atom-52' d='M 182.8,128.6 L 188.2,135.0' style='fill:none;fill-rule:evenodd;stroke:#000000;stroke-width:2.0px;stroke-linecap:butt;stroke-linejoin:miter;stroke-opacity:1' />\n",
       "<path class='bond-67 atom-38 atom-54' d='M 178.9,129.4 L 200.7,129.4' style='fill:none;fill-rule:evenodd;stroke:#000000;stroke-width:2.0px;stroke-linecap:butt;stroke-linejoin:miter;stroke-opacity:1' />\n",
       "<path class='bond-68 atom-39 atom-40' d='M 164.3,89.7 L 185.3,89.3' style='fill:none;fill-rule:evenodd;stroke:#000000;stroke-width:2.0px;stroke-linecap:butt;stroke-linejoin:miter;stroke-opacity:1' />\n",
       "<path class='bond-69 atom-40 atom-56' d='M 185.3,89.3 L 204.3,110.1' style='fill:none;fill-rule:evenodd;stroke:#000000;stroke-width:2.0px;stroke-linecap:butt;stroke-linejoin:miter;stroke-opacity:1' />\n",
       "<path class='bond-69 atom-40 atom-56' d='M 192.5,88.4 L 205.8,103.0' style='fill:none;fill-rule:evenodd;stroke:#000000;stroke-width:2.0px;stroke-linecap:butt;stroke-linejoin:miter;stroke-opacity:1' />\n",
       "<path class='bond-70 atom-40 atom-58' d='M 185.3,89.3 L 198.9,67.2' style='fill:none;fill-rule:evenodd;stroke:#000000;stroke-width:2.0px;stroke-linecap:butt;stroke-linejoin:miter;stroke-opacity:1' />\n",
       "<path class='bond-71 atom-41 atom-42' d='M 166.4,44.3 L 171.2,26.5' style='fill:none;fill-rule:evenodd;stroke:#000000;stroke-width:2.0px;stroke-linecap:butt;stroke-linejoin:miter;stroke-opacity:1' />\n",
       "<path class='bond-71 atom-41 atom-42' d='M 170.5,42.5 L 173.9,30.1' style='fill:none;fill-rule:evenodd;stroke:#000000;stroke-width:2.0px;stroke-linecap:butt;stroke-linejoin:miter;stroke-opacity:1' />\n",
       "<path class='bond-72 atom-41 atom-60' d='M 166.4,44.3 L 189.6,43.2' style='fill:none;fill-rule:evenodd;stroke:#000000;stroke-width:2.0px;stroke-linecap:butt;stroke-linejoin:miter;stroke-opacity:1' />\n",
       "<path class='bond-73 atom-42 atom-43' d='M 171.2,26.5 L 197.0,15.1' style='fill:none;fill-rule:evenodd;stroke:#000000;stroke-width:2.0px;stroke-linecap:butt;stroke-linejoin:miter;stroke-opacity:1' />\n",
       "<path class='bond-74 atom-42 atom-44' d='M 171.2,26.5 L 163.1,32.7' style='fill:none;fill-rule:evenodd;stroke:#000000;stroke-width:2.0px;stroke-linecap:butt;stroke-linejoin:miter;stroke-opacity:1' />\n",
       "<path class='bond-75 atom-43 atom-61' d='M 197.0,15.1 L 207.9,25.4' style='fill:none;fill-rule:evenodd;stroke:#000000;stroke-width:2.0px;stroke-linecap:butt;stroke-linejoin:miter;stroke-opacity:1' />\n",
       "<path class='bond-75 atom-43 atom-61' d='M 196.2,19.2 L 203.9,26.4' style='fill:none;fill-rule:evenodd;stroke:#000000;stroke-width:2.0px;stroke-linecap:butt;stroke-linejoin:miter;stroke-opacity:1' />\n",
       "<path class='bond-76 atom-43 atom-68' d='M 197.0,15.1 L 213.5,8.0' style='fill:none;fill-rule:evenodd;stroke:#000000;stroke-width:2.0px;stroke-linecap:butt;stroke-linejoin:miter;stroke-opacity:1' />\n",
       "<path class='bond-77 atom-44 atom-45' d='M 163.1,32.7 L 179.8,27.5' style='fill:none;fill-rule:evenodd;stroke:#000000;stroke-width:2.0px;stroke-linecap:butt;stroke-linejoin:miter;stroke-opacity:1' />\n",
       "<path class='bond-78 atom-45 atom-47' d='M 179.8,27.5 L 176.5,47.3' style='fill:none;fill-rule:evenodd;stroke:#000000;stroke-width:2.0px;stroke-linecap:butt;stroke-linejoin:miter;stroke-opacity:1' />\n",
       "<path class='bond-79 atom-45 atom-69' d='M 179.8,27.5 L 205.0,14.3' style='fill:none;fill-rule:evenodd;stroke:#000000;stroke-width:2.0px;stroke-linecap:butt;stroke-linejoin:miter;stroke-opacity:1' />\n",
       "<path class='bond-79 atom-45 atom-69' d='M 180.9,20.3 L 198.5,11.1' style='fill:none;fill-rule:evenodd;stroke:#000000;stroke-width:2.0px;stroke-linecap:butt;stroke-linejoin:miter;stroke-opacity:1' />\n",
       "<path class='bond-80 atom-46 atom-47' d='M 157.9,65.7 L 176.5,47.3' style='fill:none;fill-rule:evenodd;stroke:#000000;stroke-width:2.0px;stroke-linecap:butt;stroke-linejoin:miter;stroke-opacity:1' />\n",
       "<path class='bond-80 atom-46 atom-47' d='M 156.6,58.8 L 169.6,45.9' style='fill:none;fill-rule:evenodd;stroke:#000000;stroke-width:2.0px;stroke-linecap:butt;stroke-linejoin:miter;stroke-opacity:1' />\n",
       "<path class='bond-81 atom-46 atom-48' d='M 157.9,65.7 L 161.6,91.3' style='fill:none;fill-rule:evenodd;stroke:#000000;stroke-width:2.0px;stroke-linecap:butt;stroke-linejoin:miter;stroke-opacity:1' />\n",
       "<path class='bond-82 atom-47 atom-62' d='M 176.5,47.3 L 198.3,55.7' style='fill:none;fill-rule:evenodd;stroke:#000000;stroke-width:2.0px;stroke-linecap:butt;stroke-linejoin:miter;stroke-opacity:1' />\n",
       "<path class='bond-83 atom-48 atom-49' d='M 161.6,91.3 L 184.1,100.1' style='fill:none;fill-rule:evenodd;stroke:#000000;stroke-width:2.0px;stroke-linecap:butt;stroke-linejoin:miter;stroke-opacity:1' />\n",
       "<path class='bond-83 atom-48 atom-49' d='M 162.8,98.1 L 178.6,104.2' style='fill:none;fill-rule:evenodd;stroke:#000000;stroke-width:2.0px;stroke-linecap:butt;stroke-linejoin:miter;stroke-opacity:1' />\n",
       "<path class='bond-84 atom-49 atom-51' d='M 184.1,100.1 L 192.4,122.6' style='fill:none;fill-rule:evenodd;stroke:#000000;stroke-width:2.0px;stroke-linecap:butt;stroke-linejoin:miter;stroke-opacity:1' />\n",
       "<path class='bond-85 atom-49 atom-63' d='M 184.1,100.1 L 202.0,81.8' style='fill:none;fill-rule:evenodd;stroke:#000000;stroke-width:2.0px;stroke-linecap:butt;stroke-linejoin:miter;stroke-opacity:1' />\n",
       "<path class='bond-86 atom-50 atom-51' d='M 175.8,128.4 L 192.4,122.6' style='fill:none;fill-rule:evenodd;stroke:#000000;stroke-width:2.0px;stroke-linecap:butt;stroke-linejoin:miter;stroke-opacity:1' />\n",
       "<path class='bond-86 atom-50 atom-51' d='M 177.1,124.2 L 188.8,120.1' style='fill:none;fill-rule:evenodd;stroke:#000000;stroke-width:2.0px;stroke-linecap:butt;stroke-linejoin:miter;stroke-opacity:1' />\n",
       "<path class='bond-87 atom-50 atom-52' d='M 175.8,128.4 L 186.7,138.6' style='fill:none;fill-rule:evenodd;stroke:#000000;stroke-width:2.0px;stroke-linecap:butt;stroke-linejoin:miter;stroke-opacity:1' />\n",
       "<path class='bond-88 atom-51 atom-64' d='M 192.4,122.6 L 220.3,128.9' style='fill:none;fill-rule:evenodd;stroke:#000000;stroke-width:2.0px;stroke-linecap:butt;stroke-linejoin:miter;stroke-opacity:1' />\n",
       "<path class='bond-89 atom-52 atom-53' d='M 186.7,138.6 L 214.5,143.2' style='fill:none;fill-rule:evenodd;stroke:#000000;stroke-width:2.0px;stroke-linecap:butt;stroke-linejoin:miter;stroke-opacity:1' />\n",
       "<path class='bond-90 atom-53 atom-55' d='M 214.5,143.2 L 223.0,138.2' style='fill:none;fill-rule:evenodd;stroke:#000000;stroke-width:2.0px;stroke-linecap:butt;stroke-linejoin:miter;stroke-opacity:1' />\n",
       "<path class='bond-91 atom-53 atom-65' d='M 214.5,143.2 L 231.3,139.1' style='fill:none;fill-rule:evenodd;stroke:#000000;stroke-width:2.0px;stroke-linecap:butt;stroke-linejoin:miter;stroke-opacity:1' />\n",
       "<path class='bond-91 atom-53 atom-65' d='M 216.2,139.2 L 227.9,136.3' style='fill:none;fill-rule:evenodd;stroke:#000000;stroke-width:2.0px;stroke-linecap:butt;stroke-linejoin:miter;stroke-opacity:1' />\n",
       "<path class='bond-92 atom-54 atom-55' d='M 200.7,129.4 L 223.0,138.2' style='fill:none;fill-rule:evenodd;stroke:#000000;stroke-width:2.0px;stroke-linecap:butt;stroke-linejoin:miter;stroke-opacity:1' />\n",
       "<path class='bond-92 atom-54 atom-55' d='M 201.9,136.1 L 217.5,142.3' style='fill:none;fill-rule:evenodd;stroke:#000000;stroke-width:2.0px;stroke-linecap:butt;stroke-linejoin:miter;stroke-opacity:1' />\n",
       "<path class='bond-93 atom-54 atom-56' d='M 200.7,129.4 L 204.3,110.1' style='fill:none;fill-rule:evenodd;stroke:#000000;stroke-width:2.0px;stroke-linecap:butt;stroke-linejoin:miter;stroke-opacity:1' />\n",
       "<path class='bond-94 atom-55 atom-66' d='M 223.0,138.2 L 249.3,128.0' style='fill:none;fill-rule:evenodd;stroke:#000000;stroke-width:2.0px;stroke-linecap:butt;stroke-linejoin:miter;stroke-opacity:1' />\n",
       "<path class='bond-95 atom-56 atom-57' d='M 204.3,110.1 L 229.8,98.3' style='fill:none;fill-rule:evenodd;stroke:#000000;stroke-width:2.0px;stroke-linecap:butt;stroke-linejoin:miter;stroke-opacity:1' />\n",
       "<path class='bond-96 atom-57 atom-59' d='M 229.8,98.3 L 226.8,72.6' style='fill:none;fill-rule:evenodd;stroke:#000000;stroke-width:2.0px;stroke-linecap:butt;stroke-linejoin:miter;stroke-opacity:1' />\n",
       "<path class='bond-96 atom-57 atom-59' d='M 223.5,95.1 L 221.4,77.1' style='fill:none;fill-rule:evenodd;stroke:#000000;stroke-width:2.0px;stroke-linecap:butt;stroke-linejoin:miter;stroke-opacity:1' />\n",
       "<path class='bond-97 atom-57 atom-67' d='M 229.8,98.3 L 252.6,108.2' style='fill:none;fill-rule:evenodd;stroke:#000000;stroke-width:2.0px;stroke-linecap:butt;stroke-linejoin:miter;stroke-opacity:1' />\n",
       "<path class='bond-98 atom-58 atom-59' d='M 198.9,67.2 L 226.8,72.6' style='fill:none;fill-rule:evenodd;stroke:#000000;stroke-width:2.0px;stroke-linecap:butt;stroke-linejoin:miter;stroke-opacity:1' />\n",
       "<path class='bond-99 atom-58 atom-60' d='M 198.9,67.2 L 189.6,43.2' style='fill:none;fill-rule:evenodd;stroke:#000000;stroke-width:2.0px;stroke-linecap:butt;stroke-linejoin:miter;stroke-opacity:1' />\n",
       "<path class='bond-99 atom-58 atom-60' d='M 192.0,65.7 L 185.6,48.9' style='fill:none;fill-rule:evenodd;stroke:#000000;stroke-width:2.0px;stroke-linecap:butt;stroke-linejoin:miter;stroke-opacity:1' />\n",
       "<path class='bond-100 atom-60 atom-61' d='M 189.6,43.2 L 207.9,25.4' style='fill:none;fill-rule:evenodd;stroke:#000000;stroke-width:2.0px;stroke-linecap:butt;stroke-linejoin:miter;stroke-opacity:1' />\n",
       "<path class='bond-101 atom-62 atom-63' d='M 198.3,55.7 L 202.0,81.8' style='fill:none;fill-rule:evenodd;stroke:#000000;stroke-width:2.0px;stroke-linecap:butt;stroke-linejoin:miter;stroke-opacity:1' />\n",
       "<path class='bond-102 atom-64 atom-65' d='M 220.3,128.9 L 231.3,139.1' style='fill:none;fill-rule:evenodd;stroke:#000000;stroke-width:2.0px;stroke-linecap:butt;stroke-linejoin:miter;stroke-opacity:1' />\n",
       "<path class='bond-103 atom-66 atom-67' d='M 249.3,128.0 L 252.6,108.2' style='fill:none;fill-rule:evenodd;stroke:#000000;stroke-width:2.0px;stroke-linecap:butt;stroke-linejoin:miter;stroke-opacity:1' />\n",
       "<path class='bond-104 atom-68 atom-69' d='M 213.5,8.0 L 205.0,14.3' style='fill:none;fill-rule:evenodd;stroke:#000000;stroke-width:2.0px;stroke-linecap:butt;stroke-linejoin:miter;stroke-opacity:1' />\n",
       "<path d='M 248.6,18.1 L 248.6,14.2 L 252.5,14.2 L 252.5,18.1 L 248.6,18.1' style='fill:none;stroke:#FF0000;stroke-width:2.0px;stroke-linecap:butt;stroke-linejoin:miter;stroke-opacity:1;' />\n",
       "</svg>\n"
      ],
      "text/html": [
       "<?xml version='1.0' encoding='iso-8859-1'?>\n",
       "<svg version='1.1' baseProfile='full'\n",
       "              xmlns='http://www.w3.org/2000/svg'\n",
       "                      xmlns:rdkit='http://www.rdkit.org/xml'\n",
       "                      xmlns:xlink='http://www.w3.org/1999/xlink'\n",
       "                  xml:space='preserve'\n",
       "width='450px' height='150px' viewBox='0 0 450 150'>\n",
       "<!-- END OF HEADER -->\n",
       "<rect style='opacity:1.0;fill:#FFFFFF;stroke:none' width='450.0' height='150.0' x='0.0' y='0.0'> </rect>\n",
       "<path class='bond-0 atom-0 atom-1' d='M 303.2,63.4 L 299.3,82.5' style='fill:none;fill-rule:evenodd;stroke:#000000;stroke-width:2.0px;stroke-linecap:butt;stroke-linejoin:miter;stroke-opacity:1' />\n",
       "<path class='bond-1 atom-0 atom-7' d='M 303.2,63.4 L 294.1,40.9' style='fill:none;fill-rule:evenodd;stroke:#000000;stroke-width:2.0px;stroke-linecap:butt;stroke-linejoin:miter;stroke-opacity:1' />\n",
       "<path class='bond-1 atom-0 atom-7' d='M 296.4,62.2 L 290.0,46.5' style='fill:none;fill-rule:evenodd;stroke:#000000;stroke-width:2.0px;stroke-linecap:butt;stroke-linejoin:miter;stroke-opacity:1' />\n",
       "<path class='bond-2 atom-0 atom-9' d='M 303.2,63.4 L 300.0,67.6' style='fill:none;fill-rule:evenodd;stroke:#000000;stroke-width:2.0px;stroke-linecap:butt;stroke-linejoin:miter;stroke-opacity:1' />\n",
       "<path class='bond-3 atom-1 atom-2' d='M 299.3,82.5 L 292.4,107.0' style='fill:none;fill-rule:evenodd;stroke:#000000;stroke-width:2.0px;stroke-linecap:butt;stroke-linejoin:miter;stroke-opacity:1' />\n",
       "<path class='bond-4 atom-1 atom-3' d='M 299.3,82.5 L 288.7,71.8' style='fill:none;fill-rule:evenodd;stroke:#000000;stroke-width:2.0px;stroke-linecap:butt;stroke-linejoin:miter;stroke-opacity:1' />\n",
       "<path class='bond-4 atom-1 atom-3' d='M 300.2,78.4 L 292.8,71.0' style='fill:none;fill-rule:evenodd;stroke:#000000;stroke-width:2.0px;stroke-linecap:butt;stroke-linejoin:miter;stroke-opacity:1' />\n",
       "<path class='bond-5 atom-2 atom-12' d='M 292.4,107.0 L 287.9,112.2' style='fill:none;fill-rule:evenodd;stroke:#000000;stroke-width:2.0px;stroke-linecap:butt;stroke-linejoin:miter;stroke-opacity:1' />\n",
       "<path class='bond-5 atom-2 atom-12' d='M 289.0,105.5 L 285.9,109.1' style='fill:none;fill-rule:evenodd;stroke:#000000;stroke-width:2.0px;stroke-linecap:butt;stroke-linejoin:miter;stroke-opacity:1' />\n",
       "<path class='bond-6 atom-2 atom-14' d='M 292.4,107.0 L 273.9,120.8' style='fill:none;fill-rule:evenodd;stroke:#000000;stroke-width:2.0px;stroke-linecap:butt;stroke-linejoin:miter;stroke-opacity:1' />\n",
       "<path class='bond-7 atom-3 atom-4' d='M 288.7,71.8 L 270.9,85.4' style='fill:none;fill-rule:evenodd;stroke:#000000;stroke-width:2.0px;stroke-linecap:butt;stroke-linejoin:miter;stroke-opacity:1' />\n",
       "<path class='bond-8 atom-3 atom-5' d='M 288.7,71.8 L 285.4,46.1' style='fill:none;fill-rule:evenodd;stroke:#000000;stroke-width:2.0px;stroke-linecap:butt;stroke-linejoin:miter;stroke-opacity:1' />\n",
       "<path class='bond-9 atom-4 atom-16' d='M 270.9,85.4 L 263.0,110.9' style='fill:none;fill-rule:evenodd;stroke:#000000;stroke-width:2.0px;stroke-linecap:butt;stroke-linejoin:miter;stroke-opacity:1' />\n",
       "<path class='bond-9 atom-4 atom-16' d='M 264.1,87.5 L 258.6,105.3' style='fill:none;fill-rule:evenodd;stroke:#000000;stroke-width:2.0px;stroke-linecap:butt;stroke-linejoin:miter;stroke-opacity:1' />\n",
       "<path class='bond-10 atom-4 atom-18' d='M 270.9,85.4 L 248.9,74.2' style='fill:none;fill-rule:evenodd;stroke:#000000;stroke-width:2.0px;stroke-linecap:butt;stroke-linejoin:miter;stroke-opacity:1' />\n",
       "<path class='bond-11 atom-5 atom-6' d='M 285.4,46.1 L 264.4,33.4' style='fill:none;fill-rule:evenodd;stroke:#000000;stroke-width:2.0px;stroke-linecap:butt;stroke-linejoin:miter;stroke-opacity:1' />\n",
       "<path class='bond-11 atom-5 atom-6' d='M 279.2,49.2 L 264.5,40.3' style='fill:none;fill-rule:evenodd;stroke:#000000;stroke-width:2.0px;stroke-linecap:butt;stroke-linejoin:miter;stroke-opacity:1' />\n",
       "<path class='bond-12 atom-5 atom-7' d='M 285.4,46.1 L 294.1,40.9' style='fill:none;fill-rule:evenodd;stroke:#000000;stroke-width:2.0px;stroke-linecap:butt;stroke-linejoin:miter;stroke-opacity:1' />\n",
       "<path class='bond-13 atom-6 atom-20' d='M 264.4,33.4 L 245.1,48.4' style='fill:none;fill-rule:evenodd;stroke:#000000;stroke-width:2.0px;stroke-linecap:butt;stroke-linejoin:miter;stroke-opacity:1' />\n",
       "<path class='bond-14 atom-6 atom-22' d='M 264.4,33.4 L 250.6,16.2' style='fill:none;fill-rule:evenodd;stroke:#000000;stroke-width:2.0px;stroke-linecap:butt;stroke-linejoin:miter;stroke-opacity:1' />\n",
       "<path class='bond-15 atom-7 atom-8' d='M 294.1,40.9 L 281.9,22.4' style='fill:none;fill-rule:evenodd;stroke:#000000;stroke-width:2.0px;stroke-linecap:butt;stroke-linejoin:miter;stroke-opacity:1' />\n",
       "<path class='bond-16 atom-8 atom-24' d='M 281.9,22.4 L 258.8,9.9' style='fill:none;fill-rule:evenodd;stroke:#000000;stroke-width:2.0px;stroke-linecap:butt;stroke-linejoin:miter;stroke-opacity:1' />\n",
       "<path class='bond-16 atom-8 atom-24' d='M 275.7,25.7 L 259.5,16.9' style='fill:none;fill-rule:evenodd;stroke:#000000;stroke-width:2.0px;stroke-linecap:butt;stroke-linejoin:miter;stroke-opacity:1' />\n",
       "<path class='bond-17 atom-8 atom-26' d='M 281.9,22.4 L 276.6,25.9' style='fill:none;fill-rule:evenodd;stroke:#000000;stroke-width:2.0px;stroke-linecap:butt;stroke-linejoin:miter;stroke-opacity:1' />\n",
       "<path class='bond-18 atom-9 atom-10' d='M 300.0,67.6 L 291.2,92.9' style='fill:none;fill-rule:evenodd;stroke:#000000;stroke-width:2.0px;stroke-linecap:butt;stroke-linejoin:miter;stroke-opacity:1' />\n",
       "<path class='bond-18 atom-9 atom-10' d='M 293.2,69.5 L 287.0,87.2' style='fill:none;fill-rule:evenodd;stroke:#000000;stroke-width:2.0px;stroke-linecap:butt;stroke-linejoin:miter;stroke-opacity:1' />\n",
       "<path class='bond-19 atom-9 atom-28' d='M 300.0,67.6 L 285.3,49.7' style='fill:none;fill-rule:evenodd;stroke:#000000;stroke-width:2.0px;stroke-linecap:butt;stroke-linejoin:miter;stroke-opacity:1' />\n",
       "<path class='bond-20 atom-10 atom-11' d='M 291.2,92.9 L 273.6,89.4' style='fill:none;fill-rule:evenodd;stroke:#000000;stroke-width:2.0px;stroke-linecap:butt;stroke-linejoin:miter;stroke-opacity:1' />\n",
       "<path class='bond-21 atom-10 atom-12' d='M 291.2,92.9 L 287.9,112.2' style='fill:none;fill-rule:evenodd;stroke:#000000;stroke-width:2.0px;stroke-linecap:butt;stroke-linejoin:miter;stroke-opacity:1' />\n",
       "<path class='bond-22 atom-11 atom-29' d='M 273.6,89.4 L 269.5,63.4' style='fill:none;fill-rule:evenodd;stroke:#000000;stroke-width:2.0px;stroke-linecap:butt;stroke-linejoin:miter;stroke-opacity:1' />\n",
       "<path class='bond-23 atom-11 atom-67' d='M 273.6,89.4 L 252.6,108.2' style='fill:none;fill-rule:evenodd;stroke:#000000;stroke-width:2.0px;stroke-linecap:butt;stroke-linejoin:miter;stroke-opacity:1' />\n",
       "<path class='bond-23 atom-11 atom-67' d='M 266.6,87.9 L 251.8,101.0' style='fill:none;fill-rule:evenodd;stroke:#000000;stroke-width:2.0px;stroke-linecap:butt;stroke-linejoin:miter;stroke-opacity:1' />\n",
       "<path class='bond-24 atom-12 atom-13' d='M 287.9,112.2 L 267.7,128.7' style='fill:none;fill-rule:evenodd;stroke:#000000;stroke-width:2.0px;stroke-linecap:butt;stroke-linejoin:miter;stroke-opacity:1' />\n",
       "<path class='bond-25 atom-13 atom-15' d='M 267.7,128.7 L 259.1,133.9' style='fill:none;fill-rule:evenodd;stroke:#000000;stroke-width:2.0px;stroke-linecap:butt;stroke-linejoin:miter;stroke-opacity:1' />\n",
       "<path class='bond-26 atom-13 atom-66' d='M 267.7,128.7 L 249.3,128.0' style='fill:none;fill-rule:evenodd;stroke:#000000;stroke-width:2.0px;stroke-linecap:butt;stroke-linejoin:miter;stroke-opacity:1' />\n",
       "<path class='bond-26 atom-13 atom-66' d='M 264.8,132.1 L 252.0,131.6' style='fill:none;fill-rule:evenodd;stroke:#000000;stroke-width:2.0px;stroke-linecap:butt;stroke-linejoin:miter;stroke-opacity:1' />\n",
       "<path class='bond-27 atom-14 atom-15' d='M 273.9,120.8 L 259.1,133.9' style='fill:none;fill-rule:evenodd;stroke:#000000;stroke-width:2.0px;stroke-linecap:butt;stroke-linejoin:miter;stroke-opacity:1' />\n",
       "<path class='bond-27 atom-14 atom-15' d='M 274.0,125.4 L 263.6,134.6' style='fill:none;fill-rule:evenodd;stroke:#000000;stroke-width:2.0px;stroke-linecap:butt;stroke-linejoin:miter;stroke-opacity:1' />\n",
       "<path class='bond-28 atom-14 atom-16' d='M 273.9,120.8 L 263.0,110.9' style='fill:none;fill-rule:evenodd;stroke:#000000;stroke-width:2.0px;stroke-linecap:butt;stroke-linejoin:miter;stroke-opacity:1' />\n",
       "<path class='bond-29 atom-15 atom-65' d='M 259.1,133.9 L 231.3,139.1' style='fill:none;fill-rule:evenodd;stroke:#000000;stroke-width:2.0px;stroke-linecap:butt;stroke-linejoin:miter;stroke-opacity:1' />\n",
       "<path class='bond-30 atom-16 atom-17' d='M 263.0,110.9 L 237.4,113.5' style='fill:none;fill-rule:evenodd;stroke:#000000;stroke-width:2.0px;stroke-linecap:butt;stroke-linejoin:miter;stroke-opacity:1' />\n",
       "<path class='bond-31 atom-17 atom-19' d='M 237.4,113.5 L 228.7,91.0' style='fill:none;fill-rule:evenodd;stroke:#000000;stroke-width:2.0px;stroke-linecap:butt;stroke-linejoin:miter;stroke-opacity:1' />\n",
       "<path class='bond-32 atom-17 atom-64' d='M 237.4,113.5 L 220.3,128.9' style='fill:none;fill-rule:evenodd;stroke:#000000;stroke-width:2.0px;stroke-linecap:butt;stroke-linejoin:miter;stroke-opacity:1' />\n",
       "<path class='bond-32 atom-17 atom-64' d='M 232.5,113.2 L 220.5,124.0' style='fill:none;fill-rule:evenodd;stroke:#000000;stroke-width:2.0px;stroke-linecap:butt;stroke-linejoin:miter;stroke-opacity:1' />\n",
       "<path class='bond-33 atom-18 atom-19' d='M 248.9,74.2 L 228.7,91.0' style='fill:none;fill-rule:evenodd;stroke:#000000;stroke-width:2.0px;stroke-linecap:butt;stroke-linejoin:miter;stroke-opacity:1' />\n",
       "<path class='bond-34 atom-18 atom-20' d='M 248.9,74.2 L 245.1,48.4' style='fill:none;fill-rule:evenodd;stroke:#000000;stroke-width:2.0px;stroke-linecap:butt;stroke-linejoin:miter;stroke-opacity:1' />\n",
       "<path class='bond-34 atom-18 atom-20' d='M 242.6,71.2 L 239.9,53.2' style='fill:none;fill-rule:evenodd;stroke:#000000;stroke-width:2.0px;stroke-linecap:butt;stroke-linejoin:miter;stroke-opacity:1' />\n",
       "<path class='bond-35 atom-19 atom-63' d='M 228.7,91.0 L 202.0,81.8' style='fill:none;fill-rule:evenodd;stroke:#000000;stroke-width:2.0px;stroke-linecap:butt;stroke-linejoin:miter;stroke-opacity:1' />\n",
       "<path class='bond-35 atom-19 atom-63' d='M 222.8,95.2 L 204.1,88.7' style='fill:none;fill-rule:evenodd;stroke:#000000;stroke-width:2.0px;stroke-linecap:butt;stroke-linejoin:miter;stroke-opacity:1' />\n",
       "<path class='bond-36 atom-20 atom-21' d='M 245.1,48.4 L 221.5,39.0' style='fill:none;fill-rule:evenodd;stroke:#000000;stroke-width:2.0px;stroke-linecap:butt;stroke-linejoin:miter;stroke-opacity:1' />\n",
       "<path class='bond-37 atom-21 atom-23' d='M 221.5,39.0 L 224.8,19.4' style='fill:none;fill-rule:evenodd;stroke:#000000;stroke-width:2.0px;stroke-linecap:butt;stroke-linejoin:miter;stroke-opacity:1' />\n",
       "<path class='bond-38 atom-21 atom-62' d='M 221.5,39.0 L 198.3,55.7' style='fill:none;fill-rule:evenodd;stroke:#000000;stroke-width:2.0px;stroke-linecap:butt;stroke-linejoin:miter;stroke-opacity:1' />\n",
       "<path class='bond-38 atom-21 atom-62' d='M 214.6,36.8 L 198.3,48.4' style='fill:none;fill-rule:evenodd;stroke:#000000;stroke-width:2.0px;stroke-linecap:butt;stroke-linejoin:miter;stroke-opacity:1' />\n",
       "<path class='bond-39 atom-22 atom-23' d='M 250.6,16.2 L 224.8,19.4' style='fill:none;fill-rule:evenodd;stroke:#000000;stroke-width:2.0px;stroke-linecap:butt;stroke-linejoin:miter;stroke-opacity:1' />\n",
       "<path class='bond-39 atom-22 atom-23' d='M 247.4,22.5 L 229.4,24.7' style='fill:none;fill-rule:evenodd;stroke:#000000;stroke-width:2.0px;stroke-linecap:butt;stroke-linejoin:miter;stroke-opacity:1' />\n",
       "<path class='bond-40 atom-22 atom-24' d='M 250.6,16.2 L 258.8,9.9' style='fill:none;fill-rule:evenodd;stroke:#000000;stroke-width:2.0px;stroke-linecap:butt;stroke-linejoin:miter;stroke-opacity:1' />\n",
       "<path class='bond-41 atom-23 atom-69' d='M 224.8,19.4 L 205.0,14.3' style='fill:none;fill-rule:evenodd;stroke:#000000;stroke-width:2.0px;stroke-linecap:butt;stroke-linejoin:miter;stroke-opacity:1' />\n",
       "<path class='bond-42 atom-24 atom-25' d='M 258.8,9.9 L 241.8,6.8' style='fill:none;fill-rule:evenodd;stroke:#000000;stroke-width:2.0px;stroke-linecap:butt;stroke-linejoin:miter;stroke-opacity:1' />\n",
       "<path class='bond-43 atom-25 atom-27' d='M 241.8,6.8 L 252.6,16.8' style='fill:none;fill-rule:evenodd;stroke:#000000;stroke-width:2.0px;stroke-linecap:butt;stroke-linejoin:miter;stroke-opacity:1' />\n",
       "<path class='bond-44 atom-25 atom-68' d='M 241.8,6.8 L 213.5,8.0' style='fill:none;fill-rule:evenodd;stroke:#000000;stroke-width:2.0px;stroke-linecap:butt;stroke-linejoin:miter;stroke-opacity:1' />\n",
       "<path class='bond-44 atom-25 atom-68' d='M 237.8,12.8 L 218.0,13.7' style='fill:none;fill-rule:evenodd;stroke:#000000;stroke-width:2.0px;stroke-linecap:butt;stroke-linejoin:miter;stroke-opacity:1' />\n",
       "<path class='bond-45 atom-26 atom-27' d='M 276.6,25.9 L 252.6,16.8' style='fill:none;fill-rule:evenodd;stroke:#000000;stroke-width:2.0px;stroke-linecap:butt;stroke-linejoin:miter;stroke-opacity:1' />\n",
       "<path class='bond-46 atom-26 atom-28' d='M 276.6,25.9 L 285.3,49.7' style='fill:none;fill-rule:evenodd;stroke:#000000;stroke-width:2.0px;stroke-linecap:butt;stroke-linejoin:miter;stroke-opacity:1' />\n",
       "<path class='bond-46 atom-26 atom-28' d='M 272.4,31.5 L 278.5,48.1' style='fill:none;fill-rule:evenodd;stroke:#000000;stroke-width:2.0px;stroke-linecap:butt;stroke-linejoin:miter;stroke-opacity:1' />\n",
       "<path class='bond-47 atom-27 atom-30' d='M 252.6,16.8 L 236.2,29.3' style='fill:none;fill-rule:evenodd;stroke:#000000;stroke-width:2.0px;stroke-linecap:butt;stroke-linejoin:miter;stroke-opacity:1' />\n",
       "<path class='bond-47 atom-27 atom-30' d='M 248.1,15.9 L 236.6,24.6' style='fill:none;fill-rule:evenodd;stroke:#000000;stroke-width:2.0px;stroke-linecap:butt;stroke-linejoin:miter;stroke-opacity:1' />\n",
       "<path class='bond-48 atom-28 atom-29' d='M 285.3,49.7 L 269.5,63.4' style='fill:none;fill-rule:evenodd;stroke:#000000;stroke-width:2.0px;stroke-linecap:butt;stroke-linejoin:miter;stroke-opacity:1' />\n",
       "<path class='bond-49 atom-29 atom-31' d='M 269.5,63.4 L 246.1,53.9' style='fill:none;fill-rule:evenodd;stroke:#000000;stroke-width:2.0px;stroke-linecap:butt;stroke-linejoin:miter;stroke-opacity:1' />\n",
       "<path class='bond-49 atom-29 atom-31' d='M 263.8,67.4 L 247.4,60.8' style='fill:none;fill-rule:evenodd;stroke:#000000;stroke-width:2.0px;stroke-linecap:butt;stroke-linejoin:miter;stroke-opacity:1' />\n",
       "<path class='bond-50 atom-30 atom-31' d='M 236.2,29.3 L 246.1,53.9' style='fill:none;fill-rule:evenodd;stroke:#000000;stroke-width:2.0px;stroke-linecap:butt;stroke-linejoin:miter;stroke-opacity:1' />\n",
       "<path class='bond-51 atom-30 atom-61' d='M 236.2,29.3 L 207.9,25.4' style='fill:none;fill-rule:evenodd;stroke:#000000;stroke-width:2.0px;stroke-linecap:butt;stroke-linejoin:miter;stroke-opacity:1' />\n",
       "<path class='bond-52 atom-31 atom-59' d='M 246.1,53.9 L 226.8,72.6' style='fill:none;fill-rule:evenodd;stroke:#000000;stroke-width:2.0px;stroke-linecap:butt;stroke-linejoin:miter;stroke-opacity:1' />\n",
       "<path class='bond-53 atom-32 atom-33' d='M 154.8,67.5 L 146.8,74.2' style='fill:none;fill-rule:evenodd;stroke:#000000;stroke-width:2.0px;stroke-linecap:butt;stroke-linejoin:miter;stroke-opacity:1' />\n",
       "<path class='bond-53 atom-32 atom-33' d='M 155.8,71.3 L 150.2,75.9' style='fill:none;fill-rule:evenodd;stroke:#000000;stroke-width:2.0px;stroke-linecap:butt;stroke-linejoin:miter;stroke-opacity:1' />\n",
       "<path class='bond-54 atom-32 atom-39' d='M 154.8,67.5 L 164.3,89.7' style='fill:none;fill-rule:evenodd;stroke:#000000;stroke-width:2.0px;stroke-linecap:butt;stroke-linejoin:miter;stroke-opacity:1' />\n",
       "<path class='bond-55 atom-32 atom-41' d='M 154.8,67.5 L 166.4,44.3' style='fill:none;fill-rule:evenodd;stroke:#000000;stroke-width:2.0px;stroke-linecap:butt;stroke-linejoin:miter;stroke-opacity:1' />\n",
       "<path class='bond-56 atom-33 atom-34' d='M 146.8,74.2 L 149.9,57.4' style='fill:none;fill-rule:evenodd;stroke:#000000;stroke-width:2.0px;stroke-linecap:butt;stroke-linejoin:miter;stroke-opacity:1' />\n",
       "<path class='bond-57 atom-33 atom-35' d='M 146.8,74.2 L 150.4,100.1' style='fill:none;fill-rule:evenodd;stroke:#000000;stroke-width:2.0px;stroke-linecap:butt;stroke-linejoin:miter;stroke-opacity:1' />\n",
       "<path class='bond-58 atom-34 atom-44' d='M 149.9,57.4 L 163.1,32.7' style='fill:none;fill-rule:evenodd;stroke:#000000;stroke-width:2.0px;stroke-linecap:butt;stroke-linejoin:miter;stroke-opacity:1' />\n",
       "<path class='bond-58 atom-34 atom-44' d='M 157.0,56.4 L 166.3,39.2' style='fill:none;fill-rule:evenodd;stroke:#000000;stroke-width:2.0px;stroke-linecap:butt;stroke-linejoin:miter;stroke-opacity:1' />\n",
       "<path class='bond-59 atom-34 atom-46' d='M 149.9,57.4 L 157.9,65.7' style='fill:none;fill-rule:evenodd;stroke:#000000;stroke-width:2.0px;stroke-linecap:butt;stroke-linejoin:miter;stroke-opacity:1' />\n",
       "<path class='bond-60 atom-35 atom-36' d='M 150.4,100.1 L 157.3,109.8' style='fill:none;fill-rule:evenodd;stroke:#000000;stroke-width:2.0px;stroke-linecap:butt;stroke-linejoin:miter;stroke-opacity:1' />\n",
       "<path class='bond-60 atom-35 atom-36' d='M 154.3,99.5 L 159.1,106.3' style='fill:none;fill-rule:evenodd;stroke:#000000;stroke-width:2.0px;stroke-linecap:butt;stroke-linejoin:miter;stroke-opacity:1' />\n",
       "<path class='bond-61 atom-35 atom-37' d='M 150.4,100.1 L 161.2,109.7' style='fill:none;fill-rule:evenodd;stroke:#000000;stroke-width:2.0px;stroke-linecap:butt;stroke-linejoin:miter;stroke-opacity:1' />\n",
       "<path class='bond-62 atom-36 atom-48' d='M 157.3,109.8 L 161.6,91.3' style='fill:none;fill-rule:evenodd;stroke:#000000;stroke-width:2.0px;stroke-linecap:butt;stroke-linejoin:miter;stroke-opacity:1' />\n",
       "<path class='bond-63 atom-36 atom-50' d='M 157.3,109.8 L 175.8,128.4' style='fill:none;fill-rule:evenodd;stroke:#000000;stroke-width:2.0px;stroke-linecap:butt;stroke-linejoin:miter;stroke-opacity:1' />\n",
       "<path class='bond-64 atom-37 atom-38' d='M 161.2,109.7 L 178.9,129.4' style='fill:none;fill-rule:evenodd;stroke:#000000;stroke-width:2.0px;stroke-linecap:butt;stroke-linejoin:miter;stroke-opacity:1' />\n",
       "<path class='bond-65 atom-37 atom-39' d='M 161.2,109.7 L 164.3,89.7' style='fill:none;fill-rule:evenodd;stroke:#000000;stroke-width:2.0px;stroke-linecap:butt;stroke-linejoin:miter;stroke-opacity:1' />\n",
       "<path class='bond-65 atom-37 atom-39' d='M 158.2,106.2 L 160.3,92.2' style='fill:none;fill-rule:evenodd;stroke:#000000;stroke-width:2.0px;stroke-linecap:butt;stroke-linejoin:miter;stroke-opacity:1' />\n",
       "<path class='bond-66 atom-38 atom-52' d='M 178.9,129.4 L 186.7,138.6' style='fill:none;fill-rule:evenodd;stroke:#000000;stroke-width:2.0px;stroke-linecap:butt;stroke-linejoin:miter;stroke-opacity:1' />\n",
       "<path class='bond-66 atom-38 atom-52' d='M 182.8,128.6 L 188.2,135.0' style='fill:none;fill-rule:evenodd;stroke:#000000;stroke-width:2.0px;stroke-linecap:butt;stroke-linejoin:miter;stroke-opacity:1' />\n",
       "<path class='bond-67 atom-38 atom-54' d='M 178.9,129.4 L 200.7,129.4' style='fill:none;fill-rule:evenodd;stroke:#000000;stroke-width:2.0px;stroke-linecap:butt;stroke-linejoin:miter;stroke-opacity:1' />\n",
       "<path class='bond-68 atom-39 atom-40' d='M 164.3,89.7 L 185.3,89.3' style='fill:none;fill-rule:evenodd;stroke:#000000;stroke-width:2.0px;stroke-linecap:butt;stroke-linejoin:miter;stroke-opacity:1' />\n",
       "<path class='bond-69 atom-40 atom-56' d='M 185.3,89.3 L 204.3,110.1' style='fill:none;fill-rule:evenodd;stroke:#000000;stroke-width:2.0px;stroke-linecap:butt;stroke-linejoin:miter;stroke-opacity:1' />\n",
       "<path class='bond-69 atom-40 atom-56' d='M 192.5,88.4 L 205.8,103.0' style='fill:none;fill-rule:evenodd;stroke:#000000;stroke-width:2.0px;stroke-linecap:butt;stroke-linejoin:miter;stroke-opacity:1' />\n",
       "<path class='bond-70 atom-40 atom-58' d='M 185.3,89.3 L 198.9,67.2' style='fill:none;fill-rule:evenodd;stroke:#000000;stroke-width:2.0px;stroke-linecap:butt;stroke-linejoin:miter;stroke-opacity:1' />\n",
       "<path class='bond-71 atom-41 atom-42' d='M 166.4,44.3 L 171.2,26.5' style='fill:none;fill-rule:evenodd;stroke:#000000;stroke-width:2.0px;stroke-linecap:butt;stroke-linejoin:miter;stroke-opacity:1' />\n",
       "<path class='bond-71 atom-41 atom-42' d='M 170.5,42.5 L 173.9,30.1' style='fill:none;fill-rule:evenodd;stroke:#000000;stroke-width:2.0px;stroke-linecap:butt;stroke-linejoin:miter;stroke-opacity:1' />\n",
       "<path class='bond-72 atom-41 atom-60' d='M 166.4,44.3 L 189.6,43.2' style='fill:none;fill-rule:evenodd;stroke:#000000;stroke-width:2.0px;stroke-linecap:butt;stroke-linejoin:miter;stroke-opacity:1' />\n",
       "<path class='bond-73 atom-42 atom-43' d='M 171.2,26.5 L 197.0,15.1' style='fill:none;fill-rule:evenodd;stroke:#000000;stroke-width:2.0px;stroke-linecap:butt;stroke-linejoin:miter;stroke-opacity:1' />\n",
       "<path class='bond-74 atom-42 atom-44' d='M 171.2,26.5 L 163.1,32.7' style='fill:none;fill-rule:evenodd;stroke:#000000;stroke-width:2.0px;stroke-linecap:butt;stroke-linejoin:miter;stroke-opacity:1' />\n",
       "<path class='bond-75 atom-43 atom-61' d='M 197.0,15.1 L 207.9,25.4' style='fill:none;fill-rule:evenodd;stroke:#000000;stroke-width:2.0px;stroke-linecap:butt;stroke-linejoin:miter;stroke-opacity:1' />\n",
       "<path class='bond-75 atom-43 atom-61' d='M 196.2,19.2 L 203.9,26.4' style='fill:none;fill-rule:evenodd;stroke:#000000;stroke-width:2.0px;stroke-linecap:butt;stroke-linejoin:miter;stroke-opacity:1' />\n",
       "<path class='bond-76 atom-43 atom-68' d='M 197.0,15.1 L 213.5,8.0' style='fill:none;fill-rule:evenodd;stroke:#000000;stroke-width:2.0px;stroke-linecap:butt;stroke-linejoin:miter;stroke-opacity:1' />\n",
       "<path class='bond-77 atom-44 atom-45' d='M 163.1,32.7 L 179.8,27.5' style='fill:none;fill-rule:evenodd;stroke:#000000;stroke-width:2.0px;stroke-linecap:butt;stroke-linejoin:miter;stroke-opacity:1' />\n",
       "<path class='bond-78 atom-45 atom-47' d='M 179.8,27.5 L 176.5,47.3' style='fill:none;fill-rule:evenodd;stroke:#000000;stroke-width:2.0px;stroke-linecap:butt;stroke-linejoin:miter;stroke-opacity:1' />\n",
       "<path class='bond-79 atom-45 atom-69' d='M 179.8,27.5 L 205.0,14.3' style='fill:none;fill-rule:evenodd;stroke:#000000;stroke-width:2.0px;stroke-linecap:butt;stroke-linejoin:miter;stroke-opacity:1' />\n",
       "<path class='bond-79 atom-45 atom-69' d='M 180.9,20.3 L 198.5,11.1' style='fill:none;fill-rule:evenodd;stroke:#000000;stroke-width:2.0px;stroke-linecap:butt;stroke-linejoin:miter;stroke-opacity:1' />\n",
       "<path class='bond-80 atom-46 atom-47' d='M 157.9,65.7 L 176.5,47.3' style='fill:none;fill-rule:evenodd;stroke:#000000;stroke-width:2.0px;stroke-linecap:butt;stroke-linejoin:miter;stroke-opacity:1' />\n",
       "<path class='bond-80 atom-46 atom-47' d='M 156.6,58.8 L 169.6,45.9' style='fill:none;fill-rule:evenodd;stroke:#000000;stroke-width:2.0px;stroke-linecap:butt;stroke-linejoin:miter;stroke-opacity:1' />\n",
       "<path class='bond-81 atom-46 atom-48' d='M 157.9,65.7 L 161.6,91.3' style='fill:none;fill-rule:evenodd;stroke:#000000;stroke-width:2.0px;stroke-linecap:butt;stroke-linejoin:miter;stroke-opacity:1' />\n",
       "<path class='bond-82 atom-47 atom-62' d='M 176.5,47.3 L 198.3,55.7' style='fill:none;fill-rule:evenodd;stroke:#000000;stroke-width:2.0px;stroke-linecap:butt;stroke-linejoin:miter;stroke-opacity:1' />\n",
       "<path class='bond-83 atom-48 atom-49' d='M 161.6,91.3 L 184.1,100.1' style='fill:none;fill-rule:evenodd;stroke:#000000;stroke-width:2.0px;stroke-linecap:butt;stroke-linejoin:miter;stroke-opacity:1' />\n",
       "<path class='bond-83 atom-48 atom-49' d='M 162.8,98.1 L 178.6,104.2' style='fill:none;fill-rule:evenodd;stroke:#000000;stroke-width:2.0px;stroke-linecap:butt;stroke-linejoin:miter;stroke-opacity:1' />\n",
       "<path class='bond-84 atom-49 atom-51' d='M 184.1,100.1 L 192.4,122.6' style='fill:none;fill-rule:evenodd;stroke:#000000;stroke-width:2.0px;stroke-linecap:butt;stroke-linejoin:miter;stroke-opacity:1' />\n",
       "<path class='bond-85 atom-49 atom-63' d='M 184.1,100.1 L 202.0,81.8' style='fill:none;fill-rule:evenodd;stroke:#000000;stroke-width:2.0px;stroke-linecap:butt;stroke-linejoin:miter;stroke-opacity:1' />\n",
       "<path class='bond-86 atom-50 atom-51' d='M 175.8,128.4 L 192.4,122.6' style='fill:none;fill-rule:evenodd;stroke:#000000;stroke-width:2.0px;stroke-linecap:butt;stroke-linejoin:miter;stroke-opacity:1' />\n",
       "<path class='bond-86 atom-50 atom-51' d='M 177.1,124.2 L 188.8,120.1' style='fill:none;fill-rule:evenodd;stroke:#000000;stroke-width:2.0px;stroke-linecap:butt;stroke-linejoin:miter;stroke-opacity:1' />\n",
       "<path class='bond-87 atom-50 atom-52' d='M 175.8,128.4 L 186.7,138.6' style='fill:none;fill-rule:evenodd;stroke:#000000;stroke-width:2.0px;stroke-linecap:butt;stroke-linejoin:miter;stroke-opacity:1' />\n",
       "<path class='bond-88 atom-51 atom-64' d='M 192.4,122.6 L 220.3,128.9' style='fill:none;fill-rule:evenodd;stroke:#000000;stroke-width:2.0px;stroke-linecap:butt;stroke-linejoin:miter;stroke-opacity:1' />\n",
       "<path class='bond-89 atom-52 atom-53' d='M 186.7,138.6 L 214.5,143.2' style='fill:none;fill-rule:evenodd;stroke:#000000;stroke-width:2.0px;stroke-linecap:butt;stroke-linejoin:miter;stroke-opacity:1' />\n",
       "<path class='bond-90 atom-53 atom-55' d='M 214.5,143.2 L 223.0,138.2' style='fill:none;fill-rule:evenodd;stroke:#000000;stroke-width:2.0px;stroke-linecap:butt;stroke-linejoin:miter;stroke-opacity:1' />\n",
       "<path class='bond-91 atom-53 atom-65' d='M 214.5,143.2 L 231.3,139.1' style='fill:none;fill-rule:evenodd;stroke:#000000;stroke-width:2.0px;stroke-linecap:butt;stroke-linejoin:miter;stroke-opacity:1' />\n",
       "<path class='bond-91 atom-53 atom-65' d='M 216.2,139.2 L 227.9,136.3' style='fill:none;fill-rule:evenodd;stroke:#000000;stroke-width:2.0px;stroke-linecap:butt;stroke-linejoin:miter;stroke-opacity:1' />\n",
       "<path class='bond-92 atom-54 atom-55' d='M 200.7,129.4 L 223.0,138.2' style='fill:none;fill-rule:evenodd;stroke:#000000;stroke-width:2.0px;stroke-linecap:butt;stroke-linejoin:miter;stroke-opacity:1' />\n",
       "<path class='bond-92 atom-54 atom-55' d='M 201.9,136.1 L 217.5,142.3' style='fill:none;fill-rule:evenodd;stroke:#000000;stroke-width:2.0px;stroke-linecap:butt;stroke-linejoin:miter;stroke-opacity:1' />\n",
       "<path class='bond-93 atom-54 atom-56' d='M 200.7,129.4 L 204.3,110.1' style='fill:none;fill-rule:evenodd;stroke:#000000;stroke-width:2.0px;stroke-linecap:butt;stroke-linejoin:miter;stroke-opacity:1' />\n",
       "<path class='bond-94 atom-55 atom-66' d='M 223.0,138.2 L 249.3,128.0' style='fill:none;fill-rule:evenodd;stroke:#000000;stroke-width:2.0px;stroke-linecap:butt;stroke-linejoin:miter;stroke-opacity:1' />\n",
       "<path class='bond-95 atom-56 atom-57' d='M 204.3,110.1 L 229.8,98.3' style='fill:none;fill-rule:evenodd;stroke:#000000;stroke-width:2.0px;stroke-linecap:butt;stroke-linejoin:miter;stroke-opacity:1' />\n",
       "<path class='bond-96 atom-57 atom-59' d='M 229.8,98.3 L 226.8,72.6' style='fill:none;fill-rule:evenodd;stroke:#000000;stroke-width:2.0px;stroke-linecap:butt;stroke-linejoin:miter;stroke-opacity:1' />\n",
       "<path class='bond-96 atom-57 atom-59' d='M 223.5,95.1 L 221.4,77.1' style='fill:none;fill-rule:evenodd;stroke:#000000;stroke-width:2.0px;stroke-linecap:butt;stroke-linejoin:miter;stroke-opacity:1' />\n",
       "<path class='bond-97 atom-57 atom-67' d='M 229.8,98.3 L 252.6,108.2' style='fill:none;fill-rule:evenodd;stroke:#000000;stroke-width:2.0px;stroke-linecap:butt;stroke-linejoin:miter;stroke-opacity:1' />\n",
       "<path class='bond-98 atom-58 atom-59' d='M 198.9,67.2 L 226.8,72.6' style='fill:none;fill-rule:evenodd;stroke:#000000;stroke-width:2.0px;stroke-linecap:butt;stroke-linejoin:miter;stroke-opacity:1' />\n",
       "<path class='bond-99 atom-58 atom-60' d='M 198.9,67.2 L 189.6,43.2' style='fill:none;fill-rule:evenodd;stroke:#000000;stroke-width:2.0px;stroke-linecap:butt;stroke-linejoin:miter;stroke-opacity:1' />\n",
       "<path class='bond-99 atom-58 atom-60' d='M 192.0,65.7 L 185.6,48.9' style='fill:none;fill-rule:evenodd;stroke:#000000;stroke-width:2.0px;stroke-linecap:butt;stroke-linejoin:miter;stroke-opacity:1' />\n",
       "<path class='bond-100 atom-60 atom-61' d='M 189.6,43.2 L 207.9,25.4' style='fill:none;fill-rule:evenodd;stroke:#000000;stroke-width:2.0px;stroke-linecap:butt;stroke-linejoin:miter;stroke-opacity:1' />\n",
       "<path class='bond-101 atom-62 atom-63' d='M 198.3,55.7 L 202.0,81.8' style='fill:none;fill-rule:evenodd;stroke:#000000;stroke-width:2.0px;stroke-linecap:butt;stroke-linejoin:miter;stroke-opacity:1' />\n",
       "<path class='bond-102 atom-64 atom-65' d='M 220.3,128.9 L 231.3,139.1' style='fill:none;fill-rule:evenodd;stroke:#000000;stroke-width:2.0px;stroke-linecap:butt;stroke-linejoin:miter;stroke-opacity:1' />\n",
       "<path class='bond-103 atom-66 atom-67' d='M 249.3,128.0 L 252.6,108.2' style='fill:none;fill-rule:evenodd;stroke:#000000;stroke-width:2.0px;stroke-linecap:butt;stroke-linejoin:miter;stroke-opacity:1' />\n",
       "<path class='bond-104 atom-68 atom-69' d='M 213.5,8.0 L 205.0,14.3' style='fill:none;fill-rule:evenodd;stroke:#000000;stroke-width:2.0px;stroke-linecap:butt;stroke-linejoin:miter;stroke-opacity:1' />\n",
       "<path d='M 248.6,18.1 L 248.6,14.2 L 252.5,14.2 L 252.5,18.1 L 248.6,18.1' style='fill:none;stroke:#FF0000;stroke-width:2.0px;stroke-linecap:butt;stroke-linejoin:miter;stroke-opacity:1;' />\n",
       "</svg>\n"
      ],
      "text/plain": [
       "<rdkit.Chem.rdchem.Mol at 0x7fc17f958c40>"
      ]
     },
     "execution_count": 15,
     "metadata": {},
     "output_type": "execute_result"
    }
   ],
   "source": [
    "mol1 # Nice..  "
   ]
  },
  {
   "cell_type": "code",
   "execution_count": 36,
   "metadata": {},
   "outputs": [],
   "source": [
    "\"\"\"\n",
    "The smiles for the ligand \n",
    "\n",
    "Links on information about the C60/C70 ligand bonded NP\n",
    "-------------------------------------------------------\n",
    "\n",
    "poly(3-hexyl-thiophene) (P3HT)\n",
    "\n",
    "phenyl-C-61-butyric acid methyl ester (PCBM).\n",
    "\n",
    "https://pubchem.ncbi.nlm.nih.gov/compound/3-Hexylthiophene\n",
    "\n",
    "https://pubchem.ncbi.nlm.nih.gov/compound/6_6_-Phenyl-C61-butyric-acid-methyl-ester\n",
    "\n",
    "https://chemrxiv.org/engage/chemrxiv/article-details/60c74b9abb8c1a44713db259\n",
    "\n",
    "https://research.rug.nl/en/publications/resolving-donor-acceptor-interfaces-and-charge-carrier-energy-lev\n",
    "\n",
    "https://www.americanelements.com/60-pcbm-6-6-phenyl-c61-butyric-acid-methyl-ester-160848-22-6\n",
    "\n",
    "http://www-jmg.ch.cam.ac.uk/data/molecules/misc/c70.html\n",
    " \n",
    "https://en.wikipedia.org/wiki/Phenyl-C61-butyric_acid_methyl_ester - information on its application\n",
    "as potential solar cells \n",
    "\n",
    "\"\"\"\n",
    "\n",
    "\n",
    "# Which ligand do I need to attach by? \n",
    "\n",
    "\n",
    "P3HT = 'CCCCCCC1=CSC=C1'\n",
    "m_P3HT = Chem.MolFromSmiles(P3HT)\n",
    "# Universe \n",
    "u_P3HT = mda.Universe.from_smiles(P3HT)\n",
    "# Need to add index \n",
    "u_P3HT_object = u_P3HT.select_atoms('all')\n",
    "#mol_with_atom_index(m_aromatic)\n",
    "\n",
    "\n",
    "# Select Atom attached to the core \n",
    "FirstAtom = u.select_atoms('name {}'.format(FirstAtomList[0])) # Pick out the atoms attached\n",
    "# Select end atom on the ligand \n",
    "LastAtom = u.select_atoms('name {}'.format(LastAtomList[0])) # Pick out the last atom at the tip of the ligand \n",
    "TransformationList, NameList = [], []\n",
    "# Find the vector representing the direction from the sulfur to the tip of the ligand. \n",
    "LigandAlignmentVector = (FirstAtom.positions- LastAtom.positions)[0"
   ]
  },
  {
   "cell_type": "code",
   "execution_count": 44,
   "metadata": {},
   "outputs": [
    {
     "data": {
      "text/plain": [
       "<Universe with 27 atoms>"
      ]
     },
     "execution_count": 44,
     "metadata": {},
     "output_type": "execute_result"
    }
   ],
   "source": [
    "u_P3HT"
   ]
  },
  {
   "cell_type": "code",
   "execution_count": 38,
   "metadata": {},
   "outputs": [
    {
     "data": {
      "image/png": "[encoded data removed]",
      "image/svg+xml": [
       "<?xml version='1.0' encoding='iso-8859-1'?>\n",
       "<svg version='1.1' baseProfile='full'\n",
       "              xmlns='http://www.w3.org/2000/svg'\n",
       "                      xmlns:rdkit='http://www.rdkit.org/xml'\n",
       "                      xmlns:xlink='http://www.w3.org/1999/xlink'\n",
       "                  xml:space='preserve'\n",
       "width='450px' height='150px' viewBox='0 0 450 150'>\n",
       "<!-- END OF HEADER -->\n",
       "<rect style='opacity:1.0;fill:#FFFFFF;stroke:none' width='450.0' height='150.0' x='0.0' y='0.0'> </rect>\n",
       "<path class='bond-0 atom-0 atom-1' d='M 73.8,125.6 L 43.7,100.4' style='fill:none;fill-rule:evenodd;stroke:#000000;stroke-width:2.0px;stroke-linecap:butt;stroke-linejoin:miter;stroke-opacity:1' />\n",
       "<path class='bond-0 atom-0 atom-1' d='M 75.2,114.8 L 54.1,97.2' style='fill:none;fill-rule:evenodd;stroke:#000000;stroke-width:2.0px;stroke-linecap:butt;stroke-linejoin:miter;stroke-opacity:1' />\n",
       "<path class='bond-13 atom-5 atom-0' d='M 110.8,112.1 L 73.8,125.6' style='fill:none;fill-rule:evenodd;stroke:#000000;stroke-width:2.0px;stroke-linecap:butt;stroke-linejoin:miter;stroke-opacity:1' />\n",
       "<path class='bond-1 atom-1 atom-2' d='M 39.9,88.6 L 45.2,58.5' style='fill:none;fill-rule:evenodd;stroke:#000000;stroke-width:2.0px;stroke-linecap:butt;stroke-linejoin:miter;stroke-opacity:1' />\n",
       "<path class='bond-2 atom-2 atom-3' d='M 52.0,48.9 L 73.3,41.2' style='fill:none;fill-rule:evenodd;stroke:#000000;stroke-width:2.0px;stroke-linecap:butt;stroke-linejoin:miter;stroke-opacity:1' />\n",
       "<path class='bond-2 atom-2 atom-3' d='M 58.4,56.4 L 73.3,50.9' style='fill:none;fill-rule:evenodd;stroke:#000000;stroke-width:2.0px;stroke-linecap:butt;stroke-linejoin:miter;stroke-opacity:1' />\n",
       "<path class='bond-3 atom-3 atom-4' d='M 98.2,42.4 L 115.9,57.2' style='fill:none;fill-rule:evenodd;stroke:#000000;stroke-width:2.0px;stroke-linecap:butt;stroke-linejoin:miter;stroke-opacity:1' />\n",
       "<path class='bond-4 atom-4 atom-5' d='M 123.5,72.4 L 118.3,102.3' style='fill:none;fill-rule:evenodd;stroke:#000000;stroke-width:2.0px;stroke-linecap:butt;stroke-linejoin:miter;stroke-opacity:1' />\n",
       "<path class='bond-4 atom-4 atom-5' d='M 113.7,75.3 L 110.0,96.3' style='fill:none;fill-rule:evenodd;stroke:#000000;stroke-width:2.0px;stroke-linecap:butt;stroke-linejoin:miter;stroke-opacity:1' />\n",
       "<path class='bond-5 atom-4 atom-6' d='M 134.0,61.3 L 151.5,54.9' style='fill:none;fill-rule:evenodd;stroke:#000000;stroke-width:2.0px;stroke-linecap:butt;stroke-linejoin:miter;stroke-opacity:1' />\n",
       "<path class='bond-6 atom-6 atom-7' d='M 177.0,56.4 L 194.3,70.9' style='fill:none;fill-rule:evenodd;stroke:#000000;stroke-width:2.0px;stroke-linecap:butt;stroke-linejoin:miter;stroke-opacity:1' />\n",
       "<path class='bond-7 atom-7 atom-8' d='M 211.4,75.3 L 229.7,68.6' style='fill:none;fill-rule:evenodd;stroke:#000000;stroke-width:2.0px;stroke-linecap:butt;stroke-linejoin:miter;stroke-opacity:1' />\n",
       "<path class='bond-8 atom-8 atom-9' d='M 255.4,70.1 L 272.6,84.5' style='fill:none;fill-rule:evenodd;stroke:#000000;stroke-width:2.0px;stroke-linecap:butt;stroke-linejoin:miter;stroke-opacity:1' />\n",
       "<path class='bond-9 atom-9 atom-10' d='M 290.4,88.7 L 303.7,83.8' style='fill:none;fill-rule:evenodd;stroke:#000000;stroke-width:2.0px;stroke-linecap:butt;stroke-linejoin:miter;stroke-opacity:1' />\n",
       "<path class='bond-10 atom-10 atom-11' d='M 330.5,69.3 L 333.1,54.4' style='fill:none;fill-rule:evenodd;stroke:#000000;stroke-width:2.0px;stroke-linecap:butt;stroke-linejoin:miter;stroke-opacity:1' />\n",
       "<path class='bond-10 atom-10 atom-11' d='M 333.1,54.4 L 335.7,39.4' style='fill:none;fill-rule:evenodd;stroke:#FF0000;stroke-width:2.0px;stroke-linecap:butt;stroke-linejoin:miter;stroke-opacity:1' />\n",
       "<path class='bond-10 atom-10 atom-11' d='M 321.4,67.7 L 324.0,52.8' style='fill:none;fill-rule:evenodd;stroke:#000000;stroke-width:2.0px;stroke-linecap:butt;stroke-linejoin:miter;stroke-opacity:1' />\n",
       "<path class='bond-10 atom-10 atom-11' d='M 324.0,52.8 L 326.6,37.9' style='fill:none;fill-rule:evenodd;stroke:#FF0000;stroke-width:2.0px;stroke-linecap:butt;stroke-linejoin:miter;stroke-opacity:1' />\n",
       "<path class='bond-11 atom-10 atom-12' d='M 334.0,84.0 L 342.5,91.1' style='fill:none;fill-rule:evenodd;stroke:#000000;stroke-width:2.0px;stroke-linecap:butt;stroke-linejoin:miter;stroke-opacity:1' />\n",
       "<path class='bond-11 atom-10 atom-12' d='M 342.5,91.1 L 351.0,98.2' style='fill:none;fill-rule:evenodd;stroke:#FF0000;stroke-width:2.0px;stroke-linecap:butt;stroke-linejoin:miter;stroke-opacity:1' />\n",
       "<path class='bond-12 atom-12 atom-13' d='M 373.1,100.7 L 385.1,96.3' style='fill:none;fill-rule:evenodd;stroke:#FF0000;stroke-width:2.0px;stroke-linecap:butt;stroke-linejoin:miter;stroke-opacity:1' />\n",
       "<path class='bond-12 atom-12 atom-13' d='M 385.1,96.3 L 397.2,91.9' style='fill:none;fill-rule:evenodd;stroke:#000000;stroke-width:2.0px;stroke-linecap:butt;stroke-linejoin:miter;stroke-opacity:1' />\n",
       "<path  class='atom-1' d='M 20.5 96.3\n",
       "Q 20.5 93.0, 22.0 91.3\n",
       "Q 23.5 89.6, 26.4 89.6\n",
       "Q 29.0 89.6, 30.5 91.5\n",
       "L 29.3 92.5\n",
       "Q 28.2 91.1, 26.4 91.1\n",
       "Q 24.4 91.1, 23.4 92.5\n",
       "Q 22.3 93.8, 22.3 96.3\n",
       "Q 22.3 98.8, 23.4 100.2\n",
       "Q 24.5 101.5, 26.6 101.5\n",
       "Q 28.0 101.5, 29.7 100.6\n",
       "L 30.2 102.0\n",
       "Q 29.5 102.4, 28.5 102.7\n",
       "Q 27.5 102.9, 26.3 102.9\n",
       "Q 23.5 102.9, 22.0 101.2\n",
       "Q 20.5 99.5, 20.5 96.3\n",
       "' fill='#000000'/>\n",
       "<path  class='atom-1' d='M 31.9 100.6\n",
       "L 33.7 100.6\n",
       "L 33.7 102.5\n",
       "L 31.9 102.5\n",
       "L 31.9 100.6\n",
       "M 31.9 94.3\n",
       "L 33.7 94.3\n",
       "L 33.7 96.1\n",
       "L 31.9 96.1\n",
       "L 31.9 94.3\n",
       "' fill='#000000'/>\n",
       "<path  class='atom-1' d='M 35.4 101.3\n",
       "L 38.3 101.3\n",
       "L 38.3 91.6\n",
       "L 35.1 92.6\n",
       "L 34.7 91.5\n",
       "L 38.7 89.7\n",
       "L 40.0 89.9\n",
       "L 40.0 101.3\n",
       "L 42.5 101.3\n",
       "L 42.5 102.8\n",
       "L 35.4 102.8\n",
       "L 35.4 101.3\n",
       "' fill='#000000'/>\n",
       "<path  class='atom-2' d='M 28.0 51.0\n",
       "Q 28.0 47.8, 29.5 46.1\n",
       "Q 31.0 44.4, 33.9 44.4\n",
       "Q 36.5 44.4, 38.0 46.3\n",
       "L 36.8 47.3\n",
       "Q 35.7 45.9, 33.9 45.9\n",
       "Q 31.9 45.9, 30.9 47.2\n",
       "Q 29.8 48.5, 29.8 51.0\n",
       "Q 29.8 53.6, 30.9 54.9\n",
       "Q 32.0 56.2, 34.1 56.2\n",
       "Q 35.5 56.2, 37.2 55.4\n",
       "L 37.7 56.8\n",
       "Q 37.0 57.2, 36.0 57.5\n",
       "Q 35.0 57.7, 33.8 57.7\n",
       "Q 31.0 57.7, 29.5 56.0\n",
       "Q 28.0 54.3, 28.0 51.0\n",
       "' fill='#000000'/>\n",
       "<path  class='atom-2' d='M 39.4 55.4\n",
       "L 41.2 55.4\n",
       "L 41.2 57.2\n",
       "L 39.4 57.2\n",
       "L 39.4 55.4\n",
       "M 39.4 49.1\n",
       "L 41.2 49.1\n",
       "L 41.2 50.9\n",
       "L 39.4 50.9\n",
       "L 39.4 49.1\n",
       "' fill='#000000'/>\n",
       "<path  class='atom-2' d='M 42.2 47.0\n",
       "Q 42.6 45.8, 43.8 45.1\n",
       "Q 44.9 44.4, 46.5 44.4\n",
       "Q 48.4 44.4, 49.6 45.5\n",
       "Q 50.7 46.5, 50.7 48.4\n",
       "Q 50.7 50.3, 49.2 52.1\n",
       "Q 47.8 53.9, 44.9 56.1\n",
       "L 50.9 56.1\n",
       "L 50.9 57.5\n",
       "L 42.1 57.5\n",
       "L 42.1 56.3\n",
       "Q 44.5 54.6, 46.0 53.3\n",
       "Q 47.4 52.0, 48.1 50.9\n",
       "Q 48.8 49.7, 48.8 48.5\n",
       "Q 48.8 47.3, 48.2 46.6\n",
       "Q 47.6 45.9, 46.5 45.9\n",
       "Q 45.4 45.9, 44.7 46.3\n",
       "Q 44.0 46.7, 43.5 47.6\n",
       "L 42.2 47.0\n",
       "' fill='#000000'/>\n",
       "<path  class='atom-3' d='M 74.3 35.2\n",
       "Q 74.3 32.0, 75.8 30.3\n",
       "Q 77.3 28.6, 80.2 28.6\n",
       "Q 82.9 28.6, 84.3 30.5\n",
       "L 83.1 31.5\n",
       "Q 82.1 30.1, 80.2 30.1\n",
       "Q 78.2 30.1, 77.2 31.4\n",
       "Q 76.2 32.7, 76.2 35.2\n",
       "Q 76.2 37.8, 77.2 39.1\n",
       "Q 78.3 40.5, 80.4 40.5\n",
       "Q 81.8 40.5, 83.5 39.6\n",
       "L 84.0 41.0\n",
       "Q 83.4 41.4, 82.3 41.7\n",
       "Q 81.3 41.9, 80.2 41.9\n",
       "Q 77.3 41.9, 75.8 40.2\n",
       "Q 74.3 38.5, 74.3 35.2\n",
       "' fill='#000000'/>\n",
       "<path  class='atom-3' d='M 85.7 39.6\n",
       "L 87.5 39.6\n",
       "L 87.5 41.4\n",
       "L 85.7 41.4\n",
       "L 85.7 39.6\n",
       "M 85.7 33.3\n",
       "L 87.5 33.3\n",
       "L 87.5 35.1\n",
       "L 85.7 35.1\n",
       "L 85.7 33.3\n",
       "' fill='#000000'/>\n",
       "<path  class='atom-3' d='M 94.6 34.9\n",
       "Q 95.8 35.3, 96.4 36.1\n",
       "Q 97.1 36.9, 97.1 38.2\n",
       "Q 97.1 39.3, 96.5 40.2\n",
       "Q 95.9 41.0, 94.9 41.5\n",
       "Q 93.9 41.9, 92.6 41.9\n",
       "Q 91.2 41.9, 90.2 41.5\n",
       "Q 89.1 41.0, 88.3 40.0\n",
       "L 89.4 38.9\n",
       "Q 90.2 39.8, 90.8 40.1\n",
       "Q 91.5 40.5, 92.6 40.5\n",
       "Q 93.8 40.5, 94.5 39.9\n",
       "Q 95.2 39.2, 95.2 38.2\n",
       "Q 95.2 36.9, 94.5 36.3\n",
       "Q 93.7 35.7, 92.1 35.7\n",
       "L 91.2 35.7\n",
       "L 91.2 34.3\n",
       "L 92.0 34.3\n",
       "Q 93.4 34.3, 94.2 33.7\n",
       "Q 94.9 33.1, 94.9 31.9\n",
       "Q 94.9 31.1, 94.3 30.6\n",
       "Q 93.7 30.1, 92.6 30.1\n",
       "Q 91.5 30.1, 90.9 30.5\n",
       "Q 90.2 30.9, 89.7 31.8\n",
       "L 88.4 31.1\n",
       "Q 88.9 30.1, 90.0 29.3\n",
       "Q 91.1 28.6, 92.6 28.6\n",
       "Q 94.5 28.6, 95.7 29.5\n",
       "Q 96.8 30.4, 96.8 31.9\n",
       "Q 96.8 33.0, 96.2 33.7\n",
       "Q 95.6 34.5, 94.6 34.9\n",
       "' fill='#000000'/>\n",
       "<path  class='atom-4' d='M 109.1 64.7\n",
       "Q 109.1 61.5, 110.6 59.8\n",
       "Q 112.1 58.1, 115.0 58.1\n",
       "Q 117.7 58.1, 119.1 59.9\n",
       "L 117.9 60.9\n",
       "Q 116.8 59.6, 115.0 59.6\n",
       "Q 113.0 59.6, 112.0 60.9\n",
       "Q 110.9 62.2, 110.9 64.7\n",
       "Q 110.9 67.3, 112.0 68.6\n",
       "Q 113.1 69.9, 115.2 69.9\n",
       "Q 116.6 69.9, 118.3 69.0\n",
       "L 118.8 70.4\n",
       "Q 118.1 70.9, 117.1 71.1\n",
       "Q 116.1 71.4, 114.9 71.4\n",
       "Q 112.1 71.4, 110.6 69.6\n",
       "Q 109.1 67.9, 109.1 64.7\n",
       "' fill='#000000'/>\n",
       "<path  class='atom-4' d='M 120.5 69.1\n",
       "L 122.3 69.1\n",
       "L 122.3 70.9\n",
       "L 120.5 70.9\n",
       "L 120.5 69.1\n",
       "M 120.5 62.7\n",
       "L 122.3 62.7\n",
       "L 122.3 64.6\n",
       "L 120.5 64.6\n",
       "L 120.5 62.7\n",
       "' fill='#000000'/>\n",
       "<path  class='atom-4' d='M 131.3 66.7\n",
       "L 132.9 66.7\n",
       "L 132.9 68.2\n",
       "L 131.3 68.2\n",
       "L 131.3 71.2\n",
       "L 129.6 71.2\n",
       "L 129.6 68.2\n",
       "L 122.9 68.2\n",
       "L 122.9 67.1\n",
       "L 128.6 58.2\n",
       "L 131.3 58.2\n",
       "L 131.3 66.7\n",
       "M 125.0 66.7\n",
       "L 129.6 66.7\n",
       "L 129.6 59.4\n",
       "L 125.0 66.7\n",
       "' fill='#000000'/>\n",
       "<path  class='atom-5' d='M 111.9 109.9\n",
       "Q 111.9 106.7, 113.4 105.0\n",
       "Q 115.0 103.3, 117.8 103.3\n",
       "Q 120.5 103.3, 122.0 105.2\n",
       "L 120.8 106.2\n",
       "Q 119.7 104.8, 117.8 104.8\n",
       "Q 115.9 104.8, 114.8 106.1\n",
       "Q 113.8 107.4, 113.8 109.9\n",
       "Q 113.8 112.5, 114.9 113.8\n",
       "Q 116.0 115.1, 118.1 115.1\n",
       "Q 119.5 115.1, 121.2 114.3\n",
       "L 121.7 115.6\n",
       "Q 121.0 116.1, 120.0 116.3\n",
       "Q 118.9 116.6, 117.8 116.6\n",
       "Q 115.0 116.6, 113.4 114.9\n",
       "Q 111.9 113.1, 111.9 109.9\n",
       "' fill='#000000'/>\n",
       "<path  class='atom-5' d='M 123.3 114.3\n",
       "L 125.2 114.3\n",
       "L 125.2 116.1\n",
       "L 123.3 116.1\n",
       "L 123.3 114.3\n",
       "M 123.3 108.0\n",
       "L 125.2 108.0\n",
       "L 125.2 109.8\n",
       "L 123.3 109.8\n",
       "L 123.3 108.0\n",
       "' fill='#000000'/>\n",
       "<path  class='atom-5' d='M 130.7 108.3\n",
       "Q 131.9 108.3, 132.8 108.8\n",
       "Q 133.8 109.3, 134.3 110.2\n",
       "Q 134.8 111.1, 134.8 112.3\n",
       "Q 134.8 113.7, 134.2 114.6\n",
       "Q 133.5 115.6, 132.4 116.1\n",
       "Q 131.4 116.6, 130.2 116.6\n",
       "Q 129.0 116.6, 127.9 116.1\n",
       "Q 126.8 115.7, 126.0 114.9\n",
       "L 127.1 113.7\n",
       "Q 127.7 114.4, 128.6 114.7\n",
       "Q 129.4 115.1, 130.2 115.1\n",
       "Q 131.4 115.1, 132.2 114.4\n",
       "Q 133.0 113.7, 133.0 112.4\n",
       "Q 133.0 111.0, 132.2 110.3\n",
       "Q 131.4 109.7, 130.1 109.7\n",
       "Q 129.0 109.7, 127.7 110.2\n",
       "L 126.7 109.7\n",
       "L 127.3 103.4\n",
       "L 134.0 103.4\n",
       "L 133.8 104.9\n",
       "L 128.8 104.9\n",
       "L 128.4 108.8\n",
       "Q 129.6 108.3, 130.7 108.3\n",
       "' fill='#000000'/>\n",
       "<path  class='atom-6' d='M 152.4 48.9\n",
       "Q 152.4 45.7, 153.9 44.0\n",
       "Q 155.4 42.3, 158.3 42.3\n",
       "Q 161.0 42.3, 162.4 44.2\n",
       "L 161.2 45.2\n",
       "Q 160.1 43.8, 158.3 43.8\n",
       "Q 156.3 43.8, 155.3 45.1\n",
       "Q 154.2 46.4, 154.2 48.9\n",
       "Q 154.2 51.5, 155.3 52.8\n",
       "Q 156.4 54.1, 158.5 54.1\n",
       "Q 159.9 54.1, 161.6 53.3\n",
       "L 162.1 54.6\n",
       "Q 161.4 55.1, 160.4 55.3\n",
       "Q 159.4 55.6, 158.2 55.6\n",
       "Q 155.4 55.6, 153.9 53.9\n",
       "Q 152.4 52.1, 152.4 48.9\n",
       "' fill='#000000'/>\n",
       "<path  class='atom-6' d='M 163.8 53.3\n",
       "L 165.6 53.3\n",
       "L 165.6 55.1\n",
       "L 163.8 55.1\n",
       "L 163.8 53.3\n",
       "M 163.8 47.0\n",
       "L 165.6 47.0\n",
       "L 165.6 48.8\n",
       "L 163.8 48.8\n",
       "L 163.8 47.0\n",
       "' fill='#000000'/>\n",
       "<path  class='atom-6' d='M 171.9 47.3\n",
       "Q 173.1 47.3, 174.0 47.8\n",
       "Q 174.9 48.3, 175.4 49.2\n",
       "Q 175.9 50.1, 175.9 51.2\n",
       "Q 175.9 52.5, 175.3 53.5\n",
       "Q 174.8 54.5, 173.8 55.0\n",
       "Q 172.8 55.6, 171.5 55.6\n",
       "Q 169.2 55.6, 168.0 54.0\n",
       "Q 166.9 52.4, 166.9 49.3\n",
       "Q 166.9 45.8, 168.3 44.1\n",
       "Q 169.7 42.3, 172.5 42.3\n",
       "Q 173.3 42.3, 174.0 42.5\n",
       "Q 174.7 42.6, 175.4 43.0\n",
       "L 174.6 44.3\n",
       "Q 173.7 43.7, 172.5 43.7\n",
       "Q 170.7 43.7, 169.8 44.9\n",
       "Q 168.8 46.1, 168.7 48.5\n",
       "Q 169.4 47.9, 170.2 47.6\n",
       "Q 171.0 47.3, 171.9 47.3\n",
       "M 171.5 54.1\n",
       "Q 172.2 54.1, 172.8 53.7\n",
       "Q 173.4 53.3, 173.7 52.7\n",
       "Q 174.0 52.0, 174.0 51.2\n",
       "Q 174.0 50.1, 173.4 49.4\n",
       "Q 172.7 48.8, 171.6 48.8\n",
       "Q 170.8 48.8, 170.0 49.1\n",
       "Q 169.3 49.4, 168.7 50.0\n",
       "Q 168.8 52.1, 169.5 53.1\n",
       "Q 170.1 54.1, 171.5 54.1\n",
       "' fill='#000000'/>\n",
       "<path  class='atom-7' d='M 188.1 78.3\n",
       "Q 188.1 75.1, 189.6 73.4\n",
       "Q 191.1 71.7, 194.0 71.7\n",
       "Q 196.7 71.7, 198.1 73.6\n",
       "L 196.9 74.6\n",
       "Q 195.8 73.2, 194.0 73.2\n",
       "Q 192.0 73.2, 191.0 74.5\n",
       "Q 189.9 75.8, 189.9 78.3\n",
       "Q 189.9 80.9, 191.0 82.2\n",
       "Q 192.1 83.6, 194.2 83.6\n",
       "Q 195.6 83.6, 197.3 82.7\n",
       "L 197.8 84.1\n",
       "Q 197.1 84.5, 196.1 84.8\n",
       "Q 195.1 85.0, 193.9 85.0\n",
       "Q 191.1 85.0, 189.6 83.3\n",
       "Q 188.1 81.6, 188.1 78.3\n",
       "' fill='#000000'/>\n",
       "<path  class='atom-7' d='M 199.5 82.7\n",
       "L 201.3 82.7\n",
       "L 201.3 84.5\n",
       "L 199.5 84.5\n",
       "L 199.5 82.7\n",
       "M 199.5 76.4\n",
       "L 201.3 76.4\n",
       "L 201.3 78.2\n",
       "L 199.5 78.2\n",
       "L 199.5 76.4\n",
       "' fill='#000000'/>\n",
       "<path  class='atom-7' d='M 208.4 73.3\n",
       "L 201.6 73.3\n",
       "L 201.6 71.9\n",
       "L 210.3 71.9\n",
       "L 210.3 73.2\n",
       "L 205.0 84.9\n",
       "L 203.2 84.9\n",
       "L 208.4 73.3\n",
       "' fill='#000000'/>\n",
       "<path  class='atom-8' d='M 230.7 62.6\n",
       "Q 230.7 59.3, 232.2 57.6\n",
       "Q 233.7 55.9, 236.6 55.9\n",
       "Q 239.3 55.9, 240.7 57.8\n",
       "L 239.5 58.8\n",
       "Q 238.4 57.4, 236.6 57.4\n",
       "Q 234.6 57.4, 233.6 58.8\n",
       "Q 232.5 60.1, 232.5 62.6\n",
       "Q 232.5 65.1, 233.6 66.4\n",
       "Q 234.7 67.8, 236.8 67.8\n",
       "Q 238.2 67.8, 239.9 66.9\n",
       "L 240.4 68.3\n",
       "Q 239.7 68.7, 238.7 69.0\n",
       "Q 237.7 69.2, 236.5 69.2\n",
       "Q 233.7 69.2, 232.2 67.5\n",
       "Q 230.7 65.8, 230.7 62.6\n",
       "' fill='#000000'/>\n",
       "<path  class='atom-8' d='M 242.1 66.9\n",
       "L 243.9 66.9\n",
       "L 243.9 68.8\n",
       "L 242.1 68.8\n",
       "L 242.1 66.9\n",
       "M 242.1 60.6\n",
       "L 243.9 60.6\n",
       "L 243.9 62.4\n",
       "L 242.1 62.4\n",
       "L 242.1 60.6\n",
       "' fill='#000000'/>\n",
       "<path  class='atom-8' d='M 251.7 62.2\n",
       "Q 252.9 62.7, 253.6 63.5\n",
       "Q 254.2 64.2, 254.2 65.5\n",
       "Q 254.2 66.6, 253.7 67.5\n",
       "Q 253.1 68.3, 252.1 68.8\n",
       "Q 251.1 69.3, 249.7 69.3\n",
       "Q 247.6 69.3, 246.3 68.3\n",
       "Q 245.1 67.3, 245.1 65.5\n",
       "Q 245.1 64.4, 245.6 63.7\n",
       "Q 246.2 62.8, 247.3 62.2\n",
       "Q 246.4 61.8, 246.0 61.1\n",
       "Q 245.5 60.4, 245.5 59.3\n",
       "Q 245.5 57.7, 246.6 56.8\n",
       "Q 247.8 55.9, 249.6 55.9\n",
       "Q 251.5 55.9, 252.6 56.8\n",
       "Q 253.8 57.7, 253.8 59.3\n",
       "Q 253.8 60.2, 253.2 60.9\n",
       "Q 252.7 61.6, 251.7 62.2\n",
       "M 249.6 57.3\n",
       "Q 248.6 57.3, 248.0 57.8\n",
       "Q 247.4 58.3, 247.4 59.3\n",
       "Q 247.4 59.9, 247.8 60.4\n",
       "Q 248.2 60.8, 248.7 61.1\n",
       "Q 249.3 61.3, 250.5 61.7\n",
       "Q 251.2 61.2, 251.6 60.6\n",
       "Q 251.9 60.0, 251.9 59.3\n",
       "Q 251.9 58.3, 251.3 57.8\n",
       "Q 250.7 57.3, 249.6 57.3\n",
       "M 249.7 67.9\n",
       "Q 250.9 67.9, 251.7 67.2\n",
       "Q 252.4 66.6, 252.4 65.5\n",
       "Q 252.4 64.8, 252.0 64.4\n",
       "Q 251.6 63.9, 251.0 63.7\n",
       "Q 250.5 63.4, 249.4 63.1\n",
       "L 248.6 62.8\n",
       "Q 247.7 63.3, 247.3 64.0\n",
       "Q 246.9 64.6, 246.9 65.5\n",
       "Q 246.9 66.6, 247.7 67.2\n",
       "Q 248.4 67.9, 249.7 67.9\n",
       "' fill='#000000'/>\n",
       "<path  class='atom-9' d='M 266.0 92.0\n",
       "Q 266.0 88.8, 267.5 87.1\n",
       "Q 269.0 85.4, 271.9 85.4\n",
       "Q 274.6 85.4, 276.0 87.3\n",
       "L 274.8 88.3\n",
       "Q 273.8 86.9, 271.9 86.9\n",
       "Q 270.0 86.9, 268.9 88.2\n",
       "Q 267.9 89.5, 267.9 92.0\n",
       "Q 267.9 94.6, 269.0 95.9\n",
       "Q 270.0 97.2, 272.1 97.2\n",
       "Q 273.6 97.2, 275.2 96.4\n",
       "L 275.7 97.7\n",
       "Q 275.1 98.2, 274.0 98.4\n",
       "Q 273.0 98.7, 271.9 98.7\n",
       "Q 269.0 98.7, 267.5 97.0\n",
       "Q 266.0 95.2, 266.0 92.0\n",
       "' fill='#000000'/>\n",
       "<path  class='atom-9' d='M 277.4 96.4\n",
       "L 279.3 96.4\n",
       "L 279.3 98.2\n",
       "L 277.4 98.2\n",
       "L 277.4 96.4\n",
       "M 277.4 90.1\n",
       "L 279.3 90.1\n",
       "L 279.3 91.9\n",
       "L 277.4 91.9\n",
       "L 277.4 90.1\n",
       "' fill='#000000'/>\n",
       "<path  class='atom-9' d='M 284.6 85.4\n",
       "Q 286.9 85.4, 288.1 86.9\n",
       "Q 289.3 88.5, 289.3 91.6\n",
       "Q 289.3 95.1, 287.8 96.9\n",
       "Q 286.4 98.7, 283.6 98.7\n",
       "Q 282.8 98.7, 282.1 98.5\n",
       "Q 281.4 98.3, 280.8 97.9\n",
       "L 281.5 96.7\n",
       "Q 282.4 97.2, 283.6 97.2\n",
       "Q 285.4 97.2, 286.4 96.0\n",
       "Q 287.3 94.8, 287.4 92.4\n",
       "Q 286.8 93.0, 285.9 93.3\n",
       "Q 285.1 93.6, 284.2 93.6\n",
       "Q 283.1 93.6, 282.2 93.1\n",
       "Q 281.3 92.6, 280.8 91.7\n",
       "Q 280.3 90.8, 280.3 89.7\n",
       "Q 280.3 88.4, 280.8 87.5\n",
       "Q 281.4 86.5, 282.4 85.9\n",
       "Q 283.4 85.4, 284.6 85.4\n",
       "M 282.1 89.7\n",
       "Q 282.1 90.8, 282.7 91.5\n",
       "Q 283.4 92.2, 284.5 92.2\n",
       "Q 285.3 92.2, 286.1 91.9\n",
       "Q 286.9 91.5, 287.4 91.0\n",
       "Q 287.4 88.8, 286.7 87.8\n",
       "Q 286.0 86.9, 284.6 86.9\n",
       "Q 283.9 86.9, 283.3 87.2\n",
       "Q 282.8 87.6, 282.4 88.3\n",
       "Q 282.1 88.9, 282.1 89.7\n",
       "' fill='#000000'/>\n",
       "<path  class='atom-10' d='M 304.4 76.2\n",
       "Q 304.4 73.0, 305.9 71.3\n",
       "Q 307.4 69.6, 310.3 69.6\n",
       "Q 313.0 69.6, 314.4 71.5\n",
       "L 313.2 72.5\n",
       "Q 312.2 71.1, 310.3 71.1\n",
       "Q 308.4 71.1, 307.3 72.4\n",
       "Q 306.3 73.7, 306.3 76.2\n",
       "Q 306.3 78.8, 307.4 80.1\n",
       "Q 308.4 81.4, 310.5 81.4\n",
       "Q 312.0 81.4, 313.6 80.6\n",
       "L 314.1 81.9\n",
       "Q 313.5 82.4, 312.4 82.6\n",
       "Q 311.4 82.9, 310.3 82.9\n",
       "Q 307.4 82.9, 305.9 81.2\n",
       "Q 304.4 79.4, 304.4 76.2\n",
       "' fill='#000000'/>\n",
       "<path  class='atom-10' d='M 315.8 80.6\n",
       "L 317.7 80.6\n",
       "L 317.7 82.4\n",
       "L 315.8 82.4\n",
       "L 315.8 80.6\n",
       "M 315.8 74.3\n",
       "L 317.7 74.3\n",
       "L 317.7 76.1\n",
       "L 315.8 76.1\n",
       "L 315.8 74.3\n",
       "' fill='#000000'/>\n",
       "<path  class='atom-10' d='M 319.4 81.3\n",
       "L 322.2 81.3\n",
       "L 322.2 71.5\n",
       "L 319.1 72.5\n",
       "L 318.6 71.4\n",
       "L 322.6 69.7\n",
       "L 323.9 69.9\n",
       "L 323.9 81.3\n",
       "L 326.5 81.3\n",
       "L 326.5 82.7\n",
       "L 319.4 82.7\n",
       "L 319.4 81.3\n",
       "' fill='#000000'/>\n",
       "<path  class='atom-10' d='M 332.4 82.9\n",
       "Q 330.0 82.9, 328.8 81.1\n",
       "Q 327.6 79.4, 327.6 76.2\n",
       "Q 327.6 73.1, 328.8 71.3\n",
       "Q 330.0 69.6, 332.4 69.6\n",
       "Q 334.8 69.6, 335.9 71.3\n",
       "Q 337.1 73.1, 337.1 76.2\n",
       "Q 337.1 79.4, 335.9 81.1\n",
       "Q 334.8 82.9, 332.4 82.9\n",
       "M 332.4 81.4\n",
       "Q 333.8 81.4, 334.5 80.1\n",
       "Q 335.3 78.8, 335.3 76.2\n",
       "Q 335.3 73.7, 334.5 72.4\n",
       "Q 333.8 71.1, 332.4 71.1\n",
       "Q 331.0 71.1, 330.2 72.4\n",
       "Q 329.4 73.7, 329.4 76.2\n",
       "Q 329.4 78.8, 330.2 80.1\n",
       "Q 331.0 81.4, 332.4 81.4\n",
       "' fill='#000000'/>\n",
       "<path  class='atom-11' d='M 326.5 31.0\n",
       "Q 326.5 27.8, 328.1 26.1\n",
       "Q 329.6 24.4, 332.5 24.4\n",
       "Q 335.4 24.4, 336.9 26.1\n",
       "Q 338.5 27.8, 338.5 31.0\n",
       "Q 338.5 34.1, 336.9 35.9\n",
       "Q 335.4 37.7, 332.5 37.7\n",
       "Q 329.7 37.7, 328.1 35.9\n",
       "Q 326.5 34.1, 326.5 31.0\n",
       "M 332.5 36.2\n",
       "Q 334.5 36.2, 335.6 34.9\n",
       "Q 336.6 33.6, 336.6 31.0\n",
       "Q 336.6 28.4, 335.6 27.1\n",
       "Q 334.5 25.8, 332.5 25.8\n",
       "Q 330.5 25.8, 329.4 27.1\n",
       "Q 328.4 28.4, 328.4 31.0\n",
       "Q 328.4 33.6, 329.4 34.9\n",
       "Q 330.5 36.2, 332.5 36.2\n",
       "' fill='#FF0000'/>\n",
       "<path  class='atom-11' d='M 339.9 35.4\n",
       "L 341.7 35.4\n",
       "L 341.7 37.2\n",
       "L 339.9 37.2\n",
       "L 339.9 35.4\n",
       "M 339.9 29.0\n",
       "L 341.7 29.0\n",
       "L 341.7 30.9\n",
       "L 339.9 30.9\n",
       "L 339.9 29.0\n",
       "' fill='#FF0000'/>\n",
       "<path  class='atom-11' d='M 343.4 36.0\n",
       "L 346.3 36.0\n",
       "L 346.3 26.3\n",
       "L 343.1 27.3\n",
       "L 342.7 26.2\n",
       "L 346.7 24.4\n",
       "L 348.0 24.6\n",
       "L 348.0 36.0\n",
       "L 350.5 36.0\n",
       "L 350.5 37.5\n",
       "L 343.4 37.5\n",
       "L 343.4 36.0\n",
       "' fill='#FF0000'/>\n",
       "<path  class='atom-11' d='M 352.2 36.0\n",
       "L 355.1 36.0\n",
       "L 355.1 26.3\n",
       "L 351.9 27.3\n",
       "L 351.5 26.2\n",
       "L 355.5 24.4\n",
       "L 356.8 24.6\n",
       "L 356.8 36.0\n",
       "L 359.4 36.0\n",
       "L 359.4 37.5\n",
       "L 352.2 37.5\n",
       "L 352.2 36.0\n",
       "' fill='#FF0000'/>\n",
       "<path  class='atom-12' d='M 338.3 105.6\n",
       "Q 338.3 102.5, 339.8 100.8\n",
       "Q 341.4 99.0, 344.3 99.0\n",
       "Q 347.2 99.0, 348.7 100.8\n",
       "Q 350.2 102.5, 350.2 105.6\n",
       "Q 350.2 108.8, 348.7 110.6\n",
       "Q 347.1 112.4, 344.3 112.4\n",
       "Q 341.4 112.4, 339.8 110.6\n",
       "Q 338.3 108.8, 338.3 105.6\n",
       "M 344.3 110.9\n",
       "Q 346.3 110.9, 347.3 109.6\n",
       "Q 348.4 108.2, 348.4 105.6\n",
       "Q 348.4 103.1, 347.3 101.8\n",
       "Q 346.3 100.5, 344.3 100.5\n",
       "Q 342.3 100.5, 341.2 101.8\n",
       "Q 340.1 103.1, 340.1 105.6\n",
       "Q 340.1 108.3, 341.2 109.6\n",
       "Q 342.3 110.9, 344.3 110.9\n",
       "' fill='#FF0000'/>\n",
       "<path  class='atom-12' d='M 351.6 110.0\n",
       "L 353.5 110.0\n",
       "L 353.5 111.9\n",
       "L 351.6 111.9\n",
       "L 351.6 110.0\n",
       "M 351.6 103.7\n",
       "L 353.5 103.7\n",
       "L 353.5 105.5\n",
       "L 351.6 105.5\n",
       "L 351.6 103.7\n",
       "' fill='#FF0000'/>\n",
       "<path  class='atom-12' d='M 355.2 110.7\n",
       "L 358.0 110.7\n",
       "L 358.0 101.0\n",
       "L 354.9 102.0\n",
       "L 354.4 100.9\n",
       "L 358.4 99.1\n",
       "L 359.7 99.3\n",
       "L 359.7 110.7\n",
       "L 362.3 110.7\n",
       "L 362.3 112.2\n",
       "L 355.2 112.2\n",
       "L 355.2 110.7\n",
       "' fill='#FF0000'/>\n",
       "<path  class='atom-12' d='M 363.2 101.6\n",
       "Q 363.7 100.4, 364.9 99.7\n",
       "Q 366.0 99.0, 367.6 99.0\n",
       "Q 369.5 99.0, 370.6 100.1\n",
       "Q 371.7 101.2, 371.7 103.0\n",
       "Q 371.7 105.0, 370.3 106.8\n",
       "Q 368.9 108.6, 366.0 110.7\n",
       "L 372.0 110.7\n",
       "L 372.0 112.2\n",
       "L 363.2 112.2\n",
       "L 363.2 110.9\n",
       "Q 365.6 109.2, 367.1 107.9\n",
       "Q 368.5 106.6, 369.2 105.5\n",
       "Q 369.9 104.3, 369.9 103.1\n",
       "Q 369.9 101.9, 369.3 101.2\n",
       "Q 368.7 100.5, 367.6 100.5\n",
       "Q 366.5 100.5, 365.8 100.9\n",
       "Q 365.1 101.3, 364.6 102.3\n",
       "L 363.2 101.6\n",
       "' fill='#FF0000'/>\n",
       "<path  class='atom-13' d='M 398.0 89.9\n",
       "Q 398.0 86.6, 399.5 84.9\n",
       "Q 401.0 83.2, 403.9 83.2\n",
       "Q 406.6 83.2, 408.0 85.1\n",
       "L 406.8 86.1\n",
       "Q 405.7 84.7, 403.9 84.7\n",
       "Q 401.9 84.7, 400.9 86.1\n",
       "Q 399.8 87.4, 399.8 89.9\n",
       "Q 399.8 92.4, 400.9 93.8\n",
       "Q 402.0 95.1, 404.1 95.1\n",
       "Q 405.5 95.1, 407.2 94.2\n",
       "L 407.7 95.6\n",
       "Q 407.0 96.0, 406.0 96.3\n",
       "Q 405.0 96.6, 403.8 96.6\n",
       "Q 401.0 96.6, 399.5 94.8\n",
       "Q 398.0 93.1, 398.0 89.9\n",
       "' fill='#000000'/>\n",
       "<path  class='atom-13' d='M 409.4 94.2\n",
       "L 411.2 94.2\n",
       "L 411.2 96.1\n",
       "L 409.4 96.1\n",
       "L 409.4 94.2\n",
       "M 409.4 87.9\n",
       "L 411.2 87.9\n",
       "L 411.2 89.8\n",
       "L 409.4 89.8\n",
       "L 409.4 87.9\n",
       "' fill='#000000'/>\n",
       "<path  class='atom-13' d='M 412.9 94.9\n",
       "L 415.8 94.9\n",
       "L 415.8 85.2\n",
       "L 412.6 86.2\n",
       "L 412.2 85.1\n",
       "L 416.2 83.3\n",
       "L 417.5 83.5\n",
       "L 417.5 94.9\n",
       "L 420.0 94.9\n",
       "L 420.0 96.4\n",
       "L 412.9 96.4\n",
       "L 412.9 94.9\n",
       "' fill='#000000'/>\n",
       "<path  class='atom-13' d='M 427.0 89.5\n",
       "Q 428.3 89.9, 428.9 90.7\n",
       "Q 429.5 91.5, 429.5 92.8\n",
       "Q 429.5 93.9, 429.0 94.8\n",
       "Q 428.4 95.6, 427.4 96.1\n",
       "Q 426.4 96.6, 425.1 96.6\n",
       "Q 423.7 96.6, 422.7 96.1\n",
       "Q 421.6 95.6, 420.8 94.6\n",
       "L 421.9 93.5\n",
       "Q 422.7 94.4, 423.3 94.8\n",
       "Q 424.0 95.1, 425.1 95.1\n",
       "Q 426.3 95.1, 427.0 94.5\n",
       "Q 427.7 93.8, 427.7 92.8\n",
       "Q 427.7 91.5, 427.0 90.9\n",
       "Q 426.2 90.3, 424.6 90.3\n",
       "L 423.7 90.3\n",
       "L 423.7 89.0\n",
       "L 424.5 89.0\n",
       "Q 425.9 89.0, 426.7 88.3\n",
       "Q 427.4 87.7, 427.4 86.6\n",
       "Q 427.4 85.7, 426.8 85.2\n",
       "Q 426.2 84.7, 425.1 84.7\n",
       "Q 424.0 84.7, 423.4 85.1\n",
       "Q 422.7 85.5, 422.2 86.5\n",
       "L 420.9 85.8\n",
       "Q 421.4 84.7, 422.5 84.0\n",
       "Q 423.6 83.2, 425.1 83.2\n",
       "Q 427.0 83.2, 428.1 84.1\n",
       "Q 429.3 85.0, 429.3 86.6\n",
       "Q 429.3 87.6, 428.7 88.4\n",
       "Q 428.1 89.1, 427.0 89.5\n",
       "' fill='#000000'/>\n",
       "</svg>\n"
      ],
      "text/html": [
       "<?xml version='1.0' encoding='iso-8859-1'?>\n",
       "<svg version='1.1' baseProfile='full'\n",
       "              xmlns='http://www.w3.org/2000/svg'\n",
       "                      xmlns:rdkit='http://www.rdkit.org/xml'\n",
       "                      xmlns:xlink='http://www.w3.org/1999/xlink'\n",
       "                  xml:space='preserve'\n",
       "width='450px' height='150px' viewBox='0 0 450 150'>\n",
       "<!-- END OF HEADER -->\n",
       "<rect style='opacity:1.0;fill:#FFFFFF;stroke:none' width='450.0' height='150.0' x='0.0' y='0.0'> </rect>\n",
       "<path class='bond-0 atom-0 atom-1' d='M 73.8,125.6 L 43.7,100.4' style='fill:none;fill-rule:evenodd;stroke:#000000;stroke-width:2.0px;stroke-linecap:butt;stroke-linejoin:miter;stroke-opacity:1' />\n",
       "<path class='bond-0 atom-0 atom-1' d='M 75.2,114.8 L 54.1,97.2' style='fill:none;fill-rule:evenodd;stroke:#000000;stroke-width:2.0px;stroke-linecap:butt;stroke-linejoin:miter;stroke-opacity:1' />\n",
       "<path class='bond-13 atom-5 atom-0' d='M 110.8,112.1 L 73.8,125.6' style='fill:none;fill-rule:evenodd;stroke:#000000;stroke-width:2.0px;stroke-linecap:butt;stroke-linejoin:miter;stroke-opacity:1' />\n",
       "<path class='bond-1 atom-1 atom-2' d='M 39.9,88.6 L 45.2,58.5' style='fill:none;fill-rule:evenodd;stroke:#000000;stroke-width:2.0px;stroke-linecap:butt;stroke-linejoin:miter;stroke-opacity:1' />\n",
       "<path class='bond-2 atom-2 atom-3' d='M 52.0,48.9 L 73.3,41.2' style='fill:none;fill-rule:evenodd;stroke:#000000;stroke-width:2.0px;stroke-linecap:butt;stroke-linejoin:miter;stroke-opacity:1' />\n",
       "<path class='bond-2 atom-2 atom-3' d='M 58.4,56.4 L 73.3,50.9' style='fill:none;fill-rule:evenodd;stroke:#000000;stroke-width:2.0px;stroke-linecap:butt;stroke-linejoin:miter;stroke-opacity:1' />\n",
       "<path class='bond-3 atom-3 atom-4' d='M 98.2,42.4 L 115.9,57.2' style='fill:none;fill-rule:evenodd;stroke:#000000;stroke-width:2.0px;stroke-linecap:butt;stroke-linejoin:miter;stroke-opacity:1' />\n",
       "<path class='bond-4 atom-4 atom-5' d='M 123.5,72.4 L 118.3,102.3' style='fill:none;fill-rule:evenodd;stroke:#000000;stroke-width:2.0px;stroke-linecap:butt;stroke-linejoin:miter;stroke-opacity:1' />\n",
       "<path class='bond-4 atom-4 atom-5' d='M 113.7,75.3 L 110.0,96.3' style='fill:none;fill-rule:evenodd;stroke:#000000;stroke-width:2.0px;stroke-linecap:butt;stroke-linejoin:miter;stroke-opacity:1' />\n",
       "<path class='bond-5 atom-4 atom-6' d='M 134.0,61.3 L 151.5,54.9' style='fill:none;fill-rule:evenodd;stroke:#000000;stroke-width:2.0px;stroke-linecap:butt;stroke-linejoin:miter;stroke-opacity:1' />\n",
       "<path class='bond-6 atom-6 atom-7' d='M 177.0,56.4 L 194.3,70.9' style='fill:none;fill-rule:evenodd;stroke:#000000;stroke-width:2.0px;stroke-linecap:butt;stroke-linejoin:miter;stroke-opacity:1' />\n",
       "<path class='bond-7 atom-7 atom-8' d='M 211.4,75.3 L 229.7,68.6' style='fill:none;fill-rule:evenodd;stroke:#000000;stroke-width:2.0px;stroke-linecap:butt;stroke-linejoin:miter;stroke-opacity:1' />\n",
       "<path class='bond-8 atom-8 atom-9' d='M 255.4,70.1 L 272.6,84.5' style='fill:none;fill-rule:evenodd;stroke:#000000;stroke-width:2.0px;stroke-linecap:butt;stroke-linejoin:miter;stroke-opacity:1' />\n",
       "<path class='bond-9 atom-9 atom-10' d='M 290.4,88.7 L 303.7,83.8' style='fill:none;fill-rule:evenodd;stroke:#000000;stroke-width:2.0px;stroke-linecap:butt;stroke-linejoin:miter;stroke-opacity:1' />\n",
       "<path class='bond-10 atom-10 atom-11' d='M 330.5,69.3 L 333.1,54.4' style='fill:none;fill-rule:evenodd;stroke:#000000;stroke-width:2.0px;stroke-linecap:butt;stroke-linejoin:miter;stroke-opacity:1' />\n",
       "<path class='bond-10 atom-10 atom-11' d='M 333.1,54.4 L 335.7,39.4' style='fill:none;fill-rule:evenodd;stroke:#FF0000;stroke-width:2.0px;stroke-linecap:butt;stroke-linejoin:miter;stroke-opacity:1' />\n",
       "<path class='bond-10 atom-10 atom-11' d='M 321.4,67.7 L 324.0,52.8' style='fill:none;fill-rule:evenodd;stroke:#000000;stroke-width:2.0px;stroke-linecap:butt;stroke-linejoin:miter;stroke-opacity:1' />\n",
       "<path class='bond-10 atom-10 atom-11' d='M 324.0,52.8 L 326.6,37.9' style='fill:none;fill-rule:evenodd;stroke:#FF0000;stroke-width:2.0px;stroke-linecap:butt;stroke-linejoin:miter;stroke-opacity:1' />\n",
       "<path class='bond-11 atom-10 atom-12' d='M 334.0,84.0 L 342.5,91.1' style='fill:none;fill-rule:evenodd;stroke:#000000;stroke-width:2.0px;stroke-linecap:butt;stroke-linejoin:miter;stroke-opacity:1' />\n",
       "<path class='bond-11 atom-10 atom-12' d='M 342.5,91.1 L 351.0,98.2' style='fill:none;fill-rule:evenodd;stroke:#FF0000;stroke-width:2.0px;stroke-linecap:butt;stroke-linejoin:miter;stroke-opacity:1' />\n",
       "<path class='bond-12 atom-12 atom-13' d='M 373.1,100.7 L 385.1,96.3' style='fill:none;fill-rule:evenodd;stroke:#FF0000;stroke-width:2.0px;stroke-linecap:butt;stroke-linejoin:miter;stroke-opacity:1' />\n",
       "<path class='bond-12 atom-12 atom-13' d='M 385.1,96.3 L 397.2,91.9' style='fill:none;fill-rule:evenodd;stroke:#000000;stroke-width:2.0px;stroke-linecap:butt;stroke-linejoin:miter;stroke-opacity:1' />\n",
       "<path  class='atom-1' d='M 20.5 96.3\n",
       "Q 20.5 93.0, 22.0 91.3\n",
       "Q 23.5 89.6, 26.4 89.6\n",
       "Q 29.0 89.6, 30.5 91.5\n",
       "L 29.3 92.5\n",
       "Q 28.2 91.1, 26.4 91.1\n",
       "Q 24.4 91.1, 23.4 92.5\n",
       "Q 22.3 93.8, 22.3 96.3\n",
       "Q 22.3 98.8, 23.4 100.2\n",
       "Q 24.5 101.5, 26.6 101.5\n",
       "Q 28.0 101.5, 29.7 100.6\n",
       "L 30.2 102.0\n",
       "Q 29.5 102.4, 28.5 102.7\n",
       "Q 27.5 102.9, 26.3 102.9\n",
       "Q 23.5 102.9, 22.0 101.2\n",
       "Q 20.5 99.5, 20.5 96.3\n",
       "' fill='#000000'/>\n",
       "<path  class='atom-1' d='M 31.9 100.6\n",
       "L 33.7 100.6\n",
       "L 33.7 102.5\n",
       "L 31.9 102.5\n",
       "L 31.9 100.6\n",
       "M 31.9 94.3\n",
       "L 33.7 94.3\n",
       "L 33.7 96.1\n",
       "L 31.9 96.1\n",
       "L 31.9 94.3\n",
       "' fill='#000000'/>\n",
       "<path  class='atom-1' d='M 35.4 101.3\n",
       "L 38.3 101.3\n",
       "L 38.3 91.6\n",
       "L 35.1 92.6\n",
       "L 34.7 91.5\n",
       "L 38.7 89.7\n",
       "L 40.0 89.9\n",
       "L 40.0 101.3\n",
       "L 42.5 101.3\n",
       "L 42.5 102.8\n",
       "L 35.4 102.8\n",
       "L 35.4 101.3\n",
       "' fill='#000000'/>\n",
       "<path  class='atom-2' d='M 28.0 51.0\n",
       "Q 28.0 47.8, 29.5 46.1\n",
       "Q 31.0 44.4, 33.9 44.4\n",
       "Q 36.5 44.4, 38.0 46.3\n",
       "L 36.8 47.3\n",
       "Q 35.7 45.9, 33.9 45.9\n",
       "Q 31.9 45.9, 30.9 47.2\n",
       "Q 29.8 48.5, 29.8 51.0\n",
       "Q 29.8 53.6, 30.9 54.9\n",
       "Q 32.0 56.2, 34.1 56.2\n",
       "Q 35.5 56.2, 37.2 55.4\n",
       "L 37.7 56.8\n",
       "Q 37.0 57.2, 36.0 57.5\n",
       "Q 35.0 57.7, 33.8 57.7\n",
       "Q 31.0 57.7, 29.5 56.0\n",
       "Q 28.0 54.3, 28.0 51.0\n",
       "' fill='#000000'/>\n",
       "<path  class='atom-2' d='M 39.4 55.4\n",
       "L 41.2 55.4\n",
       "L 41.2 57.2\n",
       "L 39.4 57.2\n",
       "L 39.4 55.4\n",
       "M 39.4 49.1\n",
       "L 41.2 49.1\n",
       "L 41.2 50.9\n",
       "L 39.4 50.9\n",
       "L 39.4 49.1\n",
       "' fill='#000000'/>\n",
       "<path  class='atom-2' d='M 42.2 47.0\n",
       "Q 42.6 45.8, 43.8 45.1\n",
       "Q 44.9 44.4, 46.5 44.4\n",
       "Q 48.4 44.4, 49.6 45.5\n",
       "Q 50.7 46.5, 50.7 48.4\n",
       "Q 50.7 50.3, 49.2 52.1\n",
       "Q 47.8 53.9, 44.9 56.1\n",
       "L 50.9 56.1\n",
       "L 50.9 57.5\n",
       "L 42.1 57.5\n",
       "L 42.1 56.3\n",
       "Q 44.5 54.6, 46.0 53.3\n",
       "Q 47.4 52.0, 48.1 50.9\n",
       "Q 48.8 49.7, 48.8 48.5\n",
       "Q 48.8 47.3, 48.2 46.6\n",
       "Q 47.6 45.9, 46.5 45.9\n",
       "Q 45.4 45.9, 44.7 46.3\n",
       "Q 44.0 46.7, 43.5 47.6\n",
       "L 42.2 47.0\n",
       "' fill='#000000'/>\n",
       "<path  class='atom-3' d='M 74.3 35.2\n",
       "Q 74.3 32.0, 75.8 30.3\n",
       "Q 77.3 28.6, 80.2 28.6\n",
       "Q 82.9 28.6, 84.3 30.5\n",
       "L 83.1 31.5\n",
       "Q 82.1 30.1, 80.2 30.1\n",
       "Q 78.2 30.1, 77.2 31.4\n",
       "Q 76.2 32.7, 76.2 35.2\n",
       "Q 76.2 37.8, 77.2 39.1\n",
       "Q 78.3 40.5, 80.4 40.5\n",
       "Q 81.8 40.5, 83.5 39.6\n",
       "L 84.0 41.0\n",
       "Q 83.4 41.4, 82.3 41.7\n",
       "Q 81.3 41.9, 80.2 41.9\n",
       "Q 77.3 41.9, 75.8 40.2\n",
       "Q 74.3 38.5, 74.3 35.2\n",
       "' fill='#000000'/>\n",
       "<path  class='atom-3' d='M 85.7 39.6\n",
       "L 87.5 39.6\n",
       "L 87.5 41.4\n",
       "L 85.7 41.4\n",
       "L 85.7 39.6\n",
       "M 85.7 33.3\n",
       "L 87.5 33.3\n",
       "L 87.5 35.1\n",
       "L 85.7 35.1\n",
       "L 85.7 33.3\n",
       "' fill='#000000'/>\n",
       "<path  class='atom-3' d='M 94.6 34.9\n",
       "Q 95.8 35.3, 96.4 36.1\n",
       "Q 97.1 36.9, 97.1 38.2\n",
       "Q 97.1 39.3, 96.5 40.2\n",
       "Q 95.9 41.0, 94.9 41.5\n",
       "Q 93.9 41.9, 92.6 41.9\n",
       "Q 91.2 41.9, 90.2 41.5\n",
       "Q 89.1 41.0, 88.3 40.0\n",
       "L 89.4 38.9\n",
       "Q 90.2 39.8, 90.8 40.1\n",
       "Q 91.5 40.5, 92.6 40.5\n",
       "Q 93.8 40.5, 94.5 39.9\n",
       "Q 95.2 39.2, 95.2 38.2\n",
       "Q 95.2 36.9, 94.5 36.3\n",
       "Q 93.7 35.7, 92.1 35.7\n",
       "L 91.2 35.7\n",
       "L 91.2 34.3\n",
       "L 92.0 34.3\n",
       "Q 93.4 34.3, 94.2 33.7\n",
       "Q 94.9 33.1, 94.9 31.9\n",
       "Q 94.9 31.1, 94.3 30.6\n",
       "Q 93.7 30.1, 92.6 30.1\n",
       "Q 91.5 30.1, 90.9 30.5\n",
       "Q 90.2 30.9, 89.7 31.8\n",
       "L 88.4 31.1\n",
       "Q 88.9 30.1, 90.0 29.3\n",
       "Q 91.1 28.6, 92.6 28.6\n",
       "Q 94.5 28.6, 95.7 29.5\n",
       "Q 96.8 30.4, 96.8 31.9\n",
       "Q 96.8 33.0, 96.2 33.7\n",
       "Q 95.6 34.5, 94.6 34.9\n",
       "' fill='#000000'/>\n",
       "<path  class='atom-4' d='M 109.1 64.7\n",
       "Q 109.1 61.5, 110.6 59.8\n",
       "Q 112.1 58.1, 115.0 58.1\n",
       "Q 117.7 58.1, 119.1 59.9\n",
       "L 117.9 60.9\n",
       "Q 116.8 59.6, 115.0 59.6\n",
       "Q 113.0 59.6, 112.0 60.9\n",
       "Q 110.9 62.2, 110.9 64.7\n",
       "Q 110.9 67.3, 112.0 68.6\n",
       "Q 113.1 69.9, 115.2 69.9\n",
       "Q 116.6 69.9, 118.3 69.0\n",
       "L 118.8 70.4\n",
       "Q 118.1 70.9, 117.1 71.1\n",
       "Q 116.1 71.4, 114.9 71.4\n",
       "Q 112.1 71.4, 110.6 69.6\n",
       "Q 109.1 67.9, 109.1 64.7\n",
       "' fill='#000000'/>\n",
       "<path  class='atom-4' d='M 120.5 69.1\n",
       "L 122.3 69.1\n",
       "L 122.3 70.9\n",
       "L 120.5 70.9\n",
       "L 120.5 69.1\n",
       "M 120.5 62.7\n",
       "L 122.3 62.7\n",
       "L 122.3 64.6\n",
       "L 120.5 64.6\n",
       "L 120.5 62.7\n",
       "' fill='#000000'/>\n",
       "<path  class='atom-4' d='M 131.3 66.7\n",
       "L 132.9 66.7\n",
       "L 132.9 68.2\n",
       "L 131.3 68.2\n",
       "L 131.3 71.2\n",
       "L 129.6 71.2\n",
       "L 129.6 68.2\n",
       "L 122.9 68.2\n",
       "L 122.9 67.1\n",
       "L 128.6 58.2\n",
       "L 131.3 58.2\n",
       "L 131.3 66.7\n",
       "M 125.0 66.7\n",
       "L 129.6 66.7\n",
       "L 129.6 59.4\n",
       "L 125.0 66.7\n",
       "' fill='#000000'/>\n",
       "<path  class='atom-5' d='M 111.9 109.9\n",
       "Q 111.9 106.7, 113.4 105.0\n",
       "Q 115.0 103.3, 117.8 103.3\n",
       "Q 120.5 103.3, 122.0 105.2\n",
       "L 120.8 106.2\n",
       "Q 119.7 104.8, 117.8 104.8\n",
       "Q 115.9 104.8, 114.8 106.1\n",
       "Q 113.8 107.4, 113.8 109.9\n",
       "Q 113.8 112.5, 114.9 113.8\n",
       "Q 116.0 115.1, 118.1 115.1\n",
       "Q 119.5 115.1, 121.2 114.3\n",
       "L 121.7 115.6\n",
       "Q 121.0 116.1, 120.0 116.3\n",
       "Q 118.9 116.6, 117.8 116.6\n",
       "Q 115.0 116.6, 113.4 114.9\n",
       "Q 111.9 113.1, 111.9 109.9\n",
       "' fill='#000000'/>\n",
       "<path  class='atom-5' d='M 123.3 114.3\n",
       "L 125.2 114.3\n",
       "L 125.2 116.1\n",
       "L 123.3 116.1\n",
       "L 123.3 114.3\n",
       "M 123.3 108.0\n",
       "L 125.2 108.0\n",
       "L 125.2 109.8\n",
       "L 123.3 109.8\n",
       "L 123.3 108.0\n",
       "' fill='#000000'/>\n",
       "<path  class='atom-5' d='M 130.7 108.3\n",
       "Q 131.9 108.3, 132.8 108.8\n",
       "Q 133.8 109.3, 134.3 110.2\n",
       "Q 134.8 111.1, 134.8 112.3\n",
       "Q 134.8 113.7, 134.2 114.6\n",
       "Q 133.5 115.6, 132.4 116.1\n",
       "Q 131.4 116.6, 130.2 116.6\n",
       "Q 129.0 116.6, 127.9 116.1\n",
       "Q 126.8 115.7, 126.0 114.9\n",
       "L 127.1 113.7\n",
       "Q 127.7 114.4, 128.6 114.7\n",
       "Q 129.4 115.1, 130.2 115.1\n",
       "Q 131.4 115.1, 132.2 114.4\n",
       "Q 133.0 113.7, 133.0 112.4\n",
       "Q 133.0 111.0, 132.2 110.3\n",
       "Q 131.4 109.7, 130.1 109.7\n",
       "Q 129.0 109.7, 127.7 110.2\n",
       "L 126.7 109.7\n",
       "L 127.3 103.4\n",
       "L 134.0 103.4\n",
       "L 133.8 104.9\n",
       "L 128.8 104.9\n",
       "L 128.4 108.8\n",
       "Q 129.6 108.3, 130.7 108.3\n",
       "' fill='#000000'/>\n",
       "<path  class='atom-6' d='M 152.4 48.9\n",
       "Q 152.4 45.7, 153.9 44.0\n",
       "Q 155.4 42.3, 158.3 42.3\n",
       "Q 161.0 42.3, 162.4 44.2\n",
       "L 161.2 45.2\n",
       "Q 160.1 43.8, 158.3 43.8\n",
       "Q 156.3 43.8, 155.3 45.1\n",
       "Q 154.2 46.4, 154.2 48.9\n",
       "Q 154.2 51.5, 155.3 52.8\n",
       "Q 156.4 54.1, 158.5 54.1\n",
       "Q 159.9 54.1, 161.6 53.3\n",
       "L 162.1 54.6\n",
       "Q 161.4 55.1, 160.4 55.3\n",
       "Q 159.4 55.6, 158.2 55.6\n",
       "Q 155.4 55.6, 153.9 53.9\n",
       "Q 152.4 52.1, 152.4 48.9\n",
       "' fill='#000000'/>\n",
       "<path  class='atom-6' d='M 163.8 53.3\n",
       "L 165.6 53.3\n",
       "L 165.6 55.1\n",
       "L 163.8 55.1\n",
       "L 163.8 53.3\n",
       "M 163.8 47.0\n",
       "L 165.6 47.0\n",
       "L 165.6 48.8\n",
       "L 163.8 48.8\n",
       "L 163.8 47.0\n",
       "' fill='#000000'/>\n",
       "<path  class='atom-6' d='M 171.9 47.3\n",
       "Q 173.1 47.3, 174.0 47.8\n",
       "Q 174.9 48.3, 175.4 49.2\n",
       "Q 175.9 50.1, 175.9 51.2\n",
       "Q 175.9 52.5, 175.3 53.5\n",
       "Q 174.8 54.5, 173.8 55.0\n",
       "Q 172.8 55.6, 171.5 55.6\n",
       "Q 169.2 55.6, 168.0 54.0\n",
       "Q 166.9 52.4, 166.9 49.3\n",
       "Q 166.9 45.8, 168.3 44.1\n",
       "Q 169.7 42.3, 172.5 42.3\n",
       "Q 173.3 42.3, 174.0 42.5\n",
       "Q 174.7 42.6, 175.4 43.0\n",
       "L 174.6 44.3\n",
       "Q 173.7 43.7, 172.5 43.7\n",
       "Q 170.7 43.7, 169.8 44.9\n",
       "Q 168.8 46.1, 168.7 48.5\n",
       "Q 169.4 47.9, 170.2 47.6\n",
       "Q 171.0 47.3, 171.9 47.3\n",
       "M 171.5 54.1\n",
       "Q 172.2 54.1, 172.8 53.7\n",
       "Q 173.4 53.3, 173.7 52.7\n",
       "Q 174.0 52.0, 174.0 51.2\n",
       "Q 174.0 50.1, 173.4 49.4\n",
       "Q 172.7 48.8, 171.6 48.8\n",
       "Q 170.8 48.8, 170.0 49.1\n",
       "Q 169.3 49.4, 168.7 50.0\n",
       "Q 168.8 52.1, 169.5 53.1\n",
       "Q 170.1 54.1, 171.5 54.1\n",
       "' fill='#000000'/>\n",
       "<path  class='atom-7' d='M 188.1 78.3\n",
       "Q 188.1 75.1, 189.6 73.4\n",
       "Q 191.1 71.7, 194.0 71.7\n",
       "Q 196.7 71.7, 198.1 73.6\n",
       "L 196.9 74.6\n",
       "Q 195.8 73.2, 194.0 73.2\n",
       "Q 192.0 73.2, 191.0 74.5\n",
       "Q 189.9 75.8, 189.9 78.3\n",
       "Q 189.9 80.9, 191.0 82.2\n",
       "Q 192.1 83.6, 194.2 83.6\n",
       "Q 195.6 83.6, 197.3 82.7\n",
       "L 197.8 84.1\n",
       "Q 197.1 84.5, 196.1 84.8\n",
       "Q 195.1 85.0, 193.9 85.0\n",
       "Q 191.1 85.0, 189.6 83.3\n",
       "Q 188.1 81.6, 188.1 78.3\n",
       "' fill='#000000'/>\n",
       "<path  class='atom-7' d='M 199.5 82.7\n",
       "L 201.3 82.7\n",
       "L 201.3 84.5\n",
       "L 199.5 84.5\n",
       "L 199.5 82.7\n",
       "M 199.5 76.4\n",
       "L 201.3 76.4\n",
       "L 201.3 78.2\n",
       "L 199.5 78.2\n",
       "L 199.5 76.4\n",
       "' fill='#000000'/>\n",
       "<path  class='atom-7' d='M 208.4 73.3\n",
       "L 201.6 73.3\n",
       "L 201.6 71.9\n",
       "L 210.3 71.9\n",
       "L 210.3 73.2\n",
       "L 205.0 84.9\n",
       "L 203.2 84.9\n",
       "L 208.4 73.3\n",
       "' fill='#000000'/>\n",
       "<path  class='atom-8' d='M 230.7 62.6\n",
       "Q 230.7 59.3, 232.2 57.6\n",
       "Q 233.7 55.9, 236.6 55.9\n",
       "Q 239.3 55.9, 240.7 57.8\n",
       "L 239.5 58.8\n",
       "Q 238.4 57.4, 236.6 57.4\n",
       "Q 234.6 57.4, 233.6 58.8\n",
       "Q 232.5 60.1, 232.5 62.6\n",
       "Q 232.5 65.1, 233.6 66.4\n",
       "Q 234.7 67.8, 236.8 67.8\n",
       "Q 238.2 67.8, 239.9 66.9\n",
       "L 240.4 68.3\n",
       "Q 239.7 68.7, 238.7 69.0\n",
       "Q 237.7 69.2, 236.5 69.2\n",
       "Q 233.7 69.2, 232.2 67.5\n",
       "Q 230.7 65.8, 230.7 62.6\n",
       "' fill='#000000'/>\n",
       "<path  class='atom-8' d='M 242.1 66.9\n",
       "L 243.9 66.9\n",
       "L 243.9 68.8\n",
       "L 242.1 68.8\n",
       "L 242.1 66.9\n",
       "M 242.1 60.6\n",
       "L 243.9 60.6\n",
       "L 243.9 62.4\n",
       "L 242.1 62.4\n",
       "L 242.1 60.6\n",
       "' fill='#000000'/>\n",
       "<path  class='atom-8' d='M 251.7 62.2\n",
       "Q 252.9 62.7, 253.6 63.5\n",
       "Q 254.2 64.2, 254.2 65.5\n",
       "Q 254.2 66.6, 253.7 67.5\n",
       "Q 253.1 68.3, 252.1 68.8\n",
       "Q 251.1 69.3, 249.7 69.3\n",
       "Q 247.6 69.3, 246.3 68.3\n",
       "Q 245.1 67.3, 245.1 65.5\n",
       "Q 245.1 64.4, 245.6 63.7\n",
       "Q 246.2 62.8, 247.3 62.2\n",
       "Q 246.4 61.8, 246.0 61.1\n",
       "Q 245.5 60.4, 245.5 59.3\n",
       "Q 245.5 57.7, 246.6 56.8\n",
       "Q 247.8 55.9, 249.6 55.9\n",
       "Q 251.5 55.9, 252.6 56.8\n",
       "Q 253.8 57.7, 253.8 59.3\n",
       "Q 253.8 60.2, 253.2 60.9\n",
       "Q 252.7 61.6, 251.7 62.2\n",
       "M 249.6 57.3\n",
       "Q 248.6 57.3, 248.0 57.8\n",
       "Q 247.4 58.3, 247.4 59.3\n",
       "Q 247.4 59.9, 247.8 60.4\n",
       "Q 248.2 60.8, 248.7 61.1\n",
       "Q 249.3 61.3, 250.5 61.7\n",
       "Q 251.2 61.2, 251.6 60.6\n",
       "Q 251.9 60.0, 251.9 59.3\n",
       "Q 251.9 58.3, 251.3 57.8\n",
       "Q 250.7 57.3, 249.6 57.3\n",
       "M 249.7 67.9\n",
       "Q 250.9 67.9, 251.7 67.2\n",
       "Q 252.4 66.6, 252.4 65.5\n",
       "Q 252.4 64.8, 252.0 64.4\n",
       "Q 251.6 63.9, 251.0 63.7\n",
       "Q 250.5 63.4, 249.4 63.1\n",
       "L 248.6 62.8\n",
       "Q 247.7 63.3, 247.3 64.0\n",
       "Q 246.9 64.6, 246.9 65.5\n",
       "Q 246.9 66.6, 247.7 67.2\n",
       "Q 248.4 67.9, 249.7 67.9\n",
       "' fill='#000000'/>\n",
       "<path  class='atom-9' d='M 266.0 92.0\n",
       "Q 266.0 88.8, 267.5 87.1\n",
       "Q 269.0 85.4, 271.9 85.4\n",
       "Q 274.6 85.4, 276.0 87.3\n",
       "L 274.8 88.3\n",
       "Q 273.8 86.9, 271.9 86.9\n",
       "Q 270.0 86.9, 268.9 88.2\n",
       "Q 267.9 89.5, 267.9 92.0\n",
       "Q 267.9 94.6, 269.0 95.9\n",
       "Q 270.0 97.2, 272.1 97.2\n",
       "Q 273.6 97.2, 275.2 96.4\n",
       "L 275.7 97.7\n",
       "Q 275.1 98.2, 274.0 98.4\n",
       "Q 273.0 98.7, 271.9 98.7\n",
       "Q 269.0 98.7, 267.5 97.0\n",
       "Q 266.0 95.2, 266.0 92.0\n",
       "' fill='#000000'/>\n",
       "<path  class='atom-9' d='M 277.4 96.4\n",
       "L 279.3 96.4\n",
       "L 279.3 98.2\n",
       "L 277.4 98.2\n",
       "L 277.4 96.4\n",
       "M 277.4 90.1\n",
       "L 279.3 90.1\n",
       "L 279.3 91.9\n",
       "L 277.4 91.9\n",
       "L 277.4 90.1\n",
       "' fill='#000000'/>\n",
       "<path  class='atom-9' d='M 284.6 85.4\n",
       "Q 286.9 85.4, 288.1 86.9\n",
       "Q 289.3 88.5, 289.3 91.6\n",
       "Q 289.3 95.1, 287.8 96.9\n",
       "Q 286.4 98.7, 283.6 98.7\n",
       "Q 282.8 98.7, 282.1 98.5\n",
       "Q 281.4 98.3, 280.8 97.9\n",
       "L 281.5 96.7\n",
       "Q 282.4 97.2, 283.6 97.2\n",
       "Q 285.4 97.2, 286.4 96.0\n",
       "Q 287.3 94.8, 287.4 92.4\n",
       "Q 286.8 93.0, 285.9 93.3\n",
       "Q 285.1 93.6, 284.2 93.6\n",
       "Q 283.1 93.6, 282.2 93.1\n",
       "Q 281.3 92.6, 280.8 91.7\n",
       "Q 280.3 90.8, 280.3 89.7\n",
       "Q 280.3 88.4, 280.8 87.5\n",
       "Q 281.4 86.5, 282.4 85.9\n",
       "Q 283.4 85.4, 284.6 85.4\n",
       "M 282.1 89.7\n",
       "Q 282.1 90.8, 282.7 91.5\n",
       "Q 283.4 92.2, 284.5 92.2\n",
       "Q 285.3 92.2, 286.1 91.9\n",
       "Q 286.9 91.5, 287.4 91.0\n",
       "Q 287.4 88.8, 286.7 87.8\n",
       "Q 286.0 86.9, 284.6 86.9\n",
       "Q 283.9 86.9, 283.3 87.2\n",
       "Q 282.8 87.6, 282.4 88.3\n",
       "Q 282.1 88.9, 282.1 89.7\n",
       "' fill='#000000'/>\n",
       "<path  class='atom-10' d='M 304.4 76.2\n",
       "Q 304.4 73.0, 305.9 71.3\n",
       "Q 307.4 69.6, 310.3 69.6\n",
       "Q 313.0 69.6, 314.4 71.5\n",
       "L 313.2 72.5\n",
       "Q 312.2 71.1, 310.3 71.1\n",
       "Q 308.4 71.1, 307.3 72.4\n",
       "Q 306.3 73.7, 306.3 76.2\n",
       "Q 306.3 78.8, 307.4 80.1\n",
       "Q 308.4 81.4, 310.5 81.4\n",
       "Q 312.0 81.4, 313.6 80.6\n",
       "L 314.1 81.9\n",
       "Q 313.5 82.4, 312.4 82.6\n",
       "Q 311.4 82.9, 310.3 82.9\n",
       "Q 307.4 82.9, 305.9 81.2\n",
       "Q 304.4 79.4, 304.4 76.2\n",
       "' fill='#000000'/>\n",
       "<path  class='atom-10' d='M 315.8 80.6\n",
       "L 317.7 80.6\n",
       "L 317.7 82.4\n",
       "L 315.8 82.4\n",
       "L 315.8 80.6\n",
       "M 315.8 74.3\n",
       "L 317.7 74.3\n",
       "L 317.7 76.1\n",
       "L 315.8 76.1\n",
       "L 315.8 74.3\n",
       "' fill='#000000'/>\n",
       "<path  class='atom-10' d='M 319.4 81.3\n",
       "L 322.2 81.3\n",
       "L 322.2 71.5\n",
       "L 319.1 72.5\n",
       "L 318.6 71.4\n",
       "L 322.6 69.7\n",
       "L 323.9 69.9\n",
       "L 323.9 81.3\n",
       "L 326.5 81.3\n",
       "L 326.5 82.7\n",
       "L 319.4 82.7\n",
       "L 319.4 81.3\n",
       "' fill='#000000'/>\n",
       "<path  class='atom-10' d='M 332.4 82.9\n",
       "Q 330.0 82.9, 328.8 81.1\n",
       "Q 327.6 79.4, 327.6 76.2\n",
       "Q 327.6 73.1, 328.8 71.3\n",
       "Q 330.0 69.6, 332.4 69.6\n",
       "Q 334.8 69.6, 335.9 71.3\n",
       "Q 337.1 73.1, 337.1 76.2\n",
       "Q 337.1 79.4, 335.9 81.1\n",
       "Q 334.8 82.9, 332.4 82.9\n",
       "M 332.4 81.4\n",
       "Q 333.8 81.4, 334.5 80.1\n",
       "Q 335.3 78.8, 335.3 76.2\n",
       "Q 335.3 73.7, 334.5 72.4\n",
       "Q 333.8 71.1, 332.4 71.1\n",
       "Q 331.0 71.1, 330.2 72.4\n",
       "Q 329.4 73.7, 329.4 76.2\n",
       "Q 329.4 78.8, 330.2 80.1\n",
       "Q 331.0 81.4, 332.4 81.4\n",
       "' fill='#000000'/>\n",
       "<path  class='atom-11' d='M 326.5 31.0\n",
       "Q 326.5 27.8, 328.1 26.1\n",
       "Q 329.6 24.4, 332.5 24.4\n",
       "Q 335.4 24.4, 336.9 26.1\n",
       "Q 338.5 27.8, 338.5 31.0\n",
       "Q 338.5 34.1, 336.9 35.9\n",
       "Q 335.4 37.7, 332.5 37.7\n",
       "Q 329.7 37.7, 328.1 35.9\n",
       "Q 326.5 34.1, 326.5 31.0\n",
       "M 332.5 36.2\n",
       "Q 334.5 36.2, 335.6 34.9\n",
       "Q 336.6 33.6, 336.6 31.0\n",
       "Q 336.6 28.4, 335.6 27.1\n",
       "Q 334.5 25.8, 332.5 25.8\n",
       "Q 330.5 25.8, 329.4 27.1\n",
       "Q 328.4 28.4, 328.4 31.0\n",
       "Q 328.4 33.6, 329.4 34.9\n",
       "Q 330.5 36.2, 332.5 36.2\n",
       "' fill='#FF0000'/>\n",
       "<path  class='atom-11' d='M 339.9 35.4\n",
       "L 341.7 35.4\n",
       "L 341.7 37.2\n",
       "L 339.9 37.2\n",
       "L 339.9 35.4\n",
       "M 339.9 29.0\n",
       "L 341.7 29.0\n",
       "L 341.7 30.9\n",
       "L 339.9 30.9\n",
       "L 339.9 29.0\n",
       "' fill='#FF0000'/>\n",
       "<path  class='atom-11' d='M 343.4 36.0\n",
       "L 346.3 36.0\n",
       "L 346.3 26.3\n",
       "L 343.1 27.3\n",
       "L 342.7 26.2\n",
       "L 346.7 24.4\n",
       "L 348.0 24.6\n",
       "L 348.0 36.0\n",
       "L 350.5 36.0\n",
       "L 350.5 37.5\n",
       "L 343.4 37.5\n",
       "L 343.4 36.0\n",
       "' fill='#FF0000'/>\n",
       "<path  class='atom-11' d='M 352.2 36.0\n",
       "L 355.1 36.0\n",
       "L 355.1 26.3\n",
       "L 351.9 27.3\n",
       "L 351.5 26.2\n",
       "L 355.5 24.4\n",
       "L 356.8 24.6\n",
       "L 356.8 36.0\n",
       "L 359.4 36.0\n",
       "L 359.4 37.5\n",
       "L 352.2 37.5\n",
       "L 352.2 36.0\n",
       "' fill='#FF0000'/>\n",
       "<path  class='atom-12' d='M 338.3 105.6\n",
       "Q 338.3 102.5, 339.8 100.8\n",
       "Q 341.4 99.0, 344.3 99.0\n",
       "Q 347.2 99.0, 348.7 100.8\n",
       "Q 350.2 102.5, 350.2 105.6\n",
       "Q 350.2 108.8, 348.7 110.6\n",
       "Q 347.1 112.4, 344.3 112.4\n",
       "Q 341.4 112.4, 339.8 110.6\n",
       "Q 338.3 108.8, 338.3 105.6\n",
       "M 344.3 110.9\n",
       "Q 346.3 110.9, 347.3 109.6\n",
       "Q 348.4 108.2, 348.4 105.6\n",
       "Q 348.4 103.1, 347.3 101.8\n",
       "Q 346.3 100.5, 344.3 100.5\n",
       "Q 342.3 100.5, 341.2 101.8\n",
       "Q 340.1 103.1, 340.1 105.6\n",
       "Q 340.1 108.3, 341.2 109.6\n",
       "Q 342.3 110.9, 344.3 110.9\n",
       "' fill='#FF0000'/>\n",
       "<path  class='atom-12' d='M 351.6 110.0\n",
       "L 353.5 110.0\n",
       "L 353.5 111.9\n",
       "L 351.6 111.9\n",
       "L 351.6 110.0\n",
       "M 351.6 103.7\n",
       "L 353.5 103.7\n",
       "L 353.5 105.5\n",
       "L 351.6 105.5\n",
       "L 351.6 103.7\n",
       "' fill='#FF0000'/>\n",
       "<path  class='atom-12' d='M 355.2 110.7\n",
       "L 358.0 110.7\n",
       "L 358.0 101.0\n",
       "L 354.9 102.0\n",
       "L 354.4 100.9\n",
       "L 358.4 99.1\n",
       "L 359.7 99.3\n",
       "L 359.7 110.7\n",
       "L 362.3 110.7\n",
       "L 362.3 112.2\n",
       "L 355.2 112.2\n",
       "L 355.2 110.7\n",
       "' fill='#FF0000'/>\n",
       "<path  class='atom-12' d='M 363.2 101.6\n",
       "Q 363.7 100.4, 364.9 99.7\n",
       "Q 366.0 99.0, 367.6 99.0\n",
       "Q 369.5 99.0, 370.6 100.1\n",
       "Q 371.7 101.2, 371.7 103.0\n",
       "Q 371.7 105.0, 370.3 106.8\n",
       "Q 368.9 108.6, 366.0 110.7\n",
       "L 372.0 110.7\n",
       "L 372.0 112.2\n",
       "L 363.2 112.2\n",
       "L 363.2 110.9\n",
       "Q 365.6 109.2, 367.1 107.9\n",
       "Q 368.5 106.6, 369.2 105.5\n",
       "Q 369.9 104.3, 369.9 103.1\n",
       "Q 369.9 101.9, 369.3 101.2\n",
       "Q 368.7 100.5, 367.6 100.5\n",
       "Q 366.5 100.5, 365.8 100.9\n",
       "Q 365.1 101.3, 364.6 102.3\n",
       "L 363.2 101.6\n",
       "' fill='#FF0000'/>\n",
       "<path  class='atom-13' d='M 398.0 89.9\n",
       "Q 398.0 86.6, 399.5 84.9\n",
       "Q 401.0 83.2, 403.9 83.2\n",
       "Q 406.6 83.2, 408.0 85.1\n",
       "L 406.8 86.1\n",
       "Q 405.7 84.7, 403.9 84.7\n",
       "Q 401.9 84.7, 400.9 86.1\n",
       "Q 399.8 87.4, 399.8 89.9\n",
       "Q 399.8 92.4, 400.9 93.8\n",
       "Q 402.0 95.1, 404.1 95.1\n",
       "Q 405.5 95.1, 407.2 94.2\n",
       "L 407.7 95.6\n",
       "Q 407.0 96.0, 406.0 96.3\n",
       "Q 405.0 96.6, 403.8 96.6\n",
       "Q 401.0 96.6, 399.5 94.8\n",
       "Q 398.0 93.1, 398.0 89.9\n",
       "' fill='#000000'/>\n",
       "<path  class='atom-13' d='M 409.4 94.2\n",
       "L 411.2 94.2\n",
       "L 411.2 96.1\n",
       "L 409.4 96.1\n",
       "L 409.4 94.2\n",
       "M 409.4 87.9\n",
       "L 411.2 87.9\n",
       "L 411.2 89.8\n",
       "L 409.4 89.8\n",
       "L 409.4 87.9\n",
       "' fill='#000000'/>\n",
       "<path  class='atom-13' d='M 412.9 94.9\n",
       "L 415.8 94.9\n",
       "L 415.8 85.2\n",
       "L 412.6 86.2\n",
       "L 412.2 85.1\n",
       "L 416.2 83.3\n",
       "L 417.5 83.5\n",
       "L 417.5 94.9\n",
       "L 420.0 94.9\n",
       "L 420.0 96.4\n",
       "L 412.9 96.4\n",
       "L 412.9 94.9\n",
       "' fill='#000000'/>\n",
       "<path  class='atom-13' d='M 427.0 89.5\n",
       "Q 428.3 89.9, 428.9 90.7\n",
       "Q 429.5 91.5, 429.5 92.8\n",
       "Q 429.5 93.9, 429.0 94.8\n",
       "Q 428.4 95.6, 427.4 96.1\n",
       "Q 426.4 96.6, 425.1 96.6\n",
       "Q 423.7 96.6, 422.7 96.1\n",
       "Q 421.6 95.6, 420.8 94.6\n",
       "L 421.9 93.5\n",
       "Q 422.7 94.4, 423.3 94.8\n",
       "Q 424.0 95.1, 425.1 95.1\n",
       "Q 426.3 95.1, 427.0 94.5\n",
       "Q 427.7 93.8, 427.7 92.8\n",
       "Q 427.7 91.5, 427.0 90.9\n",
       "Q 426.2 90.3, 424.6 90.3\n",
       "L 423.7 90.3\n",
       "L 423.7 89.0\n",
       "L 424.5 89.0\n",
       "Q 425.9 89.0, 426.7 88.3\n",
       "Q 427.4 87.7, 427.4 86.6\n",
       "Q 427.4 85.7, 426.8 85.2\n",
       "Q 426.2 84.7, 425.1 84.7\n",
       "Q 424.0 84.7, 423.4 85.1\n",
       "Q 422.7 85.5, 422.2 86.5\n",
       "L 420.9 85.8\n",
       "Q 421.4 84.7, 422.5 84.0\n",
       "Q 423.6 83.2, 425.1 83.2\n",
       "Q 427.0 83.2, 428.1 84.1\n",
       "Q 429.3 85.0, 429.3 86.6\n",
       "Q 429.3 87.6, 428.7 88.4\n",
       "Q 428.1 89.1, 427.0 89.5\n",
       "' fill='#000000'/>\n",
       "</svg>\n"
      ],
      "text/plain": [
       "<rdkit.Chem.rdchem.Mol at 0x7f4edc948520>"
      ]
     },
     "execution_count": 38,
     "metadata": {},
     "output_type": "execute_result"
    }
   ],
   "source": [
    "# C70\n",
    "Phenyl_C61_Butyric_Acid_Methyl_Ester = 'C1=CC=CC(=C1)CCCCC(=O)OC'\n",
    "C70BAME = Chem.MolFromSmiles(Phenyl_C61_Butyric_Acid_Methyl_Ester)\n",
    "u_C70BAME = mda.Universe.from_smiles(Phenyl_C61_Butyric_Acid_Methyl_Ester)\n",
    "# Need to add index \n",
    "u_C70BAME_object = u_C70BAME.select_atoms('all')\n",
    "#u_C70BAME_object.write(\"u_C70BAME.xyz\")\n",
    "mol_with_atom_index(C70BAME) # C6 is the attaching ligand "
   ]
  },
  {
   "cell_type": "code",
   "execution_count": null,
   "metadata": {},
   "outputs": [],
   "source": [
    "# https://stackoverflow.com/questions/53075481/how-do-i-cluster-a-list-of-geographic-points-by-distance\n",
    "\n",
    "\n",
    "import numpy as np\n",
    "from sklearn.cluster import KMeans\n",
    "from scipy.spatial.distance import cdist\n",
    "import math\n",
    "\n",
    "points = np.array([[33.    , 41.    ],\n",
    "       [33.9693, 41.3923],\n",
    "       [33.6074, 41.277 ],\n",
    "       [34.4823, 41.919 ],\n",
    "       [34.3702, 41.1424],\n",
    "       [34.3931, 41.078 ],\n",
    "       [34.2377, 41.0576],\n",
    "       [34.2395, 41.0211],\n",
    "       [34.4443, 41.3499],\n",
    "       [34.3812, 40.9793]])\n",
    "\n",
    "\n",
    "def distance(origin, destination): #found here https://gist.github.com/rochacbruno/2883505\n",
    "    lat1, lon1 = origin[0],origin[1]\n",
    "    lat2, lon2 = destination[0],destination[1]\n",
    "    radius = 6371 # km\n",
    "    dlat = math.radians(lat2-lat1)\n",
    "    dlon = math.radians(lon2-lon1)\n",
    "    a = math.sin(dlat/2) * math.sin(dlat/2) + math.cos(math.radians(lat1)) \\\n",
    "        * math.cos(math.radians(lat2)) * math.sin(dlon/2) * math.sin(dlon/2)\n",
    "    c = 2 * math.atan2(math.sqrt(a), math.sqrt(1-a))\n",
    "    d = radius * c\n",
    "\n",
    "    return d\n",
    "\n",
    "def create_clusters(number_of_clusters,points):\n",
    "    kmeans = KMeans(n_clusters=number_of_clusters, random_state=0).fit(points)\n",
    "    l_array = np.array([[label] for label in kmeans.labels_])\n",
    "    clusters = np.append(points,l_array,axis=1)\n",
    "    return clusters\n",
    "\n",
    "def validate_solution(max_dist,clusters):\n",
    "    _, __, n_clust = clusters.max(axis=0)\n",
    "    n_clust = int(n_clust)\n",
    "    for i in range(n_clust):\n",
    "        two_d_cluster=clusters[clusters[:,2] == i][:,np.array([True, True, False])]\n",
    "        if not validate_cluster(max_dist,two_d_cluster):\n",
    "            return False\n",
    "        else:\n",
    "            continue\n",
    "    return True\n",
    "\n",
    "def validate_cluster(max_dist,cluster):\n",
    "    distances = cdist(cluster,cluster, lambda ori,des: int(round(distance(ori,des))))\n",
    "    print(distances)\n",
    "    print(30*'-')\n",
    "    for item in distances.flatten():\n",
    "        if item > max_dist:\n",
    "            return False\n",
    "    return True\n",
    "\n",
    "if __name__ == '__main__':\n",
    "    for i in range(2,len(points)):\n",
    "        print(i)\n",
    "        print(validate_solution(20,create_clusters(i,points)))\n"
   ]
  },
  {
   "cell_type": "code",
   "execution_count": 96,
   "metadata": {},
   "outputs": [
    {
     "ename": "NameError",
     "evalue": "name 'DistIndex1Index2' is not defined",
     "output_type": "error",
     "traceback": [
      "\u001b[0;31m---------------------------------------------------------------------------\u001b[0m",
      "\u001b[0;31mNameError\u001b[0m                                 Traceback (most recent call last)",
      "\u001b[0;32m<ipython-input-96-d2d4f81dbcc1>\u001b[0m in \u001b[0;36m<module>\u001b[0;34m\u001b[0m\n\u001b[0;32m----> 1\u001b[0;31m \u001b[0mDistIndex1Index2\u001b[0m\u001b[0;34m\u001b[0m\u001b[0;34m\u001b[0m\u001b[0m\n\u001b[0m\u001b[1;32m      2\u001b[0m \u001b[0mUniqueIndex1Index2Distances\u001b[0m \u001b[0;34m=\u001b[0m \u001b[0;34m[\u001b[0m\u001b[0mlist\u001b[0m\u001b[0;34m(\u001b[0m\u001b[0mi\u001b[0m\u001b[0;34m)\u001b[0m \u001b[0;32mfor\u001b[0m \u001b[0mi\u001b[0m \u001b[0;32min\u001b[0m \u001b[0mlist\u001b[0m\u001b[0;34m(\u001b[0m\u001b[0mset\u001b[0m\u001b[0;34m(\u001b[0m\u001b[0mmap\u001b[0m\u001b[0;34m(\u001b[0m\u001b[0mtuple\u001b[0m\u001b[0;34m,\u001b[0m \u001b[0mDistIndex1Index2\u001b[0m\u001b[0;34m)\u001b[0m\u001b[0;34m)\u001b[0m\u001b[0;34m)\u001b[0m\u001b[0;34m]\u001b[0m\u001b[0;34m\u001b[0m\u001b[0;34m\u001b[0m\u001b[0m\n",
      "\u001b[0;31mNameError\u001b[0m: name 'DistIndex1Index2' is not defined"
     ]
    }
   ],
   "source": [
    "DistIndex1Index2\n",
    "UniqueIndex1Index2Distances = [list(i) for i in list(set(map(tuple, DistIndex1Index2)))]"
   ]
  },
  {
   "cell_type": "code",
   "execution_count": 133,
   "metadata": {},
   "outputs": [],
   "source": [
    "import os                                                                                                                                                                                                  \n",
    "import numpy as np                                                                                                                                                                                         \n",
    "import itertools                                                                                                                                                                                           \n",
    "import requests                                                                                                                                                                                            \n",
    "import collections                                                                                                                                                                                         \n",
    "import random                                                                                                                                                                                              \n",
    "                                                                                                                                                                                                           \n",
    "# RDKit libaries                                                                                                                                                                                           \n",
    "from rdkit import Chem                                                                                                                                                                                     \n",
    "from rdkit.Chem import AllChem                                                                                                                                                                             \n",
    "from rdkit.Chem import ChemicalFeatures                                                                                                                                                                    \n",
    "from rdkit.Chem import rdchem                                                                                                                                                                              \n",
    "from rdkit.Chem import rdMolDescriptors                                                                                                                                                                    \n",
    "from rdkit import RDConfig                                                                                                                                                                                 \n",
    "                                                                                                                                                                                                           \n",
    "# Boilerplate libraries                                                                                                                                                                                    \n",
    "import sys                                                                                                                                                                                                 \n",
    "import re                                                                                                                                                                                                  \n",
    "import math                                                                                                                                                                                                \n",
    "import scipy                                                                                                                                                                                               \n",
    "                                                                                                                                                                                                           \n",
    "# scipy libaries                                                                                                                                                                                           \n",
    "from scipy.sparse import csr_matrix                                                                                                                                                                        \n",
    "from scipy.sparse.csgraph import floyd_warshall                                                                                                                                                            \n",
    "from scipy.spatial import ConvexHull, convex_hull_plot_2d           \n",
    "\n",
    "def read_DG_data(DGfile):                                                                                                                                                                                  \n",
    "    # Reads Delta G_OW for fragments into dictionary                                                                                                                                                       \n",
    "    DG_data = {}                                                                                                                                                                                           \n",
    "    with open(DGfile) as f:                                                                                                                                                                                \n",
    "        for line in f:                                                                                                                                                                                     \n",
    "            (key,val) = line.rstrip().split()                                                                                                                                                              \n",
    "            DG_data[key] = float(val)                                                                                                                                                                      \n",
    "                                                                                                                                                                                                           \n",
    "    return DG_data                                                                                                                                                                                         \n",
    "                                                                                                                                                                                                           \n",
    "def include_weights(A,w):                                                                                                                                                                                  \n",
    "    # Weights atoms by setting diagonal components                                                                                                                                                         \n",
    "    A_weighted = np.copy(A)                                                                                                                                                                                \n",
    "    for i,weight in enumerate(w):                                                                                                                                                                          \n",
    "        A_weighted[i,i] = weight     \n",
    "        \n",
    "def get_smarts_matches(mol):                                                                                                                                                                               \n",
    "    #Get matches to SMARTS strings                                                                                                                                                                         \n",
    "    smarts_strings = {                                                                                                                                                                                     \n",
    "    'S([O-])(=O)(=O)O'  :    'Qa',                                                                                                                                                                         \n",
    "    'S([O-])(=O)(=O)[C;!$(*F)]'   :    'Q0'}                                                                                                                                                               \n",
    "    matched_maps = []                                                                                                                                                                                      \n",
    "    matched_beads = []                                                                                                                                                                                     \n",
    "    for smarts in smarts_strings:                                                                                                                                                                          \n",
    "        matches = mol.GetSubstructMatches(Chem.MolFromSmarts(smarts))                                                                                                                                      \n",
    "        for match in matches:                                                                                                                                                                              \n",
    "            matched_maps.append(list(match))                                                                                                                                                               \n",
    "            matched_beads.append(smarts_strings[smarts])                                                                                                                                                   \n",
    "                                                                                                                                                                                                           \n",
    "    return matched_maps,matched_beads           "
   ]
  },
  {
   "cell_type": "code",
   "execution_count": 130,
   "metadata": {},
   "outputs": [],
   "source": [
    "DataPath = '/home/sang/Desktop/GIT/MDNPPackage/temp/cgparam/fragment_DGs.dat'"
   ]
  },
  {
   "cell_type": "code",
   "execution_count": 131,
   "metadata": {},
   "outputs": [
    {
     "data": {
      "text/plain": [
       "{'CC': 8.2656,\n",
       " 'CN': -6.0844,\n",
       " 'CO': -7.9212,\n",
       " 'CF': 2.3534,\n",
       " 'CCl': 3.8458,\n",
       " 'C=C': 5.166,\n",
       " 'C=O': -3.9032,\n",
       " 'C#C': -0.1722,\n",
       " 'CCC': 12.5706,\n",
       " 'CCN': -1.148,\n",
       " 'CCO': -2.296,\n",
       " 'CCF': 5.7974,\n",
       " 'CCCl': 8.4378,\n",
       " 'FCF': 1.6646,\n",
       " 'FCCl': 3.5588,\n",
       " 'ClCF': 3.5588,\n",
       " 'ClCCl': 6.4288,\n",
       " 'CNC': -3.0422,\n",
       " 'COC': -0.9184,\n",
       " 'CC=C': 9.6432,\n",
       " 'CC=O': -0.0574,\n",
       " 'CC#N': -0.2296,\n",
       " 'NC=N': -8.036,\n",
       " 'NC=O': -8.7822,\n",
       " 'OC=O': -2.6978,\n",
       " 'FC=C': 5.8548,\n",
       " 'ClC=C': 8.2082,\n",
       " 'NN=C': -1.8368,\n",
       " 'ON=C': -1.7794,\n",
       " 'CC#C': 5.2808,\n",
       " 'CC(C)C': 12.3984,\n",
       " 'CC(C)N': -0.287,\n",
       " 'CC(C)O': 0.2296,\n",
       " 'CC(C)F': 6.1992,\n",
       " 'CC(C)Cl': 8.5526,\n",
       " 'CC(F)F': 4.5346,\n",
       " 'CC(F)Cl': 7.2898,\n",
       " 'CC(Cl)F': 7.2898,\n",
       " 'CC(Cl)Cl': 9.8728,\n",
       " 'FC(F)F': 5.5678,\n",
       " 'FC(F)Cl': 5.6252,\n",
       " 'FC(Cl)F': 5.6252,\n",
       " 'FC(Cl)Cl': 7.3472,\n",
       " 'ClC(F)F': 5.6252,\n",
       " 'ClC(F)Cl': 7.3472,\n",
       " 'ClC(Cl)F': 7.3472,\n",
       " 'ClC(Cl)Cl': 9.5858,\n",
       " 'CN(C)C': -0.8036,\n",
       " 'CC(C)=C': 10.7338,\n",
       " 'CC(C)=O': -1.6646,\n",
       " 'CC(N)=N': -5.74,\n",
       " 'CC(N)=O': -6.314,\n",
       " 'CC(O)=O': -0.6888,\n",
       " 'CC(F)=C': 7.4046,\n",
       " 'CC(Cl)=C': 10.7912,\n",
       " 'NC(N)=N': -11.0208,\n",
       " 'NC(N)=O': -10.2172,\n",
       " 'OC(O)=O': 3.444,\n",
       " 'FC(F)=C': 8.9544,\n",
       " 'FC(Cl)=C': 9.2988,\n",
       " 'ClC(F)=C': 9.2988,\n",
       " 'ClC(Cl)=C': 11.3078,\n",
       " 'CCCC': 16.1294,\n",
       " 'CCCN': 1.7794,\n",
       " 'CCCO': 1.2054,\n",
       " 'CCCF': 9.5858,\n",
       " 'CCCCl': 11.9966,\n",
       " 'NCCN': -10.1598,\n",
       " 'NCCO': -8.7822,\n",
       " 'NCCF': -5.453,\n",
       " 'NCCCl': -2.7552,\n",
       " 'OCCO': -8.7822,\n",
       " 'OCCF': -3.6736,\n",
       " 'OCCCl': 0.0,\n",
       " 'FCCF': 1.148,\n",
       " 'FCCCl': 4.592,\n",
       " 'ClCCF': 4.592,\n",
       " 'ClCCCl': 8.4952,\n",
       " 'CCNC': 0.7462,\n",
       " 'CCOC': 3.3866,\n",
       " 'CCC=C': 12.6854,\n",
       " 'CCC=O': 1.7794,\n",
       " 'CCC#N': -0.0574,\n",
       " 'NCC=C': -2.4682,\n",
       " 'OCC=C': -0.1722,\n",
       " 'OCC=O': -5.6826,\n",
       " 'OCC#N': -6.8306,\n",
       " 'FCC=C': 5.3382,\n",
       " 'ClCC=C': 10.2746,\n",
       " 'FCC=O': -3.0996,\n",
       " 'ClCC=O': 1.0332,\n",
       " 'FCC#N': 0.5166,\n",
       " 'ClCC#N': -0.2296,\n",
       " 'CNC=N': -7.8064,\n",
       " 'CNC=O': -7.5194,\n",
       " 'NNC=N': -10.8486,\n",
       " 'NNC=O': -10.1024,\n",
       " 'ONC=N': -10.1024,\n",
       " 'ONC=O': -11.0208,\n",
       " 'CNN=C': -3.3292,\n",
       " 'COC=C': 2.8126,\n",
       " 'COC=O': -1.7794,\n",
       " 'CON=C': -0.6314,\n",
       " 'CCC#C': 8.0934,\n",
       " 'NCC#C': -4.1328,\n",
       " 'OCC#C': -4.018,\n",
       " 'FCC#C': 3.3866,\n",
       " 'ClCC#C': 6.0844,\n",
       " 'C=CC=C': 11.1356,\n",
       " 'C=CC=O': 1.0332,\n",
       " 'C=CC#N': 1.148,\n",
       " 'O=CC=O': -0.2296,\n",
       " 'O=CC#N': -1.6072,\n",
       " 'N#CC#N': -3.731,\n",
       " 'C=NN=C': 4.8216,\n",
       " 'C=CC#C': 4.6494,\n",
       " 'O=CC#C': -1.0906,\n",
       " 'C#CC#N': 2.009,\n",
       " 'C#CC#C': 4.4772,\n",
       " 'CC=CC': 13.3168,\n",
       " 'CC=CF': 9.4136,\n",
       " 'CC=CCl': 11.3078,\n",
       " 'FC=CF': 6.314,\n",
       " 'FC=CCl': 8.61,\n",
       " 'ClC=CF': 8.61,\n",
       " 'ClC=CCl': 10.619,\n",
       " 'CC=NN': -0.4018,\n",
       " 'CC=NO': -0.861,\n",
       " 'CC#CC': 9.758,\n",
       " 'CC(C)(C)C': 16.933,\n",
       " 'CC(C)(C)N': 4.6494,\n",
       " 'CC(C)(C)O': 4.018,\n",
       " 'CC(C)(C)F': 10.045,\n",
       " 'CC(C)(C)Cl': 13.8334,\n",
       " 'CC(C)(F)F': 6.1418,\n",
       " 'CC(C)(F)Cl': 9.8154,\n",
       " 'CC(C)(Cl)F': 9.8154,\n",
       " 'CC(C)(Cl)Cl': 14.1778,\n",
       " 'CC(F)(F)F': 5.3956,\n",
       " 'CC(F)(F)Cl': 9.6432,\n",
       " 'CC(F)(Cl)F': 9.6432,\n",
       " 'CC(F)(Cl)Cl': 11.9392,\n",
       " 'CC(Cl)(F)F': 9.6432,\n",
       " 'CC(Cl)(F)Cl': 11.9392,\n",
       " 'CC(Cl)(Cl)F': 11.9392,\n",
       " 'CC(Cl)(Cl)Cl': 14.063,\n",
       " 'FC(F)(F)F': 10.045,\n",
       " 'FC(F)(F)Cl': 10.332,\n",
       " 'FC(F)(Cl)F': 10.332,\n",
       " 'FC(F)(Cl)Cl': 11.8244,\n",
       " 'FC(Cl)(F)F': 10.332,\n",
       " 'FC(Cl)(F)Cl': 11.8244,\n",
       " 'FC(Cl)(Cl)F': 11.8244,\n",
       " 'FC(Cl)(Cl)Cl': 12.915,\n",
       " 'ClC(F)(F)F': 10.332,\n",
       " 'ClC(F)(F)Cl': 11.8244,\n",
       " 'ClC(F)(Cl)F': 11.8244,\n",
       " 'ClC(F)(Cl)Cl': 12.915,\n",
       " 'ClC(Cl)(F)F': 11.8244,\n",
       " 'ClC(Cl)(F)Cl': 12.915,\n",
       " 'ClC(Cl)(Cl)F': 12.915,\n",
       " 'ClC(Cl)(Cl)Cl': 15.1536,\n",
       " 'CCC(C)C': 17.9088,\n",
       " 'CC(C)CN': 3.0996,\n",
       " 'CC(C)CO': 3.444,\n",
       " 'CC(C)CF': 10.1598,\n",
       " 'CC(C)CCl': 13.1446,\n",
       " 'CCC(C)N': 4.5346,\n",
       " 'CC(N)CN': -7.8064,\n",
       " 'CC(N)CO': -5.5104,\n",
       " 'CC(N)CF': -2.1238,\n",
       " 'CC(N)CCl': 0.9758,\n",
       " 'CCC(C)O': 3.7884,\n",
       " 'CC(O)CN': -5.9122,\n",
       " 'CC(O)CO': -6.314,\n",
       " 'CC(O)CF': -1.148,\n",
       " 'CC(O)CCl': 2.4682,\n",
       " 'CCC(C)F': 13.2594,\n",
       " 'CCC(C)Cl': 13.4316,\n",
       " 'CC(F)CN': -2.2386,\n",
       " 'CC(Cl)CN': 1.148,\n",
       " 'CC(F)CO': -0.9758,\n",
       " 'CC(Cl)CO': 2.6978,\n",
       " 'CC(F)CF': 4.1328,\n",
       " 'CC(F)CCl': 8.7248,\n",
       " 'CC(Cl)CF': 7.8064,\n",
       " 'CC(Cl)CCl': 12.2262,\n",
       " 'CCC(F)F': 7.0028,\n",
       " 'CCC(F)Cl': 10.7338,\n",
       " 'CCC(Cl)F': 10.7338,\n",
       " 'CCC(Cl)Cl': 13.3168,\n",
       " 'NCC(F)F': -3.2718,\n",
       " 'NCC(F)Cl': -1.9516,\n",
       " 'NCC(Cl)F': -1.9516,\n",
       " 'NCC(Cl)Cl': 0.1722,\n",
       " 'OCC(F)F': -2.1238,\n",
       " 'OCC(F)Cl': 0.4592,\n",
       " 'OCC(Cl)F': 0.4592,\n",
       " 'OCC(Cl)Cl': 3.3866,\n",
       " 'FCC(F)F': 2.6978,\n",
       " 'FCC(F)Cl': 4.7068,\n",
       " 'FCC(Cl)F': 4.7068,\n",
       " 'FCC(Cl)Cl': 8.4378,\n",
       " 'ClCC(F)F': 5.6252,\n",
       " 'ClCC(F)Cl': 9.0118,\n",
       " 'ClCC(Cl)F': 9.0118,\n",
       " 'ClCC(Cl)Cl': 11.5948,\n",
       " 'CNC(C)C': 2.0664,\n",
       " 'COC(C)C': 4.4772,\n",
       " 'CCN(C)C': 4.0754,\n",
       " 'CC(C)C=C': 13.202,\n",
       " 'CC(C)C=O': 3.444,\n",
       " 'CC(C)C#N': 2.87,\n",
       " 'CC(N)C=C': 0.5166,\n",
       " 'CC(O)C=C': 2.7552,\n",
       " 'CC(O)C=O': -5.9696,\n",
       " 'CC(O)C#N': -3.731,\n",
       " 'CC(F)C=C': 9.5284,\n",
       " 'CC(Cl)C=C': 13.1446,\n",
       " 'CC(F)C=O': -1.2628,\n",
       " 'CC(Cl)C=O': 3.2144,\n",
       " 'CC(F)C#N': 2.1812,\n",
       " 'CC(Cl)C#N': 4.0754,\n",
       " 'FC(F)C=C': 6.4862,\n",
       " 'FC(Cl)C=C': 8.7248,\n",
       " 'ClC(F)C=C': 8.7248,\n",
       " 'ClC(Cl)C=C': 12.4558,\n",
       " 'FC(F)C=O': 0.1148,\n",
       " 'FC(Cl)C=O': 0.4018,\n",
       " 'ClC(F)C=O': 0.4018,\n",
       " 'ClC(Cl)C=O': 3.8458,\n",
       " 'FC(F)C#N': 4.4772,\n",
       " 'FC(Cl)C#N': 3.8458,\n",
       " 'ClC(F)C#N': 3.8458,\n",
       " 'ClC(Cl)C#N': 5.7974,\n",
       " 'CN(C)C=N': -4.3624,\n",
       " 'CN(C)C=O': -4.4198,\n",
       " 'CN(N)C=N': -7.462,\n",
       " 'CN(N)C=O': -9.184,\n",
       " 'CN(O)C=N': -6.3714,\n",
       " 'CN(O)C=O': -8.323,\n",
       " 'CN(C)N=C': -2.6978,\n",
       " 'CC(C)C#C': 9.5858,\n",
       " 'CC(N)C#C': -0.8036,\n",
       " 'CC(O)C#C': -1.0906,\n",
       " 'CC(F)C#C': 6.4862,\n",
       " 'CC(Cl)C#C': 8.5526,\n",
       " 'FC(F)C#C': 3.8458,\n",
       " 'FC(Cl)C#C': 7.0028,\n",
       " 'ClC(F)C#C': 7.0028,\n",
       " 'ClC(Cl)C#C': 9.184,\n",
       " 'CCC(C)=C': 16.1868,\n",
       " 'CC(=C)CN': -0.2296,\n",
       " 'CC(=C)CO': 1.9516,\n",
       " 'CC(=C)CF': 9.0118,\n",
       " 'CC(=C)CCl': 12.4558,\n",
       " 'CCC(C)=O': 2.3534,\n",
       " 'CC(=O)CO': -5.8548,\n",
       " 'CC(=O)CF': 3.731,\n",
       " 'CC(=O)CCl': 1.722,\n",
       " 'CCC(N)=N': -2.3534,\n",
       " 'NCC(N)=N': -13.0872,\n",
       " 'NC(=N)CO': -10.906,\n",
       " 'NC(=N)CF': -4.9364,\n",
       " 'NC(=N)CCl': -2.87,\n",
       " 'CCC(N)=O': -3.731,\n",
       " 'NCC(N)=O': -14.2926,\n",
       " 'NC(=O)CO': -9.9302,\n",
       " 'NC(=O)CF': -3.6736,\n",
       " 'NC(=O)CCl': -3.8458,\n",
       " 'CCC(O)=O': 1.7794,\n",
       " 'NCC(O)=O': -19.1716,\n",
       " 'OCC(O)=O': -5.8548,\n",
       " 'OC(=O)CF': -1.7794,\n",
       " 'OC(=O)CCl': 1.0332,\n",
       " 'CCC(F)=C': 11.7096,\n",
       " 'CCC(Cl)=C': 14.8092,\n",
       " 'NCC(F)=C': -2.009,\n",
       " 'NCC(Cl)=C': 0.1148,\n",
       " 'OCC(F)=C': -0.0574,\n",
       " 'OCC(Cl)=C': 3.0996,\n",
       " 'FCC(F)=C': 6.4862,\n",
       " 'FCC(Cl)=C': 8.5526,\n",
       " 'ClCC(F)=C': 9.0692,\n",
       " 'ClCC(Cl)=C': 12.054,\n",
       " 'CNC(C)=N': -2.3534,\n",
       " 'CC(=N)NN': -5.5104,\n",
       " 'CC(=N)NO': -5.5678,\n",
       " 'CNC(C)=O': -6.0844,\n",
       " 'CC(=O)NN': -9.0692,\n",
       " 'CC(=O)NO': -8.3804,\n",
       " 'CNC(N)=N': -7.6342,\n",
       " 'NNC(N)=N': -10.1024,\n",
       " 'NC(=N)NO': -10.3894,\n",
       " 'CNC(N)=O': -8.897,\n",
       " 'NNC(N)=O': -10.7912,\n",
       " 'NC(=O)NO': -10.5042,\n",
       " 'COC(C)=C': 8.0934,\n",
       " 'COC(C)=O': 1.0332,\n",
       " 'COC(N)=N': -5.3956,\n",
       " 'COC(N)=O': -3.2718,\n",
       " 'CC(=C)C=C': 12.7428,\n",
       " 'CC(=C)C=O': 3.3866,\n",
       " 'CC(=C)C#N': 5.2234,\n",
       " 'CC(=O)C=C': 2.9274,\n",
       " 'CC(=O)C=O': -2.1812,\n",
       " 'CC(=O)C#N': -1.8368,\n",
       " 'NC(=N)C=C': -4.0754,\n",
       " 'NC(=N)C=O': -8.61,\n",
       " 'NC(=N)C#N': -6.1992,\n",
       " 'NC(=O)C=C': -3.731,\n",
       " 'NC(=O)C=O': -8.4378,\n",
       " 'NC(=O)C#N': -6.4862,\n",
       " 'OC(=O)C=C': 2.6404,\n",
       " 'OC(=O)C=O': -3.3866,\n",
       " 'OC(=O)C#N': -1.722,\n",
       " 'FC(=C)C=C': 11.0782,\n",
       " 'ClC(=C)C=C': 12.8576,\n",
       " 'FC(=C)C=O': 2.0664,\n",
       " 'ClC(=C)C=O': 4.879,\n",
       " 'FC(=C)C#N': 6.0844,\n",
       " 'ClC(=C)C#N': 5.9696,\n",
       " 'CC(=C)C#C': 7.1176,\n",
       " 'CC(=O)C#C': -0.4592,\n",
       " 'NC(=N)C#C': -4.7068,\n",
       " 'NC(=O)C#C': -4.9364,\n",
       " 'OC(=O)C#C': 0.1722,\n",
       " 'FC(=C)C#C': 6.2566,\n",
       " 'ClC(=C)C#C': 7.9212,\n",
       " 'CC=C(C)C': 15.498,\n",
       " 'CC(C)=CF': 9.5858,\n",
       " 'CC(C)=CCl': 12.8576,\n",
       " 'CC=C(C)F': 12.054,\n",
       " 'CC=C(C)Cl': 14.7518,\n",
       " 'CC(F)=CF': 8.4378,\n",
       " 'CC(F)=CCl': 9.8154,\n",
       " 'CC(Cl)=CF': 10.1598,\n",
       " 'CC(Cl)=CCl': 12.054,\n",
       " 'CC=C(F)F': 11.0208,\n",
       " 'CC=C(F)Cl': 12.628,\n",
       " 'CC=C(Cl)F': 12.628,\n",
       " 'CC=C(Cl)Cl': 15.0962,\n",
       " 'FC=C(F)F': 8.7822,\n",
       " 'FC=C(F)Cl': 9.758,\n",
       " 'FC=C(Cl)F': 9.758,\n",
       " 'FC=C(Cl)Cl': 12.054,\n",
       " 'ClC=C(F)F': 9.758,\n",
       " 'ClC=C(F)Cl': 11.9966,\n",
       " 'ClC=C(Cl)F': 11.9966,\n",
       " 'ClC=C(Cl)Cl': 14.063,\n",
       " 'CC(C)=NN': 1.8368,\n",
       " 'CC(C)=NO': 1.7794,\n",
       " 'CCC(C)(C)C': 21.4676,\n",
       " 'CC(C)(C)CN': 5.6252,\n",
       " 'CC(C)(C)CO': 6.601,\n",
       " 'CC(C)(C)CF': 12.915,\n",
       " 'CC(C)(C)CCl': 15.2684,\n",
       " 'CCC(C)(C)N': 6.4288,\n",
       " 'CC(C)(N)CN': -4.5346,\n",
       " 'CC(C)(N)CO': -2.583,\n",
       " 'CC(C)(N)CF': 1.6646,\n",
       " 'CC(C)(N)CCl': 3.5014,\n",
       " 'CCC(C)(C)O': 6.8306,\n",
       " 'CC(C)(O)CN': -2.9274,\n",
       " 'CC(C)(O)CO': -3.7884,\n",
       " 'CC(C)(O)CF': 2.1238,\n",
       " 'CC(C)(O)CCl': 5.6252,\n",
       " 'CCC(C)(C)F': 13.6612,\n",
       " 'CCC(C)(C)Cl': 16.933,\n",
       " 'CC(C)(F)CN': 1.2054,\n",
       " 'CC(C)(Cl)CN': 3.6162,\n",
       " 'CC(C)(F)CO': 1.435,\n",
       " 'CC(C)(Cl)CO': 6.027,\n",
       " 'CC(C)(F)CF': 8.61,\n",
       " 'CC(C)(F)CCl': 10.2172,\n",
       " 'CC(C)(Cl)CF': 11.8818,\n",
       " 'CC(C)(Cl)CCl': 14.924,\n",
       " 'CCC(C)(F)F': 10.3894,\n",
       " 'CCC(C)(F)Cl': 12.5132,\n",
       " 'CCC(C)(Cl)F': 12.5132,\n",
       " 'CCC(C)(Cl)Cl': 15.7276,\n",
       " 'CC(F)(F)CN': -0.7462,\n",
       " 'CC(F)(Cl)CN': 0.6314,\n",
       " 'CC(Cl)(F)CN': 0.6314,\n",
       " 'CC(Cl)(Cl)CN': 3.2144,\n",
       " 'CC(F)(F)CO': 1.0332,\n",
       " 'CC(F)(Cl)CO': 3.6736,\n",
       " 'CC(Cl)(F)CO': 3.6736,\n",
       " 'CC(Cl)(Cl)CO': 6.6584,\n",
       " 'CC(F)(F)CF': 6.8306,\n",
       " 'CC(F)(F)CCl': 8.897,\n",
       " 'CC(F)(Cl)CF': 9.184,\n",
       " 'CC(F)(Cl)CCl': 12.054,\n",
       " 'CC(Cl)(F)CF': 9.184,\n",
       " 'CC(Cl)(F)CCl': 12.054,\n",
       " 'CC(Cl)(Cl)CF': 11.48,\n",
       " 'CC(Cl)(Cl)CCl': 14.7518,\n",
       " 'CCC(F)(F)F': 10.332,\n",
       " 'CCC(F)(F)Cl': 11.8818,\n",
       " 'CCC(F)(Cl)F': 11.8818,\n",
       " 'CCC(F)(Cl)Cl': 13.776,\n",
       " 'CCC(Cl)(F)F': 11.8818,\n",
       " 'CCC(Cl)(F)Cl': 13.776,\n",
       " 'CCC(Cl)(Cl)F': 13.776,\n",
       " 'CCC(Cl)(Cl)Cl': 16.646,\n",
       " 'NCC(F)(F)F': 0.861,\n",
       " 'NCC(F)(F)Cl': 1.722,\n",
       " 'NCC(F)(Cl)F': 1.722,\n",
       " 'NCC(F)(Cl)Cl': 2.8126,\n",
       " 'NCC(Cl)(F)F': 1.722,\n",
       " 'NCC(Cl)(F)Cl': 2.8126,\n",
       " 'NCC(Cl)(Cl)F': 2.8126,\n",
       " 'NCC(Cl)(Cl)Cl': 5.166,\n",
       " 'OCC(F)(F)F': 3.5014,\n",
       " 'OCC(F)(F)Cl': 3.7884,\n",
       " 'OCC(F)(Cl)F': 3.7884,\n",
       " 'OCC(F)(Cl)Cl': 5.74,\n",
       " 'OCC(Cl)(F)F': 3.7884,\n",
       " 'OCC(Cl)(F)Cl': 5.74,\n",
       " 'OCC(Cl)(Cl)F': 5.74,\n",
       " 'OCC(Cl)(Cl)Cl': 7.0602,\n",
       " 'FCC(F)(F)F': 7.9786,\n",
       " 'FCC(F)(F)Cl': 9.3562,\n",
       " 'FCC(F)(Cl)F': 9.3562,\n",
       " 'FCC(F)(Cl)Cl': 10.906,\n",
       " 'FCC(Cl)(F)F': 9.3562,\n",
       " 'FCC(Cl)(F)Cl': 10.906,\n",
       " 'FCC(Cl)(Cl)F': 10.906,\n",
       " 'FCC(Cl)(Cl)Cl': 12.2262,\n",
       " 'ClCC(F)(F)F': 10.4468,\n",
       " 'ClCC(F)(F)Cl': 11.9392,\n",
       " 'ClCC(F)(Cl)F': 11.9392,\n",
       " 'ClCC(F)(Cl)Cl': 14.063,\n",
       " 'ClCC(Cl)(F)F': 11.9392,\n",
       " 'ClCC(Cl)(F)Cl': 14.063,\n",
       " 'ClCC(Cl)(Cl)F': 14.063,\n",
       " 'ClCC(Cl)(Cl)Cl': 15.6702,\n",
       " 'CNC(C)(C)C': 5.9122,\n",
       " 'COC(C)(C)C': 8.7822,\n",
       " 'CC(C)(C)C=C': 18.4828,\n",
       " 'CC(C)(C)C=O': 6.9454,\n",
       " 'CC(C)(C)C#N': 6.6584,\n",
       " 'CC(C)(N)C=C': 5.9696,\n",
       " 'CC(C)(O)C=C': 6.888,\n",
       " 'CC(C)(O)C=O': -1.8368,\n",
       " 'CC(C)(O)C#N': -1.6646,\n",
       " 'CC(C)(F)C=C': 12.5706,\n",
       " 'CC(C)(Cl)C=C': 16.9904,\n",
       " 'CC(C)(F)C=O': 3.3292,\n",
       " 'CC(C)(Cl)C=O': 7.0602,\n",
       " 'CC(C)(F)C#N': 5.0512,\n",
       " 'CC(C)(Cl)C#N': 6.7158,\n",
       " 'CC(F)(F)C=C': 8.2082,\n",
       " 'CC(F)(Cl)C=C': 12.8002,\n",
       " 'CC(Cl)(F)C=C': 12.8002,\n",
       " 'CC(Cl)(Cl)C=C': 15.3258,\n",
       " 'CC(F)(F)C=O': 2.8126,\n",
       " 'CC(F)(Cl)C=O': 4.5346,\n",
       " 'CC(Cl)(F)C=O': 4.5346,\n",
       " 'CC(Cl)(Cl)C=O': 5.3382,\n",
       " 'CC(F)(F)C#N': 5.5104,\n",
       " 'CC(F)(Cl)C#N': 7.8638,\n",
       " 'CC(Cl)(F)C#N': 7.8638,\n",
       " 'CC(Cl)(Cl)C#N': 9.758,\n",
       " 'FC(F)(F)C=C': 9.6432,\n",
       " 'FC(F)(Cl)C=C': 10.9634,\n",
       " 'FC(Cl)(F)C=C': 10.9634,\n",
       " 'FC(Cl)(Cl)C=C': 14.2926,\n",
       " 'ClC(F)(F)C=C': 10.9634,\n",
       " 'ClC(F)(Cl)C=C': 14.2926,\n",
       " 'ClC(Cl)(F)C=C': 14.2926,\n",
       " 'ClC(Cl)(Cl)C=C': 15.8998,\n",
       " 'FC(F)(F)C=O': 5.8548,\n",
       " 'FC(F)(Cl)C=O': 6.7158,\n",
       " 'FC(Cl)(F)C=O': 6.7158,\n",
       " 'FC(Cl)(Cl)C=O': 5.8548,\n",
       " 'ClC(F)(F)C=O': 6.7158,\n",
       " 'ClC(F)(Cl)C=O': 5.8548,\n",
       " 'ClC(Cl)(F)C=O': 5.8548,\n",
       " 'ClC(Cl)(Cl)C=O': 7.9212,\n",
       " 'FC(F)(F)C#N': 8.897,\n",
       " 'FC(F)(Cl)C#N': 9.184,\n",
       " 'FC(Cl)(F)C#N': 9.184,\n",
       " 'FC(Cl)(Cl)C#N': 10.5042,\n",
       " 'ClC(F)(F)C#N': 9.184,\n",
       " 'ClC(F)(Cl)C#N': 10.5042,\n",
       " 'ClC(Cl)(F)C#N': 10.5042,\n",
       " 'ClC(Cl)(Cl)C#N': 10.332,\n",
       " 'CC(C)(C)C#C': 14.063,\n",
       " 'CC(C)(N)C#C': 3.2144,\n",
       " 'CC(C)(O)C#C': 0.4592,\n",
       " 'CC(C)(F)C#C': 8.897,\n",
       " 'CC(C)(Cl)C#C': 12.9724,\n",
       " 'CC(F)(F)C#C': 7.5768,\n",
       " 'CC(F)(Cl)C#C': 9.0692,\n",
       " 'CC(Cl)(F)C#C': 9.0692,\n",
       " 'CC(Cl)(Cl)C#C': 13.489,\n",
       " 'FC(F)(F)C#C': 7.2324,\n",
       " 'FC(F)(Cl)C#C': 9.3562,\n",
       " 'FC(Cl)(F)C#C': 9.3562,\n",
       " 'FC(Cl)(Cl)C#C': 11.5948,\n",
       " 'ClC(F)(F)C#C': 9.3562,\n",
       " 'ClC(F)(Cl)C#C': 11.5948,\n",
       " 'ClC(Cl)(F)C#C': 11.5948,\n",
       " 'ClC(Cl)(Cl)C#C': 14.2926,\n",
       " 'CC(C)C(C)C': 16.3016,\n",
       " 'CC(C)C(C)N': 4.7642,\n",
       " 'CC(C)C(C)O': 5.1086,\n",
       " 'CC(C)C(C)F': 12.1114,\n",
       " 'CC(C)C(C)Cl': 16.4738,\n",
       " 'CC(C)C(F)F': 9.471,\n",
       " 'CC(C)C(F)Cl': 11.7096,\n",
       " 'CC(C)C(Cl)F': 11.7096,\n",
       " 'CC(C)C(Cl)Cl': 15.5554,\n",
       " 'CC(N)C(C)N': -5.0512,\n",
       " 'CC(N)C(C)O': -3.444,\n",
       " 'CC(N)C(C)F': 0.6314,\n",
       " 'CC(N)C(C)Cl': 3.2144,\n",
       " 'CC(N)C(F)F': 1.2628,\n",
       " 'CC(N)C(F)Cl': 1.3202,\n",
       " 'CC(N)C(Cl)F': 1.3202,\n",
       " 'CC(N)C(Cl)Cl': 2.6978,\n",
       " 'CC(O)C(C)O': -3.3866,\n",
       " 'CC(O)C(C)F': 2.1812,\n",
       " 'CC(O)C(C)Cl': 5.166,\n",
       " 'CC(O)C(F)F': 1.0332,\n",
       " 'CC(O)C(F)Cl': 1.6072,\n",
       " 'CC(O)C(Cl)F': 1.6072,\n",
       " 'CC(O)C(Cl)Cl': 5.166,\n",
       " 'CC(F)C(C)F': 8.1508,\n",
       " 'CC(F)C(C)Cl': 11.2504,\n",
       " 'CC(Cl)C(C)F': 11.2504,\n",
       " 'CC(Cl)C(C)Cl': 15.211,\n",
       " 'CC(F)C(F)F': 5.6252,\n",
       " 'CC(F)C(F)Cl': 8.323,\n",
       " 'CC(F)C(Cl)F': 8.323,\n",
       " 'CC(F)C(Cl)Cl': 11.767,\n",
       " 'CC(Cl)C(F)F': 8.61,\n",
       " 'CC(Cl)C(F)Cl': 12.2262,\n",
       " 'CC(Cl)C(Cl)F': 12.2262,\n",
       " 'CC(Cl)C(Cl)Cl': 14.637,\n",
       " 'FC(F)C(F)F': 7.175,\n",
       " 'FC(F)C(F)Cl': 7.175,\n",
       " 'FC(F)C(Cl)F': 7.175,\n",
       " 'FC(F)C(Cl)Cl': 9.8154,\n",
       " 'FC(Cl)C(F)F': 7.175,\n",
       " 'FC(Cl)C(F)Cl': 9.6432,\n",
       " 'FC(Cl)C(Cl)F': 9.6432,\n",
       " 'FC(Cl)C(Cl)Cl': 11.767,\n",
       " 'ClC(F)C(F)F': 7.175,\n",
       " 'ClC(F)C(F)Cl': 9.6432,\n",
       " 'ClC(F)C(Cl)F': 9.6432,\n",
       " 'ClC(F)C(Cl)Cl': 11.767,\n",
       " 'ClC(Cl)C(F)F': 9.8154,\n",
       " 'ClC(Cl)C(F)Cl': 11.767,\n",
       " 'ClC(Cl)C(Cl)F': 11.767,\n",
       " 'ClC(Cl)C(Cl)Cl': 14.7518,\n",
       " 'CC(C)N(C)C': 4.1902,\n",
       " 'CC(C)C(C)=C': 18.3106,\n",
       " 'CC(C)C(C)=O': 4.4772,\n",
       " 'CC(C)C(N)=N': -0.1148,\n",
       " 'CC(C)C(N)=O': -2.3534,\n",
       " 'CC(C)C(O)=O': 4.4772,\n",
       " 'CC(C)C(F)=C': 13.3742,\n",
       " 'CC(C)C(Cl)=C': 16.5312,\n",
       " 'CC(N)C(C)=C': 4.305,\n",
       " 'CC(N)C(N)=N': -9.0118,\n",
       " 'CC(N)C(N)=O': -10.7338,\n",
       " 'CC(N)C(O)=O': -17.507,\n",
       " 'CC(N)C(F)=C': 2.0664,\n",
       " 'CC(N)C(Cl)=C': 3.5588,\n",
       " 'CC(O)C(C)=C': 5.5104,\n",
       " 'CC(O)C(C)=O': -3.7884,\n",
       " 'CC(O)C(N)=N': -8.7822,\n",
       " 'CC(O)C(N)=O': -7.6342,\n",
       " 'CC(O)C(O)=O': -4.5346,\n",
       " 'CC(O)C(F)=C': 3.5588,\n",
       " 'CC(O)C(Cl)=C': 6.0844,\n",
       " 'CC(F)C(C)=C': 12.1114,\n",
       " 'CC(Cl)C(C)=C': 15.7276,\n",
       " 'CC(F)C(C)=O': 3.0996,\n",
       " 'CC(Cl)C(C)=O': 4.7068,\n",
       " 'CC(F)C(N)=N': -1.8942,\n",
       " 'CC(Cl)C(N)=N': 0.1722,\n",
       " 'CC(F)C(N)=O': -3.7884,\n",
       " 'CC(Cl)C(N)=O': -1.0906,\n",
       " 'CC(F)C(O)=O': -0.7462,\n",
       " 'CC(Cl)C(O)=O': 4.592,\n",
       " 'CC(F)C(F)=C': 9.471,\n",
       " 'CC(F)C(Cl)=C': 12.1114,\n",
       " 'CC(Cl)C(F)=C': 11.5374,\n",
       " 'CC(Cl)C(Cl)=C': 15.5554,\n",
       " 'CC(=C)C(F)F': 8.4378,\n",
       " 'CC(=C)C(F)Cl': 10.3894,\n",
       " 'CC(=C)C(Cl)F': 10.3894,\n",
       " 'CC(=C)C(Cl)Cl': 14.5222,\n",
       " 'CC(=O)C(F)F': 2.5256,\n",
       " 'CC(=O)C(F)Cl': 4.4772,\n",
       " 'CC(=O)C(Cl)F': 4.4772,\n",
       " 'CC(=O)C(Cl)Cl': 5.6252,\n",
       " 'NC(=N)C(F)F': -1.0332,\n",
       " 'NC(=N)C(F)Cl': -0.0574,\n",
       " 'NC(=N)C(Cl)F': -0.0574,\n",
       " 'NC(=N)C(Cl)Cl': 0.8036,\n",
       " 'NC(=O)C(F)F': -1.2628,\n",
       " 'NC(=O)C(F)Cl': -1.0332,\n",
       " 'NC(=O)C(Cl)F': -1.0332,\n",
       " 'NC(=O)C(Cl)Cl': -0.3444,\n",
       " 'OC(=O)C(F)F': 1.5498,\n",
       " 'OC(=O)C(F)Cl': 3.6736,\n",
       " 'OC(=O)C(Cl)F': 3.6736,\n",
       " 'OC(=O)C(Cl)Cl': 5.6826,\n",
       " 'FC(F)C(F)=C': 10.332,\n",
       " 'FC(F)C(Cl)=C': 9.8154,\n",
       " 'FC(Cl)C(F)=C': 10.045,\n",
       " 'FC(Cl)C(Cl)=C': 12.5132,\n",
       " 'ClC(F)C(F)=C': 10.045,\n",
       " 'ClC(F)C(Cl)=C': 12.5132,\n",
       " 'ClC(Cl)C(F)=C': 12.1688,\n",
       " 'ClC(Cl)C(Cl)=C': 15.498,\n",
       " 'CN(C)C(C)=N': -0.287,\n",
       " 'CN(C)C(C)=O': -3.3866,\n",
       " 'CN(C)C(N)=N': -6.5436,\n",
       " 'CN(C)C(N)=O': -6.2566,\n",
       " 'CN(N)C(C)=N': -4.4198,\n",
       " 'CN(N)C(C)=O': -6.9454,\n",
       " 'CN(N)C(N)=N': -8.0934,\n",
       " 'CN(N)C(N)=O': -9.2414,\n",
       " 'CN(O)C(C)=N': -3.7884,\n",
       " 'CN(O)C(C)=O': -6.027,\n",
       " 'CN(O)C(N)=N': -7.175,\n",
       " 'CN(O)C(N)=O': -7.5768,\n",
       " 'CC(=C)C(C)=C': 15.785,\n",
       " 'CC(=C)C(C)=O': 4.0754,\n",
       " 'CC(=C)C(N)=N': -1.148,\n",
       " 'CC(=C)C(N)=O': -2.4682,\n",
       " 'CC(=C)C(O)=O': 3.6162,\n",
       " 'CC(=C)C(F)=C': 13.202,\n",
       " 'CC(=C)C(Cl)=C': 16.0146,\n",
       " 'CC(=O)C(C)=O': 0.4018,\n",
       " 'CC(=O)C(N)=N': -6.1418,\n",
       " 'CC(=O)C(N)=O': -6.4862,\n",
       " 'CC(=O)C(O)=O': -2.1812,\n",
       " 'CC(=O)C(F)=C': 2.2386,\n",
       " 'CC(=O)C(Cl)=C': 6.5436,\n",
       " 'NC(=N)C(N)=N': -10.4468,\n",
       " 'NC(=N)C(N)=O': -10.7912,\n",
       " 'NC(=N)C(O)=O': -8.7822,\n",
       " 'NC(=N)C(F)=C': -1.9516,\n",
       " 'NC(=N)C(Cl)=C': -0.6888,\n",
       " 'NC(=O)C(N)=O': -12.054,\n",
       " 'NC(=O)C(O)=O': -8.2656,\n",
       " 'NC(=O)C(F)=C': -1.435,\n",
       " 'NC(=O)C(Cl)=C': 0.7462,\n",
       " 'OC(=O)C(O)=O': -2.9274,\n",
       " 'OC(=O)C(F)=C': 3.731,\n",
       " 'OC(=O)C(Cl)=C': 6.314,\n",
       " 'FC(=C)C(F)=C': 10.6764,\n",
       " 'FC(=C)C(Cl)=C': 12.1114,\n",
       " 'ClC(=C)C(F)=C': 12.1114,\n",
       " 'ClC(=C)C(Cl)=C': 15.7276,\n",
       " 'CC(C)=C(C)C': 15.5554,\n",
       " 'CC(C)=C(C)F': 12.1688,\n",
       " 'CC(C)=C(C)Cl': 15.6128,\n",
       " 'CC(C)=C(F)F': 10.3894,\n",
       " 'CC(C)=C(F)Cl': 12.341,\n",
       " 'CC(C)=C(Cl)F': 12.341,\n",
       " 'CC(C)=C(Cl)Cl': 14.2352,\n",
       " 'CC(F)=C(C)F': 9.7006,\n",
       " 'CC(F)=C(C)Cl': 11.8244,\n",
       " 'CC(Cl)=C(C)F': 11.8244,\n",
       " 'CC(Cl)=C(C)Cl': 14.1778,\n",
       " 'CC(F)=C(F)F': 9.471,\n",
       " 'CC(F)=C(F)Cl': 11.3652,\n",
       " 'CC(F)=C(Cl)F': 11.3652,\n",
       " 'CC(F)=C(Cl)Cl': 13.2594,\n",
       " 'CC(Cl)=C(F)F': 11.9392,\n",
       " 'CC(Cl)=C(F)Cl': 13.0872,\n",
       " 'CC(Cl)=C(Cl)F': 13.0872,\n",
       " 'CC(Cl)=C(Cl)Cl': 16.0146,\n",
       " 'FC(F)=C(F)F': 7.749,\n",
       " 'FC(F)=C(F)Cl': 10.5616,\n",
       " 'FC(F)=C(Cl)F': 10.5616,\n",
       " 'FC(F)=C(Cl)Cl': 13.1446,\n",
       " 'FC(Cl)=C(F)F': 10.5616,\n",
       " 'FC(Cl)=C(F)Cl': 12.915,\n",
       " 'FC(Cl)=C(Cl)F': 12.915,\n",
       " 'FC(Cl)=C(Cl)Cl': 15.3258,\n",
       " 'ClC(F)=C(F)F': 10.5616,\n",
       " 'ClC(F)=C(F)Cl': 12.915,\n",
       " 'ClC(F)=C(Cl)F': 12.915,\n",
       " 'ClC(F)=C(Cl)Cl': 15.3258,\n",
       " 'ClC(Cl)=C(F)F': 13.1446,\n",
       " 'ClC(Cl)=C(F)Cl': 15.3258,\n",
       " 'ClC(Cl)=C(Cl)F': 15.3258,\n",
       " 'ClC(Cl)=C(Cl)Cl': 17.9662,\n",
       " 'CC(C)C(C)(C)C': 23.0174,\n",
       " 'CC(N)C(C)(C)C': 7.9786,\n",
       " 'CC(O)C(C)(C)C': 10.045,\n",
       " 'CC(F)C(C)(C)C': 16.3016,\n",
       " 'CC(Cl)C(C)(C)C': 19.7456,\n",
       " 'CC(C)(C)C(F)F': 13.6038,\n",
       " 'CC(C)(C)C(F)Cl': 16.0146,\n",
       " 'CC(C)(C)C(Cl)F': 16.0146,\n",
       " 'CC(C)(C)C(Cl)Cl': 17.9662,\n",
       " 'CC(C)C(C)(C)N': 7.8638,\n",
       " 'CC(N)C(C)(C)N': -1.722,\n",
       " 'CC(O)C(C)(C)N': -0.6314,\n",
       " 'CC(F)C(C)(C)N': 4.0754,\n",
       " 'CC(Cl)C(C)(C)N': 7.4046,\n",
       " 'CC(C)(N)C(F)F': 4.1328,\n",
       " 'CC(C)(N)C(F)Cl': 3.3866,\n",
       " 'CC(C)(N)C(Cl)F': 3.3866,\n",
       " 'CC(C)(N)C(Cl)Cl': 7.175,\n",
       " 'CC(C)C(C)(C)O': 9.1266,\n",
       " 'CC(N)C(C)(C)O': -0.6314,\n",
       " 'CC(O)C(C)(C)O': -0.6888,\n",
       " 'CC(F)C(C)(C)O': 5.2808,\n",
       " 'CC(Cl)C(C)(C)O': 8.8396,\n",
       " 'CC(C)(O)C(F)F': 4.3624,\n",
       " 'CC(C)(O)C(F)Cl': 7.2898,\n",
       " 'CC(C)(O)C(Cl)F': 7.2898,\n",
       " 'CC(C)(O)C(Cl)Cl': 9.0692,\n",
       " 'CC(C)C(C)(C)F': 14.8092,\n",
       " 'CC(C)C(C)(C)Cl': 19.5734,\n",
       " 'CC(N)C(C)(C)F': 4.0754,\n",
       " 'CC(N)C(C)(C)Cl': 7.749,\n",
       " 'CC(O)C(C)(C)F': 5.5104,\n",
       " 'CC(O)C(C)(C)Cl': 9.184,\n",
       " 'CC(F)C(C)(C)F': 11.8818,\n",
       " 'CC(F)C(C)(C)Cl': 14.5796,\n",
       " 'CC(Cl)C(C)(C)F': 14.5796,\n",
       " 'CC(Cl)C(C)(C)Cl': 18.081,\n",
       " 'CC(C)(F)C(F)F': 10.2172,\n",
       " 'CC(C)(F)C(F)Cl': 11.8818,\n",
       " 'CC(C)(F)C(Cl)F': 11.8818,\n",
       " 'CC(C)(F)C(Cl)Cl': 14.5796,\n",
       " 'CC(C)(Cl)C(F)F': 12.8576,\n",
       " 'CC(C)(Cl)C(F)Cl': 14.35,\n",
       " 'CC(C)(Cl)C(Cl)F': 14.35,\n",
       " 'CC(C)(Cl)C(Cl)Cl': 18.4254,\n",
       " 'CC(C)C(C)(F)F': 12.4558,\n",
       " 'CC(C)C(C)(F)Cl': 14.4648,\n",
       " 'CC(C)C(C)(Cl)F': 14.4648,\n",
       " 'CC(C)C(C)(Cl)Cl': 17.8514,\n",
       " 'CC(N)C(C)(F)F': 4.018,\n",
       " 'CC(N)C(C)(F)Cl': 4.8216,\n",
       " 'CC(N)C(C)(Cl)F': 4.8216,\n",
       " 'CC(N)C(C)(Cl)Cl': 7.3472,\n",
       " 'CC(O)C(C)(F)F': 3.3292,\n",
       " 'CC(O)C(C)(F)Cl': 7.1176,\n",
       " 'CC(O)C(C)(Cl)F': 7.1176,\n",
       " 'CC(O)C(C)(Cl)Cl': 9.2988,\n",
       " 'CC(F)C(C)(F)F': 9.8154,\n",
       " 'CC(F)C(C)(F)Cl': 11.9392,\n",
       " 'CC(F)C(C)(Cl)F': 11.9392,\n",
       " 'CC(F)C(C)(Cl)Cl': 15.1536,\n",
       " 'CC(Cl)C(C)(F)F': 12.341,\n",
       " 'CC(Cl)C(C)(F)Cl': 15.0388,\n",
       " 'CC(Cl)C(C)(Cl)F': 15.0388,\n",
       " 'CC(Cl)C(C)(Cl)Cl': 18.7124,\n",
       " 'CC(F)(F)C(F)F': 9.9302,\n",
       " 'CC(F)(F)C(F)Cl': 11.0782,\n",
       " 'CC(F)(F)C(Cl)F': 11.0782,\n",
       " 'CC(F)(F)C(Cl)Cl': 13.0872,\n",
       " 'CC(F)(Cl)C(F)F': 11.5374,\n",
       " 'CC(F)(Cl)C(F)Cl': 13.202,\n",
       " 'CC(F)(Cl)C(Cl)F': 13.202,\n",
       " 'CC(F)(Cl)C(Cl)Cl': 15.0388,\n",
       " 'CC(Cl)(F)C(F)F': 11.5374,\n",
       " 'CC(Cl)(F)C(F)Cl': 13.202,\n",
       " 'CC(Cl)(F)C(Cl)F': 13.202,\n",
       " 'CC(Cl)(F)C(Cl)Cl': 15.0388,\n",
       " 'CC(Cl)(Cl)C(F)F': 13.776,\n",
       " 'CC(Cl)(Cl)C(F)Cl': 15.6702,\n",
       " 'CC(Cl)(Cl)C(Cl)F': 15.6702,\n",
       " 'CC(Cl)(Cl)C(Cl)Cl': 17.8514,\n",
       " 'CC(C)C(F)(F)F': 12.2836,\n",
       " 'CC(C)C(F)(F)Cl': 13.7186,\n",
       " 'CC(C)C(F)(Cl)F': 13.7186,\n",
       " 'CC(C)C(F)(Cl)Cl': 16.1294,\n",
       " 'CC(C)C(Cl)(F)F': 13.7186,\n",
       " 'CC(C)C(Cl)(F)Cl': 16.1294,\n",
       " 'CC(C)C(Cl)(Cl)F': 16.1294,\n",
       " 'CC(C)C(Cl)(Cl)Cl': 19.4586,\n",
       " 'CC(N)C(F)(F)F': 5.9122,\n",
       " 'CC(N)C(F)(F)Cl': 6.4288,\n",
       " 'CC(N)C(F)(Cl)F': 6.4288,\n",
       " 'CC(N)C(F)(Cl)Cl': 7.1176,\n",
       " 'CC(N)C(Cl)(F)F': 6.4288,\n",
       " 'CC(N)C(Cl)(F)Cl': 7.1176,\n",
       " 'CC(N)C(Cl)(Cl)F': 7.1176,\n",
       " 'CC(N)C(Cl)(Cl)Cl': 8.0934,\n",
       " 'CC(O)C(F)(F)F': 6.2566,\n",
       " 'CC(O)C(F)(F)Cl': 5.6826,\n",
       " 'CC(O)C(F)(Cl)F': 5.6826,\n",
       " 'CC(O)C(F)(Cl)Cl': 8.4378,\n",
       " 'CC(O)C(Cl)(F)F': 5.6826,\n",
       " 'CC(O)C(Cl)(F)Cl': 8.4378,\n",
       " 'CC(O)C(Cl)(Cl)F': 8.4378,\n",
       " 'CC(O)C(Cl)(Cl)Cl': 10.2746,\n",
       " 'CC(F)C(F)(F)F': 11.0208,\n",
       " 'CC(F)C(F)(F)Cl': 11.8244,\n",
       " 'CC(F)C(F)(Cl)F': 11.8244,\n",
       " 'CC(F)C(F)(Cl)Cl': 13.6038,\n",
       " 'CC(F)C(Cl)(F)F': 11.8244,\n",
       " 'CC(F)C(Cl)(F)Cl': 13.6038,\n",
       " 'CC(F)C(Cl)(Cl)F': 13.6038,\n",
       " 'CC(F)C(Cl)(Cl)Cl': 15.4406,\n",
       " 'CC(Cl)C(F)(F)F': 12.8002,\n",
       " 'CC(Cl)C(F)(F)Cl': 14.1204,\n",
       " 'CC(Cl)C(F)(Cl)F': 14.1204,\n",
       " 'CC(Cl)C(F)(Cl)Cl': 16.1294,\n",
       " 'CC(Cl)C(Cl)(F)F': 14.1204,\n",
       " 'CC(Cl)C(Cl)(F)Cl': 16.1294,\n",
       " 'CC(Cl)C(Cl)(Cl)F': 16.1294,\n",
       " 'CC(Cl)C(Cl)(Cl)Cl': 18.3106,\n",
       " 'FC(F)C(F)(F)F': 12.915,\n",
       " 'FC(F)C(F)(F)Cl': 13.0298,\n",
       " 'FC(F)C(F)(Cl)F': 13.0298,\n",
       " 'FC(F)C(F)(Cl)Cl': 13.776,\n",
       " 'FC(F)C(Cl)(F)F': 13.0298,\n",
       " 'FC(F)C(Cl)(F)Cl': 13.776,\n",
       " 'FC(F)C(Cl)(Cl)F': 13.776,\n",
       " 'FC(F)C(Cl)(Cl)Cl': 15.211,\n",
       " 'FC(Cl)C(F)(F)F': 13.3168,\n",
       " 'FC(Cl)C(F)(F)Cl': 13.7186,\n",
       " 'FC(Cl)C(F)(Cl)F': 13.7186,\n",
       " 'FC(Cl)C(F)(Cl)Cl': 15.0388,\n",
       " 'FC(Cl)C(Cl)(F)F': 13.7186,\n",
       " 'FC(Cl)C(Cl)(F)Cl': 15.0388,\n",
       " 'FC(Cl)C(Cl)(Cl)F': 15.0388,\n",
       " 'FC(Cl)C(Cl)(Cl)Cl': 16.8756,\n",
       " 'ClC(F)C(F)(F)F': 13.3168,\n",
       " 'ClC(F)C(F)(F)Cl': 13.7186,\n",
       " 'ClC(F)C(F)(Cl)F': 13.7186,\n",
       " 'ClC(F)C(F)(Cl)Cl': 15.0388,\n",
       " 'ClC(F)C(Cl)(F)F': 13.7186,\n",
       " 'ClC(F)C(Cl)(F)Cl': 15.0388,\n",
       " 'ClC(F)C(Cl)(Cl)F': 15.0388,\n",
       " 'ClC(F)C(Cl)(Cl)Cl': 16.8756,\n",
       " 'ClC(Cl)C(F)(F)F': 14.2926,\n",
       " 'ClC(Cl)C(F)(F)Cl': 15.4406,\n",
       " 'ClC(Cl)C(F)(Cl)F': 15.4406,\n",
       " 'ClC(Cl)C(F)(Cl)Cl': 16.8756,\n",
       " 'ClC(Cl)C(Cl)(F)F': 15.4406,\n",
       " 'ClC(Cl)C(Cl)(F)Cl': 16.8756,\n",
       " 'ClC(Cl)C(Cl)(Cl)F': 16.8756,\n",
       " 'ClC(Cl)C(Cl)(Cl)Cl': 18.4254,\n",
       " 'CN(C)C(C)(C)C': 10.4468,\n",
       " 'CC(=C)C(C)(C)C': 23.5914,\n",
       " 'CC(=O)C(C)(C)C': 9.1266,\n",
       " 'CC(C)(C)C(N)=N': 3.444,\n",
       " 'CC(C)(C)C(N)=O': 2.1238,\n",
       " 'CC(C)(C)C(O)=O': 7.8638,\n",
       " 'CC(C)(C)C(F)=C': 16.7034,\n",
       " 'CC(C)(C)C(Cl)=C': 19.9178,\n",
       " 'CC(=C)C(C)(C)N': 8.2082,\n",
       " 'CC(C)(N)C(N)=N': -6.4862,\n",
       " 'CC(C)(N)C(N)=O': -6.5436,\n",
       " 'CC(C)(N)C(O)=O': -14.063,\n",
       " 'CC(C)(N)C(F)=C': 3.5014,\n",
       " 'CC(C)(N)C(Cl)=C': 8.323,\n",
       " 'CC(=C)C(C)(C)O': 9.1266,\n",
       " 'CC(=O)C(C)(C)O': -0.5166,\n",
       " 'CC(C)(O)C(N)=N': -5.2234,\n",
       " 'CC(C)(O)C(N)=O': -5.74,\n",
       " 'CC(C)(O)C(O)=O': -2.1238,\n",
       " 'CC(C)(O)C(F)=C': 5.9122,\n",
       " 'CC(C)(O)C(Cl)=C': 9.6432,\n",
       " 'CC(=C)C(C)(C)F': 16.1294,\n",
       " 'CC(=C)C(C)(C)Cl': 19.9752,\n",
       " 'CC(=O)C(C)(C)F': 4.592,\n",
       " 'CC(=O)C(C)(C)Cl': 8.5526,\n",
       " 'CC(C)(F)C(N)=N': 0.6888,\n",
       " 'CC(C)(Cl)C(N)=N': 3.5588,\n",
       " 'CC(C)(F)C(N)=O': -0.1722,\n",
       " 'CC(C)(Cl)C(N)=O': 3.2718,\n",
       " 'CC(C)(F)C(O)=O': 4.305,\n",
       " 'CC(C)(Cl)C(O)=O': 6.8306,\n",
       " 'CC(C)(F)C(F)=C': 10.2172,\n",
       " 'CC(C)(F)C(Cl)=C': 14.2352,\n",
       " 'CC(C)(Cl)C(F)=C': 15.211,\n",
       " 'CC(C)(Cl)C(Cl)=C': 18.7124,\n",
       " 'CC(=C)C(C)(F)F': 10.2172,\n",
       " 'CC(=C)C(C)(F)Cl': 14.924,\n",
       " 'CC(=C)C(C)(Cl)F': 14.924,\n",
       " 'CC(=C)C(C)(Cl)Cl': 18.0236,\n",
       " 'CC(=O)C(C)(F)F': 0.9758,\n",
       " 'CC(=O)C(C)(F)Cl': 4.6494,\n",
       " 'CC(=O)C(C)(Cl)F': 4.6494,\n",
       " 'CC(=O)C(C)(Cl)Cl': 7.0028,\n",
       " 'CC(F)(F)C(N)=N': 0.1722,\n",
       " 'CC(F)(Cl)C(N)=N': 2.583,\n",
       " 'CC(Cl)(F)C(N)=N': 2.583,\n",
       " 'CC(Cl)(Cl)C(N)=N': 3.8458,\n",
       " 'CC(F)(F)C(N)=O': -1.8942,\n",
       " 'CC(F)(Cl)C(N)=O': 1.0906,\n",
       " 'CC(Cl)(F)C(N)=O': 1.0906,\n",
       " 'CC(Cl)(Cl)C(N)=O': 4.1902,\n",
       " 'CC(F)(F)C(O)=O': 5.5678,\n",
       " 'CC(F)(Cl)C(O)=O': 5.166,\n",
       " 'CC(Cl)(F)C(O)=O': 5.166,\n",
       " 'CC(Cl)(Cl)C(O)=O': 6.7732,\n",
       " 'CC(F)(F)C(F)=C': 10.1024,\n",
       " 'CC(F)(F)C(Cl)=C': 12.8576,\n",
       " 'CC(F)(Cl)C(F)=C': 13.3168,\n",
       " 'CC(F)(Cl)C(Cl)=C': 15.9572,\n",
       " 'CC(Cl)(F)C(F)=C': 13.3168,\n",
       " 'CC(Cl)(F)C(Cl)=C': 15.9572,\n",
       " 'CC(Cl)(Cl)C(F)=C': 16.5312,\n",
       " 'CC(Cl)(Cl)C(Cl)=C': 17.3348,\n",
       " 'CC(=C)C(F)(F)F': 11.9392,\n",
       " 'CC(=C)C(F)(F)Cl': 13.489,\n",
       " 'CC(=C)C(F)(Cl)F': 13.489,\n",
       " 'CC(=C)C(F)(Cl)Cl': 15.6702,\n",
       " 'CC(=C)C(Cl)(F)F': 13.489,\n",
       " 'CC(=C)C(Cl)(F)Cl': 15.6702,\n",
       " 'CC(=C)C(Cl)(Cl)F': 15.6702,\n",
       " 'CC(=C)C(Cl)(Cl)Cl': 16.933,\n",
       " 'CC(=O)C(F)(F)F': 5.166,\n",
       " 'CC(=O)C(F)(F)Cl': 4.305,\n",
       " 'CC(=O)C(F)(Cl)F': 4.305,\n",
       " 'CC(=O)C(F)(Cl)Cl': 6.4288,\n",
       " 'CC(=O)C(Cl)(F)F': 4.305,\n",
       " 'CC(=O)C(Cl)(F)Cl': 6.4288,\n",
       " 'CC(=O)C(Cl)(Cl)F': 6.4288,\n",
       " 'CC(=O)C(Cl)(Cl)Cl': 7.8064,\n",
       " 'NC(=N)C(F)(F)F': 1.722,\n",
       " 'NC(=N)C(F)(F)Cl': 1.7794,\n",
       " 'NC(=N)C(F)(Cl)F': 1.7794,\n",
       " 'NC(=N)C(F)(Cl)Cl': 2.2386,\n",
       " 'NC(=N)C(Cl)(F)F': 1.7794,\n",
       " 'NC(=N)C(Cl)(F)Cl': 2.2386,\n",
       " 'NC(=N)C(Cl)(Cl)F': 2.2386,\n",
       " 'NC(=N)C(Cl)(Cl)Cl': 4.3624,\n",
       " 'NC(=O)C(F)(F)F': 0.4592,\n",
       " 'NC(=O)C(F)(F)Cl': 1.5498,\n",
       " 'NC(=O)C(F)(Cl)F': 1.5498,\n",
       " 'NC(=O)C(F)(Cl)Cl': 4.5346,\n",
       " 'NC(=O)C(Cl)(F)F': 1.5498,\n",
       " 'NC(=O)C(Cl)(F)Cl': 4.5346,\n",
       " 'NC(=O)C(Cl)(Cl)F': 4.5346,\n",
       " 'NC(=O)C(Cl)(Cl)Cl': 5.6252,\n",
       " 'OC(=O)C(F)(F)F': 7.749,\n",
       " 'OC(=O)C(F)(F)Cl': 9.0692,\n",
       " 'OC(=O)C(F)(Cl)F': 9.0692,\n",
       " 'OC(=O)C(F)(Cl)Cl': 6.4862,\n",
       " 'OC(=O)C(Cl)(F)F': 9.0692,\n",
       " 'OC(=O)C(Cl)(F)Cl': 6.4862,\n",
       " 'OC(=O)C(Cl)(Cl)F': 6.4862,\n",
       " 'OC(=O)C(Cl)(Cl)Cl': 6.7158,\n",
       " 'FC(=C)C(F)(F)F': 11.193,\n",
       " 'FC(=C)C(F)(F)Cl': 12.2262,\n",
       " 'FC(=C)C(F)(Cl)F': 12.2262,\n",
       " 'FC(=C)C(F)(Cl)Cl': 15.211,\n",
       " 'FC(=C)C(Cl)(F)F': 12.2262,\n",
       " 'FC(=C)C(Cl)(F)Cl': 15.211,\n",
       " 'FC(=C)C(Cl)(Cl)F': 15.211,\n",
       " 'FC(=C)C(Cl)(Cl)Cl': 17.5644,\n",
       " 'ClC(=C)C(F)(F)F': 12.7428,\n",
       " 'ClC(=C)C(F)(F)Cl': 15.498,\n",
       " 'ClC(=C)C(F)(Cl)F': 15.498,\n",
       " 'ClC(=C)C(F)(Cl)Cl': 17.9088,\n",
       " 'ClC(=C)C(Cl)(F)F': 15.498,\n",
       " 'ClC(=C)C(Cl)(F)Cl': 17.9088,\n",
       " 'ClC(=C)C(Cl)(Cl)F': 17.9088,\n",
       " 'ClC(=C)C(Cl)(Cl)Cl': 19.0568,\n",
       " 'CC(C)(C)C(C)(C)C': 25.8874,\n",
       " 'CC(C)(C)C(C)(C)N': 12.1688,\n",
       " 'CC(C)(C)C(C)(C)O': 12.341,\n",
       " 'CC(C)(C)C(C)(C)F': 18.5402,\n",
       " 'CC(C)(C)C(C)(C)Cl': 23.821,\n",
       " 'CC(C)(C)C(C)(F)F': 16.1294,\n",
       " 'CC(C)(C)C(C)(F)Cl': 19.4586,\n",
       " 'CC(C)(C)C(C)(Cl)F': 19.4586,\n",
       " 'CC(C)(C)C(C)(Cl)Cl': 21.9842,\n",
       " 'CC(C)(C)C(F)(F)F': 13.2594,\n",
       " 'CC(C)(C)C(F)(F)Cl': 16.5886,\n",
       " 'CC(C)(C)C(F)(Cl)F': 16.5886,\n",
       " 'CC(C)(C)C(F)(Cl)Cl': 20.8362,\n",
       " 'CC(C)(C)C(Cl)(F)F': 16.5886,\n",
       " 'CC(C)(C)C(Cl)(F)Cl': 20.8362,\n",
       " 'CC(C)(C)C(Cl)(Cl)F': 20.8362,\n",
       " 'CC(C)(C)C(Cl)(Cl)Cl': 22.386,\n",
       " 'CC(C)(N)C(C)(C)N': 1.9516,\n",
       " 'CC(C)(N)C(C)(C)O': 1.8942,\n",
       " 'CC(C)(N)C(C)(C)F': 6.888,\n",
       " 'CC(C)(N)C(C)(C)Cl': 10.9634,\n",
       " 'CC(C)(N)C(C)(F)F': 5.2808,\n",
       " 'CC(C)(N)C(C)(F)Cl': 5.8548,\n",
       " 'CC(C)(N)C(C)(Cl)F': 5.8548,\n",
       " 'CC(C)(N)C(C)(Cl)Cl': 12.341,\n",
       " 'CC(C)(N)C(F)(F)F': 5.3382,\n",
       " 'CC(C)(N)C(F)(F)Cl': 7.3472,\n",
       " 'CC(C)(N)C(F)(Cl)F': 7.3472,\n",
       " 'CC(C)(N)C(F)(Cl)Cl': 6.7732,\n",
       " 'CC(C)(N)C(Cl)(F)F': 7.3472,\n",
       " 'CC(C)(N)C(Cl)(F)Cl': 6.7732,\n",
       " 'CC(C)(N)C(Cl)(Cl)F': 6.7732,\n",
       " ...}"
      ]
     },
     "execution_count": 131,
     "metadata": {},
     "output_type": "execute_result"
    }
   ],
   "source": [
    "read_DG_data(DataPath)"
   ]
  },
  {
   "cell_type": "code",
   "execution_count": null,
   "metadata": {},
   "outputs": [],
   "source": [
    "def write_gro(mol_name,bead_types,coords0,gro_name):                                                                                                                                                       \n",
    "    #write gro file                                                                                                                                                                                        \n",
    "    conf = mol.GetConformer(0)                                                                                                                                                                             \n",
    "    with open(gro_name,'w') as gro:                                                                                                                                                                        \n",
    "        gro.write('single molecule of {}\\n'.format(mol_name))                                                                                                                                              \n",
    "        gro.write('{}\\n'.format(len(bead_types)))                                                                                                                                                          \n",
    "        i = 1                                                                                                                                                                                              \n",
    "        for bead,xyz in zip(bead_types,coords0):                                                                                                                                                           \n",
    "            gro.write('{:5d}{:5}{:>5}{:5d}{:8.3f}{:8.3f}{:8.3f}\\n'.format(1,mol_name,bead,i,xyz[0],xyz[1],xyz[2]))                                                                                         \n",
    "            i += 1                                                                                                                                                                                         \n",
    "        gro.write('5.0 5.0 5.0')         "
   ]
  }
 ],
 "metadata": {
  "kernelspec": {
   "display_name": "Python 3",
   "language": "python",
   "name": "python3"
  },
  "language_info": {
   "codemirror_mode": {
    "name": "ipython",
    "version": 3
   },
   "file_extension": ".py",
   "mimetype": "text/x-python",
   "name": "python",
   "nbconvert_exporter": "python",
   "pygments_lexer": "ipython3",
   "version": "3.8.8"
  }
 },
 "nbformat": 4,
 "nbformat_minor": 4
}
