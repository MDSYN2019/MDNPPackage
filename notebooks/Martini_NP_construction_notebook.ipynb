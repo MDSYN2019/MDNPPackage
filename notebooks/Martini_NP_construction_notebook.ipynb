{
 "cells": [
  {
   "cell_type": "code",
   "execution_count": 1,
   "metadata": {},
   "outputs": [
    {
     "data": {
      "text/plain": [
       "\"\\n\\n------------------------\\nLast Updated: 15/01/2021\\n------------------------\\n\\n------------------------------------\\nTHIS NOTEBOOK NEEDS TO BE ORGANIZED \\n-----------------------------------\\n\\n\\nThe purpose of this notebook is to get a idea of how the translation of the smiles to \\nthe coarse-grained beads of Martini can work. \\n\\n-> https://cedric.bouysset.net/blog/2020/08/07/rdkit-interoperability\\n\\n-> https://stackoverflow.com/questions/47319238/python-plot-3d-vectors\\n \\n-> https://en.wikipedia.org/wiki/XYZ_file_format - information on the xyz coordination file \\n\\n-> https://mattermodeling.stackexchange.com/questions/3961/recalculate-atom-positions-to-account-for-periodic-boundary-conditions/3970#3970  - Atomsk\\n\\n-> https://stackoverflow.com/questions/49064611/how-to-find-different-groups-in-networkx-using-python - grouping networks \\n\\n-> https://www.mdanalysis.org/2020/08/29/gsoc-report-cbouy/\\n\\n-> http://cgmartini.nl/index.php/component/kunena/8-martini-philosophy/5776-mapping-of-benzene-ring\\n\\n-> https://docs.mdanalysis.org/1.0.0/documentation_pages/lib/NeighborSearch.html\\n\\n\\nQuote by Riccardo: \\n------------------\\n\\nIn the open beta of Martini 3, benzene is indeed mapped with three TC4 beads, that that's again a 2-to-1 mapping. \\nThe bond length is changed to 0.29 nm in 3.0 because this allows to represent more closely the volume of a benzene \\nmolecule, taking into account also the smaller size of T-beads as compared to S -beads\\n\\n\\n---------------------------\\nHow the modules are divided\\n---------------------------\\n\\n-> We want to be given free reign into making NPs of multiple types. The primary types we are concerned with at the \\n   moment is \\n\\n   1. Functionalized AuNP type ones.  \\n   2. Carbon Nanotube like ones. \\n   3. Large spherical buckyball type structures - Like C70. \\n\\n-> TODO \\n    \\n   - Am not able to get the box dimenisons correct for the xyz file...\\n   - Need to write Striped/Janus functionality to the NP maker  \\n\\n\\nTrying to translate the atomic C70 structure into the coarse-grained c70 structure \\n\\nTODO - isolate per 2 beads - There is a two to one mapping, and find the center of mass \\n       for each of these beads. Then construct the itp file for the bead. \\n\\n\""
      ]
     },
     "execution_count": 1,
     "metadata": {},
     "output_type": "execute_result"
    }
   ],
   "source": [
    "\"\"\"\n",
    "\n",
    "------------------------\n",
    "Last Updated: 15/01/2021\n",
    "------------------------\n",
    "\n",
    "------------------------------------\n",
    "THIS NOTEBOOK NEEDS TO BE ORGANIZED \n",
    "-----------------------------------\n",
    "\n",
    "\n",
    "The purpose of this notebook is to get a idea of how the translation of the smiles to \n",
    "the coarse-grained beads of Martini can work. \n",
    "\n",
    "-> https://cedric.bouysset.net/blog/2020/08/07/rdkit-interoperability\n",
    "\n",
    "-> https://stackoverflow.com/questions/47319238/python-plot-3d-vectors\n",
    " \n",
    "-> https://en.wikipedia.org/wiki/XYZ_file_format - information on the xyz coordination file \n",
    "\n",
    "-> https://mattermodeling.stackexchange.com/questions/3961/recalculate-atom-positions-to-account-for-periodic-boundary-conditions/3970#3970  - Atomsk\n",
    "\n",
    "-> https://stackoverflow.com/questions/49064611/how-to-find-different-groups-in-networkx-using-python - grouping networks \n",
    "\n",
    "-> https://www.mdanalysis.org/2020/08/29/gsoc-report-cbouy/\n",
    "\n",
    "-> http://cgmartini.nl/index.php/component/kunena/8-martini-philosophy/5776-mapping-of-benzene-ring\n",
    "\n",
    "-> https://docs.mdanalysis.org/1.0.0/documentation_pages/lib/NeighborSearch.html\n",
    "\n",
    "-> https://math.stackexchange.com/questions/180418/calculate-rotation-matrix-to-align-vector-a-to-vector-b-in-3d\n",
    "\n",
    "-> https://sphinxcontrib-napoleon.readthedocs.io/en/latest/example_numpy.html\n",
    "\n",
    "\n",
    "Quote by Riccardo: \n",
    "------------------\n",
    "\n",
    "In the open beta of Martini 3, benzene is indeed mapped with three TC4 beads, that that's again a 2-to-1 mapping. \n",
    "The bond length is changed to 0.29 nm in 3.0 because this allows to represent more closely the volume of a benzene \n",
    "molecule, taking into account also the smaller size of T-beads as compared to S -beads\n",
    "\n",
    "\n",
    "---------------------------\n",
    "How the modules are divided\n",
    "---------------------------\n",
    "\n",
    "-> We want to be given free reign into making NPs of multiple types. The primary types we are concerned with at the \n",
    "   moment is \n",
    "\n",
    "   1. Functionalized AuNP type ones.  \n",
    "   2. Carbon Nanotube like ones. \n",
    "   3. Large spherical buckyball type structures - Like C70. \n",
    "\n",
    "-> TODO \n",
    "    \n",
    "   - Am not able to get the box dimenisons correct for the xyz file...\n",
    "   - Need to write Striped/Janus functionality to the NP maker  \n",
    "\n",
    "\n",
    "Trying to translate the atomic C70 structure into the coarse-grained c70 structure \n",
    "\n",
    "TODO - isolate per 2 beads - There is a two to one mapping, and find the center of mass \n",
    "       for each of these beads. Then construct the itp file for the bead. \n",
    "\n",
    "\"\"\""
   ]
  },
  {
   "cell_type": "code",
   "execution_count": 110,
   "metadata": {},
   "outputs": [],
   "source": [
    "# Boilerplate libraries                                                                                                                                                                                    \n",
    "import sys                                                                                                                                                                                                 \n",
    "import re                                                                                                                                                                                                  \n",
    "import math \n",
    "\n",
    "# Rdkit libraries \n",
    "from rdkit.Chem.Draw import IPythonConsole\n",
    "from rdkit.Chem import Draw\n",
    "from rdkit import Chem\n",
    "from rdkit.Chem import AllChem                                                                                                                                                                             \n",
    "from rdkit.Chem import ChemicalFeatures                                                                                                                                                                    \n",
    "from rdkit.Chem import rdchem                                                                                                                                                                              \n",
    "from rdkit.Chem import rdMolDescriptors                                                                                                                                                                    \n",
    "from rdkit import RDConfig  \n",
    "\n",
    "# Alignment libraries in MDAnalysis\n",
    "import MDAnalysis as mda\n",
    "from MDAnalysis.analysis import align\n",
    "from MDAnalysis.analysis.rms import rmsd\n",
    "from MDAnalysis.tests.datafiles import PSF, DCD, PDB_small, PDB, XTC\n",
    "\n",
    "# Scipy libraries\n",
    "import scipy                                                                                                                                                                                                                                                                                                                                                                                                          \n",
    "from scipy.sparse import csr_matrix                                                                                                                                                                        \n",
    "from scipy.sparse.csgraph import floyd_warshall                                                                                                                                                            \n",
    "from scipy.spatial import ConvexHull, convex_hull_plot_2d \n",
    "from scipy.linalg import solve\n",
    "from scipy.spatial import distance\n",
    "\n",
    "# Matplotlib libraries \n",
    "import matplotlib.pyplot as plt \n",
    "from mpl_toolkits.mplot3d import axes3d    \n",
    "from mpl_toolkits.mplot3d import Axes3D\n",
    "import plotly.graph_objs as go\n",
    "\n",
    "# Pandas \n",
    "import pandas as pd\n",
    "import numpy as np\n",
    "import plotly.graph_objs as go\n",
    "import math \n",
    "from operator import itemgetter\n",
    "import itertools                                                                                                                                                                                           \n",
    "import requests                                                                                                                                                                                            \n",
    "import collections                                                                                                                                                                                         \n",
    "import random               \n",
    "                                                                                                                                                                                                                                                                                                                                                                                                                                                                                                                                                         \n",
    "pd.set_option('display.max_colwidth', None)\n",
    "\n",
    "IPythonConsole.ipython_useSVG=True  #< set this to False if you want PNGs instead of SVGs"
   ]
  },
  {
   "cell_type": "code",
   "execution_count": 92,
   "metadata": {},
   "outputs": [],
   "source": [
    "\"\"\"\n",
    "RDKIT functions\n",
    "\"\"\"\n",
    "def GetRingSystems(mol, includeSpiro=False):\n",
    "    \"\"\"\n",
    "    What is this function doing?\n",
    "    \"\"\"\n",
    "    ri = mol.GetRingInfo() # Sets out the indices of the rings structures within the mol file \n",
    "    systems = []\n",
    "    for ring in ri.AtomRings():\n",
    "        ringAts = set(ring)\n",
    "        nSystems = []\n",
    "        for system in systems:\n",
    "            nInCommon = len(ringAts.intersection(system))\n",
    "            if nInCommon and (includeSpiro or nInCommon>1):\n",
    "                ringAts = ringAts.union(system)\n",
    "            else:\n",
    "                nSystems.append(system)\n",
    "        nSystems.append(ringAts)\n",
    "        systems = nSystems\n",
    "    return systems\n",
    "#mol = Chem.MolFromSmiles('CN1C(=O)CN=C(C2=C1C=CC(=C2)Cl)C3=CC=CC=C3')\n",
    "\n",
    "\"\"\"\n",
    "Plotting functions \n",
    "\"\"\"\n",
    "\n",
    "def mol_with_atom_index(mol):\n",
    "    for atom in mol.GetAtoms():\n",
    "        atom.SetAtomMapNum(atom.GetIdx())\n",
    "    return mol\n",
    "\n",
    "def vector_plot(tvects,is_vect=True,orig=[0,0,0]):\n",
    "    \"\"\"Plot vectors using plotly\"\"\"\n",
    "    if is_vect:\n",
    "        if not hasattr(orig[0],\"__iter__\"):\n",
    "            coords = [[orig,np.sum([orig,v],axis=0)] for v in tvects]\n",
    "        else:\n",
    "            coords = [[o,np.sum([o,v],axis=0)] for o,v in zip(orig,tvects)]\n",
    "    else:\n",
    "        coords = tvects\n",
    "\n",
    "    data = []\n",
    "    for i,c in enumerate(coords):\n",
    "        X1, Y1, Z1 = zip(c[0])\n",
    "        X2, Y2, Z2 = zip(c[1])\n",
    "        vector = go.Scatter3d(x = [X1[0],X2[0]],\n",
    "                              y = [Y1[0],Y2[0]],\n",
    "                              z = [Z1[0],Z2[0]],\n",
    "                              marker = dict(size = [0,5],\n",
    "                                            color = ['blue'],\n",
    "                                            line=dict(width=5,\n",
    "                                                      color='DarkSlateGrey')),\n",
    "                              name = 'Vector'+str(i+1))\n",
    "        data.append(vector)\n",
    "\n",
    "    layout = go.Layout(\n",
    "             margin = dict(l = 4,\n",
    "                           r = 4,\n",
    "                           b = 4,\n",
    "                           t = 4)\n",
    "                  )\n",
    "    fig = go.Figure(data=data,layout=layout)\n",
    "    fig.show()\n",
    "    \n",
    "\n",
    "def fibonacci_sphere(samples=1):\n",
    "    \"\"\"\n",
    "    Return a Fibanocci sphere with N number of points on the surface. \n",
    "    This will act as the template for the nanoparticle core. \n",
    "    \"\"\"\n",
    "    points = []\n",
    "    phi = math.pi * (3. - math.sqrt(5.))  # golden angle in radians\n",
    "\n",
    "    for i in range(samples):\n",
    "        y = 1 - (i / float(samples - 1)) * 2  # y goes from 1 to -1\n",
    "        radius = math.sqrt(1 - y * y)  # radius at y\n",
    "\n",
    "        theta = phi * i  # golden angle increment\n",
    "\n",
    "        x = math.cos(theta) * radius\n",
    "        z = math.sin(theta) * radius\n",
    "\n",
    "        points.append((x, y, z))\n",
    "\n",
    "    return points\n",
    "\n",
    "def rotation_matrix_from_vectors(vec1, vec2):\n",
    "    \"\"\" \n",
    "    Find the rotation matrix that aligns vec1 to vec2\n",
    "    :param vec1: A 3d \"source\" vector\n",
    "    :param vec2: A 3d \"destination\" vector\n",
    "    :return mat: A transform matrix (3x3) which when applied to vec1, aligns it with vec2.\n",
    "    \"\"\"\n",
    "    a, b = (vec1 / np.linalg.norm(vec1)).reshape(3), (vec2 / np.linalg.norm(vec2)).reshape(3)\n",
    "    v = np.cross(a, b)\n",
    "    c = np.dot(a, b)\n",
    "    s = np.linalg.norm(v)\n",
    "    kmat = np.array([[0, -v[2], v[1]], [v[2], 0, -v[0]], [-v[1], v[0], 0]])\n",
    "    rotation_matrix = np.eye(3) + kmat + kmat.dot(kmat) * ((1 - c) / (s ** 2))\n",
    "    return rotation_matrix\n",
    "\n",
    "def GenerateCore(Radius, N):\n",
    "    \"\"\"\n",
    "    Parameters\n",
    "    ----------\n",
    "    Radius: \n",
    "        path and file where the pdb file is.\n",
    "    N: \n",
    "        Placeholder \n",
    "        \n",
    "    Creates a Fibanocci sphere that represents the NP core \n",
    "    and Allocates the radius. Using the radius, the core is scaled down/up \n",
    "    to the size that one wishes to have. \n",
    "    \n",
    "    \"\"\"\n",
    "    Sphere = fibonacci_sphere(N) # Create the fibanocci sphere representing the NP core \n",
    "    XSphere, YSphere, ZSphere  = [], [], []\n",
    "    for entry in Sphere:\n",
    "        XSphere.append(entry[0])\n",
    "        YSphere.append(entry[1])\n",
    "        ZSphere.append(entry[2])\n",
    "    # Append as 2d list\n",
    "    SphereList = [] \n",
    "    for index in range(0, len(XSphere)):\n",
    "        SphereList.append([XSphere[index], YSphere[index], ZSphere[index]])\n",
    "    # Take the radius value, and then multiply the unit vector in each \n",
    "    # Direction by that radius value to increase the total volume of the \n",
    "    # NP core.\n",
    "    for index in range(0, len(SphereList) -1):\n",
    "        SphereList[index][0] = SphereList[index][0] * Radius\n",
    "        SphereList[index][1] = SphereList[index][1] * Radius\n",
    "        SphereList[index][2] = SphereList[index][2] * Radius\n",
    "    return SphereList\n",
    "\n",
    "def AttachLigands(LigandSmilesString, FirstAtomList, LastAtomList, Core):\n",
    "    \"\"\"\n",
    "    Parameters\n",
    "    ----------\n",
    "    LigandSmilesString: \n",
    "        path and file where the pdb file is.\n",
    "    FirstAtomList:\n",
    "        Placeholder\n",
    "    LastAtomList: \n",
    "        Placeholder\n",
    "    Core:\n",
    "        Placeholder \n",
    "    \"\"\"\n",
    "    # Through MDAnalysis \n",
    "    u = mda.Universe.from_smiles(LigandSmilesString)\n",
    "    Molecule = u.select_atoms('all')\n",
    "    # Select Atom attached to the core \n",
    "    FirstAtom = u.select_atoms('name {}'.format(FirstAtomList[0])) # Pick out the atoms attached\n",
    "    # Select end atom on the ligand \n",
    "    LastAtom = u.select_atoms('name {}'.format(LastAtomList[0])) # Pick out the last atom at the tip of the ligand \n",
    "    TransformationList, NameList = [], []\n",
    "    # Find the vector representing the direction from the sulfur to the tip of the ligand. \n",
    "    LigandAlignmentVector = (FirstAtom.positions- LastAtom.positions)[0]  \n",
    " \n",
    "    for i,j in enumerate(Molecule.positions):\n",
    "        vector = (j - FirstAtom.positions)[0]\n",
    "        vector[0] = LigandAlignmentVector[0] - vector[0]\n",
    "        vector[1] = LigandAlignmentVector[1] - vector[1]    \n",
    "        vector[2] = LigandAlignmentVector[2] - vector[2]\n",
    "        if vector[0] == -math.inf:\n",
    "            pass\n",
    "        if vector[0] == 0.0:\n",
    "            pass\n",
    "        else:\n",
    "            TransformationList.append([vector, Molecule.atoms[i].type])        \n",
    "\n",
    "    LigandList = [] \n",
    "    Sphere = []\n",
    "    Xplot, Yplot, Zplot = [], [], []\n",
    "    XplotSphere, YplotSphere, ZplotSphere = [], [], []\n",
    "\n",
    "    # Sulfur/ligand vector \n",
    "    unitVector = np.linalg.norm(LigandAlignmentVector)\n",
    "    vec1 = LigandAlignmentVector.tolist()\n",
    "    for index in range(0, len(SphereList)):\n",
    "        vec2 = SphereList[index] \n",
    "        # Find the rotation matrix that aligns ligand vector representation to the NP surface vector point representation \n",
    "        TransformationVector = rotation_matrix_from_vectors(vec1, vec2)  \n",
    "        vec1_rot = TransformationVector.dot(vec1) # Rotate the vector to match the surface point on the sphere \n",
    "        # TODO \n",
    "        unitVectorabs = np.linalg.norm(AlignmentVector)  \n",
    "        vecMultiplier = vec1_rot/unitVectorabs * 3 # Controls how far we want the ligands to be placed away from\n",
    "                                               # the NP surface\n",
    "        # TODO\n",
    "        Sphere.append(vec1_rot.tolist())\n",
    "        #LigandList.append(vec1_rot.tolist())\n",
    "        # Get the factors to translate the vector \n",
    "        for trans in TransformationList:\n",
    "            #if vec1_rot[0] > 0 and vec1_rot[1] > 0 and vec1_rot[2] > 0:   # (+ , +, +)\n",
    "            LigandAtomcoordinate = TransformationVector.dot(trans[0])\n",
    "            LigandAtomcoordinate[0] = LigandAtomcoordinate[0] + vecMultiplier[0]\n",
    "            LigandAtomcoordinate[1] = LigandAtomcoordinate[1] + vecMultiplier[1]\n",
    "            LigandAtomcoordinate[2] = LigandAtomcoordinate[2] + vecMultiplier[2]\n",
    "            LigandList.append(LigandAtomcoordinate.tolist()) # Append coordinates of the \n",
    "            NameList.append(trans[1]) # Append the names of the atoms \n",
    "\n",
    "    # Append the coordinates of the ligands \n",
    "    for index, entry in enumerate(LigandList):\n",
    "        #ax.plot3D(entry[0], entry[1], entry[2], 'red')\n",
    "        Xplot.append(entry[0])\n",
    "        Yplot.append(entry[1])\n",
    "        Zplot.append(entry[2])\n",
    "    # Add in the ligand index \n",
    "    LigandConstituent = [atom.name for atom in Molecule]\n",
    "    Ligands = []\n",
    "    for index in range(0, len(Sphere)): \n",
    "        Ligands = Ligands + LigandConstituent\n",
    "    \n",
    "    SphereName = [] \n",
    "    # Append the coordinates of the sphere \n",
    "    for entry in Sphere:\n",
    "        #ax.plot3D(entry[0], entry[1], entry[2], 'red')\n",
    "        XplotSphere.append(entry[0])\n",
    "        YplotSphere.append(entry[1])\n",
    "        ZplotSphere.append(entry[2])\n",
    "        SphereName.append('Au')\n",
    "    \n",
    "    dfLigand = pd.DataFrame(list(zip(Xplot, Yplot, Zplot, Ligands)), columns =['X', 'Y', 'Z', 'NAME'])\n",
    "    dfLigand['name'] = 'Ligand'\n",
    "    dfCore = pd.DataFrame(list(zip(XplotSphere, YplotSphere, ZplotSphere, SphereName)), columns =['X', 'Y', 'Z', 'NAME'])\n",
    "    dfCore['name'] = 'Core'\n",
    "    Total = dfLigand.append(dfCore)\n",
    "    return Total\n",
    "\n",
    "def ComputeC70Distances(coordinate):\n",
    "    \"\"\"    \n",
    "    Parameters\n",
    "    ----------\n",
    "    coordinate: \n",
    "        path and file where the pdb file is.\n",
    "    \n",
    "    \"\"\"\n",
    "    u = mda.Universe(coordinate)\n",
    "    \n",
    "    CorePositions, CoreIndex = [], []\n",
    "    C70CGBeadPositions = []\n",
    "    DistanceDict = {}\n",
    "    CorePositions = [[index, atoms.position] for index, atoms in enumerate(u.atoms)]\n",
    "    \n",
    "    for index, atoms in enumerate(u.atoms): # iterate through items \n",
    "        DistanceDict[index] = []\n",
    "        # Get the distance between atoms in the core positions  \n",
    "        for items in CorePositions:\n",
    "            # Find the distance between the index atoms in the index, atom.. \n",
    "            # and the core \n",
    "            dist = distance.euclidean(items[1], atoms.position)\n",
    "            Entry = [index, items[0], dist]\n",
    "            # Sort entry by dist \n",
    "            DistanceDict[index].append(Entry)\n",
    "    ClosestAtomsDistance = [] # List to store the atoms with the closest distances\n",
    "    # Sort each entry by distance \n",
    "    \n",
    "    for key in DistanceDict.keys():\n",
    "        DistanceDict[key] = sorted(DistanceDict[key], key=itemgetter(2)) # sort entries by closest distance \n",
    "        DistanceDict[key][1][0:2] = sorted(DistanceDict[key][1][0:2]) # \n",
    "        ClosestAtomsDistance.append(DistanceDict[key][1])\n",
    "    # Remove duplicate entries \n",
    "    UniqueSetsCoordinates = [list(x) for x in set(tuple(x) for x in ClosestAtomsDistance)]       \n",
    "    # Take the indices in the unique data and compute the averge coordinates\n",
    "    \n",
    "    for entry in UniqueSetsCoordinates:\n",
    "        data = [list(CorePositions[entry[0]][1]), list(CorePositions[entry[1]][1])]\n",
    "        averaged = np.average(data, axis=0)\n",
    "        C70CGBeadPositions.append(averaged)\n",
    "        \n",
    "    return C70CGBeadPositions\n",
    "\n",
    "\n",
    "def GenerateXYZ(NPDataframe):\n",
    "    \"\"\"\n",
    "    Parameters\n",
    "    ----------\n",
    "    Generate xyz structure coordinates from \n",
    "    the made NP. \n",
    "    \"\"\"\n",
    "    with open(\"file.xyz\", 'w') as xyz_file:\n",
    "        xyz_file.write(\"%d\\n%s\\n\" % (len(NPDataframe), 'NP'))\n",
    "        for index, row in NPDataframe.iterrows():\n",
    "            xyz_file.write(\"{:4} {:11.6f} {:11.6f} {:11.6f}\\n\".format(\n",
    "                row['NAME'], row['X'], row['Y'], row['Z']))"
   ]
  },
  {
   "cell_type": "code",
   "execution_count": 79,
   "metadata": {},
   "outputs": [
    {
     "data": {
      "image/png": "[encoded data removed]",
      "image/svg+xml": [
       "<?xml version='1.0' encoding='iso-8859-1'?>\n",
       "<svg version='1.1' baseProfile='full'\n",
       "              xmlns='http://www.w3.org/2000/svg'\n",
       "                      xmlns:rdkit='http://www.rdkit.org/xml'\n",
       "                      xmlns:xlink='http://www.w3.org/1999/xlink'\n",
       "                  xml:space='preserve'\n",
       "width='450px' height='150px' viewBox='0 0 450 150'>\n",
       "<!-- END OF HEADER -->\n",
       "<rect style='opacity:1.0;fill:#FFFFFF;stroke:none' width='450.0' height='150.0' x='0.0' y='0.0'> </rect>\n",
       "<path class='bond-0 atom-0 atom-1' d='M 274.6,143.2 L 226.2,90.7' style='fill:none;fill-rule:evenodd;stroke:#000000;stroke-width:2.0px;stroke-linecap:butt;stroke-linejoin:miter;stroke-opacity:1' />\n",
       "<path class='bond-0 atom-0 atom-1' d='M 277.9,125.6 L 244.0,88.9' style='fill:none;fill-rule:evenodd;stroke:#000000;stroke-width:2.0px;stroke-linecap:butt;stroke-linejoin:miter;stroke-opacity:1' />\n",
       "<path class='bond-7 atom-5 atom-0' d='M 344.3,127.5 L 274.6,143.2' style='fill:none;fill-rule:evenodd;stroke:#000000;stroke-width:2.0px;stroke-linecap:butt;stroke-linejoin:miter;stroke-opacity:1' />\n",
       "<path class='bond-1 atom-1 atom-2' d='M 226.2,90.7 L 247.4,22.5' style='fill:none;fill-rule:evenodd;stroke:#000000;stroke-width:2.0px;stroke-linecap:butt;stroke-linejoin:miter;stroke-opacity:1' />\n",
       "<path class='bond-5 atom-1 atom-6' d='M 226.2,90.7 L 156.6,106.4' style='fill:none;fill-rule:evenodd;stroke:#000000;stroke-width:2.0px;stroke-linecap:butt;stroke-linejoin:miter;stroke-opacity:1' />\n",
       "<path class='bond-2 atom-2 atom-3' d='M 247.4,22.5 L 317.1,6.8' style='fill:none;fill-rule:evenodd;stroke:#000000;stroke-width:2.0px;stroke-linecap:butt;stroke-linejoin:miter;stroke-opacity:1' />\n",
       "<path class='bond-2 atom-2 atom-3' d='M 261.0,34.1 L 309.8,23.1' style='fill:none;fill-rule:evenodd;stroke:#000000;stroke-width:2.0px;stroke-linecap:butt;stroke-linejoin:miter;stroke-opacity:1' />\n",
       "<path class='bond-3 atom-3 atom-4' d='M 317.1,6.8 L 365.5,59.3' style='fill:none;fill-rule:evenodd;stroke:#000000;stroke-width:2.0px;stroke-linecap:butt;stroke-linejoin:miter;stroke-opacity:1' />\n",
       "<path class='bond-4 atom-4 atom-5' d='M 365.5,59.3 L 344.3,127.5' style='fill:none;fill-rule:evenodd;stroke:#000000;stroke-width:2.0px;stroke-linecap:butt;stroke-linejoin:miter;stroke-opacity:1' />\n",
       "<path class='bond-4 atom-4 atom-5' d='M 348.7,65.3 L 333.9,113.0' style='fill:none;fill-rule:evenodd;stroke:#000000;stroke-width:2.0px;stroke-linecap:butt;stroke-linejoin:miter;stroke-opacity:1' />\n",
       "<path class='bond-6 atom-6 atom-7' d='M 156.6,106.4 L 136.5,84.7' style='fill:none;fill-rule:evenodd;stroke:#000000;stroke-width:2.0px;stroke-linecap:butt;stroke-linejoin:miter;stroke-opacity:1' />\n",
       "<path class='bond-6 atom-6 atom-7' d='M 136.5,84.7 L 116.4,62.9' style='fill:none;fill-rule:evenodd;stroke:#CCCC00;stroke-width:2.0px;stroke-linecap:butt;stroke-linejoin:miter;stroke-opacity:1' />\n",
       "<path  class='atom-7' d='M 84.5 43.8\n",
       "L 87.2 43.8\n",
       "L 87.2 52.4\n",
       "L 97.5 52.4\n",
       "L 97.5 43.8\n",
       "L 100.3 43.8\n",
       "L 100.3 64.1\n",
       "L 97.5 64.1\n",
       "L 97.5 54.7\n",
       "L 87.2 54.7\n",
       "L 87.2 64.1\n",
       "L 84.5 64.1\n",
       "L 84.5 43.8\n",
       "' fill='#CCCC00'/>\n",
       "<path  class='atom-7' d='M 102.4 60.9\n",
       "Q 102.6 61.0, 103.6 61.4\n",
       "Q 104.5 61.8, 105.5 62.1\n",
       "Q 106.6 62.3, 107.6 62.3\n",
       "Q 109.5 62.3, 110.7 61.4\n",
       "Q 111.8 60.4, 111.8 58.8\n",
       "Q 111.8 57.7, 111.2 57.0\n",
       "Q 110.7 56.3, 109.8 55.9\n",
       "Q 108.9 55.6, 107.5 55.1\n",
       "Q 105.7 54.6, 104.6 54.1\n",
       "Q 103.6 53.6, 102.8 52.5\n",
       "Q 102.1 51.4, 102.1 49.6\n",
       "Q 102.1 47.0, 103.8 45.5\n",
       "Q 105.5 43.9, 108.9 43.9\n",
       "Q 111.3 43.9, 113.9 45.0\n",
       "L 113.3 47.2\n",
       "Q 110.9 46.2, 109.0 46.2\n",
       "Q 107.1 46.2, 106.0 47.0\n",
       "Q 104.9 47.8, 104.9 49.2\n",
       "Q 104.9 50.3, 105.5 51.0\n",
       "Q 106.0 51.6, 106.8 52.0\n",
       "Q 107.7 52.4, 109.0 52.8\n",
       "Q 110.9 53.4, 111.9 53.9\n",
       "Q 113.0 54.5, 113.8 55.7\n",
       "Q 114.6 56.8, 114.6 58.8\n",
       "Q 114.6 61.6, 112.7 63.1\n",
       "Q 110.9 64.6, 107.7 64.6\n",
       "Q 105.9 64.6, 104.6 64.2\n",
       "Q 103.2 63.8, 101.6 63.2\n",
       "L 102.4 60.9\n",
       "' fill='#CCCC00'/>\n",
       "</svg>\n"
      ],
      "text/html": [
       "<?xml version='1.0' encoding='iso-8859-1'?>\n",
       "<svg version='1.1' baseProfile='full'\n",
       "              xmlns='http://www.w3.org/2000/svg'\n",
       "                      xmlns:rdkit='http://www.rdkit.org/xml'\n",
       "                      xmlns:xlink='http://www.w3.org/1999/xlink'\n",
       "                  xml:space='preserve'\n",
       "width='450px' height='150px' viewBox='0 0 450 150'>\n",
       "<!-- END OF HEADER -->\n",
       "<rect style='opacity:1.0;fill:#FFFFFF;stroke:none' width='450.0' height='150.0' x='0.0' y='0.0'> </rect>\n",
       "<path class='bond-0 atom-0 atom-1' d='M 274.6,143.2 L 226.2,90.7' style='fill:none;fill-rule:evenodd;stroke:#000000;stroke-width:2.0px;stroke-linecap:butt;stroke-linejoin:miter;stroke-opacity:1' />\n",
       "<path class='bond-0 atom-0 atom-1' d='M 277.9,125.6 L 244.0,88.9' style='fill:none;fill-rule:evenodd;stroke:#000000;stroke-width:2.0px;stroke-linecap:butt;stroke-linejoin:miter;stroke-opacity:1' />\n",
       "<path class='bond-7 atom-5 atom-0' d='M 344.3,127.5 L 274.6,143.2' style='fill:none;fill-rule:evenodd;stroke:#000000;stroke-width:2.0px;stroke-linecap:butt;stroke-linejoin:miter;stroke-opacity:1' />\n",
       "<path class='bond-1 atom-1 atom-2' d='M 226.2,90.7 L 247.4,22.5' style='fill:none;fill-rule:evenodd;stroke:#000000;stroke-width:2.0px;stroke-linecap:butt;stroke-linejoin:miter;stroke-opacity:1' />\n",
       "<path class='bond-5 atom-1 atom-6' d='M 226.2,90.7 L 156.6,106.4' style='fill:none;fill-rule:evenodd;stroke:#000000;stroke-width:2.0px;stroke-linecap:butt;stroke-linejoin:miter;stroke-opacity:1' />\n",
       "<path class='bond-2 atom-2 atom-3' d='M 247.4,22.5 L 317.1,6.8' style='fill:none;fill-rule:evenodd;stroke:#000000;stroke-width:2.0px;stroke-linecap:butt;stroke-linejoin:miter;stroke-opacity:1' />\n",
       "<path class='bond-2 atom-2 atom-3' d='M 261.0,34.1 L 309.8,23.1' style='fill:none;fill-rule:evenodd;stroke:#000000;stroke-width:2.0px;stroke-linecap:butt;stroke-linejoin:miter;stroke-opacity:1' />\n",
       "<path class='bond-3 atom-3 atom-4' d='M 317.1,6.8 L 365.5,59.3' style='fill:none;fill-rule:evenodd;stroke:#000000;stroke-width:2.0px;stroke-linecap:butt;stroke-linejoin:miter;stroke-opacity:1' />\n",
       "<path class='bond-4 atom-4 atom-5' d='M 365.5,59.3 L 344.3,127.5' style='fill:none;fill-rule:evenodd;stroke:#000000;stroke-width:2.0px;stroke-linecap:butt;stroke-linejoin:miter;stroke-opacity:1' />\n",
       "<path class='bond-4 atom-4 atom-5' d='M 348.7,65.3 L 333.9,113.0' style='fill:none;fill-rule:evenodd;stroke:#000000;stroke-width:2.0px;stroke-linecap:butt;stroke-linejoin:miter;stroke-opacity:1' />\n",
       "<path class='bond-6 atom-6 atom-7' d='M 156.6,106.4 L 136.5,84.7' style='fill:none;fill-rule:evenodd;stroke:#000000;stroke-width:2.0px;stroke-linecap:butt;stroke-linejoin:miter;stroke-opacity:1' />\n",
       "<path class='bond-6 atom-6 atom-7' d='M 136.5,84.7 L 116.4,62.9' style='fill:none;fill-rule:evenodd;stroke:#CCCC00;stroke-width:2.0px;stroke-linecap:butt;stroke-linejoin:miter;stroke-opacity:1' />\n",
       "<path  class='atom-7' d='M 84.5 43.8\n",
       "L 87.2 43.8\n",
       "L 87.2 52.4\n",
       "L 97.5 52.4\n",
       "L 97.5 43.8\n",
       "L 100.3 43.8\n",
       "L 100.3 64.1\n",
       "L 97.5 64.1\n",
       "L 97.5 54.7\n",
       "L 87.2 54.7\n",
       "L 87.2 64.1\n",
       "L 84.5 64.1\n",
       "L 84.5 43.8\n",
       "' fill='#CCCC00'/>\n",
       "<path  class='atom-7' d='M 102.4 60.9\n",
       "Q 102.6 61.0, 103.6 61.4\n",
       "Q 104.5 61.8, 105.5 62.1\n",
       "Q 106.6 62.3, 107.6 62.3\n",
       "Q 109.5 62.3, 110.7 61.4\n",
       "Q 111.8 60.4, 111.8 58.8\n",
       "Q 111.8 57.7, 111.2 57.0\n",
       "Q 110.7 56.3, 109.8 55.9\n",
       "Q 108.9 55.6, 107.5 55.1\n",
       "Q 105.7 54.6, 104.6 54.1\n",
       "Q 103.6 53.6, 102.8 52.5\n",
       "Q 102.1 51.4, 102.1 49.6\n",
       "Q 102.1 47.0, 103.8 45.5\n",
       "Q 105.5 43.9, 108.9 43.9\n",
       "Q 111.3 43.9, 113.9 45.0\n",
       "L 113.3 47.2\n",
       "Q 110.9 46.2, 109.0 46.2\n",
       "Q 107.1 46.2, 106.0 47.0\n",
       "Q 104.9 47.8, 104.9 49.2\n",
       "Q 104.9 50.3, 105.5 51.0\n",
       "Q 106.0 51.6, 106.8 52.0\n",
       "Q 107.7 52.4, 109.0 52.8\n",
       "Q 110.9 53.4, 111.9 53.9\n",
       "Q 113.0 54.5, 113.8 55.7\n",
       "Q 114.6 56.8, 114.6 58.8\n",
       "Q 114.6 61.6, 112.7 63.1\n",
       "Q 110.9 64.6, 107.7 64.6\n",
       "Q 105.9 64.6, 104.6 64.2\n",
       "Q 103.2 63.8, 101.6 63.2\n",
       "L 102.4 60.9\n",
       "' fill='#CCCC00'/>\n",
       "</svg>\n"
      ],
      "text/plain": [
       "<rdkit.Chem.rdchem.Mol at 0x7f84405d75e0>"
      ]
     },
     "execution_count": 79,
     "metadata": {},
     "output_type": "execute_result"
    }
   ],
   "source": [
    "\"\"\" \n",
    "Annotating and drawing an example sulfur ligand \n",
    "\"\"\"\n",
    "u1 = mda.Universe.from_smiles(\"C1=C(C=CC=C1)CS[H]\")\n",
    "AromaticSulfurSmilesString = 'C1=C(C=CC=C1)CS[H]'\n",
    "m_aromatic = Chem.MolFromSmiles(AromaticSulfurSmilesString)\n",
    "#mol_with_atom_index(m_aromatic)\n",
    "m_aromatic"
   ]
  },
  {
   "cell_type": "code",
   "execution_count": 80,
   "metadata": {},
   "outputs": [
    {
     "data": {
      "text/plain": [
       "array([[-0.4164508 , -1.0209086 , -0.321538  ],\n",
       "       [ 0.45470127, -0.10056152,  0.22862747],\n",
       "       [-0.08500773,  1.1171963 ,  0.59858966],\n",
       "       [-1.4242786 ,  1.4126036 ,  0.43273652],\n",
       "       [-2.2898233 ,  0.49065328, -0.11687744],\n",
       "       [-1.7620933 , -0.7279982 , -0.48973343],\n",
       "       [ 1.9010806 , -0.38754773,  0.4204745 ],\n",
       "       [ 2.8918927 ,  0.08216184, -1.0066428 ],\n",
       "       [-0.03023229, -1.989612  , -0.6249604 ],\n",
       "       [ 0.5916354 ,  1.8547293 ,  1.0349166 ],\n",
       "       [-1.8327507 ,  2.370702  ,  0.7272381 ],\n",
       "       [-3.3425007 ,  0.69592506, -0.25794318],\n",
       "       [-2.4653492 , -1.4386841 , -0.9210312 ],\n",
       "       [ 1.9937527 , -1.4730167 ,  0.61070406],\n",
       "       [ 2.3121333 ,  0.13089113,  1.3198408 ],\n",
       "       [ 3.5032907 , -1.0165337 , -1.6344012 ]], dtype=float32)"
      ]
     },
     "execution_count": 80,
     "metadata": {},
     "output_type": "execute_result"
    }
   ],
   "source": [
    "\"\"\" \n",
    "Working on the same ligand.. \n",
    "\"\"\"\n",
    "\n",
    "# Through RDKIT\n",
    "AromaticSulfurSmilesString = 'C1=C(C=CC=C1)CS[H]'\n",
    "m_aromatic = Chem.MolFromSmiles(AromaticSulfurSmilesString)\n",
    "mol_with_atom_index(m_aromatic)\n",
    "\n",
    "# Through MDAnalysis \n",
    "u1 = mda.Universe.from_smiles(AromaticSulfurSmilesString)\n",
    "Molecule = u1.select_atoms('all')\n",
    "Molecule.positions # Finds the cartesian coordinates of the ligands "
   ]
  },
  {
   "cell_type": "code",
   "execution_count": 81,
   "metadata": {},
   "outputs": [
    {
     "name": "stderr",
     "output_type": "stream",
     "text": [
      "/home/sang/anaconda3/lib/python3.8/site-packages/MDAnalysis/converters/RDKit.py:161: UserWarning:\n",
      "\n",
      "No coordinates found in the RDKit molecule\n",
      "\n"
     ]
    }
   ],
   "source": [
    "C70 = mda.Universe.from_smiles(\"c1(c2c3c4c15)c6c7c8c2c9c%10c3c%11c%12c4c%13c%14c5c%15c6c%16c7c%17c%18c%19c%20c%21c%22c%23c%24c%21c%25c%26c%20c%18c%16c%27c%15c%14c%28c(c%25c%29c%24c%30c%31c%23c%32c%33c%22c%19c%34c%33c(c9c8c%34%17)c%35c%10c%11c(c%31c%32%35)c%36c%12c%13c%28c%29c%30%36)c%26%27\")"
   ]
  },
  {
   "cell_type": "code",
   "execution_count": 82,
   "metadata": {},
   "outputs": [
    {
     "data": {
      "text/plain": [
       "<AtomGroup with 70 atoms>"
      ]
     },
     "execution_count": 82,
     "metadata": {},
     "output_type": "execute_result"
    }
   ],
   "source": [
    "C70.atoms"
   ]
  },
  {
   "cell_type": "code",
   "execution_count": 83,
   "metadata": {},
   "outputs": [],
   "source": [
    "# Highlight a Substructure in a Molecule - Can we identify the benzene part and sulfur part?\n",
    "\n",
    "\n",
    "ConvertedSmiles = Chem.MolToSmiles(Chem.MolFromSmiles('C1=CC=CN=C1'))\n",
    "ConvertedSmiles\n",
    "\n",
    "ExampleMartiniString = \"CC(=O)CO\" # Example smiles string that is compatible with MARTINI \n",
    "ConvertedSmiles2 = Chem.MolToSmiles(Chem.MolFromSmiles(ExampleMartiniString))\n",
    "ConvertedSmiles2\n",
    "m2  = Chem.MolFromSmiles(ConvertedSmiles2)\n",
    "#m2\n",
    "# Hence, we need to create a dictionary that catalogues the string with the relevant martini bead \n",
    "SmilesToMartiniDictionary = {}\n",
    "SmilesToMartiniDictionary[\"CC(=O)CO\"] = 'P2' # P2 Bead \n",
    "SmilesToMartiniDictionary[\"CC(=O)O\"] = 'SP2' # SP2 Bead \n",
    "SmilesToMartiniDictionary[\"CC(C)O\"] = 'P1' # P1 Bead \n",
    "SmilesToMartiniDictionary[\"CC(C)O\"] = 'P1' # P1 Bead "
   ]
  },
  {
   "cell_type": "code",
   "execution_count": 62,
   "metadata": {},
   "outputs": [
    {
     "data": {
      "text/plain": [
       "array([[-0.313859  ,  1.1280458 ,  0.28946903],\n",
       "       [-1.6361762 ,  0.89868724,  0.35294148],\n",
       "       [-2.1747763 , -0.31641102,  0.11850151],\n",
       "       [-1.3289351 , -1.3233694 , -0.18981339],\n",
       "       [ 0.00611945, -1.1431412 , -0.26581106],\n",
       "       [ 0.55128545,  0.09935988, -0.02559434],\n",
       "       [ 1.9858009 ,  0.3100111 , -0.10331057],\n",
       "       [ 2.5338929 ,  1.4185567 ,  0.10556315],\n",
       "       [ 2.8077197 , -0.759986  , -0.4241446 ],\n",
       "       [ 0.12180877,  2.1109636 ,  0.47911093],\n",
       "       [-3.2543247 , -0.48732215,  0.17410803],\n",
       "       [ 0.70144445, -1.9353946 , -0.5110202 ]], dtype=float32)"
      ]
     },
     "execution_count": 62,
     "metadata": {},
     "output_type": "execute_result"
    }
   ],
   "source": [
    "\"\"\"\n",
    "This part links the lignad coordinates with the \n",
    "\"\"\"\n",
    "# new feature\n",
    "u1 = mda.Universe.from_smiles(\"c1ncncc1C(=O)[O-]\")\n",
    "# new feature\n",
    "Molecule = u1.select_atoms('all')\n",
    "Molecule.positions # Finds \n",
    "# Need to label each of the xyz coordinates with the relevant indices within the "
   ]
  },
  {
   "cell_type": "code",
   "execution_count": 84,
   "metadata": {},
   "outputs": [
    {
     "data": {
      "text/plain": [
       "{'CC(=O)CO': 'P2', 'CC(=O)O': 'SP2', 'CC(C)O': 'P1'}"
      ]
     },
     "execution_count": 84,
     "metadata": {},
     "output_type": "execute_result"
    }
   ],
   "source": [
    "SmilesToMartiniDictionary"
   ]
  },
  {
   "cell_type": "code",
   "execution_count": 85,
   "metadata": {},
   "outputs": [
    {
     "name": "stdout",
     "output_type": "stream",
     "text": [
      "((10, 8, 9, 7),)\n",
      "(0, 12, 11, 6, 2, 1)\n"
     ]
    }
   ],
   "source": [
    "m = Chem.MolFromSmiles('c1cc(C(=O)O)c(OC(=O)C)cc1')\n",
    "substructure = Chem.MolFromSmarts('CC(=O)O')\n",
    "print(m.GetSubstructMatches(substructure)) # Shows the indices of the molcule that matches the MARTINI bead \n",
    "\n",
    "# Find part of the smiles which is part of a ring \n",
    "\n",
    "ri = m.GetRingInfo().AtomRings()\n",
    "for ring in ri:\n",
    "    print(ring)"
   ]
  },
  {
   "cell_type": "code",
   "execution_count": 86,
   "metadata": {},
   "outputs": [
    {
     "name": "stdout",
     "output_type": "stream",
     "text": [
      "()\n"
     ]
    }
   ],
   "source": [
    "\"\"\"\n",
    "In the above situation, we can identify the 3 parts - the thiolated part, the saturated hydrocarbon chain attached \n",
    "to the benzene group, and the benzene group itself. \n",
    "\"\"\"\n",
    "substructure = Chem.MolFromSmarts('SC')\n",
    "print(m.GetSubstructMatches(substructure))"
   ]
  },
  {
   "cell_type": "code",
   "execution_count": 87,
   "metadata": {},
   "outputs": [
    {
     "name": "stderr",
     "output_type": "stream",
     "text": [
      "/home/sang/anaconda3/lib/python3.8/site-packages/MDAnalysis/coordinates/PDB.py:747: UserWarning:\n",
      "\n",
      "Unit cell dimensions not found. CRYST1 record set to unitary values.\n",
      "\n",
      "/home/sang/anaconda3/lib/python3.8/site-packages/MDAnalysis/coordinates/PDB.py:1078: UserWarning:\n",
      "\n",
      "Found no information for attr: 'altLocs' Using default value of ' '\n",
      "\n",
      "/home/sang/anaconda3/lib/python3.8/site-packages/MDAnalysis/coordinates/PDB.py:1078: UserWarning:\n",
      "\n",
      "Found no information for attr: 'resnames' Using default value of 'UNK'\n",
      "\n",
      "/home/sang/anaconda3/lib/python3.8/site-packages/MDAnalysis/coordinates/PDB.py:1078: UserWarning:\n",
      "\n",
      "Found no information for attr: 'icodes' Using default value of ' '\n",
      "\n",
      "/home/sang/anaconda3/lib/python3.8/site-packages/MDAnalysis/coordinates/PDB.py:1078: UserWarning:\n",
      "\n",
      "Found no information for attr: 'chainIDs' Using default value of ''\n",
      "\n",
      "/home/sang/anaconda3/lib/python3.8/site-packages/MDAnalysis/coordinates/PDB.py:1078: UserWarning:\n",
      "\n",
      "Found no information for attr: 'occupancies' Using default value of '1.0'\n",
      "\n",
      "/home/sang/anaconda3/lib/python3.8/site-packages/MDAnalysis/coordinates/PDB.py:1078: UserWarning:\n",
      "\n",
      "Found no information for attr: 'tempfactors' Using default value of '0.0'\n",
      "\n",
      "/home/sang/anaconda3/lib/python3.8/site-packages/MDAnalysis/coordinates/PDB.py:1078: UserWarning:\n",
      "\n",
      "Found no information for attr: 'record_types' Using default value of 'ATOM'\n",
      "\n",
      "/home/sang/anaconda3/lib/python3.8/site-packages/MDAnalysis/coordinates/PDB.py:1124: UserWarning:\n",
      "\n",
      "Found missing chainIDs. Corresponding atoms will use value of 'X'\n",
      "\n"
     ]
    }
   ],
   "source": [
    "\n",
    "def GetRingSystems(mol, includeSpiro=False):\n",
    "    \"\"\"\n",
    "    What is this function doing?\n",
    "    \"\"\"\n",
    "    ri = mol.GetRingInfo() # Sets out the indices of the rings structures within the mol file \n",
    "    systems = []\n",
    "    for ring in ri.AtomRings():\n",
    "        ringAts = set(ring)\n",
    "        nSystems = []\n",
    "        for system in systems:\n",
    "            nInCommon = len(ringAts.intersection(system))\n",
    "            if nInCommon and (includeSpiro or nInCommon>1):\n",
    "                ringAts = ringAts.union(system)\n",
    "            else:\n",
    "                nSystems.append(system)\n",
    "        nSystems.append(ringAts)\n",
    "        systems = nSystems\n",
    "    return systems\n",
    "mol = Chem.MolFromSmiles('CN1C(=O)CN=C(C2=C1C=CC(=C2)Cl)C3=CC=CC=C3')\n",
    "#print(GetRingSystems(mol))\n",
    "#mol\n",
    "\n",
    "Molecule.positions\n",
    "Molecule.atoms.write(\"mol.pdb\")"
   ]
  },
  {
   "cell_type": "code",
   "execution_count": 88,
   "metadata": {},
   "outputs": [
    {
     "data": {
      "application/vnd.plotly.v1+json": {
       "config": {
        "plotlyServerURL": "https://plot.ly"
       },
       "data": [
        {
         "marker": {
          "color": [
           "blue"
          ],
          "line": {
           "color": "DarkSlateGrey",
           "width": 5
          },
          "size": [
           0,
           5
          ]
         },
         "name": "Vector1",
         "type": "scatter3d",
         "x": [
          0,
          0
         ],
         "y": [
          0,
          10
         ],
         "z": [
          0,
          0
         ]
        },
        {
         "marker": {
          "color": [
           "blue"
          ],
          "line": {
           "color": "DarkSlateGrey",
           "width": 5
          },
          "size": [
           0,
           5
          ]
         },
         "name": "Vector2",
         "type": "scatter3d",
         "x": [
          0,
          -1.4746625201921926
         ],
         "y": [
          0,
          9.797979797979798
         ],
         "z": [
          0,
          1.3509116662166227
         ]
        },
        {
         "marker": {
          "color": [
           "blue"
          ],
          "line": {
           "color": "DarkSlateGrey",
           "width": 5
          },
          "size": [
           0,
           5
          ]
         },
         "name": "Vector3",
         "type": "scatter3d",
         "x": [
          0,
          0.24599988672162226
         ],
         "y": [
          0,
          9.595959595959595
         ],
         "z": [
          0,
          -2.803041827808479
         ]
        },
        {
         "marker": {
          "color": [
           "blue"
          ],
          "line": {
           "color": "DarkSlateGrey",
           "width": 5
          },
          "size": [
           0,
           5
          ]
         },
         "name": "Vector4",
         "type": "scatter3d",
         "x": [
          0,
          2.085969670475504
         ],
         "y": [
          0,
          9.393939393939394
         ],
         "z": [
          0,
          2.7207780499059235
         ]
        },
        {
         "marker": {
          "color": [
           "blue"
          ],
          "line": {
           "color": "DarkSlateGrey",
           "width": 5
          },
          "size": [
           0,
           5
          ]
         },
         "name": "Vector5",
         "type": "scatter3d",
         "x": [
          0,
          -3.8778989211836534
         ],
         "y": [
          0,
          9.191919191919192
         ],
         "z": [
          0,
          -0.6859457167373212
         ]
        },
        {
         "marker": {
          "color": [
           "blue"
          ],
          "line": {
           "color": "DarkSlateGrey",
           "width": 5
          },
          "size": [
           0,
           5
          ]
         },
         "name": "Vector6",
         "type": "scatter3d",
         "x": [
          0,
          3.695389676362656
         ],
         "y": [
          0,
          8.98989898989899
         ],
         "z": [
          0,
          -2.3507044244748045
         ]
        },
        {
         "marker": {
          "color": [
           "blue"
          ],
          "line": {
           "color": "DarkSlateGrey",
           "width": 5
          },
          "size": [
           0,
           5
          ]
         },
         "name": "Vector7",
         "type": "scatter3d",
         "x": [
          0,
          -1.2388644490434448
         ],
         "y": [
          0,
          8.787878787878787
         ],
         "z": [
          0,
          4.60851399981017
         ]
        },
        {
         "marker": {
          "color": [
           "blue"
          ],
          "line": {
           "color": "DarkSlateGrey",
           "width": 5
          },
          "size": [
           0,
           5
          ]
         },
         "name": "Vector8",
         "type": "scatter3d",
         "x": [
          0,
          -2.362931120005442
         ],
         "y": [
          0,
          8.585858585858585
         ],
         "z": [
          0,
          -4.549680083890321
         ]
        },
        {
         "marker": {
          "color": [
           "blue"
          ],
          "line": {
           "color": "DarkSlateGrey",
           "width": 5
          },
          "size": [
           0,
           5
          ]
         },
         "name": "Vector9",
         "type": "scatter3d",
         "x": [
          0,
          5.1200553924297365
         ],
         "y": [
          0,
          8.383838383838384
         ],
         "z": [
          0,
          1.8698360174436122
         ]
        },
        {
         "marker": {
          "color": [
           "blue"
          ],
          "line": {
           "color": "DarkSlateGrey",
           "width": 5
          },
          "size": [
           0,
           5
          ]
         },
         "name": "Vector10",
         "type": "scatter3d",
         "x": [
          0,
          -5.314613277182722
         ],
         "y": [
          0,
          8.181818181818182
         ],
         "z": [
          0,
          2.193795102935222
         ]
        },
        {
         "marker": {
          "color": [
           "blue"
          ],
          "line": {
           "color": "DarkSlateGrey",
           "width": 5
          },
          "size": [
           0,
           5
          ]
         },
         "name": "Vector11",
         "type": "scatter3d",
         "x": [
          0,
          2.554452834241677
         ],
         "y": [
          0,
          7.97979797979798
         ],
         "z": [
          0,
          -5.458717332784941
         ]
        },
        {
         "marker": {
          "color": [
           "blue"
          ],
          "line": {
           "color": "DarkSlateGrey",
           "width": 5
          },
          "size": [
           0,
           5
          ]
         },
         "name": "Vector12",
         "type": "scatter3d",
         "x": [
          0,
          1.8811168893216454
         ],
         "y": [
          0,
          7.777777777777778
         ],
         "z": [
          0,
          5.997297065196539
         ]
        },
        {
         "marker": {
          "color": [
           "blue"
          ],
          "line": {
           "color": "DarkSlateGrey",
           "width": 5
          },
          "size": [
           0,
           5
          ]
         },
         "name": "Vector13",
         "type": "scatter3d",
         "x": [
          0,
          -5.647642372728926
         ],
         "y": [
          0,
          7.575757575757576
         ],
         "z": [
          0,
          -3.2729241945252103
         ]
        },
        {
         "marker": {
          "color": [
           "blue"
          ],
          "line": {
           "color": "DarkSlateGrey",
           "width": 5
          },
          "size": [
           0,
           5
          ]
         },
         "name": "Vector14",
         "type": "scatter3d",
         "x": [
          0,
          6.597298249772894
         ],
         "y": [
          0,
          7.373737373737374
         ],
         "z": [
          0,
          -1.450397513336312
         ]
        },
        {
         "marker": {
          "color": [
           "blue"
          ],
          "line": {
           "color": "DarkSlateGrey",
           "width": 5
          },
          "size": [
           0,
           5
          ]
         },
         "name": "Vector15",
         "type": "scatter3d",
         "x": [
          0,
          -4.008056847193861
         ],
         "y": [
          0,
          7.171717171717171
         ],
         "z": [
          0,
          5.7010484227516836
         ]
        },
        {
         "marker": {
          "color": [
           "blue"
          ],
          "line": {
           "color": "DarkSlateGrey",
           "width": 5
          },
          "size": [
           0,
           5
          ]
         },
         "name": "Vector16",
         "type": "scatter3d",
         "x": [
          0,
          -0.9215509016145574
         ],
         "y": [
          0,
          6.969696969696971
         ],
         "z": [
          0,
          -7.111544704656666
         ]
        },
        {
         "marker": {
          "color": [
           "blue"
          ],
          "line": {
           "color": "DarkSlateGrey",
           "width": 5
          },
          "size": [
           0,
           5
          ]
         },
         "name": "Vector17",
         "type": "scatter3d",
         "x": [
          0,
          5.629320310676115
         ],
         "y": [
          0,
          6.767676767676766
         ],
         "z": [
          0,
          4.744397117448908
         ]
        },
        {
         "marker": {
          "color": [
           "blue"
          ],
          "line": {
           "color": "DarkSlateGrey",
           "width": 5
          },
          "size": [
           0,
           5
          ]
         },
         "name": "Vector18",
         "type": "scatter3d",
         "x": [
          0,
          -7.53624771987667
         ],
         "y": [
          0,
          6.565656565656566
         ],
         "z": [
          0,
          0.31164750360707605
         ]
        },
        {
         "marker": {
          "color": [
           "blue"
          ],
          "line": {
           "color": "DarkSlateGrey",
           "width": 5
          },
          "size": [
           0,
           5
          ]
         },
         "name": "Vector19",
         "type": "scatter3d",
         "x": [
          0,
          5.467833660637458
         ],
         "y": [
          0,
          6.363636363636363
         ],
         "z": [
          0,
          -5.441224796955639
         ]
        },
        {
         "marker": {
          "color": [
           "blue"
          ],
          "line": {
           "color": "DarkSlateGrey",
           "width": 5
          },
          "size": [
           0,
           5
          ]
         },
         "name": "Vector20",
         "type": "scatter3d",
         "x": [
          0,
          -0.3638129487435007
         ],
         "y": [
          0,
          6.161616161616161
         ],
         "z": [
          0,
          7.867790440475463
         ]
        },
        {
         "marker": {
          "color": [
           "blue"
          ],
          "line": {
           "color": "DarkSlateGrey",
           "width": 5
          },
          "size": [
           0,
           5
          ]
         },
         "name": "Vector21",
         "type": "scatter3d",
         "x": [
          0,
          -5.144986829326802
         ],
         "y": [
          0,
          5.95959595959596
         ],
         "z": [
          0,
          -6.165413735056331
         ]
        },
        {
         "marker": {
          "color": [
           "blue"
          ],
          "line": {
           "color": "DarkSlateGrey",
           "width": 5
          },
          "size": [
           0,
           5
          ]
         },
         "name": "Vector22",
         "type": "scatter3d",
         "x": [
          0,
          8.10318627523005
         ],
         "y": [
          0,
          5.757575757575757
         ],
         "z": [
          0,
          1.090272252558633
         ]
        },
        {
         "marker": {
          "color": [
           "blue"
          ],
          "line": {
           "color": "DarkSlateGrey",
           "width": 5
          },
          "size": [
           0,
           5
          ]
         },
         "name": "Vector23",
         "type": "scatter3d",
         "x": [
          0,
          -6.825268133340844
         ],
         "y": [
          0,
          5.555555555555555
         ],
         "z": [
          0,
          4.748843793718403
         ]
        },
        {
         "marker": {
          "color": [
           "blue"
          ],
          "line": {
           "color": "DarkSlateGrey",
           "width": 5
          },
          "size": [
           0,
           5
          ]
         },
         "name": "Vector24",
         "type": "scatter3d",
         "x": [
          0,
          1.8538012732823734
         ],
         "y": [
          0,
          5.353535353535354
         ],
         "z": [
          0,
          -8.24033252105907
         ]
        },
        {
         "marker": {
          "color": [
           "blue"
          ],
          "line": {
           "color": "DarkSlateGrey",
           "width": 5
          },
          "size": [
           0,
           5
          ]
         },
         "name": "Vector25",
         "type": "scatter3d",
         "x": [
          0,
          4.261332947445106
         ],
         "y": [
          0,
          5.151515151515151
         ],
         "z": [
          0,
          7.436594190536998
         ]
        },
        {
         "marker": {
          "color": [
           "blue"
          ],
          "line": {
           "color": "DarkSlateGrey",
           "width": 5
          },
          "size": [
           0,
           5
          ]
         },
         "name": "Vector26",
         "type": "scatter3d",
         "x": [
          0,
          -8.278154695967782
         ],
         "y": [
          0,
          4.949494949494949
         ],
         "z": [
          0,
          -2.6409571322818834
         ]
        },
        {
         "marker": {
          "color": [
           "blue"
          ],
          "line": {
           "color": "DarkSlateGrey",
           "width": 5
          },
          "size": [
           0,
           5
          ]
         },
         "name": "Vector27",
         "type": "scatter3d",
         "x": [
          0,
          7.989669998181965
         ],
         "y": [
          0,
          4.747474747474747
         ],
         "z": [
          0,
          -3.6914301892681896
         ]
        },
        {
         "marker": {
          "color": [
           "blue"
          ],
          "line": {
           "color": "DarkSlateGrey",
           "width": 5
          },
          "size": [
           0,
           5
          ]
         },
         "name": "Vector28",
         "type": "scatter3d",
         "x": [
          0,
          -3.4387369489002784
         ],
         "y": [
          0,
          4.545454545454546
         ],
         "z": [
          0,
          8.216686142933453
         ]
        },
        {
         "marker": {
          "color": [
           "blue"
          ],
          "line": {
           "color": "DarkSlateGrey",
           "width": 5
          },
          "size": [
           0,
           5
          ]
         },
         "name": "Vector29",
         "type": "scatter3d",
         "x": [
          0,
          -3.0485999243134883
         ],
         "y": [
          0,
          4.343434343434343
         ],
         "z": [
          0,
          -8.475884414369443
         ]
        },
        {
         "marker": {
          "color": [
           "blue"
          ],
          "line": {
           "color": "DarkSlateGrey",
           "width": 5
          },
          "size": [
           0,
           5
          ]
         },
         "name": "Vector30",
         "type": "scatter3d",
         "x": [
          0,
          8.057105364694971
         ],
         "y": [
          0,
          4.141414141414142
         ],
         "z": [
          0,
          4.234588770057667
         ]
        },
        {
         "marker": {
          "color": [
           "blue"
          ],
          "line": {
           "color": "DarkSlateGrey",
           "width": 5
          },
          "size": [
           0,
           5
          ]
         },
         "name": "Vector31",
         "type": "scatter3d",
         "x": [
          0,
          -8.887773463851525
         ],
         "y": [
          0,
          3.9393939393939394
         ],
         "z": [
          0,
          2.3427885618473887
         ]
        },
        {
         "marker": {
          "color": [
           "blue"
          ],
          "line": {
           "color": "DarkSlateGrey",
           "width": 5
          },
          "size": [
           0,
           5
          ]
         },
         "name": "Vector32",
         "type": "scatter3d",
         "x": [
          0,
          5.016456981916779
         ],
         "y": [
          0,
          3.737373737373737
         ],
         "z": [
          0,
          -7.801743195963802
         ]
        },
        {
         "marker": {
          "color": [
           "blue"
          ],
          "line": {
           "color": "DarkSlateGrey",
           "width": 5
          },
          "size": [
           0,
           5
          ]
         },
         "name": "Vector33",
         "type": "scatter3d",
         "x": [
          0,
          1.584380564140349
         ],
         "y": [
          0,
          3.5353535353535346
         ],
         "z": [
          0,
          9.219057088880488
         ]
        },
        {
         "marker": {
          "color": [
           "blue"
          ],
          "line": {
           "color": "DarkSlateGrey",
           "width": 5
          },
          "size": [
           0,
           5
          ]
         },
         "name": "Vector34",
         "type": "scatter3d",
         "x": [
          0,
          -7.454066778203466
         ],
         "y": [
          0,
          3.333333333333334
         ],
         "z": [
          0,
          -5.772848287888075
         ]
        },
        {
         "marker": {
          "color": [
           "blue"
          ],
          "line": {
           "color": "DarkSlateGrey",
           "width": 5
          },
          "size": [
           0,
           5
          ]
         },
         "name": "Vector35",
         "type": "scatter3d",
         "x": [
          0,
          9.464672217388467
         ],
         "y": [
          0,
          3.1313131313131315
         ],
         "z": [
          0,
          -0.7841287464828883
         ]
        },
        {
         "marker": {
          "color": [
           "blue"
          ],
          "line": {
           "color": "DarkSlateGrey",
           "width": 5
          },
          "size": [
           0,
           5
          ]
         },
         "name": "Vector36",
         "type": "scatter3d",
         "x": [
          0,
          -6.492909240678544
         ],
         "y": [
          0,
          2.929292929292929
         ],
         "z": [
          0,
          7.018644636018099
         ]
        },
        {
         "marker": {
          "color": [
           "blue"
          ],
          "line": {
           "color": "DarkSlateGrey",
           "width": 5
          },
          "size": [
           0,
           5
          ]
         },
         "name": "Vector37",
         "type": "scatter3d",
         "x": [
          0,
          0.04693348436698646
         ],
         "y": [
          0,
          2.727272727272727
         ],
         "z": [
          0,
          -9.62079938046312
         ]
        },
        {
         "marker": {
          "color": [
           "blue"
          ],
          "line": {
           "color": "DarkSlateGrey",
           "width": 5
          },
          "size": [
           0,
           5
          ]
         },
         "name": "Vector38",
         "type": "scatter3d",
         "x": [
          0,
          6.501095730811276
         ],
         "y": [
          0,
          2.525252525252525
         ],
         "z": [
          0,
          7.166509190849695
         ]
        },
        {
         "marker": {
          "color": [
           "blue"
          ],
          "line": {
           "color": "DarkSlateGrey",
           "width": 5
          },
          "size": [
           0,
           5
          ]
         },
         "name": "Vector39",
         "type": "scatter3d",
         "x": [
          0,
          -9.684880955101908
         ],
         "y": [
          0,
          2.3232323232323235
         ],
         "z": [
          0,
          -0.8975925900946813
         ]
        },
        {
         "marker": {
          "color": [
           "blue"
          ],
          "line": {
           "color": "DarkSlateGrey",
           "width": 5
          },
          "size": [
           0,
           5
          ]
         },
         "name": "Vector40",
         "type": "scatter3d",
         "x": [
          0,
          7.784324280224146
         ],
         "y": [
          0,
          2.1212121212121215
         ],
         "z": [
          0,
          -5.908024596862779
         ]
        },
        {
         "marker": {
          "color": [
           "blue"
          ],
          "line": {
           "color": "DarkSlateGrey",
           "width": 5
          },
          "size": [
           0,
           5
          ]
         },
         "name": "Vector41",
         "type": "scatter3d",
         "x": [
          0,
          -1.7565640922420143
         ],
         "y": [
          0,
          1.9191919191919193
         ],
         "z": [
          0,
          9.65562970329509
         ]
        },
        {
         "marker": {
          "color": [
           "blue"
          ],
          "line": {
           "color": "DarkSlateGrey",
           "width": 5
          },
          "size": [
           0,
           5
          ]
         },
         "name": "Vector42",
         "type": "scatter3d",
         "x": [
          0,
          -5.24694425012087
         ],
         "y": [
          0,
          1.7171717171717171
         ],
         "z": [
          0,
          -8.337919244623869
         ]
        },
        {
         "marker": {
          "color": [
           "blue"
          ],
          "line": {
           "color": "DarkSlateGrey",
           "width": 5
          },
          "size": [
           0,
           5
          ]
         },
         "name": "Vector43",
         "type": "scatter3d",
         "x": [
          0,
          9.53302672153812
         ],
         "y": [
          0,
          1.515151515151515
         ],
         "z": [
          0,
          2.6126073973282393
         ]
        },
        {
         "marker": {
          "color": [
           "blue"
          ],
          "line": {
           "color": "DarkSlateGrey",
           "width": 5
          },
          "size": [
           0,
           5
          ]
         },
         "name": "Vector44",
         "type": "scatter3d",
         "x": [
          0,
          -8.819824557590271
         ],
         "y": [
          0,
          1.3131313131313127
         ],
         "z": [
          0,
          4.526188344269561
         ]
        },
        {
         "marker": {
          "color": [
           "blue"
          ],
          "line": {
           "color": "DarkSlateGrey",
           "width": 5
          },
          "size": [
           0,
           5
          ]
         },
         "name": "Vector45",
         "type": "scatter3d",
         "x": [
          0,
          3.454643719150054
         ],
         "y": [
          0,
          1.1111111111111116
         ],
         "z": [
          0,
          -9.31830826236729
         ]
        },
        {
         "marker": {
          "color": [
           "blue"
          ],
          "line": {
           "color": "DarkSlateGrey",
           "width": 5
          },
          "size": [
           0,
           5
          ]
         },
         "name": "Vector46",
         "type": "scatter3d",
         "x": [
          0,
          3.754813946348314
         ],
         "y": [
          0,
          0.9090909090909094
         ],
         "z": [
          0,
          9.223606992240967
         ]
        },
        {
         "marker": {
          "color": [
           "blue"
          ],
          "line": {
           "color": "DarkSlateGrey",
           "width": 5
          },
          "size": [
           0,
           5
          ]
         },
         "name": "Vector47",
         "type": "scatter3d",
         "x": [
          0,
          -9.013941175375193
         ],
         "y": [
          0,
          0.7070707070707072
         ],
         "z": [
          0,
          -4.271874939892109
         ]
        },
        {
         "marker": {
          "color": [
           "blue"
          ],
          "line": {
           "color": "DarkSlateGrey",
           "width": 5
          },
          "size": [
           0,
           5
          ]
         },
         "name": "Vector48",
         "type": "scatter3d",
         "x": [
          0,
          9.543932088315646
         ],
         "y": [
          0,
          0.505050505050505
         ],
         "z": [
          0,
          -2.9424962669419314
         ]
        },
        {
         "marker": {
          "color": [
           "blue"
          ],
          "line": {
           "color": "DarkSlateGrey",
           "width": 5
          },
          "size": [
           0,
           5
          ]
         },
         "name": "Vector49",
         "type": "scatter3d",
         "x": [
          0,
          -5.053901519770722
         ],
         "y": [
          0,
          0.30303030303030276
         ],
         "z": [
          0,
          8.623586960418764
         ]
        },
        {
         "marker": {
          "color": [
           "blue"
          ],
          "line": {
           "color": "DarkSlateGrey",
           "width": 5
          },
          "size": [
           0,
           5
          ]
         },
         "name": "Vector50",
         "type": "scatter3d",
         "x": [
          0,
          -2.0994166796485794
         ],
         "y": [
          0,
          0.10101010101010055
         ],
         "z": [
          0,
          -9.776617337541
         ]
        },
        {
         "marker": {
          "color": [
           "blue"
          ],
          "line": {
           "color": "DarkSlateGrey",
           "width": 5
          },
          "size": [
           0,
           5
          ]
         },
         "name": "Vector51",
         "type": "scatter3d",
         "x": [
          0,
          8.152054643909256
         ],
         "y": [
          0,
          -0.10101010101010166
         ],
         "z": [
          0,
          5.790837766870305
         ]
        },
        {
         "marker": {
          "color": [
           "blue"
          ],
          "line": {
           "color": "DarkSlateGrey",
           "width": 5
          },
          "size": [
           0,
           5
          ]
         },
         "name": "Vector52",
         "type": "scatter3d",
         "x": [
          0,
          -9.918675174806253
         ],
         "y": [
          0,
          -0.30303030303030276
         ],
         "z": [
          0,
          1.2361453847050048
         ]
        },
        {
         "marker": {
          "color": [
           "blue"
          ],
          "line": {
           "color": "DarkSlateGrey",
           "width": 5
          },
          "size": [
           0,
           5
          ]
         },
         "name": "Vector53",
         "type": "scatter3d",
         "x": [
          0,
          6.473422941630272
         ],
         "y": [
          0,
          -0.5050505050505061
         ],
         "z": [
          0,
          -7.605242889357521
         ]
        },
        {
         "marker": {
          "color": [
           "blue"
          ],
          "line": {
           "color": "DarkSlateGrey",
           "width": 5
          },
          "size": [
           0,
           5
          ]
         },
         "name": "Vector54",
         "type": "scatter3d",
         "x": [
          0,
          0.36352010274409163
         ],
         "y": [
          0,
          -0.7070707070707072
         ],
         "z": [
          0,
          9.968345105889114
         ]
        },
        {
         "marker": {
          "color": [
           "blue"
          ],
          "line": {
           "color": "DarkSlateGrey",
           "width": 5
          },
          "size": [
           0,
           5
          ]
         },
         "name": "Vector55",
         "type": "scatter3d",
         "x": [
          0,
          -6.990071942575041
         ],
         "y": [
          0,
          -0.9090909090909083
         ],
         "z": [
          0,
          -7.093126810979307
         ]
        },
        {
         "marker": {
          "color": [
           "blue"
          ],
          "line": {
           "color": "DarkSlateGrey",
           "width": 5
          },
          "size": [
           0,
           5
          ]
         },
         "name": "Vector56",
         "type": "scatter3d",
         "x": [
          0,
          9.925114528466924
         ],
         "y": [
          0,
          -1.1111111111111116
         ],
         "z": [
          0,
          0.5074777784102473
         ]
        },
        {
         "marker": {
          "color": [
           "blue"
          ],
          "line": {
           "color": "DarkSlateGrey",
           "width": 5
          },
          "size": [
           0,
           5
          ]
         },
         "name": "Vector57",
         "type": "scatter3d",
         "x": [
          0,
          -7.6422483960345975
         ],
         "y": [
          0,
          -1.3131313131313127
         ],
         "z": [
          0,
          6.314406195976046
         ]
        },
        {
         "marker": {
          "color": [
           "blue"
          ],
          "line": {
           "color": "DarkSlateGrey",
           "width": 5
          },
          "size": [
           0,
           5
          ]
         },
         "name": "Vector58",
         "type": "scatter3d",
         "x": [
          0,
          1.3658481401054057
         ],
         "y": [
          0,
          -1.515151515151516
         ],
         "z": [
          0,
          -9.789728021978172
         ]
        },
        {
         "marker": {
          "color": [
           "blue"
          ],
          "line": {
           "color": "DarkSlateGrey",
           "width": 5
          },
          "size": [
           0,
           5
          ]
         },
         "name": "Vector59",
         "type": "scatter3d",
         "x": [
          0,
          5.586968341301761
         ],
         "y": [
          0,
          -1.7171717171717171
         ],
         "z": [
          0,
          8.114006781303388
         ]
        },
        {
         "marker": {
          "color": [
           "blue"
          ],
          "line": {
           "color": "DarkSlateGrey",
           "width": 5
          },
          "size": [
           0,
           5
          ]
         },
         "name": "Vector60",
         "type": "scatter3d",
         "x": [
          0,
          -9.564185101904323
         ],
         "y": [
          0,
          -1.9191919191919182
         ],
         "z": [
          0,
          -2.200696642842859
         ]
        },
        {
         "marker": {
          "color": [
           "blue"
          ],
          "line": {
           "color": "DarkSlateGrey",
           "width": 5
          },
          "size": [
           0,
           5
          ]
         },
         "name": "Vector61",
         "type": "scatter3d",
         "x": [
          0,
          8.502622976531624
         ],
         "y": [
          0,
          -2.1212121212121215
         ],
         "z": [
          0,
          -4.81724627310866
         ]
        },
        {
         "marker": {
          "color": [
           "blue"
          ],
          "line": {
           "color": "DarkSlateGrey",
           "width": 5
          },
          "size": [
           0,
           5
          ]
         },
         "name": "Vector62",
         "type": "scatter3d",
         "x": [
          0,
          -3.001357245994345
         ],
         "y": [
          0,
          -2.3232323232323226
         ],
         "z": [
          0,
          9.25172666339672
         ]
        },
        {
         "marker": {
          "color": [
           "blue"
          ],
          "line": {
           "color": "DarkSlateGrey",
           "width": 5
          },
          "size": [
           0,
           5
          ]
         },
         "name": "Vector63",
         "type": "scatter3d",
         "x": [
          0,
          -4.015394116545673
         ],
         "y": [
          0,
          -2.525252525252526
         ],
         "z": [
          0,
          -8.803391947000664
         ]
        },
        {
         "marker": {
          "color": [
           "blue"
          ],
          "line": {
           "color": "DarkSlateGrey",
           "width": 5
          },
          "size": [
           0,
           5
          ]
         },
         "name": "Vector64",
         "type": "scatter3d",
         "x": [
          0,
          8.856810587479377
         ],
         "y": [
          0,
          -2.727272727272727
         ],
         "z": [
          0,
          3.7575111029227326
         ]
        },
        {
         "marker": {
          "color": [
           "blue"
          ],
          "line": {
           "color": "DarkSlateGrey",
           "width": 5
          },
          "size": [
           0,
           5
          ]
         },
         "name": "Vector65",
         "type": "scatter3d",
         "x": [
          0,
          -9.01274405499193
         ],
         "y": [
          0,
          -2.9292929292929304
         ],
         "z": [
          0,
          3.1921289970178273
         ]
        },
        {
         "marker": {
          "color": [
           "blue"
          ],
          "line": {
           "color": "DarkSlateGrey",
           "width": 5
          },
          "size": [
           0,
           5
          ]
         },
         "name": "Vector66",
         "type": "scatter3d",
         "x": [
          0,
          4.459300097862065
         ],
         "y": [
          0,
          -3.1313131313131315
         ],
         "z": [
          0,
          -8.385077263261998
         ]
        },
        {
         "marker": {
          "color": [
           "blue"
          ],
          "line": {
           "color": "DarkSlateGrey",
           "width": 5
          },
          "size": [
           0,
           5
          ]
         },
         "name": "Vector67",
         "type": "scatter3d",
         "x": [
          0,
          2.3586254690164377
         ],
         "y": [
          0,
          -3.3333333333333326
         ],
         "z": [
          0,
          9.128295283665832
         ]
        },
        {
         "marker": {
          "color": [
           "blue"
          ],
          "line": {
           "color": "DarkSlateGrey",
           "width": 5
          },
          "size": [
           0,
           5
          ]
         },
         "name": "Vector68",
         "type": "scatter3d",
         "x": [
          0,
          -7.843306110813986
         ],
         "y": [
          0,
          -3.535353535353536
         ],
         "z": [
          0,
          -5.097433141506738
         ]
        },
        {
         "marker": {
          "color": [
           "blue"
          ],
          "line": {
           "color": "DarkSlateGrey",
           "width": 5
          },
          "size": [
           0,
           5
          ]
         },
         "name": "Vector69",
         "type": "scatter3d",
         "x": [
          0,
          9.148885742302104
         ],
         "y": [
          0,
          -3.737373737373737
         ],
         "z": [
          0,
          -1.5264099126677408
         ]
        },
        {
         "marker": {
          "color": [
           "blue"
          ],
          "line": {
           "color": "DarkSlateGrey",
           "width": 5
          },
          "size": [
           0,
           5
          ]
         },
         "name": "Vector70",
         "type": "scatter3d",
         "x": [
          0,
          -5.663283107791219
         ],
         "y": [
          0,
          -3.9393939393939403
         ],
         "z": [
          0,
          7.23936460134955
         ]
        },
        {
         "marker": {
          "color": [
           "blue"
          ],
          "line": {
           "color": "DarkSlateGrey",
           "width": 5
          },
          "size": [
           0,
           5
          ]
         },
         "name": "Vector71",
         "type": "scatter3d",
         "x": [
          0,
          -0.7072577480976395
         ],
         "y": [
          0,
          -4.141414141414142
         ],
         "z": [
          0,
          -9.074606073381412
         ]
        },
        {
         "marker": {
          "color": [
           "blue"
          ],
          "line": {
           "color": "DarkSlateGrey",
           "width": 5
          },
          "size": [
           0,
           5
          ]
         },
         "name": "Vector72",
         "type": "scatter3d",
         "x": [
          0,
          6.582151812328982
         ],
         "y": [
          0,
          -4.3434343434343425
         ],
         "z": [
          0,
          6.148971915997778
         ]
        },
        {
         "marker": {
          "color": [
           "blue"
          ],
          "line": {
           "color": "DarkSlateGrey",
           "width": 5
          },
          "size": [
           0,
           5
          ]
         },
         "name": "Vector73",
         "type": "scatter3d",
         "x": [
          0,
          -8.906811486863097
         ],
         "y": [
          0,
          -4.545454545454546
         ],
         "z": [
          0,
          -0.08690289230056056
         ]
        },
        {
         "marker": {
          "color": [
           "blue"
          ],
          "line": {
           "color": "DarkSlateGrey",
           "width": 5
          },
          "size": [
           0,
           5
          ]
         },
         "name": "Vector74",
         "type": "scatter3d",
         "x": [
          0,
          6.547440638983667
         ],
         "y": [
          0,
          -4.747474747474747
         ],
         "z": [
          0,
          -5.881539305409319
         ]
        },
        {
         "marker": {
          "color": [
           "blue"
          ],
          "line": {
           "color": "DarkSlateGrey",
           "width": 5
          },
          "size": [
           0,
           5
          ]
         },
         "name": "Vector75",
         "type": "scatter3d",
         "x": [
          0,
          -0.844076185990376
         ],
         "y": [
          0,
          -4.94949494949495
         ],
         "z": [
          0,
          8.648123214730925
         ]
        },
        {
         "marker": {
          "color": [
           "blue"
          ],
          "line": {
           "color": "DarkSlateGrey",
           "width": 5
          },
          "size": [
           0,
           5
          ]
         },
         "name": "Vector76",
         "type": "scatter3d",
         "x": [
          0,
          -5.148313213466435
         ],
         "y": [
          0,
          -5.151515151515151
         ],
         "z": [
          0,
          -6.852500470613391
         ]
        },
        {
         "marker": {
          "color": [
           "blue"
          ],
          "line": {
           "color": "DarkSlateGrey",
           "width": 5
          },
          "size": [
           0,
           5
          ]
         },
         "name": "Vector77",
         "type": "scatter3d",
         "x": [
          0,
          8.30241716863267
         ],
         "y": [
          0,
          -5.353535353535353
         ],
         "z": [
          0,
          1.5522655624733093
         ]
        },
        {
         "marker": {
          "color": [
           "blue"
          ],
          "line": {
           "color": "DarkSlateGrey",
           "width": 5
          },
          "size": [
           0,
           5
          ]
         },
         "name": "Vector78",
         "type": "scatter3d",
         "x": [
          0,
          -7.058858583876281
         ],
         "y": [
          0,
          -5.555555555555555
         ],
         "z": [
          0,
          4.3941231163876076
         ]
        },
        {
         "marker": {
          "color": [
           "blue"
          ],
          "line": {
           "color": "DarkSlateGrey",
           "width": 5
          },
          "size": [
           0,
           5
          ]
         },
         "name": "Vector79",
         "type": "scatter3d",
         "x": [
          0,
          2.1995125879639565
         ],
         "y": [
          0,
          -5.757575757575757
         ],
         "z": [
          0,
          -7.874799411487511
         ]
        },
        {
         "marker": {
          "color": [
           "blue"
          ],
          "line": {
           "color": "DarkSlateGrey",
           "width": 5
          },
          "size": [
           0,
           5
          ]
         },
         "name": "Vector80",
         "type": "scatter3d",
         "x": [
          0,
          3.63144603299816
         ],
         "y": [
          0,
          -5.95959595959596
         ],
         "z": [
          0,
          7.162109724640459
         ]
        },
        {
         "marker": {
          "color": [
           "blue"
          ],
          "line": {
           "color": "DarkSlateGrey",
           "width": 5
          },
          "size": [
           0,
           5
          ]
         },
         "name": "Vector81",
         "type": "scatter3d",
         "x": [
          0,
          -7.37156754174631
         ],
         "y": [
          0,
          -6.161616161616161
         ],
         "z": [
          0,
          -2.773892257169119
         ]
        },
        {
         "marker": {
          "color": [
           "blue"
          ],
          "line": {
           "color": "DarkSlateGrey",
           "width": 5
          },
          "size": [
           0,
           5
          ]
         },
         "name": "Vector82",
         "type": "scatter3d",
         "x": [
          0,
          7.158678547352051
         ],
         "y": [
          0,
          -6.363636363636365
         ],
         "z": [
          0,
          -2.873578550707542
         ]
        },
        {
         "marker": {
          "color": [
           "blue"
          ],
          "line": {
           "color": "DarkSlateGrey",
           "width": 5
          },
          "size": [
           0,
           5
          ]
         },
         "name": "Vector83",
         "type": "scatter3d",
         "x": [
          0,
          -3.263439050896584
         ],
         "y": [
          0,
          -6.565656565656566
         ],
         "z": [
          0,
          6.80015583813592
         ]
        },
        {
         "marker": {
          "color": [
           "blue"
          ],
          "line": {
           "color": "DarkSlateGrey",
           "width": 5
          },
          "size": [
           0,
           5
          ]
         },
         "name": "Vector84",
         "type": "scatter3d",
         "x": [
          0,
          -2.134678587671022
         ],
         "y": [
          0,
          -6.767676767676766
         ],
         "z": [
          0,
          -7.045686516982358
         ]
        },
        {
         "marker": {
          "color": [
           "blue"
          ],
          "line": {
           "color": "DarkSlateGrey",
           "width": 5
          },
          "size": [
           0,
           5
          ]
         },
         "name": "Vector85",
         "type": "scatter3d",
         "x": [
          0,
          6.169059083366061
         ],
         "y": [
          0,
          -6.969696969696971
         ],
         "z": [
          0,
          3.6559587219408756
         ]
        },
        {
         "marker": {
          "color": [
           "blue"
          ],
          "line": {
           "color": "DarkSlateGrey",
           "width": 5
          },
          "size": [
           0,
           5
          ]
         },
         "name": "Vector86",
         "type": "scatter3d",
         "x": [
          0,
          -6.820694567402481
         ],
         "y": [
          0,
          -7.171717171717171
         ],
         "z": [
          0,
          1.4298945510433072
         ]
        },
        {
         "marker": {
          "color": [
           "blue"
          ],
          "line": {
           "color": "DarkSlateGrey",
           "width": 5
          },
          "size": [
           0,
           5
          ]
         },
         "name": "Vector87",
         "type": "scatter3d",
         "x": [
          0,
          3.9386410565593444
         ],
         "y": [
          0,
          -7.373737373737375
         ],
         "z": [
          0,
          -5.487723004191606
         ]
        },
        {
         "marker": {
          "color": [
           "blue"
          ],
          "line": {
           "color": "DarkSlateGrey",
           "width": 5
          },
          "size": [
           0,
           5
          ]
         },
         "name": "Vector88",
         "type": "scatter3d",
         "x": [
          0,
          0.7756532525223453
         ],
         "y": [
          0,
          -7.575757575757576
         ],
         "z": [
          0,
          6.481223587039966
         ]
        },
        {
         "marker": {
          "color": [
           "blue"
          ],
          "line": {
           "color": "DarkSlateGrey",
           "width": 5
          },
          "size": [
           0,
           5
          ]
         },
         "name": "Vector89",
         "type": "scatter3d",
         "x": [
          0,
          -4.766371704744871
         ],
         "y": [
          0,
          -7.777777777777777
         ],
         "z": [
          0,
          -4.097300771448646
         ]
        },
        {
         "marker": {
          "color": [
           "blue"
          ],
          "line": {
           "color": "DarkSlateGrey",
           "width": 5
          },
          "size": [
           0,
           5
          ]
         },
         "name": "Vector90",
         "type": "scatter3d",
         "x": [
          0,
          6.023838283936479
         ],
         "y": [
          0,
          -7.97979797979798
         ],
         "z": [
          0,
          -0.1902538582875318
         ]
        },
        {
         "marker": {
          "color": [
           "blue"
          ],
          "line": {
           "color": "DarkSlateGrey",
           "width": 5
          },
          "size": [
           0,
           5
          ]
         },
         "name": "Vector91",
         "type": "scatter3d",
         "x": [
          0,
          -4.114857305574174
         ],
         "y": [
          0,
          -8.181818181818182
         ],
         "z": [
          0,
          4.015694285479447
         ]
        },
        {
         "marker": {
          "color": [
           "blue"
          ],
          "line": {
           "color": "DarkSlateGrey",
           "width": 5
          },
          "size": [
           0,
           5
          ]
         },
         "name": "Vector92",
         "type": "scatter3d",
         "x": [
          0,
          0.3048921500037185
         ],
         "y": [
          0,
          -8.383838383838384
         ],
         "z": [
          0,
          -5.442269262958632
         ]
        },
        {
         "marker": {
          "color": [
           "blue"
          ],
          "line": {
           "color": "DarkSlateGrey",
           "width": 5
          },
          "size": [
           0,
           5
          ]
         },
         "name": "Vector93",
         "type": "scatter3d",
         "x": [
          0,
          3.246162708335984
         ],
         "y": [
          0,
          -8.585858585858585
         ],
         "z": [
          0,
          3.9680549409814376
         ]
        },
        {
         "marker": {
          "color": [
           "blue"
          ],
          "line": {
           "color": "DarkSlateGrey",
           "width": 5
          },
          "size": [
           0,
           5
          ]
         },
         "name": "Vector94",
         "type": "scatter3d",
         "x": [
          0,
          -4.723074498870043
         ],
         "y": [
          0,
          -8.787878787878789
         ],
         "z": [
          0,
          -0.6824614917147549
         ]
        },
        {
         "marker": {
          "color": [
           "blue"
          ],
          "line": {
           "color": "DarkSlateGrey",
           "width": 5
          },
          "size": [
           0,
           5
          ]
         },
         "name": "Vector95",
         "type": "scatter3d",
         "x": [
          0,
          3.619341490546967
         ],
         "y": [
          0,
          -8.98989898989899
         ],
         "z": [
          0,
          -2.466188015180185
         ]
        },
        {
         "marker": {
          "color": [
           "blue"
          ],
          "line": {
           "color": "DarkSlateGrey",
           "width": 5
          },
          "size": [
           0,
           5
          ]
         },
         "name": "Vector96",
         "type": "scatter3d",
         "x": [
          0,
          -0.901783128003129
         ],
         "y": [
          0,
          -9.19191919191919
         ],
         "z": [
          0,
          3.8334591114653276
         ]
        },
        {
         "marker": {
          "color": [
           "blue"
          ],
          "line": {
           "color": "DarkSlateGrey",
           "width": 5
          },
          "size": [
           0,
           5
          ]
         },
         "name": "Vector97",
         "type": "scatter3d",
         "x": [
          0,
          -1.6754301826617048
         ],
         "y": [
          0,
          -9.393939393939394
         ],
         "z": [
          0,
          -2.991126270490721
         ]
        },
        {
         "marker": {
          "color": [
           "blue"
          ],
          "line": {
           "color": "DarkSlateGrey",
           "width": 5
          },
          "size": [
           0,
           5
          ]
         },
         "name": "Vector98",
         "type": "scatter3d",
         "x": [
          0,
          2.6722305411035965
         ],
         "y": [
          0,
          -9.595959595959595
         ],
         "z": [
          0,
          0.8813304532944116
         ]
        },
        {
         "marker": {
          "color": [
           "blue"
          ],
          "line": {
           "color": "DarkSlateGrey",
           "width": 5
          },
          "size": [
           0,
           5
          ]
         },
         "name": "Vector99",
         "type": "scatter3d",
         "x": [
          0,
          -1.8235869564294316
         ],
         "y": [
          0,
          -9.7979797979798
         ],
         "z": [
          0,
          0.8210496274404979
         ]
        },
        {
         "marker": {
          "color": [
           "blue"
          ],
          "line": {
           "color": "DarkSlateGrey",
           "width": 5
          },
          "size": [
           0,
           5
          ]
         },
         "name": "Vector100",
         "type": "scatter3d",
         "x": [
          0,
          0
         ],
         "y": [
          0,
          -1
         ],
         "z": [
          0,
          0
         ]
        }
       ],
       "layout": {
        "margin": {
         "b": 4,
         "l": 4,
         "r": 4,
         "t": 4
        },
        "template": {
         "data": {
          "bar": [
           {
            "error_x": {
             "color": "#2a3f5f"
            },
            "error_y": {
             "color": "#2a3f5f"
            },
            "marker": {
             "line": {
              "color": "#E5ECF6",
              "width": 0.5
             },
             "pattern": {
              "fillmode": "overlay",
              "size": 10,
              "solidity": 0.2
             }
            },
            "type": "bar"
           }
          ],
          "barpolar": [
           {
            "marker": {
             "line": {
              "color": "#E5ECF6",
              "width": 0.5
             },
             "pattern": {
              "fillmode": "overlay",
              "size": 10,
              "solidity": 0.2
             }
            },
            "type": "barpolar"
           }
          ],
          "carpet": [
           {
            "aaxis": {
             "endlinecolor": "#2a3f5f",
             "gridcolor": "white",
             "linecolor": "white",
             "minorgridcolor": "white",
             "startlinecolor": "#2a3f5f"
            },
            "baxis": {
             "endlinecolor": "#2a3f5f",
             "gridcolor": "white",
             "linecolor": "white",
             "minorgridcolor": "white",
             "startlinecolor": "#2a3f5f"
            },
            "type": "carpet"
           }
          ],
          "choropleth": [
           {
            "colorbar": {
             "outlinewidth": 0,
             "ticks": ""
            },
            "type": "choropleth"
           }
          ],
          "contour": [
           {
            "colorbar": {
             "outlinewidth": 0,
             "ticks": ""
            },
            "colorscale": [
             [
              0,
              "#0d0887"
             ],
             [
              0.1111111111111111,
              "#46039f"
             ],
             [
              0.2222222222222222,
              "#7201a8"
             ],
             [
              0.3333333333333333,
              "#9c179e"
             ],
             [
              0.4444444444444444,
              "#bd3786"
             ],
             [
              0.5555555555555556,
              "#d8576b"
             ],
             [
              0.6666666666666666,
              "#ed7953"
             ],
             [
              0.7777777777777778,
              "#fb9f3a"
             ],
             [
              0.8888888888888888,
              "#fdca26"
             ],
             [
              1,
              "#f0f921"
             ]
            ],
            "type": "contour"
           }
          ],
          "contourcarpet": [
           {
            "colorbar": {
             "outlinewidth": 0,
             "ticks": ""
            },
            "type": "contourcarpet"
           }
          ],
          "heatmap": [
           {
            "colorbar": {
             "outlinewidth": 0,
             "ticks": ""
            },
            "colorscale": [
             [
              0,
              "#0d0887"
             ],
             [
              0.1111111111111111,
              "#46039f"
             ],
             [
              0.2222222222222222,
              "#7201a8"
             ],
             [
              0.3333333333333333,
              "#9c179e"
             ],
             [
              0.4444444444444444,
              "#bd3786"
             ],
             [
              0.5555555555555556,
              "#d8576b"
             ],
             [
              0.6666666666666666,
              "#ed7953"
             ],
             [
              0.7777777777777778,
              "#fb9f3a"
             ],
             [
              0.8888888888888888,
              "#fdca26"
             ],
             [
              1,
              "#f0f921"
             ]
            ],
            "type": "heatmap"
           }
          ],
          "heatmapgl": [
           {
            "colorbar": {
             "outlinewidth": 0,
             "ticks": ""
            },
            "colorscale": [
             [
              0,
              "#0d0887"
             ],
             [
              0.1111111111111111,
              "#46039f"
             ],
             [
              0.2222222222222222,
              "#7201a8"
             ],
             [
              0.3333333333333333,
              "#9c179e"
             ],
             [
              0.4444444444444444,
              "#bd3786"
             ],
             [
              0.5555555555555556,
              "#d8576b"
             ],
             [
              0.6666666666666666,
              "#ed7953"
             ],
             [
              0.7777777777777778,
              "#fb9f3a"
             ],
             [
              0.8888888888888888,
              "#fdca26"
             ],
             [
              1,
              "#f0f921"
             ]
            ],
            "type": "heatmapgl"
           }
          ],
          "histogram": [
           {
            "marker": {
             "pattern": {
              "fillmode": "overlay",
              "size": 10,
              "solidity": 0.2
             }
            },
            "type": "histogram"
           }
          ],
          "histogram2d": [
           {
            "colorbar": {
             "outlinewidth": 0,
             "ticks": ""
            },
            "colorscale": [
             [
              0,
              "#0d0887"
             ],
             [
              0.1111111111111111,
              "#46039f"
             ],
             [
              0.2222222222222222,
              "#7201a8"
             ],
             [
              0.3333333333333333,
              "#9c179e"
             ],
             [
              0.4444444444444444,
              "#bd3786"
             ],
             [
              0.5555555555555556,
              "#d8576b"
             ],
             [
              0.6666666666666666,
              "#ed7953"
             ],
             [
              0.7777777777777778,
              "#fb9f3a"
             ],
             [
              0.8888888888888888,
              "#fdca26"
             ],
             [
              1,
              "#f0f921"
             ]
            ],
            "type": "histogram2d"
           }
          ],
          "histogram2dcontour": [
           {
            "colorbar": {
             "outlinewidth": 0,
             "ticks": ""
            },
            "colorscale": [
             [
              0,
              "#0d0887"
             ],
             [
              0.1111111111111111,
              "#46039f"
             ],
             [
              0.2222222222222222,
              "#7201a8"
             ],
             [
              0.3333333333333333,
              "#9c179e"
             ],
             [
              0.4444444444444444,
              "#bd3786"
             ],
             [
              0.5555555555555556,
              "#d8576b"
             ],
             [
              0.6666666666666666,
              "#ed7953"
             ],
             [
              0.7777777777777778,
              "#fb9f3a"
             ],
             [
              0.8888888888888888,
              "#fdca26"
             ],
             [
              1,
              "#f0f921"
             ]
            ],
            "type": "histogram2dcontour"
           }
          ],
          "mesh3d": [
           {
            "colorbar": {
             "outlinewidth": 0,
             "ticks": ""
            },
            "type": "mesh3d"
           }
          ],
          "parcoords": [
           {
            "line": {
             "colorbar": {
              "outlinewidth": 0,
              "ticks": ""
             }
            },
            "type": "parcoords"
           }
          ],
          "pie": [
           {
            "automargin": true,
            "type": "pie"
           }
          ],
          "scatter": [
           {
            "marker": {
             "colorbar": {
              "outlinewidth": 0,
              "ticks": ""
             }
            },
            "type": "scatter"
           }
          ],
          "scatter3d": [
           {
            "line": {
             "colorbar": {
              "outlinewidth": 0,
              "ticks": ""
             }
            },
            "marker": {
             "colorbar": {
              "outlinewidth": 0,
              "ticks": ""
             }
            },
            "type": "scatter3d"
           }
          ],
          "scattercarpet": [
           {
            "marker": {
             "colorbar": {
              "outlinewidth": 0,
              "ticks": ""
             }
            },
            "type": "scattercarpet"
           }
          ],
          "scattergeo": [
           {
            "marker": {
             "colorbar": {
              "outlinewidth": 0,
              "ticks": ""
             }
            },
            "type": "scattergeo"
           }
          ],
          "scattergl": [
           {
            "marker": {
             "colorbar": {
              "outlinewidth": 0,
              "ticks": ""
             }
            },
            "type": "scattergl"
           }
          ],
          "scattermapbox": [
           {
            "marker": {
             "colorbar": {
              "outlinewidth": 0,
              "ticks": ""
             }
            },
            "type": "scattermapbox"
           }
          ],
          "scatterpolar": [
           {
            "marker": {
             "colorbar": {
              "outlinewidth": 0,
              "ticks": ""
             }
            },
            "type": "scatterpolar"
           }
          ],
          "scatterpolargl": [
           {
            "marker": {
             "colorbar": {
              "outlinewidth": 0,
              "ticks": ""
             }
            },
            "type": "scatterpolargl"
           }
          ],
          "scatterternary": [
           {
            "marker": {
             "colorbar": {
              "outlinewidth": 0,
              "ticks": ""
             }
            },
            "type": "scatterternary"
           }
          ],
          "surface": [
           {
            "colorbar": {
             "outlinewidth": 0,
             "ticks": ""
            },
            "colorscale": [
             [
              0,
              "#0d0887"
             ],
             [
              0.1111111111111111,
              "#46039f"
             ],
             [
              0.2222222222222222,
              "#7201a8"
             ],
             [
              0.3333333333333333,
              "#9c179e"
             ],
             [
              0.4444444444444444,
              "#bd3786"
             ],
             [
              0.5555555555555556,
              "#d8576b"
             ],
             [
              0.6666666666666666,
              "#ed7953"
             ],
             [
              0.7777777777777778,
              "#fb9f3a"
             ],
             [
              0.8888888888888888,
              "#fdca26"
             ],
             [
              1,
              "#f0f921"
             ]
            ],
            "type": "surface"
           }
          ],
          "table": [
           {
            "cells": {
             "fill": {
              "color": "#EBF0F8"
             },
             "line": {
              "color": "white"
             }
            },
            "header": {
             "fill": {
              "color": "#C8D4E3"
             },
             "line": {
              "color": "white"
             }
            },
            "type": "table"
           }
          ]
         },
         "layout": {
          "annotationdefaults": {
           "arrowcolor": "#2a3f5f",
           "arrowhead": 0,
           "arrowwidth": 1
          },
          "autotypenumbers": "strict",
          "coloraxis": {
           "colorbar": {
            "outlinewidth": 0,
            "ticks": ""
           }
          },
          "colorscale": {
           "diverging": [
            [
             0,
             "#8e0152"
            ],
            [
             0.1,
             "#c51b7d"
            ],
            [
             0.2,
             "#de77ae"
            ],
            [
             0.3,
             "#f1b6da"
            ],
            [
             0.4,
             "#fde0ef"
            ],
            [
             0.5,
             "#f7f7f7"
            ],
            [
             0.6,
             "#e6f5d0"
            ],
            [
             0.7,
             "#b8e186"
            ],
            [
             0.8,
             "#7fbc41"
            ],
            [
             0.9,
             "#4d9221"
            ],
            [
             1,
             "#276419"
            ]
           ],
           "sequential": [
            [
             0,
             "#0d0887"
            ],
            [
             0.1111111111111111,
             "#46039f"
            ],
            [
             0.2222222222222222,
             "#7201a8"
            ],
            [
             0.3333333333333333,
             "#9c179e"
            ],
            [
             0.4444444444444444,
             "#bd3786"
            ],
            [
             0.5555555555555556,
             "#d8576b"
            ],
            [
             0.6666666666666666,
             "#ed7953"
            ],
            [
             0.7777777777777778,
             "#fb9f3a"
            ],
            [
             0.8888888888888888,
             "#fdca26"
            ],
            [
             1,
             "#f0f921"
            ]
           ],
           "sequentialminus": [
            [
             0,
             "#0d0887"
            ],
            [
             0.1111111111111111,
             "#46039f"
            ],
            [
             0.2222222222222222,
             "#7201a8"
            ],
            [
             0.3333333333333333,
             "#9c179e"
            ],
            [
             0.4444444444444444,
             "#bd3786"
            ],
            [
             0.5555555555555556,
             "#d8576b"
            ],
            [
             0.6666666666666666,
             "#ed7953"
            ],
            [
             0.7777777777777778,
             "#fb9f3a"
            ],
            [
             0.8888888888888888,
             "#fdca26"
            ],
            [
             1,
             "#f0f921"
            ]
           ]
          },
          "colorway": [
           "#636efa",
           "#EF553B",
           "#00cc96",
           "#ab63fa",
           "#FFA15A",
           "#19d3f3",
           "#FF6692",
           "#B6E880",
           "#FF97FF",
           "#FECB52"
          ],
          "font": {
           "color": "#2a3f5f"
          },
          "geo": {
           "bgcolor": "white",
           "lakecolor": "white",
           "landcolor": "#E5ECF6",
           "showlakes": true,
           "showland": true,
           "subunitcolor": "white"
          },
          "hoverlabel": {
           "align": "left"
          },
          "hovermode": "closest",
          "mapbox": {
           "style": "light"
          },
          "paper_bgcolor": "white",
          "plot_bgcolor": "#E5ECF6",
          "polar": {
           "angularaxis": {
            "gridcolor": "white",
            "linecolor": "white",
            "ticks": ""
           },
           "bgcolor": "#E5ECF6",
           "radialaxis": {
            "gridcolor": "white",
            "linecolor": "white",
            "ticks": ""
           }
          },
          "scene": {
           "xaxis": {
            "backgroundcolor": "#E5ECF6",
            "gridcolor": "white",
            "gridwidth": 2,
            "linecolor": "white",
            "showbackground": true,
            "ticks": "",
            "zerolinecolor": "white"
           },
           "yaxis": {
            "backgroundcolor": "#E5ECF6",
            "gridcolor": "white",
            "gridwidth": 2,
            "linecolor": "white",
            "showbackground": true,
            "ticks": "",
            "zerolinecolor": "white"
           },
           "zaxis": {
            "backgroundcolor": "#E5ECF6",
            "gridcolor": "white",
            "gridwidth": 2,
            "linecolor": "white",
            "showbackground": true,
            "ticks": "",
            "zerolinecolor": "white"
           }
          },
          "shapedefaults": {
           "line": {
            "color": "#2a3f5f"
           }
          },
          "ternary": {
           "aaxis": {
            "gridcolor": "white",
            "linecolor": "white",
            "ticks": ""
           },
           "baxis": {
            "gridcolor": "white",
            "linecolor": "white",
            "ticks": ""
           },
           "bgcolor": "#E5ECF6",
           "caxis": {
            "gridcolor": "white",
            "linecolor": "white",
            "ticks": ""
           }
          },
          "title": {
           "x": 0.05
          },
          "xaxis": {
           "automargin": true,
           "gridcolor": "white",
           "linecolor": "white",
           "ticks": "",
           "title": {
            "standoff": 15
           },
           "zerolinecolor": "white",
           "zerolinewidth": 2
          },
          "yaxis": {
           "automargin": true,
           "gridcolor": "white",
           "linecolor": "white",
           "ticks": "",
           "title": {
            "standoff": 15
           },
           "zerolinecolor": "white",
           "zerolinewidth": 2
          }
         }
        }
       }
      },
      "text/html": [
       "<div>                            <div id=\"fb57092c-e7e2-471a-9a2e-6fd6030d2699\" class=\"plotly-graph-div\" style=\"height:525px; width:100%;\"></div>            <script type=\"text/javascript\">                require([\"plotly\"], function(Plotly) {                    window.PLOTLYENV=window.PLOTLYENV || {};                                    if (document.getElementById(\"fb57092c-e7e2-471a-9a2e-6fd6030d2699\")) {                    Plotly.newPlot(                        \"fb57092c-e7e2-471a-9a2e-6fd6030d2699\",                        [{\"marker\":{\"color\":[\"blue\"],\"line\":{\"color\":\"DarkSlateGrey\",\"width\":5},\"size\":[0,5]},\"name\":\"Vector1\",\"type\":\"scatter3d\",\"x\":[0,0.0],\"y\":[0,10.0],\"z\":[0,0.0]},{\"marker\":{\"color\":[\"blue\"],\"line\":{\"color\":\"DarkSlateGrey\",\"width\":5},\"size\":[0,5]},\"name\":\"Vector2\",\"type\":\"scatter3d\",\"x\":[0,-1.4746625201921926],\"y\":[0,9.797979797979798],\"z\":[0,1.3509116662166227]},{\"marker\":{\"color\":[\"blue\"],\"line\":{\"color\":\"DarkSlateGrey\",\"width\":5},\"size\":[0,5]},\"name\":\"Vector3\",\"type\":\"scatter3d\",\"x\":[0,0.24599988672162226],\"y\":[0,9.595959595959595],\"z\":[0,-2.803041827808479]},{\"marker\":{\"color\":[\"blue\"],\"line\":{\"color\":\"DarkSlateGrey\",\"width\":5},\"size\":[0,5]},\"name\":\"Vector4\",\"type\":\"scatter3d\",\"x\":[0,2.085969670475504],\"y\":[0,9.393939393939394],\"z\":[0,2.7207780499059235]},{\"marker\":{\"color\":[\"blue\"],\"line\":{\"color\":\"DarkSlateGrey\",\"width\":5},\"size\":[0,5]},\"name\":\"Vector5\",\"type\":\"scatter3d\",\"x\":[0,-3.8778989211836534],\"y\":[0,9.191919191919192],\"z\":[0,-0.6859457167373212]},{\"marker\":{\"color\":[\"blue\"],\"line\":{\"color\":\"DarkSlateGrey\",\"width\":5},\"size\":[0,5]},\"name\":\"Vector6\",\"type\":\"scatter3d\",\"x\":[0,3.695389676362656],\"y\":[0,8.98989898989899],\"z\":[0,-2.3507044244748045]},{\"marker\":{\"color\":[\"blue\"],\"line\":{\"color\":\"DarkSlateGrey\",\"width\":5},\"size\":[0,5]},\"name\":\"Vector7\",\"type\":\"scatter3d\",\"x\":[0,-1.2388644490434448],\"y\":[0,8.787878787878787],\"z\":[0,4.60851399981017]},{\"marker\":{\"color\":[\"blue\"],\"line\":{\"color\":\"DarkSlateGrey\",\"width\":5},\"size\":[0,5]},\"name\":\"Vector8\",\"type\":\"scatter3d\",\"x\":[0,-2.362931120005442],\"y\":[0,8.585858585858585],\"z\":[0,-4.549680083890321]},{\"marker\":{\"color\":[\"blue\"],\"line\":{\"color\":\"DarkSlateGrey\",\"width\":5},\"size\":[0,5]},\"name\":\"Vector9\",\"type\":\"scatter3d\",\"x\":[0,5.1200553924297365],\"y\":[0,8.383838383838384],\"z\":[0,1.8698360174436122]},{\"marker\":{\"color\":[\"blue\"],\"line\":{\"color\":\"DarkSlateGrey\",\"width\":5},\"size\":[0,5]},\"name\":\"Vector10\",\"type\":\"scatter3d\",\"x\":[0,-5.314613277182722],\"y\":[0,8.181818181818182],\"z\":[0,2.193795102935222]},{\"marker\":{\"color\":[\"blue\"],\"line\":{\"color\":\"DarkSlateGrey\",\"width\":5},\"size\":[0,5]},\"name\":\"Vector11\",\"type\":\"scatter3d\",\"x\":[0,2.554452834241677],\"y\":[0,7.97979797979798],\"z\":[0,-5.458717332784941]},{\"marker\":{\"color\":[\"blue\"],\"line\":{\"color\":\"DarkSlateGrey\",\"width\":5},\"size\":[0,5]},\"name\":\"Vector12\",\"type\":\"scatter3d\",\"x\":[0,1.8811168893216454],\"y\":[0,7.777777777777778],\"z\":[0,5.997297065196539]},{\"marker\":{\"color\":[\"blue\"],\"line\":{\"color\":\"DarkSlateGrey\",\"width\":5},\"size\":[0,5]},\"name\":\"Vector13\",\"type\":\"scatter3d\",\"x\":[0,-5.647642372728926],\"y\":[0,7.575757575757576],\"z\":[0,-3.2729241945252103]},{\"marker\":{\"color\":[\"blue\"],\"line\":{\"color\":\"DarkSlateGrey\",\"width\":5},\"size\":[0,5]},\"name\":\"Vector14\",\"type\":\"scatter3d\",\"x\":[0,6.597298249772894],\"y\":[0,7.373737373737374],\"z\":[0,-1.450397513336312]},{\"marker\":{\"color\":[\"blue\"],\"line\":{\"color\":\"DarkSlateGrey\",\"width\":5},\"size\":[0,5]},\"name\":\"Vector15\",\"type\":\"scatter3d\",\"x\":[0,-4.008056847193861],\"y\":[0,7.171717171717171],\"z\":[0,5.7010484227516836]},{\"marker\":{\"color\":[\"blue\"],\"line\":{\"color\":\"DarkSlateGrey\",\"width\":5},\"size\":[0,5]},\"name\":\"Vector16\",\"type\":\"scatter3d\",\"x\":[0,-0.9215509016145574],\"y\":[0,6.969696969696971],\"z\":[0,-7.111544704656666]},{\"marker\":{\"color\":[\"blue\"],\"line\":{\"color\":\"DarkSlateGrey\",\"width\":5},\"size\":[0,5]},\"name\":\"Vector17\",\"type\":\"scatter3d\",\"x\":[0,5.629320310676115],\"y\":[0,6.767676767676766],\"z\":[0,4.744397117448908]},{\"marker\":{\"color\":[\"blue\"],\"line\":{\"color\":\"DarkSlateGrey\",\"width\":5},\"size\":[0,5]},\"name\":\"Vector18\",\"type\":\"scatter3d\",\"x\":[0,-7.53624771987667],\"y\":[0,6.565656565656566],\"z\":[0,0.31164750360707605]},{\"marker\":{\"color\":[\"blue\"],\"line\":{\"color\":\"DarkSlateGrey\",\"width\":5},\"size\":[0,5]},\"name\":\"Vector19\",\"type\":\"scatter3d\",\"x\":[0,5.467833660637458],\"y\":[0,6.363636363636363],\"z\":[0,-5.441224796955639]},{\"marker\":{\"color\":[\"blue\"],\"line\":{\"color\":\"DarkSlateGrey\",\"width\":5},\"size\":[0,5]},\"name\":\"Vector20\",\"type\":\"scatter3d\",\"x\":[0,-0.3638129487435007],\"y\":[0,6.161616161616161],\"z\":[0,7.867790440475463]},{\"marker\":{\"color\":[\"blue\"],\"line\":{\"color\":\"DarkSlateGrey\",\"width\":5},\"size\":[0,5]},\"name\":\"Vector21\",\"type\":\"scatter3d\",\"x\":[0,-5.144986829326802],\"y\":[0,5.95959595959596],\"z\":[0,-6.165413735056331]},{\"marker\":{\"color\":[\"blue\"],\"line\":{\"color\":\"DarkSlateGrey\",\"width\":5},\"size\":[0,5]},\"name\":\"Vector22\",\"type\":\"scatter3d\",\"x\":[0,8.10318627523005],\"y\":[0,5.757575757575757],\"z\":[0,1.090272252558633]},{\"marker\":{\"color\":[\"blue\"],\"line\":{\"color\":\"DarkSlateGrey\",\"width\":5},\"size\":[0,5]},\"name\":\"Vector23\",\"type\":\"scatter3d\",\"x\":[0,-6.825268133340844],\"y\":[0,5.555555555555555],\"z\":[0,4.748843793718403]},{\"marker\":{\"color\":[\"blue\"],\"line\":{\"color\":\"DarkSlateGrey\",\"width\":5},\"size\":[0,5]},\"name\":\"Vector24\",\"type\":\"scatter3d\",\"x\":[0,1.8538012732823734],\"y\":[0,5.353535353535354],\"z\":[0,-8.24033252105907]},{\"marker\":{\"color\":[\"blue\"],\"line\":{\"color\":\"DarkSlateGrey\",\"width\":5},\"size\":[0,5]},\"name\":\"Vector25\",\"type\":\"scatter3d\",\"x\":[0,4.261332947445106],\"y\":[0,5.151515151515151],\"z\":[0,7.436594190536998]},{\"marker\":{\"color\":[\"blue\"],\"line\":{\"color\":\"DarkSlateGrey\",\"width\":5},\"size\":[0,5]},\"name\":\"Vector26\",\"type\":\"scatter3d\",\"x\":[0,-8.278154695967782],\"y\":[0,4.949494949494949],\"z\":[0,-2.6409571322818834]},{\"marker\":{\"color\":[\"blue\"],\"line\":{\"color\":\"DarkSlateGrey\",\"width\":5},\"size\":[0,5]},\"name\":\"Vector27\",\"type\":\"scatter3d\",\"x\":[0,7.989669998181965],\"y\":[0,4.747474747474747],\"z\":[0,-3.6914301892681896]},{\"marker\":{\"color\":[\"blue\"],\"line\":{\"color\":\"DarkSlateGrey\",\"width\":5},\"size\":[0,5]},\"name\":\"Vector28\",\"type\":\"scatter3d\",\"x\":[0,-3.4387369489002784],\"y\":[0,4.545454545454546],\"z\":[0,8.216686142933453]},{\"marker\":{\"color\":[\"blue\"],\"line\":{\"color\":\"DarkSlateGrey\",\"width\":5},\"size\":[0,5]},\"name\":\"Vector29\",\"type\":\"scatter3d\",\"x\":[0,-3.0485999243134883],\"y\":[0,4.343434343434343],\"z\":[0,-8.475884414369443]},{\"marker\":{\"color\":[\"blue\"],\"line\":{\"color\":\"DarkSlateGrey\",\"width\":5},\"size\":[0,5]},\"name\":\"Vector30\",\"type\":\"scatter3d\",\"x\":[0,8.057105364694971],\"y\":[0,4.141414141414142],\"z\":[0,4.234588770057667]},{\"marker\":{\"color\":[\"blue\"],\"line\":{\"color\":\"DarkSlateGrey\",\"width\":5},\"size\":[0,5]},\"name\":\"Vector31\",\"type\":\"scatter3d\",\"x\":[0,-8.887773463851525],\"y\":[0,3.9393939393939394],\"z\":[0,2.3427885618473887]},{\"marker\":{\"color\":[\"blue\"],\"line\":{\"color\":\"DarkSlateGrey\",\"width\":5},\"size\":[0,5]},\"name\":\"Vector32\",\"type\":\"scatter3d\",\"x\":[0,5.016456981916779],\"y\":[0,3.737373737373737],\"z\":[0,-7.801743195963802]},{\"marker\":{\"color\":[\"blue\"],\"line\":{\"color\":\"DarkSlateGrey\",\"width\":5},\"size\":[0,5]},\"name\":\"Vector33\",\"type\":\"scatter3d\",\"x\":[0,1.584380564140349],\"y\":[0,3.5353535353535346],\"z\":[0,9.219057088880488]},{\"marker\":{\"color\":[\"blue\"],\"line\":{\"color\":\"DarkSlateGrey\",\"width\":5},\"size\":[0,5]},\"name\":\"Vector34\",\"type\":\"scatter3d\",\"x\":[0,-7.454066778203466],\"y\":[0,3.333333333333334],\"z\":[0,-5.772848287888075]},{\"marker\":{\"color\":[\"blue\"],\"line\":{\"color\":\"DarkSlateGrey\",\"width\":5},\"size\":[0,5]},\"name\":\"Vector35\",\"type\":\"scatter3d\",\"x\":[0,9.464672217388467],\"y\":[0,3.1313131313131315],\"z\":[0,-0.7841287464828883]},{\"marker\":{\"color\":[\"blue\"],\"line\":{\"color\":\"DarkSlateGrey\",\"width\":5},\"size\":[0,5]},\"name\":\"Vector36\",\"type\":\"scatter3d\",\"x\":[0,-6.492909240678544],\"y\":[0,2.929292929292929],\"z\":[0,7.018644636018099]},{\"marker\":{\"color\":[\"blue\"],\"line\":{\"color\":\"DarkSlateGrey\",\"width\":5},\"size\":[0,5]},\"name\":\"Vector37\",\"type\":\"scatter3d\",\"x\":[0,0.04693348436698646],\"y\":[0,2.727272727272727],\"z\":[0,-9.62079938046312]},{\"marker\":{\"color\":[\"blue\"],\"line\":{\"color\":\"DarkSlateGrey\",\"width\":5},\"size\":[0,5]},\"name\":\"Vector38\",\"type\":\"scatter3d\",\"x\":[0,6.501095730811276],\"y\":[0,2.525252525252525],\"z\":[0,7.166509190849695]},{\"marker\":{\"color\":[\"blue\"],\"line\":{\"color\":\"DarkSlateGrey\",\"width\":5},\"size\":[0,5]},\"name\":\"Vector39\",\"type\":\"scatter3d\",\"x\":[0,-9.684880955101908],\"y\":[0,2.3232323232323235],\"z\":[0,-0.8975925900946813]},{\"marker\":{\"color\":[\"blue\"],\"line\":{\"color\":\"DarkSlateGrey\",\"width\":5},\"size\":[0,5]},\"name\":\"Vector40\",\"type\":\"scatter3d\",\"x\":[0,7.784324280224146],\"y\":[0,2.1212121212121215],\"z\":[0,-5.908024596862779]},{\"marker\":{\"color\":[\"blue\"],\"line\":{\"color\":\"DarkSlateGrey\",\"width\":5},\"size\":[0,5]},\"name\":\"Vector41\",\"type\":\"scatter3d\",\"x\":[0,-1.7565640922420143],\"y\":[0,1.9191919191919193],\"z\":[0,9.65562970329509]},{\"marker\":{\"color\":[\"blue\"],\"line\":{\"color\":\"DarkSlateGrey\",\"width\":5},\"size\":[0,5]},\"name\":\"Vector42\",\"type\":\"scatter3d\",\"x\":[0,-5.24694425012087],\"y\":[0,1.7171717171717171],\"z\":[0,-8.337919244623869]},{\"marker\":{\"color\":[\"blue\"],\"line\":{\"color\":\"DarkSlateGrey\",\"width\":5},\"size\":[0,5]},\"name\":\"Vector43\",\"type\":\"scatter3d\",\"x\":[0,9.53302672153812],\"y\":[0,1.515151515151515],\"z\":[0,2.6126073973282393]},{\"marker\":{\"color\":[\"blue\"],\"line\":{\"color\":\"DarkSlateGrey\",\"width\":5},\"size\":[0,5]},\"name\":\"Vector44\",\"type\":\"scatter3d\",\"x\":[0,-8.819824557590271],\"y\":[0,1.3131313131313127],\"z\":[0,4.526188344269561]},{\"marker\":{\"color\":[\"blue\"],\"line\":{\"color\":\"DarkSlateGrey\",\"width\":5},\"size\":[0,5]},\"name\":\"Vector45\",\"type\":\"scatter3d\",\"x\":[0,3.454643719150054],\"y\":[0,1.1111111111111116],\"z\":[0,-9.31830826236729]},{\"marker\":{\"color\":[\"blue\"],\"line\":{\"color\":\"DarkSlateGrey\",\"width\":5},\"size\":[0,5]},\"name\":\"Vector46\",\"type\":\"scatter3d\",\"x\":[0,3.754813946348314],\"y\":[0,0.9090909090909094],\"z\":[0,9.223606992240967]},{\"marker\":{\"color\":[\"blue\"],\"line\":{\"color\":\"DarkSlateGrey\",\"width\":5},\"size\":[0,5]},\"name\":\"Vector47\",\"type\":\"scatter3d\",\"x\":[0,-9.013941175375193],\"y\":[0,0.7070707070707072],\"z\":[0,-4.271874939892109]},{\"marker\":{\"color\":[\"blue\"],\"line\":{\"color\":\"DarkSlateGrey\",\"width\":5},\"size\":[0,5]},\"name\":\"Vector48\",\"type\":\"scatter3d\",\"x\":[0,9.543932088315646],\"y\":[0,0.505050505050505],\"z\":[0,-2.9424962669419314]},{\"marker\":{\"color\":[\"blue\"],\"line\":{\"color\":\"DarkSlateGrey\",\"width\":5},\"size\":[0,5]},\"name\":\"Vector49\",\"type\":\"scatter3d\",\"x\":[0,-5.053901519770722],\"y\":[0,0.30303030303030276],\"z\":[0,8.623586960418764]},{\"marker\":{\"color\":[\"blue\"],\"line\":{\"color\":\"DarkSlateGrey\",\"width\":5},\"size\":[0,5]},\"name\":\"Vector50\",\"type\":\"scatter3d\",\"x\":[0,-2.0994166796485794],\"y\":[0,0.10101010101010055],\"z\":[0,-9.776617337541]},{\"marker\":{\"color\":[\"blue\"],\"line\":{\"color\":\"DarkSlateGrey\",\"width\":5},\"size\":[0,5]},\"name\":\"Vector51\",\"type\":\"scatter3d\",\"x\":[0,8.152054643909256],\"y\":[0,-0.10101010101010166],\"z\":[0,5.790837766870305]},{\"marker\":{\"color\":[\"blue\"],\"line\":{\"color\":\"DarkSlateGrey\",\"width\":5},\"size\":[0,5]},\"name\":\"Vector52\",\"type\":\"scatter3d\",\"x\":[0,-9.918675174806253],\"y\":[0,-0.30303030303030276],\"z\":[0,1.2361453847050048]},{\"marker\":{\"color\":[\"blue\"],\"line\":{\"color\":\"DarkSlateGrey\",\"width\":5},\"size\":[0,5]},\"name\":\"Vector53\",\"type\":\"scatter3d\",\"x\":[0,6.473422941630272],\"y\":[0,-0.5050505050505061],\"z\":[0,-7.605242889357521]},{\"marker\":{\"color\":[\"blue\"],\"line\":{\"color\":\"DarkSlateGrey\",\"width\":5},\"size\":[0,5]},\"name\":\"Vector54\",\"type\":\"scatter3d\",\"x\":[0,0.36352010274409163],\"y\":[0,-0.7070707070707072],\"z\":[0,9.968345105889114]},{\"marker\":{\"color\":[\"blue\"],\"line\":{\"color\":\"DarkSlateGrey\",\"width\":5},\"size\":[0,5]},\"name\":\"Vector55\",\"type\":\"scatter3d\",\"x\":[0,-6.990071942575041],\"y\":[0,-0.9090909090909083],\"z\":[0,-7.093126810979307]},{\"marker\":{\"color\":[\"blue\"],\"line\":{\"color\":\"DarkSlateGrey\",\"width\":5},\"size\":[0,5]},\"name\":\"Vector56\",\"type\":\"scatter3d\",\"x\":[0,9.925114528466924],\"y\":[0,-1.1111111111111116],\"z\":[0,0.5074777784102473]},{\"marker\":{\"color\":[\"blue\"],\"line\":{\"color\":\"DarkSlateGrey\",\"width\":5},\"size\":[0,5]},\"name\":\"Vector57\",\"type\":\"scatter3d\",\"x\":[0,-7.6422483960345975],\"y\":[0,-1.3131313131313127],\"z\":[0,6.314406195976046]},{\"marker\":{\"color\":[\"blue\"],\"line\":{\"color\":\"DarkSlateGrey\",\"width\":5},\"size\":[0,5]},\"name\":\"Vector58\",\"type\":\"scatter3d\",\"x\":[0,1.3658481401054057],\"y\":[0,-1.515151515151516],\"z\":[0,-9.789728021978172]},{\"marker\":{\"color\":[\"blue\"],\"line\":{\"color\":\"DarkSlateGrey\",\"width\":5},\"size\":[0,5]},\"name\":\"Vector59\",\"type\":\"scatter3d\",\"x\":[0,5.586968341301761],\"y\":[0,-1.7171717171717171],\"z\":[0,8.114006781303388]},{\"marker\":{\"color\":[\"blue\"],\"line\":{\"color\":\"DarkSlateGrey\",\"width\":5},\"size\":[0,5]},\"name\":\"Vector60\",\"type\":\"scatter3d\",\"x\":[0,-9.564185101904323],\"y\":[0,-1.9191919191919182],\"z\":[0,-2.200696642842859]},{\"marker\":{\"color\":[\"blue\"],\"line\":{\"color\":\"DarkSlateGrey\",\"width\":5},\"size\":[0,5]},\"name\":\"Vector61\",\"type\":\"scatter3d\",\"x\":[0,8.502622976531624],\"y\":[0,-2.1212121212121215],\"z\":[0,-4.81724627310866]},{\"marker\":{\"color\":[\"blue\"],\"line\":{\"color\":\"DarkSlateGrey\",\"width\":5},\"size\":[0,5]},\"name\":\"Vector62\",\"type\":\"scatter3d\",\"x\":[0,-3.001357245994345],\"y\":[0,-2.3232323232323226],\"z\":[0,9.25172666339672]},{\"marker\":{\"color\":[\"blue\"],\"line\":{\"color\":\"DarkSlateGrey\",\"width\":5},\"size\":[0,5]},\"name\":\"Vector63\",\"type\":\"scatter3d\",\"x\":[0,-4.015394116545673],\"y\":[0,-2.525252525252526],\"z\":[0,-8.803391947000664]},{\"marker\":{\"color\":[\"blue\"],\"line\":{\"color\":\"DarkSlateGrey\",\"width\":5},\"size\":[0,5]},\"name\":\"Vector64\",\"type\":\"scatter3d\",\"x\":[0,8.856810587479377],\"y\":[0,-2.727272727272727],\"z\":[0,3.7575111029227326]},{\"marker\":{\"color\":[\"blue\"],\"line\":{\"color\":\"DarkSlateGrey\",\"width\":5},\"size\":[0,5]},\"name\":\"Vector65\",\"type\":\"scatter3d\",\"x\":[0,-9.01274405499193],\"y\":[0,-2.9292929292929304],\"z\":[0,3.1921289970178273]},{\"marker\":{\"color\":[\"blue\"],\"line\":{\"color\":\"DarkSlateGrey\",\"width\":5},\"size\":[0,5]},\"name\":\"Vector66\",\"type\":\"scatter3d\",\"x\":[0,4.459300097862065],\"y\":[0,-3.1313131313131315],\"z\":[0,-8.385077263261998]},{\"marker\":{\"color\":[\"blue\"],\"line\":{\"color\":\"DarkSlateGrey\",\"width\":5},\"size\":[0,5]},\"name\":\"Vector67\",\"type\":\"scatter3d\",\"x\":[0,2.3586254690164377],\"y\":[0,-3.3333333333333326],\"z\":[0,9.128295283665832]},{\"marker\":{\"color\":[\"blue\"],\"line\":{\"color\":\"DarkSlateGrey\",\"width\":5},\"size\":[0,5]},\"name\":\"Vector68\",\"type\":\"scatter3d\",\"x\":[0,-7.843306110813986],\"y\":[0,-3.535353535353536],\"z\":[0,-5.097433141506738]},{\"marker\":{\"color\":[\"blue\"],\"line\":{\"color\":\"DarkSlateGrey\",\"width\":5},\"size\":[0,5]},\"name\":\"Vector69\",\"type\":\"scatter3d\",\"x\":[0,9.148885742302104],\"y\":[0,-3.737373737373737],\"z\":[0,-1.5264099126677408]},{\"marker\":{\"color\":[\"blue\"],\"line\":{\"color\":\"DarkSlateGrey\",\"width\":5},\"size\":[0,5]},\"name\":\"Vector70\",\"type\":\"scatter3d\",\"x\":[0,-5.663283107791219],\"y\":[0,-3.9393939393939403],\"z\":[0,7.23936460134955]},{\"marker\":{\"color\":[\"blue\"],\"line\":{\"color\":\"DarkSlateGrey\",\"width\":5},\"size\":[0,5]},\"name\":\"Vector71\",\"type\":\"scatter3d\",\"x\":[0,-0.7072577480976395],\"y\":[0,-4.141414141414142],\"z\":[0,-9.074606073381412]},{\"marker\":{\"color\":[\"blue\"],\"line\":{\"color\":\"DarkSlateGrey\",\"width\":5},\"size\":[0,5]},\"name\":\"Vector72\",\"type\":\"scatter3d\",\"x\":[0,6.582151812328982],\"y\":[0,-4.3434343434343425],\"z\":[0,6.148971915997778]},{\"marker\":{\"color\":[\"blue\"],\"line\":{\"color\":\"DarkSlateGrey\",\"width\":5},\"size\":[0,5]},\"name\":\"Vector73\",\"type\":\"scatter3d\",\"x\":[0,-8.906811486863097],\"y\":[0,-4.545454545454546],\"z\":[0,-0.08690289230056056]},{\"marker\":{\"color\":[\"blue\"],\"line\":{\"color\":\"DarkSlateGrey\",\"width\":5},\"size\":[0,5]},\"name\":\"Vector74\",\"type\":\"scatter3d\",\"x\":[0,6.547440638983667],\"y\":[0,-4.747474747474747],\"z\":[0,-5.881539305409319]},{\"marker\":{\"color\":[\"blue\"],\"line\":{\"color\":\"DarkSlateGrey\",\"width\":5},\"size\":[0,5]},\"name\":\"Vector75\",\"type\":\"scatter3d\",\"x\":[0,-0.844076185990376],\"y\":[0,-4.94949494949495],\"z\":[0,8.648123214730925]},{\"marker\":{\"color\":[\"blue\"],\"line\":{\"color\":\"DarkSlateGrey\",\"width\":5},\"size\":[0,5]},\"name\":\"Vector76\",\"type\":\"scatter3d\",\"x\":[0,-5.148313213466435],\"y\":[0,-5.151515151515151],\"z\":[0,-6.852500470613391]},{\"marker\":{\"color\":[\"blue\"],\"line\":{\"color\":\"DarkSlateGrey\",\"width\":5},\"size\":[0,5]},\"name\":\"Vector77\",\"type\":\"scatter3d\",\"x\":[0,8.30241716863267],\"y\":[0,-5.353535353535353],\"z\":[0,1.5522655624733093]},{\"marker\":{\"color\":[\"blue\"],\"line\":{\"color\":\"DarkSlateGrey\",\"width\":5},\"size\":[0,5]},\"name\":\"Vector78\",\"type\":\"scatter3d\",\"x\":[0,-7.058858583876281],\"y\":[0,-5.555555555555555],\"z\":[0,4.3941231163876076]},{\"marker\":{\"color\":[\"blue\"],\"line\":{\"color\":\"DarkSlateGrey\",\"width\":5},\"size\":[0,5]},\"name\":\"Vector79\",\"type\":\"scatter3d\",\"x\":[0,2.1995125879639565],\"y\":[0,-5.757575757575757],\"z\":[0,-7.874799411487511]},{\"marker\":{\"color\":[\"blue\"],\"line\":{\"color\":\"DarkSlateGrey\",\"width\":5},\"size\":[0,5]},\"name\":\"Vector80\",\"type\":\"scatter3d\",\"x\":[0,3.63144603299816],\"y\":[0,-5.95959595959596],\"z\":[0,7.162109724640459]},{\"marker\":{\"color\":[\"blue\"],\"line\":{\"color\":\"DarkSlateGrey\",\"width\":5},\"size\":[0,5]},\"name\":\"Vector81\",\"type\":\"scatter3d\",\"x\":[0,-7.37156754174631],\"y\":[0,-6.161616161616161],\"z\":[0,-2.773892257169119]},{\"marker\":{\"color\":[\"blue\"],\"line\":{\"color\":\"DarkSlateGrey\",\"width\":5},\"size\":[0,5]},\"name\":\"Vector82\",\"type\":\"scatter3d\",\"x\":[0,7.158678547352051],\"y\":[0,-6.363636363636365],\"z\":[0,-2.873578550707542]},{\"marker\":{\"color\":[\"blue\"],\"line\":{\"color\":\"DarkSlateGrey\",\"width\":5},\"size\":[0,5]},\"name\":\"Vector83\",\"type\":\"scatter3d\",\"x\":[0,-3.263439050896584],\"y\":[0,-6.565656565656566],\"z\":[0,6.80015583813592]},{\"marker\":{\"color\":[\"blue\"],\"line\":{\"color\":\"DarkSlateGrey\",\"width\":5},\"size\":[0,5]},\"name\":\"Vector84\",\"type\":\"scatter3d\",\"x\":[0,-2.134678587671022],\"y\":[0,-6.767676767676766],\"z\":[0,-7.045686516982358]},{\"marker\":{\"color\":[\"blue\"],\"line\":{\"color\":\"DarkSlateGrey\",\"width\":5},\"size\":[0,5]},\"name\":\"Vector85\",\"type\":\"scatter3d\",\"x\":[0,6.169059083366061],\"y\":[0,-6.969696969696971],\"z\":[0,3.6559587219408756]},{\"marker\":{\"color\":[\"blue\"],\"line\":{\"color\":\"DarkSlateGrey\",\"width\":5},\"size\":[0,5]},\"name\":\"Vector86\",\"type\":\"scatter3d\",\"x\":[0,-6.820694567402481],\"y\":[0,-7.171717171717171],\"z\":[0,1.4298945510433072]},{\"marker\":{\"color\":[\"blue\"],\"line\":{\"color\":\"DarkSlateGrey\",\"width\":5},\"size\":[0,5]},\"name\":\"Vector87\",\"type\":\"scatter3d\",\"x\":[0,3.9386410565593444],\"y\":[0,-7.373737373737375],\"z\":[0,-5.487723004191606]},{\"marker\":{\"color\":[\"blue\"],\"line\":{\"color\":\"DarkSlateGrey\",\"width\":5},\"size\":[0,5]},\"name\":\"Vector88\",\"type\":\"scatter3d\",\"x\":[0,0.7756532525223453],\"y\":[0,-7.575757575757576],\"z\":[0,6.481223587039966]},{\"marker\":{\"color\":[\"blue\"],\"line\":{\"color\":\"DarkSlateGrey\",\"width\":5},\"size\":[0,5]},\"name\":\"Vector89\",\"type\":\"scatter3d\",\"x\":[0,-4.766371704744871],\"y\":[0,-7.777777777777777],\"z\":[0,-4.097300771448646]},{\"marker\":{\"color\":[\"blue\"],\"line\":{\"color\":\"DarkSlateGrey\",\"width\":5},\"size\":[0,5]},\"name\":\"Vector90\",\"type\":\"scatter3d\",\"x\":[0,6.023838283936479],\"y\":[0,-7.97979797979798],\"z\":[0,-0.1902538582875318]},{\"marker\":{\"color\":[\"blue\"],\"line\":{\"color\":\"DarkSlateGrey\",\"width\":5},\"size\":[0,5]},\"name\":\"Vector91\",\"type\":\"scatter3d\",\"x\":[0,-4.114857305574174],\"y\":[0,-8.181818181818182],\"z\":[0,4.015694285479447]},{\"marker\":{\"color\":[\"blue\"],\"line\":{\"color\":\"DarkSlateGrey\",\"width\":5},\"size\":[0,5]},\"name\":\"Vector92\",\"type\":\"scatter3d\",\"x\":[0,0.3048921500037185],\"y\":[0,-8.383838383838384],\"z\":[0,-5.442269262958632]},{\"marker\":{\"color\":[\"blue\"],\"line\":{\"color\":\"DarkSlateGrey\",\"width\":5},\"size\":[0,5]},\"name\":\"Vector93\",\"type\":\"scatter3d\",\"x\":[0,3.246162708335984],\"y\":[0,-8.585858585858585],\"z\":[0,3.9680549409814376]},{\"marker\":{\"color\":[\"blue\"],\"line\":{\"color\":\"DarkSlateGrey\",\"width\":5},\"size\":[0,5]},\"name\":\"Vector94\",\"type\":\"scatter3d\",\"x\":[0,-4.723074498870043],\"y\":[0,-8.787878787878789],\"z\":[0,-0.6824614917147549]},{\"marker\":{\"color\":[\"blue\"],\"line\":{\"color\":\"DarkSlateGrey\",\"width\":5},\"size\":[0,5]},\"name\":\"Vector95\",\"type\":\"scatter3d\",\"x\":[0,3.619341490546967],\"y\":[0,-8.98989898989899],\"z\":[0,-2.466188015180185]},{\"marker\":{\"color\":[\"blue\"],\"line\":{\"color\":\"DarkSlateGrey\",\"width\":5},\"size\":[0,5]},\"name\":\"Vector96\",\"type\":\"scatter3d\",\"x\":[0,-0.901783128003129],\"y\":[0,-9.19191919191919],\"z\":[0,3.8334591114653276]},{\"marker\":{\"color\":[\"blue\"],\"line\":{\"color\":\"DarkSlateGrey\",\"width\":5},\"size\":[0,5]},\"name\":\"Vector97\",\"type\":\"scatter3d\",\"x\":[0,-1.6754301826617048],\"y\":[0,-9.393939393939394],\"z\":[0,-2.991126270490721]},{\"marker\":{\"color\":[\"blue\"],\"line\":{\"color\":\"DarkSlateGrey\",\"width\":5},\"size\":[0,5]},\"name\":\"Vector98\",\"type\":\"scatter3d\",\"x\":[0,2.6722305411035965],\"y\":[0,-9.595959595959595],\"z\":[0,0.8813304532944116]},{\"marker\":{\"color\":[\"blue\"],\"line\":{\"color\":\"DarkSlateGrey\",\"width\":5},\"size\":[0,5]},\"name\":\"Vector99\",\"type\":\"scatter3d\",\"x\":[0,-1.8235869564294316],\"y\":[0,-9.7979797979798],\"z\":[0,0.8210496274404979]},{\"marker\":{\"color\":[\"blue\"],\"line\":{\"color\":\"DarkSlateGrey\",\"width\":5},\"size\":[0,5]},\"name\":\"Vector100\",\"type\":\"scatter3d\",\"x\":[0,0.0],\"y\":[0,-1.0],\"z\":[0,0.0]}],                        {\"margin\":{\"b\":4,\"l\":4,\"r\":4,\"t\":4},\"template\":{\"data\":{\"bar\":[{\"error_x\":{\"color\":\"#2a3f5f\"},\"error_y\":{\"color\":\"#2a3f5f\"},\"marker\":{\"line\":{\"color\":\"#E5ECF6\",\"width\":0.5},\"pattern\":{\"fillmode\":\"overlay\",\"size\":10,\"solidity\":0.2}},\"type\":\"bar\"}],\"barpolar\":[{\"marker\":{\"line\":{\"color\":\"#E5ECF6\",\"width\":0.5},\"pattern\":{\"fillmode\":\"overlay\",\"size\":10,\"solidity\":0.2}},\"type\":\"barpolar\"}],\"carpet\":[{\"aaxis\":{\"endlinecolor\":\"#2a3f5f\",\"gridcolor\":\"white\",\"linecolor\":\"white\",\"minorgridcolor\":\"white\",\"startlinecolor\":\"#2a3f5f\"},\"baxis\":{\"endlinecolor\":\"#2a3f5f\",\"gridcolor\":\"white\",\"linecolor\":\"white\",\"minorgridcolor\":\"white\",\"startlinecolor\":\"#2a3f5f\"},\"type\":\"carpet\"}],\"choropleth\":[{\"colorbar\":{\"outlinewidth\":0,\"ticks\":\"\"},\"type\":\"choropleth\"}],\"contour\":[{\"colorbar\":{\"outlinewidth\":0,\"ticks\":\"\"},\"colorscale\":[[0.0,\"#0d0887\"],[0.1111111111111111,\"#46039f\"],[0.2222222222222222,\"#7201a8\"],[0.3333333333333333,\"#9c179e\"],[0.4444444444444444,\"#bd3786\"],[0.5555555555555556,\"#d8576b\"],[0.6666666666666666,\"#ed7953\"],[0.7777777777777778,\"#fb9f3a\"],[0.8888888888888888,\"#fdca26\"],[1.0,\"#f0f921\"]],\"type\":\"contour\"}],\"contourcarpet\":[{\"colorbar\":{\"outlinewidth\":0,\"ticks\":\"\"},\"type\":\"contourcarpet\"}],\"heatmap\":[{\"colorbar\":{\"outlinewidth\":0,\"ticks\":\"\"},\"colorscale\":[[0.0,\"#0d0887\"],[0.1111111111111111,\"#46039f\"],[0.2222222222222222,\"#7201a8\"],[0.3333333333333333,\"#9c179e\"],[0.4444444444444444,\"#bd3786\"],[0.5555555555555556,\"#d8576b\"],[0.6666666666666666,\"#ed7953\"],[0.7777777777777778,\"#fb9f3a\"],[0.8888888888888888,\"#fdca26\"],[1.0,\"#f0f921\"]],\"type\":\"heatmap\"}],\"heatmapgl\":[{\"colorbar\":{\"outlinewidth\":0,\"ticks\":\"\"},\"colorscale\":[[0.0,\"#0d0887\"],[0.1111111111111111,\"#46039f\"],[0.2222222222222222,\"#7201a8\"],[0.3333333333333333,\"#9c179e\"],[0.4444444444444444,\"#bd3786\"],[0.5555555555555556,\"#d8576b\"],[0.6666666666666666,\"#ed7953\"],[0.7777777777777778,\"#fb9f3a\"],[0.8888888888888888,\"#fdca26\"],[1.0,\"#f0f921\"]],\"type\":\"heatmapgl\"}],\"histogram\":[{\"marker\":{\"pattern\":{\"fillmode\":\"overlay\",\"size\":10,\"solidity\":0.2}},\"type\":\"histogram\"}],\"histogram2d\":[{\"colorbar\":{\"outlinewidth\":0,\"ticks\":\"\"},\"colorscale\":[[0.0,\"#0d0887\"],[0.1111111111111111,\"#46039f\"],[0.2222222222222222,\"#7201a8\"],[0.3333333333333333,\"#9c179e\"],[0.4444444444444444,\"#bd3786\"],[0.5555555555555556,\"#d8576b\"],[0.6666666666666666,\"#ed7953\"],[0.7777777777777778,\"#fb9f3a\"],[0.8888888888888888,\"#fdca26\"],[1.0,\"#f0f921\"]],\"type\":\"histogram2d\"}],\"histogram2dcontour\":[{\"colorbar\":{\"outlinewidth\":0,\"ticks\":\"\"},\"colorscale\":[[0.0,\"#0d0887\"],[0.1111111111111111,\"#46039f\"],[0.2222222222222222,\"#7201a8\"],[0.3333333333333333,\"#9c179e\"],[0.4444444444444444,\"#bd3786\"],[0.5555555555555556,\"#d8576b\"],[0.6666666666666666,\"#ed7953\"],[0.7777777777777778,\"#fb9f3a\"],[0.8888888888888888,\"#fdca26\"],[1.0,\"#f0f921\"]],\"type\":\"histogram2dcontour\"}],\"mesh3d\":[{\"colorbar\":{\"outlinewidth\":0,\"ticks\":\"\"},\"type\":\"mesh3d\"}],\"parcoords\":[{\"line\":{\"colorbar\":{\"outlinewidth\":0,\"ticks\":\"\"}},\"type\":\"parcoords\"}],\"pie\":[{\"automargin\":true,\"type\":\"pie\"}],\"scatter\":[{\"marker\":{\"colorbar\":{\"outlinewidth\":0,\"ticks\":\"\"}},\"type\":\"scatter\"}],\"scatter3d\":[{\"line\":{\"colorbar\":{\"outlinewidth\":0,\"ticks\":\"\"}},\"marker\":{\"colorbar\":{\"outlinewidth\":0,\"ticks\":\"\"}},\"type\":\"scatter3d\"}],\"scattercarpet\":[{\"marker\":{\"colorbar\":{\"outlinewidth\":0,\"ticks\":\"\"}},\"type\":\"scattercarpet\"}],\"scattergeo\":[{\"marker\":{\"colorbar\":{\"outlinewidth\":0,\"ticks\":\"\"}},\"type\":\"scattergeo\"}],\"scattergl\":[{\"marker\":{\"colorbar\":{\"outlinewidth\":0,\"ticks\":\"\"}},\"type\":\"scattergl\"}],\"scattermapbox\":[{\"marker\":{\"colorbar\":{\"outlinewidth\":0,\"ticks\":\"\"}},\"type\":\"scattermapbox\"}],\"scatterpolar\":[{\"marker\":{\"colorbar\":{\"outlinewidth\":0,\"ticks\":\"\"}},\"type\":\"scatterpolar\"}],\"scatterpolargl\":[{\"marker\":{\"colorbar\":{\"outlinewidth\":0,\"ticks\":\"\"}},\"type\":\"scatterpolargl\"}],\"scatterternary\":[{\"marker\":{\"colorbar\":{\"outlinewidth\":0,\"ticks\":\"\"}},\"type\":\"scatterternary\"}],\"surface\":[{\"colorbar\":{\"outlinewidth\":0,\"ticks\":\"\"},\"colorscale\":[[0.0,\"#0d0887\"],[0.1111111111111111,\"#46039f\"],[0.2222222222222222,\"#7201a8\"],[0.3333333333333333,\"#9c179e\"],[0.4444444444444444,\"#bd3786\"],[0.5555555555555556,\"#d8576b\"],[0.6666666666666666,\"#ed7953\"],[0.7777777777777778,\"#fb9f3a\"],[0.8888888888888888,\"#fdca26\"],[1.0,\"#f0f921\"]],\"type\":\"surface\"}],\"table\":[{\"cells\":{\"fill\":{\"color\":\"#EBF0F8\"},\"line\":{\"color\":\"white\"}},\"header\":{\"fill\":{\"color\":\"#C8D4E3\"},\"line\":{\"color\":\"white\"}},\"type\":\"table\"}]},\"layout\":{\"annotationdefaults\":{\"arrowcolor\":\"#2a3f5f\",\"arrowhead\":0,\"arrowwidth\":1},\"autotypenumbers\":\"strict\",\"coloraxis\":{\"colorbar\":{\"outlinewidth\":0,\"ticks\":\"\"}},\"colorscale\":{\"diverging\":[[0,\"#8e0152\"],[0.1,\"#c51b7d\"],[0.2,\"#de77ae\"],[0.3,\"#f1b6da\"],[0.4,\"#fde0ef\"],[0.5,\"#f7f7f7\"],[0.6,\"#e6f5d0\"],[0.7,\"#b8e186\"],[0.8,\"#7fbc41\"],[0.9,\"#4d9221\"],[1,\"#276419\"]],\"sequential\":[[0.0,\"#0d0887\"],[0.1111111111111111,\"#46039f\"],[0.2222222222222222,\"#7201a8\"],[0.3333333333333333,\"#9c179e\"],[0.4444444444444444,\"#bd3786\"],[0.5555555555555556,\"#d8576b\"],[0.6666666666666666,\"#ed7953\"],[0.7777777777777778,\"#fb9f3a\"],[0.8888888888888888,\"#fdca26\"],[1.0,\"#f0f921\"]],\"sequentialminus\":[[0.0,\"#0d0887\"],[0.1111111111111111,\"#46039f\"],[0.2222222222222222,\"#7201a8\"],[0.3333333333333333,\"#9c179e\"],[0.4444444444444444,\"#bd3786\"],[0.5555555555555556,\"#d8576b\"],[0.6666666666666666,\"#ed7953\"],[0.7777777777777778,\"#fb9f3a\"],[0.8888888888888888,\"#fdca26\"],[1.0,\"#f0f921\"]]},\"colorway\":[\"#636efa\",\"#EF553B\",\"#00cc96\",\"#ab63fa\",\"#FFA15A\",\"#19d3f3\",\"#FF6692\",\"#B6E880\",\"#FF97FF\",\"#FECB52\"],\"font\":{\"color\":\"#2a3f5f\"},\"geo\":{\"bgcolor\":\"white\",\"lakecolor\":\"white\",\"landcolor\":\"#E5ECF6\",\"showlakes\":true,\"showland\":true,\"subunitcolor\":\"white\"},\"hoverlabel\":{\"align\":\"left\"},\"hovermode\":\"closest\",\"mapbox\":{\"style\":\"light\"},\"paper_bgcolor\":\"white\",\"plot_bgcolor\":\"#E5ECF6\",\"polar\":{\"angularaxis\":{\"gridcolor\":\"white\",\"linecolor\":\"white\",\"ticks\":\"\"},\"bgcolor\":\"#E5ECF6\",\"radialaxis\":{\"gridcolor\":\"white\",\"linecolor\":\"white\",\"ticks\":\"\"}},\"scene\":{\"xaxis\":{\"backgroundcolor\":\"#E5ECF6\",\"gridcolor\":\"white\",\"gridwidth\":2,\"linecolor\":\"white\",\"showbackground\":true,\"ticks\":\"\",\"zerolinecolor\":\"white\"},\"yaxis\":{\"backgroundcolor\":\"#E5ECF6\",\"gridcolor\":\"white\",\"gridwidth\":2,\"linecolor\":\"white\",\"showbackground\":true,\"ticks\":\"\",\"zerolinecolor\":\"white\"},\"zaxis\":{\"backgroundcolor\":\"#E5ECF6\",\"gridcolor\":\"white\",\"gridwidth\":2,\"linecolor\":\"white\",\"showbackground\":true,\"ticks\":\"\",\"zerolinecolor\":\"white\"}},\"shapedefaults\":{\"line\":{\"color\":\"#2a3f5f\"}},\"ternary\":{\"aaxis\":{\"gridcolor\":\"white\",\"linecolor\":\"white\",\"ticks\":\"\"},\"baxis\":{\"gridcolor\":\"white\",\"linecolor\":\"white\",\"ticks\":\"\"},\"bgcolor\":\"#E5ECF6\",\"caxis\":{\"gridcolor\":\"white\",\"linecolor\":\"white\",\"ticks\":\"\"}},\"title\":{\"x\":0.05},\"xaxis\":{\"automargin\":true,\"gridcolor\":\"white\",\"linecolor\":\"white\",\"ticks\":\"\",\"title\":{\"standoff\":15},\"zerolinecolor\":\"white\",\"zerolinewidth\":2},\"yaxis\":{\"automargin\":true,\"gridcolor\":\"white\",\"linecolor\":\"white\",\"ticks\":\"\",\"title\":{\"standoff\":15},\"zerolinecolor\":\"white\",\"zerolinewidth\":2}}}},                        {\"responsive\": true}                    ).then(function(){\n",
       "                            \n",
       "var gd = document.getElementById('fb57092c-e7e2-471a-9a2e-6fd6030d2699');\n",
       "var x = new MutationObserver(function (mutations, observer) {{\n",
       "        var display = window.getComputedStyle(gd).display;\n",
       "        if (!display || display === 'none') {{\n",
       "            console.log([gd, 'removed!']);\n",
       "            Plotly.purge(gd);\n",
       "            observer.disconnect();\n",
       "        }}\n",
       "}});\n",
       "\n",
       "// Listen for the removal of the full notebook cells\n",
       "var notebookContainer = gd.closest('#notebook-container');\n",
       "if (notebookContainer) {{\n",
       "    x.observe(notebookContainer, {childList: true});\n",
       "}}\n",
       "\n",
       "// Listen for the clearing of the current output cell\n",
       "var outputEl = gd.closest('.output');\n",
       "if (outputEl) {{\n",
       "    x.observe(outputEl, {childList: true});\n",
       "}}\n",
       "\n",
       "                        })                };                });            </script>        </div>"
      ]
     },
     "metadata": {},
     "output_type": "display_data"
    }
   ],
   "source": [
    "vector_plot(GenerateCore(10, 100))"
   ]
  },
  {
   "cell_type": "code",
   "execution_count": 89,
   "metadata": {},
   "outputs": [],
   "source": [
    "SphereList = GenerateCore(10, 20)\n",
    "AromaticSulfurSmilesString = 'C1=C(C=CC=C1)CS[H]'\n",
    "PandasNPDataframe = AttachLigands('C1=C(C=CC=C1)CS[H]', ['S7'], ['C4'], SphereList)"
   ]
  },
  {
   "cell_type": "code",
   "execution_count": 90,
   "metadata": {},
   "outputs": [
    {
     "data": {
      "text/html": [
       "<div>\n",
       "<style scoped>\n",
       "    .dataframe tbody tr th:only-of-type {\n",
       "        vertical-align: middle;\n",
       "    }\n",
       "\n",
       "    .dataframe tbody tr th {\n",
       "        vertical-align: top;\n",
       "    }\n",
       "\n",
       "    .dataframe thead th {\n",
       "        text-align: right;\n",
       "    }\n",
       "</style>\n",
       "<table border=\"1\" class=\"dataframe\">\n",
       "  <thead>\n",
       "    <tr style=\"text-align: right;\">\n",
       "      <th></th>\n",
       "      <th>X</th>\n",
       "      <th>Y</th>\n",
       "      <th>Z</th>\n",
       "      <th>NAME</th>\n",
       "      <th>name</th>\n",
       "    </tr>\n",
       "  </thead>\n",
       "  <tbody>\n",
       "    <tr>\n",
       "      <th>0</th>\n",
       "      <td>-5.408416e-01</td>\n",
       "      <td>11.180829</td>\n",
       "      <td>-1.279587e+00</td>\n",
       "      <td>C0</td>\n",
       "      <td>Ligand</td>\n",
       "    </tr>\n",
       "    <tr>\n",
       "      <th>1</th>\n",
       "      <td>5.637935e-01</td>\n",
       "      <td>10.512860</td>\n",
       "      <td>-7.960533e-01</td>\n",
       "      <td>C1</td>\n",
       "      <td>Ligand</td>\n",
       "    </tr>\n",
       "    <tr>\n",
       "      <th>2</th>\n",
       "      <td>1.389495e+00</td>\n",
       "      <td>11.169000</td>\n",
       "      <td>9.009411e-02</td>\n",
       "      <td>C2</td>\n",
       "      <td>Ligand</td>\n",
       "    </tr>\n",
       "    <tr>\n",
       "      <th>3</th>\n",
       "      <td>1.101475e+00</td>\n",
       "      <td>12.460778</td>\n",
       "      <td>4.715477e-01</td>\n",
       "      <td>C3</td>\n",
       "      <td>Ligand</td>\n",
       "    </tr>\n",
       "    <tr>\n",
       "      <th>4</th>\n",
       "      <td>3.145616e-15</td>\n",
       "      <td>13.150187</td>\n",
       "      <td>1.143860e-15</td>\n",
       "      <td>C4</td>\n",
       "      <td>Ligand</td>\n",
       "    </tr>\n",
       "    <tr>\n",
       "      <th>...</th>\n",
       "      <td>...</td>\n",
       "      <td>...</td>\n",
       "      <td>...</td>\n",
       "      <td>...</td>\n",
       "      <td>...</td>\n",
       "    </tr>\n",
       "    <tr>\n",
       "      <th>15</th>\n",
       "      <td>-5.349590e-01</td>\n",
       "      <td>-2.955754</td>\n",
       "      <td>-4.128241e+00</td>\n",
       "      <td>Au</td>\n",
       "      <td>Core</td>\n",
       "    </tr>\n",
       "    <tr>\n",
       "      <th>16</th>\n",
       "      <td>2.847006e+00</td>\n",
       "      <td>-3.493164</td>\n",
       "      <td>2.399459e+00</td>\n",
       "      <td>Au</td>\n",
       "      <td>Core</td>\n",
       "    </tr>\n",
       "    <tr>\n",
       "      <th>17</th>\n",
       "      <td>-3.130935e+00</td>\n",
       "      <td>-4.030574</td>\n",
       "      <td>1.294740e-01</td>\n",
       "      <td>Au</td>\n",
       "      <td>Core</td>\n",
       "    </tr>\n",
       "    <tr>\n",
       "      <th>18</th>\n",
       "      <td>1.616157e+00</td>\n",
       "      <td>-4.567983</td>\n",
       "      <td>-1.608292e+00</td>\n",
       "      <td>Au</td>\n",
       "      <td>Core</td>\n",
       "    </tr>\n",
       "    <tr>\n",
       "      <th>19</th>\n",
       "      <td>3.330669e-16</td>\n",
       "      <td>-5.105393</td>\n",
       "      <td>2.220446e-16</td>\n",
       "      <td>Au</td>\n",
       "      <td>Core</td>\n",
       "    </tr>\n",
       "  </tbody>\n",
       "</table>\n",
       "<p>340 rows × 5 columns</p>\n",
       "</div>"
      ],
      "text/plain": [
       "               X          Y             Z NAME    name\n",
       "0  -5.408416e-01  11.180829 -1.279587e+00   C0  Ligand\n",
       "1   5.637935e-01  10.512860 -7.960533e-01   C1  Ligand\n",
       "2   1.389495e+00  11.169000  9.009411e-02   C2  Ligand\n",
       "3   1.101475e+00  12.460778  4.715477e-01   C3  Ligand\n",
       "4   3.145616e-15  13.150187  1.143860e-15   C4  Ligand\n",
       "..           ...        ...           ...  ...     ...\n",
       "15 -5.349590e-01  -2.955754 -4.128241e+00   Au    Core\n",
       "16  2.847006e+00  -3.493164  2.399459e+00   Au    Core\n",
       "17 -3.130935e+00  -4.030574  1.294740e-01   Au    Core\n",
       "18  1.616157e+00  -4.567983 -1.608292e+00   Au    Core\n",
       "19  3.330669e-16  -5.105393  2.220446e-16   Au    Core\n",
       "\n",
       "[340 rows x 5 columns]"
      ]
     },
     "execution_count": 90,
     "metadata": {},
     "output_type": "execute_result"
    }
   ],
   "source": [
    "PandasNPDataframe"
   ]
  },
  {
   "cell_type": "code",
   "execution_count": 99,
   "metadata": {},
   "outputs": [
    {
     "data": {
      "application/vnd.plotly.v1+json": {
       "config": {
        "plotlyServerURL": "https://plot.ly"
       },
       "data": [
        {
         "hovertemplate": "name=Ligand<br>X=%{x}<br>Y=%{y}<br>Z=%{z}<extra></extra>",
         "legendgroup": "Ligand",
         "marker": {
          "color": "#636efa",
          "symbol": "circle"
         },
         "mode": "markers",
         "name": "Ligand",
         "scene": "scene",
         "showlegend": true,
         "type": "scatter3d",
         "x": [
          -0.5408415586349014,
          0.5637934845802703,
          1.3894950928490182,
          1.1014745537020134,
          3.1456155389229998e-15,
          -0.8152960731236089,
          0.867990408631378,
          1.9243702118353276e-15,
          -1.1775704171742276,
          2.271540153828451,
          1.7429478531833305,
          -0.1848415072806797,
          -1.6995842496550722,
          1.9502240735819572,
          0.411501962883785,
          -1.2822417643607522,
          -4.671590079812069,
          -3.314076126385615,
          -2.462107419094557,
          -2.9734935066611943,
          -4.330413526262061,
          -5.168029908448551,
          -2.7675464908817897,
          -2.6491854111709605,
          -5.325960092903197,
          -1.3796275466157917,
          -2.315081285459824,
          -4.6849967891082125,
          -6.25262835071422,
          -1.7891526028487328,
          -3.5039424659684606,
          -3.869946844827605,
          1.0397422671527712,
          1.5120869960131176,
          1.5806945757462194,
          1.1823873786241166,
          0.7056462114222513,
          0.6442180337451857,
          1.9440121239407144,
          0.4316880218045852,
          0.9913516470192338,
          1.9552505642013664,
          1.2295890330172283,
          0.40394279256070154,
          0.2698349401039515,
          2.75334527477167,
          2.2437058783466806,
          -0.5998961905094509,
          3.780375807343516,
          4.4635091671216705,
          5.839677916364223,
          6.498754923420292,
          5.835067413651436,
          4.457022653545328,
          3.73321568933679,
          3.5696765151174112,
          2.7053709264637686,
          6.393085277323684,
          7.586395533123063,
          6.39830315141744,
          3.898799889853362,
          4.275138994101057,
          2.718283455302127,
          3.1824019891770146,
          -9.23672280659001,
          -8.067404984268713,
          -8.146365476203735,
          -9.373063178485182,
          -10.558295806072573,
          -10.459167057776646,
          -6.734165955822045,
          -6.459171403988059,
          -9.16062206224297,
          -7.221397710361105,
          -9.454777858346365,
          -11.500009893531837,
          -11.382743034193977,
          -5.928445659300854,
          -6.811088397870137,
          -7.711785158013772,
          9.007409262431173,
          8.43633883645696,
          8.534747238429942,
          9.191730162177379,
          9.771783711542728,
          9.662948462036832,
          7.721719066369662,
          5.97801265231186,
          8.923112900889794,
          8.083556116159588,
          9.279392206137132,
          10.27857051483472,
          10.113231417989452,
          7.8086329851175655,
          8.116599618196902,
          6.055949569090915,
          -3.9691325448998693,
          -3.2759129715072746,
          -2.5282930563372457,
          -2.4871111509771504,
          -3.1737119404984417,
          -3.9170022661824344,
          -3.328487115253731,
          -1.9415585419355965,
          -4.5492746164264,
          -1.9726541237321833,
          -1.9013673418811183,
          -3.1101267174677405,
          -4.474967297200624,
          -3.2313858995391485,
          -4.266412587542535,
          -2.00896906179818,
          -4.104648309168939,
          -3.8212780010140017,
          -4.556130662565132,
          -5.545689224394414,
          -5.847379554366413,
          -5.10076777270966,
          -2.7387344518503793,
          -3.5772086233940437,
          -3.5228966258874435,
          -4.338533934251178,
          -6.1368408395277205,
          -6.635851850577267,
          -5.315189273287774,
          -2.2597145332330744,
          -2.002744674316384,
          -4.421188015424008,
          10.351085999356762,
          9.434160072237361,
          9.90358006981777,
          11.259662150440217,
          12.19730319442256,
          11.708154559318604,
          7.956296943562604,
          7.461854966582177,
          9.970670480108371,
          9.181994235340326,
          11.649034479059562,
          13.254755599191586,
          12.427037369000733,
          7.400512251349166,
          7.78508822695744,
          8.478924396019925,
          -10.77763805020349,
          -10.038336245242082,
          -10.352546328479981,
          -11.383763423687569,
          -12.138469374866544,
          -11.8089680252876,
          -8.914968146037989,
          -7.425862631091345,
          -10.52148669725359,
          -9.770152237631482,
          -11.64638560063907,
          -12.940776838873658,
          -12.38944287788619,
          -8.794248895624996,
          -9.096471195164597,
          -7.850624330127962,
          5.912289342631762,
          5.147526283087794,
          4.589998671358115,
          4.803066842913678,
          5.56592888491356,
          6.11611372791254,
          4.9219484888590825,
          3.4050276058175535,
          6.341958533822082,
          3.9794631980450044,
          4.370210431179726,
          5.7049881632877515,
          6.728157377227149,
          4.806048747582546,
          5.755932775057504,
          3.5695786554715223,
          2.7811117834146444,
          2.1853431063081663,
          2.4428441589932577,
          3.278002695003202,
          3.886269852624494,
          3.6164084869458915,
          1.275505232250048,
          2.3774748843289304,
          2.5713506145680336,
          1.9735655909302054,
          3.493092425220413,
          4.536137033242969,
          4.08411133901112,
          0.48945059991301587,
          0.8442785109986546,
          3.5121115763983877,
          -8.574618758197836,
          -8.434022840132343,
          -9.572155943385827,
          -10.811338614833668,
          -10.976657041115638,
          -9.825260306704653,
          -7.076126020549776,
          -6.715109196938801,
          -7.677137148568125,
          -9.471277259496945,
          -11.722122639597517,
          -11.97340535985385,
          -9.921505617600369,
          -7.056904587303853,
          -6.333292026147456,
          -7.114818867841835,
          10.729356818790627,
          9.715064307034353,
          9.81592189639265,
          10.911294654761392,
          11.94004685683285,
          11.82138260394846,
          8.524245111694533,
          7.304475138457033,
          10.637854650838023,
          9.013877920655178,
          11.008000744176675,
          12.78226230920534,
          12.622096345936853,
          8.118320346801477,
          8.811864022507702,
          8.064239938619622,
          -5.869565631230785,
          -6.105511389229298,
          -6.62183584868867,
          -6.889146088288811,
          -6.660746809234718,
          -6.1433780530028255,
          -5.809767254340116,
          -4.074796360097157,
          -5.465963713423479,
          -6.813347005777597,
          -7.297523341946848,
          -6.887413198331512,
          -5.950050183650102,
          -6.498360705879961,
          -5.847685526638665,
          -3.377449507979469,
          0.2099322263521014,
          -0.5836605624891839,
          -1.7802933339962466,
          -2.157045900075425,
          -1.3779174322016812,
          -0.18296749347521402,
          -0.16189705513371166,
          -0.8429584696817101,
          1.1422966147236528,
          -2.419503655836368,
          -3.099612491589706,
          -1.7174772861793595,
          0.46024988516128873,
          -0.538139221998653,
          0.9373997046084085,
          -0.5634786516081547,
          6.861386441205764,
          5.51622632789484,
          5.0794857847551595,
          5.980352012533153,
          7.333158222485508,
          7.751764219016788,
          4.542300401676272,
          4.486152572497145,
          7.189088310124797,
          4.010589386474647,
          5.653208764992455,
          8.003490545591122,
          8.821146584688218,
          3.5471333630706363,
          4.955676000828803,
          5.847426860310748,
          -6.128268178385068,
          -6.667531056459738,
          -7.911989595368379,
          -8.585203443596816,
          -8.064487082609862,
          -6.817027976631631,
          -5.923268392513927,
          -4.93355228046039,
          -5.155199303248495,
          -8.350293249430322,
          -9.569992605607617,
          -8.632892175359252,
          -6.374301676181491,
          -6.6056711420827545,
          -5.2199753709581715,
          -4.38281159495628,
          4.749550488101007,
          3.4641800297303478,
          2.524807223877981,
          2.8806801466202865,
          4.1628072119229005,
          5.089863906877383,
          3.087484408296345,
          2.546650122087216,
          5.473567695924185,
          1.4986379993332135,
          2.151337702772606,
          4.394688838861301,
          6.118566586514948,
          2.2917670873552574,
          3.9897501180600656,
          3.512680324384679,
          1.0484631927908783,
          -0.1562645302502826,
          -1.2875385715510608,
          -1.1966180780501572,
          8.578951469789999e-16,
          1.1221404957437577,
          -0.24316930700307396,
          5.248282395914529e-16,
          1.924496615804095,
          -2.251622642613481,
          -2.0804296379431086,
          0.020963729466404037,
          2.0895880782784824,
          -1.2088210446860301,
          0.6006860407177267,
          1.082744576591892
         ],
         "y": [
          11.180828951125484,
          10.512860125864888,
          11.169000271630203,
          12.460777527172125,
          13.150186732656328,
          12.476656520049882,
          9.10289127500657,
          8.044793559565203,
          10.656410452783785,
          10.646210083226915,
          12.995218596713805,
          14.16647760229543,
          12.996237590528525,
          8.901110164192183,
          8.920158211393629,
          8.646621778024894,
          9.968109883565164,
          9.76272054266789,
          10.564380973964884,
          11.54185018526595,
          11.765956550271449,
          10.953186383829156,
          8.692625056591226,
          7.197973184874127,
          9.334666193156531,
          10.409123521352978,
          12.185059020696261,
          12.54808365932682,
          11.105088475211986,
          8.96953416219181,
          8.48492077975305,
          7.17354828682173,
          8.001538688294842,
          8.121970508076169,
          9.379920619994147,
          10.478210551818849,
          10.381726367886575,
          9.113694555435137,
          6.915854557438733,
          6.351152810183054,
          7.012862077259671,
          9.486781452922102,
          11.480467665415404,
          11.275851815910153,
          9.001968358652862,
          7.153306537796915,
          6.120430870076488,
          6.424218150157719,
          8.380616010666603,
          7.8821662294346435,
          7.942755570029289,
          8.49171681456199,
          8.997496185501697,
          8.928048548713328,
          7.285273894352837,
          5.50433243549198,
          8.326951786068912,
          7.548708056666485,
          8.548027976191388,
          9.420032091303684,
          9.32140491420681,
          7.439073191108793,
          7.713247542699175,
          5.475262325587859,
          5.819208227998815,
          6.396647066352612,
          7.588708232094388,
          8.173684629705036,
          7.613266003116822,
          6.419340969051709,
          5.74877582566401,
          4.657512060800907,
          4.8878337892669,
          8.056753658416268,
          9.116035101104584,
          8.11192834535275,
          5.947116128071108,
          6.491453534641133,
          5.107356014644564,
          4.011929388004654,
          4.099848651484889,
          4.690263193214094,
          6.057449599188476,
          6.799050728802558,
          6.229035820731945,
          4.858520767920867,
          3.870427081673058,
          3.810691686109833,
          3.0308093275589902,
          6.537374125017486,
          7.881003854210342,
          6.85500829457086,
          4.373730161440474,
          4.31115944165799,
          2.84151874308382,
          3.561014189481538,
          3.570037509320946,
          4.367769755317082,
          5.408946760193743,
          5.63126445067419,
          4.844805638347068,
          3.806870262073499,
          4.1153922365464055,
          2.9638713114187585,
          2.7600472665592037,
          6.0500052053260465,
          6.449647061243364,
          5.059586486905567,
          3.162433590232713,
          5.0458560235018215,
          3.5879305626683062,
          2.0001995570370443,
          2.116349379600426,
          3.091096574859556,
          4.255931308747178,
          4.423718137878017,
          3.460575455962191,
          2.3007337234548713,
          2.896651041167786,
          2.1170509367276846,
          1.2111487569682673,
          5.038257290454648,
          5.337989104611456,
          3.638949646928152,
          1.5147016529555932,
          3.8478136883346483,
          2.174942911621142,
          1.1207138041929197,
          0.5276793194252869,
          1.5552356914521808,
          2.8494006986535263,
          3.090330761150054,
          2.0763452735773154,
          0.7868090602419804,
          1.2799828723451887,
          1.270230562036611,
          -0.4786712826153332,
          3.6747197669721485,
          4.107007842175369,
          2.316210549253918,
          -0.042683293769706365,
          2.038520121670599,
          0.267638298398428,
          0.5201771470842247,
          -0.27467578206211773,
          0.8823815245971636,
          1.948671943394856,
          1.8417920135335062,
          0.6921150911924391,
          -0.36520951728140383,
          0.987304293164328,
          0.4234101873455374,
          -1.1001361279021191,
          2.8744216373052973,
          2.674486865086286,
          0.6561577926812312,
          -1.2941078543508684,
          2.013944195515683,
          0.2741976524278202,
          -0.7364805032018036,
          -1.039188438921612,
          0.06316265210487465,
          0.7902246660360788,
          0.40904093318093054,
          -0.6921150911924379,
          -1.4078622968703307,
          0.4695851908902094,
          -0.42341018734553665,
          -1.5983080029180323,
          1.6695580540809591,
          0.9718090576336715,
          -0.9524539519538022,
          -2.2890503121832926,
          1.559356150394938,
          0.09234606723582733,
          -1.743280780284265,
          -3.051286889851207,
          -1.850311922308006,
          -0.7579101850995555,
          -0.8827397951649358,
          -2.0763452735773136,
          -3.159301429009043,
          -1.7261735244330745,
          -1.27023056203661,
          -3.8967577925402996,
          0.20284884104176698,
          -0.029890754693797372,
          -2.1249258216671922,
          -4.123277230814743,
          -0.9718202323602247,
          -2.7155155100310027,
          -2.120976148158554,
          -3.654069361530671,
          -2.3518910367155437,
          -1.6019607759973575,
          -2.157606948809394,
          -3.4605754559621893,
          -4.196092766594886,
          -1.7562144429464137,
          -2.1170509367276837,
          -4.228795401822498,
          -0.5642232853110047,
          -1.579770698867629,
          -3.853388828682635,
          -5.235593527627898,
          -0.6745610538734074,
          -2.294509120298481,
          -3.4726234261112428,
          -2.935496030138031,
          -3.127159957158317,
          -4.1838855477239765,
          -5.01746176960043,
          -4.844805638347067,
          -3.7811150317759643,
          -2.2106693906034627,
          -2.9638713114187576,
          -2.1060705259150976,
          -4.345297651819809,
          -5.857963912675734,
          -5.527787813389134,
          -3.6156930244551635,
          -2.1114907140947223,
          -1.2310575196500904,
          -3.344750081434194,
          -6.373025346479132,
          -5.031365562337994,
          -4.286556575314598,
          -4.885998165152183,
          -6.229035820731942,
          -6.958725922767103,
          -4.388072404797276,
          -3.8106916861098306,
          -6.943233780394233,
          -3.217607973800748,
          -4.312869949379511,
          -6.655582262220714,
          -8.029385963056049,
          -3.557084208765578,
          -5.158909751310177,
          -4.890160838522286,
          -6.567445304974266,
          -5.447501576143203,
          -5.412460768904081,
          -6.480316431431346,
          -7.613266003116821,
          -7.630053818549363,
          -4.287983288309942,
          -4.657512060800906,
          -6.581672187302524,
          -4.525537509621185,
          -6.470245485501884,
          -8.42857479245329,
          -8.516078810410702,
          -3.328938195261707,
          -4.285519757162306,
          -6.039230971594836,
          -7.963524865341798,
          -7.884009129480024,
          -8.364403612414371,
          -8.907297059067595,
          -8.997496185501696,
          -8.511165991140587,
          -7.289309025758106,
          -5.504332435491979,
          -7.584438805913101,
          -8.305850479015985,
          -9.292032889302337,
          -9.433418101296061,
          -8.56775335985447,
          -7.754335708518841,
          -7.384232610823782,
          -5.134882538113722,
          -9.425629732639234,
          -8.15859842636425,
          -8.00469993389089,
          -9.102289296225777,
          -10.381726367886571,
          -10.516070251428339,
          -6.9680364607178,
          -6.351152810183053,
          -9.531635616912272,
          -7.000243448483987,
          -8.99967625366843,
          -11.21468898214346,
          -11.519968217337532,
          -6.194737329386739,
          -7.307876521059691,
          -7.522104555522924,
          -9.440382062127705,
          -9.042933222963,
          -10.01387403156387,
          -11.344018682368617,
          -11.765956550271447,
          -10.77909406886087,
          -7.587987349448657,
          -7.197973184874126,
          -8.67142932990031,
          -9.708126250438788,
          -12.125441723557897,
          -12.825103879199448,
          -11.080633085107877,
          -7.385729587411134,
          -6.990560616723936,
          -7.824471478167867,
          -11.180828951125484,
          -10.512860125864886,
          -11.169000271630203,
          -12.460777527172123,
          -13.150186732656326,
          -12.476656520049882,
          -9.10289127500657,
          -8.0447935595652,
          -10.656410452783781,
          -10.646210083226915,
          -12.995218596713805,
          -14.166477602295426,
          -12.996237590528523,
          -8.901110164192183,
          -8.920158211393627,
          -8.646621778024892
         ],
         "z": [
          -1.2795871645076538,
          -0.7960533242443655,
          0.09009410929602793,
          0.4715477149455281,
          1.1438601959719999e-15,
          -0.8866289438039683,
          -1.21967377654067,
          6.997709861219373e-16,
          -1.97126510529932,
          0.4810037899289275,
          1.1712232096610593,
          0.32981518487390443,
          -1.2806059978750974,
          -1.2340258733014455,
          -2.2062702486547567,
          0.15655289715393886,
          2.398712240519294,
          2.275517314499467,
          3.002875675585852,
          3.827611616703195,
          3.9670135180537778,
          3.230627090307049,
          1.37207765143889,
          2.4268708459853605,
          1.824773435831752,
          2.9120137023060972,
          4.4102236571407305,
          4.629085618122244,
          3.3184903975293634,
          0.9499188519210736,
          0.5785251492780877,
          3.161714300650599,
          -7.863529969108151,
          -6.574114388776979,
          -6.016965551677354,
          -6.746528273136023,
          -8.040474622207604,
          -8.581569271722646,
          -5.787522236464687,
          -4.9188623531825,
          -8.286653687602707,
          -4.991094203505565,
          -6.322365885914591,
          -8.574615334888163,
          -9.608459014214908,
          -5.0798869399274835,
          -6.489398638389909,
          -5.899344594434964,
          6.5126663490812735,
          5.424051388111698,
          5.43103824486199,
          6.508725682359558,
          7.610812162559001,
          7.585688806413468,
          4.253413445269396,
          4.656010892709754,
          6.494188482304963,
          4.569301452593058,
          6.531704060610923,
          8.435445707056365,
          8.446389743388385,
          3.3074661882904297,
          4.209861303359692,
          6.027150319128689,
          -2.7857775092164117,
          -2.3391612049224872,
          -1.6533655147956912,
          -1.429386668417645,
          -1.8676138629241257,
          -2.5525795718682383,
          -2.5896382799449444,
          -1.1425364735616756,
          -3.320199726254769,
          -1.2935161572129208,
          -0.8890540404800389,
          -1.666860241249317,
          -2.914738518234685,
          -2.696389997858874,
          -3.482839957265092,
          -0.9303296116945448,
          -5.3850355942585715,
          -4.278014753266365,
          -4.1413493644778,
          -5.098194370018582,
          -6.216008923947659,
          -6.335612003417393,
          -3.240137327454312,
          -3.8027223167402635,
          -5.479406256058188,
          -3.2637261709638112,
          -5.006794976503888,
          -6.942037276496012,
          -7.2127501422157145,
          -2.2349745234741425,
          -3.2638576351364836,
          -5.203592382482636,
          9.921774436082657,
          9.036745740693565,
          9.541300215165823,
          10.899987102325372,
          11.806050226435111,
          11.281959428424084,
          7.555684039066964,
          7.222500999903531,
          9.514088579137344,
          8.845288077628311,
          11.316898533554333,
          12.867001534084823,
          11.975158092037395,
          6.975201653471485,
          7.316465178088309,
          8.270185364600916,
          -10.276853433758147,
          -9.344236106721272,
          -9.370917922493838,
          -10.314195503510973,
          -11.258773510667146,
          -11.216352747341222,
          -8.319398258479827,
          -6.887697526172115,
          -10.244703997323652,
          -8.632852091233522,
          -10.350381356814616,
          -11.981466845909853,
          -11.953458568322231,
          -8.040147759612452,
          -8.710041440345494,
          -7.458539939254546,
          4.417845867299635,
          4.477684411582754,
          4.526079770450138,
          4.514027477346032,
          4.45443556378952,
          4.406566101623017,
          4.490281041049338,
          2.7250574659964144,
          4.380439010107211,
          4.573889477128254,
          4.551683171326071,
          4.447319956170165,
          4.358629396820552,
          5.062885548717881,
          4.8915187653292875,
          2.0663924473153905,
          3.272286694499675,
          3.1503968459234217,
          3.963942835480635,
          4.870760978943488,
          5.010583702494267,
          4.187203443393591,
          2.15689921486264,
          3.065288145254028,
          2.630524685414379,
          3.8749030900241976,
          5.5221517411104655,
          5.739144871224289,
          4.272905321890303,
          1.7779682470136053,
          1.3361183461031232,
          3.775978683692368,
          -9.534448649757342,
          -9.217959408599874,
          -10.24660128058937,
          -11.552913677470583,
          -11.894066733138793,
          -10.850292766116297,
          -7.788295953336785,
          -7.276346214474273,
          -8.72104439984475,
          -10.005473352722607,
          -12.379102768167426,
          -12.937463956335467,
          -11.087058980112504,
          -7.682854923811009,
          -7.174043133738069,
          -7.787926634707482,
          10.483122364134625,
          10.162303543595408,
          10.960997454404037,
          12.049151372905277,
          12.390040679562178,
          11.578349650375571,
          8.972014957705813,
          7.579764568222092,
          9.850638388663507,
          10.71433337443668,
          12.691837898972436,
          13.256703329386946,
          11.821562895884005,
          9.130824688628158,
          8.747534172696694,
          7.720055270395646,
          -6.329650795275338,
          -5.8998016320753175,
          -5.700257265854424,
          -5.930115482134979,
          -6.361197121536866,
          -6.55551995571434,
          -5.652237822927532,
          -3.891543038501573,
          -6.481550477514946,
          -5.358134713744349,
          -5.777672780919317,
          -6.528475374766464,
          -6.898044400141322,
          -5.856707349571804,
          -6.263451508573654,
          -3.7084983406114445,
          -1.7901268808551014,
          -2.7037359573057884,
          -3.5816420363741828,
          -3.53203997276004,
          -2.6249858070105536,
          -1.7538126860321837,
          -2.7484226669943816,
          -1.6058683685264181,
          -1.110025814334793,
          -4.3129388589681685,
          -4.218236102464625,
          -2.624759845041119,
          -1.0198909940428131,
          -3.7670197317298797,
          -2.332752585251339,
          -0.4619545748347495,
          7.202328524252003,
          6.991414968974889,
          8.028829513005345,
          9.239765588257402,
          9.474226923134061,
          8.42334945967679,
          5.665250749605151,
          5.795978512138749,
          6.383289692259337,
          7.87136264940059,
          10.071278135153527,
          10.44503692102556,
          8.576514077482749,
          5.447422878413905,
          4.878156306559572,
          6.41185485788043,
          -9.152342845630043,
          -9.02528996431736,
          -9.706760772742863,
          -10.490911874336277,
          -10.633293723938541,
          -9.94316740845273,
          -8.166433107419754,
          -6.505052331680944,
          -8.614429267447342,
          -9.6124170093161,
          -11.036922721549923,
          -11.262390103117728,
          -10.03470485819183,
          -8.554795884070863,
          -8.084663691002927,
          -6.296260954328702,
          4.0551740728316155,
          4.345738045489052,
          5.560661561393263,
          6.449963482789471,
          6.180393513329559,
          4.958626972677807,
          3.3670643033926138,
          3.780934137470517,
          3.1024086142158285,
          5.8018160127593,
          7.415166407146746,
          6.91279929609551,
          4.712929571835525,
          3.4415227113041382,
          2.3495890951197276,
          3.984131192265612,
          -0.736628953018639,
          -0.6731220860789056,
          -0.1028602955786557,
          0.38625305366843943,
          0.333491859687437,
          -0.2411898069788296,
          -1.2103720368550324,
          0.20401787590730106,
          -1.184687533136788,
          -0.04735781940480452,
          0.8404797795982539,
          0.7320900339003791,
          -0.29889842003403255,
          -1.5957111677239495,
          -1.9882109222575195,
          0.8010159193116421,
          -3.906628420963797,
          -4.206733585686763,
          -4.47583020136837,
          -4.440889781174572,
          -4.14254917619786,
          -3.8758473853159234,
          -4.241878009606346,
          -2.5342570117349856,
          -3.6983796446084285,
          -4.715868669193328,
          -4.650886635833193,
          -4.127402644842928,
          -3.635030015354953,
          -4.975415362278445,
          -4.4519816993331665,
          -1.6945335494202851,
          -0.911360431707528,
          -0.9628838896156301,
          -0.5301490246615482,
          -0.0608984006927694,
          5.719300979859999e-16,
          -0.4377433936151166,
          -1.4771188709067014,
          3.4988549306096863e-16,
          -1.2525457989763171,
          -0.5669698331051177,
          0.28538315881113807,
          0.37749829275648594,
          -0.4026909566723903,
          -1.9659464578365722,
          -2.1624381045577223,
          0.7044976463687566
         ]
        },
        {
         "hovertemplate": "name=Core<br>X=%{x}<br>Y=%{y}<br>Z=%{z}<extra></extra>",
         "legendgroup": "Core",
         "marker": {
          "color": "#EF553B",
          "symbol": "circle"
         },
         "mode": "markers",
         "name": "Core",
         "scene": "scene",
         "showlegend": true,
         "type": "scatter3d",
         "x": [
          1.2212453270876722e-15,
          -1.6812281150911002,
          0.27395818961766605,
          2.265390898534025,
          -4.099124402084514,
          3.793771059230868,
          -1.2321533985628454,
          -2.270170930972369,
          4.735448227840382,
          -4.712606743775199,
          2.1609012790960063,
          1.5087949682955637,
          -4.261547844176837,
          4.635571718375819,
          -2.585950449137561,
          -0.534958962519971,
          2.8470056499883625,
          -3.1309348021494725,
          1.6161570898356845,
          3.3306690738754696e-16
         ],
         "y": [
          5.105393173091126,
          4.567983365397322,
          4.03057355770352,
          3.4931637500097175,
          2.955753942315915,
          2.4183441346221124,
          1.8809343269283092,
          1.3435245192345067,
          0.8061147115407041,
          0.26870490384690165,
          -0.26870490384690116,
          -0.8061147115407035,
          -1.343524519234506,
          -1.8809343269283088,
          -2.418344134622111,
          -2.9557539423159147,
          -3.4931637500097166,
          -4.030573557703519,
          -4.567983365397321,
          -5.105393173091125
         ],
         "z": [
          4.440892098500626e-16,
          1.5401426720684173,
          -3.121612269025105,
          2.9548012698492463,
          -0.72507738936245,
          -2.4132866072073953,
          4.58354922653158,
          -4.371075984495031,
          1.7293780977931055,
          1.9452955572402386,
          -4.61772051866452,
          4.8102761113400865,
          -2.4696540830352927,
          -1.0191174384841355,
          3.678248410995313,
          -4.128241392257597,
          2.399459375859042,
          0.12947398378013597,
          -1.6082921644628745,
          2.220446049250313e-16
         ]
        }
       ],
       "layout": {
        "legend": {
         "title": {
          "text": "name"
         },
         "tracegroupgap": 0
        },
        "margin": {
         "t": 60
        },
        "scene": {
         "domain": {
          "x": [
           0,
           1
          ],
          "y": [
           0,
           1
          ]
         },
         "xaxis": {
          "title": {
           "text": "X"
          }
         },
         "yaxis": {
          "title": {
           "text": "Y"
          }
         },
         "zaxis": {
          "title": {
           "text": "Z"
          }
         }
        },
        "template": {
         "data": {
          "bar": [
           {
            "error_x": {
             "color": "#2a3f5f"
            },
            "error_y": {
             "color": "#2a3f5f"
            },
            "marker": {
             "line": {
              "color": "#E5ECF6",
              "width": 0.5
             },
             "pattern": {
              "fillmode": "overlay",
              "size": 10,
              "solidity": 0.2
             }
            },
            "type": "bar"
           }
          ],
          "barpolar": [
           {
            "marker": {
             "line": {
              "color": "#E5ECF6",
              "width": 0.5
             },
             "pattern": {
              "fillmode": "overlay",
              "size": 10,
              "solidity": 0.2
             }
            },
            "type": "barpolar"
           }
          ],
          "carpet": [
           {
            "aaxis": {
             "endlinecolor": "#2a3f5f",
             "gridcolor": "white",
             "linecolor": "white",
             "minorgridcolor": "white",
             "startlinecolor": "#2a3f5f"
            },
            "baxis": {
             "endlinecolor": "#2a3f5f",
             "gridcolor": "white",
             "linecolor": "white",
             "minorgridcolor": "white",
             "startlinecolor": "#2a3f5f"
            },
            "type": "carpet"
           }
          ],
          "choropleth": [
           {
            "colorbar": {
             "outlinewidth": 0,
             "ticks": ""
            },
            "type": "choropleth"
           }
          ],
          "contour": [
           {
            "colorbar": {
             "outlinewidth": 0,
             "ticks": ""
            },
            "colorscale": [
             [
              0,
              "#0d0887"
             ],
             [
              0.1111111111111111,
              "#46039f"
             ],
             [
              0.2222222222222222,
              "#7201a8"
             ],
             [
              0.3333333333333333,
              "#9c179e"
             ],
             [
              0.4444444444444444,
              "#bd3786"
             ],
             [
              0.5555555555555556,
              "#d8576b"
             ],
             [
              0.6666666666666666,
              "#ed7953"
             ],
             [
              0.7777777777777778,
              "#fb9f3a"
             ],
             [
              0.8888888888888888,
              "#fdca26"
             ],
             [
              1,
              "#f0f921"
             ]
            ],
            "type": "contour"
           }
          ],
          "contourcarpet": [
           {
            "colorbar": {
             "outlinewidth": 0,
             "ticks": ""
            },
            "type": "contourcarpet"
           }
          ],
          "heatmap": [
           {
            "colorbar": {
             "outlinewidth": 0,
             "ticks": ""
            },
            "colorscale": [
             [
              0,
              "#0d0887"
             ],
             [
              0.1111111111111111,
              "#46039f"
             ],
             [
              0.2222222222222222,
              "#7201a8"
             ],
             [
              0.3333333333333333,
              "#9c179e"
             ],
             [
              0.4444444444444444,
              "#bd3786"
             ],
             [
              0.5555555555555556,
              "#d8576b"
             ],
             [
              0.6666666666666666,
              "#ed7953"
             ],
             [
              0.7777777777777778,
              "#fb9f3a"
             ],
             [
              0.8888888888888888,
              "#fdca26"
             ],
             [
              1,
              "#f0f921"
             ]
            ],
            "type": "heatmap"
           }
          ],
          "heatmapgl": [
           {
            "colorbar": {
             "outlinewidth": 0,
             "ticks": ""
            },
            "colorscale": [
             [
              0,
              "#0d0887"
             ],
             [
              0.1111111111111111,
              "#46039f"
             ],
             [
              0.2222222222222222,
              "#7201a8"
             ],
             [
              0.3333333333333333,
              "#9c179e"
             ],
             [
              0.4444444444444444,
              "#bd3786"
             ],
             [
              0.5555555555555556,
              "#d8576b"
             ],
             [
              0.6666666666666666,
              "#ed7953"
             ],
             [
              0.7777777777777778,
              "#fb9f3a"
             ],
             [
              0.8888888888888888,
              "#fdca26"
             ],
             [
              1,
              "#f0f921"
             ]
            ],
            "type": "heatmapgl"
           }
          ],
          "histogram": [
           {
            "marker": {
             "pattern": {
              "fillmode": "overlay",
              "size": 10,
              "solidity": 0.2
             }
            },
            "type": "histogram"
           }
          ],
          "histogram2d": [
           {
            "colorbar": {
             "outlinewidth": 0,
             "ticks": ""
            },
            "colorscale": [
             [
              0,
              "#0d0887"
             ],
             [
              0.1111111111111111,
              "#46039f"
             ],
             [
              0.2222222222222222,
              "#7201a8"
             ],
             [
              0.3333333333333333,
              "#9c179e"
             ],
             [
              0.4444444444444444,
              "#bd3786"
             ],
             [
              0.5555555555555556,
              "#d8576b"
             ],
             [
              0.6666666666666666,
              "#ed7953"
             ],
             [
              0.7777777777777778,
              "#fb9f3a"
             ],
             [
              0.8888888888888888,
              "#fdca26"
             ],
             [
              1,
              "#f0f921"
             ]
            ],
            "type": "histogram2d"
           }
          ],
          "histogram2dcontour": [
           {
            "colorbar": {
             "outlinewidth": 0,
             "ticks": ""
            },
            "colorscale": [
             [
              0,
              "#0d0887"
             ],
             [
              0.1111111111111111,
              "#46039f"
             ],
             [
              0.2222222222222222,
              "#7201a8"
             ],
             [
              0.3333333333333333,
              "#9c179e"
             ],
             [
              0.4444444444444444,
              "#bd3786"
             ],
             [
              0.5555555555555556,
              "#d8576b"
             ],
             [
              0.6666666666666666,
              "#ed7953"
             ],
             [
              0.7777777777777778,
              "#fb9f3a"
             ],
             [
              0.8888888888888888,
              "#fdca26"
             ],
             [
              1,
              "#f0f921"
             ]
            ],
            "type": "histogram2dcontour"
           }
          ],
          "mesh3d": [
           {
            "colorbar": {
             "outlinewidth": 0,
             "ticks": ""
            },
            "type": "mesh3d"
           }
          ],
          "parcoords": [
           {
            "line": {
             "colorbar": {
              "outlinewidth": 0,
              "ticks": ""
             }
            },
            "type": "parcoords"
           }
          ],
          "pie": [
           {
            "automargin": true,
            "type": "pie"
           }
          ],
          "scatter": [
           {
            "marker": {
             "colorbar": {
              "outlinewidth": 0,
              "ticks": ""
             }
            },
            "type": "scatter"
           }
          ],
          "scatter3d": [
           {
            "line": {
             "colorbar": {
              "outlinewidth": 0,
              "ticks": ""
             }
            },
            "marker": {
             "colorbar": {
              "outlinewidth": 0,
              "ticks": ""
             }
            },
            "type": "scatter3d"
           }
          ],
          "scattercarpet": [
           {
            "marker": {
             "colorbar": {
              "outlinewidth": 0,
              "ticks": ""
             }
            },
            "type": "scattercarpet"
           }
          ],
          "scattergeo": [
           {
            "marker": {
             "colorbar": {
              "outlinewidth": 0,
              "ticks": ""
             }
            },
            "type": "scattergeo"
           }
          ],
          "scattergl": [
           {
            "marker": {
             "colorbar": {
              "outlinewidth": 0,
              "ticks": ""
             }
            },
            "type": "scattergl"
           }
          ],
          "scattermapbox": [
           {
            "marker": {
             "colorbar": {
              "outlinewidth": 0,
              "ticks": ""
             }
            },
            "type": "scattermapbox"
           }
          ],
          "scatterpolar": [
           {
            "marker": {
             "colorbar": {
              "outlinewidth": 0,
              "ticks": ""
             }
            },
            "type": "scatterpolar"
           }
          ],
          "scatterpolargl": [
           {
            "marker": {
             "colorbar": {
              "outlinewidth": 0,
              "ticks": ""
             }
            },
            "type": "scatterpolargl"
           }
          ],
          "scatterternary": [
           {
            "marker": {
             "colorbar": {
              "outlinewidth": 0,
              "ticks": ""
             }
            },
            "type": "scatterternary"
           }
          ],
          "surface": [
           {
            "colorbar": {
             "outlinewidth": 0,
             "ticks": ""
            },
            "colorscale": [
             [
              0,
              "#0d0887"
             ],
             [
              0.1111111111111111,
              "#46039f"
             ],
             [
              0.2222222222222222,
              "#7201a8"
             ],
             [
              0.3333333333333333,
              "#9c179e"
             ],
             [
              0.4444444444444444,
              "#bd3786"
             ],
             [
              0.5555555555555556,
              "#d8576b"
             ],
             [
              0.6666666666666666,
              "#ed7953"
             ],
             [
              0.7777777777777778,
              "#fb9f3a"
             ],
             [
              0.8888888888888888,
              "#fdca26"
             ],
             [
              1,
              "#f0f921"
             ]
            ],
            "type": "surface"
           }
          ],
          "table": [
           {
            "cells": {
             "fill": {
              "color": "#EBF0F8"
             },
             "line": {
              "color": "white"
             }
            },
            "header": {
             "fill": {
              "color": "#C8D4E3"
             },
             "line": {
              "color": "white"
             }
            },
            "type": "table"
           }
          ]
         },
         "layout": {
          "annotationdefaults": {
           "arrowcolor": "#2a3f5f",
           "arrowhead": 0,
           "arrowwidth": 1
          },
          "autotypenumbers": "strict",
          "coloraxis": {
           "colorbar": {
            "outlinewidth": 0,
            "ticks": ""
           }
          },
          "colorscale": {
           "diverging": [
            [
             0,
             "#8e0152"
            ],
            [
             0.1,
             "#c51b7d"
            ],
            [
             0.2,
             "#de77ae"
            ],
            [
             0.3,
             "#f1b6da"
            ],
            [
             0.4,
             "#fde0ef"
            ],
            [
             0.5,
             "#f7f7f7"
            ],
            [
             0.6,
             "#e6f5d0"
            ],
            [
             0.7,
             "#b8e186"
            ],
            [
             0.8,
             "#7fbc41"
            ],
            [
             0.9,
             "#4d9221"
            ],
            [
             1,
             "#276419"
            ]
           ],
           "sequential": [
            [
             0,
             "#0d0887"
            ],
            [
             0.1111111111111111,
             "#46039f"
            ],
            [
             0.2222222222222222,
             "#7201a8"
            ],
            [
             0.3333333333333333,
             "#9c179e"
            ],
            [
             0.4444444444444444,
             "#bd3786"
            ],
            [
             0.5555555555555556,
             "#d8576b"
            ],
            [
             0.6666666666666666,
             "#ed7953"
            ],
            [
             0.7777777777777778,
             "#fb9f3a"
            ],
            [
             0.8888888888888888,
             "#fdca26"
            ],
            [
             1,
             "#f0f921"
            ]
           ],
           "sequentialminus": [
            [
             0,
             "#0d0887"
            ],
            [
             0.1111111111111111,
             "#46039f"
            ],
            [
             0.2222222222222222,
             "#7201a8"
            ],
            [
             0.3333333333333333,
             "#9c179e"
            ],
            [
             0.4444444444444444,
             "#bd3786"
            ],
            [
             0.5555555555555556,
             "#d8576b"
            ],
            [
             0.6666666666666666,
             "#ed7953"
            ],
            [
             0.7777777777777778,
             "#fb9f3a"
            ],
            [
             0.8888888888888888,
             "#fdca26"
            ],
            [
             1,
             "#f0f921"
            ]
           ]
          },
          "colorway": [
           "#636efa",
           "#EF553B",
           "#00cc96",
           "#ab63fa",
           "#FFA15A",
           "#19d3f3",
           "#FF6692",
           "#B6E880",
           "#FF97FF",
           "#FECB52"
          ],
          "font": {
           "color": "#2a3f5f"
          },
          "geo": {
           "bgcolor": "white",
           "lakecolor": "white",
           "landcolor": "#E5ECF6",
           "showlakes": true,
           "showland": true,
           "subunitcolor": "white"
          },
          "hoverlabel": {
           "align": "left"
          },
          "hovermode": "closest",
          "mapbox": {
           "style": "light"
          },
          "paper_bgcolor": "white",
          "plot_bgcolor": "#E5ECF6",
          "polar": {
           "angularaxis": {
            "gridcolor": "white",
            "linecolor": "white",
            "ticks": ""
           },
           "bgcolor": "#E5ECF6",
           "radialaxis": {
            "gridcolor": "white",
            "linecolor": "white",
            "ticks": ""
           }
          },
          "scene": {
           "xaxis": {
            "backgroundcolor": "#E5ECF6",
            "gridcolor": "white",
            "gridwidth": 2,
            "linecolor": "white",
            "showbackground": true,
            "ticks": "",
            "zerolinecolor": "white"
           },
           "yaxis": {
            "backgroundcolor": "#E5ECF6",
            "gridcolor": "white",
            "gridwidth": 2,
            "linecolor": "white",
            "showbackground": true,
            "ticks": "",
            "zerolinecolor": "white"
           },
           "zaxis": {
            "backgroundcolor": "#E5ECF6",
            "gridcolor": "white",
            "gridwidth": 2,
            "linecolor": "white",
            "showbackground": true,
            "ticks": "",
            "zerolinecolor": "white"
           }
          },
          "shapedefaults": {
           "line": {
            "color": "#2a3f5f"
           }
          },
          "ternary": {
           "aaxis": {
            "gridcolor": "white",
            "linecolor": "white",
            "ticks": ""
           },
           "baxis": {
            "gridcolor": "white",
            "linecolor": "white",
            "ticks": ""
           },
           "bgcolor": "#E5ECF6",
           "caxis": {
            "gridcolor": "white",
            "linecolor": "white",
            "ticks": ""
           }
          },
          "title": {
           "x": 0.05
          },
          "xaxis": {
           "automargin": true,
           "gridcolor": "white",
           "linecolor": "white",
           "ticks": "",
           "title": {
            "standoff": 15
           },
           "zerolinecolor": "white",
           "zerolinewidth": 2
          },
          "yaxis": {
           "automargin": true,
           "gridcolor": "white",
           "linecolor": "white",
           "ticks": "",
           "title": {
            "standoff": 15
           },
           "zerolinecolor": "white",
           "zerolinewidth": 2
          }
         }
        }
       }
      },
      "text/html": [
       "<div>                            <div id=\"3cd55a16-5947-47b5-a5d1-a813b3172b4a\" class=\"plotly-graph-div\" style=\"height:525px; width:100%;\"></div>            <script type=\"text/javascript\">                require([\"plotly\"], function(Plotly) {                    window.PLOTLYENV=window.PLOTLYENV || {};                                    if (document.getElementById(\"3cd55a16-5947-47b5-a5d1-a813b3172b4a\")) {                    Plotly.newPlot(                        \"3cd55a16-5947-47b5-a5d1-a813b3172b4a\",                        [{\"hovertemplate\":\"name=Ligand<br>X=%{x}<br>Y=%{y}<br>Z=%{z}<extra></extra>\",\"legendgroup\":\"Ligand\",\"marker\":{\"color\":\"#636efa\",\"symbol\":\"circle\"},\"mode\":\"markers\",\"name\":\"Ligand\",\"scene\":\"scene\",\"showlegend\":true,\"type\":\"scatter3d\",\"x\":[-0.5408415586349014,0.5637934845802703,1.3894950928490182,1.1014745537020134,3.1456155389229998e-15,-0.8152960731236089,0.867990408631378,1.9243702118353276e-15,-1.1775704171742276,2.271540153828451,1.7429478531833305,-0.1848415072806797,-1.6995842496550722,1.9502240735819572,0.411501962883785,-1.2822417643607522,-4.671590079812069,-3.314076126385615,-2.462107419094557,-2.9734935066611943,-4.330413526262061,-5.168029908448551,-2.7675464908817897,-2.6491854111709605,-5.325960092903197,-1.3796275466157917,-2.315081285459824,-4.6849967891082125,-6.25262835071422,-1.7891526028487328,-3.5039424659684606,-3.869946844827605,1.0397422671527712,1.5120869960131176,1.5806945757462194,1.1823873786241166,0.7056462114222513,0.6442180337451857,1.9440121239407144,0.4316880218045852,0.9913516470192338,1.9552505642013664,1.2295890330172283,0.40394279256070154,0.2698349401039515,2.75334527477167,2.2437058783466806,-0.5998961905094509,3.780375807343516,4.4635091671216705,5.839677916364223,6.498754923420292,5.835067413651436,4.457022653545328,3.73321568933679,3.5696765151174112,2.7053709264637686,6.393085277323684,7.586395533123063,6.39830315141744,3.898799889853362,4.275138994101057,2.718283455302127,3.1824019891770146,-9.23672280659001,-8.067404984268713,-8.146365476203735,-9.373063178485182,-10.558295806072573,-10.459167057776646,-6.734165955822045,-6.459171403988059,-9.16062206224297,-7.221397710361105,-9.454777858346365,-11.500009893531837,-11.382743034193977,-5.928445659300854,-6.811088397870137,-7.711785158013772,9.007409262431173,8.43633883645696,8.534747238429942,9.191730162177379,9.771783711542728,9.662948462036832,7.721719066369662,5.97801265231186,8.923112900889794,8.083556116159588,9.279392206137132,10.27857051483472,10.113231417989452,7.8086329851175655,8.116599618196902,6.055949569090915,-3.9691325448998693,-3.2759129715072746,-2.5282930563372457,-2.4871111509771504,-3.1737119404984417,-3.9170022661824344,-3.328487115253731,-1.9415585419355965,-4.5492746164264,-1.9726541237321833,-1.9013673418811183,-3.1101267174677405,-4.474967297200624,-3.2313858995391485,-4.266412587542535,-2.00896906179818,-4.104648309168939,-3.8212780010140017,-4.556130662565132,-5.545689224394414,-5.847379554366413,-5.10076777270966,-2.7387344518503793,-3.5772086233940437,-3.5228966258874435,-4.338533934251178,-6.1368408395277205,-6.635851850577267,-5.315189273287774,-2.2597145332330744,-2.002744674316384,-4.421188015424008,10.351085999356762,9.434160072237361,9.90358006981777,11.259662150440217,12.19730319442256,11.708154559318604,7.956296943562604,7.461854966582177,9.970670480108371,9.181994235340326,11.649034479059562,13.254755599191586,12.427037369000733,7.400512251349166,7.78508822695744,8.478924396019925,-10.77763805020349,-10.038336245242082,-10.352546328479981,-11.383763423687569,-12.138469374866544,-11.8089680252876,-8.914968146037989,-7.425862631091345,-10.52148669725359,-9.770152237631482,-11.64638560063907,-12.940776838873658,-12.38944287788619,-8.794248895624996,-9.096471195164597,-7.850624330127962,5.912289342631762,5.147526283087794,4.589998671358115,4.803066842913678,5.56592888491356,6.11611372791254,4.9219484888590825,3.4050276058175535,6.341958533822082,3.9794631980450044,4.370210431179726,5.7049881632877515,6.728157377227149,4.806048747582546,5.755932775057504,3.5695786554715223,2.7811117834146444,2.1853431063081663,2.4428441589932577,3.278002695003202,3.886269852624494,3.6164084869458915,1.275505232250048,2.3774748843289304,2.5713506145680336,1.9735655909302054,3.493092425220413,4.536137033242969,4.08411133901112,0.48945059991301587,0.8442785109986546,3.5121115763983877,-8.574618758197836,-8.434022840132343,-9.572155943385827,-10.811338614833668,-10.976657041115638,-9.825260306704653,-7.076126020549776,-6.715109196938801,-7.677137148568125,-9.471277259496945,-11.722122639597517,-11.97340535985385,-9.921505617600369,-7.056904587303853,-6.333292026147456,-7.114818867841835,10.729356818790627,9.715064307034353,9.81592189639265,10.911294654761392,11.94004685683285,11.82138260394846,8.524245111694533,7.304475138457033,10.637854650838023,9.013877920655178,11.008000744176675,12.78226230920534,12.622096345936853,8.118320346801477,8.811864022507702,8.064239938619622,-5.869565631230785,-6.105511389229298,-6.62183584868867,-6.889146088288811,-6.660746809234718,-6.1433780530028255,-5.809767254340116,-4.074796360097157,-5.465963713423479,-6.813347005777597,-7.297523341946848,-6.887413198331512,-5.950050183650102,-6.498360705879961,-5.847685526638665,-3.377449507979469,0.2099322263521014,-0.5836605624891839,-1.7802933339962466,-2.157045900075425,-1.3779174322016812,-0.18296749347521402,-0.16189705513371166,-0.8429584696817101,1.1422966147236528,-2.419503655836368,-3.099612491589706,-1.7174772861793595,0.46024988516128873,-0.538139221998653,0.9373997046084085,-0.5634786516081547,6.861386441205764,5.51622632789484,5.0794857847551595,5.980352012533153,7.333158222485508,7.751764219016788,4.542300401676272,4.486152572497145,7.189088310124797,4.010589386474647,5.653208764992455,8.003490545591122,8.821146584688218,3.5471333630706363,4.955676000828803,5.847426860310748,-6.128268178385068,-6.667531056459738,-7.911989595368379,-8.585203443596816,-8.064487082609862,-6.817027976631631,-5.923268392513927,-4.93355228046039,-5.155199303248495,-8.350293249430322,-9.569992605607617,-8.632892175359252,-6.374301676181491,-6.6056711420827545,-5.2199753709581715,-4.38281159495628,4.749550488101007,3.4641800297303478,2.524807223877981,2.8806801466202865,4.1628072119229005,5.089863906877383,3.087484408296345,2.546650122087216,5.473567695924185,1.4986379993332135,2.151337702772606,4.394688838861301,6.118566586514948,2.2917670873552574,3.9897501180600656,3.512680324384679,1.0484631927908783,-0.1562645302502826,-1.2875385715510608,-1.1966180780501572,8.578951469789999e-16,1.1221404957437577,-0.24316930700307396,5.248282395914529e-16,1.924496615804095,-2.251622642613481,-2.0804296379431086,0.020963729466404037,2.0895880782784824,-1.2088210446860301,0.6006860407177267,1.082744576591892],\"y\":[11.180828951125484,10.512860125864888,11.169000271630203,12.460777527172125,13.150186732656328,12.476656520049882,9.10289127500657,8.044793559565203,10.656410452783785,10.646210083226915,12.995218596713805,14.16647760229543,12.996237590528525,8.901110164192183,8.920158211393629,8.646621778024894,9.968109883565164,9.76272054266789,10.564380973964884,11.54185018526595,11.765956550271449,10.953186383829156,8.692625056591226,7.197973184874127,9.334666193156531,10.409123521352978,12.185059020696261,12.54808365932682,11.105088475211986,8.96953416219181,8.48492077975305,7.17354828682173,8.001538688294842,8.121970508076169,9.379920619994147,10.478210551818849,10.381726367886575,9.113694555435137,6.915854557438733,6.351152810183054,7.012862077259671,9.486781452922102,11.480467665415404,11.275851815910153,9.001968358652862,7.153306537796915,6.120430870076488,6.424218150157719,8.380616010666603,7.8821662294346435,7.942755570029289,8.49171681456199,8.997496185501697,8.928048548713328,7.285273894352837,5.50433243549198,8.326951786068912,7.548708056666485,8.548027976191388,9.420032091303684,9.32140491420681,7.439073191108793,7.713247542699175,5.475262325587859,5.819208227998815,6.396647066352612,7.588708232094388,8.173684629705036,7.613266003116822,6.419340969051709,5.74877582566401,4.657512060800907,4.8878337892669,8.056753658416268,9.116035101104584,8.11192834535275,5.947116128071108,6.491453534641133,5.107356014644564,4.011929388004654,4.099848651484889,4.690263193214094,6.057449599188476,6.799050728802558,6.229035820731945,4.858520767920867,3.870427081673058,3.810691686109833,3.0308093275589902,6.537374125017486,7.881003854210342,6.85500829457086,4.373730161440474,4.31115944165799,2.84151874308382,3.561014189481538,3.570037509320946,4.367769755317082,5.408946760193743,5.63126445067419,4.844805638347068,3.806870262073499,4.1153922365464055,2.9638713114187585,2.7600472665592037,6.0500052053260465,6.449647061243364,5.059586486905567,3.162433590232713,5.0458560235018215,3.5879305626683062,2.0001995570370443,2.116349379600426,3.091096574859556,4.255931308747178,4.423718137878017,3.460575455962191,2.3007337234548713,2.896651041167786,2.1170509367276846,1.2111487569682673,5.038257290454648,5.337989104611456,3.638949646928152,1.5147016529555932,3.8478136883346483,2.174942911621142,1.1207138041929197,0.5276793194252869,1.5552356914521808,2.8494006986535263,3.090330761150054,2.0763452735773154,0.7868090602419804,1.2799828723451887,1.270230562036611,-0.4786712826153332,3.6747197669721485,4.107007842175369,2.316210549253918,-0.042683293769706365,2.038520121670599,0.267638298398428,0.5201771470842247,-0.27467578206211773,0.8823815245971636,1.948671943394856,1.8417920135335062,0.6921150911924391,-0.36520951728140383,0.987304293164328,0.4234101873455374,-1.1001361279021191,2.8744216373052973,2.674486865086286,0.6561577926812312,-1.2941078543508684,2.013944195515683,0.2741976524278202,-0.7364805032018036,-1.039188438921612,0.06316265210487465,0.7902246660360788,0.40904093318093054,-0.6921150911924379,-1.4078622968703307,0.4695851908902094,-0.42341018734553665,-1.5983080029180323,1.6695580540809591,0.9718090576336715,-0.9524539519538022,-2.2890503121832926,1.559356150394938,0.09234606723582733,-1.743280780284265,-3.051286889851207,-1.850311922308006,-0.7579101850995555,-0.8827397951649358,-2.0763452735773136,-3.159301429009043,-1.7261735244330745,-1.27023056203661,-3.8967577925402996,0.20284884104176698,-0.029890754693797372,-2.1249258216671922,-4.123277230814743,-0.9718202323602247,-2.7155155100310027,-2.120976148158554,-3.654069361530671,-2.3518910367155437,-1.6019607759973575,-2.157606948809394,-3.4605754559621893,-4.196092766594886,-1.7562144429464137,-2.1170509367276837,-4.228795401822498,-0.5642232853110047,-1.579770698867629,-3.853388828682635,-5.235593527627898,-0.6745610538734074,-2.294509120298481,-3.4726234261112428,-2.935496030138031,-3.127159957158317,-4.1838855477239765,-5.01746176960043,-4.844805638347067,-3.7811150317759643,-2.2106693906034627,-2.9638713114187576,-2.1060705259150976,-4.345297651819809,-5.857963912675734,-5.527787813389134,-3.6156930244551635,-2.1114907140947223,-1.2310575196500904,-3.344750081434194,-6.373025346479132,-5.031365562337994,-4.286556575314598,-4.885998165152183,-6.229035820731942,-6.958725922767103,-4.388072404797276,-3.8106916861098306,-6.943233780394233,-3.217607973800748,-4.312869949379511,-6.655582262220714,-8.029385963056049,-3.557084208765578,-5.158909751310177,-4.890160838522286,-6.567445304974266,-5.447501576143203,-5.412460768904081,-6.480316431431346,-7.613266003116821,-7.630053818549363,-4.287983288309942,-4.657512060800906,-6.581672187302524,-4.525537509621185,-6.470245485501884,-8.42857479245329,-8.516078810410702,-3.328938195261707,-4.285519757162306,-6.039230971594836,-7.963524865341798,-7.884009129480024,-8.364403612414371,-8.907297059067595,-8.997496185501696,-8.511165991140587,-7.289309025758106,-5.504332435491979,-7.584438805913101,-8.305850479015985,-9.292032889302337,-9.433418101296061,-8.56775335985447,-7.754335708518841,-7.384232610823782,-5.134882538113722,-9.425629732639234,-8.15859842636425,-8.00469993389089,-9.102289296225777,-10.381726367886571,-10.516070251428339,-6.9680364607178,-6.351152810183053,-9.531635616912272,-7.000243448483987,-8.99967625366843,-11.21468898214346,-11.519968217337532,-6.194737329386739,-7.307876521059691,-7.522104555522924,-9.440382062127705,-9.042933222963,-10.01387403156387,-11.344018682368617,-11.765956550271447,-10.77909406886087,-7.587987349448657,-7.197973184874126,-8.67142932990031,-9.708126250438788,-12.125441723557897,-12.825103879199448,-11.080633085107877,-7.385729587411134,-6.990560616723936,-7.824471478167867,-11.180828951125484,-10.512860125864886,-11.169000271630203,-12.460777527172123,-13.150186732656326,-12.476656520049882,-9.10289127500657,-8.0447935595652,-10.656410452783781,-10.646210083226915,-12.995218596713805,-14.166477602295426,-12.996237590528523,-8.901110164192183,-8.920158211393627,-8.646621778024892],\"z\":[-1.2795871645076538,-0.7960533242443655,0.09009410929602793,0.4715477149455281,1.1438601959719999e-15,-0.8866289438039683,-1.21967377654067,6.997709861219373e-16,-1.97126510529932,0.4810037899289275,1.1712232096610593,0.32981518487390443,-1.2806059978750974,-1.2340258733014455,-2.2062702486547567,0.15655289715393886,2.398712240519294,2.275517314499467,3.002875675585852,3.827611616703195,3.9670135180537778,3.230627090307049,1.37207765143889,2.4268708459853605,1.824773435831752,2.9120137023060972,4.4102236571407305,4.629085618122244,3.3184903975293634,0.9499188519210736,0.5785251492780877,3.161714300650599,-7.863529969108151,-6.574114388776979,-6.016965551677354,-6.746528273136023,-8.040474622207604,-8.581569271722646,-5.787522236464687,-4.9188623531825,-8.286653687602707,-4.991094203505565,-6.322365885914591,-8.574615334888163,-9.608459014214908,-5.0798869399274835,-6.489398638389909,-5.899344594434964,6.5126663490812735,5.424051388111698,5.43103824486199,6.508725682359558,7.610812162559001,7.585688806413468,4.253413445269396,4.656010892709754,6.494188482304963,4.569301452593058,6.531704060610923,8.435445707056365,8.446389743388385,3.3074661882904297,4.209861303359692,6.027150319128689,-2.7857775092164117,-2.3391612049224872,-1.6533655147956912,-1.429386668417645,-1.8676138629241257,-2.5525795718682383,-2.5896382799449444,-1.1425364735616756,-3.320199726254769,-1.2935161572129208,-0.8890540404800389,-1.666860241249317,-2.914738518234685,-2.696389997858874,-3.482839957265092,-0.9303296116945448,-5.3850355942585715,-4.278014753266365,-4.1413493644778,-5.098194370018582,-6.216008923947659,-6.335612003417393,-3.240137327454312,-3.8027223167402635,-5.479406256058188,-3.2637261709638112,-5.006794976503888,-6.942037276496012,-7.2127501422157145,-2.2349745234741425,-3.2638576351364836,-5.203592382482636,9.921774436082657,9.036745740693565,9.541300215165823,10.899987102325372,11.806050226435111,11.281959428424084,7.555684039066964,7.222500999903531,9.514088579137344,8.845288077628311,11.316898533554333,12.867001534084823,11.975158092037395,6.975201653471485,7.316465178088309,8.270185364600916,-10.276853433758147,-9.344236106721272,-9.370917922493838,-10.314195503510973,-11.258773510667146,-11.216352747341222,-8.319398258479827,-6.887697526172115,-10.244703997323652,-8.632852091233522,-10.350381356814616,-11.981466845909853,-11.953458568322231,-8.040147759612452,-8.710041440345494,-7.458539939254546,4.417845867299635,4.477684411582754,4.526079770450138,4.514027477346032,4.45443556378952,4.406566101623017,4.490281041049338,2.7250574659964144,4.380439010107211,4.573889477128254,4.551683171326071,4.447319956170165,4.358629396820552,5.062885548717881,4.8915187653292875,2.0663924473153905,3.272286694499675,3.1503968459234217,3.963942835480635,4.870760978943488,5.010583702494267,4.187203443393591,2.15689921486264,3.065288145254028,2.630524685414379,3.8749030900241976,5.5221517411104655,5.739144871224289,4.272905321890303,1.7779682470136053,1.3361183461031232,3.775978683692368,-9.534448649757342,-9.217959408599874,-10.24660128058937,-11.552913677470583,-11.894066733138793,-10.850292766116297,-7.788295953336785,-7.276346214474273,-8.72104439984475,-10.005473352722607,-12.379102768167426,-12.937463956335467,-11.087058980112504,-7.682854923811009,-7.174043133738069,-7.787926634707482,10.483122364134625,10.162303543595408,10.960997454404037,12.049151372905277,12.390040679562178,11.578349650375571,8.972014957705813,7.579764568222092,9.850638388663507,10.71433337443668,12.691837898972436,13.256703329386946,11.821562895884005,9.130824688628158,8.747534172696694,7.720055270395646,-6.329650795275338,-5.8998016320753175,-5.700257265854424,-5.930115482134979,-6.361197121536866,-6.55551995571434,-5.652237822927532,-3.891543038501573,-6.481550477514946,-5.358134713744349,-5.777672780919317,-6.528475374766464,-6.898044400141322,-5.856707349571804,-6.263451508573654,-3.7084983406114445,-1.7901268808551014,-2.7037359573057884,-3.5816420363741828,-3.53203997276004,-2.6249858070105536,-1.7538126860321837,-2.7484226669943816,-1.6058683685264181,-1.110025814334793,-4.3129388589681685,-4.218236102464625,-2.624759845041119,-1.0198909940428131,-3.7670197317298797,-2.332752585251339,-0.4619545748347495,7.202328524252003,6.991414968974889,8.028829513005345,9.239765588257402,9.474226923134061,8.42334945967679,5.665250749605151,5.795978512138749,6.383289692259337,7.87136264940059,10.071278135153527,10.44503692102556,8.576514077482749,5.447422878413905,4.878156306559572,6.41185485788043,-9.152342845630043,-9.02528996431736,-9.706760772742863,-10.490911874336277,-10.633293723938541,-9.94316740845273,-8.166433107419754,-6.505052331680944,-8.614429267447342,-9.6124170093161,-11.036922721549923,-11.262390103117728,-10.03470485819183,-8.554795884070863,-8.084663691002927,-6.296260954328702,4.0551740728316155,4.345738045489052,5.560661561393263,6.449963482789471,6.180393513329559,4.958626972677807,3.3670643033926138,3.780934137470517,3.1024086142158285,5.8018160127593,7.415166407146746,6.91279929609551,4.712929571835525,3.4415227113041382,2.3495890951197276,3.984131192265612,-0.736628953018639,-0.6731220860789056,-0.1028602955786557,0.38625305366843943,0.333491859687437,-0.2411898069788296,-1.2103720368550324,0.20401787590730106,-1.184687533136788,-0.04735781940480452,0.8404797795982539,0.7320900339003791,-0.29889842003403255,-1.5957111677239495,-1.9882109222575195,0.8010159193116421,-3.906628420963797,-4.206733585686763,-4.47583020136837,-4.440889781174572,-4.14254917619786,-3.8758473853159234,-4.241878009606346,-2.5342570117349856,-3.6983796446084285,-4.715868669193328,-4.650886635833193,-4.127402644842928,-3.635030015354953,-4.975415362278445,-4.4519816993331665,-1.6945335494202851,-0.911360431707528,-0.9628838896156301,-0.5301490246615482,-0.0608984006927694,5.719300979859999e-16,-0.4377433936151166,-1.4771188709067014,3.4988549306096863e-16,-1.2525457989763171,-0.5669698331051177,0.28538315881113807,0.37749829275648594,-0.4026909566723903,-1.9659464578365722,-2.1624381045577223,0.7044976463687566]},{\"hovertemplate\":\"name=Core<br>X=%{x}<br>Y=%{y}<br>Z=%{z}<extra></extra>\",\"legendgroup\":\"Core\",\"marker\":{\"color\":\"#EF553B\",\"symbol\":\"circle\"},\"mode\":\"markers\",\"name\":\"Core\",\"scene\":\"scene\",\"showlegend\":true,\"type\":\"scatter3d\",\"x\":[1.2212453270876722e-15,-1.6812281150911002,0.27395818961766605,2.265390898534025,-4.099124402084514,3.793771059230868,-1.2321533985628454,-2.270170930972369,4.735448227840382,-4.712606743775199,2.1609012790960063,1.5087949682955637,-4.261547844176837,4.635571718375819,-2.585950449137561,-0.534958962519971,2.8470056499883625,-3.1309348021494725,1.6161570898356845,3.3306690738754696e-16],\"y\":[5.105393173091126,4.567983365397322,4.03057355770352,3.4931637500097175,2.955753942315915,2.4183441346221124,1.8809343269283092,1.3435245192345067,0.8061147115407041,0.26870490384690165,-0.26870490384690116,-0.8061147115407035,-1.343524519234506,-1.8809343269283088,-2.418344134622111,-2.9557539423159147,-3.4931637500097166,-4.030573557703519,-4.567983365397321,-5.105393173091125],\"z\":[4.440892098500626e-16,1.5401426720684173,-3.121612269025105,2.9548012698492463,-0.72507738936245,-2.4132866072073953,4.58354922653158,-4.371075984495031,1.7293780977931055,1.9452955572402386,-4.61772051866452,4.8102761113400865,-2.4696540830352927,-1.0191174384841355,3.678248410995313,-4.128241392257597,2.399459375859042,0.12947398378013597,-1.6082921644628745,2.220446049250313e-16]}],                        {\"legend\":{\"title\":{\"text\":\"name\"},\"tracegroupgap\":0},\"margin\":{\"t\":60},\"scene\":{\"domain\":{\"x\":[0.0,1.0],\"y\":[0.0,1.0]},\"xaxis\":{\"title\":{\"text\":\"X\"}},\"yaxis\":{\"title\":{\"text\":\"Y\"}},\"zaxis\":{\"title\":{\"text\":\"Z\"}}},\"template\":{\"data\":{\"bar\":[{\"error_x\":{\"color\":\"#2a3f5f\"},\"error_y\":{\"color\":\"#2a3f5f\"},\"marker\":{\"line\":{\"color\":\"#E5ECF6\",\"width\":0.5},\"pattern\":{\"fillmode\":\"overlay\",\"size\":10,\"solidity\":0.2}},\"type\":\"bar\"}],\"barpolar\":[{\"marker\":{\"line\":{\"color\":\"#E5ECF6\",\"width\":0.5},\"pattern\":{\"fillmode\":\"overlay\",\"size\":10,\"solidity\":0.2}},\"type\":\"barpolar\"}],\"carpet\":[{\"aaxis\":{\"endlinecolor\":\"#2a3f5f\",\"gridcolor\":\"white\",\"linecolor\":\"white\",\"minorgridcolor\":\"white\",\"startlinecolor\":\"#2a3f5f\"},\"baxis\":{\"endlinecolor\":\"#2a3f5f\",\"gridcolor\":\"white\",\"linecolor\":\"white\",\"minorgridcolor\":\"white\",\"startlinecolor\":\"#2a3f5f\"},\"type\":\"carpet\"}],\"choropleth\":[{\"colorbar\":{\"outlinewidth\":0,\"ticks\":\"\"},\"type\":\"choropleth\"}],\"contour\":[{\"colorbar\":{\"outlinewidth\":0,\"ticks\":\"\"},\"colorscale\":[[0.0,\"#0d0887\"],[0.1111111111111111,\"#46039f\"],[0.2222222222222222,\"#7201a8\"],[0.3333333333333333,\"#9c179e\"],[0.4444444444444444,\"#bd3786\"],[0.5555555555555556,\"#d8576b\"],[0.6666666666666666,\"#ed7953\"],[0.7777777777777778,\"#fb9f3a\"],[0.8888888888888888,\"#fdca26\"],[1.0,\"#f0f921\"]],\"type\":\"contour\"}],\"contourcarpet\":[{\"colorbar\":{\"outlinewidth\":0,\"ticks\":\"\"},\"type\":\"contourcarpet\"}],\"heatmap\":[{\"colorbar\":{\"outlinewidth\":0,\"ticks\":\"\"},\"colorscale\":[[0.0,\"#0d0887\"],[0.1111111111111111,\"#46039f\"],[0.2222222222222222,\"#7201a8\"],[0.3333333333333333,\"#9c179e\"],[0.4444444444444444,\"#bd3786\"],[0.5555555555555556,\"#d8576b\"],[0.6666666666666666,\"#ed7953\"],[0.7777777777777778,\"#fb9f3a\"],[0.8888888888888888,\"#fdca26\"],[1.0,\"#f0f921\"]],\"type\":\"heatmap\"}],\"heatmapgl\":[{\"colorbar\":{\"outlinewidth\":0,\"ticks\":\"\"},\"colorscale\":[[0.0,\"#0d0887\"],[0.1111111111111111,\"#46039f\"],[0.2222222222222222,\"#7201a8\"],[0.3333333333333333,\"#9c179e\"],[0.4444444444444444,\"#bd3786\"],[0.5555555555555556,\"#d8576b\"],[0.6666666666666666,\"#ed7953\"],[0.7777777777777778,\"#fb9f3a\"],[0.8888888888888888,\"#fdca26\"],[1.0,\"#f0f921\"]],\"type\":\"heatmapgl\"}],\"histogram\":[{\"marker\":{\"pattern\":{\"fillmode\":\"overlay\",\"size\":10,\"solidity\":0.2}},\"type\":\"histogram\"}],\"histogram2d\":[{\"colorbar\":{\"outlinewidth\":0,\"ticks\":\"\"},\"colorscale\":[[0.0,\"#0d0887\"],[0.1111111111111111,\"#46039f\"],[0.2222222222222222,\"#7201a8\"],[0.3333333333333333,\"#9c179e\"],[0.4444444444444444,\"#bd3786\"],[0.5555555555555556,\"#d8576b\"],[0.6666666666666666,\"#ed7953\"],[0.7777777777777778,\"#fb9f3a\"],[0.8888888888888888,\"#fdca26\"],[1.0,\"#f0f921\"]],\"type\":\"histogram2d\"}],\"histogram2dcontour\":[{\"colorbar\":{\"outlinewidth\":0,\"ticks\":\"\"},\"colorscale\":[[0.0,\"#0d0887\"],[0.1111111111111111,\"#46039f\"],[0.2222222222222222,\"#7201a8\"],[0.3333333333333333,\"#9c179e\"],[0.4444444444444444,\"#bd3786\"],[0.5555555555555556,\"#d8576b\"],[0.6666666666666666,\"#ed7953\"],[0.7777777777777778,\"#fb9f3a\"],[0.8888888888888888,\"#fdca26\"],[1.0,\"#f0f921\"]],\"type\":\"histogram2dcontour\"}],\"mesh3d\":[{\"colorbar\":{\"outlinewidth\":0,\"ticks\":\"\"},\"type\":\"mesh3d\"}],\"parcoords\":[{\"line\":{\"colorbar\":{\"outlinewidth\":0,\"ticks\":\"\"}},\"type\":\"parcoords\"}],\"pie\":[{\"automargin\":true,\"type\":\"pie\"}],\"scatter\":[{\"marker\":{\"colorbar\":{\"outlinewidth\":0,\"ticks\":\"\"}},\"type\":\"scatter\"}],\"scatter3d\":[{\"line\":{\"colorbar\":{\"outlinewidth\":0,\"ticks\":\"\"}},\"marker\":{\"colorbar\":{\"outlinewidth\":0,\"ticks\":\"\"}},\"type\":\"scatter3d\"}],\"scattercarpet\":[{\"marker\":{\"colorbar\":{\"outlinewidth\":0,\"ticks\":\"\"}},\"type\":\"scattercarpet\"}],\"scattergeo\":[{\"marker\":{\"colorbar\":{\"outlinewidth\":0,\"ticks\":\"\"}},\"type\":\"scattergeo\"}],\"scattergl\":[{\"marker\":{\"colorbar\":{\"outlinewidth\":0,\"ticks\":\"\"}},\"type\":\"scattergl\"}],\"scattermapbox\":[{\"marker\":{\"colorbar\":{\"outlinewidth\":0,\"ticks\":\"\"}},\"type\":\"scattermapbox\"}],\"scatterpolar\":[{\"marker\":{\"colorbar\":{\"outlinewidth\":0,\"ticks\":\"\"}},\"type\":\"scatterpolar\"}],\"scatterpolargl\":[{\"marker\":{\"colorbar\":{\"outlinewidth\":0,\"ticks\":\"\"}},\"type\":\"scatterpolargl\"}],\"scatterternary\":[{\"marker\":{\"colorbar\":{\"outlinewidth\":0,\"ticks\":\"\"}},\"type\":\"scatterternary\"}],\"surface\":[{\"colorbar\":{\"outlinewidth\":0,\"ticks\":\"\"},\"colorscale\":[[0.0,\"#0d0887\"],[0.1111111111111111,\"#46039f\"],[0.2222222222222222,\"#7201a8\"],[0.3333333333333333,\"#9c179e\"],[0.4444444444444444,\"#bd3786\"],[0.5555555555555556,\"#d8576b\"],[0.6666666666666666,\"#ed7953\"],[0.7777777777777778,\"#fb9f3a\"],[0.8888888888888888,\"#fdca26\"],[1.0,\"#f0f921\"]],\"type\":\"surface\"}],\"table\":[{\"cells\":{\"fill\":{\"color\":\"#EBF0F8\"},\"line\":{\"color\":\"white\"}},\"header\":{\"fill\":{\"color\":\"#C8D4E3\"},\"line\":{\"color\":\"white\"}},\"type\":\"table\"}]},\"layout\":{\"annotationdefaults\":{\"arrowcolor\":\"#2a3f5f\",\"arrowhead\":0,\"arrowwidth\":1},\"autotypenumbers\":\"strict\",\"coloraxis\":{\"colorbar\":{\"outlinewidth\":0,\"ticks\":\"\"}},\"colorscale\":{\"diverging\":[[0,\"#8e0152\"],[0.1,\"#c51b7d\"],[0.2,\"#de77ae\"],[0.3,\"#f1b6da\"],[0.4,\"#fde0ef\"],[0.5,\"#f7f7f7\"],[0.6,\"#e6f5d0\"],[0.7,\"#b8e186\"],[0.8,\"#7fbc41\"],[0.9,\"#4d9221\"],[1,\"#276419\"]],\"sequential\":[[0.0,\"#0d0887\"],[0.1111111111111111,\"#46039f\"],[0.2222222222222222,\"#7201a8\"],[0.3333333333333333,\"#9c179e\"],[0.4444444444444444,\"#bd3786\"],[0.5555555555555556,\"#d8576b\"],[0.6666666666666666,\"#ed7953\"],[0.7777777777777778,\"#fb9f3a\"],[0.8888888888888888,\"#fdca26\"],[1.0,\"#f0f921\"]],\"sequentialminus\":[[0.0,\"#0d0887\"],[0.1111111111111111,\"#46039f\"],[0.2222222222222222,\"#7201a8\"],[0.3333333333333333,\"#9c179e\"],[0.4444444444444444,\"#bd3786\"],[0.5555555555555556,\"#d8576b\"],[0.6666666666666666,\"#ed7953\"],[0.7777777777777778,\"#fb9f3a\"],[0.8888888888888888,\"#fdca26\"],[1.0,\"#f0f921\"]]},\"colorway\":[\"#636efa\",\"#EF553B\",\"#00cc96\",\"#ab63fa\",\"#FFA15A\",\"#19d3f3\",\"#FF6692\",\"#B6E880\",\"#FF97FF\",\"#FECB52\"],\"font\":{\"color\":\"#2a3f5f\"},\"geo\":{\"bgcolor\":\"white\",\"lakecolor\":\"white\",\"landcolor\":\"#E5ECF6\",\"showlakes\":true,\"showland\":true,\"subunitcolor\":\"white\"},\"hoverlabel\":{\"align\":\"left\"},\"hovermode\":\"closest\",\"mapbox\":{\"style\":\"light\"},\"paper_bgcolor\":\"white\",\"plot_bgcolor\":\"#E5ECF6\",\"polar\":{\"angularaxis\":{\"gridcolor\":\"white\",\"linecolor\":\"white\",\"ticks\":\"\"},\"bgcolor\":\"#E5ECF6\",\"radialaxis\":{\"gridcolor\":\"white\",\"linecolor\":\"white\",\"ticks\":\"\"}},\"scene\":{\"xaxis\":{\"backgroundcolor\":\"#E5ECF6\",\"gridcolor\":\"white\",\"gridwidth\":2,\"linecolor\":\"white\",\"showbackground\":true,\"ticks\":\"\",\"zerolinecolor\":\"white\"},\"yaxis\":{\"backgroundcolor\":\"#E5ECF6\",\"gridcolor\":\"white\",\"gridwidth\":2,\"linecolor\":\"white\",\"showbackground\":true,\"ticks\":\"\",\"zerolinecolor\":\"white\"},\"zaxis\":{\"backgroundcolor\":\"#E5ECF6\",\"gridcolor\":\"white\",\"gridwidth\":2,\"linecolor\":\"white\",\"showbackground\":true,\"ticks\":\"\",\"zerolinecolor\":\"white\"}},\"shapedefaults\":{\"line\":{\"color\":\"#2a3f5f\"}},\"ternary\":{\"aaxis\":{\"gridcolor\":\"white\",\"linecolor\":\"white\",\"ticks\":\"\"},\"baxis\":{\"gridcolor\":\"white\",\"linecolor\":\"white\",\"ticks\":\"\"},\"bgcolor\":\"#E5ECF6\",\"caxis\":{\"gridcolor\":\"white\",\"linecolor\":\"white\",\"ticks\":\"\"}},\"title\":{\"x\":0.05},\"xaxis\":{\"automargin\":true,\"gridcolor\":\"white\",\"linecolor\":\"white\",\"ticks\":\"\",\"title\":{\"standoff\":15},\"zerolinecolor\":\"white\",\"zerolinewidth\":2},\"yaxis\":{\"automargin\":true,\"gridcolor\":\"white\",\"linecolor\":\"white\",\"ticks\":\"\",\"title\":{\"standoff\":15},\"zerolinecolor\":\"white\",\"zerolinewidth\":2}}}},                        {\"responsive\": true}                    ).then(function(){\n",
       "                            \n",
       "var gd = document.getElementById('3cd55a16-5947-47b5-a5d1-a813b3172b4a');\n",
       "var x = new MutationObserver(function (mutations, observer) {{\n",
       "        var display = window.getComputedStyle(gd).display;\n",
       "        if (!display || display === 'none') {{\n",
       "            console.log([gd, 'removed!']);\n",
       "            Plotly.purge(gd);\n",
       "            observer.disconnect();\n",
       "        }}\n",
       "}});\n",
       "\n",
       "// Listen for the removal of the full notebook cells\n",
       "var notebookContainer = gd.closest('#notebook-container');\n",
       "if (notebookContainer) {{\n",
       "    x.observe(notebookContainer, {childList: true});\n",
       "}}\n",
       "\n",
       "// Listen for the clearing of the current output cell\n",
       "var outputEl = gd.closest('.output');\n",
       "if (outputEl) {{\n",
       "    x.observe(outputEl, {childList: true});\n",
       "}}\n",
       "\n",
       "                        })                };                });            </script>        </div>"
      ]
     },
     "metadata": {},
     "output_type": "display_data"
    }
   ],
   "source": [
    "fig = px.scatter_3d(PandasNPDataframe, x='X', y='Y', z='Z', color='name')\n",
    "#fig = px.scatter_3d(dfCore, x='X', y='Y', z='Z')\n",
    "fig.show()"
   ]
  },
  {
   "cell_type": "code",
   "execution_count": 160,
   "metadata": {},
   "outputs": [
    {
     "data": {
      "text/plain": [
       "[[array([8.341482 , 0.3411786, 2.1183453], dtype=float32), 'CA'],\n",
       " [array([ 7.530648 , -0.7734424,  2.2166038], dtype=float32), 'C'],\n",
       " [array([ 8.132981 , -2.0034664,  2.0851696], dtype=float32), 'C'],\n",
       " [array([ 9.506717 , -2.1153975,  1.8618956], dtype=float32), 'C'],\n",
       " [array([10.304329 , -0.9941882,  1.7659419], dtype=float32), 'C'],\n",
       " [array([9.701149  , 0.23952538, 1.8976173 ], dtype=float32), 'C'],\n",
       " [array([ 6.073612  , -0.61546993,  2.454526  ], dtype=float32), 'C'],\n",
       " [array([ 5.1521645, -0.4970941,  0.8829709], dtype=float32), 'S'],\n",
       " [array([7.8604355, 1.308672 , 2.2228835], dtype=float32), 'H'],\n",
       " [array([ 7.4942517, -2.8868442,  2.1623955], dtype=float32), 'H'],\n",
       " [array([ 9.951553 , -3.084282 ,  1.7631137], dtype=float32), 'H'],\n",
       " [array([11.36311  , -1.095598 ,  1.5934123], dtype=float32), 'H'],\n",
       " [array([10.340675 ,  1.1082568,  1.8198144], dtype=float32), 'H'],\n",
       " [array([ 5.7155676, -1.4847912,  3.0473962], dtype=float32), 'H'],\n",
       " [array([5.870978  , 0.32852465, 3.0402884 ], dtype=float32), 'H'],\n",
       " [array([ 5.7831097 , -1.2059534 , -0.14265513], dtype=float32), 'H']]"
      ]
     },
     "execution_count": 160,
     "metadata": {},
     "output_type": "execute_result"
    }
   ],
   "source": [
    "# Through MDAnalysis \n",
    "# Through MDAnalysis \n",
    "u1 = mda.Universe.from_smiles(AromaticSulfurSmilesString)\n",
    "Molecule = u1.select_atoms('all')\n",
    "# Select sulfur \n",
    "SulferAtom = u1.select_atoms('name S7') # Pick out the sulfur atoms - the main beads attached to the surface \n",
    "LigandAtom = u1.select_atoms('name C4') # Pick out the last atom at the tip of the ligand \n",
    "TransformationList = [] \n",
    "# Find the vector representing the direction from the sulfur to the tip of the ligand. \n",
    "LigandAlignmentVector = (SulferAtom.positions- LigandAtom.positions)[0]  \n",
    " \n",
    "\n",
    "for i,j in enumerate(Molecule.positions):\n",
    "    vector = (j - SulferAtom.positions)[0]\n",
    "    vector[0] = LigandAlignmentVector[0] - vector[0]\n",
    "    vector[1] = LigandAlignmentVector[1] - vector[1]    \n",
    "    vector[2] = LigandAlignmentVector[2] - vector[2]\n",
    "    if vector[0] == -math.inf:\n",
    "        pass\n",
    "    if vector[0] == 0.0:\n",
    "        pass\n",
    "    else:\n",
    "        TransformationList.append([vector, Molecule.atoms[i].type])\n",
    "        \n",
    "TransformationList"
   ]
  },
  {
   "cell_type": "code",
   "execution_count": 44,
   "metadata": {},
   "outputs": [],
   "source": [
    "def GenerateCore(Radius, N):\n",
    "    \"\"\"\n",
    "    Creates a Fibanocci sphere that represents the NP core \n",
    "    and Allocates the radius. Using the radius, the core is scaled down/up \n",
    "    to the size that one wishes to have.  \n",
    "    \"\"\"\n",
    "    Sphere = fibonacci_sphere(N) # Create the fibanocci sphere representing the NP core \n",
    "    XSphere, YSphere, ZSphere  = [], [], []\n",
    "    for entry in Sphere:\n",
    "        XSphere.append(entry[0])\n",
    "        YSphere.append(entry[1])\n",
    "        ZSphere.append(entry[2])\n",
    "    # Append as 2d list    \n",
    "    SphereList = [] \n",
    "    for index in range(0, len(XSphere)):\n",
    "        SphereList.append([XSphere[index], YSphere[index], ZSphere[index]])\n",
    "    # Take the radius value, and then multiply the unit vector in each \n",
    "    # Direction by that radius value to increase the total volume of the \n",
    "    # NP core.\n",
    "    for index in range(0, len(SphereList) -1):\n",
    "        SphereList[index][0] = SphereList[index][0] * Radius\n",
    "        SphereList[index][1] = SphereList[index][1] * Radius\n",
    "        SphereList[index][2] = SphereList[index][2] * Radius\n",
    "        \n",
    "    return SphereList\n",
    "\n",
    "\n",
    "def AttachLigands(u, Core):\n",
    "    \"\"\"\n",
    "    Takes the MDAnalyisis ligand object and the core, and places the \n",
    "    \"\"\"\n",
    "    Allatoms = u.select_atoms('all')\n",
    "    # Select Sulfer Anchor \n",
    "    SulferAtom = u.select_atoms('name S7')\n",
    "    LigandAtom = u.select_atoms('name C4')\n",
    "    TransformationList = [] \n",
    "    AlignmentVector = (SulferAtom.positions- LigandAtom.positions)[0]\n",
    "    # Need explanation \n",
    "    for i in Allatoms.positions:\n",
    "        vector = (i - SulferAtom.positions)[0]\n",
    "        vector[0] = AlignmentVector[0] - vector[0]\n",
    "        vector[1] = AlignmentVector[1] - vector[1]    \n",
    "        vector[2] = AlignmentVector[2] - vector[2]\n",
    "        if vector[0] == -math.inf:\n",
    "            pass\n",
    "        if vector[0] == 0.0:\n",
    "            pass\n",
    "        else:\n",
    "            TransformationList.append(vector) \n",
    "            \n",
    "    LigandList = [] \n",
    "    Sphere = []\n",
    "    # Sulfur/ligand vector \n",
    "    unitVector = np.linalg.norm(AlignmentVector)\n",
    "    vec1 = AlignmentVector.tolist()\n",
    "    \n",
    "    for index in range(0, len(Core)):\n",
    "        vec2 = Core[index] \n",
    "        transformationVector = rotation_matrix_from_vectors(vec1, vec2)  # Find the rotation matrix that aligns vec1 to vec2\n",
    "        vec1_rot = transformationVector.dot(vec1)\n",
    "        unitVectorabs = np.linalg.norm(AlignmentVector)  \n",
    "        vecMultiplier = vec1_rot/unitVectorabs * 5\n",
    "        #print(np.linalg.norm(vec1_rot))\n",
    "        Sphere.append(vec1_rot.tolist())\n",
    "        LigandList.append(vec1_rot.tolist())\n",
    "        # Get the factors to translate the vector \n",
    "        for trans in TransformationList:\n",
    "            #if vec1_rot[0] > 0 and vec1_rot[1] > 0 and vec1_rot[2] > 0:   # (+ , +, +)\n",
    "            Ans = transformationVector.dot(trans)\n",
    "            Ans[0] = Ans[0] + vecMultiplier[0]\n",
    "            Ans[1] = Ans[1] + vecMultiplier[1]\n",
    "            Ans[2] = Ans[2] + vecMultiplier[2]\n",
    "            LigandList.append(Ans.tolist())\n",
    "    \n",
    "\"\"\"\n",
    "Create a function that can write the coordinates as a complete xyz structure \n",
    "\"\"\" \n",
    "\n",
    "def GenerateXYZ(NPDataframe):\n",
    "    \"\"\"\n",
    "    Generate xyz structure coordinates from \n",
    "    the made NP. \n",
    "    ----------------------------------------\n",
    "    \n",
    "    Need the dictionary of the named atoms to recreate the NP in xyz \n",
    "    \n",
    "    \"\"\"\n",
    "    dfLigand = pd.DataFrame(list(zip(Xplot, \n",
    "                                     Yplot, \n",
    "                                     Zplot, \n",
    "                                     Ligands)), columns =['X', 'Y', 'Z', 'NAME'])\n",
    "    dfLigand['name'] = 'Ligand'\n",
    "\n",
    "    dfCore = pd.DataFrame(list(zip(XplotSphere, \n",
    "                                   YplotSphere, \n",
    "                                   ZplotSphere, \n",
    "                                   SphereName)), columns =['X', 'Y', 'Z', 'NAME'])\n",
    "    dfCore['name'] = 'Core'\n",
    "\n",
    "    Total = dfLigand.append(dfCore)\n",
    "    \n",
    "    with open(\"file.xyz\", 'w') as xyz_file:\n",
    "        xyz_file.write(\"%d\\n%s\\n\" % (len(Total), 'NP'))\n",
    "        for index, row in Total.iterrows():\n",
    "            xyz_file.write(\"{:4} {:11.6f} {:11.6f} {:11.6f}\\n\".format(\n",
    "                row['NAME'], row['X'], row['Y'], row['Z']))\n",
    "\n",
    "def ComputeC70Distances(coordinate):\n",
    "    \"\"\"    \n",
    "    Parameters\n",
    "    ----------\n",
    "    coordinate: \n",
    "        path and file where the pdb file is.\n",
    "    \n",
    "    \"\"\"\n",
    "    u = mda.Universe(coordinate)\n",
    "    CorePositions, CoreIndex = [], []\n",
    "    C70CGBeadPositions = []\n",
    "    DistanceDict = {}\n",
    "    CorePositions = [[index, atoms.position] for index, atoms in enumerate(u.atoms)]\n",
    "    for index, atoms in enumerate(u.atoms): # iterate through items \n",
    "        DistanceDict[index] = []\n",
    "        # Get the distance between atoms in the core positions  \n",
    "        for items in CorePositions:\n",
    "            # Find the distance between the index atoms in the index, atom.. \n",
    "            # and the core \n",
    "            dist = distance.euclidean(items[1], atoms.position)\n",
    "            Entry = [index, items[0], dist]\n",
    "            # Sort entry by dist \n",
    "            DistanceDict[index].append(Entry)\n",
    "    ClosestAtomsDistance = [] # List to store the atoms with the closest distances\n",
    "    # Sort each entry by distance \n",
    "    for key in DistanceDict.keys():\n",
    "        DistanceDict[key] = sorted(DistanceDict[key], key=itemgetter(2)) # sort entries by closest distance \n",
    "        DistanceDict[key][1][0:2] = sorted(DistanceDict[key][1][0:2]) # \n",
    "        ClosestAtomsDistance.append(DistanceDict[key][1])\n",
    "    # Remove duplicate entries \n",
    "    UniqueSetsCoordinates = [list(x) for x in set(tuple(x) for x in ClosestAtomsDistance)]       \n",
    "    # Take the indices in the unique data and compute the averge coordinates\n",
    "    for entry in UniqueSetsCoordinates:\n",
    "        data = [list(CorePositions[entry[0]][1]), list(CorePositions[entry[1]][1])]\n",
    "        averaged = np.average(data, axis=0)\n",
    "        C70CGBeadPositions.append(averaged)\n",
    "    return C70CGBeadPositions"
   ]
  },
  {
   "cell_type": "code",
   "execution_count": 131,
   "metadata": {},
   "outputs": [],
   "source": [
    "TranslationVect = AlignmentVector / vec1_rot"
   ]
  },
  {
   "cell_type": "code",
   "execution_count": 132,
   "metadata": {},
   "outputs": [
    {
     "data": {
      "text/plain": [
       "array([ 1.12436038e+16,  1.09416182e-01, -2.09017724e+15])"
      ]
     },
     "execution_count": 132,
     "metadata": {},
     "output_type": "execute_result"
    }
   ],
   "source": [
    "TranslationVect"
   ]
  },
  {
   "cell_type": "code",
   "execution_count": 133,
   "metadata": {},
   "outputs": [],
   "source": [
    "Molecule.positions\n",
    "for i in range(0, len(Molecule.positions)-1):\n",
    "    Molecule.positions[i] = Molecule.positions[i] * TranslationVect"
   ]
  },
  {
   "cell_type": "code",
   "execution_count": 134,
   "metadata": {},
   "outputs": [
    {
     "data": {
      "text/plain": [
       "array([[ 0.0820841 , -1.170729  , -0.01763583],\n",
       "       [-0.509979  ,  0.03724033, -0.29016474],\n",
       "       [ 0.23207141,  1.1932274 , -0.34254342],\n",
       "       [ 1.6110936 ,  1.1866183 , -0.12193534],\n",
       "       [ 2.172689  , -0.04250377,  0.14885712],\n",
       "       [ 1.4615823 , -1.2216948 ,  0.20958877],\n",
       "       [-1.9678354 ,  0.08171512, -0.5288933 ],\n",
       "       [-2.8936844 ,  0.3477666 ,  1.027551  ],\n",
       "       [-0.4519048 , -2.1121476 ,  0.03621718],\n",
       "       [-0.22284938,  2.144014  , -0.5552842 ],\n",
       "       [ 2.1980162 ,  2.1035848 , -0.16376731],\n",
       "       [ 3.258213  , -0.05298164,  0.3232632 ],\n",
       "       [ 1.956305  , -2.1781998 ,  0.42951688],\n",
       "       [-2.3344553 , -0.82720107, -1.0522501 ],\n",
       "       [-2.1739023 ,  0.9811477 , -1.1583513 ],\n",
       "       [-2.417444  , -0.4698563 ,  2.0558314 ]], dtype=float32)"
      ]
     },
     "execution_count": 134,
     "metadata": {},
     "output_type": "execute_result"
    }
   ],
   "source": [
    "Molecule.positions"
   ]
  },
  {
   "cell_type": "code",
   "execution_count": 135,
   "metadata": {},
   "outputs": [],
   "source": [
    "from scipy.spatial.transform import Rotation as R"
   ]
  },
  {
   "cell_type": "code",
   "execution_count": 136,
   "metadata": {},
   "outputs": [],
   "source": [
    "r = R.from_quat([0, 0, np.sin(np.pi/4), np.cos(np.pi/4)])"
   ]
  },
  {
   "cell_type": "code",
   "execution_count": 137,
   "metadata": {},
   "outputs": [
    {
     "data": {
      "text/plain": [
       "<scipy.spatial.transform.rotation.Rotation at 0x7fb56f476990>"
      ]
     },
     "execution_count": 137,
     "metadata": {},
     "output_type": "execute_result"
    }
   ],
   "source": [
    "r"
   ]
  },
  {
   "cell_type": "code",
   "execution_count": 138,
   "metadata": {},
   "outputs": [
    {
     "name": "stderr",
     "output_type": "stream",
     "text": [
      "/home/sang/anaconda3/lib/python3.8/site-packages/MDAnalysis/converters/RDKit.py:368: UserWarning:\n",
      "\n",
      "No hydrogen atom found in the topology. Forcing to continue the conversion.\n",
      "\n"
     ]
    }
   ],
   "source": [
    "m = Chem.MolFromMolFile('c70.mol')\n",
    "mol1 = u1.atoms.convert_to(\"RDKIT\")\n",
    "u = mda.Universe('c70.pdb')\n",
    "mol1 = u.atoms.convert_to(\"RDKIT\", force=True)"
   ]
  },
  {
   "cell_type": "code",
   "execution_count": 139,
   "metadata": {},
   "outputs": [],
   "source": [
    "# We have the position for each of the Carbon atoms within the C70. \n",
    "\n",
    "# We now need to find the closest two beads to each other and remake it into\n",
    "# a Martini version\n",
    "import numpy as np\n",
    "from scipy.spatial import distance\n",
    "import networkx as nx\n",
    "\n",
    "#m = Chem.MolFromMolFile('c70.mol') # Read the C70 mol file  \n",
    "#u = mda.Universe(m) # Create MDAnalysis Universe from C70 \n",
    "\n",
    "u = mda.Universe('c70.pdb')\n",
    "\n",
    "CorePositions = []\n",
    "CoreIndex = []\n",
    "DistIndex1Index2 = [] \n",
    "DistanceDict = {} \n",
    "\n",
    "\"\"\"\n",
    "We have a list of neighbours from the core of the Nanoparticle. We need to be able to separate out \n",
    "clusters in the core, and then allocate a coordinate that corresponds to the center of each cluster \n",
    "where a MARTINI bead can be allocated. \n",
    "\n",
    "\n",
    "-- Creating clusters on the surface\n",
    "\n",
    "\n",
    "https://stackoverflow.com/questions/53075481/how-do-i-cluster-a-list-of-geographic-points-by-distance\n",
    "\n",
    "\n",
    "\"\"\"\n",
    "\n",
    "def ComputeC70Distances(coordinate):\n",
    "    \"\"\"\n",
    "    Find the triplets of carbon atoms that are closest to each other, and then\n",
    "    identify the central point of each one \n",
    "    \n",
    "    Need to find the ideal permutations to choose that \n",
    "    \"\"\"\n",
    "    #m = Chem.MolFromMolFile(molfile) # Read the C70 mol file\n",
    "    u = mda.Universe(coordinate)\n",
    "    #u = mda.Universe(m) # Create MDAnalysis Universe from C70 \n",
    "    CorePositions = []\n",
    "    CoreIndex = [] \n",
    "    DistanceDict = {}\n",
    "    CorePositions = [[index, atoms.position] for index, atoms in enumerate(u.atoms)]\n",
    "    for index, atoms in enumerate(u.atoms): # iterate through items \n",
    "        DistanceDict[index] = []\n",
    "        #print(atoms.position, CorePositions[0])\n",
    "        # Get the distance between atoms in the core positions  \n",
    "        for items in CorePositions:\n",
    "            # Find the distance between the index atoms in the index,atom.. \n",
    "            # and the core \n",
    "            dist = distance.euclidean(items[1], atoms.position)\n",
    "            #print(items[1], atoms.position)\n",
    "            Entry = [index, items[0], dist]\n",
    "            #print(Entry)\n",
    "            # Sort entry by dist \n",
    "            DistanceDict[index].append(Entry)\n",
    "    ClosestAtomsDistance = [] # List to store the atoms with the closest distances\n",
    "    # Sort each entry by distance \n",
    "    for key in DistanceDict.keys():\n",
    "        DistanceDict[key] = sorted(DistanceDict[key], key=itemgetter(2)) # sort entries by closest distance \n",
    "        DistanceDict[key][1][0:2] = sorted(DistanceDict[key][1][0:2]) # \n",
    "        ClosestAtomsDistance.append(DistanceDict[key][1])\n",
    "    # Remove duplicate entries \n",
    "    UniqueSetsCoordinates = [list(x) for x in set(tuple(x) for x in ClosestAtomsDistance)]       \n",
    "    # Take the indices in the unique data and compute the averge coordinates\n",
    "    \n",
    "    C70CGBeadPositions = [] \n",
    "    \n",
    "    for entry in UniqueSetsCoordinates:\n",
    "        data = [list(CorePositions[entry[0]][1]), list(CorePositions[entry[1]][1])]\n",
    "        averaged = np.average(data, axis=0)\n",
    "        C70CGBeadPositions.append(averaged)\n",
    "    return C70CGBeadPositions\n",
    "\n",
    "\n",
    "#for index, atoms in enumerate(u.atoms):\n",
    "#    # Store the core atom positions of the C70 \n",
    "#    CorePositions.append([index, atoms.position])\n",
    "#    # for each atomic position, find the closest atoms and sort by distance \n",
    "#    #dist = numpy.linalg.norm(atoms.position[index]-)\n",
    "    \n",
    "CorePositions = [[index, atoms.position] for index, atoms in enumerate(u.atoms)]    \n",
    "for index, atoms in enumerate(u.atoms): # iterate through items \n",
    "    DistanceDict[index] = []\n",
    "    #print(atoms.position, CorePositions[0])\n",
    "    # Get the distance between atoms in the core positions  \n",
    "    for items in CorePositions:\n",
    "        # Find the distance between the index atoms in the index,atom.. \n",
    "        # and the core \n",
    "        dist = distance.euclidean(items[1], atoms.position)\n",
    "        #print(items[1], atoms.position)\n",
    "        Entry = [index, items[0], dist]\n",
    "        #print(Entry)\n",
    "        # Sort entry by dist \n",
    "        DistanceDict[index].append(Entry)        \n",
    "\n",
    "\n",
    "  \n",
    "ClosestAtomsDistance = [] # List to store the atoms with the closest distances\n",
    "# Sort each entry by distance \n",
    "for key in DistanceDict.keys():\n",
    "    DistanceDict[key] = sorted(DistanceDict[key], key=itemgetter(2)) # sort entries by closest distance \n",
    "    DistanceDict[key][1][0:2] = sorted(DistanceDict[key][1][0:2]) # \n",
    "    ClosestAtomsDistance.append(DistanceDict[key][1])\n",
    "# Remove duplicate entries \n",
    "UniqueSetsCoordinates = [list(x) for x in set(tuple(x) for x in ClosestAtomsDistance)]\n",
    "\n",
    "# The unique pairs of where the closest atoms are.\n",
    "\n",
    "# Take the indices in the unique data and compute the averge coordinates\n",
    "C70CGBeadPositions = [] \n",
    "for entry in UniqueSetsCoordinates:\n",
    "    data = [list(CorePositions[entry[0]][1]), list(CorePositions[entry[1]][1])]\n",
    "    averaged = np.average(data, axis=0)\n",
    "    C70CGBeadPositions.append(averaged)\n",
    "\n"
   ]
  },
  {
   "cell_type": "code",
   "execution_count": 140,
   "metadata": {},
   "outputs": [],
   "source": [
    "CGC70 = [] \n",
    "for i in C70CGBeadPositions:\n",
    "        CGC70.append(i)"
   ]
  },
  {
   "cell_type": "code",
   "execution_count": 141,
   "metadata": {},
   "outputs": [
    {
     "data": {
      "text/plain": [
       "[[3.973, 0.535, -0.149],\n",
       " [3.773, -0.443, -1.066],\n",
       " [3.416, -1.699, -0.675],\n",
       " [3.228, 0.101, -2.174],\n",
       " [2.317, -0.592, -2.906],\n",
       " [3.061, 1.417, -1.949],\n",
       " [1.982, 2.069, -2.456],\n",
       " [3.503, 1.684, -0.702],\n",
       " [2.88, 2.634, 0.051],\n",
       " [3.809, 0.316, 1.179],\n",
       " [3.357, -0.977, 1.625],\n",
       " [2.456, -0.799, 2.613],\n",
       " [3.189, -1.963, 0.727],\n",
       " [2.151, -2.808, 0.82],\n",
       " [2.473, -2.406, -1.323],\n",
       " [1.711, -3.074, -0.43],\n",
       " [1.915, -1.898, -2.439],\n",
       " [0.602, -2.029, -2.674],\n",
       " [1.192, -0.021, -3.368],\n",
       " [0.159, -0.881, -3.235],\n",
       " [0.997, 1.299, -3.18],\n",
       " [-0.212, 1.78, -2.857],\n",
       " [1.276, 2.95, -1.728],\n",
       " [-0.042, 2.787, -1.971],\n",
       " [1.7, 3.271, -0.491],\n",
       " [0.827, 3.43, 0.515],\n",
       " [2.607, 2.453, 1.353],\n",
       " [1.383, 2.918, 1.635],\n",
       " [3.057, 1.237, 1.986],\n",
       " [2.247, 0.532, 2.804],\n",
       " [0.543, 2.281, 2.647],\n",
       " [1.047, 1.019, 3.244],\n",
       " [-3.627, 0.321, 2.123],\n",
       " [-4.038, -0.018, 0.876],\n",
       " [-3.878, 0.843, -0.169],\n",
       " [-3.851, -1.344, 0.7],\n",
       " [-3.5, -1.84, -0.517],\n",
       " [-3.299, -1.838, 1.826],\n",
       " [-2.39, -2.848, 1.764],\n",
       " [-3.141, -0.813, 2.693],\n",
       " [-2.066, -0.791, 3.532],\n",
       " [-3.035, 1.513, 2.386],\n",
       " [-2.786, 2.424, 1.29],\n",
       " [-1.466, 3.008, 1.455],\n",
       " [-3.203, 2.104, 0.062],\n",
       " [-2.347, 2.37, -1.072],\n",
       " [-3.467, 0.415, -1.379],\n",
       " [-2.513, 1.357, -1.943],\n",
       " [-3.28, -0.894, -1.59],\n",
       " [-2.128, -1.346, -2.333],\n",
       " [-2.553, -2.792, -0.646],\n",
       " [-1.699, -2.496, -1.786],\n",
       " [-1.993, -3.317, 0.452],\n",
       " [-0.568, -3.551, 0.494],\n",
       " [-1.276, -2.843, 2.524],\n",
       " [-0.136, -3.296, 1.74],\n",
       " [-1.091, -1.856, 3.41],\n",
       " [0.212, -1.252, 3.547],\n",
       " [-1.369, 0.339, 3.769],\n",
       " [0.059, 0.064, 3.761],\n",
       " [-1.843, 1.569, 3.193],\n",
       " [-0.907, 2.479, 2.564],\n",
       " [-1.401, 0.929, -2.793],\n",
       " [-1.208, -0.409, -2.984],\n",
       " [-0.274, -2.821, -1.808],\n",
       " [0.289, -3.343, -0.679],\n",
       " [1.214, -2.775, 1.944],\n",
       " [1.38, -1.761, 2.841],\n",
       " [-0.621, 3.371, 0.314],\n",
       " [-1.054, 3.049, -0.94]]"
      ]
     },
     "execution_count": 141,
     "metadata": {},
     "output_type": "execute_result"
    }
   ],
   "source": [
    "u = mda.Universe('c70.pdb')\n",
    "mol1 = u.atoms.convert_to(\"RDKIT\", force=True)\n",
    "C70List = [] \n",
    "for index, atoms in enumerate(u.atoms):\n",
    "    C70List.append(list(atoms.position))\n",
    "C70List"
   ]
  },
  {
   "cell_type": "code",
   "execution_count": 103,
   "metadata": {},
   "outputs": [
    {
     "data": {
      "text/plain": [
       "[array([ 0.39249998,  1.5395    , -3.0185    ], dtype=float32),\n",
       " array([-3.22  , -1.3255,  2.2595], dtype=float32),\n",
       " array([ 2.67      , -2.3855    ,  0.77349997], dtype=float32),\n",
       " array([-2.4299998,  1.8634999, -1.5074999], dtype=float32),\n",
       " array([-1.606,  0.954,  3.481], dtype=float32),\n",
       " array([-3.0265    , -2.316     , -0.58150005], dtype=float32),\n",
       " array([ 0.67550004, -0.451     , -3.3014998 ], dtype=float32),\n",
       " array([-0.352 , -3.4235,  1.117 ], dtype=float32),\n",
       " array([ 1.7544999 , -0.30650002, -3.137     ], dtype=float32),\n",
       " array([-3.3734999, -0.2395   , -1.4844999], dtype=float32),\n",
       " array([-3.575    , -1.5910001,  1.263    ], dtype=float32),\n",
       " array([ 1.2969999, -2.2680001,  2.3925   ], dtype=float32),\n",
       " array([-1.8330001, -2.8455   ,  2.144    ], dtype=float32),\n",
       " array([-3.9445, -0.681 ,  0.788 ], dtype=float32),\n",
       " array([-1.1865,  2.7435,  2.0095], dtype=float32),\n",
       " array([ 3.273, -1.47 ,  1.176], dtype=float32),\n",
       " array([ 3.5005    , -0.17099999, -1.62      ], dtype=float32),\n",
       " array([-3.331 ,  0.917 ,  2.2545], dtype=float32),\n",
       " array([-1.7175    , -0.22600001,  3.6505    ], dtype=float32),\n",
       " array([-1.9135001, -1.921    , -2.0595   ], dtype=float32),\n",
       " array([-0.8375,  3.21  , -0.313 ], dtype=float32),\n",
       " array([3.891     , 0.42550004, 0.515     ], dtype=float32),\n",
       " array([ 0.617 ,  2.8685, -1.8495], dtype=float32),\n",
       " array([ 1.629 ,  2.5095, -2.092 ], dtype=float32),\n",
       " array([1.6470001 , 0.77550006, 3.024     ], dtype=float32),\n",
       " array([-3.6725001,  0.629    , -0.774    ], dtype=float32),\n",
       " array([-1.1835, -2.3495,  2.967 ], dtype=float32),\n",
       " array([-3.8325   ,  0.1515   ,  1.4994999], dtype=float32),\n",
       " array([ 0.00750001, -3.082     , -1.2435    ], dtype=float32),\n",
       " array([-1.3045,  0.26  , -2.8885], dtype=float32),\n",
       " array([ 3.1445,  0.759 , -2.0615], dtype=float32),\n",
       " array([-2.273     , -3.0545    , -0.09700002], dtype=float32),\n",
       " array([ 0.1355   , -0.594    ,  3.6539998], dtype=float32),\n",
       " array([2.652 , 0.8845, 2.395 ], dtype=float32),\n",
       " array([ 3.8730001 ,  0.04600002, -0.6075    ], dtype=float32),\n",
       " array([ 1.2585, -1.9635, -2.5565], dtype=float32),\n",
       " array([0.963 , 2.5995, 2.141 ], dtype=float32),\n",
       " array([1.2635    , 3.3505    , 0.01199999], dtype=float32),\n",
       " array([1.9950001, 2.6855001, 1.494    ], dtype=float32),\n",
       " array([2.7435002, 2.5435   , 0.702    ], dtype=float32),\n",
       " array([ 2.092    , -2.7399998, -0.8765   ], dtype=float32),\n",
       " array([-2.9945002,  2.264    ,  0.676    ], dtype=float32),\n",
       " array([ 3.282 ,  1.5505, -1.3255], dtype=float32),\n",
       " array([ 2.9065, -0.888 ,  2.119 ], dtype=float32),\n",
       " array([ 2.9445    , -2.0525    , -0.99899995], dtype=float32)]"
      ]
     },
     "execution_count": 103,
     "metadata": {},
     "output_type": "execute_result"
    }
   ],
   "source": [
    "def ComputeC70Distances(coordinate):\n",
    "    \"\"\"    \n",
    "    Parameters\n",
    "    ----------\n",
    "    coordinate: \n",
    "        path and file where the pdb file is.\n",
    "    \n",
    "    \"\"\"\n",
    "    u = mda.Universe(coordinate)\n",
    "    CorePositions, CoreIndex = [], []\n",
    "    C70CGBeadPositions = []\n",
    "    DistanceDict = {}\n",
    "    CorePositions = [[index, atoms.position] for index, atoms in enumerate(u.atoms)]\n",
    "    for index, atoms in enumerate(u.atoms): # iterate through items \n",
    "        DistanceDict[index] = []\n",
    "        # Get the distance between atoms in the core positions  \n",
    "        for items in CorePositions:\n",
    "            # Find the distance between the index atoms in the index, atom.. \n",
    "            # and the core \n",
    "            dist = distance.euclidean(items[1], atoms.position)\n",
    "            Entry = [index, items[0], dist]\n",
    "            # Sort entry by dist \n",
    "            DistanceDict[index].append(Entry)\n",
    "    ClosestAtomsDistance = [] # List to store the atoms with the closest distances\n",
    "    # Sort each entry by distance \n",
    "    for key in DistanceDict.keys():\n",
    "        DistanceDict[key] = sorted(DistanceDict[key], key=itemgetter(2)) # sort entries by closest distance \n",
    "        DistanceDict[key][1][0:2] = sorted(DistanceDict[key][1][0:2]) # \n",
    "        ClosestAtomsDistance.append(DistanceDict[key][1])\n",
    "    # Remove duplicate entries \n",
    "    UniqueSetsCoordinates = [list(x) for x in set(tuple(x) for x in ClosestAtomsDistance)]       \n",
    "    # Take the indices in the unique data and compute the averge coordinates\n",
    "    for entry in UniqueSetsCoordinates:\n",
    "        data = [list(CorePositions[entry[0]][1]), list(CorePositions[entry[1]][1])]\n",
    "        averaged = np.average(data, axis=0)\n",
    "        C70CGBeadPositions.append(averaged)\n",
    "    return C70CGBeadPositions\n",
    "\n",
    "NPPositions = ComputeC70Distances('c70.pdb')\n",
    "NPPositions\n"
   ]
  },
  {
   "cell_type": "code",
   "execution_count": 106,
   "metadata": {},
   "outputs": [
    {
     "data": {
      "application/vnd.plotly.v1+json": {
       "config": {
        "plotlyServerURL": "https://plot.ly"
       },
       "data": [
        {
         "marker": {
          "color": [
           "blue"
          ],
          "line": {
           "color": "DarkSlateGrey",
           "width": 5
          },
          "size": [
           0,
           5
          ]
         },
         "name": "Vector1",
         "type": "scatter3d",
         "x": [
          0,
          0.39249998331069946
         ],
         "y": [
          0,
          1.5394999980926514
         ],
         "z": [
          0,
          -3.0185000896453857
         ]
        },
        {
         "marker": {
          "color": [
           "blue"
          ],
          "line": {
           "color": "DarkSlateGrey",
           "width": 5
          },
          "size": [
           0,
           5
          ]
         },
         "name": "Vector2",
         "type": "scatter3d",
         "x": [
          0,
          -3.2200000286102295
         ],
         "y": [
          0,
          -1.3255000114440918
         ],
         "z": [
          0,
          2.259500026702881
         ]
        },
        {
         "marker": {
          "color": [
           "blue"
          ],
          "line": {
           "color": "DarkSlateGrey",
           "width": 5
          },
          "size": [
           0,
           5
          ]
         },
         "name": "Vector3",
         "type": "scatter3d",
         "x": [
          0,
          2.6700000762939453
         ],
         "y": [
          0,
          -2.385499954223633
         ],
         "z": [
          0,
          0.7734999656677246
         ]
        },
        {
         "marker": {
          "color": [
           "blue"
          ],
          "line": {
           "color": "DarkSlateGrey",
           "width": 5
          },
          "size": [
           0,
           5
          ]
         },
         "name": "Vector4",
         "type": "scatter3d",
         "x": [
          0,
          -2.429999828338623
         ],
         "y": [
          0,
          1.8634998798370361
         ],
         "z": [
          0,
          -1.5074999332427979
         ]
        },
        {
         "marker": {
          "color": [
           "blue"
          ],
          "line": {
           "color": "DarkSlateGrey",
           "width": 5
          },
          "size": [
           0,
           5
          ]
         },
         "name": "Vector5",
         "type": "scatter3d",
         "x": [
          0,
          -1.6059999465942383
         ],
         "y": [
          0,
          0.9539999961853027
         ],
         "z": [
          0,
          3.4809999465942383
         ]
        },
        {
         "marker": {
          "color": [
           "blue"
          ],
          "line": {
           "color": "DarkSlateGrey",
           "width": 5
          },
          "size": [
           0,
           5
          ]
         },
         "name": "Vector6",
         "type": "scatter3d",
         "x": [
          0,
          -3.0264999866485596
         ],
         "y": [
          0,
          -2.315999984741211
         ],
         "z": [
          0,
          -0.5815000534057617
         ]
        },
        {
         "marker": {
          "color": [
           "blue"
          ],
          "line": {
           "color": "DarkSlateGrey",
           "width": 5
          },
          "size": [
           0,
           5
          ]
         },
         "name": "Vector7",
         "type": "scatter3d",
         "x": [
          0,
          0.6755000352859497
         ],
         "y": [
          0,
          -0.45100000500679016
         ],
         "z": [
          0,
          -3.301499843597412
         ]
        },
        {
         "marker": {
          "color": [
           "blue"
          ],
          "line": {
           "color": "DarkSlateGrey",
           "width": 5
          },
          "size": [
           0,
           5
          ]
         },
         "name": "Vector8",
         "type": "scatter3d",
         "x": [
          0,
          -0.35199999809265137
         ],
         "y": [
          0,
          -3.4235000610351562
         ],
         "z": [
          0,
          1.1169999837875366
         ]
        },
        {
         "marker": {
          "color": [
           "blue"
          ],
          "line": {
           "color": "DarkSlateGrey",
           "width": 5
          },
          "size": [
           0,
           5
          ]
         },
         "name": "Vector9",
         "type": "scatter3d",
         "x": [
          0,
          1.754499912261963
         ],
         "y": [
          0,
          -0.30650001764297485
         ],
         "z": [
          0,
          -3.13700008392334
         ]
        },
        {
         "marker": {
          "color": [
           "blue"
          ],
          "line": {
           "color": "DarkSlateGrey",
           "width": 5
          },
          "size": [
           0,
           5
          ]
         },
         "name": "Vector10",
         "type": "scatter3d",
         "x": [
          0,
          -3.373499870300293
         ],
         "y": [
          0,
          -0.2395000010728836
         ],
         "z": [
          0,
          -1.4844999313354492
         ]
        },
        {
         "marker": {
          "color": [
           "blue"
          ],
          "line": {
           "color": "DarkSlateGrey",
           "width": 5
          },
          "size": [
           0,
           5
          ]
         },
         "name": "Vector11",
         "type": "scatter3d",
         "x": [
          0,
          -3.575000047683716
         ],
         "y": [
          0,
          -1.5910000801086426
         ],
         "z": [
          0,
          1.2630000114440918
         ]
        },
        {
         "marker": {
          "color": [
           "blue"
          ],
          "line": {
           "color": "DarkSlateGrey",
           "width": 5
          },
          "size": [
           0,
           5
          ]
         },
         "name": "Vector12",
         "type": "scatter3d",
         "x": [
          0,
          1.2969999313354492
         ],
         "y": [
          0,
          -2.2680001258850098
         ],
         "z": [
          0,
          2.3924999237060547
         ]
        },
        {
         "marker": {
          "color": [
           "blue"
          ],
          "line": {
           "color": "DarkSlateGrey",
           "width": 5
          },
          "size": [
           0,
           5
          ]
         },
         "name": "Vector13",
         "type": "scatter3d",
         "x": [
          0,
          -1.8330000638961792
         ],
         "y": [
          0,
          -2.8454999923706055
         ],
         "z": [
          0,
          2.1440000534057617
         ]
        },
        {
         "marker": {
          "color": [
           "blue"
          ],
          "line": {
           "color": "DarkSlateGrey",
           "width": 5
          },
          "size": [
           0,
           5
          ]
         },
         "name": "Vector14",
         "type": "scatter3d",
         "x": [
          0,
          -3.944499969482422
         ],
         "y": [
          0,
          -0.6809999942779541
         ],
         "z": [
          0,
          0.7879999876022339
         ]
        },
        {
         "marker": {
          "color": [
           "blue"
          ],
          "line": {
           "color": "DarkSlateGrey",
           "width": 5
          },
          "size": [
           0,
           5
          ]
         },
         "name": "Vector15",
         "type": "scatter3d",
         "x": [
          0,
          -1.1864999532699585
         ],
         "y": [
          0,
          2.743499994277954
         ],
         "z": [
          0,
          2.009500026702881
         ]
        },
        {
         "marker": {
          "color": [
           "blue"
          ],
          "line": {
           "color": "DarkSlateGrey",
           "width": 5
          },
          "size": [
           0,
           5
          ]
         },
         "name": "Vector16",
         "type": "scatter3d",
         "x": [
          0,
          3.2730000019073486
         ],
         "y": [
          0,
          -1.4700000286102295
         ],
         "z": [
          0,
          1.1759999990463257
         ]
        },
        {
         "marker": {
          "color": [
           "blue"
          ],
          "line": {
           "color": "DarkSlateGrey",
           "width": 5
          },
          "size": [
           0,
           5
          ]
         },
         "name": "Vector17",
         "type": "scatter3d",
         "x": [
          0,
          3.500499963760376
         ],
         "y": [
          0,
          -0.17099998891353607
         ],
         "z": [
          0,
          -1.6200000047683716
         ]
        },
        {
         "marker": {
          "color": [
           "blue"
          ],
          "line": {
           "color": "DarkSlateGrey",
           "width": 5
          },
          "size": [
           0,
           5
          ]
         },
         "name": "Vector18",
         "type": "scatter3d",
         "x": [
          0,
          -3.3310000896453857
         ],
         "y": [
          0,
          0.9169999957084656
         ],
         "z": [
          0,
          2.254499912261963
         ]
        },
        {
         "marker": {
          "color": [
           "blue"
          ],
          "line": {
           "color": "DarkSlateGrey",
           "width": 5
          },
          "size": [
           0,
           5
          ]
         },
         "name": "Vector19",
         "type": "scatter3d",
         "x": [
          0,
          -1.7174999713897705
         ],
         "y": [
          0,
          -0.22600001096725464
         ],
         "z": [
          0,
          3.6505000591278076
         ]
        },
        {
         "marker": {
          "color": [
           "blue"
          ],
          "line": {
           "color": "DarkSlateGrey",
           "width": 5
          },
          "size": [
           0,
           5
          ]
         },
         "name": "Vector20",
         "type": "scatter3d",
         "x": [
          0,
          -1.9135000705718994
         ],
         "y": [
          0,
          -1.9210000038146973
         ],
         "z": [
          0,
          -2.059499979019165
         ]
        },
        {
         "marker": {
          "color": [
           "blue"
          ],
          "line": {
           "color": "DarkSlateGrey",
           "width": 5
          },
          "size": [
           0,
           5
          ]
         },
         "name": "Vector21",
         "type": "scatter3d",
         "x": [
          0,
          -0.8374999761581421
         ],
         "y": [
          0,
          3.2100000381469727
         ],
         "z": [
          0,
          -0.31299999356269836
         ]
        },
        {
         "marker": {
          "color": [
           "blue"
          ],
          "line": {
           "color": "DarkSlateGrey",
           "width": 5
          },
          "size": [
           0,
           5
          ]
         },
         "name": "Vector22",
         "type": "scatter3d",
         "x": [
          0,
          3.8910000324249268
         ],
         "y": [
          0,
          0.4255000352859497
         ],
         "z": [
          0,
          0.5149999856948853
         ]
        },
        {
         "marker": {
          "color": [
           "blue"
          ],
          "line": {
           "color": "DarkSlateGrey",
           "width": 5
          },
          "size": [
           0,
           5
          ]
         },
         "name": "Vector23",
         "type": "scatter3d",
         "x": [
          0,
          0.6169999837875366
         ],
         "y": [
          0,
          2.868499994277954
         ],
         "z": [
          0,
          -1.8494999408721924
         ]
        },
        {
         "marker": {
          "color": [
           "blue"
          ],
          "line": {
           "color": "DarkSlateGrey",
           "width": 5
          },
          "size": [
           0,
           5
          ]
         },
         "name": "Vector24",
         "type": "scatter3d",
         "x": [
          0,
          1.628999948501587
         ],
         "y": [
          0,
          2.509500026702881
         ],
         "z": [
          0,
          -2.0920000076293945
         ]
        },
        {
         "marker": {
          "color": [
           "blue"
          ],
          "line": {
           "color": "DarkSlateGrey",
           "width": 5
          },
          "size": [
           0,
           5
          ]
         },
         "name": "Vector25",
         "type": "scatter3d",
         "x": [
          0,
          1.6470000743865967
         ],
         "y": [
          0,
          0.7755000591278076
         ],
         "z": [
          0,
          3.0239999294281006
         ]
        },
        {
         "marker": {
          "color": [
           "blue"
          ],
          "line": {
           "color": "DarkSlateGrey",
           "width": 5
          },
          "size": [
           0,
           5
          ]
         },
         "name": "Vector26",
         "type": "scatter3d",
         "x": [
          0,
          -3.6725001335144043
         ],
         "y": [
          0,
          0.6290000081062317
         ],
         "z": [
          0,
          -0.7739999890327454
         ]
        },
        {
         "marker": {
          "color": [
           "blue"
          ],
          "line": {
           "color": "DarkSlateGrey",
           "width": 5
          },
          "size": [
           0,
           5
          ]
         },
         "name": "Vector27",
         "type": "scatter3d",
         "x": [
          0,
          -1.183500051498413
         ],
         "y": [
          0,
          -2.3494999408721924
         ],
         "z": [
          0,
          2.9670000076293945
         ]
        },
        {
         "marker": {
          "color": [
           "blue"
          ],
          "line": {
           "color": "DarkSlateGrey",
           "width": 5
          },
          "size": [
           0,
           5
          ]
         },
         "name": "Vector28",
         "type": "scatter3d",
         "x": [
          0,
          -3.8324999809265137
         ],
         "y": [
          0,
          0.15150000154972076
         ],
         "z": [
          0,
          1.4994999170303345
         ]
        },
        {
         "marker": {
          "color": [
           "blue"
          ],
          "line": {
           "color": "DarkSlateGrey",
           "width": 5
          },
          "size": [
           0,
           5
          ]
         },
         "name": "Vector29",
         "type": "scatter3d",
         "x": [
          0,
          0.007500007748603821
         ],
         "y": [
          0,
          -3.0820000171661377
         ],
         "z": [
          0,
          -1.243499994277954
         ]
        },
        {
         "marker": {
          "color": [
           "blue"
          ],
          "line": {
           "color": "DarkSlateGrey",
           "width": 5
          },
          "size": [
           0,
           5
          ]
         },
         "name": "Vector30",
         "type": "scatter3d",
         "x": [
          0,
          -1.3044999837875366
         ],
         "y": [
          0,
          0.25999999046325684
         ],
         "z": [
          0,
          -2.8884999752044678
         ]
        },
        {
         "marker": {
          "color": [
           "blue"
          ],
          "line": {
           "color": "DarkSlateGrey",
           "width": 5
          },
          "size": [
           0,
           5
          ]
         },
         "name": "Vector31",
         "type": "scatter3d",
         "x": [
          0,
          3.1445000171661377
         ],
         "y": [
          0,
          0.7590000033378601
         ],
         "z": [
          0,
          -2.061500072479248
         ]
        },
        {
         "marker": {
          "color": [
           "blue"
          ],
          "line": {
           "color": "DarkSlateGrey",
           "width": 5
          },
          "size": [
           0,
           5
          ]
         },
         "name": "Vector32",
         "type": "scatter3d",
         "x": [
          0,
          -2.2730000019073486
         ],
         "y": [
          0,
          -3.054500102996826
         ],
         "z": [
          0,
          -0.09700001776218414
         ]
        },
        {
         "marker": {
          "color": [
           "blue"
          ],
          "line": {
           "color": "DarkSlateGrey",
           "width": 5
          },
          "size": [
           0,
           5
          ]
         },
         "name": "Vector33",
         "type": "scatter3d",
         "x": [
          0,
          0.1354999989271164
         ],
         "y": [
          0,
          -0.593999981880188
         ],
         "z": [
          0,
          3.6539998054504395
         ]
        },
        {
         "marker": {
          "color": [
           "blue"
          ],
          "line": {
           "color": "DarkSlateGrey",
           "width": 5
          },
          "size": [
           0,
           5
          ]
         },
         "name": "Vector34",
         "type": "scatter3d",
         "x": [
          0,
          2.6519999504089355
         ],
         "y": [
          0,
          0.8845000267028809
         ],
         "z": [
          0,
          2.3949999809265137
         ]
        },
        {
         "marker": {
          "color": [
           "blue"
          ],
          "line": {
           "color": "DarkSlateGrey",
           "width": 5
          },
          "size": [
           0,
           5
          ]
         },
         "name": "Vector35",
         "type": "scatter3d",
         "x": [
          0,
          3.873000144958496
         ],
         "y": [
          0,
          0.04600001871585846
         ],
         "z": [
          0,
          -0.6075000166893005
         ]
        },
        {
         "marker": {
          "color": [
           "blue"
          ],
          "line": {
           "color": "DarkSlateGrey",
           "width": 5
          },
          "size": [
           0,
           5
          ]
         },
         "name": "Vector36",
         "type": "scatter3d",
         "x": [
          0,
          1.2584999799728394
         ],
         "y": [
          0,
          -1.9635000228881836
         ],
         "z": [
          0,
          -2.55649995803833
         ]
        },
        {
         "marker": {
          "color": [
           "blue"
          ],
          "line": {
           "color": "DarkSlateGrey",
           "width": 5
          },
          "size": [
           0,
           5
          ]
         },
         "name": "Vector37",
         "type": "scatter3d",
         "x": [
          0,
          0.9629999995231628
         ],
         "y": [
          0,
          2.5994999408721924
         ],
         "z": [
          0,
          2.1410000324249268
         ]
        },
        {
         "marker": {
          "color": [
           "blue"
          ],
          "line": {
           "color": "DarkSlateGrey",
           "width": 5
          },
          "size": [
           0,
           5
          ]
         },
         "name": "Vector38",
         "type": "scatter3d",
         "x": [
          0,
          1.2634999752044678
         ],
         "y": [
          0,
          3.3505001068115234
         ],
         "z": [
          0,
          0.01199999451637268
         ]
        },
        {
         "marker": {
          "color": [
           "blue"
          ],
          "line": {
           "color": "DarkSlateGrey",
           "width": 5
          },
          "size": [
           0,
           5
          ]
         },
         "name": "Vector39",
         "type": "scatter3d",
         "x": [
          0,
          1.9950001239776611
         ],
         "y": [
          0,
          2.685500144958496
         ],
         "z": [
          0,
          1.49399995803833
         ]
        },
        {
         "marker": {
          "color": [
           "blue"
          ],
          "line": {
           "color": "DarkSlateGrey",
           "width": 5
          },
          "size": [
           0,
           5
          ]
         },
         "name": "Vector40",
         "type": "scatter3d",
         "x": [
          0,
          2.743500232696533
         ],
         "y": [
          0,
          2.5434999465942383
         ],
         "z": [
          0,
          0.7020000219345093
         ]
        },
        {
         "marker": {
          "color": [
           "blue"
          ],
          "line": {
           "color": "DarkSlateGrey",
           "width": 5
          },
          "size": [
           0,
           5
          ]
         },
         "name": "Vector41",
         "type": "scatter3d",
         "x": [
          0,
          2.0920000076293945
         ],
         "y": [
          0,
          -2.739999771118164
         ],
         "z": [
          0,
          -0.8765000104904175
         ]
        },
        {
         "marker": {
          "color": [
           "blue"
          ],
          "line": {
           "color": "DarkSlateGrey",
           "width": 5
          },
          "size": [
           0,
           5
          ]
         },
         "name": "Vector42",
         "type": "scatter3d",
         "x": [
          0,
          -2.994500160217285
         ],
         "y": [
          0,
          2.2639999389648438
         ],
         "z": [
          0,
          0.6759999990463257
         ]
        },
        {
         "marker": {
          "color": [
           "blue"
          ],
          "line": {
           "color": "DarkSlateGrey",
           "width": 5
          },
          "size": [
           0,
           5
          ]
         },
         "name": "Vector43",
         "type": "scatter3d",
         "x": [
          0,
          3.2820000648498535
         ],
         "y": [
          0,
          1.5505000352859497
         ],
         "z": [
          0,
          -1.3255000114440918
         ]
        },
        {
         "marker": {
          "color": [
           "blue"
          ],
          "line": {
           "color": "DarkSlateGrey",
           "width": 5
          },
          "size": [
           0,
           5
          ]
         },
         "name": "Vector44",
         "type": "scatter3d",
         "x": [
          0,
          2.9065001010894775
         ],
         "y": [
          0,
          -0.8880000114440918
         ],
         "z": [
          0,
          2.11899995803833
         ]
        },
        {
         "marker": {
          "color": [
           "blue"
          ],
          "line": {
           "color": "DarkSlateGrey",
           "width": 5
          },
          "size": [
           0,
           5
          ]
         },
         "name": "Vector45",
         "type": "scatter3d",
         "x": [
          0,
          2.944499969482422
         ],
         "y": [
          0,
          -2.052500009536743
         ],
         "z": [
          0,
          -0.9989999532699585
         ]
        }
       ],
       "layout": {
        "margin": {
         "b": 4,
         "l": 4,
         "r": 4,
         "t": 4
        },
        "template": {
         "data": {
          "bar": [
           {
            "error_x": {
             "color": "#2a3f5f"
            },
            "error_y": {
             "color": "#2a3f5f"
            },
            "marker": {
             "line": {
              "color": "#E5ECF6",
              "width": 0.5
             },
             "pattern": {
              "fillmode": "overlay",
              "size": 10,
              "solidity": 0.2
             }
            },
            "type": "bar"
           }
          ],
          "barpolar": [
           {
            "marker": {
             "line": {
              "color": "#E5ECF6",
              "width": 0.5
             },
             "pattern": {
              "fillmode": "overlay",
              "size": 10,
              "solidity": 0.2
             }
            },
            "type": "barpolar"
           }
          ],
          "carpet": [
           {
            "aaxis": {
             "endlinecolor": "#2a3f5f",
             "gridcolor": "white",
             "linecolor": "white",
             "minorgridcolor": "white",
             "startlinecolor": "#2a3f5f"
            },
            "baxis": {
             "endlinecolor": "#2a3f5f",
             "gridcolor": "white",
             "linecolor": "white",
             "minorgridcolor": "white",
             "startlinecolor": "#2a3f5f"
            },
            "type": "carpet"
           }
          ],
          "choropleth": [
           {
            "colorbar": {
             "outlinewidth": 0,
             "ticks": ""
            },
            "type": "choropleth"
           }
          ],
          "contour": [
           {
            "colorbar": {
             "outlinewidth": 0,
             "ticks": ""
            },
            "colorscale": [
             [
              0,
              "#0d0887"
             ],
             [
              0.1111111111111111,
              "#46039f"
             ],
             [
              0.2222222222222222,
              "#7201a8"
             ],
             [
              0.3333333333333333,
              "#9c179e"
             ],
             [
              0.4444444444444444,
              "#bd3786"
             ],
             [
              0.5555555555555556,
              "#d8576b"
             ],
             [
              0.6666666666666666,
              "#ed7953"
             ],
             [
              0.7777777777777778,
              "#fb9f3a"
             ],
             [
              0.8888888888888888,
              "#fdca26"
             ],
             [
              1,
              "#f0f921"
             ]
            ],
            "type": "contour"
           }
          ],
          "contourcarpet": [
           {
            "colorbar": {
             "outlinewidth": 0,
             "ticks": ""
            },
            "type": "contourcarpet"
           }
          ],
          "heatmap": [
           {
            "colorbar": {
             "outlinewidth": 0,
             "ticks": ""
            },
            "colorscale": [
             [
              0,
              "#0d0887"
             ],
             [
              0.1111111111111111,
              "#46039f"
             ],
             [
              0.2222222222222222,
              "#7201a8"
             ],
             [
              0.3333333333333333,
              "#9c179e"
             ],
             [
              0.4444444444444444,
              "#bd3786"
             ],
             [
              0.5555555555555556,
              "#d8576b"
             ],
             [
              0.6666666666666666,
              "#ed7953"
             ],
             [
              0.7777777777777778,
              "#fb9f3a"
             ],
             [
              0.8888888888888888,
              "#fdca26"
             ],
             [
              1,
              "#f0f921"
             ]
            ],
            "type": "heatmap"
           }
          ],
          "heatmapgl": [
           {
            "colorbar": {
             "outlinewidth": 0,
             "ticks": ""
            },
            "colorscale": [
             [
              0,
              "#0d0887"
             ],
             [
              0.1111111111111111,
              "#46039f"
             ],
             [
              0.2222222222222222,
              "#7201a8"
             ],
             [
              0.3333333333333333,
              "#9c179e"
             ],
             [
              0.4444444444444444,
              "#bd3786"
             ],
             [
              0.5555555555555556,
              "#d8576b"
             ],
             [
              0.6666666666666666,
              "#ed7953"
             ],
             [
              0.7777777777777778,
              "#fb9f3a"
             ],
             [
              0.8888888888888888,
              "#fdca26"
             ],
             [
              1,
              "#f0f921"
             ]
            ],
            "type": "heatmapgl"
           }
          ],
          "histogram": [
           {
            "marker": {
             "pattern": {
              "fillmode": "overlay",
              "size": 10,
              "solidity": 0.2
             }
            },
            "type": "histogram"
           }
          ],
          "histogram2d": [
           {
            "colorbar": {
             "outlinewidth": 0,
             "ticks": ""
            },
            "colorscale": [
             [
              0,
              "#0d0887"
             ],
             [
              0.1111111111111111,
              "#46039f"
             ],
             [
              0.2222222222222222,
              "#7201a8"
             ],
             [
              0.3333333333333333,
              "#9c179e"
             ],
             [
              0.4444444444444444,
              "#bd3786"
             ],
             [
              0.5555555555555556,
              "#d8576b"
             ],
             [
              0.6666666666666666,
              "#ed7953"
             ],
             [
              0.7777777777777778,
              "#fb9f3a"
             ],
             [
              0.8888888888888888,
              "#fdca26"
             ],
             [
              1,
              "#f0f921"
             ]
            ],
            "type": "histogram2d"
           }
          ],
          "histogram2dcontour": [
           {
            "colorbar": {
             "outlinewidth": 0,
             "ticks": ""
            },
            "colorscale": [
             [
              0,
              "#0d0887"
             ],
             [
              0.1111111111111111,
              "#46039f"
             ],
             [
              0.2222222222222222,
              "#7201a8"
             ],
             [
              0.3333333333333333,
              "#9c179e"
             ],
             [
              0.4444444444444444,
              "#bd3786"
             ],
             [
              0.5555555555555556,
              "#d8576b"
             ],
             [
              0.6666666666666666,
              "#ed7953"
             ],
             [
              0.7777777777777778,
              "#fb9f3a"
             ],
             [
              0.8888888888888888,
              "#fdca26"
             ],
             [
              1,
              "#f0f921"
             ]
            ],
            "type": "histogram2dcontour"
           }
          ],
          "mesh3d": [
           {
            "colorbar": {
             "outlinewidth": 0,
             "ticks": ""
            },
            "type": "mesh3d"
           }
          ],
          "parcoords": [
           {
            "line": {
             "colorbar": {
              "outlinewidth": 0,
              "ticks": ""
             }
            },
            "type": "parcoords"
           }
          ],
          "pie": [
           {
            "automargin": true,
            "type": "pie"
           }
          ],
          "scatter": [
           {
            "marker": {
             "colorbar": {
              "outlinewidth": 0,
              "ticks": ""
             }
            },
            "type": "scatter"
           }
          ],
          "scatter3d": [
           {
            "line": {
             "colorbar": {
              "outlinewidth": 0,
              "ticks": ""
             }
            },
            "marker": {
             "colorbar": {
              "outlinewidth": 0,
              "ticks": ""
             }
            },
            "type": "scatter3d"
           }
          ],
          "scattercarpet": [
           {
            "marker": {
             "colorbar": {
              "outlinewidth": 0,
              "ticks": ""
             }
            },
            "type": "scattercarpet"
           }
          ],
          "scattergeo": [
           {
            "marker": {
             "colorbar": {
              "outlinewidth": 0,
              "ticks": ""
             }
            },
            "type": "scattergeo"
           }
          ],
          "scattergl": [
           {
            "marker": {
             "colorbar": {
              "outlinewidth": 0,
              "ticks": ""
             }
            },
            "type": "scattergl"
           }
          ],
          "scattermapbox": [
           {
            "marker": {
             "colorbar": {
              "outlinewidth": 0,
              "ticks": ""
             }
            },
            "type": "scattermapbox"
           }
          ],
          "scatterpolar": [
           {
            "marker": {
             "colorbar": {
              "outlinewidth": 0,
              "ticks": ""
             }
            },
            "type": "scatterpolar"
           }
          ],
          "scatterpolargl": [
           {
            "marker": {
             "colorbar": {
              "outlinewidth": 0,
              "ticks": ""
             }
            },
            "type": "scatterpolargl"
           }
          ],
          "scatterternary": [
           {
            "marker": {
             "colorbar": {
              "outlinewidth": 0,
              "ticks": ""
             }
            },
            "type": "scatterternary"
           }
          ],
          "surface": [
           {
            "colorbar": {
             "outlinewidth": 0,
             "ticks": ""
            },
            "colorscale": [
             [
              0,
              "#0d0887"
             ],
             [
              0.1111111111111111,
              "#46039f"
             ],
             [
              0.2222222222222222,
              "#7201a8"
             ],
             [
              0.3333333333333333,
              "#9c179e"
             ],
             [
              0.4444444444444444,
              "#bd3786"
             ],
             [
              0.5555555555555556,
              "#d8576b"
             ],
             [
              0.6666666666666666,
              "#ed7953"
             ],
             [
              0.7777777777777778,
              "#fb9f3a"
             ],
             [
              0.8888888888888888,
              "#fdca26"
             ],
             [
              1,
              "#f0f921"
             ]
            ],
            "type": "surface"
           }
          ],
          "table": [
           {
            "cells": {
             "fill": {
              "color": "#EBF0F8"
             },
             "line": {
              "color": "white"
             }
            },
            "header": {
             "fill": {
              "color": "#C8D4E3"
             },
             "line": {
              "color": "white"
             }
            },
            "type": "table"
           }
          ]
         },
         "layout": {
          "annotationdefaults": {
           "arrowcolor": "#2a3f5f",
           "arrowhead": 0,
           "arrowwidth": 1
          },
          "autotypenumbers": "strict",
          "coloraxis": {
           "colorbar": {
            "outlinewidth": 0,
            "ticks": ""
           }
          },
          "colorscale": {
           "diverging": [
            [
             0,
             "#8e0152"
            ],
            [
             0.1,
             "#c51b7d"
            ],
            [
             0.2,
             "#de77ae"
            ],
            [
             0.3,
             "#f1b6da"
            ],
            [
             0.4,
             "#fde0ef"
            ],
            [
             0.5,
             "#f7f7f7"
            ],
            [
             0.6,
             "#e6f5d0"
            ],
            [
             0.7,
             "#b8e186"
            ],
            [
             0.8,
             "#7fbc41"
            ],
            [
             0.9,
             "#4d9221"
            ],
            [
             1,
             "#276419"
            ]
           ],
           "sequential": [
            [
             0,
             "#0d0887"
            ],
            [
             0.1111111111111111,
             "#46039f"
            ],
            [
             0.2222222222222222,
             "#7201a8"
            ],
            [
             0.3333333333333333,
             "#9c179e"
            ],
            [
             0.4444444444444444,
             "#bd3786"
            ],
            [
             0.5555555555555556,
             "#d8576b"
            ],
            [
             0.6666666666666666,
             "#ed7953"
            ],
            [
             0.7777777777777778,
             "#fb9f3a"
            ],
            [
             0.8888888888888888,
             "#fdca26"
            ],
            [
             1,
             "#f0f921"
            ]
           ],
           "sequentialminus": [
            [
             0,
             "#0d0887"
            ],
            [
             0.1111111111111111,
             "#46039f"
            ],
            [
             0.2222222222222222,
             "#7201a8"
            ],
            [
             0.3333333333333333,
             "#9c179e"
            ],
            [
             0.4444444444444444,
             "#bd3786"
            ],
            [
             0.5555555555555556,
             "#d8576b"
            ],
            [
             0.6666666666666666,
             "#ed7953"
            ],
            [
             0.7777777777777778,
             "#fb9f3a"
            ],
            [
             0.8888888888888888,
             "#fdca26"
            ],
            [
             1,
             "#f0f921"
            ]
           ]
          },
          "colorway": [
           "#636efa",
           "#EF553B",
           "#00cc96",
           "#ab63fa",
           "#FFA15A",
           "#19d3f3",
           "#FF6692",
           "#B6E880",
           "#FF97FF",
           "#FECB52"
          ],
          "font": {
           "color": "#2a3f5f"
          },
          "geo": {
           "bgcolor": "white",
           "lakecolor": "white",
           "landcolor": "#E5ECF6",
           "showlakes": true,
           "showland": true,
           "subunitcolor": "white"
          },
          "hoverlabel": {
           "align": "left"
          },
          "hovermode": "closest",
          "mapbox": {
           "style": "light"
          },
          "paper_bgcolor": "white",
          "plot_bgcolor": "#E5ECF6",
          "polar": {
           "angularaxis": {
            "gridcolor": "white",
            "linecolor": "white",
            "ticks": ""
           },
           "bgcolor": "#E5ECF6",
           "radialaxis": {
            "gridcolor": "white",
            "linecolor": "white",
            "ticks": ""
           }
          },
          "scene": {
           "xaxis": {
            "backgroundcolor": "#E5ECF6",
            "gridcolor": "white",
            "gridwidth": 2,
            "linecolor": "white",
            "showbackground": true,
            "ticks": "",
            "zerolinecolor": "white"
           },
           "yaxis": {
            "backgroundcolor": "#E5ECF6",
            "gridcolor": "white",
            "gridwidth": 2,
            "linecolor": "white",
            "showbackground": true,
            "ticks": "",
            "zerolinecolor": "white"
           },
           "zaxis": {
            "backgroundcolor": "#E5ECF6",
            "gridcolor": "white",
            "gridwidth": 2,
            "linecolor": "white",
            "showbackground": true,
            "ticks": "",
            "zerolinecolor": "white"
           }
          },
          "shapedefaults": {
           "line": {
            "color": "#2a3f5f"
           }
          },
          "ternary": {
           "aaxis": {
            "gridcolor": "white",
            "linecolor": "white",
            "ticks": ""
           },
           "baxis": {
            "gridcolor": "white",
            "linecolor": "white",
            "ticks": ""
           },
           "bgcolor": "#E5ECF6",
           "caxis": {
            "gridcolor": "white",
            "linecolor": "white",
            "ticks": ""
           }
          },
          "title": {
           "x": 0.05
          },
          "xaxis": {
           "automargin": true,
           "gridcolor": "white",
           "linecolor": "white",
           "ticks": "",
           "title": {
            "standoff": 15
           },
           "zerolinecolor": "white",
           "zerolinewidth": 2
          },
          "yaxis": {
           "automargin": true,
           "gridcolor": "white",
           "linecolor": "white",
           "ticks": "",
           "title": {
            "standoff": 15
           },
           "zerolinecolor": "white",
           "zerolinewidth": 2
          }
         }
        }
       }
      },
      "text/html": [
       "<div>                            <div id=\"9b5156cf-9550-48af-a5cb-8963d7a374fb\" class=\"plotly-graph-div\" style=\"height:525px; width:100%;\"></div>            <script type=\"text/javascript\">                require([\"plotly\"], function(Plotly) {                    window.PLOTLYENV=window.PLOTLYENV || {};                                    if (document.getElementById(\"9b5156cf-9550-48af-a5cb-8963d7a374fb\")) {                    Plotly.newPlot(                        \"9b5156cf-9550-48af-a5cb-8963d7a374fb\",                        [{\"marker\":{\"color\":[\"blue\"],\"line\":{\"color\":\"DarkSlateGrey\",\"width\":5},\"size\":[0,5]},\"name\":\"Vector1\",\"type\":\"scatter3d\",\"x\":[0,0.39249998331069946],\"y\":[0,1.5394999980926514],\"z\":[0,-3.0185000896453857]},{\"marker\":{\"color\":[\"blue\"],\"line\":{\"color\":\"DarkSlateGrey\",\"width\":5},\"size\":[0,5]},\"name\":\"Vector2\",\"type\":\"scatter3d\",\"x\":[0,-3.2200000286102295],\"y\":[0,-1.3255000114440918],\"z\":[0,2.259500026702881]},{\"marker\":{\"color\":[\"blue\"],\"line\":{\"color\":\"DarkSlateGrey\",\"width\":5},\"size\":[0,5]},\"name\":\"Vector3\",\"type\":\"scatter3d\",\"x\":[0,2.6700000762939453],\"y\":[0,-2.385499954223633],\"z\":[0,0.7734999656677246]},{\"marker\":{\"color\":[\"blue\"],\"line\":{\"color\":\"DarkSlateGrey\",\"width\":5},\"size\":[0,5]},\"name\":\"Vector4\",\"type\":\"scatter3d\",\"x\":[0,-2.429999828338623],\"y\":[0,1.8634998798370361],\"z\":[0,-1.5074999332427979]},{\"marker\":{\"color\":[\"blue\"],\"line\":{\"color\":\"DarkSlateGrey\",\"width\":5},\"size\":[0,5]},\"name\":\"Vector5\",\"type\":\"scatter3d\",\"x\":[0,-1.6059999465942383],\"y\":[0,0.9539999961853027],\"z\":[0,3.4809999465942383]},{\"marker\":{\"color\":[\"blue\"],\"line\":{\"color\":\"DarkSlateGrey\",\"width\":5},\"size\":[0,5]},\"name\":\"Vector6\",\"type\":\"scatter3d\",\"x\":[0,-3.0264999866485596],\"y\":[0,-2.315999984741211],\"z\":[0,-0.5815000534057617]},{\"marker\":{\"color\":[\"blue\"],\"line\":{\"color\":\"DarkSlateGrey\",\"width\":5},\"size\":[0,5]},\"name\":\"Vector7\",\"type\":\"scatter3d\",\"x\":[0,0.6755000352859497],\"y\":[0,-0.45100000500679016],\"z\":[0,-3.301499843597412]},{\"marker\":{\"color\":[\"blue\"],\"line\":{\"color\":\"DarkSlateGrey\",\"width\":5},\"size\":[0,5]},\"name\":\"Vector8\",\"type\":\"scatter3d\",\"x\":[0,-0.35199999809265137],\"y\":[0,-3.4235000610351562],\"z\":[0,1.1169999837875366]},{\"marker\":{\"color\":[\"blue\"],\"line\":{\"color\":\"DarkSlateGrey\",\"width\":5},\"size\":[0,5]},\"name\":\"Vector9\",\"type\":\"scatter3d\",\"x\":[0,1.754499912261963],\"y\":[0,-0.30650001764297485],\"z\":[0,-3.13700008392334]},{\"marker\":{\"color\":[\"blue\"],\"line\":{\"color\":\"DarkSlateGrey\",\"width\":5},\"size\":[0,5]},\"name\":\"Vector10\",\"type\":\"scatter3d\",\"x\":[0,-3.373499870300293],\"y\":[0,-0.2395000010728836],\"z\":[0,-1.4844999313354492]},{\"marker\":{\"color\":[\"blue\"],\"line\":{\"color\":\"DarkSlateGrey\",\"width\":5},\"size\":[0,5]},\"name\":\"Vector11\",\"type\":\"scatter3d\",\"x\":[0,-3.575000047683716],\"y\":[0,-1.5910000801086426],\"z\":[0,1.2630000114440918]},{\"marker\":{\"color\":[\"blue\"],\"line\":{\"color\":\"DarkSlateGrey\",\"width\":5},\"size\":[0,5]},\"name\":\"Vector12\",\"type\":\"scatter3d\",\"x\":[0,1.2969999313354492],\"y\":[0,-2.2680001258850098],\"z\":[0,2.3924999237060547]},{\"marker\":{\"color\":[\"blue\"],\"line\":{\"color\":\"DarkSlateGrey\",\"width\":5},\"size\":[0,5]},\"name\":\"Vector13\",\"type\":\"scatter3d\",\"x\":[0,-1.8330000638961792],\"y\":[0,-2.8454999923706055],\"z\":[0,2.1440000534057617]},{\"marker\":{\"color\":[\"blue\"],\"line\":{\"color\":\"DarkSlateGrey\",\"width\":5},\"size\":[0,5]},\"name\":\"Vector14\",\"type\":\"scatter3d\",\"x\":[0,-3.944499969482422],\"y\":[0,-0.6809999942779541],\"z\":[0,0.7879999876022339]},{\"marker\":{\"color\":[\"blue\"],\"line\":{\"color\":\"DarkSlateGrey\",\"width\":5},\"size\":[0,5]},\"name\":\"Vector15\",\"type\":\"scatter3d\",\"x\":[0,-1.1864999532699585],\"y\":[0,2.743499994277954],\"z\":[0,2.009500026702881]},{\"marker\":{\"color\":[\"blue\"],\"line\":{\"color\":\"DarkSlateGrey\",\"width\":5},\"size\":[0,5]},\"name\":\"Vector16\",\"type\":\"scatter3d\",\"x\":[0,3.2730000019073486],\"y\":[0,-1.4700000286102295],\"z\":[0,1.1759999990463257]},{\"marker\":{\"color\":[\"blue\"],\"line\":{\"color\":\"DarkSlateGrey\",\"width\":5},\"size\":[0,5]},\"name\":\"Vector17\",\"type\":\"scatter3d\",\"x\":[0,3.500499963760376],\"y\":[0,-0.17099998891353607],\"z\":[0,-1.6200000047683716]},{\"marker\":{\"color\":[\"blue\"],\"line\":{\"color\":\"DarkSlateGrey\",\"width\":5},\"size\":[0,5]},\"name\":\"Vector18\",\"type\":\"scatter3d\",\"x\":[0,-3.3310000896453857],\"y\":[0,0.9169999957084656],\"z\":[0,2.254499912261963]},{\"marker\":{\"color\":[\"blue\"],\"line\":{\"color\":\"DarkSlateGrey\",\"width\":5},\"size\":[0,5]},\"name\":\"Vector19\",\"type\":\"scatter3d\",\"x\":[0,-1.7174999713897705],\"y\":[0,-0.22600001096725464],\"z\":[0,3.6505000591278076]},{\"marker\":{\"color\":[\"blue\"],\"line\":{\"color\":\"DarkSlateGrey\",\"width\":5},\"size\":[0,5]},\"name\":\"Vector20\",\"type\":\"scatter3d\",\"x\":[0,-1.9135000705718994],\"y\":[0,-1.9210000038146973],\"z\":[0,-2.059499979019165]},{\"marker\":{\"color\":[\"blue\"],\"line\":{\"color\":\"DarkSlateGrey\",\"width\":5},\"size\":[0,5]},\"name\":\"Vector21\",\"type\":\"scatter3d\",\"x\":[0,-0.8374999761581421],\"y\":[0,3.2100000381469727],\"z\":[0,-0.31299999356269836]},{\"marker\":{\"color\":[\"blue\"],\"line\":{\"color\":\"DarkSlateGrey\",\"width\":5},\"size\":[0,5]},\"name\":\"Vector22\",\"type\":\"scatter3d\",\"x\":[0,3.8910000324249268],\"y\":[0,0.4255000352859497],\"z\":[0,0.5149999856948853]},{\"marker\":{\"color\":[\"blue\"],\"line\":{\"color\":\"DarkSlateGrey\",\"width\":5},\"size\":[0,5]},\"name\":\"Vector23\",\"type\":\"scatter3d\",\"x\":[0,0.6169999837875366],\"y\":[0,2.868499994277954],\"z\":[0,-1.8494999408721924]},{\"marker\":{\"color\":[\"blue\"],\"line\":{\"color\":\"DarkSlateGrey\",\"width\":5},\"size\":[0,5]},\"name\":\"Vector24\",\"type\":\"scatter3d\",\"x\":[0,1.628999948501587],\"y\":[0,2.509500026702881],\"z\":[0,-2.0920000076293945]},{\"marker\":{\"color\":[\"blue\"],\"line\":{\"color\":\"DarkSlateGrey\",\"width\":5},\"size\":[0,5]},\"name\":\"Vector25\",\"type\":\"scatter3d\",\"x\":[0,1.6470000743865967],\"y\":[0,0.7755000591278076],\"z\":[0,3.0239999294281006]},{\"marker\":{\"color\":[\"blue\"],\"line\":{\"color\":\"DarkSlateGrey\",\"width\":5},\"size\":[0,5]},\"name\":\"Vector26\",\"type\":\"scatter3d\",\"x\":[0,-3.6725001335144043],\"y\":[0,0.6290000081062317],\"z\":[0,-0.7739999890327454]},{\"marker\":{\"color\":[\"blue\"],\"line\":{\"color\":\"DarkSlateGrey\",\"width\":5},\"size\":[0,5]},\"name\":\"Vector27\",\"type\":\"scatter3d\",\"x\":[0,-1.183500051498413],\"y\":[0,-2.3494999408721924],\"z\":[0,2.9670000076293945]},{\"marker\":{\"color\":[\"blue\"],\"line\":{\"color\":\"DarkSlateGrey\",\"width\":5},\"size\":[0,5]},\"name\":\"Vector28\",\"type\":\"scatter3d\",\"x\":[0,-3.8324999809265137],\"y\":[0,0.15150000154972076],\"z\":[0,1.4994999170303345]},{\"marker\":{\"color\":[\"blue\"],\"line\":{\"color\":\"DarkSlateGrey\",\"width\":5},\"size\":[0,5]},\"name\":\"Vector29\",\"type\":\"scatter3d\",\"x\":[0,0.007500007748603821],\"y\":[0,-3.0820000171661377],\"z\":[0,-1.243499994277954]},{\"marker\":{\"color\":[\"blue\"],\"line\":{\"color\":\"DarkSlateGrey\",\"width\":5},\"size\":[0,5]},\"name\":\"Vector30\",\"type\":\"scatter3d\",\"x\":[0,-1.3044999837875366],\"y\":[0,0.25999999046325684],\"z\":[0,-2.8884999752044678]},{\"marker\":{\"color\":[\"blue\"],\"line\":{\"color\":\"DarkSlateGrey\",\"width\":5},\"size\":[0,5]},\"name\":\"Vector31\",\"type\":\"scatter3d\",\"x\":[0,3.1445000171661377],\"y\":[0,0.7590000033378601],\"z\":[0,-2.061500072479248]},{\"marker\":{\"color\":[\"blue\"],\"line\":{\"color\":\"DarkSlateGrey\",\"width\":5},\"size\":[0,5]},\"name\":\"Vector32\",\"type\":\"scatter3d\",\"x\":[0,-2.2730000019073486],\"y\":[0,-3.054500102996826],\"z\":[0,-0.09700001776218414]},{\"marker\":{\"color\":[\"blue\"],\"line\":{\"color\":\"DarkSlateGrey\",\"width\":5},\"size\":[0,5]},\"name\":\"Vector33\",\"type\":\"scatter3d\",\"x\":[0,0.1354999989271164],\"y\":[0,-0.593999981880188],\"z\":[0,3.6539998054504395]},{\"marker\":{\"color\":[\"blue\"],\"line\":{\"color\":\"DarkSlateGrey\",\"width\":5},\"size\":[0,5]},\"name\":\"Vector34\",\"type\":\"scatter3d\",\"x\":[0,2.6519999504089355],\"y\":[0,0.8845000267028809],\"z\":[0,2.3949999809265137]},{\"marker\":{\"color\":[\"blue\"],\"line\":{\"color\":\"DarkSlateGrey\",\"width\":5},\"size\":[0,5]},\"name\":\"Vector35\",\"type\":\"scatter3d\",\"x\":[0,3.873000144958496],\"y\":[0,0.04600001871585846],\"z\":[0,-0.6075000166893005]},{\"marker\":{\"color\":[\"blue\"],\"line\":{\"color\":\"DarkSlateGrey\",\"width\":5},\"size\":[0,5]},\"name\":\"Vector36\",\"type\":\"scatter3d\",\"x\":[0,1.2584999799728394],\"y\":[0,-1.9635000228881836],\"z\":[0,-2.55649995803833]},{\"marker\":{\"color\":[\"blue\"],\"line\":{\"color\":\"DarkSlateGrey\",\"width\":5},\"size\":[0,5]},\"name\":\"Vector37\",\"type\":\"scatter3d\",\"x\":[0,0.9629999995231628],\"y\":[0,2.5994999408721924],\"z\":[0,2.1410000324249268]},{\"marker\":{\"color\":[\"blue\"],\"line\":{\"color\":\"DarkSlateGrey\",\"width\":5},\"size\":[0,5]},\"name\":\"Vector38\",\"type\":\"scatter3d\",\"x\":[0,1.2634999752044678],\"y\":[0,3.3505001068115234],\"z\":[0,0.01199999451637268]},{\"marker\":{\"color\":[\"blue\"],\"line\":{\"color\":\"DarkSlateGrey\",\"width\":5},\"size\":[0,5]},\"name\":\"Vector39\",\"type\":\"scatter3d\",\"x\":[0,1.9950001239776611],\"y\":[0,2.685500144958496],\"z\":[0,1.49399995803833]},{\"marker\":{\"color\":[\"blue\"],\"line\":{\"color\":\"DarkSlateGrey\",\"width\":5},\"size\":[0,5]},\"name\":\"Vector40\",\"type\":\"scatter3d\",\"x\":[0,2.743500232696533],\"y\":[0,2.5434999465942383],\"z\":[0,0.7020000219345093]},{\"marker\":{\"color\":[\"blue\"],\"line\":{\"color\":\"DarkSlateGrey\",\"width\":5},\"size\":[0,5]},\"name\":\"Vector41\",\"type\":\"scatter3d\",\"x\":[0,2.0920000076293945],\"y\":[0,-2.739999771118164],\"z\":[0,-0.8765000104904175]},{\"marker\":{\"color\":[\"blue\"],\"line\":{\"color\":\"DarkSlateGrey\",\"width\":5},\"size\":[0,5]},\"name\":\"Vector42\",\"type\":\"scatter3d\",\"x\":[0,-2.994500160217285],\"y\":[0,2.2639999389648438],\"z\":[0,0.6759999990463257]},{\"marker\":{\"color\":[\"blue\"],\"line\":{\"color\":\"DarkSlateGrey\",\"width\":5},\"size\":[0,5]},\"name\":\"Vector43\",\"type\":\"scatter3d\",\"x\":[0,3.2820000648498535],\"y\":[0,1.5505000352859497],\"z\":[0,-1.3255000114440918]},{\"marker\":{\"color\":[\"blue\"],\"line\":{\"color\":\"DarkSlateGrey\",\"width\":5},\"size\":[0,5]},\"name\":\"Vector44\",\"type\":\"scatter3d\",\"x\":[0,2.9065001010894775],\"y\":[0,-0.8880000114440918],\"z\":[0,2.11899995803833]},{\"marker\":{\"color\":[\"blue\"],\"line\":{\"color\":\"DarkSlateGrey\",\"width\":5},\"size\":[0,5]},\"name\":\"Vector45\",\"type\":\"scatter3d\",\"x\":[0,2.944499969482422],\"y\":[0,-2.052500009536743],\"z\":[0,-0.9989999532699585]}],                        {\"margin\":{\"b\":4,\"l\":4,\"r\":4,\"t\":4},\"template\":{\"data\":{\"bar\":[{\"error_x\":{\"color\":\"#2a3f5f\"},\"error_y\":{\"color\":\"#2a3f5f\"},\"marker\":{\"line\":{\"color\":\"#E5ECF6\",\"width\":0.5},\"pattern\":{\"fillmode\":\"overlay\",\"size\":10,\"solidity\":0.2}},\"type\":\"bar\"}],\"barpolar\":[{\"marker\":{\"line\":{\"color\":\"#E5ECF6\",\"width\":0.5},\"pattern\":{\"fillmode\":\"overlay\",\"size\":10,\"solidity\":0.2}},\"type\":\"barpolar\"}],\"carpet\":[{\"aaxis\":{\"endlinecolor\":\"#2a3f5f\",\"gridcolor\":\"white\",\"linecolor\":\"white\",\"minorgridcolor\":\"white\",\"startlinecolor\":\"#2a3f5f\"},\"baxis\":{\"endlinecolor\":\"#2a3f5f\",\"gridcolor\":\"white\",\"linecolor\":\"white\",\"minorgridcolor\":\"white\",\"startlinecolor\":\"#2a3f5f\"},\"type\":\"carpet\"}],\"choropleth\":[{\"colorbar\":{\"outlinewidth\":0,\"ticks\":\"\"},\"type\":\"choropleth\"}],\"contour\":[{\"colorbar\":{\"outlinewidth\":0,\"ticks\":\"\"},\"colorscale\":[[0.0,\"#0d0887\"],[0.1111111111111111,\"#46039f\"],[0.2222222222222222,\"#7201a8\"],[0.3333333333333333,\"#9c179e\"],[0.4444444444444444,\"#bd3786\"],[0.5555555555555556,\"#d8576b\"],[0.6666666666666666,\"#ed7953\"],[0.7777777777777778,\"#fb9f3a\"],[0.8888888888888888,\"#fdca26\"],[1.0,\"#f0f921\"]],\"type\":\"contour\"}],\"contourcarpet\":[{\"colorbar\":{\"outlinewidth\":0,\"ticks\":\"\"},\"type\":\"contourcarpet\"}],\"heatmap\":[{\"colorbar\":{\"outlinewidth\":0,\"ticks\":\"\"},\"colorscale\":[[0.0,\"#0d0887\"],[0.1111111111111111,\"#46039f\"],[0.2222222222222222,\"#7201a8\"],[0.3333333333333333,\"#9c179e\"],[0.4444444444444444,\"#bd3786\"],[0.5555555555555556,\"#d8576b\"],[0.6666666666666666,\"#ed7953\"],[0.7777777777777778,\"#fb9f3a\"],[0.8888888888888888,\"#fdca26\"],[1.0,\"#f0f921\"]],\"type\":\"heatmap\"}],\"heatmapgl\":[{\"colorbar\":{\"outlinewidth\":0,\"ticks\":\"\"},\"colorscale\":[[0.0,\"#0d0887\"],[0.1111111111111111,\"#46039f\"],[0.2222222222222222,\"#7201a8\"],[0.3333333333333333,\"#9c179e\"],[0.4444444444444444,\"#bd3786\"],[0.5555555555555556,\"#d8576b\"],[0.6666666666666666,\"#ed7953\"],[0.7777777777777778,\"#fb9f3a\"],[0.8888888888888888,\"#fdca26\"],[1.0,\"#f0f921\"]],\"type\":\"heatmapgl\"}],\"histogram\":[{\"marker\":{\"pattern\":{\"fillmode\":\"overlay\",\"size\":10,\"solidity\":0.2}},\"type\":\"histogram\"}],\"histogram2d\":[{\"colorbar\":{\"outlinewidth\":0,\"ticks\":\"\"},\"colorscale\":[[0.0,\"#0d0887\"],[0.1111111111111111,\"#46039f\"],[0.2222222222222222,\"#7201a8\"],[0.3333333333333333,\"#9c179e\"],[0.4444444444444444,\"#bd3786\"],[0.5555555555555556,\"#d8576b\"],[0.6666666666666666,\"#ed7953\"],[0.7777777777777778,\"#fb9f3a\"],[0.8888888888888888,\"#fdca26\"],[1.0,\"#f0f921\"]],\"type\":\"histogram2d\"}],\"histogram2dcontour\":[{\"colorbar\":{\"outlinewidth\":0,\"ticks\":\"\"},\"colorscale\":[[0.0,\"#0d0887\"],[0.1111111111111111,\"#46039f\"],[0.2222222222222222,\"#7201a8\"],[0.3333333333333333,\"#9c179e\"],[0.4444444444444444,\"#bd3786\"],[0.5555555555555556,\"#d8576b\"],[0.6666666666666666,\"#ed7953\"],[0.7777777777777778,\"#fb9f3a\"],[0.8888888888888888,\"#fdca26\"],[1.0,\"#f0f921\"]],\"type\":\"histogram2dcontour\"}],\"mesh3d\":[{\"colorbar\":{\"outlinewidth\":0,\"ticks\":\"\"},\"type\":\"mesh3d\"}],\"parcoords\":[{\"line\":{\"colorbar\":{\"outlinewidth\":0,\"ticks\":\"\"}},\"type\":\"parcoords\"}],\"pie\":[{\"automargin\":true,\"type\":\"pie\"}],\"scatter\":[{\"marker\":{\"colorbar\":{\"outlinewidth\":0,\"ticks\":\"\"}},\"type\":\"scatter\"}],\"scatter3d\":[{\"line\":{\"colorbar\":{\"outlinewidth\":0,\"ticks\":\"\"}},\"marker\":{\"colorbar\":{\"outlinewidth\":0,\"ticks\":\"\"}},\"type\":\"scatter3d\"}],\"scattercarpet\":[{\"marker\":{\"colorbar\":{\"outlinewidth\":0,\"ticks\":\"\"}},\"type\":\"scattercarpet\"}],\"scattergeo\":[{\"marker\":{\"colorbar\":{\"outlinewidth\":0,\"ticks\":\"\"}},\"type\":\"scattergeo\"}],\"scattergl\":[{\"marker\":{\"colorbar\":{\"outlinewidth\":0,\"ticks\":\"\"}},\"type\":\"scattergl\"}],\"scattermapbox\":[{\"marker\":{\"colorbar\":{\"outlinewidth\":0,\"ticks\":\"\"}},\"type\":\"scattermapbox\"}],\"scatterpolar\":[{\"marker\":{\"colorbar\":{\"outlinewidth\":0,\"ticks\":\"\"}},\"type\":\"scatterpolar\"}],\"scatterpolargl\":[{\"marker\":{\"colorbar\":{\"outlinewidth\":0,\"ticks\":\"\"}},\"type\":\"scatterpolargl\"}],\"scatterternary\":[{\"marker\":{\"colorbar\":{\"outlinewidth\":0,\"ticks\":\"\"}},\"type\":\"scatterternary\"}],\"surface\":[{\"colorbar\":{\"outlinewidth\":0,\"ticks\":\"\"},\"colorscale\":[[0.0,\"#0d0887\"],[0.1111111111111111,\"#46039f\"],[0.2222222222222222,\"#7201a8\"],[0.3333333333333333,\"#9c179e\"],[0.4444444444444444,\"#bd3786\"],[0.5555555555555556,\"#d8576b\"],[0.6666666666666666,\"#ed7953\"],[0.7777777777777778,\"#fb9f3a\"],[0.8888888888888888,\"#fdca26\"],[1.0,\"#f0f921\"]],\"type\":\"surface\"}],\"table\":[{\"cells\":{\"fill\":{\"color\":\"#EBF0F8\"},\"line\":{\"color\":\"white\"}},\"header\":{\"fill\":{\"color\":\"#C8D4E3\"},\"line\":{\"color\":\"white\"}},\"type\":\"table\"}]},\"layout\":{\"annotationdefaults\":{\"arrowcolor\":\"#2a3f5f\",\"arrowhead\":0,\"arrowwidth\":1},\"autotypenumbers\":\"strict\",\"coloraxis\":{\"colorbar\":{\"outlinewidth\":0,\"ticks\":\"\"}},\"colorscale\":{\"diverging\":[[0,\"#8e0152\"],[0.1,\"#c51b7d\"],[0.2,\"#de77ae\"],[0.3,\"#f1b6da\"],[0.4,\"#fde0ef\"],[0.5,\"#f7f7f7\"],[0.6,\"#e6f5d0\"],[0.7,\"#b8e186\"],[0.8,\"#7fbc41\"],[0.9,\"#4d9221\"],[1,\"#276419\"]],\"sequential\":[[0.0,\"#0d0887\"],[0.1111111111111111,\"#46039f\"],[0.2222222222222222,\"#7201a8\"],[0.3333333333333333,\"#9c179e\"],[0.4444444444444444,\"#bd3786\"],[0.5555555555555556,\"#d8576b\"],[0.6666666666666666,\"#ed7953\"],[0.7777777777777778,\"#fb9f3a\"],[0.8888888888888888,\"#fdca26\"],[1.0,\"#f0f921\"]],\"sequentialminus\":[[0.0,\"#0d0887\"],[0.1111111111111111,\"#46039f\"],[0.2222222222222222,\"#7201a8\"],[0.3333333333333333,\"#9c179e\"],[0.4444444444444444,\"#bd3786\"],[0.5555555555555556,\"#d8576b\"],[0.6666666666666666,\"#ed7953\"],[0.7777777777777778,\"#fb9f3a\"],[0.8888888888888888,\"#fdca26\"],[1.0,\"#f0f921\"]]},\"colorway\":[\"#636efa\",\"#EF553B\",\"#00cc96\",\"#ab63fa\",\"#FFA15A\",\"#19d3f3\",\"#FF6692\",\"#B6E880\",\"#FF97FF\",\"#FECB52\"],\"font\":{\"color\":\"#2a3f5f\"},\"geo\":{\"bgcolor\":\"white\",\"lakecolor\":\"white\",\"landcolor\":\"#E5ECF6\",\"showlakes\":true,\"showland\":true,\"subunitcolor\":\"white\"},\"hoverlabel\":{\"align\":\"left\"},\"hovermode\":\"closest\",\"mapbox\":{\"style\":\"light\"},\"paper_bgcolor\":\"white\",\"plot_bgcolor\":\"#E5ECF6\",\"polar\":{\"angularaxis\":{\"gridcolor\":\"white\",\"linecolor\":\"white\",\"ticks\":\"\"},\"bgcolor\":\"#E5ECF6\",\"radialaxis\":{\"gridcolor\":\"white\",\"linecolor\":\"white\",\"ticks\":\"\"}},\"scene\":{\"xaxis\":{\"backgroundcolor\":\"#E5ECF6\",\"gridcolor\":\"white\",\"gridwidth\":2,\"linecolor\":\"white\",\"showbackground\":true,\"ticks\":\"\",\"zerolinecolor\":\"white\"},\"yaxis\":{\"backgroundcolor\":\"#E5ECF6\",\"gridcolor\":\"white\",\"gridwidth\":2,\"linecolor\":\"white\",\"showbackground\":true,\"ticks\":\"\",\"zerolinecolor\":\"white\"},\"zaxis\":{\"backgroundcolor\":\"#E5ECF6\",\"gridcolor\":\"white\",\"gridwidth\":2,\"linecolor\":\"white\",\"showbackground\":true,\"ticks\":\"\",\"zerolinecolor\":\"white\"}},\"shapedefaults\":{\"line\":{\"color\":\"#2a3f5f\"}},\"ternary\":{\"aaxis\":{\"gridcolor\":\"white\",\"linecolor\":\"white\",\"ticks\":\"\"},\"baxis\":{\"gridcolor\":\"white\",\"linecolor\":\"white\",\"ticks\":\"\"},\"bgcolor\":\"#E5ECF6\",\"caxis\":{\"gridcolor\":\"white\",\"linecolor\":\"white\",\"ticks\":\"\"}},\"title\":{\"x\":0.05},\"xaxis\":{\"automargin\":true,\"gridcolor\":\"white\",\"linecolor\":\"white\",\"ticks\":\"\",\"title\":{\"standoff\":15},\"zerolinecolor\":\"white\",\"zerolinewidth\":2},\"yaxis\":{\"automargin\":true,\"gridcolor\":\"white\",\"linecolor\":\"white\",\"ticks\":\"\",\"title\":{\"standoff\":15},\"zerolinecolor\":\"white\",\"zerolinewidth\":2}}}},                        {\"responsive\": true}                    ).then(function(){\n",
       "                            \n",
       "var gd = document.getElementById('9b5156cf-9550-48af-a5cb-8963d7a374fb');\n",
       "var x = new MutationObserver(function (mutations, observer) {{\n",
       "        var display = window.getComputedStyle(gd).display;\n",
       "        if (!display || display === 'none') {{\n",
       "            console.log([gd, 'removed!']);\n",
       "            Plotly.purge(gd);\n",
       "            observer.disconnect();\n",
       "        }}\n",
       "}});\n",
       "\n",
       "// Listen for the removal of the full notebook cells\n",
       "var notebookContainer = gd.closest('#notebook-container');\n",
       "if (notebookContainer) {{\n",
       "    x.observe(notebookContainer, {childList: true});\n",
       "}}\n",
       "\n",
       "// Listen for the clearing of the current output cell\n",
       "var outputEl = gd.closest('.output');\n",
       "if (outputEl) {{\n",
       "    x.observe(outputEl, {childList: true});\n",
       "}}\n",
       "\n",
       "                        })                };                });            </script>        </div>"
      ]
     },
     "metadata": {},
     "output_type": "display_data"
    }
   ],
   "source": [
    "vector_plot(NPPositions) # The all-atomic C70"
   ]
  },
  {
   "cell_type": "code",
   "execution_count": 108,
   "metadata": {},
   "outputs": [
    {
     "ename": "NameError",
     "evalue": "name 'mol1' is not defined",
     "output_type": "error",
     "traceback": [
      "\u001b[0;31m---------------------------------------------------------------------------\u001b[0m",
      "\u001b[0;31mNameError\u001b[0m                                 Traceback (most recent call last)",
      "\u001b[0;32m<ipython-input-108-52a5ef16903e>\u001b[0m in \u001b[0;36m<module>\u001b[0;34m\u001b[0m\n\u001b[0;32m----> 1\u001b[0;31m \u001b[0mmol1\u001b[0m \u001b[0;31m# Nice..\u001b[0m\u001b[0;34m\u001b[0m\u001b[0;34m\u001b[0m\u001b[0m\n\u001b[0m",
      "\u001b[0;31mNameError\u001b[0m: name 'mol1' is not defined"
     ]
    }
   ],
   "source": [
    "mol1 # Nice..  "
   ]
  },
  {
   "cell_type": "code",
   "execution_count": null,
   "metadata": {},
   "outputs": [],
   "source": [
    "# https://stackoverflow.com/questions/53075481/how-do-i-cluster-a-list-of-geographic-points-by-distance\n",
    "\n",
    "\n",
    "import numpy as np\n",
    "from sklearn.cluster import KMeans\n",
    "from scipy.spatial.distance import cdist\n",
    "import math\n",
    "\n",
    "points = np.array([[33.    , 41.    ],\n",
    "       [33.9693, 41.3923],\n",
    "       [33.6074, 41.277 ],\n",
    "       [34.4823, 41.919 ],\n",
    "       [34.3702, 41.1424],\n",
    "       [34.3931, 41.078 ],\n",
    "       [34.2377, 41.0576],\n",
    "       [34.2395, 41.0211],\n",
    "       [34.4443, 41.3499],\n",
    "       [34.3812, 40.9793]])\n",
    "\n",
    "\n",
    "def distance(origin, destination): #found here https://gist.github.com/rochacbruno/2883505\n",
    "    lat1, lon1 = origin[0],origin[1]\n",
    "    lat2, lon2 = destination[0],destination[1]\n",
    "    radius = 6371 # km\n",
    "    dlat = math.radians(lat2-lat1)\n",
    "    dlon = math.radians(lon2-lon1)\n",
    "    a = math.sin(dlat/2) * math.sin(dlat/2) + math.cos(math.radians(lat1)) \\\n",
    "        * math.cos(math.radians(lat2)) * math.sin(dlon/2) * math.sin(dlon/2)\n",
    "    c = 2 * math.atan2(math.sqrt(a), math.sqrt(1-a))\n",
    "    d = radius * c\n",
    "\n",
    "    return d\n",
    "\n",
    "def create_clusters(number_of_clusters,points):\n",
    "    kmeans = KMeans(n_clusters=number_of_clusters, random_state=0).fit(points)\n",
    "    l_array = np.array([[label] for label in kmeans.labels_])\n",
    "    clusters = np.append(points,l_array,axis=1)\n",
    "    return clusters\n",
    "\n",
    "def validate_solution(max_dist,clusters):\n",
    "    _, __, n_clust = clusters.max(axis=0)\n",
    "    n_clust = int(n_clust)\n",
    "    for i in range(n_clust):\n",
    "        two_d_cluster=clusters[clusters[:,2] == i][:,np.array([True, True, False])]\n",
    "        if not validate_cluster(max_dist,two_d_cluster):\n",
    "            return False\n",
    "        else:\n",
    "            continue\n",
    "    return True\n",
    "\n",
    "def validate_cluster(max_dist,cluster):\n",
    "    distances = cdist(cluster,cluster, lambda ori,des: int(round(distance(ori,des))))\n",
    "    print(distances)\n",
    "    print(30*'-')\n",
    "    for item in distances.flatten():\n",
    "        if item > max_dist:\n",
    "            return False\n",
    "    return True\n",
    "\n",
    "if __name__ == '__main__':\n",
    "    for i in range(2,len(points)):\n",
    "        print(i)\n",
    "        print(validate_solution(20,create_clusters(i,points)))\n"
   ]
  },
  {
   "cell_type": "code",
   "execution_count": 96,
   "metadata": {},
   "outputs": [
    {
     "ename": "NameError",
     "evalue": "name 'DistIndex1Index2' is not defined",
     "output_type": "error",
     "traceback": [
      "\u001b[0;31m---------------------------------------------------------------------------\u001b[0m",
      "\u001b[0;31mNameError\u001b[0m                                 Traceback (most recent call last)",
      "\u001b[0;32m<ipython-input-96-d2d4f81dbcc1>\u001b[0m in \u001b[0;36m<module>\u001b[0;34m\u001b[0m\n\u001b[0;32m----> 1\u001b[0;31m \u001b[0mDistIndex1Index2\u001b[0m\u001b[0;34m\u001b[0m\u001b[0;34m\u001b[0m\u001b[0m\n\u001b[0m\u001b[1;32m      2\u001b[0m \u001b[0mUniqueIndex1Index2Distances\u001b[0m \u001b[0;34m=\u001b[0m \u001b[0;34m[\u001b[0m\u001b[0mlist\u001b[0m\u001b[0;34m(\u001b[0m\u001b[0mi\u001b[0m\u001b[0;34m)\u001b[0m \u001b[0;32mfor\u001b[0m \u001b[0mi\u001b[0m \u001b[0;32min\u001b[0m \u001b[0mlist\u001b[0m\u001b[0;34m(\u001b[0m\u001b[0mset\u001b[0m\u001b[0;34m(\u001b[0m\u001b[0mmap\u001b[0m\u001b[0;34m(\u001b[0m\u001b[0mtuple\u001b[0m\u001b[0;34m,\u001b[0m \u001b[0mDistIndex1Index2\u001b[0m\u001b[0;34m)\u001b[0m\u001b[0;34m)\u001b[0m\u001b[0;34m)\u001b[0m\u001b[0;34m]\u001b[0m\u001b[0;34m\u001b[0m\u001b[0;34m\u001b[0m\u001b[0m\n",
      "\u001b[0;31mNameError\u001b[0m: name 'DistIndex1Index2' is not defined"
     ]
    }
   ],
   "source": [
    "DistIndex1Index2\n",
    "UniqueIndex1Index2Distances = [list(i) for i in list(set(map(tuple, DistIndex1Index2)))]"
   ]
  },
  {
   "cell_type": "code",
   "execution_count": 46,
   "metadata": {},
   "outputs": [
    {
     "data": {
      "text/plain": [
       "[[18, 65, 6.64815092086792],\n",
       " [0, 51, 4.427081108093262],\n",
       " [35, 35, 0.0],\n",
       " [20, 67, 10.651045799255371],\n",
       " [19, 31, 3.640019416809082],\n",
       " [22, 60, 3.9544761180877686],\n",
       " [21, 53, 5.266445159912109],\n",
       " [61, 69, 10.69324016571045],\n",
       " [59, 63, 6.798757553100586],\n",
       " [19, 48, 1.9258581399917603],\n",
       " [53, 54, 3.2481539249420166],\n",
       " [17, 54, 1.635805606842041],\n",
       " [7, 34, 4.003473281860352],\n",
       " [31, 48, 3.028903007507324],\n",
       " [18, 43, 5.519561767578125],\n",
       " [24, 66, 7.257744789123535],\n",
       " [14, 24, 4.761957168579102],\n",
       " [28, 47, 2.816699981689453],\n",
       " [38, 61, 7.592782020568848],\n",
       " [15, 38, 3.1611859798431396],\n",
       " [64, 64, 0.0],\n",
       " [37, 45, 2.155844211578369],\n",
       " [52, 53, 1.4451425075531006],\n",
       " [33, 47, 6.768251895904541],\n",
       " [38, 40, 5.166460990905762],\n",
       " [9, 48, 4.720318794250488],\n",
       " [10, 34, 2.2927489280700684],\n",
       " [23, 69, 9.618305206298828],\n",
       " [3, 15, 2.5336389541625977],\n",
       " [43, 43, 0.0],\n",
       " [1, 29, 2.6117777824401855],\n",
       " [48, 63, 4.192844867706299],\n",
       " [56, 66, 11.617565155029297],\n",
       " [2, 4, 1.3606945276260376],\n",
       " [30, 31, 1.0803626775741577],\n",
       " [33, 64, 6.336349964141846],\n",
       " [42, 52, 2.494317054748535],\n",
       " [41, 60, 1.8150866031646729],\n",
       " [53, 60, 6.944568157196045],\n",
       " [15, 52, 5.576801776885986],\n",
       " [22, 27, 5.240784168243408],\n",
       " [44, 52, 2.188629150390625],\n",
       " [29, 32, 4.156818389892578],\n",
       " [34, 59, 5.854626178741455],\n",
       " [51, 69, 9.919713973999023],\n",
       " [6, 63, 4.003302574157715],\n",
       " [63, 64, 4.3650102615356445],\n",
       " [16, 65, 8.38591480255127],\n",
       " [48, 62, 7.288478374481201],\n",
       " [45, 61, 6.249773979187012],\n",
       " [2, 52, 3.298570394515991],\n",
       " [7, 30, 3.534514904022217],\n",
       " [29, 49, 0.8249815702438354],\n",
       " [6, 12, 3.556917190551758],\n",
       " [17, 29, 4.217495918273926],\n",
       " [35, 68, 8.291271209716797],\n",
       " [18, 27, 1.63579261302948],\n",
       " [30, 66, 9.225709915161133],\n",
       " [5, 17, 3.5868849754333496],\n",
       " [21, 49, 3.756588935852051],\n",
       " [27, 50, 6.168900012969971],\n",
       " [41, 56, 6.746397972106934],\n",
       " [15, 44, 5.836010456085205],\n",
       " [11, 26, 4.613725185394287],\n",
       " [0, 41, 3.417840003967285],\n",
       " [22, 64, 6.152454853057861],\n",
       " [31, 41, 2.312474250793457],\n",
       " [25, 64, 5.515448093414307],\n",
       " [4, 49, 3.151129722595215],\n",
       " [27, 59, 5.016393184661865],\n",
       " [9, 29, 3.903088331222534],\n",
       " [18, 50, 5.103905200958252],\n",
       " [59, 66, 8.50438117980957],\n",
       " [1, 45, 3.1675915718078613],\n",
       " [10, 61, 2.5081655979156494],\n",
       " [15, 33, 4.024575710296631],\n",
       " [31, 56, 5.060232162475586],\n",
       " [34, 39, 5.886603832244873],\n",
       " [42, 51, 0.8250042200088501],\n",
       " [5, 63, 5.421255588531494],\n",
       " [56, 65, 8.733559608459473],\n",
       " [45, 60, 7.18115758895874],\n",
       " [24, 42, 4.018430233001709],\n",
       " [39, 51, 6.593211650848389],\n",
       " [18, 18, 0.0],\n",
       " [54, 64, 5.835537433624268],\n",
       " [23, 59, 5.094933986663818],\n",
       " [28, 41, 4.545000076293945],\n",
       " [40, 56, 5.8379387855529785],\n",
       " [18, 55, 3.591379165649414],\n",
       " [23, 35, 1.968091368675232],\n",
       " [6, 42, 4.889581203460693],\n",
       " [33, 40, 3.27685546875],\n",
       " [48, 49, 1.4701764583587646],\n",
       " [35, 60, 6.409908771514893],\n",
       " [27, 33, 5.767588138580322],\n",
       " [8, 60, 5.191028118133545],\n",
       " [15, 25, 4.664247035980225],\n",
       " [14, 67, 10.321395874023438],\n",
       " [24, 62, 1.6225694417953491],\n",
       " [14, 68, 9.209421157836914],\n",
       " [52, 69, 10.77955436706543],\n",
       " [12, 17, 1.6561696529388428],\n",
       " [19, 38, 1.0044810771942139],\n",
       " [57, 61, 7.826660633087158],\n",
       " [17, 58, 5.542129039764404],\n",
       " [9, 15, 3.185291290283203],\n",
       " [12, 12, 0.0],\n",
       " [3, 29, 3.185291290283203],\n",
       " [1, 54, 3.2227425575256348],\n",
       " [47, 48, 2.805043935775757],\n",
       " [9, 18, 3.5583508014678955],\n",
       " [1, 20, 3.2289106845855713],\n",
       " [65, 68, 13.518939018249512],\n",
       " [34, 53, 1.5211210250854492],\n",
       " [17, 39, 3.6108016967773438],\n",
       " [30, 61, 5.943300247192383],\n",
       " [46, 48, 3.8561718463897705],\n",
       " [57, 67, 10.669516563415527],\n",
       " [33, 34, 2.6598246097564697],\n",
       " [11, 46, 5.614176273345947],\n",
       " [45, 47, 4.017201900482178],\n",
       " [29, 69, 4.54984712600708],\n",
       " [45, 58, 7.064313888549805],\n",
       " [23, 60, 4.808932781219482],\n",
       " [22, 48, 5.731204509735107],\n",
       " [6, 6, 0.0],\n",
       " [1, 24, 2.749318838119507],\n",
       " [41, 41, 0.0],\n",
       " [8, 10, 2.7361488342285156],\n",
       " [18, 69, 5.173657417297363],\n",
       " [22, 56, 6.617608070373535],\n",
       " [50, 61, 2.1141679286956787],\n",
       " [19, 33, 5.240784168243408],\n",
       " [2, 17, 1.4290003776550293],\n",
       " [26, 56, 2.10941219329834],\n",
       " [25, 49, 5.827223777770996],\n",
       " [10, 13, 1.692392349243164],\n",
       " [46, 57, 3.2661447525024414],\n",
       " [4, 47, 4.098909854888916],\n",
       " [13, 29, 4.656588554382324],\n",
       " [39, 56, 1.6835718154907227],\n",
       " [6, 49, 2.0083115100860596],\n",
       " [31, 33, 3.7104685306549072],\n",
       " [34, 42, 2.3695406913757324],\n",
       " [10, 41, 1.99586820602417],\n",
       " [26, 34, 4.6532511711120605],\n",
       " [52, 52, 0.0],\n",
       " [38, 67, 9.378941535949707],\n",
       " [63, 66, 11.135106086730957],\n",
       " [36, 50, 6.360636234283447],\n",
       " [27, 68, 5.391380310058594],\n",
       " [2, 60, 4.387680530548096],\n",
       " [1, 6, 1.4289213418960571],\n",
       " [2, 24, 2.0624451637268066],\n",
       " [31, 31, 0.0],\n",
       " [54, 63, 2.331386089324951],\n",
       " [14, 46, 5.141540050506592],\n",
       " [16, 62, 3.868007183074951],\n",
       " [37, 62, 4.186834335327148],\n",
       " [16, 36, 1.3804872035980225],\n",
       " [6, 45, 4.577050685882568],\n",
       " [53, 66, 6.4065704345703125],\n",
       " [40, 43, 5.094933986663818],\n",
       " [24, 51, 4.7335968017578125],\n",
       " [33, 50, 1.2369740009307861],\n",
       " [12, 54, 2.7934961318969727],\n",
       " [16, 44, 3.2519569396972656],\n",
       " [8, 20, 4.135176181793213],\n",
       " [32, 67, 9.659399032592773],\n",
       " [15, 31, 1.2648451328277588],\n",
       " [4, 35, 3.647273540496826],\n",
       " [5, 12, 3.165099859237671],\n",
       " [12, 15, 4.157989978790283],\n",
       " [22, 29, 4.755058765411377],\n",
       " [10, 42, 1.733311653137207],\n",
       " [29, 64, 1.5725644826889038],\n",
       " [42, 53, 3.859102964401245],\n",
       " [44, 67, 4.588124752044678],\n",
       " [6, 57, 2.1905269622802734],\n",
       " [18, 26, 2.2175934314727783],\n",
       " [13, 20, 3.8675949573516846],\n",
       " [29, 52, 6.269161224365234],\n",
       " [1, 31, 3.3346939086914062],\n",
       " [17, 47, 3.0257163047790527],\n",
       " [6, 14, 1.6155325174331665],\n",
       " [21, 48, 4.5835347175598145],\n",
       " [0, 7, 1.5244444608688354],\n",
       " [8, 17, 0.8244756460189819],\n",
       " [29, 65, 5.409593105316162],\n",
       " [30, 46, 5.174880027770996],\n",
       " [17, 62, 3.061955451965332],\n",
       " [17, 35, 2.412760019302368],\n",
       " [17, 22, 3.899630546569824],\n",
       " [5, 27, 3.8187198638916016],\n",
       " [36, 46, 2.1422605514526367],\n",
       " [47, 62, 5.985584735870361],\n",
       " [49, 62, 7.750545978546143],\n",
       " [0, 3, 1.3331000804901123],\n",
       " [19, 42, 5.7925333976745605],\n",
       " [47, 49, 4.18334436416626],\n",
       " [5, 58, 2.9407906532287598],\n",
       " [57, 66, 11.118419647216797],\n",
       " [50, 52, 4.186820030212402],\n",
       " [16, 30, 4.351828575134277],\n",
       " [11, 44, 4.71926736831665],\n",
       " [18, 47, 2.3082427978515625],\n",
       " [23, 31, 4.57295036315918],\n",
       " [31, 66, 8.292374610900879],\n",
       " [20, 40, 0.6314859390258789],\n",
       " [0, 25, 3.1676747798919678],\n",
       " [5, 45, 4.946439743041992],\n",
       " [35, 50, 5.000040531158447],\n",
       " [7, 69, 6.713159561157227],\n",
       " [27, 53, 5.180055141448975],\n",
       " [17, 65, 8.457173347473145],\n",
       " [8, 30, 4.409616947174072],\n",
       " [28, 43, 6.08696174621582],\n",
       " [11, 20, 1.6014621257781982],\n",
       " [3, 64, 4.351775169372559],\n",
       " [11, 47, 5.527571201324463],\n",
       " [9, 67, 7.740379810333252],\n",
       " [48, 67, 10.942323684692383],\n",
       " [6, 65, 5.981174468994141],\n",
       " [67, 69, 14.691831588745117],\n",
       " [17, 60, 5.77675199508667],\n",
       " [8, 56, 4.18351936340332],\n",
       " [9, 64, 5.147359371185303],\n",
       " [25, 66, 8.253619194030762],\n",
       " [18, 48, 1.309064269065857],\n",
       " [46, 64, 4.054368019104004],\n",
       " [12, 13, 0.8499582409858704],\n",
       " [24, 37, 2.991631507873535],\n",
       " [15, 29, 0.8250041007995605],\n",
       " [7, 51, 5.5664896965026855],\n",
       " [8, 67, 6.800729274749756],\n",
       " [0, 59, 3.1360514163970947],\n",
       " [6, 20, 2.434326648712158],\n",
       " [43, 46, 6.142202377319336],\n",
       " [18, 21, 3.9276487827301025],\n",
       " [43, 48, 6.71156644821167],\n",
       " [25, 57, 4.964887619018555],\n",
       " [27, 39, 1.7332677841186523],\n",
       " [0, 55, 3.7883777618408203],\n",
       " [61, 65, 5.95111608505249],\n",
       " [35, 56, 6.1134819984436035],\n",
       " [15, 55, 5.020025730133057],\n",
       " [8, 63, 3.396746873855591],\n",
       " [13, 68, 8.72087287902832],\n",
       " [7, 50, 5.237288475036621],\n",
       " [20, 26, 4.934817790985107],\n",
       " [41, 54, 6.867424488067627],\n",
       " [35, 49, 6.674761772155762],\n",
       " [29, 29, 0.0],\n",
       " [34, 55, 5.053740501403809],\n",
       " [19, 64, 2.259819746017456],\n",
       " [29, 45, 5.740376949310303],\n",
       " [8, 8, 0.0],\n",
       " [11, 62, 5.187825679779053],\n",
       " [22, 58, 5.274677276611328],\n",
       " [24, 57, 5.621973991394043],\n",
       " [31, 69, 5.686630725860596],\n",
       " [0, 10, 2.4932656288146973],\n",
       " [57, 65, 7.3355817794799805],\n",
       " [59, 62, 7.709643840789795],\n",
       " [11, 55, 5.715414047241211],\n",
       " [6, 9, 2.9268999099731445],\n",
       " [52, 67, 5.938985824584961],\n",
       " [3, 16, 2.4916129112243652],\n",
       " [28, 32, 4.717612266540527],\n",
       " [14, 54, 5.753469467163086],\n",
       " [30, 36, 5.662965297698975],\n",
       " [2, 43, 3.2041656970977783],\n",
       " [22, 37, 5.348413467407227],\n",
       " [40, 46, 6.450369834899902],\n",
       " [18, 51, 5.792583465576172],\n",
       " [25, 69, 8.963458061218262],\n",
       " [25, 28, 4.684703826904297],\n",
       " [69, 69, 0.0],\n",
       " [0, 43, 4.122316837310791],\n",
       " [15, 41, 3.1023178100585938],\n",
       " [33, 36, 5.491823196411133],\n",
       " [23, 26, 4.621557235717773],\n",
       " [48, 69, 3.865515947341919],\n",
       " [4, 6, 1.519861102104187],\n",
       " [1, 40, 3.820488214492798],\n",
       " [48, 48, 0.0],\n",
       " [40, 63, 6.874696254730225],\n",
       " [23, 37, 4.735558986663818],\n",
       " [16, 18, 2.44634747505188],\n",
       " [33, 46, 6.6574296951293945],\n",
       " [9, 23, 1.1753339767456055],\n",
       " [41, 62, 6.430389404296875],\n",
       " [19, 51, 6.057557582855225],\n",
       " [55, 67, 6.96900749206543],\n",
       " [12, 55, 3.638624429702759],\n",
       " [49, 55, 5.719061374664307],\n",
       " [35, 47, 5.438351154327393],\n",
       " [47, 69, 5.8815202713012695],\n",
       " [10, 68, 9.721632957458496],\n",
       " [62, 66, 7.101722240447998],\n",
       " [42, 63, 7.3891377449035645],\n",
       " [3, 34, 2.4616169929504395],\n",
       " [11, 31, 2.3520641326904297],\n",
       " [25, 42, 4.8401713371276855],\n",
       " [46, 52, 5.92451286315918],\n",
       " [32, 34, 3.419534206390381],\n",
       " [60, 69, 6.3873515129089355],\n",
       " [9, 51, 2.756197214126587],\n",
       " [5, 31, 1.704073190689087],\n",
       " [51, 59, 4.529505252838135],\n",
       " [12, 39, 4.651739597320557],\n",
       " [0, 49, 2.766834259033203],\n",
       " [52, 65, 8.186188697814941],\n",
       " [39, 54, 4.734455585479736],\n",
       " [49, 50, 4.938904762268066],\n",
       " [6, 48, 1.7945927381515503],\n",
       " [58, 66, 9.739145278930664],\n",
       " [12, 65, 7.876783847808838],\n",
       " [28, 64, 1.0563186407089233],\n",
       " [19, 47, 1.6427360773086548],\n",
       " [8, 24, 1.3224598169326782],\n",
       " [45, 49, 6.562204360961914],\n",
       " [27, 30, 3.7866997718811035],\n",
       " [6, 24, 4.139019966125488],\n",
       " [11, 30, 3.0775606632232666],\n",
       " [9, 41, 2.842651605606079],\n",
       " [39, 55, 3.730766534805298],\n",
       " [18, 29, 1.3911418914794922],\n",
       " [43, 58, 6.599178314208984],\n",
       " [17, 43, 3.8448994159698486],\n",
       " [23, 24, 2.2766401767730713],\n",
       " [37, 63, 1.1024409532546997],\n",
       " [44, 66, 7.219359874725342],\n",
       " [47, 54, 3.4481165409088135],\n",
       " [7, 66, 9.11910343170166],\n",
       " [11, 49, 3.8711884021759033],\n",
       " [12, 40, 4.972276210784912],\n",
       " [26, 45, 2.737445592880249],\n",
       " [17, 68, 6.328382968902588],\n",
       " [29, 63, 4.804684638977051],\n",
       " [0, 42, 4.221350193023682],\n",
       " [32, 50, 0.631355345249176],\n",
       " [42, 55, 6.865956783294678],\n",
       " [17, 63, 2.6259777545928955],\n",
       " [20, 46, 5.916817665100098],\n",
       " [5, 54, 5.222034931182861],\n",
       " [12, 69, 9.070467948913574],\n",
       " [53, 57, 6.9709672927856445],\n",
       " [36, 62, 2.8539164066314697],\n",
       " [28, 45, 5.362713813781738],\n",
       " [5, 6, 1.8694939613342285],\n",
       " [11, 15, 2.5274715423583984],\n",
       " [42, 48, 6.637258529663086],\n",
       " [11, 12, 3.052713394165039],\n",
       " [32, 51, 1.4409527778625488],\n",
       " [39, 61, 7.217953205108643],\n",
       " [0, 64, 3.019547462463379],\n",
       " [48, 68, 7.180960178375244],\n",
       " [4, 45, 4.15474271774292],\n",
       " [13, 60, 4.868769645690918],\n",
       " [8, 57, 4.33634614944458],\n",
       " [22, 28, 5.100396633148193],\n",
       " [23, 23, 0.0],\n",
       " [10, 40, 2.9624478816986084],\n",
       " [51, 63, 7.870361328125],\n",
       " [7, 39, 2.1849632263183594],\n",
       " [21, 39, 4.6579718589782715],\n",
       " [34, 68, 9.321260452270508],\n",
       " [13, 18, 4.095969200134277],\n",
       " [66, 69, 13.966300010681152],\n",
       " [28, 35, 5.7883710861206055],\n",
       " [4, 44, 4.238203525543213],\n",
       " [43, 66, 4.673005104064941],\n",
       " [10, 39, 4.723568916320801],\n",
       " [3, 20, 2.6808173656463623],\n",
       " [8, 45, 1.9919543266296387],\n",
       " [29, 39, 1.640404224395752],\n",
       " [0, 34, 3.764554500579834],\n",
       " [15, 19, 2.3801794052124023],\n",
       " [5, 66, 7.179410457611084],\n",
       " [0, 37, 3.1584270000457764],\n",
       " [48, 56, 2.323486089706421],\n",
       " [16, 45, 2.1296515464782715],\n",
       " [16, 54, 1.9258569478988647],\n",
       " [37, 38, 2.2596566677093506],\n",
       " [14, 42, 4.061502456665039],\n",
       " [38, 42, 6.789514064788818],\n",
       " [13, 36, 3.118483781814575],\n",
       " [3, 25, 2.671604633331299],\n",
       " [13, 26, 3.818732261657715],\n",
       " [29, 61, 6.274211406707764],\n",
       " [48, 55, 4.555679798126221],\n",
       " [7, 61, 6.005435943603516],\n",
       " [41, 64, 5.457104206085205],\n",
       " [43, 57, 6.964018821716309],\n",
       " [48, 50, 5.798934459686279],\n",
       " [7, 20, 3.9640610218048096],\n",
       " [15, 47, 3.947798013687134],\n",
       " [0, 18, 1.428908109664917],\n",
       " [60, 66, 7.794050216674805],\n",
       " [7, 60, 4.939573764801025],\n",
       " [40, 55, 6.798757553100586],\n",
       " [16, 35, 3.2318530082702637],\n",
       " [15, 28, 1.4501639604568481],\n",
       " [22, 47, 6.245078086853027],\n",
       " [41, 49, 4.156818389892578],\n",
       " [3, 11, 1.650011420249939],\n",
       " [26, 46, 1.0044255256652832],\n",
       " [14, 22, 3.3205695152282715],\n",
       " [17, 61, 5.664420127868652],\n",
       " [46, 46, 0.0],\n",
       " [28, 69, 4.435115814208984],\n",
       " [0, 47, 3.260732412338257],\n",
       " [43, 67, 6.76262092590332],\n",
       " [17, 44, 2.4396231174468994],\n",
       " [63, 67, 7.741540431976318],\n",
       " [0, 50, 3.877383232116699],\n",
       " [38, 43, 6.360151767730713],\n",
       " [35, 64, 6.754998207092285],\n",
       " [24, 59, 6.198924541473389],\n",
       " [43, 47, 6.647091865539551],\n",
       " [2, 28, 3.166529655456543],\n",
       " [3, 66, 7.049075126647949],\n",
       " [4, 7, 2.217439889907837],\n",
       " [40, 60, 0.4270440638065338],\n",
       " [57, 57, 0.0],\n",
       " [42, 67, 8.41865062713623],\n",
       " [2, 15, 2.780582904815674],\n",
       " [4, 26, 3.221754789352417],\n",
       " [23, 67, 7.062482833862305],\n",
       " [45, 68, 6.195418834686279],\n",
       " [17, 56, 3.716766595840454],\n",
       " [6, 62, 5.760599136352539],\n",
       " [46, 63, 0.42706993222236633],\n",
       " [43, 44, 2.8736612796783447],\n",
       " [34, 56, 6.572089195251465],\n",
       " [45, 53, 2.42378568649292],\n",
       " [15, 54, 5.485545635223389],\n",
       " [19, 32, 4.925917148590088],\n",
       " [58, 59, 1.3688353300094604],\n",
       " [46, 51, 7.475606918334961],\n",
       " [10, 62, 4.441399097442627],\n",
       " [15, 49, 1.428978681564331],\n",
       " [15, 60, 2.3529715538024902],\n",
       " [20, 60, 1.056343674659729],\n",
       " [2, 66, 7.691218376159668],\n",
       " [46, 55, 0.8249386548995972],\n",
       " [27, 42, 6.24501895904541],\n",
       " [51, 51, 0.0],\n",
       " [18, 66, 9.682458877563477],\n",
       " [47, 52, 6.572690486907959],\n",
       " [49, 65, 5.076868534088135],\n",
       " [6, 58, 2.4979984760284424],\n",
       " [22, 39, 5.501657962799072],\n",
       " [53, 58, 7.561527252197266],\n",
       " [9, 56, 5.375686168670654],\n",
       " [14, 20, 0.8249384164810181],\n",
       " [24, 40, 5.774455547332764],\n",
       " [49, 51, 5.99603271484375],\n",
       " [12, 35, 1.1667320728302002],\n",
       " [40, 41, 1.6558091640472412],\n",
       " [46, 54, 2.271167039871216],\n",
       " [10, 19, 4.091312885284424],\n",
       " [39, 40, 4.187305927276611],\n",
       " [42, 59, 4.8898844718933105],\n",
       " [0, 69, 6.389339923858643],\n",
       " [15, 20, 1.6557379961013794],\n",
       " [38, 65, 8.147954940795898],\n",
       " [2, 5, 2.1687967777252197],\n",
       " [6, 25, 3.8256142139434814],\n",
       " [10, 27, 4.60183048248291],\n",
       " [3, 45, 3.4931066036224365],\n",
       " [25, 41, 5.6498823165893555],\n",
       " [53, 67, 4.766461372375488],\n",
       " [11, 53, 4.474685192108154],\n",
       " [23, 65, 6.967606544494629],\n",
       " [25, 65, 8.98592472076416],\n",
       " [43, 61, 2.2562243938446045],\n",
       " [32, 53, 4.906166076660156],\n",
       " [13, 43, 1.5244494676589966],\n",
       " [28, 46, 3.7168078422546387],\n",
       " [40, 58, 2.13114070892334],\n",
       " [0, 0, 0.0],\n",
       " [25, 39, 4.434942245483398],\n",
       " [4, 23, 2.6430280208587646],\n",
       " [29, 57, 1.9875816106796265],\n",
       " [0, 58, 3.140390634536743],\n",
       " [49, 67, 11.622357368469238],\n",
       " [1, 46, 2.828904867172241],\n",
       " [3, 56, 4.570436477661133],\n",
       " [12, 28, 4.638296604156494],\n",
       " [30, 48, 1.9875260591506958],\n",
       " [61, 63, 8.213088035583496],\n",
       " [3, 30, 3.332113265991211],\n",
       " [2, 57, 3.842836856842041],\n",
       " [29, 55, 4.978452682495117],\n",
       " [5, 51, 3.17413067817688],\n",
       " [14, 31, 0.8249384164810181],\n",
       " [42, 46, 7.01082706451416],\n",
       " [16, 39, 2.9004783630371094],\n",
       " [40, 65, 3.139370918273926],\n",
       " [31, 50, 3.1181209087371826],\n",
       " [15, 17, 3.934528112411499],\n",
       " [40, 59, 0.824999988079071],\n",
       " [0, 45, 3.958247184753418],\n",
       " [3, 51, 3.416046142578125],\n",
       " [13, 44, 2.318250894546509],\n",
       " [4, 42, 3.383286476135254],\n",
       " [2, 54, 3.058345317840576],\n",
       " [30, 45, 6.254068851470947],\n",
       " [5, 18, 2.6891891956329346],\n",
       " [11, 19, 3.927577495574951],\n",
       " [24, 58, 6.484869003295898],\n",
       " [32, 49, 4.563656806945801],\n",
       " [33, 56, 7.065432548522949],\n",
       " [57, 60, 4.879936218261719],\n",
       " [29, 47, 3.598057508468628],\n",
       " [25, 61, 5.625588417053223],\n",
       " [40, 68, 10.49862003326416],\n",
       " [24, 45, 1.486224889755249],\n",
       " [26, 69, 6.851933479309082],\n",
       " [0, 14, 1.7300646305084229],\n",
       " [4, 56, 4.324402809143066],\n",
       " [40, 40, 0.0],\n",
       " [18, 63, 3.4233381748199463],\n",
       " [9, 33, 1.9558038711547852],\n",
       " [15, 67, 10.382258415222168],\n",
       " [23, 34, 0.8250251412391663],\n",
       " [2, 44, 3.066555976867676],\n",
       " [8, 48, 4.360661506652832],\n",
       " [28, 38, 1.9917000532150269],\n",
       " [23, 28, 5.262221813201904],\n",
       " [0, 54, 4.046300411224365],\n",
       " [9, 19, 3.5739591121673584],\n",
       " [15, 66, 8.760026931762695],\n",
       " [33, 59, 4.064870834350586],\n",
       " [5, 25, 4.121533393859863],\n",
       " [4, 18, 2.2547943592071533],\n",
       " [5, 38, 4.098909854888916],\n",
       " [32, 36, 5.742002487182617],\n",
       " [10, 32, 1.3164328336715698],\n",
       " [16, 47, 2.209552049636841],\n",
       " [21, 66, 6.305213928222656],\n",
       " [47, 68, 4.56787109375],\n",
       " [5, 67, 9.480884552001953],\n",
       " [22, 30, 4.589262962341309],\n",
       " [23, 38, 5.575966835021973],\n",
       " [34, 34, 0.0],\n",
       " [23, 29, 5.075698375701904],\n",
       " [30, 60, 2.119781255722046],\n",
       " [8, 55, 2.8367204666137695],\n",
       " [11, 36, 4.86968469619751],\n",
       " [22, 25, 3.969313383102417],\n",
       " [5, 11, 0.9435309767723083],\n",
       " [55, 61, 7.6833720207214355],\n",
       " [47, 55, 2.075993537902832],\n",
       " [51, 55, 7.405191421508789],\n",
       " [25, 54, 1.3089334964752197],\n",
       " [50, 69, 8.804566383361816],\n",
       " [0, 68, 7.676928997039795],\n",
       " [39, 42, 6.456855773925781],\n",
       " [54, 62, 2.89888334274292],\n",
       " [16, 38, 2.22265625],\n",
       " [60, 64, 4.370820045471191],\n",
       " [38, 60, 5.513937950134277],\n",
       " [26, 36, 1.9196360111236572],\n",
       " [3, 38, 3.745694398880005],\n",
       " [12, 66, 6.86489725112915],\n",
       " [23, 52, 1.3090193271636963],\n",
       " [37, 51, 6.834228992462158],\n",
       " [33, 44, 4.667651176452637],\n",
       " [21, 31, 1.9975072145462036],\n",
       " [10, 63, 5.905597686767578],\n",
       " [5, 61, 3.867037773132324],\n",
       " [2, 47, 3.502673387527466],\n",
       " [16, 69, 7.413060188293457],\n",
       " [39, 39, 0.0],\n",
       " [52, 54, 4.3878254890441895],\n",
       " [20, 61, 4.234295845031738],\n",
       " [19, 36, 3.1114821434020996],\n",
       " [17, 48, 4.3264946937561035],\n",
       " [58, 68, 9.452620506286621],\n",
       " [55, 65, 9.935161590576172],\n",
       " [25, 55, 2.308302879333496],\n",
       " [29, 53, 6.504082679748535],\n",
       " [34, 46, 5.412454128265381],\n",
       " [34, 69, 10.149927139282227],\n",
       " [51, 68, 11.67776107788086],\n",
       " [4, 39, 3.0735790729522705],\n",
       " [32, 62, 5.681204319000244],\n",
       " [18, 35, 5.043585777282715],\n",
       " [3, 4, 0.8250491619110107],\n",
       " [27, 37, 1.5303901433944702],\n",
       " [10, 15, 3.1327333450317383],\n",
       " [48, 52, 6.9775919914245605],\n",
       " [21, 33, 1.7499244213104248],\n",
       " [5, 44, 4.897283554077148],\n",
       " [11, 68, 9.840714454650879],\n",
       " [45, 46, 2.934983253479004],\n",
       " [11, 14, 1.8006467819213867],\n",
       " [24, 28, 5.147018909454346],\n",
       " [32, 52, 3.805774688720703],\n",
       " [61, 68, 11.986603736877441],\n",
       " [20, 63, 6.343111991882324],\n",
       " [21, 37, 5.79128885269165],\n",
       " [37, 52, 5.11870002746582],\n",
       " [45, 66, 8.689299583435059],\n",
       " [27, 45, 3.4497296810150146],\n",
       " [16, 52, 4.386263847351074],\n",
       " [43, 55, 5.828581809997559],\n",
       " [17, 36, 1.0043927431106567],\n",
       " [10, 16, 3.899630546569824],\n",
       " [40, 50, 2.4808061122894287],\n",
       " [2, 50, 4.058459758758545],\n",
       " [29, 35, 5.876757621765137],\n",
       " [59, 69, 5.582984447479248],\n",
       " [25, 36, 0.8249813914299011],\n",
       " [18, 53, 5.672865390777588],\n",
       " [4, 21, 2.026942491531372],\n",
       " [4, 51, 3.5628387928009033],\n",
       " [20, 30, 1.8087090253829956],\n",
       " [0, 11, 2.2776827812194824],\n",
       " [6, 55, 4.030229091644287],\n",
       " [36, 69, 8.746055603027344],\n",
       " [9, 9, 0.0],\n",
       " [21, 29, 3.3951058387756348],\n",
       " [32, 41, 0.8249815106391907],\n",
       " [44, 69, 10.512811660766602],\n",
       " [45, 54, 0.8249384760856628],\n",
       " [17, 45, 1.5243327617645264],\n",
       " [8, 27, 2.6603164672851562],\n",
       " [38, 52, 6.386145114898682],\n",
       " [21, 50, 1.2156786918640137],\n",
       " [45, 52, 3.598982095718384],\n",
       " [45, 51, 6.184906005859375],\n",
       " [11, 32, 1.0044808387756348],\n",
       " [20, 48, 3.620089530944824],\n",
       " [46, 59, 6.383683681488037],\n",
       " [57, 64, 0.8250041604042053],\n",
       " [2, 32, 3.4276633262634277],\n",
       " [52, 58, 7.10828971862793],\n",
       " [58, 63, 6.223871231079102],\n",
       " [10, 60, 3.321357011795044],\n",
       " [4, 50, 3.045405149459839],\n",
       " [15, 50, 3.8026998043060303],\n",
       " [32, 66, 5.486384868621826],\n",
       " [8, 22, 3.075401544570923],\n",
       " [8, 33, 3.8032686710357666],\n",
       " [16, 32, 5.059908390045166],\n",
       " [41, 44, 6.00614070892334],\n",
       " [6, 17, 3.0527634620666504],\n",
       " [22, 66, 5.01558780670166],\n",
       " [44, 47, 5.392909049987793],\n",
       " [14, 58, 1.9682533740997314],\n",
       " [25, 60, 6.35688591003418],\n",
       " [5, 65, 4.874880790710449],\n",
       " [14, 38, 3.912187099456787],\n",
       " [13, 34, 1.0044918060302734],\n",
       " [32, 42, 1.795565128326416],\n",
       " [22, 63, 6.404623508453369],\n",
       " [26, 41, 5.877648830413818],\n",
       " [42, 56, 7.614419460296631],\n",
       " [30, 39, 2.4650561809539795],\n",
       " [41, 43, 3.8597121238708496],\n",
       " [49, 49, 0.0],\n",
       " [50, 63, 7.649189472198486],\n",
       " [19, 50, 5.521169185638428],\n",
       " [11, 42, 2.2648775577545166],\n",
       " [5, 22, 2.3769164085388184],\n",
       " [8, 35, 2.0145561695098877],\n",
       " [28, 28, 0.0],\n",
       " [18, 61, 6.403397083282471],\n",
       " [42, 66, 4.046077728271484],\n",
       " [44, 55, 3.8316590785980225],\n",
       " [21, 36, 5.652132511138916],\n",
       " [14, 53, 5.712464809417725],\n",
       " [24, 34, 1.817023754119873],\n",
       " [13, 59, 5.022195816040039],\n",
       " [29, 62, 6.937572002410889],\n",
       " [8, 47, 3.5838539600372314],\n",
       " [2, 58, 4.430500507354736],\n",
       " [18, 40, 3.6422226428985596],\n",
       " [44, 61, 5.123144626617432],\n",
       " [46, 69, 7.130947113037109],\n",
       " [0, 13, 2.7612032890319824],\n",
       " [4, 36, 3.7712769508361816],\n",
       " [9, 42, 2.2908811569213867],\n",
       " [22, 51, 1.5243570804595947],\n",
       " [3, 37, 3.4940621852874756],\n",
       " [27, 69, 6.117668628692627],\n",
       " [33, 49, 5.349424362182617],\n",
       " [40, 45, 6.754424095153809],\n",
       " [2, 9, 1.4881809949874878],\n",
       " [36, 61, 6.420868396759033],\n",
       " [13, 19, 3.9348318576812744],\n",
       " [29, 38, 2.7760186195373535],\n",
       " [1, 69, 6.817502975463867],\n",
       " [6, 54, 4.548818111419678],\n",
       " [20, 32, 1.9975072145462036],\n",
       " [32, 58, 4.2691426277160645],\n",
       " [45, 56, 4.808439254760742],\n",
       " [9, 65, 6.345854759216309],\n",
       " [2, 48, 3.7438366413116455],\n",
       " [3, 35, 2.8231546878814697],\n",
       " [47, 64, 2.9300880432128906],\n",
       " [5, 40, 1.823040246963501],\n",
       " [7, 42, 5.184848785400391],\n",
       " [19, 53, 5.267673969268799],\n",
       " [4, 41, 2.6577541828155518],\n",
       " [3, 59, 3.729464530944824],\n",
       " [33, 69, 9.291483879089355],\n",
       " [13, 22, 1.6586641073226929],\n",
       " [14, 60, 1.711362600326538],\n",
       " [23, 45, 3.7503299713134766],\n",
       " [25, 45, 0.8249074816703796],\n",
       " [68, 68, 0.0],\n",
       " [5, 36, 4.590821266174316],\n",
       " [41, 68, 11.086978912353516],\n",
       " [43, 63, 6.4708380699157715],\n",
       " [51, 62, 5.490328788757324],\n",
       " [36, 66, 9.078570365905762],\n",
       " [54, 68, 5.374863147735596],\n",
       " [42, 64, 7.052652835845947],\n",
       " [4, 10, 1.6499903202056885],\n",
       " [19, 30, 2.96537446975708],\n",
       " [6, 39, 1.5937384366989136],\n",
       " [13, 17, 2.3962607383728027],\n",
       " [8, 54, 2.344658136367798],\n",
       " [51, 64, 7.072629451751709],\n",
       " [12, 57, 5.260371208190918],\n",
       " [22, 38, 5.792583465576172],\n",
       " [7, 64, 3.2614779472351074],\n",
       " [27, 27, 0.0],\n",
       " [1, 14, 2.5494673252105713],\n",
       " [5, 26, 3.9927456378936768],\n",
       " [22, 45, 4.674744129180908],\n",
       " [62, 62, 0.0],\n",
       " [20, 59, 1.2158143520355225],\n",
       " [57, 58, 3.1192657947540283],\n",
       " [23, 55, 5.237771034240723],\n",
       " [4, 63, 4.64928674697876],\n",
       " [21, 26, 5.246319770812988],\n",
       " [5, 52, 4.190191745758057],\n",
       " [1, 7, 0.8250250816345215],\n",
       " [40, 67, 11.269736289978027],\n",
       " [13, 62, 2.769906520843506],\n",
       " [13, 53, 2.0774078369140625],\n",
       " [5, 49, 2.9798312187194824],\n",
       " [4, 8, 2.167464017868042],\n",
       " [13, 61, 3.303173065185547],\n",
       " [22, 69, 9.285355567932129],\n",
       " [1, 30, 3.0864946842193604],\n",
       " [26, 29, 3.600545883178711],\n",
       " [12, 62, 2.29398775100708],\n",
       " [14, 19, 3.0396769046783447],\n",
       " [21, 32, 0.824999988079071],\n",
       " [4, 22, 2.4381861686706543],\n",
       " [20, 56, 5.448189735412598],\n",
       " [34, 45, 3.291240930557251],\n",
       " [31, 62, 7.1071014404296875],\n",
       " [20, 42, 3.7174510955810547],\n",
       " [28, 52, 6.36842155456543],\n",
       " [5, 10, 1.558026909828186],\n",
       " [4, 53, 4.249535083770752],\n",
       " [15, 51, 4.728017330169678],\n",
       " [5, 53, 4.808009624481201],\n",
       " [9, 54, 4.155003547668457],\n",
       " [8, 38, 3.4239108562469482],\n",
       " [5, 29, 2.414879083633423],\n",
       " [42, 45, 5.491729259490967],\n",
       " [5, 8, 2.9544906616210938],\n",
       " [15, 64, 2.3712728023529053],\n",
       " [33, 52, 2.9520299434661865],\n",
       " [17, 51, 5.411434650421143],\n",
       " [7, 32, 4.6125922203063965],\n",
       " [22, 52, 2.237027406692505],\n",
       " [36, 44, 2.314117431640625],\n",
       " [32, 65, 4.382137775421143],\n",
       " [12, 31, 4.8188676834106445],\n",
       " [19, 56, 1.8256248235702515],\n",
       " [7, 63, 2.432953119277954],\n",
       " [40, 51, 3.710580825805664],\n",
       " [26, 28, 2.9904565811157227],\n",
       " [33, 54, 6.058394908905029],\n",
       " [13, 64, 5.765986919403076],\n",
       " [23, 39, 5.512814044952393],\n",
       " [2, 23, 2.4203734397888184],\n",
       " [5, 62, 5.434759140014648],\n",
       " [8, 34, 2.4203734397888184],\n",
       " [7, 53, 4.256183624267578],\n",
       " [15, 53, 5.934549808502197],\n",
       " [23, 56, 6.388652324676514],\n",
       " [7, 13, 3.0789759159088135],\n",
       " [14, 64, 3.2264084815979004],\n",
       " [23, 30, 5.076171398162842],\n",
       " [44, 45, 1.6283460855484009],\n",
       " [52, 62, 2.2567501068115234],\n",
       " [47, 61, 8.066519737243652],\n",
       " [5, 47, 4.75748348236084],\n",
       " [28, 33, 5.307986259460449],\n",
       " [56, 59, 5.513937950134277],\n",
       " [52, 66, 5.090453147888184],\n",
       " [1, 66, 8.409313201904297],\n",
       " [62, 68, 8.175899505615234],\n",
       " [16, 16, 0.0],\n",
       " [62, 64, 7.677428245544434],\n",
       " [30, 32, 3.741283416748047],\n",
       " [2, 51, 4.21557092666626],\n",
       " [41, 59, 2.4808061122894287],\n",
       " [38, 64, 2.180469274520874],\n",
       " [53, 61, 4.459712028503418],\n",
       " [11, 27, 4.551982879638672],\n",
       " [56, 62, 6.733475685119629],\n",
       " [1, 42, 4.427081108093262],\n",
       " [23, 62, 3.113440752029419],\n",
       " [23, 41, 3.38364315032959],\n",
       " [10, 11, 0.8249713778495789],\n",
       " [15, 63, 4.981520652770996],\n",
       " [26, 52, 5.208621501922607],\n",
       " [1, 67, 8.186158180236816],\n",
       " [21, 47, 6.0384745597839355],\n",
       " [2, 14, 2.80570650100708],\n",
       " [38, 58, 4.144565105438232],\n",
       " [45, 45, 0.0],\n",
       " [21, 24, 4.702639579772949],\n",
       " [41, 57, 5.750589370727539],\n",
       " [16, 40, 5.24725866317749],\n",
       " [26, 37, 0.8249385952949524],\n",
       " [19, 67, 9.029267311096191],\n",
       " [24, 32, 4.552710056304932],\n",
       " [30, 58, 0.8249813914299011],\n",
       " [44, 65, 9.547821044921875],\n",
       " [11, 48, 4.4412713050842285],\n",
       " [25, 51, 5.491823196411133],\n",
       " [31, 65, 3.7580270767211914],\n",
       " [28, 61, 6.734314441680908],\n",
       " [50, 66, 5.199345111846924],\n",
       " [16, 49, 4.53985071182251],\n",
       " [19, 43, 5.431373596191406],\n",
       " [11, 66, 6.2374587059021],\n",
       " [56, 56, 0.0],\n",
       " [58, 64, 2.4278769493103027],\n",
       " [5, 28, 2.886202335357666],\n",
       " [68, 69, 9.051154136657715],\n",
       " [7, 41, 4.87322998046875],\n",
       " [22, 57, 6.123781681060791],\n",
       " [12, 48, 5.210272789001465],\n",
       " [25, 26, 2.3448596000671387],\n",
       " [56, 68, 4.859001636505127],\n",
       " [4, 33, 2.7569949626922607],\n",
       " [35, 63, 4.885724067687988],\n",
       " [59, 64, 3.6005656719207764],\n",
       " [40, 57, 4.604982376098633],\n",
       " [24, 26, 3.2318532466888428],\n",
       " [29, 58, 1.428907871246338],\n",
       " [5, 37, 4.580003261566162],\n",
       " [8, 42, 4.029253959655762],\n",
       " [30, 67, 11.206974983215332],\n",
       " [51, 65, 5.217155933380127],\n",
       " [8, 11, 3.1442763805389404],\n",
       " [28, 57, 1.21576988697052],\n",
       " [7, 57, 2.738046169281006],\n",
       " [38, 46, 1.8754661083221436],\n",
       " [50, 57, 6.406795501708984],\n",
       " [7, 40, 4.5297160148620605],\n",
       " [56, 63, 2.2549760341644287],\n",
       " [16, 37, 1.0043714046478271],\n",
       " [48, 54, 5.530778408050537],\n",
       " [52, 68, 9.732820510864258],\n",
       " [9, 28, 4.093600273132324],\n",
       " [18, 68, 6.876047134399414],\n",
       " [30, 49, 0.8250300288200378],\n",
       " [46, 58, 5.836764335632324],\n",
       " [25, 37, 1.9917398691177368],\n",
       " [4, 68, 8.440667152404785],\n",
       " [19, 26, 1.4000014066696167],\n",
       " [29, 46, 4.4128313064575195],\n",
       " [22, 31, 3.907355308532715],\n",
       " [13, 55, 4.4135284423828125],\n",
       " [41, 61, 2.905043125152588],\n",
       " [0, 63, 3.930696487426758],\n",
       " [22, 32, 1.5692228078842163],\n",
       " [45, 64, 6.127869129180908],\n",
       " [23, 64, 6.31368350982666],\n",
       " [22, 59, 4.357251167297363],\n",
       " [12, 53, 1.7945765256881714],\n",
       " [40, 62, 7.216574192047119],\n",
       " [41, 58, 3.741283416748047],\n",
       " [36, 64, 5.363429069519043],\n",
       " [50, 55, 7.306054592132568],\n",
       " [2, 63, 3.6571130752563477],\n",
       " [20, 34, 4.66206693649292],\n",
       " [37, 56, 2.685817003250122],\n",
       " [17, 30, 4.734723091125488],\n",
       " [13, 33, 2.4716556072235107],\n",
       " [21, 44, 5.537587642669678],\n",
       " [26, 68, 5.227040767669678],\n",
       " [62, 63, 5.15547513961792],\n",
       " [18, 30, 2.154135227203369],\n",
       " [49, 60, 2.8294947147369385],\n",
       " [16, 25, 1.5938056707382202],\n",
       " [8, 40, 4.764588356018066],\n",
       " [15, 57, 2.664668321609497],\n",
       " [46, 68, 4.229417324066162],\n",
       " [45, 48, 5.785891532897949],\n",
       " [13, 32, 2.9827287197113037],\n",
       " [12, 16, 2.387300491333008],\n",
       " [47, 67, 9.005006790161133],\n",
       " [54, 55, 1.5069259405136108],\n",
       " [3, 21, 2.4270098209381104],\n",
       " [6, 30, 1.711651086807251],\n",
       " [17, 20, 4.731851577758789],\n",
       " [28, 63, 4.0903544425964355],\n",
       " [11, 57, 4.957829475402832],\n",
       " [60, 68, 10.863774299621582],\n",
       " [24, 35, 0.8250041007995605],\n",
       " [0, 6, 0.8250041604042053],\n",
       " [31, 58, 1.4477463960647583],\n",
       " [21, 59, 2.3153188228607178],\n",
       " [0, 9, 2.1406731605529785],\n",
       " [25, 59, 6.229050159454346],\n",
       " [8, 65, 7.820896148681641],\n",
       " [32, 38, 5.919323921203613],\n",
       " [39, 43, 6.332734107971191],\n",
       " [12, 47, 4.568450927734375],\n",
       " [44, 50, 5.811181545257568],\n",
       " [8, 19, 2.639207124710083],\n",
       " [46, 56, 2.076075792312622],\n",
       " [1, 48, 2.9527196884155273],\n",
       " [4, 32, 2.4332470893859863],\n",
       " [51, 54, 6.799833297729492],\n",
       " [29, 60, 2.89274263381958],\n",
       " [46, 65, 9.56082820892334],\n",
       " [34, 52, 0.6313997507095337],\n",
       " [25, 50, 5.6904473304748535],\n",
       " [45, 50, 6.4627861976623535],\n",
       " [18, 59, 3.42480731010437],\n",
       " [10, 50, 1.9111945629119873],\n",
       " [34, 50, 3.8658907413482666],\n",
       " [5, 39, 3.4564149379730225],\n",
       " [9, 45, 3.6523613929748535],\n",
       " [11, 16, 4.094350814819336],\n",
       " [21, 57, 5.200275421142578],\n",
       " [20, 69, 6.5008864402771],\n",
       " [0, 27, 2.308258533477783],\n",
       " [18, 41, 4.51885461807251],\n",
       " [16, 43, 4.5333380699157715],\n",
       " [54, 58, 7.043342590332031],\n",
       " [17, 64, 4.690425872802734],\n",
       " [20, 66, 7.470763206481934],\n",
       " [25, 43, 3.59905743598938],\n",
       " [32, 39, 5.314390659332275],\n",
       " [17, 31, 4.944288730621338],\n",
       " [20, 62, 6.599245071411133],\n",
       " [6, 56, 3.0527186393737793],\n",
       " [28, 36, 4.6494669914245605],\n",
       " [54, 54, 0.0],\n",
       " [7, 23, 3.8372983932495117],\n",
       " [18, 42, 5.636893272399902],\n",
       " [26, 42, 6.0834784507751465],\n",
       " [33, 33, 0.0],\n",
       " [16, 50, 5.691227436065674],\n",
       " [2, 69, 7.600071430206299],\n",
       " [47, 50, 7.136979103088379],\n",
       " [26, 63, 1.4289389848709106],\n",
       " [14, 40, 1.3089908361434937],\n",
       " [9, 52, 2.3968346118927],\n",
       " [9, 61, 3.1145858764648438],\n",
       " [20, 27, 4.631547451019287],\n",
       " [6, 7, 1.8255860805511475],\n",
       " [33, 37, 6.02679443359375],\n",
       " [11, 63, 6.032413005828857],\n",
       " [20, 51, 3.436596155166626],\n",
       " [27, 65, 8.215164184570312],\n",
       " [44, 44, 0.0],\n",
       " [6, 23, 4.0960693359375],\n",
       " [18, 58, 2.819671154022217],\n",
       " [2, 7, 1.4280039072036743],\n",
       " [19, 62, 5.479512691497803],\n",
       " [32, 60, 2.554151773452759],\n",
       " [4, 17, 2.766894578933716],\n",
       " [20, 39, 3.842914342880249],\n",
       " [5, 7, 2.9913463592529297],\n",
       " [26, 43, 5.333065032958984],\n",
       " [3, 28, 3.3036060333251953],\n",
       " [0, 35, 3.915743350982666],\n",
       " [51, 58, 5.70876932144165],\n",
       " [12, 61, 4.140429973602295],\n",
       " [29, 68, 8.13624095916748],\n",
       " [10, 54, 5.0541605949401855],\n",
       " [38, 53, 5.985584735870361],\n",
       " [1, 27, 1.825513243675232],\n",
       " [1, 43, 4.003473281860352],\n",
       " [9, 11, 1.5152318477630615],\n",
       " [25, 56, 4.453659534454346],\n",
       " [51, 60, 3.895270586013794],\n",
       " [42, 50, 1.9096497297286987],\n",
       " [26, 58, 5.028053283691406],\n",
       " [13, 51, 3.169609546661377],\n",
       " ...]"
      ]
     },
     "execution_count": 46,
     "metadata": {},
     "output_type": "execute_result"
    }
   ],
   "source": [
    "UniqueIndex1Index2Distances"
   ]
  },
  {
   "cell_type": "code",
   "execution_count": 13,
   "metadata": {},
   "outputs": [
    {
     "data": {
      "text/plain": [
       "[[0, array([-0.7101,  0.4396,  0.    ], dtype=float32)],\n",
       " [1, array([-0.4966, -0.3573,  0.    ], dtype=float32)],\n",
       " [2, array([ 0.3273, -0.3573,  0.    ], dtype=float32)],\n",
       " [3, array([0.623 , 0.4396, 0.    ], dtype=float32)],\n",
       " [4, array([-0.0182,  0.9588,  0.    ], dtype=float32)],\n",
       " [5, array([-0.0182,  1.7838,  0.    ], dtype=float32)],\n",
       " [6, array([-1.507 ,  0.6531,  0.    ], dtype=float32)],\n",
       " [7, array([-0.9091, -1.0718,  0.    ], dtype=float32)],\n",
       " [8, array([ 0.7398, -1.0718,  0.    ], dtype=float32)],\n",
       " [9, array([1.4199, 0.6531, 0.    ], dtype=float32)],\n",
       " [10, array([1.5222, 1.5501, 0.    ], dtype=float32)],\n",
       " [11, array([0.8811, 2.0693, 0.    ], dtype=float32)],\n",
       " [12, array([ 1.7076, -0.8694,  0.    ], dtype=float32)],\n",
       " [13, array([ 2.0032, -0.0725,  0.    ], dtype=float32)],\n",
       " [14, array([-0.9174,  2.1572,  0.    ], dtype=float32)],\n",
       " [15, array([-1.6093,  1.638 ,  0.    ], dtype=float32)],\n",
       " [16, array([-0.4966, -1.7863,  0.    ], dtype=float32)],\n",
       " [17, array([ 0.3284, -1.7863,  0.    ], dtype=float32)],\n",
       " [18, array([-2.0903,  0.0697,  0.    ], dtype=float32)],\n",
       " [19, array([-1.8768, -0.7271,  0.    ], dtype=float32)],\n",
       " [20, array([-0.5049,  2.8716,  0.    ], dtype=float32)],\n",
       " [21, array([0.6676, 2.8662, 0.    ], dtype=float32)],\n",
       " [22, array([2.3472, 1.5501, 0.    ], dtype=float32)],\n",
       " [23, array([2.5866, 0.5109, 0.    ], dtype=float32)],\n",
       " [24, array([ 1.9211, -1.6663,  0.    ], dtype=float32)],\n",
       " [25, array([ 1.0429, -2.1988,  0.    ], dtype=float32)],\n",
       " [26, array([-1.2935, -1.9998,  0.    ], dtype=float32)],\n",
       " [27, array([-1.8768, -1.5521,  0.    ], dtype=float32)],\n",
       " [28, array([-2.6737,  0.6531,  0.    ], dtype=float32)],\n",
       " [29, array([-2.4062,  1.4245,  0.    ], dtype=float32)],\n",
       " [30, array([-2.1927,  2.2214,  0.    ], dtype=float32)],\n",
       " [31, array([-1.3299,  2.8716,  0.    ], dtype=float32)],\n",
       " [32, array([1.4926, 2.8662, 0.    ], dtype=float32)],\n",
       " [33, array([2.3472, 2.3751, 0.    ], dtype=float32)],\n",
       " [34, array([ 2.9991, -0.2036,  0.    ], dtype=float32)],\n",
       " [35, array([ 2.718 , -1.4528,  0.    ], dtype=float32)],\n",
       " [36, array([ 0.4595, -2.7821,  0.    ], dtype=float32)],\n",
       " [37, array([-0.881 , -2.7142,  0.    ], dtype=float32)],\n",
       " [38, array([-2.6737, -1.3386,  0.    ], dtype=float32)],\n",
       " [39, array([-2.8872, -0.1438,  0.    ], dtype=float32)],\n",
       " [40, array([-0.7466,  3.455 ,  0.    ], dtype=float32)],\n",
       " [41, array([0.9092, 3.4495, 0.    ], dtype=float32)],\n",
       " [42, array([3.1441, 2.1615, 0.    ], dtype=float32)],\n",
       " [43, array([3.4116, 0.5109, 0.    ], dtype=float32)],\n",
       " [44, array([ 2.718 , -2.2778,  0.    ], dtype=float32)],\n",
       " [45, array([ 1.2564, -2.9956,  0.    ], dtype=float32)],\n",
       " [46, array([-1.6778, -2.9278,  0.    ], dtype=float32)],\n",
       " [47, array([-2.6737, -2.1636,  0.    ], dtype=float32)],\n",
       " [48, array([-3.2997,  0.5707,  0.    ], dtype=float32)],\n",
       " [49, array([-2.9896,  2.0078,  0.    ], dtype=float32)],\n",
       " [50, array([1.7342, 3.4495, 0.    ], dtype=float32)],\n",
       " [51, array([2.9306, 2.9584, 0.    ], dtype=float32)],\n",
       " [52, array([ 3.6251, -0.286 ,  0.    ], dtype=float32)],\n",
       " [53, array([ 3.3013, -1.6944,  0.    ], dtype=float32)],\n",
       " [54, array([ 0.542 , -3.4081,  0.    ], dtype=float32)],\n",
       " [55, array([-0.9634, -3.3403,  0.    ], dtype=float32)],\n",
       " [56, array([-3.3882, -1.7511,  0.    ], dtype=float32)],\n",
       " [57, array([-3.5133, -0.2262,  0.    ], dtype=float32)],\n",
       " [58, array([-2.7761,  2.8047,  0.    ], dtype=float32)],\n",
       " [59, array([-1.5716,  3.455 ,  0.    ], dtype=float32)],\n",
       " [60, array([-0.8571,  3.8675,  0.    ], dtype=float32)],\n",
       " [61, array([3.7275, 2.7449, 0.    ], dtype=float32)],\n",
       " [62, array([ 3.3013, -2.5194,  0.    ], dtype=float32)],\n",
       " [63, array([-1.7884, -3.3403,  0.    ], dtype=float32)],\n",
       " [64, array([-3.7268,  0.5707,  0.    ], dtype=float32)],\n",
       " [65, array([-0.8115,  6.5937,  0.    ], dtype=float32)],\n",
       " [66, array([6.9318, 3.5842, 0.    ], dtype=float32)],\n",
       " [67, array([ 5.5116, -5.9174,  0.    ], dtype=float32)],\n",
       " [68, array([-3.7871, -6.5937,  0.    ], dtype=float32)],\n",
       " [69, array([-6.9318,  1.8936,  0.    ], dtype=float32)]]"
      ]
     },
     "execution_count": 13,
     "metadata": {},
     "output_type": "execute_result"
    }
   ],
   "source": [
    "CorePositions"
   ]
  },
  {
   "cell_type": "code",
   "execution_count": 14,
   "metadata": {},
   "outputs": [
    {
     "data": {
      "text/plain": [
       "[[0, 0, 0.0],\n",
       " [1, 0, 0.8250041604042053],\n",
       " [2, 0, 1.3081469535827637],\n",
       " [3, 0, 1.3331000804901123],\n",
       " [4, 0, 0.8650400638580322],\n",
       " [5, 0, 1.511819839477539],\n",
       " [6, 0, 0.8250041604042053],\n",
       " [7, 0, 1.5244444608688354],\n",
       " [8, 0, 2.094406843185425],\n",
       " [9, 0, 2.1406731605529785],\n",
       " [10, 0, 2.4932656288146973],\n",
       " [11, 0, 2.2776827812194824],\n",
       " [12, 0, 2.749318838119507],\n",
       " [13, 0, 2.7612032890319824],\n",
       " [14, 0, 1.7300646305084229],\n",
       " [15, 0, 1.4982401132583618],\n",
       " [16, 0, 2.2361154556274414],\n",
       " [17, 0, 2.4562394618988037],\n",
       " [18, 0, 1.428908109664917],\n",
       " [19, 0, 1.6499629020690918],\n",
       " [20, 0, 2.440641403198242],\n",
       " [21, 0, 2.7904200553894043],\n",
       " [22, 0, 3.2527360916137695],\n",
       " [23, 0, 3.297471046447754],\n",
       " [24, 0, 3.3701674938201904],\n",
       " [25, 0, 3.1676747798919678],\n",
       " [26, 0, 2.5081920623779297],\n",
       " [27, 0, 2.308258533477783],\n",
       " [28, 0, 1.9751728773117065],\n",
       " [29, 0, 1.9613218307495117],\n",
       " [30, 0, 2.3179547786712646],\n",
       " [31, 0, 2.5097362995147705],\n",
       " [32, 0, 3.277235746383667],\n",
       " [33, 0, 3.6184585094451904],\n",
       " [34, 0, 3.764554500579834],\n",
       " [35, 0, 3.915743350982666],\n",
       " [36, 0, 3.4274356365203857],\n",
       " [37, 0, 3.1584270000457764],\n",
       " [38, 0, 2.6490981578826904],\n",
       " [39, 0, 2.2539122104644775],\n",
       " [40, 0, 3.0156209468841553],\n",
       " [41, 0, 3.417840003967285],\n",
       " [42, 0, 4.221350193023682],\n",
       " [43, 0, 4.122316837310791],\n",
       " [44, 0, 4.374486446380615],\n",
       " [45, 0, 3.958247184753418],\n",
       " [46, 0, 3.5036873817443848],\n",
       " [47, 0, 3.260732412338257],\n",
       " [48, 0, 2.592916488647461],\n",
       " [49, 0, 2.766834259033203],\n",
       " [50, 0, 3.877383232116699],\n",
       " [51, 0, 4.427081108093262],\n",
       " [52, 0, 4.395503520965576],\n",
       " [53, 0, 4.543708324432373],\n",
       " [54, 0, 4.046300411224365],\n",
       " [55, 0, 3.7883777618408203],\n",
       " [56, 0, 3.4599692821502686],\n",
       " [57, 0, 2.8811838626861572],\n",
       " [58, 0, 3.140390634536743],\n",
       " [59, 0, 3.1360514163970947],\n",
       " [60, 0, 3.4310505390167236],\n",
       " [61, 0, 5.000670433044434],\n",
       " [62, 0, 4.984677791595459],\n",
       " [63, 0, 3.930696487426758],\n",
       " [64, 0, 3.019547462463379],\n",
       " [65, 0, 6.154935359954834],\n",
       " [66, 0, 8.263603210449219],\n",
       " [67, 0, 8.894998550415039],\n",
       " [68, 0, 7.676928997039795],\n",
       " [69, 0, 6.389339923858643],\n",
       " [0, 1, 0.8250041604042053],\n",
       " [1, 1, 0.0],\n",
       " [2, 1, 0.8238999843597412],\n",
       " [3, 1, 1.3742467164993286],\n",
       " [4, 1, 1.4003520011901855],\n",
       " [5, 1, 2.193895101547241],\n",
       " [6, 1, 1.4289213418960571],\n",
       " [7, 1, 0.8250250816345215],\n",
       " [8, 1, 1.4280039072036743],\n",
       " [9, 1, 2.166536569595337],\n",
       " [10, 1, 2.777359962463379],\n",
       " [11, 1, 2.7904200553894043],\n",
       " [12, 1, 2.262906074523926],\n",
       " [13, 1, 2.5159711837768555],\n",
       " [14, 1, 2.5494673252105713],\n",
       " [15, 1, 2.284583806991577],\n",
       " [16, 1, 1.428999900817871],\n",
       " [17, 1, 1.650050163269043],\n",
       " [18, 1, 1.6499117612838745],\n",
       " [19, 1, 1.4288820028305054],\n",
       " [20, 1, 3.2289106845855713],\n",
       " [21, 1, 3.4272894859313965],\n",
       " [22, 1, 3.4242331981658936],\n",
       " [23, 1, 3.2031068801879883],\n",
       " [24, 1, 2.749318838119507],\n",
       " [25, 1, 2.4002463817596436],\n",
       " [26, 1, 1.8256109952926636],\n",
       " [27, 1, 1.825513243675232],\n",
       " [28, 1, 2.4001402854919434],\n",
       " [29, 1, 2.6117777824401855],\n",
       " [30, 1, 3.0864946842193604],\n",
       " [31, 1, 3.3346939086914062],\n",
       " [32, 1, 3.787858009338379],\n",
       " [33, 1, 3.9437553882598877],\n",
       " [34, 1, 3.499077320098877],\n",
       " [35, 1, 3.3961408138275146],\n",
       " [36, 1, 2.6064884662628174],\n",
       " [37, 1, 2.3880412578582764],\n",
       " [38, 1, 2.388035774230957],\n",
       " [39, 1, 2.4001150131225586],\n",
       " [40, 1, 3.820488214492798],\n",
       " [41, 1, 4.058078289031982],\n",
       " [42, 1, 4.427081108093262],\n",
       " [43, 1, 4.003473281860352],\n",
       " [44, 1, 3.7445924282073975],\n",
       " [45, 1, 3.1675915718078613],\n",
       " [46, 1, 2.828904867172241],\n",
       " [47, 1, 2.8288662433624268],\n",
       " [48, 1, 2.9527196884155273],\n",
       " [49, 1, 3.4363858699798584],\n",
       " [50, 1, 4.412277698516846],\n",
       " [51, 1, 4.768601894378662],\n",
       " [52, 1, 4.122316360473633],\n",
       " [53, 1, 4.026397705078125],\n",
       " [54, 1, 3.2227425575256348],\n",
       " [55, 1, 3.0193030834198],\n",
       " [56, 1, 3.209989070892334],\n",
       " [57, 1, 3.019547462463379],\n",
       " [58, 1, 3.8979947566986084],\n",
       " [59, 1, 3.9609665870666504],\n",
       " [60, 1, 4.240152835845947],\n",
       " [61, 1, 5.240865230560303],\n",
       " [62, 1, 4.370208263397217],\n",
       " [63, 1, 3.2506978511810303],\n",
       " [64, 1, 3.3608593940734863],\n",
       " [65, 1, 6.958128929138184],\n",
       " [66, 1, 8.409313201904297],\n",
       " [67, 1, 8.186158180236816],\n",
       " [68, 1, 7.051246643066406],\n",
       " [69, 1, 6.817502975463867],\n",
       " [0, 2, 1.3081469535827637],\n",
       " [1, 2, 0.8238999843597412],\n",
       " [2, 2, 0.0],\n",
       " [3, 2, 0.8499930500984192],\n",
       " [4, 2, 1.3606945276260376],\n",
       " [5, 2, 2.1687967777252197],\n",
       " [6, 2, 2.0941741466522217],\n",
       " [7, 2, 1.4280039072036743],\n",
       " [8, 2, 0.8250250816345215],\n",
       " [9, 2, 1.4881809949874878],\n",
       " [10, 2, 2.2507688999176025],\n",
       " [11, 2, 2.488992214202881],\n",
       " [12, 2, 1.4722346067428589],\n",
       " [13, 2, 1.6999269723892212],\n",
       " [14, 2, 2.80570650100708],\n",
       " [15, 2, 2.780582904815674],\n",
       " [16, 2, 1.6495004892349243],\n",
       " [17, 2, 1.4290003776550293],\n",
       " [18, 2, 2.455019235610962],\n",
       " [19, 2, 2.2349069118499756],\n",
       " [20, 2, 3.3344192504882812],\n",
       " [21, 2, 3.24141263961792],\n",
       " [22, 2, 2.7781593799591064],\n",
       " [23, 2, 2.4203734397888184],\n",
       " [24, 2, 2.0624451637268066],\n",
       " [25, 2, 1.9756532907485962],\n",
       " [26, 2, 2.3075525760650635],\n",
       " [27, 2, 2.507110595703125],\n",
       " [28, 2, 3.166529655456543],\n",
       " [29, 2, 3.262948513031006],\n",
       " [30, 2, 3.6055643558502197],\n",
       " [31, 2, 3.6293396949768066],\n",
       " [32, 2, 3.4276633262634277],\n",
       " [33, 2, 3.3979413509368896],\n",
       " [34, 2, 2.6762170791625977],\n",
       " [35, 2, 2.629746437072754],\n",
       " [36, 2, 2.428400993347168],\n",
       " [37, 2, 2.64857816696167],\n",
       " [38, 2, 3.1573646068573],\n",
       " [39, 2, 3.2215824127197266],\n",
       " [40, 2, 3.9606680870056152],\n",
       " [41, 2, 3.851017475128174],\n",
       " [42, 2, 3.7787187099456787],\n",
       " [43, 2, 3.2041656970977783],\n",
       " [44, 2, 3.066555976867676],\n",
       " [45, 2, 2.7971150875091553],\n",
       " [46, 2, 3.260045289993286],\n",
       " [47, 2, 3.502673387527466],\n",
       " [48, 2, 3.7438366413116455],\n",
       " [49, 2, 4.073760509490967],\n",
       " [50, 2, 4.058459758758545],\n",
       " [51, 2, 4.21557092666626],\n",
       " [52, 2, 3.298570394515991],\n",
       " [53, 2, 3.2607533931732178],\n",
       " [54, 2, 3.058345317840576],\n",
       " [55, 2, 3.250260829925537],\n",
       " [56, 2, 3.968327045440674],\n",
       " [57, 2, 3.842836856842041],\n",
       " [58, 2, 4.430500507354736],\n",
       " [59, 2, 4.2590436935424805],\n",
       " [60, 2, 4.387680530548096],\n",
       " [61, 2, 4.60271692276001],\n",
       " [62, 2, 3.6768670082092285],\n",
       " [63, 2, 3.6571130752563477],\n",
       " [64, 2, 4.1589555740356445],\n",
       " [65, 2, 7.043668270111084],\n",
       " [66, 2, 7.691218376159668],\n",
       " [67, 2, 7.602083683013916],\n",
       " [68, 2, 7.471343517303467],\n",
       " [69, 2, 7.600071430206299],\n",
       " [0, 3, 1.3331000804901123],\n",
       " [1, 3, 1.3742467164993286],\n",
       " [2, 3, 0.8499930500984192],\n",
       " [3, 3, 0.0],\n",
       " [4, 3, 0.8250491619110107],\n",
       " [5, 3, 1.4892988204956055],\n",
       " [6, 3, 2.1406733989715576],\n",
       " [7, 3, 2.1521291732788086],\n",
       " [8, 3, 1.5159063339233398],\n",
       " [9, 3, 0.8250041007995605],\n",
       " [10, 3, 1.4289054870605469],\n",
       " [11, 3, 1.650011420249939],\n",
       " [12, 3, 1.6999523639678955],\n",
       " [13, 3, 1.4721407890319824],\n",
       " [14, 3, 2.307158946990967],\n",
       " [15, 3, 2.5336389541625977],\n",
       " [16, 3, 2.4916129112243652],\n",
       " [17, 3, 2.2453105449676514],\n",
       " [18, 3, 2.7383980751037598],\n",
       " [19, 3, 2.7586569786071777],\n",
       " [20, 3, 2.6808173656463623],\n",
       " [21, 3, 2.4270098209381104],\n",
       " [22, 3, 2.0508718490600586],\n",
       " [23, 3, 1.9648940563201904],\n",
       " [24, 3, 2.4738388061523438],\n",
       " [25, 3, 2.671604633331299],\n",
       " [26, 3, 3.1022000312805176],\n",
       " [27, 3, 3.1962273120880127],\n",
       " [28, 3, 3.3036060333251953],\n",
       " [29, 3, 3.185291290283203],\n",
       " [30, 3, 3.332113265991211],\n",
       " [31, 3, 3.1190450191497803],\n",
       " [32, 3, 2.5777106285095215],\n",
       " [33, 3, 2.5921082496643066],\n",
       " [34, 3, 2.4616169929504395],\n",
       " [35, 3, 2.8231546878814697],\n",
       " [36, 3, 3.2258460521698],\n",
       " [37, 3, 3.4940621852874756],\n",
       " [38, 3, 3.745694398880005],\n",
       " [39, 3, 3.5583508014678955],\n",
       " [40, 3, 3.311863660812378],\n",
       " [41, 3, 3.0234763622283936],\n",
       " [42, 3, 3.0530123710632324],\n",
       " [43, 3, 2.7895114421844482],\n",
       " [44, 3, 3.431222438812256],\n",
       " [45, 3, 3.4931066036224365],\n",
       " [46, 3, 4.078365325927734],\n",
       " [47, 3, 4.200581073760986],\n",
       " [48, 3, 3.9248900413513184],\n",
       " [49, 3, 3.9382901191711426],\n",
       " [50, 3, 3.208467483520508],\n",
       " [51, 3, 3.416046142578125],\n",
       " [52, 3, 3.08854341506958],\n",
       " [53, 3, 3.424506664276123],\n",
       " [54, 3, 3.8485524654388428],\n",
       " [55, 3, 4.099306106567383],\n",
       " [56, 3, 4.570436477661133],\n",
       " [57, 3, 4.189542770385742],\n",
       " [58, 3, 4.140963554382324],\n",
       " [59, 3, 3.729464530944824],\n",
       " [60, 3, 3.733790874481201],\n",
       " [61, 3, 3.86682391166687],\n",
       " [62, 3, 3.9911115169525146],\n",
       " [63, 3, 4.483580589294434],\n",
       " [64, 3, 4.351775169372559],\n",
       " [65, 3, 6.319077014923096],\n",
       " [66, 3, 7.049075126647949],\n",
       " [67, 3, 8.019342422485352],\n",
       " [68, 3, 8.301583290100098],\n",
       " [69, 3, 7.693446636199951],\n",
       " [0, 4, 0.8650400638580322],\n",
       " [1, 4, 1.4003520011901855],\n",
       " [2, 4, 1.3606945276260376],\n",
       " [3, 4, 0.8250491619110107],\n",
       " [4, 4, 0.0],\n",
       " [5, 4, 0.824999988079071],\n",
       " [6, 4, 1.519861102104187],\n",
       " [7, 4, 2.217439889907837],\n",
       " [8, 4, 2.167464017868042],\n",
       " [9, 4, 1.470232605934143],\n",
       " [10, 4, 1.6499903202056885],\n",
       " [11, 4, 1.4289683103561401],\n",
       " [12, 4, 2.5141005516052246],\n",
       " [13, 4, 2.2692813873291016],\n",
       " [14, 4, 1.4982401132583618],\n",
       " [15, 4, 1.7300033569335938],\n",
       " [16, 4, 2.7864747047424316],\n",
       " [17, 4, 2.766894578933716],\n",
       " [18, 4, 2.2547943592071533],\n",
       " [19, 4, 2.5093131065368652],\n",
       " [20, 4, 1.973747730255127],\n",
       " [21, 4, 2.026942491531372],\n",
       " [22, 4, 2.4381861686706543],\n",
       " [23, 4, 2.6430280208587646],\n",
       " [24, 4, 3.2637455463409424],\n",
       " [25, 4, 3.3311216831207275],\n",
       " [26, 4, 3.221754789352417],\n",
       " [27, 4, 3.1239418983459473],\n",
       " [28, 4, 2.6730382442474365],\n",
       " [29, 4, 2.43298602104187],\n",
       " [30, 4, 2.514479875564575],\n",
       " [31, 4, 2.3193447589874268],\n",
       " [32, 4, 2.4332470893859863],\n",
       " [33, 4, 2.7569949626922607],\n",
       " [34, 4, 3.233461380004883],\n",
       " [35, 4, 3.647273540496826],\n",
       " [36, 4, 3.7712769508361816],\n",
       " [37, 4, 3.7729766368865967],\n",
       " [38, 4, 3.51137113571167],\n",
       " [39, 4, 3.0735790729522705],\n",
       " [40, 4, 2.600303888320923],\n",
       " [41, 4, 2.6577541828155518],\n",
       " [42, 4, 3.383286476135254],\n",
       " [43, 4, 3.4589221477508545],\n",
       " [44, 4, 4.238203525543213],\n",
       " [45, 4, 4.15474271774292],\n",
       " [46, 4, 4.226101398468018],\n",
       " [47, 4, 4.098909854888916],\n",
       " [48, 4, 3.304370403289795],\n",
       " [49, 4, 3.151129722595215],\n",
       " [50, 4, 3.045405149459839],\n",
       " [51, 4, 3.5628387928009033],\n",
       " [52, 4, 3.850085735321045],\n",
       " [53, 4, 4.249535083770752],\n",
       " [54, 4, 4.402685642242432],\n",
       " [55, 4, 4.401779651641846],\n",
       " [56, 4, 4.324402809143066],\n",
       " [57, 4, 3.690521478652954],\n",
       " [58, 4, 3.3186380863189697],\n",
       " [59, 4, 2.9400789737701416],\n",
       " [60, 4, 3.0272576808929443],\n",
       " [61, 4, 4.149749279022217],\n",
       " [62, 4, 4.808009624481201],\n",
       " [63, 4, 4.64928674697876],\n",
       " [64, 4, 3.728851795196533],\n",
       " [65, 4, 5.690467834472656],\n",
       " [66, 4, 7.429348468780518],\n",
       " [67, 4, 8.823877334594727],\n",
       " [68, 4, 8.440667152404785],\n",
       " [69, 4, 6.976511478424072],\n",
       " [0, 5, 1.511819839477539],\n",
       " [1, 5, 2.193895101547241],\n",
       " [2, 5, 2.1687967777252197],\n",
       " [3, 5, 1.4892988204956055],\n",
       " [4, 5, 0.824999988079071],\n",
       " [5, 5, 0.0],\n",
       " [6, 5, 1.8694939613342285],\n",
       " [7, 5, 2.9913463592529297],\n",
       " [8, 5, 2.9544906616210938],\n",
       " [9, 5, 1.8293752670288086],\n",
       " [10, 5, 1.558026909828186],\n",
       " [11, 5, 0.9435309767723083],\n",
       " [12, 5, 3.165099859237671],\n",
       " [13, 5, 2.744432210922241],\n",
       " [14, 5, 0.9736469388008118],\n",
       " [15, 5, 1.5977661609649658],\n",
       " [16, 5, 3.602010488510132],\n",
       " [17, 5, 3.5868849754333496],\n",
       " [18, 5, 2.6891891956329346],\n",
       " [19, 5, 3.1239418983459473],\n",
       " [20, 5, 1.1917153596878052],\n",
       " [21, 5, 1.2813708782196045],\n",
       " [22, 5, 2.3769164085388184],\n",
       " [23, 5, 2.899182081222534],\n",
       " [24, 5, 3.9577865600585938],\n",
       " [25, 5, 4.121533393859863],\n",
       " [26, 5, 3.9927456378936768],\n",
       " [27, 5, 3.8187198638916016],\n",
       " [28, 5, 2.886202335357666],\n",
       " [29, 5, 2.414879083633423],\n",
       " [30, 5, 2.21809458732605],\n",
       " [31, 5, 1.704073190689087],\n",
       " [32, 5, 1.858522653579712],\n",
       " [33, 5, 2.4381861686706543],\n",
       " [34, 5, 3.6130123138427734],\n",
       " [35, 5, 4.238203525543213],\n",
       " [36, 5, 4.590821266174316],\n",
       " [37, 5, 4.580003261566162],\n",
       " [38, 5, 4.098909854888916],\n",
       " [39, 5, 3.4564149379730225],\n",
       " [40, 5, 1.823040246963501],\n",
       " [41, 5, 1.9064699411392212],\n",
       " [42, 5, 3.1847758293151855],\n",
       " [43, 5, 3.6583878993988037],\n",
       " [44, 5, 4.897283554077148],\n",
       " [45, 5, 4.946439743041992],\n",
       " [46, 5, 4.995342254638672],\n",
       " [47, 5, 4.75748348236084],\n",
       " [48, 5, 3.4985504150390625],\n",
       " [49, 5, 2.9798312187194824],\n",
       " [50, 5, 2.417739152908325],\n",
       " [51, 5, 3.17413067817688],\n",
       " [52, 5, 4.190191745758057],\n",
       " [53, 5, 4.808009624481201],\n",
       " [54, 5, 5.222034931182861],\n",
       " [55, 5, 5.21054744720459],\n",
       " [56, 5, 4.883893966674805],\n",
       " [57, 5, 4.031851291656494],\n",
       " [58, 5, 2.9407906532287598],\n",
       " [59, 5, 2.2816574573516846],\n",
       " [60, 5, 2.246232271194458],\n",
       " [61, 5, 3.867037773132324],\n",
       " [62, 5, 5.434759140014648],\n",
       " [63, 5, 5.421255588531494],\n",
       " [64, 5, 3.9019644260406494],\n",
       " [65, 5, 4.874880790710449],\n",
       " [66, 5, 7.179410457611084],\n",
       " [67, 5, 9.480884552001953],\n",
       " [68, 5, 9.186245918273926],\n",
       " [69, 5, 6.914471626281738],\n",
       " [0, 6, 0.8250041604042053],\n",
       " [1, 6, 1.4289213418960571],\n",
       " [2, 6, 2.0941741466522217],\n",
       " [3, 6, 2.1406733989715576],\n",
       " [4, 6, 1.519861102104187],\n",
       " [5, 6, 1.8694939613342285],\n",
       " [6, 6, 0.0],\n",
       " [7, 6, 1.8255860805511475],\n",
       " [8, 6, 2.8325588703155518],\n",
       " [9, 6, 2.9268999099731445],\n",
       " [10, 6, 3.1592185497283936],\n",
       " [11, 6, 2.776444435119629],\n",
       " [12, 6, 3.556917190551758],\n",
       " [13, 6, 3.5844106674194336],\n",
       " [14, 6, 1.6155325174331665],\n",
       " [15, 6, 0.9901986122131348],\n",
       " [16, 6, 2.6403748989105225],\n",
       " [17, 6, 3.0527634620666504],\n",
       " [18, 6, 0.8249815702438354],\n",
       " [19, 6, 1.428882122039795],\n",
       " [20, 6, 2.434326648712158],\n",
       " [21, 6, 3.102691650390625],\n",
       " [22, 6, 3.9572043418884277],\n",
       " [23, 6, 4.0960693359375],\n",
       " [24, 6, 4.139019966125488],\n",
       " [25, 6, 3.8256142139434814],\n",
       " [26, 6, 2.6614770889282227],\n",
       " [27, 6, 2.2359917163848877],\n",
       " [28, 6, 1.1667001247406006],\n",
       " [29, 6, 1.184744119644165],\n",
       " [30, 6, 1.711651086807251],\n",
       " [31, 6, 2.225557565689087],\n",
       " [32, 6, 3.7276549339294434],\n",
       " [33, 6, 4.221390724182129],\n",
       " [34, 6, 4.586814880371094],\n",
       " [35, 6, 4.72074556350708],\n",
       " [36, 6, 3.958247184753418],\n",
       " [37, 6, 3.4249942302703857],\n",
       " [38, 6, 2.3082587718963623],\n",
       " [39, 6, 1.5937384366989136],\n",
       " [40, 6, 2.9032483100891113],\n",
       " [41, 6, 3.6956562995910645],\n",
       " [42, 6, 4.889581203460693],\n",
       " [43, 6, 4.920655250549316],\n",
       " [44, 6, 5.142061710357666],\n",
       " [45, 6, 4.577050685882568],\n",
       " [46, 6, 3.5849709510803223],\n",
       " [47, 6, 3.0487682819366455],\n",
       " [48, 6, 1.7945927381515503],\n",
       " [49, 6, 2.0083115100860596],\n",
       " [50, 6, 4.280797958374023],\n",
       " [51, 6, 5.000670433044434],\n",
       " [52, 6, 5.217313289642334],\n",
       " [53, 6, 5.350748062133789],\n",
       " [54, 6, 4.548818111419678],\n",
       " [55, 6, 4.030229091644287],\n",
       " [56, 6, 3.0527186393737793],\n",
       " [57, 6, 2.1905269622802734],\n",
       " [58, 6, 2.4979984760284424],\n",
       " [59, 6, 2.8026444911956787],\n",
       " [60, 6, 3.2794415950775146],\n",
       " [61, 6, 5.636986255645752],\n",
       " [62, 6, 5.760599136352539],\n",
       " [63, 6, 4.003302574157715],\n",
       " [64, 6, 2.2213287353515625],\n",
       " [65, 6, 5.981174468994141],\n",
       " [66, 6, 8.93334674835205],\n",
       " [67, 6, 9.614167213439941],\n",
       " [68, 6, 7.597036838531494],\n",
       " [69, 6, 5.564826488494873],\n",
       " [0, 7, 1.5244444608688354],\n",
       " [1, 7, 0.8250250816345215],\n",
       " [2, 7, 1.4280039072036743],\n",
       " [3, 7, 2.1521291732788086],\n",
       " [4, 7, 2.217439889907837],\n",
       " [5, 7, 2.9913463592529297],\n",
       " [6, 7, 1.8255860805511475],\n",
       " [7, 7, 0.0],\n",
       " [8, 7, 1.648900032043457],\n",
       " [9, 7, 2.8981926441192627],\n",
       " [10, 7, 3.575692892074585],\n",
       " [11, 7, 3.6154286861419678],\n",
       " [12, 7, 2.624516010284424],\n",
       " [13, 7, 3.0789759159088135],\n",
       " [14, 7, 3.229010820388794],\n",
       " [15, 7, 2.798802614212036],\n",
       " [16, 7, 0.8250250816345215],\n",
       " [17, 7, 1.428956389427185],\n",
       " [18, 7, 1.642636775970459],\n",
       " [19, 7, 1.027259111404419],\n",
       " [20, 7, 3.9640610218048096],\n",
       " [21, 7, 4.241912841796875],\n",
       " [22, 7, 4.180651664733887],\n",
       " [23, 7, 3.8372983932495117],\n",
       " [24, 7, 2.89196515083313],\n",
       " [25, 7, 2.253981590270996],\n",
       " [26, 7, 1.0044636726379395],\n",
       " [27, 7, 1.080338478088379],\n",
       " [28, 7, 2.46760892868042],\n",
       " [29, 7, 2.910811185836792],\n",
       " [30, 7, 3.534514904022217],\n",
       " [31, 7, 3.9657881259918213],\n",
       " [32, 7, 4.6125922203063965],\n",
       " [33, 7, 4.741793632507324],\n",
       " [34, 7, 4.003473281860352],\n",
       " [35, 7, 3.6470556259155273],\n",
       " [36, 7, 2.1904776096343994],\n",
       " [37, 7, 1.6426403522491455],\n",
       " [38, 7, 1.7846555709838867],\n",
       " [39, 7, 2.1849632263183594],\n",
       " [40, 7, 4.5297160148620605],\n",
       " [41, 7, 4.87322998046875],\n",
       " [42, 7, 5.184848785400391],\n",
       " [43, 7, 4.601455211639404],\n",
       " [44, 7, 3.822340965270996],\n",
       " [45, 7, 2.896618127822876],\n",
       " [46, 7, 2.0088891983032227],\n",
       " [47, 7, 2.07505202293396],\n",
       " [48, 7, 2.9004783630371094],\n",
       " [49, 7, 3.716506004333496],\n",
       " [50, 7, 5.237288475036621],\n",
       " [51, 7, 5.5664896965026855],\n",
       " [52, 7, 4.601787567138672],\n",
       " [53, 7, 4.256183624267578],\n",
       " [54, 7, 2.7502706050872803],\n",
       " [55, 7, 2.2691497802734375],\n",
       " [56, 7, 2.570483446121216],\n",
       " [57, 7, 2.738046169281006],\n",
       " [58, 7, 4.302666664123535],\n",
       " [59, 7, 4.575021743774414],\n",
       " [60, 7, 4.939573764801025],\n",
       " [61, 7, 6.005435943603516],\n",
       " [62, 7, 4.452304363250732],\n",
       " [63, 7, 2.432953119277954],\n",
       " [64, 7, 3.2614779472351074],\n",
       " [65, 7, 7.666121006011963],\n",
       " [66, 7, 9.11910343170166],\n",
       " [67, 7, 8.04395580291748],\n",
       " [68, 7, 6.226898670196533],\n",
       " [69, 7, 6.713159561157227],\n",
       " [0, 8, 2.094406843185425],\n",
       " [1, 8, 1.4280039072036743],\n",
       " [2, 8, 0.8250250816345215],\n",
       " [3, 8, 1.5159063339233398],\n",
       " [4, 8, 2.167464017868042],\n",
       " [5, 8, 2.9544906616210938],\n",
       " [6, 8, 2.8325588703155518],\n",
       " [7, 8, 1.648900032043457],\n",
       " [8, 8, 0.0],\n",
       " [9, 8, 1.8541347980499268],\n",
       " [10, 8, 2.7361488342285156],\n",
       " [11, 8, 3.1442763805389404],\n",
       " [12, 8, 0.9887378811836243],\n",
       " [13, 8, 1.6108322143554688],\n",
       " [14, 8, 3.6294288635253906],\n",
       " [15, 8, 3.586263656616211],\n",
       " [16, 8, 1.4280039072036743],\n",
       " [17, 8, 0.8244756460189819],\n",
       " [18, 8, 3.0516369342803955],\n",
       " [19, 8, 2.639207124710083],\n",
       " [20, 8, 4.135176181793213],\n",
       " [21, 8, 3.938661813735962],\n",
       " [22, 8, 3.075401544570923],\n",
       " [23, 8, 2.4322025775909424],\n",
       " [24, 8, 1.3224598169326782],\n",
       " [25, 8, 1.1670470237731934],\n",
       " [26, 8, 2.2350597381591797],\n",
       " [27, 8, 2.6603164672851562],\n",
       " [28, 8, 3.8245604038238525],\n",
       " [29, 8, 4.016071319580078],\n",
       " [30, 8, 4.409616947174072],\n",
       " [31, 8, 4.453544616699219],\n",
       " [32, 8, 4.009308338165283],\n",
       " [33, 8, 3.8032686710357666],\n",
       " [34, 8, 2.4203734397888184],\n",
       " [35, 8, 2.0145561695098877],\n",
       " [36, 8, 1.733116865158081],\n",
       " [37, 8, 2.307481527328491],\n",
       " [38, 8, 3.4239108562469482],\n",
       " [39, 8, 3.7438366413116455],\n",
       " [40, 8, 4.764588356018066],\n",
       " [41, 8, 4.524472713470459],\n",
       " [42, 8, 4.029253959655762],\n",
       " [43, 8, 3.105391263961792],\n",
       " [44, 8, 2.3168320655822754],\n",
       " [45, 8, 1.9919543266296387],\n",
       " [46, 8, 3.047872304916382],\n",
       " [47, 8, 3.5838539600372314],\n",
       " [48, 8, 4.360661506652832],\n",
       " [49, 8, 4.836565017700195],\n",
       " [50, 8, 4.629361629486084],\n",
       " [51, 8, 4.5871686935424805],\n",
       " [52, 8, 2.9903907775878906],\n",
       " [53, 8, 2.6360790729522705],\n",
       " [54, 8, 2.344658136367798],\n",
       " [55, 8, 2.8367204666137695],\n",
       " [56, 8, 4.18351936340332],\n",
       " [57, 8, 4.33634614944458],\n",
       " [58, 8, 5.233431339263916],\n",
       " [59, 8, 5.082764148712158],\n",
       " [60, 8, 5.191028118133545],\n",
       " [61, 8, 4.847014427185059],\n",
       " [62, 8, 2.942248821258545],\n",
       " [63, 8, 3.396746873855591],\n",
       " [64, 8, 4.7590250968933105],\n",
       " [65, 8, 7.820896148681641],\n",
       " [66, 8, 7.74720573425293],\n",
       " [67, 8, 6.800729274749756],\n",
       " [68, 8, 7.140322685241699],\n",
       " [69, 8, 8.22478199005127],\n",
       " [0, 9, 2.1406731605529785],\n",
       " [1, 9, 2.166536569595337],\n",
       " [2, 9, 1.4881809949874878],\n",
       " [3, 9, 0.8250041007995605],\n",
       " [4, 9, 1.470232605934143],\n",
       " [5, 9, 1.8293752670288086],\n",
       " [6, 9, 2.9268999099731445],\n",
       " [7, 9, 2.8981926441192627],\n",
       " [8, 9, 1.8541347980499268],\n",
       " [9, 9, 0.0],\n",
       " [10, 9, 0.9028146266937256],\n",
       " [11, 9, 1.5152318477630615],\n",
       " [12, 9, 1.549444317817688],\n",
       " [13, 9, 0.930985689163208],\n",
       " [14, 9, 2.77944016456604],\n",
       " [15, 9, 3.185291290283203],\n",
       " [16, 9, 3.1022000312805176],\n",
       " [17, 9, 2.6724603176116943],\n",
       " [18, 9, 3.5583508014678955],\n",
       " [19, 9, 3.5739591121673584],\n",
       " [20, 9, 2.9371068477630615],\n",
       " [21, 9, 2.337470054626465],\n",
       " [22, 9, 1.2901527881622314],\n",
       " [23, 9, 1.1753339767456055],\n",
       " [24, 9, 2.372934579849243],\n",
       " [25, 9, 2.8767104148864746],\n",
       " [26, 9, 3.794788122177124],\n",
       " [27, 9, 3.966249942779541],\n",
       " [28, 9, 4.093600273132324],\n",
       " [29, 9, 3.903088331222534],\n",
       " [30, 9, 3.9383299350738525],\n",
       " [31, 9, 3.533149003982544],\n",
       " [32, 9, 2.2142937183380127],\n",
       " [33, 9, 1.9558038711547852],\n",
       " [34, 9, 1.7966099977493286],\n",
       " [35, 9, 2.4738388061523438],\n",
       " [36, 9, 3.5669267177581787],\n",
       " [37, 9, 4.078339099884033],\n",
       " [38, 9, 4.552409648895264],\n",
       " [39, 9, 4.38020133972168],\n",
       " [40, 9, 3.541802406311035],\n",
       " [41, 9, 2.842651605606079],\n",
       " [42, 9, 2.2908811569213867],\n",
       " [43, 9, 1.9967700242996216],\n",
       " [44, 9, 3.2055013179779053],\n",
       " [45, 9, 3.6523613929748535],\n",
       " [46, 9, 4.734827518463135],\n",
       " [47, 9, 4.969040393829346],\n",
       " [48, 9, 4.720318794250488],\n",
       " [49, 9, 4.612905979156494],\n",
       " [50, 9, 2.814007520675659],\n",
       " [51, 9, 2.756197214126587],\n",
       " [52, 9, 2.3968346118927],\n",
       " [53, 9, 3.008391857147217],\n",
       " [54, 9, 4.155003547668457],\n",
       " [55, 9, 4.650522708892822],\n",
       " [56, 9, 5.375686168670654],\n",
       " [57, 9, 5.010951042175293],\n",
       " [58, 9, 4.715485095977783],\n",
       " [59, 9, 4.098745346069336],\n",
       " [60, 9, 3.9391746520996094],\n",
       " [61, 9, 3.1145858764648438],\n",
       " [62, 9, 3.6884171962738037],\n",
       " [63, 9, 5.122541904449463],\n",
       " [64, 9, 5.147359371185303],\n",
       " [65, 9, 6.345854759216309],\n",
       " [66, 9, 6.242786884307861],\n",
       " [67, 9, 7.740379810333252],\n",
       " [68, 9, 8.923505783081055],\n",
       " [69, 9, 8.44332504272461],\n",
       " [0, 10, 2.4932656288146973],\n",
       " [1, 10, 2.777359962463379],\n",
       " [2, 10, 2.2507688999176025],\n",
       " [3, 10, 1.4289054870605469],\n",
       " [4, 10, 1.6499903202056885],\n",
       " [5, 10, 1.558026909828186],\n",
       " [6, 10, 3.1592185497283936],\n",
       " [7, 10, 3.575692892074585],\n",
       " [8, 10, 2.7361488342285156],\n",
       " [9, 10, 0.9028146266937256],\n",
       " [10, 10, 0.0],\n",
       " [11, 10, 0.8249713778495789],\n",
       " [12, 10, 2.4265928268432617],\n",
       " [13, 10, 1.692392349243164],\n",
       " [14, 10, 2.5140044689178467],\n",
       " [15, 10, 3.1327333450317383],\n",
       " [16, 10, 3.899630546569824],\n",
       " [17, 10, 3.543546676635742],\n",
       " [18, 10, 3.904067277908325],\n",
       " [19, 10, 4.091312885284424],\n",
       " [20, 10, 2.419813394546509],\n",
       " [21, 10, 1.5692228078842163],\n",
       " [22, 10, 0.8249999284744263],\n",
       " [23, 10, 1.4875766038894653],\n",
       " [24, 10, 3.241041660308838],\n",
       " [25, 10, 3.7794151306152344],\n",
       " [26, 10, 4.530999660491943],\n",
       " [27, 10, 4.60183048248291],\n",
       " [28, 10, 4.290709018707275],\n",
       " [29, 10, 3.9304072856903076],\n",
       " [30, 10, 3.775066375732422],\n",
       " [31, 10, 3.1433796882629395],\n",
       " [32, 10, 1.3164328336715698],\n",
       " [33, 10, 1.1667261123657227],\n",
       " [34, 10, 2.2927489280700684],\n",
       " [35, 10, 3.2322356700897217],\n",
       " [36, 10, 4.46063756942749],\n",
       " [37, 10, 4.894856929779053],\n",
       " [38, 10, 5.094130516052246],\n",
       " [39, 10, 4.723568916320801],\n",
       " [40, 10, 2.9624478816986084],\n",
       " [41, 10, 1.99586820602417],\n",
       " [42, 10, 1.733311653137207],\n",
       " [43, 10, 2.156332492828369],\n",
       " [44, 10, 4.010331153869629],\n",
       " [45, 10, 4.553464412689209],\n",
       " [46, 10, 5.503779411315918],\n",
       " [47, 10, 5.603315353393555],\n",
       " [48, 10, 4.920360088348389],\n",
       " [49, 10, 4.534955978393555],\n",
       " [50, 10, 1.9111945629119873],\n",
       " [51, 10, 1.991707682609558],\n",
       " [52, 10, 2.791675329208374],\n",
       " [53, 10, 3.7002670764923096],\n",
       " [54, 10, 5.0541605949401855],\n",
       " [55, 10, 5.4858198165893555],\n",
       " [56, 10, 5.9169206619262695],\n",
       " [57, 10, 5.339616298675537],\n",
       " [58, 10, 4.47765588760376],\n",
       " [59, 10, 3.633213758468628],\n",
       " [60, 10, 3.321357011795044],\n",
       " [61, 10, 2.5081655979156494],\n",
       " [62, 10, 4.441399097442627],\n",
       " [63, 10, 5.905597686767578],\n",
       " [64, 10, 5.339590549468994],\n",
       " [65, 10, 5.557342529296875],\n",
       " [66, 10, 5.779388427734375],\n",
       " [67, 10, 8.466337203979492],\n",
       " [68, 10, 9.721632957458496],\n",
       " [69, 10, 8.46097469329834],\n",
       " [0, 11, 2.2776827812194824],\n",
       " [1, 11, 2.7904200553894043],\n",
       " [2, 11, 2.488992214202881],\n",
       " [3, 11, 1.650011420249939],\n",
       " [4, 11, 1.4289683103561401],\n",
       " [5, 11, 0.9435309767723083],\n",
       " [6, 11, 2.776444435119629],\n",
       " [7, 11, 3.6154286861419678],\n",
       " [8, 11, 3.1442763805389404],\n",
       " [9, 11, 1.5152318477630615],\n",
       " [10, 11, 0.8249713778495789],\n",
       " [11, 11, 0.0],\n",
       " [12, 11, 3.052713394165039],\n",
       " [13, 11, 2.417936325073242],\n",
       " [14, 11, 1.8006467819213867],\n",
       " [15, 11, 2.5274715423583984],\n",
       " [16, 11, 4.094350814819336],\n",
       " [17, 11, 3.8950130939483643],\n",
       " [18, 11, 3.581566333770752],\n",
       " [19, 11, 3.927577495574951],\n",
       " [20, 11, 1.6014621257781982],\n",
       " [21, 11, 0.8250042200088501],\n",
       " [22, 11, 1.5553191900253296],\n",
       " [23, 11, 2.3102686405181885],\n",
       " [24, 11, 3.8776676654815674],\n",
       " [25, 11, 4.271165370941162],\n",
       " [26, 11, 4.613725185394287],\n",
       " [27, 11, 4.551982879638672],\n",
       " [28, 11, 3.8265161514282227],\n",
       " [29, 11, 3.3499414920806885],\n",
       " [30, 11, 3.0775606632232666],\n",
       " [31, 11, 2.3520641326904297],\n",
       " [32, 11, 1.0044808387756348],\n",
       " [33, 11, 1.4976524114608765],\n",
       " [34, 11, 3.10676646232605],\n",
       " [35, 11, 3.972327947616577],\n",
       " [36, 11, 4.86968469619751],\n",
       " [37, 11, 5.097731590270996],\n",
       " [38, 11, 4.924468040466309],\n",
       " [39, 11, 4.370113849639893],\n",
       " [40, 11, 2.137655735015869],\n",
       " [41, 11, 1.3804861307144165],\n",
       " [42, 11, 2.2648775577545166],\n",
       " [43, 11, 2.971874952316284],\n",
       " [44, 11, 4.71926736831665],\n",
       " [45, 11, 5.078785419464111],\n",
       " [46, 11, 5.614176273345947],\n",
       " [47, 11, 5.527571201324463],\n",
       " [48, 11, 4.4412713050842285],\n",
       " [49, 11, 3.8711884021759033],\n",
       " [50, 11, 1.6225695610046387],\n",
       " [51, 11, 2.2340431213378906],\n",
       " [52, 11, 3.6162097454071045],\n",
       " [53, 11, 4.474685192108154],\n",
       " [54, 11, 5.487886428833008],\n",
       " [55, 11, 5.715414047241211],\n",
       " [56, 11, 5.729081630706787],\n",
       " [57, 11, 4.957829475402832],\n",
       " [58, 11, 3.730405330657959],\n",
       " [59, 11, 2.817073106765747],\n",
       " [60, 11, 2.500972270965576],\n",
       " [61, 11, 2.9254791736602783],\n",
       " [62, 11, 5.187825679779053],\n",
       " [63, 11, 6.032413005828857],\n",
       " [64, 11, 4.845466613769531],\n",
       " [65, 11, 4.8306403160095215],\n",
       " [66, 11, 6.2374587059021],\n",
       " [67, 11, 9.231950759887695],\n",
       " [68, 11, 9.840714454650879],\n",
       " [69, 11, 7.814875602722168],\n",
       " [0, 12, 2.749318838119507],\n",
       " [1, 12, 2.262906074523926],\n",
       " [2, 12, 1.4722346067428589],\n",
       " [3, 12, 1.6999523639678955],\n",
       " [4, 12, 2.5141005516052246],\n",
       " [5, 12, 3.165099859237671],\n",
       " [6, 12, 3.556917190551758],\n",
       " [7, 12, 2.624516010284424],\n",
       " [8, 12, 0.9887378811836243],\n",
       " [9, 12, 1.549444317817688],\n",
       " [10, 12, 2.4265928268432617],\n",
       " [11, 12, 3.052713394165039],\n",
       " [12, 12, 0.0],\n",
       " [13, 12, 0.8499582409858704],\n",
       " [14, 12, 4.006361484527588],\n",
       " [15, 12, 4.157989978790283],\n",
       " [16, 12, 2.387300491333008],\n",
       " [17, 12, 1.6561696529388428],\n",
       " [18, 12, 3.9122824668884277],\n",
       " [19, 12, 3.587223529815674],\n",
       " [20, 12, 4.346290111541748],\n",
       " [21, 12, 3.8776676654815674],\n",
       " [22, 12, 2.5026121139526367],\n",
       " [23, 12, 1.636419653892517],\n",
       " [24, 12, 0.8250042200088501],\n",
       " [25, 12, 1.4863144159317017],\n",
       " [26, 12, 3.2069308757781982],\n",
       " [27, 12, 3.6488356590270996],\n",
       " [28, 12, 4.638296604156494],\n",
       " [29, 12, 4.710130214691162],\n",
       " [30, 12, 4.976483345031738],\n",
       " [31, 12, 4.8188676834106445],\n",
       " [32, 12, 3.7417819499969482],\n",
       " [33, 12, 3.3069424629211426],\n",
       " [34, 12, 1.4530181884765625],\n",
       " [35, 12, 1.1667320728302002],\n",
       " [36, 12, 2.2838945388793945],\n",
       " [37, 12, 3.1787004470825195],\n",
       " [38, 12, 4.4063520431518555],\n",
       " [39, 12, 4.651739597320557],\n",
       " [40, 12, 4.972276210784912],\n",
       " [41, 12, 4.3920769691467285],\n",
       " [42, 12, 3.3540852069854736],\n",
       " [43, 12, 2.1929078102111816],\n",
       " [44, 12, 1.7333489656448364],\n",
       " [45, 12, 2.1735472679138184],\n",
       " [46, 12, 3.9620630741119385],\n",
       " [47, 12, 4.568450927734375],\n",
       " [48, 12, 5.210272789001465],\n",
       " [49, 12, 5.508354187011719],\n",
       " [50, 12, 4.318982124328613],\n",
       " [51, 12, 4.018430233001709],\n",
       " [52, 12, 2.0042858123779297],\n",
       " [53, 12, 1.7945765256881714],\n",
       " [54, 12, 2.7934961318969727],\n",
       " [55, 12, 3.638624429702759],\n",
       " [56, 12, 5.171515464782715],\n",
       " [57, 12, 5.260371208190918],\n",
       " [58, 12, 5.7967729568481445],\n",
       " [59, 12, 5.4271159172058105],\n",
       " [60, 12, 5.386641979217529],\n",
       " [61, 12, 4.140429973602295],\n",
       " [62, 12, 2.29398775100708],\n",
       " [63, 12, 4.2810468673706055],\n",
       " [64, 12, 5.621973991394043],\n",
       " [65, 12, 7.876783847808838],\n",
       " [66, 12, 6.86489725112915],\n",
       " [67, 12, 6.3208160400390625],\n",
       " [68, 12, 7.934691905975342],\n",
       " [69, 12, 9.070467948913574],\n",
       " [0, 13, 2.7612032890319824],\n",
       " [1, 13, 2.5159711837768555],\n",
       " [2, 13, 1.6999269723892212],\n",
       " [3, 13, 1.4721407890319824],\n",
       " [4, 13, 2.2692813873291016],\n",
       " [5, 13, 2.744432210922241],\n",
       " [6, 13, 3.5844106674194336],\n",
       " [7, 13, 3.0789759159088135],\n",
       " [8, 13, 1.6108322143554688],\n",
       " [9, 13, 0.930985689163208],\n",
       " [10, 13, 1.692392349243164],\n",
       " [11, 13, 2.417936325073242],\n",
       " [12, 13, 0.8499582409858704],\n",
       " [13, 13, 0.0],\n",
       " [14, 13, 3.674434185028076],\n",
       " [15, 13, 3.996994972229004],\n",
       " [16, 13, 3.0308597087860107],\n",
       " [17, 13, 2.3962607383728027],\n",
       " [18, 13, 4.095969200134277],\n",
       " [19, 13, 3.9348318576812744],\n",
       " [20, 13, 3.8675949573516846],\n",
       " [21, 13, 3.227969169616699],\n",
       " [22, 13, 1.6586641073226929],\n",
       " [23, 13, 0.8250522017478943],\n",
       " [24, 13, 1.595913290977478],\n",
       " [25, 13, 2.3330941200256348],\n",
       " [26, 13, 3.818732261657715],\n",
       " [27, 13, 4.152543544769287],\n",
       " [28, 13, 4.732851982116699],\n",
       " [29, 13, 4.656588554382324],\n",
       " [30, 13, 4.782002925872803],\n",
       " [31, 13, 4.447165489196777],\n",
       " [32, 13, 2.9827287197113037],\n",
       " [33, 13, 2.4716556072235107],\n",
       " [34, 13, 1.0044918060302734],\n",
       " [35, 13, 1.554402470588684],\n",
       " [36, 13, 3.118483781814575],\n",
       " [37, 13, 3.9111621379852295],\n",
       " [38, 13, 4.845245361328125],\n",
       " [39, 13, 4.8909196853637695],\n",
       " [40, 13, 4.47265625],\n",
       " [41, 13, 3.6879968643188477],\n",
       " [42, 13, 2.508467435836792],\n",
       " [43, 13, 1.5244494676589966],\n",
       " [44, 13, 2.318250894546509],\n",
       " [45, 13, 3.016989231109619],\n",
       " [46, 13, 4.658594131469727],\n",
       " [47, 13, 5.123094081878662],\n",
       " [48, 13, 5.341765403747559],\n",
       " [49, 13, 5.408853530883789],\n",
       " [50, 13, 3.5322577953338623],\n",
       " [51, 13, 3.169609546661377],\n",
       " [52, 13, 1.6358915567398071],\n",
       " [53, 13, 2.0774078369140625],\n",
       " [54, 13, 3.641611099243164],\n",
       " [55, 13, 4.4135284423828125],\n",
       " [56, 13, 5.646671295166016],\n",
       " [57, 13, 5.518640995025635],\n",
       " [58, 13, 5.578528881072998],\n",
       " [59, 13, 5.022195816040039],\n",
       " [60, 13, 4.868769645690918],\n",
       " [61, 13, 3.303173065185547],\n",
       " [62, 13, 2.769906520843506],\n",
       " [63, 13, 5.005472183227539],\n",
       " [64, 13, 5.765986919403076],\n",
       " [65, 13, 7.2360734939575195],\n",
       " [66, 13, 6.136981964111328],\n",
       " [67, 13, 6.817017078399658],\n",
       " [68, 13, 8.72087287902832],\n",
       " [69, 13, 9.148757934570312],\n",
       " [0, 14, 1.7300646305084229],\n",
       " [1, 14, 2.5494673252105713],\n",
       " [2, 14, 2.80570650100708],\n",
       " [3, 14, 2.307158946990967],\n",
       " [4, 14, 1.4982401132583618],\n",
       " [5, 14, 0.9736469388008118],\n",
       " [6, 14, 1.6155325174331665],\n",
       " [7, 14, 3.229010820388794],\n",
       " [8, 14, 3.6294288635253906],\n",
       " [9, 14, 2.77944016456604],\n",
       " [10, 14, 2.5140044689178467],\n",
       " [11, 14, 1.8006467819213867],\n",
       " [12, 14, 4.006361484527588],\n",
       " [13, 14, 3.674434185028076],\n",
       " [14, 14, 0.0],\n",
       " [15, 14, 0.8650400638580322],\n",
       " [16, 14, 3.9658877849578857],\n",
       " [17, 14, 4.135602951049805],\n",
       " [18, 14, 2.394441843032837],\n",
       " [19, 14, 3.0396769046783447],\n",
       " ...]"
      ]
     },
     "execution_count": 14,
     "metadata": {},
     "output_type": "execute_result"
    }
   ],
   "source": [
    "DistIndex1Index2"
   ]
  },
  {
   "cell_type": "code",
   "execution_count": 133,
   "metadata": {},
   "outputs": [],
   "source": [
    "import os                                                                                                                                                                                                  \n",
    "import numpy as np                                                                                                                                                                                         \n",
    "import itertools                                                                                                                                                                                           \n",
    "import requests                                                                                                                                                                                            \n",
    "import collections                                                                                                                                                                                         \n",
    "import random                                                                                                                                                                                              \n",
    "                                                                                                                                                                                                           \n",
    "# RDKit libaries                                                                                                                                                                                           \n",
    "from rdkit import Chem                                                                                                                                                                                     \n",
    "from rdkit.Chem import AllChem                                                                                                                                                                             \n",
    "from rdkit.Chem import ChemicalFeatures                                                                                                                                                                    \n",
    "from rdkit.Chem import rdchem                                                                                                                                                                              \n",
    "from rdkit.Chem import rdMolDescriptors                                                                                                                                                                    \n",
    "from rdkit import RDConfig                                                                                                                                                                                 \n",
    "                                                                                                                                                                                                           \n",
    "# Boilerplate libraries                                                                                                                                                                                    \n",
    "import sys                                                                                                                                                                                                 \n",
    "import re                                                                                                                                                                                                  \n",
    "import math                                                                                                                                                                                                \n",
    "import scipy                                                                                                                                                                                               \n",
    "                                                                                                                                                                                                           \n",
    "# scipy libaries                                                                                                                                                                                           \n",
    "from scipy.sparse import csr_matrix                                                                                                                                                                        \n",
    "from scipy.sparse.csgraph import floyd_warshall                                                                                                                                                            \n",
    "from scipy.spatial import ConvexHull, convex_hull_plot_2d           \n",
    "\n",
    "def read_DG_data(DGfile):                                                                                                                                                                                  \n",
    "    # Reads Delta G_OW for fragments into dictionary                                                                                                                                                       \n",
    "    DG_data = {}                                                                                                                                                                                           \n",
    "    with open(DGfile) as f:                                                                                                                                                                                \n",
    "        for line in f:                                                                                                                                                                                     \n",
    "            (key,val) = line.rstrip().split()                                                                                                                                                              \n",
    "            DG_data[key] = float(val)                                                                                                                                                                      \n",
    "                                                                                                                                                                                                           \n",
    "    return DG_data                                                                                                                                                                                         \n",
    "                                                                                                                                                                                                           \n",
    "def include_weights(A,w):                                                                                                                                                                                  \n",
    "    # Weights atoms by setting diagonal components                                                                                                                                                         \n",
    "    A_weighted = np.copy(A)                                                                                                                                                                                \n",
    "    for i,weight in enumerate(w):                                                                                                                                                                          \n",
    "        A_weighted[i,i] = weight     \n",
    "        \n",
    "def get_smarts_matches(mol):                                                                                                                                                                               \n",
    "    #Get matches to SMARTS strings                                                                                                                                                                         \n",
    "    smarts_strings = {                                                                                                                                                                                     \n",
    "    'S([O-])(=O)(=O)O'  :    'Qa',                                                                                                                                                                         \n",
    "    'S([O-])(=O)(=O)[C;!$(*F)]'   :    'Q0'}                                                                                                                                                               \n",
    "    matched_maps = []                                                                                                                                                                                      \n",
    "    matched_beads = []                                                                                                                                                                                     \n",
    "    for smarts in smarts_strings:                                                                                                                                                                          \n",
    "        matches = mol.GetSubstructMatches(Chem.MolFromSmarts(smarts))                                                                                                                                      \n",
    "        for match in matches:                                                                                                                                                                              \n",
    "            matched_maps.append(list(match))                                                                                                                                                               \n",
    "            matched_beads.append(smarts_strings[smarts])                                                                                                                                                   \n",
    "                                                                                                                                                                                                           \n",
    "    return matched_maps,matched_beads           "
   ]
  },
  {
   "cell_type": "code",
   "execution_count": 130,
   "metadata": {},
   "outputs": [],
   "source": [
    "DataPath = '/home/sang/Desktop/GIT/MDNPPackage/temp/cgparam/fragment_DGs.dat'"
   ]
  },
  {
   "cell_type": "code",
   "execution_count": 131,
   "metadata": {},
   "outputs": [
    {
     "data": {
      "text/plain": [
       "{'CC': 8.2656,\n",
       " 'CN': -6.0844,\n",
       " 'CO': -7.9212,\n",
       " 'CF': 2.3534,\n",
       " 'CCl': 3.8458,\n",
       " 'C=C': 5.166,\n",
       " 'C=O': -3.9032,\n",
       " 'C#C': -0.1722,\n",
       " 'CCC': 12.5706,\n",
       " 'CCN': -1.148,\n",
       " 'CCO': -2.296,\n",
       " 'CCF': 5.7974,\n",
       " 'CCCl': 8.4378,\n",
       " 'FCF': 1.6646,\n",
       " 'FCCl': 3.5588,\n",
       " 'ClCF': 3.5588,\n",
       " 'ClCCl': 6.4288,\n",
       " 'CNC': -3.0422,\n",
       " 'COC': -0.9184,\n",
       " 'CC=C': 9.6432,\n",
       " 'CC=O': -0.0574,\n",
       " 'CC#N': -0.2296,\n",
       " 'NC=N': -8.036,\n",
       " 'NC=O': -8.7822,\n",
       " 'OC=O': -2.6978,\n",
       " 'FC=C': 5.8548,\n",
       " 'ClC=C': 8.2082,\n",
       " 'NN=C': -1.8368,\n",
       " 'ON=C': -1.7794,\n",
       " 'CC#C': 5.2808,\n",
       " 'CC(C)C': 12.3984,\n",
       " 'CC(C)N': -0.287,\n",
       " 'CC(C)O': 0.2296,\n",
       " 'CC(C)F': 6.1992,\n",
       " 'CC(C)Cl': 8.5526,\n",
       " 'CC(F)F': 4.5346,\n",
       " 'CC(F)Cl': 7.2898,\n",
       " 'CC(Cl)F': 7.2898,\n",
       " 'CC(Cl)Cl': 9.8728,\n",
       " 'FC(F)F': 5.5678,\n",
       " 'FC(F)Cl': 5.6252,\n",
       " 'FC(Cl)F': 5.6252,\n",
       " 'FC(Cl)Cl': 7.3472,\n",
       " 'ClC(F)F': 5.6252,\n",
       " 'ClC(F)Cl': 7.3472,\n",
       " 'ClC(Cl)F': 7.3472,\n",
       " 'ClC(Cl)Cl': 9.5858,\n",
       " 'CN(C)C': -0.8036,\n",
       " 'CC(C)=C': 10.7338,\n",
       " 'CC(C)=O': -1.6646,\n",
       " 'CC(N)=N': -5.74,\n",
       " 'CC(N)=O': -6.314,\n",
       " 'CC(O)=O': -0.6888,\n",
       " 'CC(F)=C': 7.4046,\n",
       " 'CC(Cl)=C': 10.7912,\n",
       " 'NC(N)=N': -11.0208,\n",
       " 'NC(N)=O': -10.2172,\n",
       " 'OC(O)=O': 3.444,\n",
       " 'FC(F)=C': 8.9544,\n",
       " 'FC(Cl)=C': 9.2988,\n",
       " 'ClC(F)=C': 9.2988,\n",
       " 'ClC(Cl)=C': 11.3078,\n",
       " 'CCCC': 16.1294,\n",
       " 'CCCN': 1.7794,\n",
       " 'CCCO': 1.2054,\n",
       " 'CCCF': 9.5858,\n",
       " 'CCCCl': 11.9966,\n",
       " 'NCCN': -10.1598,\n",
       " 'NCCO': -8.7822,\n",
       " 'NCCF': -5.453,\n",
       " 'NCCCl': -2.7552,\n",
       " 'OCCO': -8.7822,\n",
       " 'OCCF': -3.6736,\n",
       " 'OCCCl': 0.0,\n",
       " 'FCCF': 1.148,\n",
       " 'FCCCl': 4.592,\n",
       " 'ClCCF': 4.592,\n",
       " 'ClCCCl': 8.4952,\n",
       " 'CCNC': 0.7462,\n",
       " 'CCOC': 3.3866,\n",
       " 'CCC=C': 12.6854,\n",
       " 'CCC=O': 1.7794,\n",
       " 'CCC#N': -0.0574,\n",
       " 'NCC=C': -2.4682,\n",
       " 'OCC=C': -0.1722,\n",
       " 'OCC=O': -5.6826,\n",
       " 'OCC#N': -6.8306,\n",
       " 'FCC=C': 5.3382,\n",
       " 'ClCC=C': 10.2746,\n",
       " 'FCC=O': -3.0996,\n",
       " 'ClCC=O': 1.0332,\n",
       " 'FCC#N': 0.5166,\n",
       " 'ClCC#N': -0.2296,\n",
       " 'CNC=N': -7.8064,\n",
       " 'CNC=O': -7.5194,\n",
       " 'NNC=N': -10.8486,\n",
       " 'NNC=O': -10.1024,\n",
       " 'ONC=N': -10.1024,\n",
       " 'ONC=O': -11.0208,\n",
       " 'CNN=C': -3.3292,\n",
       " 'COC=C': 2.8126,\n",
       " 'COC=O': -1.7794,\n",
       " 'CON=C': -0.6314,\n",
       " 'CCC#C': 8.0934,\n",
       " 'NCC#C': -4.1328,\n",
       " 'OCC#C': -4.018,\n",
       " 'FCC#C': 3.3866,\n",
       " 'ClCC#C': 6.0844,\n",
       " 'C=CC=C': 11.1356,\n",
       " 'C=CC=O': 1.0332,\n",
       " 'C=CC#N': 1.148,\n",
       " 'O=CC=O': -0.2296,\n",
       " 'O=CC#N': -1.6072,\n",
       " 'N#CC#N': -3.731,\n",
       " 'C=NN=C': 4.8216,\n",
       " 'C=CC#C': 4.6494,\n",
       " 'O=CC#C': -1.0906,\n",
       " 'C#CC#N': 2.009,\n",
       " 'C#CC#C': 4.4772,\n",
       " 'CC=CC': 13.3168,\n",
       " 'CC=CF': 9.4136,\n",
       " 'CC=CCl': 11.3078,\n",
       " 'FC=CF': 6.314,\n",
       " 'FC=CCl': 8.61,\n",
       " 'ClC=CF': 8.61,\n",
       " 'ClC=CCl': 10.619,\n",
       " 'CC=NN': -0.4018,\n",
       " 'CC=NO': -0.861,\n",
       " 'CC#CC': 9.758,\n",
       " 'CC(C)(C)C': 16.933,\n",
       " 'CC(C)(C)N': 4.6494,\n",
       " 'CC(C)(C)O': 4.018,\n",
       " 'CC(C)(C)F': 10.045,\n",
       " 'CC(C)(C)Cl': 13.8334,\n",
       " 'CC(C)(F)F': 6.1418,\n",
       " 'CC(C)(F)Cl': 9.8154,\n",
       " 'CC(C)(Cl)F': 9.8154,\n",
       " 'CC(C)(Cl)Cl': 14.1778,\n",
       " 'CC(F)(F)F': 5.3956,\n",
       " 'CC(F)(F)Cl': 9.6432,\n",
       " 'CC(F)(Cl)F': 9.6432,\n",
       " 'CC(F)(Cl)Cl': 11.9392,\n",
       " 'CC(Cl)(F)F': 9.6432,\n",
       " 'CC(Cl)(F)Cl': 11.9392,\n",
       " 'CC(Cl)(Cl)F': 11.9392,\n",
       " 'CC(Cl)(Cl)Cl': 14.063,\n",
       " 'FC(F)(F)F': 10.045,\n",
       " 'FC(F)(F)Cl': 10.332,\n",
       " 'FC(F)(Cl)F': 10.332,\n",
       " 'FC(F)(Cl)Cl': 11.8244,\n",
       " 'FC(Cl)(F)F': 10.332,\n",
       " 'FC(Cl)(F)Cl': 11.8244,\n",
       " 'FC(Cl)(Cl)F': 11.8244,\n",
       " 'FC(Cl)(Cl)Cl': 12.915,\n",
       " 'ClC(F)(F)F': 10.332,\n",
       " 'ClC(F)(F)Cl': 11.8244,\n",
       " 'ClC(F)(Cl)F': 11.8244,\n",
       " 'ClC(F)(Cl)Cl': 12.915,\n",
       " 'ClC(Cl)(F)F': 11.8244,\n",
       " 'ClC(Cl)(F)Cl': 12.915,\n",
       " 'ClC(Cl)(Cl)F': 12.915,\n",
       " 'ClC(Cl)(Cl)Cl': 15.1536,\n",
       " 'CCC(C)C': 17.9088,\n",
       " 'CC(C)CN': 3.0996,\n",
       " 'CC(C)CO': 3.444,\n",
       " 'CC(C)CF': 10.1598,\n",
       " 'CC(C)CCl': 13.1446,\n",
       " 'CCC(C)N': 4.5346,\n",
       " 'CC(N)CN': -7.8064,\n",
       " 'CC(N)CO': -5.5104,\n",
       " 'CC(N)CF': -2.1238,\n",
       " 'CC(N)CCl': 0.9758,\n",
       " 'CCC(C)O': 3.7884,\n",
       " 'CC(O)CN': -5.9122,\n",
       " 'CC(O)CO': -6.314,\n",
       " 'CC(O)CF': -1.148,\n",
       " 'CC(O)CCl': 2.4682,\n",
       " 'CCC(C)F': 13.2594,\n",
       " 'CCC(C)Cl': 13.4316,\n",
       " 'CC(F)CN': -2.2386,\n",
       " 'CC(Cl)CN': 1.148,\n",
       " 'CC(F)CO': -0.9758,\n",
       " 'CC(Cl)CO': 2.6978,\n",
       " 'CC(F)CF': 4.1328,\n",
       " 'CC(F)CCl': 8.7248,\n",
       " 'CC(Cl)CF': 7.8064,\n",
       " 'CC(Cl)CCl': 12.2262,\n",
       " 'CCC(F)F': 7.0028,\n",
       " 'CCC(F)Cl': 10.7338,\n",
       " 'CCC(Cl)F': 10.7338,\n",
       " 'CCC(Cl)Cl': 13.3168,\n",
       " 'NCC(F)F': -3.2718,\n",
       " 'NCC(F)Cl': -1.9516,\n",
       " 'NCC(Cl)F': -1.9516,\n",
       " 'NCC(Cl)Cl': 0.1722,\n",
       " 'OCC(F)F': -2.1238,\n",
       " 'OCC(F)Cl': 0.4592,\n",
       " 'OCC(Cl)F': 0.4592,\n",
       " 'OCC(Cl)Cl': 3.3866,\n",
       " 'FCC(F)F': 2.6978,\n",
       " 'FCC(F)Cl': 4.7068,\n",
       " 'FCC(Cl)F': 4.7068,\n",
       " 'FCC(Cl)Cl': 8.4378,\n",
       " 'ClCC(F)F': 5.6252,\n",
       " 'ClCC(F)Cl': 9.0118,\n",
       " 'ClCC(Cl)F': 9.0118,\n",
       " 'ClCC(Cl)Cl': 11.5948,\n",
       " 'CNC(C)C': 2.0664,\n",
       " 'COC(C)C': 4.4772,\n",
       " 'CCN(C)C': 4.0754,\n",
       " 'CC(C)C=C': 13.202,\n",
       " 'CC(C)C=O': 3.444,\n",
       " 'CC(C)C#N': 2.87,\n",
       " 'CC(N)C=C': 0.5166,\n",
       " 'CC(O)C=C': 2.7552,\n",
       " 'CC(O)C=O': -5.9696,\n",
       " 'CC(O)C#N': -3.731,\n",
       " 'CC(F)C=C': 9.5284,\n",
       " 'CC(Cl)C=C': 13.1446,\n",
       " 'CC(F)C=O': -1.2628,\n",
       " 'CC(Cl)C=O': 3.2144,\n",
       " 'CC(F)C#N': 2.1812,\n",
       " 'CC(Cl)C#N': 4.0754,\n",
       " 'FC(F)C=C': 6.4862,\n",
       " 'FC(Cl)C=C': 8.7248,\n",
       " 'ClC(F)C=C': 8.7248,\n",
       " 'ClC(Cl)C=C': 12.4558,\n",
       " 'FC(F)C=O': 0.1148,\n",
       " 'FC(Cl)C=O': 0.4018,\n",
       " 'ClC(F)C=O': 0.4018,\n",
       " 'ClC(Cl)C=O': 3.8458,\n",
       " 'FC(F)C#N': 4.4772,\n",
       " 'FC(Cl)C#N': 3.8458,\n",
       " 'ClC(F)C#N': 3.8458,\n",
       " 'ClC(Cl)C#N': 5.7974,\n",
       " 'CN(C)C=N': -4.3624,\n",
       " 'CN(C)C=O': -4.4198,\n",
       " 'CN(N)C=N': -7.462,\n",
       " 'CN(N)C=O': -9.184,\n",
       " 'CN(O)C=N': -6.3714,\n",
       " 'CN(O)C=O': -8.323,\n",
       " 'CN(C)N=C': -2.6978,\n",
       " 'CC(C)C#C': 9.5858,\n",
       " 'CC(N)C#C': -0.8036,\n",
       " 'CC(O)C#C': -1.0906,\n",
       " 'CC(F)C#C': 6.4862,\n",
       " 'CC(Cl)C#C': 8.5526,\n",
       " 'FC(F)C#C': 3.8458,\n",
       " 'FC(Cl)C#C': 7.0028,\n",
       " 'ClC(F)C#C': 7.0028,\n",
       " 'ClC(Cl)C#C': 9.184,\n",
       " 'CCC(C)=C': 16.1868,\n",
       " 'CC(=C)CN': -0.2296,\n",
       " 'CC(=C)CO': 1.9516,\n",
       " 'CC(=C)CF': 9.0118,\n",
       " 'CC(=C)CCl': 12.4558,\n",
       " 'CCC(C)=O': 2.3534,\n",
       " 'CC(=O)CO': -5.8548,\n",
       " 'CC(=O)CF': 3.731,\n",
       " 'CC(=O)CCl': 1.722,\n",
       " 'CCC(N)=N': -2.3534,\n",
       " 'NCC(N)=N': -13.0872,\n",
       " 'NC(=N)CO': -10.906,\n",
       " 'NC(=N)CF': -4.9364,\n",
       " 'NC(=N)CCl': -2.87,\n",
       " 'CCC(N)=O': -3.731,\n",
       " 'NCC(N)=O': -14.2926,\n",
       " 'NC(=O)CO': -9.9302,\n",
       " 'NC(=O)CF': -3.6736,\n",
       " 'NC(=O)CCl': -3.8458,\n",
       " 'CCC(O)=O': 1.7794,\n",
       " 'NCC(O)=O': -19.1716,\n",
       " 'OCC(O)=O': -5.8548,\n",
       " 'OC(=O)CF': -1.7794,\n",
       " 'OC(=O)CCl': 1.0332,\n",
       " 'CCC(F)=C': 11.7096,\n",
       " 'CCC(Cl)=C': 14.8092,\n",
       " 'NCC(F)=C': -2.009,\n",
       " 'NCC(Cl)=C': 0.1148,\n",
       " 'OCC(F)=C': -0.0574,\n",
       " 'OCC(Cl)=C': 3.0996,\n",
       " 'FCC(F)=C': 6.4862,\n",
       " 'FCC(Cl)=C': 8.5526,\n",
       " 'ClCC(F)=C': 9.0692,\n",
       " 'ClCC(Cl)=C': 12.054,\n",
       " 'CNC(C)=N': -2.3534,\n",
       " 'CC(=N)NN': -5.5104,\n",
       " 'CC(=N)NO': -5.5678,\n",
       " 'CNC(C)=O': -6.0844,\n",
       " 'CC(=O)NN': -9.0692,\n",
       " 'CC(=O)NO': -8.3804,\n",
       " 'CNC(N)=N': -7.6342,\n",
       " 'NNC(N)=N': -10.1024,\n",
       " 'NC(=N)NO': -10.3894,\n",
       " 'CNC(N)=O': -8.897,\n",
       " 'NNC(N)=O': -10.7912,\n",
       " 'NC(=O)NO': -10.5042,\n",
       " 'COC(C)=C': 8.0934,\n",
       " 'COC(C)=O': 1.0332,\n",
       " 'COC(N)=N': -5.3956,\n",
       " 'COC(N)=O': -3.2718,\n",
       " 'CC(=C)C=C': 12.7428,\n",
       " 'CC(=C)C=O': 3.3866,\n",
       " 'CC(=C)C#N': 5.2234,\n",
       " 'CC(=O)C=C': 2.9274,\n",
       " 'CC(=O)C=O': -2.1812,\n",
       " 'CC(=O)C#N': -1.8368,\n",
       " 'NC(=N)C=C': -4.0754,\n",
       " 'NC(=N)C=O': -8.61,\n",
       " 'NC(=N)C#N': -6.1992,\n",
       " 'NC(=O)C=C': -3.731,\n",
       " 'NC(=O)C=O': -8.4378,\n",
       " 'NC(=O)C#N': -6.4862,\n",
       " 'OC(=O)C=C': 2.6404,\n",
       " 'OC(=O)C=O': -3.3866,\n",
       " 'OC(=O)C#N': -1.722,\n",
       " 'FC(=C)C=C': 11.0782,\n",
       " 'ClC(=C)C=C': 12.8576,\n",
       " 'FC(=C)C=O': 2.0664,\n",
       " 'ClC(=C)C=O': 4.879,\n",
       " 'FC(=C)C#N': 6.0844,\n",
       " 'ClC(=C)C#N': 5.9696,\n",
       " 'CC(=C)C#C': 7.1176,\n",
       " 'CC(=O)C#C': -0.4592,\n",
       " 'NC(=N)C#C': -4.7068,\n",
       " 'NC(=O)C#C': -4.9364,\n",
       " 'OC(=O)C#C': 0.1722,\n",
       " 'FC(=C)C#C': 6.2566,\n",
       " 'ClC(=C)C#C': 7.9212,\n",
       " 'CC=C(C)C': 15.498,\n",
       " 'CC(C)=CF': 9.5858,\n",
       " 'CC(C)=CCl': 12.8576,\n",
       " 'CC=C(C)F': 12.054,\n",
       " 'CC=C(C)Cl': 14.7518,\n",
       " 'CC(F)=CF': 8.4378,\n",
       " 'CC(F)=CCl': 9.8154,\n",
       " 'CC(Cl)=CF': 10.1598,\n",
       " 'CC(Cl)=CCl': 12.054,\n",
       " 'CC=C(F)F': 11.0208,\n",
       " 'CC=C(F)Cl': 12.628,\n",
       " 'CC=C(Cl)F': 12.628,\n",
       " 'CC=C(Cl)Cl': 15.0962,\n",
       " 'FC=C(F)F': 8.7822,\n",
       " 'FC=C(F)Cl': 9.758,\n",
       " 'FC=C(Cl)F': 9.758,\n",
       " 'FC=C(Cl)Cl': 12.054,\n",
       " 'ClC=C(F)F': 9.758,\n",
       " 'ClC=C(F)Cl': 11.9966,\n",
       " 'ClC=C(Cl)F': 11.9966,\n",
       " 'ClC=C(Cl)Cl': 14.063,\n",
       " 'CC(C)=NN': 1.8368,\n",
       " 'CC(C)=NO': 1.7794,\n",
       " 'CCC(C)(C)C': 21.4676,\n",
       " 'CC(C)(C)CN': 5.6252,\n",
       " 'CC(C)(C)CO': 6.601,\n",
       " 'CC(C)(C)CF': 12.915,\n",
       " 'CC(C)(C)CCl': 15.2684,\n",
       " 'CCC(C)(C)N': 6.4288,\n",
       " 'CC(C)(N)CN': -4.5346,\n",
       " 'CC(C)(N)CO': -2.583,\n",
       " 'CC(C)(N)CF': 1.6646,\n",
       " 'CC(C)(N)CCl': 3.5014,\n",
       " 'CCC(C)(C)O': 6.8306,\n",
       " 'CC(C)(O)CN': -2.9274,\n",
       " 'CC(C)(O)CO': -3.7884,\n",
       " 'CC(C)(O)CF': 2.1238,\n",
       " 'CC(C)(O)CCl': 5.6252,\n",
       " 'CCC(C)(C)F': 13.6612,\n",
       " 'CCC(C)(C)Cl': 16.933,\n",
       " 'CC(C)(F)CN': 1.2054,\n",
       " 'CC(C)(Cl)CN': 3.6162,\n",
       " 'CC(C)(F)CO': 1.435,\n",
       " 'CC(C)(Cl)CO': 6.027,\n",
       " 'CC(C)(F)CF': 8.61,\n",
       " 'CC(C)(F)CCl': 10.2172,\n",
       " 'CC(C)(Cl)CF': 11.8818,\n",
       " 'CC(C)(Cl)CCl': 14.924,\n",
       " 'CCC(C)(F)F': 10.3894,\n",
       " 'CCC(C)(F)Cl': 12.5132,\n",
       " 'CCC(C)(Cl)F': 12.5132,\n",
       " 'CCC(C)(Cl)Cl': 15.7276,\n",
       " 'CC(F)(F)CN': -0.7462,\n",
       " 'CC(F)(Cl)CN': 0.6314,\n",
       " 'CC(Cl)(F)CN': 0.6314,\n",
       " 'CC(Cl)(Cl)CN': 3.2144,\n",
       " 'CC(F)(F)CO': 1.0332,\n",
       " 'CC(F)(Cl)CO': 3.6736,\n",
       " 'CC(Cl)(F)CO': 3.6736,\n",
       " 'CC(Cl)(Cl)CO': 6.6584,\n",
       " 'CC(F)(F)CF': 6.8306,\n",
       " 'CC(F)(F)CCl': 8.897,\n",
       " 'CC(F)(Cl)CF': 9.184,\n",
       " 'CC(F)(Cl)CCl': 12.054,\n",
       " 'CC(Cl)(F)CF': 9.184,\n",
       " 'CC(Cl)(F)CCl': 12.054,\n",
       " 'CC(Cl)(Cl)CF': 11.48,\n",
       " 'CC(Cl)(Cl)CCl': 14.7518,\n",
       " 'CCC(F)(F)F': 10.332,\n",
       " 'CCC(F)(F)Cl': 11.8818,\n",
       " 'CCC(F)(Cl)F': 11.8818,\n",
       " 'CCC(F)(Cl)Cl': 13.776,\n",
       " 'CCC(Cl)(F)F': 11.8818,\n",
       " 'CCC(Cl)(F)Cl': 13.776,\n",
       " 'CCC(Cl)(Cl)F': 13.776,\n",
       " 'CCC(Cl)(Cl)Cl': 16.646,\n",
       " 'NCC(F)(F)F': 0.861,\n",
       " 'NCC(F)(F)Cl': 1.722,\n",
       " 'NCC(F)(Cl)F': 1.722,\n",
       " 'NCC(F)(Cl)Cl': 2.8126,\n",
       " 'NCC(Cl)(F)F': 1.722,\n",
       " 'NCC(Cl)(F)Cl': 2.8126,\n",
       " 'NCC(Cl)(Cl)F': 2.8126,\n",
       " 'NCC(Cl)(Cl)Cl': 5.166,\n",
       " 'OCC(F)(F)F': 3.5014,\n",
       " 'OCC(F)(F)Cl': 3.7884,\n",
       " 'OCC(F)(Cl)F': 3.7884,\n",
       " 'OCC(F)(Cl)Cl': 5.74,\n",
       " 'OCC(Cl)(F)F': 3.7884,\n",
       " 'OCC(Cl)(F)Cl': 5.74,\n",
       " 'OCC(Cl)(Cl)F': 5.74,\n",
       " 'OCC(Cl)(Cl)Cl': 7.0602,\n",
       " 'FCC(F)(F)F': 7.9786,\n",
       " 'FCC(F)(F)Cl': 9.3562,\n",
       " 'FCC(F)(Cl)F': 9.3562,\n",
       " 'FCC(F)(Cl)Cl': 10.906,\n",
       " 'FCC(Cl)(F)F': 9.3562,\n",
       " 'FCC(Cl)(F)Cl': 10.906,\n",
       " 'FCC(Cl)(Cl)F': 10.906,\n",
       " 'FCC(Cl)(Cl)Cl': 12.2262,\n",
       " 'ClCC(F)(F)F': 10.4468,\n",
       " 'ClCC(F)(F)Cl': 11.9392,\n",
       " 'ClCC(F)(Cl)F': 11.9392,\n",
       " 'ClCC(F)(Cl)Cl': 14.063,\n",
       " 'ClCC(Cl)(F)F': 11.9392,\n",
       " 'ClCC(Cl)(F)Cl': 14.063,\n",
       " 'ClCC(Cl)(Cl)F': 14.063,\n",
       " 'ClCC(Cl)(Cl)Cl': 15.6702,\n",
       " 'CNC(C)(C)C': 5.9122,\n",
       " 'COC(C)(C)C': 8.7822,\n",
       " 'CC(C)(C)C=C': 18.4828,\n",
       " 'CC(C)(C)C=O': 6.9454,\n",
       " 'CC(C)(C)C#N': 6.6584,\n",
       " 'CC(C)(N)C=C': 5.9696,\n",
       " 'CC(C)(O)C=C': 6.888,\n",
       " 'CC(C)(O)C=O': -1.8368,\n",
       " 'CC(C)(O)C#N': -1.6646,\n",
       " 'CC(C)(F)C=C': 12.5706,\n",
       " 'CC(C)(Cl)C=C': 16.9904,\n",
       " 'CC(C)(F)C=O': 3.3292,\n",
       " 'CC(C)(Cl)C=O': 7.0602,\n",
       " 'CC(C)(F)C#N': 5.0512,\n",
       " 'CC(C)(Cl)C#N': 6.7158,\n",
       " 'CC(F)(F)C=C': 8.2082,\n",
       " 'CC(F)(Cl)C=C': 12.8002,\n",
       " 'CC(Cl)(F)C=C': 12.8002,\n",
       " 'CC(Cl)(Cl)C=C': 15.3258,\n",
       " 'CC(F)(F)C=O': 2.8126,\n",
       " 'CC(F)(Cl)C=O': 4.5346,\n",
       " 'CC(Cl)(F)C=O': 4.5346,\n",
       " 'CC(Cl)(Cl)C=O': 5.3382,\n",
       " 'CC(F)(F)C#N': 5.5104,\n",
       " 'CC(F)(Cl)C#N': 7.8638,\n",
       " 'CC(Cl)(F)C#N': 7.8638,\n",
       " 'CC(Cl)(Cl)C#N': 9.758,\n",
       " 'FC(F)(F)C=C': 9.6432,\n",
       " 'FC(F)(Cl)C=C': 10.9634,\n",
       " 'FC(Cl)(F)C=C': 10.9634,\n",
       " 'FC(Cl)(Cl)C=C': 14.2926,\n",
       " 'ClC(F)(F)C=C': 10.9634,\n",
       " 'ClC(F)(Cl)C=C': 14.2926,\n",
       " 'ClC(Cl)(F)C=C': 14.2926,\n",
       " 'ClC(Cl)(Cl)C=C': 15.8998,\n",
       " 'FC(F)(F)C=O': 5.8548,\n",
       " 'FC(F)(Cl)C=O': 6.7158,\n",
       " 'FC(Cl)(F)C=O': 6.7158,\n",
       " 'FC(Cl)(Cl)C=O': 5.8548,\n",
       " 'ClC(F)(F)C=O': 6.7158,\n",
       " 'ClC(F)(Cl)C=O': 5.8548,\n",
       " 'ClC(Cl)(F)C=O': 5.8548,\n",
       " 'ClC(Cl)(Cl)C=O': 7.9212,\n",
       " 'FC(F)(F)C#N': 8.897,\n",
       " 'FC(F)(Cl)C#N': 9.184,\n",
       " 'FC(Cl)(F)C#N': 9.184,\n",
       " 'FC(Cl)(Cl)C#N': 10.5042,\n",
       " 'ClC(F)(F)C#N': 9.184,\n",
       " 'ClC(F)(Cl)C#N': 10.5042,\n",
       " 'ClC(Cl)(F)C#N': 10.5042,\n",
       " 'ClC(Cl)(Cl)C#N': 10.332,\n",
       " 'CC(C)(C)C#C': 14.063,\n",
       " 'CC(C)(N)C#C': 3.2144,\n",
       " 'CC(C)(O)C#C': 0.4592,\n",
       " 'CC(C)(F)C#C': 8.897,\n",
       " 'CC(C)(Cl)C#C': 12.9724,\n",
       " 'CC(F)(F)C#C': 7.5768,\n",
       " 'CC(F)(Cl)C#C': 9.0692,\n",
       " 'CC(Cl)(F)C#C': 9.0692,\n",
       " 'CC(Cl)(Cl)C#C': 13.489,\n",
       " 'FC(F)(F)C#C': 7.2324,\n",
       " 'FC(F)(Cl)C#C': 9.3562,\n",
       " 'FC(Cl)(F)C#C': 9.3562,\n",
       " 'FC(Cl)(Cl)C#C': 11.5948,\n",
       " 'ClC(F)(F)C#C': 9.3562,\n",
       " 'ClC(F)(Cl)C#C': 11.5948,\n",
       " 'ClC(Cl)(F)C#C': 11.5948,\n",
       " 'ClC(Cl)(Cl)C#C': 14.2926,\n",
       " 'CC(C)C(C)C': 16.3016,\n",
       " 'CC(C)C(C)N': 4.7642,\n",
       " 'CC(C)C(C)O': 5.1086,\n",
       " 'CC(C)C(C)F': 12.1114,\n",
       " 'CC(C)C(C)Cl': 16.4738,\n",
       " 'CC(C)C(F)F': 9.471,\n",
       " 'CC(C)C(F)Cl': 11.7096,\n",
       " 'CC(C)C(Cl)F': 11.7096,\n",
       " 'CC(C)C(Cl)Cl': 15.5554,\n",
       " 'CC(N)C(C)N': -5.0512,\n",
       " 'CC(N)C(C)O': -3.444,\n",
       " 'CC(N)C(C)F': 0.6314,\n",
       " 'CC(N)C(C)Cl': 3.2144,\n",
       " 'CC(N)C(F)F': 1.2628,\n",
       " 'CC(N)C(F)Cl': 1.3202,\n",
       " 'CC(N)C(Cl)F': 1.3202,\n",
       " 'CC(N)C(Cl)Cl': 2.6978,\n",
       " 'CC(O)C(C)O': -3.3866,\n",
       " 'CC(O)C(C)F': 2.1812,\n",
       " 'CC(O)C(C)Cl': 5.166,\n",
       " 'CC(O)C(F)F': 1.0332,\n",
       " 'CC(O)C(F)Cl': 1.6072,\n",
       " 'CC(O)C(Cl)F': 1.6072,\n",
       " 'CC(O)C(Cl)Cl': 5.166,\n",
       " 'CC(F)C(C)F': 8.1508,\n",
       " 'CC(F)C(C)Cl': 11.2504,\n",
       " 'CC(Cl)C(C)F': 11.2504,\n",
       " 'CC(Cl)C(C)Cl': 15.211,\n",
       " 'CC(F)C(F)F': 5.6252,\n",
       " 'CC(F)C(F)Cl': 8.323,\n",
       " 'CC(F)C(Cl)F': 8.323,\n",
       " 'CC(F)C(Cl)Cl': 11.767,\n",
       " 'CC(Cl)C(F)F': 8.61,\n",
       " 'CC(Cl)C(F)Cl': 12.2262,\n",
       " 'CC(Cl)C(Cl)F': 12.2262,\n",
       " 'CC(Cl)C(Cl)Cl': 14.637,\n",
       " 'FC(F)C(F)F': 7.175,\n",
       " 'FC(F)C(F)Cl': 7.175,\n",
       " 'FC(F)C(Cl)F': 7.175,\n",
       " 'FC(F)C(Cl)Cl': 9.8154,\n",
       " 'FC(Cl)C(F)F': 7.175,\n",
       " 'FC(Cl)C(F)Cl': 9.6432,\n",
       " 'FC(Cl)C(Cl)F': 9.6432,\n",
       " 'FC(Cl)C(Cl)Cl': 11.767,\n",
       " 'ClC(F)C(F)F': 7.175,\n",
       " 'ClC(F)C(F)Cl': 9.6432,\n",
       " 'ClC(F)C(Cl)F': 9.6432,\n",
       " 'ClC(F)C(Cl)Cl': 11.767,\n",
       " 'ClC(Cl)C(F)F': 9.8154,\n",
       " 'ClC(Cl)C(F)Cl': 11.767,\n",
       " 'ClC(Cl)C(Cl)F': 11.767,\n",
       " 'ClC(Cl)C(Cl)Cl': 14.7518,\n",
       " 'CC(C)N(C)C': 4.1902,\n",
       " 'CC(C)C(C)=C': 18.3106,\n",
       " 'CC(C)C(C)=O': 4.4772,\n",
       " 'CC(C)C(N)=N': -0.1148,\n",
       " 'CC(C)C(N)=O': -2.3534,\n",
       " 'CC(C)C(O)=O': 4.4772,\n",
       " 'CC(C)C(F)=C': 13.3742,\n",
       " 'CC(C)C(Cl)=C': 16.5312,\n",
       " 'CC(N)C(C)=C': 4.305,\n",
       " 'CC(N)C(N)=N': -9.0118,\n",
       " 'CC(N)C(N)=O': -10.7338,\n",
       " 'CC(N)C(O)=O': -17.507,\n",
       " 'CC(N)C(F)=C': 2.0664,\n",
       " 'CC(N)C(Cl)=C': 3.5588,\n",
       " 'CC(O)C(C)=C': 5.5104,\n",
       " 'CC(O)C(C)=O': -3.7884,\n",
       " 'CC(O)C(N)=N': -8.7822,\n",
       " 'CC(O)C(N)=O': -7.6342,\n",
       " 'CC(O)C(O)=O': -4.5346,\n",
       " 'CC(O)C(F)=C': 3.5588,\n",
       " 'CC(O)C(Cl)=C': 6.0844,\n",
       " 'CC(F)C(C)=C': 12.1114,\n",
       " 'CC(Cl)C(C)=C': 15.7276,\n",
       " 'CC(F)C(C)=O': 3.0996,\n",
       " 'CC(Cl)C(C)=O': 4.7068,\n",
       " 'CC(F)C(N)=N': -1.8942,\n",
       " 'CC(Cl)C(N)=N': 0.1722,\n",
       " 'CC(F)C(N)=O': -3.7884,\n",
       " 'CC(Cl)C(N)=O': -1.0906,\n",
       " 'CC(F)C(O)=O': -0.7462,\n",
       " 'CC(Cl)C(O)=O': 4.592,\n",
       " 'CC(F)C(F)=C': 9.471,\n",
       " 'CC(F)C(Cl)=C': 12.1114,\n",
       " 'CC(Cl)C(F)=C': 11.5374,\n",
       " 'CC(Cl)C(Cl)=C': 15.5554,\n",
       " 'CC(=C)C(F)F': 8.4378,\n",
       " 'CC(=C)C(F)Cl': 10.3894,\n",
       " 'CC(=C)C(Cl)F': 10.3894,\n",
       " 'CC(=C)C(Cl)Cl': 14.5222,\n",
       " 'CC(=O)C(F)F': 2.5256,\n",
       " 'CC(=O)C(F)Cl': 4.4772,\n",
       " 'CC(=O)C(Cl)F': 4.4772,\n",
       " 'CC(=O)C(Cl)Cl': 5.6252,\n",
       " 'NC(=N)C(F)F': -1.0332,\n",
       " 'NC(=N)C(F)Cl': -0.0574,\n",
       " 'NC(=N)C(Cl)F': -0.0574,\n",
       " 'NC(=N)C(Cl)Cl': 0.8036,\n",
       " 'NC(=O)C(F)F': -1.2628,\n",
       " 'NC(=O)C(F)Cl': -1.0332,\n",
       " 'NC(=O)C(Cl)F': -1.0332,\n",
       " 'NC(=O)C(Cl)Cl': -0.3444,\n",
       " 'OC(=O)C(F)F': 1.5498,\n",
       " 'OC(=O)C(F)Cl': 3.6736,\n",
       " 'OC(=O)C(Cl)F': 3.6736,\n",
       " 'OC(=O)C(Cl)Cl': 5.6826,\n",
       " 'FC(F)C(F)=C': 10.332,\n",
       " 'FC(F)C(Cl)=C': 9.8154,\n",
       " 'FC(Cl)C(F)=C': 10.045,\n",
       " 'FC(Cl)C(Cl)=C': 12.5132,\n",
       " 'ClC(F)C(F)=C': 10.045,\n",
       " 'ClC(F)C(Cl)=C': 12.5132,\n",
       " 'ClC(Cl)C(F)=C': 12.1688,\n",
       " 'ClC(Cl)C(Cl)=C': 15.498,\n",
       " 'CN(C)C(C)=N': -0.287,\n",
       " 'CN(C)C(C)=O': -3.3866,\n",
       " 'CN(C)C(N)=N': -6.5436,\n",
       " 'CN(C)C(N)=O': -6.2566,\n",
       " 'CN(N)C(C)=N': -4.4198,\n",
       " 'CN(N)C(C)=O': -6.9454,\n",
       " 'CN(N)C(N)=N': -8.0934,\n",
       " 'CN(N)C(N)=O': -9.2414,\n",
       " 'CN(O)C(C)=N': -3.7884,\n",
       " 'CN(O)C(C)=O': -6.027,\n",
       " 'CN(O)C(N)=N': -7.175,\n",
       " 'CN(O)C(N)=O': -7.5768,\n",
       " 'CC(=C)C(C)=C': 15.785,\n",
       " 'CC(=C)C(C)=O': 4.0754,\n",
       " 'CC(=C)C(N)=N': -1.148,\n",
       " 'CC(=C)C(N)=O': -2.4682,\n",
       " 'CC(=C)C(O)=O': 3.6162,\n",
       " 'CC(=C)C(F)=C': 13.202,\n",
       " 'CC(=C)C(Cl)=C': 16.0146,\n",
       " 'CC(=O)C(C)=O': 0.4018,\n",
       " 'CC(=O)C(N)=N': -6.1418,\n",
       " 'CC(=O)C(N)=O': -6.4862,\n",
       " 'CC(=O)C(O)=O': -2.1812,\n",
       " 'CC(=O)C(F)=C': 2.2386,\n",
       " 'CC(=O)C(Cl)=C': 6.5436,\n",
       " 'NC(=N)C(N)=N': -10.4468,\n",
       " 'NC(=N)C(N)=O': -10.7912,\n",
       " 'NC(=N)C(O)=O': -8.7822,\n",
       " 'NC(=N)C(F)=C': -1.9516,\n",
       " 'NC(=N)C(Cl)=C': -0.6888,\n",
       " 'NC(=O)C(N)=O': -12.054,\n",
       " 'NC(=O)C(O)=O': -8.2656,\n",
       " 'NC(=O)C(F)=C': -1.435,\n",
       " 'NC(=O)C(Cl)=C': 0.7462,\n",
       " 'OC(=O)C(O)=O': -2.9274,\n",
       " 'OC(=O)C(F)=C': 3.731,\n",
       " 'OC(=O)C(Cl)=C': 6.314,\n",
       " 'FC(=C)C(F)=C': 10.6764,\n",
       " 'FC(=C)C(Cl)=C': 12.1114,\n",
       " 'ClC(=C)C(F)=C': 12.1114,\n",
       " 'ClC(=C)C(Cl)=C': 15.7276,\n",
       " 'CC(C)=C(C)C': 15.5554,\n",
       " 'CC(C)=C(C)F': 12.1688,\n",
       " 'CC(C)=C(C)Cl': 15.6128,\n",
       " 'CC(C)=C(F)F': 10.3894,\n",
       " 'CC(C)=C(F)Cl': 12.341,\n",
       " 'CC(C)=C(Cl)F': 12.341,\n",
       " 'CC(C)=C(Cl)Cl': 14.2352,\n",
       " 'CC(F)=C(C)F': 9.7006,\n",
       " 'CC(F)=C(C)Cl': 11.8244,\n",
       " 'CC(Cl)=C(C)F': 11.8244,\n",
       " 'CC(Cl)=C(C)Cl': 14.1778,\n",
       " 'CC(F)=C(F)F': 9.471,\n",
       " 'CC(F)=C(F)Cl': 11.3652,\n",
       " 'CC(F)=C(Cl)F': 11.3652,\n",
       " 'CC(F)=C(Cl)Cl': 13.2594,\n",
       " 'CC(Cl)=C(F)F': 11.9392,\n",
       " 'CC(Cl)=C(F)Cl': 13.0872,\n",
       " 'CC(Cl)=C(Cl)F': 13.0872,\n",
       " 'CC(Cl)=C(Cl)Cl': 16.0146,\n",
       " 'FC(F)=C(F)F': 7.749,\n",
       " 'FC(F)=C(F)Cl': 10.5616,\n",
       " 'FC(F)=C(Cl)F': 10.5616,\n",
       " 'FC(F)=C(Cl)Cl': 13.1446,\n",
       " 'FC(Cl)=C(F)F': 10.5616,\n",
       " 'FC(Cl)=C(F)Cl': 12.915,\n",
       " 'FC(Cl)=C(Cl)F': 12.915,\n",
       " 'FC(Cl)=C(Cl)Cl': 15.3258,\n",
       " 'ClC(F)=C(F)F': 10.5616,\n",
       " 'ClC(F)=C(F)Cl': 12.915,\n",
       " 'ClC(F)=C(Cl)F': 12.915,\n",
       " 'ClC(F)=C(Cl)Cl': 15.3258,\n",
       " 'ClC(Cl)=C(F)F': 13.1446,\n",
       " 'ClC(Cl)=C(F)Cl': 15.3258,\n",
       " 'ClC(Cl)=C(Cl)F': 15.3258,\n",
       " 'ClC(Cl)=C(Cl)Cl': 17.9662,\n",
       " 'CC(C)C(C)(C)C': 23.0174,\n",
       " 'CC(N)C(C)(C)C': 7.9786,\n",
       " 'CC(O)C(C)(C)C': 10.045,\n",
       " 'CC(F)C(C)(C)C': 16.3016,\n",
       " 'CC(Cl)C(C)(C)C': 19.7456,\n",
       " 'CC(C)(C)C(F)F': 13.6038,\n",
       " 'CC(C)(C)C(F)Cl': 16.0146,\n",
       " 'CC(C)(C)C(Cl)F': 16.0146,\n",
       " 'CC(C)(C)C(Cl)Cl': 17.9662,\n",
       " 'CC(C)C(C)(C)N': 7.8638,\n",
       " 'CC(N)C(C)(C)N': -1.722,\n",
       " 'CC(O)C(C)(C)N': -0.6314,\n",
       " 'CC(F)C(C)(C)N': 4.0754,\n",
       " 'CC(Cl)C(C)(C)N': 7.4046,\n",
       " 'CC(C)(N)C(F)F': 4.1328,\n",
       " 'CC(C)(N)C(F)Cl': 3.3866,\n",
       " 'CC(C)(N)C(Cl)F': 3.3866,\n",
       " 'CC(C)(N)C(Cl)Cl': 7.175,\n",
       " 'CC(C)C(C)(C)O': 9.1266,\n",
       " 'CC(N)C(C)(C)O': -0.6314,\n",
       " 'CC(O)C(C)(C)O': -0.6888,\n",
       " 'CC(F)C(C)(C)O': 5.2808,\n",
       " 'CC(Cl)C(C)(C)O': 8.8396,\n",
       " 'CC(C)(O)C(F)F': 4.3624,\n",
       " 'CC(C)(O)C(F)Cl': 7.2898,\n",
       " 'CC(C)(O)C(Cl)F': 7.2898,\n",
       " 'CC(C)(O)C(Cl)Cl': 9.0692,\n",
       " 'CC(C)C(C)(C)F': 14.8092,\n",
       " 'CC(C)C(C)(C)Cl': 19.5734,\n",
       " 'CC(N)C(C)(C)F': 4.0754,\n",
       " 'CC(N)C(C)(C)Cl': 7.749,\n",
       " 'CC(O)C(C)(C)F': 5.5104,\n",
       " 'CC(O)C(C)(C)Cl': 9.184,\n",
       " 'CC(F)C(C)(C)F': 11.8818,\n",
       " 'CC(F)C(C)(C)Cl': 14.5796,\n",
       " 'CC(Cl)C(C)(C)F': 14.5796,\n",
       " 'CC(Cl)C(C)(C)Cl': 18.081,\n",
       " 'CC(C)(F)C(F)F': 10.2172,\n",
       " 'CC(C)(F)C(F)Cl': 11.8818,\n",
       " 'CC(C)(F)C(Cl)F': 11.8818,\n",
       " 'CC(C)(F)C(Cl)Cl': 14.5796,\n",
       " 'CC(C)(Cl)C(F)F': 12.8576,\n",
       " 'CC(C)(Cl)C(F)Cl': 14.35,\n",
       " 'CC(C)(Cl)C(Cl)F': 14.35,\n",
       " 'CC(C)(Cl)C(Cl)Cl': 18.4254,\n",
       " 'CC(C)C(C)(F)F': 12.4558,\n",
       " 'CC(C)C(C)(F)Cl': 14.4648,\n",
       " 'CC(C)C(C)(Cl)F': 14.4648,\n",
       " 'CC(C)C(C)(Cl)Cl': 17.8514,\n",
       " 'CC(N)C(C)(F)F': 4.018,\n",
       " 'CC(N)C(C)(F)Cl': 4.8216,\n",
       " 'CC(N)C(C)(Cl)F': 4.8216,\n",
       " 'CC(N)C(C)(Cl)Cl': 7.3472,\n",
       " 'CC(O)C(C)(F)F': 3.3292,\n",
       " 'CC(O)C(C)(F)Cl': 7.1176,\n",
       " 'CC(O)C(C)(Cl)F': 7.1176,\n",
       " 'CC(O)C(C)(Cl)Cl': 9.2988,\n",
       " 'CC(F)C(C)(F)F': 9.8154,\n",
       " 'CC(F)C(C)(F)Cl': 11.9392,\n",
       " 'CC(F)C(C)(Cl)F': 11.9392,\n",
       " 'CC(F)C(C)(Cl)Cl': 15.1536,\n",
       " 'CC(Cl)C(C)(F)F': 12.341,\n",
       " 'CC(Cl)C(C)(F)Cl': 15.0388,\n",
       " 'CC(Cl)C(C)(Cl)F': 15.0388,\n",
       " 'CC(Cl)C(C)(Cl)Cl': 18.7124,\n",
       " 'CC(F)(F)C(F)F': 9.9302,\n",
       " 'CC(F)(F)C(F)Cl': 11.0782,\n",
       " 'CC(F)(F)C(Cl)F': 11.0782,\n",
       " 'CC(F)(F)C(Cl)Cl': 13.0872,\n",
       " 'CC(F)(Cl)C(F)F': 11.5374,\n",
       " 'CC(F)(Cl)C(F)Cl': 13.202,\n",
       " 'CC(F)(Cl)C(Cl)F': 13.202,\n",
       " 'CC(F)(Cl)C(Cl)Cl': 15.0388,\n",
       " 'CC(Cl)(F)C(F)F': 11.5374,\n",
       " 'CC(Cl)(F)C(F)Cl': 13.202,\n",
       " 'CC(Cl)(F)C(Cl)F': 13.202,\n",
       " 'CC(Cl)(F)C(Cl)Cl': 15.0388,\n",
       " 'CC(Cl)(Cl)C(F)F': 13.776,\n",
       " 'CC(Cl)(Cl)C(F)Cl': 15.6702,\n",
       " 'CC(Cl)(Cl)C(Cl)F': 15.6702,\n",
       " 'CC(Cl)(Cl)C(Cl)Cl': 17.8514,\n",
       " 'CC(C)C(F)(F)F': 12.2836,\n",
       " 'CC(C)C(F)(F)Cl': 13.7186,\n",
       " 'CC(C)C(F)(Cl)F': 13.7186,\n",
       " 'CC(C)C(F)(Cl)Cl': 16.1294,\n",
       " 'CC(C)C(Cl)(F)F': 13.7186,\n",
       " 'CC(C)C(Cl)(F)Cl': 16.1294,\n",
       " 'CC(C)C(Cl)(Cl)F': 16.1294,\n",
       " 'CC(C)C(Cl)(Cl)Cl': 19.4586,\n",
       " 'CC(N)C(F)(F)F': 5.9122,\n",
       " 'CC(N)C(F)(F)Cl': 6.4288,\n",
       " 'CC(N)C(F)(Cl)F': 6.4288,\n",
       " 'CC(N)C(F)(Cl)Cl': 7.1176,\n",
       " 'CC(N)C(Cl)(F)F': 6.4288,\n",
       " 'CC(N)C(Cl)(F)Cl': 7.1176,\n",
       " 'CC(N)C(Cl)(Cl)F': 7.1176,\n",
       " 'CC(N)C(Cl)(Cl)Cl': 8.0934,\n",
       " 'CC(O)C(F)(F)F': 6.2566,\n",
       " 'CC(O)C(F)(F)Cl': 5.6826,\n",
       " 'CC(O)C(F)(Cl)F': 5.6826,\n",
       " 'CC(O)C(F)(Cl)Cl': 8.4378,\n",
       " 'CC(O)C(Cl)(F)F': 5.6826,\n",
       " 'CC(O)C(Cl)(F)Cl': 8.4378,\n",
       " 'CC(O)C(Cl)(Cl)F': 8.4378,\n",
       " 'CC(O)C(Cl)(Cl)Cl': 10.2746,\n",
       " 'CC(F)C(F)(F)F': 11.0208,\n",
       " 'CC(F)C(F)(F)Cl': 11.8244,\n",
       " 'CC(F)C(F)(Cl)F': 11.8244,\n",
       " 'CC(F)C(F)(Cl)Cl': 13.6038,\n",
       " 'CC(F)C(Cl)(F)F': 11.8244,\n",
       " 'CC(F)C(Cl)(F)Cl': 13.6038,\n",
       " 'CC(F)C(Cl)(Cl)F': 13.6038,\n",
       " 'CC(F)C(Cl)(Cl)Cl': 15.4406,\n",
       " 'CC(Cl)C(F)(F)F': 12.8002,\n",
       " 'CC(Cl)C(F)(F)Cl': 14.1204,\n",
       " 'CC(Cl)C(F)(Cl)F': 14.1204,\n",
       " 'CC(Cl)C(F)(Cl)Cl': 16.1294,\n",
       " 'CC(Cl)C(Cl)(F)F': 14.1204,\n",
       " 'CC(Cl)C(Cl)(F)Cl': 16.1294,\n",
       " 'CC(Cl)C(Cl)(Cl)F': 16.1294,\n",
       " 'CC(Cl)C(Cl)(Cl)Cl': 18.3106,\n",
       " 'FC(F)C(F)(F)F': 12.915,\n",
       " 'FC(F)C(F)(F)Cl': 13.0298,\n",
       " 'FC(F)C(F)(Cl)F': 13.0298,\n",
       " 'FC(F)C(F)(Cl)Cl': 13.776,\n",
       " 'FC(F)C(Cl)(F)F': 13.0298,\n",
       " 'FC(F)C(Cl)(F)Cl': 13.776,\n",
       " 'FC(F)C(Cl)(Cl)F': 13.776,\n",
       " 'FC(F)C(Cl)(Cl)Cl': 15.211,\n",
       " 'FC(Cl)C(F)(F)F': 13.3168,\n",
       " 'FC(Cl)C(F)(F)Cl': 13.7186,\n",
       " 'FC(Cl)C(F)(Cl)F': 13.7186,\n",
       " 'FC(Cl)C(F)(Cl)Cl': 15.0388,\n",
       " 'FC(Cl)C(Cl)(F)F': 13.7186,\n",
       " 'FC(Cl)C(Cl)(F)Cl': 15.0388,\n",
       " 'FC(Cl)C(Cl)(Cl)F': 15.0388,\n",
       " 'FC(Cl)C(Cl)(Cl)Cl': 16.8756,\n",
       " 'ClC(F)C(F)(F)F': 13.3168,\n",
       " 'ClC(F)C(F)(F)Cl': 13.7186,\n",
       " 'ClC(F)C(F)(Cl)F': 13.7186,\n",
       " 'ClC(F)C(F)(Cl)Cl': 15.0388,\n",
       " 'ClC(F)C(Cl)(F)F': 13.7186,\n",
       " 'ClC(F)C(Cl)(F)Cl': 15.0388,\n",
       " 'ClC(F)C(Cl)(Cl)F': 15.0388,\n",
       " 'ClC(F)C(Cl)(Cl)Cl': 16.8756,\n",
       " 'ClC(Cl)C(F)(F)F': 14.2926,\n",
       " 'ClC(Cl)C(F)(F)Cl': 15.4406,\n",
       " 'ClC(Cl)C(F)(Cl)F': 15.4406,\n",
       " 'ClC(Cl)C(F)(Cl)Cl': 16.8756,\n",
       " 'ClC(Cl)C(Cl)(F)F': 15.4406,\n",
       " 'ClC(Cl)C(Cl)(F)Cl': 16.8756,\n",
       " 'ClC(Cl)C(Cl)(Cl)F': 16.8756,\n",
       " 'ClC(Cl)C(Cl)(Cl)Cl': 18.4254,\n",
       " 'CN(C)C(C)(C)C': 10.4468,\n",
       " 'CC(=C)C(C)(C)C': 23.5914,\n",
       " 'CC(=O)C(C)(C)C': 9.1266,\n",
       " 'CC(C)(C)C(N)=N': 3.444,\n",
       " 'CC(C)(C)C(N)=O': 2.1238,\n",
       " 'CC(C)(C)C(O)=O': 7.8638,\n",
       " 'CC(C)(C)C(F)=C': 16.7034,\n",
       " 'CC(C)(C)C(Cl)=C': 19.9178,\n",
       " 'CC(=C)C(C)(C)N': 8.2082,\n",
       " 'CC(C)(N)C(N)=N': -6.4862,\n",
       " 'CC(C)(N)C(N)=O': -6.5436,\n",
       " 'CC(C)(N)C(O)=O': -14.063,\n",
       " 'CC(C)(N)C(F)=C': 3.5014,\n",
       " 'CC(C)(N)C(Cl)=C': 8.323,\n",
       " 'CC(=C)C(C)(C)O': 9.1266,\n",
       " 'CC(=O)C(C)(C)O': -0.5166,\n",
       " 'CC(C)(O)C(N)=N': -5.2234,\n",
       " 'CC(C)(O)C(N)=O': -5.74,\n",
       " 'CC(C)(O)C(O)=O': -2.1238,\n",
       " 'CC(C)(O)C(F)=C': 5.9122,\n",
       " 'CC(C)(O)C(Cl)=C': 9.6432,\n",
       " 'CC(=C)C(C)(C)F': 16.1294,\n",
       " 'CC(=C)C(C)(C)Cl': 19.9752,\n",
       " 'CC(=O)C(C)(C)F': 4.592,\n",
       " 'CC(=O)C(C)(C)Cl': 8.5526,\n",
       " 'CC(C)(F)C(N)=N': 0.6888,\n",
       " 'CC(C)(Cl)C(N)=N': 3.5588,\n",
       " 'CC(C)(F)C(N)=O': -0.1722,\n",
       " 'CC(C)(Cl)C(N)=O': 3.2718,\n",
       " 'CC(C)(F)C(O)=O': 4.305,\n",
       " 'CC(C)(Cl)C(O)=O': 6.8306,\n",
       " 'CC(C)(F)C(F)=C': 10.2172,\n",
       " 'CC(C)(F)C(Cl)=C': 14.2352,\n",
       " 'CC(C)(Cl)C(F)=C': 15.211,\n",
       " 'CC(C)(Cl)C(Cl)=C': 18.7124,\n",
       " 'CC(=C)C(C)(F)F': 10.2172,\n",
       " 'CC(=C)C(C)(F)Cl': 14.924,\n",
       " 'CC(=C)C(C)(Cl)F': 14.924,\n",
       " 'CC(=C)C(C)(Cl)Cl': 18.0236,\n",
       " 'CC(=O)C(C)(F)F': 0.9758,\n",
       " 'CC(=O)C(C)(F)Cl': 4.6494,\n",
       " 'CC(=O)C(C)(Cl)F': 4.6494,\n",
       " 'CC(=O)C(C)(Cl)Cl': 7.0028,\n",
       " 'CC(F)(F)C(N)=N': 0.1722,\n",
       " 'CC(F)(Cl)C(N)=N': 2.583,\n",
       " 'CC(Cl)(F)C(N)=N': 2.583,\n",
       " 'CC(Cl)(Cl)C(N)=N': 3.8458,\n",
       " 'CC(F)(F)C(N)=O': -1.8942,\n",
       " 'CC(F)(Cl)C(N)=O': 1.0906,\n",
       " 'CC(Cl)(F)C(N)=O': 1.0906,\n",
       " 'CC(Cl)(Cl)C(N)=O': 4.1902,\n",
       " 'CC(F)(F)C(O)=O': 5.5678,\n",
       " 'CC(F)(Cl)C(O)=O': 5.166,\n",
       " 'CC(Cl)(F)C(O)=O': 5.166,\n",
       " 'CC(Cl)(Cl)C(O)=O': 6.7732,\n",
       " 'CC(F)(F)C(F)=C': 10.1024,\n",
       " 'CC(F)(F)C(Cl)=C': 12.8576,\n",
       " 'CC(F)(Cl)C(F)=C': 13.3168,\n",
       " 'CC(F)(Cl)C(Cl)=C': 15.9572,\n",
       " 'CC(Cl)(F)C(F)=C': 13.3168,\n",
       " 'CC(Cl)(F)C(Cl)=C': 15.9572,\n",
       " 'CC(Cl)(Cl)C(F)=C': 16.5312,\n",
       " 'CC(Cl)(Cl)C(Cl)=C': 17.3348,\n",
       " 'CC(=C)C(F)(F)F': 11.9392,\n",
       " 'CC(=C)C(F)(F)Cl': 13.489,\n",
       " 'CC(=C)C(F)(Cl)F': 13.489,\n",
       " 'CC(=C)C(F)(Cl)Cl': 15.6702,\n",
       " 'CC(=C)C(Cl)(F)F': 13.489,\n",
       " 'CC(=C)C(Cl)(F)Cl': 15.6702,\n",
       " 'CC(=C)C(Cl)(Cl)F': 15.6702,\n",
       " 'CC(=C)C(Cl)(Cl)Cl': 16.933,\n",
       " 'CC(=O)C(F)(F)F': 5.166,\n",
       " 'CC(=O)C(F)(F)Cl': 4.305,\n",
       " 'CC(=O)C(F)(Cl)F': 4.305,\n",
       " 'CC(=O)C(F)(Cl)Cl': 6.4288,\n",
       " 'CC(=O)C(Cl)(F)F': 4.305,\n",
       " 'CC(=O)C(Cl)(F)Cl': 6.4288,\n",
       " 'CC(=O)C(Cl)(Cl)F': 6.4288,\n",
       " 'CC(=O)C(Cl)(Cl)Cl': 7.8064,\n",
       " 'NC(=N)C(F)(F)F': 1.722,\n",
       " 'NC(=N)C(F)(F)Cl': 1.7794,\n",
       " 'NC(=N)C(F)(Cl)F': 1.7794,\n",
       " 'NC(=N)C(F)(Cl)Cl': 2.2386,\n",
       " 'NC(=N)C(Cl)(F)F': 1.7794,\n",
       " 'NC(=N)C(Cl)(F)Cl': 2.2386,\n",
       " 'NC(=N)C(Cl)(Cl)F': 2.2386,\n",
       " 'NC(=N)C(Cl)(Cl)Cl': 4.3624,\n",
       " 'NC(=O)C(F)(F)F': 0.4592,\n",
       " 'NC(=O)C(F)(F)Cl': 1.5498,\n",
       " 'NC(=O)C(F)(Cl)F': 1.5498,\n",
       " 'NC(=O)C(F)(Cl)Cl': 4.5346,\n",
       " 'NC(=O)C(Cl)(F)F': 1.5498,\n",
       " 'NC(=O)C(Cl)(F)Cl': 4.5346,\n",
       " 'NC(=O)C(Cl)(Cl)F': 4.5346,\n",
       " 'NC(=O)C(Cl)(Cl)Cl': 5.6252,\n",
       " 'OC(=O)C(F)(F)F': 7.749,\n",
       " 'OC(=O)C(F)(F)Cl': 9.0692,\n",
       " 'OC(=O)C(F)(Cl)F': 9.0692,\n",
       " 'OC(=O)C(F)(Cl)Cl': 6.4862,\n",
       " 'OC(=O)C(Cl)(F)F': 9.0692,\n",
       " 'OC(=O)C(Cl)(F)Cl': 6.4862,\n",
       " 'OC(=O)C(Cl)(Cl)F': 6.4862,\n",
       " 'OC(=O)C(Cl)(Cl)Cl': 6.7158,\n",
       " 'FC(=C)C(F)(F)F': 11.193,\n",
       " 'FC(=C)C(F)(F)Cl': 12.2262,\n",
       " 'FC(=C)C(F)(Cl)F': 12.2262,\n",
       " 'FC(=C)C(F)(Cl)Cl': 15.211,\n",
       " 'FC(=C)C(Cl)(F)F': 12.2262,\n",
       " 'FC(=C)C(Cl)(F)Cl': 15.211,\n",
       " 'FC(=C)C(Cl)(Cl)F': 15.211,\n",
       " 'FC(=C)C(Cl)(Cl)Cl': 17.5644,\n",
       " 'ClC(=C)C(F)(F)F': 12.7428,\n",
       " 'ClC(=C)C(F)(F)Cl': 15.498,\n",
       " 'ClC(=C)C(F)(Cl)F': 15.498,\n",
       " 'ClC(=C)C(F)(Cl)Cl': 17.9088,\n",
       " 'ClC(=C)C(Cl)(F)F': 15.498,\n",
       " 'ClC(=C)C(Cl)(F)Cl': 17.9088,\n",
       " 'ClC(=C)C(Cl)(Cl)F': 17.9088,\n",
       " 'ClC(=C)C(Cl)(Cl)Cl': 19.0568,\n",
       " 'CC(C)(C)C(C)(C)C': 25.8874,\n",
       " 'CC(C)(C)C(C)(C)N': 12.1688,\n",
       " 'CC(C)(C)C(C)(C)O': 12.341,\n",
       " 'CC(C)(C)C(C)(C)F': 18.5402,\n",
       " 'CC(C)(C)C(C)(C)Cl': 23.821,\n",
       " 'CC(C)(C)C(C)(F)F': 16.1294,\n",
       " 'CC(C)(C)C(C)(F)Cl': 19.4586,\n",
       " 'CC(C)(C)C(C)(Cl)F': 19.4586,\n",
       " 'CC(C)(C)C(C)(Cl)Cl': 21.9842,\n",
       " 'CC(C)(C)C(F)(F)F': 13.2594,\n",
       " 'CC(C)(C)C(F)(F)Cl': 16.5886,\n",
       " 'CC(C)(C)C(F)(Cl)F': 16.5886,\n",
       " 'CC(C)(C)C(F)(Cl)Cl': 20.8362,\n",
       " 'CC(C)(C)C(Cl)(F)F': 16.5886,\n",
       " 'CC(C)(C)C(Cl)(F)Cl': 20.8362,\n",
       " 'CC(C)(C)C(Cl)(Cl)F': 20.8362,\n",
       " 'CC(C)(C)C(Cl)(Cl)Cl': 22.386,\n",
       " 'CC(C)(N)C(C)(C)N': 1.9516,\n",
       " 'CC(C)(N)C(C)(C)O': 1.8942,\n",
       " 'CC(C)(N)C(C)(C)F': 6.888,\n",
       " 'CC(C)(N)C(C)(C)Cl': 10.9634,\n",
       " 'CC(C)(N)C(C)(F)F': 5.2808,\n",
       " 'CC(C)(N)C(C)(F)Cl': 5.8548,\n",
       " 'CC(C)(N)C(C)(Cl)F': 5.8548,\n",
       " 'CC(C)(N)C(C)(Cl)Cl': 12.341,\n",
       " 'CC(C)(N)C(F)(F)F': 5.3382,\n",
       " 'CC(C)(N)C(F)(F)Cl': 7.3472,\n",
       " 'CC(C)(N)C(F)(Cl)F': 7.3472,\n",
       " 'CC(C)(N)C(F)(Cl)Cl': 6.7732,\n",
       " 'CC(C)(N)C(Cl)(F)F': 7.3472,\n",
       " 'CC(C)(N)C(Cl)(F)Cl': 6.7732,\n",
       " 'CC(C)(N)C(Cl)(Cl)F': 6.7732,\n",
       " ...}"
      ]
     },
     "execution_count": 131,
     "metadata": {},
     "output_type": "execute_result"
    }
   ],
   "source": [
    "read_DG_data(DataPath)"
   ]
  },
  {
   "cell_type": "code",
   "execution_count": null,
   "metadata": {},
   "outputs": [],
   "source": [
    "def write_gro(mol_name,bead_types,coords0,gro_name):                                                                                                                                                       \n",
    "    #write gro file                                                                                                                                                                                        \n",
    "    conf = mol.GetConformer(0)                                                                                                                                                                             \n",
    "    with open(gro_name,'w') as gro:                                                                                                                                                                        \n",
    "        gro.write('single molecule of {}\\n'.format(mol_name))                                                                                                                                              \n",
    "        gro.write('{}\\n'.format(len(bead_types)))                                                                                                                                                          \n",
    "        i = 1                                                                                                                                                                                              \n",
    "        for bead,xyz in zip(bead_types,coords0):                                                                                                                                                           \n",
    "            gro.write('{:5d}{:5}{:>5}{:5d}{:8.3f}{:8.3f}{:8.3f}\\n'.format(1,mol_name,bead,i,xyz[0],xyz[1],xyz[2]))                                                                                         \n",
    "            i += 1                                                                                                                                                                                         \n",
    "        gro.write('5.0 5.0 5.0')         "
   ]
  }
 ],
 "metadata": {
  "kernelspec": {
   "display_name": "Python 3",
   "language": "python",
   "name": "python3"
  },
  "language_info": {
   "codemirror_mode": {
    "name": "ipython",
    "version": 3
   },
   "file_extension": ".py",
   "mimetype": "text/x-python",
   "name": "python",
   "nbconvert_exporter": "python",
   "pygments_lexer": "ipython3",
   "version": "3.8.8"
  }
 },
 "nbformat": 4,
 "nbformat_minor": 4
}
